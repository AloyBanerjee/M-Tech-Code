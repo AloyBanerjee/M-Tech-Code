{
 "cells": [
  {
   "cell_type": "markdown",
   "metadata": {
    "id": "eXAiBeebxQUl"
   },
   "source": [
    "### AI Lab (ID5003W) -  Assignment 1 - CH22M503"
   ]
  },
  {
   "cell_type": "markdown",
   "metadata": {
    "id": "GjgeIvZoxQUn"
   },
   "source": [
    "#### Author - Aloy Banerjee\n",
    "###### Roll No. CH22M503"
   ]
  },
  {
   "cell_type": "markdown",
   "metadata": {
    "id": "SOWG4wTW2ZFz"
   },
   "source": [
    "### Google colab link : - https://colab.research.google.com/drive/10YSYUANd1ftJqbHd-ExCW4kFINlGN1ML?usp=sharing"
   ]
  },
  {
   "cell_type": "markdown",
   "metadata": {
    "id": "f9aws0meaRBS"
   },
   "source": [
    "#### Submission Deadline: 31/05/2023  -  23:59"
   ]
  },
  {
   "cell_type": "markdown",
   "metadata": {
    "id": "j2OUn001UbEl"
   },
   "source": [
    "# Question: 01\n",
    "\n",
    "**MAP REDUCE - DATASET:** write map reduce program(s) using python-mr in colab notebook and complete the following exercises\n",
    "\n",
    "  - Find the files which contain the following phrases\n",
    "    - “draping the folds of her velvet dress”\n",
    "    - “grim clasp to the iron stanchions”\n",
    "    - “Lo, I teach you the Superman!”\n",
    "    - “Through that divine allegiance”\n",
    "  - Find the file which has maximum number of tokens\n",
    "  - Find the file which has the longest sentence (a sentence ends in a full stop and can span multiple lines)\n",
    "\n",
    "\n",
    "**Dataset:** \n",
    "\n",
    "  - [pg1513.txt](https://www.gutenberg.org/cache/epub/1513/pg1513.txt)<br>\n",
    "  - [2160-0.txt](https://www.gutenberg.org/files/2160/2160-0.txt)<br>\n",
    "  - [pg11.txt](https://www.gutenberg.org/cache/epub/11/pg11.txt)<br>\n",
    "  - [pg2600.txt](https://www.gutenberg.org/cache/epub/2600/pg2600.txt)<br>\n",
    "  - [345.txt.utf-8](https://www.gutenberg.org/ebooks/345.txt.utf-8)<br>\n",
    "  - [64317.txt.utf-8](https://www.gutenberg.org/ebooks/64317.txt.utf-8)<br>\n",
    "  - [70815.txt.utf-8](https://www.gutenberg.org/ebooks/70815.txt.utf-8)<br>\n",
    "  - [1080-0.txt](https://www.gutenberg.org/files/1080/1080-0.txt)<br>\n",
    "  - [70817.txt.utf-8](https://www.gutenberg.org/ebooks/70817.txt.utf-8)<br>\n",
    "  - [1998.txt.utf-8](https://www.gutenberg.org/ebooks/1998.txt.utf-8)<br>\n",
    "\n"
   ]
  },
  {
   "cell_type": "markdown",
   "metadata": {
    "id": "QtmETPwNvEmO"
   },
   "source": [
    "## Answer: 01"
   ]
  },
  {
   "cell_type": "markdown",
   "metadata": {
    "id": "TNSn_qXYsAgv"
   },
   "source": [
    "#### Supporting URL\n",
    "#### https://mrjob.readthedocs.io/en/latest/"
   ]
  },
  {
   "cell_type": "markdown",
   "metadata": {
    "id": "f4zmAJZysAgv"
   },
   "source": [
    "#### Importing common library "
   ]
  },
  {
   "cell_type": "code",
   "execution_count": null,
   "metadata": {
    "id": "fwM1w9gDsAgv"
   },
   "outputs": [],
   "source": [
    "import os\n",
    "import urllib.request"
   ]
  },
  {
   "cell_type": "code",
   "execution_count": null,
   "metadata": {
    "id": "1VlJvoMBtlUa"
   },
   "outputs": [],
   "source": [
    "basePath = '/content/sample_data/'"
   ]
  },
  {
   "cell_type": "code",
   "execution_count": null,
   "metadata": {
    "colab": {
     "base_uri": "https://localhost:8080/"
    },
    "id": "M7uXmqPVn8DH",
    "outputId": "aec6843c-c183-4c1f-b812-9ff845ade145"
   },
   "outputs": [
    {
     "name": "stdout",
     "output_type": "stream",
     "text": [
      "mkdir: cannot create directory ‘Assignment 1’: File exists\n"
     ]
    }
   ],
   "source": [
    "os.chdir(basePath)\n",
    "!mkdir 'Assignment 1'"
   ]
  },
  {
   "cell_type": "code",
   "execution_count": null,
   "metadata": {
    "id": "DlaKhhevsAgw"
   },
   "outputs": [],
   "source": [
    "workingPath = '/content/sample_data/Assignment 1'#'C:/Users/Admin/Coding-M-Tech/AI Lab 2 - ID5003W/Assignment 1'"
   ]
  },
  {
   "cell_type": "code",
   "execution_count": null,
   "metadata": {
    "id": "68OcLN0-vEmO"
   },
   "outputs": [],
   "source": [
    "!pip install --quiet mrjob"
   ]
  },
  {
   "cell_type": "markdown",
   "metadata": {
    "id": "SbqDy9dOsAgw"
   },
   "source": [
    "#### Changing the working directory "
   ]
  },
  {
   "cell_type": "code",
   "execution_count": null,
   "metadata": {
    "id": "TMS5Yx_BwiuE"
   },
   "outputs": [],
   "source": [
    "os.chdir(workingPath)"
   ]
  },
  {
   "cell_type": "markdown",
   "metadata": {
    "id": "eD5rsVyRvEmQ"
   },
   "source": [
    "#### Common Variable"
   ]
  },
  {
   "cell_type": "code",
   "execution_count": null,
   "metadata": {
    "id": "TN6n09BovEmQ"
   },
   "outputs": [],
   "source": [
    "## All the downloadable url\n",
    "url_pg1513 = 'https://www.gutenberg.org/cache/epub/1513/pg1513.txt'\n",
    "url_2160 = 'https://www.gutenberg.org/files/2160/2160-0.txt'\n",
    "url_pg11 = 'https://www.gutenberg.org/cache/epub/11/pg11.txt'\n",
    "url_pg2600 = 'https://www.gutenberg.org/cache/epub/2600/pg2600.txt'\n",
    "url_pg345 = 'https://www.gutenberg.org/cache/epub/345/pg345.txt'\n",
    "url_pg64317 = 'https://www.gutenberg.org/cache/epub/64317/pg64317.txt'\n",
    "url_pg70815 = 'https://www.gutenberg.org/cache/epub/70815/pg70815.txt'\n",
    "url_1080 = 'https://www.gutenberg.org/files/1080/1080-0.txt'\n",
    "url_pg70817 = 'https://www.gutenberg.org/cache/epub/70817/pg70817.txt'\n",
    "url_pg1998 = 'https://www.gutenberg.org/cache/epub/1998/pg1998.txt'"
   ]
  },
  {
   "cell_type": "markdown",
   "metadata": {
    "id": "XYTHCbyMvEmR"
   },
   "source": [
    "#### Map reduce Functionality "
   ]
  },
  {
   "cell_type": "markdown",
   "metadata": {
    "id": "iAD9uvtFAFcW"
   },
   "source": [
    "#### Phrase Searcher"
   ]
  },
  {
   "cell_type": "code",
   "execution_count": null,
   "metadata": {
    "colab": {
     "base_uri": "https://localhost:8080/"
    },
    "id": "i53ZaAhZvEmR",
    "outputId": "bfbff9eb-6e10-4c8e-e7d2-f1c489803821"
   },
   "outputs": [
    {
     "name": "stdout",
     "output_type": "stream",
     "text": [
      "Overwriting phrase_search.py\n"
     ]
    }
   ],
   "source": [
    "%%file phrase_search.py\n",
    "from mrjob.job import MRJob\n",
    "from mrjob.step import MRStep\n",
    "import os\n",
    "\n",
    "class FindPhrase(MRJob):\n",
    "     \n",
    "    def configure_args(self):\n",
    "        super(FindPhrase, self).configure_args()\n",
    "        self.add_passthru_arg('--phrase', type=str, help='Phrase to find in files')\n",
    "\n",
    "    def mapper_init(self):\n",
    "        self.phrase = self.options.phrase\n",
    "\n",
    "    def mapper(self, _, line):\n",
    "        filename = os.getenv('mapreduce_map_input_file')\n",
    "        file_name = filename.split('/')[-1]\n",
    "        if self.phrase in line:\n",
    "            yield (self.phrase,file_name), 1\n",
    "\n",
    "    def reducer(self, key, values): \n",
    "        yield key, f\"{sum(values)} occurance of : {key[0]} phrase, is present in : {key[1]} file\"\n",
    "\n",
    "if __name__ == '__main__':\n",
    "    FindPhrase.run()\n"
   ]
  },
  {
   "cell_type": "markdown",
   "metadata": {
    "id": "2qrQKqRbAbHG"
   },
   "source": [
    "#### Max Token Searcher"
   ]
  },
  {
   "cell_type": "code",
   "execution_count": null,
   "metadata": {
    "colab": {
     "base_uri": "https://localhost:8080/"
    },
    "id": "N-xQlaB_AheN",
    "outputId": "743f995c-84a8-46ed-920c-62841996fdbd"
   },
   "outputs": [
    {
     "name": "stdout",
     "output_type": "stream",
     "text": [
      "Overwriting max_token_search.py\n"
     ]
    }
   ],
   "source": [
    "%%file max_token_search.py\n",
    "from mrjob.job import MRJob\n",
    "from mrjob.step import MRStep\n",
    "import os\n",
    "\n",
    "class FindMaxToken(MRJob):\n",
    "     \n",
    "    def mapper(self, _, line):\n",
    "        filename = os.getenv('mapreduce_map_input_file')\n",
    "        tokens = line.strip().split()\n",
    "        file_name = filename.split('/')[-1]\n",
    "        yield file_name, len(tokens)\n",
    "\n",
    "    def reducer(self, key, values):\n",
    "        yield key, f\" file has token value of : {sum(values) }\"\n",
    "\n",
    "if __name__ == '__main__':\n",
    "    FindMaxToken.run()\n",
    "\n"
   ]
  },
  {
   "cell_type": "markdown",
   "metadata": {
    "id": "7eTWWWvnsAgz"
   },
   "source": [
    "#### Maximum Length Sentence"
   ]
  },
  {
   "cell_type": "code",
   "execution_count": null,
   "metadata": {
    "colab": {
     "base_uri": "https://localhost:8080/"
    },
    "id": "1SXnle4FGkdJ",
    "outputId": "23216c7f-58fc-4be9-a4b6-2654202f81d7"
   },
   "outputs": [
    {
     "name": "stdout",
     "output_type": "stream",
     "text": [
      "Overwriting max_length_search.py\n"
     ]
    }
   ],
   "source": [
    "%%file max_length_search.py\n",
    "import os\n",
    "from mrjob.job import MRJob\n",
    "from mrjob.step import MRStep\n",
    "\n",
    "class MaxSentenceLength(MRJob):\n",
    "\n",
    "    def mapper_init(self):\n",
    "        self.current_sentence = ''\n",
    "\n",
    "    def mapper(self, _, value):\n",
    "        file_name = os.getenv('mapreduce_map_input_file')\n",
    "        line = ' '.join(value.encode(\"ascii\", \"ignore\").decode().split())\n",
    "        if '.' in line:\n",
    "            dot_split = line.split('.')\n",
    "            current_sentence = '' + self.current_sentence\n",
    "            if len(dot_split) > 1:\n",
    "                self.current_sentence = '. '.join(dot_split[1:])\n",
    "            else:\n",
    "                self.current_sentence = ''\n",
    "            yield file_name, max((current_sentence + ' ' + dot_split[0]).split('. '))\n",
    "        else:\n",
    "            if line != '':\n",
    "                self.current_sentence += ' ' + line\n",
    "            else:\n",
    "                self.current_sentence += '. ' + line\n",
    "\n",
    "    def reducer(self, key, values):\n",
    "        sentence = max(list(values), key=len)\n",
    "        sentence_length = len(sentence)\n",
    "        yield key, f\"Maximum length of sentence is {sentence_length} from {key} file. Longest Sentence of {key} file is :{sentence}\"\n",
    "\n",
    "    def steps(self):\n",
    "        return [\n",
    "            MRStep(mapper_init=self.mapper_init, mapper=self.mapper, reducer=self.reducer)\n",
    "        ]\n",
    "\n",
    "if __name__ == '__main__':\n",
    "    MaxSentenceLength.run()\n",
    "\n"
   ]
  },
  {
   "cell_type": "markdown",
   "metadata": {
    "id": "9OpbXGP1vEmR"
   },
   "source": [
    "#### Creating a dataset folder"
   ]
  },
  {
   "cell_type": "code",
   "execution_count": null,
   "metadata": {
    "colab": {
     "base_uri": "https://localhost:8080/"
    },
    "id": "bYCqLlnbvEmS",
    "outputId": "7c809a4b-7f00-48f3-8b7e-fa8827a61509"
   },
   "outputs": [
    {
     "name": "stdout",
     "output_type": "stream",
     "text": [
      "mkdir: cannot create directory ‘Q1-Dataset’: File exists\n"
     ]
    }
   ],
   "source": [
    "!mkdir Q1-Dataset"
   ]
  },
  {
   "cell_type": "markdown",
   "metadata": {
    "id": "m7WYcHHsvEmS"
   },
   "source": [
    "#### Downloading the file"
   ]
  },
  {
   "cell_type": "code",
   "execution_count": null,
   "metadata": {
    "colab": {
     "base_uri": "https://localhost:8080/"
    },
    "id": "yskRVmIbvEmS",
    "outputId": "7bbede6a-5836-46c6-c10b-a5037a53578a"
   },
   "outputs": [
    {
     "data": {
      "text/plain": [
       "('Q1-Dataset/pg1998.txt', <http.client.HTTPMessage at 0x7fa08fa7dff0>)"
      ]
     },
     "execution_count": 112,
     "metadata": {},
     "output_type": "execute_result"
    }
   ],
   "source": [
    "urllib.request.urlretrieve(url_pg1513,'Q1-Dataset/pg1513.txt')\n",
    "urllib.request.urlretrieve(url_2160,'Q1-Dataset/2160-0.txt')\n",
    "urllib.request.urlretrieve(url_pg11,'Q1-Dataset/pg11.txt')\n",
    "urllib.request.urlretrieve(url_pg2600,'Q1-Dataset/pg2600.txt')\n",
    "urllib.request.urlretrieve(url_pg345,'Q1-Dataset/pg345.txt')\n",
    "urllib.request.urlretrieve(url_pg64317,'Q1-Dataset/pg64317.txt')\n",
    "urllib.request.urlretrieve(url_pg70815,'Q1-Dataset/pg70815.txt')\n",
    "urllib.request.urlretrieve(url_1080,'Q1-Dataset/1080-0.txt')\n",
    "urllib.request.urlretrieve(url_pg70817,'Q1-Dataset/pg70817.txt')\n",
    "urllib.request.urlretrieve(url_pg1998,'Q1-Dataset/pg1998.txt')"
   ]
  },
  {
   "cell_type": "markdown",
   "metadata": {
    "id": "T-ZNv-cmvEmS"
   },
   "source": [
    "##### 1a. Running Phrase Finder method"
   ]
  },
  {
   "cell_type": "code",
   "execution_count": null,
   "metadata": {
    "colab": {
     "base_uri": "https://localhost:8080/"
    },
    "id": "B_-PPi_gvEmS",
    "outputId": "e9fac52e-be18-4a97-f168-5b78488c69cb"
   },
   "outputs": [
    {
     "name": "stdout",
     "output_type": "stream",
     "text": [
      "No configs found; falling back on auto-configuration\n",
      "No configs specified for inline runner\n",
      "Creating temp directory /tmp/phrase_search.root.20230529.153432.913885\n",
      "Running step 1 of 1...\n",
      "job output is in /tmp/phrase_search.root.20230529.153432.913885/output\n",
      "Streaming final output from /tmp/phrase_search.root.20230529.153432.913885/output...\n",
      "[\"draping the folds of her velvet dress\", \"pg2600.txt\"]\t\"1 occurance of : draping the folds of her velvet dress phrase, is present in : pg2600.txt file\"\n",
      "Removing temp directory /tmp/phrase_search.root.20230529.153432.913885...\n",
      "No configs found; falling back on auto-configuration\n",
      "No configs specified for inline runner\n",
      "Creating temp directory /tmp/phrase_search.root.20230529.153433.619584\n",
      "Running step 1 of 1...\n",
      "job output is in /tmp/phrase_search.root.20230529.153433.619584/output\n",
      "Streaming final output from /tmp/phrase_search.root.20230529.153433.619584/output...\n",
      "[\"grim clasp to the iron stanchions\", \"pg345.txt\"]\t\"1 occurance of : grim clasp to the iron stanchions phrase, is present in : pg345.txt file\"\n",
      "Removing temp directory /tmp/phrase_search.root.20230529.153433.619584...\n",
      "No configs found; falling back on auto-configuration\n",
      "No configs specified for inline runner\n",
      "Creating temp directory /tmp/phrase_search.root.20230529.153434.225924\n",
      "Running step 1 of 1...\n",
      "job output is in /tmp/phrase_search.root.20230529.153434.225924/output\n",
      "Streaming final output from /tmp/phrase_search.root.20230529.153434.225924/output...\n",
      "[\"Lo, I teach you the Superman!\", \"pg1998.txt\"]\t\"1 occurance of : Lo, I teach you the Superman! phrase, is present in : pg1998.txt file\"\n",
      "Removing temp directory /tmp/phrase_search.root.20230529.153434.225924...\n",
      "No configs found; falling back on auto-configuration\n",
      "No configs specified for inline runner\n",
      "Creating temp directory /tmp/phrase_search.root.20230529.153434.828065\n",
      "Running step 1 of 1...\n",
      "job output is in /tmp/phrase_search.root.20230529.153434.828065/output\n",
      "Streaming final output from /tmp/phrase_search.root.20230529.153434.828065/output...\n",
      "Removing temp directory /tmp/phrase_search.root.20230529.153434.828065...\n"
     ]
    }
   ],
   "source": [
    "!python phrase_search.py --phrase=\"draping the folds of her velvet dress\" \"Q1-Dataset/\"\n",
    "\n",
    "!python phrase_search.py --phrase=\"grim clasp to the iron stanchions\" \"Q1-Dataset/\"\n",
    "\n",
    "!python phrase_search.py --phrase=\"Lo, I teach you the Superman!\" \"Q1-Dataset/\"\n",
    "\n",
    "!python phrase_search.py --phrase=\"Through that divine allegiance\" \"Q1-Dataset/\""
   ]
  },
  {
   "cell_type": "markdown",
   "metadata": {
    "id": "NzQMA0o0sAg0"
   },
   "source": [
    "### Conclusion 1a .\n",
    "#### ***\"draping the folds of her velvet dress\"*** phrase is available in **pg2600.txt** file\n",
    "#### ***\"grim clasp to the iron stanchions\"***   phrase is available in **pg345.txt** file\n",
    "#### ***\"Lo, I teach you the Superman!\"***  phrase is available in **1998.txt** file"
   ]
  },
  {
   "cell_type": "markdown",
   "metadata": {
    "id": "t1fbAyu7vEmS",
    "outputId": "4825daee-7079-41cd-a441-22de0eedec72"
   },
   "source": [
    "##### 1b. Running Max Token Finder method"
   ]
  },
  {
   "cell_type": "code",
   "execution_count": null,
   "metadata": {
    "colab": {
     "base_uri": "https://localhost:8080/"
    },
    "id": "YYDF22jqvEmT",
    "outputId": "04bafa8f-6778-4c72-dd80-21fd3a5b3357"
   },
   "outputs": [
    {
     "name": "stdout",
     "output_type": "stream",
     "text": [
      "No configs found; falling back on auto-configuration\n",
      "No configs specified for inline runner\n",
      "Creating temp directory /tmp/max_token_search.root.20230529.165516.543374\n",
      "Running step 1 of 1...\n",
      "job output is in /tmp/max_token_search.root.20230529.165516.543374/output\n",
      "Streaming final output from /tmp/max_token_search.root.20230529.165516.543374/output...\n",
      "\"1080-0.txt\"\t\" file has token value of : 6512\"\n",
      "\"2160-0.txt\"\t\" file has token value of : 151379\"\n",
      "\"pg11.txt\"\t\" file has token value of : 29590\"\n",
      "\"pg1513.txt\"\t\" file has token value of : 29002\"\n",
      "\"pg1998.txt\"\t\" file has token value of : 113997\"\n",
      "\"pg345.txt\"\t\" file has token value of : 164459\"\n",
      "\"pg64317.txt\"\t\" file has token value of : 51257\"\n",
      "\"pg70815.txt\"\t\" file has token value of : 82782\"\n",
      "\"pg70817.txt\"\t\" file has token value of : 28184\"\n",
      "\"pg2600.txt\"\t\" file has token value of : 566330\"\n",
      "Removing temp directory /tmp/max_token_search.root.20230529.165516.543374...\n"
     ]
    }
   ],
   "source": [
    "!python max_token_search.py \"Q1-Dataset/*\""
   ]
  },
  {
   "cell_type": "markdown",
   "metadata": {
    "id": "OOYf9bgpvEmT"
   },
   "source": [
    "### Conclusion 1b. \n",
    "#### **pg2600.txt** has maximum number of token i.e. **566330**"
   ]
  },
  {
   "cell_type": "markdown",
   "metadata": {
    "id": "0NtZA_efvEmT"
   },
   "source": [
    "##### 1c. Running Find Max Sentence Length method"
   ]
  },
  {
   "cell_type": "code",
   "execution_count": null,
   "metadata": {
    "colab": {
     "base_uri": "https://localhost:8080/"
    },
    "id": "CfW3-mMWvEmT",
    "outputId": "7c912d9a-65e5-4765-869a-82e45a8255e0"
   },
   "outputs": [
    {
     "name": "stdout",
     "output_type": "stream",
     "text": [
      "No configs found; falling back on auto-configuration\n",
      "No configs specified for inline runner\n",
      "Creating temp directory /tmp/max_length_search.root.20230529.170157.555981\n",
      "Running step 1 of 1...\n",
      "job output is in /tmp/max_length_search.root.20230529.170157.555981/output\n",
      "Streaming final output from /tmp/max_length_search.root.20230529.170157.555981/output...\n",
      "\"file://Q1-Dataset/1080-0.txt\"\t\"Maximum length of sentence is 1044 from file://Q1-Dataset/1080-0.txt file. Longest Sentence of file://Q1-Dataset/1080-0.txt file is : And secondly, There being a round million of creatures in humane figure throughout this kingdom, whose whole subsistence put into a common stock, would leave them in debt two million of pounds sterling, adding those who are beggars by profession, to the bulk of farmers, cottagers and labourers, with their wives and children, who are beggars in effect; I desire those politicians who dislike my overture, and may perhaps be so bold to attempt an answer, that they will first ask the parents of these mortals, whether they would not at this day think it a great happiness to have been sold for food at a year old, in the manner I prescribe, and thereby have avoided such a perpetual scene of misfortunes, as they have since gone through, by the oppression of landlords, the impossibility of paying rent without money or trade, the want of common sustenance, with neither house nor clothes to cover them from the inclemencies of the weather, and the most inevitable prospect of intailing the like, or greater miseries, upon their breed for ever\"\n",
      "\"file://Q1-Dataset/2160-0.txt\"\t\"Maximum length of sentence is 2078 from file://Q1-Dataset/2160-0.txt file. Longest Sentence of file://Q1-Dataset/2160-0.txt file is :--The words fiquidis perfusus odoribus, he translates van civet & moschata gestinken: that individuals differed toto coelo in their opinion of smells, which, indeed, was altogether as arbitrary as the opinion of beauty; that the French were pleased with the putrid effluvia of animal food; and so were the Hottentots in Africa, and the Savages in Greenland; and that the Negroes on the coast of Senegal would not touch fish till it was rotten; strong presumptions in favour of what is generally called stink, as those nations are in a state of nature, undebauched by luxury, unseduced by whim and caprice: that he had reason to believe the stercoraceous flavour, condemned by prejudice as a stink, was, in fact, most agreeable to the organs of smelling; for, that every person who pretended to nauseate the smell of anothers excretions, snuffed up his own with particular complacency; for the truth of which he appealed to all the ladies and gentlemen then present: he said, the inhabitants of Madrid and Edinburgh found particular satisfaction in breathing their own atmosphere, which was always impregnated with stercoraceous effluvia: that the learned Dr B--, in his treatise on the Four Digestions, explains in what manner the volatile effluvia from the intestines stimulate and promote the operations of the animal economy: he affirmed, the last Grand Duke of Tuscany, of the Medicis family, who refined upon sensuality with the spirit of a philosopher, was so delighted with that odour, that he caused the essence of ordure to be extracted, and used it as the most delicious perfume: that he himself (the doctor) when he happened to be low-spirited, or fatigued with business, found immediate relief and uncommon satisfaction from hanging over the stale contents of a close-stool, while his servant stirred it about under his nose; nor was this effect to be wondered at, when we consider that this substance abounds with the self-same volatile salts that are so greedily smelled to by the most delicate invalids, after they have been extracted and sublimed by the chemists\"\n",
      "\"file://Q1-Dataset/pg11.txt\"\t\"Maximum length of sentence is 919 from file://Q1-Dataset/pg11.txt file. Longest Sentence of file://Q1-Dataset/pg11.txt file is : Hardly knowing what she did, she picked up a little bit of stick, and held it out to the puppy; whereupon the puppy jumped into the air off all its feet at once, with a yelp of delight, and rushed at the stick, and made believe to worry it; then Alice dodged behind a great thistle, to keep herself from being run over; and the moment she appeared on the other side, the puppy made another rush at the stick, and tumbled head over heels in its hurry to get hold of it; then Alice, thinking it was very like having a game of play with a cart-horse, and expecting every moment to be trampled under its feet, ran round the thistle again; then the puppy began a series of short charges at the stick, running a very little way forwards each time and a long way back, and barking hoarsely all the while, till at last it sat down a good way off, panting, with its tongue hanging out of its mouth, and its great eyes half shut\"\n",
      "\"file://Q1-Dataset/pg1513.txt\"\t\"Maximum length of sentence is 844 from file://Q1-Dataset/pg1513.txt file. Longest Sentence of file://Q1-Dataset/pg1513.txt file is : And in this state she gallops night by night Through lovers brains, and then they dream of love; Oer courtiers knees, that dream on curtsies straight; Oer lawyers fingers, who straight dream on fees; Oer ladies lips, who straight on kisses dream, Which oft the angry Mab with blisters plagues, Because their breaths with sweetmeats tainted are: Sometime she gallops oer a courtiers nose, And then dreams he of smelling out a suit; And sometime comes she with a tithe-pigs tail, Tickling a parsons nose as a lies asleep, Then dreams he of another benefice: Sometime she driveth oer a soldiers neck, And then dreams he of cutting foreign throats, Of breaches, ambuscados, Spanish blades, Of healths five fathom deep; and then anon Drums in his ear, at which he starts and wakes; And, being thus frighted, swears a prayer or two, And sleeps again\"\n",
      "\"file://Q1-Dataset/pg1998.txt\"\t\"Maximum length of sentence is 1083 from file://Q1-Dataset/pg1998.txt file. Longest Sentence of file://Q1-Dataset/pg1998.txt file is : Another ideal runs on before us, a strange, tempting ideal full of danger, to which we should not like to persuade any one, because we do not so readily acknowledge any ones RIGHT THERETO: the ideal of a spirit who plays naively (that is to say involuntarily and from overflowing abundance and power) with everything that has hitherto been called holy, good, intangible, or divine; to whom the loftiest conception which the people have reasonably made their measure of value, would already practically imply danger, ruin, abasement, or at least relaxation, blindness, or temporary self-forgetfulness; the ideal of a humanly superhuman welfare and benevolence, which will often enough appear INHUMAN, for example, when put alongside of all past seriousness on earth, and alongside of all past solemnities in bearing, word, tone, look, morality, and pursuit, as their truest involuntary parodyand WITH which, nevertheless, perhaps THE GREAT SERIOUSNESS only commences, when the proper interrogative mark is set up, the fate of the soul changes, the hour-hand moves, and tragedy begins\"\n",
      "\"file://Q1-Dataset/pg345.txt\"\t\"Maximum length of sentence is 975 from file://Q1-Dataset/pg345.txt file. Longest Sentence of file://Q1-Dataset/pg345.txt file is :' Who more gladly than we throughout the Four Nations received the 'bloody sword,' or at its warlike call flocked quicker to the standard of the King? When was redeemed that great shame of my nation, the shame of Cassova, when the flags of the Wallach and the Magyar went down beneath the Crescent? Who was it but one of my own race who as Voivode crossed the Danube and beat the Turk on his own ground? This was a Dracula indeed! Woe was it that his own unworthy brother, when he had fallen, sold his people to the Turk and brought the shame of slavery on them! Was it not this Dracula, indeed, who inspired that other of his race who in a later age again and again brought his forces over the great river into Turkey-land; who, when he was beaten back, came again, and again, and again, though he had to come alone from the bloody field where his troops were being slaughtered, since he knew that he alone could ultimately triumph! They said that he thought only of himself\"\n",
      "\"file://Q1-Dataset/pg64317.txt\"\t\"Maximum length of sentence is 416 from file://Q1-Dataset/pg64317.txt file. Longest Sentence of file://Q1-Dataset/pg64317.txt file is : Its vanished trees, the trees that had made way for Gatsbys house, had once pandered in whispers to the last and greatest of all human dreams; for a transitory enchanted moment man must have held his breath in the presence of this continent, compelled into an aesthetic contemplation he neither understood nor desired, face to face for the last time in history with something commensurate to his capacity for wonder\"\n",
      "\"file://Q1-Dataset/pg70815.txt\"\t\"Maximum length of sentence is 801 from file://Q1-Dataset/pg70815.txt file. Longest Sentence of file://Q1-Dataset/pg70815.txt file is : The sun, beating down upon his naked body, had no such effect upon his skin as would the sun of the outer world under like conditions, but it did impart to him a golden bronze color, which gave him a new confidence similar to that which he would have felt had he been able to retrieve his lost apparel, and in this fact he saw what he believed to be the real cause of his first embarrassment at his nakedness--it had been the whiteness of his skin that had made him seem so naked by contrast with other creatures, for this whiteness had suggested softness and weakness, arousing within him a disturbing sensation of inferiority; but now as he took on his heavy coat of tan and his feet became hardened and accustomed to the new conditions, he walked no longer in constant realization of his nakedness\"\n",
      "\"file://Q1-Dataset/pg70817.txt\"\t\"Maximum length of sentence is 401 from file://Q1-Dataset/pg70817.txt file. Longest Sentence of file://Q1-Dataset/pg70817.txt file is : Despite these efforts, Project Gutenberg electronic works, and the medium on which they may be stored, may contain Defects, such as, but not limited to, incomplete, inaccurate or corrupt data, transcription errors, a copyright or other intellectual property infringement, a defective or damaged disk or other medium, a computer virus, or computer codes that damage or cannot be read by your equipment\"\n",
      "\"file://Q1-Dataset/pg2600.txt\"\t\"Maximum length of sentence is 1756 from file://Q1-Dataset/pg2600.txt file. Longest Sentence of file://Q1-Dataset/pg2600.txt file is : But Count Rostopchn, who now taunted those who left Moscow and now had the government offices removed; now distributed quite useless weapons to the drunken rabble; now had processions displaying the icons, and now forbade Father Augustin to remove icons or the relics of saints; now seized all the private carts in Moscow and on one hundred and thirty-six of them removed the balloon that was being constructed by Leppich; now hinted that he would burn Moscow and related how he had set fire to his own house; now wrote a proclamation to the French solemnly upbraiding them for having destroyed his Orphanage; now claimed the glory of having hinted that he would burn Moscow and now repudiated the deed; now ordered the people to catch all spies and bring them to him, and now reproached them for doing so; now expelled all the French residents from Moscow, and now allowed Madame Aubert-Chalm (the center of the whole French colony in Moscow) to remain, but ordered the venerable old postmaster Klyucharv to be arrested and exiled for no particular offense; now assembled the people at the Three Hills to fight the French and now, to get rid of them, handed over to them a man to be killed and himself drove away by a back gate; now declared that he would not survive the fall of Moscow, and now wrote French verses in albums concerning his share in the affairthis man did not understand the meaning of what was happening but merely wanted to do something himself that would astonish people, to perform some patriotically heroic feat; and like a child he made sport of the momentous, and unavoidable eventthe abandonment and burning of Moscowand tried with his puny hand now to speed and now to stay the enormous, popular tide that bore him along with it\"\n",
      "Removing temp directory /tmp/max_length_search.root.20230529.170157.555981...\n"
     ]
    }
   ],
   "source": [
    "!python max_length_search.py \"Q1-Dataset/*\""
   ]
  },
  {
   "cell_type": "markdown",
   "metadata": {
    "id": "2WHwR23dsAg1"
   },
   "source": [
    "### Conclusion 1c. \n",
    "#### Maximum length of sentence is ***2078*** from ***2160-0.txt*** file"
   ]
  },
  {
   "cell_type": "markdown",
   "metadata": {
    "id": "wdS5g3CVsAg1"
   },
   "source": [
    "# Conclusion of Question 1: \n",
    "\n",
    "### Q. Find the files which contain the following phrases\n",
    "### A. \"**draping the folds of her velvet dress**\" phrase is available in **pg2600.txt** file\n",
    "### \"**grim clasp to the iron stanchions**\"   phrase is available in **pg345.txt** file\n",
    "### \"**Lo, I teach you the Superman!**\"  phrase is available in **1998.txt** file\n",
    "\n",
    "\n",
    "### Q. Find the file which has maximum number of tokens\n",
    "### A. **pg2600.txt** has maximum number of token i.e. **566330**\n",
    "\n",
    "\n",
    "### Q. Find the file which has the longest sentence (a sentence ends in a full stop and can span multiple lines)\n",
    "### A. Maximum length of sentence is **2078** from **2160-0.txt** file\n"
   ]
  },
  {
   "cell_type": "markdown",
   "metadata": {
    "id": "0ESNEl4evEmT"
   },
   "source": [
    "# Question: 02\n",
    "\n",
    "**Write a PySpark RDD program to compute:**\n",
    "\n",
    "\n",
    "  - The list of common (overlapping / intersection ) words across all the ten files listed above.\n",
    "  - List the word frequency of common words across files as a dict ( tip: use join method in the rdd). The size of the dict equals the list of common words and each key in the top level dict contains the word count corresponding to all the ten files\n",
    "\n",
    "    - {“word”: {“pg1513.txt”:10,”2160-0.txt”:25,... } \n"
   ]
  },
  {
   "cell_type": "markdown",
   "metadata": {
    "id": "OZ3iIh7wvEmT"
   },
   "source": [
    "## Answer: 02"
   ]
  },
  {
   "cell_type": "code",
   "execution_count": null,
   "metadata": {
    "colab": {
     "base_uri": "https://localhost:8080/"
    },
    "id": "s2GEv6WFsAg2",
    "outputId": "8e7b8547-25b7-4a56-8d2e-c1a558b95329"
   },
   "outputs": [
    {
     "name": "stdout",
     "output_type": "stream",
     "text": [
      "Looking in indexes: https://pypi.org/simple, https://us-python.pkg.dev/colab-wheels/public/simple/\n",
      "Requirement already satisfied: pyspark in /usr/local/lib/python3.10/dist-packages (3.4.0)\n",
      "Requirement already satisfied: py4j==0.10.9.7 in /usr/local/lib/python3.10/dist-packages (from pyspark) (0.10.9.7)\n"
     ]
    }
   ],
   "source": [
    "!pip install pyspark"
   ]
  },
  {
   "cell_type": "markdown",
   "metadata": {
    "id": "Xmoy8KBi1hI9"
   },
   "source": [
    "#### Importing library"
   ]
  },
  {
   "cell_type": "code",
   "execution_count": null,
   "metadata": {
    "id": "AVbW10sd1hJF"
   },
   "outputs": [],
   "source": [
    "from pyspark import SparkConf, SparkContext\n",
    "from operator import add\n",
    "import pandas as pd\n",
    "import re"
   ]
  },
  {
   "cell_type": "markdown",
   "metadata": {
    "id": "iKlQriqz1hJF"
   },
   "source": [
    "#### Common Variable Declaration"
   ]
  },
  {
   "cell_type": "code",
   "execution_count": null,
   "metadata": {
    "id": "1EiKU9xY1hJF"
   },
   "outputs": [],
   "source": [
    "# Initialize Spark\n",
    "spark_config = SparkConf().setMaster('local').setAppName('CommonWordsApp')\n",
    "spark_context = SparkContext.getOrCreate(conf=spark_config)\n",
    "\n",
    "# Define the list of files\n",
    "file_paths = ['Q1-Dataset/pg1513.txt','Q1-Dataset/2160-0.txt','Q1-Dataset/pg11.txt',\n",
    "              'Q1-Dataset/pg2600.txt','Q1-Dataset/pg345.txt','Q1-Dataset/pg64317.txt',\n",
    "              'Q1-Dataset/pg70815.txt','Q1-Dataset/1080-0.txt','Q1-Dataset/pg70817.txt',\n",
    "              'Q1-Dataset/pg1998.txt']\n",
    "\n",
    "# Initialize the word frequency dictionary\n",
    "word_frequency_dict = {}"
   ]
  },
  {
   "cell_type": "code",
   "execution_count": null,
   "metadata": {
    "id": "VFxwRH4QFvqj"
   },
   "outputs": [],
   "source": [
    "def clean_word(word):\n",
    "    return re.sub(r'[^\\w\\s]', '', word).lower()"
   ]
  },
  {
   "cell_type": "markdown",
   "metadata": {
    "id": "08CzPLXV1hJF"
   },
   "source": [
    "#### Perfom the main operation of searching "
   ]
  },
  {
   "cell_type": "code",
   "execution_count": null,
   "metadata": {
    "colab": {
     "base_uri": "https://localhost:8080/"
    },
    "id": "ypx7mCgUsAg2",
    "outputId": "5fe85db3-2f52-465b-d43d-2361e2547a15"
   },
   "outputs": [
    {
     "name": "stdout",
     "output_type": "stream",
     "text": [
      "Common word count is 816\n",
      "Common words are: ['rather', 'references', 'two', 'immediate', 'family', 'of', 'accessible', 'ago', 'away', 'official', 'right', 'before', 'ready', 'lieu', 'volunteers', 'permanent', 'than', 'computers', 'sent', 'united', 'law', 'damage', 'her', 'wwwgutenbergorgcontact', 'gross', 'agent', 'would', 'putting', 'something', 'registered', 'anything', 'was', 'put', 'agreement', 'us', 'leave', 'think', 'particular', 'never', 'true', 'help', 'especially', 'format', 'files', 'links', 'language', 'allow', 'entity', 'have', 'expense', 'no', 'ein', 'four', 'die', 'charities', 'appears', 'thousand', 'equipment', 'demand', 'is', 'support', 'bring', 'though', 'opportunity', 'renamed', 'thus', 'till', 'making', 'derive', 'prohibition', 'solicit', 'manager', 'free', 'send', 'indicate', 'bear', 'viewing', 'strength', 'head', 'rules', 'phrase', 'obtain', 'share', 'displayed', 'synonymous', 'compliance', 'widest', 'indirect', 'looked', 'poor', 'countries', 'refund', 'freely', 'an', 'volunteer', 'said', 'charitable', 'at', 'tax', 'earth', 'requirements', 'archive', 'mission', 'following', 'imposed', 'almost', 'which', 'most', 'paperwork', 'bound', 'alone', 'copy', 'copies', 'and', 'glad', 'five', 'accordance', 'strict', 'goals', 'displaying', 'required', 'remain', 'gone', 'warranty', 'knew', 'available', 'any', 'follow', 'you', 'by', 'english', 'pg', 'reports', 'limitation', 'offer', 'disclaimer', 'editions', 'federal', 'preserve', 'harmless', 'received', 'ebooks', 'educational', 'within', 'care', 'concerning', 'parts', 'necessarily', 'processing', 'ut', 'indemnity', 'soon', 'taxes', 'distribute', 'compilation', 'web', 'email', 'how', 'return', 'wwwgutenbergorglicense', 'much', 'manner', 'treatment', 'codes', 'were', 'whatsoever', 'attempt', 'state', 'replace', 'several', 'both', 'checks', 'cease', 'govern', 'against', 'service', 'card', 'expend', 'abide', 'hart', 'use', 'awayyou', 'wwwgutenbergorgdonate', 'gratefully', 'claim', 'version', 'myself', 'created', 'internal', 'days', 'out', 'twenty', 'appearing', 'violates', 'financial', 'new', 'form', 'incomplete', 'cannot', 'derived', 'heart', 'donate', 'these', 'longer', 'ten', 'month', 'way', 'medium', 'nor', 'title', 'things', 'in', 'provision', 'long', 'inaccurate', 'additions', 'returns', 'proprietary', 'we', 'print', 'negligence', 'walk', 'change', 'array', 'holder', 'production', 'consequential', 'whose', 'carry', 'meet', 'actual', 'subscribe', 'include', 'pglaf', 'extent', 'visit', 'far', 'produce', 'this', 'rest', 'already', 'project', 'prominently', 'based', 'compressed', 'corrupt', 'search', 'modified', 'punitive', 'states', 'also', 'north', 'updated', 'it', 'forth', 'periodic', 'posted', 'agreed', 'not', 'contain', 'reading', 'trademarkcopyright', 'fell', 'sentence', 'data', 'fast', 'brought', 'pages', 'its', 'without', 'few', 'hypertext', 'destroy', 'every', 'my', 'profits', 'since', 'concept', 'except', 'defective', 'merchantability', 'maximum', 'physical', 'body', 'under', 'methods', 'wish', 'immediately', 'so', 'constant', 'outside', 'applicable', 'possessed', 'or', 'identification', 'onethe', 'previous', 'exporting', 'city', 'shall', 'small', 'found', 'whom', 'wife', 'general', 'facility', 'employees', 'easy', 'discontinue', 'variety', 'about', 'be', 'first', 'friend', 'original', 'seem', 'accept', 'main', 'apply', 'get', 'contact', 'alternate', 'section', 'notice', 'intellectual', 'direct', 's', 'common', 'there', 'turn', 'even', 'anywhere', 'told', 'perhaps', 'further', 'identify', 'produced', 'charge', 'sharing', 'modification', 'ebook', 'confirmed', 'stored', 'redistribution', 'copied', 'own', 'online', 'accessed', 'more', 'addresses', 'deletions', 'fine', 'ask', 'redistribute', 'implied', 'mean', 'very', 'charges', 'i', 'just', 'regulating', 'last', 'salt', 'alteration', 'past', 'fight', 'after', 'reuse', 'trouble', 'confirmation', 'appear', 'may', 'comply', 'depends', 'measure', 'transcribe', 'came', 'pay', 'are', 'offers', 'person', 'removed', 'make', 'easily', 'legal', 'good', 'provide', 'now', 'b', 'formats', 'houses', 'paid', 'world', 'neither', 'check', 'set', 'matter', 'remaining', 'public', 'different', 'disclaimers', 'forty', 'paragraph', 'providing', 'upon', 'discover', 'directly', 'require', 'receiving', 'granted', 'obtaining', 'distributing', 'license', 'donations', 'number', 'off', 'organized', 'office', 'one', 'release', 'learn', 'calculated', 'creation', 'their', 'written', 'warranties', 'foundation', 'place', 'second', 'hundred', 'on', 'located', 'generations', 'purpose', 'elect', 'performing', 'word', 'all', 'secure', 'whenever', 'has', 'does', 'agree', 'table', 'if', 'makes', 'hold', 'met', 'distributed', 'nothing', 'express', 'takes', 'come', 'lot', 'fitness', 'cost', 'protect', 'newsletter', 'status', 'invalidity', 'less', 'bent', 'answer', 'nearly', 'among', 'choose', 'because', 'west', 'disclaim', 'while', 'literary', 'virus', 'to', 'credit', 'grow', 'effort', 'problem', 'want', 'readable', 'such', 'viewed', 'people', 'should', 'lake', 'alive', 'plain', 'see', 'me', 'associated', 'reaching', 'staff', 'when', 'proofread', 'opportunities', 'revenue', 'owner', 'complying', 'copyright', 'sure', 'twelve', 'yet', 'michael', 'errors', 'creating', 'copying', 'figure', 'ascii', 'liability', 'work', 'he', 'library', 'calculate', 'beat', 'asis', 'home', 'active', 'page', 'c', 'above', 'disk', 'able', 'occur', 'gutenberg', 'let', 'start', 'distribution', 'particularly', 'donors', 'linked', 'three', 'certain', 'owns', 'transcription', 'maintaining', 'approach', 'group', 'accepted', 'kind', 'however', 'obsolete', 'subject', 'again', 'writing', 'stand', 'loose', 'accepting', 'cause', 'but', 'money', 'anyone', 'contract', 'house', 'am', 'take', 'exists', 'commercial', 'do', 'years', 'expenses', 'read', 'restrictions', 'like', 'edition', 'limited', 'promoting', 'prepare', 'child', 'young', 'using', 'unenforceability', 'individual', 'prevent', 'collection', 'other', 'vanilla', 'efforts', 'despite', 'others', 'country', 'move', 'uniform', 'another', 'children', 'for', 'distributor', 'up', 'permission', 'file', 'they', 'donation', 'property', 'licensed', 'includes', 'your', 'indicating', 'method', 'laws', 'present', 'future', 'age', 'girl', 'special', 'reason', 'each', 'types', 'specified', 'will', 'provisions', 'committed', 'ensuring', 'could', 'swamp', 'unless', 'might', 'that', 'life', 'being', 'critical', 'been', 'little', 'payments', 'increasing', 'provided', 'wwwgutenbergorg', 'times', 'clearly', 'determine', 'considerable', 'beginning', 'death', 'receipt', 'please', 'international', 'unsolicited', 'half', 'made', 'irs', 'the', 'legally', 'user', 'same', 'survive', 'hope', 'performances', 'foundations', 'date', 'sending', 'employee', 'often', 'practically', 'explanation', 'replacement', 'author', 'taken', 'whole', 'some', 'electronic', 'then', 'great', 'sort', 'redistributing', 'included', 'royalty', 'deductible', 'order', 'time', 'liable', 'him', 'address', 'find', 'ever', 'full', 'sound', 'middleaged', 'must', 'additional', 'know', 'possibility', 'promotion', 'late', 'hear', 'below', 'known', 'performed', 'mississippi', 'his', 'believe', 'current', 'research', 'assistance', 'indemnify', 'domain', 'walks', 'exempt', 'means', 'as', 'possession', 'locations', 'into', 'where', 'fee', 'representations', 'hot', 'remedies', 'them', 'effect', 'reported', 'give', 'indirectly', 'business', 'downloading', 'used', 'incidental', 'nonproprietary', 'binary', 'arise', 'remove', 'cold', 'convert', 'end', 'only', 'best', 'electronically', 'perform', 'name', 'permitted', 'breach', 'interpreted', 'fees', 'understand', 'fix', 'network', 'worse', 'paying', 'sections', 'stay', 'old', 'outdated', 'costs', 'trademark', 'what', 'well', 'part', 'from', 'shared', 'void', 'with', 'arms', 'marked', 'unlink', 'many', 'too', 'man', 'access', 'request', 'exclusion', 'discovered', 'display', 'defect', 'course', 'our', 'either', 'reasonable', 'six', 'defects', 'originator', 'addition', 'those', 'important', 'including', 'owed', 'grown', 'infringement', 'keeping', 'damages', 'thing', 'hundreds', 'corporation', 'least', 'detach', 'having', 'information', 'can', 'terms', 'paper', 'a', 'printed', 'fair', 'better', 'solicitation', 'doubt', 'computer', 'royalties', 'contributions', 'derivative', 'ways', 'she', 'statements', 'keep', 'who', 'notifies', 'day', 'giving', 'works', 'containing', 'attached', 'need', 'paragraphs', 'through', 'described', 'professor', 'damaged', 'talk', 'receive', 'party', 'given']\n"
     ]
    }
   ],
   "source": [
    "# Process each file to compute word frequencies and intersection of words\n",
    "for file_index, file_path in enumerate(file_paths):\n",
    "    file_rdd = spark_context.textFile(file_path)\n",
    "    word_rdd = file_rdd.flatMap(lambda line: line.split(\" \")).map(lambda word: clean_word(word))\n",
    "    word_frequency = word_rdd.countByValue()\n",
    "\n",
    "    # Compute frequencies and intersection\n",
    "    for word, frequency in word_frequency.items():\n",
    "        if word not in word_frequency_dict:\n",
    "            word_frequency_dict[word] = {}\n",
    "        word_frequency_dict[word][file_path] = frequency\n",
    "\n",
    "    if file_index == 0:\n",
    "        intersecting_words_rdd = word_rdd\n",
    "    else:\n",
    "        intersecting_words_rdd = intersecting_words_rdd.intersection(word_rdd)\n",
    "\n",
    "#Collect the common words\n",
    "common_words = intersecting_words_rdd.distinct().collect()\n",
    "\n",
    "#Removing the pure number\n",
    "common_words = [element for element in common_words if element.isnumeric() != True]\n",
    "\n",
    "#Removing alpha numeric like 1e and 2f etc.\n",
    "common_words = [element for element in common_words if element.isalpha() == True]\n",
    "\n",
    "#Removing empty string \n",
    "common_words = [element for element in common_words if element != \"\"]\n",
    "\n",
    "# Filter the frequency dictionary to include only common words\n",
    "common_words_frequency_dict = {word: word_frequency_dict[word] for word in common_words}\n",
    "\n",
    "print(f\"Common word count is {len(common_words)}\")\n",
    "print(f\"Common words are: {common_words}\")\n"
   ]
  },
  {
   "cell_type": "code",
   "execution_count": null,
   "metadata": {
    "colab": {
     "base_uri": "https://localhost:8080/"
    },
    "id": "-49iqeA4xny6",
    "outputId": "c628b397-3868-4b64-cf9d-0e0d12c76ebc"
   },
   "outputs": [
    {
     "name": "stdout",
     "output_type": "stream",
     "text": [
      "Frequencies of the words are :{'rather': {'Q1-Dataset/pg1513.txt': 4, 'Q1-Dataset/2160-0.txt': 43, 'Q1-Dataset/pg11.txt': 25, 'Q1-Dataset/pg2600.txt': 88, 'Q1-Dataset/pg345.txt': 25, 'Q1-Dataset/pg64317.txt': 25, 'Q1-Dataset/pg70815.txt': 15, 'Q1-Dataset/1080-0.txt': 2, 'Q1-Dataset/pg70817.txt': 10, 'Q1-Dataset/pg1998.txt': 40}, 'references': {'Q1-Dataset/pg1513.txt': 2, 'Q1-Dataset/2160-0.txt': 2, 'Q1-Dataset/pg11.txt': 2, 'Q1-Dataset/pg2600.txt': 2, 'Q1-Dataset/pg345.txt': 2, 'Q1-Dataset/pg64317.txt': 2, 'Q1-Dataset/pg70815.txt': 2, 'Q1-Dataset/1080-0.txt': 2, 'Q1-Dataset/pg70817.txt': 2, 'Q1-Dataset/pg1998.txt': 2}, 'two': {'Q1-Dataset/pg1513.txt': 20, 'Q1-Dataset/2160-0.txt': 144, 'Q1-Dataset/pg11.txt': 37, 'Q1-Dataset/pg2600.txt': 587, 'Q1-Dataset/pg345.txt': 128, 'Q1-Dataset/pg64317.txt': 72, 'Q1-Dataset/pg70815.txt': 118, 'Q1-Dataset/1080-0.txt': 8, 'Q1-Dataset/pg70817.txt': 26, 'Q1-Dataset/pg1998.txt': 47}, 'immediate': {'Q1-Dataset/pg1513.txt': 2, 'Q1-Dataset/2160-0.txt': 12, 'Q1-Dataset/pg11.txt': 3, 'Q1-Dataset/pg2600.txt': 10, 'Q1-Dataset/pg345.txt': 6, 'Q1-Dataset/pg64317.txt': 5, 'Q1-Dataset/pg70815.txt': 7, 'Q1-Dataset/1080-0.txt': 2, 'Q1-Dataset/pg70817.txt': 6, 'Q1-Dataset/pg1998.txt': 3}, 'family': {'Q1-Dataset/pg1513.txt': 2, 'Q1-Dataset/2160-0.txt': 113, 'Q1-Dataset/pg11.txt': 1, 'Q1-Dataset/pg2600.txt': 135, 'Q1-Dataset/pg345.txt': 3, 'Q1-Dataset/pg64317.txt': 13, 'Q1-Dataset/pg70815.txt': 1, 'Q1-Dataset/1080-0.txt': 2, 'Q1-Dataset/pg70817.txt': 3, 'Q1-Dataset/pg1998.txt': 1}, 'of': {'Q1-Dataset/pg1513.txt': 518, 'Q1-Dataset/2160-0.txt': 5676, 'Q1-Dataset/pg11.txt': 632, 'Q1-Dataset/pg2600.txt': 14994, 'Q1-Dataset/pg345.txt': 3746, 'Q1-Dataset/pg64317.txt': 1233, 'Q1-Dataset/pg70815.txt': 3108, 'Q1-Dataset/1080-0.txt': 261, 'Q1-Dataset/pg70817.txt': 769, 'Q1-Dataset/pg1998.txt': 2895}, 'accessible': {'Q1-Dataset/pg1513.txt': 1, 'Q1-Dataset/2160-0.txt': 2, 'Q1-Dataset/pg11.txt': 1, 'Q1-Dataset/pg2600.txt': 4, 'Q1-Dataset/pg345.txt': 1, 'Q1-Dataset/pg64317.txt': 1, 'Q1-Dataset/pg70815.txt': 1, 'Q1-Dataset/1080-0.txt': 1, 'Q1-Dataset/pg70817.txt': 1, 'Q1-Dataset/pg1998.txt': 1}, 'ago': {'Q1-Dataset/pg1513.txt': 2, 'Q1-Dataset/2160-0.txt': 45, 'Q1-Dataset/pg11.txt': 2, 'Q1-Dataset/pg2600.txt': 74, 'Q1-Dataset/pg345.txt': 26, 'Q1-Dataset/pg64317.txt': 19, 'Q1-Dataset/pg70815.txt': 6, 'Q1-Dataset/1080-0.txt': 1, 'Q1-Dataset/pg70817.txt': 8, 'Q1-Dataset/pg1998.txt': 6}, 'away': {'Q1-Dataset/pg1513.txt': 25, 'Q1-Dataset/2160-0.txt': 51, 'Q1-Dataset/pg11.txt': 27, 'Q1-Dataset/pg2600.txt': 613, 'Q1-Dataset/pg345.txt': 187, 'Q1-Dataset/pg64317.txt': 76, 'Q1-Dataset/pg70815.txt': 71, 'Q1-Dataset/1080-0.txt': 3, 'Q1-Dataset/pg70817.txt': 35, 'Q1-Dataset/pg1998.txt': 116}, 'official': {'Q1-Dataset/pg1513.txt': 3, 'Q1-Dataset/2160-0.txt': 3, 'Q1-Dataset/pg11.txt': 3, 'Q1-Dataset/pg2600.txt': 33, 'Q1-Dataset/pg345.txt': 6, 'Q1-Dataset/pg64317.txt': 4, 'Q1-Dataset/pg70815.txt': 4, 'Q1-Dataset/1080-0.txt': 3, 'Q1-Dataset/pg70817.txt': 3, 'Q1-Dataset/pg1998.txt': 3}, 'right': {'Q1-Dataset/pg1513.txt': 9, 'Q1-Dataset/2160-0.txt': 45, 'Q1-Dataset/pg11.txt': 35, 'Q1-Dataset/pg2600.txt': 449, 'Q1-Dataset/pg345.txt': 102, 'Q1-Dataset/pg64317.txt': 54, 'Q1-Dataset/pg70815.txt': 49, 'Q1-Dataset/1080-0.txt': 4, 'Q1-Dataset/pg70817.txt': 13, 'Q1-Dataset/pg1998.txt': 56}, 'before': {'Q1-Dataset/pg1513.txt': 24, 'Q1-Dataset/2160-0.txt': 118, 'Q1-Dataset/pg11.txt': 41, 'Q1-Dataset/pg2600.txt': 825, 'Q1-Dataset/pg345.txt': 278, 'Q1-Dataset/pg64317.txt': 91, 'Q1-Dataset/pg70815.txt': 119, 'Q1-Dataset/1080-0.txt': 7, 'Q1-Dataset/pg70817.txt': 61, 'Q1-Dataset/pg1998.txt': 113}, 'ready': {'Q1-Dataset/pg1513.txt': 5, 'Q1-Dataset/2160-0.txt': 25, 'Q1-Dataset/pg11.txt': 8, 'Q1-Dataset/pg2600.txt': 164, 'Q1-Dataset/pg345.txt': 71, 'Q1-Dataset/pg64317.txt': 3, 'Q1-Dataset/pg70815.txt': 20, 'Q1-Dataset/1080-0.txt': 2, 'Q1-Dataset/pg70817.txt': 4, 'Q1-Dataset/pg1998.txt': 26}, 'lieu': {'Q1-Dataset/pg1513.txt': 2, 'Q1-Dataset/2160-0.txt': 3, 'Q1-Dataset/pg11.txt': 2, 'Q1-Dataset/pg2600.txt': 2, 'Q1-Dataset/pg345.txt': 2, 'Q1-Dataset/pg64317.txt': 2, 'Q1-Dataset/pg70815.txt': 3, 'Q1-Dataset/1080-0.txt': 2, 'Q1-Dataset/pg70817.txt': 2, 'Q1-Dataset/pg1998.txt': 2}, 'volunteers': {'Q1-Dataset/pg1513.txt': 6, 'Q1-Dataset/2160-0.txt': 6, 'Q1-Dataset/pg11.txt': 5, 'Q1-Dataset/pg2600.txt': 5, 'Q1-Dataset/pg345.txt': 5, 'Q1-Dataset/pg64317.txt': 5, 'Q1-Dataset/pg70815.txt': 5, 'Q1-Dataset/1080-0.txt': 5, 'Q1-Dataset/pg70817.txt': 5, 'Q1-Dataset/pg1998.txt': 5}, 'permanent': {'Q1-Dataset/pg1513.txt': 1, 'Q1-Dataset/2160-0.txt': 1, 'Q1-Dataset/pg11.txt': 1, 'Q1-Dataset/pg2600.txt': 2, 'Q1-Dataset/pg345.txt': 1, 'Q1-Dataset/pg64317.txt': 2, 'Q1-Dataset/pg70815.txt': 1, 'Q1-Dataset/1080-0.txt': 1, 'Q1-Dataset/pg70817.txt': 4, 'Q1-Dataset/pg1998.txt': 2}, 'than': {'Q1-Dataset/pg1513.txt': 50, 'Q1-Dataset/2160-0.txt': 280, 'Q1-Dataset/pg11.txt': 27, 'Q1-Dataset/pg2600.txt': 535, 'Q1-Dataset/pg345.txt': 222, 'Q1-Dataset/pg64317.txt': 37, 'Q1-Dataset/pg70815.txt': 151, 'Q1-Dataset/1080-0.txt': 10, 'Q1-Dataset/pg70817.txt': 37, 'Q1-Dataset/pg1998.txt': 205}, 'computers': {'Q1-Dataset/pg1513.txt': 2, 'Q1-Dataset/2160-0.txt': 2, 'Q1-Dataset/pg11.txt': 2, 'Q1-Dataset/pg2600.txt': 2, 'Q1-Dataset/pg345.txt': 2, 'Q1-Dataset/pg64317.txt': 2, 'Q1-Dataset/pg70815.txt': 2, 'Q1-Dataset/1080-0.txt': 2, 'Q1-Dataset/pg70817.txt': 2, 'Q1-Dataset/pg1998.txt': 2}, 'sent': {'Q1-Dataset/pg1513.txt': 3, 'Q1-Dataset/2160-0.txt': 49, 'Q1-Dataset/pg11.txt': 3, 'Q1-Dataset/pg2600.txt': 224, 'Q1-Dataset/pg345.txt': 39, 'Q1-Dataset/pg64317.txt': 17, 'Q1-Dataset/pg70815.txt': 14, 'Q1-Dataset/1080-0.txt': 1, 'Q1-Dataset/pg70817.txt': 4, 'Q1-Dataset/pg1998.txt': 4}, 'united': {'Q1-Dataset/pg1513.txt': 15, 'Q1-Dataset/2160-0.txt': 15, 'Q1-Dataset/pg11.txt': 15, 'Q1-Dataset/pg2600.txt': 31, 'Q1-Dataset/pg345.txt': 18, 'Q1-Dataset/pg64317.txt': 15, 'Q1-Dataset/pg70815.txt': 16, 'Q1-Dataset/1080-0.txt': 15, 'Q1-Dataset/pg70817.txt': 15, 'Q1-Dataset/pg1998.txt': 15}, 'law': {'Q1-Dataset/pg1513.txt': 18, 'Q1-Dataset/2160-0.txt': 23, 'Q1-Dataset/pg11.txt': 9, 'Q1-Dataset/pg2600.txt': 79, 'Q1-Dataset/pg345.txt': 20, 'Q1-Dataset/pg64317.txt': 7, 'Q1-Dataset/pg70815.txt': 9, 'Q1-Dataset/1080-0.txt': 8, 'Q1-Dataset/pg70817.txt': 7, 'Q1-Dataset/pg1998.txt': 29}, 'damage': {'Q1-Dataset/pg1513.txt': 2, 'Q1-Dataset/2160-0.txt': 10, 'Q1-Dataset/pg11.txt': 2, 'Q1-Dataset/pg2600.txt': 3, 'Q1-Dataset/pg345.txt': 2, 'Q1-Dataset/pg64317.txt': 2, 'Q1-Dataset/pg70815.txt': 3, 'Q1-Dataset/1080-0.txt': 2, 'Q1-Dataset/pg70817.txt': 2, 'Q1-Dataset/pg1998.txt': 2}, 'her': {'Q1-Dataset/pg1513.txt': 153, 'Q1-Dataset/2160-0.txt': 750, 'Q1-Dataset/pg11.txt': 247, 'Q1-Dataset/pg2600.txt': 4697, 'Q1-Dataset/pg345.txt': 1054, 'Q1-Dataset/pg64317.txt': 392, 'Q1-Dataset/pg70815.txt': 388, 'Q1-Dataset/1080-0.txt': 2, 'Q1-Dataset/pg70817.txt': 156, 'Q1-Dataset/pg1998.txt': 36}, 'wwwgutenbergorgcontact': {'Q1-Dataset/pg1513.txt': 1, 'Q1-Dataset/2160-0.txt': 1, 'Q1-Dataset/pg11.txt': 1, 'Q1-Dataset/pg2600.txt': 1, 'Q1-Dataset/pg345.txt': 1, 'Q1-Dataset/pg64317.txt': 1, 'Q1-Dataset/pg70815.txt': 1, 'Q1-Dataset/1080-0.txt': 1, 'Q1-Dataset/pg70817.txt': 1, 'Q1-Dataset/pg1998.txt': 1}, 'gross': {'Q1-Dataset/pg1513.txt': 2, 'Q1-Dataset/2160-0.txt': 7, 'Q1-Dataset/pg11.txt': 1, 'Q1-Dataset/pg2600.txt': 3, 'Q1-Dataset/pg345.txt': 1, 'Q1-Dataset/pg64317.txt': 1, 'Q1-Dataset/pg70815.txt': 1, 'Q1-Dataset/1080-0.txt': 1, 'Q1-Dataset/pg70817.txt': 1, 'Q1-Dataset/pg1998.txt': 1}, 'agent': {'Q1-Dataset/pg1513.txt': 1, 'Q1-Dataset/2160-0.txt': 2, 'Q1-Dataset/pg11.txt': 1, 'Q1-Dataset/pg2600.txt': 2, 'Q1-Dataset/pg345.txt': 13, 'Q1-Dataset/pg64317.txt': 1, 'Q1-Dataset/pg70815.txt': 1, 'Q1-Dataset/1080-0.txt': 1, 'Q1-Dataset/pg70817.txt': 1, 'Q1-Dataset/pg1998.txt': 1}, 'would': {'Q1-Dataset/pg1513.txt': 54, 'Q1-Dataset/2160-0.txt': 445, 'Q1-Dataset/pg11.txt': 78, 'Q1-Dataset/pg2600.txt': 1362, 'Q1-Dataset/pg345.txt': 428, 'Q1-Dataset/pg64317.txt': 52, 'Q1-Dataset/pg70815.txt': 219, 'Q1-Dataset/1080-0.txt': 18, 'Q1-Dataset/pg70817.txt': 88, 'Q1-Dataset/pg1998.txt': 259}, 'putting': {'Q1-Dataset/pg1513.txt': 1, 'Q1-Dataset/2160-0.txt': 4, 'Q1-Dataset/pg11.txt': 3, 'Q1-Dataset/pg2600.txt': 51, 'Q1-Dataset/pg345.txt': 21, 'Q1-Dataset/pg64317.txt': 1, 'Q1-Dataset/pg70815.txt': 2, 'Q1-Dataset/1080-0.txt': 1, 'Q1-Dataset/pg70817.txt': 1, 'Q1-Dataset/pg1998.txt': 3}, 'something': {'Q1-Dataset/pg1513.txt': 4, 'Q1-Dataset/2160-0.txt': 51, 'Q1-Dataset/pg11.txt': 17, 'Q1-Dataset/pg2600.txt': 597, 'Q1-Dataset/pg345.txt': 137, 'Q1-Dataset/pg64317.txt': 66, 'Q1-Dataset/pg70815.txt': 44, 'Q1-Dataset/1080-0.txt': 3, 'Q1-Dataset/pg70817.txt': 17, 'Q1-Dataset/pg1998.txt': 65}, 'registered': {'Q1-Dataset/pg1513.txt': 2, 'Q1-Dataset/2160-0.txt': 2, 'Q1-Dataset/pg11.txt': 2, 'Q1-Dataset/pg2600.txt': 2, 'Q1-Dataset/pg345.txt': 2, 'Q1-Dataset/pg64317.txt': 2, 'Q1-Dataset/pg70815.txt': 2, 'Q1-Dataset/1080-0.txt': 2, 'Q1-Dataset/pg70817.txt': 2, 'Q1-Dataset/pg1998.txt': 2}, 'anything': {'Q1-Dataset/pg1513.txt': 6, 'Q1-Dataset/2160-0.txt': 5, 'Q1-Dataset/pg11.txt': 21, 'Q1-Dataset/pg2600.txt': 293, 'Q1-Dataset/pg345.txt': 99, 'Q1-Dataset/pg64317.txt': 29, 'Q1-Dataset/pg70815.txt': 20, 'Q1-Dataset/1080-0.txt': 2, 'Q1-Dataset/pg70817.txt': 9, 'Q1-Dataset/pg1998.txt': 18}, 'was': {'Q1-Dataset/pg1513.txt': 51, 'Q1-Dataset/2160-0.txt': 1399, 'Q1-Dataset/pg11.txt': 354, 'Q1-Dataset/pg2600.txt': 7332, 'Q1-Dataset/pg345.txt': 1874, 'Q1-Dataset/pg64317.txt': 766, 'Q1-Dataset/pg70815.txt': 1094, 'Q1-Dataset/1080-0.txt': 10, 'Q1-Dataset/pg70817.txt': 440, 'Q1-Dataset/pg1998.txt': 362}, 'put': {'Q1-Dataset/pg1513.txt': 17, 'Q1-Dataset/2160-0.txt': 86, 'Q1-Dataset/pg11.txt': 31, 'Q1-Dataset/pg2600.txt': 270, 'Q1-Dataset/pg345.txt': 106, 'Q1-Dataset/pg64317.txt': 21, 'Q1-Dataset/pg70815.txt': 10, 'Q1-Dataset/1080-0.txt': 4, 'Q1-Dataset/pg70817.txt': 6, 'Q1-Dataset/pg1998.txt': 59}, 'agreement': {'Q1-Dataset/pg1513.txt': 18, 'Q1-Dataset/2160-0.txt': 20, 'Q1-Dataset/pg11.txt': 18, 'Q1-Dataset/pg2600.txt': 25, 'Q1-Dataset/pg345.txt': 21, 'Q1-Dataset/pg64317.txt': 20, 'Q1-Dataset/pg70815.txt': 18, 'Q1-Dataset/1080-0.txt': 18, 'Q1-Dataset/pg70817.txt': 18, 'Q1-Dataset/pg1998.txt': 18}, 'us': {'Q1-Dataset/pg1513.txt': 38, 'Q1-Dataset/2160-0.txt': 152, 'Q1-Dataset/pg11.txt': 22, 'Q1-Dataset/pg2600.txt': 424, 'Q1-Dataset/pg345.txt': 463, 'Q1-Dataset/pg64317.txt': 71, 'Q1-Dataset/pg70815.txt': 123, 'Q1-Dataset/1080-0.txt': 12, 'Q1-Dataset/pg70817.txt': 36, 'Q1-Dataset/pg1998.txt': 156}, 'leave': {'Q1-Dataset/pg1513.txt': 13, 'Q1-Dataset/2160-0.txt': 59, 'Q1-Dataset/pg11.txt': 9, 'Q1-Dataset/pg2600.txt': 209, 'Q1-Dataset/pg345.txt': 56, 'Q1-Dataset/pg64317.txt': 12, 'Q1-Dataset/pg70815.txt': 10, 'Q1-Dataset/1080-0.txt': 3, 'Q1-Dataset/pg70817.txt': 11, 'Q1-Dataset/pg1998.txt': 17}, 'think': {'Q1-Dataset/pg1513.txt': 21, 'Q1-Dataset/2160-0.txt': 127, 'Q1-Dataset/pg11.txt': 49, 'Q1-Dataset/pg2600.txt': 355, 'Q1-Dataset/pg345.txt': 218, 'Q1-Dataset/pg64317.txt': 64, 'Q1-Dataset/pg70815.txt': 32, 'Q1-Dataset/1080-0.txt': 6, 'Q1-Dataset/pg70817.txt': 8, 'Q1-Dataset/pg1998.txt': 50}, 'particular': {'Q1-Dataset/pg1513.txt': 2, 'Q1-Dataset/2160-0.txt': 66, 'Q1-Dataset/pg11.txt': 5, 'Q1-Dataset/pg2600.txt': 44, 'Q1-Dataset/pg345.txt': 10, 'Q1-Dataset/pg64317.txt': 8, 'Q1-Dataset/pg70815.txt': 9, 'Q1-Dataset/1080-0.txt': 3, 'Q1-Dataset/pg70817.txt': 3, 'Q1-Dataset/pg1998.txt': 7}, 'never': {'Q1-Dataset/pg1513.txt': 18, 'Q1-Dataset/2160-0.txt': 139, 'Q1-Dataset/pg11.txt': 43, 'Q1-Dataset/pg2600.txt': 407, 'Q1-Dataset/pg345.txt': 128, 'Q1-Dataset/pg64317.txt': 64, 'Q1-Dataset/pg70815.txt': 94, 'Q1-Dataset/1080-0.txt': 2, 'Q1-Dataset/pg70817.txt': 29, 'Q1-Dataset/pg1998.txt': 62}, 'true': {'Q1-Dataset/pg1513.txt': 27, 'Q1-Dataset/2160-0.txt': 21, 'Q1-Dataset/pg11.txt': 3, 'Q1-Dataset/pg2600.txt': 120, 'Q1-Dataset/pg345.txt': 56, 'Q1-Dataset/pg64317.txt': 9, 'Q1-Dataset/pg70815.txt': 14, 'Q1-Dataset/1080-0.txt': 2, 'Q1-Dataset/pg70817.txt': 5, 'Q1-Dataset/pg1998.txt': 31}, 'help': {'Q1-Dataset/pg1513.txt': 21, 'Q1-Dataset/2160-0.txt': 54, 'Q1-Dataset/pg11.txt': 12, 'Q1-Dataset/pg2600.txt': 144, 'Q1-Dataset/pg345.txt': 103, 'Q1-Dataset/pg64317.txt': 10, 'Q1-Dataset/pg70815.txt': 9, 'Q1-Dataset/1080-0.txt': 4, 'Q1-Dataset/pg70817.txt': 5, 'Q1-Dataset/pg1998.txt': 27}, 'especially': {'Q1-Dataset/pg1513.txt': 1, 'Q1-Dataset/2160-0.txt': 17, 'Q1-Dataset/pg11.txt': 1, 'Q1-Dataset/pg2600.txt': 128, 'Q1-Dataset/pg345.txt': 10, 'Q1-Dataset/pg64317.txt': 2, 'Q1-Dataset/pg70815.txt': 7, 'Q1-Dataset/1080-0.txt': 2, 'Q1-Dataset/pg70817.txt': 4, 'Q1-Dataset/pg1998.txt': 32}, 'format': {'Q1-Dataset/pg1513.txt': 4, 'Q1-Dataset/2160-0.txt': 4, 'Q1-Dataset/pg11.txt': 4, 'Q1-Dataset/pg2600.txt': 4, 'Q1-Dataset/pg345.txt': 4, 'Q1-Dataset/pg64317.txt': 4, 'Q1-Dataset/pg70815.txt': 4, 'Q1-Dataset/1080-0.txt': 4, 'Q1-Dataset/pg70817.txt': 4, 'Q1-Dataset/pg1998.txt': 4}, 'files': {'Q1-Dataset/pg1513.txt': 1, 'Q1-Dataset/2160-0.txt': 2, 'Q1-Dataset/pg11.txt': 2, 'Q1-Dataset/pg2600.txt': 1, 'Q1-Dataset/pg345.txt': 2, 'Q1-Dataset/pg64317.txt': 1, 'Q1-Dataset/pg70815.txt': 1, 'Q1-Dataset/1080-0.txt': 2, 'Q1-Dataset/pg70817.txt': 1, 'Q1-Dataset/pg1998.txt': 2}, 'links': {'Q1-Dataset/pg1513.txt': 3, 'Q1-Dataset/2160-0.txt': 6, 'Q1-Dataset/pg11.txt': 3, 'Q1-Dataset/pg2600.txt': 4, 'Q1-Dataset/pg345.txt': 4, 'Q1-Dataset/pg64317.txt': 3, 'Q1-Dataset/pg70815.txt': 3, 'Q1-Dataset/1080-0.txt': 3, 'Q1-Dataset/pg70817.txt': 4, 'Q1-Dataset/pg1998.txt': 3}, 'language': {'Q1-Dataset/pg1513.txt': 2, 'Q1-Dataset/2160-0.txt': 23, 'Q1-Dataset/pg11.txt': 1, 'Q1-Dataset/pg2600.txt': 9, 'Q1-Dataset/pg345.txt': 9, 'Q1-Dataset/pg64317.txt': 1, 'Q1-Dataset/pg70815.txt': 31, 'Q1-Dataset/1080-0.txt': 1, 'Q1-Dataset/pg70817.txt': 2, 'Q1-Dataset/pg1998.txt': 18}, 'allow': {'Q1-Dataset/pg1513.txt': 2, 'Q1-Dataset/2160-0.txt': 11, 'Q1-Dataset/pg11.txt': 4, 'Q1-Dataset/pg2600.txt': 57, 'Q1-Dataset/pg345.txt': 7, 'Q1-Dataset/pg64317.txt': 1, 'Q1-Dataset/pg70815.txt': 1, 'Q1-Dataset/1080-0.txt': 2, 'Q1-Dataset/pg70817.txt': 1, 'Q1-Dataset/pg1998.txt': 7}, 'entity': {'Q1-Dataset/pg1513.txt': 3, 'Q1-Dataset/2160-0.txt': 3, 'Q1-Dataset/pg11.txt': 3, 'Q1-Dataset/pg2600.txt': 3, 'Q1-Dataset/pg345.txt': 4, 'Q1-Dataset/pg64317.txt': 3, 'Q1-Dataset/pg70815.txt': 3, 'Q1-Dataset/1080-0.txt': 3, 'Q1-Dataset/pg70817.txt': 4, 'Q1-Dataset/pg1998.txt': 3}, 'have': {'Q1-Dataset/pg1513.txt': 133, 'Q1-Dataset/2160-0.txt': 921, 'Q1-Dataset/pg11.txt': 83, 'Q1-Dataset/pg2600.txt': 1980, 'Q1-Dataset/pg345.txt': 1066, 'Q1-Dataset/pg64317.txt': 143, 'Q1-Dataset/pg70815.txt': 406, 'Q1-Dataset/1080-0.txt': 36, 'Q1-Dataset/pg70817.txt': 71, 'Q1-Dataset/pg1998.txt': 673}, 'expense': {'Q1-Dataset/pg1513.txt': 1, 'Q1-Dataset/2160-0.txt': 4, 'Q1-Dataset/pg11.txt': 1, 'Q1-Dataset/pg2600.txt': 7, 'Q1-Dataset/pg345.txt': 1, 'Q1-Dataset/pg64317.txt': 1, 'Q1-Dataset/pg70815.txt': 2, 'Q1-Dataset/1080-0.txt': 1, 'Q1-Dataset/pg70817.txt': 1, 'Q1-Dataset/pg1998.txt': 2}, 'no': {'Q1-Dataset/pg1513.txt': 111, 'Q1-Dataset/2160-0.txt': 469, 'Q1-Dataset/pg11.txt': 96, 'Q1-Dataset/pg2600.txt': 1402, 'Q1-Dataset/pg345.txt': 486, 'Q1-Dataset/pg64317.txt': 111, 'Q1-Dataset/pg70815.txt': 273, 'Q1-Dataset/1080-0.txt': 22, 'Q1-Dataset/pg70817.txt': 78, 'Q1-Dataset/pg1998.txt': 282}, 'ein': {'Q1-Dataset/pg1513.txt': 1, 'Q1-Dataset/2160-0.txt': 1, 'Q1-Dataset/pg11.txt': 1, 'Q1-Dataset/pg2600.txt': 2, 'Q1-Dataset/pg345.txt': 1, 'Q1-Dataset/pg64317.txt': 1, 'Q1-Dataset/pg70815.txt': 1, 'Q1-Dataset/1080-0.txt': 1, 'Q1-Dataset/pg70817.txt': 1, 'Q1-Dataset/pg1998.txt': 1}, 'four': {'Q1-Dataset/pg1513.txt': 2, 'Q1-Dataset/2160-0.txt': 43, 'Q1-Dataset/pg11.txt': 6, 'Q1-Dataset/pg2600.txt': 103, 'Q1-Dataset/pg345.txt': 24, 'Q1-Dataset/pg64317.txt': 26, 'Q1-Dataset/pg70815.txt': 37, 'Q1-Dataset/1080-0.txt': 5, 'Q1-Dataset/pg70817.txt': 2, 'Q1-Dataset/pg1998.txt': 3}, 'die': {'Q1-Dataset/pg1513.txt': 23, 'Q1-Dataset/2160-0.txt': 8, 'Q1-Dataset/pg11.txt': 1, 'Q1-Dataset/pg2600.txt': 67, 'Q1-Dataset/pg345.txt': 43, 'Q1-Dataset/pg64317.txt': 1, 'Q1-Dataset/pg70815.txt': 16, 'Q1-Dataset/1080-0.txt': 1, 'Q1-Dataset/pg70817.txt': 3, 'Q1-Dataset/pg1998.txt': 32}, 'charities': {'Q1-Dataset/pg1513.txt': 1, 'Q1-Dataset/2160-0.txt': 3, 'Q1-Dataset/pg11.txt': 1, 'Q1-Dataset/pg2600.txt': 1, 'Q1-Dataset/pg345.txt': 1, 'Q1-Dataset/pg64317.txt': 1, 'Q1-Dataset/pg70815.txt': 1, 'Q1-Dataset/1080-0.txt': 1, 'Q1-Dataset/pg70817.txt': 1, 'Q1-Dataset/pg1998.txt': 1}, 'appears': {'Q1-Dataset/pg1513.txt': 2, 'Q1-Dataset/2160-0.txt': 16, 'Q1-Dataset/pg11.txt': 1, 'Q1-Dataset/pg2600.txt': 24, 'Q1-Dataset/pg345.txt': 2, 'Q1-Dataset/pg64317.txt': 2, 'Q1-Dataset/pg70815.txt': 1, 'Q1-Dataset/1080-0.txt': 1, 'Q1-Dataset/pg70817.txt': 1, 'Q1-Dataset/pg1998.txt': 4}, 'thousand': {'Q1-Dataset/pg1513.txt': 7, 'Q1-Dataset/2160-0.txt': 52, 'Q1-Dataset/pg11.txt': 2, 'Q1-Dataset/pg2600.txt': 168, 'Q1-Dataset/pg345.txt': 10, 'Q1-Dataset/pg64317.txt': 6, 'Q1-Dataset/pg70815.txt': 10, 'Q1-Dataset/1080-0.txt': 15, 'Q1-Dataset/pg70817.txt': 1, 'Q1-Dataset/pg1998.txt': 23}, 'equipment': {'Q1-Dataset/pg1513.txt': 3, 'Q1-Dataset/2160-0.txt': 3, 'Q1-Dataset/pg11.txt': 3, 'Q1-Dataset/pg2600.txt': 11, 'Q1-Dataset/pg345.txt': 5, 'Q1-Dataset/pg64317.txt': 3, 'Q1-Dataset/pg70815.txt': 4, 'Q1-Dataset/1080-0.txt': 3, 'Q1-Dataset/pg70817.txt': 3, 'Q1-Dataset/pg1998.txt': 3}, 'demand': {'Q1-Dataset/pg1513.txt': 2, 'Q1-Dataset/2160-0.txt': 8, 'Q1-Dataset/pg11.txt': 1, 'Q1-Dataset/pg2600.txt': 31, 'Q1-Dataset/pg345.txt': 2, 'Q1-Dataset/pg64317.txt': 4, 'Q1-Dataset/pg70815.txt': 2, 'Q1-Dataset/1080-0.txt': 2, 'Q1-Dataset/pg70817.txt': 1, 'Q1-Dataset/pg1998.txt': 1}, 'is': {'Q1-Dataset/pg1513.txt': 366, 'Q1-Dataset/2160-0.txt': 1319, 'Q1-Dataset/pg11.txt': 116, 'Q1-Dataset/pg2600.txt': 3321, 'Q1-Dataset/pg345.txt': 1521, 'Q1-Dataset/pg64317.txt': 126, 'Q1-Dataset/pg70815.txt': 404, 'Q1-Dataset/1080-0.txt': 43, 'Q1-Dataset/pg70817.txt': 59, 'Q1-Dataset/pg1998.txt': 1816}, 'support': {'Q1-Dataset/pg1513.txt': 4, 'Q1-Dataset/2160-0.txt': 16, 'Q1-Dataset/pg11.txt': 4, 'Q1-Dataset/pg2600.txt': 20, 'Q1-Dataset/pg345.txt': 5, 'Q1-Dataset/pg64317.txt': 6, 'Q1-Dataset/pg70815.txt': 10, 'Q1-Dataset/1080-0.txt': 5, 'Q1-Dataset/pg70817.txt': 4, 'Q1-Dataset/pg1998.txt': 6}, 'bring': {'Q1-Dataset/pg1513.txt': 11, 'Q1-Dataset/2160-0.txt': 25, 'Q1-Dataset/pg11.txt': 3, 'Q1-Dataset/pg2600.txt': 83, 'Q1-Dataset/pg345.txt': 32, 'Q1-Dataset/pg64317.txt': 4, 'Q1-Dataset/pg70815.txt': 3, 'Q1-Dataset/1080-0.txt': 2, 'Q1-Dataset/pg70817.txt': 4, 'Q1-Dataset/pg1998.txt': 13}, 'though': {'Q1-Dataset/pg1513.txt': 11, 'Q1-Dataset/2160-0.txt': 130, 'Q1-Dataset/pg11.txt': 11, 'Q1-Dataset/pg2600.txt': 443, 'Q1-Dataset/pg345.txt': 216, 'Q1-Dataset/pg64317.txt': 34, 'Q1-Dataset/pg70815.txt': 75, 'Q1-Dataset/1080-0.txt': 1, 'Q1-Dataset/pg70817.txt': 5, 'Q1-Dataset/pg1998.txt': 29}, 'opportunity': {'Q1-Dataset/pg1513.txt': 2, 'Q1-Dataset/2160-0.txt': 33, 'Q1-Dataset/pg11.txt': 9, 'Q1-Dataset/pg2600.txt': 33, 'Q1-Dataset/pg345.txt': 23, 'Q1-Dataset/pg64317.txt': 4, 'Q1-Dataset/pg70815.txt': 13, 'Q1-Dataset/1080-0.txt': 1, 'Q1-Dataset/pg70817.txt': 1, 'Q1-Dataset/pg1998.txt': 4}, 'renamed': {'Q1-Dataset/pg1513.txt': 1, 'Q1-Dataset/2160-0.txt': 1, 'Q1-Dataset/pg11.txt': 1, 'Q1-Dataset/pg2600.txt': 1, 'Q1-Dataset/pg345.txt': 1, 'Q1-Dataset/pg64317.txt': 1, 'Q1-Dataset/pg70815.txt': 1, 'Q1-Dataset/1080-0.txt': 1, 'Q1-Dataset/pg70817.txt': 1, 'Q1-Dataset/pg1998.txt': 1}, 'thus': {'Q1-Dataset/pg1513.txt': 10, 'Q1-Dataset/2160-0.txt': 26, 'Q1-Dataset/pg11.txt': 1, 'Q1-Dataset/pg2600.txt': 27, 'Q1-Dataset/pg345.txt': 27, 'Q1-Dataset/pg64317.txt': 2, 'Q1-Dataset/pg70815.txt': 37, 'Q1-Dataset/1080-0.txt': 3, 'Q1-Dataset/pg70817.txt': 1, 'Q1-Dataset/pg1998.txt': 386}, 'till': {'Q1-Dataset/pg1513.txt': 22, 'Q1-Dataset/2160-0.txt': 85, 'Q1-Dataset/pg11.txt': 21, 'Q1-Dataset/pg2600.txt': 173, 'Q1-Dataset/pg345.txt': 133, 'Q1-Dataset/pg64317.txt': 7, 'Q1-Dataset/pg70815.txt': 1, 'Q1-Dataset/1080-0.txt': 3, 'Q1-Dataset/pg70817.txt': 5, 'Q1-Dataset/pg1998.txt': 4}, 'making': {'Q1-Dataset/pg1513.txt': 3, 'Q1-Dataset/2160-0.txt': 41, 'Q1-Dataset/pg11.txt': 8, 'Q1-Dataset/pg2600.txt': 107, 'Q1-Dataset/pg345.txt': 30, 'Q1-Dataset/pg64317.txt': 11, 'Q1-Dataset/pg70815.txt': 9, 'Q1-Dataset/1080-0.txt': 4, 'Q1-Dataset/pg70817.txt': 1, 'Q1-Dataset/pg1998.txt': 5}, 'derive': {'Q1-Dataset/pg1513.txt': 1, 'Q1-Dataset/2160-0.txt': 5, 'Q1-Dataset/pg11.txt': 1, 'Q1-Dataset/pg2600.txt': 2, 'Q1-Dataset/pg345.txt': 1, 'Q1-Dataset/pg64317.txt': 1, 'Q1-Dataset/pg70815.txt': 1, 'Q1-Dataset/1080-0.txt': 1, 'Q1-Dataset/pg70817.txt': 1, 'Q1-Dataset/pg1998.txt': 1}, 'prohibition': {'Q1-Dataset/pg1513.txt': 1, 'Q1-Dataset/2160-0.txt': 1, 'Q1-Dataset/pg11.txt': 1, 'Q1-Dataset/pg2600.txt': 1, 'Q1-Dataset/pg345.txt': 1, 'Q1-Dataset/pg64317.txt': 1, 'Q1-Dataset/pg70815.txt': 1, 'Q1-Dataset/1080-0.txt': 1, 'Q1-Dataset/pg70817.txt': 1, 'Q1-Dataset/pg1998.txt': 2}, 'solicit': {'Q1-Dataset/pg1513.txt': 2, 'Q1-Dataset/2160-0.txt': 5, 'Q1-Dataset/pg11.txt': 2, 'Q1-Dataset/pg2600.txt': 3, 'Q1-Dataset/pg345.txt': 2, 'Q1-Dataset/pg64317.txt': 2, 'Q1-Dataset/pg70815.txt': 2, 'Q1-Dataset/1080-0.txt': 2, 'Q1-Dataset/pg70817.txt': 2, 'Q1-Dataset/pg1998.txt': 6}, 'manager': {'Q1-Dataset/pg1513.txt': 1, 'Q1-Dataset/2160-0.txt': 2, 'Q1-Dataset/pg11.txt': 1, 'Q1-Dataset/pg2600.txt': 3, 'Q1-Dataset/pg345.txt': 1, 'Q1-Dataset/pg64317.txt': 1, 'Q1-Dataset/pg70815.txt': 1, 'Q1-Dataset/1080-0.txt': 1, 'Q1-Dataset/pg70817.txt': 1, 'Q1-Dataset/pg1998.txt': 1}, 'free': {'Q1-Dataset/pg1513.txt': 7, 'Q1-Dataset/2160-0.txt': 26, 'Q1-Dataset/pg11.txt': 8, 'Q1-Dataset/pg2600.txt': 154, 'Q1-Dataset/pg345.txt': 41, 'Q1-Dataset/pg64317.txt': 9, 'Q1-Dataset/pg70815.txt': 23, 'Q1-Dataset/1080-0.txt': 5, 'Q1-Dataset/pg70817.txt': 5, 'Q1-Dataset/pg1998.txt': 43}, 'send': {'Q1-Dataset/pg1513.txt': 14, 'Q1-Dataset/2160-0.txt': 28, 'Q1-Dataset/pg11.txt': 2, 'Q1-Dataset/pg2600.txt': 69, 'Q1-Dataset/pg345.txt': 32, 'Q1-Dataset/pg64317.txt': 3, 'Q1-Dataset/pg70815.txt': 6, 'Q1-Dataset/1080-0.txt': 1, 'Q1-Dataset/pg70817.txt': 1, 'Q1-Dataset/pg1998.txt': 3}, 'indicate': {'Q1-Dataset/pg1513.txt': 1, 'Q1-Dataset/2160-0.txt': 2, 'Q1-Dataset/pg11.txt': 1, 'Q1-Dataset/pg2600.txt': 9, 'Q1-Dataset/pg345.txt': 2, 'Q1-Dataset/pg64317.txt': 2, 'Q1-Dataset/pg70815.txt': 4, 'Q1-Dataset/1080-0.txt': 1, 'Q1-Dataset/pg70817.txt': 1, 'Q1-Dataset/pg1998.txt': 2}, 'bear': {'Q1-Dataset/pg1513.txt': 12, 'Q1-Dataset/2160-0.txt': 39, 'Q1-Dataset/pg11.txt': 1, 'Q1-Dataset/pg2600.txt': 55, 'Q1-Dataset/pg345.txt': 24, 'Q1-Dataset/pg64317.txt': 2, 'Q1-Dataset/pg70815.txt': 24, 'Q1-Dataset/1080-0.txt': 1, 'Q1-Dataset/pg70817.txt': 2, 'Q1-Dataset/pg1998.txt': 21}, 'viewing': {'Q1-Dataset/pg1513.txt': 1, 'Q1-Dataset/2160-0.txt': 2, 'Q1-Dataset/pg11.txt': 1, 'Q1-Dataset/pg2600.txt': 1, 'Q1-Dataset/pg345.txt': 1, 'Q1-Dataset/pg64317.txt': 1, 'Q1-Dataset/pg70815.txt': 1, 'Q1-Dataset/1080-0.txt': 1, 'Q1-Dataset/pg70817.txt': 1, 'Q1-Dataset/pg1998.txt': 3}, 'strength': {'Q1-Dataset/pg1513.txt': 6, 'Q1-Dataset/2160-0.txt': 3, 'Q1-Dataset/pg11.txt': 1, 'Q1-Dataset/pg2600.txt': 118, 'Q1-Dataset/pg345.txt': 45, 'Q1-Dataset/pg64317.txt': 1, 'Q1-Dataset/pg70815.txt': 16, 'Q1-Dataset/1080-0.txt': 1, 'Q1-Dataset/pg70817.txt': 5, 'Q1-Dataset/pg1998.txt': 16}, 'head': {'Q1-Dataset/pg1513.txt': 16, 'Q1-Dataset/2160-0.txt': 75, 'Q1-Dataset/pg11.txt': 48, 'Q1-Dataset/pg2600.txt': 565, 'Q1-Dataset/pg345.txt': 105, 'Q1-Dataset/pg64317.txt': 40, 'Q1-Dataset/pg70815.txt': 77, 'Q1-Dataset/1080-0.txt': 1, 'Q1-Dataset/pg70817.txt': 26, 'Q1-Dataset/pg1998.txt': 49}, 'rules': {'Q1-Dataset/pg1513.txt': 1, 'Q1-Dataset/2160-0.txt': 7, 'Q1-Dataset/pg11.txt': 4, 'Q1-Dataset/pg2600.txt': 28, 'Q1-Dataset/pg345.txt': 3, 'Q1-Dataset/pg64317.txt': 3, 'Q1-Dataset/pg70815.txt': 1, 'Q1-Dataset/1080-0.txt': 1, 'Q1-Dataset/pg70817.txt': 1, 'Q1-Dataset/pg1998.txt': 1}, 'phrase': {'Q1-Dataset/pg1513.txt': 5, 'Q1-Dataset/2160-0.txt': 7, 'Q1-Dataset/pg11.txt': 4, 'Q1-Dataset/pg2600.txt': 15, 'Q1-Dataset/pg345.txt': 9, 'Q1-Dataset/pg64317.txt': 8, 'Q1-Dataset/pg70815.txt': 4, 'Q1-Dataset/1080-0.txt': 4, 'Q1-Dataset/pg70817.txt': 4, 'Q1-Dataset/pg1998.txt': 5}, 'obtain': {'Q1-Dataset/pg1513.txt': 3, 'Q1-Dataset/2160-0.txt': 5, 'Q1-Dataset/pg11.txt': 3, 'Q1-Dataset/pg2600.txt': 25, 'Q1-Dataset/pg345.txt': 4, 'Q1-Dataset/pg64317.txt': 3, 'Q1-Dataset/pg70815.txt': 7, 'Q1-Dataset/1080-0.txt': 3, 'Q1-Dataset/pg70817.txt': 4, 'Q1-Dataset/pg1998.txt': 5}, 'share': {'Q1-Dataset/pg1513.txt': 3, 'Q1-Dataset/2160-0.txt': 17, 'Q1-Dataset/pg11.txt': 2, 'Q1-Dataset/pg2600.txt': 29, 'Q1-Dataset/pg345.txt': 4, 'Q1-Dataset/pg64317.txt': 4, 'Q1-Dataset/pg70815.txt': 4, 'Q1-Dataset/1080-0.txt': 1, 'Q1-Dataset/pg70817.txt': 3, 'Q1-Dataset/pg1998.txt': 3}, 'displayed': {'Q1-Dataset/pg1513.txt': 1, 'Q1-Dataset/2160-0.txt': 10, 'Q1-Dataset/pg11.txt': 1, 'Q1-Dataset/pg2600.txt': 8, 'Q1-Dataset/pg345.txt': 5, 'Q1-Dataset/pg64317.txt': 1, 'Q1-Dataset/pg70815.txt': 1, 'Q1-Dataset/1080-0.txt': 1, 'Q1-Dataset/pg70817.txt': 1, 'Q1-Dataset/pg1998.txt': 1}, 'synonymous': {'Q1-Dataset/pg1513.txt': 1, 'Q1-Dataset/2160-0.txt': 1, 'Q1-Dataset/pg11.txt': 1, 'Q1-Dataset/pg2600.txt': 1, 'Q1-Dataset/pg345.txt': 1, 'Q1-Dataset/pg64317.txt': 1, 'Q1-Dataset/pg70815.txt': 2, 'Q1-Dataset/1080-0.txt': 1, 'Q1-Dataset/pg70817.txt': 1, 'Q1-Dataset/pg1998.txt': 1}, 'compliance': {'Q1-Dataset/pg1513.txt': 5, 'Q1-Dataset/2160-0.txt': 5, 'Q1-Dataset/pg11.txt': 5, 'Q1-Dataset/pg2600.txt': 5, 'Q1-Dataset/pg345.txt': 6, 'Q1-Dataset/pg64317.txt': 5, 'Q1-Dataset/pg70815.txt': 5, 'Q1-Dataset/1080-0.txt': 5, 'Q1-Dataset/pg70817.txt': 5, 'Q1-Dataset/pg1998.txt': 5}, 'widest': {'Q1-Dataset/pg1513.txt': 2, 'Q1-Dataset/2160-0.txt': 2, 'Q1-Dataset/pg11.txt': 2, 'Q1-Dataset/pg2600.txt': 2, 'Q1-Dataset/pg345.txt': 2, 'Q1-Dataset/pg64317.txt': 2, 'Q1-Dataset/pg70815.txt': 2, 'Q1-Dataset/1080-0.txt': 2, 'Q1-Dataset/pg70817.txt': 2, 'Q1-Dataset/pg1998.txt': 3}, 'indirect': {'Q1-Dataset/pg1513.txt': 1, 'Q1-Dataset/2160-0.txt': 2, 'Q1-Dataset/pg11.txt': 1, 'Q1-Dataset/pg2600.txt': 1, 'Q1-Dataset/pg345.txt': 2, 'Q1-Dataset/pg64317.txt': 1, 'Q1-Dataset/pg70815.txt': 1, 'Q1-Dataset/1080-0.txt': 1, 'Q1-Dataset/pg70817.txt': 1, 'Q1-Dataset/pg1998.txt': 2}, 'looked': {'Q1-Dataset/pg1513.txt': 1, 'Q1-Dataset/2160-0.txt': 37, 'Q1-Dataset/pg11.txt': 45, 'Q1-Dataset/pg2600.txt': 647, 'Q1-Dataset/pg345.txt': 184, 'Q1-Dataset/pg64317.txt': 82, 'Q1-Dataset/pg70815.txt': 57, 'Q1-Dataset/1080-0.txt': 1, 'Q1-Dataset/pg70817.txt': 33, 'Q1-Dataset/pg1998.txt': 37}, 'poor': {'Q1-Dataset/pg1513.txt': 18, 'Q1-Dataset/2160-0.txt': 161, 'Q1-Dataset/pg11.txt': 27, 'Q1-Dataset/pg2600.txt': 75, 'Q1-Dataset/pg345.txt': 191, 'Q1-Dataset/pg64317.txt': 8, 'Q1-Dataset/pg70815.txt': 1, 'Q1-Dataset/1080-0.txt': 7, 'Q1-Dataset/pg70817.txt': 5, 'Q1-Dataset/pg1998.txt': 27}, 'countries': {'Q1-Dataset/pg1513.txt': 1, 'Q1-Dataset/2160-0.txt': 6, 'Q1-Dataset/pg11.txt': 1, 'Q1-Dataset/pg2600.txt': 2, 'Q1-Dataset/pg345.txt': 3, 'Q1-Dataset/pg64317.txt': 1, 'Q1-Dataset/pg70815.txt': 4, 'Q1-Dataset/1080-0.txt': 2, 'Q1-Dataset/pg70817.txt': 1, 'Q1-Dataset/pg1998.txt': 4}, 'refund': {'Q1-Dataset/pg1513.txt': 10, 'Q1-Dataset/2160-0.txt': 10, 'Q1-Dataset/pg11.txt': 10, 'Q1-Dataset/pg2600.txt': 10, 'Q1-Dataset/pg345.txt': 10, 'Q1-Dataset/pg64317.txt': 10, 'Q1-Dataset/pg70815.txt': 10, 'Q1-Dataset/1080-0.txt': 10, 'Q1-Dataset/pg70817.txt': 10, 'Q1-Dataset/pg1998.txt': 10}, 'freely': {'Q1-Dataset/pg1513.txt': 4, 'Q1-Dataset/2160-0.txt': 15, 'Q1-Dataset/pg11.txt': 4, 'Q1-Dataset/pg2600.txt': 16, 'Q1-Dataset/pg345.txt': 17, 'Q1-Dataset/pg64317.txt': 5, 'Q1-Dataset/pg70815.txt': 5, 'Q1-Dataset/1080-0.txt': 5, 'Q1-Dataset/pg70817.txt': 5, 'Q1-Dataset/pg1998.txt': 5}, 'an': {'Q1-Dataset/pg1513.txt': 76, 'Q1-Dataset/2160-0.txt': 556, 'Q1-Dataset/pg11.txt': 62, 'Q1-Dataset/pg2600.txt': 1623, 'Q1-Dataset/pg345.txt': 360, 'Q1-Dataset/pg64317.txt': 191, 'Q1-Dataset/pg70815.txt': 248, 'Q1-Dataset/1080-0.txt': 14, 'Q1-Dataset/pg70817.txt': 104, 'Q1-Dataset/pg1998.txt': 243}, 'volunteer': {'Q1-Dataset/pg1513.txt': 1, 'Q1-Dataset/2160-0.txt': 1, 'Q1-Dataset/pg11.txt': 1, 'Q1-Dataset/pg2600.txt': 3, 'Q1-Dataset/pg345.txt': 1, 'Q1-Dataset/pg64317.txt': 1, 'Q1-Dataset/pg70815.txt': 1, 'Q1-Dataset/1080-0.txt': 2, 'Q1-Dataset/pg70817.txt': 1, 'Q1-Dataset/pg1998.txt': 1}, 'said': {'Q1-Dataset/pg1513.txt': 14, 'Q1-Dataset/2160-0.txt': 278, 'Q1-Dataset/pg11.txt': 460, 'Q1-Dataset/pg2600.txt': 2834, 'Q1-Dataset/pg345.txt': 569, 'Q1-Dataset/pg64317.txt': 233, 'Q1-Dataset/pg70815.txt': 386, 'Q1-Dataset/1080-0.txt': 3, 'Q1-Dataset/pg70817.txt': 37, 'Q1-Dataset/pg1998.txt': 191}, 'charitable': {'Q1-Dataset/pg1513.txt': 1, 'Q1-Dataset/2160-0.txt': 5, 'Q1-Dataset/pg11.txt': 1, 'Q1-Dataset/pg2600.txt': 6, 'Q1-Dataset/pg345.txt': 1, 'Q1-Dataset/pg64317.txt': 1, 'Q1-Dataset/pg70815.txt': 1, 'Q1-Dataset/1080-0.txt': 1, 'Q1-Dataset/pg70817.txt': 2, 'Q1-Dataset/pg1998.txt': 1}, 'at': {'Q1-Dataset/pg1513.txt': 83, 'Q1-Dataset/2160-0.txt': 1090, 'Q1-Dataset/pg11.txt': 221, 'Q1-Dataset/pg2600.txt': 4533, 'Q1-Dataset/pg345.txt': 1091, 'Q1-Dataset/pg64317.txt': 417, 'Q1-Dataset/pg70815.txt': 408, 'Q1-Dataset/1080-0.txt': 42, 'Q1-Dataset/pg70817.txt': 211, 'Q1-Dataset/pg1998.txt': 506}, 'tax': {'Q1-Dataset/pg1513.txt': 6, 'Q1-Dataset/2160-0.txt': 8, 'Q1-Dataset/pg11.txt': 6, 'Q1-Dataset/pg2600.txt': 6, 'Q1-Dataset/pg345.txt': 9, 'Q1-Dataset/pg64317.txt': 6, 'Q1-Dataset/pg70815.txt': 6, 'Q1-Dataset/1080-0.txt': 6, 'Q1-Dataset/pg70817.txt': 6, 'Q1-Dataset/pg1998.txt': 6}, 'earth': {'Q1-Dataset/pg1513.txt': 19, 'Q1-Dataset/2160-0.txt': 25, 'Q1-Dataset/pg11.txt': 4, 'Q1-Dataset/pg2600.txt': 57, 'Q1-Dataset/pg345.txt': 36, 'Q1-Dataset/pg64317.txt': 3, 'Q1-Dataset/pg70815.txt': 26, 'Q1-Dataset/1080-0.txt': 1, 'Q1-Dataset/pg70817.txt': 7, 'Q1-Dataset/pg1998.txt': 117}, 'requirements': {'Q1-Dataset/pg1513.txt': 4, 'Q1-Dataset/2160-0.txt': 4, 'Q1-Dataset/pg11.txt': 4, 'Q1-Dataset/pg2600.txt': 6, 'Q1-Dataset/pg345.txt': 6, 'Q1-Dataset/pg64317.txt': 4, 'Q1-Dataset/pg70815.txt': 4, 'Q1-Dataset/1080-0.txt': 4, 'Q1-Dataset/pg70817.txt': 4, 'Q1-Dataset/pg1998.txt': 4}, 'archive': {'Q1-Dataset/pg1513.txt': 13, 'Q1-Dataset/2160-0.txt': 13, 'Q1-Dataset/pg11.txt': 13, 'Q1-Dataset/pg2600.txt': 13, 'Q1-Dataset/pg345.txt': 13, 'Q1-Dataset/pg64317.txt': 13, 'Q1-Dataset/pg70815.txt': 13, 'Q1-Dataset/1080-0.txt': 13, 'Q1-Dataset/pg70817.txt': 13, 'Q1-Dataset/pg1998.txt': 13}, 'mission': {'Q1-Dataset/pg1513.txt': 4, 'Q1-Dataset/2160-0.txt': 6, 'Q1-Dataset/pg11.txt': 4, 'Q1-Dataset/pg2600.txt': 15, 'Q1-Dataset/pg345.txt': 6, 'Q1-Dataset/pg64317.txt': 4, 'Q1-Dataset/pg70815.txt': 9, 'Q1-Dataset/1080-0.txt': 4, 'Q1-Dataset/pg70817.txt': 4, 'Q1-Dataset/pg1998.txt': 4}, 'following': {'Q1-Dataset/pg1513.txt': 5, 'Q1-Dataset/2160-0.txt': 21, 'Q1-Dataset/pg11.txt': 4, 'Q1-Dataset/pg2600.txt': 74, 'Q1-Dataset/pg345.txt': 17, 'Q1-Dataset/pg64317.txt': 9, 'Q1-Dataset/pg70815.txt': 25, 'Q1-Dataset/1080-0.txt': 4, 'Q1-Dataset/pg70817.txt': 6, 'Q1-Dataset/pg1998.txt': 11}, 'imposed': {'Q1-Dataset/pg1513.txt': 1, 'Q1-Dataset/2160-0.txt': 2, 'Q1-Dataset/pg11.txt': 1, 'Q1-Dataset/pg2600.txt': 4, 'Q1-Dataset/pg345.txt': 1, 'Q1-Dataset/pg64317.txt': 1, 'Q1-Dataset/pg70815.txt': 1, 'Q1-Dataset/1080-0.txt': 1, 'Q1-Dataset/pg70817.txt': 1, 'Q1-Dataset/pg1998.txt': 4}, 'almost': {'Q1-Dataset/pg1513.txt': 5, 'Q1-Dataset/2160-0.txt': 31, 'Q1-Dataset/pg11.txt': 8, 'Q1-Dataset/pg2600.txt': 154, 'Q1-Dataset/pg345.txt': 70, 'Q1-Dataset/pg64317.txt': 22, 'Q1-Dataset/pg70815.txt': 92, 'Q1-Dataset/1080-0.txt': 3, 'Q1-Dataset/pg70817.txt': 14, 'Q1-Dataset/pg1998.txt': 29}, 'which': {'Q1-Dataset/pg1513.txt': 69, 'Q1-Dataset/2160-0.txt': 1024, 'Q1-Dataset/pg11.txt': 56, 'Q1-Dataset/pg2600.txt': 2017, 'Q1-Dataset/pg345.txt': 656, 'Q1-Dataset/pg64317.txt': 72, 'Q1-Dataset/pg70815.txt': 400, 'Q1-Dataset/1080-0.txt': 30, 'Q1-Dataset/pg70817.txt': 132, 'Q1-Dataset/pg1998.txt': 468}, 'most': {'Q1-Dataset/pg1513.txt': 22, 'Q1-Dataset/2160-0.txt': 177, 'Q1-Dataset/pg11.txt': 14, 'Q1-Dataset/pg2600.txt': 328, 'Q1-Dataset/pg345.txt': 80, 'Q1-Dataset/pg64317.txt': 36, 'Q1-Dataset/pg70815.txt': 37, 'Q1-Dataset/1080-0.txt': 14, 'Q1-Dataset/pg70817.txt': 17, 'Q1-Dataset/pg1998.txt': 149}, 'paperwork': {'Q1-Dataset/pg1513.txt': 1, 'Q1-Dataset/2160-0.txt': 1, 'Q1-Dataset/pg11.txt': 1, 'Q1-Dataset/pg2600.txt': 1, 'Q1-Dataset/pg345.txt': 1, 'Q1-Dataset/pg64317.txt': 1, 'Q1-Dataset/pg70815.txt': 1, 'Q1-Dataset/1080-0.txt': 1, 'Q1-Dataset/pg70817.txt': 1, 'Q1-Dataset/pg1998.txt': 1}, 'bound': {'Q1-Dataset/pg1513.txt': 10, 'Q1-Dataset/2160-0.txt': 14, 'Q1-Dataset/pg11.txt': 3, 'Q1-Dataset/pg2600.txt': 44, 'Q1-Dataset/pg345.txt': 12, 'Q1-Dataset/pg64317.txt': 6, 'Q1-Dataset/pg70815.txt': 11, 'Q1-Dataset/1080-0.txt': 2, 'Q1-Dataset/pg70817.txt': 6, 'Q1-Dataset/pg1998.txt': 5}, 'alone': {'Q1-Dataset/pg1513.txt': 16, 'Q1-Dataset/2160-0.txt': 10, 'Q1-Dataset/pg11.txt': 5, 'Q1-Dataset/pg2600.txt': 237, 'Q1-Dataset/pg345.txt': 81, 'Q1-Dataset/pg64317.txt': 32, 'Q1-Dataset/pg70815.txt': 37, 'Q1-Dataset/1080-0.txt': 2, 'Q1-Dataset/pg70817.txt': 6, 'Q1-Dataset/pg1998.txt': 61}, 'copy': {'Q1-Dataset/pg1513.txt': 12, 'Q1-Dataset/2160-0.txt': 13, 'Q1-Dataset/pg11.txt': 12, 'Q1-Dataset/pg2600.txt': 16, 'Q1-Dataset/pg345.txt': 21, 'Q1-Dataset/pg64317.txt': 18, 'Q1-Dataset/pg70815.txt': 13, 'Q1-Dataset/1080-0.txt': 12, 'Q1-Dataset/pg70817.txt': 12, 'Q1-Dataset/pg1998.txt': 14}, 'copies': {'Q1-Dataset/pg1513.txt': 7, 'Q1-Dataset/2160-0.txt': 7, 'Q1-Dataset/pg11.txt': 7, 'Q1-Dataset/pg2600.txt': 9, 'Q1-Dataset/pg345.txt': 9, 'Q1-Dataset/pg64317.txt': 8, 'Q1-Dataset/pg70815.txt': 8, 'Q1-Dataset/1080-0.txt': 7, 'Q1-Dataset/pg70817.txt': 7, 'Q1-Dataset/pg1998.txt': 10}, 'and': {'Q1-Dataset/pg1513.txt': 803, 'Q1-Dataset/2160-0.txt': 5053, 'Q1-Dataset/pg11.txt': 913, 'Q1-Dataset/pg2600.txt': 22147, 'Q1-Dataset/pg345.txt': 5894, 'Q1-Dataset/pg64317.txt': 1594, 'Q1-Dataset/pg70815.txt': 2541, 'Q1-Dataset/1080-0.txt': 184, 'Q1-Dataset/pg70817.txt': 782, 'Q1-Dataset/pg1998.txt': 4590}, 'glad': {'Q1-Dataset/pg1513.txt': 2, 'Q1-Dataset/2160-0.txt': 23, 'Q1-Dataset/pg11.txt': 11, 'Q1-Dataset/pg2600.txt': 129, 'Q1-Dataset/pg345.txt': 35, 'Q1-Dataset/pg64317.txt': 11, 'Q1-Dataset/pg70815.txt': 9, 'Q1-Dataset/1080-0.txt': 1, 'Q1-Dataset/pg70817.txt': 3, 'Q1-Dataset/pg1998.txt': 3}, 'five': {'Q1-Dataset/pg1513.txt': 6, 'Q1-Dataset/2160-0.txt': 39, 'Q1-Dataset/pg11.txt': 8, 'Q1-Dataset/pg2600.txt': 85, 'Q1-Dataset/pg345.txt': 19, 'Q1-Dataset/pg64317.txt': 32, 'Q1-Dataset/pg70815.txt': 11, 'Q1-Dataset/1080-0.txt': 1, 'Q1-Dataset/pg70817.txt': 5, 'Q1-Dataset/pg1998.txt': 3}, 'accordance': {'Q1-Dataset/pg1513.txt': 2, 'Q1-Dataset/2160-0.txt': 2, 'Q1-Dataset/pg11.txt': 2, 'Q1-Dataset/pg2600.txt': 7, 'Q1-Dataset/pg345.txt': 5, 'Q1-Dataset/pg64317.txt': 2, 'Q1-Dataset/pg70815.txt': 5, 'Q1-Dataset/1080-0.txt': 2, 'Q1-Dataset/pg70817.txt': 2, 'Q1-Dataset/pg1998.txt': 3}, 'strict': {'Q1-Dataset/pg1513.txt': 1, 'Q1-Dataset/2160-0.txt': 2, 'Q1-Dataset/pg11.txt': 1, 'Q1-Dataset/pg2600.txt': 8, 'Q1-Dataset/pg345.txt': 5, 'Q1-Dataset/pg64317.txt': 1, 'Q1-Dataset/pg70815.txt': 2, 'Q1-Dataset/1080-0.txt': 1, 'Q1-Dataset/pg70817.txt': 1, 'Q1-Dataset/pg1998.txt': 2}, 'goals': {'Q1-Dataset/pg1513.txt': 1, 'Q1-Dataset/2160-0.txt': 1, 'Q1-Dataset/pg11.txt': 1, 'Q1-Dataset/pg2600.txt': 1, 'Q1-Dataset/pg345.txt': 1, 'Q1-Dataset/pg64317.txt': 1, 'Q1-Dataset/pg70815.txt': 1, 'Q1-Dataset/1080-0.txt': 1, 'Q1-Dataset/pg70817.txt': 1, 'Q1-Dataset/pg1998.txt': 5}, 'displaying': {'Q1-Dataset/pg1513.txt': 4, 'Q1-Dataset/2160-0.txt': 8, 'Q1-Dataset/pg11.txt': 4, 'Q1-Dataset/pg2600.txt': 9, 'Q1-Dataset/pg345.txt': 4, 'Q1-Dataset/pg64317.txt': 4, 'Q1-Dataset/pg70815.txt': 4, 'Q1-Dataset/1080-0.txt': 4, 'Q1-Dataset/pg70817.txt': 5, 'Q1-Dataset/pg1998.txt': 4}, 'required': {'Q1-Dataset/pg1513.txt': 1, 'Q1-Dataset/2160-0.txt': 9, 'Q1-Dataset/pg11.txt': 1, 'Q1-Dataset/pg2600.txt': 17, 'Q1-Dataset/pg345.txt': 10, 'Q1-Dataset/pg64317.txt': 1, 'Q1-Dataset/pg70815.txt': 3, 'Q1-Dataset/1080-0.txt': 1, 'Q1-Dataset/pg70817.txt': 4, 'Q1-Dataset/pg1998.txt': 6}, 'remain': {'Q1-Dataset/pg1513.txt': 3, 'Q1-Dataset/2160-0.txt': 5, 'Q1-Dataset/pg11.txt': 2, 'Q1-Dataset/pg2600.txt': 77, 'Q1-Dataset/pg345.txt': 23, 'Q1-Dataset/pg64317.txt': 2, 'Q1-Dataset/pg70815.txt': 23, 'Q1-Dataset/1080-0.txt': 3, 'Q1-Dataset/pg70817.txt': 4, 'Q1-Dataset/pg1998.txt': 13}, 'gone': {'Q1-Dataset/pg1513.txt': 33, 'Q1-Dataset/2160-0.txt': 30, 'Q1-Dataset/pg11.txt': 13, 'Q1-Dataset/pg2600.txt': 161, 'Q1-Dataset/pg345.txt': 72, 'Q1-Dataset/pg64317.txt': 23, 'Q1-Dataset/pg70815.txt': 36, 'Q1-Dataset/1080-0.txt': 1, 'Q1-Dataset/pg70817.txt': 18, 'Q1-Dataset/pg1998.txt': 33}, 'warranty': {'Q1-Dataset/pg1513.txt': 2, 'Q1-Dataset/2160-0.txt': 2, 'Q1-Dataset/pg11.txt': 2, 'Q1-Dataset/pg2600.txt': 2, 'Q1-Dataset/pg345.txt': 2, 'Q1-Dataset/pg64317.txt': 2, 'Q1-Dataset/pg70815.txt': 2, 'Q1-Dataset/1080-0.txt': 2, 'Q1-Dataset/pg70817.txt': 2, 'Q1-Dataset/pg1998.txt': 2}, 'knew': {'Q1-Dataset/pg1513.txt': 3, 'Q1-Dataset/2160-0.txt': 35, 'Q1-Dataset/pg11.txt': 15, 'Q1-Dataset/pg2600.txt': 409, 'Q1-Dataset/pg345.txt': 126, 'Q1-Dataset/pg64317.txt': 54, 'Q1-Dataset/pg70815.txt': 89, 'Q1-Dataset/1080-0.txt': 1, 'Q1-Dataset/pg70817.txt': 21, 'Q1-Dataset/pg1998.txt': 16}, 'available': {'Q1-Dataset/pg1513.txt': 2, 'Q1-Dataset/2160-0.txt': 2, 'Q1-Dataset/pg11.txt': 2, 'Q1-Dataset/pg2600.txt': 7, 'Q1-Dataset/pg345.txt': 8, 'Q1-Dataset/pg64317.txt': 2, 'Q1-Dataset/pg70815.txt': 2, 'Q1-Dataset/1080-0.txt': 2, 'Q1-Dataset/pg70817.txt': 2, 'Q1-Dataset/pg1998.txt': 2}, 'any': {'Q1-Dataset/pg1513.txt': 53, 'Q1-Dataset/2160-0.txt': 336, 'Q1-Dataset/pg11.txt': 76, 'Q1-Dataset/pg2600.txt': 502, 'Q1-Dataset/pg345.txt': 322, 'Q1-Dataset/pg64317.txt': 104, 'Q1-Dataset/pg70815.txt': 162, 'Q1-Dataset/1080-0.txt': 45, 'Q1-Dataset/pg70817.txt': 67, 'Q1-Dataset/pg1998.txt': 113}, 'follow': {'Q1-Dataset/pg1513.txt': 8, 'Q1-Dataset/2160-0.txt': 15, 'Q1-Dataset/pg11.txt': 3, 'Q1-Dataset/pg2600.txt': 40, 'Q1-Dataset/pg345.txt': 37, 'Q1-Dataset/pg64317.txt': 5, 'Q1-Dataset/pg70815.txt': 30, 'Q1-Dataset/1080-0.txt': 1, 'Q1-Dataset/pg70817.txt': 2, 'Q1-Dataset/pg1998.txt': 14}, 'you': {'Q1-Dataset/pg1513.txt': 362, 'Q1-Dataset/2160-0.txt': 742, 'Q1-Dataset/pg11.txt': 421, 'Q1-Dataset/pg2600.txt': 3647, 'Q1-Dataset/pg345.txt': 1453, 'Q1-Dataset/pg64317.txt': 528, 'Q1-Dataset/pg70815.txt': 569, 'Q1-Dataset/1080-0.txt': 74, 'Q1-Dataset/pg70817.txt': 134, 'Q1-Dataset/pg1998.txt': 364}, 'by': {'Q1-Dataset/pg1513.txt': 142, 'Q1-Dataset/2160-0.txt': 954, 'Q1-Dataset/pg11.txt': 84, 'Q1-Dataset/pg2600.txt': 2407, 'Q1-Dataset/pg345.txt': 530, 'Q1-Dataset/pg64317.txt': 150, 'Q1-Dataset/pg70815.txt': 382, 'Q1-Dataset/1080-0.txt': 61, 'Q1-Dataset/pg70817.txt': 105, 'Q1-Dataset/pg1998.txt': 313}, 'english': {'Q1-Dataset/pg1513.txt': 1, 'Q1-Dataset/2160-0.txt': 53, 'Q1-Dataset/pg11.txt': 7, 'Q1-Dataset/pg2600.txt': 30, 'Q1-Dataset/pg345.txt': 18, 'Q1-Dataset/pg64317.txt': 2, 'Q1-Dataset/pg70815.txt': 3, 'Q1-Dataset/1080-0.txt': 1, 'Q1-Dataset/pg70817.txt': 2, 'Q1-Dataset/pg1998.txt': 4}, 'pg': {'Q1-Dataset/pg1513.txt': 2, 'Q1-Dataset/2160-0.txt': 1, 'Q1-Dataset/pg11.txt': 1, 'Q1-Dataset/pg2600.txt': 1, 'Q1-Dataset/pg345.txt': 9, 'Q1-Dataset/pg64317.txt': 1, 'Q1-Dataset/pg70815.txt': 1, 'Q1-Dataset/1080-0.txt': 1, 'Q1-Dataset/pg70817.txt': 1, 'Q1-Dataset/pg1998.txt': 2}, 'reports': {'Q1-Dataset/pg1513.txt': 1, 'Q1-Dataset/2160-0.txt': 3, 'Q1-Dataset/pg11.txt': 1, 'Q1-Dataset/pg2600.txt': 47, 'Q1-Dataset/pg345.txt': 1, 'Q1-Dataset/pg64317.txt': 3, 'Q1-Dataset/pg70815.txt': 1, 'Q1-Dataset/1080-0.txt': 1, 'Q1-Dataset/pg70817.txt': 2, 'Q1-Dataset/pg1998.txt': 1}, 'limitation': {'Q1-Dataset/pg1513.txt': 3, 'Q1-Dataset/2160-0.txt': 3, 'Q1-Dataset/pg11.txt': 3, 'Q1-Dataset/pg2600.txt': 4, 'Q1-Dataset/pg345.txt': 4, 'Q1-Dataset/pg64317.txt': 3, 'Q1-Dataset/pg70815.txt': 3, 'Q1-Dataset/1080-0.txt': 3, 'Q1-Dataset/pg70817.txt': 3, 'Q1-Dataset/pg1998.txt': 3}, 'offer': {'Q1-Dataset/pg1513.txt': 2, 'Q1-Dataset/2160-0.txt': 16, 'Q1-Dataset/pg11.txt': 2, 'Q1-Dataset/pg2600.txt': 36, 'Q1-Dataset/pg345.txt': 2, 'Q1-Dataset/pg64317.txt': 1, 'Q1-Dataset/pg70815.txt': 2, 'Q1-Dataset/1080-0.txt': 4, 'Q1-Dataset/pg70817.txt': 1, 'Q1-Dataset/pg1998.txt': 4}, 'disclaimer': {'Q1-Dataset/pg1513.txt': 3, 'Q1-Dataset/2160-0.txt': 3, 'Q1-Dataset/pg11.txt': 3, 'Q1-Dataset/pg2600.txt': 3, 'Q1-Dataset/pg345.txt': 3, 'Q1-Dataset/pg64317.txt': 3, 'Q1-Dataset/pg70815.txt': 3, 'Q1-Dataset/1080-0.txt': 3, 'Q1-Dataset/pg70817.txt': 3, 'Q1-Dataset/pg1998.txt': 3}, 'editions': {'Q1-Dataset/pg1513.txt': 4, 'Q1-Dataset/2160-0.txt': 4, 'Q1-Dataset/pg11.txt': 6, 'Q1-Dataset/pg2600.txt': 4, 'Q1-Dataset/pg345.txt': 4, 'Q1-Dataset/pg64317.txt': 4, 'Q1-Dataset/pg70815.txt': 4, 'Q1-Dataset/1080-0.txt': 4, 'Q1-Dataset/pg70817.txt': 4, 'Q1-Dataset/pg1998.txt': 4}, 'federal': {'Q1-Dataset/pg1513.txt': 2, 'Q1-Dataset/2160-0.txt': 2, 'Q1-Dataset/pg11.txt': 2, 'Q1-Dataset/pg2600.txt': 2, 'Q1-Dataset/pg345.txt': 2, 'Q1-Dataset/pg64317.txt': 2, 'Q1-Dataset/pg70815.txt': 2, 'Q1-Dataset/1080-0.txt': 2, 'Q1-Dataset/pg70817.txt': 2, 'Q1-Dataset/pg1998.txt': 2}, 'preserve': {'Q1-Dataset/pg1513.txt': 1, 'Q1-Dataset/2160-0.txt': 5, 'Q1-Dataset/pg11.txt': 1, 'Q1-Dataset/pg2600.txt': 12, 'Q1-Dataset/pg345.txt': 3, 'Q1-Dataset/pg64317.txt': 1, 'Q1-Dataset/pg70815.txt': 2, 'Q1-Dataset/1080-0.txt': 1, 'Q1-Dataset/pg70817.txt': 1, 'Q1-Dataset/pg1998.txt': 7}, 'harmless': {'Q1-Dataset/pg1513.txt': 1, 'Q1-Dataset/2160-0.txt': 1, 'Q1-Dataset/pg11.txt': 1, 'Q1-Dataset/pg2600.txt': 1, 'Q1-Dataset/pg345.txt': 4, 'Q1-Dataset/pg64317.txt': 1, 'Q1-Dataset/pg70815.txt': 1, 'Q1-Dataset/1080-0.txt': 1, 'Q1-Dataset/pg70817.txt': 3, 'Q1-Dataset/pg1998.txt': 1}, 'received': {'Q1-Dataset/pg1513.txt': 5, 'Q1-Dataset/2160-0.txt': 83, 'Q1-Dataset/pg11.txt': 6, 'Q1-Dataset/pg2600.txt': 204, 'Q1-Dataset/pg345.txt': 22, 'Q1-Dataset/pg64317.txt': 5, 'Q1-Dataset/pg70815.txt': 16, 'Q1-Dataset/1080-0.txt': 5, 'Q1-Dataset/pg70817.txt': 5, 'Q1-Dataset/pg1998.txt': 9}, 'ebooks': {'Q1-Dataset/pg1513.txt': 7, 'Q1-Dataset/2160-0.txt': 7, 'Q1-Dataset/pg11.txt': 7, 'Q1-Dataset/pg2600.txt': 7, 'Q1-Dataset/pg345.txt': 7, 'Q1-Dataset/pg64317.txt': 8, 'Q1-Dataset/pg70815.txt': 7, 'Q1-Dataset/1080-0.txt': 7, 'Q1-Dataset/pg70817.txt': 7, 'Q1-Dataset/pg1998.txt': 7}, 'educational': {'Q1-Dataset/pg1513.txt': 1, 'Q1-Dataset/2160-0.txt': 1, 'Q1-Dataset/pg11.txt': 1, 'Q1-Dataset/pg2600.txt': 5, 'Q1-Dataset/pg345.txt': 1, 'Q1-Dataset/pg64317.txt': 1, 'Q1-Dataset/pg70815.txt': 1, 'Q1-Dataset/1080-0.txt': 1, 'Q1-Dataset/pg70817.txt': 1, 'Q1-Dataset/pg1998.txt': 1}, 'within': {'Q1-Dataset/pg1513.txt': 15, 'Q1-Dataset/2160-0.txt': 54, 'Q1-Dataset/pg11.txt': 5, 'Q1-Dataset/pg2600.txt': 86, 'Q1-Dataset/pg345.txt': 48, 'Q1-Dataset/pg64317.txt': 10, 'Q1-Dataset/pg70815.txt': 63, 'Q1-Dataset/1080-0.txt': 5, 'Q1-Dataset/pg70817.txt': 13, 'Q1-Dataset/pg1998.txt': 11}, 'care': {'Q1-Dataset/pg1513.txt': 6, 'Q1-Dataset/2160-0.txt': 47, 'Q1-Dataset/pg11.txt': 4, 'Q1-Dataset/pg2600.txt': 48, 'Q1-Dataset/pg345.txt': 52, 'Q1-Dataset/pg64317.txt': 14, 'Q1-Dataset/pg70815.txt': 10, 'Q1-Dataset/1080-0.txt': 1, 'Q1-Dataset/pg70817.txt': 1, 'Q1-Dataset/pg1998.txt': 10}, 'concerning': {'Q1-Dataset/pg1513.txt': 2, 'Q1-Dataset/2160-0.txt': 10, 'Q1-Dataset/pg11.txt': 2, 'Q1-Dataset/pg2600.txt': 30, 'Q1-Dataset/pg345.txt': 7, 'Q1-Dataset/pg64317.txt': 2, 'Q1-Dataset/pg70815.txt': 6, 'Q1-Dataset/1080-0.txt': 2, 'Q1-Dataset/pg70817.txt': 4, 'Q1-Dataset/pg1998.txt': 34}, 'parts': {'Q1-Dataset/pg1513.txt': 4, 'Q1-Dataset/2160-0.txt': 39, 'Q1-Dataset/pg11.txt': 3, 'Q1-Dataset/pg2600.txt': 24, 'Q1-Dataset/pg345.txt': 6, 'Q1-Dataset/pg64317.txt': 3, 'Q1-Dataset/pg70815.txt': 2, 'Q1-Dataset/1080-0.txt': 4, 'Q1-Dataset/pg70817.txt': 2, 'Q1-Dataset/pg1998.txt': 7}, 'necessarily': {'Q1-Dataset/pg1513.txt': 1, 'Q1-Dataset/2160-0.txt': 2, 'Q1-Dataset/pg11.txt': 1, 'Q1-Dataset/pg2600.txt': 3, 'Q1-Dataset/pg345.txt': 2, 'Q1-Dataset/pg64317.txt': 1, 'Q1-Dataset/pg70815.txt': 2, 'Q1-Dataset/1080-0.txt': 1, 'Q1-Dataset/pg70817.txt': 1, 'Q1-Dataset/pg1998.txt': 2}, 'processing': {'Q1-Dataset/pg1513.txt': 1, 'Q1-Dataset/2160-0.txt': 1, 'Q1-Dataset/pg11.txt': 1, 'Q1-Dataset/pg2600.txt': 1, 'Q1-Dataset/pg345.txt': 1, 'Q1-Dataset/pg64317.txt': 1, 'Q1-Dataset/pg70815.txt': 1, 'Q1-Dataset/1080-0.txt': 1, 'Q1-Dataset/pg70817.txt': 1, 'Q1-Dataset/pg1998.txt': 1}, 'ut': {'Q1-Dataset/pg1513.txt': 1, 'Q1-Dataset/2160-0.txt': 1, 'Q1-Dataset/pg11.txt': 1, 'Q1-Dataset/pg2600.txt': 1, 'Q1-Dataset/pg345.txt': 1, 'Q1-Dataset/pg64317.txt': 1, 'Q1-Dataset/pg70815.txt': 1, 'Q1-Dataset/1080-0.txt': 1, 'Q1-Dataset/pg70817.txt': 1, 'Q1-Dataset/pg1998.txt': 1}, 'indemnity': {'Q1-Dataset/pg1513.txt': 1, 'Q1-Dataset/2160-0.txt': 1, 'Q1-Dataset/pg11.txt': 1, 'Q1-Dataset/pg2600.txt': 1, 'Q1-Dataset/pg345.txt': 1, 'Q1-Dataset/pg64317.txt': 1, 'Q1-Dataset/pg70815.txt': 1, 'Q1-Dataset/1080-0.txt': 1, 'Q1-Dataset/pg70817.txt': 1, 'Q1-Dataset/pg1998.txt': 1}, 'soon': {'Q1-Dataset/pg1513.txt': 13, 'Q1-Dataset/2160-0.txt': 40, 'Q1-Dataset/pg11.txt': 25, 'Q1-Dataset/pg2600.txt': 252, 'Q1-Dataset/pg345.txt': 68, 'Q1-Dataset/pg64317.txt': 6, 'Q1-Dataset/pg70815.txt': 27, 'Q1-Dataset/1080-0.txt': 2, 'Q1-Dataset/pg70817.txt': 8, 'Q1-Dataset/pg1998.txt': 19}, 'taxes': {'Q1-Dataset/pg1513.txt': 1, 'Q1-Dataset/2160-0.txt': 2, 'Q1-Dataset/pg11.txt': 1, 'Q1-Dataset/pg2600.txt': 1, 'Q1-Dataset/pg345.txt': 1, 'Q1-Dataset/pg64317.txt': 2, 'Q1-Dataset/pg70815.txt': 1, 'Q1-Dataset/1080-0.txt': 1, 'Q1-Dataset/pg70817.txt': 1, 'Q1-Dataset/pg1998.txt': 1}, 'distribute': {'Q1-Dataset/pg1513.txt': 6, 'Q1-Dataset/2160-0.txt': 7, 'Q1-Dataset/pg11.txt': 6, 'Q1-Dataset/pg2600.txt': 7, 'Q1-Dataset/pg345.txt': 7, 'Q1-Dataset/pg64317.txt': 6, 'Q1-Dataset/pg70815.txt': 8, 'Q1-Dataset/1080-0.txt': 6, 'Q1-Dataset/pg70817.txt': 6, 'Q1-Dataset/pg1998.txt': 8}, 'compilation': {'Q1-Dataset/pg1513.txt': 1, 'Q1-Dataset/2160-0.txt': 1, 'Q1-Dataset/pg11.txt': 1, 'Q1-Dataset/pg2600.txt': 1, 'Q1-Dataset/pg345.txt': 1, 'Q1-Dataset/pg64317.txt': 1, 'Q1-Dataset/pg70815.txt': 1, 'Q1-Dataset/1080-0.txt': 1, 'Q1-Dataset/pg70817.txt': 1, 'Q1-Dataset/pg1998.txt': 1}, 'web': {'Q1-Dataset/pg1513.txt': 2, 'Q1-Dataset/2160-0.txt': 5, 'Q1-Dataset/pg11.txt': 1, 'Q1-Dataset/pg2600.txt': 1, 'Q1-Dataset/pg345.txt': 1, 'Q1-Dataset/pg64317.txt': 5, 'Q1-Dataset/pg70815.txt': 1, 'Q1-Dataset/1080-0.txt': 1, 'Q1-Dataset/pg70817.txt': 1, 'Q1-Dataset/pg1998.txt': 4}, 'email': {'Q1-Dataset/pg1513.txt': 3, 'Q1-Dataset/2160-0.txt': 3, 'Q1-Dataset/pg11.txt': 3, 'Q1-Dataset/pg2600.txt': 3, 'Q1-Dataset/pg345.txt': 3, 'Q1-Dataset/pg64317.txt': 3, 'Q1-Dataset/pg70815.txt': 3, 'Q1-Dataset/1080-0.txt': 3, 'Q1-Dataset/pg70817.txt': 3, 'Q1-Dataset/pg1998.txt': 3}, 'how': {'Q1-Dataset/pg1513.txt': 62, 'Q1-Dataset/2160-0.txt': 98, 'Q1-Dataset/pg11.txt': 67, 'Q1-Dataset/pg2600.txt': 995, 'Q1-Dataset/pg345.txt': 217, 'Q1-Dataset/pg64317.txt': 41, 'Q1-Dataset/pg70815.txt': 70, 'Q1-Dataset/1080-0.txt': 8, 'Q1-Dataset/pg70817.txt': 19, 'Q1-Dataset/pg1998.txt': 251}, 'return': {'Q1-Dataset/pg1513.txt': 8, 'Q1-Dataset/2160-0.txt': 49, 'Q1-Dataset/pg11.txt': 3, 'Q1-Dataset/pg2600.txt': 98, 'Q1-Dataset/pg345.txt': 30, 'Q1-Dataset/pg64317.txt': 4, 'Q1-Dataset/pg70815.txt': 48, 'Q1-Dataset/1080-0.txt': 4, 'Q1-Dataset/pg70817.txt': 7, 'Q1-Dataset/pg1998.txt': 37}, 'wwwgutenbergorglicense': {'Q1-Dataset/pg1513.txt': 1, 'Q1-Dataset/2160-0.txt': 1, 'Q1-Dataset/pg11.txt': 1, 'Q1-Dataset/pg2600.txt': 1, 'Q1-Dataset/pg345.txt': 1, 'Q1-Dataset/pg64317.txt': 1, 'Q1-Dataset/pg70815.txt': 1, 'Q1-Dataset/1080-0.txt': 1, 'Q1-Dataset/pg70817.txt': 1, 'Q1-Dataset/pg1998.txt': 1}, 'much': {'Q1-Dataset/pg1513.txt': 38, 'Q1-Dataset/2160-0.txt': 235, 'Q1-Dataset/pg11.txt': 52, 'Q1-Dataset/pg2600.txt': 394, 'Q1-Dataset/pg345.txt': 218, 'Q1-Dataset/pg64317.txt': 37, 'Q1-Dataset/pg70815.txt': 59, 'Q1-Dataset/1080-0.txt': 6, 'Q1-Dataset/pg70817.txt': 19, 'Q1-Dataset/pg1998.txt': 142}, 'manner': {'Q1-Dataset/pg1513.txt': 1, 'Q1-Dataset/2160-0.txt': 70, 'Q1-Dataset/pg11.txt': 2, 'Q1-Dataset/pg2600.txt': 61, 'Q1-Dataset/pg345.txt': 33, 'Q1-Dataset/pg64317.txt': 4, 'Q1-Dataset/pg70815.txt': 2, 'Q1-Dataset/1080-0.txt': 2, 'Q1-Dataset/pg70817.txt': 4, 'Q1-Dataset/pg1998.txt': 5}, 'treatment': {'Q1-Dataset/pg1513.txt': 1, 'Q1-Dataset/2160-0.txt': 1, 'Q1-Dataset/pg11.txt': 1, 'Q1-Dataset/pg2600.txt': 10, 'Q1-Dataset/pg345.txt': 4, 'Q1-Dataset/pg64317.txt': 1, 'Q1-Dataset/pg70815.txt': 1, 'Q1-Dataset/1080-0.txt': 1, 'Q1-Dataset/pg70817.txt': 1, 'Q1-Dataset/pg1998.txt': 1}, 'codes': {'Q1-Dataset/pg1513.txt': 1, 'Q1-Dataset/2160-0.txt': 1, 'Q1-Dataset/pg11.txt': 1, 'Q1-Dataset/pg2600.txt': 4, 'Q1-Dataset/pg345.txt': 1, 'Q1-Dataset/pg64317.txt': 1, 'Q1-Dataset/pg70815.txt': 1, 'Q1-Dataset/1080-0.txt': 1, 'Q1-Dataset/pg70817.txt': 1, 'Q1-Dataset/pg1998.txt': 2}, 'were': {'Q1-Dataset/pg1513.txt': 37, 'Q1-Dataset/2160-0.txt': 341, 'Q1-Dataset/pg11.txt': 87, 'Q1-Dataset/pg2600.txt': 2433, 'Q1-Dataset/pg345.txt': 550, 'Q1-Dataset/pg64317.txt': 184, 'Q1-Dataset/pg70815.txt': 483, 'Q1-Dataset/1080-0.txt': 3, 'Q1-Dataset/pg70817.txt': 112, 'Q1-Dataset/pg1998.txt': 101}, 'whatsoever': {'Q1-Dataset/pg1513.txt': 2, 'Q1-Dataset/2160-0.txt': 6, 'Q1-Dataset/pg11.txt': 2, 'Q1-Dataset/pg2600.txt': 2, 'Q1-Dataset/pg345.txt': 3, 'Q1-Dataset/pg64317.txt': 2, 'Q1-Dataset/pg70815.txt': 2, 'Q1-Dataset/1080-0.txt': 2, 'Q1-Dataset/pg70817.txt': 3, 'Q1-Dataset/pg1998.txt': 2}, 'attempt': {'Q1-Dataset/pg1513.txt': 1, 'Q1-Dataset/2160-0.txt': 6, 'Q1-Dataset/pg11.txt': 1, 'Q1-Dataset/pg2600.txt': 15, 'Q1-Dataset/pg345.txt': 8, 'Q1-Dataset/pg64317.txt': 4, 'Q1-Dataset/pg70815.txt': 9, 'Q1-Dataset/1080-0.txt': 3, 'Q1-Dataset/pg70817.txt': 1, 'Q1-Dataset/pg1998.txt': 7}, 'state': {'Q1-Dataset/pg1513.txt': 10, 'Q1-Dataset/2160-0.txt': 32, 'Q1-Dataset/pg11.txt': 6, 'Q1-Dataset/pg2600.txt': 144, 'Q1-Dataset/pg345.txt': 34, 'Q1-Dataset/pg64317.txt': 7, 'Q1-Dataset/pg70815.txt': 11, 'Q1-Dataset/1080-0.txt': 7, 'Q1-Dataset/pg70817.txt': 37, 'Q1-Dataset/pg1998.txt': 27}, 'replace': {'Q1-Dataset/pg1513.txt': 1, 'Q1-Dataset/2160-0.txt': 1, 'Q1-Dataset/pg11.txt': 1, 'Q1-Dataset/pg2600.txt': 5, 'Q1-Dataset/pg345.txt': 3, 'Q1-Dataset/pg64317.txt': 1, 'Q1-Dataset/pg70815.txt': 2, 'Q1-Dataset/1080-0.txt': 1, 'Q1-Dataset/pg70817.txt': 1, 'Q1-Dataset/pg1998.txt': 1}, 'several': {'Q1-Dataset/pg1513.txt': 2, 'Q1-Dataset/2160-0.txt': 32, 'Q1-Dataset/pg11.txt': 5, 'Q1-Dataset/pg2600.txt': 188, 'Q1-Dataset/pg345.txt': 17, 'Q1-Dataset/pg64317.txt': 18, 'Q1-Dataset/pg70815.txt': 23, 'Q1-Dataset/1080-0.txt': 3, 'Q1-Dataset/pg70817.txt': 6, 'Q1-Dataset/pg1998.txt': 4}, 'both': {'Q1-Dataset/pg1513.txt': 24, 'Q1-Dataset/2160-0.txt': 72, 'Q1-Dataset/pg11.txt': 15, 'Q1-Dataset/pg2600.txt': 257, 'Q1-Dataset/pg345.txt': 85, 'Q1-Dataset/pg64317.txt': 14, 'Q1-Dataset/pg70815.txt': 29, 'Q1-Dataset/1080-0.txt': 2, 'Q1-Dataset/pg70817.txt': 12, 'Q1-Dataset/pg1998.txt': 29}, 'checks': {'Q1-Dataset/pg1513.txt': 1, 'Q1-Dataset/2160-0.txt': 1, 'Q1-Dataset/pg11.txt': 1, 'Q1-Dataset/pg2600.txt': 1, 'Q1-Dataset/pg345.txt': 1, 'Q1-Dataset/pg64317.txt': 1, 'Q1-Dataset/pg70815.txt': 1, 'Q1-Dataset/1080-0.txt': 1, 'Q1-Dataset/pg70817.txt': 1, 'Q1-Dataset/pg1998.txt': 1}, 'cease': {'Q1-Dataset/pg1513.txt': 4, 'Q1-Dataset/2160-0.txt': 2, 'Q1-Dataset/pg11.txt': 1, 'Q1-Dataset/pg2600.txt': 24, 'Q1-Dataset/pg345.txt': 4, 'Q1-Dataset/pg64317.txt': 1, 'Q1-Dataset/pg70815.txt': 3, 'Q1-Dataset/1080-0.txt': 1, 'Q1-Dataset/pg70817.txt': 1, 'Q1-Dataset/pg1998.txt': 8}, 'govern': {'Q1-Dataset/pg1513.txt': 1, 'Q1-Dataset/2160-0.txt': 1, 'Q1-Dataset/pg11.txt': 1, 'Q1-Dataset/pg2600.txt': 3, 'Q1-Dataset/pg345.txt': 1, 'Q1-Dataset/pg64317.txt': 1, 'Q1-Dataset/pg70815.txt': 1, 'Q1-Dataset/1080-0.txt': 1, 'Q1-Dataset/pg70817.txt': 1, 'Q1-Dataset/pg1998.txt': 1}, 'against': {'Q1-Dataset/pg1513.txt': 11, 'Q1-Dataset/2160-0.txt': 60, 'Q1-Dataset/pg11.txt': 10, 'Q1-Dataset/pg2600.txt': 223, 'Q1-Dataset/pg345.txt': 67, 'Q1-Dataset/pg64317.txt': 33, 'Q1-Dataset/pg70815.txt': 35, 'Q1-Dataset/1080-0.txt': 4, 'Q1-Dataset/pg70817.txt': 20, 'Q1-Dataset/pg1998.txt': 72}, 'service': {'Q1-Dataset/pg1513.txt': 1, 'Q1-Dataset/2160-0.txt': 53, 'Q1-Dataset/pg11.txt': 1, 'Q1-Dataset/pg2600.txt': 127, 'Q1-Dataset/pg345.txt': 17, 'Q1-Dataset/pg64317.txt': 4, 'Q1-Dataset/pg70815.txt': 2, 'Q1-Dataset/1080-0.txt': 2, 'Q1-Dataset/pg70817.txt': 2, 'Q1-Dataset/pg1998.txt': 14}, 'card': {'Q1-Dataset/pg1513.txt': 1, 'Q1-Dataset/2160-0.txt': 5, 'Q1-Dataset/pg11.txt': 1, 'Q1-Dataset/pg2600.txt': 19, 'Q1-Dataset/pg345.txt': 3, 'Q1-Dataset/pg64317.txt': 5, 'Q1-Dataset/pg70815.txt': 1, 'Q1-Dataset/1080-0.txt': 1, 'Q1-Dataset/pg70817.txt': 1, 'Q1-Dataset/pg1998.txt': 1}, 'expend': {'Q1-Dataset/pg1513.txt': 1, 'Q1-Dataset/2160-0.txt': 2, 'Q1-Dataset/pg11.txt': 1, 'Q1-Dataset/pg2600.txt': 1, 'Q1-Dataset/pg345.txt': 1, 'Q1-Dataset/pg64317.txt': 1, 'Q1-Dataset/pg70815.txt': 1, 'Q1-Dataset/1080-0.txt': 1, 'Q1-Dataset/pg70817.txt': 1, 'Q1-Dataset/pg1998.txt': 1}, 'abide': {'Q1-Dataset/pg1513.txt': 1, 'Q1-Dataset/2160-0.txt': 6, 'Q1-Dataset/pg11.txt': 2, 'Q1-Dataset/pg2600.txt': 1, 'Q1-Dataset/pg345.txt': 2, 'Q1-Dataset/pg64317.txt': 1, 'Q1-Dataset/pg70815.txt': 1, 'Q1-Dataset/1080-0.txt': 1, 'Q1-Dataset/pg70817.txt': 1, 'Q1-Dataset/pg1998.txt': 5}, 'hart': {'Q1-Dataset/pg1513.txt': 1, 'Q1-Dataset/2160-0.txt': 4, 'Q1-Dataset/pg11.txt': 1, 'Q1-Dataset/pg2600.txt': 1, 'Q1-Dataset/pg345.txt': 1, 'Q1-Dataset/pg64317.txt': 1, 'Q1-Dataset/pg70815.txt': 1, 'Q1-Dataset/1080-0.txt': 1, 'Q1-Dataset/pg70817.txt': 1, 'Q1-Dataset/pg1998.txt': 1}, 'use': {'Q1-Dataset/pg1513.txt': 26, 'Q1-Dataset/2160-0.txt': 68, 'Q1-Dataset/pg11.txt': 30, 'Q1-Dataset/pg2600.txt': 83, 'Q1-Dataset/pg345.txt': 53, 'Q1-Dataset/pg64317.txt': 20, 'Q1-Dataset/pg70815.txt': 23, 'Q1-Dataset/1080-0.txt': 13, 'Q1-Dataset/pg70817.txt': 13, 'Q1-Dataset/pg1998.txt': 21}, 'awayyou': {'Q1-Dataset/pg1513.txt': 1, 'Q1-Dataset/2160-0.txt': 1, 'Q1-Dataset/pg11.txt': 1, 'Q1-Dataset/pg2600.txt': 1, 'Q1-Dataset/pg345.txt': 1, 'Q1-Dataset/pg64317.txt': 1, 'Q1-Dataset/pg70815.txt': 1, 'Q1-Dataset/1080-0.txt': 1, 'Q1-Dataset/pg70817.txt': 1, 'Q1-Dataset/pg1998.txt': 1}, 'wwwgutenbergorgdonate': {'Q1-Dataset/pg1513.txt': 2, 'Q1-Dataset/2160-0.txt': 2, 'Q1-Dataset/pg11.txt': 2, 'Q1-Dataset/pg2600.txt': 2, 'Q1-Dataset/pg345.txt': 2, 'Q1-Dataset/pg64317.txt': 2, 'Q1-Dataset/pg70815.txt': 2, 'Q1-Dataset/1080-0.txt': 2, 'Q1-Dataset/pg70817.txt': 2, 'Q1-Dataset/pg1998.txt': 2}, 'gratefully': {'Q1-Dataset/pg1513.txt': 1, 'Q1-Dataset/2160-0.txt': 1, 'Q1-Dataset/pg11.txt': 1, 'Q1-Dataset/pg2600.txt': 9, 'Q1-Dataset/pg345.txt': 3, 'Q1-Dataset/pg64317.txt': 1, 'Q1-Dataset/pg70815.txt': 1, 'Q1-Dataset/1080-0.txt': 1, 'Q1-Dataset/pg70817.txt': 1, 'Q1-Dataset/pg1998.txt': 1}, 'claim': {'Q1-Dataset/pg1513.txt': 1, 'Q1-Dataset/2160-0.txt': 4, 'Q1-Dataset/pg11.txt': 1, 'Q1-Dataset/pg2600.txt': 6, 'Q1-Dataset/pg345.txt': 6, 'Q1-Dataset/pg64317.txt': 1, 'Q1-Dataset/pg70815.txt': 5, 'Q1-Dataset/1080-0.txt': 1, 'Q1-Dataset/pg70817.txt': 1, 'Q1-Dataset/pg1998.txt': 4}, 'version': {'Q1-Dataset/pg1513.txt': 1, 'Q1-Dataset/2160-0.txt': 1, 'Q1-Dataset/pg11.txt': 1, 'Q1-Dataset/pg2600.txt': 1, 'Q1-Dataset/pg345.txt': 1, 'Q1-Dataset/pg64317.txt': 1, 'Q1-Dataset/pg70815.txt': 1, 'Q1-Dataset/1080-0.txt': 1, 'Q1-Dataset/pg70817.txt': 4, 'Q1-Dataset/pg1998.txt': 1}, 'myself': {'Q1-Dataset/pg1513.txt': 15, 'Q1-Dataset/2160-0.txt': 88, 'Q1-Dataset/pg11.txt': 6, 'Q1-Dataset/pg2600.txt': 146, 'Q1-Dataset/pg345.txt': 132, 'Q1-Dataset/pg64317.txt': 17, 'Q1-Dataset/pg70815.txt': 4, 'Q1-Dataset/1080-0.txt': 1, 'Q1-Dataset/pg70817.txt': 12, 'Q1-Dataset/pg1998.txt': 93}, 'created': {'Q1-Dataset/pg1513.txt': 2, 'Q1-Dataset/2160-0.txt': 5, 'Q1-Dataset/pg11.txt': 2, 'Q1-Dataset/pg2600.txt': 7, 'Q1-Dataset/pg345.txt': 3, 'Q1-Dataset/pg64317.txt': 3, 'Q1-Dataset/pg70815.txt': 5, 'Q1-Dataset/1080-0.txt': 2, 'Q1-Dataset/pg70817.txt': 2, 'Q1-Dataset/pg1998.txt': 28}, 'internal': {'Q1-Dataset/pg1513.txt': 1, 'Q1-Dataset/2160-0.txt': 3, 'Q1-Dataset/pg11.txt': 1, 'Q1-Dataset/pg2600.txt': 5, 'Q1-Dataset/pg345.txt': 2, 'Q1-Dataset/pg64317.txt': 1, 'Q1-Dataset/pg70815.txt': 2, 'Q1-Dataset/1080-0.txt': 1, 'Q1-Dataset/pg70817.txt': 1, 'Q1-Dataset/pg1998.txt': 5}, 'days': {'Q1-Dataset/pg1513.txt': 16, 'Q1-Dataset/2160-0.txt': 55, 'Q1-Dataset/pg11.txt': 8, 'Q1-Dataset/pg2600.txt': 214, 'Q1-Dataset/pg345.txt': 63, 'Q1-Dataset/pg64317.txt': 22, 'Q1-Dataset/pg70815.txt': 8, 'Q1-Dataset/1080-0.txt': 4, 'Q1-Dataset/pg70817.txt': 17, 'Q1-Dataset/pg1998.txt': 22}, 'out': {'Q1-Dataset/pg1513.txt': 54, 'Q1-Dataset/2160-0.txt': 219, 'Q1-Dataset/pg11.txt': 114, 'Q1-Dataset/pg2600.txt': 1225, 'Q1-Dataset/pg345.txt': 429, 'Q1-Dataset/pg64317.txt': 211, 'Q1-Dataset/pg70815.txt': 116, 'Q1-Dataset/1080-0.txt': 3, 'Q1-Dataset/pg70817.txt': 107, 'Q1-Dataset/pg1998.txt': 246}, 'twenty': {'Q1-Dataset/pg1513.txt': 11, 'Q1-Dataset/2160-0.txt': 43, 'Q1-Dataset/pg11.txt': 1, 'Q1-Dataset/pg2600.txt': 55, 'Q1-Dataset/pg345.txt': 8, 'Q1-Dataset/pg64317.txt': 4, 'Q1-Dataset/pg70815.txt': 8, 'Q1-Dataset/1080-0.txt': 5, 'Q1-Dataset/pg70817.txt': 1, 'Q1-Dataset/pg1998.txt': 2}, 'appearing': {'Q1-Dataset/pg1513.txt': 1, 'Q1-Dataset/2160-0.txt': 3, 'Q1-Dataset/pg11.txt': 2, 'Q1-Dataset/pg2600.txt': 13, 'Q1-Dataset/pg345.txt': 1, 'Q1-Dataset/pg64317.txt': 1, 'Q1-Dataset/pg70815.txt': 2, 'Q1-Dataset/1080-0.txt': 1, 'Q1-Dataset/pg70817.txt': 1, 'Q1-Dataset/pg1998.txt': 2}, 'violates': {'Q1-Dataset/pg1513.txt': 1, 'Q1-Dataset/2160-0.txt': 1, 'Q1-Dataset/pg11.txt': 1, 'Q1-Dataset/pg2600.txt': 1, 'Q1-Dataset/pg345.txt': 1, 'Q1-Dataset/pg64317.txt': 1, 'Q1-Dataset/pg70815.txt': 1, 'Q1-Dataset/1080-0.txt': 1, 'Q1-Dataset/pg70817.txt': 1, 'Q1-Dataset/pg1998.txt': 1}, 'financial': {'Q1-Dataset/pg1513.txt': 1, 'Q1-Dataset/2160-0.txt': 1, 'Q1-Dataset/pg11.txt': 1, 'Q1-Dataset/pg2600.txt': 3, 'Q1-Dataset/pg345.txt': 1, 'Q1-Dataset/pg64317.txt': 1, 'Q1-Dataset/pg70815.txt': 3, 'Q1-Dataset/1080-0.txt': 1, 'Q1-Dataset/pg70817.txt': 1, 'Q1-Dataset/pg1998.txt': 1}, 'new': {'Q1-Dataset/pg1513.txt': 16, 'Q1-Dataset/2160-0.txt': 62, 'Q1-Dataset/pg11.txt': 8, 'Q1-Dataset/pg2600.txt': 285, 'Q1-Dataset/pg345.txt': 80, 'Q1-Dataset/pg64317.txt': 73, 'Q1-Dataset/pg70815.txt': 45, 'Q1-Dataset/1080-0.txt': 5, 'Q1-Dataset/pg70817.txt': 24, 'Q1-Dataset/pg1998.txt': 155}, 'form': {'Q1-Dataset/pg1513.txt': 9, 'Q1-Dataset/2160-0.txt': 19, 'Q1-Dataset/pg11.txt': 5, 'Q1-Dataset/pg2600.txt': 56, 'Q1-Dataset/pg345.txt': 24, 'Q1-Dataset/pg64317.txt': 7, 'Q1-Dataset/pg70815.txt': 13, 'Q1-Dataset/1080-0.txt': 4, 'Q1-Dataset/pg70817.txt': 7, 'Q1-Dataset/pg1998.txt': 20}, 'incomplete': {'Q1-Dataset/pg1513.txt': 1, 'Q1-Dataset/2160-0.txt': 1, 'Q1-Dataset/pg11.txt': 1, 'Q1-Dataset/pg2600.txt': 2, 'Q1-Dataset/pg345.txt': 1, 'Q1-Dataset/pg64317.txt': 1, 'Q1-Dataset/pg70815.txt': 1, 'Q1-Dataset/1080-0.txt': 1, 'Q1-Dataset/pg70817.txt': 2, 'Q1-Dataset/pg1998.txt': 1}, 'cannot': {'Q1-Dataset/pg1513.txt': 25, 'Q1-Dataset/2160-0.txt': 102, 'Q1-Dataset/pg11.txt': 5, 'Q1-Dataset/pg2600.txt': 167, 'Q1-Dataset/pg345.txt': 88, 'Q1-Dataset/pg64317.txt': 6, 'Q1-Dataset/pg70815.txt': 36, 'Q1-Dataset/1080-0.txt': 10, 'Q1-Dataset/pg70817.txt': 5, 'Q1-Dataset/pg1998.txt': 35}, 'derived': {'Q1-Dataset/pg1513.txt': 1, 'Q1-Dataset/2160-0.txt': 7, 'Q1-Dataset/pg11.txt': 1, 'Q1-Dataset/pg2600.txt': 5, 'Q1-Dataset/pg345.txt': 1, 'Q1-Dataset/pg64317.txt': 1, 'Q1-Dataset/pg70815.txt': 2, 'Q1-Dataset/1080-0.txt': 1, 'Q1-Dataset/pg70817.txt': 1, 'Q1-Dataset/pg1998.txt': 1}, 'heart': {'Q1-Dataset/pg1513.txt': 26, 'Q1-Dataset/2160-0.txt': 88, 'Q1-Dataset/pg11.txt': 2, 'Q1-Dataset/pg2600.txt': 175, 'Q1-Dataset/pg345.txt': 129, 'Q1-Dataset/pg64317.txt': 19, 'Q1-Dataset/pg70815.txt': 18, 'Q1-Dataset/1080-0.txt': 1, 'Q1-Dataset/pg70817.txt': 15, 'Q1-Dataset/pg1998.txt': 171}, 'donate': {'Q1-Dataset/pg1513.txt': 3, 'Q1-Dataset/2160-0.txt': 3, 'Q1-Dataset/pg11.txt': 3, 'Q1-Dataset/pg2600.txt': 3, 'Q1-Dataset/pg345.txt': 3, 'Q1-Dataset/pg64317.txt': 3, 'Q1-Dataset/pg70815.txt': 3, 'Q1-Dataset/1080-0.txt': 3, 'Q1-Dataset/pg70817.txt': 3, 'Q1-Dataset/pg1998.txt': 3}, 'these': {'Q1-Dataset/pg1513.txt': 45, 'Q1-Dataset/2160-0.txt': 194, 'Q1-Dataset/pg11.txt': 16, 'Q1-Dataset/pg2600.txt': 590, 'Q1-Dataset/pg345.txt': 117, 'Q1-Dataset/pg64317.txt': 28, 'Q1-Dataset/pg70815.txt': 102, 'Q1-Dataset/1080-0.txt': 10, 'Q1-Dataset/pg70817.txt': 17, 'Q1-Dataset/pg1998.txt': 127}, 'longer': {'Q1-Dataset/pg1513.txt': 5, 'Q1-Dataset/2160-0.txt': 34, 'Q1-Dataset/pg11.txt': 3, 'Q1-Dataset/pg2600.txt': 176, 'Q1-Dataset/pg345.txt': 17, 'Q1-Dataset/pg64317.txt': 14, 'Q1-Dataset/pg70815.txt': 18, 'Q1-Dataset/1080-0.txt': 1, 'Q1-Dataset/pg70817.txt': 10, 'Q1-Dataset/pg1998.txt': 89}, 'ten': {'Q1-Dataset/pg1513.txt': 2, 'Q1-Dataset/2160-0.txt': 24, 'Q1-Dataset/pg11.txt': 6, 'Q1-Dataset/pg2600.txt': 98, 'Q1-Dataset/pg345.txt': 14, 'Q1-Dataset/pg64317.txt': 8, 'Q1-Dataset/pg70815.txt': 15, 'Q1-Dataset/1080-0.txt': 2, 'Q1-Dataset/pg70817.txt': 2, 'Q1-Dataset/pg1998.txt': 19}, 'month': {'Q1-Dataset/pg1513.txt': 2, 'Q1-Dataset/2160-0.txt': 7, 'Q1-Dataset/pg11.txt': 2, 'Q1-Dataset/pg2600.txt': 32, 'Q1-Dataset/pg345.txt': 4, 'Q1-Dataset/pg64317.txt': 7, 'Q1-Dataset/pg70815.txt': 1, 'Q1-Dataset/1080-0.txt': 1, 'Q1-Dataset/pg70817.txt': 1, 'Q1-Dataset/pg1998.txt': 2}, 'way': {'Q1-Dataset/pg1513.txt': 11, 'Q1-Dataset/2160-0.txt': 134, 'Q1-Dataset/pg11.txt': 54, 'Q1-Dataset/pg2600.txt': 493, 'Q1-Dataset/pg345.txt': 226, 'Q1-Dataset/pg64317.txt': 75, 'Q1-Dataset/pg70815.txt': 110, 'Q1-Dataset/1080-0.txt': 3, 'Q1-Dataset/pg70817.txt': 18, 'Q1-Dataset/pg1998.txt': 110}, 'medium': {'Q1-Dataset/pg1513.txt': 5, 'Q1-Dataset/2160-0.txt': 7, 'Q1-Dataset/pg11.txt': 5, 'Q1-Dataset/pg2600.txt': 10, 'Q1-Dataset/pg345.txt': 9, 'Q1-Dataset/pg64317.txt': 7, 'Q1-Dataset/pg70815.txt': 5, 'Q1-Dataset/1080-0.txt': 6, 'Q1-Dataset/pg70817.txt': 5, 'Q1-Dataset/pg1998.txt': 6}, 'nor': {'Q1-Dataset/pg1513.txt': 20, 'Q1-Dataset/2160-0.txt': 89, 'Q1-Dataset/pg11.txt': 3, 'Q1-Dataset/pg2600.txt': 175, 'Q1-Dataset/pg345.txt': 29, 'Q1-Dataset/pg64317.txt': 4, 'Q1-Dataset/pg70815.txt': 85, 'Q1-Dataset/1080-0.txt': 7, 'Q1-Dataset/pg70817.txt': 6, 'Q1-Dataset/pg1998.txt': 35}, 'title': {'Q1-Dataset/pg1513.txt': 2, 'Q1-Dataset/2160-0.txt': 11, 'Q1-Dataset/pg11.txt': 1, 'Q1-Dataset/pg2600.txt': 10, 'Q1-Dataset/pg345.txt': 5, 'Q1-Dataset/pg64317.txt': 1, 'Q1-Dataset/pg70815.txt': 2, 'Q1-Dataset/1080-0.txt': 2, 'Q1-Dataset/pg70817.txt': 1, 'Q1-Dataset/pg1998.txt': 3}, 'things': {'Q1-Dataset/pg1513.txt': 10, 'Q1-Dataset/2160-0.txt': 26, 'Q1-Dataset/pg11.txt': 30, 'Q1-Dataset/pg2600.txt': 232, 'Q1-Dataset/pg345.txt': 173, 'Q1-Dataset/pg64317.txt': 32, 'Q1-Dataset/pg70815.txt': 15, 'Q1-Dataset/1080-0.txt': 3, 'Q1-Dataset/pg70817.txt': 11, 'Q1-Dataset/pg1998.txt': 156}, 'in': {'Q1-Dataset/pg1513.txt': 393, 'Q1-Dataset/2160-0.txt': 3155, 'Q1-Dataset/pg11.txt': 431, 'Q1-Dataset/pg2600.txt': 8930, 'Q1-Dataset/pg345.txt': 2559, 'Q1-Dataset/pg64317.txt': 861, 'Q1-Dataset/pg70815.txt': 1169, 'Q1-Dataset/1080-0.txt': 132, 'Q1-Dataset/pg70817.txt': 465, 'Q1-Dataset/pg1998.txt': 1534}, 'provision': {'Q1-Dataset/pg1513.txt': 2, 'Q1-Dataset/2160-0.txt': 9, 'Q1-Dataset/pg11.txt': 1, 'Q1-Dataset/pg2600.txt': 4, 'Q1-Dataset/pg345.txt': 1, 'Q1-Dataset/pg64317.txt': 1, 'Q1-Dataset/pg70815.txt': 4, 'Q1-Dataset/1080-0.txt': 1, 'Q1-Dataset/pg70817.txt': 3, 'Q1-Dataset/pg1998.txt': 1}, 'long': {'Q1-Dataset/pg1513.txt': 17, 'Q1-Dataset/2160-0.txt': 102, 'Q1-Dataset/pg11.txt': 34, 'Q1-Dataset/pg2600.txt': 512, 'Q1-Dataset/pg345.txt': 148, 'Q1-Dataset/pg64317.txt': 63, 'Q1-Dataset/pg70815.txt': 107, 'Q1-Dataset/1080-0.txt': 3, 'Q1-Dataset/pg70817.txt': 27, 'Q1-Dataset/pg1998.txt': 165}, 'inaccurate': {'Q1-Dataset/pg1513.txt': 1, 'Q1-Dataset/2160-0.txt': 1, 'Q1-Dataset/pg11.txt': 1, 'Q1-Dataset/pg2600.txt': 1, 'Q1-Dataset/pg345.txt': 1, 'Q1-Dataset/pg64317.txt': 1, 'Q1-Dataset/pg70815.txt': 1, 'Q1-Dataset/1080-0.txt': 1, 'Q1-Dataset/pg70817.txt': 1, 'Q1-Dataset/pg1998.txt': 1}, 'additions': {'Q1-Dataset/pg1513.txt': 1, 'Q1-Dataset/2160-0.txt': 1, 'Q1-Dataset/pg11.txt': 1, 'Q1-Dataset/pg2600.txt': 2, 'Q1-Dataset/pg345.txt': 1, 'Q1-Dataset/pg64317.txt': 1, 'Q1-Dataset/pg70815.txt': 1, 'Q1-Dataset/1080-0.txt': 1, 'Q1-Dataset/pg70817.txt': 1, 'Q1-Dataset/pg1998.txt': 1}, 'returns': {'Q1-Dataset/pg1513.txt': 1, 'Q1-Dataset/2160-0.txt': 6, 'Q1-Dataset/pg11.txt': 1, 'Q1-Dataset/pg2600.txt': 8, 'Q1-Dataset/pg345.txt': 3, 'Q1-Dataset/pg64317.txt': 1, 'Q1-Dataset/pg70815.txt': 7, 'Q1-Dataset/1080-0.txt': 1, 'Q1-Dataset/pg70817.txt': 1, 'Q1-Dataset/pg1998.txt': 2}, 'proprietary': {'Q1-Dataset/pg1513.txt': 1, 'Q1-Dataset/2160-0.txt': 1, 'Q1-Dataset/pg11.txt': 1, 'Q1-Dataset/pg2600.txt': 1, 'Q1-Dataset/pg345.txt': 1, 'Q1-Dataset/pg64317.txt': 2, 'Q1-Dataset/pg70815.txt': 1, 'Q1-Dataset/1080-0.txt': 1, 'Q1-Dataset/pg70817.txt': 1, 'Q1-Dataset/pg1998.txt': 1}, 'we': {'Q1-Dataset/pg1513.txt': 75, 'Q1-Dataset/2160-0.txt': 531, 'Q1-Dataset/pg11.txt': 37, 'Q1-Dataset/pg2600.txt': 956, 'Q1-Dataset/pg345.txt': 1534, 'Q1-Dataset/pg64317.txt': 201, 'Q1-Dataset/pg70815.txt': 361, 'Q1-Dataset/1080-0.txt': 18, 'Q1-Dataset/pg70817.txt': 86, 'Q1-Dataset/pg1998.txt': 283}, 'print': {'Q1-Dataset/pg1513.txt': 1, 'Q1-Dataset/2160-0.txt': 1, 'Q1-Dataset/pg11.txt': 1, 'Q1-Dataset/pg2600.txt': 3, 'Q1-Dataset/pg345.txt': 1, 'Q1-Dataset/pg64317.txt': 1, 'Q1-Dataset/pg70815.txt': 1, 'Q1-Dataset/1080-0.txt': 1, 'Q1-Dataset/pg70817.txt': 1, 'Q1-Dataset/pg1998.txt': 1}, 'negligence': {'Q1-Dataset/pg1513.txt': 1, 'Q1-Dataset/2160-0.txt': 1, 'Q1-Dataset/pg11.txt': 1, 'Q1-Dataset/pg2600.txt': 3, 'Q1-Dataset/pg345.txt': 1, 'Q1-Dataset/pg64317.txt': 1, 'Q1-Dataset/pg70815.txt': 1, 'Q1-Dataset/1080-0.txt': 1, 'Q1-Dataset/pg70817.txt': 1, 'Q1-Dataset/pg1998.txt': 1}, 'walk': {'Q1-Dataset/pg1513.txt': 4, 'Q1-Dataset/2160-0.txt': 17, 'Q1-Dataset/pg11.txt': 5, 'Q1-Dataset/pg2600.txt': 46, 'Q1-Dataset/pg345.txt': 18, 'Q1-Dataset/pg64317.txt': 5, 'Q1-Dataset/pg70815.txt': 6, 'Q1-Dataset/1080-0.txt': 1, 'Q1-Dataset/pg70817.txt': 8, 'Q1-Dataset/pg1998.txt': 16}, 'change': {'Q1-Dataset/pg1513.txt': 6, 'Q1-Dataset/2160-0.txt': 21, 'Q1-Dataset/pg11.txt': 15, 'Q1-Dataset/pg2600.txt': 83, 'Q1-Dataset/pg345.txt': 44, 'Q1-Dataset/pg64317.txt': 13, 'Q1-Dataset/pg70815.txt': 5, 'Q1-Dataset/1080-0.txt': 1, 'Q1-Dataset/pg70817.txt': 4, 'Q1-Dataset/pg1998.txt': 15}, 'array': {'Q1-Dataset/pg1513.txt': 3, 'Q1-Dataset/2160-0.txt': 1, 'Q1-Dataset/pg11.txt': 1, 'Q1-Dataset/pg2600.txt': 2, 'Q1-Dataset/pg345.txt': 1, 'Q1-Dataset/pg64317.txt': 1, 'Q1-Dataset/pg70815.txt': 1, 'Q1-Dataset/1080-0.txt': 1, 'Q1-Dataset/pg70817.txt': 2, 'Q1-Dataset/pg1998.txt': 1}, 'holder': {'Q1-Dataset/pg1513.txt': 4, 'Q1-Dataset/2160-0.txt': 7, 'Q1-Dataset/pg11.txt': 4, 'Q1-Dataset/pg2600.txt': 4, 'Q1-Dataset/pg345.txt': 4, 'Q1-Dataset/pg64317.txt': 4, 'Q1-Dataset/pg70815.txt': 4, 'Q1-Dataset/1080-0.txt': 4, 'Q1-Dataset/pg70817.txt': 4, 'Q1-Dataset/pg1998.txt': 4}, 'production': {'Q1-Dataset/pg1513.txt': 1, 'Q1-Dataset/2160-0.txt': 3, 'Q1-Dataset/pg11.txt': 1, 'Q1-Dataset/pg2600.txt': 2, 'Q1-Dataset/pg345.txt': 1, 'Q1-Dataset/pg64317.txt': 1, 'Q1-Dataset/pg70815.txt': 2, 'Q1-Dataset/1080-0.txt': 1, 'Q1-Dataset/pg70817.txt': 1, 'Q1-Dataset/pg1998.txt': 3}, 'consequential': {'Q1-Dataset/pg1513.txt': 1, 'Q1-Dataset/2160-0.txt': 1, 'Q1-Dataset/pg11.txt': 1, 'Q1-Dataset/pg2600.txt': 1, 'Q1-Dataset/pg345.txt': 1, 'Q1-Dataset/pg64317.txt': 1, 'Q1-Dataset/pg70815.txt': 1, 'Q1-Dataset/1080-0.txt': 1, 'Q1-Dataset/pg70817.txt': 1, 'Q1-Dataset/pg1998.txt': 1}, 'whose': {'Q1-Dataset/pg1513.txt': 15, 'Q1-Dataset/2160-0.txt': 69, 'Q1-Dataset/pg11.txt': 2, 'Q1-Dataset/pg2600.txt': 111, 'Q1-Dataset/pg345.txt': 30, 'Q1-Dataset/pg64317.txt': 9, 'Q1-Dataset/pg70815.txt': 29, 'Q1-Dataset/1080-0.txt': 4, 'Q1-Dataset/pg70817.txt': 1, 'Q1-Dataset/pg1998.txt': 43}, 'carry': {'Q1-Dataset/pg1513.txt': 3, 'Q1-Dataset/2160-0.txt': 17, 'Q1-Dataset/pg11.txt': 2, 'Q1-Dataset/pg2600.txt': 53, 'Q1-Dataset/pg345.txt': 16, 'Q1-Dataset/pg64317.txt': 5, 'Q1-Dataset/pg70815.txt': 16, 'Q1-Dataset/1080-0.txt': 1, 'Q1-Dataset/pg70817.txt': 1, 'Q1-Dataset/pg1998.txt': 21}, 'meet': {'Q1-Dataset/pg1513.txt': 9, 'Q1-Dataset/2160-0.txt': 21, 'Q1-Dataset/pg11.txt': 3, 'Q1-Dataset/pg2600.txt': 107, 'Q1-Dataset/pg345.txt': 42, 'Q1-Dataset/pg64317.txt': 9, 'Q1-Dataset/pg70815.txt': 17, 'Q1-Dataset/1080-0.txt': 1, 'Q1-Dataset/pg70817.txt': 3, 'Q1-Dataset/pg1998.txt': 20}, 'actual': {'Q1-Dataset/pg1513.txt': 1, 'Q1-Dataset/2160-0.txt': 2, 'Q1-Dataset/pg11.txt': 1, 'Q1-Dataset/pg2600.txt': 16, 'Q1-Dataset/pg345.txt': 4, 'Q1-Dataset/pg64317.txt': 3, 'Q1-Dataset/pg70815.txt': 3, 'Q1-Dataset/1080-0.txt': 1, 'Q1-Dataset/pg70817.txt': 2, 'Q1-Dataset/pg1998.txt': 6}, 'subscribe': {'Q1-Dataset/pg1513.txt': 1, 'Q1-Dataset/2160-0.txt': 4, 'Q1-Dataset/pg11.txt': 1, 'Q1-Dataset/pg2600.txt': 2, 'Q1-Dataset/pg345.txt': 1, 'Q1-Dataset/pg64317.txt': 1, 'Q1-Dataset/pg70815.txt': 1, 'Q1-Dataset/1080-0.txt': 1, 'Q1-Dataset/pg70817.txt': 1, 'Q1-Dataset/pg1998.txt': 1}, 'include': {'Q1-Dataset/pg1513.txt': 1, 'Q1-Dataset/2160-0.txt': 2, 'Q1-Dataset/pg11.txt': 1, 'Q1-Dataset/pg2600.txt': 3, 'Q1-Dataset/pg345.txt': 1, 'Q1-Dataset/pg64317.txt': 1, 'Q1-Dataset/pg70815.txt': 1, 'Q1-Dataset/1080-0.txt': 1, 'Q1-Dataset/pg70817.txt': 1, 'Q1-Dataset/pg1998.txt': 1}, 'pglaf': {'Q1-Dataset/pg1513.txt': 1, 'Q1-Dataset/2160-0.txt': 1, 'Q1-Dataset/pg11.txt': 1, 'Q1-Dataset/pg2600.txt': 1, 'Q1-Dataset/pg345.txt': 1, 'Q1-Dataset/pg64317.txt': 1, 'Q1-Dataset/pg70815.txt': 1, 'Q1-Dataset/1080-0.txt': 1, 'Q1-Dataset/pg70817.txt': 1, 'Q1-Dataset/pg1998.txt': 1}, 'extent': {'Q1-Dataset/pg1513.txt': 1, 'Q1-Dataset/2160-0.txt': 7, 'Q1-Dataset/pg11.txt': 1, 'Q1-Dataset/pg2600.txt': 13, 'Q1-Dataset/pg345.txt': 3, 'Q1-Dataset/pg64317.txt': 1, 'Q1-Dataset/pg70815.txt': 7, 'Q1-Dataset/1080-0.txt': 2, 'Q1-Dataset/pg70817.txt': 2, 'Q1-Dataset/pg1998.txt': 4}, 'visit': {'Q1-Dataset/pg1513.txt': 2, 'Q1-Dataset/2160-0.txt': 40, 'Q1-Dataset/pg11.txt': 3, 'Q1-Dataset/pg2600.txt': 61, 'Q1-Dataset/pg345.txt': 17, 'Q1-Dataset/pg64317.txt': 2, 'Q1-Dataset/pg70815.txt': 4, 'Q1-Dataset/1080-0.txt': 2, 'Q1-Dataset/pg70817.txt': 7, 'Q1-Dataset/pg1998.txt': 2}, 'far': {'Q1-Dataset/pg1513.txt': 5, 'Q1-Dataset/2160-0.txt': 75, 'Q1-Dataset/pg11.txt': 13, 'Q1-Dataset/pg2600.txt': 169, 'Q1-Dataset/pg345.txt': 91, 'Q1-Dataset/pg64317.txt': 18, 'Q1-Dataset/pg70815.txt': 84, 'Q1-Dataset/1080-0.txt': 1, 'Q1-Dataset/pg70817.txt': 21, 'Q1-Dataset/pg1998.txt': 52}, 'produce': {'Q1-Dataset/pg1513.txt': 1, 'Q1-Dataset/2160-0.txt': 25, 'Q1-Dataset/pg11.txt': 1, 'Q1-Dataset/pg2600.txt': 18, 'Q1-Dataset/pg345.txt': 2, 'Q1-Dataset/pg64317.txt': 1, 'Q1-Dataset/pg70815.txt': 2, 'Q1-Dataset/1080-0.txt': 1, 'Q1-Dataset/pg70817.txt': 1, 'Q1-Dataset/pg1998.txt': 3}, 'this': {'Q1-Dataset/pg1513.txt': 265, 'Q1-Dataset/2160-0.txt': 974, 'Q1-Dataset/pg11.txt': 178, 'Q1-Dataset/pg2600.txt': 2101, 'Q1-Dataset/pg345.txt': 665, 'Q1-Dataset/pg64317.txt': 210, 'Q1-Dataset/pg70815.txt': 313, 'Q1-Dataset/1080-0.txt': 73, 'Q1-Dataset/pg70817.txt': 85, 'Q1-Dataset/pg1998.txt': 658}, 'rest': {'Q1-Dataset/pg1513.txt': 16, 'Q1-Dataset/2160-0.txt': 29, 'Q1-Dataset/pg11.txt': 10, 'Q1-Dataset/pg2600.txt': 107, 'Q1-Dataset/pg345.txt': 95, 'Q1-Dataset/pg64317.txt': 11, 'Q1-Dataset/pg70815.txt': 18, 'Q1-Dataset/1080-0.txt': 2, 'Q1-Dataset/pg70817.txt': 6, 'Q1-Dataset/pg1998.txt': 17}, 'already': {'Q1-Dataset/pg1513.txt': 6, 'Q1-Dataset/2160-0.txt': 39, 'Q1-Dataset/pg11.txt': 3, 'Q1-Dataset/pg2600.txt': 326, 'Q1-Dataset/pg345.txt': 62, 'Q1-Dataset/pg64317.txt': 16, 'Q1-Dataset/pg70815.txt': 27, 'Q1-Dataset/1080-0.txt': 7, 'Q1-Dataset/pg70817.txt': 17, 'Q1-Dataset/pg1998.txt': 78}, 'project': {'Q1-Dataset/pg1513.txt': 89, 'Q1-Dataset/2160-0.txt': 94, 'Q1-Dataset/pg11.txt': 88, 'Q1-Dataset/pg2600.txt': 101, 'Q1-Dataset/pg345.txt': 89, 'Q1-Dataset/pg64317.txt': 90, 'Q1-Dataset/pg70815.txt': 90, 'Q1-Dataset/1080-0.txt': 89, 'Q1-Dataset/pg70817.txt': 89, 'Q1-Dataset/pg1998.txt': 88}, 'prominently': {'Q1-Dataset/pg1513.txt': 2, 'Q1-Dataset/2160-0.txt': 2, 'Q1-Dataset/pg11.txt': 2, 'Q1-Dataset/pg2600.txt': 2, 'Q1-Dataset/pg345.txt': 3, 'Q1-Dataset/pg64317.txt': 2, 'Q1-Dataset/pg70815.txt': 2, 'Q1-Dataset/1080-0.txt': 2, 'Q1-Dataset/pg70817.txt': 2, 'Q1-Dataset/pg1998.txt': 2}, 'based': {'Q1-Dataset/pg1513.txt': 2, 'Q1-Dataset/2160-0.txt': 2, 'Q1-Dataset/pg11.txt': 2, 'Q1-Dataset/pg2600.txt': 26, 'Q1-Dataset/pg345.txt': 3, 'Q1-Dataset/pg64317.txt': 3, 'Q1-Dataset/pg70815.txt': 6, 'Q1-Dataset/1080-0.txt': 2, 'Q1-Dataset/pg70817.txt': 2, 'Q1-Dataset/pg1998.txt': 2}, 'compressed': {'Q1-Dataset/pg1513.txt': 1, 'Q1-Dataset/2160-0.txt': 1, 'Q1-Dataset/pg11.txt': 1, 'Q1-Dataset/pg2600.txt': 11, 'Q1-Dataset/pg345.txt': 1, 'Q1-Dataset/pg64317.txt': 2, 'Q1-Dataset/pg70815.txt': 1, 'Q1-Dataset/1080-0.txt': 1, 'Q1-Dataset/pg70817.txt': 1, 'Q1-Dataset/pg1998.txt': 4}, 'corrupt': {'Q1-Dataset/pg1513.txt': 1, 'Q1-Dataset/2160-0.txt': 2, 'Q1-Dataset/pg11.txt': 1, 'Q1-Dataset/pg2600.txt': 1, 'Q1-Dataset/pg345.txt': 2, 'Q1-Dataset/pg64317.txt': 1, 'Q1-Dataset/pg70815.txt': 1, 'Q1-Dataset/1080-0.txt': 1, 'Q1-Dataset/pg70817.txt': 1, 'Q1-Dataset/pg1998.txt': 2}, 'search': {'Q1-Dataset/pg1513.txt': 5, 'Q1-Dataset/2160-0.txt': 6, 'Q1-Dataset/pg11.txt': 2, 'Q1-Dataset/pg2600.txt': 21, 'Q1-Dataset/pg345.txt': 27, 'Q1-Dataset/pg64317.txt': 2, 'Q1-Dataset/pg70815.txt': 41, 'Q1-Dataset/1080-0.txt': 1, 'Q1-Dataset/pg70817.txt': 5, 'Q1-Dataset/pg1998.txt': 7}, 'modified': {'Q1-Dataset/pg1513.txt': 1, 'Q1-Dataset/2160-0.txt': 1, 'Q1-Dataset/pg11.txt': 1, 'Q1-Dataset/pg2600.txt': 1, 'Q1-Dataset/pg345.txt': 1, 'Q1-Dataset/pg64317.txt': 1, 'Q1-Dataset/pg70815.txt': 1, 'Q1-Dataset/1080-0.txt': 1, 'Q1-Dataset/pg70817.txt': 1, 'Q1-Dataset/pg1998.txt': 1}, 'punitive': {'Q1-Dataset/pg1513.txt': 1, 'Q1-Dataset/2160-0.txt': 1, 'Q1-Dataset/pg11.txt': 1, 'Q1-Dataset/pg2600.txt': 1, 'Q1-Dataset/pg345.txt': 1, 'Q1-Dataset/pg64317.txt': 1, 'Q1-Dataset/pg70815.txt': 1, 'Q1-Dataset/1080-0.txt': 1, 'Q1-Dataset/pg70817.txt': 1, 'Q1-Dataset/pg1998.txt': 2}, 'states': {'Q1-Dataset/pg1513.txt': 20, 'Q1-Dataset/2160-0.txt': 16, 'Q1-Dataset/pg11.txt': 20, 'Q1-Dataset/pg2600.txt': 25, 'Q1-Dataset/pg345.txt': 23, 'Q1-Dataset/pg64317.txt': 21, 'Q1-Dataset/pg70815.txt': 20, 'Q1-Dataset/1080-0.txt': 20, 'Q1-Dataset/pg70817.txt': 20, 'Q1-Dataset/pg1998.txt': 21}, 'also': {'Q1-Dataset/pg1513.txt': 2, 'Q1-Dataset/2160-0.txt': 41, 'Q1-Dataset/pg11.txt': 4, 'Q1-Dataset/pg2600.txt': 268, 'Q1-Dataset/pg345.txt': 43, 'Q1-Dataset/pg64317.txt': 7, 'Q1-Dataset/pg70815.txt': 20, 'Q1-Dataset/1080-0.txt': 2, 'Q1-Dataset/pg70817.txt': 4, 'Q1-Dataset/pg1998.txt': 337}, 'north': {'Q1-Dataset/pg1513.txt': 2, 'Q1-Dataset/2160-0.txt': 18, 'Q1-Dataset/pg11.txt': 1, 'Q1-Dataset/pg2600.txt': 2, 'Q1-Dataset/pg345.txt': 13, 'Q1-Dataset/pg64317.txt': 4, 'Q1-Dataset/pg70815.txt': 24, 'Q1-Dataset/1080-0.txt': 1, 'Q1-Dataset/pg70817.txt': 4, 'Q1-Dataset/pg1998.txt': 2}, 'updated': {'Q1-Dataset/pg1513.txt': 2, 'Q1-Dataset/2160-0.txt': 2, 'Q1-Dataset/pg11.txt': 2, 'Q1-Dataset/pg2600.txt': 2, 'Q1-Dataset/pg345.txt': 2, 'Q1-Dataset/pg64317.txt': 2, 'Q1-Dataset/pg70815.txt': 1, 'Q1-Dataset/1080-0.txt': 2, 'Q1-Dataset/pg70817.txt': 1, 'Q1-Dataset/pg1998.txt': 2}, 'it': {'Q1-Dataset/pg1513.txt': 242, 'Q1-Dataset/2160-0.txt': 850, 'Q1-Dataset/pg11.txt': 538, 'Q1-Dataset/pg2600.txt': 5179, 'Q1-Dataset/pg345.txt': 2137, 'Q1-Dataset/pg64317.txt': 539, 'Q1-Dataset/pg70815.txt': 907, 'Q1-Dataset/1080-0.txt': 41, 'Q1-Dataset/pg70817.txt': 325, 'Q1-Dataset/pg1998.txt': 1477}, 'forth': {'Q1-Dataset/pg1513.txt': 20, 'Q1-Dataset/2160-0.txt': 34, 'Q1-Dataset/pg11.txt': 8, 'Q1-Dataset/pg2600.txt': 19, 'Q1-Dataset/pg345.txt': 18, 'Q1-Dataset/pg64317.txt': 11, 'Q1-Dataset/pg70815.txt': 16, 'Q1-Dataset/1080-0.txt': 8, 'Q1-Dataset/pg70817.txt': 9, 'Q1-Dataset/pg1998.txt': 37}, 'periodic': {'Q1-Dataset/pg1513.txt': 1, 'Q1-Dataset/2160-0.txt': 1, 'Q1-Dataset/pg11.txt': 1, 'Q1-Dataset/pg2600.txt': 1, 'Q1-Dataset/pg345.txt': 1, 'Q1-Dataset/pg64317.txt': 1, 'Q1-Dataset/pg70815.txt': 1, 'Q1-Dataset/1080-0.txt': 1, 'Q1-Dataset/pg70817.txt': 1, 'Q1-Dataset/pg1998.txt': 1}, 'posted': {'Q1-Dataset/pg1513.txt': 4, 'Q1-Dataset/2160-0.txt': 5, 'Q1-Dataset/pg11.txt': 4, 'Q1-Dataset/pg2600.txt': 8, 'Q1-Dataset/pg345.txt': 6, 'Q1-Dataset/pg64317.txt': 4, 'Q1-Dataset/pg70815.txt': 4, 'Q1-Dataset/1080-0.txt': 4, 'Q1-Dataset/pg70817.txt': 4, 'Q1-Dataset/pg1998.txt': 4}, 'agreed': {'Q1-Dataset/pg1513.txt': 1, 'Q1-Dataset/2160-0.txt': 21, 'Q1-Dataset/pg11.txt': 1, 'Q1-Dataset/pg2600.txt': 33, 'Q1-Dataset/pg345.txt': 13, 'Q1-Dataset/pg64317.txt': 10, 'Q1-Dataset/pg70815.txt': 2, 'Q1-Dataset/1080-0.txt': 2, 'Q1-Dataset/pg70817.txt': 6, 'Q1-Dataset/pg1998.txt': 2}, 'not': {'Q1-Dataset/pg1513.txt': 288, 'Q1-Dataset/2160-0.txt': 923, 'Q1-Dataset/pg11.txt': 165, 'Q1-Dataset/pg2600.txt': 4665, 'Q1-Dataset/pg345.txt': 1410, 'Q1-Dataset/pg64317.txt': 97, 'Q1-Dataset/pg70815.txt': 586, 'Q1-Dataset/1080-0.txt': 44, 'Q1-Dataset/pg70817.txt': 115, 'Q1-Dataset/pg1998.txt': 1003}, 'contain': {'Q1-Dataset/pg1513.txt': 2, 'Q1-Dataset/2160-0.txt': 7, 'Q1-Dataset/pg11.txt': 2, 'Q1-Dataset/pg2600.txt': 5, 'Q1-Dataset/pg345.txt': 6, 'Q1-Dataset/pg64317.txt': 3, 'Q1-Dataset/pg70815.txt': 2, 'Q1-Dataset/1080-0.txt': 2, 'Q1-Dataset/pg70817.txt': 2, 'Q1-Dataset/pg1998.txt': 2}, 'reading': {'Q1-Dataset/pg1513.txt': 1, 'Q1-Dataset/2160-0.txt': 6, 'Q1-Dataset/pg11.txt': 4, 'Q1-Dataset/pg2600.txt': 83, 'Q1-Dataset/pg345.txt': 18, 'Q1-Dataset/pg64317.txt': 4, 'Q1-Dataset/pg70815.txt': 4, 'Q1-Dataset/1080-0.txt': 1, 'Q1-Dataset/pg70817.txt': 2, 'Q1-Dataset/pg1998.txt': 8}, 'trademarkcopyright': {'Q1-Dataset/pg1513.txt': 1, 'Q1-Dataset/2160-0.txt': 1, 'Q1-Dataset/pg11.txt': 1, 'Q1-Dataset/pg2600.txt': 1, 'Q1-Dataset/pg345.txt': 1, 'Q1-Dataset/pg64317.txt': 1, 'Q1-Dataset/pg70815.txt': 1, 'Q1-Dataset/1080-0.txt': 1, 'Q1-Dataset/pg70817.txt': 1, 'Q1-Dataset/pg1998.txt': 1}, 'fell': {'Q1-Dataset/pg1513.txt': 1, 'Q1-Dataset/2160-0.txt': 15, 'Q1-Dataset/pg11.txt': 6, 'Q1-Dataset/pg2600.txt': 125, 'Q1-Dataset/pg345.txt': 59, 'Q1-Dataset/pg64317.txt': 17, 'Q1-Dataset/pg70815.txt': 25, 'Q1-Dataset/1080-0.txt': 1, 'Q1-Dataset/pg70817.txt': 11, 'Q1-Dataset/pg1998.txt': 12}, 'sentence': {'Q1-Dataset/pg1513.txt': 4, 'Q1-Dataset/2160-0.txt': 2, 'Q1-Dataset/pg11.txt': 8, 'Q1-Dataset/pg2600.txt': 14, 'Q1-Dataset/pg345.txt': 3, 'Q1-Dataset/pg64317.txt': 4, 'Q1-Dataset/pg70815.txt': 3, 'Q1-Dataset/1080-0.txt': 2, 'Q1-Dataset/pg70817.txt': 3, 'Q1-Dataset/pg1998.txt': 2}, 'data': {'Q1-Dataset/pg1513.txt': 1, 'Q1-Dataset/2160-0.txt': 1, 'Q1-Dataset/pg11.txt': 1, 'Q1-Dataset/pg2600.txt': 1, 'Q1-Dataset/pg345.txt': 3, 'Q1-Dataset/pg64317.txt': 1, 'Q1-Dataset/pg70815.txt': 1, 'Q1-Dataset/1080-0.txt': 1, 'Q1-Dataset/pg70817.txt': 1, 'Q1-Dataset/pg1998.txt': 1}, 'fast': {'Q1-Dataset/pg1513.txt': 3, 'Q1-Dataset/2160-0.txt': 8, 'Q1-Dataset/pg11.txt': 4, 'Q1-Dataset/pg2600.txt': 23, 'Q1-Dataset/pg345.txt': 15, 'Q1-Dataset/pg64317.txt': 3, 'Q1-Dataset/pg70815.txt': 6, 'Q1-Dataset/1080-0.txt': 1, 'Q1-Dataset/pg70817.txt': 3, 'Q1-Dataset/pg1998.txt': 13}, 'brought': {'Q1-Dataset/pg1513.txt': 1, 'Q1-Dataset/2160-0.txt': 62, 'Q1-Dataset/pg11.txt': 3, 'Q1-Dataset/pg2600.txt': 210, 'Q1-Dataset/pg345.txt': 36, 'Q1-Dataset/pg64317.txt': 18, 'Q1-Dataset/pg70815.txt': 21, 'Q1-Dataset/1080-0.txt': 1, 'Q1-Dataset/pg70817.txt': 7, 'Q1-Dataset/pg1998.txt': 8}, 'pages': {'Q1-Dataset/pg1513.txt': 1, 'Q1-Dataset/2160-0.txt': 1, 'Q1-Dataset/pg11.txt': 1, 'Q1-Dataset/pg2600.txt': 9, 'Q1-Dataset/pg345.txt': 3, 'Q1-Dataset/pg64317.txt': 4, 'Q1-Dataset/pg70815.txt': 1, 'Q1-Dataset/1080-0.txt': 1, 'Q1-Dataset/pg70817.txt': 4, 'Q1-Dataset/pg1998.txt': 4}, 'its': {'Q1-Dataset/pg1513.txt': 3, 'Q1-Dataset/2160-0.txt': 96, 'Q1-Dataset/pg11.txt': 114, 'Q1-Dataset/pg2600.txt': 945, 'Q1-Dataset/pg345.txt': 153, 'Q1-Dataset/pg64317.txt': 96, 'Q1-Dataset/pg70815.txt': 239, 'Q1-Dataset/1080-0.txt': 4, 'Q1-Dataset/pg70817.txt': 71, 'Q1-Dataset/pg1998.txt': 265}, 'without': {'Q1-Dataset/pg1513.txt': 21, 'Q1-Dataset/2160-0.txt': 305, 'Q1-Dataset/pg11.txt': 33, 'Q1-Dataset/pg2600.txt': 670, 'Q1-Dataset/pg345.txt': 140, 'Q1-Dataset/pg64317.txt': 35, 'Q1-Dataset/pg70815.txt': 57, 'Q1-Dataset/1080-0.txt': 12, 'Q1-Dataset/pg70817.txt': 31, 'Q1-Dataset/pg1998.txt': 73}, 'few': {'Q1-Dataset/pg1513.txt': 1, 'Q1-Dataset/2160-0.txt': 69, 'Q1-Dataset/pg11.txt': 10, 'Q1-Dataset/pg2600.txt': 171, 'Q1-Dataset/pg345.txt': 86, 'Q1-Dataset/pg64317.txt': 26, 'Q1-Dataset/pg70815.txt': 44, 'Q1-Dataset/1080-0.txt': 1, 'Q1-Dataset/pg70817.txt': 25, 'Q1-Dataset/pg1998.txt': 12}, 'hypertext': {'Q1-Dataset/pg1513.txt': 1, 'Q1-Dataset/2160-0.txt': 1, 'Q1-Dataset/pg11.txt': 1, 'Q1-Dataset/pg2600.txt': 1, 'Q1-Dataset/pg345.txt': 1, 'Q1-Dataset/pg64317.txt': 1, 'Q1-Dataset/pg70815.txt': 1, 'Q1-Dataset/1080-0.txt': 1, 'Q1-Dataset/pg70817.txt': 1, 'Q1-Dataset/pg1998.txt': 1}, 'destroy': {'Q1-Dataset/pg1513.txt': 2, 'Q1-Dataset/2160-0.txt': 5, 'Q1-Dataset/pg11.txt': 2, 'Q1-Dataset/pg2600.txt': 35, 'Q1-Dataset/pg345.txt': 20, 'Q1-Dataset/pg64317.txt': 2, 'Q1-Dataset/pg70815.txt': 13, 'Q1-Dataset/1080-0.txt': 2, 'Q1-Dataset/pg70817.txt': 3, 'Q1-Dataset/pg1998.txt': 8}, 'every': {'Q1-Dataset/pg1513.txt': 10, 'Q1-Dataset/2160-0.txt': 212, 'Q1-Dataset/pg11.txt': 12, 'Q1-Dataset/pg2600.txt': 334, 'Q1-Dataset/pg345.txt': 84, 'Q1-Dataset/pg64317.txt': 27, 'Q1-Dataset/pg70815.txt': 52, 'Q1-Dataset/1080-0.txt': 3, 'Q1-Dataset/pg70817.txt': 21, 'Q1-Dataset/pg1998.txt': 125}, 'my': {'Q1-Dataset/pg1513.txt': 356, 'Q1-Dataset/2160-0.txt': 1267, 'Q1-Dataset/pg11.txt': 58, 'Q1-Dataset/pg2600.txt': 1220, 'Q1-Dataset/pg345.txt': 1257, 'Q1-Dataset/pg64317.txt': 242, 'Q1-Dataset/pg70815.txt': 94, 'Q1-Dataset/1080-0.txt': 20, 'Q1-Dataset/pg70817.txt': 74, 'Q1-Dataset/pg1998.txt': 974}, 'profits': {'Q1-Dataset/pg1513.txt': 1, 'Q1-Dataset/2160-0.txt': 4, 'Q1-Dataset/pg11.txt': 1, 'Q1-Dataset/pg2600.txt': 1, 'Q1-Dataset/pg345.txt': 1, 'Q1-Dataset/pg64317.txt': 1, 'Q1-Dataset/pg70815.txt': 2, 'Q1-Dataset/1080-0.txt': 1, 'Q1-Dataset/pg70817.txt': 1, 'Q1-Dataset/pg1998.txt': 1}, 'since': {'Q1-Dataset/pg1513.txt': 11, 'Q1-Dataset/2160-0.txt': 44, 'Q1-Dataset/pg11.txt': 4, 'Q1-Dataset/pg2600.txt': 188, 'Q1-Dataset/pg345.txt': 85, 'Q1-Dataset/pg64317.txt': 12, 'Q1-Dataset/pg70815.txt': 63, 'Q1-Dataset/1080-0.txt': 1, 'Q1-Dataset/pg70817.txt': 8, 'Q1-Dataset/pg1998.txt': 17}, 'concept': {'Q1-Dataset/pg1513.txt': 2, 'Q1-Dataset/2160-0.txt': 2, 'Q1-Dataset/pg11.txt': 2, 'Q1-Dataset/pg2600.txt': 3, 'Q1-Dataset/pg345.txt': 2, 'Q1-Dataset/pg64317.txt': 2, 'Q1-Dataset/pg70815.txt': 2, 'Q1-Dataset/1080-0.txt': 2, 'Q1-Dataset/pg70817.txt': 2, 'Q1-Dataset/pg1998.txt': 3}, 'except': {'Q1-Dataset/pg1513.txt': 4, 'Q1-Dataset/2160-0.txt': 31, 'Q1-Dataset/pg11.txt': 8, 'Q1-Dataset/pg2600.txt': 71, 'Q1-Dataset/pg345.txt': 40, 'Q1-Dataset/pg64317.txt': 19, 'Q1-Dataset/pg70815.txt': 21, 'Q1-Dataset/1080-0.txt': 6, 'Q1-Dataset/pg70817.txt': 8, 'Q1-Dataset/pg1998.txt': 23}, 'defective': {'Q1-Dataset/pg1513.txt': 3, 'Q1-Dataset/2160-0.txt': 6, 'Q1-Dataset/pg11.txt': 3, 'Q1-Dataset/pg2600.txt': 4, 'Q1-Dataset/pg345.txt': 3, 'Q1-Dataset/pg64317.txt': 3, 'Q1-Dataset/pg70815.txt': 3, 'Q1-Dataset/1080-0.txt': 3, 'Q1-Dataset/pg70817.txt': 3, 'Q1-Dataset/pg1998.txt': 3}, 'merchantability': {'Q1-Dataset/pg1513.txt': 1, 'Q1-Dataset/2160-0.txt': 1, 'Q1-Dataset/pg11.txt': 1, 'Q1-Dataset/pg2600.txt': 1, 'Q1-Dataset/pg345.txt': 1, 'Q1-Dataset/pg64317.txt': 1, 'Q1-Dataset/pg70815.txt': 1, 'Q1-Dataset/1080-0.txt': 1, 'Q1-Dataset/pg70817.txt': 1, 'Q1-Dataset/pg1998.txt': 1}, 'maximum': {'Q1-Dataset/pg1513.txt': 1, 'Q1-Dataset/2160-0.txt': 1, 'Q1-Dataset/pg11.txt': 1, 'Q1-Dataset/pg2600.txt': 4, 'Q1-Dataset/pg345.txt': 1, 'Q1-Dataset/pg64317.txt': 1, 'Q1-Dataset/pg70815.txt': 2, 'Q1-Dataset/1080-0.txt': 1, 'Q1-Dataset/pg70817.txt': 1, 'Q1-Dataset/pg1998.txt': 1}, 'physical': {'Q1-Dataset/pg1513.txt': 2, 'Q1-Dataset/2160-0.txt': 2, 'Q1-Dataset/pg11.txt': 2, 'Q1-Dataset/pg2600.txt': 36, 'Q1-Dataset/pg345.txt': 10, 'Q1-Dataset/pg64317.txt': 10, 'Q1-Dataset/pg70815.txt': 9, 'Q1-Dataset/1080-0.txt': 2, 'Q1-Dataset/pg70817.txt': 4, 'Q1-Dataset/pg1998.txt': 4}, 'body': {'Q1-Dataset/pg1513.txt': 9, 'Q1-Dataset/2160-0.txt': 43, 'Q1-Dataset/pg11.txt': 2, 'Q1-Dataset/pg2600.txt': 99, 'Q1-Dataset/pg345.txt': 54, 'Q1-Dataset/pg64317.txt': 19, 'Q1-Dataset/pg70815.txt': 54, 'Q1-Dataset/1080-0.txt': 1, 'Q1-Dataset/pg70817.txt': 4, 'Q1-Dataset/pg1998.txt': 70}, 'under': {'Q1-Dataset/pg1513.txt': 12, 'Q1-Dataset/2160-0.txt': 112, 'Q1-Dataset/pg11.txt': 22, 'Q1-Dataset/pg2600.txt': 371, 'Q1-Dataset/pg345.txt': 69, 'Q1-Dataset/pg64317.txt': 38, 'Q1-Dataset/pg70815.txt': 21, 'Q1-Dataset/1080-0.txt': 10, 'Q1-Dataset/pg70817.txt': 19, 'Q1-Dataset/pg1998.txt': 34}, 'methods': {'Q1-Dataset/pg1513.txt': 1, 'Q1-Dataset/2160-0.txt': 1, 'Q1-Dataset/pg11.txt': 1, 'Q1-Dataset/pg2600.txt': 10, 'Q1-Dataset/pg345.txt': 1, 'Q1-Dataset/pg64317.txt': 1, 'Q1-Dataset/pg70815.txt': 2, 'Q1-Dataset/1080-0.txt': 2, 'Q1-Dataset/pg70817.txt': 1, 'Q1-Dataset/pg1998.txt': 1}, 'wish': {'Q1-Dataset/pg1513.txt': 7, 'Q1-Dataset/2160-0.txt': 29, 'Q1-Dataset/pg11.txt': 22, 'Q1-Dataset/pg2600.txt': 185, 'Q1-Dataset/pg345.txt': 51, 'Q1-Dataset/pg64317.txt': 3, 'Q1-Dataset/pg70815.txt': 16, 'Q1-Dataset/1080-0.txt': 1, 'Q1-Dataset/pg70817.txt': 4, 'Q1-Dataset/pg1998.txt': 25}, 'immediately': {'Q1-Dataset/pg1513.txt': 2, 'Q1-Dataset/2160-0.txt': 56, 'Q1-Dataset/pg11.txt': 3, 'Q1-Dataset/pg2600.txt': 130, 'Q1-Dataset/pg345.txt': 6, 'Q1-Dataset/pg64317.txt': 15, 'Q1-Dataset/pg70815.txt': 17, 'Q1-Dataset/1080-0.txt': 1, 'Q1-Dataset/pg70817.txt': 5, 'Q1-Dataset/pg1998.txt': 15}, 'so': {'Q1-Dataset/pg1513.txt': 149, 'Q1-Dataset/2160-0.txt': 598, 'Q1-Dataset/pg11.txt': 152, 'Q1-Dataset/pg2600.txt': 1853, 'Q1-Dataset/pg345.txt': 1094, 'Q1-Dataset/pg64317.txt': 137, 'Q1-Dataset/pg70815.txt': 230, 'Q1-Dataset/1080-0.txt': 15, 'Q1-Dataset/pg70817.txt': 52, 'Q1-Dataset/pg1998.txt': 306}, 'constant': {'Q1-Dataset/pg1513.txt': 1, 'Q1-Dataset/2160-0.txt': 11, 'Q1-Dataset/pg11.txt': 3, 'Q1-Dataset/pg2600.txt': 18, 'Q1-Dataset/pg345.txt': 4, 'Q1-Dataset/pg64317.txt': 5, 'Q1-Dataset/pg70815.txt': 9, 'Q1-Dataset/1080-0.txt': 3, 'Q1-Dataset/pg70817.txt': 2, 'Q1-Dataset/pg1998.txt': 1}, 'outside': {'Q1-Dataset/pg1513.txt': 2, 'Q1-Dataset/2160-0.txt': 5, 'Q1-Dataset/pg11.txt': 5, 'Q1-Dataset/pg2600.txt': 46, 'Q1-Dataset/pg345.txt': 37, 'Q1-Dataset/pg64317.txt': 18, 'Q1-Dataset/pg70815.txt': 5, 'Q1-Dataset/1080-0.txt': 2, 'Q1-Dataset/pg70817.txt': 18, 'Q1-Dataset/pg1998.txt': 7}, 'applicable': {'Q1-Dataset/pg1513.txt': 3, 'Q1-Dataset/2160-0.txt': 4, 'Q1-Dataset/pg11.txt': 3, 'Q1-Dataset/pg2600.txt': 5, 'Q1-Dataset/pg345.txt': 3, 'Q1-Dataset/pg64317.txt': 3, 'Q1-Dataset/pg70815.txt': 3, 'Q1-Dataset/1080-0.txt': 3, 'Q1-Dataset/pg70817.txt': 3, 'Q1-Dataset/pg1998.txt': 3}, 'possessed': {'Q1-Dataset/pg1513.txt': 1, 'Q1-Dataset/2160-0.txt': 8, 'Q1-Dataset/pg11.txt': 1, 'Q1-Dataset/pg2600.txt': 21, 'Q1-Dataset/pg345.txt': 2, 'Q1-Dataset/pg64317.txt': 4, 'Q1-Dataset/pg70815.txt': 4, 'Q1-Dataset/1080-0.txt': 1, 'Q1-Dataset/pg70817.txt': 5, 'Q1-Dataset/pg1998.txt': 7}, 'or': {'Q1-Dataset/pg1513.txt': 144, 'Q1-Dataset/2160-0.txt': 486, 'Q1-Dataset/pg11.txt': 154, 'Q1-Dataset/pg2600.txt': 1589, 'Q1-Dataset/pg345.txt': 524, 'Q1-Dataset/pg64317.txt': 173, 'Q1-Dataset/pg70815.txt': 297, 'Q1-Dataset/1080-0.txt': 113, 'Q1-Dataset/pg70817.txt': 124, 'Q1-Dataset/pg1998.txt': 289}, 'identification': {'Q1-Dataset/pg1513.txt': 1, 'Q1-Dataset/2160-0.txt': 1, 'Q1-Dataset/pg11.txt': 1, 'Q1-Dataset/pg2600.txt': 2, 'Q1-Dataset/pg345.txt': 1, 'Q1-Dataset/pg64317.txt': 1, 'Q1-Dataset/pg70815.txt': 1, 'Q1-Dataset/1080-0.txt': 1, 'Q1-Dataset/pg70817.txt': 1, 'Q1-Dataset/pg1998.txt': 1}, 'onethe': {'Q1-Dataset/pg1513.txt': 1, 'Q1-Dataset/2160-0.txt': 1, 'Q1-Dataset/pg11.txt': 1, 'Q1-Dataset/pg2600.txt': 1, 'Q1-Dataset/pg345.txt': 1, 'Q1-Dataset/pg64317.txt': 1, 'Q1-Dataset/pg70815.txt': 1, 'Q1-Dataset/1080-0.txt': 1, 'Q1-Dataset/pg70817.txt': 1, 'Q1-Dataset/pg1998.txt': 3}, 'previous': {'Q1-Dataset/pg1513.txt': 1, 'Q1-Dataset/2160-0.txt': 2, 'Q1-Dataset/pg11.txt': 1, 'Q1-Dataset/pg2600.txt': 39, 'Q1-Dataset/pg345.txt': 9, 'Q1-Dataset/pg64317.txt': 1, 'Q1-Dataset/pg70815.txt': 2, 'Q1-Dataset/1080-0.txt': 1, 'Q1-Dataset/pg70817.txt': 3, 'Q1-Dataset/pg1998.txt': 5}, 'exporting': {'Q1-Dataset/pg1513.txt': 1, 'Q1-Dataset/2160-0.txt': 1, 'Q1-Dataset/pg11.txt': 1, 'Q1-Dataset/pg2600.txt': 1, 'Q1-Dataset/pg345.txt': 1, 'Q1-Dataset/pg64317.txt': 1, 'Q1-Dataset/pg70815.txt': 1, 'Q1-Dataset/1080-0.txt': 1, 'Q1-Dataset/pg70817.txt': 1, 'Q1-Dataset/pg1998.txt': 1}, 'city': {'Q1-Dataset/pg1513.txt': 5, 'Q1-Dataset/2160-0.txt': 25, 'Q1-Dataset/pg11.txt': 1, 'Q1-Dataset/pg2600.txt': 67, 'Q1-Dataset/pg345.txt': 8, 'Q1-Dataset/pg64317.txt': 20, 'Q1-Dataset/pg70815.txt': 14, 'Q1-Dataset/1080-0.txt': 4, 'Q1-Dataset/pg70817.txt': 8, 'Q1-Dataset/pg1998.txt': 18}, 'shall': {'Q1-Dataset/pg1513.txt': 112, 'Q1-Dataset/2160-0.txt': 221, 'Q1-Dataset/pg11.txt': 27, 'Q1-Dataset/pg2600.txt': 248, 'Q1-Dataset/pg345.txt': 426, 'Q1-Dataset/pg64317.txt': 6, 'Q1-Dataset/pg70815.txt': 96, 'Q1-Dataset/1080-0.txt': 9, 'Q1-Dataset/pg70817.txt': 6, 'Q1-Dataset/pg1998.txt': 202}, 'small': {'Q1-Dataset/pg1513.txt': 4, 'Q1-Dataset/2160-0.txt': 54, 'Q1-Dataset/pg11.txt': 12, 'Q1-Dataset/pg2600.txt': 181, 'Q1-Dataset/pg345.txt': 41, 'Q1-Dataset/pg64317.txt': 34, 'Q1-Dataset/pg70815.txt': 34, 'Q1-Dataset/1080-0.txt': 2, 'Q1-Dataset/pg70817.txt': 16, 'Q1-Dataset/pg1998.txt': 80}, 'found': {'Q1-Dataset/pg1513.txt': 9, 'Q1-Dataset/2160-0.txt': 120, 'Q1-Dataset/pg11.txt': 35, 'Q1-Dataset/pg2600.txt': 222, 'Q1-Dataset/pg345.txt': 155, 'Q1-Dataset/pg64317.txt': 38, 'Q1-Dataset/pg70815.txt': 74, 'Q1-Dataset/1080-0.txt': 5, 'Q1-Dataset/pg70817.txt': 25, 'Q1-Dataset/pg1998.txt': 83}, 'whom': {'Q1-Dataset/pg1513.txt': 5, 'Q1-Dataset/2160-0.txt': 136, 'Q1-Dataset/pg11.txt': 2, 'Q1-Dataset/pg2600.txt': 400, 'Q1-Dataset/pg345.txt': 43, 'Q1-Dataset/pg64317.txt': 10, 'Q1-Dataset/pg70815.txt': 23, 'Q1-Dataset/1080-0.txt': 2, 'Q1-Dataset/pg70817.txt': 2, 'Q1-Dataset/pg1998.txt': 100}, 'wife': {'Q1-Dataset/pg1513.txt': 20, 'Q1-Dataset/2160-0.txt': 42, 'Q1-Dataset/pg11.txt': 1, 'Q1-Dataset/pg2600.txt': 243, 'Q1-Dataset/pg345.txt': 30, 'Q1-Dataset/pg64317.txt': 22, 'Q1-Dataset/pg70815.txt': 1, 'Q1-Dataset/1080-0.txt': 1, 'Q1-Dataset/pg70817.txt': 2, 'Q1-Dataset/pg1998.txt': 2}, 'general': {'Q1-Dataset/pg1513.txt': 5, 'Q1-Dataset/2160-0.txt': 48, 'Q1-Dataset/pg11.txt': 6, 'Q1-Dataset/pg2600.txt': 484, 'Q1-Dataset/pg345.txt': 17, 'Q1-Dataset/pg64317.txt': 5, 'Q1-Dataset/pg70815.txt': 9, 'Q1-Dataset/1080-0.txt': 3, 'Q1-Dataset/pg70817.txt': 4, 'Q1-Dataset/pg1998.txt': 9}, 'facility': {'Q1-Dataset/pg1513.txt': 1, 'Q1-Dataset/2160-0.txt': 1, 'Q1-Dataset/pg11.txt': 1, 'Q1-Dataset/pg2600.txt': 2, 'Q1-Dataset/pg345.txt': 2, 'Q1-Dataset/pg64317.txt': 1, 'Q1-Dataset/pg70815.txt': 2, 'Q1-Dataset/1080-0.txt': 1, 'Q1-Dataset/pg70817.txt': 1, 'Q1-Dataset/pg1998.txt': 1}, 'employees': {'Q1-Dataset/pg1513.txt': 1, 'Q1-Dataset/2160-0.txt': 2, 'Q1-Dataset/pg11.txt': 1, 'Q1-Dataset/pg2600.txt': 1, 'Q1-Dataset/pg345.txt': 1, 'Q1-Dataset/pg64317.txt': 1, 'Q1-Dataset/pg70815.txt': 1, 'Q1-Dataset/1080-0.txt': 1, 'Q1-Dataset/pg70817.txt': 1, 'Q1-Dataset/pg1998.txt': 1}, 'easy': {'Q1-Dataset/pg1513.txt': 1, 'Q1-Dataset/2160-0.txt': 19, 'Q1-Dataset/pg11.txt': 3, 'Q1-Dataset/pg2600.txt': 49, 'Q1-Dataset/pg345.txt': 16, 'Q1-Dataset/pg64317.txt': 3, 'Q1-Dataset/pg70815.txt': 7, 'Q1-Dataset/1080-0.txt': 3, 'Q1-Dataset/pg70817.txt': 4, 'Q1-Dataset/pg1998.txt': 4}, 'discontinue': {'Q1-Dataset/pg1513.txt': 1, 'Q1-Dataset/2160-0.txt': 1, 'Q1-Dataset/pg11.txt': 1, 'Q1-Dataset/pg2600.txt': 1, 'Q1-Dataset/pg345.txt': 1, 'Q1-Dataset/pg64317.txt': 1, 'Q1-Dataset/pg70815.txt': 1, 'Q1-Dataset/1080-0.txt': 1, 'Q1-Dataset/pg70817.txt': 1, 'Q1-Dataset/pg1998.txt': 2}, 'variety': {'Q1-Dataset/pg1513.txt': 1, 'Q1-Dataset/2160-0.txt': 23, 'Q1-Dataset/pg11.txt': 1, 'Q1-Dataset/pg2600.txt': 12, 'Q1-Dataset/pg345.txt': 1, 'Q1-Dataset/pg64317.txt': 2, 'Q1-Dataset/pg70815.txt': 2, 'Q1-Dataset/1080-0.txt': 1, 'Q1-Dataset/pg70817.txt': 2, 'Q1-Dataset/pg1998.txt': 2}, 'about': {'Q1-Dataset/pg1513.txt': 20, 'Q1-Dataset/2160-0.txt': 146, 'Q1-Dataset/pg11.txt': 102, 'Q1-Dataset/pg2600.txt': 1016, 'Q1-Dataset/pg345.txt': 239, 'Q1-Dataset/pg64317.txt': 157, 'Q1-Dataset/pg70815.txt': 133, 'Q1-Dataset/1080-0.txt': 13, 'Q1-Dataset/pg70817.txt': 58, 'Q1-Dataset/pg1998.txt': 130}, 'be': {'Q1-Dataset/pg1513.txt': 227, 'Q1-Dataset/2160-0.txt': 985, 'Q1-Dataset/pg11.txt': 165, 'Q1-Dataset/pg2600.txt': 2448, 'Q1-Dataset/pg345.txt': 1125, 'Q1-Dataset/pg64317.txt': 140, 'Q1-Dataset/pg70815.txt': 325, 'Q1-Dataset/1080-0.txt': 70, 'Q1-Dataset/pg70817.txt': 103, 'Q1-Dataset/pg1998.txt': 782}, 'first': {'Q1-Dataset/pg1513.txt': 34, 'Q1-Dataset/2160-0.txt': 114, 'Q1-Dataset/pg11.txt': 49, 'Q1-Dataset/pg2600.txt': 618, 'Q1-Dataset/pg345.txt': 132, 'Q1-Dataset/pg64317.txt': 55, 'Q1-Dataset/pg70815.txt': 93, 'Q1-Dataset/1080-0.txt': 4, 'Q1-Dataset/pg70817.txt': 18, 'Q1-Dataset/pg1998.txt': 116}, 'friend': {'Q1-Dataset/pg1513.txt': 15, 'Q1-Dataset/2160-0.txt': 111, 'Q1-Dataset/pg11.txt': 3, 'Q1-Dataset/pg2600.txt': 163, 'Q1-Dataset/pg345.txt': 182, 'Q1-Dataset/pg64317.txt': 17, 'Q1-Dataset/pg70815.txt': 30, 'Q1-Dataset/1080-0.txt': 4, 'Q1-Dataset/pg70817.txt': 3, 'Q1-Dataset/pg1998.txt': 57}, 'original': {'Q1-Dataset/pg1513.txt': 1, 'Q1-Dataset/2160-0.txt': 28, 'Q1-Dataset/pg11.txt': 1, 'Q1-Dataset/pg2600.txt': 16, 'Q1-Dataset/pg345.txt': 5, 'Q1-Dataset/pg64317.txt': 2, 'Q1-Dataset/pg70815.txt': 2, 'Q1-Dataset/1080-0.txt': 1, 'Q1-Dataset/pg70817.txt': 2, 'Q1-Dataset/pg1998.txt': 10}, 'seem': {'Q1-Dataset/pg1513.txt': 1, 'Q1-Dataset/2160-0.txt': 27, 'Q1-Dataset/pg11.txt': 8, 'Q1-Dataset/pg2600.txt': 82, 'Q1-Dataset/pg345.txt': 65, 'Q1-Dataset/pg64317.txt': 4, 'Q1-Dataset/pg70815.txt': 14, 'Q1-Dataset/1080-0.txt': 1, 'Q1-Dataset/pg70817.txt': 4, 'Q1-Dataset/pg1998.txt': 32}, 'accept': {'Q1-Dataset/pg1513.txt': 1, 'Q1-Dataset/2160-0.txt': 8, 'Q1-Dataset/pg11.txt': 1, 'Q1-Dataset/pg2600.txt': 24, 'Q1-Dataset/pg345.txt': 17, 'Q1-Dataset/pg64317.txt': 2, 'Q1-Dataset/pg70815.txt': 6, 'Q1-Dataset/1080-0.txt': 1, 'Q1-Dataset/pg70817.txt': 2, 'Q1-Dataset/pg1998.txt': 6}, 'main': {'Q1-Dataset/pg1513.txt': 1, 'Q1-Dataset/2160-0.txt': 3, 'Q1-Dataset/pg11.txt': 1, 'Q1-Dataset/pg2600.txt': 14, 'Q1-Dataset/pg345.txt': 10, 'Q1-Dataset/pg64317.txt': 4, 'Q1-Dataset/pg70815.txt': 7, 'Q1-Dataset/1080-0.txt': 1, 'Q1-Dataset/pg70817.txt': 1, 'Q1-Dataset/pg1998.txt': 3}, 'apply': {'Q1-Dataset/pg1513.txt': 1, 'Q1-Dataset/2160-0.txt': 4, 'Q1-Dataset/pg11.txt': 1, 'Q1-Dataset/pg2600.txt': 9, 'Q1-Dataset/pg345.txt': 2, 'Q1-Dataset/pg64317.txt': 1, 'Q1-Dataset/pg70815.txt': 2, 'Q1-Dataset/1080-0.txt': 1, 'Q1-Dataset/pg70817.txt': 1, 'Q1-Dataset/pg1998.txt': 1}, 'get': {'Q1-Dataset/pg1513.txt': 12, 'Q1-Dataset/2160-0.txt': 25, 'Q1-Dataset/pg11.txt': 46, 'Q1-Dataset/pg2600.txt': 356, 'Q1-Dataset/pg345.txt': 172, 'Q1-Dataset/pg64317.txt': 74, 'Q1-Dataset/pg70815.txt': 19, 'Q1-Dataset/1080-0.txt': 3, 'Q1-Dataset/pg70817.txt': 11, 'Q1-Dataset/pg1998.txt': 19}, 'contact': {'Q1-Dataset/pg1513.txt': 3, 'Q1-Dataset/2160-0.txt': 5, 'Q1-Dataset/pg11.txt': 3, 'Q1-Dataset/pg2600.txt': 8, 'Q1-Dataset/pg345.txt': 5, 'Q1-Dataset/pg64317.txt': 6, 'Q1-Dataset/pg70815.txt': 5, 'Q1-Dataset/1080-0.txt': 3, 'Q1-Dataset/pg70817.txt': 3, 'Q1-Dataset/pg1998.txt': 3}, 'alternate': {'Q1-Dataset/pg1513.txt': 1, 'Q1-Dataset/2160-0.txt': 1, 'Q1-Dataset/pg11.txt': 1, 'Q1-Dataset/pg2600.txt': 3, 'Q1-Dataset/pg345.txt': 1, 'Q1-Dataset/pg64317.txt': 1, 'Q1-Dataset/pg70815.txt': 1, 'Q1-Dataset/1080-0.txt': 1, 'Q1-Dataset/pg70817.txt': 1, 'Q1-Dataset/pg1998.txt': 1}, 'section': {'Q1-Dataset/pg1513.txt': 7, 'Q1-Dataset/2160-0.txt': 7, 'Q1-Dataset/pg11.txt': 7, 'Q1-Dataset/pg2600.txt': 15, 'Q1-Dataset/pg345.txt': 9, 'Q1-Dataset/pg64317.txt': 7, 'Q1-Dataset/pg70815.txt': 7, 'Q1-Dataset/1080-0.txt': 7, 'Q1-Dataset/pg70817.txt': 8, 'Q1-Dataset/pg1998.txt': 7}, 'notice': {'Q1-Dataset/pg1513.txt': 4, 'Q1-Dataset/2160-0.txt': 25, 'Q1-Dataset/pg11.txt': 8, 'Q1-Dataset/pg2600.txt': 69, 'Q1-Dataset/pg345.txt': 29, 'Q1-Dataset/pg64317.txt': 6, 'Q1-Dataset/pg70815.txt': 8, 'Q1-Dataset/1080-0.txt': 3, 'Q1-Dataset/pg70817.txt': 3, 'Q1-Dataset/pg1998.txt': 5}, 'intellectual': {'Q1-Dataset/pg1513.txt': 2, 'Q1-Dataset/2160-0.txt': 2, 'Q1-Dataset/pg11.txt': 2, 'Q1-Dataset/pg2600.txt': 24, 'Q1-Dataset/pg345.txt': 6, 'Q1-Dataset/pg64317.txt': 2, 'Q1-Dataset/pg70815.txt': 2, 'Q1-Dataset/1080-0.txt': 2, 'Q1-Dataset/pg70817.txt': 2, 'Q1-Dataset/pg1998.txt': 5}, 'direct': {'Q1-Dataset/pg1513.txt': 2, 'Q1-Dataset/2160-0.txt': 8, 'Q1-Dataset/pg11.txt': 1, 'Q1-Dataset/pg2600.txt': 49, 'Q1-Dataset/pg345.txt': 5, 'Q1-Dataset/pg64317.txt': 1, 'Q1-Dataset/pg70815.txt': 4, 'Q1-Dataset/1080-0.txt': 1, 'Q1-Dataset/pg70817.txt': 1, 'Q1-Dataset/pg1998.txt': 2}, 's': {'Q1-Dataset/pg1513.txt': 1, 'Q1-Dataset/2160-0.txt': 18, 'Q1-Dataset/pg11.txt': 1, 'Q1-Dataset/pg2600.txt': 10, 'Q1-Dataset/pg345.txt': 5, 'Q1-Dataset/pg64317.txt': 4, 'Q1-Dataset/pg70815.txt': 2, 'Q1-Dataset/1080-0.txt': 1, 'Q1-Dataset/pg70817.txt': 1, 'Q1-Dataset/pg1998.txt': 1}, 'common': {'Q1-Dataset/pg1513.txt': 2, 'Q1-Dataset/2160-0.txt': 43, 'Q1-Dataset/pg11.txt': 1, 'Q1-Dataset/pg2600.txt': 50, 'Q1-Dataset/pg345.txt': 23, 'Q1-Dataset/pg64317.txt': 5, 'Q1-Dataset/pg70815.txt': 11, 'Q1-Dataset/1080-0.txt': 3, 'Q1-Dataset/pg70817.txt': 1, 'Q1-Dataset/pg1998.txt': 15}, 'there': {'Q1-Dataset/pg1513.txt': 64, 'Q1-Dataset/2160-0.txt': 268, 'Q1-Dataset/pg11.txt': 76, 'Q1-Dataset/pg2600.txt': 1458, 'Q1-Dataset/pg345.txt': 768, 'Q1-Dataset/pg64317.txt': 191, 'Q1-Dataset/pg70815.txt': 297, 'Q1-Dataset/1080-0.txt': 10, 'Q1-Dataset/pg70817.txt': 81, 'Q1-Dataset/pg1998.txt': 489}, 'turn': {'Q1-Dataset/pg1513.txt': 12, 'Q1-Dataset/2160-0.txt': 39, 'Q1-Dataset/pg11.txt': 10, 'Q1-Dataset/pg2600.txt': 103, 'Q1-Dataset/pg345.txt': 33, 'Q1-Dataset/pg64317.txt': 10, 'Q1-Dataset/pg70815.txt': 22, 'Q1-Dataset/1080-0.txt': 2, 'Q1-Dataset/pg70817.txt': 9, 'Q1-Dataset/pg1998.txt': 17}, 'even': {'Q1-Dataset/pg1513.txt': 14, 'Q1-Dataset/2160-0.txt': 177, 'Q1-Dataset/pg11.txt': 20, 'Q1-Dataset/pg2600.txt': 503, 'Q1-Dataset/pg345.txt': 234, 'Q1-Dataset/pg64317.txt': 45, 'Q1-Dataset/pg70815.txt': 98, 'Q1-Dataset/1080-0.txt': 5, 'Q1-Dataset/pg70817.txt': 39, 'Q1-Dataset/pg1998.txt': 251}, 'anywhere': {'Q1-Dataset/pg1513.txt': 3, 'Q1-Dataset/2160-0.txt': 2, 'Q1-Dataset/pg11.txt': 3, 'Q1-Dataset/pg2600.txt': 26, 'Q1-Dataset/pg345.txt': 18, 'Q1-Dataset/pg64317.txt': 5, 'Q1-Dataset/pg70815.txt': 4, 'Q1-Dataset/1080-0.txt': 2, 'Q1-Dataset/pg70817.txt': 3, 'Q1-Dataset/pg1998.txt': 3}, 'told': {'Q1-Dataset/pg1513.txt': 3, 'Q1-Dataset/2160-0.txt': 79, 'Q1-Dataset/pg11.txt': 6, 'Q1-Dataset/pg2600.txt': 409, 'Q1-Dataset/pg345.txt': 144, 'Q1-Dataset/pg64317.txt': 44, 'Q1-Dataset/pg70815.txt': 27, 'Q1-Dataset/1080-0.txt': 2, 'Q1-Dataset/pg70817.txt': 12, 'Q1-Dataset/pg1998.txt': 13}, 'perhaps': {'Q1-Dataset/pg1513.txt': 1, 'Q1-Dataset/2160-0.txt': 47, 'Q1-Dataset/pg11.txt': 17, 'Q1-Dataset/pg2600.txt': 115, 'Q1-Dataset/pg345.txt': 54, 'Q1-Dataset/pg64317.txt': 19, 'Q1-Dataset/pg70815.txt': 64, 'Q1-Dataset/1080-0.txt': 2, 'Q1-Dataset/pg70817.txt': 10, 'Q1-Dataset/pg1998.txt': 67}, 'further': {'Q1-Dataset/pg1513.txt': 4, 'Q1-Dataset/2160-0.txt': 40, 'Q1-Dataset/pg11.txt': 4, 'Q1-Dataset/pg2600.txt': 51, 'Q1-Dataset/pg345.txt': 34, 'Q1-Dataset/pg64317.txt': 6, 'Q1-Dataset/pg70815.txt': 21, 'Q1-Dataset/1080-0.txt': 1, 'Q1-Dataset/pg70817.txt': 11, 'Q1-Dataset/pg1998.txt': 21}, 'identify': {'Q1-Dataset/pg1513.txt': 1, 'Q1-Dataset/2160-0.txt': 1, 'Q1-Dataset/pg11.txt': 1, 'Q1-Dataset/pg2600.txt': 1, 'Q1-Dataset/pg345.txt': 1, 'Q1-Dataset/pg64317.txt': 1, 'Q1-Dataset/pg70815.txt': 1, 'Q1-Dataset/1080-0.txt': 1, 'Q1-Dataset/pg70817.txt': 1, 'Q1-Dataset/pg1998.txt': 1}, 'produced': {'Q1-Dataset/pg1513.txt': 2, 'Q1-Dataset/2160-0.txt': 38, 'Q1-Dataset/pg11.txt': 3, 'Q1-Dataset/pg2600.txt': 42, 'Q1-Dataset/pg345.txt': 10, 'Q1-Dataset/pg64317.txt': 5, 'Q1-Dataset/pg70815.txt': 2, 'Q1-Dataset/1080-0.txt': 2, 'Q1-Dataset/pg70817.txt': 2, 'Q1-Dataset/pg1998.txt': 3}, 'charge': {'Q1-Dataset/pg1513.txt': 9, 'Q1-Dataset/2160-0.txt': 16, 'Q1-Dataset/pg11.txt': 6, 'Q1-Dataset/pg2600.txt': 28, 'Q1-Dataset/pg345.txt': 17, 'Q1-Dataset/pg64317.txt': 6, 'Q1-Dataset/pg70815.txt': 21, 'Q1-Dataset/1080-0.txt': 11, 'Q1-Dataset/pg70817.txt': 6, 'Q1-Dataset/pg1998.txt': 7}, 'sharing': {'Q1-Dataset/pg1513.txt': 1, 'Q1-Dataset/2160-0.txt': 1, 'Q1-Dataset/pg11.txt': 2, 'Q1-Dataset/pg2600.txt': 8, 'Q1-Dataset/pg345.txt': 3, 'Q1-Dataset/pg64317.txt': 2, 'Q1-Dataset/pg70815.txt': 1, 'Q1-Dataset/1080-0.txt': 1, 'Q1-Dataset/pg70817.txt': 1, 'Q1-Dataset/pg1998.txt': 1}, 'modification': {'Q1-Dataset/pg1513.txt': 1, 'Q1-Dataset/2160-0.txt': 1, 'Q1-Dataset/pg11.txt': 1, 'Q1-Dataset/pg2600.txt': 1, 'Q1-Dataset/pg345.txt': 1, 'Q1-Dataset/pg64317.txt': 1, 'Q1-Dataset/pg70815.txt': 1, 'Q1-Dataset/1080-0.txt': 1, 'Q1-Dataset/pg70817.txt': 1, 'Q1-Dataset/pg1998.txt': 1}, 'ebook': {'Q1-Dataset/pg1513.txt': 13, 'Q1-Dataset/2160-0.txt': 10, 'Q1-Dataset/pg11.txt': 13, 'Q1-Dataset/pg2600.txt': 13, 'Q1-Dataset/pg345.txt': 13, 'Q1-Dataset/pg64317.txt': 13, 'Q1-Dataset/pg70815.txt': 13, 'Q1-Dataset/1080-0.txt': 13, 'Q1-Dataset/pg70817.txt': 13, 'Q1-Dataset/pg1998.txt': 13}, 'confirmed': {'Q1-Dataset/pg1513.txt': 1, 'Q1-Dataset/2160-0.txt': 11, 'Q1-Dataset/pg11.txt': 1, 'Q1-Dataset/pg2600.txt': 20, 'Q1-Dataset/pg345.txt': 2, 'Q1-Dataset/pg64317.txt': 3, 'Q1-Dataset/pg70815.txt': 1, 'Q1-Dataset/1080-0.txt': 1, 'Q1-Dataset/pg70817.txt': 1, 'Q1-Dataset/pg1998.txt': 1}, 'stored': {'Q1-Dataset/pg1513.txt': 1, 'Q1-Dataset/2160-0.txt': 2, 'Q1-Dataset/pg11.txt': 1, 'Q1-Dataset/pg2600.txt': 2, 'Q1-Dataset/pg345.txt': 1, 'Q1-Dataset/pg64317.txt': 2, 'Q1-Dataset/pg70815.txt': 1, 'Q1-Dataset/1080-0.txt': 1, 'Q1-Dataset/pg70817.txt': 2, 'Q1-Dataset/pg1998.txt': 1}, 'redistribution': {'Q1-Dataset/pg1513.txt': 2, 'Q1-Dataset/2160-0.txt': 2, 'Q1-Dataset/pg11.txt': 2, 'Q1-Dataset/pg2600.txt': 2, 'Q1-Dataset/pg345.txt': 2, 'Q1-Dataset/pg64317.txt': 2, 'Q1-Dataset/pg70815.txt': 2, 'Q1-Dataset/1080-0.txt': 2, 'Q1-Dataset/pg70817.txt': 2, 'Q1-Dataset/pg1998.txt': 2}, 'copied': {'Q1-Dataset/pg1513.txt': 2, 'Q1-Dataset/2160-0.txt': 2, 'Q1-Dataset/pg11.txt': 2, 'Q1-Dataset/pg2600.txt': 6, 'Q1-Dataset/pg345.txt': 6, 'Q1-Dataset/pg64317.txt': 2, 'Q1-Dataset/pg70815.txt': 2, 'Q1-Dataset/1080-0.txt': 2, 'Q1-Dataset/pg70817.txt': 2, 'Q1-Dataset/pg1998.txt': 2}, 'own': {'Q1-Dataset/pg1513.txt': 17, 'Q1-Dataset/2160-0.txt': 326, 'Q1-Dataset/pg11.txt': 10, 'Q1-Dataset/pg2600.txt': 498, 'Q1-Dataset/pg345.txt': 187, 'Q1-Dataset/pg64317.txt': 31, 'Q1-Dataset/pg70815.txt': 64, 'Q1-Dataset/1080-0.txt': 10, 'Q1-Dataset/pg70817.txt': 26, 'Q1-Dataset/pg1998.txt': 128}, 'online': {'Q1-Dataset/pg1513.txt': 4, 'Q1-Dataset/2160-0.txt': 4, 'Q1-Dataset/pg11.txt': 4, 'Q1-Dataset/pg2600.txt': 4, 'Q1-Dataset/pg345.txt': 5, 'Q1-Dataset/pg64317.txt': 4, 'Q1-Dataset/pg70815.txt': 5, 'Q1-Dataset/1080-0.txt': 4, 'Q1-Dataset/pg70817.txt': 5, 'Q1-Dataset/pg1998.txt': 4}, 'accessed': {'Q1-Dataset/pg1513.txt': 1, 'Q1-Dataset/2160-0.txt': 1, 'Q1-Dataset/pg11.txt': 1, 'Q1-Dataset/pg2600.txt': 1, 'Q1-Dataset/pg345.txt': 1, 'Q1-Dataset/pg64317.txt': 1, 'Q1-Dataset/pg70815.txt': 1, 'Q1-Dataset/1080-0.txt': 1, 'Q1-Dataset/pg70817.txt': 1, 'Q1-Dataset/pg1998.txt': 1}, 'more': {'Q1-Dataset/pg1513.txt': 67, 'Q1-Dataset/2160-0.txt': 283, 'Q1-Dataset/pg11.txt': 48, 'Q1-Dataset/pg2600.txt': 1054, 'Q1-Dataset/pg345.txt': 373, 'Q1-Dataset/pg64317.txt': 75, 'Q1-Dataset/pg70815.txt': 121, 'Q1-Dataset/1080-0.txt': 7, 'Q1-Dataset/pg70817.txt': 40, 'Q1-Dataset/pg1998.txt': 240}, 'addresses': {'Q1-Dataset/pg1513.txt': 1, 'Q1-Dataset/2160-0.txt': 10, 'Q1-Dataset/pg11.txt': 1, 'Q1-Dataset/pg2600.txt': 1, 'Q1-Dataset/pg345.txt': 3, 'Q1-Dataset/pg64317.txt': 2, 'Q1-Dataset/pg70815.txt': 1, 'Q1-Dataset/1080-0.txt': 1, 'Q1-Dataset/pg70817.txt': 1, 'Q1-Dataset/pg1998.txt': 2}, 'deletions': {'Q1-Dataset/pg1513.txt': 1, 'Q1-Dataset/2160-0.txt': 1, 'Q1-Dataset/pg11.txt': 1, 'Q1-Dataset/pg2600.txt': 1, 'Q1-Dataset/pg345.txt': 1, 'Q1-Dataset/pg64317.txt': 1, 'Q1-Dataset/pg70815.txt': 1, 'Q1-Dataset/1080-0.txt': 1, 'Q1-Dataset/pg70817.txt': 1, 'Q1-Dataset/pg1998.txt': 1}, 'fine': {'Q1-Dataset/pg1513.txt': 4, 'Q1-Dataset/2160-0.txt': 49, 'Q1-Dataset/pg11.txt': 2, 'Q1-Dataset/pg2600.txt': 120, 'Q1-Dataset/pg345.txt': 21, 'Q1-Dataset/pg64317.txt': 10, 'Q1-Dataset/pg70815.txt': 1, 'Q1-Dataset/1080-0.txt': 2, 'Q1-Dataset/pg70817.txt': 4, 'Q1-Dataset/pg1998.txt': 17}, 'ask': {'Q1-Dataset/pg1513.txt': 5, 'Q1-Dataset/2160-0.txt': 8, 'Q1-Dataset/pg11.txt': 11, 'Q1-Dataset/pg2600.txt': 199, 'Q1-Dataset/pg345.txt': 68, 'Q1-Dataset/pg64317.txt': 15, 'Q1-Dataset/pg70815.txt': 8, 'Q1-Dataset/1080-0.txt': 1, 'Q1-Dataset/pg70817.txt': 1, 'Q1-Dataset/pg1998.txt': 26}, 'redistribute': {'Q1-Dataset/pg1513.txt': 1, 'Q1-Dataset/2160-0.txt': 1, 'Q1-Dataset/pg11.txt': 1, 'Q1-Dataset/pg2600.txt': 1, 'Q1-Dataset/pg345.txt': 1, 'Q1-Dataset/pg64317.txt': 1, 'Q1-Dataset/pg70815.txt': 1, 'Q1-Dataset/1080-0.txt': 1, 'Q1-Dataset/pg70817.txt': 1, 'Q1-Dataset/pg1998.txt': 1}, 'implied': {'Q1-Dataset/pg1513.txt': 2, 'Q1-Dataset/2160-0.txt': 4, 'Q1-Dataset/pg11.txt': 2, 'Q1-Dataset/pg2600.txt': 4, 'Q1-Dataset/pg345.txt': 3, 'Q1-Dataset/pg64317.txt': 3, 'Q1-Dataset/pg70815.txt': 3, 'Q1-Dataset/1080-0.txt': 2, 'Q1-Dataset/pg70817.txt': 2, 'Q1-Dataset/pg1998.txt': 2}, 'mean': {'Q1-Dataset/pg1513.txt': 7, 'Q1-Dataset/2160-0.txt': 44, 'Q1-Dataset/pg11.txt': 10, 'Q1-Dataset/pg2600.txt': 63, 'Q1-Dataset/pg345.txt': 42, 'Q1-Dataset/pg64317.txt': 18, 'Q1-Dataset/pg70815.txt': 8, 'Q1-Dataset/1080-0.txt': 1, 'Q1-Dataset/pg70817.txt': 1, 'Q1-Dataset/pg1998.txt': 11}, 'very': {'Q1-Dataset/pg1513.txt': 26, 'Q1-Dataset/2160-0.txt': 358, 'Q1-Dataset/pg11.txt': 131, 'Q1-Dataset/pg2600.txt': 801, 'Q1-Dataset/pg345.txt': 278, 'Q1-Dataset/pg64317.txt': 61, 'Q1-Dataset/pg70815.txt': 74, 'Q1-Dataset/1080-0.txt': 11, 'Q1-Dataset/pg70817.txt': 32, 'Q1-Dataset/pg1998.txt': 79}, 'charges': {'Q1-Dataset/pg1513.txt': 1, 'Q1-Dataset/2160-0.txt': 1, 'Q1-Dataset/pg11.txt': 2, 'Q1-Dataset/pg2600.txt': 7, 'Q1-Dataset/pg345.txt': 1, 'Q1-Dataset/pg64317.txt': 1, 'Q1-Dataset/pg70815.txt': 1, 'Q1-Dataset/1080-0.txt': 1, 'Q1-Dataset/pg70817.txt': 1, 'Q1-Dataset/pg1998.txt': 1}, 'i': {'Q1-Dataset/pg1513.txt': 580, 'Q1-Dataset/2160-0.txt': 2442, 'Q1-Dataset/pg11.txt': 385, 'Q1-Dataset/pg2600.txt': 4106, 'Q1-Dataset/pg345.txt': 4711, 'Q1-Dataset/pg64317.txt': 1179, 'Q1-Dataset/pg70815.txt': 528, 'Q1-Dataset/1080-0.txt': 55, 'Q1-Dataset/pg70817.txt': 364, 'Q1-Dataset/pg1998.txt': 1767}, 'just': {'Q1-Dataset/pg1513.txt': 2, 'Q1-Dataset/2160-0.txt': 42, 'Q1-Dataset/pg11.txt': 51, 'Q1-Dataset/pg2600.txt': 563, 'Q1-Dataset/pg345.txt': 164, 'Q1-Dataset/pg64317.txt': 100, 'Q1-Dataset/pg70815.txt': 57, 'Q1-Dataset/1080-0.txt': 3, 'Q1-Dataset/pg70817.txt': 26, 'Q1-Dataset/pg1998.txt': 99}, 'regulating': {'Q1-Dataset/pg1513.txt': 1, 'Q1-Dataset/2160-0.txt': 2, 'Q1-Dataset/pg11.txt': 1, 'Q1-Dataset/pg2600.txt': 1, 'Q1-Dataset/pg345.txt': 1, 'Q1-Dataset/pg64317.txt': 1, 'Q1-Dataset/pg70815.txt': 1, 'Q1-Dataset/1080-0.txt': 1, 'Q1-Dataset/pg70817.txt': 1, 'Q1-Dataset/pg1998.txt': 2}, 'last': {'Q1-Dataset/pg1513.txt': 8, 'Q1-Dataset/2160-0.txt': 99, 'Q1-Dataset/pg11.txt': 33, 'Q1-Dataset/pg2600.txt': 345, 'Q1-Dataset/pg345.txt': 136, 'Q1-Dataset/pg64317.txt': 45, 'Q1-Dataset/pg70815.txt': 43, 'Q1-Dataset/1080-0.txt': 1, 'Q1-Dataset/pg70817.txt': 24, 'Q1-Dataset/pg1998.txt': 161}, 'salt': {'Q1-Dataset/pg1513.txt': 3, 'Q1-Dataset/2160-0.txt': 10, 'Q1-Dataset/pg11.txt': 3, 'Q1-Dataset/pg2600.txt': 12, 'Q1-Dataset/pg345.txt': 2, 'Q1-Dataset/pg64317.txt': 2, 'Q1-Dataset/pg70815.txt': 1, 'Q1-Dataset/1080-0.txt': 3, 'Q1-Dataset/pg70817.txt': 1, 'Q1-Dataset/pg1998.txt': 5}, 'alteration': {'Q1-Dataset/pg1513.txt': 1, 'Q1-Dataset/2160-0.txt': 3, 'Q1-Dataset/pg11.txt': 1, 'Q1-Dataset/pg2600.txt': 1, 'Q1-Dataset/pg345.txt': 1, 'Q1-Dataset/pg64317.txt': 1, 'Q1-Dataset/pg70815.txt': 1, 'Q1-Dataset/1080-0.txt': 1, 'Q1-Dataset/pg70817.txt': 2, 'Q1-Dataset/pg1998.txt': 2}, 'past': {'Q1-Dataset/pg1513.txt': 7, 'Q1-Dataset/2160-0.txt': 8, 'Q1-Dataset/pg11.txt': 1, 'Q1-Dataset/pg2600.txt': 172, 'Q1-Dataset/pg345.txt': 29, 'Q1-Dataset/pg64317.txt': 14, 'Q1-Dataset/pg70815.txt': 10, 'Q1-Dataset/1080-0.txt': 1, 'Q1-Dataset/pg70817.txt': 16, 'Q1-Dataset/pg1998.txt': 32}, 'fight': {'Q1-Dataset/pg1513.txt': 2, 'Q1-Dataset/2160-0.txt': 2, 'Q1-Dataset/pg11.txt': 2, 'Q1-Dataset/pg2600.txt': 77, 'Q1-Dataset/pg345.txt': 15, 'Q1-Dataset/pg64317.txt': 3, 'Q1-Dataset/pg70815.txt': 12, 'Q1-Dataset/1080-0.txt': 1, 'Q1-Dataset/pg70817.txt': 4, 'Q1-Dataset/pg1998.txt': 7}, 'after': {'Q1-Dataset/pg1513.txt': 4, 'Q1-Dataset/2160-0.txt': 107, 'Q1-Dataset/pg11.txt': 42, 'Q1-Dataset/pg2600.txt': 834, 'Q1-Dataset/pg345.txt': 206, 'Q1-Dataset/pg64317.txt': 88, 'Q1-Dataset/pg70815.txt': 79, 'Q1-Dataset/1080-0.txt': 5, 'Q1-Dataset/pg70817.txt': 50, 'Q1-Dataset/pg1998.txt': 77}, 'reuse': {'Q1-Dataset/pg1513.txt': 2, 'Q1-Dataset/2160-0.txt': 2, 'Q1-Dataset/pg11.txt': 2, 'Q1-Dataset/pg2600.txt': 2, 'Q1-Dataset/pg345.txt': 2, 'Q1-Dataset/pg64317.txt': 2, 'Q1-Dataset/pg70815.txt': 2, 'Q1-Dataset/1080-0.txt': 2, 'Q1-Dataset/pg70817.txt': 2, 'Q1-Dataset/pg1998.txt': 2}, 'trouble': {'Q1-Dataset/pg1513.txt': 2, 'Q1-Dataset/2160-0.txt': 26, 'Q1-Dataset/pg11.txt': 6, 'Q1-Dataset/pg2600.txt': 33, 'Q1-Dataset/pg345.txt': 52, 'Q1-Dataset/pg64317.txt': 9, 'Q1-Dataset/pg70815.txt': 1, 'Q1-Dataset/1080-0.txt': 1, 'Q1-Dataset/pg70817.txt': 1, 'Q1-Dataset/pg1998.txt': 5}, 'confirmation': {'Q1-Dataset/pg1513.txt': 1, 'Q1-Dataset/2160-0.txt': 1, 'Q1-Dataset/pg11.txt': 1, 'Q1-Dataset/pg2600.txt': 9, 'Q1-Dataset/pg345.txt': 3, 'Q1-Dataset/pg64317.txt': 3, 'Q1-Dataset/pg70815.txt': 1, 'Q1-Dataset/1080-0.txt': 1, 'Q1-Dataset/pg70817.txt': 1, 'Q1-Dataset/pg1998.txt': 1}, 'appear': {'Q1-Dataset/pg1513.txt': 4, 'Q1-Dataset/2160-0.txt': 28, 'Q1-Dataset/pg11.txt': 3, 'Q1-Dataset/pg2600.txt': 53, 'Q1-Dataset/pg345.txt': 8, 'Q1-Dataset/pg64317.txt': 1, 'Q1-Dataset/pg70815.txt': 4, 'Q1-Dataset/1080-0.txt': 2, 'Q1-Dataset/pg70817.txt': 4, 'Q1-Dataset/pg1998.txt': 11}, 'may': {'Q1-Dataset/pg1513.txt': 64, 'Q1-Dataset/2160-0.txt': 233, 'Q1-Dataset/pg11.txt': 28, 'Q1-Dataset/pg2600.txt': 289, 'Q1-Dataset/pg345.txt': 412, 'Q1-Dataset/pg64317.txt': 21, 'Q1-Dataset/pg70815.txt': 87, 'Q1-Dataset/1080-0.txt': 26, 'Q1-Dataset/pg70817.txt': 24, 'Q1-Dataset/pg1998.txt': 174}, 'comply': {'Q1-Dataset/pg1513.txt': 6, 'Q1-Dataset/2160-0.txt': 7, 'Q1-Dataset/pg11.txt': 6, 'Q1-Dataset/pg2600.txt': 9, 'Q1-Dataset/pg345.txt': 6, 'Q1-Dataset/pg64317.txt': 6, 'Q1-Dataset/pg70815.txt': 6, 'Q1-Dataset/1080-0.txt': 6, 'Q1-Dataset/pg70817.txt': 6, 'Q1-Dataset/pg1998.txt': 6}, 'depends': {'Q1-Dataset/pg1513.txt': 1, 'Q1-Dataset/2160-0.txt': 2, 'Q1-Dataset/pg11.txt': 2, 'Q1-Dataset/pg2600.txt': 18, 'Q1-Dataset/pg345.txt': 1, 'Q1-Dataset/pg64317.txt': 1, 'Q1-Dataset/pg70815.txt': 1, 'Q1-Dataset/1080-0.txt': 1, 'Q1-Dataset/pg70817.txt': 1, 'Q1-Dataset/pg1998.txt': 3}, 'measure': {'Q1-Dataset/pg1513.txt': 7, 'Q1-Dataset/2160-0.txt': 24, 'Q1-Dataset/pg11.txt': 1, 'Q1-Dataset/pg2600.txt': 9, 'Q1-Dataset/pg345.txt': 11, 'Q1-Dataset/pg64317.txt': 1, 'Q1-Dataset/pg70815.txt': 3, 'Q1-Dataset/1080-0.txt': 1, 'Q1-Dataset/pg70817.txt': 3, 'Q1-Dataset/pg1998.txt': 8}, 'transcribe': {'Q1-Dataset/pg1513.txt': 1, 'Q1-Dataset/2160-0.txt': 1, 'Q1-Dataset/pg11.txt': 1, 'Q1-Dataset/pg2600.txt': 1, 'Q1-Dataset/pg345.txt': 1, 'Q1-Dataset/pg64317.txt': 1, 'Q1-Dataset/pg70815.txt': 1, 'Q1-Dataset/1080-0.txt': 1, 'Q1-Dataset/pg70817.txt': 1, 'Q1-Dataset/pg1998.txt': 2}, 'came': {'Q1-Dataset/pg1513.txt': 13, 'Q1-Dataset/2160-0.txt': 72, 'Q1-Dataset/pg11.txt': 40, 'Q1-Dataset/pg2600.txt': 681, 'Q1-Dataset/pg345.txt': 307, 'Q1-Dataset/pg64317.txt': 108, 'Q1-Dataset/pg70815.txt': 92, 'Q1-Dataset/1080-0.txt': 1, 'Q1-Dataset/pg70817.txt': 30, 'Q1-Dataset/pg1998.txt': 87}, 'pay': {'Q1-Dataset/pg1513.txt': 5, 'Q1-Dataset/2160-0.txt': 38, 'Q1-Dataset/pg11.txt': 1, 'Q1-Dataset/pg2600.txt': 48, 'Q1-Dataset/pg345.txt': 8, 'Q1-Dataset/pg64317.txt': 5, 'Q1-Dataset/pg70815.txt': 3, 'Q1-Dataset/1080-0.txt': 4, 'Q1-Dataset/pg70817.txt': 3, 'Q1-Dataset/pg1998.txt': 3}, 'are': {'Q1-Dataset/pg1513.txt': 89, 'Q1-Dataset/2160-0.txt': 560, 'Q1-Dataset/pg11.txt': 72, 'Q1-Dataset/pg2600.txt': 1281, 'Q1-Dataset/pg345.txt': 604, 'Q1-Dataset/pg64317.txt': 69, 'Q1-Dataset/pg70815.txt': 296, 'Q1-Dataset/1080-0.txt': 45, 'Q1-Dataset/pg70817.txt': 33, 'Q1-Dataset/pg1998.txt': 503}, 'offers': {'Q1-Dataset/pg1513.txt': 1, 'Q1-Dataset/2160-0.txt': 2, 'Q1-Dataset/pg11.txt': 1, 'Q1-Dataset/pg2600.txt': 7, 'Q1-Dataset/pg345.txt': 1, 'Q1-Dataset/pg64317.txt': 1, 'Q1-Dataset/pg70815.txt': 1, 'Q1-Dataset/1080-0.txt': 1, 'Q1-Dataset/pg70817.txt': 1, 'Q1-Dataset/pg1998.txt': 2}, 'person': {'Q1-Dataset/pg1513.txt': 6, 'Q1-Dataset/2160-0.txt': 108, 'Q1-Dataset/pg11.txt': 8, 'Q1-Dataset/pg2600.txt': 75, 'Q1-Dataset/pg345.txt': 15, 'Q1-Dataset/pg64317.txt': 17, 'Q1-Dataset/pg70815.txt': 7, 'Q1-Dataset/1080-0.txt': 6, 'Q1-Dataset/pg70817.txt': 10, 'Q1-Dataset/pg1998.txt': 16}, 'removed': {'Q1-Dataset/pg1513.txt': 2, 'Q1-Dataset/2160-0.txt': 21, 'Q1-Dataset/pg11.txt': 4, 'Q1-Dataset/pg2600.txt': 37, 'Q1-Dataset/pg345.txt': 12, 'Q1-Dataset/pg64317.txt': 5, 'Q1-Dataset/pg70815.txt': 14, 'Q1-Dataset/1080-0.txt': 2, 'Q1-Dataset/pg70817.txt': 3, 'Q1-Dataset/pg1998.txt': 3}, 'make': {'Q1-Dataset/pg1513.txt': 43, 'Q1-Dataset/2160-0.txt': 189, 'Q1-Dataset/pg11.txt': 29, 'Q1-Dataset/pg2600.txt': 276, 'Q1-Dataset/pg345.txt': 165, 'Q1-Dataset/pg64317.txt': 30, 'Q1-Dataset/pg70815.txt': 43, 'Q1-Dataset/1080-0.txt': 11, 'Q1-Dataset/pg70817.txt': 14, 'Q1-Dataset/pg1998.txt': 76}, 'easily': {'Q1-Dataset/pg1513.txt': 1, 'Q1-Dataset/2160-0.txt': 24, 'Q1-Dataset/pg11.txt': 4, 'Q1-Dataset/pg2600.txt': 43, 'Q1-Dataset/pg345.txt': 11, 'Q1-Dataset/pg64317.txt': 1, 'Q1-Dataset/pg70815.txt': 15, 'Q1-Dataset/1080-0.txt': 1, 'Q1-Dataset/pg70817.txt': 1, 'Q1-Dataset/pg1998.txt': 5}, 'legal': {'Q1-Dataset/pg1513.txt': 2, 'Q1-Dataset/2160-0.txt': 4, 'Q1-Dataset/pg11.txt': 2, 'Q1-Dataset/pg2600.txt': 8, 'Q1-Dataset/pg345.txt': 6, 'Q1-Dataset/pg64317.txt': 3, 'Q1-Dataset/pg70815.txt': 2, 'Q1-Dataset/1080-0.txt': 2, 'Q1-Dataset/pg70817.txt': 2, 'Q1-Dataset/pg1998.txt': 2}, 'good': {'Q1-Dataset/pg1513.txt': 80, 'Q1-Dataset/2160-0.txt': 237, 'Q1-Dataset/pg11.txt': 24, 'Q1-Dataset/pg2600.txt': 380, 'Q1-Dataset/pg345.txt': 220, 'Q1-Dataset/pg64317.txt': 30, 'Q1-Dataset/pg70815.txt': 40, 'Q1-Dataset/1080-0.txt': 8, 'Q1-Dataset/pg70817.txt': 15, 'Q1-Dataset/pg1998.txt': 284}, 'provide': {'Q1-Dataset/pg1513.txt': 7, 'Q1-Dataset/2160-0.txt': 19, 'Q1-Dataset/pg11.txt': 7, 'Q1-Dataset/pg2600.txt': 10, 'Q1-Dataset/pg345.txt': 9, 'Q1-Dataset/pg64317.txt': 7, 'Q1-Dataset/pg70815.txt': 7, 'Q1-Dataset/1080-0.txt': 9, 'Q1-Dataset/pg70817.txt': 8, 'Q1-Dataset/pg1998.txt': 8}, 'now': {'Q1-Dataset/pg1513.txt': 81, 'Q1-Dataset/2160-0.txt': 191, 'Q1-Dataset/pg11.txt': 57, 'Q1-Dataset/pg2600.txt': 1303, 'Q1-Dataset/pg345.txt': 401, 'Q1-Dataset/pg64317.txt': 97, 'Q1-Dataset/pg70815.txt': 146, 'Q1-Dataset/1080-0.txt': 6, 'Q1-Dataset/pg70817.txt': 45, 'Q1-Dataset/pg1998.txt': 302}, 'b': {'Q1-Dataset/pg1513.txt': 1, 'Q1-Dataset/2160-0.txt': 4, 'Q1-Dataset/pg11.txt': 1, 'Q1-Dataset/pg2600.txt': 9, 'Q1-Dataset/pg345.txt': 3, 'Q1-Dataset/pg64317.txt': 6, 'Q1-Dataset/pg70815.txt': 1, 'Q1-Dataset/1080-0.txt': 1, 'Q1-Dataset/pg70817.txt': 1, 'Q1-Dataset/pg1998.txt': 5}, 'formats': {'Q1-Dataset/pg1513.txt': 1, 'Q1-Dataset/2160-0.txt': 2, 'Q1-Dataset/pg11.txt': 2, 'Q1-Dataset/pg2600.txt': 1, 'Q1-Dataset/pg345.txt': 1, 'Q1-Dataset/pg64317.txt': 1, 'Q1-Dataset/pg70815.txt': 1, 'Q1-Dataset/1080-0.txt': 2, 'Q1-Dataset/pg70817.txt': 1, 'Q1-Dataset/pg1998.txt': 2}, 'houses': {'Q1-Dataset/pg1513.txt': 5, 'Q1-Dataset/2160-0.txt': 22, 'Q1-Dataset/pg11.txt': 1, 'Q1-Dataset/pg2600.txt': 61, 'Q1-Dataset/pg345.txt': 11, 'Q1-Dataset/pg64317.txt': 7, 'Q1-Dataset/pg70815.txt': 1, 'Q1-Dataset/1080-0.txt': 2, 'Q1-Dataset/pg70817.txt': 7, 'Q1-Dataset/pg1998.txt': 3}, 'paid': {'Q1-Dataset/pg1513.txt': 6, 'Q1-Dataset/2160-0.txt': 17, 'Q1-Dataset/pg11.txt': 6, 'Q1-Dataset/pg2600.txt': 41, 'Q1-Dataset/pg345.txt': 10, 'Q1-Dataset/pg64317.txt': 8, 'Q1-Dataset/pg70815.txt': 14, 'Q1-Dataset/1080-0.txt': 6, 'Q1-Dataset/pg70817.txt': 9, 'Q1-Dataset/pg1998.txt': 9}, 'world': {'Q1-Dataset/pg1513.txt': 17, 'Q1-Dataset/2160-0.txt': 41, 'Q1-Dataset/pg11.txt': 9, 'Q1-Dataset/pg2600.txt': 158, 'Q1-Dataset/pg345.txt': 63, 'Q1-Dataset/pg64317.txt': 29, 'Q1-Dataset/pg70815.txt': 92, 'Q1-Dataset/1080-0.txt': 3, 'Q1-Dataset/pg70817.txt': 4, 'Q1-Dataset/pg1998.txt': 132}, 'neither': {'Q1-Dataset/pg1513.txt': 2, 'Q1-Dataset/2160-0.txt': 42, 'Q1-Dataset/pg11.txt': 2, 'Q1-Dataset/pg2600.txt': 96, 'Q1-Dataset/pg345.txt': 15, 'Q1-Dataset/pg64317.txt': 8, 'Q1-Dataset/pg70815.txt': 16, 'Q1-Dataset/1080-0.txt': 5, 'Q1-Dataset/pg70817.txt': 4, 'Q1-Dataset/pg1998.txt': 26}, 'check': {'Q1-Dataset/pg1513.txt': 4, 'Q1-Dataset/2160-0.txt': 6, 'Q1-Dataset/pg11.txt': 4, 'Q1-Dataset/pg2600.txt': 11, 'Q1-Dataset/pg345.txt': 8, 'Q1-Dataset/pg64317.txt': 5, 'Q1-Dataset/pg70815.txt': 5, 'Q1-Dataset/1080-0.txt': 4, 'Q1-Dataset/pg70817.txt': 5, 'Q1-Dataset/pg1998.txt': 4}, 'set': {'Q1-Dataset/pg1513.txt': 18, 'Q1-Dataset/2160-0.txt': 77, 'Q1-Dataset/pg11.txt': 22, 'Q1-Dataset/pg2600.txt': 160, 'Q1-Dataset/pg345.txt': 71, 'Q1-Dataset/pg64317.txt': 24, 'Q1-Dataset/pg70815.txt': 28, 'Q1-Dataset/1080-0.txt': 10, 'Q1-Dataset/pg70817.txt': 13, 'Q1-Dataset/pg1998.txt': 33}, 'matter': {'Q1-Dataset/pg1513.txt': 6, 'Q1-Dataset/2160-0.txt': 46, 'Q1-Dataset/pg11.txt': 9, 'Q1-Dataset/pg2600.txt': 167, 'Q1-Dataset/pg345.txt': 53, 'Q1-Dataset/pg64317.txt': 20, 'Q1-Dataset/pg70815.txt': 17, 'Q1-Dataset/1080-0.txt': 2, 'Q1-Dataset/pg70817.txt': 6, 'Q1-Dataset/pg1998.txt': 40}, 'remaining': {'Q1-Dataset/pg1513.txt': 1, 'Q1-Dataset/2160-0.txt': 2, 'Q1-Dataset/pg11.txt': 2, 'Q1-Dataset/pg2600.txt': 23, 'Q1-Dataset/pg345.txt': 6, 'Q1-Dataset/pg64317.txt': 2, 'Q1-Dataset/pg70815.txt': 14, 'Q1-Dataset/1080-0.txt': 3, 'Q1-Dataset/pg70817.txt': 4, 'Q1-Dataset/pg1998.txt': 1}, 'public': {'Q1-Dataset/pg1513.txt': 8, 'Q1-Dataset/2160-0.txt': 61, 'Q1-Dataset/pg11.txt': 3, 'Q1-Dataset/pg2600.txt': 27, 'Q1-Dataset/pg345.txt': 7, 'Q1-Dataset/pg64317.txt': 3, 'Q1-Dataset/pg70815.txt': 4, 'Q1-Dataset/1080-0.txt': 3, 'Q1-Dataset/pg70817.txt': 3, 'Q1-Dataset/pg1998.txt': 11}, 'different': {'Q1-Dataset/pg1513.txt': 3, 'Q1-Dataset/2160-0.txt': 69, 'Q1-Dataset/pg11.txt': 10, 'Q1-Dataset/pg2600.txt': 144, 'Q1-Dataset/pg345.txt': 23, 'Q1-Dataset/pg64317.txt': 4, 'Q1-Dataset/pg70815.txt': 8, 'Q1-Dataset/1080-0.txt': 1, 'Q1-Dataset/pg70817.txt': 4, 'Q1-Dataset/pg1998.txt': 19}, 'disclaimers': {'Q1-Dataset/pg1513.txt': 1, 'Q1-Dataset/2160-0.txt': 1, 'Q1-Dataset/pg11.txt': 1, 'Q1-Dataset/pg2600.txt': 1, 'Q1-Dataset/pg345.txt': 1, 'Q1-Dataset/pg64317.txt': 1, 'Q1-Dataset/pg70815.txt': 1, 'Q1-Dataset/1080-0.txt': 1, 'Q1-Dataset/pg70817.txt': 1, 'Q1-Dataset/pg1998.txt': 1}, 'forty': {'Q1-Dataset/pg1513.txt': 3, 'Q1-Dataset/2160-0.txt': 14, 'Q1-Dataset/pg11.txt': 1, 'Q1-Dataset/pg2600.txt': 31, 'Q1-Dataset/pg345.txt': 1, 'Q1-Dataset/pg64317.txt': 4, 'Q1-Dataset/pg70815.txt': 1, 'Q1-Dataset/1080-0.txt': 1, 'Q1-Dataset/pg70817.txt': 3, 'Q1-Dataset/pg1998.txt': 4}, 'paragraph': {'Q1-Dataset/pg1513.txt': 11, 'Q1-Dataset/2160-0.txt': 12, 'Q1-Dataset/pg11.txt': 11, 'Q1-Dataset/pg2600.txt': 13, 'Q1-Dataset/pg345.txt': 12, 'Q1-Dataset/pg64317.txt': 11, 'Q1-Dataset/pg70815.txt': 11, 'Q1-Dataset/1080-0.txt': 11, 'Q1-Dataset/pg70817.txt': 12, 'Q1-Dataset/pg1998.txt': 23}, 'providing': {'Q1-Dataset/pg1513.txt': 4, 'Q1-Dataset/2160-0.txt': 6, 'Q1-Dataset/pg11.txt': 4, 'Q1-Dataset/pg2600.txt': 5, 'Q1-Dataset/pg345.txt': 4, 'Q1-Dataset/pg64317.txt': 4, 'Q1-Dataset/pg70815.txt': 4, 'Q1-Dataset/1080-0.txt': 5, 'Q1-Dataset/pg70817.txt': 5, 'Q1-Dataset/pg1998.txt': 4}, 'upon': {'Q1-Dataset/pg1513.txt': 44, 'Q1-Dataset/2160-0.txt': 463, 'Q1-Dataset/pg11.txt': 28, 'Q1-Dataset/pg2600.txt': 97, 'Q1-Dataset/pg345.txt': 90, 'Q1-Dataset/pg64317.txt': 35, 'Q1-Dataset/pg70815.txt': 482, 'Q1-Dataset/1080-0.txt': 15, 'Q1-Dataset/pg70817.txt': 11, 'Q1-Dataset/pg1998.txt': 144}, 'discover': {'Q1-Dataset/pg1513.txt': 2, 'Q1-Dataset/2160-0.txt': 5, 'Q1-Dataset/pg11.txt': 1, 'Q1-Dataset/pg2600.txt': 9, 'Q1-Dataset/pg345.txt': 5, 'Q1-Dataset/pg64317.txt': 1, 'Q1-Dataset/pg70815.txt': 11, 'Q1-Dataset/1080-0.txt': 1, 'Q1-Dataset/pg70817.txt': 1, 'Q1-Dataset/pg1998.txt': 5}, 'directly': {'Q1-Dataset/pg1513.txt': 1, 'Q1-Dataset/2160-0.txt': 10, 'Q1-Dataset/pg11.txt': 3, 'Q1-Dataset/pg2600.txt': 36, 'Q1-Dataset/pg345.txt': 4, 'Q1-Dataset/pg64317.txt': 3, 'Q1-Dataset/pg70815.txt': 28, 'Q1-Dataset/1080-0.txt': 1, 'Q1-Dataset/pg70817.txt': 5, 'Q1-Dataset/pg1998.txt': 2}, 'require': {'Q1-Dataset/pg1513.txt': 1, 'Q1-Dataset/2160-0.txt': 7, 'Q1-Dataset/pg11.txt': 1, 'Q1-Dataset/pg2600.txt': 6, 'Q1-Dataset/pg345.txt': 4, 'Q1-Dataset/pg64317.txt': 1, 'Q1-Dataset/pg70815.txt': 4, 'Q1-Dataset/1080-0.txt': 2, 'Q1-Dataset/pg70817.txt': 1, 'Q1-Dataset/pg1998.txt': 9}, 'receiving': {'Q1-Dataset/pg1513.txt': 1, 'Q1-Dataset/2160-0.txt': 4, 'Q1-Dataset/pg11.txt': 1, 'Q1-Dataset/pg2600.txt': 40, 'Q1-Dataset/pg345.txt': 1, 'Q1-Dataset/pg64317.txt': 1, 'Q1-Dataset/pg70815.txt': 2, 'Q1-Dataset/1080-0.txt': 1, 'Q1-Dataset/pg70817.txt': 1, 'Q1-Dataset/pg1998.txt': 4}, 'granted': {'Q1-Dataset/pg1513.txt': 1, 'Q1-Dataset/2160-0.txt': 9, 'Q1-Dataset/pg11.txt': 1, 'Q1-Dataset/pg2600.txt': 10, 'Q1-Dataset/pg345.txt': 3, 'Q1-Dataset/pg64317.txt': 3, 'Q1-Dataset/pg70815.txt': 2, 'Q1-Dataset/1080-0.txt': 2, 'Q1-Dataset/pg70817.txt': 1, 'Q1-Dataset/pg1998.txt': 2}, 'obtaining': {'Q1-Dataset/pg1513.txt': 2, 'Q1-Dataset/2160-0.txt': 2, 'Q1-Dataset/pg11.txt': 2, 'Q1-Dataset/pg2600.txt': 7, 'Q1-Dataset/pg345.txt': 2, 'Q1-Dataset/pg64317.txt': 2, 'Q1-Dataset/pg70815.txt': 3, 'Q1-Dataset/1080-0.txt': 2, 'Q1-Dataset/pg70817.txt': 2, 'Q1-Dataset/pg1998.txt': 2}, 'distributing': {'Q1-Dataset/pg1513.txt': 7, 'Q1-Dataset/2160-0.txt': 8, 'Q1-Dataset/pg11.txt': 7, 'Q1-Dataset/pg2600.txt': 9, 'Q1-Dataset/pg345.txt': 7, 'Q1-Dataset/pg64317.txt': 7, 'Q1-Dataset/pg70815.txt': 7, 'Q1-Dataset/1080-0.txt': 7, 'Q1-Dataset/pg70817.txt': 7, 'Q1-Dataset/pg1998.txt': 8}, 'license': {'Q1-Dataset/pg1513.txt': 17, 'Q1-Dataset/2160-0.txt': 15, 'Q1-Dataset/pg11.txt': 17, 'Q1-Dataset/pg2600.txt': 17, 'Q1-Dataset/pg345.txt': 17, 'Q1-Dataset/pg64317.txt': 17, 'Q1-Dataset/pg70815.txt': 17, 'Q1-Dataset/1080-0.txt': 17, 'Q1-Dataset/pg70817.txt': 17, 'Q1-Dataset/pg1998.txt': 17}, 'donations': {'Q1-Dataset/pg1513.txt': 15, 'Q1-Dataset/2160-0.txt': 15, 'Q1-Dataset/pg11.txt': 15, 'Q1-Dataset/pg2600.txt': 15, 'Q1-Dataset/pg345.txt': 15, 'Q1-Dataset/pg64317.txt': 15, 'Q1-Dataset/pg70815.txt': 15, 'Q1-Dataset/1080-0.txt': 15, 'Q1-Dataset/pg70817.txt': 15, 'Q1-Dataset/pg1998.txt': 15}, 'number': {'Q1-Dataset/pg1513.txt': 5, 'Q1-Dataset/2160-0.txt': 55, 'Q1-Dataset/pg11.txt': 8, 'Q1-Dataset/pg2600.txt': 78, 'Q1-Dataset/pg345.txt': 21, 'Q1-Dataset/pg64317.txt': 7, 'Q1-Dataset/pg70815.txt': 17, 'Q1-Dataset/1080-0.txt': 14, 'Q1-Dataset/pg70817.txt': 5, 'Q1-Dataset/pg1998.txt': 12}, 'off': {'Q1-Dataset/pg1513.txt': 10, 'Q1-Dataset/2160-0.txt': 73, 'Q1-Dataset/pg11.txt': 73, 'Q1-Dataset/pg2600.txt': 426, 'Q1-Dataset/pg345.txt': 149, 'Q1-Dataset/pg64317.txt': 45, 'Q1-Dataset/pg70815.txt': 38, 'Q1-Dataset/1080-0.txt': 1, 'Q1-Dataset/pg70817.txt': 16, 'Q1-Dataset/pg1998.txt': 16}, 'organized': {'Q1-Dataset/pg1513.txt': 1, 'Q1-Dataset/2160-0.txt': 1, 'Q1-Dataset/pg11.txt': 1, 'Q1-Dataset/pg2600.txt': 4, 'Q1-Dataset/pg345.txt': 1, 'Q1-Dataset/pg64317.txt': 1, 'Q1-Dataset/pg70815.txt': 3, 'Q1-Dataset/1080-0.txt': 1, 'Q1-Dataset/pg70817.txt': 1, 'Q1-Dataset/pg1998.txt': 1}, 'office': {'Q1-Dataset/pg1513.txt': 3, 'Q1-Dataset/2160-0.txt': 15, 'Q1-Dataset/pg11.txt': 1, 'Q1-Dataset/pg2600.txt': 9, 'Q1-Dataset/pg345.txt': 11, 'Q1-Dataset/pg64317.txt': 17, 'Q1-Dataset/pg70815.txt': 1, 'Q1-Dataset/1080-0.txt': 1, 'Q1-Dataset/pg70817.txt': 5, 'Q1-Dataset/pg1998.txt': 1}, 'one': {'Q1-Dataset/pg1513.txt': 60, 'Q1-Dataset/2160-0.txt': 343, 'Q1-Dataset/pg11.txt': 99, 'Q1-Dataset/pg2600.txt': 2048, 'Q1-Dataset/pg345.txt': 490, 'Q1-Dataset/pg64317.txt': 146, 'Q1-Dataset/pg70815.txt': 232, 'Q1-Dataset/1080-0.txt': 16, 'Q1-Dataset/pg70817.txt': 69, 'Q1-Dataset/pg1998.txt': 711}, 'release': {'Q1-Dataset/pg1513.txt': 1, 'Q1-Dataset/2160-0.txt': 1, 'Q1-Dataset/pg11.txt': 1, 'Q1-Dataset/pg2600.txt': 11, 'Q1-Dataset/pg345.txt': 3, 'Q1-Dataset/pg64317.txt': 1, 'Q1-Dataset/pg70815.txt': 3, 'Q1-Dataset/1080-0.txt': 1, 'Q1-Dataset/pg70817.txt': 2, 'Q1-Dataset/pg1998.txt': 1}, 'learn': {'Q1-Dataset/pg1513.txt': 4, 'Q1-Dataset/2160-0.txt': 6, 'Q1-Dataset/pg11.txt': 8, 'Q1-Dataset/pg2600.txt': 17, 'Q1-Dataset/pg345.txt': 36, 'Q1-Dataset/pg64317.txt': 3, 'Q1-Dataset/pg70815.txt': 6, 'Q1-Dataset/1080-0.txt': 3, 'Q1-Dataset/pg70817.txt': 2, 'Q1-Dataset/pg1998.txt': 82}, 'calculated': {'Q1-Dataset/pg1513.txt': 1, 'Q1-Dataset/2160-0.txt': 3, 'Q1-Dataset/pg11.txt': 1, 'Q1-Dataset/pg2600.txt': 6, 'Q1-Dataset/pg345.txt': 3, 'Q1-Dataset/pg64317.txt': 1, 'Q1-Dataset/pg70815.txt': 1, 'Q1-Dataset/1080-0.txt': 1, 'Q1-Dataset/pg70817.txt': 2, 'Q1-Dataset/pg1998.txt': 1}, 'creation': {'Q1-Dataset/pg1513.txt': 1, 'Q1-Dataset/2160-0.txt': 2, 'Q1-Dataset/pg11.txt': 1, 'Q1-Dataset/pg2600.txt': 5, 'Q1-Dataset/pg345.txt': 3, 'Q1-Dataset/pg64317.txt': 1, 'Q1-Dataset/pg70815.txt': 4, 'Q1-Dataset/1080-0.txt': 1, 'Q1-Dataset/pg70817.txt': 1, 'Q1-Dataset/pg1998.txt': 5}, 'their': {'Q1-Dataset/pg1513.txt': 47, 'Q1-Dataset/2160-0.txt': 475, 'Q1-Dataset/pg11.txt': 51, 'Q1-Dataset/pg2600.txt': 1437, 'Q1-Dataset/pg345.txt': 218, 'Q1-Dataset/pg64317.txt': 55, 'Q1-Dataset/pg70815.txt': 376, 'Q1-Dataset/1080-0.txt': 38, 'Q1-Dataset/pg70817.txt': 37, 'Q1-Dataset/pg1998.txt': 424}, 'written': {'Q1-Dataset/pg1513.txt': 8, 'Q1-Dataset/2160-0.txt': 17, 'Q1-Dataset/pg11.txt': 9, 'Q1-Dataset/pg2600.txt': 65, 'Q1-Dataset/pg345.txt': 32, 'Q1-Dataset/pg64317.txt': 4, 'Q1-Dataset/pg70815.txt': 4, 'Q1-Dataset/1080-0.txt': 3, 'Q1-Dataset/pg70817.txt': 6, 'Q1-Dataset/pg1998.txt': 21}, 'warranties': {'Q1-Dataset/pg1513.txt': 3, 'Q1-Dataset/2160-0.txt': 3, 'Q1-Dataset/pg11.txt': 3, 'Q1-Dataset/pg2600.txt': 3, 'Q1-Dataset/pg345.txt': 3, 'Q1-Dataset/pg64317.txt': 3, 'Q1-Dataset/pg70815.txt': 3, 'Q1-Dataset/1080-0.txt': 3, 'Q1-Dataset/pg70817.txt': 3, 'Q1-Dataset/pg1998.txt': 3}, 'foundation': {'Q1-Dataset/pg1513.txt': 22, 'Q1-Dataset/2160-0.txt': 29, 'Q1-Dataset/pg11.txt': 22, 'Q1-Dataset/pg2600.txt': 26, 'Q1-Dataset/pg345.txt': 22, 'Q1-Dataset/pg64317.txt': 22, 'Q1-Dataset/pg70815.txt': 22, 'Q1-Dataset/1080-0.txt': 22, 'Q1-Dataset/pg70817.txt': 22, 'Q1-Dataset/pg1998.txt': 22}, 'place': {'Q1-Dataset/pg1513.txt': 17, 'Q1-Dataset/2160-0.txt': 147, 'Q1-Dataset/pg11.txt': 9, 'Q1-Dataset/pg2600.txt': 310, 'Q1-Dataset/pg345.txt': 133, 'Q1-Dataset/pg64317.txt': 21, 'Q1-Dataset/pg70815.txt': 29, 'Q1-Dataset/1080-0.txt': 1, 'Q1-Dataset/pg70817.txt': 14, 'Q1-Dataset/pg1998.txt': 35}, 'second': {'Q1-Dataset/pg1513.txt': 18, 'Q1-Dataset/2160-0.txt': 26, 'Q1-Dataset/pg11.txt': 6, 'Q1-Dataset/pg2600.txt': 118, 'Q1-Dataset/pg345.txt': 20, 'Q1-Dataset/pg64317.txt': 11, 'Q1-Dataset/pg70815.txt': 9, 'Q1-Dataset/1080-0.txt': 2, 'Q1-Dataset/pg70817.txt': 6, 'Q1-Dataset/pg1998.txt': 28}, 'hundred': {'Q1-Dataset/pg1513.txt': 3, 'Q1-Dataset/2160-0.txt': 57, 'Q1-Dataset/pg11.txt': 1, 'Q1-Dataset/pg2600.txt': 122, 'Q1-Dataset/pg345.txt': 12, 'Q1-Dataset/pg64317.txt': 14, 'Q1-Dataset/pg70815.txt': 33, 'Q1-Dataset/1080-0.txt': 8, 'Q1-Dataset/pg70817.txt': 7, 'Q1-Dataset/pg1998.txt': 13}, 'on': {'Q1-Dataset/pg1513.txt': 92, 'Q1-Dataset/2160-0.txt': 527, 'Q1-Dataset/pg11.txt': 204, 'Q1-Dataset/pg2600.txt': 3996, 'Q1-Dataset/pg345.txt': 1081, 'Q1-Dataset/pg64317.txt': 371, 'Q1-Dataset/pg70815.txt': 150, 'Q1-Dataset/1080-0.txt': 19, 'Q1-Dataset/pg70817.txt': 197, 'Q1-Dataset/pg1998.txt': 553}, 'located': {'Q1-Dataset/pg1513.txt': 7, 'Q1-Dataset/2160-0.txt': 4, 'Q1-Dataset/pg11.txt': 7, 'Q1-Dataset/pg2600.txt': 8, 'Q1-Dataset/pg345.txt': 7, 'Q1-Dataset/pg64317.txt': 7, 'Q1-Dataset/pg70815.txt': 12, 'Q1-Dataset/1080-0.txt': 7, 'Q1-Dataset/pg70817.txt': 13, 'Q1-Dataset/pg1998.txt': 7}, 'generations': {'Q1-Dataset/pg1513.txt': 2, 'Q1-Dataset/2160-0.txt': 2, 'Q1-Dataset/pg11.txt': 2, 'Q1-Dataset/pg2600.txt': 4, 'Q1-Dataset/pg345.txt': 3, 'Q1-Dataset/pg64317.txt': 3, 'Q1-Dataset/pg70815.txt': 3, 'Q1-Dataset/1080-0.txt': 2, 'Q1-Dataset/pg70817.txt': 2, 'Q1-Dataset/pg1998.txt': 3}, 'purpose': {'Q1-Dataset/pg1513.txt': 5, 'Q1-Dataset/2160-0.txt': 37, 'Q1-Dataset/pg11.txt': 3, 'Q1-Dataset/pg2600.txt': 50, 'Q1-Dataset/pg345.txt': 36, 'Q1-Dataset/pg64317.txt': 3, 'Q1-Dataset/pg70815.txt': 17, 'Q1-Dataset/1080-0.txt': 4, 'Q1-Dataset/pg70817.txt': 2, 'Q1-Dataset/pg1998.txt': 26}, 'elect': {'Q1-Dataset/pg1513.txt': 1, 'Q1-Dataset/2160-0.txt': 1, 'Q1-Dataset/pg11.txt': 1, 'Q1-Dataset/pg2600.txt': 1, 'Q1-Dataset/pg345.txt': 1, 'Q1-Dataset/pg64317.txt': 1, 'Q1-Dataset/pg70815.txt': 1, 'Q1-Dataset/1080-0.txt': 1, 'Q1-Dataset/pg70817.txt': 1, 'Q1-Dataset/pg1998.txt': 1}, 'performing': {'Q1-Dataset/pg1513.txt': 3, 'Q1-Dataset/2160-0.txt': 6, 'Q1-Dataset/pg11.txt': 3, 'Q1-Dataset/pg2600.txt': 8, 'Q1-Dataset/pg345.txt': 3, 'Q1-Dataset/pg64317.txt': 3, 'Q1-Dataset/pg70815.txt': 3, 'Q1-Dataset/1080-0.txt': 3, 'Q1-Dataset/pg70817.txt': 3, 'Q1-Dataset/pg1998.txt': 3}, 'word': {'Q1-Dataset/pg1513.txt': 28, 'Q1-Dataset/2160-0.txt': 42, 'Q1-Dataset/pg11.txt': 11, 'Q1-Dataset/pg2600.txt': 233, 'Q1-Dataset/pg345.txt': 65, 'Q1-Dataset/pg64317.txt': 23, 'Q1-Dataset/pg70815.txt': 15, 'Q1-Dataset/1080-0.txt': 1, 'Q1-Dataset/pg70817.txt': 6, 'Q1-Dataset/pg1998.txt': 52}, 'all': {'Q1-Dataset/pg1513.txt': 112, 'Q1-Dataset/2160-0.txt': 697, 'Q1-Dataset/pg11.txt': 195, 'Q1-Dataset/pg2600.txt': 2771, 'Q1-Dataset/pg345.txt': 1164, 'Q1-Dataset/pg64317.txt': 233, 'Q1-Dataset/pg70815.txt': 186, 'Q1-Dataset/1080-0.txt': 27, 'Q1-Dataset/pg70817.txt': 86, 'Q1-Dataset/pg1998.txt': 884}, 'secure': {'Q1-Dataset/pg1513.txt': 1, 'Q1-Dataset/2160-0.txt': 6, 'Q1-Dataset/pg11.txt': 1, 'Q1-Dataset/pg2600.txt': 16, 'Q1-Dataset/pg345.txt': 5, 'Q1-Dataset/pg64317.txt': 3, 'Q1-Dataset/pg70815.txt': 1, 'Q1-Dataset/1080-0.txt': 1, 'Q1-Dataset/pg70817.txt': 2, 'Q1-Dataset/pg1998.txt': 2}, 'whenever': {'Q1-Dataset/pg1513.txt': 1, 'Q1-Dataset/2160-0.txt': 6, 'Q1-Dataset/pg11.txt': 2, 'Q1-Dataset/pg2600.txt': 13, 'Q1-Dataset/pg345.txt': 8, 'Q1-Dataset/pg64317.txt': 8, 'Q1-Dataset/pg70815.txt': 2, 'Q1-Dataset/1080-0.txt': 1, 'Q1-Dataset/pg70817.txt': 1, 'Q1-Dataset/pg1998.txt': 4}, 'has': {'Q1-Dataset/pg1513.txt': 2, 'Q1-Dataset/2160-0.txt': 399, 'Q1-Dataset/pg11.txt': 9, 'Q1-Dataset/pg2600.txt': 704, 'Q1-Dataset/pg345.txt': 347, 'Q1-Dataset/pg64317.txt': 21, 'Q1-Dataset/pg70815.txt': 68, 'Q1-Dataset/1080-0.txt': 2, 'Q1-Dataset/pg70817.txt': 11, 'Q1-Dataset/pg1998.txt': 47}, 'does': {'Q1-Dataset/pg1513.txt': 2, 'Q1-Dataset/2160-0.txt': 32, 'Q1-Dataset/pg11.txt': 11, 'Q1-Dataset/pg2600.txt': 208, 'Q1-Dataset/pg345.txt': 74, 'Q1-Dataset/pg64317.txt': 12, 'Q1-Dataset/pg70815.txt': 17, 'Q1-Dataset/1080-0.txt': 2, 'Q1-Dataset/pg70817.txt': 4, 'Q1-Dataset/pg1998.txt': 19}, 'agree': {'Q1-Dataset/pg1513.txt': 10, 'Q1-Dataset/2160-0.txt': 11, 'Q1-Dataset/pg11.txt': 11, 'Q1-Dataset/pg2600.txt': 49, 'Q1-Dataset/pg345.txt': 14, 'Q1-Dataset/pg64317.txt': 9, 'Q1-Dataset/pg70815.txt': 14, 'Q1-Dataset/1080-0.txt': 9, 'Q1-Dataset/pg70817.txt': 10, 'Q1-Dataset/pg1998.txt': 9}, 'table': {'Q1-Dataset/pg1513.txt': 1, 'Q1-Dataset/2160-0.txt': 34, 'Q1-Dataset/pg11.txt': 18, 'Q1-Dataset/pg2600.txt': 222, 'Q1-Dataset/pg345.txt': 32, 'Q1-Dataset/pg64317.txt': 31, 'Q1-Dataset/pg70815.txt': 1, 'Q1-Dataset/1080-0.txt': 1, 'Q1-Dataset/pg70817.txt': 6, 'Q1-Dataset/pg1998.txt': 19}, 'if': {'Q1-Dataset/pg1513.txt': 106, 'Q1-Dataset/2160-0.txt': 406, 'Q1-Dataset/pg11.txt': 116, 'Q1-Dataset/pg2600.txt': 1303, 'Q1-Dataset/pg345.txt': 649, 'Q1-Dataset/pg64317.txt': 165, 'Q1-Dataset/pg70815.txt': 209, 'Q1-Dataset/1080-0.txt': 27, 'Q1-Dataset/pg70817.txt': 65, 'Q1-Dataset/pg1998.txt': 240}, 'makes': {'Q1-Dataset/pg1513.txt': 13, 'Q1-Dataset/2160-0.txt': 19, 'Q1-Dataset/pg11.txt': 12, 'Q1-Dataset/pg2600.txt': 27, 'Q1-Dataset/pg345.txt': 20, 'Q1-Dataset/pg64317.txt': 2, 'Q1-Dataset/pg70815.txt': 4, 'Q1-Dataset/1080-0.txt': 1, 'Q1-Dataset/pg70817.txt': 2, 'Q1-Dataset/pg1998.txt': 6}, 'hold': {'Q1-Dataset/pg1513.txt': 18, 'Q1-Dataset/2160-0.txt': 33, 'Q1-Dataset/pg11.txt': 10, 'Q1-Dataset/pg2600.txt': 64, 'Q1-Dataset/pg345.txt': 32, 'Q1-Dataset/pg64317.txt': 6, 'Q1-Dataset/pg70815.txt': 23, 'Q1-Dataset/1080-0.txt': 1, 'Q1-Dataset/pg70817.txt': 5, 'Q1-Dataset/pg1998.txt': 18}, 'met': {'Q1-Dataset/pg1513.txt': 5, 'Q1-Dataset/2160-0.txt': 39, 'Q1-Dataset/pg11.txt': 4, 'Q1-Dataset/pg2600.txt': 155, 'Q1-Dataset/pg345.txt': 30, 'Q1-Dataset/pg64317.txt': 21, 'Q1-Dataset/pg70815.txt': 10, 'Q1-Dataset/1080-0.txt': 1, 'Q1-Dataset/pg70817.txt': 5, 'Q1-Dataset/pg1998.txt': 8}, 'distributed': {'Q1-Dataset/pg1513.txt': 4, 'Q1-Dataset/2160-0.txt': 9, 'Q1-Dataset/pg11.txt': 4, 'Q1-Dataset/pg2600.txt': 13, 'Q1-Dataset/pg345.txt': 6, 'Q1-Dataset/pg64317.txt': 4, 'Q1-Dataset/pg70815.txt': 5, 'Q1-Dataset/1080-0.txt': 4, 'Q1-Dataset/pg70817.txt': 5, 'Q1-Dataset/pg1998.txt': 4}, 'nothing': {'Q1-Dataset/pg1513.txt': 14, 'Q1-Dataset/2160-0.txt': 134, 'Q1-Dataset/pg11.txt': 34, 'Q1-Dataset/pg2600.txt': 461, 'Q1-Dataset/pg345.txt': 112, 'Q1-Dataset/pg64317.txt': 32, 'Q1-Dataset/pg70815.txt': 42, 'Q1-Dataset/1080-0.txt': 1, 'Q1-Dataset/pg70817.txt': 21, 'Q1-Dataset/pg1998.txt': 64}, 'express': {'Q1-Dataset/pg1513.txt': 1, 'Q1-Dataset/2160-0.txt': 12, 'Q1-Dataset/pg11.txt': 1, 'Q1-Dataset/pg2600.txt': 62, 'Q1-Dataset/pg345.txt': 4, 'Q1-Dataset/pg64317.txt': 3, 'Q1-Dataset/pg70815.txt': 2, 'Q1-Dataset/1080-0.txt': 1, 'Q1-Dataset/pg70817.txt': 1, 'Q1-Dataset/pg1998.txt': 5}, 'takes': {'Q1-Dataset/pg1513.txt': 1, 'Q1-Dataset/2160-0.txt': 11, 'Q1-Dataset/pg11.txt': 3, 'Q1-Dataset/pg2600.txt': 25, 'Q1-Dataset/pg345.txt': 8, 'Q1-Dataset/pg64317.txt': 2, 'Q1-Dataset/pg70815.txt': 2, 'Q1-Dataset/1080-0.txt': 1, 'Q1-Dataset/pg70817.txt': 1, 'Q1-Dataset/pg1998.txt': 4}, 'come': {'Q1-Dataset/pg1513.txt': 96, 'Q1-Dataset/2160-0.txt': 75, 'Q1-Dataset/pg11.txt': 46, 'Q1-Dataset/pg2600.txt': 679, 'Q1-Dataset/pg345.txt': 338, 'Q1-Dataset/pg64317.txt': 85, 'Q1-Dataset/pg70815.txt': 112, 'Q1-Dataset/1080-0.txt': 3, 'Q1-Dataset/pg70817.txt': 11, 'Q1-Dataset/pg1998.txt': 139}, 'lot': {'Q1-Dataset/pg1513.txt': 1, 'Q1-Dataset/2160-0.txt': 2, 'Q1-Dataset/pg11.txt': 1, 'Q1-Dataset/pg2600.txt': 21, 'Q1-Dataset/pg345.txt': 17, 'Q1-Dataset/pg64317.txt': 10, 'Q1-Dataset/pg70815.txt': 3, 'Q1-Dataset/1080-0.txt': 1, 'Q1-Dataset/pg70817.txt': 8, 'Q1-Dataset/pg1998.txt': 7}, 'fitness': {'Q1-Dataset/pg1513.txt': 1, 'Q1-Dataset/2160-0.txt': 1, 'Q1-Dataset/pg11.txt': 1, 'Q1-Dataset/pg2600.txt': 2, 'Q1-Dataset/pg345.txt': 1, 'Q1-Dataset/pg64317.txt': 1, 'Q1-Dataset/pg70815.txt': 1, 'Q1-Dataset/1080-0.txt': 1, 'Q1-Dataset/pg70817.txt': 1, 'Q1-Dataset/pg1998.txt': 3}, 'cost': {'Q1-Dataset/pg1513.txt': 4, 'Q1-Dataset/2160-0.txt': 12, 'Q1-Dataset/pg11.txt': 4, 'Q1-Dataset/pg2600.txt': 26, 'Q1-Dataset/pg345.txt': 3, 'Q1-Dataset/pg64317.txt': 4, 'Q1-Dataset/pg70815.txt': 3, 'Q1-Dataset/1080-0.txt': 3, 'Q1-Dataset/pg70817.txt': 4, 'Q1-Dataset/pg1998.txt': 4}, 'protect': {'Q1-Dataset/pg1513.txt': 2, 'Q1-Dataset/2160-0.txt': 7, 'Q1-Dataset/pg11.txt': 2, 'Q1-Dataset/pg2600.txt': 10, 'Q1-Dataset/pg345.txt': 13, 'Q1-Dataset/pg64317.txt': 2, 'Q1-Dataset/pg70815.txt': 9, 'Q1-Dataset/1080-0.txt': 2, 'Q1-Dataset/pg70817.txt': 2, 'Q1-Dataset/pg1998.txt': 5}, 'newsletter': {'Q1-Dataset/pg1513.txt': 1, 'Q1-Dataset/2160-0.txt': 1, 'Q1-Dataset/pg11.txt': 1, 'Q1-Dataset/pg2600.txt': 1, 'Q1-Dataset/pg345.txt': 1, 'Q1-Dataset/pg64317.txt': 1, 'Q1-Dataset/pg70815.txt': 1, 'Q1-Dataset/1080-0.txt': 1, 'Q1-Dataset/pg70817.txt': 1, 'Q1-Dataset/pg1998.txt': 1}, 'status': {'Q1-Dataset/pg1513.txt': 4, 'Q1-Dataset/2160-0.txt': 4, 'Q1-Dataset/pg11.txt': 4, 'Q1-Dataset/pg2600.txt': 6, 'Q1-Dataset/pg345.txt': 4, 'Q1-Dataset/pg64317.txt': 4, 'Q1-Dataset/pg70815.txt': 4, 'Q1-Dataset/1080-0.txt': 4, 'Q1-Dataset/pg70817.txt': 4, 'Q1-Dataset/pg1998.txt': 4}, 'invalidity': {'Q1-Dataset/pg1513.txt': 1, 'Q1-Dataset/2160-0.txt': 1, 'Q1-Dataset/pg11.txt': 1, 'Q1-Dataset/pg2600.txt': 2, 'Q1-Dataset/pg345.txt': 1, 'Q1-Dataset/pg64317.txt': 1, 'Q1-Dataset/pg70815.txt': 1, 'Q1-Dataset/1080-0.txt': 1, 'Q1-Dataset/pg70817.txt': 1, 'Q1-Dataset/pg1998.txt': 1}, 'less': {'Q1-Dataset/pg1513.txt': 6, 'Q1-Dataset/2160-0.txt': 46, 'Q1-Dataset/pg11.txt': 3, 'Q1-Dataset/pg2600.txt': 142, 'Q1-Dataset/pg345.txt': 31, 'Q1-Dataset/pg64317.txt': 12, 'Q1-Dataset/pg70815.txt': 20, 'Q1-Dataset/1080-0.txt': 1, 'Q1-Dataset/pg70817.txt': 6, 'Q1-Dataset/pg1998.txt': 15}, 'bent': {'Q1-Dataset/pg1513.txt': 1, 'Q1-Dataset/2160-0.txt': 1, 'Q1-Dataset/pg11.txt': 1, 'Q1-Dataset/pg2600.txt': 62, 'Q1-Dataset/pg345.txt': 26, 'Q1-Dataset/pg64317.txt': 4, 'Q1-Dataset/pg70815.txt': 3, 'Q1-Dataset/1080-0.txt': 1, 'Q1-Dataset/pg70817.txt': 5, 'Q1-Dataset/pg1998.txt': 3}, 'answer': {'Q1-Dataset/pg1513.txt': 10, 'Q1-Dataset/2160-0.txt': 21, 'Q1-Dataset/pg11.txt': 9, 'Q1-Dataset/pg2600.txt': 142, 'Q1-Dataset/pg345.txt': 44, 'Q1-Dataset/pg64317.txt': 9, 'Q1-Dataset/pg70815.txt': 8, 'Q1-Dataset/1080-0.txt': 2, 'Q1-Dataset/pg70817.txt': 3, 'Q1-Dataset/pg1998.txt': 14}, 'nearly': {'Q1-Dataset/pg1513.txt': 2, 'Q1-Dataset/2160-0.txt': 9, 'Q1-Dataset/pg11.txt': 13, 'Q1-Dataset/pg2600.txt': 57, 'Q1-Dataset/pg345.txt': 22, 'Q1-Dataset/pg64317.txt': 4, 'Q1-Dataset/pg70815.txt': 3, 'Q1-Dataset/1080-0.txt': 2, 'Q1-Dataset/pg70817.txt': 18, 'Q1-Dataset/pg1998.txt': 6}, 'among': {'Q1-Dataset/pg1513.txt': 6, 'Q1-Dataset/2160-0.txt': 93, 'Q1-Dataset/pg11.txt': 12, 'Q1-Dataset/pg2600.txt': 216, 'Q1-Dataset/pg345.txt': 8, 'Q1-Dataset/pg64317.txt': 21, 'Q1-Dataset/pg70815.txt': 57, 'Q1-Dataset/1080-0.txt': 6, 'Q1-Dataset/pg70817.txt': 1, 'Q1-Dataset/pg1998.txt': 69}, 'choose': {'Q1-Dataset/pg1513.txt': 4, 'Q1-Dataset/2160-0.txt': 9, 'Q1-Dataset/pg11.txt': 1, 'Q1-Dataset/pg2600.txt': 26, 'Q1-Dataset/pg345.txt': 8, 'Q1-Dataset/pg64317.txt': 2, 'Q1-Dataset/pg70815.txt': 4, 'Q1-Dataset/1080-0.txt': 1, 'Q1-Dataset/pg70817.txt': 1, 'Q1-Dataset/pg1998.txt': 6}, 'because': {'Q1-Dataset/pg1513.txt': 11, 'Q1-Dataset/2160-0.txt': 43, 'Q1-Dataset/pg11.txt': 16, 'Q1-Dataset/pg2600.txt': 487, 'Q1-Dataset/pg345.txt': 55, 'Q1-Dataset/pg64317.txt': 46, 'Q1-Dataset/pg70815.txt': 43, 'Q1-Dataset/1080-0.txt': 4, 'Q1-Dataset/pg70817.txt': 11, 'Q1-Dataset/pg1998.txt': 97}, 'west': {'Q1-Dataset/pg1513.txt': 2, 'Q1-Dataset/2160-0.txt': 9, 'Q1-Dataset/pg11.txt': 1, 'Q1-Dataset/pg2600.txt': 28, 'Q1-Dataset/pg345.txt': 12, 'Q1-Dataset/pg64317.txt': 38, 'Q1-Dataset/pg70815.txt': 8, 'Q1-Dataset/1080-0.txt': 1, 'Q1-Dataset/pg70817.txt': 1, 'Q1-Dataset/pg1998.txt': 1}, 'disclaim': {'Q1-Dataset/pg1513.txt': 1, 'Q1-Dataset/2160-0.txt': 1, 'Q1-Dataset/pg11.txt': 1, 'Q1-Dataset/pg2600.txt': 1, 'Q1-Dataset/pg345.txt': 1, 'Q1-Dataset/pg64317.txt': 1, 'Q1-Dataset/pg70815.txt': 1, 'Q1-Dataset/1080-0.txt': 1, 'Q1-Dataset/pg70817.txt': 1, 'Q1-Dataset/pg1998.txt': 2}, 'while': {'Q1-Dataset/pg1513.txt': 8, 'Q1-Dataset/2160-0.txt': 94, 'Q1-Dataset/pg11.txt': 25, 'Q1-Dataset/pg2600.txt': 397, 'Q1-Dataset/pg345.txt': 49, 'Q1-Dataset/pg64317.txt': 48, 'Q1-Dataset/pg70815.txt': 126, 'Q1-Dataset/1080-0.txt': 1, 'Q1-Dataset/pg70817.txt': 15, 'Q1-Dataset/pg1998.txt': 41}, 'literary': {'Q1-Dataset/pg1513.txt': 13, 'Q1-Dataset/2160-0.txt': 17, 'Q1-Dataset/pg11.txt': 13, 'Q1-Dataset/pg2600.txt': 13, 'Q1-Dataset/pg345.txt': 13, 'Q1-Dataset/pg64317.txt': 14, 'Q1-Dataset/pg70815.txt': 13, 'Q1-Dataset/1080-0.txt': 13, 'Q1-Dataset/pg70817.txt': 13, 'Q1-Dataset/pg1998.txt': 13}, 'virus': {'Q1-Dataset/pg1513.txt': 1, 'Q1-Dataset/2160-0.txt': 3, 'Q1-Dataset/pg11.txt': 1, 'Q1-Dataset/pg2600.txt': 1, 'Q1-Dataset/pg345.txt': 1, 'Q1-Dataset/pg64317.txt': 1, 'Q1-Dataset/pg70815.txt': 1, 'Q1-Dataset/1080-0.txt': 1, 'Q1-Dataset/pg70817.txt': 1, 'Q1-Dataset/pg1998.txt': 1}, 'to': {'Q1-Dataset/pg1513.txt': 622, 'Q1-Dataset/2160-0.txt': 4412, 'Q1-Dataset/pg11.txt': 803, 'Q1-Dataset/pg2600.txt': 16713, 'Q1-Dataset/pg345.txt': 4543, 'Q1-Dataset/pg64317.txt': 1209, 'Q1-Dataset/pg70815.txt': 2032, 'Q1-Dataset/1080-0.txt': 190, 'Q1-Dataset/pg70817.txt': 578, 'Q1-Dataset/pg1998.txt': 2681}, 'credit': {'Q1-Dataset/pg1513.txt': 1, 'Q1-Dataset/2160-0.txt': 18, 'Q1-Dataset/pg11.txt': 1, 'Q1-Dataset/pg2600.txt': 9, 'Q1-Dataset/pg345.txt': 4, 'Q1-Dataset/pg64317.txt': 2, 'Q1-Dataset/pg70815.txt': 3, 'Q1-Dataset/1080-0.txt': 1, 'Q1-Dataset/pg70817.txt': 1, 'Q1-Dataset/pg1998.txt': 2}, 'grow': {'Q1-Dataset/pg1513.txt': 3, 'Q1-Dataset/2160-0.txt': 14, 'Q1-Dataset/pg11.txt': 13, 'Q1-Dataset/pg2600.txt': 28, 'Q1-Dataset/pg345.txt': 21, 'Q1-Dataset/pg64317.txt': 4, 'Q1-Dataset/pg70815.txt': 2, 'Q1-Dataset/1080-0.txt': 2, 'Q1-Dataset/pg70817.txt': 1, 'Q1-Dataset/pg1998.txt': 5}, 'effort': {'Q1-Dataset/pg1513.txt': 2, 'Q1-Dataset/2160-0.txt': 13, 'Q1-Dataset/pg11.txt': 2, 'Q1-Dataset/pg2600.txt': 78, 'Q1-Dataset/pg345.txt': 38, 'Q1-Dataset/pg64317.txt': 15, 'Q1-Dataset/pg70815.txt': 32, 'Q1-Dataset/1080-0.txt': 2, 'Q1-Dataset/pg70817.txt': 5, 'Q1-Dataset/pg1998.txt': 3}, 'problem': {'Q1-Dataset/pg1513.txt': 1, 'Q1-Dataset/2160-0.txt': 1, 'Q1-Dataset/pg11.txt': 1, 'Q1-Dataset/pg2600.txt': 20, 'Q1-Dataset/pg345.txt': 4, 'Q1-Dataset/pg64317.txt': 1, 'Q1-Dataset/pg70815.txt': 3, 'Q1-Dataset/1080-0.txt': 1, 'Q1-Dataset/pg70817.txt': 3, 'Q1-Dataset/pg1998.txt': 1}, 'want': {'Q1-Dataset/pg1513.txt': 2, 'Q1-Dataset/2160-0.txt': 54, 'Q1-Dataset/pg11.txt': 9, 'Q1-Dataset/pg2600.txt': 249, 'Q1-Dataset/pg345.txt': 114, 'Q1-Dataset/pg64317.txt': 59, 'Q1-Dataset/pg70815.txt': 17, 'Q1-Dataset/1080-0.txt': 5, 'Q1-Dataset/pg70817.txt': 6, 'Q1-Dataset/pg1998.txt': 86}, 'readable': {'Q1-Dataset/pg1513.txt': 1, 'Q1-Dataset/2160-0.txt': 2, 'Q1-Dataset/pg11.txt': 1, 'Q1-Dataset/pg2600.txt': 1, 'Q1-Dataset/pg345.txt': 1, 'Q1-Dataset/pg64317.txt': 1, 'Q1-Dataset/pg70815.txt': 1, 'Q1-Dataset/1080-0.txt': 1, 'Q1-Dataset/pg70817.txt': 1, 'Q1-Dataset/pg1998.txt': 1}, 'such': {'Q1-Dataset/pg1513.txt': 52, 'Q1-Dataset/2160-0.txt': 397, 'Q1-Dataset/pg11.txt': 47, 'Q1-Dataset/pg2600.txt': 590, 'Q1-Dataset/pg345.txt': 229, 'Q1-Dataset/pg64317.txt': 25, 'Q1-Dataset/pg70815.txt': 94, 'Q1-Dataset/1080-0.txt': 9, 'Q1-Dataset/pg70817.txt': 16, 'Q1-Dataset/pg1998.txt': 178}, 'viewed': {'Q1-Dataset/pg1513.txt': 1, 'Q1-Dataset/2160-0.txt': 3, 'Q1-Dataset/pg11.txt': 1, 'Q1-Dataset/pg2600.txt': 2, 'Q1-Dataset/pg345.txt': 1, 'Q1-Dataset/pg64317.txt': 1, 'Q1-Dataset/pg70815.txt': 2, 'Q1-Dataset/1080-0.txt': 1, 'Q1-Dataset/pg70817.txt': 1, 'Q1-Dataset/pg1998.txt': 1}, 'people': {'Q1-Dataset/pg1513.txt': 4, 'Q1-Dataset/2160-0.txt': 106, 'Q1-Dataset/pg11.txt': 16, 'Q1-Dataset/pg2600.txt': 524, 'Q1-Dataset/pg345.txt': 46, 'Q1-Dataset/pg64317.txt': 63, 'Q1-Dataset/pg70815.txt': 60, 'Q1-Dataset/1080-0.txt': 8, 'Q1-Dataset/pg70817.txt': 12, 'Q1-Dataset/pg1998.txt': 132}, 'should': {'Q1-Dataset/pg1513.txt': 51, 'Q1-Dataset/2160-0.txt': 259, 'Q1-Dataset/pg11.txt': 29, 'Q1-Dataset/pg2600.txt': 519, 'Q1-Dataset/pg345.txt': 197, 'Q1-Dataset/pg64317.txt': 11, 'Q1-Dataset/pg70815.txt': 59, 'Q1-Dataset/1080-0.txt': 4, 'Q1-Dataset/pg70817.txt': 6, 'Q1-Dataset/pg1998.txt': 136}, 'lake': {'Q1-Dataset/pg1513.txt': 1, 'Q1-Dataset/2160-0.txt': 9, 'Q1-Dataset/pg11.txt': 1, 'Q1-Dataset/pg2600.txt': 1, 'Q1-Dataset/pg345.txt': 3, 'Q1-Dataset/pg64317.txt': 5, 'Q1-Dataset/pg70815.txt': 11, 'Q1-Dataset/1080-0.txt': 1, 'Q1-Dataset/pg70817.txt': 1, 'Q1-Dataset/pg1998.txt': 7}, 'alive': {'Q1-Dataset/pg1513.txt': 1, 'Q1-Dataset/2160-0.txt': 1, 'Q1-Dataset/pg11.txt': 3, 'Q1-Dataset/pg2600.txt': 45, 'Q1-Dataset/pg345.txt': 12, 'Q1-Dataset/pg64317.txt': 5, 'Q1-Dataset/pg70815.txt': 13, 'Q1-Dataset/1080-0.txt': 2, 'Q1-Dataset/pg70817.txt': 4, 'Q1-Dataset/pg1998.txt': 4}, 'plain': {'Q1-Dataset/pg1513.txt': 3, 'Q1-Dataset/2160-0.txt': 23, 'Q1-Dataset/pg11.txt': 2, 'Q1-Dataset/pg2600.txt': 67, 'Q1-Dataset/pg345.txt': 6, 'Q1-Dataset/pg64317.txt': 2, 'Q1-Dataset/pg70815.txt': 29, 'Q1-Dataset/1080-0.txt': 2, 'Q1-Dataset/pg70817.txt': 3, 'Q1-Dataset/pg1998.txt': 5}, 'see': {'Q1-Dataset/pg1513.txt': 39, 'Q1-Dataset/2160-0.txt': 112, 'Q1-Dataset/pg11.txt': 69, 'Q1-Dataset/pg2600.txt': 730, 'Q1-Dataset/pg345.txt': 394, 'Q1-Dataset/pg64317.txt': 84, 'Q1-Dataset/pg70815.txt': 69, 'Q1-Dataset/1080-0.txt': 5, 'Q1-Dataset/pg70817.txt': 30, 'Q1-Dataset/pg1998.txt': 151}, 'me': {'Q1-Dataset/pg1513.txt': 265, 'Q1-Dataset/2160-0.txt': 510, 'Q1-Dataset/pg11.txt': 64, 'Q1-Dataset/pg2600.txt': 1263, 'Q1-Dataset/pg345.txt': 1444, 'Q1-Dataset/pg64317.txt': 325, 'Q1-Dataset/pg70815.txt': 105, 'Q1-Dataset/1080-0.txt': 5, 'Q1-Dataset/pg70817.txt': 61, 'Q1-Dataset/pg1998.txt': 783}, 'associated': {'Q1-Dataset/pg1513.txt': 7, 'Q1-Dataset/2160-0.txt': 8, 'Q1-Dataset/pg11.txt': 8, 'Q1-Dataset/pg2600.txt': 14, 'Q1-Dataset/pg345.txt': 7, 'Q1-Dataset/pg64317.txt': 9, 'Q1-Dataset/pg70815.txt': 8, 'Q1-Dataset/1080-0.txt': 8, 'Q1-Dataset/pg70817.txt': 7, 'Q1-Dataset/pg1998.txt': 9}, 'reaching': {'Q1-Dataset/pg1513.txt': 1, 'Q1-Dataset/2160-0.txt': 5, 'Q1-Dataset/pg11.txt': 2, 'Q1-Dataset/pg2600.txt': 32, 'Q1-Dataset/pg345.txt': 3, 'Q1-Dataset/pg64317.txt': 1, 'Q1-Dataset/pg70815.txt': 3, 'Q1-Dataset/1080-0.txt': 1, 'Q1-Dataset/pg70817.txt': 4, 'Q1-Dataset/pg1998.txt': 1}, 'staff': {'Q1-Dataset/pg1513.txt': 1, 'Q1-Dataset/2160-0.txt': 1, 'Q1-Dataset/pg11.txt': 1, 'Q1-Dataset/pg2600.txt': 135, 'Q1-Dataset/pg345.txt': 2, 'Q1-Dataset/pg64317.txt': 1, 'Q1-Dataset/pg70815.txt': 1, 'Q1-Dataset/1080-0.txt': 1, 'Q1-Dataset/pg70817.txt': 2, 'Q1-Dataset/pg1998.txt': 6}, 'when': {'Q1-Dataset/pg1513.txt': 54, 'Q1-Dataset/2160-0.txt': 327, 'Q1-Dataset/pg11.txt': 80, 'Q1-Dataset/pg2600.txt': 1486, 'Q1-Dataset/pg345.txt': 771, 'Q1-Dataset/pg64317.txt': 144, 'Q1-Dataset/pg70815.txt': 220, 'Q1-Dataset/1080-0.txt': 8, 'Q1-Dataset/pg70817.txt': 78, 'Q1-Dataset/pg1998.txt': 393}, 'proofread': {'Q1-Dataset/pg1513.txt': 1, 'Q1-Dataset/2160-0.txt': 1, 'Q1-Dataset/pg11.txt': 1, 'Q1-Dataset/pg2600.txt': 1, 'Q1-Dataset/pg345.txt': 1, 'Q1-Dataset/pg64317.txt': 1, 'Q1-Dataset/pg70815.txt': 1, 'Q1-Dataset/1080-0.txt': 1, 'Q1-Dataset/pg70817.txt': 1, 'Q1-Dataset/pg1998.txt': 1}, 'opportunities': {'Q1-Dataset/pg1513.txt': 1, 'Q1-Dataset/2160-0.txt': 2, 'Q1-Dataset/pg11.txt': 1, 'Q1-Dataset/pg2600.txt': 5, 'Q1-Dataset/pg345.txt': 5, 'Q1-Dataset/pg64317.txt': 1, 'Q1-Dataset/pg70815.txt': 1, 'Q1-Dataset/1080-0.txt': 1, 'Q1-Dataset/pg70817.txt': 1, 'Q1-Dataset/pg1998.txt': 2}, 'revenue': {'Q1-Dataset/pg1513.txt': 1, 'Q1-Dataset/2160-0.txt': 4, 'Q1-Dataset/pg11.txt': 1, 'Q1-Dataset/pg2600.txt': 2, 'Q1-Dataset/pg345.txt': 1, 'Q1-Dataset/pg64317.txt': 1, 'Q1-Dataset/pg70815.txt': 1, 'Q1-Dataset/1080-0.txt': 1, 'Q1-Dataset/pg70817.txt': 1, 'Q1-Dataset/pg1998.txt': 1}, 'owner': {'Q1-Dataset/pg1513.txt': 4, 'Q1-Dataset/2160-0.txt': 6, 'Q1-Dataset/pg11.txt': 4, 'Q1-Dataset/pg2600.txt': 10, 'Q1-Dataset/pg345.txt': 10, 'Q1-Dataset/pg64317.txt': 4, 'Q1-Dataset/pg70815.txt': 4, 'Q1-Dataset/1080-0.txt': 4, 'Q1-Dataset/pg70817.txt': 5, 'Q1-Dataset/pg1998.txt': 4}, 'complying': {'Q1-Dataset/pg1513.txt': 3, 'Q1-Dataset/2160-0.txt': 3, 'Q1-Dataset/pg11.txt': 3, 'Q1-Dataset/pg2600.txt': 4, 'Q1-Dataset/pg345.txt': 3, 'Q1-Dataset/pg64317.txt': 3, 'Q1-Dataset/pg70815.txt': 3, 'Q1-Dataset/1080-0.txt': 3, 'Q1-Dataset/pg70817.txt': 3, 'Q1-Dataset/pg1998.txt': 3}, 'copyright': {'Q1-Dataset/pg1513.txt': 19, 'Q1-Dataset/2160-0.txt': 13, 'Q1-Dataset/pg11.txt': 19, 'Q1-Dataset/pg2600.txt': 19, 'Q1-Dataset/pg345.txt': 20, 'Q1-Dataset/pg64317.txt': 19, 'Q1-Dataset/pg70815.txt': 19, 'Q1-Dataset/1080-0.txt': 19, 'Q1-Dataset/pg70817.txt': 21, 'Q1-Dataset/pg1998.txt': 19}, 'sure': {'Q1-Dataset/pg1513.txt': 5, 'Q1-Dataset/2160-0.txt': 63, 'Q1-Dataset/pg11.txt': 24, 'Q1-Dataset/pg2600.txt': 68, 'Q1-Dataset/pg345.txt': 47, 'Q1-Dataset/pg64317.txt': 17, 'Q1-Dataset/pg70815.txt': 21, 'Q1-Dataset/1080-0.txt': 1, 'Q1-Dataset/pg70817.txt': 18, 'Q1-Dataset/pg1998.txt': 24}, 'twelve': {'Q1-Dataset/pg1513.txt': 2, 'Q1-Dataset/2160-0.txt': 10, 'Q1-Dataset/pg11.txt': 4, 'Q1-Dataset/pg2600.txt': 14, 'Q1-Dataset/pg345.txt': 6, 'Q1-Dataset/pg64317.txt': 5, 'Q1-Dataset/pg70815.txt': 3, 'Q1-Dataset/1080-0.txt': 2, 'Q1-Dataset/pg70817.txt': 2, 'Q1-Dataset/pg1998.txt': 2}, 'yet': {'Q1-Dataset/pg1513.txt': 47, 'Q1-Dataset/2160-0.txt': 81, 'Q1-Dataset/pg11.txt': 21, 'Q1-Dataset/pg2600.txt': 339, 'Q1-Dataset/pg345.txt': 152, 'Q1-Dataset/pg64317.txt': 9, 'Q1-Dataset/pg70815.txt': 75, 'Q1-Dataset/1080-0.txt': 1, 'Q1-Dataset/pg70817.txt': 20, 'Q1-Dataset/pg1998.txt': 129}, 'michael': {'Q1-Dataset/pg1513.txt': 1, 'Q1-Dataset/2160-0.txt': 2, 'Q1-Dataset/pg11.txt': 1, 'Q1-Dataset/pg2600.txt': 52, 'Q1-Dataset/pg345.txt': 1, 'Q1-Dataset/pg64317.txt': 1, 'Q1-Dataset/pg70815.txt': 1, 'Q1-Dataset/1080-0.txt': 1, 'Q1-Dataset/pg70817.txt': 1, 'Q1-Dataset/pg1998.txt': 1}, 'errors': {'Q1-Dataset/pg1513.txt': 1, 'Q1-Dataset/2160-0.txt': 1, 'Q1-Dataset/pg11.txt': 1, 'Q1-Dataset/pg2600.txt': 3, 'Q1-Dataset/pg345.txt': 3, 'Q1-Dataset/pg64317.txt': 1, 'Q1-Dataset/pg70815.txt': 2, 'Q1-Dataset/1080-0.txt': 1, 'Q1-Dataset/pg70817.txt': 1, 'Q1-Dataset/pg1998.txt': 4}, 'creating': {'Q1-Dataset/pg1513.txt': 4, 'Q1-Dataset/2160-0.txt': 4, 'Q1-Dataset/pg11.txt': 4, 'Q1-Dataset/pg2600.txt': 4, 'Q1-Dataset/pg345.txt': 4, 'Q1-Dataset/pg64317.txt': 4, 'Q1-Dataset/pg70815.txt': 4, 'Q1-Dataset/1080-0.txt': 4, 'Q1-Dataset/pg70817.txt': 4, 'Q1-Dataset/pg1998.txt': 43}, 'copying': {'Q1-Dataset/pg1513.txt': 4, 'Q1-Dataset/2160-0.txt': 4, 'Q1-Dataset/pg11.txt': 4, 'Q1-Dataset/pg2600.txt': 7, 'Q1-Dataset/pg345.txt': 4, 'Q1-Dataset/pg64317.txt': 4, 'Q1-Dataset/pg70815.txt': 4, 'Q1-Dataset/1080-0.txt': 4, 'Q1-Dataset/pg70817.txt': 4, 'Q1-Dataset/pg1998.txt': 4}, 'figure': {'Q1-Dataset/pg1513.txt': 1, 'Q1-Dataset/2160-0.txt': 23, 'Q1-Dataset/pg11.txt': 3, 'Q1-Dataset/pg2600.txt': 69, 'Q1-Dataset/pg345.txt': 22, 'Q1-Dataset/pg64317.txt': 6, 'Q1-Dataset/pg70815.txt': 6, 'Q1-Dataset/1080-0.txt': 2, 'Q1-Dataset/pg70817.txt': 4, 'Q1-Dataset/pg1998.txt': 9}, 'ascii': {'Q1-Dataset/pg1513.txt': 2, 'Q1-Dataset/2160-0.txt': 2, 'Q1-Dataset/pg11.txt': 2, 'Q1-Dataset/pg2600.txt': 2, 'Q1-Dataset/pg345.txt': 2, 'Q1-Dataset/pg64317.txt': 2, 'Q1-Dataset/pg70815.txt': 2, 'Q1-Dataset/1080-0.txt': 2, 'Q1-Dataset/pg70817.txt': 2, 'Q1-Dataset/pg1998.txt': 2}, 'liability': {'Q1-Dataset/pg1513.txt': 3, 'Q1-Dataset/2160-0.txt': 3, 'Q1-Dataset/pg11.txt': 3, 'Q1-Dataset/pg2600.txt': 3, 'Q1-Dataset/pg345.txt': 3, 'Q1-Dataset/pg64317.txt': 3, 'Q1-Dataset/pg70815.txt': 3, 'Q1-Dataset/1080-0.txt': 3, 'Q1-Dataset/pg70817.txt': 3, 'Q1-Dataset/pg1998.txt': 3}, 'work': {'Q1-Dataset/pg1513.txt': 49, 'Q1-Dataset/2160-0.txt': 61, 'Q1-Dataset/pg11.txt': 53, 'Q1-Dataset/pg2600.txt': 166, 'Q1-Dataset/pg345.txt': 183, 'Q1-Dataset/pg64317.txt': 56, 'Q1-Dataset/pg70815.txt': 56, 'Q1-Dataset/1080-0.txt': 51, 'Q1-Dataset/pg70817.txt': 54, 'Q1-Dataset/pg1998.txt': 77}, 'he': {'Q1-Dataset/pg1513.txt': 122, 'Q1-Dataset/2160-0.txt': 2012, 'Q1-Dataset/pg11.txt': 119, 'Q1-Dataset/pg2600.txt': 9811, 'Q1-Dataset/pg345.txt': 2541, 'Q1-Dataset/pg64317.txt': 797, 'Q1-Dataset/pg70815.txt': 1472, 'Q1-Dataset/1080-0.txt': 8, 'Q1-Dataset/pg70817.txt': 551, 'Q1-Dataset/pg1998.txt': 1077}, 'library': {'Q1-Dataset/pg1513.txt': 1, 'Q1-Dataset/2160-0.txt': 3, 'Q1-Dataset/pg11.txt': 1, 'Q1-Dataset/pg2600.txt': 6, 'Q1-Dataset/pg345.txt': 9, 'Q1-Dataset/pg64317.txt': 11, 'Q1-Dataset/pg70815.txt': 1, 'Q1-Dataset/1080-0.txt': 1, 'Q1-Dataset/pg70817.txt': 5, 'Q1-Dataset/pg1998.txt': 1}, 'calculate': {'Q1-Dataset/pg1513.txt': 1, 'Q1-Dataset/2160-0.txt': 1, 'Q1-Dataset/pg11.txt': 1, 'Q1-Dataset/pg2600.txt': 1, 'Q1-Dataset/pg345.txt': 1, 'Q1-Dataset/pg64317.txt': 1, 'Q1-Dataset/pg70815.txt': 1, 'Q1-Dataset/1080-0.txt': 3, 'Q1-Dataset/pg70817.txt': 1, 'Q1-Dataset/pg1998.txt': 2}, 'beat': {'Q1-Dataset/pg1513.txt': 4, 'Q1-Dataset/2160-0.txt': 8, 'Q1-Dataset/pg11.txt': 4, 'Q1-Dataset/pg2600.txt': 33, 'Q1-Dataset/pg345.txt': 17, 'Q1-Dataset/pg64317.txt': 9, 'Q1-Dataset/pg70815.txt': 7, 'Q1-Dataset/1080-0.txt': 1, 'Q1-Dataset/pg70817.txt': 2, 'Q1-Dataset/pg1998.txt': 4}, 'asis': {'Q1-Dataset/pg1513.txt': 1, 'Q1-Dataset/2160-0.txt': 1, 'Q1-Dataset/pg11.txt': 1, 'Q1-Dataset/pg2600.txt': 1, 'Q1-Dataset/pg345.txt': 1, 'Q1-Dataset/pg64317.txt': 1, 'Q1-Dataset/pg70815.txt': 1, 'Q1-Dataset/1080-0.txt': 1, 'Q1-Dataset/pg70817.txt': 1, 'Q1-Dataset/pg1998.txt': 1}, 'home': {'Q1-Dataset/pg1513.txt': 6, 'Q1-Dataset/2160-0.txt': 30, 'Q1-Dataset/pg11.txt': 5, 'Q1-Dataset/pg2600.txt': 172, 'Q1-Dataset/pg345.txt': 75, 'Q1-Dataset/pg64317.txt': 27, 'Q1-Dataset/pg70815.txt': 8, 'Q1-Dataset/1080-0.txt': 2, 'Q1-Dataset/pg70817.txt': 9, 'Q1-Dataset/pg1998.txt': 44}, 'active': {'Q1-Dataset/pg1513.txt': 2, 'Q1-Dataset/2160-0.txt': 3, 'Q1-Dataset/pg11.txt': 2, 'Q1-Dataset/pg2600.txt': 24, 'Q1-Dataset/pg345.txt': 9, 'Q1-Dataset/pg64317.txt': 2, 'Q1-Dataset/pg70815.txt': 4, 'Q1-Dataset/1080-0.txt': 2, 'Q1-Dataset/pg70817.txt': 2, 'Q1-Dataset/pg1998.txt': 6}, 'page': {'Q1-Dataset/pg1513.txt': 13, 'Q1-Dataset/2160-0.txt': 2, 'Q1-Dataset/pg11.txt': 2, 'Q1-Dataset/pg2600.txt': 14, 'Q1-Dataset/pg345.txt': 4, 'Q1-Dataset/pg64317.txt': 3, 'Q1-Dataset/pg70815.txt': 3, 'Q1-Dataset/1080-0.txt': 2, 'Q1-Dataset/pg70817.txt': 4, 'Q1-Dataset/pg1998.txt': 5}, 'c': {'Q1-Dataset/pg1513.txt': 3, 'Q1-Dataset/2160-0.txt': 28, 'Q1-Dataset/pg11.txt': 1, 'Q1-Dataset/pg2600.txt': 5, 'Q1-Dataset/pg345.txt': 4, 'Q1-Dataset/pg64317.txt': 2, 'Q1-Dataset/pg70815.txt': 1, 'Q1-Dataset/1080-0.txt': 1, 'Q1-Dataset/pg70817.txt': 1, 'Q1-Dataset/pg1998.txt': 2}, 'above': {'Q1-Dataset/pg1513.txt': 10, 'Q1-Dataset/2160-0.txt': 79, 'Q1-Dataset/pg11.txt': 3, 'Q1-Dataset/pg2600.txt': 146, 'Q1-Dataset/pg345.txt': 17, 'Q1-Dataset/pg64317.txt': 7, 'Q1-Dataset/pg70815.txt': 99, 'Q1-Dataset/1080-0.txt': 4, 'Q1-Dataset/pg70817.txt': 7, 'Q1-Dataset/pg1998.txt': 58}, 'disk': {'Q1-Dataset/pg1513.txt': 1, 'Q1-Dataset/2160-0.txt': 1, 'Q1-Dataset/pg11.txt': 1, 'Q1-Dataset/pg2600.txt': 1, 'Q1-Dataset/pg345.txt': 1, 'Q1-Dataset/pg64317.txt': 1, 'Q1-Dataset/pg70815.txt': 1, 'Q1-Dataset/1080-0.txt': 1, 'Q1-Dataset/pg70817.txt': 1, 'Q1-Dataset/pg1998.txt': 1}, 'able': {'Q1-Dataset/pg1513.txt': 2, 'Q1-Dataset/2160-0.txt': 31, 'Q1-Dataset/pg11.txt': 1, 'Q1-Dataset/pg2600.txt': 107, 'Q1-Dataset/pg345.txt': 47, 'Q1-Dataset/pg64317.txt': 6, 'Q1-Dataset/pg70815.txt': 18, 'Q1-Dataset/1080-0.txt': 4, 'Q1-Dataset/pg70817.txt': 1, 'Q1-Dataset/pg1998.txt': 19}, 'occur': {'Q1-Dataset/pg1513.txt': 1, 'Q1-Dataset/2160-0.txt': 3, 'Q1-Dataset/pg11.txt': 1, 'Q1-Dataset/pg2600.txt': 22, 'Q1-Dataset/pg345.txt': 9, 'Q1-Dataset/pg64317.txt': 1, 'Q1-Dataset/pg70815.txt': 1, 'Q1-Dataset/1080-0.txt': 1, 'Q1-Dataset/pg70817.txt': 1, 'Q1-Dataset/pg1998.txt': 3}, 'gutenberg': {'Q1-Dataset/pg1513.txt': 32, 'Q1-Dataset/2160-0.txt': 29, 'Q1-Dataset/pg11.txt': 31, 'Q1-Dataset/pg2600.txt': 31, 'Q1-Dataset/pg345.txt': 31, 'Q1-Dataset/pg64317.txt': 32, 'Q1-Dataset/pg70815.txt': 87, 'Q1-Dataset/1080-0.txt': 31, 'Q1-Dataset/pg70817.txt': 87, 'Q1-Dataset/pg1998.txt': 87}, 'let': {'Q1-Dataset/pg1513.txt': 44, 'Q1-Dataset/2160-0.txt': 46, 'Q1-Dataset/pg11.txt': 17, 'Q1-Dataset/pg2600.txt': 376, 'Q1-Dataset/pg345.txt': 144, 'Q1-Dataset/pg64317.txt': 26, 'Q1-Dataset/pg70815.txt': 40, 'Q1-Dataset/1080-0.txt': 3, 'Q1-Dataset/pg70817.txt': 4, 'Q1-Dataset/pg1998.txt': 102}, 'start': {'Q1-Dataset/pg1513.txt': 3, 'Q1-Dataset/2160-0.txt': 7, 'Q1-Dataset/pg11.txt': 3, 'Q1-Dataset/pg2600.txt': 33, 'Q1-Dataset/pg345.txt': 29, 'Q1-Dataset/pg64317.txt': 12, 'Q1-Dataset/pg70815.txt': 13, 'Q1-Dataset/1080-0.txt': 3, 'Q1-Dataset/pg70817.txt': 7, 'Q1-Dataset/pg1998.txt': 6}, 'distribution': {'Q1-Dataset/pg1513.txt': 6, 'Q1-Dataset/2160-0.txt': 8, 'Q1-Dataset/pg11.txt': 6, 'Q1-Dataset/pg2600.txt': 10, 'Q1-Dataset/pg345.txt': 8, 'Q1-Dataset/pg64317.txt': 6, 'Q1-Dataset/pg70815.txt': 6, 'Q1-Dataset/1080-0.txt': 6, 'Q1-Dataset/pg70817.txt': 6, 'Q1-Dataset/pg1998.txt': 6}, 'particularly': {'Q1-Dataset/pg1513.txt': 1, 'Q1-Dataset/2160-0.txt': 7, 'Q1-Dataset/pg11.txt': 1, 'Q1-Dataset/pg2600.txt': 87, 'Q1-Dataset/pg345.txt': 3, 'Q1-Dataset/pg64317.txt': 2, 'Q1-Dataset/pg70815.txt': 10, 'Q1-Dataset/1080-0.txt': 2, 'Q1-Dataset/pg70817.txt': 2, 'Q1-Dataset/pg1998.txt': 5}, 'donors': {'Q1-Dataset/pg1513.txt': 1, 'Q1-Dataset/2160-0.txt': 1, 'Q1-Dataset/pg11.txt': 1, 'Q1-Dataset/pg2600.txt': 2, 'Q1-Dataset/pg345.txt': 1, 'Q1-Dataset/pg64317.txt': 1, 'Q1-Dataset/pg70815.txt': 1, 'Q1-Dataset/1080-0.txt': 1, 'Q1-Dataset/pg70817.txt': 1, 'Q1-Dataset/pg1998.txt': 1}, 'linked': {'Q1-Dataset/pg1513.txt': 1, 'Q1-Dataset/2160-0.txt': 1, 'Q1-Dataset/pg11.txt': 2, 'Q1-Dataset/pg2600.txt': 5, 'Q1-Dataset/pg345.txt': 2, 'Q1-Dataset/pg64317.txt': 1, 'Q1-Dataset/pg70815.txt': 1, 'Q1-Dataset/1080-0.txt': 1, 'Q1-Dataset/pg70817.txt': 2, 'Q1-Dataset/pg1998.txt': 1}, 'three': {'Q1-Dataset/pg1513.txt': 8, 'Q1-Dataset/2160-0.txt': 77, 'Q1-Dataset/pg11.txt': 26, 'Q1-Dataset/pg2600.txt': 255, 'Q1-Dataset/pg345.txt': 58, 'Q1-Dataset/pg64317.txt': 35, 'Q1-Dataset/pg70815.txt': 72, 'Q1-Dataset/1080-0.txt': 4, 'Q1-Dataset/pg70817.txt': 13, 'Q1-Dataset/pg1998.txt': 33}, 'certain': {'Q1-Dataset/pg1513.txt': 3, 'Q1-Dataset/2160-0.txt': 46, 'Q1-Dataset/pg11.txt': 5, 'Q1-Dataset/pg2600.txt': 138, 'Q1-Dataset/pg345.txt': 41, 'Q1-Dataset/pg64317.txt': 15, 'Q1-Dataset/pg70815.txt': 21, 'Q1-Dataset/1080-0.txt': 3, 'Q1-Dataset/pg70817.txt': 6, 'Q1-Dataset/pg1998.txt': 20}, 'owns': {'Q1-Dataset/pg1513.txt': 2, 'Q1-Dataset/2160-0.txt': 3, 'Q1-Dataset/pg11.txt': 2, 'Q1-Dataset/pg2600.txt': 2, 'Q1-Dataset/pg345.txt': 2, 'Q1-Dataset/pg64317.txt': 3, 'Q1-Dataset/pg70815.txt': 2, 'Q1-Dataset/1080-0.txt': 2, 'Q1-Dataset/pg70817.txt': 2, 'Q1-Dataset/pg1998.txt': 2}, 'transcription': {'Q1-Dataset/pg1513.txt': 1, 'Q1-Dataset/2160-0.txt': 1, 'Q1-Dataset/pg11.txt': 1, 'Q1-Dataset/pg2600.txt': 1, 'Q1-Dataset/pg345.txt': 1, 'Q1-Dataset/pg64317.txt': 2, 'Q1-Dataset/pg70815.txt': 1, 'Q1-Dataset/1080-0.txt': 1, 'Q1-Dataset/pg70817.txt': 1, 'Q1-Dataset/pg1998.txt': 1}, 'maintaining': {'Q1-Dataset/pg1513.txt': 1, 'Q1-Dataset/2160-0.txt': 4, 'Q1-Dataset/pg11.txt': 1, 'Q1-Dataset/pg2600.txt': 6, 'Q1-Dataset/pg345.txt': 1, 'Q1-Dataset/pg64317.txt': 1, 'Q1-Dataset/pg70815.txt': 2, 'Q1-Dataset/1080-0.txt': 2, 'Q1-Dataset/pg70817.txt': 1, 'Q1-Dataset/pg1998.txt': 1}, 'approach': {'Q1-Dataset/pg1513.txt': 4, 'Q1-Dataset/2160-0.txt': 3, 'Q1-Dataset/pg11.txt': 1, 'Q1-Dataset/pg2600.txt': 28, 'Q1-Dataset/pg345.txt': 7, 'Q1-Dataset/pg64317.txt': 1, 'Q1-Dataset/pg70815.txt': 11, 'Q1-Dataset/1080-0.txt': 1, 'Q1-Dataset/pg70817.txt': 2, 'Q1-Dataset/pg1998.txt': 5}, 'group': {'Q1-Dataset/pg1513.txt': 1, 'Q1-Dataset/2160-0.txt': 1, 'Q1-Dataset/pg11.txt': 1, 'Q1-Dataset/pg2600.txt': 69, 'Q1-Dataset/pg345.txt': 6, 'Q1-Dataset/pg64317.txt': 5, 'Q1-Dataset/pg70815.txt': 2, 'Q1-Dataset/1080-0.txt': 1, 'Q1-Dataset/pg70817.txt': 4, 'Q1-Dataset/pg1998.txt': 1}, 'accepted': {'Q1-Dataset/pg1513.txt': 2, 'Q1-Dataset/2160-0.txt': 4, 'Q1-Dataset/pg11.txt': 2, 'Q1-Dataset/pg2600.txt': 36, 'Q1-Dataset/pg345.txt': 4, 'Q1-Dataset/pg64317.txt': 9, 'Q1-Dataset/pg70815.txt': 11, 'Q1-Dataset/1080-0.txt': 2, 'Q1-Dataset/pg70817.txt': 4, 'Q1-Dataset/pg1998.txt': 3}, 'kind': {'Q1-Dataset/pg1513.txt': 7, 'Q1-Dataset/2160-0.txt': 68, 'Q1-Dataset/pg11.txt': 8, 'Q1-Dataset/pg2600.txt': 141, 'Q1-Dataset/pg345.txt': 58, 'Q1-Dataset/pg64317.txt': 11, 'Q1-Dataset/pg70815.txt': 12, 'Q1-Dataset/1080-0.txt': 3, 'Q1-Dataset/pg70817.txt': 13, 'Q1-Dataset/pg1998.txt': 16}, 'however': {'Q1-Dataset/pg1513.txt': 1, 'Q1-Dataset/2160-0.txt': 97, 'Q1-Dataset/pg11.txt': 21, 'Q1-Dataset/pg2600.txt': 100, 'Q1-Dataset/pg345.txt': 103, 'Q1-Dataset/pg64317.txt': 8, 'Q1-Dataset/pg70815.txt': 23, 'Q1-Dataset/1080-0.txt': 2, 'Q1-Dataset/pg70817.txt': 19, 'Q1-Dataset/pg1998.txt': 362}, 'obsolete': {'Q1-Dataset/pg1513.txt': 1, 'Q1-Dataset/2160-0.txt': 1, 'Q1-Dataset/pg11.txt': 1, 'Q1-Dataset/pg2600.txt': 1, 'Q1-Dataset/pg345.txt': 1, 'Q1-Dataset/pg64317.txt': 1, 'Q1-Dataset/pg70815.txt': 1, 'Q1-Dataset/1080-0.txt': 1, 'Q1-Dataset/pg70817.txt': 1, 'Q1-Dataset/pg1998.txt': 1}, 'subject': {'Q1-Dataset/pg1513.txt': 2, 'Q1-Dataset/2160-0.txt': 53, 'Q1-Dataset/pg11.txt': 7, 'Q1-Dataset/pg2600.txt': 84, 'Q1-Dataset/pg345.txt': 24, 'Q1-Dataset/pg64317.txt': 8, 'Q1-Dataset/pg70815.txt': 6, 'Q1-Dataset/1080-0.txt': 3, 'Q1-Dataset/pg70817.txt': 3, 'Q1-Dataset/pg1998.txt': 9}, 'again': {'Q1-Dataset/pg1513.txt': 27, 'Q1-Dataset/2160-0.txt': 48, 'Q1-Dataset/pg11.txt': 82, 'Q1-Dataset/pg2600.txt': 703, 'Q1-Dataset/pg345.txt': 246, 'Q1-Dataset/pg64317.txt': 56, 'Q1-Dataset/pg70815.txt': 82, 'Q1-Dataset/1080-0.txt': 1, 'Q1-Dataset/pg70817.txt': 35, 'Q1-Dataset/pg1998.txt': 157}, 'writing': {'Q1-Dataset/pg1513.txt': 4, 'Q1-Dataset/2160-0.txt': 9, 'Q1-Dataset/pg11.txt': 7, 'Q1-Dataset/pg2600.txt': 42, 'Q1-Dataset/pg345.txt': 22, 'Q1-Dataset/pg64317.txt': 4, 'Q1-Dataset/pg70815.txt': 4, 'Q1-Dataset/1080-0.txt': 3, 'Q1-Dataset/pg70817.txt': 5, 'Q1-Dataset/pg1998.txt': 11}, 'stand': {'Q1-Dataset/pg1513.txt': 25, 'Q1-Dataset/2160-0.txt': 28, 'Q1-Dataset/pg11.txt': 6, 'Q1-Dataset/pg2600.txt': 51, 'Q1-Dataset/pg345.txt': 13, 'Q1-Dataset/pg64317.txt': 9, 'Q1-Dataset/pg70815.txt': 9, 'Q1-Dataset/1080-0.txt': 1, 'Q1-Dataset/pg70817.txt': 4, 'Q1-Dataset/pg1998.txt': 52}, 'loose': {'Q1-Dataset/pg1513.txt': 2, 'Q1-Dataset/2160-0.txt': 10, 'Q1-Dataset/pg11.txt': 2, 'Q1-Dataset/pg2600.txt': 17, 'Q1-Dataset/pg345.txt': 7, 'Q1-Dataset/pg64317.txt': 2, 'Q1-Dataset/pg70815.txt': 5, 'Q1-Dataset/1080-0.txt': 1, 'Q1-Dataset/pg70817.txt': 1, 'Q1-Dataset/pg1998.txt': 1}, 'accepting': {'Q1-Dataset/pg1513.txt': 1, 'Q1-Dataset/2160-0.txt': 3, 'Q1-Dataset/pg11.txt': 1, 'Q1-Dataset/pg2600.txt': 4, 'Q1-Dataset/pg345.txt': 4, 'Q1-Dataset/pg64317.txt': 1, 'Q1-Dataset/pg70815.txt': 1, 'Q1-Dataset/1080-0.txt': 1, 'Q1-Dataset/pg70817.txt': 1, 'Q1-Dataset/pg1998.txt': 2}, 'cause': {'Q1-Dataset/pg1513.txt': 7, 'Q1-Dataset/2160-0.txt': 31, 'Q1-Dataset/pg11.txt': 5, 'Q1-Dataset/pg2600.txt': 146, 'Q1-Dataset/pg345.txt': 51, 'Q1-Dataset/pg64317.txt': 3, 'Q1-Dataset/pg70815.txt': 12, 'Q1-Dataset/1080-0.txt': 2, 'Q1-Dataset/pg70817.txt': 2, 'Q1-Dataset/pg1998.txt': 21}, 'but': {'Q1-Dataset/pg1513.txt': 185, 'Q1-Dataset/2160-0.txt': 1020, 'Q1-Dataset/pg11.txt': 168, 'Q1-Dataset/pg2600.txt': 4011, 'Q1-Dataset/pg345.txt': 1069, 'Q1-Dataset/pg64317.txt': 243, 'Q1-Dataset/pg70815.txt': 555, 'Q1-Dataset/1080-0.txt': 13, 'Q1-Dataset/pg70817.txt': 151, 'Q1-Dataset/pg1998.txt': 680}, 'money': {'Q1-Dataset/pg1513.txt': 4, 'Q1-Dataset/2160-0.txt': 34, 'Q1-Dataset/pg11.txt': 3, 'Q1-Dataset/pg2600.txt': 127, 'Q1-Dataset/pg345.txt': 19, 'Q1-Dataset/pg64317.txt': 24, 'Q1-Dataset/pg70815.txt': 9, 'Q1-Dataset/1080-0.txt': 6, 'Q1-Dataset/pg70817.txt': 5, 'Q1-Dataset/pg1998.txt': 3}, 'anyone': {'Q1-Dataset/pg1513.txt': 5, 'Q1-Dataset/2160-0.txt': 5, 'Q1-Dataset/pg11.txt': 5, 'Q1-Dataset/pg2600.txt': 182, 'Q1-Dataset/pg345.txt': 6, 'Q1-Dataset/pg64317.txt': 15, 'Q1-Dataset/pg70815.txt': 16, 'Q1-Dataset/1080-0.txt': 5, 'Q1-Dataset/pg70817.txt': 7, 'Q1-Dataset/pg1998.txt': 5}, 'contract': {'Q1-Dataset/pg1513.txt': 2, 'Q1-Dataset/2160-0.txt': 3, 'Q1-Dataset/pg11.txt': 1, 'Q1-Dataset/pg2600.txt': 1, 'Q1-Dataset/pg345.txt': 2, 'Q1-Dataset/pg64317.txt': 1, 'Q1-Dataset/pg70815.txt': 1, 'Q1-Dataset/1080-0.txt': 1, 'Q1-Dataset/pg70817.txt': 1, 'Q1-Dataset/pg1998.txt': 2}, 'house': {'Q1-Dataset/pg1513.txt': 32, 'Q1-Dataset/2160-0.txt': 170, 'Q1-Dataset/pg11.txt': 18, 'Q1-Dataset/pg2600.txt': 389, 'Q1-Dataset/pg345.txt': 129, 'Q1-Dataset/pg64317.txt': 91, 'Q1-Dataset/pg70815.txt': 1, 'Q1-Dataset/1080-0.txt': 1, 'Q1-Dataset/pg70817.txt': 61, 'Q1-Dataset/pg1998.txt': 14}, 'am': {'Q1-Dataset/pg1513.txt': 60, 'Q1-Dataset/2160-0.txt': 218, 'Q1-Dataset/pg11.txt': 15, 'Q1-Dataset/pg2600.txt': 545, 'Q1-Dataset/pg345.txt': 336, 'Q1-Dataset/pg64317.txt': 17, 'Q1-Dataset/pg70815.txt': 87, 'Q1-Dataset/1080-0.txt': 3, 'Q1-Dataset/pg70817.txt': 8, 'Q1-Dataset/pg1998.txt': 186}, 'take': {'Q1-Dataset/pg1513.txt': 40, 'Q1-Dataset/2160-0.txt': 143, 'Q1-Dataset/pg11.txt': 21, 'Q1-Dataset/pg2600.txt': 349, 'Q1-Dataset/pg345.txt': 148, 'Q1-Dataset/pg64317.txt': 28, 'Q1-Dataset/pg70815.txt': 61, 'Q1-Dataset/1080-0.txt': 3, 'Q1-Dataset/pg70817.txt': 8, 'Q1-Dataset/pg1998.txt': 66}, 'exists': {'Q1-Dataset/pg1513.txt': 1, 'Q1-Dataset/2160-0.txt': 2, 'Q1-Dataset/pg11.txt': 1, 'Q1-Dataset/pg2600.txt': 18, 'Q1-Dataset/pg345.txt': 2, 'Q1-Dataset/pg64317.txt': 1, 'Q1-Dataset/pg70815.txt': 3, 'Q1-Dataset/1080-0.txt': 1, 'Q1-Dataset/pg70817.txt': 1, 'Q1-Dataset/pg1998.txt': 1}, 'commercial': {'Q1-Dataset/pg1513.txt': 1, 'Q1-Dataset/2160-0.txt': 4, 'Q1-Dataset/pg11.txt': 1, 'Q1-Dataset/pg2600.txt': 2, 'Q1-Dataset/pg345.txt': 2, 'Q1-Dataset/pg64317.txt': 1, 'Q1-Dataset/pg70815.txt': 2, 'Q1-Dataset/1080-0.txt': 1, 'Q1-Dataset/pg70817.txt': 1, 'Q1-Dataset/pg1998.txt': 1}, 'do': {'Q1-Dataset/pg1513.txt': 105, 'Q1-Dataset/2160-0.txt': 108, 'Q1-Dataset/pg11.txt': 97, 'Q1-Dataset/pg2600.txt': 1048, 'Q1-Dataset/pg345.txt': 487, 'Q1-Dataset/pg64317.txt': 100, 'Q1-Dataset/pg70815.txt': 165, 'Q1-Dataset/1080-0.txt': 19, 'Q1-Dataset/pg70817.txt': 26, 'Q1-Dataset/pg1998.txt': 518}, 'years': {'Q1-Dataset/pg1513.txt': 13, 'Q1-Dataset/2160-0.txt': 78, 'Q1-Dataset/pg11.txt': 2, 'Q1-Dataset/pg2600.txt': 124, 'Q1-Dataset/pg345.txt': 28, 'Q1-Dataset/pg64317.txt': 39, 'Q1-Dataset/pg70815.txt': 11, 'Q1-Dataset/1080-0.txt': 9, 'Q1-Dataset/pg70817.txt': 16, 'Q1-Dataset/pg1998.txt': 25}, 'expenses': {'Q1-Dataset/pg1513.txt': 2, 'Q1-Dataset/2160-0.txt': 2, 'Q1-Dataset/pg11.txt': 2, 'Q1-Dataset/pg2600.txt': 3, 'Q1-Dataset/pg345.txt': 2, 'Q1-Dataset/pg64317.txt': 2, 'Q1-Dataset/pg70815.txt': 2, 'Q1-Dataset/1080-0.txt': 2, 'Q1-Dataset/pg70817.txt': 2, 'Q1-Dataset/pg1998.txt': 2}, 'read': {'Q1-Dataset/pg1513.txt': 9, 'Q1-Dataset/2160-0.txt': 26, 'Q1-Dataset/pg11.txt': 14, 'Q1-Dataset/pg2600.txt': 132, 'Q1-Dataset/pg345.txt': 84, 'Q1-Dataset/pg64317.txt': 14, 'Q1-Dataset/pg70815.txt': 5, 'Q1-Dataset/1080-0.txt': 3, 'Q1-Dataset/pg70817.txt': 13, 'Q1-Dataset/pg1998.txt': 26}, 'restrictions': {'Q1-Dataset/pg1513.txt': 2, 'Q1-Dataset/2160-0.txt': 4, 'Q1-Dataset/pg11.txt': 2, 'Q1-Dataset/pg2600.txt': 3, 'Q1-Dataset/pg345.txt': 2, 'Q1-Dataset/pg64317.txt': 2, 'Q1-Dataset/pg70815.txt': 2, 'Q1-Dataset/1080-0.txt': 2, 'Q1-Dataset/pg70817.txt': 2, 'Q1-Dataset/pg1998.txt': 2}, 'like': {'Q1-Dataset/pg1513.txt': 38, 'Q1-Dataset/2160-0.txt': 162, 'Q1-Dataset/pg11.txt': 85, 'Q1-Dataset/pg2600.txt': 733, 'Q1-Dataset/pg345.txt': 275, 'Q1-Dataset/pg64317.txt': 120, 'Q1-Dataset/pg70815.txt': 50, 'Q1-Dataset/1080-0.txt': 4, 'Q1-Dataset/pg70817.txt': 39, 'Q1-Dataset/pg1998.txt': 296}, 'edition': {'Q1-Dataset/pg1513.txt': 1, 'Q1-Dataset/2160-0.txt': 1, 'Q1-Dataset/pg11.txt': 2, 'Q1-Dataset/pg2600.txt': 1, 'Q1-Dataset/pg345.txt': 1, 'Q1-Dataset/pg64317.txt': 1, 'Q1-Dataset/pg70815.txt': 3, 'Q1-Dataset/1080-0.txt': 1, 'Q1-Dataset/pg70817.txt': 1, 'Q1-Dataset/pg1998.txt': 3}, 'limited': {'Q1-Dataset/pg1513.txt': 5, 'Q1-Dataset/2160-0.txt': 5, 'Q1-Dataset/pg11.txt': 5, 'Q1-Dataset/pg2600.txt': 18, 'Q1-Dataset/pg345.txt': 8, 'Q1-Dataset/pg64317.txt': 8, 'Q1-Dataset/pg70815.txt': 6, 'Q1-Dataset/1080-0.txt': 5, 'Q1-Dataset/pg70817.txt': 6, 'Q1-Dataset/pg1998.txt': 6}, 'promoting': {'Q1-Dataset/pg1513.txt': 2, 'Q1-Dataset/2160-0.txt': 2, 'Q1-Dataset/pg11.txt': 2, 'Q1-Dataset/pg2600.txt': 3, 'Q1-Dataset/pg345.txt': 2, 'Q1-Dataset/pg64317.txt': 2, 'Q1-Dataset/pg70815.txt': 2, 'Q1-Dataset/1080-0.txt': 2, 'Q1-Dataset/pg70817.txt': 2, 'Q1-Dataset/pg1998.txt': 2}, 'prepare': {'Q1-Dataset/pg1513.txt': 7, 'Q1-Dataset/2160-0.txt': 11, 'Q1-Dataset/pg11.txt': 2, 'Q1-Dataset/pg2600.txt': 28, 'Q1-Dataset/pg345.txt': 9, 'Q1-Dataset/pg64317.txt': 2, 'Q1-Dataset/pg70815.txt': 4, 'Q1-Dataset/1080-0.txt': 2, 'Q1-Dataset/pg70817.txt': 2, 'Q1-Dataset/pg1998.txt': 5}, 'child': {'Q1-Dataset/pg1513.txt': 15, 'Q1-Dataset/2160-0.txt': 14, 'Q1-Dataset/pg11.txt': 10, 'Q1-Dataset/pg2600.txt': 100, 'Q1-Dataset/pg345.txt': 61, 'Q1-Dataset/pg64317.txt': 9, 'Q1-Dataset/pg70815.txt': 3, 'Q1-Dataset/1080-0.txt': 9, 'Q1-Dataset/pg70817.txt': 10, 'Q1-Dataset/pg1998.txt': 48}, 'young': {'Q1-Dataset/pg1513.txt': 24, 'Q1-Dataset/2160-0.txt': 81, 'Q1-Dataset/pg11.txt': 5, 'Q1-Dataset/pg2600.txt': 442, 'Q1-Dataset/pg345.txt': 52, 'Q1-Dataset/pg64317.txt': 44, 'Q1-Dataset/pg70815.txt': 20, 'Q1-Dataset/1080-0.txt': 5, 'Q1-Dataset/pg70817.txt': 18, 'Q1-Dataset/pg1998.txt': 25}, 'using': {'Q1-Dataset/pg1513.txt': 6, 'Q1-Dataset/2160-0.txt': 5, 'Q1-Dataset/pg11.txt': 8, 'Q1-Dataset/pg2600.txt': 18, 'Q1-Dataset/pg345.txt': 17, 'Q1-Dataset/pg64317.txt': 6, 'Q1-Dataset/pg70815.txt': 12, 'Q1-Dataset/1080-0.txt': 7, 'Q1-Dataset/pg70817.txt': 7, 'Q1-Dataset/pg1998.txt': 6}, 'unenforceability': {'Q1-Dataset/pg1513.txt': 1, 'Q1-Dataset/2160-0.txt': 1, 'Q1-Dataset/pg11.txt': 1, 'Q1-Dataset/pg2600.txt': 1, 'Q1-Dataset/pg345.txt': 1, 'Q1-Dataset/pg64317.txt': 1, 'Q1-Dataset/pg70815.txt': 1, 'Q1-Dataset/1080-0.txt': 1, 'Q1-Dataset/pg70817.txt': 1, 'Q1-Dataset/pg1998.txt': 1}, 'individual': {'Q1-Dataset/pg1513.txt': 4, 'Q1-Dataset/2160-0.txt': 24, 'Q1-Dataset/pg11.txt': 4, 'Q1-Dataset/pg2600.txt': 18, 'Q1-Dataset/pg345.txt': 7, 'Q1-Dataset/pg64317.txt': 5, 'Q1-Dataset/pg70815.txt': 7, 'Q1-Dataset/1080-0.txt': 5, 'Q1-Dataset/pg70817.txt': 5, 'Q1-Dataset/pg1998.txt': 12}, 'prevent': {'Q1-Dataset/pg1513.txt': 3, 'Q1-Dataset/2160-0.txt': 11, 'Q1-Dataset/pg11.txt': 2, 'Q1-Dataset/pg2600.txt': 26, 'Q1-Dataset/pg345.txt': 8, 'Q1-Dataset/pg64317.txt': 1, 'Q1-Dataset/pg70815.txt': 3, 'Q1-Dataset/1080-0.txt': 2, 'Q1-Dataset/pg70817.txt': 1, 'Q1-Dataset/pg1998.txt': 3}, 'collection': {'Q1-Dataset/pg1513.txt': 4, 'Q1-Dataset/2160-0.txt': 9, 'Q1-Dataset/pg11.txt': 4, 'Q1-Dataset/pg2600.txt': 8, 'Q1-Dataset/pg345.txt': 4, 'Q1-Dataset/pg64317.txt': 4, 'Q1-Dataset/pg70815.txt': 4, 'Q1-Dataset/1080-0.txt': 4, 'Q1-Dataset/pg70817.txt': 6, 'Q1-Dataset/pg1998.txt': 4}, 'other': {'Q1-Dataset/pg1513.txt': 33, 'Q1-Dataset/2160-0.txt': 256, 'Q1-Dataset/pg11.txt': 56, 'Q1-Dataset/pg2600.txt': 584, 'Q1-Dataset/pg345.txt': 190, 'Q1-Dataset/pg64317.txt': 81, 'Q1-Dataset/pg70815.txt': 154, 'Q1-Dataset/1080-0.txt': 26, 'Q1-Dataset/pg70817.txt': 34, 'Q1-Dataset/pg1998.txt': 113}, 'vanilla': {'Q1-Dataset/pg1513.txt': 2, 'Q1-Dataset/2160-0.txt': 2, 'Q1-Dataset/pg11.txt': 2, 'Q1-Dataset/pg2600.txt': 2, 'Q1-Dataset/pg345.txt': 2, 'Q1-Dataset/pg64317.txt': 2, 'Q1-Dataset/pg70815.txt': 2, 'Q1-Dataset/1080-0.txt': 2, 'Q1-Dataset/pg70817.txt': 2, 'Q1-Dataset/pg1998.txt': 2}, 'efforts': {'Q1-Dataset/pg1513.txt': 3, 'Q1-Dataset/2160-0.txt': 12, 'Q1-Dataset/pg11.txt': 3, 'Q1-Dataset/pg2600.txt': 44, 'Q1-Dataset/pg345.txt': 12, 'Q1-Dataset/pg64317.txt': 4, 'Q1-Dataset/pg70815.txt': 9, 'Q1-Dataset/1080-0.txt': 3, 'Q1-Dataset/pg70817.txt': 5, 'Q1-Dataset/pg1998.txt': 4}, 'despite': {'Q1-Dataset/pg1513.txt': 2, 'Q1-Dataset/2160-0.txt': 2, 'Q1-Dataset/pg11.txt': 1, 'Q1-Dataset/pg2600.txt': 81, 'Q1-Dataset/pg345.txt': 3, 'Q1-Dataset/pg64317.txt': 1, 'Q1-Dataset/pg70815.txt': 2, 'Q1-Dataset/1080-0.txt': 1, 'Q1-Dataset/pg70817.txt': 1, 'Q1-Dataset/pg1998.txt': 3}, 'others': {'Q1-Dataset/pg1513.txt': 10, 'Q1-Dataset/2160-0.txt': 24, 'Q1-Dataset/pg11.txt': 8, 'Q1-Dataset/pg2600.txt': 307, 'Q1-Dataset/pg345.txt': 81, 'Q1-Dataset/pg64317.txt': 5, 'Q1-Dataset/pg70815.txt': 51, 'Q1-Dataset/1080-0.txt': 3, 'Q1-Dataset/pg70817.txt': 7, 'Q1-Dataset/pg1998.txt': 35}, 'country': {'Q1-Dataset/pg1513.txt': 5, 'Q1-Dataset/2160-0.txt': 142, 'Q1-Dataset/pg11.txt': 5, 'Q1-Dataset/pg2600.txt': 102, 'Q1-Dataset/pg345.txt': 28, 'Q1-Dataset/pg64317.txt': 9, 'Q1-Dataset/pg70815.txt': 67, 'Q1-Dataset/1080-0.txt': 17, 'Q1-Dataset/pg70817.txt': 5, 'Q1-Dataset/pg1998.txt': 10}, 'move': {'Q1-Dataset/pg1513.txt': 9, 'Q1-Dataset/2160-0.txt': 6, 'Q1-Dataset/pg11.txt': 3, 'Q1-Dataset/pg2600.txt': 84, 'Q1-Dataset/pg345.txt': 27, 'Q1-Dataset/pg64317.txt': 10, 'Q1-Dataset/pg70815.txt': 12, 'Q1-Dataset/1080-0.txt': 1, 'Q1-Dataset/pg70817.txt': 10, 'Q1-Dataset/pg1998.txt': 3}, 'uniform': {'Q1-Dataset/pg1513.txt': 1, 'Q1-Dataset/2160-0.txt': 1, 'Q1-Dataset/pg11.txt': 1, 'Q1-Dataset/pg2600.txt': 95, 'Q1-Dataset/pg345.txt': 1, 'Q1-Dataset/pg64317.txt': 5, 'Q1-Dataset/pg70815.txt': 1, 'Q1-Dataset/1080-0.txt': 1, 'Q1-Dataset/pg70817.txt': 2, 'Q1-Dataset/pg1998.txt': 4}, 'another': {'Q1-Dataset/pg1513.txt': 10, 'Q1-Dataset/2160-0.txt': 137, 'Q1-Dataset/pg11.txt': 22, 'Q1-Dataset/pg2600.txt': 601, 'Q1-Dataset/pg345.txt': 79, 'Q1-Dataset/pg64317.txt': 36, 'Q1-Dataset/pg70815.txt': 79, 'Q1-Dataset/1080-0.txt': 3, 'Q1-Dataset/pg70817.txt': 17, 'Q1-Dataset/pg1998.txt': 71}, 'children': {'Q1-Dataset/pg1513.txt': 2, 'Q1-Dataset/2160-0.txt': 13, 'Q1-Dataset/pg11.txt': 10, 'Q1-Dataset/pg2600.txt': 103, 'Q1-Dataset/pg345.txt': 21, 'Q1-Dataset/pg64317.txt': 6, 'Q1-Dataset/pg70815.txt': 11, 'Q1-Dataset/1080-0.txt': 20, 'Q1-Dataset/pg70817.txt': 1, 'Q1-Dataset/pg1998.txt': 49}, 'for': {'Q1-Dataset/pg1513.txt': 249, 'Q1-Dataset/2160-0.txt': 1262, 'Q1-Dataset/pg11.txt': 179, 'Q1-Dataset/pg2600.txt': 3521, 'Q1-Dataset/pg345.txt': 1535, 'Q1-Dataset/pg64317.txt': 336, 'Q1-Dataset/pg70815.txt': 607, 'Q1-Dataset/1080-0.txt': 74, 'Q1-Dataset/pg70817.txt': 167, 'Q1-Dataset/pg1998.txt': 1136}, 'distributor': {'Q1-Dataset/pg1513.txt': 1, 'Q1-Dataset/2160-0.txt': 1, 'Q1-Dataset/pg11.txt': 1, 'Q1-Dataset/pg2600.txt': 1, 'Q1-Dataset/pg345.txt': 1, 'Q1-Dataset/pg64317.txt': 1, 'Q1-Dataset/pg70815.txt': 1, 'Q1-Dataset/1080-0.txt': 1, 'Q1-Dataset/pg70817.txt': 1, 'Q1-Dataset/pg1998.txt': 1}, 'up': {'Q1-Dataset/pg1513.txt': 59, 'Q1-Dataset/2160-0.txt': 238, 'Q1-Dataset/pg11.txt': 101, 'Q1-Dataset/pg2600.txt': 1553, 'Q1-Dataset/pg345.txt': 445, 'Q1-Dataset/pg64317.txt': 194, 'Q1-Dataset/pg70815.txt': 96, 'Q1-Dataset/1080-0.txt': 7, 'Q1-Dataset/pg70817.txt': 78, 'Q1-Dataset/pg1998.txt': 179}, 'permission': {'Q1-Dataset/pg1513.txt': 6, 'Q1-Dataset/2160-0.txt': 13, 'Q1-Dataset/pg11.txt': 6, 'Q1-Dataset/pg2600.txt': 29, 'Q1-Dataset/pg345.txt': 9, 'Q1-Dataset/pg64317.txt': 6, 'Q1-Dataset/pg70815.txt': 7, 'Q1-Dataset/1080-0.txt': 6, 'Q1-Dataset/pg70817.txt': 6, 'Q1-Dataset/pg1998.txt': 6}, 'file': {'Q1-Dataset/pg1513.txt': 1, 'Q1-Dataset/2160-0.txt': 2, 'Q1-Dataset/pg11.txt': 2, 'Q1-Dataset/pg2600.txt': 3, 'Q1-Dataset/pg345.txt': 2, 'Q1-Dataset/pg64317.txt': 1, 'Q1-Dataset/pg70815.txt': 2, 'Q1-Dataset/1080-0.txt': 2, 'Q1-Dataset/pg70817.txt': 1, 'Q1-Dataset/pg1998.txt': 2}, 'they': {'Q1-Dataset/pg1513.txt': 55, 'Q1-Dataset/2160-0.txt': 472, 'Q1-Dataset/pg11.txt': 128, 'Q1-Dataset/pg2600.txt': 2165, 'Q1-Dataset/pg345.txt': 464, 'Q1-Dataset/pg64317.txt': 146, 'Q1-Dataset/pg70815.txt': 678, 'Q1-Dataset/1080-0.txt': 30, 'Q1-Dataset/pg70817.txt': 72, 'Q1-Dataset/pg1998.txt': 635}, 'donation': {'Q1-Dataset/pg1513.txt': 1, 'Q1-Dataset/2160-0.txt': 1, 'Q1-Dataset/pg11.txt': 1, 'Q1-Dataset/pg2600.txt': 1, 'Q1-Dataset/pg345.txt': 1, 'Q1-Dataset/pg64317.txt': 1, 'Q1-Dataset/pg70815.txt': 1, 'Q1-Dataset/1080-0.txt': 1, 'Q1-Dataset/pg70817.txt': 1, 'Q1-Dataset/pg1998.txt': 1}, 'property': {'Q1-Dataset/pg1513.txt': 2, 'Q1-Dataset/2160-0.txt': 12, 'Q1-Dataset/pg11.txt': 2, 'Q1-Dataset/pg2600.txt': 36, 'Q1-Dataset/pg345.txt': 9, 'Q1-Dataset/pg64317.txt': 3, 'Q1-Dataset/pg70815.txt': 2, 'Q1-Dataset/1080-0.txt': 2, 'Q1-Dataset/pg70817.txt': 3, 'Q1-Dataset/pg1998.txt': 3}, 'licensed': {'Q1-Dataset/pg1513.txt': 1, 'Q1-Dataset/2160-0.txt': 2, 'Q1-Dataset/pg11.txt': 1, 'Q1-Dataset/pg2600.txt': 1, 'Q1-Dataset/pg345.txt': 1, 'Q1-Dataset/pg64317.txt': 1, 'Q1-Dataset/pg70815.txt': 1, 'Q1-Dataset/1080-0.txt': 1, 'Q1-Dataset/pg70817.txt': 1, 'Q1-Dataset/pg1998.txt': 1}, 'includes': {'Q1-Dataset/pg1513.txt': 1, 'Q1-Dataset/2160-0.txt': 1, 'Q1-Dataset/pg11.txt': 1, 'Q1-Dataset/pg2600.txt': 2, 'Q1-Dataset/pg345.txt': 1, 'Q1-Dataset/pg64317.txt': 1, 'Q1-Dataset/pg70815.txt': 1, 'Q1-Dataset/1080-0.txt': 1, 'Q1-Dataset/pg70817.txt': 1, 'Q1-Dataset/pg1998.txt': 1}, 'your': {'Q1-Dataset/pg1513.txt': 113, 'Q1-Dataset/2160-0.txt': 404, 'Q1-Dataset/pg11.txt': 64, 'Q1-Dataset/pg2600.txt': 816, 'Q1-Dataset/pg345.txt': 312, 'Q1-Dataset/pg64317.txt': 78, 'Q1-Dataset/pg70815.txt': 75, 'Q1-Dataset/1080-0.txt': 9, 'Q1-Dataset/pg70817.txt': 17, 'Q1-Dataset/pg1998.txt': 363}, 'indicating': {'Q1-Dataset/pg1513.txt': 1, 'Q1-Dataset/2160-0.txt': 1, 'Q1-Dataset/pg11.txt': 1, 'Q1-Dataset/pg2600.txt': 24, 'Q1-Dataset/pg345.txt': 1, 'Q1-Dataset/pg64317.txt': 2, 'Q1-Dataset/pg70815.txt': 3, 'Q1-Dataset/1080-0.txt': 1, 'Q1-Dataset/pg70817.txt': 1, 'Q1-Dataset/pg1998.txt': 1}, 'method': {'Q1-Dataset/pg1513.txt': 1, 'Q1-Dataset/2160-0.txt': 12, 'Q1-Dataset/pg11.txt': 1, 'Q1-Dataset/pg2600.txt': 12, 'Q1-Dataset/pg345.txt': 7, 'Q1-Dataset/pg64317.txt': 1, 'Q1-Dataset/pg70815.txt': 3, 'Q1-Dataset/1080-0.txt': 2, 'Q1-Dataset/pg70817.txt': 1, 'Q1-Dataset/pg1998.txt': 4}, 'laws': {'Q1-Dataset/pg1513.txt': 10, 'Q1-Dataset/2160-0.txt': 8, 'Q1-Dataset/pg11.txt': 10, 'Q1-Dataset/pg2600.txt': 97, 'Q1-Dataset/pg345.txt': 10, 'Q1-Dataset/pg64317.txt': 11, 'Q1-Dataset/pg70815.txt': 14, 'Q1-Dataset/1080-0.txt': 11, 'Q1-Dataset/pg70817.txt': 11, 'Q1-Dataset/pg1998.txt': 13}, 'present': {'Q1-Dataset/pg1513.txt': 3, 'Q1-Dataset/2160-0.txt': 92, 'Q1-Dataset/pg11.txt': 2, 'Q1-Dataset/pg2600.txt': 124, 'Q1-Dataset/pg345.txt': 57, 'Q1-Dataset/pg64317.txt': 6, 'Q1-Dataset/pg70815.txt': 6, 'Q1-Dataset/1080-0.txt': 3, 'Q1-Dataset/pg70817.txt': 1, 'Q1-Dataset/pg1998.txt': 55}, 'future': {'Q1-Dataset/pg1513.txt': 3, 'Q1-Dataset/2160-0.txt': 12, 'Q1-Dataset/pg11.txt': 3, 'Q1-Dataset/pg2600.txt': 76, 'Q1-Dataset/pg345.txt': 11, 'Q1-Dataset/pg64317.txt': 8, 'Q1-Dataset/pg70815.txt': 15, 'Q1-Dataset/1080-0.txt': 3, 'Q1-Dataset/pg70817.txt': 7, 'Q1-Dataset/pg1998.txt': 44}, 'age': {'Q1-Dataset/pg1513.txt': 6, 'Q1-Dataset/2160-0.txt': 27, 'Q1-Dataset/pg11.txt': 4, 'Q1-Dataset/pg2600.txt': 42, 'Q1-Dataset/pg345.txt': 13, 'Q1-Dataset/pg64317.txt': 5, 'Q1-Dataset/pg70815.txt': 18, 'Q1-Dataset/1080-0.txt': 4, 'Q1-Dataset/pg70817.txt': 6, 'Q1-Dataset/pg1998.txt': 10}, 'girl': {'Q1-Dataset/pg1513.txt': 6, 'Q1-Dataset/2160-0.txt': 20, 'Q1-Dataset/pg11.txt': 4, 'Q1-Dataset/pg2600.txt': 129, 'Q1-Dataset/pg345.txt': 33, 'Q1-Dataset/pg64317.txt': 47, 'Q1-Dataset/pg70815.txt': 66, 'Q1-Dataset/1080-0.txt': 2, 'Q1-Dataset/pg70817.txt': 1, 'Q1-Dataset/pg1998.txt': 2}, 'special': {'Q1-Dataset/pg1513.txt': 2, 'Q1-Dataset/2160-0.txt': 2, 'Q1-Dataset/pg11.txt': 1, 'Q1-Dataset/pg2600.txt': 73, 'Q1-Dataset/pg345.txt': 12, 'Q1-Dataset/pg64317.txt': 3, 'Q1-Dataset/pg70815.txt': 3, 'Q1-Dataset/1080-0.txt': 1, 'Q1-Dataset/pg70817.txt': 3, 'Q1-Dataset/pg1998.txt': 2}, 'reason': {'Q1-Dataset/pg1513.txt': 5, 'Q1-Dataset/2160-0.txt': 42, 'Q1-Dataset/pg11.txt': 9, 'Q1-Dataset/pg2600.txt': 126, 'Q1-Dataset/pg345.txt': 28, 'Q1-Dataset/pg64317.txt': 6, 'Q1-Dataset/pg70815.txt': 20, 'Q1-Dataset/1080-0.txt': 1, 'Q1-Dataset/pg70817.txt': 9, 'Q1-Dataset/pg1998.txt': 23}, 'each': {'Q1-Dataset/pg1513.txt': 3, 'Q1-Dataset/2160-0.txt': 30, 'Q1-Dataset/pg11.txt': 9, 'Q1-Dataset/pg2600.txt': 183, 'Q1-Dataset/pg345.txt': 87, 'Q1-Dataset/pg64317.txt': 34, 'Q1-Dataset/pg70815.txt': 45, 'Q1-Dataset/1080-0.txt': 1, 'Q1-Dataset/pg70817.txt': 8, 'Q1-Dataset/pg1998.txt': 42}, 'types': {'Q1-Dataset/pg1513.txt': 1, 'Q1-Dataset/2160-0.txt': 1, 'Q1-Dataset/pg11.txt': 1, 'Q1-Dataset/pg2600.txt': 2, 'Q1-Dataset/pg345.txt': 1, 'Q1-Dataset/pg64317.txt': 1, 'Q1-Dataset/pg70815.txt': 2, 'Q1-Dataset/1080-0.txt': 1, 'Q1-Dataset/pg70817.txt': 1, 'Q1-Dataset/pg1998.txt': 3}, 'specified': {'Q1-Dataset/pg1513.txt': 2, 'Q1-Dataset/2160-0.txt': 4, 'Q1-Dataset/pg11.txt': 2, 'Q1-Dataset/pg2600.txt': 2, 'Q1-Dataset/pg345.txt': 2, 'Q1-Dataset/pg64317.txt': 2, 'Q1-Dataset/pg70815.txt': 2, 'Q1-Dataset/1080-0.txt': 2, 'Q1-Dataset/pg70817.txt': 2, 'Q1-Dataset/pg1998.txt': 2}, 'will': {'Q1-Dataset/pg1513.txt': 156, 'Q1-Dataset/2160-0.txt': 390, 'Q1-Dataset/pg11.txt': 37, 'Q1-Dataset/pg2600.txt': 1064, 'Q1-Dataset/pg345.txt': 458, 'Q1-Dataset/pg64317.txt': 28, 'Q1-Dataset/pg70815.txt': 132, 'Q1-Dataset/1080-0.txt': 45, 'Q1-Dataset/pg70817.txt': 22, 'Q1-Dataset/pg1998.txt': 404}, 'provisions': {'Q1-Dataset/pg1513.txt': 1, 'Q1-Dataset/2160-0.txt': 1, 'Q1-Dataset/pg11.txt': 1, 'Q1-Dataset/pg2600.txt': 26, 'Q1-Dataset/pg345.txt': 4, 'Q1-Dataset/pg64317.txt': 1, 'Q1-Dataset/pg70815.txt': 4, 'Q1-Dataset/1080-0.txt': 1, 'Q1-Dataset/pg70817.txt': 1, 'Q1-Dataset/pg1998.txt': 1}, 'committed': {'Q1-Dataset/pg1513.txt': 1, 'Q1-Dataset/2160-0.txt': 10, 'Q1-Dataset/pg11.txt': 1, 'Q1-Dataset/pg2600.txt': 17, 'Q1-Dataset/pg345.txt': 3, 'Q1-Dataset/pg64317.txt': 2, 'Q1-Dataset/pg70815.txt': 1, 'Q1-Dataset/1080-0.txt': 1, 'Q1-Dataset/pg70817.txt': 1, 'Q1-Dataset/pg1998.txt': 2}, 'ensuring': {'Q1-Dataset/pg1513.txt': 1, 'Q1-Dataset/2160-0.txt': 1, 'Q1-Dataset/pg11.txt': 1, 'Q1-Dataset/pg2600.txt': 2, 'Q1-Dataset/pg345.txt': 1, 'Q1-Dataset/pg64317.txt': 1, 'Q1-Dataset/pg70815.txt': 1, 'Q1-Dataset/1080-0.txt': 1, 'Q1-Dataset/pg70817.txt': 1, 'Q1-Dataset/pg1998.txt': 1}, 'could': {'Q1-Dataset/pg1513.txt': 18, 'Q1-Dataset/2160-0.txt': 247, 'Q1-Dataset/pg11.txt': 75, 'Q1-Dataset/pg2600.txt': 1111, 'Q1-Dataset/pg345.txt': 492, 'Q1-Dataset/pg64317.txt': 62, 'Q1-Dataset/pg70815.txt': 247, 'Q1-Dataset/1080-0.txt': 6, 'Q1-Dataset/pg70817.txt': 64, 'Q1-Dataset/pg1998.txt': 117}, 'swamp': {'Q1-Dataset/pg1513.txt': 1, 'Q1-Dataset/2160-0.txt': 1, 'Q1-Dataset/pg11.txt': 1, 'Q1-Dataset/pg2600.txt': 3, 'Q1-Dataset/pg345.txt': 1, 'Q1-Dataset/pg64317.txt': 1, 'Q1-Dataset/pg70815.txt': 10, 'Q1-Dataset/1080-0.txt': 1, 'Q1-Dataset/pg70817.txt': 14, 'Q1-Dataset/pg1998.txt': 12}, 'unless': {'Q1-Dataset/pg1513.txt': 9, 'Q1-Dataset/2160-0.txt': 13, 'Q1-Dataset/pg11.txt': 5, 'Q1-Dataset/pg2600.txt': 15, 'Q1-Dataset/pg345.txt': 22, 'Q1-Dataset/pg64317.txt': 4, 'Q1-Dataset/pg70815.txt': 15, 'Q1-Dataset/1080-0.txt': 4, 'Q1-Dataset/pg70817.txt': 5, 'Q1-Dataset/pg1998.txt': 20}, 'might': {'Q1-Dataset/pg1513.txt': 6, 'Q1-Dataset/2160-0.txt': 137, 'Q1-Dataset/pg11.txt': 28, 'Q1-Dataset/pg2600.txt': 314, 'Q1-Dataset/pg345.txt': 158, 'Q1-Dataset/pg64317.txt': 26, 'Q1-Dataset/pg70815.txt': 163, 'Q1-Dataset/1080-0.txt': 4, 'Q1-Dataset/pg70817.txt': 22, 'Q1-Dataset/pg1998.txt': 44}, 'that': {'Q1-Dataset/pg1513.txt': 361, 'Q1-Dataset/2160-0.txt': 1878, 'Q1-Dataset/pg11.txt': 280, 'Q1-Dataset/pg2600.txt': 7806, 'Q1-Dataset/pg345.txt': 2453, 'Q1-Dataset/pg64317.txt': 596, 'Q1-Dataset/pg70815.txt': 1441, 'Q1-Dataset/1080-0.txt': 54, 'Q1-Dataset/pg70817.txt': 270, 'Q1-Dataset/pg1998.txt': 1262}, 'life': {'Q1-Dataset/pg1513.txt': 24, 'Q1-Dataset/2160-0.txt': 118, 'Q1-Dataset/pg11.txt': 12, 'Q1-Dataset/pg2600.txt': 589, 'Q1-Dataset/pg345.txt': 143, 'Q1-Dataset/pg64317.txt': 30, 'Q1-Dataset/pg70815.txt': 63, 'Q1-Dataset/1080-0.txt': 2, 'Q1-Dataset/pg70817.txt': 20, 'Q1-Dataset/pg1998.txt': 180}, 'being': {'Q1-Dataset/pg1513.txt': 26, 'Q1-Dataset/2160-0.txt': 221, 'Q1-Dataset/pg11.txt': 19, 'Q1-Dataset/pg2600.txt': 460, 'Q1-Dataset/pg345.txt': 82, 'Q1-Dataset/pg64317.txt': 15, 'Q1-Dataset/pg70815.txt': 60, 'Q1-Dataset/1080-0.txt': 17, 'Q1-Dataset/pg70817.txt': 11, 'Q1-Dataset/pg1998.txt': 47}, 'critical': {'Q1-Dataset/pg1513.txt': 1, 'Q1-Dataset/2160-0.txt': 2, 'Q1-Dataset/pg11.txt': 1, 'Q1-Dataset/pg2600.txt': 6, 'Q1-Dataset/pg345.txt': 1, 'Q1-Dataset/pg64317.txt': 2, 'Q1-Dataset/pg70815.txt': 2, 'Q1-Dataset/1080-0.txt': 1, 'Q1-Dataset/pg70817.txt': 1, 'Q1-Dataset/pg1998.txt': 1}, 'been': {'Q1-Dataset/pg1513.txt': 20, 'Q1-Dataset/2160-0.txt': 394, 'Q1-Dataset/pg11.txt': 38, 'Q1-Dataset/pg2600.txt': 1475, 'Q1-Dataset/pg345.txt': 393, 'Q1-Dataset/pg64317.txt': 107, 'Q1-Dataset/pg70815.txt': 269, 'Q1-Dataset/1080-0.txt': 7, 'Q1-Dataset/pg70817.txt': 68, 'Q1-Dataset/pg1998.txt': 149}, 'little': {'Q1-Dataset/pg1513.txt': 13, 'Q1-Dataset/2160-0.txt': 148, 'Q1-Dataset/pg11.txt': 127, 'Q1-Dataset/pg2600.txt': 554, 'Q1-Dataset/pg345.txt': 168, 'Q1-Dataset/pg64317.txt': 103, 'Q1-Dataset/pg70815.txt': 65, 'Q1-Dataset/1080-0.txt': 7, 'Q1-Dataset/pg70817.txt': 26, 'Q1-Dataset/pg1998.txt': 109}, 'payments': {'Q1-Dataset/pg1513.txt': 3, 'Q1-Dataset/2160-0.txt': 4, 'Q1-Dataset/pg11.txt': 3, 'Q1-Dataset/pg2600.txt': 6, 'Q1-Dataset/pg345.txt': 3, 'Q1-Dataset/pg64317.txt': 3, 'Q1-Dataset/pg70815.txt': 3, 'Q1-Dataset/1080-0.txt': 3, 'Q1-Dataset/pg70817.txt': 3, 'Q1-Dataset/pg1998.txt': 3}, 'increasing': {'Q1-Dataset/pg1513.txt': 1, 'Q1-Dataset/2160-0.txt': 2, 'Q1-Dataset/pg11.txt': 1, 'Q1-Dataset/pg2600.txt': 14, 'Q1-Dataset/pg345.txt': 5, 'Q1-Dataset/pg64317.txt': 3, 'Q1-Dataset/pg70815.txt': 5, 'Q1-Dataset/1080-0.txt': 1, 'Q1-Dataset/pg70817.txt': 3, 'Q1-Dataset/pg1998.txt': 2}, 'provided': {'Q1-Dataset/pg1513.txt': 5, 'Q1-Dataset/2160-0.txt': 30, 'Q1-Dataset/pg11.txt': 4, 'Q1-Dataset/pg2600.txt': 12, 'Q1-Dataset/pg345.txt': 4, 'Q1-Dataset/pg64317.txt': 6, 'Q1-Dataset/pg70815.txt': 4, 'Q1-Dataset/1080-0.txt': 6, 'Q1-Dataset/pg70817.txt': 4, 'Q1-Dataset/pg1998.txt': 8}, 'wwwgutenbergorg': {'Q1-Dataset/pg1513.txt': 5, 'Q1-Dataset/2160-0.txt': 5, 'Q1-Dataset/pg11.txt': 5, 'Q1-Dataset/pg2600.txt': 5, 'Q1-Dataset/pg345.txt': 5, 'Q1-Dataset/pg64317.txt': 5, 'Q1-Dataset/pg70815.txt': 5, 'Q1-Dataset/1080-0.txt': 5, 'Q1-Dataset/pg70817.txt': 5, 'Q1-Dataset/pg1998.txt': 5}, 'times': {'Q1-Dataset/pg1513.txt': 8, 'Q1-Dataset/2160-0.txt': 43, 'Q1-Dataset/pg11.txt': 6, 'Q1-Dataset/pg2600.txt': 151, 'Q1-Dataset/pg345.txt': 55, 'Q1-Dataset/pg64317.txt': 17, 'Q1-Dataset/pg70815.txt': 22, 'Q1-Dataset/1080-0.txt': 2, 'Q1-Dataset/pg70817.txt': 6, 'Q1-Dataset/pg1998.txt': 23}, 'clearly': {'Q1-Dataset/pg1513.txt': 1, 'Q1-Dataset/2160-0.txt': 2, 'Q1-Dataset/pg11.txt': 2, 'Q1-Dataset/pg2600.txt': 91, 'Q1-Dataset/pg345.txt': 4, 'Q1-Dataset/pg64317.txt': 2, 'Q1-Dataset/pg70815.txt': 2, 'Q1-Dataset/1080-0.txt': 1, 'Q1-Dataset/pg70817.txt': 2, 'Q1-Dataset/pg1998.txt': 8}, 'determine': {'Q1-Dataset/pg1513.txt': 3, 'Q1-Dataset/2160-0.txt': 1, 'Q1-Dataset/pg11.txt': 1, 'Q1-Dataset/pg2600.txt': 8, 'Q1-Dataset/pg345.txt': 1, 'Q1-Dataset/pg64317.txt': 2, 'Q1-Dataset/pg70815.txt': 3, 'Q1-Dataset/1080-0.txt': 1, 'Q1-Dataset/pg70817.txt': 1, 'Q1-Dataset/pg1998.txt': 4}, 'considerable': {'Q1-Dataset/pg1513.txt': 2, 'Q1-Dataset/2160-0.txt': 30, 'Q1-Dataset/pg11.txt': 2, 'Q1-Dataset/pg2600.txt': 7, 'Q1-Dataset/pg345.txt': 12, 'Q1-Dataset/pg64317.txt': 3, 'Q1-Dataset/pg70815.txt': 32, 'Q1-Dataset/1080-0.txt': 3, 'Q1-Dataset/pg70817.txt': 2, 'Q1-Dataset/pg1998.txt': 3}, 'beginning': {'Q1-Dataset/pg1513.txt': 1, 'Q1-Dataset/2160-0.txt': 10, 'Q1-Dataset/pg11.txt': 14, 'Q1-Dataset/pg2600.txt': 89, 'Q1-Dataset/pg345.txt': 32, 'Q1-Dataset/pg64317.txt': 6, 'Q1-Dataset/pg70815.txt': 4, 'Q1-Dataset/1080-0.txt': 1, 'Q1-Dataset/pg70817.txt': 5, 'Q1-Dataset/pg1998.txt': 14}, 'death': {'Q1-Dataset/pg1513.txt': 69, 'Q1-Dataset/2160-0.txt': 20, 'Q1-Dataset/pg11.txt': 1, 'Q1-Dataset/pg2600.txt': 178, 'Q1-Dataset/pg345.txt': 76, 'Q1-Dataset/pg64317.txt': 5, 'Q1-Dataset/pg70815.txt': 33, 'Q1-Dataset/1080-0.txt': 1, 'Q1-Dataset/pg70817.txt': 24, 'Q1-Dataset/pg1998.txt': 61}, 'receipt': {'Q1-Dataset/pg1513.txt': 3, 'Q1-Dataset/2160-0.txt': 5, 'Q1-Dataset/pg11.txt': 2, 'Q1-Dataset/pg2600.txt': 6, 'Q1-Dataset/pg345.txt': 5, 'Q1-Dataset/pg64317.txt': 2, 'Q1-Dataset/pg70815.txt': 2, 'Q1-Dataset/1080-0.txt': 2, 'Q1-Dataset/pg70817.txt': 2, 'Q1-Dataset/pg1998.txt': 2}, 'please': {'Q1-Dataset/pg1513.txt': 6, 'Q1-Dataset/2160-0.txt': 23, 'Q1-Dataset/pg11.txt': 21, 'Q1-Dataset/pg2600.txt': 134, 'Q1-Dataset/pg345.txt': 24, 'Q1-Dataset/pg64317.txt': 13, 'Q1-Dataset/pg70815.txt': 5, 'Q1-Dataset/1080-0.txt': 4, 'Q1-Dataset/pg70817.txt': 7, 'Q1-Dataset/pg1998.txt': 11}, 'international': {'Q1-Dataset/pg1513.txt': 1, 'Q1-Dataset/2160-0.txt': 1, 'Q1-Dataset/pg11.txt': 1, 'Q1-Dataset/pg2600.txt': 3, 'Q1-Dataset/pg345.txt': 2, 'Q1-Dataset/pg64317.txt': 1, 'Q1-Dataset/pg70815.txt': 2, 'Q1-Dataset/1080-0.txt': 1, 'Q1-Dataset/pg70817.txt': 1, 'Q1-Dataset/pg1998.txt': 1}, 'unsolicited': {'Q1-Dataset/pg1513.txt': 1, 'Q1-Dataset/2160-0.txt': 1, 'Q1-Dataset/pg11.txt': 1, 'Q1-Dataset/pg2600.txt': 2, 'Q1-Dataset/pg345.txt': 1, 'Q1-Dataset/pg64317.txt': 1, 'Q1-Dataset/pg70815.txt': 1, 'Q1-Dataset/1080-0.txt': 1, 'Q1-Dataset/pg70817.txt': 1, 'Q1-Dataset/pg1998.txt': 1}, 'half': {'Q1-Dataset/pg1513.txt': 5, 'Q1-Dataset/2160-0.txt': 64, 'Q1-Dataset/pg11.txt': 21, 'Q1-Dataset/pg2600.txt': 136, 'Q1-Dataset/pg345.txt': 43, 'Q1-Dataset/pg64317.txt': 36, 'Q1-Dataset/pg70815.txt': 22, 'Q1-Dataset/1080-0.txt': 2, 'Q1-Dataset/pg70817.txt': 13, 'Q1-Dataset/pg1998.txt': 4}, 'made': {'Q1-Dataset/pg1513.txt': 22, 'Q1-Dataset/2160-0.txt': 227, 'Q1-Dataset/pg11.txt': 30, 'Q1-Dataset/pg2600.txt': 458, 'Q1-Dataset/pg345.txt': 195, 'Q1-Dataset/pg64317.txt': 63, 'Q1-Dataset/pg70815.txt': 75, 'Q1-Dataset/1080-0.txt': 3, 'Q1-Dataset/pg70817.txt': 35, 'Q1-Dataset/pg1998.txt': 44}, 'irs': {'Q1-Dataset/pg1513.txt': 1, 'Q1-Dataset/2160-0.txt': 1, 'Q1-Dataset/pg11.txt': 1, 'Q1-Dataset/pg2600.txt': 1, 'Q1-Dataset/pg345.txt': 1, 'Q1-Dataset/pg64317.txt': 1, 'Q1-Dataset/pg70815.txt': 1, 'Q1-Dataset/1080-0.txt': 1, 'Q1-Dataset/pg70817.txt': 1, 'Q1-Dataset/pg1998.txt': 1}, 'the': {'Q1-Dataset/pg1513.txt': 875, 'Q1-Dataset/2160-0.txt': 8521, 'Q1-Dataset/pg11.txt': 1825, 'Q1-Dataset/pg2600.txt': 34575, 'Q1-Dataset/pg345.txt': 8045, 'Q1-Dataset/pg64317.txt': 2573, 'Q1-Dataset/pg70815.txt': 6202, 'Q1-Dataset/1080-0.txt': 358, 'Q1-Dataset/pg70817.txt': 1904, 'Q1-Dataset/pg1998.txt': 6041}, 'legally': {'Q1-Dataset/pg1513.txt': 1, 'Q1-Dataset/2160-0.txt': 1, 'Q1-Dataset/pg11.txt': 1, 'Q1-Dataset/pg2600.txt': 1, 'Q1-Dataset/pg345.txt': 1, 'Q1-Dataset/pg64317.txt': 2, 'Q1-Dataset/pg70815.txt': 1, 'Q1-Dataset/1080-0.txt': 1, 'Q1-Dataset/pg70817.txt': 1, 'Q1-Dataset/pg1998.txt': 1}, 'user': {'Q1-Dataset/pg1513.txt': 3, 'Q1-Dataset/2160-0.txt': 3, 'Q1-Dataset/pg11.txt': 3, 'Q1-Dataset/pg2600.txt': 3, 'Q1-Dataset/pg345.txt': 3, 'Q1-Dataset/pg64317.txt': 3, 'Q1-Dataset/pg70815.txt': 3, 'Q1-Dataset/1080-0.txt': 3, 'Q1-Dataset/pg70817.txt': 3, 'Q1-Dataset/pg1998.txt': 3}, 'same': {'Q1-Dataset/pg1513.txt': 16, 'Q1-Dataset/2160-0.txt': 142, 'Q1-Dataset/pg11.txt': 25, 'Q1-Dataset/pg2600.txt': 663, 'Q1-Dataset/pg345.txt': 111, 'Q1-Dataset/pg64317.txt': 17, 'Q1-Dataset/pg70815.txt': 54, 'Q1-Dataset/1080-0.txt': 2, 'Q1-Dataset/pg70817.txt': 4, 'Q1-Dataset/pg1998.txt': 40}, 'survive': {'Q1-Dataset/pg1513.txt': 1, 'Q1-Dataset/2160-0.txt': 2, 'Q1-Dataset/pg11.txt': 1, 'Q1-Dataset/pg2600.txt': 5, 'Q1-Dataset/pg345.txt': 3, 'Q1-Dataset/pg64317.txt': 1, 'Q1-Dataset/pg70815.txt': 2, 'Q1-Dataset/1080-0.txt': 1, 'Q1-Dataset/pg70817.txt': 1, 'Q1-Dataset/pg1998.txt': 3}, 'hope': {'Q1-Dataset/pg1513.txt': 5, 'Q1-Dataset/2160-0.txt': 67, 'Q1-Dataset/pg11.txt': 4, 'Q1-Dataset/pg2600.txt': 90, 'Q1-Dataset/pg345.txt': 65, 'Q1-Dataset/pg64317.txt': 8, 'Q1-Dataset/pg70815.txt': 42, 'Q1-Dataset/1080-0.txt': 3, 'Q1-Dataset/pg70817.txt': 3, 'Q1-Dataset/pg1998.txt': 37}, 'performances': {'Q1-Dataset/pg1513.txt': 1, 'Q1-Dataset/2160-0.txt': 8, 'Q1-Dataset/pg11.txt': 1, 'Q1-Dataset/pg2600.txt': 2, 'Q1-Dataset/pg345.txt': 2, 'Q1-Dataset/pg64317.txt': 1, 'Q1-Dataset/pg70815.txt': 1, 'Q1-Dataset/1080-0.txt': 1, 'Q1-Dataset/pg70817.txt': 1, 'Q1-Dataset/pg1998.txt': 1}, 'foundations': {'Q1-Dataset/pg1513.txt': 3, 'Q1-Dataset/2160-0.txt': 3, 'Q1-Dataset/pg11.txt': 3, 'Q1-Dataset/pg2600.txt': 6, 'Q1-Dataset/pg345.txt': 3, 'Q1-Dataset/pg64317.txt': 3, 'Q1-Dataset/pg70815.txt': 3, 'Q1-Dataset/1080-0.txt': 3, 'Q1-Dataset/pg70817.txt': 4, 'Q1-Dataset/pg1998.txt': 3}, 'date': {'Q1-Dataset/pg1513.txt': 6, 'Q1-Dataset/2160-0.txt': 3, 'Q1-Dataset/pg11.txt': 3, 'Q1-Dataset/pg2600.txt': 6, 'Q1-Dataset/pg345.txt': 6, 'Q1-Dataset/pg64317.txt': 4, 'Q1-Dataset/pg70815.txt': 3, 'Q1-Dataset/1080-0.txt': 3, 'Q1-Dataset/pg70817.txt': 6, 'Q1-Dataset/pg1998.txt': 4}, 'sending': {'Q1-Dataset/pg1513.txt': 2, 'Q1-Dataset/2160-0.txt': 5, 'Q1-Dataset/pg11.txt': 3, 'Q1-Dataset/pg2600.txt': 19, 'Q1-Dataset/pg345.txt': 5, 'Q1-Dataset/pg64317.txt': 1, 'Q1-Dataset/pg70815.txt': 2, 'Q1-Dataset/1080-0.txt': 1, 'Q1-Dataset/pg70817.txt': 2, 'Q1-Dataset/pg1998.txt': 1}, 'employee': {'Q1-Dataset/pg1513.txt': 1, 'Q1-Dataset/2160-0.txt': 1, 'Q1-Dataset/pg11.txt': 1, 'Q1-Dataset/pg2600.txt': 1, 'Q1-Dataset/pg345.txt': 1, 'Q1-Dataset/pg64317.txt': 1, 'Q1-Dataset/pg70815.txt': 1, 'Q1-Dataset/1080-0.txt': 1, 'Q1-Dataset/pg70817.txt': 1, 'Q1-Dataset/pg1998.txt': 1}, 'often': {'Q1-Dataset/pg1513.txt': 3, 'Q1-Dataset/2160-0.txt': 40, 'Q1-Dataset/pg11.txt': 6, 'Q1-Dataset/pg2600.txt': 140, 'Q1-Dataset/pg345.txt': 19, 'Q1-Dataset/pg64317.txt': 8, 'Q1-Dataset/pg70815.txt': 23, 'Q1-Dataset/1080-0.txt': 2, 'Q1-Dataset/pg70817.txt': 6, 'Q1-Dataset/pg1998.txt': 45}, 'practically': {'Q1-Dataset/pg1513.txt': 1, 'Q1-Dataset/2160-0.txt': 1, 'Q1-Dataset/pg11.txt': 1, 'Q1-Dataset/pg2600.txt': 2, 'Q1-Dataset/pg345.txt': 2, 'Q1-Dataset/pg64317.txt': 1, 'Q1-Dataset/pg70815.txt': 10, 'Q1-Dataset/1080-0.txt': 1, 'Q1-Dataset/pg70817.txt': 1, 'Q1-Dataset/pg1998.txt': 7}, 'explanation': {'Q1-Dataset/pg1513.txt': 2, 'Q1-Dataset/2160-0.txt': 11, 'Q1-Dataset/pg11.txt': 4, 'Q1-Dataset/pg2600.txt': 40, 'Q1-Dataset/pg345.txt': 6, 'Q1-Dataset/pg64317.txt': 2, 'Q1-Dataset/pg70815.txt': 6, 'Q1-Dataset/1080-0.txt': 2, 'Q1-Dataset/pg70817.txt': 6, 'Q1-Dataset/pg1998.txt': 4}, 'replacement': {'Q1-Dataset/pg1513.txt': 5, 'Q1-Dataset/2160-0.txt': 5, 'Q1-Dataset/pg11.txt': 5, 'Q1-Dataset/pg2600.txt': 5, 'Q1-Dataset/pg345.txt': 5, 'Q1-Dataset/pg64317.txt': 5, 'Q1-Dataset/pg70815.txt': 5, 'Q1-Dataset/1080-0.txt': 5, 'Q1-Dataset/pg70817.txt': 5, 'Q1-Dataset/pg1998.txt': 5}, 'author': {'Q1-Dataset/pg1513.txt': 1, 'Q1-Dataset/2160-0.txt': 6, 'Q1-Dataset/pg11.txt': 1, 'Q1-Dataset/pg2600.txt': 9, 'Q1-Dataset/pg345.txt': 3, 'Q1-Dataset/pg64317.txt': 1, 'Q1-Dataset/pg70815.txt': 5, 'Q1-Dataset/1080-0.txt': 3, 'Q1-Dataset/pg70817.txt': 2, 'Q1-Dataset/pg1998.txt': 6}, 'taken': {'Q1-Dataset/pg1513.txt': 1, 'Q1-Dataset/2160-0.txt': 85, 'Q1-Dataset/pg11.txt': 4, 'Q1-Dataset/pg2600.txt': 242, 'Q1-Dataset/pg345.txt': 47, 'Q1-Dataset/pg64317.txt': 9, 'Q1-Dataset/pg70815.txt': 20, 'Q1-Dataset/1080-0.txt': 3, 'Q1-Dataset/pg70817.txt': 4, 'Q1-Dataset/pg1998.txt': 20}, 'whole': {'Q1-Dataset/pg1513.txt': 3, 'Q1-Dataset/2160-0.txt': 102, 'Q1-Dataset/pg11.txt': 13, 'Q1-Dataset/pg2600.txt': 531, 'Q1-Dataset/pg345.txt': 73, 'Q1-Dataset/pg64317.txt': 17, 'Q1-Dataset/pg70815.txt': 15, 'Q1-Dataset/1080-0.txt': 4, 'Q1-Dataset/pg70817.txt': 4, 'Q1-Dataset/pg1998.txt': 29}, 'some': {'Q1-Dataset/pg1513.txt': 58, 'Q1-Dataset/2160-0.txt': 345, 'Q1-Dataset/pg11.txt': 51, 'Q1-Dataset/pg2600.txt': 843, 'Q1-Dataset/pg345.txt': 440, 'Q1-Dataset/pg64317.txt': 104, 'Q1-Dataset/pg70815.txt': 103, 'Q1-Dataset/1080-0.txt': 9, 'Q1-Dataset/pg70817.txt': 76, 'Q1-Dataset/pg1998.txt': 73}, 'electronic': {'Q1-Dataset/pg1513.txt': 27, 'Q1-Dataset/2160-0.txt': 27, 'Q1-Dataset/pg11.txt': 27, 'Q1-Dataset/pg2600.txt': 27, 'Q1-Dataset/pg345.txt': 27, 'Q1-Dataset/pg64317.txt': 27, 'Q1-Dataset/pg70815.txt': 27, 'Q1-Dataset/1080-0.txt': 27, 'Q1-Dataset/pg70817.txt': 27, 'Q1-Dataset/pg1998.txt': 27}, 'then': {'Q1-Dataset/pg1513.txt': 84, 'Q1-Dataset/2160-0.txt': 143, 'Q1-Dataset/pg11.txt': 90, 'Q1-Dataset/pg2600.txt': 934, 'Q1-Dataset/pg345.txt': 543, 'Q1-Dataset/pg64317.txt': 137, 'Q1-Dataset/pg70815.txt': 196, 'Q1-Dataset/1080-0.txt': 1, 'Q1-Dataset/pg70817.txt': 55, 'Q1-Dataset/pg1998.txt': 336}, 'great': {'Q1-Dataset/pg1513.txt': 9, 'Q1-Dataset/2160-0.txt': 252, 'Q1-Dataset/pg11.txt': 39, 'Q1-Dataset/pg2600.txt': 262, 'Q1-Dataset/pg345.txt': 181, 'Q1-Dataset/pg64317.txt': 30, 'Q1-Dataset/pg70815.txt': 164, 'Q1-Dataset/1080-0.txt': 10, 'Q1-Dataset/pg70817.txt': 16, 'Q1-Dataset/pg1998.txt': 236}, 'sort': {'Q1-Dataset/pg1513.txt': 1, 'Q1-Dataset/2160-0.txt': 28, 'Q1-Dataset/pg11.txt': 20, 'Q1-Dataset/pg2600.txt': 57, 'Q1-Dataset/pg345.txt': 80, 'Q1-Dataset/pg64317.txt': 23, 'Q1-Dataset/pg70815.txt': 7, 'Q1-Dataset/1080-0.txt': 1, 'Q1-Dataset/pg70817.txt': 4, 'Q1-Dataset/pg1998.txt': 5}, 'redistributing': {'Q1-Dataset/pg1513.txt': 2, 'Q1-Dataset/2160-0.txt': 2, 'Q1-Dataset/pg11.txt': 2, 'Q1-Dataset/pg2600.txt': 2, 'Q1-Dataset/pg345.txt': 2, 'Q1-Dataset/pg64317.txt': 2, 'Q1-Dataset/pg70815.txt': 2, 'Q1-Dataset/1080-0.txt': 2, 'Q1-Dataset/pg70817.txt': 2, 'Q1-Dataset/pg1998.txt': 2}, 'included': {'Q1-Dataset/pg1513.txt': 3, 'Q1-Dataset/2160-0.txt': 3, 'Q1-Dataset/pg11.txt': 3, 'Q1-Dataset/pg2600.txt': 11, 'Q1-Dataset/pg345.txt': 5, 'Q1-Dataset/pg64317.txt': 9, 'Q1-Dataset/pg70815.txt': 6, 'Q1-Dataset/1080-0.txt': 4, 'Q1-Dataset/pg70817.txt': 4, 'Q1-Dataset/pg1998.txt': 3}, 'royalty': {'Q1-Dataset/pg1513.txt': 3, 'Q1-Dataset/2160-0.txt': 3, 'Q1-Dataset/pg11.txt': 3, 'Q1-Dataset/pg2600.txt': 4, 'Q1-Dataset/pg345.txt': 3, 'Q1-Dataset/pg64317.txt': 3, 'Q1-Dataset/pg70815.txt': 3, 'Q1-Dataset/1080-0.txt': 3, 'Q1-Dataset/pg70817.txt': 3, 'Q1-Dataset/pg1998.txt': 3}, 'deductible': {'Q1-Dataset/pg1513.txt': 1, 'Q1-Dataset/2160-0.txt': 1, 'Q1-Dataset/pg11.txt': 1, 'Q1-Dataset/pg2600.txt': 1, 'Q1-Dataset/pg345.txt': 1, 'Q1-Dataset/pg64317.txt': 1, 'Q1-Dataset/pg70815.txt': 1, 'Q1-Dataset/1080-0.txt': 1, 'Q1-Dataset/pg70817.txt': 1, 'Q1-Dataset/pg1998.txt': 1}, 'order': {'Q1-Dataset/pg1513.txt': 3, 'Q1-Dataset/2160-0.txt': 59, 'Q1-Dataset/pg11.txt': 3, 'Q1-Dataset/pg2600.txt': 295, 'Q1-Dataset/pg345.txt': 32, 'Q1-Dataset/pg64317.txt': 7, 'Q1-Dataset/pg70815.txt': 5, 'Q1-Dataset/1080-0.txt': 1, 'Q1-Dataset/pg70817.txt': 7, 'Q1-Dataset/pg1998.txt': 40}, 'time': {'Q1-Dataset/pg1513.txt': 32, 'Q1-Dataset/2160-0.txt': 210, 'Q1-Dataset/pg11.txt': 68, 'Q1-Dataset/pg2600.txt': 921, 'Q1-Dataset/pg345.txt': 369, 'Q1-Dataset/pg64317.txt': 81, 'Q1-Dataset/pg70815.txt': 141, 'Q1-Dataset/1080-0.txt': 5, 'Q1-Dataset/pg70817.txt': 36, 'Q1-Dataset/pg1998.txt': 152}, 'liable': {'Q1-Dataset/pg1513.txt': 1, 'Q1-Dataset/2160-0.txt': 2, 'Q1-Dataset/pg11.txt': 1, 'Q1-Dataset/pg2600.txt': 2, 'Q1-Dataset/pg345.txt': 3, 'Q1-Dataset/pg64317.txt': 3, 'Q1-Dataset/pg70815.txt': 1, 'Q1-Dataset/1080-0.txt': 3, 'Q1-Dataset/pg70817.txt': 1, 'Q1-Dataset/pg1998.txt': 1}, 'him': {'Q1-Dataset/pg1513.txt': 96, 'Q1-Dataset/2160-0.txt': 679, 'Q1-Dataset/pg11.txt': 40, 'Q1-Dataset/pg2600.txt': 4571, 'Q1-Dataset/pg345.txt': 941, 'Q1-Dataset/pg64317.txt': 273, 'Q1-Dataset/pg70815.txt': 496, 'Q1-Dataset/1080-0.txt': 1, 'Q1-Dataset/pg70817.txt': 108, 'Q1-Dataset/pg1998.txt': 395}, 'address': {'Q1-Dataset/pg1513.txt': 1, 'Q1-Dataset/2160-0.txt': 16, 'Q1-Dataset/pg11.txt': 1, 'Q1-Dataset/pg2600.txt': 30, 'Q1-Dataset/pg345.txt': 9, 'Q1-Dataset/pg64317.txt': 5, 'Q1-Dataset/pg70815.txt': 1, 'Q1-Dataset/1080-0.txt': 1, 'Q1-Dataset/pg70817.txt': 1, 'Q1-Dataset/pg1998.txt': 3}, 'find': {'Q1-Dataset/pg1513.txt': 24, 'Q1-Dataset/2160-0.txt': 113, 'Q1-Dataset/pg11.txt': 21, 'Q1-Dataset/pg2600.txt': 161, 'Q1-Dataset/pg345.txt': 114, 'Q1-Dataset/pg64317.txt': 17, 'Q1-Dataset/pg70815.txt': 57, 'Q1-Dataset/1080-0.txt': 2, 'Q1-Dataset/pg70817.txt': 7, 'Q1-Dataset/pg1998.txt': 74}, 'ever': {'Q1-Dataset/pg1513.txt': 12, 'Q1-Dataset/2160-0.txt': 129, 'Q1-Dataset/pg11.txt': 20, 'Q1-Dataset/pg2600.txt': 128, 'Q1-Dataset/pg345.txt': 130, 'Q1-Dataset/pg64317.txt': 28, 'Q1-Dataset/pg70815.txt': 53, 'Q1-Dataset/1080-0.txt': 5, 'Q1-Dataset/pg70817.txt': 14, 'Q1-Dataset/pg1998.txt': 144}, 'full': {'Q1-Dataset/pg1513.txt': 24, 'Q1-Dataset/2160-0.txt': 48, 'Q1-Dataset/pg11.txt': 19, 'Q1-Dataset/pg2600.txt': 160, 'Q1-Dataset/pg345.txt': 100, 'Q1-Dataset/pg64317.txt': 34, 'Q1-Dataset/pg70815.txt': 28, 'Q1-Dataset/1080-0.txt': 14, 'Q1-Dataset/pg70817.txt': 21, 'Q1-Dataset/pg1998.txt': 48}, 'sound': {'Q1-Dataset/pg1513.txt': 13, 'Q1-Dataset/2160-0.txt': 18, 'Q1-Dataset/pg11.txt': 4, 'Q1-Dataset/pg2600.txt': 160, 'Q1-Dataset/pg345.txt': 43, 'Q1-Dataset/pg64317.txt': 30, 'Q1-Dataset/pg70815.txt': 34, 'Q1-Dataset/1080-0.txt': 1, 'Q1-Dataset/pg70817.txt': 6, 'Q1-Dataset/pg1998.txt': 13}, 'middleaged': {'Q1-Dataset/pg1513.txt': 1, 'Q1-Dataset/2160-0.txt': 1, 'Q1-Dataset/pg11.txt': 1, 'Q1-Dataset/pg2600.txt': 6, 'Q1-Dataset/pg345.txt': 1, 'Q1-Dataset/pg64317.txt': 2, 'Q1-Dataset/pg70815.txt': 1, 'Q1-Dataset/1080-0.txt': 1, 'Q1-Dataset/pg70817.txt': 3, 'Q1-Dataset/pg1998.txt': 1}, 'must': {'Q1-Dataset/pg1513.txt': 50, 'Q1-Dataset/2160-0.txt': 183, 'Q1-Dataset/pg11.txt': 51, 'Q1-Dataset/pg2600.txt': 482, 'Q1-Dataset/pg345.txt': 450, 'Q1-Dataset/pg64317.txt': 42, 'Q1-Dataset/pg70815.txt': 110, 'Q1-Dataset/1080-0.txt': 11, 'Q1-Dataset/pg70817.txt': 25, 'Q1-Dataset/pg1998.txt': 194}, 'additional': {'Q1-Dataset/pg1513.txt': 3, 'Q1-Dataset/2160-0.txt': 6, 'Q1-Dataset/pg11.txt': 3, 'Q1-Dataset/pg2600.txt': 6, 'Q1-Dataset/pg345.txt': 5, 'Q1-Dataset/pg64317.txt': 3, 'Q1-Dataset/pg70815.txt': 5, 'Q1-Dataset/1080-0.txt': 4, 'Q1-Dataset/pg70817.txt': 3, 'Q1-Dataset/pg1998.txt': 4}, 'know': {'Q1-Dataset/pg1513.txt': 36, 'Q1-Dataset/2160-0.txt': 180, 'Q1-Dataset/pg11.txt': 86, 'Q1-Dataset/pg2600.txt': 841, 'Q1-Dataset/pg345.txt': 385, 'Q1-Dataset/pg64317.txt': 98, 'Q1-Dataset/pg70815.txt': 100, 'Q1-Dataset/1080-0.txt': 1, 'Q1-Dataset/pg70817.txt': 10, 'Q1-Dataset/pg1998.txt': 129}, 'possibility': {'Q1-Dataset/pg1513.txt': 1, 'Q1-Dataset/2160-0.txt': 2, 'Q1-Dataset/pg11.txt': 1, 'Q1-Dataset/pg2600.txt': 60, 'Q1-Dataset/pg345.txt': 8, 'Q1-Dataset/pg64317.txt': 1, 'Q1-Dataset/pg70815.txt': 11, 'Q1-Dataset/1080-0.txt': 1, 'Q1-Dataset/pg70817.txt': 3, 'Q1-Dataset/pg1998.txt': 4}, 'promotion': {'Q1-Dataset/pg1513.txt': 2, 'Q1-Dataset/2160-0.txt': 2, 'Q1-Dataset/pg11.txt': 1, 'Q1-Dataset/pg2600.txt': 8, 'Q1-Dataset/pg345.txt': 1, 'Q1-Dataset/pg64317.txt': 1, 'Q1-Dataset/pg70815.txt': 1, 'Q1-Dataset/1080-0.txt': 1, 'Q1-Dataset/pg70817.txt': 1, 'Q1-Dataset/pg1998.txt': 1}, 'late': {'Q1-Dataset/pg1513.txt': 12, 'Q1-Dataset/2160-0.txt': 13, 'Q1-Dataset/pg11.txt': 6, 'Q1-Dataset/pg2600.txt': 105, 'Q1-Dataset/pg345.txt': 57, 'Q1-Dataset/pg64317.txt': 13, 'Q1-Dataset/pg70815.txt': 1, 'Q1-Dataset/1080-0.txt': 1, 'Q1-Dataset/pg70817.txt': 9, 'Q1-Dataset/pg1998.txt': 13}, 'hear': {'Q1-Dataset/pg1513.txt': 23, 'Q1-Dataset/2160-0.txt': 39, 'Q1-Dataset/pg11.txt': 15, 'Q1-Dataset/pg2600.txt': 141, 'Q1-Dataset/pg345.txt': 102, 'Q1-Dataset/pg64317.txt': 24, 'Q1-Dataset/pg70815.txt': 8, 'Q1-Dataset/1080-0.txt': 1, 'Q1-Dataset/pg70817.txt': 8, 'Q1-Dataset/pg1998.txt': 59}, 'below': {'Q1-Dataset/pg1513.txt': 3, 'Q1-Dataset/2160-0.txt': 17, 'Q1-Dataset/pg11.txt': 6, 'Q1-Dataset/pg2600.txt': 46, 'Q1-Dataset/pg345.txt': 25, 'Q1-Dataset/pg64317.txt': 7, 'Q1-Dataset/pg70815.txt': 62, 'Q1-Dataset/1080-0.txt': 3, 'Q1-Dataset/pg70817.txt': 5, 'Q1-Dataset/pg1998.txt': 12}, 'known': {'Q1-Dataset/pg1513.txt': 4, 'Q1-Dataset/2160-0.txt': 28, 'Q1-Dataset/pg11.txt': 1, 'Q1-Dataset/pg2600.txt': 127, 'Q1-Dataset/pg345.txt': 24, 'Q1-Dataset/pg64317.txt': 12, 'Q1-Dataset/pg70815.txt': 24, 'Q1-Dataset/1080-0.txt': 1, 'Q1-Dataset/pg70817.txt': 3, 'Q1-Dataset/pg1998.txt': 16}, 'performed': {'Q1-Dataset/pg1513.txt': 1, 'Q1-Dataset/2160-0.txt': 12, 'Q1-Dataset/pg11.txt': 1, 'Q1-Dataset/pg2600.txt': 24, 'Q1-Dataset/pg345.txt': 3, 'Q1-Dataset/pg64317.txt': 1, 'Q1-Dataset/pg70815.txt': 1, 'Q1-Dataset/1080-0.txt': 1, 'Q1-Dataset/pg70817.txt': 2, 'Q1-Dataset/pg1998.txt': 3}, 'mississippi': {'Q1-Dataset/pg1513.txt': 1, 'Q1-Dataset/2160-0.txt': 1, 'Q1-Dataset/pg11.txt': 1, 'Q1-Dataset/pg2600.txt': 1, 'Q1-Dataset/pg345.txt': 1, 'Q1-Dataset/pg64317.txt': 1, 'Q1-Dataset/pg70815.txt': 1, 'Q1-Dataset/1080-0.txt': 1, 'Q1-Dataset/pg70817.txt': 1, 'Q1-Dataset/pg1998.txt': 1}, 'his': {'Q1-Dataset/pg1513.txt': 134, 'Q1-Dataset/2160-0.txt': 1996, 'Q1-Dataset/pg11.txt': 95, 'Q1-Dataset/pg2600.txt': 7965, 'Q1-Dataset/pg345.txt': 1466, 'Q1-Dataset/pg64317.txt': 490, 'Q1-Dataset/pg70815.txt': 925, 'Q1-Dataset/1080-0.txt': 10, 'Q1-Dataset/pg70817.txt': 280, 'Q1-Dataset/pg1998.txt': 892}, 'believe': {'Q1-Dataset/pg1513.txt': 4, 'Q1-Dataset/2160-0.txt': 74, 'Q1-Dataset/pg11.txt': 9, 'Q1-Dataset/pg2600.txt': 124, 'Q1-Dataset/pg345.txt': 75, 'Q1-Dataset/pg64317.txt': 16, 'Q1-Dataset/pg70815.txt': 27, 'Q1-Dataset/1080-0.txt': 1, 'Q1-Dataset/pg70817.txt': 4, 'Q1-Dataset/pg1998.txt': 51}, 'current': {'Q1-Dataset/pg1513.txt': 1, 'Q1-Dataset/2160-0.txt': 4, 'Q1-Dataset/pg11.txt': 1, 'Q1-Dataset/pg2600.txt': 19, 'Q1-Dataset/pg345.txt': 2, 'Q1-Dataset/pg64317.txt': 2, 'Q1-Dataset/pg70815.txt': 7, 'Q1-Dataset/1080-0.txt': 1, 'Q1-Dataset/pg70817.txt': 1, 'Q1-Dataset/pg1998.txt': 4}, 'research': {'Q1-Dataset/pg1513.txt': 2, 'Q1-Dataset/2160-0.txt': 2, 'Q1-Dataset/pg11.txt': 2, 'Q1-Dataset/pg2600.txt': 3, 'Q1-Dataset/pg345.txt': 2, 'Q1-Dataset/pg64317.txt': 2, 'Q1-Dataset/pg70815.txt': 2, 'Q1-Dataset/1080-0.txt': 2, 'Q1-Dataset/pg70817.txt': 4, 'Q1-Dataset/pg1998.txt': 2}, 'assistance': {'Q1-Dataset/pg1513.txt': 1, 'Q1-Dataset/2160-0.txt': 22, 'Q1-Dataset/pg11.txt': 1, 'Q1-Dataset/pg2600.txt': 8, 'Q1-Dataset/pg345.txt': 1, 'Q1-Dataset/pg64317.txt': 1, 'Q1-Dataset/pg70815.txt': 7, 'Q1-Dataset/1080-0.txt': 1, 'Q1-Dataset/pg70817.txt': 1, 'Q1-Dataset/pg1998.txt': 2}, 'indemnify': {'Q1-Dataset/pg1513.txt': 1, 'Q1-Dataset/2160-0.txt': 1, 'Q1-Dataset/pg11.txt': 1, 'Q1-Dataset/pg2600.txt': 1, 'Q1-Dataset/pg345.txt': 1, 'Q1-Dataset/pg64317.txt': 1, 'Q1-Dataset/pg70815.txt': 1, 'Q1-Dataset/1080-0.txt': 1, 'Q1-Dataset/pg70817.txt': 1, 'Q1-Dataset/pg1998.txt': 1}, 'domain': {'Q1-Dataset/pg1513.txt': 2, 'Q1-Dataset/2160-0.txt': 8, 'Q1-Dataset/pg11.txt': 2, 'Q1-Dataset/pg2600.txt': 7, 'Q1-Dataset/pg345.txt': 2, 'Q1-Dataset/pg64317.txt': 2, 'Q1-Dataset/pg70815.txt': 4, 'Q1-Dataset/1080-0.txt': 2, 'Q1-Dataset/pg70817.txt': 3, 'Q1-Dataset/pg1998.txt': 13}, 'walks': {'Q1-Dataset/pg1513.txt': 1, 'Q1-Dataset/2160-0.txt': 12, 'Q1-Dataset/pg11.txt': 1, 'Q1-Dataset/pg2600.txt': 3, 'Q1-Dataset/pg345.txt': 7, 'Q1-Dataset/pg64317.txt': 2, 'Q1-Dataset/pg70815.txt': 1, 'Q1-Dataset/1080-0.txt': 1, 'Q1-Dataset/pg70817.txt': 2, 'Q1-Dataset/pg1998.txt': 3}, 'exempt': {'Q1-Dataset/pg1513.txt': 2, 'Q1-Dataset/2160-0.txt': 3, 'Q1-Dataset/pg11.txt': 2, 'Q1-Dataset/pg2600.txt': 4, 'Q1-Dataset/pg345.txt': 2, 'Q1-Dataset/pg64317.txt': 3, 'Q1-Dataset/pg70815.txt': 3, 'Q1-Dataset/1080-0.txt': 2, 'Q1-Dataset/pg70817.txt': 2, 'Q1-Dataset/pg1998.txt': 3}, 'means': {'Q1-Dataset/pg1513.txt': 12, 'Q1-Dataset/2160-0.txt': 63, 'Q1-Dataset/pg11.txt': 7, 'Q1-Dataset/pg2600.txt': 73, 'Q1-Dataset/pg345.txt': 27, 'Q1-Dataset/pg64317.txt': 5, 'Q1-Dataset/pg70815.txt': 35, 'Q1-Dataset/1080-0.txt': 3, 'Q1-Dataset/pg70817.txt': 6, 'Q1-Dataset/pg1998.txt': 32}, 'as': {'Q1-Dataset/pg1513.txt': 166, 'Q1-Dataset/2160-0.txt': 1130, 'Q1-Dataset/pg11.txt': 272, 'Q1-Dataset/pg2600.txt': 3986, 'Q1-Dataset/pg345.txt': 1582, 'Q1-Dataset/pg64317.txt': 277, 'Q1-Dataset/pg70815.txt': 688, 'Q1-Dataset/1080-0.txt': 49, 'Q1-Dataset/pg70817.txt': 132, 'Q1-Dataset/pg1998.txt': 541}, 'possession': {'Q1-Dataset/pg1513.txt': 1, 'Q1-Dataset/2160-0.txt': 16, 'Q1-Dataset/pg11.txt': 1, 'Q1-Dataset/pg2600.txt': 16, 'Q1-Dataset/pg345.txt': 8, 'Q1-Dataset/pg64317.txt': 1, 'Q1-Dataset/pg70815.txt': 2, 'Q1-Dataset/1080-0.txt': 1, 'Q1-Dataset/pg70817.txt': 5, 'Q1-Dataset/pg1998.txt': 6}, 'locations': {'Q1-Dataset/pg1513.txt': 1, 'Q1-Dataset/2160-0.txt': 2, 'Q1-Dataset/pg11.txt': 1, 'Q1-Dataset/pg2600.txt': 1, 'Q1-Dataset/pg345.txt': 1, 'Q1-Dataset/pg64317.txt': 1, 'Q1-Dataset/pg70815.txt': 1, 'Q1-Dataset/1080-0.txt': 1, 'Q1-Dataset/pg70817.txt': 1, 'Q1-Dataset/pg1998.txt': 1}, 'into': {'Q1-Dataset/pg1513.txt': 8, 'Q1-Dataset/2160-0.txt': 298, 'Q1-Dataset/pg11.txt': 67, 'Q1-Dataset/pg2600.txt': 1003, 'Q1-Dataset/pg345.txt': 287, 'Q1-Dataset/pg64317.txt': 168, 'Q1-Dataset/pg70815.txt': 182, 'Q1-Dataset/1080-0.txt': 4, 'Q1-Dataset/pg70817.txt': 80, 'Q1-Dataset/pg1998.txt': 251}, 'where': {'Q1-Dataset/pg1513.txt': 56, 'Q1-Dataset/2160-0.txt': 221, 'Q1-Dataset/pg11.txt': 18, 'Q1-Dataset/pg2600.txt': 616, 'Q1-Dataset/pg345.txt': 219, 'Q1-Dataset/pg64317.txt': 59, 'Q1-Dataset/pg70815.txt': 133, 'Q1-Dataset/1080-0.txt': 8, 'Q1-Dataset/pg70817.txt': 17, 'Q1-Dataset/pg1998.txt': 142}, 'fee': {'Q1-Dataset/pg1513.txt': 10, 'Q1-Dataset/2160-0.txt': 9, 'Q1-Dataset/pg11.txt': 8, 'Q1-Dataset/pg2600.txt': 8, 'Q1-Dataset/pg345.txt': 8, 'Q1-Dataset/pg64317.txt': 8, 'Q1-Dataset/pg70815.txt': 8, 'Q1-Dataset/1080-0.txt': 8, 'Q1-Dataset/pg70817.txt': 8, 'Q1-Dataset/pg1998.txt': 8}, 'representations': {'Q1-Dataset/pg1513.txt': 1, 'Q1-Dataset/2160-0.txt': 2, 'Q1-Dataset/pg11.txt': 1, 'Q1-Dataset/pg2600.txt': 1, 'Q1-Dataset/pg345.txt': 1, 'Q1-Dataset/pg64317.txt': 1, 'Q1-Dataset/pg70815.txt': 1, 'Q1-Dataset/1080-0.txt': 1, 'Q1-Dataset/pg70817.txt': 1, 'Q1-Dataset/pg1998.txt': 1}, 'hot': {'Q1-Dataset/pg1513.txt': 7, 'Q1-Dataset/2160-0.txt': 34, 'Q1-Dataset/pg11.txt': 5, 'Q1-Dataset/pg2600.txt': 49, 'Q1-Dataset/pg345.txt': 9, 'Q1-Dataset/pg64317.txt': 25, 'Q1-Dataset/pg70815.txt': 2, 'Q1-Dataset/1080-0.txt': 1, 'Q1-Dataset/pg70817.txt': 4, 'Q1-Dataset/pg1998.txt': 13}, 'remedies': {'Q1-Dataset/pg1513.txt': 2, 'Q1-Dataset/2160-0.txt': 3, 'Q1-Dataset/pg11.txt': 2, 'Q1-Dataset/pg2600.txt': 3, 'Q1-Dataset/pg345.txt': 1, 'Q1-Dataset/pg64317.txt': 1, 'Q1-Dataset/pg70815.txt': 1, 'Q1-Dataset/1080-0.txt': 1, 'Q1-Dataset/pg70817.txt': 1, 'Q1-Dataset/pg1998.txt': 1}, 'them': {'Q1-Dataset/pg1513.txt': 43, 'Q1-Dataset/2160-0.txt': 210, 'Q1-Dataset/pg11.txt': 84, 'Q1-Dataset/pg2600.txt': 1512, 'Q1-Dataset/pg345.txt': 467, 'Q1-Dataset/pg64317.txt': 81, 'Q1-Dataset/pg70815.txt': 395, 'Q1-Dataset/1080-0.txt': 16, 'Q1-Dataset/pg70817.txt': 36, 'Q1-Dataset/pg1998.txt': 326}, 'effect': {'Q1-Dataset/pg1513.txt': 2, 'Q1-Dataset/2160-0.txt': 47, 'Q1-Dataset/pg11.txt': 3, 'Q1-Dataset/pg2600.txt': 65, 'Q1-Dataset/pg345.txt': 28, 'Q1-Dataset/pg64317.txt': 3, 'Q1-Dataset/pg70815.txt': 19, 'Q1-Dataset/1080-0.txt': 2, 'Q1-Dataset/pg70817.txt': 2, 'Q1-Dataset/pg1998.txt': 5}, 'reported': {'Q1-Dataset/pg1513.txt': 1, 'Q1-Dataset/2160-0.txt': 2, 'Q1-Dataset/pg11.txt': 1, 'Q1-Dataset/pg2600.txt': 36, 'Q1-Dataset/pg345.txt': 11, 'Q1-Dataset/pg64317.txt': 2, 'Q1-Dataset/pg70815.txt': 4, 'Q1-Dataset/1080-0.txt': 1, 'Q1-Dataset/pg70817.txt': 1, 'Q1-Dataset/pg1998.txt': 2}, 'give': {'Q1-Dataset/pg1513.txt': 51, 'Q1-Dataset/2160-0.txt': 122, 'Q1-Dataset/pg11.txt': 16, 'Q1-Dataset/pg2600.txt': 280, 'Q1-Dataset/pg345.txt': 82, 'Q1-Dataset/pg64317.txt': 22, 'Q1-Dataset/pg70815.txt': 20, 'Q1-Dataset/1080-0.txt': 5, 'Q1-Dataset/pg70817.txt': 8, 'Q1-Dataset/pg1998.txt': 75}, 'indirectly': {'Q1-Dataset/pg1513.txt': 1, 'Q1-Dataset/2160-0.txt': 1, 'Q1-Dataset/pg11.txt': 1, 'Q1-Dataset/pg2600.txt': 1, 'Q1-Dataset/pg345.txt': 2, 'Q1-Dataset/pg64317.txt': 2, 'Q1-Dataset/pg70815.txt': 1, 'Q1-Dataset/1080-0.txt': 1, 'Q1-Dataset/pg70817.txt': 1, 'Q1-Dataset/pg1998.txt': 1}, 'business': {'Q1-Dataset/pg1513.txt': 4, 'Q1-Dataset/2160-0.txt': 40, 'Q1-Dataset/pg11.txt': 8, 'Q1-Dataset/pg2600.txt': 99, 'Q1-Dataset/pg345.txt': 22, 'Q1-Dataset/pg64317.txt': 19, 'Q1-Dataset/pg70815.txt': 3, 'Q1-Dataset/1080-0.txt': 1, 'Q1-Dataset/pg70817.txt': 3, 'Q1-Dataset/pg1998.txt': 3}, 'downloading': {'Q1-Dataset/pg1513.txt': 1, 'Q1-Dataset/2160-0.txt': 1, 'Q1-Dataset/pg11.txt': 1, 'Q1-Dataset/pg2600.txt': 1, 'Q1-Dataset/pg345.txt': 1, 'Q1-Dataset/pg64317.txt': 1, 'Q1-Dataset/pg70815.txt': 1, 'Q1-Dataset/1080-0.txt': 1, 'Q1-Dataset/pg70817.txt': 1, 'Q1-Dataset/pg1998.txt': 1}, 'used': {'Q1-Dataset/pg1513.txt': 3, 'Q1-Dataset/2160-0.txt': 38, 'Q1-Dataset/pg11.txt': 15, 'Q1-Dataset/pg2600.txt': 135, 'Q1-Dataset/pg345.txt': 46, 'Q1-Dataset/pg64317.txt': 20, 'Q1-Dataset/pg70815.txt': 13, 'Q1-Dataset/1080-0.txt': 3, 'Q1-Dataset/pg70817.txt': 8, 'Q1-Dataset/pg1998.txt': 7}, 'incidental': {'Q1-Dataset/pg1513.txt': 1, 'Q1-Dataset/2160-0.txt': 1, 'Q1-Dataset/pg11.txt': 1, 'Q1-Dataset/pg2600.txt': 1, 'Q1-Dataset/pg345.txt': 1, 'Q1-Dataset/pg64317.txt': 1, 'Q1-Dataset/pg70815.txt': 1, 'Q1-Dataset/1080-0.txt': 1, 'Q1-Dataset/pg70817.txt': 1, 'Q1-Dataset/pg1998.txt': 1}, 'nonproprietary': {'Q1-Dataset/pg1513.txt': 1, 'Q1-Dataset/2160-0.txt': 1, 'Q1-Dataset/pg11.txt': 1, 'Q1-Dataset/pg2600.txt': 1, 'Q1-Dataset/pg345.txt': 1, 'Q1-Dataset/pg64317.txt': 1, 'Q1-Dataset/pg70815.txt': 1, 'Q1-Dataset/1080-0.txt': 1, 'Q1-Dataset/pg70817.txt': 1, 'Q1-Dataset/pg1998.txt': 1}, 'binary': {'Q1-Dataset/pg1513.txt': 1, 'Q1-Dataset/2160-0.txt': 1, 'Q1-Dataset/pg11.txt': 1, 'Q1-Dataset/pg2600.txt': 1, 'Q1-Dataset/pg345.txt': 1, 'Q1-Dataset/pg64317.txt': 1, 'Q1-Dataset/pg70815.txt': 1, 'Q1-Dataset/1080-0.txt': 1, 'Q1-Dataset/pg70817.txt': 1, 'Q1-Dataset/pg1998.txt': 1}, 'arise': {'Q1-Dataset/pg1513.txt': 4, 'Q1-Dataset/2160-0.txt': 4, 'Q1-Dataset/pg11.txt': 1, 'Q1-Dataset/pg2600.txt': 9, 'Q1-Dataset/pg345.txt': 2, 'Q1-Dataset/pg64317.txt': 1, 'Q1-Dataset/pg70815.txt': 2, 'Q1-Dataset/1080-0.txt': 1, 'Q1-Dataset/pg70817.txt': 1, 'Q1-Dataset/pg1998.txt': 14}, 'remove': {'Q1-Dataset/pg1513.txt': 5, 'Q1-Dataset/2160-0.txt': 8, 'Q1-Dataset/pg11.txt': 1, 'Q1-Dataset/pg2600.txt': 6, 'Q1-Dataset/pg345.txt': 5, 'Q1-Dataset/pg64317.txt': 1, 'Q1-Dataset/pg70815.txt': 4, 'Q1-Dataset/1080-0.txt': 1, 'Q1-Dataset/pg70817.txt': 2, 'Q1-Dataset/pg1998.txt': 3}, 'cold': {'Q1-Dataset/pg1513.txt': 7, 'Q1-Dataset/2160-0.txt': 33, 'Q1-Dataset/pg11.txt': 1, 'Q1-Dataset/pg2600.txt': 137, 'Q1-Dataset/pg345.txt': 43, 'Q1-Dataset/pg64317.txt': 14, 'Q1-Dataset/pg70815.txt': 12, 'Q1-Dataset/1080-0.txt': 1, 'Q1-Dataset/pg70817.txt': 22, 'Q1-Dataset/pg1998.txt': 28}, 'convert': {'Q1-Dataset/pg1513.txt': 2, 'Q1-Dataset/2160-0.txt': 8, 'Q1-Dataset/pg11.txt': 1, 'Q1-Dataset/pg2600.txt': 2, 'Q1-Dataset/pg345.txt': 1, 'Q1-Dataset/pg64317.txt': 1, 'Q1-Dataset/pg70815.txt': 1, 'Q1-Dataset/1080-0.txt': 1, 'Q1-Dataset/pg70817.txt': 1, 'Q1-Dataset/pg1998.txt': 1}, 'end': {'Q1-Dataset/pg1513.txt': 10, 'Q1-Dataset/2160-0.txt': 35, 'Q1-Dataset/pg11.txt': 19, 'Q1-Dataset/pg2600.txt': 184, 'Q1-Dataset/pg345.txt': 73, 'Q1-Dataset/pg64317.txt': 21, 'Q1-Dataset/pg70815.txt': 38, 'Q1-Dataset/1080-0.txt': 1, 'Q1-Dataset/pg70817.txt': 13, 'Q1-Dataset/pg1998.txt': 43}, 'only': {'Q1-Dataset/pg1513.txt': 11, 'Q1-Dataset/2160-0.txt': 114, 'Q1-Dataset/pg11.txt': 51, 'Q1-Dataset/pg2600.txt': 1292, 'Q1-Dataset/pg345.txt': 285, 'Q1-Dataset/pg64317.txt': 53, 'Q1-Dataset/pg70815.txt': 127, 'Q1-Dataset/1080-0.txt': 8, 'Q1-Dataset/pg70817.txt': 34, 'Q1-Dataset/pg1998.txt': 244}, 'best': {'Q1-Dataset/pg1513.txt': 12, 'Q1-Dataset/2160-0.txt': 60, 'Q1-Dataset/pg11.txt': 10, 'Q1-Dataset/pg2600.txt': 124, 'Q1-Dataset/pg345.txt': 51, 'Q1-Dataset/pg64317.txt': 7, 'Q1-Dataset/pg70815.txt': 17, 'Q1-Dataset/1080-0.txt': 2, 'Q1-Dataset/pg70817.txt': 5, 'Q1-Dataset/pg1998.txt': 97}, 'electronically': {'Q1-Dataset/pg1513.txt': 2, 'Q1-Dataset/2160-0.txt': 2, 'Q1-Dataset/pg11.txt': 2, 'Q1-Dataset/pg2600.txt': 2, 'Q1-Dataset/pg345.txt': 2, 'Q1-Dataset/pg64317.txt': 2, 'Q1-Dataset/pg70815.txt': 2, 'Q1-Dataset/1080-0.txt': 2, 'Q1-Dataset/pg70817.txt': 2, 'Q1-Dataset/pg1998.txt': 2}, 'perform': {'Q1-Dataset/pg1513.txt': 2, 'Q1-Dataset/2160-0.txt': 7, 'Q1-Dataset/pg11.txt': 1, 'Q1-Dataset/pg2600.txt': 16, 'Q1-Dataset/pg345.txt': 4, 'Q1-Dataset/pg64317.txt': 1, 'Q1-Dataset/pg70815.txt': 1, 'Q1-Dataset/1080-0.txt': 2, 'Q1-Dataset/pg70817.txt': 1, 'Q1-Dataset/pg1998.txt': 1}, 'name': {'Q1-Dataset/pg1513.txt': 25, 'Q1-Dataset/2160-0.txt': 81, 'Q1-Dataset/pg11.txt': 11, 'Q1-Dataset/pg2600.txt': 117, 'Q1-Dataset/pg345.txt': 21, 'Q1-Dataset/pg64317.txt': 42, 'Q1-Dataset/pg70815.txt': 13, 'Q1-Dataset/1080-0.txt': 2, 'Q1-Dataset/pg70817.txt': 9, 'Q1-Dataset/pg1998.txt': 25}, 'permitted': {'Q1-Dataset/pg1513.txt': 2, 'Q1-Dataset/2160-0.txt': 8, 'Q1-Dataset/pg11.txt': 3, 'Q1-Dataset/pg2600.txt': 5, 'Q1-Dataset/pg345.txt': 5, 'Q1-Dataset/pg64317.txt': 2, 'Q1-Dataset/pg70815.txt': 8, 'Q1-Dataset/1080-0.txt': 2, 'Q1-Dataset/pg70817.txt': 6, 'Q1-Dataset/pg1998.txt': 5}, 'breach': {'Q1-Dataset/pg1513.txt': 2, 'Q1-Dataset/2160-0.txt': 4, 'Q1-Dataset/pg11.txt': 2, 'Q1-Dataset/pg2600.txt': 3, 'Q1-Dataset/pg345.txt': 2, 'Q1-Dataset/pg64317.txt': 2, 'Q1-Dataset/pg70815.txt': 2, 'Q1-Dataset/1080-0.txt': 2, 'Q1-Dataset/pg70817.txt': 2, 'Q1-Dataset/pg1998.txt': 3}, 'interpreted': {'Q1-Dataset/pg1513.txt': 1, 'Q1-Dataset/2160-0.txt': 3, 'Q1-Dataset/pg11.txt': 1, 'Q1-Dataset/pg2600.txt': 3, 'Q1-Dataset/pg345.txt': 2, 'Q1-Dataset/pg64317.txt': 1, 'Q1-Dataset/pg70815.txt': 3, 'Q1-Dataset/1080-0.txt': 1, 'Q1-Dataset/pg70817.txt': 1, 'Q1-Dataset/pg1998.txt': 3}, 'fees': {'Q1-Dataset/pg1513.txt': 5, 'Q1-Dataset/2160-0.txt': 4, 'Q1-Dataset/pg11.txt': 4, 'Q1-Dataset/pg2600.txt': 4, 'Q1-Dataset/pg345.txt': 4, 'Q1-Dataset/pg64317.txt': 4, 'Q1-Dataset/pg70815.txt': 4, 'Q1-Dataset/1080-0.txt': 4, 'Q1-Dataset/pg70817.txt': 4, 'Q1-Dataset/pg1998.txt': 4}, 'understand': {'Q1-Dataset/pg1513.txt': 1, 'Q1-Dataset/2160-0.txt': 37, 'Q1-Dataset/pg11.txt': 7, 'Q1-Dataset/pg2600.txt': 347, 'Q1-Dataset/pg345.txt': 56, 'Q1-Dataset/pg64317.txt': 15, 'Q1-Dataset/pg70815.txt': 29, 'Q1-Dataset/1080-0.txt': 1, 'Q1-Dataset/pg70817.txt': 1, 'Q1-Dataset/pg1998.txt': 31}, 'fix': {'Q1-Dataset/pg1513.txt': 1, 'Q1-Dataset/2160-0.txt': 2, 'Q1-Dataset/pg11.txt': 2, 'Q1-Dataset/pg2600.txt': 10, 'Q1-Dataset/pg345.txt': 3, 'Q1-Dataset/pg64317.txt': 2, 'Q1-Dataset/pg70815.txt': 1, 'Q1-Dataset/1080-0.txt': 1, 'Q1-Dataset/pg70817.txt': 1, 'Q1-Dataset/pg1998.txt': 3}, 'network': {'Q1-Dataset/pg1513.txt': 1, 'Q1-Dataset/2160-0.txt': 1, 'Q1-Dataset/pg11.txt': 1, 'Q1-Dataset/pg2600.txt': 2, 'Q1-Dataset/pg345.txt': 1, 'Q1-Dataset/pg64317.txt': 1, 'Q1-Dataset/pg70815.txt': 1, 'Q1-Dataset/1080-0.txt': 1, 'Q1-Dataset/pg70817.txt': 1, 'Q1-Dataset/pg1998.txt': 1}, 'worse': {'Q1-Dataset/pg1513.txt': 3, 'Q1-Dataset/2160-0.txt': 15, 'Q1-Dataset/pg11.txt': 3, 'Q1-Dataset/pg2600.txt': 48, 'Q1-Dataset/pg345.txt': 18, 'Q1-Dataset/pg64317.txt': 3, 'Q1-Dataset/pg70815.txt': 6, 'Q1-Dataset/1080-0.txt': 1, 'Q1-Dataset/pg70817.txt': 8, 'Q1-Dataset/pg1998.txt': 12}, 'paying': {'Q1-Dataset/pg1513.txt': 3, 'Q1-Dataset/2160-0.txt': 7, 'Q1-Dataset/pg11.txt': 3, 'Q1-Dataset/pg2600.txt': 17, 'Q1-Dataset/pg345.txt': 4, 'Q1-Dataset/pg64317.txt': 4, 'Q1-Dataset/pg70815.txt': 4, 'Q1-Dataset/1080-0.txt': 4, 'Q1-Dataset/pg70817.txt': 4, 'Q1-Dataset/pg1998.txt': 3}, 'sections': {'Q1-Dataset/pg1513.txt': 1, 'Q1-Dataset/2160-0.txt': 1, 'Q1-Dataset/pg11.txt': 1, 'Q1-Dataset/pg2600.txt': 2, 'Q1-Dataset/pg345.txt': 1, 'Q1-Dataset/pg64317.txt': 1, 'Q1-Dataset/pg70815.txt': 2, 'Q1-Dataset/1080-0.txt': 1, 'Q1-Dataset/pg70817.txt': 1, 'Q1-Dataset/pg1998.txt': 1}, 'stay': {'Q1-Dataset/pg1513.txt': 26, 'Q1-Dataset/2160-0.txt': 25, 'Q1-Dataset/pg11.txt': 5, 'Q1-Dataset/pg2600.txt': 57, 'Q1-Dataset/pg345.txt': 43, 'Q1-Dataset/pg64317.txt': 6, 'Q1-Dataset/pg70815.txt': 7, 'Q1-Dataset/1080-0.txt': 2, 'Q1-Dataset/pg70817.txt': 1, 'Q1-Dataset/pg1998.txt': 8}, 'old': {'Q1-Dataset/pg1513.txt': 30, 'Q1-Dataset/2160-0.txt': 134, 'Q1-Dataset/pg11.txt': 21, 'Q1-Dataset/pg2600.txt': 803, 'Q1-Dataset/pg345.txt': 188, 'Q1-Dataset/pg64317.txt': 83, 'Q1-Dataset/pg70815.txt': 10, 'Q1-Dataset/1080-0.txt': 10, 'Q1-Dataset/pg70817.txt': 28, 'Q1-Dataset/pg1998.txt': 170}, 'outdated': {'Q1-Dataset/pg1513.txt': 1, 'Q1-Dataset/2160-0.txt': 1, 'Q1-Dataset/pg11.txt': 1, 'Q1-Dataset/pg2600.txt': 1, 'Q1-Dataset/pg345.txt': 1, 'Q1-Dataset/pg64317.txt': 1, 'Q1-Dataset/pg70815.txt': 1, 'Q1-Dataset/1080-0.txt': 1, 'Q1-Dataset/pg70817.txt': 1, 'Q1-Dataset/pg1998.txt': 1}, 'costs': {'Q1-Dataset/pg1513.txt': 2, 'Q1-Dataset/2160-0.txt': 4, 'Q1-Dataset/pg11.txt': 2, 'Q1-Dataset/pg2600.txt': 2, 'Q1-Dataset/pg345.txt': 2, 'Q1-Dataset/pg64317.txt': 2, 'Q1-Dataset/pg70815.txt': 2, 'Q1-Dataset/1080-0.txt': 2, 'Q1-Dataset/pg70817.txt': 2, 'Q1-Dataset/pg1998.txt': 2}, 'trademark': {'Q1-Dataset/pg1513.txt': 13, 'Q1-Dataset/2160-0.txt': 10, 'Q1-Dataset/pg11.txt': 13, 'Q1-Dataset/pg2600.txt': 13, 'Q1-Dataset/pg345.txt': 13, 'Q1-Dataset/pg64317.txt': 13, 'Q1-Dataset/pg70815.txt': 13, 'Q1-Dataset/1080-0.txt': 13, 'Q1-Dataset/pg70817.txt': 13, 'Q1-Dataset/pg1998.txt': 13}, 'what': {'Q1-Dataset/pg1513.txt': 162, 'Q1-Dataset/2160-0.txt': 263, 'Q1-Dataset/pg11.txt': 130, 'Q1-Dataset/pg2600.txt': 2315, 'Q1-Dataset/pg345.txt': 460, 'Q1-Dataset/pg64317.txt': 128, 'Q1-Dataset/pg70815.txt': 175, 'Q1-Dataset/1080-0.txt': 3, 'Q1-Dataset/pg70817.txt': 35, 'Q1-Dataset/pg1998.txt': 429}, 'well': {'Q1-Dataset/pg1513.txt': 68, 'Q1-Dataset/2160-0.txt': 175, 'Q1-Dataset/pg11.txt': 60, 'Q1-Dataset/pg2600.txt': 735, 'Q1-Dataset/pg345.txt': 236, 'Q1-Dataset/pg64317.txt': 66, 'Q1-Dataset/pg70815.txt': 75, 'Q1-Dataset/1080-0.txt': 8, 'Q1-Dataset/pg70817.txt': 26, 'Q1-Dataset/pg1998.txt': 170}, 'part': {'Q1-Dataset/pg1513.txt': 28, 'Q1-Dataset/2160-0.txt': 136, 'Q1-Dataset/pg11.txt': 6, 'Q1-Dataset/pg2600.txt': 236, 'Q1-Dataset/pg345.txt': 62, 'Q1-Dataset/pg64317.txt': 13, 'Q1-Dataset/pg70815.txt': 23, 'Q1-Dataset/1080-0.txt': 7, 'Q1-Dataset/pg70817.txt': 9, 'Q1-Dataset/pg1998.txt': 50}, 'from': {'Q1-Dataset/pg1513.txt': 101, 'Q1-Dataset/2160-0.txt': 661, 'Q1-Dataset/pg11.txt': 52, 'Q1-Dataset/pg2600.txt': 2700, 'Q1-Dataset/pg345.txt': 637, 'Q1-Dataset/pg64317.txt': 247, 'Q1-Dataset/pg70815.txt': 501, 'Q1-Dataset/1080-0.txt': 29, 'Q1-Dataset/pg70817.txt': 92, 'Q1-Dataset/pg1998.txt': 452}, 'shared': {'Q1-Dataset/pg1513.txt': 1, 'Q1-Dataset/2160-0.txt': 2, 'Q1-Dataset/pg11.txt': 2, 'Q1-Dataset/pg2600.txt': 13, 'Q1-Dataset/pg345.txt': 3, 'Q1-Dataset/pg64317.txt': 1, 'Q1-Dataset/pg70815.txt': 3, 'Q1-Dataset/1080-0.txt': 1, 'Q1-Dataset/pg70817.txt': 1, 'Q1-Dataset/pg1998.txt': 2}, 'void': {'Q1-Dataset/pg1513.txt': 1, 'Q1-Dataset/2160-0.txt': 5, 'Q1-Dataset/pg11.txt': 1, 'Q1-Dataset/pg2600.txt': 1, 'Q1-Dataset/pg345.txt': 2, 'Q1-Dataset/pg64317.txt': 1, 'Q1-Dataset/pg70815.txt': 1, 'Q1-Dataset/1080-0.txt': 1, 'Q1-Dataset/pg70817.txt': 1, 'Q1-Dataset/pg1998.txt': 1}, 'with': {'Q1-Dataset/pg1513.txt': 299, 'Q1-Dataset/2160-0.txt': 1702, 'Q1-Dataset/pg11.txt': 227, 'Q1-Dataset/pg2600.txt': 5694, 'Q1-Dataset/pg345.txt': 1321, 'Q1-Dataset/pg64317.txt': 465, 'Q1-Dataset/pg70815.txt': 612, 'Q1-Dataset/1080-0.txt': 59, 'Q1-Dataset/pg70817.txt': 222, 'Q1-Dataset/pg1998.txt': 866}, 'arms': {'Q1-Dataset/pg1513.txt': 2, 'Q1-Dataset/2160-0.txt': 26, 'Q1-Dataset/pg11.txt': 6, 'Q1-Dataset/pg2600.txt': 177, 'Q1-Dataset/pg345.txt': 33, 'Q1-Dataset/pg64317.txt': 13, 'Q1-Dataset/pg70815.txt': 11, 'Q1-Dataset/1080-0.txt': 1, 'Q1-Dataset/pg70817.txt': 6, 'Q1-Dataset/pg1998.txt': 7}, 'marked': {'Q1-Dataset/pg1513.txt': 2, 'Q1-Dataset/2160-0.txt': 9, 'Q1-Dataset/pg11.txt': 8, 'Q1-Dataset/pg2600.txt': 7, 'Q1-Dataset/pg345.txt': 15, 'Q1-Dataset/pg64317.txt': 3, 'Q1-Dataset/pg70815.txt': 12, 'Q1-Dataset/1080-0.txt': 2, 'Q1-Dataset/pg70817.txt': 3, 'Q1-Dataset/pg1998.txt': 2}, 'unlink': {'Q1-Dataset/pg1513.txt': 1, 'Q1-Dataset/2160-0.txt': 1, 'Q1-Dataset/pg11.txt': 1, 'Q1-Dataset/pg2600.txt': 1, 'Q1-Dataset/pg345.txt': 1, 'Q1-Dataset/pg64317.txt': 1, 'Q1-Dataset/pg70815.txt': 1, 'Q1-Dataset/1080-0.txt': 1, 'Q1-Dataset/pg70817.txt': 1, 'Q1-Dataset/pg1998.txt': 1}, 'many': {'Q1-Dataset/pg1513.txt': 16, 'Q1-Dataset/2160-0.txt': 98, 'Q1-Dataset/pg11.txt': 14, 'Q1-Dataset/pg2600.txt': 233, 'Q1-Dataset/pg345.txt': 104, 'Q1-Dataset/pg64317.txt': 17, 'Q1-Dataset/pg70815.txt': 66, 'Q1-Dataset/1080-0.txt': 11, 'Q1-Dataset/pg70817.txt': 11, 'Q1-Dataset/pg1998.txt': 168}, 'too': {'Q1-Dataset/pg1513.txt': 56, 'Q1-Dataset/2160-0.txt': 70, 'Q1-Dataset/pg11.txt': 26, 'Q1-Dataset/pg2600.txt': 389, 'Q1-Dataset/pg345.txt': 209, 'Q1-Dataset/pg64317.txt': 60, 'Q1-Dataset/pg70815.txt': 42, 'Q1-Dataset/1080-0.txt': 5, 'Q1-Dataset/pg70817.txt': 16, 'Q1-Dataset/pg1998.txt': 173}, 'man': {'Q1-Dataset/pg1513.txt': 65, 'Q1-Dataset/2160-0.txt': 170, 'Q1-Dataset/pg11.txt': 5, 'Q1-Dataset/pg2600.txt': 1064, 'Q1-Dataset/pg345.txt': 216, 'Q1-Dataset/pg64317.txt': 106, 'Q1-Dataset/pg70815.txt': 168, 'Q1-Dataset/1080-0.txt': 2, 'Q1-Dataset/pg70817.txt': 34, 'Q1-Dataset/pg1998.txt': 377}, 'access': {'Q1-Dataset/pg1513.txt': 11, 'Q1-Dataset/2160-0.txt': 11, 'Q1-Dataset/pg11.txt': 10, 'Q1-Dataset/pg2600.txt': 11, 'Q1-Dataset/pg345.txt': 11, 'Q1-Dataset/pg64317.txt': 10, 'Q1-Dataset/pg70815.txt': 10, 'Q1-Dataset/1080-0.txt': 10, 'Q1-Dataset/pg70817.txt': 11, 'Q1-Dataset/pg1998.txt': 11}, 'request': {'Q1-Dataset/pg1513.txt': 2, 'Q1-Dataset/2160-0.txt': 15, 'Q1-Dataset/pg11.txt': 1, 'Q1-Dataset/pg2600.txt': 20, 'Q1-Dataset/pg345.txt': 8, 'Q1-Dataset/pg64317.txt': 6, 'Q1-Dataset/pg70815.txt': 3, 'Q1-Dataset/1080-0.txt': 1, 'Q1-Dataset/pg70817.txt': 1, 'Q1-Dataset/pg1998.txt': 1}, 'exclusion': {'Q1-Dataset/pg1513.txt': 1, 'Q1-Dataset/2160-0.txt': 1, 'Q1-Dataset/pg11.txt': 1, 'Q1-Dataset/pg2600.txt': 2, 'Q1-Dataset/pg345.txt': 1, 'Q1-Dataset/pg64317.txt': 1, 'Q1-Dataset/pg70815.txt': 2, 'Q1-Dataset/1080-0.txt': 1, 'Q1-Dataset/pg70817.txt': 1, 'Q1-Dataset/pg1998.txt': 1}, 'discovered': {'Q1-Dataset/pg1513.txt': 2, 'Q1-Dataset/2160-0.txt': 22, 'Q1-Dataset/pg11.txt': 1, 'Q1-Dataset/pg2600.txt': 14, 'Q1-Dataset/pg345.txt': 7, 'Q1-Dataset/pg64317.txt': 6, 'Q1-Dataset/pg70815.txt': 31, 'Q1-Dataset/1080-0.txt': 1, 'Q1-Dataset/pg70817.txt': 5, 'Q1-Dataset/pg1998.txt': 11}, 'display': {'Q1-Dataset/pg1513.txt': 1, 'Q1-Dataset/2160-0.txt': 4, 'Q1-Dataset/pg11.txt': 1, 'Q1-Dataset/pg2600.txt': 10, 'Q1-Dataset/pg345.txt': 2, 'Q1-Dataset/pg64317.txt': 1, 'Q1-Dataset/pg70815.txt': 2, 'Q1-Dataset/1080-0.txt': 1, 'Q1-Dataset/pg70817.txt': 1, 'Q1-Dataset/pg1998.txt': 2}, 'defect': {'Q1-Dataset/pg1513.txt': 3, 'Q1-Dataset/2160-0.txt': 10, 'Q1-Dataset/pg11.txt': 3, 'Q1-Dataset/pg2600.txt': 7, 'Q1-Dataset/pg345.txt': 4, 'Q1-Dataset/pg64317.txt': 3, 'Q1-Dataset/pg70815.txt': 3, 'Q1-Dataset/1080-0.txt': 3, 'Q1-Dataset/pg70817.txt': 3, 'Q1-Dataset/pg1998.txt': 4}, 'course': {'Q1-Dataset/pg1513.txt': 5, 'Q1-Dataset/2160-0.txt': 44, 'Q1-Dataset/pg11.txt': 25, 'Q1-Dataset/pg2600.txt': 123, 'Q1-Dataset/pg345.txt': 41, 'Q1-Dataset/pg64317.txt': 23, 'Q1-Dataset/pg70815.txt': 35, 'Q1-Dataset/1080-0.txt': 2, 'Q1-Dataset/pg70817.txt': 10, 'Q1-Dataset/pg1998.txt': 23}, 'our': {'Q1-Dataset/pg1513.txt': 64, 'Q1-Dataset/2160-0.txt': 409, 'Q1-Dataset/pg11.txt': 12, 'Q1-Dataset/pg2600.txt': 624, 'Q1-Dataset/pg345.txt': 409, 'Q1-Dataset/pg64317.txt': 28, 'Q1-Dataset/pg70815.txt': 80, 'Q1-Dataset/1080-0.txt': 26, 'Q1-Dataset/pg70817.txt': 18, 'Q1-Dataset/pg1998.txt': 115}, 'either': {'Q1-Dataset/pg1513.txt': 10, 'Q1-Dataset/2160-0.txt': 52, 'Q1-Dataset/pg11.txt': 11, 'Q1-Dataset/pg2600.txt': 127, 'Q1-Dataset/pg345.txt': 39, 'Q1-Dataset/pg64317.txt': 12, 'Q1-Dataset/pg70815.txt': 40, 'Q1-Dataset/1080-0.txt': 4, 'Q1-Dataset/pg70817.txt': 4, 'Q1-Dataset/pg1998.txt': 17}, 'reasonable': {'Q1-Dataset/pg1513.txt': 1, 'Q1-Dataset/2160-0.txt': 5, 'Q1-Dataset/pg11.txt': 2, 'Q1-Dataset/pg2600.txt': 13, 'Q1-Dataset/pg345.txt': 4, 'Q1-Dataset/pg64317.txt': 1, 'Q1-Dataset/pg70815.txt': 8, 'Q1-Dataset/1080-0.txt': 2, 'Q1-Dataset/pg70817.txt': 3, 'Q1-Dataset/pg1998.txt': 1}, 'six': {'Q1-Dataset/pg1513.txt': 1, 'Q1-Dataset/2160-0.txt': 22, 'Q1-Dataset/pg11.txt': 2, 'Q1-Dataset/pg2600.txt': 56, 'Q1-Dataset/pg345.txt': 12, 'Q1-Dataset/pg64317.txt': 6, 'Q1-Dataset/pg70815.txt': 14, 'Q1-Dataset/1080-0.txt': 3, 'Q1-Dataset/pg70817.txt': 5, 'Q1-Dataset/pg1998.txt': 1}, 'defects': {'Q1-Dataset/pg1513.txt': 1, 'Q1-Dataset/2160-0.txt': 3, 'Q1-Dataset/pg11.txt': 1, 'Q1-Dataset/pg2600.txt': 4, 'Q1-Dataset/pg345.txt': 1, 'Q1-Dataset/pg64317.txt': 1, 'Q1-Dataset/pg70815.txt': 1, 'Q1-Dataset/1080-0.txt': 1, 'Q1-Dataset/pg70817.txt': 1, 'Q1-Dataset/pg1998.txt': 2}, 'originator': {'Q1-Dataset/pg1513.txt': 1, 'Q1-Dataset/2160-0.txt': 1, 'Q1-Dataset/pg11.txt': 1, 'Q1-Dataset/pg2600.txt': 3, 'Q1-Dataset/pg345.txt': 1, 'Q1-Dataset/pg64317.txt': 1, 'Q1-Dataset/pg70815.txt': 1, 'Q1-Dataset/1080-0.txt': 1, 'Q1-Dataset/pg70817.txt': 1, 'Q1-Dataset/pg1998.txt': 1}, 'addition': {'Q1-Dataset/pg1513.txt': 1, 'Q1-Dataset/2160-0.txt': 6, 'Q1-Dataset/pg11.txt': 1, 'Q1-Dataset/pg2600.txt': 5, 'Q1-Dataset/pg345.txt': 3, 'Q1-Dataset/pg64317.txt': 2, 'Q1-Dataset/pg70815.txt': 10, 'Q1-Dataset/1080-0.txt': 2, 'Q1-Dataset/pg70817.txt': 4, 'Q1-Dataset/pg1998.txt': 2}, 'those': {'Q1-Dataset/pg1513.txt': 16, 'Q1-Dataset/2160-0.txt': 175, 'Q1-Dataset/pg11.txt': 11, 'Q1-Dataset/pg2600.txt': 651, 'Q1-Dataset/pg345.txt': 83, 'Q1-Dataset/pg64317.txt': 28, 'Q1-Dataset/pg70815.txt': 56, 'Q1-Dataset/1080-0.txt': 8, 'Q1-Dataset/pg70817.txt': 20, 'Q1-Dataset/pg1998.txt': 200}, 'important': {'Q1-Dataset/pg1513.txt': 1, 'Q1-Dataset/2160-0.txt': 3, 'Q1-Dataset/pg11.txt': 6, 'Q1-Dataset/pg2600.txt': 129, 'Q1-Dataset/pg345.txt': 12, 'Q1-Dataset/pg64317.txt': 4, 'Q1-Dataset/pg70815.txt': 5, 'Q1-Dataset/1080-0.txt': 2, 'Q1-Dataset/pg70817.txt': 1, 'Q1-Dataset/pg1998.txt': 19}, 'including': {'Q1-Dataset/pg1513.txt': 9, 'Q1-Dataset/2160-0.txt': 17, 'Q1-Dataset/pg11.txt': 9, 'Q1-Dataset/pg2600.txt': 16, 'Q1-Dataset/pg345.txt': 10, 'Q1-Dataset/pg64317.txt': 12, 'Q1-Dataset/pg70815.txt': 11, 'Q1-Dataset/1080-0.txt': 9, 'Q1-Dataset/pg70817.txt': 9, 'Q1-Dataset/pg1998.txt': 10}, 'owed': {'Q1-Dataset/pg1513.txt': 1, 'Q1-Dataset/2160-0.txt': 4, 'Q1-Dataset/pg11.txt': 1, 'Q1-Dataset/pg2600.txt': 4, 'Q1-Dataset/pg345.txt': 1, 'Q1-Dataset/pg64317.txt': 1, 'Q1-Dataset/pg70815.txt': 2, 'Q1-Dataset/1080-0.txt': 1, 'Q1-Dataset/pg70817.txt': 1, 'Q1-Dataset/pg1998.txt': 2}, 'grown': {'Q1-Dataset/pg1513.txt': 2, 'Q1-Dataset/2160-0.txt': 5, 'Q1-Dataset/pg11.txt': 7, 'Q1-Dataset/pg2600.txt': 65, 'Q1-Dataset/pg345.txt': 11, 'Q1-Dataset/pg64317.txt': 3, 'Q1-Dataset/pg70815.txt': 2, 'Q1-Dataset/1080-0.txt': 1, 'Q1-Dataset/pg70817.txt': 2, 'Q1-Dataset/pg1998.txt': 8}, 'infringement': {'Q1-Dataset/pg1513.txt': 1, 'Q1-Dataset/2160-0.txt': 1, 'Q1-Dataset/pg11.txt': 1, 'Q1-Dataset/pg2600.txt': 2, 'Q1-Dataset/pg345.txt': 1, 'Q1-Dataset/pg64317.txt': 1, 'Q1-Dataset/pg70815.txt': 1, 'Q1-Dataset/1080-0.txt': 1, 'Q1-Dataset/pg70817.txt': 1, 'Q1-Dataset/pg1998.txt': 1}, 'keeping': {'Q1-Dataset/pg1513.txt': 2, 'Q1-Dataset/2160-0.txt': 9, 'Q1-Dataset/pg11.txt': 4, 'Q1-Dataset/pg2600.txt': 35, 'Q1-Dataset/pg345.txt': 18, 'Q1-Dataset/pg64317.txt': 5, 'Q1-Dataset/pg70815.txt': 8, 'Q1-Dataset/1080-0.txt': 2, 'Q1-Dataset/pg70817.txt': 3, 'Q1-Dataset/pg1998.txt': 3}, 'damages': {'Q1-Dataset/pg1513.txt': 4, 'Q1-Dataset/2160-0.txt': 6, 'Q1-Dataset/pg11.txt': 4, 'Q1-Dataset/pg2600.txt': 4, 'Q1-Dataset/pg345.txt': 5, 'Q1-Dataset/pg64317.txt': 4, 'Q1-Dataset/pg70815.txt': 4, 'Q1-Dataset/1080-0.txt': 4, 'Q1-Dataset/pg70817.txt': 4, 'Q1-Dataset/pg1998.txt': 4}, 'thing': {'Q1-Dataset/pg1513.txt': 12, 'Q1-Dataset/2160-0.txt': 79, 'Q1-Dataset/pg11.txt': 49, 'Q1-Dataset/pg2600.txt': 224, 'Q1-Dataset/pg345.txt': 97, 'Q1-Dataset/pg64317.txt': 35, 'Q1-Dataset/pg70815.txt': 31, 'Q1-Dataset/1080-0.txt': 1, 'Q1-Dataset/pg70817.txt': 15, 'Q1-Dataset/pg1998.txt': 86}, 'hundreds': {'Q1-Dataset/pg1513.txt': 1, 'Q1-Dataset/2160-0.txt': 4, 'Q1-Dataset/pg11.txt': 1, 'Q1-Dataset/pg2600.txt': 25, 'Q1-Dataset/pg345.txt': 5, 'Q1-Dataset/pg64317.txt': 5, 'Q1-Dataset/pg70815.txt': 9, 'Q1-Dataset/1080-0.txt': 1, 'Q1-Dataset/pg70817.txt': 3, 'Q1-Dataset/pg1998.txt': 1}, 'corporation': {'Q1-Dataset/pg1513.txt': 1, 'Q1-Dataset/2160-0.txt': 3, 'Q1-Dataset/pg11.txt': 1, 'Q1-Dataset/pg2600.txt': 1, 'Q1-Dataset/pg345.txt': 1, 'Q1-Dataset/pg64317.txt': 1, 'Q1-Dataset/pg70815.txt': 1, 'Q1-Dataset/1080-0.txt': 1, 'Q1-Dataset/pg70817.txt': 1, 'Q1-Dataset/pg1998.txt': 1}, 'least': {'Q1-Dataset/pg1513.txt': 1, 'Q1-Dataset/2160-0.txt': 66, 'Q1-Dataset/pg11.txt': 8, 'Q1-Dataset/pg2600.txt': 84, 'Q1-Dataset/pg345.txt': 39, 'Q1-Dataset/pg64317.txt': 15, 'Q1-Dataset/pg70815.txt': 21, 'Q1-Dataset/1080-0.txt': 7, 'Q1-Dataset/pg70817.txt': 10, 'Q1-Dataset/pg1998.txt': 22}, 'detach': {'Q1-Dataset/pg1513.txt': 1, 'Q1-Dataset/2160-0.txt': 1, 'Q1-Dataset/pg11.txt': 1, 'Q1-Dataset/pg2600.txt': 2, 'Q1-Dataset/pg345.txt': 1, 'Q1-Dataset/pg64317.txt': 1, 'Q1-Dataset/pg70815.txt': 1, 'Q1-Dataset/1080-0.txt': 1, 'Q1-Dataset/pg70817.txt': 1, 'Q1-Dataset/pg1998.txt': 1}, 'having': {'Q1-Dataset/pg1513.txt': 8, 'Q1-Dataset/2160-0.txt': 143, 'Q1-Dataset/pg11.txt': 10, 'Q1-Dataset/pg2600.txt': 487, 'Q1-Dataset/pg345.txt': 32, 'Q1-Dataset/pg64317.txt': 11, 'Q1-Dataset/pg70815.txt': 26, 'Q1-Dataset/1080-0.txt': 5, 'Q1-Dataset/pg70817.txt': 4, 'Q1-Dataset/pg1998.txt': 8}, 'information': {'Q1-Dataset/pg1513.txt': 8, 'Q1-Dataset/2160-0.txt': 25, 'Q1-Dataset/pg11.txt': 8, 'Q1-Dataset/pg2600.txt': 29, 'Q1-Dataset/pg345.txt': 18, 'Q1-Dataset/pg64317.txt': 13, 'Q1-Dataset/pg70815.txt': 10, 'Q1-Dataset/1080-0.txt': 8, 'Q1-Dataset/pg70817.txt': 8, 'Q1-Dataset/pg1998.txt': 8}, 'can': {'Q1-Dataset/pg1513.txt': 49, 'Q1-Dataset/2160-0.txt': 139, 'Q1-Dataset/pg11.txt': 40, 'Q1-Dataset/pg2600.txt': 473, 'Q1-Dataset/pg345.txt': 384, 'Q1-Dataset/pg64317.txt': 40, 'Q1-Dataset/pg70815.txt': 75, 'Q1-Dataset/1080-0.txt': 19, 'Q1-Dataset/pg70817.txt': 19, 'Q1-Dataset/pg1998.txt': 112}, 'terms': {'Q1-Dataset/pg1513.txt': 23, 'Q1-Dataset/2160-0.txt': 38, 'Q1-Dataset/pg11.txt': 23, 'Q1-Dataset/pg2600.txt': 38, 'Q1-Dataset/pg345.txt': 24, 'Q1-Dataset/pg64317.txt': 24, 'Q1-Dataset/pg70815.txt': 22, 'Q1-Dataset/1080-0.txt': 22, 'Q1-Dataset/pg70817.txt': 22, 'Q1-Dataset/pg1998.txt': 25}, 'paper': {'Q1-Dataset/pg1513.txt': 2, 'Q1-Dataset/2160-0.txt': 15, 'Q1-Dataset/pg11.txt': 5, 'Q1-Dataset/pg2600.txt': 58, 'Q1-Dataset/pg345.txt': 24, 'Q1-Dataset/pg64317.txt': 4, 'Q1-Dataset/pg70815.txt': 1, 'Q1-Dataset/1080-0.txt': 1, 'Q1-Dataset/pg70817.txt': 5, 'Q1-Dataset/pg1998.txt': 2}, 'a': {'Q1-Dataset/pg1513.txt': 541, 'Q1-Dataset/2160-0.txt': 3649, 'Q1-Dataset/pg11.txt': 689, 'Q1-Dataset/pg2600.txt': 10493, 'Q1-Dataset/pg345.txt': 2958, 'Q1-Dataset/pg64317.txt': 1451, 'Q1-Dataset/pg70815.txt': 1555, 'Q1-Dataset/1080-0.txt': 152, 'Q1-Dataset/pg70817.txt': 722, 'Q1-Dataset/pg1998.txt': 1797}, 'printed': {'Q1-Dataset/pg1513.txt': 2, 'Q1-Dataset/2160-0.txt': 5, 'Q1-Dataset/pg11.txt': 3, 'Q1-Dataset/pg2600.txt': 9, 'Q1-Dataset/pg345.txt': 3, 'Q1-Dataset/pg64317.txt': 4, 'Q1-Dataset/pg70815.txt': 3, 'Q1-Dataset/1080-0.txt': 2, 'Q1-Dataset/pg70817.txt': 2, 'Q1-Dataset/pg1998.txt': 4}, 'fair': {'Q1-Dataset/pg1513.txt': 44, 'Q1-Dataset/2160-0.txt': 21, 'Q1-Dataset/pg11.txt': 1, 'Q1-Dataset/pg2600.txt': 15, 'Q1-Dataset/pg345.txt': 23, 'Q1-Dataset/pg64317.txt': 1, 'Q1-Dataset/pg70815.txt': 3, 'Q1-Dataset/1080-0.txt': 2, 'Q1-Dataset/pg70817.txt': 2, 'Q1-Dataset/pg1998.txt': 5}, 'better': {'Q1-Dataset/pg1513.txt': 12, 'Q1-Dataset/2160-0.txt': 46, 'Q1-Dataset/pg11.txt': 14, 'Q1-Dataset/pg2600.txt': 162, 'Q1-Dataset/pg345.txt': 77, 'Q1-Dataset/pg64317.txt': 18, 'Q1-Dataset/pg70815.txt': 29, 'Q1-Dataset/1080-0.txt': 1, 'Q1-Dataset/pg70817.txt': 11, 'Q1-Dataset/pg1998.txt': 60}, 'solicitation': {'Q1-Dataset/pg1513.txt': 1, 'Q1-Dataset/2160-0.txt': 2, 'Q1-Dataset/pg11.txt': 1, 'Q1-Dataset/pg2600.txt': 1, 'Q1-Dataset/pg345.txt': 1, 'Q1-Dataset/pg64317.txt': 1, 'Q1-Dataset/pg70815.txt': 1, 'Q1-Dataset/1080-0.txt': 1, 'Q1-Dataset/pg70817.txt': 1, 'Q1-Dataset/pg1998.txt': 1}, 'doubt': {'Q1-Dataset/pg1513.txt': 4, 'Q1-Dataset/2160-0.txt': 56, 'Q1-Dataset/pg11.txt': 4, 'Q1-Dataset/pg2600.txt': 60, 'Q1-Dataset/pg345.txt': 41, 'Q1-Dataset/pg64317.txt': 5, 'Q1-Dataset/pg70815.txt': 7, 'Q1-Dataset/1080-0.txt': 2, 'Q1-Dataset/pg70817.txt': 5, 'Q1-Dataset/pg1998.txt': 14}, 'computer': {'Q1-Dataset/pg1513.txt': 2, 'Q1-Dataset/2160-0.txt': 2, 'Q1-Dataset/pg11.txt': 2, 'Q1-Dataset/pg2600.txt': 2, 'Q1-Dataset/pg345.txt': 2, 'Q1-Dataset/pg64317.txt': 2, 'Q1-Dataset/pg70815.txt': 2, 'Q1-Dataset/1080-0.txt': 2, 'Q1-Dataset/pg70817.txt': 2, 'Q1-Dataset/pg1998.txt': 2}, 'royalties': {'Q1-Dataset/pg1513.txt': 3, 'Q1-Dataset/2160-0.txt': 2, 'Q1-Dataset/pg11.txt': 3, 'Q1-Dataset/pg2600.txt': 3, 'Q1-Dataset/pg345.txt': 3, 'Q1-Dataset/pg64317.txt': 3, 'Q1-Dataset/pg70815.txt': 3, 'Q1-Dataset/1080-0.txt': 3, 'Q1-Dataset/pg70817.txt': 3, 'Q1-Dataset/pg1998.txt': 3}, 'contributions': {'Q1-Dataset/pg1513.txt': 2, 'Q1-Dataset/2160-0.txt': 2, 'Q1-Dataset/pg11.txt': 2, 'Q1-Dataset/pg2600.txt': 5, 'Q1-Dataset/pg345.txt': 2, 'Q1-Dataset/pg64317.txt': 2, 'Q1-Dataset/pg70815.txt': 2, 'Q1-Dataset/1080-0.txt': 2, 'Q1-Dataset/pg70817.txt': 2, 'Q1-Dataset/pg1998.txt': 2}, 'derivative': {'Q1-Dataset/pg1513.txt': 3, 'Q1-Dataset/2160-0.txt': 3, 'Q1-Dataset/pg11.txt': 3, 'Q1-Dataset/pg2600.txt': 3, 'Q1-Dataset/pg345.txt': 3, 'Q1-Dataset/pg64317.txt': 3, 'Q1-Dataset/pg70815.txt': 3, 'Q1-Dataset/1080-0.txt': 3, 'Q1-Dataset/pg70817.txt': 3, 'Q1-Dataset/pg1998.txt': 3}, 'ways': {'Q1-Dataset/pg1513.txt': 3, 'Q1-Dataset/2160-0.txt': 7, 'Q1-Dataset/pg11.txt': 2, 'Q1-Dataset/pg2600.txt': 16, 'Q1-Dataset/pg345.txt': 20, 'Q1-Dataset/pg64317.txt': 2, 'Q1-Dataset/pg70815.txt': 5, 'Q1-Dataset/1080-0.txt': 1, 'Q1-Dataset/pg70817.txt': 2, 'Q1-Dataset/pg1998.txt': 12}, 'she': {'Q1-Dataset/pg1513.txt': 110, 'Q1-Dataset/2160-0.txt': 492, 'Q1-Dataset/pg11.txt': 535, 'Q1-Dataset/pg2600.txt': 3403, 'Q1-Dataset/pg345.txt': 811, 'Q1-Dataset/pg64317.txt': 371, 'Q1-Dataset/pg70815.txt': 333, 'Q1-Dataset/1080-0.txt': 2, 'Q1-Dataset/pg70817.txt': 286, 'Q1-Dataset/pg1998.txt': 47}, 'statements': {'Q1-Dataset/pg1513.txt': 1, 'Q1-Dataset/2160-0.txt': 1, 'Q1-Dataset/pg11.txt': 1, 'Q1-Dataset/pg2600.txt': 3, 'Q1-Dataset/pg345.txt': 1, 'Q1-Dataset/pg64317.txt': 1, 'Q1-Dataset/pg70815.txt': 2, 'Q1-Dataset/1080-0.txt': 1, 'Q1-Dataset/pg70817.txt': 1, 'Q1-Dataset/pg1998.txt': 1}, 'keep': {'Q1-Dataset/pg1513.txt': 18, 'Q1-Dataset/2160-0.txt': 59, 'Q1-Dataset/pg11.txt': 13, 'Q1-Dataset/pg2600.txt': 83, 'Q1-Dataset/pg345.txt': 98, 'Q1-Dataset/pg64317.txt': 13, 'Q1-Dataset/pg70815.txt': 12, 'Q1-Dataset/1080-0.txt': 2, 'Q1-Dataset/pg70817.txt': 11, 'Q1-Dataset/pg1998.txt': 29}, 'who': {'Q1-Dataset/pg1513.txt': 36, 'Q1-Dataset/2160-0.txt': 611, 'Q1-Dataset/pg11.txt': 65, 'Q1-Dataset/pg2600.txt': 2116, 'Q1-Dataset/pg345.txt': 285, 'Q1-Dataset/pg64317.txt': 113, 'Q1-Dataset/pg70815.txt': 166, 'Q1-Dataset/1080-0.txt': 27, 'Q1-Dataset/pg70817.txt': 20, 'Q1-Dataset/pg1998.txt': 538}, 'notifies': {'Q1-Dataset/pg1513.txt': 1, 'Q1-Dataset/2160-0.txt': 1, 'Q1-Dataset/pg11.txt': 1, 'Q1-Dataset/pg2600.txt': 1, 'Q1-Dataset/pg345.txt': 1, 'Q1-Dataset/pg64317.txt': 1, 'Q1-Dataset/pg70815.txt': 1, 'Q1-Dataset/1080-0.txt': 1, 'Q1-Dataset/pg70817.txt': 1, 'Q1-Dataset/pg1998.txt': 1}, 'day': {'Q1-Dataset/pg1513.txt': 45, 'Q1-Dataset/2160-0.txt': 125, 'Q1-Dataset/pg11.txt': 25, 'Q1-Dataset/pg2600.txt': 543, 'Q1-Dataset/pg345.txt': 156, 'Q1-Dataset/pg64317.txt': 43, 'Q1-Dataset/pg70815.txt': 14, 'Q1-Dataset/1080-0.txt': 3, 'Q1-Dataset/pg70817.txt': 21, 'Q1-Dataset/pg1998.txt': 106}, 'giving': {'Q1-Dataset/pg1513.txt': 2, 'Q1-Dataset/2160-0.txt': 22, 'Q1-Dataset/pg11.txt': 2, 'Q1-Dataset/pg2600.txt': 107, 'Q1-Dataset/pg345.txt': 5, 'Q1-Dataset/pg64317.txt': 3, 'Q1-Dataset/pg70815.txt': 1, 'Q1-Dataset/1080-0.txt': 1, 'Q1-Dataset/pg70817.txt': 2, 'Q1-Dataset/pg1998.txt': 11}, 'works': {'Q1-Dataset/pg1513.txt': 32, 'Q1-Dataset/2160-0.txt': 47, 'Q1-Dataset/pg11.txt': 33, 'Q1-Dataset/pg2600.txt': 37, 'Q1-Dataset/pg345.txt': 34, 'Q1-Dataset/pg64317.txt': 33, 'Q1-Dataset/pg70815.txt': 32, 'Q1-Dataset/1080-0.txt': 32, 'Q1-Dataset/pg70817.txt': 32, 'Q1-Dataset/pg1998.txt': 44}, 'containing': {'Q1-Dataset/pg1513.txt': 2, 'Q1-Dataset/2160-0.txt': 6, 'Q1-Dataset/pg11.txt': 1, 'Q1-Dataset/pg2600.txt': 14, 'Q1-Dataset/pg345.txt': 2, 'Q1-Dataset/pg64317.txt': 1, 'Q1-Dataset/pg70815.txt': 3, 'Q1-Dataset/1080-0.txt': 1, 'Q1-Dataset/pg70817.txt': 1, 'Q1-Dataset/pg1998.txt': 1}, 'attached': {'Q1-Dataset/pg1513.txt': 1, 'Q1-Dataset/2160-0.txt': 3, 'Q1-Dataset/pg11.txt': 1, 'Q1-Dataset/pg2600.txt': 23, 'Q1-Dataset/pg345.txt': 2, 'Q1-Dataset/pg64317.txt': 2, 'Q1-Dataset/pg70815.txt': 4, 'Q1-Dataset/1080-0.txt': 1, 'Q1-Dataset/pg70817.txt': 1, 'Q1-Dataset/pg1998.txt': 4}, 'need': {'Q1-Dataset/pg1513.txt': 11, 'Q1-Dataset/2160-0.txt': 12, 'Q1-Dataset/pg11.txt': 1, 'Q1-Dataset/pg2600.txt': 108, 'Q1-Dataset/pg345.txt': 69, 'Q1-Dataset/pg64317.txt': 4, 'Q1-Dataset/pg70815.txt': 14, 'Q1-Dataset/1080-0.txt': 1, 'Q1-Dataset/pg70817.txt': 2, 'Q1-Dataset/pg1998.txt': 22}, 'paragraphs': {'Q1-Dataset/pg1513.txt': 3, 'Q1-Dataset/2160-0.txt': 3, 'Q1-Dataset/pg11.txt': 3, 'Q1-Dataset/pg2600.txt': 5, 'Q1-Dataset/pg345.txt': 3, 'Q1-Dataset/pg64317.txt': 3, 'Q1-Dataset/pg70815.txt': 3, 'Q1-Dataset/1080-0.txt': 3, 'Q1-Dataset/pg70817.txt': 4, 'Q1-Dataset/pg1998.txt': 8}, 'through': {'Q1-Dataset/pg1513.txt': 10, 'Q1-Dataset/2160-0.txt': 75, 'Q1-Dataset/pg11.txt': 15, 'Q1-Dataset/pg2600.txt': 378, 'Q1-Dataset/pg345.txt': 214, 'Q1-Dataset/pg64317.txt': 68, 'Q1-Dataset/pg70815.txt': 107, 'Q1-Dataset/1080-0.txt': 5, 'Q1-Dataset/pg70817.txt': 43, 'Q1-Dataset/pg1998.txt': 76}, 'described': {'Q1-Dataset/pg1513.txt': 1, 'Q1-Dataset/2160-0.txt': 5, 'Q1-Dataset/pg11.txt': 1, 'Q1-Dataset/pg2600.txt': 31, 'Q1-Dataset/pg345.txt': 7, 'Q1-Dataset/pg64317.txt': 4, 'Q1-Dataset/pg70815.txt': 2, 'Q1-Dataset/1080-0.txt': 1, 'Q1-Dataset/pg70817.txt': 2, 'Q1-Dataset/pg1998.txt': 3}, 'professor': {'Q1-Dataset/pg1513.txt': 1, 'Q1-Dataset/2160-0.txt': 4, 'Q1-Dataset/pg11.txt': 1, 'Q1-Dataset/pg2600.txt': 2, 'Q1-Dataset/pg345.txt': 156, 'Q1-Dataset/pg64317.txt': 1, 'Q1-Dataset/pg70815.txt': 1, 'Q1-Dataset/1080-0.txt': 1, 'Q1-Dataset/pg70817.txt': 1, 'Q1-Dataset/pg1998.txt': 1}, 'damaged': {'Q1-Dataset/pg1513.txt': 1, 'Q1-Dataset/2160-0.txt': 5, 'Q1-Dataset/pg11.txt': 1, 'Q1-Dataset/pg2600.txt': 3, 'Q1-Dataset/pg345.txt': 1, 'Q1-Dataset/pg64317.txt': 1, 'Q1-Dataset/pg70815.txt': 1, 'Q1-Dataset/1080-0.txt': 1, 'Q1-Dataset/pg70817.txt': 2, 'Q1-Dataset/pg1998.txt': 1}, 'talk': {'Q1-Dataset/pg1513.txt': 12, 'Q1-Dataset/2160-0.txt': 11, 'Q1-Dataset/pg11.txt': 14, 'Q1-Dataset/pg2600.txt': 251, 'Q1-Dataset/pg345.txt': 34, 'Q1-Dataset/pg64317.txt': 12, 'Q1-Dataset/pg70815.txt': 5, 'Q1-Dataset/1080-0.txt': 2, 'Q1-Dataset/pg70817.txt': 3, 'Q1-Dataset/pg1998.txt': 34}, 'receive': {'Q1-Dataset/pg1513.txt': 3, 'Q1-Dataset/2160-0.txt': 24, 'Q1-Dataset/pg11.txt': 2, 'Q1-Dataset/pg2600.txt': 43, 'Q1-Dataset/pg345.txt': 6, 'Q1-Dataset/pg64317.txt': 2, 'Q1-Dataset/pg70815.txt': 5, 'Q1-Dataset/1080-0.txt': 2, 'Q1-Dataset/pg70817.txt': 2, 'Q1-Dataset/pg1998.txt': 5}, 'party': {'Q1-Dataset/pg1513.txt': 1, 'Q1-Dataset/2160-0.txt': 14, 'Q1-Dataset/pg11.txt': 9, 'Q1-Dataset/pg2600.txt': 70, 'Q1-Dataset/pg345.txt': 12, 'Q1-Dataset/pg64317.txt': 19, 'Q1-Dataset/pg70815.txt': 43, 'Q1-Dataset/1080-0.txt': 1, 'Q1-Dataset/pg70817.txt': 7, 'Q1-Dataset/pg1998.txt': 3}, 'given': {'Q1-Dataset/pg1513.txt': 1, 'Q1-Dataset/2160-0.txt': 54, 'Q1-Dataset/pg11.txt': 2, 'Q1-Dataset/pg2600.txt': 179, 'Q1-Dataset/pg345.txt': 43, 'Q1-Dataset/pg64317.txt': 8, 'Q1-Dataset/pg70815.txt': 15, 'Q1-Dataset/1080-0.txt': 1, 'Q1-Dataset/pg70817.txt': 4, 'Q1-Dataset/pg1998.txt': 37}}\n"
     ]
    }
   ],
   "source": [
    "print(f\"Frequencies of the words are :{common_words_frequency_dict}\")"
   ]
  },
  {
   "cell_type": "code",
   "execution_count": null,
   "metadata": {
    "colab": {
     "base_uri": "https://localhost:8080/",
     "height": 631
    },
    "id": "_sFM6Fxgyoid",
    "outputId": "6e5ae7a9-dccb-400b-8203-85dbfd705de5"
   },
   "outputs": [
    {
     "name": "stdout",
     "output_type": "stream",
     "text": [
      "Frequencies of the words in tabuler format\n"
     ]
    },
    {
     "data": {
      "text/html": [
       "\n",
       "  <div id=\"df-1b413f7c-f32a-47b4-92dd-fc3b1c77ca05\">\n",
       "    <div class=\"colab-df-container\">\n",
       "      <div>\n",
       "<style scoped>\n",
       "    .dataframe tbody tr th:only-of-type {\n",
       "        vertical-align: middle;\n",
       "    }\n",
       "\n",
       "    .dataframe tbody tr th {\n",
       "        vertical-align: top;\n",
       "    }\n",
       "\n",
       "    .dataframe thead th {\n",
       "        text-align: right;\n",
       "    }\n",
       "</style>\n",
       "<table border=\"1\" class=\"dataframe\">\n",
       "  <thead>\n",
       "    <tr style=\"text-align: right;\">\n",
       "      <th></th>\n",
       "      <th>rather</th>\n",
       "      <th>references</th>\n",
       "      <th>two</th>\n",
       "      <th>immediate</th>\n",
       "      <th>family</th>\n",
       "      <th>of</th>\n",
       "      <th>accessible</th>\n",
       "      <th>ago</th>\n",
       "      <th>away</th>\n",
       "      <th>official</th>\n",
       "      <th>...</th>\n",
       "      <th>need</th>\n",
       "      <th>paragraphs</th>\n",
       "      <th>through</th>\n",
       "      <th>described</th>\n",
       "      <th>professor</th>\n",
       "      <th>damaged</th>\n",
       "      <th>talk</th>\n",
       "      <th>receive</th>\n",
       "      <th>party</th>\n",
       "      <th>given</th>\n",
       "    </tr>\n",
       "  </thead>\n",
       "  <tbody>\n",
       "    <tr>\n",
       "      <th>Q1-Dataset/pg1513.txt</th>\n",
       "      <td>4</td>\n",
       "      <td>2</td>\n",
       "      <td>20</td>\n",
       "      <td>2</td>\n",
       "      <td>2</td>\n",
       "      <td>518</td>\n",
       "      <td>1</td>\n",
       "      <td>2</td>\n",
       "      <td>25</td>\n",
       "      <td>3</td>\n",
       "      <td>...</td>\n",
       "      <td>11</td>\n",
       "      <td>3</td>\n",
       "      <td>10</td>\n",
       "      <td>1</td>\n",
       "      <td>1</td>\n",
       "      <td>1</td>\n",
       "      <td>12</td>\n",
       "      <td>3</td>\n",
       "      <td>1</td>\n",
       "      <td>1</td>\n",
       "    </tr>\n",
       "    <tr>\n",
       "      <th>Q1-Dataset/2160-0.txt</th>\n",
       "      <td>43</td>\n",
       "      <td>2</td>\n",
       "      <td>144</td>\n",
       "      <td>12</td>\n",
       "      <td>113</td>\n",
       "      <td>5676</td>\n",
       "      <td>2</td>\n",
       "      <td>45</td>\n",
       "      <td>51</td>\n",
       "      <td>3</td>\n",
       "      <td>...</td>\n",
       "      <td>12</td>\n",
       "      <td>3</td>\n",
       "      <td>75</td>\n",
       "      <td>5</td>\n",
       "      <td>4</td>\n",
       "      <td>5</td>\n",
       "      <td>11</td>\n",
       "      <td>24</td>\n",
       "      <td>14</td>\n",
       "      <td>54</td>\n",
       "    </tr>\n",
       "    <tr>\n",
       "      <th>Q1-Dataset/pg11.txt</th>\n",
       "      <td>25</td>\n",
       "      <td>2</td>\n",
       "      <td>37</td>\n",
       "      <td>3</td>\n",
       "      <td>1</td>\n",
       "      <td>632</td>\n",
       "      <td>1</td>\n",
       "      <td>2</td>\n",
       "      <td>27</td>\n",
       "      <td>3</td>\n",
       "      <td>...</td>\n",
       "      <td>1</td>\n",
       "      <td>3</td>\n",
       "      <td>15</td>\n",
       "      <td>1</td>\n",
       "      <td>1</td>\n",
       "      <td>1</td>\n",
       "      <td>14</td>\n",
       "      <td>2</td>\n",
       "      <td>9</td>\n",
       "      <td>2</td>\n",
       "    </tr>\n",
       "    <tr>\n",
       "      <th>Q1-Dataset/pg2600.txt</th>\n",
       "      <td>88</td>\n",
       "      <td>2</td>\n",
       "      <td>587</td>\n",
       "      <td>10</td>\n",
       "      <td>135</td>\n",
       "      <td>14994</td>\n",
       "      <td>4</td>\n",
       "      <td>74</td>\n",
       "      <td>613</td>\n",
       "      <td>33</td>\n",
       "      <td>...</td>\n",
       "      <td>108</td>\n",
       "      <td>5</td>\n",
       "      <td>378</td>\n",
       "      <td>31</td>\n",
       "      <td>2</td>\n",
       "      <td>3</td>\n",
       "      <td>251</td>\n",
       "      <td>43</td>\n",
       "      <td>70</td>\n",
       "      <td>179</td>\n",
       "    </tr>\n",
       "    <tr>\n",
       "      <th>Q1-Dataset/pg345.txt</th>\n",
       "      <td>25</td>\n",
       "      <td>2</td>\n",
       "      <td>128</td>\n",
       "      <td>6</td>\n",
       "      <td>3</td>\n",
       "      <td>3746</td>\n",
       "      <td>1</td>\n",
       "      <td>26</td>\n",
       "      <td>187</td>\n",
       "      <td>6</td>\n",
       "      <td>...</td>\n",
       "      <td>69</td>\n",
       "      <td>3</td>\n",
       "      <td>214</td>\n",
       "      <td>7</td>\n",
       "      <td>156</td>\n",
       "      <td>1</td>\n",
       "      <td>34</td>\n",
       "      <td>6</td>\n",
       "      <td>12</td>\n",
       "      <td>43</td>\n",
       "    </tr>\n",
       "    <tr>\n",
       "      <th>Q1-Dataset/pg64317.txt</th>\n",
       "      <td>25</td>\n",
       "      <td>2</td>\n",
       "      <td>72</td>\n",
       "      <td>5</td>\n",
       "      <td>13</td>\n",
       "      <td>1233</td>\n",
       "      <td>1</td>\n",
       "      <td>19</td>\n",
       "      <td>76</td>\n",
       "      <td>4</td>\n",
       "      <td>...</td>\n",
       "      <td>4</td>\n",
       "      <td>3</td>\n",
       "      <td>68</td>\n",
       "      <td>4</td>\n",
       "      <td>1</td>\n",
       "      <td>1</td>\n",
       "      <td>12</td>\n",
       "      <td>2</td>\n",
       "      <td>19</td>\n",
       "      <td>8</td>\n",
       "    </tr>\n",
       "    <tr>\n",
       "      <th>Q1-Dataset/pg70815.txt</th>\n",
       "      <td>15</td>\n",
       "      <td>2</td>\n",
       "      <td>118</td>\n",
       "      <td>7</td>\n",
       "      <td>1</td>\n",
       "      <td>3108</td>\n",
       "      <td>1</td>\n",
       "      <td>6</td>\n",
       "      <td>71</td>\n",
       "      <td>4</td>\n",
       "      <td>...</td>\n",
       "      <td>14</td>\n",
       "      <td>3</td>\n",
       "      <td>107</td>\n",
       "      <td>2</td>\n",
       "      <td>1</td>\n",
       "      <td>1</td>\n",
       "      <td>5</td>\n",
       "      <td>5</td>\n",
       "      <td>43</td>\n",
       "      <td>15</td>\n",
       "    </tr>\n",
       "    <tr>\n",
       "      <th>Q1-Dataset/1080-0.txt</th>\n",
       "      <td>2</td>\n",
       "      <td>2</td>\n",
       "      <td>8</td>\n",
       "      <td>2</td>\n",
       "      <td>2</td>\n",
       "      <td>261</td>\n",
       "      <td>1</td>\n",
       "      <td>1</td>\n",
       "      <td>3</td>\n",
       "      <td>3</td>\n",
       "      <td>...</td>\n",
       "      <td>1</td>\n",
       "      <td>3</td>\n",
       "      <td>5</td>\n",
       "      <td>1</td>\n",
       "      <td>1</td>\n",
       "      <td>1</td>\n",
       "      <td>2</td>\n",
       "      <td>2</td>\n",
       "      <td>1</td>\n",
       "      <td>1</td>\n",
       "    </tr>\n",
       "    <tr>\n",
       "      <th>Q1-Dataset/pg70817.txt</th>\n",
       "      <td>10</td>\n",
       "      <td>2</td>\n",
       "      <td>26</td>\n",
       "      <td>6</td>\n",
       "      <td>3</td>\n",
       "      <td>769</td>\n",
       "      <td>1</td>\n",
       "      <td>8</td>\n",
       "      <td>35</td>\n",
       "      <td>3</td>\n",
       "      <td>...</td>\n",
       "      <td>2</td>\n",
       "      <td>4</td>\n",
       "      <td>43</td>\n",
       "      <td>2</td>\n",
       "      <td>1</td>\n",
       "      <td>2</td>\n",
       "      <td>3</td>\n",
       "      <td>2</td>\n",
       "      <td>7</td>\n",
       "      <td>4</td>\n",
       "    </tr>\n",
       "    <tr>\n",
       "      <th>Q1-Dataset/pg1998.txt</th>\n",
       "      <td>40</td>\n",
       "      <td>2</td>\n",
       "      <td>47</td>\n",
       "      <td>3</td>\n",
       "      <td>1</td>\n",
       "      <td>2895</td>\n",
       "      <td>1</td>\n",
       "      <td>6</td>\n",
       "      <td>116</td>\n",
       "      <td>3</td>\n",
       "      <td>...</td>\n",
       "      <td>22</td>\n",
       "      <td>8</td>\n",
       "      <td>76</td>\n",
       "      <td>3</td>\n",
       "      <td>1</td>\n",
       "      <td>1</td>\n",
       "      <td>34</td>\n",
       "      <td>5</td>\n",
       "      <td>3</td>\n",
       "      <td>37</td>\n",
       "    </tr>\n",
       "  </tbody>\n",
       "</table>\n",
       "<p>10 rows × 816 columns</p>\n",
       "</div>\n",
       "      <button class=\"colab-df-convert\" onclick=\"convertToInteractive('df-1b413f7c-f32a-47b4-92dd-fc3b1c77ca05')\"\n",
       "              title=\"Convert this dataframe to an interactive table.\"\n",
       "              style=\"display:none;\">\n",
       "        \n",
       "  <svg xmlns=\"http://www.w3.org/2000/svg\" height=\"24px\"viewBox=\"0 0 24 24\"\n",
       "       width=\"24px\">\n",
       "    <path d=\"M0 0h24v24H0V0z\" fill=\"none\"/>\n",
       "    <path d=\"M18.56 5.44l.94 2.06.94-2.06 2.06-.94-2.06-.94-.94-2.06-.94 2.06-2.06.94zm-11 1L8.5 8.5l.94-2.06 2.06-.94-2.06-.94L8.5 2.5l-.94 2.06-2.06.94zm10 10l.94 2.06.94-2.06 2.06-.94-2.06-.94-.94-2.06-.94 2.06-2.06.94z\"/><path d=\"M17.41 7.96l-1.37-1.37c-.4-.4-.92-.59-1.43-.59-.52 0-1.04.2-1.43.59L10.3 9.45l-7.72 7.72c-.78.78-.78 2.05 0 2.83L4 21.41c.39.39.9.59 1.41.59.51 0 1.02-.2 1.41-.59l7.78-7.78 2.81-2.81c.8-.78.8-2.07 0-2.86zM5.41 20L4 18.59l7.72-7.72 1.47 1.35L5.41 20z\"/>\n",
       "  </svg>\n",
       "      </button>\n",
       "      \n",
       "  <style>\n",
       "    .colab-df-container {\n",
       "      display:flex;\n",
       "      flex-wrap:wrap;\n",
       "      gap: 12px;\n",
       "    }\n",
       "\n",
       "    .colab-df-convert {\n",
       "      background-color: #E8F0FE;\n",
       "      border: none;\n",
       "      border-radius: 50%;\n",
       "      cursor: pointer;\n",
       "      display: none;\n",
       "      fill: #1967D2;\n",
       "      height: 32px;\n",
       "      padding: 0 0 0 0;\n",
       "      width: 32px;\n",
       "    }\n",
       "\n",
       "    .colab-df-convert:hover {\n",
       "      background-color: #E2EBFA;\n",
       "      box-shadow: 0px 1px 2px rgba(60, 64, 67, 0.3), 0px 1px 3px 1px rgba(60, 64, 67, 0.15);\n",
       "      fill: #174EA6;\n",
       "    }\n",
       "\n",
       "    [theme=dark] .colab-df-convert {\n",
       "      background-color: #3B4455;\n",
       "      fill: #D2E3FC;\n",
       "    }\n",
       "\n",
       "    [theme=dark] .colab-df-convert:hover {\n",
       "      background-color: #434B5C;\n",
       "      box-shadow: 0px 1px 3px 1px rgba(0, 0, 0, 0.15);\n",
       "      filter: drop-shadow(0px 1px 2px rgba(0, 0, 0, 0.3));\n",
       "      fill: #FFFFFF;\n",
       "    }\n",
       "  </style>\n",
       "\n",
       "      <script>\n",
       "        const buttonEl =\n",
       "          document.querySelector('#df-1b413f7c-f32a-47b4-92dd-fc3b1c77ca05 button.colab-df-convert');\n",
       "        buttonEl.style.display =\n",
       "          google.colab.kernel.accessAllowed ? 'block' : 'none';\n",
       "\n",
       "        async function convertToInteractive(key) {\n",
       "          const element = document.querySelector('#df-1b413f7c-f32a-47b4-92dd-fc3b1c77ca05');\n",
       "          const dataTable =\n",
       "            await google.colab.kernel.invokeFunction('convertToInteractive',\n",
       "                                                     [key], {});\n",
       "          if (!dataTable) return;\n",
       "\n",
       "          const docLinkHtml = 'Like what you see? Visit the ' +\n",
       "            '<a target=\"_blank\" href=https://colab.research.google.com/notebooks/data_table.ipynb>data table notebook</a>'\n",
       "            + ' to learn more about interactive tables.';\n",
       "          element.innerHTML = '';\n",
       "          dataTable['output_type'] = 'display_data';\n",
       "          await google.colab.output.renderOutput(dataTable, element);\n",
       "          const docLink = document.createElement('div');\n",
       "          docLink.innerHTML = docLinkHtml;\n",
       "          element.appendChild(docLink);\n",
       "        }\n",
       "      </script>\n",
       "    </div>\n",
       "  </div>\n",
       "  "
      ],
      "text/plain": [
       "                        rather  references  two  immediate  family     of  \\\n",
       "Q1-Dataset/pg1513.txt        4           2   20          2       2    518   \n",
       "Q1-Dataset/2160-0.txt       43           2  144         12     113   5676   \n",
       "Q1-Dataset/pg11.txt         25           2   37          3       1    632   \n",
       "Q1-Dataset/pg2600.txt       88           2  587         10     135  14994   \n",
       "Q1-Dataset/pg345.txt        25           2  128          6       3   3746   \n",
       "Q1-Dataset/pg64317.txt      25           2   72          5      13   1233   \n",
       "Q1-Dataset/pg70815.txt      15           2  118          7       1   3108   \n",
       "Q1-Dataset/1080-0.txt        2           2    8          2       2    261   \n",
       "Q1-Dataset/pg70817.txt      10           2   26          6       3    769   \n",
       "Q1-Dataset/pg1998.txt       40           2   47          3       1   2895   \n",
       "\n",
       "                        accessible  ago  away  official  ...  need  \\\n",
       "Q1-Dataset/pg1513.txt            1    2    25         3  ...    11   \n",
       "Q1-Dataset/2160-0.txt            2   45    51         3  ...    12   \n",
       "Q1-Dataset/pg11.txt              1    2    27         3  ...     1   \n",
       "Q1-Dataset/pg2600.txt            4   74   613        33  ...   108   \n",
       "Q1-Dataset/pg345.txt             1   26   187         6  ...    69   \n",
       "Q1-Dataset/pg64317.txt           1   19    76         4  ...     4   \n",
       "Q1-Dataset/pg70815.txt           1    6    71         4  ...    14   \n",
       "Q1-Dataset/1080-0.txt            1    1     3         3  ...     1   \n",
       "Q1-Dataset/pg70817.txt           1    8    35         3  ...     2   \n",
       "Q1-Dataset/pg1998.txt            1    6   116         3  ...    22   \n",
       "\n",
       "                        paragraphs  through  described  professor  damaged  \\\n",
       "Q1-Dataset/pg1513.txt            3       10          1          1        1   \n",
       "Q1-Dataset/2160-0.txt            3       75          5          4        5   \n",
       "Q1-Dataset/pg11.txt              3       15          1          1        1   \n",
       "Q1-Dataset/pg2600.txt            5      378         31          2        3   \n",
       "Q1-Dataset/pg345.txt             3      214          7        156        1   \n",
       "Q1-Dataset/pg64317.txt           3       68          4          1        1   \n",
       "Q1-Dataset/pg70815.txt           3      107          2          1        1   \n",
       "Q1-Dataset/1080-0.txt            3        5          1          1        1   \n",
       "Q1-Dataset/pg70817.txt           4       43          2          1        2   \n",
       "Q1-Dataset/pg1998.txt            8       76          3          1        1   \n",
       "\n",
       "                        talk  receive  party  given  \n",
       "Q1-Dataset/pg1513.txt     12        3      1      1  \n",
       "Q1-Dataset/2160-0.txt     11       24     14     54  \n",
       "Q1-Dataset/pg11.txt       14        2      9      2  \n",
       "Q1-Dataset/pg2600.txt    251       43     70    179  \n",
       "Q1-Dataset/pg345.txt      34        6     12     43  \n",
       "Q1-Dataset/pg64317.txt    12        2     19      8  \n",
       "Q1-Dataset/pg70815.txt     5        5     43     15  \n",
       "Q1-Dataset/1080-0.txt      2        2      1      1  \n",
       "Q1-Dataset/pg70817.txt     3        2      7      4  \n",
       "Q1-Dataset/pg1998.txt     34        5      3     37  \n",
       "\n",
       "[10 rows x 816 columns]"
      ]
     },
     "metadata": {},
     "output_type": "display_data"
    }
   ],
   "source": [
    "print('Frequencies of the words in tabuler format')\n",
    "words = pd.DataFrame.from_dict(common_words_frequency_dict, orient = 'columns')\n",
    "display(words)\n",
    "words.to_excel('words.xlsx')"
   ]
  },
  {
   "cell_type": "code",
   "execution_count": null,
   "metadata": {
    "id": "t-wkryhQxqkC"
   },
   "outputs": [],
   "source": [
    "spark_context.stop()"
   ]
  },
  {
   "cell_type": "markdown",
   "metadata": {
    "id": "JwJakxK2zKJ7"
   },
   "source": [
    "# Conclusion of Question 2: \n",
    "#### To consider as a valid word we are not considering any special character and number, hence we are considering only the alphabet.\n",
    "\n",
    "#### There are 816 common words available and there corresponding frequency of occurance in different files are displayed in tabuler format."
   ]
  },
  {
   "cell_type": "markdown",
   "metadata": {
    "id": "dZXBV49fvEmU"
   },
   "source": [
    "# Question: 03\n",
    "\n",
    "Perform an exploratory data analysis on the primary_data.csv of the Mushroom dataset [Secondary Mushroom Dataset](https://archive.ics.uci.edu/ml/datasets/Secondary+Mushroom+Dataset) using pandas and answer the following questions:\n",
    "  - How many mushrooms are poisonous?\n",
    "  - Which family contains most poisonous mushrooms?\n",
    "  - Do all poisonous mushrooms have a ring?\n",
    "  - Which seasons do poisonous mushrooms grow typically?"
   ]
  },
  {
   "cell_type": "markdown",
   "metadata": {
    "id": "dBGIFsUpvEmU"
   },
   "source": [
    "## Answer: 03"
   ]
  },
  {
   "cell_type": "markdown",
   "metadata": {
    "id": "7AAJ78UavEmU"
   },
   "source": [
    "#### Importing Libraries"
   ]
  },
  {
   "cell_type": "code",
   "execution_count": null,
   "metadata": {
    "id": "c9_XiGanvEmU"
   },
   "outputs": [],
   "source": [
    "import numpy as np\n",
    "import pandas as pd\n",
    "import matplotlib.pyplot as plt\n",
    "import seaborn as sns\n",
    "import os"
   ]
  },
  {
   "cell_type": "markdown",
   "metadata": {
    "id": "j0asaLAyvEmU"
   },
   "source": [
    "#### Common Variables"
   ]
  },
  {
   "cell_type": "code",
   "execution_count": null,
   "metadata": {
    "id": "J7-aeHGyvEmU"
   },
   "outputs": [],
   "source": [
    "working_dir_path = '/content/sample_data/Assignment 1/Q3-Dataset/MushroomDataset'#'C:/Users/Admin/Coding-M-Tech/AI Lab 2 - ID5003W/Assignment 1/Q3-Dataset/MushroomDataset'\n",
    "primaryFileName = 'primary_data.csv'\n",
    "Q3basePath = '/content/sample_data/Assignment 1'"
   ]
  },
  {
   "cell_type": "markdown",
   "metadata": {
    "id": "MC7vUa9QyO0q"
   },
   "source": [
    "#### File and folder operation"
   ]
  },
  {
   "cell_type": "code",
   "execution_count": null,
   "metadata": {
    "colab": {
     "base_uri": "https://localhost:8080/"
    },
    "id": "SZIZVzE2oVev",
    "outputId": "07aa4eff-7d07-4fdf-d03a-0c6f8c0c7cb5"
   },
   "outputs": [
    {
     "name": "stdout",
     "output_type": "stream",
     "text": [
      "mkdir: cannot create directory ‘Q3-Dataset’: File exists\n",
      "mkdir: cannot create directory ‘MushroomDataset’: File exists\n"
     ]
    }
   ],
   "source": [
    "os.chdir(Q3basePath)\n",
    "!mkdir Q3-Dataset\n",
    "os.chdir(Q3basePath+'/Q3-Dataset/')\n",
    "!mkdir MushroomDataset"
   ]
  },
  {
   "cell_type": "markdown",
   "metadata": {
    "id": "zUYK0dn2yUHQ"
   },
   "source": [
    "#### Upload the necessary file inside the Q3-Dataset/MushroomDataset folder before proceeding for further operation"
   ]
  },
  {
   "cell_type": "markdown",
   "metadata": {
    "id": "haB6LrykvEmU"
   },
   "source": [
    "#### Change the folder location "
   ]
  },
  {
   "cell_type": "code",
   "execution_count": null,
   "metadata": {
    "id": "PwH32Z5HvEmV"
   },
   "outputs": [],
   "source": [
    "os.chdir(working_dir_path)"
   ]
  },
  {
   "cell_type": "markdown",
   "metadata": {
    "id": "JeCmkaK4vEmV"
   },
   "source": [
    "#### Loading primary data"
   ]
  },
  {
   "cell_type": "code",
   "execution_count": null,
   "metadata": {
    "id": "ZRXEXS4ovEmV"
   },
   "outputs": [],
   "source": [
    "df_primary_data = pd.read_csv(primaryFileName,sep=';')"
   ]
  },
  {
   "cell_type": "code",
   "execution_count": null,
   "metadata": {
    "colab": {
     "base_uri": "https://localhost:8080/",
     "height": 728
    },
    "id": "-N3phpkmvEmV",
    "outputId": "d9a241df-224e-40a2-cb92-8acc46ee99e1"
   },
   "outputs": [
    {
     "data": {
      "text/html": [
       "\n",
       "  <div id=\"df-5ff1110a-a7fe-4c20-ab3e-e53dedfb5b2e\">\n",
       "    <div class=\"colab-df-container\">\n",
       "      <div>\n",
       "<style scoped>\n",
       "    .dataframe tbody tr th:only-of-type {\n",
       "        vertical-align: middle;\n",
       "    }\n",
       "\n",
       "    .dataframe tbody tr th {\n",
       "        vertical-align: top;\n",
       "    }\n",
       "\n",
       "    .dataframe thead th {\n",
       "        text-align: right;\n",
       "    }\n",
       "</style>\n",
       "<table border=\"1\" class=\"dataframe\">\n",
       "  <thead>\n",
       "    <tr style=\"text-align: right;\">\n",
       "      <th></th>\n",
       "      <th>family</th>\n",
       "      <th>name</th>\n",
       "      <th>class</th>\n",
       "      <th>cap-diameter</th>\n",
       "      <th>cap-shape</th>\n",
       "      <th>Cap-surface</th>\n",
       "      <th>cap-color</th>\n",
       "      <th>does-bruise-or-bleed</th>\n",
       "      <th>gill-attachment</th>\n",
       "      <th>gill-spacing</th>\n",
       "      <th>...</th>\n",
       "      <th>stem-root</th>\n",
       "      <th>stem-surface</th>\n",
       "      <th>stem-color</th>\n",
       "      <th>veil-type</th>\n",
       "      <th>veil-color</th>\n",
       "      <th>has-ring</th>\n",
       "      <th>ring-type</th>\n",
       "      <th>Spore-print-color</th>\n",
       "      <th>habitat</th>\n",
       "      <th>season</th>\n",
       "    </tr>\n",
       "  </thead>\n",
       "  <tbody>\n",
       "    <tr>\n",
       "      <th>0</th>\n",
       "      <td>Amanita Family</td>\n",
       "      <td>Fly Agaric</td>\n",
       "      <td>p</td>\n",
       "      <td>[10, 20]</td>\n",
       "      <td>[x, f]</td>\n",
       "      <td>[g, h]</td>\n",
       "      <td>[e, o]</td>\n",
       "      <td>[f]</td>\n",
       "      <td>[e]</td>\n",
       "      <td>NaN</td>\n",
       "      <td>...</td>\n",
       "      <td>[s]</td>\n",
       "      <td>[y]</td>\n",
       "      <td>[w]</td>\n",
       "      <td>[u]</td>\n",
       "      <td>[w]</td>\n",
       "      <td>[t]</td>\n",
       "      <td>[g, p]</td>\n",
       "      <td>NaN</td>\n",
       "      <td>[d]</td>\n",
       "      <td>[u, a, w]</td>\n",
       "    </tr>\n",
       "    <tr>\n",
       "      <th>1</th>\n",
       "      <td>Amanita Family</td>\n",
       "      <td>Panther Cap</td>\n",
       "      <td>p</td>\n",
       "      <td>[5, 10]</td>\n",
       "      <td>[p, x]</td>\n",
       "      <td>[g]</td>\n",
       "      <td>[n]</td>\n",
       "      <td>[f]</td>\n",
       "      <td>[e]</td>\n",
       "      <td>NaN</td>\n",
       "      <td>...</td>\n",
       "      <td>NaN</td>\n",
       "      <td>[y]</td>\n",
       "      <td>[w]</td>\n",
       "      <td>[u]</td>\n",
       "      <td>[w]</td>\n",
       "      <td>[t]</td>\n",
       "      <td>[p]</td>\n",
       "      <td>NaN</td>\n",
       "      <td>[d]</td>\n",
       "      <td>[u, a]</td>\n",
       "    </tr>\n",
       "    <tr>\n",
       "      <th>2</th>\n",
       "      <td>Amanita Family</td>\n",
       "      <td>False Panther Cap</td>\n",
       "      <td>p</td>\n",
       "      <td>[10, 15]</td>\n",
       "      <td>[x, f]</td>\n",
       "      <td>NaN</td>\n",
       "      <td>[g, n]</td>\n",
       "      <td>[f]</td>\n",
       "      <td>[e]</td>\n",
       "      <td>NaN</td>\n",
       "      <td>...</td>\n",
       "      <td>NaN</td>\n",
       "      <td>NaN</td>\n",
       "      <td>[w]</td>\n",
       "      <td>[u]</td>\n",
       "      <td>[w]</td>\n",
       "      <td>[t]</td>\n",
       "      <td>[e, g]</td>\n",
       "      <td>NaN</td>\n",
       "      <td>[d]</td>\n",
       "      <td>[u, a]</td>\n",
       "    </tr>\n",
       "    <tr>\n",
       "      <th>3</th>\n",
       "      <td>Amanita Family</td>\n",
       "      <td>The Blusher</td>\n",
       "      <td>e</td>\n",
       "      <td>[5, 15]</td>\n",
       "      <td>[x, f]</td>\n",
       "      <td>NaN</td>\n",
       "      <td>[n]</td>\n",
       "      <td>[t]</td>\n",
       "      <td>NaN</td>\n",
       "      <td>NaN</td>\n",
       "      <td>...</td>\n",
       "      <td>[b]</td>\n",
       "      <td>NaN</td>\n",
       "      <td>[w]</td>\n",
       "      <td>[u]</td>\n",
       "      <td>[w]</td>\n",
       "      <td>[t]</td>\n",
       "      <td>[g]</td>\n",
       "      <td>NaN</td>\n",
       "      <td>[d]</td>\n",
       "      <td>[u, a]</td>\n",
       "    </tr>\n",
       "    <tr>\n",
       "      <th>4</th>\n",
       "      <td>Amanita Family</td>\n",
       "      <td>Death Cap</td>\n",
       "      <td>p</td>\n",
       "      <td>[5, 12]</td>\n",
       "      <td>[x, f]</td>\n",
       "      <td>[h]</td>\n",
       "      <td>[r]</td>\n",
       "      <td>[f]</td>\n",
       "      <td>NaN</td>\n",
       "      <td>[c]</td>\n",
       "      <td>...</td>\n",
       "      <td>NaN</td>\n",
       "      <td>NaN</td>\n",
       "      <td>[w]</td>\n",
       "      <td>[u]</td>\n",
       "      <td>[w]</td>\n",
       "      <td>[t]</td>\n",
       "      <td>[g, p]</td>\n",
       "      <td>NaN</td>\n",
       "      <td>[d]</td>\n",
       "      <td>[u, a]</td>\n",
       "    </tr>\n",
       "    <tr>\n",
       "      <th>...</th>\n",
       "      <td>...</td>\n",
       "      <td>...</td>\n",
       "      <td>...</td>\n",
       "      <td>...</td>\n",
       "      <td>...</td>\n",
       "      <td>...</td>\n",
       "      <td>...</td>\n",
       "      <td>...</td>\n",
       "      <td>...</td>\n",
       "      <td>...</td>\n",
       "      <td>...</td>\n",
       "      <td>...</td>\n",
       "      <td>...</td>\n",
       "      <td>...</td>\n",
       "      <td>...</td>\n",
       "      <td>...</td>\n",
       "      <td>...</td>\n",
       "      <td>...</td>\n",
       "      <td>...</td>\n",
       "      <td>...</td>\n",
       "      <td>...</td>\n",
       "    </tr>\n",
       "    <tr>\n",
       "      <th>168</th>\n",
       "      <td>Saddle-Cup Family</td>\n",
       "      <td>White Saddle</td>\n",
       "      <td>p</td>\n",
       "      <td>[2, 6]</td>\n",
       "      <td>[o]</td>\n",
       "      <td>NaN</td>\n",
       "      <td>[w]</td>\n",
       "      <td>[f]</td>\n",
       "      <td>[f]</td>\n",
       "      <td>[f]</td>\n",
       "      <td>...</td>\n",
       "      <td>NaN</td>\n",
       "      <td>[g]</td>\n",
       "      <td>[w]</td>\n",
       "      <td>NaN</td>\n",
       "      <td>NaN</td>\n",
       "      <td>[t]</td>\n",
       "      <td>[f]</td>\n",
       "      <td>NaN</td>\n",
       "      <td>[p, d]</td>\n",
       "      <td>[u, a]</td>\n",
       "    </tr>\n",
       "    <tr>\n",
       "      <th>169</th>\n",
       "      <td>Bracket Fungi</td>\n",
       "      <td>Elfin's Saddle</td>\n",
       "      <td>p</td>\n",
       "      <td>[2, 4]</td>\n",
       "      <td>[o]</td>\n",
       "      <td>NaN</td>\n",
       "      <td>[g, k]</td>\n",
       "      <td>[f]</td>\n",
       "      <td>[f]</td>\n",
       "      <td>[f]</td>\n",
       "      <td>...</td>\n",
       "      <td>NaN</td>\n",
       "      <td>[g]</td>\n",
       "      <td>[g, n]</td>\n",
       "      <td>NaN</td>\n",
       "      <td>NaN</td>\n",
       "      <td>[f]</td>\n",
       "      <td>[f]</td>\n",
       "      <td>NaN</td>\n",
       "      <td>[d]</td>\n",
       "      <td>[u, a]</td>\n",
       "    </tr>\n",
       "    <tr>\n",
       "      <th>170</th>\n",
       "      <td>Bracket Fungi</td>\n",
       "      <td>Turban Fungus</td>\n",
       "      <td>p</td>\n",
       "      <td>[5, 15]</td>\n",
       "      <td>[o]</td>\n",
       "      <td>NaN</td>\n",
       "      <td>[n, e]</td>\n",
       "      <td>[f]</td>\n",
       "      <td>[f]</td>\n",
       "      <td>[f]</td>\n",
       "      <td>...</td>\n",
       "      <td>NaN</td>\n",
       "      <td>[g]</td>\n",
       "      <td>[n]</td>\n",
       "      <td>NaN</td>\n",
       "      <td>NaN</td>\n",
       "      <td>[f]</td>\n",
       "      <td>[f]</td>\n",
       "      <td>NaN</td>\n",
       "      <td>[d]</td>\n",
       "      <td>[s, u]</td>\n",
       "    </tr>\n",
       "    <tr>\n",
       "      <th>171</th>\n",
       "      <td>Morel Family</td>\n",
       "      <td>Common Morel</td>\n",
       "      <td>e</td>\n",
       "      <td>[3, 8]</td>\n",
       "      <td>[p, c, o]</td>\n",
       "      <td>NaN</td>\n",
       "      <td>[n, g]</td>\n",
       "      <td>[f]</td>\n",
       "      <td>[f]</td>\n",
       "      <td>[f]</td>\n",
       "      <td>...</td>\n",
       "      <td>NaN</td>\n",
       "      <td>NaN</td>\n",
       "      <td>[n]</td>\n",
       "      <td>NaN</td>\n",
       "      <td>NaN</td>\n",
       "      <td>[f]</td>\n",
       "      <td>[f]</td>\n",
       "      <td>NaN</td>\n",
       "      <td>[l, d]</td>\n",
       "      <td>[s]</td>\n",
       "    </tr>\n",
       "    <tr>\n",
       "      <th>172</th>\n",
       "      <td>Jelly Discs Family</td>\n",
       "      <td>Jelly Babies</td>\n",
       "      <td>p</td>\n",
       "      <td>[1, 1.5]</td>\n",
       "      <td>[x, f, s]</td>\n",
       "      <td>[s]</td>\n",
       "      <td>[y]</td>\n",
       "      <td>[f]</td>\n",
       "      <td>[f]</td>\n",
       "      <td>[f]</td>\n",
       "      <td>...</td>\n",
       "      <td>NaN</td>\n",
       "      <td>NaN</td>\n",
       "      <td>[y]</td>\n",
       "      <td>NaN</td>\n",
       "      <td>NaN</td>\n",
       "      <td>[f]</td>\n",
       "      <td>[f]</td>\n",
       "      <td>NaN</td>\n",
       "      <td>[d]</td>\n",
       "      <td>[u, a]</td>\n",
       "    </tr>\n",
       "  </tbody>\n",
       "</table>\n",
       "<p>173 rows × 23 columns</p>\n",
       "</div>\n",
       "      <button class=\"colab-df-convert\" onclick=\"convertToInteractive('df-5ff1110a-a7fe-4c20-ab3e-e53dedfb5b2e')\"\n",
       "              title=\"Convert this dataframe to an interactive table.\"\n",
       "              style=\"display:none;\">\n",
       "        \n",
       "  <svg xmlns=\"http://www.w3.org/2000/svg\" height=\"24px\"viewBox=\"0 0 24 24\"\n",
       "       width=\"24px\">\n",
       "    <path d=\"M0 0h24v24H0V0z\" fill=\"none\"/>\n",
       "    <path d=\"M18.56 5.44l.94 2.06.94-2.06 2.06-.94-2.06-.94-.94-2.06-.94 2.06-2.06.94zm-11 1L8.5 8.5l.94-2.06 2.06-.94-2.06-.94L8.5 2.5l-.94 2.06-2.06.94zm10 10l.94 2.06.94-2.06 2.06-.94-2.06-.94-.94-2.06-.94 2.06-2.06.94z\"/><path d=\"M17.41 7.96l-1.37-1.37c-.4-.4-.92-.59-1.43-.59-.52 0-1.04.2-1.43.59L10.3 9.45l-7.72 7.72c-.78.78-.78 2.05 0 2.83L4 21.41c.39.39.9.59 1.41.59.51 0 1.02-.2 1.41-.59l7.78-7.78 2.81-2.81c.8-.78.8-2.07 0-2.86zM5.41 20L4 18.59l7.72-7.72 1.47 1.35L5.41 20z\"/>\n",
       "  </svg>\n",
       "      </button>\n",
       "      \n",
       "  <style>\n",
       "    .colab-df-container {\n",
       "      display:flex;\n",
       "      flex-wrap:wrap;\n",
       "      gap: 12px;\n",
       "    }\n",
       "\n",
       "    .colab-df-convert {\n",
       "      background-color: #E8F0FE;\n",
       "      border: none;\n",
       "      border-radius: 50%;\n",
       "      cursor: pointer;\n",
       "      display: none;\n",
       "      fill: #1967D2;\n",
       "      height: 32px;\n",
       "      padding: 0 0 0 0;\n",
       "      width: 32px;\n",
       "    }\n",
       "\n",
       "    .colab-df-convert:hover {\n",
       "      background-color: #E2EBFA;\n",
       "      box-shadow: 0px 1px 2px rgba(60, 64, 67, 0.3), 0px 1px 3px 1px rgba(60, 64, 67, 0.15);\n",
       "      fill: #174EA6;\n",
       "    }\n",
       "\n",
       "    [theme=dark] .colab-df-convert {\n",
       "      background-color: #3B4455;\n",
       "      fill: #D2E3FC;\n",
       "    }\n",
       "\n",
       "    [theme=dark] .colab-df-convert:hover {\n",
       "      background-color: #434B5C;\n",
       "      box-shadow: 0px 1px 3px 1px rgba(0, 0, 0, 0.15);\n",
       "      filter: drop-shadow(0px 1px 2px rgba(0, 0, 0, 0.3));\n",
       "      fill: #FFFFFF;\n",
       "    }\n",
       "  </style>\n",
       "\n",
       "      <script>\n",
       "        const buttonEl =\n",
       "          document.querySelector('#df-5ff1110a-a7fe-4c20-ab3e-e53dedfb5b2e button.colab-df-convert');\n",
       "        buttonEl.style.display =\n",
       "          google.colab.kernel.accessAllowed ? 'block' : 'none';\n",
       "\n",
       "        async function convertToInteractive(key) {\n",
       "          const element = document.querySelector('#df-5ff1110a-a7fe-4c20-ab3e-e53dedfb5b2e');\n",
       "          const dataTable =\n",
       "            await google.colab.kernel.invokeFunction('convertToInteractive',\n",
       "                                                     [key], {});\n",
       "          if (!dataTable) return;\n",
       "\n",
       "          const docLinkHtml = 'Like what you see? Visit the ' +\n",
       "            '<a target=\"_blank\" href=https://colab.research.google.com/notebooks/data_table.ipynb>data table notebook</a>'\n",
       "            + ' to learn more about interactive tables.';\n",
       "          element.innerHTML = '';\n",
       "          dataTable['output_type'] = 'display_data';\n",
       "          await google.colab.output.renderOutput(dataTable, element);\n",
       "          const docLink = document.createElement('div');\n",
       "          docLink.innerHTML = docLinkHtml;\n",
       "          element.appendChild(docLink);\n",
       "        }\n",
       "      </script>\n",
       "    </div>\n",
       "  </div>\n",
       "  "
      ],
      "text/plain": [
       "                 family               name class cap-diameter  cap-shape  \\\n",
       "0        Amanita Family         Fly Agaric     p     [10, 20]     [x, f]   \n",
       "1        Amanita Family        Panther Cap     p      [5, 10]     [p, x]   \n",
       "2        Amanita Family  False Panther Cap     p     [10, 15]     [x, f]   \n",
       "3        Amanita Family        The Blusher     e      [5, 15]     [x, f]   \n",
       "4        Amanita Family          Death Cap     p      [5, 12]     [x, f]   \n",
       "..                  ...                ...   ...          ...        ...   \n",
       "168   Saddle-Cup Family       White Saddle     p       [2, 6]        [o]   \n",
       "169       Bracket Fungi     Elfin's Saddle     p       [2, 4]        [o]   \n",
       "170       Bracket Fungi      Turban Fungus     p      [5, 15]        [o]   \n",
       "171        Morel Family       Common Morel     e       [3, 8]  [p, c, o]   \n",
       "172  Jelly Discs Family       Jelly Babies     p     [1, 1.5]  [x, f, s]   \n",
       "\n",
       "    Cap-surface cap-color does-bruise-or-bleed gill-attachment gill-spacing  \\\n",
       "0        [g, h]    [e, o]                  [f]             [e]          NaN   \n",
       "1           [g]       [n]                  [f]             [e]          NaN   \n",
       "2           NaN    [g, n]                  [f]             [e]          NaN   \n",
       "3           NaN       [n]                  [t]             NaN          NaN   \n",
       "4           [h]       [r]                  [f]             NaN          [c]   \n",
       "..          ...       ...                  ...             ...          ...   \n",
       "168         NaN       [w]                  [f]             [f]          [f]   \n",
       "169         NaN    [g, k]                  [f]             [f]          [f]   \n",
       "170         NaN    [n, e]                  [f]             [f]          [f]   \n",
       "171         NaN    [n, g]                  [f]             [f]          [f]   \n",
       "172         [s]       [y]                  [f]             [f]          [f]   \n",
       "\n",
       "     ... stem-root stem-surface stem-color veil-type veil-color has-ring  \\\n",
       "0    ...       [s]          [y]        [w]       [u]        [w]      [t]   \n",
       "1    ...       NaN          [y]        [w]       [u]        [w]      [t]   \n",
       "2    ...       NaN          NaN        [w]       [u]        [w]      [t]   \n",
       "3    ...       [b]          NaN        [w]       [u]        [w]      [t]   \n",
       "4    ...       NaN          NaN        [w]       [u]        [w]      [t]   \n",
       "..   ...       ...          ...        ...       ...        ...      ...   \n",
       "168  ...       NaN          [g]        [w]       NaN        NaN      [t]   \n",
       "169  ...       NaN          [g]     [g, n]       NaN        NaN      [f]   \n",
       "170  ...       NaN          [g]        [n]       NaN        NaN      [f]   \n",
       "171  ...       NaN          NaN        [n]       NaN        NaN      [f]   \n",
       "172  ...       NaN          NaN        [y]       NaN        NaN      [f]   \n",
       "\n",
       "    ring-type Spore-print-color habitat     season  \n",
       "0      [g, p]               NaN     [d]  [u, a, w]  \n",
       "1         [p]               NaN     [d]     [u, a]  \n",
       "2      [e, g]               NaN     [d]     [u, a]  \n",
       "3         [g]               NaN     [d]     [u, a]  \n",
       "4      [g, p]               NaN     [d]     [u, a]  \n",
       "..        ...               ...     ...        ...  \n",
       "168       [f]               NaN  [p, d]     [u, a]  \n",
       "169       [f]               NaN     [d]     [u, a]  \n",
       "170       [f]               NaN     [d]     [s, u]  \n",
       "171       [f]               NaN  [l, d]        [s]  \n",
       "172       [f]               NaN     [d]     [u, a]  \n",
       "\n",
       "[173 rows x 23 columns]"
      ]
     },
     "execution_count": 77,
     "metadata": {},
     "output_type": "execute_result"
    }
   ],
   "source": [
    "df_primary_data"
   ]
  },
  {
   "cell_type": "markdown",
   "metadata": {
    "id": "MAha1JQAvEmV"
   },
   "source": [
    "#### Perform basic statistical analysis and missing value check"
   ]
  },
  {
   "cell_type": "code",
   "execution_count": null,
   "metadata": {
    "colab": {
     "base_uri": "https://localhost:8080/",
     "height": 300
    },
    "id": "8yo68r2UvEmV",
    "outputId": "e471610f-7c37-447c-9e7d-83edbb7aa22f"
   },
   "outputs": [
    {
     "data": {
      "text/html": [
       "\n",
       "  <div id=\"df-e3e63cf7-48e2-4aa4-acf8-094d0a3d724c\">\n",
       "    <div class=\"colab-df-container\">\n",
       "      <div>\n",
       "<style scoped>\n",
       "    .dataframe tbody tr th:only-of-type {\n",
       "        vertical-align: middle;\n",
       "    }\n",
       "\n",
       "    .dataframe tbody tr th {\n",
       "        vertical-align: top;\n",
       "    }\n",
       "\n",
       "    .dataframe thead th {\n",
       "        text-align: right;\n",
       "    }\n",
       "</style>\n",
       "<table border=\"1\" class=\"dataframe\">\n",
       "  <thead>\n",
       "    <tr style=\"text-align: right;\">\n",
       "      <th></th>\n",
       "      <th>family</th>\n",
       "      <th>name</th>\n",
       "      <th>class</th>\n",
       "      <th>cap-diameter</th>\n",
       "      <th>cap-shape</th>\n",
       "      <th>Cap-surface</th>\n",
       "      <th>cap-color</th>\n",
       "      <th>does-bruise-or-bleed</th>\n",
       "      <th>gill-attachment</th>\n",
       "      <th>gill-spacing</th>\n",
       "      <th>...</th>\n",
       "      <th>stem-root</th>\n",
       "      <th>stem-surface</th>\n",
       "      <th>stem-color</th>\n",
       "      <th>veil-type</th>\n",
       "      <th>veil-color</th>\n",
       "      <th>has-ring</th>\n",
       "      <th>ring-type</th>\n",
       "      <th>Spore-print-color</th>\n",
       "      <th>habitat</th>\n",
       "      <th>season</th>\n",
       "    </tr>\n",
       "  </thead>\n",
       "  <tbody>\n",
       "    <tr>\n",
       "      <th>count</th>\n",
       "      <td>173</td>\n",
       "      <td>173</td>\n",
       "      <td>173</td>\n",
       "      <td>173</td>\n",
       "      <td>173</td>\n",
       "      <td>133</td>\n",
       "      <td>173</td>\n",
       "      <td>173</td>\n",
       "      <td>145</td>\n",
       "      <td>102</td>\n",
       "      <td>...</td>\n",
       "      <td>27</td>\n",
       "      <td>65</td>\n",
       "      <td>173</td>\n",
       "      <td>9</td>\n",
       "      <td>21</td>\n",
       "      <td>173</td>\n",
       "      <td>166</td>\n",
       "      <td>18</td>\n",
       "      <td>173</td>\n",
       "      <td>173</td>\n",
       "    </tr>\n",
       "    <tr>\n",
       "      <th>unique</th>\n",
       "      <td>23</td>\n",
       "      <td>173</td>\n",
       "      <td>2</td>\n",
       "      <td>51</td>\n",
       "      <td>27</td>\n",
       "      <td>40</td>\n",
       "      <td>67</td>\n",
       "      <td>2</td>\n",
       "      <td>8</td>\n",
       "      <td>3</td>\n",
       "      <td>...</td>\n",
       "      <td>5</td>\n",
       "      <td>14</td>\n",
       "      <td>41</td>\n",
       "      <td>1</td>\n",
       "      <td>7</td>\n",
       "      <td>2</td>\n",
       "      <td>13</td>\n",
       "      <td>8</td>\n",
       "      <td>21</td>\n",
       "      <td>10</td>\n",
       "    </tr>\n",
       "    <tr>\n",
       "      <th>top</th>\n",
       "      <td>Tricholoma Family</td>\n",
       "      <td>Fly Agaric</td>\n",
       "      <td>p</td>\n",
       "      <td>[2, 5]</td>\n",
       "      <td>[x]</td>\n",
       "      <td>[y]</td>\n",
       "      <td>[n]</td>\n",
       "      <td>[f]</td>\n",
       "      <td>[a]</td>\n",
       "      <td>[c]</td>\n",
       "      <td>...</td>\n",
       "      <td>[s]</td>\n",
       "      <td>[s]</td>\n",
       "      <td>[w]</td>\n",
       "      <td>[u]</td>\n",
       "      <td>[w]</td>\n",
       "      <td>[f]</td>\n",
       "      <td>[f]</td>\n",
       "      <td>[k]</td>\n",
       "      <td>[d]</td>\n",
       "      <td>[u, a]</td>\n",
       "    </tr>\n",
       "    <tr>\n",
       "      <th>freq</th>\n",
       "      <td>43</td>\n",
       "      <td>1</td>\n",
       "      <td>96</td>\n",
       "      <td>16</td>\n",
       "      <td>48</td>\n",
       "      <td>14</td>\n",
       "      <td>38</td>\n",
       "      <td>143</td>\n",
       "      <td>32</td>\n",
       "      <td>70</td>\n",
       "      <td>...</td>\n",
       "      <td>9</td>\n",
       "      <td>15</td>\n",
       "      <td>57</td>\n",
       "      <td>9</td>\n",
       "      <td>15</td>\n",
       "      <td>130</td>\n",
       "      <td>137</td>\n",
       "      <td>5</td>\n",
       "      <td>104</td>\n",
       "      <td>106</td>\n",
       "    </tr>\n",
       "  </tbody>\n",
       "</table>\n",
       "<p>4 rows × 23 columns</p>\n",
       "</div>\n",
       "      <button class=\"colab-df-convert\" onclick=\"convertToInteractive('df-e3e63cf7-48e2-4aa4-acf8-094d0a3d724c')\"\n",
       "              title=\"Convert this dataframe to an interactive table.\"\n",
       "              style=\"display:none;\">\n",
       "        \n",
       "  <svg xmlns=\"http://www.w3.org/2000/svg\" height=\"24px\"viewBox=\"0 0 24 24\"\n",
       "       width=\"24px\">\n",
       "    <path d=\"M0 0h24v24H0V0z\" fill=\"none\"/>\n",
       "    <path d=\"M18.56 5.44l.94 2.06.94-2.06 2.06-.94-2.06-.94-.94-2.06-.94 2.06-2.06.94zm-11 1L8.5 8.5l.94-2.06 2.06-.94-2.06-.94L8.5 2.5l-.94 2.06-2.06.94zm10 10l.94 2.06.94-2.06 2.06-.94-2.06-.94-.94-2.06-.94 2.06-2.06.94z\"/><path d=\"M17.41 7.96l-1.37-1.37c-.4-.4-.92-.59-1.43-.59-.52 0-1.04.2-1.43.59L10.3 9.45l-7.72 7.72c-.78.78-.78 2.05 0 2.83L4 21.41c.39.39.9.59 1.41.59.51 0 1.02-.2 1.41-.59l7.78-7.78 2.81-2.81c.8-.78.8-2.07 0-2.86zM5.41 20L4 18.59l7.72-7.72 1.47 1.35L5.41 20z\"/>\n",
       "  </svg>\n",
       "      </button>\n",
       "      \n",
       "  <style>\n",
       "    .colab-df-container {\n",
       "      display:flex;\n",
       "      flex-wrap:wrap;\n",
       "      gap: 12px;\n",
       "    }\n",
       "\n",
       "    .colab-df-convert {\n",
       "      background-color: #E8F0FE;\n",
       "      border: none;\n",
       "      border-radius: 50%;\n",
       "      cursor: pointer;\n",
       "      display: none;\n",
       "      fill: #1967D2;\n",
       "      height: 32px;\n",
       "      padding: 0 0 0 0;\n",
       "      width: 32px;\n",
       "    }\n",
       "\n",
       "    .colab-df-convert:hover {\n",
       "      background-color: #E2EBFA;\n",
       "      box-shadow: 0px 1px 2px rgba(60, 64, 67, 0.3), 0px 1px 3px 1px rgba(60, 64, 67, 0.15);\n",
       "      fill: #174EA6;\n",
       "    }\n",
       "\n",
       "    [theme=dark] .colab-df-convert {\n",
       "      background-color: #3B4455;\n",
       "      fill: #D2E3FC;\n",
       "    }\n",
       "\n",
       "    [theme=dark] .colab-df-convert:hover {\n",
       "      background-color: #434B5C;\n",
       "      box-shadow: 0px 1px 3px 1px rgba(0, 0, 0, 0.15);\n",
       "      filter: drop-shadow(0px 1px 2px rgba(0, 0, 0, 0.3));\n",
       "      fill: #FFFFFF;\n",
       "    }\n",
       "  </style>\n",
       "\n",
       "      <script>\n",
       "        const buttonEl =\n",
       "          document.querySelector('#df-e3e63cf7-48e2-4aa4-acf8-094d0a3d724c button.colab-df-convert');\n",
       "        buttonEl.style.display =\n",
       "          google.colab.kernel.accessAllowed ? 'block' : 'none';\n",
       "\n",
       "        async function convertToInteractive(key) {\n",
       "          const element = document.querySelector('#df-e3e63cf7-48e2-4aa4-acf8-094d0a3d724c');\n",
       "          const dataTable =\n",
       "            await google.colab.kernel.invokeFunction('convertToInteractive',\n",
       "                                                     [key], {});\n",
       "          if (!dataTable) return;\n",
       "\n",
       "          const docLinkHtml = 'Like what you see? Visit the ' +\n",
       "            '<a target=\"_blank\" href=https://colab.research.google.com/notebooks/data_table.ipynb>data table notebook</a>'\n",
       "            + ' to learn more about interactive tables.';\n",
       "          element.innerHTML = '';\n",
       "          dataTable['output_type'] = 'display_data';\n",
       "          await google.colab.output.renderOutput(dataTable, element);\n",
       "          const docLink = document.createElement('div');\n",
       "          docLink.innerHTML = docLinkHtml;\n",
       "          element.appendChild(docLink);\n",
       "        }\n",
       "      </script>\n",
       "    </div>\n",
       "  </div>\n",
       "  "
      ],
      "text/plain": [
       "                   family        name class cap-diameter cap-shape  \\\n",
       "count                 173         173   173          173       173   \n",
       "unique                 23         173     2           51        27   \n",
       "top     Tricholoma Family  Fly Agaric     p       [2, 5]       [x]   \n",
       "freq                   43           1    96           16        48   \n",
       "\n",
       "       Cap-surface cap-color does-bruise-or-bleed gill-attachment  \\\n",
       "count          133       173                  173             145   \n",
       "unique          40        67                    2               8   \n",
       "top            [y]       [n]                  [f]             [a]   \n",
       "freq            14        38                  143              32   \n",
       "\n",
       "       gill-spacing  ... stem-root stem-surface stem-color veil-type  \\\n",
       "count           102  ...        27           65        173         9   \n",
       "unique            3  ...         5           14         41         1   \n",
       "top             [c]  ...       [s]          [s]        [w]       [u]   \n",
       "freq             70  ...         9           15         57         9   \n",
       "\n",
       "       veil-color has-ring ring-type Spore-print-color habitat  season  \n",
       "count          21      173       166                18     173     173  \n",
       "unique          7        2        13                 8      21      10  \n",
       "top           [w]      [f]       [f]               [k]     [d]  [u, a]  \n",
       "freq           15      130       137                 5     104     106  \n",
       "\n",
       "[4 rows x 23 columns]"
      ]
     },
     "execution_count": 78,
     "metadata": {},
     "output_type": "execute_result"
    }
   ],
   "source": [
    "df_primary_data.describe(include='object')"
   ]
  },
  {
   "cell_type": "code",
   "execution_count": null,
   "metadata": {
    "colab": {
     "base_uri": "https://localhost:8080/"
    },
    "id": "THPa79J4vEmW",
    "outputId": "1f12f3b6-db99-4c84-aa70-1b3f1e3f42aa"
   },
   "outputs": [
    {
     "name": "stdout",
     "output_type": "stream",
     "text": [
      "<class 'pandas.core.frame.DataFrame'>\n",
      "RangeIndex: 173 entries, 0 to 172\n",
      "Data columns (total 23 columns):\n",
      " #   Column                Non-Null Count  Dtype \n",
      "---  ------                --------------  ----- \n",
      " 0   family                173 non-null    object\n",
      " 1   name                  173 non-null    object\n",
      " 2   class                 173 non-null    object\n",
      " 3   cap-diameter          173 non-null    object\n",
      " 4   cap-shape             173 non-null    object\n",
      " 5   Cap-surface           133 non-null    object\n",
      " 6   cap-color             173 non-null    object\n",
      " 7   does-bruise-or-bleed  173 non-null    object\n",
      " 8   gill-attachment       145 non-null    object\n",
      " 9   gill-spacing          102 non-null    object\n",
      " 10  gill-color            173 non-null    object\n",
      " 11  stem-height           173 non-null    object\n",
      " 12  stem-width            173 non-null    object\n",
      " 13  stem-root             27 non-null     object\n",
      " 14  stem-surface          65 non-null     object\n",
      " 15  stem-color            173 non-null    object\n",
      " 16  veil-type             9 non-null      object\n",
      " 17  veil-color            21 non-null     object\n",
      " 18  has-ring              173 non-null    object\n",
      " 19  ring-type             166 non-null    object\n",
      " 20  Spore-print-color     18 non-null     object\n",
      " 21  habitat               173 non-null    object\n",
      " 22  season                173 non-null    object\n",
      "dtypes: object(23)\n",
      "memory usage: 31.2+ KB\n"
     ]
    }
   ],
   "source": [
    "df_primary_data.info()"
   ]
  },
  {
   "cell_type": "code",
   "execution_count": null,
   "metadata": {
    "colab": {
     "base_uri": "https://localhost:8080/"
    },
    "id": "MNfz4NAmvEmW",
    "outputId": "9686b4c6-32b7-49ba-a7eb-824c4b054a83"
   },
   "outputs": [
    {
     "data": {
      "text/plain": [
       "veil-type               164\n",
       "Spore-print-color       155\n",
       "veil-color              152\n",
       "stem-root               146\n",
       "stem-surface            108\n",
       "gill-spacing             71\n",
       "Cap-surface              40\n",
       "gill-attachment          28\n",
       "ring-type                 7\n",
       "family                    0\n",
       "habitat                   0\n",
       "has-ring                  0\n",
       "stem-color                0\n",
       "stem-height               0\n",
       "stem-width                0\n",
       "name                      0\n",
       "gill-color                0\n",
       "does-bruise-or-bleed      0\n",
       "cap-color                 0\n",
       "cap-shape                 0\n",
       "cap-diameter              0\n",
       "class                     0\n",
       "season                    0\n",
       "dtype: int64"
      ]
     },
     "execution_count": 80,
     "metadata": {},
     "output_type": "execute_result"
    }
   ],
   "source": [
    "df_primary_data.isna().sum().sort_values(ascending=False)"
   ]
  },
  {
   "cell_type": "code",
   "execution_count": null,
   "metadata": {
    "id": "7Q3nWM90vEmm"
   },
   "outputs": [],
   "source": [
    "poisonous_mushroom = df_primary_data[df_primary_data['class'] == 'p']\n",
    "edible_mushroom = df_primary_data[df_primary_data['class'] == 'e']"
   ]
  },
  {
   "cell_type": "markdown",
   "metadata": {
    "id": "AUvh0jHxvEmm"
   },
   "source": [
    "##### Graphical representation of the distribution of poisonous and edible mushroom"
   ]
  },
  {
   "cell_type": "code",
   "execution_count": null,
   "metadata": {
    "colab": {
     "base_uri": "https://localhost:8080/",
     "height": 517
    },
    "id": "EobbXrRVvEmm",
    "outputId": "6cf84c39-2e12-46e4-87ce-3500ce2e1538",
    "scrolled": false
   },
   "outputs": [
    {
     "name": "stdout",
     "output_type": "stream",
     "text": [
      "==========Distribution of poisonous and edible mushroom============\n"
     ]
    },
    {
     "data": {
      "image/png": "[encoded data removed]",
      "text/plain": [
       "<Figure size 640x480 with 1 Axes>"
      ]
     },
     "metadata": {},
     "output_type": "display_data"
    },
    {
     "data": {
      "text/plain": [
       "p    96\n",
       "e    77\n",
       "Name: class, dtype: int64"
      ]
     },
     "execution_count": 82,
     "metadata": {},
     "output_type": "execute_result"
    }
   ],
   "source": [
    "print('==========Distribution of poisonous and edible mushroom============')\n",
    "mushroom_type_count= df_primary_data['class'].value_counts()  \n",
    "sns.barplot(x=mushroom_type_count.index, y=mushroom_type_count.values,palette='pastel')\n",
    "plt.ylabel('Number of data', fontsize=9)\n",
    "plt.xlabel('class', fontsize=9)\n",
    "plt.xticks(rotation=90)\n",
    "plt.show();\n",
    "df_primary_data['class'].value_counts()"
   ]
  },
  {
   "cell_type": "markdown",
   "metadata": {
    "id": "EGvXSj4hvEmm"
   },
   "source": [
    "### Q. How many mushrooms are poisonous?\n",
    "### A. 96 mushrooms are poisonous and 77 are edible"
   ]
  },
  {
   "cell_type": "markdown",
   "metadata": {
    "id": "Sr63AgM2vEmm"
   },
   "source": [
    "##### Graphical representation of the distribution of poisonous mushroom among different family"
   ]
  },
  {
   "cell_type": "code",
   "execution_count": null,
   "metadata": {
    "colab": {
     "base_uri": "https://localhost:8080/",
     "height": 992
    },
    "id": "VNlxnaguvEmn",
    "outputId": "5392da38-29b0-4026-d1f1-13e3d400be05"
   },
   "outputs": [
    {
     "data": {
      "image/png": "[encoded data removed]",
      "text/plain": [
       "<Figure size 640x480 with 1 Axes>"
      ]
     },
     "metadata": {},
     "output_type": "display_data"
    },
    {
     "data": {
      "text/plain": [
       "Tricholoma Family         43\n",
       "Russula Family            27\n",
       "Bolete Family             14\n",
       "Ink Cap Family            13\n",
       "Cortinarius Family        11\n",
       "Stropharia Family          8\n",
       "Amanita Family             8\n",
       "Wax Gill Family            8\n",
       "Entoloma Family            7\n",
       "Bracket Fungi              7\n",
       "Mushroom Family            5\n",
       "Bolbitius Family           3\n",
       "Lepiota Family             3\n",
       "Paxillus Family            3\n",
       "Chanterelle Family         3\n",
       "Pluteus Family             2\n",
       "Oyster Mushroom Family     2\n",
       "Crepidotus Family          1\n",
       "Hydnum Family              1\n",
       "Ear-Pick Family            1\n",
       "Saddle-Cup Family          1\n",
       "Morel Family               1\n",
       "Jelly Discs Family         1\n",
       "Name: family, dtype: int64"
      ]
     },
     "execution_count": 83,
     "metadata": {},
     "output_type": "execute_result"
    }
   ],
   "source": [
    "poisonous_mushroom_type_count= poisonous_mushroom['family'].value_counts()  \n",
    "sns.barplot(x=poisonous_mushroom_type_count.index, y=poisonous_mushroom_type_count.values,palette='pastel')\n",
    "plt.ylabel('Number of data', fontsize=9)\n",
    "plt.xlabel('Family', fontsize=9)\n",
    "plt.xticks(rotation=90)\n",
    "plt.show();\n",
    "df_primary_data['family'].value_counts()"
   ]
  },
  {
   "cell_type": "markdown",
   "metadata": {
    "id": "ZCamM6lZvEmn"
   },
   "source": [
    "### Q. Which family contains most poisonous mushrooms?\n",
    "### A. Tricholoma, mushroom family has highest number of poisonous mushrooms."
   ]
  },
  {
   "cell_type": "markdown",
   "metadata": {
    "id": "MK6ynVFQvEmn"
   },
   "source": [
    "##### Analysis of poisonous mushroom based on its ring characteristics"
   ]
  },
  {
   "cell_type": "code",
   "execution_count": null,
   "metadata": {
    "colab": {
     "base_uri": "https://localhost:8080/"
    },
    "id": "K8b2yjTXvEmn",
    "outputId": "1f804f5e-93f8-4285-f7a9-b919d11de2a3"
   },
   "outputs": [
    {
     "data": {
      "text/plain": [
       "array(['[f]', '[t]'], dtype=object)"
      ]
     },
     "execution_count": 84,
     "metadata": {},
     "output_type": "execute_result"
    }
   ],
   "source": [
    "np.unique(poisonous_mushroom['has-ring'])"
   ]
  },
  {
   "cell_type": "markdown",
   "metadata": {
    "id": "Hy7ZaybdvEmn"
   },
   "source": [
    "##### It has been observed that the unique value of mushroom has-ring column is [f] & [t], which clearly indicate that only ring exists among the mushroom which has 'has-ring' column value as [t], so we will filter that out and get the desired result."
   ]
  },
  {
   "cell_type": "code",
   "execution_count": null,
   "metadata": {
    "id": "FShBHmwXvEmo"
   },
   "outputs": [],
   "source": [
    "ring_poisonous_mushroom = poisonous_mushroom[poisonous_mushroom['has-ring'] != '[t]']"
   ]
  },
  {
   "cell_type": "code",
   "execution_count": null,
   "metadata": {
    "colab": {
     "base_uri": "https://localhost:8080/",
     "height": 711
    },
    "id": "_7IfqYl2vEmo",
    "outputId": "aa300b39-c0b6-4bc1-945f-63274030267c"
   },
   "outputs": [
    {
     "data": {
      "text/html": [
       "\n",
       "  <div id=\"df-4720a384-8d3a-4138-b4b3-e592cf55dde9\">\n",
       "    <div class=\"colab-df-container\">\n",
       "      <div>\n",
       "<style scoped>\n",
       "    .dataframe tbody tr th:only-of-type {\n",
       "        vertical-align: middle;\n",
       "    }\n",
       "\n",
       "    .dataframe tbody tr th {\n",
       "        vertical-align: top;\n",
       "    }\n",
       "\n",
       "    .dataframe thead th {\n",
       "        text-align: right;\n",
       "    }\n",
       "</style>\n",
       "<table border=\"1\" class=\"dataframe\">\n",
       "  <thead>\n",
       "    <tr style=\"text-align: right;\">\n",
       "      <th></th>\n",
       "      <th>family</th>\n",
       "      <th>name</th>\n",
       "      <th>class</th>\n",
       "      <th>cap-diameter</th>\n",
       "      <th>cap-shape</th>\n",
       "      <th>Cap-surface</th>\n",
       "      <th>cap-color</th>\n",
       "      <th>does-bruise-or-bleed</th>\n",
       "      <th>gill-attachment</th>\n",
       "      <th>gill-spacing</th>\n",
       "      <th>...</th>\n",
       "      <th>stem-root</th>\n",
       "      <th>stem-surface</th>\n",
       "      <th>stem-color</th>\n",
       "      <th>veil-type</th>\n",
       "      <th>veil-color</th>\n",
       "      <th>has-ring</th>\n",
       "      <th>ring-type</th>\n",
       "      <th>Spore-print-color</th>\n",
       "      <th>habitat</th>\n",
       "      <th>season</th>\n",
       "    </tr>\n",
       "  </thead>\n",
       "  <tbody>\n",
       "    <tr>\n",
       "      <th>17</th>\n",
       "      <td>Tricholoma Family</td>\n",
       "      <td>Club-footed Funnel Cap</td>\n",
       "      <td>p</td>\n",
       "      <td>[4, 8]</td>\n",
       "      <td>[x, f]</td>\n",
       "      <td>NaN</td>\n",
       "      <td>[g, n]</td>\n",
       "      <td>[f]</td>\n",
       "      <td>[d]</td>\n",
       "      <td>[c]</td>\n",
       "      <td>...</td>\n",
       "      <td>[b]</td>\n",
       "      <td>NaN</td>\n",
       "      <td>[n]</td>\n",
       "      <td>NaN</td>\n",
       "      <td>NaN</td>\n",
       "      <td>[f]</td>\n",
       "      <td>[f]</td>\n",
       "      <td>NaN</td>\n",
       "      <td>[l, d]</td>\n",
       "      <td>[a, w]</td>\n",
       "    </tr>\n",
       "    <tr>\n",
       "      <th>20</th>\n",
       "      <td>Tricholoma Family</td>\n",
       "      <td>Ivory Clitocybe</td>\n",
       "      <td>p</td>\n",
       "      <td>[2, 4]</td>\n",
       "      <td>[x, f, s]</td>\n",
       "      <td>[s]</td>\n",
       "      <td>[w, g]</td>\n",
       "      <td>[f]</td>\n",
       "      <td>[d]</td>\n",
       "      <td>[c]</td>\n",
       "      <td>...</td>\n",
       "      <td>NaN</td>\n",
       "      <td>NaN</td>\n",
       "      <td>[w]</td>\n",
       "      <td>NaN</td>\n",
       "      <td>NaN</td>\n",
       "      <td>[f]</td>\n",
       "      <td>[f]</td>\n",
       "      <td>NaN</td>\n",
       "      <td>[g]</td>\n",
       "      <td>[u, a]</td>\n",
       "    </tr>\n",
       "    <tr>\n",
       "      <th>21</th>\n",
       "      <td>Tricholoma Family</td>\n",
       "      <td>Wood Woolly-foot</td>\n",
       "      <td>p</td>\n",
       "      <td>[3, 6]</td>\n",
       "      <td>[f]</td>\n",
       "      <td>[l]</td>\n",
       "      <td>[n, e, y]</td>\n",
       "      <td>[f]</td>\n",
       "      <td>[x]</td>\n",
       "      <td>[d]</td>\n",
       "      <td>...</td>\n",
       "      <td>NaN</td>\n",
       "      <td>NaN</td>\n",
       "      <td>[n, y]</td>\n",
       "      <td>NaN</td>\n",
       "      <td>NaN</td>\n",
       "      <td>[f]</td>\n",
       "      <td>[f]</td>\n",
       "      <td>NaN</td>\n",
       "      <td>[l, d]</td>\n",
       "      <td>[u, a]</td>\n",
       "    </tr>\n",
       "    <tr>\n",
       "      <th>22</th>\n",
       "      <td>Tricholoma Family</td>\n",
       "      <td>Russet Tough Shank</td>\n",
       "      <td>p</td>\n",
       "      <td>[2, 5]</td>\n",
       "      <td>[f]</td>\n",
       "      <td>[d]</td>\n",
       "      <td>[n, b]</td>\n",
       "      <td>[f]</td>\n",
       "      <td>[x]</td>\n",
       "      <td>[c]</td>\n",
       "      <td>...</td>\n",
       "      <td>[b]</td>\n",
       "      <td>[i, s]</td>\n",
       "      <td>[n]</td>\n",
       "      <td>NaN</td>\n",
       "      <td>NaN</td>\n",
       "      <td>[f]</td>\n",
       "      <td>[f]</td>\n",
       "      <td>NaN</td>\n",
       "      <td>[l, d]</td>\n",
       "      <td>[u, a]</td>\n",
       "    </tr>\n",
       "    <tr>\n",
       "      <th>23</th>\n",
       "      <td>Tricholoma Family</td>\n",
       "      <td>Clustered Tough Shank</td>\n",
       "      <td>p</td>\n",
       "      <td>[2, 5]</td>\n",
       "      <td>[x, f]</td>\n",
       "      <td>NaN</td>\n",
       "      <td>[n, w]</td>\n",
       "      <td>[f]</td>\n",
       "      <td>[x]</td>\n",
       "      <td>[c]</td>\n",
       "      <td>...</td>\n",
       "      <td>NaN</td>\n",
       "      <td>NaN</td>\n",
       "      <td>[n, p]</td>\n",
       "      <td>NaN</td>\n",
       "      <td>NaN</td>\n",
       "      <td>[f]</td>\n",
       "      <td>[f]</td>\n",
       "      <td>NaN</td>\n",
       "      <td>[l, d]</td>\n",
       "      <td>[u, a]</td>\n",
       "    </tr>\n",
       "    <tr>\n",
       "      <th>...</th>\n",
       "      <td>...</td>\n",
       "      <td>...</td>\n",
       "      <td>...</td>\n",
       "      <td>...</td>\n",
       "      <td>...</td>\n",
       "      <td>...</td>\n",
       "      <td>...</td>\n",
       "      <td>...</td>\n",
       "      <td>...</td>\n",
       "      <td>...</td>\n",
       "      <td>...</td>\n",
       "      <td>...</td>\n",
       "      <td>...</td>\n",
       "      <td>...</td>\n",
       "      <td>...</td>\n",
       "      <td>...</td>\n",
       "      <td>...</td>\n",
       "      <td>...</td>\n",
       "      <td>...</td>\n",
       "      <td>...</td>\n",
       "      <td>...</td>\n",
       "    </tr>\n",
       "    <tr>\n",
       "      <th>164</th>\n",
       "      <td>Bracket Fungi</td>\n",
       "      <td>Silver Leaf Fungus</td>\n",
       "      <td>p</td>\n",
       "      <td>[2, 4]</td>\n",
       "      <td>[o]</td>\n",
       "      <td>[l]</td>\n",
       "      <td>[g]</td>\n",
       "      <td>[f]</td>\n",
       "      <td>[f]</td>\n",
       "      <td>[f]</td>\n",
       "      <td>...</td>\n",
       "      <td>[f]</td>\n",
       "      <td>[f]</td>\n",
       "      <td>[f]</td>\n",
       "      <td>NaN</td>\n",
       "      <td>NaN</td>\n",
       "      <td>[f]</td>\n",
       "      <td>[f]</td>\n",
       "      <td>NaN</td>\n",
       "      <td>[d]</td>\n",
       "      <td>[s, u, a, w]</td>\n",
       "    </tr>\n",
       "    <tr>\n",
       "      <th>166</th>\n",
       "      <td>Bracket Fungi</td>\n",
       "      <td>Fuzzy Polypore</td>\n",
       "      <td>p</td>\n",
       "      <td>[8, 30]</td>\n",
       "      <td>[f, x]</td>\n",
       "      <td>[g, s, d]</td>\n",
       "      <td>[o, e, n, k]</td>\n",
       "      <td>[f]</td>\n",
       "      <td>[p]</td>\n",
       "      <td>NaN</td>\n",
       "      <td>...</td>\n",
       "      <td>NaN</td>\n",
       "      <td>NaN</td>\n",
       "      <td>[n]</td>\n",
       "      <td>NaN</td>\n",
       "      <td>NaN</td>\n",
       "      <td>[f]</td>\n",
       "      <td>[f]</td>\n",
       "      <td>NaN</td>\n",
       "      <td>[d]</td>\n",
       "      <td>[a, w]</td>\n",
       "    </tr>\n",
       "    <tr>\n",
       "      <th>169</th>\n",
       "      <td>Bracket Fungi</td>\n",
       "      <td>Elfin's Saddle</td>\n",
       "      <td>p</td>\n",
       "      <td>[2, 4]</td>\n",
       "      <td>[o]</td>\n",
       "      <td>NaN</td>\n",
       "      <td>[g, k]</td>\n",
       "      <td>[f]</td>\n",
       "      <td>[f]</td>\n",
       "      <td>[f]</td>\n",
       "      <td>...</td>\n",
       "      <td>NaN</td>\n",
       "      <td>[g]</td>\n",
       "      <td>[g, n]</td>\n",
       "      <td>NaN</td>\n",
       "      <td>NaN</td>\n",
       "      <td>[f]</td>\n",
       "      <td>[f]</td>\n",
       "      <td>NaN</td>\n",
       "      <td>[d]</td>\n",
       "      <td>[u, a]</td>\n",
       "    </tr>\n",
       "    <tr>\n",
       "      <th>170</th>\n",
       "      <td>Bracket Fungi</td>\n",
       "      <td>Turban Fungus</td>\n",
       "      <td>p</td>\n",
       "      <td>[5, 15]</td>\n",
       "      <td>[o]</td>\n",
       "      <td>NaN</td>\n",
       "      <td>[n, e]</td>\n",
       "      <td>[f]</td>\n",
       "      <td>[f]</td>\n",
       "      <td>[f]</td>\n",
       "      <td>...</td>\n",
       "      <td>NaN</td>\n",
       "      <td>[g]</td>\n",
       "      <td>[n]</td>\n",
       "      <td>NaN</td>\n",
       "      <td>NaN</td>\n",
       "      <td>[f]</td>\n",
       "      <td>[f]</td>\n",
       "      <td>NaN</td>\n",
       "      <td>[d]</td>\n",
       "      <td>[s, u]</td>\n",
       "    </tr>\n",
       "    <tr>\n",
       "      <th>172</th>\n",
       "      <td>Jelly Discs Family</td>\n",
       "      <td>Jelly Babies</td>\n",
       "      <td>p</td>\n",
       "      <td>[1, 1.5]</td>\n",
       "      <td>[x, f, s]</td>\n",
       "      <td>[s]</td>\n",
       "      <td>[y]</td>\n",
       "      <td>[f]</td>\n",
       "      <td>[f]</td>\n",
       "      <td>[f]</td>\n",
       "      <td>...</td>\n",
       "      <td>NaN</td>\n",
       "      <td>NaN</td>\n",
       "      <td>[y]</td>\n",
       "      <td>NaN</td>\n",
       "      <td>NaN</td>\n",
       "      <td>[f]</td>\n",
       "      <td>[f]</td>\n",
       "      <td>NaN</td>\n",
       "      <td>[d]</td>\n",
       "      <td>[u, a]</td>\n",
       "    </tr>\n",
       "  </tbody>\n",
       "</table>\n",
       "<p>70 rows × 23 columns</p>\n",
       "</div>\n",
       "      <button class=\"colab-df-convert\" onclick=\"convertToInteractive('df-4720a384-8d3a-4138-b4b3-e592cf55dde9')\"\n",
       "              title=\"Convert this dataframe to an interactive table.\"\n",
       "              style=\"display:none;\">\n",
       "        \n",
       "  <svg xmlns=\"http://www.w3.org/2000/svg\" height=\"24px\"viewBox=\"0 0 24 24\"\n",
       "       width=\"24px\">\n",
       "    <path d=\"M0 0h24v24H0V0z\" fill=\"none\"/>\n",
       "    <path d=\"M18.56 5.44l.94 2.06.94-2.06 2.06-.94-2.06-.94-.94-2.06-.94 2.06-2.06.94zm-11 1L8.5 8.5l.94-2.06 2.06-.94-2.06-.94L8.5 2.5l-.94 2.06-2.06.94zm10 10l.94 2.06.94-2.06 2.06-.94-2.06-.94-.94-2.06-.94 2.06-2.06.94z\"/><path d=\"M17.41 7.96l-1.37-1.37c-.4-.4-.92-.59-1.43-.59-.52 0-1.04.2-1.43.59L10.3 9.45l-7.72 7.72c-.78.78-.78 2.05 0 2.83L4 21.41c.39.39.9.59 1.41.59.51 0 1.02-.2 1.41-.59l7.78-7.78 2.81-2.81c.8-.78.8-2.07 0-2.86zM5.41 20L4 18.59l7.72-7.72 1.47 1.35L5.41 20z\"/>\n",
       "  </svg>\n",
       "      </button>\n",
       "      \n",
       "  <style>\n",
       "    .colab-df-container {\n",
       "      display:flex;\n",
       "      flex-wrap:wrap;\n",
       "      gap: 12px;\n",
       "    }\n",
       "\n",
       "    .colab-df-convert {\n",
       "      background-color: #E8F0FE;\n",
       "      border: none;\n",
       "      border-radius: 50%;\n",
       "      cursor: pointer;\n",
       "      display: none;\n",
       "      fill: #1967D2;\n",
       "      height: 32px;\n",
       "      padding: 0 0 0 0;\n",
       "      width: 32px;\n",
       "    }\n",
       "\n",
       "    .colab-df-convert:hover {\n",
       "      background-color: #E2EBFA;\n",
       "      box-shadow: 0px 1px 2px rgba(60, 64, 67, 0.3), 0px 1px 3px 1px rgba(60, 64, 67, 0.15);\n",
       "      fill: #174EA6;\n",
       "    }\n",
       "\n",
       "    [theme=dark] .colab-df-convert {\n",
       "      background-color: #3B4455;\n",
       "      fill: #D2E3FC;\n",
       "    }\n",
       "\n",
       "    [theme=dark] .colab-df-convert:hover {\n",
       "      background-color: #434B5C;\n",
       "      box-shadow: 0px 1px 3px 1px rgba(0, 0, 0, 0.15);\n",
       "      filter: drop-shadow(0px 1px 2px rgba(0, 0, 0, 0.3));\n",
       "      fill: #FFFFFF;\n",
       "    }\n",
       "  </style>\n",
       "\n",
       "      <script>\n",
       "        const buttonEl =\n",
       "          document.querySelector('#df-4720a384-8d3a-4138-b4b3-e592cf55dde9 button.colab-df-convert');\n",
       "        buttonEl.style.display =\n",
       "          google.colab.kernel.accessAllowed ? 'block' : 'none';\n",
       "\n",
       "        async function convertToInteractive(key) {\n",
       "          const element = document.querySelector('#df-4720a384-8d3a-4138-b4b3-e592cf55dde9');\n",
       "          const dataTable =\n",
       "            await google.colab.kernel.invokeFunction('convertToInteractive',\n",
       "                                                     [key], {});\n",
       "          if (!dataTable) return;\n",
       "\n",
       "          const docLinkHtml = 'Like what you see? Visit the ' +\n",
       "            '<a target=\"_blank\" href=https://colab.research.google.com/notebooks/data_table.ipynb>data table notebook</a>'\n",
       "            + ' to learn more about interactive tables.';\n",
       "          element.innerHTML = '';\n",
       "          dataTable['output_type'] = 'display_data';\n",
       "          await google.colab.output.renderOutput(dataTable, element);\n",
       "          const docLink = document.createElement('div');\n",
       "          docLink.innerHTML = docLinkHtml;\n",
       "          element.appendChild(docLink);\n",
       "        }\n",
       "      </script>\n",
       "    </div>\n",
       "  </div>\n",
       "  "
      ],
      "text/plain": [
       "                 family                    name class cap-diameter  cap-shape  \\\n",
       "17    Tricholoma Family  Club-footed Funnel Cap     p       [4, 8]     [x, f]   \n",
       "20    Tricholoma Family         Ivory Clitocybe     p       [2, 4]  [x, f, s]   \n",
       "21    Tricholoma Family        Wood Woolly-foot     p       [3, 6]        [f]   \n",
       "22    Tricholoma Family      Russet Tough Shank     p       [2, 5]        [f]   \n",
       "23    Tricholoma Family   Clustered Tough Shank     p       [2, 5]     [x, f]   \n",
       "..                  ...                     ...   ...          ...        ...   \n",
       "164       Bracket Fungi      Silver Leaf Fungus     p       [2, 4]        [o]   \n",
       "166       Bracket Fungi          Fuzzy Polypore     p      [8, 30]     [f, x]   \n",
       "169       Bracket Fungi          Elfin's Saddle     p       [2, 4]        [o]   \n",
       "170       Bracket Fungi           Turban Fungus     p      [5, 15]        [o]   \n",
       "172  Jelly Discs Family            Jelly Babies     p     [1, 1.5]  [x, f, s]   \n",
       "\n",
       "    Cap-surface     cap-color does-bruise-or-bleed gill-attachment  \\\n",
       "17          NaN        [g, n]                  [f]             [d]   \n",
       "20          [s]        [w, g]                  [f]             [d]   \n",
       "21          [l]     [n, e, y]                  [f]             [x]   \n",
       "22          [d]        [n, b]                  [f]             [x]   \n",
       "23          NaN        [n, w]                  [f]             [x]   \n",
       "..          ...           ...                  ...             ...   \n",
       "164         [l]           [g]                  [f]             [f]   \n",
       "166   [g, s, d]  [o, e, n, k]                  [f]             [p]   \n",
       "169         NaN        [g, k]                  [f]             [f]   \n",
       "170         NaN        [n, e]                  [f]             [f]   \n",
       "172         [s]           [y]                  [f]             [f]   \n",
       "\n",
       "    gill-spacing  ... stem-root stem-surface stem-color veil-type veil-color  \\\n",
       "17           [c]  ...       [b]          NaN        [n]       NaN        NaN   \n",
       "20           [c]  ...       NaN          NaN        [w]       NaN        NaN   \n",
       "21           [d]  ...       NaN          NaN     [n, y]       NaN        NaN   \n",
       "22           [c]  ...       [b]       [i, s]        [n]       NaN        NaN   \n",
       "23           [c]  ...       NaN          NaN     [n, p]       NaN        NaN   \n",
       "..           ...  ...       ...          ...        ...       ...        ...   \n",
       "164          [f]  ...       [f]          [f]        [f]       NaN        NaN   \n",
       "166          NaN  ...       NaN          NaN        [n]       NaN        NaN   \n",
       "169          [f]  ...       NaN          [g]     [g, n]       NaN        NaN   \n",
       "170          [f]  ...       NaN          [g]        [n]       NaN        NaN   \n",
       "172          [f]  ...       NaN          NaN        [y]       NaN        NaN   \n",
       "\n",
       "    has-ring ring-type Spore-print-color habitat        season  \n",
       "17       [f]       [f]               NaN  [l, d]        [a, w]  \n",
       "20       [f]       [f]               NaN     [g]        [u, a]  \n",
       "21       [f]       [f]               NaN  [l, d]        [u, a]  \n",
       "22       [f]       [f]               NaN  [l, d]        [u, a]  \n",
       "23       [f]       [f]               NaN  [l, d]        [u, a]  \n",
       "..       ...       ...               ...     ...           ...  \n",
       "164      [f]       [f]               NaN     [d]  [s, u, a, w]  \n",
       "166      [f]       [f]               NaN     [d]        [a, w]  \n",
       "169      [f]       [f]               NaN     [d]        [u, a]  \n",
       "170      [f]       [f]               NaN     [d]        [s, u]  \n",
       "172      [f]       [f]               NaN     [d]        [u, a]  \n",
       "\n",
       "[70 rows x 23 columns]"
      ]
     },
     "execution_count": 86,
     "metadata": {},
     "output_type": "execute_result"
    }
   ],
   "source": [
    "ring_poisonous_mushroom"
   ]
  },
  {
   "cell_type": "markdown",
   "metadata": {
    "id": "urQoXR_UvEmo"
   },
   "source": [
    "### Q. Do all poisonous mushrooms have a ring?\n",
    "### A. No, all the poisonous mushroom does not have ring, only 70 out of 96 poisonous mushroom have ring."
   ]
  },
  {
   "cell_type": "markdown",
   "metadata": {
    "id": "JsavrrYhvEmo"
   },
   "source": [
    "##### Analysis of poisonous mushroom based on the season "
   ]
  },
  {
   "cell_type": "code",
   "execution_count": null,
   "metadata": {
    "colab": {
     "base_uri": "https://localhost:8080/"
    },
    "id": "zlnitFIBvEmo",
    "outputId": "eeb61790-a589-42c5-dba4-1286a307889c"
   },
   "outputs": [
    {
     "data": {
      "text/plain": [
       "array(['[a, w]', '[a]', '[s, u, a, w]', '[s, u, a]', '[s, u]',\n",
       "       '[u, a, w]', '[u, a]', '[u]'], dtype=object)"
      ]
     },
     "execution_count": 87,
     "metadata": {},
     "output_type": "execute_result"
    }
   ],
   "source": [
    "np.unique(poisonous_mushroom['season'])"
   ]
  },
  {
   "cell_type": "markdown",
   "metadata": {
    "id": "UEmv4OaGvEmp"
   },
   "source": [
    "##### Graphical representation of the distribution of poisonous mushroom based on it season of growth"
   ]
  },
  {
   "cell_type": "code",
   "execution_count": null,
   "metadata": {
    "colab": {
     "base_uri": "https://localhost:8080/",
     "height": 705
    },
    "id": "Dr69fyXEvEmp",
    "outputId": "d0908652-f00b-4b02-af3d-dd066af0610f"
   },
   "outputs": [
    {
     "data": {
      "image/png": "[encoded data removed]",
      "text/plain": [
       "<Figure size 640x480 with 1 Axes>"
      ]
     },
     "metadata": {},
     "output_type": "display_data"
    },
    {
     "data": {
      "text/plain": [
       "[u, a]          106\n",
       "[a]              16\n",
       "[a, w]           15\n",
       "[s, u, a, w]     13\n",
       "[u, a, w]        12\n",
       "[s, u, a]         5\n",
       "[s, u]            3\n",
       "[s, a, w]         1\n",
       "[u]               1\n",
       "[s]               1\n",
       "Name: season, dtype: int64"
      ]
     },
     "execution_count": 88,
     "metadata": {},
     "output_type": "execute_result"
    }
   ],
   "source": [
    "poisonous_mushroom_type_count= poisonous_mushroom['season'].value_counts()  \n",
    "sns.barplot(x=poisonous_mushroom_type_count.index, y=poisonous_mushroom_type_count.values, palette='pastel')\n",
    "plt.ylabel('Number of data', fontsize=9)\n",
    "plt.xlabel('Season', fontsize=9)\n",
    "plt.xticks(rotation=90)\n",
    "plt.show();\n",
    "df_primary_data['season'].value_counts()"
   ]
  },
  {
   "cell_type": "markdown",
   "metadata": {
    "id": "w6ABe5jJvEmp"
   },
   "source": [
    "### Q. Which seasons do poisonous mushrooms grow typically?\n",
    "### A. Over Summer and Autumn most of the poisonous mushrooms typically grows."
   ]
  },
  {
   "cell_type": "markdown",
   "metadata": {
    "id": "LuKMpnGQvEmp"
   },
   "source": [
    "# Conclusion of Question 3: \n",
    "\n",
    "### Q. How many mushrooms are poisonous?\n",
    "### A. 96 mushrooms are poisonous and 77 are edible\n",
    "### Q. Which family contains most poisonous mushrooms?\n",
    "### A. Tricholoma, mushroom family has highest number of poisonous mushrooms.\n",
    "### Q. Do all poisonous mushrooms have a ring?\n",
    "### A. No, all the poisonous mushroom does not have ring, only 70 out of 96 poisonous mushroom have ring.\n",
    "### Q. Which seasons do poisonous mushrooms grow typically?\n",
    "### A. Over Summer and Autumn most of the poisonous mushrooms typically grows."
   ]
  }
 ],
 "metadata": {
  "accelerator": "GPU",
  "colab": {
   "gpuType": "T4",
   "provenance": []
  },
  "kernelspec": {
   "display_name": "Python 3 (ipykernel)",
   "language": "python",
   "name": "python3"
  },
  "language_info": {
   "codemirror_mode": {
    "name": "ipython",
    "version": 3
   },
   "file_extension": ".py",
   "mimetype": "text/x-python",
   "name": "python",
   "nbconvert_exporter": "python",
   "pygments_lexer": "ipython3",
   "version": "3.9.16"
  }
 },
 "nbformat": 4,
 "nbformat_minor": 1
}
