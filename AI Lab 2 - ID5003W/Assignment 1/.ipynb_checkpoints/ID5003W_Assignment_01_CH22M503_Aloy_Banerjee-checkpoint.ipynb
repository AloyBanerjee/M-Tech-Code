{
 "cells": [
  {
   "cell_type": "markdown",
   "metadata": {
    "id": "eXAiBeebxQUl"
   },
   "source": [
    "### AI Lab (ID5003W) -  Assignment 1 - CH22M503"
   ]
  },
  {
   "cell_type": "markdown",
   "metadata": {
    "id": "GjgeIvZoxQUn"
   },
   "source": [
    "#### Author - Aloy Banerjee\n",
    "###### Roll No. CH22M503"
   ]
  },
  {
   "cell_type": "markdown",
   "metadata": {
    "id": "SOWG4wTW2ZFz"
   },
   "source": [
    "### Google colab link : - https://colab.research.google.com/drive/10YSYUANd1ftJqbHd-ExCW4kFINlGN1ML?usp=sharing"
   ]
  },
  {
   "cell_type": "markdown",
   "metadata": {
    "id": "f9aws0meaRBS"
   },
   "source": [
    "#### Submission Deadline: 31/05/2023  -  23:59"
   ]
  },
  {
   "cell_type": "markdown",
   "metadata": {
    "id": "j2OUn001UbEl"
   },
   "source": [
    "# Question: 01\n",
    "\n",
    "**MAP REDUCE - DATASET:** write map reduce program(s) using python-mr in colab notebook and complete the following exercises\n",
    "\n",
    "  - Find the files which contain the following phrases\n",
    "    - “draping the folds of her velvet dress”\n",
    "    - “grim clasp to the iron stanchions”\n",
    "    - “Lo, I teach you the Superman!”\n",
    "    - “Through that divine allegiance”\n",
    "  - Find the file which has maximum number of tokens\n",
    "  - Find the file which has the longest sentence (a sentence ends in a full stop and can span multiple lines)\n",
    "\n",
    "\n",
    "**Dataset:** \n",
    "\n",
    "  - [pg1513.txt](https://www.gutenberg.org/cache/epub/1513/pg1513.txt)<br>\n",
    "  - [2160-0.txt](https://www.gutenberg.org/files/2160/2160-0.txt)<br>\n",
    "  - [pg11.txt](https://www.gutenberg.org/cache/epub/11/pg11.txt)<br>\n",
    "  - [pg2600.txt](https://www.gutenberg.org/cache/epub/2600/pg2600.txt)<br>\n",
    "  - [345.txt.utf-8](https://www.gutenberg.org/ebooks/345.txt.utf-8)<br>\n",
    "  - [64317.txt.utf-8](https://www.gutenberg.org/ebooks/64317.txt.utf-8)<br>\n",
    "  - [70815.txt.utf-8](https://www.gutenberg.org/ebooks/70815.txt.utf-8)<br>\n",
    "  - [1080-0.txt](https://www.gutenberg.org/files/1080/1080-0.txt)<br>\n",
    "  - [70817.txt.utf-8](https://www.gutenberg.org/ebooks/70817.txt.utf-8)<br>\n",
    "  - [1998.txt.utf-8](https://www.gutenberg.org/ebooks/1998.txt.utf-8)<br>\n",
    "\n"
   ]
  },
  {
   "cell_type": "markdown",
   "metadata": {
    "id": "QtmETPwNvEmO"
   },
   "source": [
    "## Answer: 01"
   ]
  },
  {
   "cell_type": "markdown",
   "metadata": {
    "id": "TNSn_qXYsAgv"
   },
   "source": [
    "#### Supporting URL\n",
    "#### https://mrjob.readthedocs.io/en/latest/"
   ]
  },
  {
   "cell_type": "markdown",
   "metadata": {
    "id": "f4zmAJZysAgv"
   },
   "source": [
    "#### Importing common library "
   ]
  },
  {
   "cell_type": "code",
   "execution_count": 66,
   "metadata": {
    "id": "fwM1w9gDsAgv"
   },
   "outputs": [],
   "source": [
    "import os\n",
    "import urllib.request"
   ]
  },
  {
   "cell_type": "code",
   "execution_count": 67,
   "metadata": {
    "id": "DlaKhhevsAgw"
   },
   "outputs": [],
   "source": [
    "workingPath = '/content/sample_data/Assignment 1'#'C:/Users/Admin/Coding-M-Tech/AI Lab 2 - ID5003W/Assignment 1'"
   ]
  },
  {
   "cell_type": "code",
   "execution_count": 68,
   "metadata": {
    "id": "68OcLN0-vEmO"
   },
   "outputs": [],
   "source": [
    "!pip install --quiet mrjob"
   ]
  },
  {
   "cell_type": "markdown",
   "metadata": {
    "id": "SbqDy9dOsAgw"
   },
   "source": [
    "#### Changing the working directory "
   ]
  },
  {
   "cell_type": "code",
   "execution_count": 69,
   "metadata": {
    "id": "TMS5Yx_BwiuE"
   },
   "outputs": [],
   "source": [
    "os.chdir(workingPath)"
   ]
  },
  {
   "cell_type": "markdown",
   "metadata": {
    "id": "eD5rsVyRvEmQ"
   },
   "source": [
    "#### Common Variable"
   ]
  },
  {
   "cell_type": "code",
   "execution_count": 70,
   "metadata": {
    "id": "TN6n09BovEmQ"
   },
   "outputs": [],
   "source": [
    "## All the downloadable url\n",
    "url_pg1513 = 'https://www.gutenberg.org/cache/epub/1513/pg1513.txt'\n",
    "url_2160 = 'https://www.gutenberg.org/files/2160/2160-0.txt'\n",
    "url_pg11 = 'https://www.gutenberg.org/cache/epub/11/pg11.txt'\n",
    "url_pg2600 = 'https://www.gutenberg.org/cache/epub/2600/pg2600.txt'\n",
    "url_pg345 = 'https://www.gutenberg.org/cache/epub/345/pg345.txt'\n",
    "url_pg64317 = 'https://www.gutenberg.org/cache/epub/64317/pg64317.txt'\n",
    "url_pg70815 = 'https://www.gutenberg.org/cache/epub/70815/pg70815.txt'\n",
    "url_1080 = 'https://www.gutenberg.org/files/1080/1080-0.txt'\n",
    "url_pg70817 = 'https://www.gutenberg.org/cache/epub/70817/pg70817.txt'\n",
    "url_pg1998 = 'https://www.gutenberg.org/cache/epub/1998/pg1998.txt'"
   ]
  },
  {
   "cell_type": "markdown",
   "metadata": {
    "id": "XYTHCbyMvEmR"
   },
   "source": [
    "#### Map reduce Functionality "
   ]
  },
  {
   "cell_type": "markdown",
   "metadata": {
    "id": "iAD9uvtFAFcW"
   },
   "source": [
    "#### Phrase Searcher"
   ]
  },
  {
   "cell_type": "code",
   "execution_count": 71,
   "metadata": {
    "colab": {
     "base_uri": "https://localhost:8080/"
    },
    "id": "i53ZaAhZvEmR",
    "outputId": "91414ea0-731e-4a34-95c8-bbd87ec95604"
   },
   "outputs": [
    {
     "name": "stdout",
     "output_type": "stream",
     "text": [
      "Overwriting phrase_search.py\n"
     ]
    }
   ],
   "source": [
    "%%file phrase_search.py\n",
    "from mrjob.job import MRJob\n",
    "from mrjob.step import MRStep\n",
    "import os\n",
    "\n",
    "class FindPhrase(MRJob):\n",
    "     \n",
    "    def configure_args(self):\n",
    "        super(FindPhrase, self).configure_args()\n",
    "        self.add_passthru_arg('--phrase', type=str, help='Phrase to find in files')\n",
    "\n",
    "    def mapper_init(self):\n",
    "        self.phrase = self.options.phrase\n",
    "\n",
    "    def mapper(self, _, line):\n",
    "        filename = os.getenv('mapreduce_map_input_file')\n",
    "        file_name = filename.split('/')[-1]\n",
    "        if self.phrase in line:\n",
    "            yield (self.phrase,file_name), 1\n",
    "\n",
    "    def reducer(self, key, values): \n",
    "        yield key, f\"{sum(values)} occurance of : {key[0]} phrase, is present in : {key[1]} file\"\n",
    "\n",
    "if __name__ == '__main__':\n",
    "    FindPhrase.run()\n"
   ]
  },
  {
   "cell_type": "markdown",
   "metadata": {
    "id": "2qrQKqRbAbHG"
   },
   "source": [
    "#### Max Token Searcher"
   ]
  },
  {
   "cell_type": "code",
   "execution_count": 72,
   "metadata": {
    "colab": {
     "base_uri": "https://localhost:8080/"
    },
    "id": "N-xQlaB_AheN",
    "outputId": "00e7700c-c7b8-4d25-e559-04f5badd033a"
   },
   "outputs": [
    {
     "name": "stdout",
     "output_type": "stream",
     "text": [
      "Overwriting max_token_search.py\n"
     ]
    }
   ],
   "source": [
    "%%file max_token_search.py\n",
    "from mrjob.job import MRJob\n",
    "from mrjob.step import MRStep\n",
    "import os\n",
    "\n",
    "class FindMaxToken(MRJob):\n",
    "     \n",
    "    def mapper(self, _, line):\n",
    "        filename = os.getenv('mapreduce_map_input_file')\n",
    "        tokens = line.strip().split()\n",
    "        file_name = filename.split('/')[-1]\n",
    "        yield file_name, len(tokens)\n",
    "\n",
    "    def reducer(self, key, values):\n",
    "        yield key, f\" file has token value of : {sum(values) }\"\n",
    "\n",
    "if __name__ == '__main__':\n",
    "    FindMaxToken.run()\n",
    "\n"
   ]
  },
  {
   "cell_type": "markdown",
   "metadata": {
    "id": "7eTWWWvnsAgz"
   },
   "source": [
    "#### Maximum Length Sentence"
   ]
  },
  {
   "cell_type": "code",
   "execution_count": 73,
   "metadata": {
    "colab": {
     "base_uri": "https://localhost:8080/"
    },
    "id": "J6wh1gDpsAgz",
    "outputId": "f3ea5636-2ba1-4332-8d44-54f5f1f4f917"
   },
   "outputs": [
    {
     "name": "stdout",
     "output_type": "stream",
     "text": [
      "Overwriting max_length_search.py\n"
     ]
    }
   ],
   "source": [
    "%%file max_length_search.py\n",
    "from mrjob.job import MRJob\n",
    "from mrjob.step import MRStep\n",
    "import os\n",
    "import re\n",
    "\n",
    "class FindMaxSentenceLength(MRJob):\n",
    "     \n",
    "    def mapper(self, _, line):\n",
    "        filename = os.getenv('mapreduce_map_input_file')\n",
    "        sentences = re.split(r'(?<=[.])\\s+', line)\n",
    "        file_name = filename.split('/')[-1]\n",
    "        for sentence in sentences:\n",
    "            yield file_name, len(sentence)\n",
    "\n",
    "    def reducer(self, key, values):\n",
    "        yield key, f\" file has sentence of maximum {max(values)} length\"\n",
    "\n",
    "if __name__ == '__main__':\n",
    "    FindMaxSentenceLength.run()"
   ]
  },
  {
   "cell_type": "markdown",
   "metadata": {
    "id": "9OpbXGP1vEmR"
   },
   "source": [
    "#### Creating a dataset folder"
   ]
  },
  {
   "cell_type": "code",
   "execution_count": 74,
   "metadata": {
    "colab": {
     "base_uri": "https://localhost:8080/"
    },
    "id": "bYCqLlnbvEmS",
    "outputId": "7a415140-8d2a-40fb-a04e-b5a8f02966c9"
   },
   "outputs": [
    {
     "name": "stdout",
     "output_type": "stream",
     "text": [
      "mkdir: cannot create directory ‘Q1-Dataset’: File exists\n"
     ]
    }
   ],
   "source": [
    "!mkdir Q1-Dataset"
   ]
  },
  {
   "cell_type": "markdown",
   "metadata": {
    "id": "m7WYcHHsvEmS"
   },
   "source": [
    "#### Downloading the file"
   ]
  },
  {
   "cell_type": "code",
   "execution_count": 75,
   "metadata": {
    "colab": {
     "base_uri": "https://localhost:8080/"
    },
    "id": "yskRVmIbvEmS",
    "outputId": "ab05d2d5-0273-492b-b6f3-a18c99af4e4b"
   },
   "outputs": [
    {
     "data": {
      "text/plain": [
       "('Q1-Dataset/pg1998.txt', <http.client.HTTPMessage at 0x7f3b29dafca0>)"
      ]
     },
     "execution_count": 75,
     "metadata": {},
     "output_type": "execute_result"
    }
   ],
   "source": [
    "urllib.request.urlretrieve(url_pg1513,'Q1-Dataset/pg1513.txt')\n",
    "urllib.request.urlretrieve(url_2160,'Q1-Dataset/2160-0.txt')\n",
    "urllib.request.urlretrieve(url_pg11,'Q1-Dataset/pg11.txt')\n",
    "urllib.request.urlretrieve(url_pg2600,'Q1-Dataset/pg2600.txt')\n",
    "urllib.request.urlretrieve(url_pg345,'Q1-Dataset/pg345.txt')\n",
    "urllib.request.urlretrieve(url_pg64317,'Q1-Dataset/pg64317.txt')\n",
    "urllib.request.urlretrieve(url_pg70815,'Q1-Dataset/pg70815.txt')\n",
    "urllib.request.urlretrieve(url_1080,'Q1-Dataset/1080-0.txt')\n",
    "urllib.request.urlretrieve(url_pg70817,'Q1-Dataset/pg70817.txt')\n",
    "urllib.request.urlretrieve(url_pg1998,'Q1-Dataset/pg1998.txt')"
   ]
  },
  {
   "cell_type": "markdown",
   "metadata": {
    "id": "T-ZNv-cmvEmS"
   },
   "source": [
    "##### 1a. Running Phrase Finder method"
   ]
  },
  {
   "cell_type": "code",
   "execution_count": 76,
   "metadata": {
    "colab": {
     "base_uri": "https://localhost:8080/"
    },
    "id": "B_-PPi_gvEmS",
    "outputId": "52d5abb6-febd-44df-d113-ce7986748730"
   },
   "outputs": [
    {
     "name": "stdout",
     "output_type": "stream",
     "text": [
      "No configs found; falling back on auto-configuration\n",
      "No configs specified for inline runner\n",
      "Creating temp directory /tmp/phrase_search.root.20230527.154257.823289\n",
      "Running step 1 of 1...\n",
      "job output is in /tmp/phrase_search.root.20230527.154257.823289/output\n",
      "Streaming final output from /tmp/phrase_search.root.20230527.154257.823289/output...\n",
      "[\"draping the folds of her velvet dress\", \"pg2600.txt\"]\t\"1 occurance of : draping the folds of her velvet dress phrase, is present in : pg2600.txt file\"\n",
      "Removing temp directory /tmp/phrase_search.root.20230527.154257.823289...\n",
      "No configs found; falling back on auto-configuration\n",
      "No configs specified for inline runner\n",
      "Creating temp directory /tmp/phrase_search.root.20230527.154258.940609\n",
      "Running step 1 of 1...\n",
      "job output is in /tmp/phrase_search.root.20230527.154258.940609/output\n",
      "Streaming final output from /tmp/phrase_search.root.20230527.154258.940609/output...\n",
      "[\"grim clasp to the iron stanchions\", \"pg345.txt\"]\t\"1 occurance of : grim clasp to the iron stanchions phrase, is present in : pg345.txt file\"\n",
      "Removing temp directory /tmp/phrase_search.root.20230527.154258.940609...\n",
      "No configs found; falling back on auto-configuration\n",
      "No configs specified for inline runner\n",
      "Creating temp directory /tmp/phrase_search.root.20230527.154259.738658\n",
      "Running step 1 of 1...\n",
      "job output is in /tmp/phrase_search.root.20230527.154259.738658/output\n",
      "Streaming final output from /tmp/phrase_search.root.20230527.154259.738658/output...\n",
      "[\"Lo, I teach you the Superman!\", \"pg1998.txt\"]\t\"1 occurance of : Lo, I teach you the Superman! phrase, is present in : pg1998.txt file\"\n",
      "Removing temp directory /tmp/phrase_search.root.20230527.154259.738658...\n",
      "No configs found; falling back on auto-configuration\n",
      "No configs specified for inline runner\n",
      "Creating temp directory /tmp/phrase_search.root.20230527.154300.351116\n",
      "Running step 1 of 1...\n",
      "job output is in /tmp/phrase_search.root.20230527.154300.351116/output\n",
      "Streaming final output from /tmp/phrase_search.root.20230527.154300.351116/output...\n",
      "Removing temp directory /tmp/phrase_search.root.20230527.154300.351116...\n"
     ]
    }
   ],
   "source": [
    "!python phrase_search.py --phrase=\"draping the folds of her velvet dress\" \"Q1-Dataset/\"\n",
    "\n",
    "!python phrase_search.py --phrase=\"grim clasp to the iron stanchions\" \"Q1-Dataset/\"\n",
    "\n",
    "!python phrase_search.py --phrase=\"Lo, I teach you the Superman!\" \"Q1-Dataset/\"\n",
    "\n",
    "!python phrase_search.py --phrase=\"Through that divine allegiance\" \"Q1-Dataset/\""
   ]
  },
  {
   "cell_type": "markdown",
   "metadata": {
    "id": "NzQMA0o0sAg0"
   },
   "source": [
    "### Conclusion 1a .\n",
    "#### \"draping the folds of her velvet dress\" phrase is available in pg2600.txt file\n",
    "#### \"grim clasp to the iron stanchions\"   phrase is available in pg345.txt file\n",
    "#### \"Lo, I teach you the Superman!\"  phrase is available in 1998.txt file"
   ]
  },
  {
   "cell_type": "markdown",
   "metadata": {
    "id": "t1fbAyu7vEmS",
    "outputId": "4825daee-7079-41cd-a441-22de0eedec72"
   },
   "source": [
    "##### 1b. Running Max Token Finder method"
   ]
  },
  {
   "cell_type": "code",
   "execution_count": 77,
   "metadata": {
    "colab": {
     "base_uri": "https://localhost:8080/"
    },
    "id": "YYDF22jqvEmT",
    "outputId": "c7a3c102-2df2-448a-d87d-3ad2df528b23"
   },
   "outputs": [
    {
     "name": "stdout",
     "output_type": "stream",
     "text": [
      "No configs found; falling back on auto-configuration\n",
      "No configs specified for inline runner\n",
      "Creating temp directory /tmp/max_token_search.root.20230527.154300.963560\n",
      "Running step 1 of 1...\n",
      "job output is in /tmp/max_token_search.root.20230527.154300.963560/output\n",
      "Streaming final output from /tmp/max_token_search.root.20230527.154300.963560/output...\n",
      "\"1080-0.txt\"\t\" file has token value of : 6512\"\n",
      "\"2160-0.txt\"\t\" file has token value of : 151379\"\n",
      "\"pg11.txt\"\t\" file has token value of : 29590\"\n",
      "\"pg1513.txt\"\t\" file has token value of : 29002\"\n",
      "\"pg1998.txt\"\t\" file has token value of : 113997\"\n",
      "\"pg345.txt\"\t\" file has token value of : 164459\"\n",
      "\"pg64317.txt\"\t\" file has token value of : 51257\"\n",
      "\"pg70815.txt\"\t\" file has token value of : 82782\"\n",
      "\"pg70817.txt\"\t\" file has token value of : 28184\"\n",
      "\"pg2600.txt\"\t\" file has token value of : 566330\"\n",
      "Removing temp directory /tmp/max_token_search.root.20230527.154300.963560...\n"
     ]
    }
   ],
   "source": [
    "!python max_token_search.py \"Q1-Dataset/*\""
   ]
  },
  {
   "cell_type": "markdown",
   "metadata": {
    "id": "OOYf9bgpvEmT"
   },
   "source": [
    "### Conclusion 1b. \n",
    "#### pg2600.txt has maximum number of token i.e. 566330"
   ]
  },
  {
   "cell_type": "markdown",
   "metadata": {
    "id": "0NtZA_efvEmT"
   },
   "source": [
    "##### 1c. Running Find Max Sentence Length method"
   ]
  },
  {
   "cell_type": "code",
   "execution_count": 78,
   "metadata": {
    "colab": {
     "base_uri": "https://localhost:8080/"
    },
    "id": "CfW3-mMWvEmT",
    "outputId": "9b9dc333-38fb-4345-defd-4766da96500b"
   },
   "outputs": [
    {
     "name": "stdout",
     "output_type": "stream",
     "text": [
      "No configs found; falling back on auto-configuration\n",
      "No configs specified for inline runner\n",
      "Creating temp directory /tmp/max_length_search.root.20230527.154302.969344\n",
      "Running step 1 of 1...\n",
      "job output is in /tmp/max_length_search.root.20230527.154302.969344/output\n",
      "Streaming final output from /tmp/max_length_search.root.20230527.154302.969344/output...\n",
      "\"1080-0.txt\"\t\" file has sentence of maximum 72 length\"\n",
      "\"2160-0.txt\"\t\" file has sentence of maximum 79 length\"\n",
      "\"pg11.txt\"\t\" file has sentence of maximum 82 length\"\n",
      "\"pg1513.txt\"\t\" file has sentence of maximum 90 length\"\n",
      "\"pg1998.txt\"\t\" file has sentence of maximum 78 length\"\n",
      "\"pg345.txt\"\t\" file has sentence of maximum 73 length\"\n",
      "\"pg64317.txt\"\t\" file has sentence of maximum 72 length\"\n",
      "\"pg70815.txt\"\t\" file has sentence of maximum 72 length\"\n",
      "\"pg70817.txt\"\t\" file has sentence of maximum 72 length\"\n",
      "\"pg2600.txt\"\t\" file has sentence of maximum 74 length\"\n",
      "Removing temp directory /tmp/max_length_search.root.20230527.154302.969344...\n"
     ]
    }
   ],
   "source": [
    "!python max_length_search.py \"Q1-Dataset/*\""
   ]
  },
  {
   "cell_type": "markdown",
   "metadata": {
    "id": "2WHwR23dsAg1"
   },
   "source": [
    "### Conclusion 1c. \n",
    "#### pg1513.txt has maximum sentence length of 90."
   ]
  },
  {
   "cell_type": "markdown",
   "metadata": {
    "id": "wdS5g3CVsAg1"
   },
   "source": [
    "# Conclusion of Question 1: \n",
    "\n",
    "### Q. Find the files which contain the following phrases\n",
    "### A. \"draping the folds of her velvet dress\" phrase is available in pg2600.txt file\n",
    "### \"grim clasp to the iron stanchions\"   phrase is available in pg345.txt file\n",
    "### \"Lo, I teach you the Superman!\"  phrase is available in 1998.txt file\n",
    "\n",
    "\n",
    "### Q. Find the file which has maximum number of tokens\n",
    "### A. pg2600.txt has maximum number of token i.e. 566330\n",
    "\n",
    "\n",
    "### Q. Find the file which has the longest sentence (a sentence ends in a full stop and can span multiple lines)\n",
    "### A. pg1513.txt has maximum sentence length of 90.\n"
   ]
  },
  {
   "cell_type": "markdown",
   "metadata": {
    "id": "0ESNEl4evEmT"
   },
   "source": [
    "# Question: 02\n",
    "\n",
    "**Write a PySpark RDD program to compute:**\n",
    "\n",
    "\n",
    "  - The list of common (overlapping / intersection ) words across all the ten files listed above.\n",
    "  - List the word frequency of common words across files as a dict ( tip: use join method in the rdd). The size of the dict equals the list of common words and each key in the top level dict contains the word count corresponding to all the ten files\n",
    "\n",
    "    - {“word”: {“pg1513.txt”:10,”2160-0.txt”:25,... } \n"
   ]
  },
  {
   "cell_type": "markdown",
   "metadata": {
    "id": "OZ3iIh7wvEmT"
   },
   "source": [
    "## Answer: 02"
   ]
  },
  {
   "cell_type": "code",
   "execution_count": 79,
   "metadata": {
    "colab": {
     "base_uri": "https://localhost:8080/"
    },
    "id": "s2GEv6WFsAg2",
    "outputId": "69de35b4-bcb8-4174-9f5c-722cea7cba09"
   },
   "outputs": [
    {
     "name": "stdout",
     "output_type": "stream",
     "text": [
      "Looking in indexes: https://pypi.org/simple, https://us-python.pkg.dev/colab-wheels/public/simple/\n",
      "Requirement already satisfied: pyspark in /usr/local/lib/python3.10/dist-packages (3.4.0)\n",
      "Requirement already satisfied: py4j==0.10.9.7 in /usr/local/lib/python3.10/dist-packages (from pyspark) (0.10.9.7)\n"
     ]
    }
   ],
   "source": [
    "!pip install pyspark"
   ]
  },
  {
   "cell_type": "markdown",
   "metadata": {
    "id": "Xmoy8KBi1hI9"
   },
   "source": [
    "#### Importing library"
   ]
  },
  {
   "cell_type": "code",
   "execution_count": 80,
   "metadata": {
    "id": "AVbW10sd1hJF"
   },
   "outputs": [],
   "source": [
    "from pyspark import SparkConf, SparkContext\n",
    "from operator import add\n",
    "import pandas as pd"
   ]
  },
  {
   "cell_type": "markdown",
   "metadata": {
    "id": "iKlQriqz1hJF"
   },
   "source": [
    "#### Common Variable Declaration"
   ]
  },
  {
   "cell_type": "code",
   "execution_count": 81,
   "metadata": {
    "id": "1EiKU9xY1hJF"
   },
   "outputs": [],
   "source": [
    "# Initialize Spark\n",
    "spark_config = SparkConf().setMaster('local').setAppName('CommonWordsApp')\n",
    "spark_context = SparkContext.getOrCreate(conf=spark_config)\n",
    "\n",
    "# Define the list of files\n",
    "file_paths = ['Q1-Dataset/pg1513.txt','Q1-Dataset/2160-0.txt','Q1-Dataset/pg11.txt',\n",
    "              'Q1-Dataset/pg2600.txt','Q1-Dataset/pg345.txt','Q1-Dataset/pg64317.txt',\n",
    "              'Q1-Dataset/pg70815.txt','Q1-Dataset/1080-0.txt','Q1-Dataset/pg70817.txt',\n",
    "              'Q1-Dataset/pg1998.txt']\n",
    "\n",
    "# Initialize the word frequency dictionary\n",
    "word_frequency_dict = {}"
   ]
  },
  {
   "cell_type": "markdown",
   "metadata": {
    "id": "08CzPLXV1hJF"
   },
   "source": [
    "#### Perfom the main operation of searching "
   ]
  },
  {
   "cell_type": "code",
   "execution_count": 82,
   "metadata": {
    "colab": {
     "base_uri": "https://localhost:8080/"
    },
    "id": "ypx7mCgUsAg2",
    "outputId": "33032d2d-c1a5-4dbd-efa7-2a2433c1f572"
   },
   "outputs": [
    {
     "name": "stdout",
     "output_type": "stream",
     "text": [
      "Common word count is 1041\n",
      "Common Words are: ['', 'rather', 'references', 'IMPLIED,', 'two', 'immediate', 'family', 'this,', 'of', '2001,', 'accessible', 'USE', 'GUTENBERG', 'away', 'damages.', 'official', 'right', 'before', 'ready', '50', 'sentence,', 'lieu', 'Updated', 'volunteers', 'permanent', 'Redistribution', 'than', 'ACTUAL,', '(801)', '60', 'computers', '***', 'sent', 'cause.', 'law', 'damage', 'her', 'gross', 'agent', 'would', 'putting', 'something', 'About', 'registered', 'anything', 'License.', 'was', 'put', 'agreement', 'us', 'leave', 'think', 'particular', 'Professor', 'never', 'Use', 'help', 'especially', 'format', 'files', 'Do', 'Nearly', 'links', 'allow', 'entity', 'have', 'expense', 'no', 'Information', 'four', 'charities', 'thousand', 'equipment', 'demand', 'royalties.', 're-use', '4,', 'is', 'support', 'bring', 'SEND', 'though', 'IRS.', 'BREACH', 'opportunity', 'Special', 'trademark.', 'till', 'derive', 'prohibition', 'The', 'solicit', 'www.gutenberg.org', 'manager', 'free', 'indicate', 'old,', 'head', 'phrase', 'obtain', 'share', 'synonymous', 'compliance', 'widest', 'looked', 'poor', 'countries', 'refund', 'United', 'charges.', 'freely', 'an', 'volunteer', 'virus,', '1.', 's/he', 'charitable', 'at', 'tax', '(does', 'requirements', 'INDEMNITY', 'mission', 'TRADEMARK', 'following', 'me,', 'imposed', 'almost', 'While', 'which', 'EVEN', 'most', 'cost,', 'owner,', 'paperwork', 'bound', 'After', '(a)', 'alone', 'copy', 'copies', '1.F.3,', 'data,', '2.', 'and', 'glad', 'THOSE', 'five', 'accordance', 'goals', 'Defect', 'START:', 'displaying', 'By', 'Contributions', 'required', '1.C.', 'remain', '1.E.8', 'gone', 'knew', 'available', 'come.', 'any', 'follow', 'BEFORE', 'you', 'by', 'research.', 'displaying,', 'limitation', 'offer', 'disclaimer', 'editions', 'federal', 'preserve', 'harmless', 'received', 'was,', 'Contact', 'Unless', 'display,', 'THE', 'educational', 'within', 'care', 'editions,', 'concerning', 'parts', 'necessarily', 'WARRANTY', 'FOUNDATION,', 'processing', 'soon', 'all,', 'UT', 'associated)', 'Thus,', 'distribute', 'expenses,', 'A', 'compilation', 'web', 'Section', '-', 'addresses.', 'email', 'how', 'return', 'much', 'Internal', 'Sections', 'manner', 'treatment', 'removed.', 'codes', 'were', '1.E.3.', 'state', 'replace', 'several', '1.E.4.', 'both', '1.F.3.', 'PLEASE', '84116,', 'cease', 'BE', 'govern', 'against', 'card', 'expend', 'THAT', 'General', '$5,000)', 'identify,', 'abide', 'use', 'gratefully', 'claim', 'version', 'INCLUDING', 'created', 'PGLAF),', 'days', 'from.', 'out', 'liability,', '1.B.', 'appearing', 'violates', 'any)', 'financial', 'copy,', 'new', 'form', 'cannot', 'derived', 'And', 'donate', '3.', 'facility:', 'Despite', 'UNDER', 'these', 'longer', 'English', 'ten', 'collection.', 'them,', 'way', 'medium', '(any', 'nor', 'user,', 'requirements,', 'things', 'in', 'provision', 'LICENSE', 'Email', 'long', 'NEGLIGENCE,', 'inaccurate', '1.F.1.', 'additions', 'proprietary', 'rules,', 'we', 'print', 'donate.', 'walk', 'Hart', 'But', 'array', '($1', 'holder', 'whose', '1.C', 'donations.', 'carry', 'meet', 'understand,', 'appears,', 'you!)', 'subscribe', 'include', 'extent', 'visit', 'provide,', 'far', 'produce', 'this', 'perform,', 'rest', 'already', 'Compliance', 'KIND,', 'that,', 'www.gutenberg.org/contact', 'must,', 'prominently', 'based', 'corrupt', 'search', 'modified', 'myself,', 'Foundation.', 'states', 'also', 'it', 'forth', 'periodic', 'posted', 'Terms', 'agreed', '30', 'not', 'contain', 'States,', 'reading', 'Release', 'fell', 'sentence', '1.E.6.', 'City,', 'help,', 'eBook', 'brought', 'pages', 'trademark,', 'its', 'S.', 'us,', 'without', 'Full', 'few', 'hypertext', 'destroy', 'every', 'INCIDENTAL', 'DISTRIBUTOR', 'my', 'profits', 'since', 'concept', 'WORK', 'except', 'defective', 'States.', 'maximum', 'WITH', 'physical', 'body', 'In', 'under', 'West,', '1.E.7.', '1.F.4.', 'form.', 'methods', 'wish', 'so', 'constant', 'Many', 'outside', 'applicable', 'possessed', 'or', '1.A.', 'identification', 'EXCEPT', 'previous', 'ANYTHING', 'www.gutenberg.org/donate', 'exporting', 'fees.', 'fees,', 'shall', 'small', 'found', 'whom', 'Title:', 'DISCLAIMER', 'employees', 'He', 'READ', 'discontinue', 'equipment.', 'variety', 'Copyright', 'about', 'be', 'first', 'support.', 'included.', 'original', 'seem', 'IN', 'accept', 'main', 'LIABILITY,', 'apply', 'get', 'I', 'contact', 'alternate', 'How', 'notice', 'intellectual', 'Volunteers', 'To', 'DONATIONS', '(and', '(if', 'generations.', 'there', 'turn', 'even', 'anywhere', 'told', 'further', 'binary,', 'produced', 'charge', 'sharing', 'North', 'form,', 'eBook,', 'confirmed', 'NO', 'They', '1.E', 'copied', 'GIVE', 'read,', 'own', 'online', 'DAMAGES', 'International', 'more', 'deletions', '1.F.2.', 'OF', 'ask', 'redistribute', 'implied', 'PROVIDED', 'TO', 'anyone.', 'alteration,', 'very', 'CONSEQUENTIAL,', 'THIS', 'regulating', 'course,', 'last', 'requirements.', 'it,', 'past', 'after', 'confirmation', 'appear', 'obsolete,', 'may', 'comply', 'depends', 'infringement,', 'transcribe', 'came', 'pay', 'are', 'offers', '4', 'person', 'removed', 'OWNER,', 'damages,', 'make', 'easily', 'legal', 'good', 'provide', 'now', 'compliance.', 'formats', 'paid', 'provisions.', 'compressed,', 'eBooks.', 'world', 'neither', 'check', 'set', 'downloading,', 'remaining', 'public', 'different', 'disclaimers', 'forty', 'paragraph', 'However,', 'providing', 'upon', 'discover', '1.E.5.', 'directly', 'PG', 'modification,', 'require', 'receiving', 'granted', '(c)', '1.E.1.', 'obtaining', 'distributing', 'middle-aged', 'license', 'donations', 'PUNITIVE', 'number', 'off', 'organized', 'office', 'one', 'EIN', 'learn', 'calculated', 'Revenue', 'creation', 'their', 'written', 'warranties', '1.F.6.', 'works.', 'place', 'second', 'hundred', 'on', 'Mission', 'located', 'distributing,', 'incomplete,', 'generations', 'U.S.', 'purpose', 'explanation.', 'elect', 'word', 'SUCH', 'Produced', 'all', 'secure', 'whenever', 'has', 'agreement,', 'does', 'agree', '20%', 'Archive', 'if', 'www.gutenberg.org/license.', 'performed,', 'makes', 'hold', 'met', 'distributed', 'You', 'AGREE', 'takes', 'come', 'lot', 'cost', 'edition.', 'protect', 'newsletter', 'status', 'Royalty', 'EBOOK', 'invalidity', 'less', 'bent', 'answer', 'nearly', 'among', 'Foundation', 'choose', 'because', 'disclaim', 'For', 'INDIRECT,', 'to', 'REMEDIES', 'credit', 'grow', 'effort', 'want', 'readable', 'time,', 'such', 'eBooks', 'electronically,', 'people', 'FITNESS', 'should', 'request,', 'see', 'me', 'associated', 'reaching', 'when', 'proofread', '5.', 'opportunities', 'owner', 'Any', 'complying', 'copyright', 'sure', 'twelve', 'yet', 'Lake', 'Creating', 'Then', 'creating', 'Literary', 'copying', 'figure', 'taxes.', 'work.', 'liability', 'YOU', 'work', 'he', 'library', 'calculate', 'beat', 'copying,', 'Please', 'home', 'errors,', 'active', 'page', 'Date:', 'above', 'disk', 'MERCHANTABILITY', 'WARRANTY,', 'let', 'start', 'distribution', 'particularly', 'holder.', 'donors', 'linked', 'three', 'certain', 'owns', 'transcription', 'maintaining', '596-1887.', '1.D.', 'approach', 'group', 'accepted', 'kind', 'subject', 'again', 'writing', 'loose', '1.E.', 'accepting', 'cause', 'but', 'money', 'works,', 'anyone', 'Gutenberg:', 'am', 'take', 'renamed.', 'exists', 'commercial', 'do', 'read', 'restrictions', 'like', 'years,', 'eBooks,', 'on,', 'limited', 'promoting', 'OTHER', 'It', 'prepare', 'child', 'Replacement', 'young', 'using', '1.E.8.', 'unenforceability', 'refund.', 'individual', 'below.', 'prevent', 'collection', 'other', 'EXPRESS', 'Author:', 'life.', 'efforts', 'Michael', 'others', 'country', 'LIABLE', '1.F.', 'move', '1.E.9.', 'uniform', 'If', 'another', 'occur:', 'for', 'displayed,', 'up', 'permission', 'agreement.', 'file', 'they', 'donation', 'PARAGRAPH', 'property', 'viewed,', 'licensed', 'effort,', 'includes', 'We', 'your', '1.F.5.', '(www.gutenberg.org),', 'Mississippi', 'indicating', 'method', 'laws', 'present', 'up,', 'There', 'future', 'age', 'See', 'reason', 'each', 'END', 'types', 'RIGHT', 'specified', 'will', 'committed', 'ensuring', 'could', 'swamp', 'License', 'unless', 'Most', 'As', 'might', 'that', 'life', 'being', 'problem.', 'critical', 'been', 'little', 'payments', 'increasing', 'provided', 'Service.', 'to,', 'accessed,', 'times', 'clearly', 'determine', 'PROJECT', 'considerable', 'beginning', 'REFUND', 'Additional', 'receipt', 'please', 'unsolicited', 'half', 'made', 'DIRECT,', 'the', 'legally', 'user', 'Except', 'same', 'survive', 'hope', 'performances', 'date', 'sending', 'employee', 'WARRANTIES', 'often', 'practically', 'explanation', 'law.', 'START', 'replacement', 'whole', 'holder,', 'some', 'electronic', 'great', 'sort', 'redistributing', 'AND', 'included', 'royalty', 'deductible', 'time', 'address', 'find', 'day,', 'ever', 'full', 'sound', 'must', 'additional', 'know', '1.E.2.', 'accepted,', 'promotion', 'donate,', 'hear', 'reports,', '64-6221541.', 'his', 'believe', 'current', 'research', 'assistance', 'indemnify', 'easy.', 'domain', 'DISTRIBUTE', 'Redistributing', 'walks', 'STRICT', 'returns.', 'exempt', 'means', 'as', 'as,', 'locations', 'Project', 'REPLACEMENT', '501(c)(3)', 'into', 'production,', 'answer,', 'where', 'Salt', 'States', 'redistribution.', 'fee', 'representations', 'hot', 'work,', 'them', 'others.', 'effect', 'reported', 'give', 'it.', 'indirectly', 'efforts,', '(trademark/copyright)', 'business', 'used', 'whatsoever.', 'Language:', 'Donations', 'nonproprietary', 'possession.', 'arise', 'remove', 'cold', 'convert', 'BUT', 'only', 'best', 'CONTRACT', 'DAMAGE.', 'electronically', 'name', 'FOR', 'permitted', 'FULL', 'interpreted', 'fees', 'NOTICE', 'fix', 'checks,', 'network', 'paying', 'That', 'Of', 'stay', 'old', 'outdated', 'costs', 'trademark', 'what', 'well', 'part', 'from', 'shared', 'said,', 'defective,', 'void', 'him.', 'with', 'AGREEMENT', '(or', 'marked', 'unlink', 'many', 'too', '(b)', 'man', 'WILL', 'access', '3', 'Foundation,', 'exclusion', 'discovered', 'OR', 'Some', 'laws.', 'defect', 'An', 'course', 'our', 'This', 'POSSIBILITY', 'either', 'reasonable', 'six', 'originator', 'addition', 'LIMITED', 'stored,', 'those', 'important', 'including', 'owed', 'HAVE', 'keeping', 'IF', '90', 'thing', 'hundreds', 'corporation', 'prepare)', 'detach', 'having', 'ANY', 'information', 'can', 'Gutenberg', '1.E.1', 'terms', 'paper', 'a', 'printed', 'solicitation', 'performing,', 'doubt', 'computer', 'holder),', 'royalties', 'contributions', 'derivative', 'ways', 'she', 'viewing,', 'distributed:', 'computers.', 'statements', 'keep', '1.E.7', 'medium,', 'who', 'notifies', 'license,', 'NOT', 'PURPOSE.', 'day', 'visit:', 'giving', 'works', '4.', '809', 'containing', 'attached', 'staff.', 'need', 'paragraphs', 'through', 'described', '1500', 'damaged', 'talk', 'party', 'receive', 'given', 'change.', 'Vanilla']\n"
     ]
    }
   ],
   "source": [
    "# Process each file to compute word frequencies and intersection of words\n",
    "for file_index, file_path in enumerate(file_paths):\n",
    "    file_rdd = spark_context.textFile(file_path)\n",
    "    word_rdd = file_rdd.flatMap(lambda line: line.split(\" \"))\n",
    "    word_frequency = word_rdd.countByValue()\n",
    "\n",
    "    # Compute frequencies and intersection\n",
    "    for word, frequency in word_frequency.items():\n",
    "        if word not in word_frequency_dict:\n",
    "            word_frequency_dict[word] = {}\n",
    "        word_frequency_dict[word][file_path] = frequency\n",
    "\n",
    "    if file_index == 0:\n",
    "        intersecting_words_rdd = word_rdd\n",
    "    else:\n",
    "        intersecting_words_rdd = intersecting_words_rdd.intersection(word_rdd)\n",
    "\n",
    "# Collect the common words\n",
    "common_words = intersecting_words_rdd.distinct().collect()\n",
    "\n",
    "# Filter the frequency dictionary to include only common words\n",
    "common_words_frequency_dict = {word: word_frequency_dict[word] for word in common_words}\n",
    "\n",
    "print(f\"Common word count is {len(common_words)}\")\n",
    "print(f\"Common Words are: {common_words}\")\n"
   ]
  },
  {
   "cell_type": "code",
   "execution_count": 83,
   "metadata": {
    "colab": {
     "base_uri": "https://localhost:8080/"
    },
    "id": "-49iqeA4xny6",
    "outputId": "711f7e19-440b-4eb0-8cb5-423173fc1a8f"
   },
   "outputs": [
    {
     "name": "stdout",
     "output_type": "stream",
     "text": [
      "Frequencies of the words are :{'': {'Q1-Dataset/pg1513.txt': 1474, 'Q1-Dataset/2160-0.txt': 1462, 'Q1-Dataset/pg11.txt': 1597, 'Q1-Dataset/pg2600.txt': 16663, 'Q1-Dataset/pg345.txt': 7740, 'Q1-Dataset/pg64317.txt': 2527, 'Q1-Dataset/pg70815.txt': 3290, 'Q1-Dataset/1080-0.txt': 188, 'Q1-Dataset/pg70817.txt': 1741, 'Q1-Dataset/pg1998.txt': 7007}, 'rather': {'Q1-Dataset/pg1513.txt': 3, 'Q1-Dataset/2160-0.txt': 42, 'Q1-Dataset/pg11.txt': 25, 'Q1-Dataset/pg2600.txt': 87, 'Q1-Dataset/pg345.txt': 25, 'Q1-Dataset/pg64317.txt': 23, 'Q1-Dataset/pg70815.txt': 15, 'Q1-Dataset/1080-0.txt': 2, 'Q1-Dataset/pg70817.txt': 10, 'Q1-Dataset/pg1998.txt': 24}, 'references': {'Q1-Dataset/pg1513.txt': 2, 'Q1-Dataset/2160-0.txt': 2, 'Q1-Dataset/pg11.txt': 2, 'Q1-Dataset/pg2600.txt': 2, 'Q1-Dataset/pg345.txt': 2, 'Q1-Dataset/pg64317.txt': 2, 'Q1-Dataset/pg70815.txt': 2, 'Q1-Dataset/1080-0.txt': 2, 'Q1-Dataset/pg70817.txt': 2, 'Q1-Dataset/pg1998.txt': 2}, 'IMPLIED,': {'Q1-Dataset/pg1513.txt': 1, 'Q1-Dataset/2160-0.txt': 1, 'Q1-Dataset/pg11.txt': 1, 'Q1-Dataset/pg2600.txt': 1, 'Q1-Dataset/pg345.txt': 1, 'Q1-Dataset/pg64317.txt': 1, 'Q1-Dataset/pg70815.txt': 1, 'Q1-Dataset/1080-0.txt': 1, 'Q1-Dataset/pg70817.txt': 1, 'Q1-Dataset/pg1998.txt': 1}, 'two': {'Q1-Dataset/pg1513.txt': 11, 'Q1-Dataset/2160-0.txt': 128, 'Q1-Dataset/pg11.txt': 20, 'Q1-Dataset/pg2600.txt': 491, 'Q1-Dataset/pg345.txt': 111, 'Q1-Dataset/pg64317.txt': 64, 'Q1-Dataset/pg70815.txt': 100, 'Q1-Dataset/1080-0.txt': 8, 'Q1-Dataset/pg70817.txt': 21, 'Q1-Dataset/pg1998.txt': 41}, 'immediate': {'Q1-Dataset/pg1513.txt': 2, 'Q1-Dataset/2160-0.txt': 12, 'Q1-Dataset/pg11.txt': 3, 'Q1-Dataset/pg2600.txt': 10, 'Q1-Dataset/pg345.txt': 6, 'Q1-Dataset/pg64317.txt': 5, 'Q1-Dataset/pg70815.txt': 7, 'Q1-Dataset/1080-0.txt': 2, 'Q1-Dataset/pg70817.txt': 6, 'Q1-Dataset/pg1998.txt': 3}, 'family': {'Q1-Dataset/pg1513.txt': 2, 'Q1-Dataset/2160-0.txt': 56, 'Q1-Dataset/pg11.txt': 1, 'Q1-Dataset/pg2600.txt': 80, 'Q1-Dataset/pg345.txt': 1, 'Q1-Dataset/pg64317.txt': 12, 'Q1-Dataset/pg70815.txt': 1, 'Q1-Dataset/1080-0.txt': 2, 'Q1-Dataset/pg70817.txt': 3, 'Q1-Dataset/pg1998.txt': 1}, 'this,': {'Q1-Dataset/pg1513.txt': 4, 'Q1-Dataset/2160-0.txt': 10, 'Q1-Dataset/pg11.txt': 17, 'Q1-Dataset/pg2600.txt': 86, 'Q1-Dataset/pg345.txt': 28, 'Q1-Dataset/pg64317.txt': 4, 'Q1-Dataset/pg70815.txt': 6, 'Q1-Dataset/1080-0.txt': 1, 'Q1-Dataset/pg70817.txt': 1, 'Q1-Dataset/pg1998.txt': 17}, 'of': {'Q1-Dataset/pg1513.txt': 476, 'Q1-Dataset/2160-0.txt': 5644, 'Q1-Dataset/pg11.txt': 605, 'Q1-Dataset/pg2600.txt': 14860, 'Q1-Dataset/pg345.txt': 3681, 'Q1-Dataset/pg64317.txt': 1208, 'Q1-Dataset/pg70815.txt': 3086, 'Q1-Dataset/1080-0.txt': 241, 'Q1-Dataset/pg70817.txt': 748, 'Q1-Dataset/pg1998.txt': 2825}, '2001,': {'Q1-Dataset/pg1513.txt': 1, 'Q1-Dataset/2160-0.txt': 1, 'Q1-Dataset/pg11.txt': 1, 'Q1-Dataset/pg2600.txt': 1, 'Q1-Dataset/pg345.txt': 1, 'Q1-Dataset/pg64317.txt': 1, 'Q1-Dataset/pg70815.txt': 1, 'Q1-Dataset/1080-0.txt': 1, 'Q1-Dataset/pg70817.txt': 1, 'Q1-Dataset/pg1998.txt': 1}, 'accessible': {'Q1-Dataset/pg1513.txt': 1, 'Q1-Dataset/2160-0.txt': 2, 'Q1-Dataset/pg11.txt': 1, 'Q1-Dataset/pg2600.txt': 3, 'Q1-Dataset/pg345.txt': 1, 'Q1-Dataset/pg64317.txt': 1, 'Q1-Dataset/pg70815.txt': 1, 'Q1-Dataset/1080-0.txt': 1, 'Q1-Dataset/pg70817.txt': 1, 'Q1-Dataset/pg1998.txt': 1}, 'USE': {'Q1-Dataset/pg1513.txt': 1, 'Q1-Dataset/2160-0.txt': 1, 'Q1-Dataset/pg11.txt': 1, 'Q1-Dataset/pg2600.txt': 1, 'Q1-Dataset/pg345.txt': 1, 'Q1-Dataset/pg64317.txt': 1, 'Q1-Dataset/pg70815.txt': 1, 'Q1-Dataset/1080-0.txt': 1, 'Q1-Dataset/pg70817.txt': 1, 'Q1-Dataset/pg1998.txt': 1}, 'GUTENBERG': {'Q1-Dataset/pg1513.txt': 3, 'Q1-Dataset/2160-0.txt': 3, 'Q1-Dataset/pg11.txt': 3, 'Q1-Dataset/pg2600.txt': 3, 'Q1-Dataset/pg345.txt': 3, 'Q1-Dataset/pg64317.txt': 3, 'Q1-Dataset/pg70815.txt': 3, 'Q1-Dataset/1080-0.txt': 3, 'Q1-Dataset/pg70817.txt': 3, 'Q1-Dataset/pg1998.txt': 3}, 'away': {'Q1-Dataset/pg1513.txt': 6, 'Q1-Dataset/2160-0.txt': 32, 'Q1-Dataset/pg11.txt': 17, 'Q1-Dataset/pg2600.txt': 364, 'Q1-Dataset/pg345.txt': 117, 'Q1-Dataset/pg64317.txt': 37, 'Q1-Dataset/pg70815.txt': 57, 'Q1-Dataset/1080-0.txt': 3, 'Q1-Dataset/pg70817.txt': 20, 'Q1-Dataset/pg1998.txt': 69}, 'damages.': {'Q1-Dataset/pg1513.txt': 1, 'Q1-Dataset/2160-0.txt': 1, 'Q1-Dataset/pg11.txt': 1, 'Q1-Dataset/pg2600.txt': 1, 'Q1-Dataset/pg345.txt': 1, 'Q1-Dataset/pg64317.txt': 1, 'Q1-Dataset/pg70815.txt': 1, 'Q1-Dataset/1080-0.txt': 1, 'Q1-Dataset/pg70817.txt': 1, 'Q1-Dataset/pg1998.txt': 1}, 'official': {'Q1-Dataset/pg1513.txt': 3, 'Q1-Dataset/2160-0.txt': 3, 'Q1-Dataset/pg11.txt': 3, 'Q1-Dataset/pg2600.txt': 29, 'Q1-Dataset/pg345.txt': 5, 'Q1-Dataset/pg64317.txt': 4, 'Q1-Dataset/pg70815.txt': 4, 'Q1-Dataset/1080-0.txt': 3, 'Q1-Dataset/pg70817.txt': 3, 'Q1-Dataset/pg1998.txt': 3}, 'right': {'Q1-Dataset/pg1513.txt': 4, 'Q1-Dataset/2160-0.txt': 35, 'Q1-Dataset/pg11.txt': 22, 'Q1-Dataset/pg2600.txt': 253, 'Q1-Dataset/pg345.txt': 54, 'Q1-Dataset/pg64317.txt': 33, 'Q1-Dataset/pg70815.txt': 33, 'Q1-Dataset/1080-0.txt': 2, 'Q1-Dataset/pg70817.txt': 6, 'Q1-Dataset/pg1998.txt': 35}, 'before': {'Q1-Dataset/pg1513.txt': 17, 'Q1-Dataset/2160-0.txt': 94, 'Q1-Dataset/pg11.txt': 22, 'Q1-Dataset/pg2600.txt': 608, 'Q1-Dataset/pg345.txt': 217, 'Q1-Dataset/pg64317.txt': 48, 'Q1-Dataset/pg70815.txt': 99, 'Q1-Dataset/1080-0.txt': 6, 'Q1-Dataset/pg70817.txt': 48, 'Q1-Dataset/pg1998.txt': 87}, 'ready': {'Q1-Dataset/pg1513.txt': 2, 'Q1-Dataset/2160-0.txt': 24, 'Q1-Dataset/pg11.txt': 7, 'Q1-Dataset/pg2600.txt': 115, 'Q1-Dataset/pg345.txt': 41, 'Q1-Dataset/pg64317.txt': 3, 'Q1-Dataset/pg70815.txt': 15, 'Q1-Dataset/1080-0.txt': 2, 'Q1-Dataset/pg70817.txt': 3, 'Q1-Dataset/pg1998.txt': 20}, '50': {'Q1-Dataset/pg1513.txt': 1, 'Q1-Dataset/2160-0.txt': 1, 'Q1-Dataset/pg11.txt': 1, 'Q1-Dataset/pg2600.txt': 2, 'Q1-Dataset/pg345.txt': 1, 'Q1-Dataset/pg64317.txt': 1, 'Q1-Dataset/pg70815.txt': 1, 'Q1-Dataset/1080-0.txt': 1, 'Q1-Dataset/pg70817.txt': 1, 'Q1-Dataset/pg1998.txt': 1}, 'sentence,': {'Q1-Dataset/pg1513.txt': 1, 'Q1-Dataset/2160-0.txt': 1, 'Q1-Dataset/pg11.txt': 1, 'Q1-Dataset/pg2600.txt': 5, 'Q1-Dataset/pg345.txt': 1, 'Q1-Dataset/pg64317.txt': 1, 'Q1-Dataset/pg70815.txt': 1, 'Q1-Dataset/1080-0.txt': 1, 'Q1-Dataset/pg70817.txt': 1, 'Q1-Dataset/pg1998.txt': 1}, 'lieu': {'Q1-Dataset/pg1513.txt': 2, 'Q1-Dataset/2160-0.txt': 3, 'Q1-Dataset/pg11.txt': 2, 'Q1-Dataset/pg2600.txt': 2, 'Q1-Dataset/pg345.txt': 2, 'Q1-Dataset/pg64317.txt': 2, 'Q1-Dataset/pg70815.txt': 3, 'Q1-Dataset/1080-0.txt': 2, 'Q1-Dataset/pg70817.txt': 2, 'Q1-Dataset/pg1998.txt': 2}, 'Updated': {'Q1-Dataset/pg1513.txt': 1, 'Q1-Dataset/2160-0.txt': 1, 'Q1-Dataset/pg11.txt': 1, 'Q1-Dataset/pg2600.txt': 1, 'Q1-Dataset/pg345.txt': 1, 'Q1-Dataset/pg64317.txt': 1, 'Q1-Dataset/pg70815.txt': 1, 'Q1-Dataset/1080-0.txt': 1, 'Q1-Dataset/pg70817.txt': 1, 'Q1-Dataset/pg1998.txt': 1}, 'volunteers': {'Q1-Dataset/pg1513.txt': 4, 'Q1-Dataset/2160-0.txt': 5, 'Q1-Dataset/pg11.txt': 4, 'Q1-Dataset/pg2600.txt': 4, 'Q1-Dataset/pg345.txt': 4, 'Q1-Dataset/pg64317.txt': 4, 'Q1-Dataset/pg70815.txt': 4, 'Q1-Dataset/1080-0.txt': 4, 'Q1-Dataset/pg70817.txt': 4, 'Q1-Dataset/pg1998.txt': 4}, 'permanent': {'Q1-Dataset/pg1513.txt': 1, 'Q1-Dataset/2160-0.txt': 1, 'Q1-Dataset/pg11.txt': 1, 'Q1-Dataset/pg2600.txt': 2, 'Q1-Dataset/pg345.txt': 1, 'Q1-Dataset/pg64317.txt': 2, 'Q1-Dataset/pg70815.txt': 1, 'Q1-Dataset/1080-0.txt': 1, 'Q1-Dataset/pg70817.txt': 4, 'Q1-Dataset/pg1998.txt': 2}, 'Redistribution': {'Q1-Dataset/pg1513.txt': 1, 'Q1-Dataset/2160-0.txt': 1, 'Q1-Dataset/pg11.txt': 1, 'Q1-Dataset/pg2600.txt': 1, 'Q1-Dataset/pg345.txt': 1, 'Q1-Dataset/pg64317.txt': 1, 'Q1-Dataset/pg70815.txt': 1, 'Q1-Dataset/1080-0.txt': 1, 'Q1-Dataset/pg70817.txt': 1, 'Q1-Dataset/pg1998.txt': 1}, 'than': {'Q1-Dataset/pg1513.txt': 40, 'Q1-Dataset/2160-0.txt': 280, 'Q1-Dataset/pg11.txt': 26, 'Q1-Dataset/pg2600.txt': 531, 'Q1-Dataset/pg345.txt': 221, 'Q1-Dataset/pg64317.txt': 37, 'Q1-Dataset/pg70815.txt': 151, 'Q1-Dataset/1080-0.txt': 10, 'Q1-Dataset/pg70817.txt': 37, 'Q1-Dataset/pg1998.txt': 201}, 'ACTUAL,': {'Q1-Dataset/pg1513.txt': 1, 'Q1-Dataset/2160-0.txt': 1, 'Q1-Dataset/pg11.txt': 1, 'Q1-Dataset/pg2600.txt': 1, 'Q1-Dataset/pg345.txt': 1, 'Q1-Dataset/pg64317.txt': 1, 'Q1-Dataset/pg70815.txt': 1, 'Q1-Dataset/1080-0.txt': 1, 'Q1-Dataset/pg70817.txt': 1, 'Q1-Dataset/pg1998.txt': 2}, '(801)': {'Q1-Dataset/pg1513.txt': 1, 'Q1-Dataset/2160-0.txt': 1, 'Q1-Dataset/pg11.txt': 1, 'Q1-Dataset/pg2600.txt': 1, 'Q1-Dataset/pg345.txt': 1, 'Q1-Dataset/pg64317.txt': 1, 'Q1-Dataset/pg70815.txt': 1, 'Q1-Dataset/1080-0.txt': 1, 'Q1-Dataset/pg70817.txt': 1, 'Q1-Dataset/pg1998.txt': 1}, '60': {'Q1-Dataset/pg1513.txt': 1, 'Q1-Dataset/2160-0.txt': 1, 'Q1-Dataset/pg11.txt': 1, 'Q1-Dataset/pg2600.txt': 2, 'Q1-Dataset/pg345.txt': 1, 'Q1-Dataset/pg64317.txt': 1, 'Q1-Dataset/pg70815.txt': 1, 'Q1-Dataset/1080-0.txt': 1, 'Q1-Dataset/pg70817.txt': 1, 'Q1-Dataset/pg1998.txt': 1}, 'computers': {'Q1-Dataset/pg1513.txt': 1, 'Q1-Dataset/2160-0.txt': 1, 'Q1-Dataset/pg11.txt': 1, 'Q1-Dataset/pg2600.txt': 1, 'Q1-Dataset/pg345.txt': 1, 'Q1-Dataset/pg64317.txt': 1, 'Q1-Dataset/pg70815.txt': 1, 'Q1-Dataset/1080-0.txt': 1, 'Q1-Dataset/pg70817.txt': 1, 'Q1-Dataset/pg1998.txt': 1}, '***': {'Q1-Dataset/pg1513.txt': 4, 'Q1-Dataset/2160-0.txt': 6, 'Q1-Dataset/pg11.txt': 4, 'Q1-Dataset/pg2600.txt': 4, 'Q1-Dataset/pg345.txt': 4, 'Q1-Dataset/pg64317.txt': 4, 'Q1-Dataset/pg70815.txt': 4, 'Q1-Dataset/1080-0.txt': 4, 'Q1-Dataset/pg70817.txt': 4, 'Q1-Dataset/pg1998.txt': 4}, 'sent': {'Q1-Dataset/pg1513.txt': 3, 'Q1-Dataset/2160-0.txt': 49, 'Q1-Dataset/pg11.txt': 3, 'Q1-Dataset/pg2600.txt': 217, 'Q1-Dataset/pg345.txt': 37, 'Q1-Dataset/pg64317.txt': 17, 'Q1-Dataset/pg70815.txt': 14, 'Q1-Dataset/1080-0.txt': 1, 'Q1-Dataset/pg70817.txt': 4, 'Q1-Dataset/pg1998.txt': 4}, 'cause.': {'Q1-Dataset/pg1513.txt': 2, 'Q1-Dataset/2160-0.txt': 1, 'Q1-Dataset/pg11.txt': 1, 'Q1-Dataset/pg2600.txt': 12, 'Q1-Dataset/pg345.txt': 7, 'Q1-Dataset/pg64317.txt': 1, 'Q1-Dataset/pg70815.txt': 2, 'Q1-Dataset/1080-0.txt': 1, 'Q1-Dataset/pg70817.txt': 1, 'Q1-Dataset/pg1998.txt': 2}, 'law': {'Q1-Dataset/pg1513.txt': 13, 'Q1-Dataset/2160-0.txt': 8, 'Q1-Dataset/pg11.txt': 5, 'Q1-Dataset/pg2600.txt': 59, 'Q1-Dataset/pg345.txt': 11, 'Q1-Dataset/pg64317.txt': 5, 'Q1-Dataset/pg70815.txt': 7, 'Q1-Dataset/1080-0.txt': 6, 'Q1-Dataset/pg70817.txt': 5, 'Q1-Dataset/pg1998.txt': 22}, 'damage': {'Q1-Dataset/pg1513.txt': 1, 'Q1-Dataset/2160-0.txt': 6, 'Q1-Dataset/pg11.txt': 1, 'Q1-Dataset/pg2600.txt': 2, 'Q1-Dataset/pg345.txt': 1, 'Q1-Dataset/pg64317.txt': 1, 'Q1-Dataset/pg70815.txt': 2, 'Q1-Dataset/1080-0.txt': 1, 'Q1-Dataset/pg70817.txt': 1, 'Q1-Dataset/pg1998.txt': 1}, 'her': {'Q1-Dataset/pg1513.txt': 118, 'Q1-Dataset/2160-0.txt': 709, 'Q1-Dataset/pg11.txt': 204, 'Q1-Dataset/pg2600.txt': 3882, 'Q1-Dataset/pg345.txt': 831, 'Q1-Dataset/pg64317.txt': 315, 'Q1-Dataset/pg70815.txt': 314, 'Q1-Dataset/1080-0.txt': 2, 'Q1-Dataset/pg70817.txt': 117, 'Q1-Dataset/pg1998.txt': 30}, 'gross': {'Q1-Dataset/pg1513.txt': 2, 'Q1-Dataset/2160-0.txt': 7, 'Q1-Dataset/pg11.txt': 1, 'Q1-Dataset/pg2600.txt': 3, 'Q1-Dataset/pg345.txt': 1, 'Q1-Dataset/pg64317.txt': 1, 'Q1-Dataset/pg70815.txt': 1, 'Q1-Dataset/1080-0.txt': 1, 'Q1-Dataset/pg70817.txt': 1, 'Q1-Dataset/pg1998.txt': 1}, 'agent': {'Q1-Dataset/pg1513.txt': 1, 'Q1-Dataset/2160-0.txt': 2, 'Q1-Dataset/pg11.txt': 1, 'Q1-Dataset/pg2600.txt': 2, 'Q1-Dataset/pg345.txt': 8, 'Q1-Dataset/pg64317.txt': 1, 'Q1-Dataset/pg70815.txt': 1, 'Q1-Dataset/1080-0.txt': 1, 'Q1-Dataset/pg70817.txt': 1, 'Q1-Dataset/pg1998.txt': 1}, 'would': {'Q1-Dataset/pg1513.txt': 49, 'Q1-Dataset/2160-0.txt': 443, 'Q1-Dataset/pg11.txt': 68, 'Q1-Dataset/pg2600.txt': 1333, 'Q1-Dataset/pg345.txt': 408, 'Q1-Dataset/pg64317.txt': 50, 'Q1-Dataset/pg70815.txt': 213, 'Q1-Dataset/1080-0.txt': 17, 'Q1-Dataset/pg70817.txt': 87, 'Q1-Dataset/pg1998.txt': 248}, 'putting': {'Q1-Dataset/pg1513.txt': 1, 'Q1-Dataset/2160-0.txt': 4, 'Q1-Dataset/pg11.txt': 3, 'Q1-Dataset/pg2600.txt': 51, 'Q1-Dataset/pg345.txt': 21, 'Q1-Dataset/pg64317.txt': 1, 'Q1-Dataset/pg70815.txt': 2, 'Q1-Dataset/1080-0.txt': 1, 'Q1-Dataset/pg70817.txt': 1, 'Q1-Dataset/pg1998.txt': 3}, 'something': {'Q1-Dataset/pg1513.txt': 3, 'Q1-Dataset/2160-0.txt': 49, 'Q1-Dataset/pg11.txt': 14, 'Q1-Dataset/pg2600.txt': 479, 'Q1-Dataset/pg345.txt': 113, 'Q1-Dataset/pg64317.txt': 51, 'Q1-Dataset/pg70815.txt': 40, 'Q1-Dataset/1080-0.txt': 3, 'Q1-Dataset/pg70817.txt': 13, 'Q1-Dataset/pg1998.txt': 56}, 'About': {'Q1-Dataset/pg1513.txt': 1, 'Q1-Dataset/2160-0.txt': 7, 'Q1-Dataset/pg11.txt': 1, 'Q1-Dataset/pg2600.txt': 11, 'Q1-Dataset/pg345.txt': 5, 'Q1-Dataset/pg64317.txt': 6, 'Q1-Dataset/pg70815.txt': 3, 'Q1-Dataset/1080-0.txt': 1, 'Q1-Dataset/pg70817.txt': 3, 'Q1-Dataset/pg1998.txt': 5}, 'registered': {'Q1-Dataset/pg1513.txt': 2, 'Q1-Dataset/2160-0.txt': 2, 'Q1-Dataset/pg11.txt': 2, 'Q1-Dataset/pg2600.txt': 2, 'Q1-Dataset/pg345.txt': 2, 'Q1-Dataset/pg64317.txt': 2, 'Q1-Dataset/pg70815.txt': 2, 'Q1-Dataset/1080-0.txt': 2, 'Q1-Dataset/pg70817.txt': 2, 'Q1-Dataset/pg1998.txt': 2}, 'anything': {'Q1-Dataset/pg1513.txt': 3, 'Q1-Dataset/2160-0.txt': 4, 'Q1-Dataset/pg11.txt': 15, 'Q1-Dataset/pg2600.txt': 201, 'Q1-Dataset/pg345.txt': 70, 'Q1-Dataset/pg64317.txt': 20, 'Q1-Dataset/pg70815.txt': 18, 'Q1-Dataset/1080-0.txt': 1, 'Q1-Dataset/pg70817.txt': 6, 'Q1-Dataset/pg1998.txt': 12}, 'License.': {'Q1-Dataset/pg1513.txt': 2, 'Q1-Dataset/2160-0.txt': 2, 'Q1-Dataset/pg11.txt': 2, 'Q1-Dataset/pg2600.txt': 2, 'Q1-Dataset/pg345.txt': 2, 'Q1-Dataset/pg64317.txt': 2, 'Q1-Dataset/pg70815.txt': 2, 'Q1-Dataset/1080-0.txt': 2, 'Q1-Dataset/pg70817.txt': 2, 'Q1-Dataset/pg1998.txt': 2}, 'was': {'Q1-Dataset/pg1513.txt': 41, 'Q1-Dataset/2160-0.txt': 1372, 'Q1-Dataset/pg11.txt': 329, 'Q1-Dataset/pg2600.txt': 7193, 'Q1-Dataset/pg345.txt': 1792, 'Q1-Dataset/pg64317.txt': 751, 'Q1-Dataset/pg70815.txt': 1079, 'Q1-Dataset/1080-0.txt': 9, 'Q1-Dataset/pg70817.txt': 430, 'Q1-Dataset/pg1998.txt': 340}, 'put': {'Q1-Dataset/pg1513.txt': 15, 'Q1-Dataset/2160-0.txt': 86, 'Q1-Dataset/pg11.txt': 31, 'Q1-Dataset/pg2600.txt': 260, 'Q1-Dataset/pg345.txt': 106, 'Q1-Dataset/pg64317.txt': 20, 'Q1-Dataset/pg70815.txt': 9, 'Q1-Dataset/1080-0.txt': 4, 'Q1-Dataset/pg70817.txt': 6, 'Q1-Dataset/pg1998.txt': 59}, 'agreement': {'Q1-Dataset/pg1513.txt': 8, 'Q1-Dataset/2160-0.txt': 9, 'Q1-Dataset/pg11.txt': 8, 'Q1-Dataset/pg2600.txt': 15, 'Q1-Dataset/pg345.txt': 11, 'Q1-Dataset/pg64317.txt': 9, 'Q1-Dataset/pg70815.txt': 8, 'Q1-Dataset/1080-0.txt': 8, 'Q1-Dataset/pg70817.txt': 8, 'Q1-Dataset/pg1998.txt': 8}, 'us': {'Q1-Dataset/pg1513.txt': 19, 'Q1-Dataset/2160-0.txt': 125, 'Q1-Dataset/pg11.txt': 10, 'Q1-Dataset/pg2600.txt': 275, 'Q1-Dataset/pg345.txt': 288, 'Q1-Dataset/pg64317.txt': 48, 'Q1-Dataset/pg70815.txt': 66, 'Q1-Dataset/1080-0.txt': 3, 'Q1-Dataset/pg70817.txt': 16, 'Q1-Dataset/pg1998.txt': 95}, 'leave': {'Q1-Dataset/pg1513.txt': 12, 'Q1-Dataset/2160-0.txt': 52, 'Q1-Dataset/pg11.txt': 7, 'Q1-Dataset/pg2600.txt': 169, 'Q1-Dataset/pg345.txt': 53, 'Q1-Dataset/pg64317.txt': 9, 'Q1-Dataset/pg70815.txt': 9, 'Q1-Dataset/1080-0.txt': 3, 'Q1-Dataset/pg70817.txt': 10, 'Q1-Dataset/pg1998.txt': 11}, 'think': {'Q1-Dataset/pg1513.txt': 16, 'Q1-Dataset/2160-0.txt': 107, 'Q1-Dataset/pg11.txt': 36, 'Q1-Dataset/pg2600.txt': 286, 'Q1-Dataset/pg345.txt': 176, 'Q1-Dataset/pg64317.txt': 57, 'Q1-Dataset/pg70815.txt': 29, 'Q1-Dataset/1080-0.txt': 4, 'Q1-Dataset/pg70817.txt': 6, 'Q1-Dataset/pg1998.txt': 44}, 'particular': {'Q1-Dataset/pg1513.txt': 2, 'Q1-Dataset/2160-0.txt': 48, 'Q1-Dataset/pg11.txt': 3, 'Q1-Dataset/pg2600.txt': 38, 'Q1-Dataset/pg345.txt': 8, 'Q1-Dataset/pg64317.txt': 8, 'Q1-Dataset/pg70815.txt': 7, 'Q1-Dataset/1080-0.txt': 3, 'Q1-Dataset/pg70817.txt': 3, 'Q1-Dataset/pg1998.txt': 7}, 'Professor': {'Q1-Dataset/pg1513.txt': 1, 'Q1-Dataset/2160-0.txt': 1, 'Q1-Dataset/pg11.txt': 1, 'Q1-Dataset/pg2600.txt': 1, 'Q1-Dataset/pg345.txt': 121, 'Q1-Dataset/pg64317.txt': 1, 'Q1-Dataset/pg70815.txt': 1, 'Q1-Dataset/1080-0.txt': 1, 'Q1-Dataset/pg70817.txt': 1, 'Q1-Dataset/pg1998.txt': 1}, 'never': {'Q1-Dataset/pg1513.txt': 17, 'Q1-Dataset/2160-0.txt': 136, 'Q1-Dataset/pg11.txt': 37, 'Q1-Dataset/pg2600.txt': 382, 'Q1-Dataset/pg345.txt': 117, 'Q1-Dataset/pg64317.txt': 59, 'Q1-Dataset/pg70815.txt': 82, 'Q1-Dataset/1080-0.txt': 2, 'Q1-Dataset/pg70817.txt': 29, 'Q1-Dataset/pg1998.txt': 44}, 'Use': {'Q1-Dataset/pg1513.txt': 2, 'Q1-Dataset/2160-0.txt': 2, 'Q1-Dataset/pg11.txt': 2, 'Q1-Dataset/pg2600.txt': 3, 'Q1-Dataset/pg345.txt': 2, 'Q1-Dataset/pg64317.txt': 2, 'Q1-Dataset/pg70815.txt': 3, 'Q1-Dataset/1080-0.txt': 2, 'Q1-Dataset/pg70817.txt': 2, 'Q1-Dataset/pg1998.txt': 2}, 'help': {'Q1-Dataset/pg1513.txt': 11, 'Q1-Dataset/2160-0.txt': 52, 'Q1-Dataset/pg11.txt': 11, 'Q1-Dataset/pg2600.txt': 128, 'Q1-Dataset/pg345.txt': 81, 'Q1-Dataset/pg64317.txt': 7, 'Q1-Dataset/pg70815.txt': 8, 'Q1-Dataset/1080-0.txt': 3, 'Q1-Dataset/pg70817.txt': 3, 'Q1-Dataset/pg1998.txt': 19}, 'especially': {'Q1-Dataset/pg1513.txt': 1, 'Q1-Dataset/2160-0.txt': 12, 'Q1-Dataset/pg11.txt': 1, 'Q1-Dataset/pg2600.txt': 123, 'Q1-Dataset/pg345.txt': 10, 'Q1-Dataset/pg64317.txt': 1, 'Q1-Dataset/pg70815.txt': 7, 'Q1-Dataset/1080-0.txt': 2, 'Q1-Dataset/pg70817.txt': 4, 'Q1-Dataset/pg1998.txt': 23}, 'format': {'Q1-Dataset/pg1513.txt': 4, 'Q1-Dataset/2160-0.txt': 4, 'Q1-Dataset/pg11.txt': 4, 'Q1-Dataset/pg2600.txt': 4, 'Q1-Dataset/pg345.txt': 4, 'Q1-Dataset/pg64317.txt': 4, 'Q1-Dataset/pg70815.txt': 4, 'Q1-Dataset/1080-0.txt': 4, 'Q1-Dataset/pg70817.txt': 4, 'Q1-Dataset/pg1998.txt': 4}, 'files': {'Q1-Dataset/pg1513.txt': 1, 'Q1-Dataset/2160-0.txt': 2, 'Q1-Dataset/pg11.txt': 2, 'Q1-Dataset/pg2600.txt': 1, 'Q1-Dataset/pg345.txt': 2, 'Q1-Dataset/pg64317.txt': 1, 'Q1-Dataset/pg70815.txt': 1, 'Q1-Dataset/1080-0.txt': 2, 'Q1-Dataset/pg70817.txt': 1, 'Q1-Dataset/pg1998.txt': 2}, 'Do': {'Q1-Dataset/pg1513.txt': 20, 'Q1-Dataset/2160-0.txt': 5, 'Q1-Dataset/pg11.txt': 8, 'Q1-Dataset/pg2600.txt': 56, 'Q1-Dataset/pg345.txt': 28, 'Q1-Dataset/pg64317.txt': 9, 'Q1-Dataset/pg70815.txt': 10, 'Q1-Dataset/1080-0.txt': 3, 'Q1-Dataset/pg70817.txt': 3, 'Q1-Dataset/pg1998.txt': 32}, 'Nearly': {'Q1-Dataset/pg1513.txt': 1, 'Q1-Dataset/2160-0.txt': 1, 'Q1-Dataset/pg11.txt': 1, 'Q1-Dataset/pg2600.txt': 4, 'Q1-Dataset/pg345.txt': 1, 'Q1-Dataset/pg64317.txt': 1, 'Q1-Dataset/pg70815.txt': 1, 'Q1-Dataset/1080-0.txt': 1, 'Q1-Dataset/pg70817.txt': 3, 'Q1-Dataset/pg1998.txt': 1}, 'links': {'Q1-Dataset/pg1513.txt': 3, 'Q1-Dataset/2160-0.txt': 5, 'Q1-Dataset/pg11.txt': 3, 'Q1-Dataset/pg2600.txt': 4, 'Q1-Dataset/pg345.txt': 4, 'Q1-Dataset/pg64317.txt': 3, 'Q1-Dataset/pg70815.txt': 3, 'Q1-Dataset/1080-0.txt': 3, 'Q1-Dataset/pg70817.txt': 4, 'Q1-Dataset/pg1998.txt': 3}, 'allow': {'Q1-Dataset/pg1513.txt': 1, 'Q1-Dataset/2160-0.txt': 8, 'Q1-Dataset/pg11.txt': 2, 'Q1-Dataset/pg2600.txt': 44, 'Q1-Dataset/pg345.txt': 7, 'Q1-Dataset/pg64317.txt': 1, 'Q1-Dataset/pg70815.txt': 1, 'Q1-Dataset/1080-0.txt': 2, 'Q1-Dataset/pg70817.txt': 1, 'Q1-Dataset/pg1998.txt': 7}, 'entity': {'Q1-Dataset/pg1513.txt': 3, 'Q1-Dataset/2160-0.txt': 3, 'Q1-Dataset/pg11.txt': 3, 'Q1-Dataset/pg2600.txt': 3, 'Q1-Dataset/pg345.txt': 3, 'Q1-Dataset/pg64317.txt': 3, 'Q1-Dataset/pg70815.txt': 3, 'Q1-Dataset/1080-0.txt': 3, 'Q1-Dataset/pg70817.txt': 4, 'Q1-Dataset/pg1998.txt': 3}, 'have': {'Q1-Dataset/pg1513.txt': 115, 'Q1-Dataset/2160-0.txt': 911, 'Q1-Dataset/pg11.txt': 79, 'Q1-Dataset/pg2600.txt': 1906, 'Q1-Dataset/pg345.txt': 1047, 'Q1-Dataset/pg64317.txt': 134, 'Q1-Dataset/pg70815.txt': 399, 'Q1-Dataset/1080-0.txt': 35, 'Q1-Dataset/pg70817.txt': 69, 'Q1-Dataset/pg1998.txt': 637}, 'expense': {'Q1-Dataset/pg1513.txt': 1, 'Q1-Dataset/2160-0.txt': 3, 'Q1-Dataset/pg11.txt': 1, 'Q1-Dataset/pg2600.txt': 4, 'Q1-Dataset/pg345.txt': 1, 'Q1-Dataset/pg64317.txt': 1, 'Q1-Dataset/pg70815.txt': 2, 'Q1-Dataset/1080-0.txt': 1, 'Q1-Dataset/pg70817.txt': 1, 'Q1-Dataset/pg1998.txt': 1}, 'no': {'Q1-Dataset/pg1513.txt': 77, 'Q1-Dataset/2160-0.txt': 444, 'Q1-Dataset/pg11.txt': 72, 'Q1-Dataset/pg2600.txt': 1000, 'Q1-Dataset/pg345.txt': 395, 'Q1-Dataset/pg64317.txt': 73, 'Q1-Dataset/pg70815.txt': 240, 'Q1-Dataset/1080-0.txt': 20, 'Q1-Dataset/pg70817.txt': 69, 'Q1-Dataset/pg1998.txt': 249}, 'Information': {'Q1-Dataset/pg1513.txt': 4, 'Q1-Dataset/2160-0.txt': 4, 'Q1-Dataset/pg11.txt': 4, 'Q1-Dataset/pg2600.txt': 4, 'Q1-Dataset/pg345.txt': 4, 'Q1-Dataset/pg64317.txt': 4, 'Q1-Dataset/pg70815.txt': 4, 'Q1-Dataset/1080-0.txt': 4, 'Q1-Dataset/pg70817.txt': 4, 'Q1-Dataset/pg1998.txt': 4}, 'four': {'Q1-Dataset/pg1513.txt': 1, 'Q1-Dataset/2160-0.txt': 37, 'Q1-Dataset/pg11.txt': 6, 'Q1-Dataset/pg2600.txt': 85, 'Q1-Dataset/pg345.txt': 22, 'Q1-Dataset/pg64317.txt': 23, 'Q1-Dataset/pg70815.txt': 35, 'Q1-Dataset/1080-0.txt': 4, 'Q1-Dataset/pg70817.txt': 1, 'Q1-Dataset/pg1998.txt': 3}, 'charities': {'Q1-Dataset/pg1513.txt': 1, 'Q1-Dataset/2160-0.txt': 1, 'Q1-Dataset/pg11.txt': 1, 'Q1-Dataset/pg2600.txt': 1, 'Q1-Dataset/pg345.txt': 1, 'Q1-Dataset/pg64317.txt': 1, 'Q1-Dataset/pg70815.txt': 1, 'Q1-Dataset/1080-0.txt': 1, 'Q1-Dataset/pg70817.txt': 1, 'Q1-Dataset/pg1998.txt': 1}, 'thousand': {'Q1-Dataset/pg1513.txt': 7, 'Q1-Dataset/2160-0.txt': 47, 'Q1-Dataset/pg11.txt': 2, 'Q1-Dataset/pg2600.txt': 143, 'Q1-Dataset/pg345.txt': 10, 'Q1-Dataset/pg64317.txt': 6, 'Q1-Dataset/pg70815.txt': 10, 'Q1-Dataset/1080-0.txt': 13, 'Q1-Dataset/pg70817.txt': 1, 'Q1-Dataset/pg1998.txt': 20}, 'equipment': {'Q1-Dataset/pg1513.txt': 1, 'Q1-Dataset/2160-0.txt': 1, 'Q1-Dataset/pg11.txt': 1, 'Q1-Dataset/pg2600.txt': 5, 'Q1-Dataset/pg345.txt': 3, 'Q1-Dataset/pg64317.txt': 1, 'Q1-Dataset/pg70815.txt': 2, 'Q1-Dataset/1080-0.txt': 1, 'Q1-Dataset/pg70817.txt': 1, 'Q1-Dataset/pg1998.txt': 1}, 'demand': {'Q1-Dataset/pg1513.txt': 1, 'Q1-Dataset/2160-0.txt': 7, 'Q1-Dataset/pg11.txt': 1, 'Q1-Dataset/pg2600.txt': 27, 'Q1-Dataset/pg345.txt': 2, 'Q1-Dataset/pg64317.txt': 4, 'Q1-Dataset/pg70815.txt': 2, 'Q1-Dataset/1080-0.txt': 2, 'Q1-Dataset/pg70817.txt': 1, 'Q1-Dataset/pg1998.txt': 1}, 'royalties.': {'Q1-Dataset/pg1513.txt': 1, 'Q1-Dataset/2160-0.txt': 1, 'Q1-Dataset/pg11.txt': 1, 'Q1-Dataset/pg2600.txt': 1, 'Q1-Dataset/pg345.txt': 1, 'Q1-Dataset/pg64317.txt': 1, 'Q1-Dataset/pg70815.txt': 1, 'Q1-Dataset/1080-0.txt': 1, 'Q1-Dataset/pg70817.txt': 1, 'Q1-Dataset/pg1998.txt': 1}, 're-use': {'Q1-Dataset/pg1513.txt': 2, 'Q1-Dataset/2160-0.txt': 2, 'Q1-Dataset/pg11.txt': 2, 'Q1-Dataset/pg2600.txt': 2, 'Q1-Dataset/pg345.txt': 2, 'Q1-Dataset/pg64317.txt': 2, 'Q1-Dataset/pg70815.txt': 2, 'Q1-Dataset/1080-0.txt': 2, 'Q1-Dataset/pg70817.txt': 2, 'Q1-Dataset/pg1998.txt': 2}, '4,': {'Q1-Dataset/pg1513.txt': 1, 'Q1-Dataset/2160-0.txt': 1, 'Q1-Dataset/pg11.txt': 1, 'Q1-Dataset/pg2600.txt': 1, 'Q1-Dataset/pg345.txt': 2, 'Q1-Dataset/pg64317.txt': 1, 'Q1-Dataset/pg70815.txt': 1, 'Q1-Dataset/1080-0.txt': 1, 'Q1-Dataset/pg70817.txt': 1, 'Q1-Dataset/pg1998.txt': 1}, 'is': {'Q1-Dataset/pg1513.txt': 313, 'Q1-Dataset/2160-0.txt': 1243, 'Q1-Dataset/pg11.txt': 85, 'Q1-Dataset/pg2600.txt': 2987, 'Q1-Dataset/pg345.txt': 1432, 'Q1-Dataset/pg64317.txt': 109, 'Q1-Dataset/pg70815.txt': 392, 'Q1-Dataset/1080-0.txt': 39, 'Q1-Dataset/pg70817.txt': 57, 'Q1-Dataset/pg1998.txt': 1732}, 'support': {'Q1-Dataset/pg1513.txt': 3, 'Q1-Dataset/2160-0.txt': 13, 'Q1-Dataset/pg11.txt': 3, 'Q1-Dataset/pg2600.txt': 15, 'Q1-Dataset/pg345.txt': 4, 'Q1-Dataset/pg64317.txt': 5, 'Q1-Dataset/pg70815.txt': 6, 'Q1-Dataset/1080-0.txt': 4, 'Q1-Dataset/pg70817.txt': 3, 'Q1-Dataset/pg1998.txt': 5}, 'bring': {'Q1-Dataset/pg1513.txt': 9, 'Q1-Dataset/2160-0.txt': 25, 'Q1-Dataset/pg11.txt': 2, 'Q1-Dataset/pg2600.txt': 71, 'Q1-Dataset/pg345.txt': 29, 'Q1-Dataset/pg64317.txt': 4, 'Q1-Dataset/pg70815.txt': 3, 'Q1-Dataset/1080-0.txt': 2, 'Q1-Dataset/pg70817.txt': 3, 'Q1-Dataset/pg1998.txt': 13}, 'SEND': {'Q1-Dataset/pg1513.txt': 1, 'Q1-Dataset/2160-0.txt': 1, 'Q1-Dataset/pg11.txt': 1, 'Q1-Dataset/pg2600.txt': 1, 'Q1-Dataset/pg345.txt': 1, 'Q1-Dataset/pg64317.txt': 1, 'Q1-Dataset/pg70815.txt': 1, 'Q1-Dataset/1080-0.txt': 1, 'Q1-Dataset/pg70817.txt': 1, 'Q1-Dataset/pg1998.txt': 1}, 'though': {'Q1-Dataset/pg1513.txt': 8, 'Q1-Dataset/2160-0.txt': 108, 'Q1-Dataset/pg11.txt': 6, 'Q1-Dataset/pg2600.txt': 339, 'Q1-Dataset/pg345.txt': 210, 'Q1-Dataset/pg64317.txt': 31, 'Q1-Dataset/pg70815.txt': 71, 'Q1-Dataset/1080-0.txt': 1, 'Q1-Dataset/pg70817.txt': 3, 'Q1-Dataset/pg1998.txt': 26}, 'IRS.': {'Q1-Dataset/pg1513.txt': 1, 'Q1-Dataset/2160-0.txt': 1, 'Q1-Dataset/pg11.txt': 1, 'Q1-Dataset/pg2600.txt': 1, 'Q1-Dataset/pg345.txt': 1, 'Q1-Dataset/pg64317.txt': 1, 'Q1-Dataset/pg70815.txt': 1, 'Q1-Dataset/1080-0.txt': 1, 'Q1-Dataset/pg70817.txt': 1, 'Q1-Dataset/pg1998.txt': 1}, 'BREACH': {'Q1-Dataset/pg1513.txt': 2, 'Q1-Dataset/2160-0.txt': 2, 'Q1-Dataset/pg11.txt': 2, 'Q1-Dataset/pg2600.txt': 2, 'Q1-Dataset/pg345.txt': 2, 'Q1-Dataset/pg64317.txt': 2, 'Q1-Dataset/pg70815.txt': 2, 'Q1-Dataset/1080-0.txt': 2, 'Q1-Dataset/pg70817.txt': 2, 'Q1-Dataset/pg1998.txt': 2}, 'opportunity': {'Q1-Dataset/pg1513.txt': 2, 'Q1-Dataset/2160-0.txt': 28, 'Q1-Dataset/pg11.txt': 9, 'Q1-Dataset/pg2600.txt': 30, 'Q1-Dataset/pg345.txt': 17, 'Q1-Dataset/pg64317.txt': 3, 'Q1-Dataset/pg70815.txt': 11, 'Q1-Dataset/1080-0.txt': 1, 'Q1-Dataset/pg70817.txt': 1, 'Q1-Dataset/pg1998.txt': 4}, 'Special': {'Q1-Dataset/pg1513.txt': 1, 'Q1-Dataset/2160-0.txt': 1, 'Q1-Dataset/pg11.txt': 1, 'Q1-Dataset/pg2600.txt': 1, 'Q1-Dataset/pg345.txt': 1, 'Q1-Dataset/pg64317.txt': 1, 'Q1-Dataset/pg70815.txt': 2, 'Q1-Dataset/1080-0.txt': 1, 'Q1-Dataset/pg70817.txt': 1, 'Q1-Dataset/pg1998.txt': 1}, 'trademark.': {'Q1-Dataset/pg1513.txt': 4, 'Q1-Dataset/2160-0.txt': 3, 'Q1-Dataset/pg11.txt': 4, 'Q1-Dataset/pg2600.txt': 4, 'Q1-Dataset/pg345.txt': 4, 'Q1-Dataset/pg64317.txt': 4, 'Q1-Dataset/pg70815.txt': 4, 'Q1-Dataset/1080-0.txt': 4, 'Q1-Dataset/pg70817.txt': 4, 'Q1-Dataset/pg1998.txt': 4}, 'till': {'Q1-Dataset/pg1513.txt': 15, 'Q1-Dataset/2160-0.txt': 78, 'Q1-Dataset/pg11.txt': 19, 'Q1-Dataset/pg2600.txt': 166, 'Q1-Dataset/pg345.txt': 124, 'Q1-Dataset/pg64317.txt': 6, 'Q1-Dataset/pg70815.txt': 1, 'Q1-Dataset/1080-0.txt': 3, 'Q1-Dataset/pg70817.txt': 5, 'Q1-Dataset/pg1998.txt': 4}, 'derive': {'Q1-Dataset/pg1513.txt': 1, 'Q1-Dataset/2160-0.txt': 5, 'Q1-Dataset/pg11.txt': 1, 'Q1-Dataset/pg2600.txt': 2, 'Q1-Dataset/pg345.txt': 1, 'Q1-Dataset/pg64317.txt': 1, 'Q1-Dataset/pg70815.txt': 1, 'Q1-Dataset/1080-0.txt': 1, 'Q1-Dataset/pg70817.txt': 1, 'Q1-Dataset/pg1998.txt': 1}, 'prohibition': {'Q1-Dataset/pg1513.txt': 1, 'Q1-Dataset/2160-0.txt': 1, 'Q1-Dataset/pg11.txt': 1, 'Q1-Dataset/pg2600.txt': 1, 'Q1-Dataset/pg345.txt': 1, 'Q1-Dataset/pg64317.txt': 1, 'Q1-Dataset/pg70815.txt': 1, 'Q1-Dataset/1080-0.txt': 1, 'Q1-Dataset/pg70817.txt': 1, 'Q1-Dataset/pg1998.txt': 1}, 'The': {'Q1-Dataset/pg1513.txt': 85, 'Q1-Dataset/2160-0.txt': 352, 'Q1-Dataset/pg11.txt': 106, 'Q1-Dataset/pg2600.txt': 2550, 'Q1-Dataset/pg345.txt': 535, 'Q1-Dataset/pg64317.txt': 166, 'Q1-Dataset/pg70815.txt': 376, 'Q1-Dataset/1080-0.txt': 16, 'Q1-Dataset/pg70817.txt': 219, 'Q1-Dataset/pg1998.txt': 361}, 'solicit': {'Q1-Dataset/pg1513.txt': 2, 'Q1-Dataset/2160-0.txt': 5, 'Q1-Dataset/pg11.txt': 2, 'Q1-Dataset/pg2600.txt': 3, 'Q1-Dataset/pg345.txt': 2, 'Q1-Dataset/pg64317.txt': 2, 'Q1-Dataset/pg70815.txt': 2, 'Q1-Dataset/1080-0.txt': 2, 'Q1-Dataset/pg70817.txt': 2, 'Q1-Dataset/pg1998.txt': 5}, 'www.gutenberg.org': {'Q1-Dataset/pg1513.txt': 2, 'Q1-Dataset/2160-0.txt': 4, 'Q1-Dataset/pg11.txt': 2, 'Q1-Dataset/pg2600.txt': 2, 'Q1-Dataset/pg345.txt': 2, 'Q1-Dataset/pg64317.txt': 2, 'Q1-Dataset/pg70815.txt': 2, 'Q1-Dataset/1080-0.txt': 2, 'Q1-Dataset/pg70817.txt': 2, 'Q1-Dataset/pg1998.txt': 2}, 'manager': {'Q1-Dataset/pg1513.txt': 1, 'Q1-Dataset/2160-0.txt': 2, 'Q1-Dataset/pg11.txt': 1, 'Q1-Dataset/pg2600.txt': 3, 'Q1-Dataset/pg345.txt': 1, 'Q1-Dataset/pg64317.txt': 1, 'Q1-Dataset/pg70815.txt': 1, 'Q1-Dataset/1080-0.txt': 1, 'Q1-Dataset/pg70817.txt': 1, 'Q1-Dataset/pg1998.txt': 1}, 'free': {'Q1-Dataset/pg1513.txt': 7, 'Q1-Dataset/2160-0.txt': 23, 'Q1-Dataset/pg11.txt': 7, 'Q1-Dataset/pg2600.txt': 116, 'Q1-Dataset/pg345.txt': 27, 'Q1-Dataset/pg64317.txt': 5, 'Q1-Dataset/pg70815.txt': 21, 'Q1-Dataset/1080-0.txt': 5, 'Q1-Dataset/pg70817.txt': 5, 'Q1-Dataset/pg1998.txt': 34}, 'indicate': {'Q1-Dataset/pg1513.txt': 1, 'Q1-Dataset/2160-0.txt': 2, 'Q1-Dataset/pg11.txt': 1, 'Q1-Dataset/pg2600.txt': 9, 'Q1-Dataset/pg345.txt': 2, 'Q1-Dataset/pg64317.txt': 2, 'Q1-Dataset/pg70815.txt': 4, 'Q1-Dataset/1080-0.txt': 1, 'Q1-Dataset/pg70817.txt': 1, 'Q1-Dataset/pg1998.txt': 2}, 'old,': {'Q1-Dataset/pg1513.txt': 3, 'Q1-Dataset/2160-0.txt': 3, 'Q1-Dataset/pg11.txt': 4, 'Q1-Dataset/pg2600.txt': 19, 'Q1-Dataset/pg345.txt': 14, 'Q1-Dataset/pg64317.txt': 4, 'Q1-Dataset/pg70815.txt': 1, 'Q1-Dataset/1080-0.txt': 7, 'Q1-Dataset/pg70817.txt': 1, 'Q1-Dataset/pg1998.txt': 11}, 'head': {'Q1-Dataset/pg1513.txt': 9, 'Q1-Dataset/2160-0.txt': 44, 'Q1-Dataset/pg11.txt': 29, 'Q1-Dataset/pg2600.txt': 382, 'Q1-Dataset/pg345.txt': 78, 'Q1-Dataset/pg64317.txt': 31, 'Q1-Dataset/pg70815.txt': 48, 'Q1-Dataset/1080-0.txt': 1, 'Q1-Dataset/pg70817.txt': 15, 'Q1-Dataset/pg1998.txt': 24}, 'phrase': {'Q1-Dataset/pg1513.txt': 4, 'Q1-Dataset/2160-0.txt': 6, 'Q1-Dataset/pg11.txt': 4, 'Q1-Dataset/pg2600.txt': 12, 'Q1-Dataset/pg345.txt': 7, 'Q1-Dataset/pg64317.txt': 8, 'Q1-Dataset/pg70815.txt': 4, 'Q1-Dataset/1080-0.txt': 4, 'Q1-Dataset/pg70817.txt': 4, 'Q1-Dataset/pg1998.txt': 5}, 'obtain': {'Q1-Dataset/pg1513.txt': 3, 'Q1-Dataset/2160-0.txt': 5, 'Q1-Dataset/pg11.txt': 3, 'Q1-Dataset/pg2600.txt': 25, 'Q1-Dataset/pg345.txt': 4, 'Q1-Dataset/pg64317.txt': 3, 'Q1-Dataset/pg70815.txt': 7, 'Q1-Dataset/1080-0.txt': 3, 'Q1-Dataset/pg70817.txt': 3, 'Q1-Dataset/pg1998.txt': 5}, 'share': {'Q1-Dataset/pg1513.txt': 3, 'Q1-Dataset/2160-0.txt': 17, 'Q1-Dataset/pg11.txt': 2, 'Q1-Dataset/pg2600.txt': 25, 'Q1-Dataset/pg345.txt': 4, 'Q1-Dataset/pg64317.txt': 4, 'Q1-Dataset/pg70815.txt': 4, 'Q1-Dataset/1080-0.txt': 1, 'Q1-Dataset/pg70817.txt': 3, 'Q1-Dataset/pg1998.txt': 3}, 'synonymous': {'Q1-Dataset/pg1513.txt': 1, 'Q1-Dataset/2160-0.txt': 1, 'Q1-Dataset/pg11.txt': 1, 'Q1-Dataset/pg2600.txt': 1, 'Q1-Dataset/pg345.txt': 1, 'Q1-Dataset/pg64317.txt': 1, 'Q1-Dataset/pg70815.txt': 2, 'Q1-Dataset/1080-0.txt': 1, 'Q1-Dataset/pg70817.txt': 1, 'Q1-Dataset/pg1998.txt': 1}, 'compliance': {'Q1-Dataset/pg1513.txt': 3, 'Q1-Dataset/2160-0.txt': 3, 'Q1-Dataset/pg11.txt': 3, 'Q1-Dataset/pg2600.txt': 3, 'Q1-Dataset/pg345.txt': 4, 'Q1-Dataset/pg64317.txt': 3, 'Q1-Dataset/pg70815.txt': 3, 'Q1-Dataset/1080-0.txt': 3, 'Q1-Dataset/pg70817.txt': 3, 'Q1-Dataset/pg1998.txt': 3}, 'widest': {'Q1-Dataset/pg1513.txt': 2, 'Q1-Dataset/2160-0.txt': 2, 'Q1-Dataset/pg11.txt': 2, 'Q1-Dataset/pg2600.txt': 2, 'Q1-Dataset/pg345.txt': 2, 'Q1-Dataset/pg64317.txt': 2, 'Q1-Dataset/pg70815.txt': 2, 'Q1-Dataset/1080-0.txt': 2, 'Q1-Dataset/pg70817.txt': 2, 'Q1-Dataset/pg1998.txt': 3}, 'looked': {'Q1-Dataset/pg1513.txt': 1, 'Q1-Dataset/2160-0.txt': 37, 'Q1-Dataset/pg11.txt': 45, 'Q1-Dataset/pg2600.txt': 642, 'Q1-Dataset/pg345.txt': 176, 'Q1-Dataset/pg64317.txt': 81, 'Q1-Dataset/pg70815.txt': 57, 'Q1-Dataset/1080-0.txt': 1, 'Q1-Dataset/pg70817.txt': 33, 'Q1-Dataset/pg1998.txt': 36}, 'poor': {'Q1-Dataset/pg1513.txt': 11, 'Q1-Dataset/2160-0.txt': 155, 'Q1-Dataset/pg11.txt': 25, 'Q1-Dataset/pg2600.txt': 56, 'Q1-Dataset/pg345.txt': 162, 'Q1-Dataset/pg64317.txt': 6, 'Q1-Dataset/pg70815.txt': 1, 'Q1-Dataset/1080-0.txt': 6, 'Q1-Dataset/pg70817.txt': 4, 'Q1-Dataset/pg1998.txt': 22}, 'countries': {'Q1-Dataset/pg1513.txt': 1, 'Q1-Dataset/2160-0.txt': 1, 'Q1-Dataset/pg11.txt': 1, 'Q1-Dataset/pg2600.txt': 1, 'Q1-Dataset/pg345.txt': 2, 'Q1-Dataset/pg64317.txt': 1, 'Q1-Dataset/pg70815.txt': 3, 'Q1-Dataset/1080-0.txt': 2, 'Q1-Dataset/pg70817.txt': 1, 'Q1-Dataset/pg1998.txt': 3}, 'refund': {'Q1-Dataset/pg1513.txt': 6, 'Q1-Dataset/2160-0.txt': 6, 'Q1-Dataset/pg11.txt': 6, 'Q1-Dataset/pg2600.txt': 6, 'Q1-Dataset/pg345.txt': 6, 'Q1-Dataset/pg64317.txt': 6, 'Q1-Dataset/pg70815.txt': 6, 'Q1-Dataset/1080-0.txt': 6, 'Q1-Dataset/pg70817.txt': 6, 'Q1-Dataset/pg1998.txt': 6}, 'United': {'Q1-Dataset/pg1513.txt': 15, 'Q1-Dataset/2160-0.txt': 10, 'Q1-Dataset/pg11.txt': 15, 'Q1-Dataset/pg2600.txt': 15, 'Q1-Dataset/pg345.txt': 16, 'Q1-Dataset/pg64317.txt': 15, 'Q1-Dataset/pg70815.txt': 15, 'Q1-Dataset/1080-0.txt': 15, 'Q1-Dataset/pg70817.txt': 15, 'Q1-Dataset/pg1998.txt': 15}, 'charges.': {'Q1-Dataset/pg1513.txt': 1, 'Q1-Dataset/2160-0.txt': 1, 'Q1-Dataset/pg11.txt': 1, 'Q1-Dataset/pg2600.txt': 3, 'Q1-Dataset/pg345.txt': 1, 'Q1-Dataset/pg64317.txt': 1, 'Q1-Dataset/pg70815.txt': 1, 'Q1-Dataset/1080-0.txt': 1, 'Q1-Dataset/pg70817.txt': 1, 'Q1-Dataset/pg1998.txt': 1}, 'freely': {'Q1-Dataset/pg1513.txt': 4, 'Q1-Dataset/2160-0.txt': 11, 'Q1-Dataset/pg11.txt': 4, 'Q1-Dataset/pg2600.txt': 9, 'Q1-Dataset/pg345.txt': 8, 'Q1-Dataset/pg64317.txt': 4, 'Q1-Dataset/pg70815.txt': 5, 'Q1-Dataset/1080-0.txt': 5, 'Q1-Dataset/pg70817.txt': 4, 'Q1-Dataset/pg1998.txt': 4}, 'an': {'Q1-Dataset/pg1513.txt': 61, 'Q1-Dataset/2160-0.txt': 548, 'Q1-Dataset/pg11.txt': 57, 'Q1-Dataset/pg2600.txt': 1563, 'Q1-Dataset/pg345.txt': 294, 'Q1-Dataset/pg64317.txt': 185, 'Q1-Dataset/pg70815.txt': 242, 'Q1-Dataset/1080-0.txt': 13, 'Q1-Dataset/pg70817.txt': 99, 'Q1-Dataset/pg1998.txt': 220}, 'volunteer': {'Q1-Dataset/pg1513.txt': 1, 'Q1-Dataset/2160-0.txt': 1, 'Q1-Dataset/pg11.txt': 1, 'Q1-Dataset/pg2600.txt': 2, 'Q1-Dataset/pg345.txt': 1, 'Q1-Dataset/pg64317.txt': 1, 'Q1-Dataset/pg70815.txt': 1, 'Q1-Dataset/1080-0.txt': 1, 'Q1-Dataset/pg70817.txt': 1, 'Q1-Dataset/pg1998.txt': 1}, 'virus,': {'Q1-Dataset/pg1513.txt': 1, 'Q1-Dataset/2160-0.txt': 1, 'Q1-Dataset/pg11.txt': 1, 'Q1-Dataset/pg2600.txt': 1, 'Q1-Dataset/pg345.txt': 1, 'Q1-Dataset/pg64317.txt': 1, 'Q1-Dataset/pg70815.txt': 1, 'Q1-Dataset/1080-0.txt': 1, 'Q1-Dataset/pg70817.txt': 1, 'Q1-Dataset/pg1998.txt': 1}, '1.': {'Q1-Dataset/pg1513.txt': 1, 'Q1-Dataset/2160-0.txt': 2, 'Q1-Dataset/pg11.txt': 1, 'Q1-Dataset/pg2600.txt': 2, 'Q1-Dataset/pg345.txt': 2, 'Q1-Dataset/pg64317.txt': 1, 'Q1-Dataset/pg70815.txt': 1, 'Q1-Dataset/1080-0.txt': 1, 'Q1-Dataset/pg70817.txt': 1, 'Q1-Dataset/pg1998.txt': 21}, 's/he': {'Q1-Dataset/pg1513.txt': 1, 'Q1-Dataset/2160-0.txt': 1, 'Q1-Dataset/pg11.txt': 1, 'Q1-Dataset/pg2600.txt': 1, 'Q1-Dataset/pg345.txt': 1, 'Q1-Dataset/pg64317.txt': 1, 'Q1-Dataset/pg70815.txt': 1, 'Q1-Dataset/1080-0.txt': 1, 'Q1-Dataset/pg70817.txt': 1, 'Q1-Dataset/pg1998.txt': 1}, 'charitable': {'Q1-Dataset/pg1513.txt': 1, 'Q1-Dataset/2160-0.txt': 4, 'Q1-Dataset/pg11.txt': 1, 'Q1-Dataset/pg2600.txt': 6, 'Q1-Dataset/pg345.txt': 1, 'Q1-Dataset/pg64317.txt': 1, 'Q1-Dataset/pg70815.txt': 1, 'Q1-Dataset/1080-0.txt': 1, 'Q1-Dataset/pg70817.txt': 2, 'Q1-Dataset/pg1998.txt': 1}, 'at': {'Q1-Dataset/pg1513.txt': 77, 'Q1-Dataset/2160-0.txt': 1036, 'Q1-Dataset/pg11.txt': 209, 'Q1-Dataset/pg2600.txt': 4199, 'Q1-Dataset/pg345.txt': 1001, 'Q1-Dataset/pg64317.txt': 383, 'Q1-Dataset/pg70815.txt': 369, 'Q1-Dataset/1080-0.txt': 42, 'Q1-Dataset/pg70817.txt': 181, 'Q1-Dataset/pg1998.txt': 448}, 'tax': {'Q1-Dataset/pg1513.txt': 6, 'Q1-Dataset/2160-0.txt': 8, 'Q1-Dataset/pg11.txt': 6, 'Q1-Dataset/pg2600.txt': 6, 'Q1-Dataset/pg345.txt': 9, 'Q1-Dataset/pg64317.txt': 6, 'Q1-Dataset/pg70815.txt': 6, 'Q1-Dataset/1080-0.txt': 6, 'Q1-Dataset/pg70817.txt': 6, 'Q1-Dataset/pg1998.txt': 6}, '(does': {'Q1-Dataset/pg1513.txt': 1, 'Q1-Dataset/2160-0.txt': 1, 'Q1-Dataset/pg11.txt': 1, 'Q1-Dataset/pg2600.txt': 1, 'Q1-Dataset/pg345.txt': 1, 'Q1-Dataset/pg64317.txt': 1, 'Q1-Dataset/pg70815.txt': 1, 'Q1-Dataset/1080-0.txt': 1, 'Q1-Dataset/pg70817.txt': 1, 'Q1-Dataset/pg1998.txt': 1}, 'requirements': {'Q1-Dataset/pg1513.txt': 2, 'Q1-Dataset/2160-0.txt': 2, 'Q1-Dataset/pg11.txt': 2, 'Q1-Dataset/pg2600.txt': 3, 'Q1-Dataset/pg345.txt': 3, 'Q1-Dataset/pg64317.txt': 2, 'Q1-Dataset/pg70815.txt': 2, 'Q1-Dataset/1080-0.txt': 2, 'Q1-Dataset/pg70817.txt': 2, 'Q1-Dataset/pg1998.txt': 2}, 'INDEMNITY': {'Q1-Dataset/pg1513.txt': 1, 'Q1-Dataset/2160-0.txt': 1, 'Q1-Dataset/pg11.txt': 1, 'Q1-Dataset/pg2600.txt': 1, 'Q1-Dataset/pg345.txt': 1, 'Q1-Dataset/pg64317.txt': 1, 'Q1-Dataset/pg70815.txt': 1, 'Q1-Dataset/1080-0.txt': 1, 'Q1-Dataset/pg70817.txt': 1, 'Q1-Dataset/pg1998.txt': 1}, 'mission': {'Q1-Dataset/pg1513.txt': 3, 'Q1-Dataset/2160-0.txt': 4, 'Q1-Dataset/pg11.txt': 3, 'Q1-Dataset/pg2600.txt': 8, 'Q1-Dataset/pg345.txt': 4, 'Q1-Dataset/pg64317.txt': 3, 'Q1-Dataset/pg70815.txt': 5, 'Q1-Dataset/1080-0.txt': 3, 'Q1-Dataset/pg70817.txt': 3, 'Q1-Dataset/pg1998.txt': 3}, 'TRADEMARK': {'Q1-Dataset/pg1513.txt': 1, 'Q1-Dataset/2160-0.txt': 1, 'Q1-Dataset/pg11.txt': 1, 'Q1-Dataset/pg2600.txt': 1, 'Q1-Dataset/pg345.txt': 1, 'Q1-Dataset/pg64317.txt': 1, 'Q1-Dataset/pg70815.txt': 1, 'Q1-Dataset/1080-0.txt': 1, 'Q1-Dataset/pg70817.txt': 1, 'Q1-Dataset/pg1998.txt': 1}, 'following': {'Q1-Dataset/pg1513.txt': 5, 'Q1-Dataset/2160-0.txt': 20, 'Q1-Dataset/pg11.txt': 4, 'Q1-Dataset/pg2600.txt': 66, 'Q1-Dataset/pg345.txt': 17, 'Q1-Dataset/pg64317.txt': 9, 'Q1-Dataset/pg70815.txt': 15, 'Q1-Dataset/1080-0.txt': 4, 'Q1-Dataset/pg70817.txt': 6, 'Q1-Dataset/pg1998.txt': 10}, 'me,': {'Q1-Dataset/pg1513.txt': 47, 'Q1-Dataset/2160-0.txt': 86, 'Q1-Dataset/pg11.txt': 3, 'Q1-Dataset/pg2600.txt': 172, 'Q1-Dataset/pg345.txt': 284, 'Q1-Dataset/pg64317.txt': 36, 'Q1-Dataset/pg70815.txt': 9, 'Q1-Dataset/1080-0.txt': 1, 'Q1-Dataset/pg70817.txt': 6, 'Q1-Dataset/pg1998.txt': 172}, 'imposed': {'Q1-Dataset/pg1513.txt': 1, 'Q1-Dataset/2160-0.txt': 2, 'Q1-Dataset/pg11.txt': 1, 'Q1-Dataset/pg2600.txt': 4, 'Q1-Dataset/pg345.txt': 1, 'Q1-Dataset/pg64317.txt': 1, 'Q1-Dataset/pg70815.txt': 1, 'Q1-Dataset/1080-0.txt': 1, 'Q1-Dataset/pg70817.txt': 1, 'Q1-Dataset/pg1998.txt': 4}, 'almost': {'Q1-Dataset/pg1513.txt': 5, 'Q1-Dataset/2160-0.txt': 30, 'Q1-Dataset/pg11.txt': 8, 'Q1-Dataset/pg2600.txt': 146, 'Q1-Dataset/pg345.txt': 70, 'Q1-Dataset/pg64317.txt': 17, 'Q1-Dataset/pg70815.txt': 85, 'Q1-Dataset/1080-0.txt': 3, 'Q1-Dataset/pg70817.txt': 14, 'Q1-Dataset/pg1998.txt': 26}, 'While': {'Q1-Dataset/pg1513.txt': 2, 'Q1-Dataset/2160-0.txt': 6, 'Q1-Dataset/pg11.txt': 6, 'Q1-Dataset/pg2600.txt': 63, 'Q1-Dataset/pg345.txt': 1, 'Q1-Dataset/pg64317.txt': 4, 'Q1-Dataset/pg70815.txt': 15, 'Q1-Dataset/1080-0.txt': 1, 'Q1-Dataset/pg70817.txt': 3, 'Q1-Dataset/pg1998.txt': 3}, 'which': {'Q1-Dataset/pg1513.txt': 35, 'Q1-Dataset/2160-0.txt': 927, 'Q1-Dataset/pg11.txt': 44, 'Q1-Dataset/pg2600.txt': 1924, 'Q1-Dataset/pg345.txt': 636, 'Q1-Dataset/pg64317.txt': 69, 'Q1-Dataset/pg70815.txt': 389, 'Q1-Dataset/1080-0.txt': 25, 'Q1-Dataset/pg70817.txt': 131, 'Q1-Dataset/pg1998.txt': 448}, 'EVEN': {'Q1-Dataset/pg1513.txt': 1, 'Q1-Dataset/2160-0.txt': 1, 'Q1-Dataset/pg11.txt': 1, 'Q1-Dataset/pg2600.txt': 1, 'Q1-Dataset/pg345.txt': 1, 'Q1-Dataset/pg64317.txt': 1, 'Q1-Dataset/pg70815.txt': 1, 'Q1-Dataset/1080-0.txt': 1, 'Q1-Dataset/pg70817.txt': 1, 'Q1-Dataset/pg1998.txt': 1}, 'most': {'Q1-Dataset/pg1513.txt': 17, 'Q1-Dataset/2160-0.txt': 173, 'Q1-Dataset/pg11.txt': 12, 'Q1-Dataset/pg2600.txt': 307, 'Q1-Dataset/pg345.txt': 72, 'Q1-Dataset/pg64317.txt': 24, 'Q1-Dataset/pg70815.txt': 35, 'Q1-Dataset/1080-0.txt': 11, 'Q1-Dataset/pg70817.txt': 13, 'Q1-Dataset/pg1998.txt': 131}, 'cost,': {'Q1-Dataset/pg1513.txt': 1, 'Q1-Dataset/2160-0.txt': 1, 'Q1-Dataset/pg11.txt': 1, 'Q1-Dataset/pg2600.txt': 1, 'Q1-Dataset/pg345.txt': 1, 'Q1-Dataset/pg64317.txt': 1, 'Q1-Dataset/pg70815.txt': 1, 'Q1-Dataset/1080-0.txt': 1, 'Q1-Dataset/pg70817.txt': 1, 'Q1-Dataset/pg1998.txt': 1}, 'owner,': {'Q1-Dataset/pg1513.txt': 1, 'Q1-Dataset/2160-0.txt': 1, 'Q1-Dataset/pg11.txt': 1, 'Q1-Dataset/pg2600.txt': 2, 'Q1-Dataset/pg345.txt': 1, 'Q1-Dataset/pg64317.txt': 1, 'Q1-Dataset/pg70815.txt': 1, 'Q1-Dataset/1080-0.txt': 1, 'Q1-Dataset/pg70817.txt': 1, 'Q1-Dataset/pg1998.txt': 1}, 'paperwork': {'Q1-Dataset/pg1513.txt': 1, 'Q1-Dataset/2160-0.txt': 1, 'Q1-Dataset/pg11.txt': 1, 'Q1-Dataset/pg2600.txt': 1, 'Q1-Dataset/pg345.txt': 1, 'Q1-Dataset/pg64317.txt': 1, 'Q1-Dataset/pg70815.txt': 1, 'Q1-Dataset/1080-0.txt': 1, 'Q1-Dataset/pg70817.txt': 1, 'Q1-Dataset/pg1998.txt': 1}, 'bound': {'Q1-Dataset/pg1513.txt': 6, 'Q1-Dataset/2160-0.txt': 12, 'Q1-Dataset/pg11.txt': 3, 'Q1-Dataset/pg2600.txt': 44, 'Q1-Dataset/pg345.txt': 10, 'Q1-Dataset/pg64317.txt': 6, 'Q1-Dataset/pg70815.txt': 10, 'Q1-Dataset/1080-0.txt': 2, 'Q1-Dataset/pg70817.txt': 6, 'Q1-Dataset/pg1998.txt': 4}, 'After': {'Q1-Dataset/pg1513.txt': 1, 'Q1-Dataset/2160-0.txt': 20, 'Q1-Dataset/pg11.txt': 5, 'Q1-Dataset/pg2600.txt': 194, 'Q1-Dataset/pg345.txt': 39, 'Q1-Dataset/pg64317.txt': 22, 'Q1-Dataset/pg70815.txt': 5, 'Q1-Dataset/1080-0.txt': 1, 'Q1-Dataset/pg70817.txt': 20, 'Q1-Dataset/pg1998.txt': 8}, '(a)': {'Q1-Dataset/pg1513.txt': 1, 'Q1-Dataset/2160-0.txt': 1, 'Q1-Dataset/pg11.txt': 1, 'Q1-Dataset/pg2600.txt': 2, 'Q1-Dataset/pg345.txt': 1, 'Q1-Dataset/pg64317.txt': 1, 'Q1-Dataset/pg70815.txt': 1, 'Q1-Dataset/1080-0.txt': 1, 'Q1-Dataset/pg70817.txt': 1, 'Q1-Dataset/pg1998.txt': 1}, 'alone': {'Q1-Dataset/pg1513.txt': 4, 'Q1-Dataset/2160-0.txt': 6, 'Q1-Dataset/pg11.txt': 3, 'Q1-Dataset/pg2600.txt': 154, 'Q1-Dataset/pg345.txt': 43, 'Q1-Dataset/pg64317.txt': 10, 'Q1-Dataset/pg70815.txt': 22, 'Q1-Dataset/1080-0.txt': 1, 'Q1-Dataset/pg70817.txt': 5, 'Q1-Dataset/pg1998.txt': 28}, 'copy': {'Q1-Dataset/pg1513.txt': 8, 'Q1-Dataset/2160-0.txt': 9, 'Q1-Dataset/pg11.txt': 8, 'Q1-Dataset/pg2600.txt': 10, 'Q1-Dataset/pg345.txt': 17, 'Q1-Dataset/pg64317.txt': 14, 'Q1-Dataset/pg70815.txt': 9, 'Q1-Dataset/1080-0.txt': 8, 'Q1-Dataset/pg70817.txt': 8, 'Q1-Dataset/pg1998.txt': 10}, 'copies': {'Q1-Dataset/pg1513.txt': 7, 'Q1-Dataset/2160-0.txt': 7, 'Q1-Dataset/pg11.txt': 7, 'Q1-Dataset/pg2600.txt': 9, 'Q1-Dataset/pg345.txt': 8, 'Q1-Dataset/pg64317.txt': 8, 'Q1-Dataset/pg70815.txt': 8, 'Q1-Dataset/1080-0.txt': 7, 'Q1-Dataset/pg70817.txt': 7, 'Q1-Dataset/pg1998.txt': 10}, '1.F.3,': {'Q1-Dataset/pg1513.txt': 3, 'Q1-Dataset/2160-0.txt': 3, 'Q1-Dataset/pg11.txt': 3, 'Q1-Dataset/pg2600.txt': 3, 'Q1-Dataset/pg345.txt': 3, 'Q1-Dataset/pg64317.txt': 3, 'Q1-Dataset/pg70815.txt': 3, 'Q1-Dataset/1080-0.txt': 3, 'Q1-Dataset/pg70817.txt': 3, 'Q1-Dataset/pg1998.txt': 3}, 'data,': {'Q1-Dataset/pg1513.txt': 1, 'Q1-Dataset/2160-0.txt': 1, 'Q1-Dataset/pg11.txt': 1, 'Q1-Dataset/pg2600.txt': 1, 'Q1-Dataset/pg345.txt': 2, 'Q1-Dataset/pg64317.txt': 1, 'Q1-Dataset/pg70815.txt': 1, 'Q1-Dataset/1080-0.txt': 1, 'Q1-Dataset/pg70817.txt': 1, 'Q1-Dataset/pg1998.txt': 1}, '2.': {'Q1-Dataset/pg1513.txt': 1, 'Q1-Dataset/2160-0.txt': 6, 'Q1-Dataset/pg11.txt': 1, 'Q1-Dataset/pg2600.txt': 2, 'Q1-Dataset/pg345.txt': 2, 'Q1-Dataset/pg64317.txt': 1, 'Q1-Dataset/pg70815.txt': 1, 'Q1-Dataset/1080-0.txt': 1, 'Q1-Dataset/pg70817.txt': 1, 'Q1-Dataset/pg1998.txt': 22}, 'and': {'Q1-Dataset/pg1513.txt': 541, 'Q1-Dataset/2160-0.txt': 4803, 'Q1-Dataset/pg11.txt': 783, 'Q1-Dataset/pg2600.txt': 20560, 'Q1-Dataset/pg345.txt': 5638, 'Q1-Dataset/pg64317.txt': 1505, 'Q1-Dataset/pg70815.txt': 2343, 'Q1-Dataset/1080-0.txt': 179, 'Q1-Dataset/pg70817.txt': 754, 'Q1-Dataset/pg1998.txt': 3949}, 'glad': {'Q1-Dataset/pg1513.txt': 2, 'Q1-Dataset/2160-0.txt': 23, 'Q1-Dataset/pg11.txt': 11, 'Q1-Dataset/pg2600.txt': 92, 'Q1-Dataset/pg345.txt': 29, 'Q1-Dataset/pg64317.txt': 10, 'Q1-Dataset/pg70815.txt': 9, 'Q1-Dataset/1080-0.txt': 1, 'Q1-Dataset/pg70817.txt': 3, 'Q1-Dataset/pg1998.txt': 2}, 'THOSE': {'Q1-Dataset/pg1513.txt': 1, 'Q1-Dataset/2160-0.txt': 1, 'Q1-Dataset/pg11.txt': 1, 'Q1-Dataset/pg2600.txt': 1, 'Q1-Dataset/pg345.txt': 1, 'Q1-Dataset/pg64317.txt': 1, 'Q1-Dataset/pg70815.txt': 1, 'Q1-Dataset/1080-0.txt': 1, 'Q1-Dataset/pg70817.txt': 1, 'Q1-Dataset/pg1998.txt': 4}, 'five': {'Q1-Dataset/pg1513.txt': 4, 'Q1-Dataset/2160-0.txt': 35, 'Q1-Dataset/pg11.txt': 1, 'Q1-Dataset/pg2600.txt': 72, 'Q1-Dataset/pg345.txt': 19, 'Q1-Dataset/pg64317.txt': 28, 'Q1-Dataset/pg70815.txt': 11, 'Q1-Dataset/1080-0.txt': 1, 'Q1-Dataset/pg70817.txt': 5, 'Q1-Dataset/pg1998.txt': 2}, 'accordance': {'Q1-Dataset/pg1513.txt': 2, 'Q1-Dataset/2160-0.txt': 2, 'Q1-Dataset/pg11.txt': 2, 'Q1-Dataset/pg2600.txt': 7, 'Q1-Dataset/pg345.txt': 5, 'Q1-Dataset/pg64317.txt': 2, 'Q1-Dataset/pg70815.txt': 5, 'Q1-Dataset/1080-0.txt': 2, 'Q1-Dataset/pg70817.txt': 2, 'Q1-Dataset/pg1998.txt': 3}, 'goals': {'Q1-Dataset/pg1513.txt': 1, 'Q1-Dataset/2160-0.txt': 1, 'Q1-Dataset/pg11.txt': 1, 'Q1-Dataset/pg2600.txt': 1, 'Q1-Dataset/pg345.txt': 1, 'Q1-Dataset/pg64317.txt': 1, 'Q1-Dataset/pg70815.txt': 1, 'Q1-Dataset/1080-0.txt': 1, 'Q1-Dataset/pg70817.txt': 1, 'Q1-Dataset/pg1998.txt': 2}, 'Defect': {'Q1-Dataset/pg1513.txt': 1, 'Q1-Dataset/2160-0.txt': 1, 'Q1-Dataset/pg11.txt': 1, 'Q1-Dataset/pg2600.txt': 1, 'Q1-Dataset/pg345.txt': 1, 'Q1-Dataset/pg64317.txt': 1, 'Q1-Dataset/pg70815.txt': 1, 'Q1-Dataset/1080-0.txt': 1, 'Q1-Dataset/pg70817.txt': 1, 'Q1-Dataset/pg1998.txt': 1}, 'START:': {'Q1-Dataset/pg1513.txt': 1, 'Q1-Dataset/2160-0.txt': 1, 'Q1-Dataset/pg11.txt': 1, 'Q1-Dataset/pg2600.txt': 1, 'Q1-Dataset/pg345.txt': 1, 'Q1-Dataset/pg64317.txt': 1, 'Q1-Dataset/pg70815.txt': 1, 'Q1-Dataset/1080-0.txt': 1, 'Q1-Dataset/pg70817.txt': 1, 'Q1-Dataset/pg1998.txt': 1}, 'displaying': {'Q1-Dataset/pg1513.txt': 2, 'Q1-Dataset/2160-0.txt': 6, 'Q1-Dataset/pg11.txt': 2, 'Q1-Dataset/pg2600.txt': 7, 'Q1-Dataset/pg345.txt': 2, 'Q1-Dataset/pg64317.txt': 2, 'Q1-Dataset/pg70815.txt': 2, 'Q1-Dataset/1080-0.txt': 2, 'Q1-Dataset/pg70817.txt': 3, 'Q1-Dataset/pg1998.txt': 2}, 'By': {'Q1-Dataset/pg1513.txt': 31, 'Q1-Dataset/2160-0.txt': 19, 'Q1-Dataset/pg11.txt': 4, 'Q1-Dataset/pg2600.txt': 44, 'Q1-Dataset/pg345.txt': 26, 'Q1-Dataset/pg64317.txt': 9, 'Q1-Dataset/pg70815.txt': 11, 'Q1-Dataset/1080-0.txt': 1, 'Q1-Dataset/pg70817.txt': 8, 'Q1-Dataset/pg1998.txt': 16}, 'Contributions': {'Q1-Dataset/pg1513.txt': 1, 'Q1-Dataset/2160-0.txt': 1, 'Q1-Dataset/pg11.txt': 1, 'Q1-Dataset/pg2600.txt': 1, 'Q1-Dataset/pg345.txt': 1, 'Q1-Dataset/pg64317.txt': 1, 'Q1-Dataset/pg70815.txt': 1, 'Q1-Dataset/1080-0.txt': 1, 'Q1-Dataset/pg70817.txt': 1, 'Q1-Dataset/pg1998.txt': 1}, 'required': {'Q1-Dataset/pg1513.txt': 1, 'Q1-Dataset/2160-0.txt': 8, 'Q1-Dataset/pg11.txt': 1, 'Q1-Dataset/pg2600.txt': 14, 'Q1-Dataset/pg345.txt': 4, 'Q1-Dataset/pg64317.txt': 1, 'Q1-Dataset/pg70815.txt': 2, 'Q1-Dataset/1080-0.txt': 1, 'Q1-Dataset/pg70817.txt': 4, 'Q1-Dataset/pg1998.txt': 4}, '1.C.': {'Q1-Dataset/pg1513.txt': 1, 'Q1-Dataset/2160-0.txt': 1, 'Q1-Dataset/pg11.txt': 1, 'Q1-Dataset/pg2600.txt': 1, 'Q1-Dataset/pg345.txt': 1, 'Q1-Dataset/pg64317.txt': 1, 'Q1-Dataset/pg70815.txt': 1, 'Q1-Dataset/1080-0.txt': 1, 'Q1-Dataset/pg70817.txt': 1, 'Q1-Dataset/pg1998.txt': 1}, 'remain': {'Q1-Dataset/pg1513.txt': 3, 'Q1-Dataset/2160-0.txt': 5, 'Q1-Dataset/pg11.txt': 2, 'Q1-Dataset/pg2600.txt': 74, 'Q1-Dataset/pg345.txt': 19, 'Q1-Dataset/pg64317.txt': 2, 'Q1-Dataset/pg70815.txt': 21, 'Q1-Dataset/1080-0.txt': 3, 'Q1-Dataset/pg70817.txt': 4, 'Q1-Dataset/pg1998.txt': 10}, '1.E.8': {'Q1-Dataset/pg1513.txt': 2, 'Q1-Dataset/2160-0.txt': 2, 'Q1-Dataset/pg11.txt': 2, 'Q1-Dataset/pg2600.txt': 2, 'Q1-Dataset/pg345.txt': 2, 'Q1-Dataset/pg64317.txt': 2, 'Q1-Dataset/pg70815.txt': 2, 'Q1-Dataset/1080-0.txt': 2, 'Q1-Dataset/pg70817.txt': 2, 'Q1-Dataset/pg1998.txt': 2}, 'gone': {'Q1-Dataset/pg1513.txt': 5, 'Q1-Dataset/2160-0.txt': 27, 'Q1-Dataset/pg11.txt': 9, 'Q1-Dataset/pg2600.txt': 133, 'Q1-Dataset/pg345.txt': 43, 'Q1-Dataset/pg64317.txt': 17, 'Q1-Dataset/pg70815.txt': 28, 'Q1-Dataset/1080-0.txt': 1, 'Q1-Dataset/pg70817.txt': 9, 'Q1-Dataset/pg1998.txt': 20}, 'knew': {'Q1-Dataset/pg1513.txt': 3, 'Q1-Dataset/2160-0.txt': 30, 'Q1-Dataset/pg11.txt': 13, 'Q1-Dataset/pg2600.txt': 380, 'Q1-Dataset/pg345.txt': 107, 'Q1-Dataset/pg64317.txt': 48, 'Q1-Dataset/pg70815.txt': 87, 'Q1-Dataset/1080-0.txt': 1, 'Q1-Dataset/pg70817.txt': 20, 'Q1-Dataset/pg1998.txt': 16}, 'available': {'Q1-Dataset/pg1513.txt': 2, 'Q1-Dataset/2160-0.txt': 2, 'Q1-Dataset/pg11.txt': 2, 'Q1-Dataset/pg2600.txt': 5, 'Q1-Dataset/pg345.txt': 4, 'Q1-Dataset/pg64317.txt': 2, 'Q1-Dataset/pg70815.txt': 2, 'Q1-Dataset/1080-0.txt': 2, 'Q1-Dataset/pg70817.txt': 2, 'Q1-Dataset/pg1998.txt': 2}, 'come.': {'Q1-Dataset/pg1513.txt': 8, 'Q1-Dataset/2160-0.txt': 1, 'Q1-Dataset/pg11.txt': 1, 'Q1-Dataset/pg2600.txt': 21, 'Q1-Dataset/pg345.txt': 15, 'Q1-Dataset/pg64317.txt': 2, 'Q1-Dataset/pg70815.txt': 9, 'Q1-Dataset/1080-0.txt': 2, 'Q1-Dataset/pg70817.txt': 2, 'Q1-Dataset/pg1998.txt': 5}, 'any': {'Q1-Dataset/pg1513.txt': 46, 'Q1-Dataset/2160-0.txt': 328, 'Q1-Dataset/pg11.txt': 67, 'Q1-Dataset/pg2600.txt': 487, 'Q1-Dataset/pg345.txt': 311, 'Q1-Dataset/pg64317.txt': 93, 'Q1-Dataset/pg70815.txt': 153, 'Q1-Dataset/1080-0.txt': 39, 'Q1-Dataset/pg70817.txt': 61, 'Q1-Dataset/pg1998.txt': 107}, 'follow': {'Q1-Dataset/pg1513.txt': 7, 'Q1-Dataset/2160-0.txt': 13, 'Q1-Dataset/pg11.txt': 2, 'Q1-Dataset/pg2600.txt': 31, 'Q1-Dataset/pg345.txt': 30, 'Q1-Dataset/pg64317.txt': 5, 'Q1-Dataset/pg70815.txt': 25, 'Q1-Dataset/1080-0.txt': 1, 'Q1-Dataset/pg70817.txt': 2, 'Q1-Dataset/pg1998.txt': 11}, 'BEFORE': {'Q1-Dataset/pg1513.txt': 1, 'Q1-Dataset/2160-0.txt': 1, 'Q1-Dataset/pg11.txt': 1, 'Q1-Dataset/pg2600.txt': 1, 'Q1-Dataset/pg345.txt': 1, 'Q1-Dataset/pg64317.txt': 1, 'Q1-Dataset/pg70815.txt': 1, 'Q1-Dataset/1080-0.txt': 1, 'Q1-Dataset/pg70817.txt': 1, 'Q1-Dataset/pg1998.txt': 5}, 'you': {'Q1-Dataset/pg1513.txt': 262, 'Q1-Dataset/2160-0.txt': 612, 'Q1-Dataset/pg11.txt': 306, 'Q1-Dataset/pg2600.txt': 2422, 'Q1-Dataset/pg345.txt': 1052, 'Q1-Dataset/pg64317.txt': 358, 'Q1-Dataset/pg70815.txt': 411, 'Q1-Dataset/1080-0.txt': 55, 'Q1-Dataset/pg70817.txt': 93, 'Q1-Dataset/pg1998.txt': 188}, 'by': {'Q1-Dataset/pg1513.txt': 106, 'Q1-Dataset/2160-0.txt': 925, 'Q1-Dataset/pg11.txt': 79, 'Q1-Dataset/pg2600.txt': 2316, 'Q1-Dataset/pg345.txt': 486, 'Q1-Dataset/pg64317.txt': 134, 'Q1-Dataset/pg70815.txt': 369, 'Q1-Dataset/1080-0.txt': 59, 'Q1-Dataset/pg70817.txt': 95, 'Q1-Dataset/pg1998.txt': 282}, 'research.': {'Q1-Dataset/pg1513.txt': 1, 'Q1-Dataset/2160-0.txt': 1, 'Q1-Dataset/pg11.txt': 1, 'Q1-Dataset/pg2600.txt': 1, 'Q1-Dataset/pg345.txt': 1, 'Q1-Dataset/pg64317.txt': 1, 'Q1-Dataset/pg70815.txt': 1, 'Q1-Dataset/1080-0.txt': 1, 'Q1-Dataset/pg70817.txt': 2, 'Q1-Dataset/pg1998.txt': 1}, 'displaying,': {'Q1-Dataset/pg1513.txt': 2, 'Q1-Dataset/2160-0.txt': 2, 'Q1-Dataset/pg11.txt': 2, 'Q1-Dataset/pg2600.txt': 2, 'Q1-Dataset/pg345.txt': 2, 'Q1-Dataset/pg64317.txt': 2, 'Q1-Dataset/pg70815.txt': 2, 'Q1-Dataset/1080-0.txt': 2, 'Q1-Dataset/pg70817.txt': 2, 'Q1-Dataset/pg1998.txt': 2}, 'limitation': {'Q1-Dataset/pg1513.txt': 3, 'Q1-Dataset/2160-0.txt': 3, 'Q1-Dataset/pg11.txt': 3, 'Q1-Dataset/pg2600.txt': 4, 'Q1-Dataset/pg345.txt': 3, 'Q1-Dataset/pg64317.txt': 3, 'Q1-Dataset/pg70815.txt': 3, 'Q1-Dataset/1080-0.txt': 3, 'Q1-Dataset/pg70817.txt': 3, 'Q1-Dataset/pg1998.txt': 3}, 'offer': {'Q1-Dataset/pg1513.txt': 1, 'Q1-Dataset/2160-0.txt': 13, 'Q1-Dataset/pg11.txt': 2, 'Q1-Dataset/pg2600.txt': 25, 'Q1-Dataset/pg345.txt': 1, 'Q1-Dataset/pg64317.txt': 1, 'Q1-Dataset/pg70815.txt': 2, 'Q1-Dataset/1080-0.txt': 3, 'Q1-Dataset/pg70817.txt': 1, 'Q1-Dataset/pg1998.txt': 4}, 'disclaimer': {'Q1-Dataset/pg1513.txt': 2, 'Q1-Dataset/2160-0.txt': 2, 'Q1-Dataset/pg11.txt': 2, 'Q1-Dataset/pg2600.txt': 2, 'Q1-Dataset/pg345.txt': 2, 'Q1-Dataset/pg64317.txt': 2, 'Q1-Dataset/pg70815.txt': 2, 'Q1-Dataset/1080-0.txt': 2, 'Q1-Dataset/pg70817.txt': 2, 'Q1-Dataset/pg1998.txt': 2}, 'editions': {'Q1-Dataset/pg1513.txt': 3, 'Q1-Dataset/2160-0.txt': 3, 'Q1-Dataset/pg11.txt': 5, 'Q1-Dataset/pg2600.txt': 3, 'Q1-Dataset/pg345.txt': 3, 'Q1-Dataset/pg64317.txt': 3, 'Q1-Dataset/pg70815.txt': 3, 'Q1-Dataset/1080-0.txt': 3, 'Q1-Dataset/pg70817.txt': 3, 'Q1-Dataset/pg1998.txt': 3}, 'federal': {'Q1-Dataset/pg1513.txt': 2, 'Q1-Dataset/2160-0.txt': 2, 'Q1-Dataset/pg11.txt': 2, 'Q1-Dataset/pg2600.txt': 2, 'Q1-Dataset/pg345.txt': 2, 'Q1-Dataset/pg64317.txt': 2, 'Q1-Dataset/pg70815.txt': 2, 'Q1-Dataset/1080-0.txt': 2, 'Q1-Dataset/pg70817.txt': 2, 'Q1-Dataset/pg1998.txt': 2}, 'preserve': {'Q1-Dataset/pg1513.txt': 1, 'Q1-Dataset/2160-0.txt': 5, 'Q1-Dataset/pg11.txt': 1, 'Q1-Dataset/pg2600.txt': 11, 'Q1-Dataset/pg345.txt': 3, 'Q1-Dataset/pg64317.txt': 1, 'Q1-Dataset/pg70815.txt': 2, 'Q1-Dataset/1080-0.txt': 1, 'Q1-Dataset/pg70817.txt': 1, 'Q1-Dataset/pg1998.txt': 5}, 'harmless': {'Q1-Dataset/pg1513.txt': 1, 'Q1-Dataset/2160-0.txt': 1, 'Q1-Dataset/pg11.txt': 1, 'Q1-Dataset/pg2600.txt': 1, 'Q1-Dataset/pg345.txt': 4, 'Q1-Dataset/pg64317.txt': 1, 'Q1-Dataset/pg70815.txt': 1, 'Q1-Dataset/1080-0.txt': 1, 'Q1-Dataset/pg70817.txt': 3, 'Q1-Dataset/pg1998.txt': 1}, 'received': {'Q1-Dataset/pg1513.txt': 5, 'Q1-Dataset/2160-0.txt': 78, 'Q1-Dataset/pg11.txt': 6, 'Q1-Dataset/pg2600.txt': 182, 'Q1-Dataset/pg345.txt': 21, 'Q1-Dataset/pg64317.txt': 5, 'Q1-Dataset/pg70815.txt': 16, 'Q1-Dataset/1080-0.txt': 5, 'Q1-Dataset/pg70817.txt': 5, 'Q1-Dataset/pg1998.txt': 8}, 'was,': {'Q1-Dataset/pg1513.txt': 3, 'Q1-Dataset/2160-0.txt': 25, 'Q1-Dataset/pg11.txt': 14, 'Q1-Dataset/pg2600.txt': 62, 'Q1-Dataset/pg345.txt': 44, 'Q1-Dataset/pg64317.txt': 6, 'Q1-Dataset/pg70815.txt': 12, 'Q1-Dataset/1080-0.txt': 1, 'Q1-Dataset/pg70817.txt': 3, 'Q1-Dataset/pg1998.txt': 3}, 'Contact': {'Q1-Dataset/pg1513.txt': 1, 'Q1-Dataset/2160-0.txt': 1, 'Q1-Dataset/pg11.txt': 1, 'Q1-Dataset/pg2600.txt': 1, 'Q1-Dataset/pg345.txt': 1, 'Q1-Dataset/pg64317.txt': 1, 'Q1-Dataset/pg70815.txt': 1, 'Q1-Dataset/1080-0.txt': 1, 'Q1-Dataset/pg70817.txt': 1, 'Q1-Dataset/pg1998.txt': 1}, 'Unless': {'Q1-Dataset/pg1513.txt': 5, 'Q1-Dataset/2160-0.txt': 1, 'Q1-Dataset/pg11.txt': 1, 'Q1-Dataset/pg2600.txt': 1, 'Q1-Dataset/pg345.txt': 3, 'Q1-Dataset/pg64317.txt': 1, 'Q1-Dataset/pg70815.txt': 1, 'Q1-Dataset/1080-0.txt': 1, 'Q1-Dataset/pg70817.txt': 2, 'Q1-Dataset/pg1998.txt': 3}, 'display,': {'Q1-Dataset/pg1513.txt': 1, 'Q1-Dataset/2160-0.txt': 1, 'Q1-Dataset/pg11.txt': 1, 'Q1-Dataset/pg2600.txt': 2, 'Q1-Dataset/pg345.txt': 1, 'Q1-Dataset/pg64317.txt': 1, 'Q1-Dataset/pg70815.txt': 1, 'Q1-Dataset/1080-0.txt': 1, 'Q1-Dataset/pg70817.txt': 1, 'Q1-Dataset/pg1998.txt': 1}, 'THE': {'Q1-Dataset/pg1513.txt': 9, 'Q1-Dataset/2160-0.txt': 8, 'Q1-Dataset/pg11.txt': 9, 'Q1-Dataset/pg2600.txt': 6, 'Q1-Dataset/pg345.txt': 26, 'Q1-Dataset/pg64317.txt': 8, 'Q1-Dataset/pg70815.txt': 26, 'Q1-Dataset/1080-0.txt': 6, 'Q1-Dataset/pg70817.txt': 16, 'Q1-Dataset/pg1998.txt': 123}, 'educational': {'Q1-Dataset/pg1513.txt': 1, 'Q1-Dataset/2160-0.txt': 1, 'Q1-Dataset/pg11.txt': 1, 'Q1-Dataset/pg2600.txt': 5, 'Q1-Dataset/pg345.txt': 1, 'Q1-Dataset/pg64317.txt': 1, 'Q1-Dataset/pg70815.txt': 1, 'Q1-Dataset/1080-0.txt': 1, 'Q1-Dataset/pg70817.txt': 1, 'Q1-Dataset/pg1998.txt': 1}, 'within': {'Q1-Dataset/pg1513.txt': 8, 'Q1-Dataset/2160-0.txt': 51, 'Q1-Dataset/pg11.txt': 5, 'Q1-Dataset/pg2600.txt': 75, 'Q1-Dataset/pg345.txt': 46, 'Q1-Dataset/pg64317.txt': 10, 'Q1-Dataset/pg70815.txt': 62, 'Q1-Dataset/1080-0.txt': 5, 'Q1-Dataset/pg70817.txt': 11, 'Q1-Dataset/pg1998.txt': 11}, 'care': {'Q1-Dataset/pg1513.txt': 5, 'Q1-Dataset/2160-0.txt': 43, 'Q1-Dataset/pg11.txt': 4, 'Q1-Dataset/pg2600.txt': 37, 'Q1-Dataset/pg345.txt': 40, 'Q1-Dataset/pg64317.txt': 9, 'Q1-Dataset/pg70815.txt': 7, 'Q1-Dataset/1080-0.txt': 1, 'Q1-Dataset/pg70817.txt': 1, 'Q1-Dataset/pg1998.txt': 7}, 'editions,': {'Q1-Dataset/pg1513.txt': 1, 'Q1-Dataset/2160-0.txt': 1, 'Q1-Dataset/pg11.txt': 1, 'Q1-Dataset/pg2600.txt': 1, 'Q1-Dataset/pg345.txt': 1, 'Q1-Dataset/pg64317.txt': 1, 'Q1-Dataset/pg70815.txt': 1, 'Q1-Dataset/1080-0.txt': 1, 'Q1-Dataset/pg70817.txt': 1, 'Q1-Dataset/pg1998.txt': 1}, 'concerning': {'Q1-Dataset/pg1513.txt': 2, 'Q1-Dataset/2160-0.txt': 9, 'Q1-Dataset/pg11.txt': 2, 'Q1-Dataset/pg2600.txt': 29, 'Q1-Dataset/pg345.txt': 7, 'Q1-Dataset/pg64317.txt': 2, 'Q1-Dataset/pg70815.txt': 6, 'Q1-Dataset/1080-0.txt': 2, 'Q1-Dataset/pg70817.txt': 4, 'Q1-Dataset/pg1998.txt': 33}, 'parts': {'Q1-Dataset/pg1513.txt': 3, 'Q1-Dataset/2160-0.txt': 30, 'Q1-Dataset/pg11.txt': 3, 'Q1-Dataset/pg2600.txt': 22, 'Q1-Dataset/pg345.txt': 5, 'Q1-Dataset/pg64317.txt': 3, 'Q1-Dataset/pg70815.txt': 2, 'Q1-Dataset/1080-0.txt': 3, 'Q1-Dataset/pg70817.txt': 2, 'Q1-Dataset/pg1998.txt': 5}, 'necessarily': {'Q1-Dataset/pg1513.txt': 1, 'Q1-Dataset/2160-0.txt': 2, 'Q1-Dataset/pg11.txt': 1, 'Q1-Dataset/pg2600.txt': 3, 'Q1-Dataset/pg345.txt': 2, 'Q1-Dataset/pg64317.txt': 1, 'Q1-Dataset/pg70815.txt': 2, 'Q1-Dataset/1080-0.txt': 1, 'Q1-Dataset/pg70817.txt': 1, 'Q1-Dataset/pg1998.txt': 2}, 'WARRANTY': {'Q1-Dataset/pg1513.txt': 1, 'Q1-Dataset/2160-0.txt': 1, 'Q1-Dataset/pg11.txt': 1, 'Q1-Dataset/pg2600.txt': 1, 'Q1-Dataset/pg345.txt': 1, 'Q1-Dataset/pg64317.txt': 1, 'Q1-Dataset/pg70815.txt': 1, 'Q1-Dataset/1080-0.txt': 1, 'Q1-Dataset/pg70817.txt': 1, 'Q1-Dataset/pg1998.txt': 1}, 'FOUNDATION,': {'Q1-Dataset/pg1513.txt': 1, 'Q1-Dataset/2160-0.txt': 1, 'Q1-Dataset/pg11.txt': 1, 'Q1-Dataset/pg2600.txt': 1, 'Q1-Dataset/pg345.txt': 1, 'Q1-Dataset/pg64317.txt': 1, 'Q1-Dataset/pg70815.txt': 1, 'Q1-Dataset/1080-0.txt': 1, 'Q1-Dataset/pg70817.txt': 1, 'Q1-Dataset/pg1998.txt': 1}, 'processing': {'Q1-Dataset/pg1513.txt': 1, 'Q1-Dataset/2160-0.txt': 1, 'Q1-Dataset/pg11.txt': 1, 'Q1-Dataset/pg2600.txt': 1, 'Q1-Dataset/pg345.txt': 1, 'Q1-Dataset/pg64317.txt': 1, 'Q1-Dataset/pg70815.txt': 1, 'Q1-Dataset/1080-0.txt': 1, 'Q1-Dataset/pg70817.txt': 1, 'Q1-Dataset/pg1998.txt': 1}, 'soon': {'Q1-Dataset/pg1513.txt': 11, 'Q1-Dataset/2160-0.txt': 36, 'Q1-Dataset/pg11.txt': 23, 'Q1-Dataset/pg2600.txt': 216, 'Q1-Dataset/pg345.txt': 50, 'Q1-Dataset/pg64317.txt': 5, 'Q1-Dataset/pg70815.txt': 25, 'Q1-Dataset/1080-0.txt': 2, 'Q1-Dataset/pg70817.txt': 7, 'Q1-Dataset/pg1998.txt': 17}, 'all,': {'Q1-Dataset/pg1513.txt': 4, 'Q1-Dataset/2160-0.txt': 21, 'Q1-Dataset/pg11.txt': 3, 'Q1-Dataset/pg2600.txt': 89, 'Q1-Dataset/pg345.txt': 40, 'Q1-Dataset/pg64317.txt': 5, 'Q1-Dataset/pg70815.txt': 10, 'Q1-Dataset/1080-0.txt': 1, 'Q1-Dataset/pg70817.txt': 4, 'Q1-Dataset/pg1998.txt': 23}, 'UT': {'Q1-Dataset/pg1513.txt': 1, 'Q1-Dataset/2160-0.txt': 1, 'Q1-Dataset/pg11.txt': 1, 'Q1-Dataset/pg2600.txt': 1, 'Q1-Dataset/pg345.txt': 1, 'Q1-Dataset/pg64317.txt': 1, 'Q1-Dataset/pg70815.txt': 1, 'Q1-Dataset/1080-0.txt': 1, 'Q1-Dataset/pg70817.txt': 1, 'Q1-Dataset/pg1998.txt': 1}, 'associated)': {'Q1-Dataset/pg1513.txt': 1, 'Q1-Dataset/2160-0.txt': 1, 'Q1-Dataset/pg11.txt': 1, 'Q1-Dataset/pg2600.txt': 1, 'Q1-Dataset/pg345.txt': 1, 'Q1-Dataset/pg64317.txt': 1, 'Q1-Dataset/pg70815.txt': 1, 'Q1-Dataset/1080-0.txt': 1, 'Q1-Dataset/pg70817.txt': 1, 'Q1-Dataset/pg1998.txt': 1}, 'Thus,': {'Q1-Dataset/pg1513.txt': 2, 'Q1-Dataset/2160-0.txt': 1, 'Q1-Dataset/pg11.txt': 1, 'Q1-Dataset/pg2600.txt': 1, 'Q1-Dataset/pg345.txt': 5, 'Q1-Dataset/pg64317.txt': 1, 'Q1-Dataset/pg70815.txt': 2, 'Q1-Dataset/1080-0.txt': 1, 'Q1-Dataset/pg70817.txt': 1, 'Q1-Dataset/pg1998.txt': 4}, 'distribute': {'Q1-Dataset/pg1513.txt': 5, 'Q1-Dataset/2160-0.txt': 6, 'Q1-Dataset/pg11.txt': 5, 'Q1-Dataset/pg2600.txt': 5, 'Q1-Dataset/pg345.txt': 6, 'Q1-Dataset/pg64317.txt': 5, 'Q1-Dataset/pg70815.txt': 7, 'Q1-Dataset/1080-0.txt': 5, 'Q1-Dataset/pg70817.txt': 5, 'Q1-Dataset/pg1998.txt': 6}, 'expenses,': {'Q1-Dataset/pg1513.txt': 2, 'Q1-Dataset/2160-0.txt': 2, 'Q1-Dataset/pg11.txt': 2, 'Q1-Dataset/pg2600.txt': 2, 'Q1-Dataset/pg345.txt': 2, 'Q1-Dataset/pg64317.txt': 2, 'Q1-Dataset/pg70815.txt': 2, 'Q1-Dataset/1080-0.txt': 2, 'Q1-Dataset/pg70817.txt': 2, 'Q1-Dataset/pg1998.txt': 2}, 'A': {'Q1-Dataset/pg1513.txt': 81, 'Q1-Dataset/2160-0.txt': 24, 'Q1-Dataset/pg11.txt': 8, 'Q1-Dataset/pg2600.txt': 370, 'Q1-Dataset/pg345.txt': 42, 'Q1-Dataset/pg64317.txt': 54, 'Q1-Dataset/pg70815.txt': 41, 'Q1-Dataset/1080-0.txt': 7, 'Q1-Dataset/pg70817.txt': 28, 'Q1-Dataset/pg1998.txt': 98}, 'compilation': {'Q1-Dataset/pg1513.txt': 1, 'Q1-Dataset/2160-0.txt': 1, 'Q1-Dataset/pg11.txt': 1, 'Q1-Dataset/pg2600.txt': 1, 'Q1-Dataset/pg345.txt': 1, 'Q1-Dataset/pg64317.txt': 1, 'Q1-Dataset/pg70815.txt': 1, 'Q1-Dataset/1080-0.txt': 1, 'Q1-Dataset/pg70817.txt': 1, 'Q1-Dataset/pg1998.txt': 1}, 'web': {'Q1-Dataset/pg1513.txt': 1, 'Q1-Dataset/2160-0.txt': 2, 'Q1-Dataset/pg11.txt': 1, 'Q1-Dataset/pg2600.txt': 1, 'Q1-Dataset/pg345.txt': 1, 'Q1-Dataset/pg64317.txt': 2, 'Q1-Dataset/pg70815.txt': 1, 'Q1-Dataset/1080-0.txt': 1, 'Q1-Dataset/pg70817.txt': 1, 'Q1-Dataset/pg1998.txt': 2}, 'Section': {'Q1-Dataset/pg1513.txt': 7, 'Q1-Dataset/2160-0.txt': 7, 'Q1-Dataset/pg11.txt': 7, 'Q1-Dataset/pg2600.txt': 7, 'Q1-Dataset/pg345.txt': 7, 'Q1-Dataset/pg64317.txt': 7, 'Q1-Dataset/pg70815.txt': 7, 'Q1-Dataset/1080-0.txt': 7, 'Q1-Dataset/pg70817.txt': 7, 'Q1-Dataset/pg1998.txt': 7}, '-': {'Q1-Dataset/pg1513.txt': 3, 'Q1-Dataset/2160-0.txt': 7, 'Q1-Dataset/pg11.txt': 3, 'Q1-Dataset/pg2600.txt': 16, 'Q1-Dataset/pg345.txt': 3, 'Q1-Dataset/pg64317.txt': 3, 'Q1-Dataset/pg70815.txt': 3, 'Q1-Dataset/1080-0.txt': 3, 'Q1-Dataset/pg70817.txt': 3, 'Q1-Dataset/pg1998.txt': 3}, 'addresses.': {'Q1-Dataset/pg1513.txt': 1, 'Q1-Dataset/2160-0.txt': 2, 'Q1-Dataset/pg11.txt': 1, 'Q1-Dataset/pg2600.txt': 1, 'Q1-Dataset/pg345.txt': 1, 'Q1-Dataset/pg64317.txt': 1, 'Q1-Dataset/pg70815.txt': 1, 'Q1-Dataset/1080-0.txt': 1, 'Q1-Dataset/pg70817.txt': 1, 'Q1-Dataset/pg1998.txt': 1}, 'email': {'Q1-Dataset/pg1513.txt': 1, 'Q1-Dataset/2160-0.txt': 1, 'Q1-Dataset/pg11.txt': 1, 'Q1-Dataset/pg2600.txt': 1, 'Q1-Dataset/pg345.txt': 1, 'Q1-Dataset/pg64317.txt': 1, 'Q1-Dataset/pg70815.txt': 1, 'Q1-Dataset/1080-0.txt': 1, 'Q1-Dataset/pg70817.txt': 1, 'Q1-Dataset/pg1998.txt': 1}, 'how': {'Q1-Dataset/pg1513.txt': 31, 'Q1-Dataset/2160-0.txt': 83, 'Q1-Dataset/pg11.txt': 41, 'Q1-Dataset/pg2600.txt': 704, 'Q1-Dataset/pg345.txt': 156, 'Q1-Dataset/pg64317.txt': 20, 'Q1-Dataset/pg70815.txt': 50, 'Q1-Dataset/1080-0.txt': 7, 'Q1-Dataset/pg70817.txt': 13, 'Q1-Dataset/pg1998.txt': 173}, 'return': {'Q1-Dataset/pg1513.txt': 5, 'Q1-Dataset/2160-0.txt': 41, 'Q1-Dataset/pg11.txt': 3, 'Q1-Dataset/pg2600.txt': 81, 'Q1-Dataset/pg345.txt': 21, 'Q1-Dataset/pg64317.txt': 4, 'Q1-Dataset/pg70815.txt': 42, 'Q1-Dataset/1080-0.txt': 4, 'Q1-Dataset/pg70817.txt': 7, 'Q1-Dataset/pg1998.txt': 20}, 'much': {'Q1-Dataset/pg1513.txt': 28, 'Q1-Dataset/2160-0.txt': 227, 'Q1-Dataset/pg11.txt': 41, 'Q1-Dataset/pg2600.txt': 335, 'Q1-Dataset/pg345.txt': 175, 'Q1-Dataset/pg64317.txt': 30, 'Q1-Dataset/pg70815.txt': 57, 'Q1-Dataset/1080-0.txt': 6, 'Q1-Dataset/pg70817.txt': 16, 'Q1-Dataset/pg1998.txt': 121}, 'Internal': {'Q1-Dataset/pg1513.txt': 1, 'Q1-Dataset/2160-0.txt': 1, 'Q1-Dataset/pg11.txt': 1, 'Q1-Dataset/pg2600.txt': 1, 'Q1-Dataset/pg345.txt': 1, 'Q1-Dataset/pg64317.txt': 1, 'Q1-Dataset/pg70815.txt': 1, 'Q1-Dataset/1080-0.txt': 1, 'Q1-Dataset/pg70817.txt': 1, 'Q1-Dataset/pg1998.txt': 1}, 'Sections': {'Q1-Dataset/pg1513.txt': 1, 'Q1-Dataset/2160-0.txt': 1, 'Q1-Dataset/pg11.txt': 1, 'Q1-Dataset/pg2600.txt': 1, 'Q1-Dataset/pg345.txt': 1, 'Q1-Dataset/pg64317.txt': 1, 'Q1-Dataset/pg70815.txt': 1, 'Q1-Dataset/1080-0.txt': 1, 'Q1-Dataset/pg70817.txt': 1, 'Q1-Dataset/pg1998.txt': 1}, 'manner': {'Q1-Dataset/pg1513.txt': 1, 'Q1-Dataset/2160-0.txt': 37, 'Q1-Dataset/pg11.txt': 1, 'Q1-Dataset/pg2600.txt': 34, 'Q1-Dataset/pg345.txt': 19, 'Q1-Dataset/pg64317.txt': 2, 'Q1-Dataset/pg70815.txt': 2, 'Q1-Dataset/1080-0.txt': 1, 'Q1-Dataset/pg70817.txt': 1, 'Q1-Dataset/pg1998.txt': 3}, 'treatment': {'Q1-Dataset/pg1513.txt': 1, 'Q1-Dataset/2160-0.txt': 1, 'Q1-Dataset/pg11.txt': 1, 'Q1-Dataset/pg2600.txt': 8, 'Q1-Dataset/pg345.txt': 4, 'Q1-Dataset/pg64317.txt': 1, 'Q1-Dataset/pg70815.txt': 1, 'Q1-Dataset/1080-0.txt': 1, 'Q1-Dataset/pg70817.txt': 1, 'Q1-Dataset/pg1998.txt': 1}, 'removed.': {'Q1-Dataset/pg1513.txt': 1, 'Q1-Dataset/2160-0.txt': 4, 'Q1-Dataset/pg11.txt': 1, 'Q1-Dataset/pg2600.txt': 4, 'Q1-Dataset/pg345.txt': 3, 'Q1-Dataset/pg64317.txt': 1, 'Q1-Dataset/pg70815.txt': 2, 'Q1-Dataset/1080-0.txt': 1, 'Q1-Dataset/pg70817.txt': 2, 'Q1-Dataset/pg1998.txt': 1}, 'codes': {'Q1-Dataset/pg1513.txt': 1, 'Q1-Dataset/2160-0.txt': 1, 'Q1-Dataset/pg11.txt': 1, 'Q1-Dataset/pg2600.txt': 2, 'Q1-Dataset/pg345.txt': 1, 'Q1-Dataset/pg64317.txt': 1, 'Q1-Dataset/pg70815.txt': 1, 'Q1-Dataset/1080-0.txt': 1, 'Q1-Dataset/pg70817.txt': 1, 'Q1-Dataset/pg1998.txt': 2}, 'were': {'Q1-Dataset/pg1513.txt': 30, 'Q1-Dataset/2160-0.txt': 329, 'Q1-Dataset/pg11.txt': 82, 'Q1-Dataset/pg2600.txt': 2352, 'Q1-Dataset/pg345.txt': 524, 'Q1-Dataset/pg64317.txt': 169, 'Q1-Dataset/pg70815.txt': 478, 'Q1-Dataset/1080-0.txt': 3, 'Q1-Dataset/pg70817.txt': 103, 'Q1-Dataset/pg1998.txt': 96}, '1.E.3.': {'Q1-Dataset/pg1513.txt': 1, 'Q1-Dataset/2160-0.txt': 1, 'Q1-Dataset/pg11.txt': 1, 'Q1-Dataset/pg2600.txt': 1, 'Q1-Dataset/pg345.txt': 1, 'Q1-Dataset/pg64317.txt': 1, 'Q1-Dataset/pg70815.txt': 1, 'Q1-Dataset/1080-0.txt': 1, 'Q1-Dataset/pg70817.txt': 1, 'Q1-Dataset/pg1998.txt': 1}, 'state': {'Q1-Dataset/pg1513.txt': 7, 'Q1-Dataset/2160-0.txt': 24, 'Q1-Dataset/pg11.txt': 6, 'Q1-Dataset/pg2600.txt': 120, 'Q1-Dataset/pg345.txt': 26, 'Q1-Dataset/pg64317.txt': 6, 'Q1-Dataset/pg70815.txt': 9, 'Q1-Dataset/1080-0.txt': 6, 'Q1-Dataset/pg70817.txt': 6, 'Q1-Dataset/pg1998.txt': 16}, 'replace': {'Q1-Dataset/pg1513.txt': 1, 'Q1-Dataset/2160-0.txt': 1, 'Q1-Dataset/pg11.txt': 1, 'Q1-Dataset/pg2600.txt': 5, 'Q1-Dataset/pg345.txt': 3, 'Q1-Dataset/pg64317.txt': 1, 'Q1-Dataset/pg70815.txt': 2, 'Q1-Dataset/1080-0.txt': 1, 'Q1-Dataset/pg70817.txt': 1, 'Q1-Dataset/pg1998.txt': 1}, 'several': {'Q1-Dataset/pg1513.txt': 2, 'Q1-Dataset/2160-0.txt': 32, 'Q1-Dataset/pg11.txt': 5, 'Q1-Dataset/pg2600.txt': 145, 'Q1-Dataset/pg345.txt': 15, 'Q1-Dataset/pg64317.txt': 15, 'Q1-Dataset/pg70815.txt': 21, 'Q1-Dataset/1080-0.txt': 3, 'Q1-Dataset/pg70817.txt': 5, 'Q1-Dataset/pg1998.txt': 4}, '1.E.4.': {'Q1-Dataset/pg1513.txt': 1, 'Q1-Dataset/2160-0.txt': 1, 'Q1-Dataset/pg11.txt': 1, 'Q1-Dataset/pg2600.txt': 1, 'Q1-Dataset/pg345.txt': 1, 'Q1-Dataset/pg64317.txt': 1, 'Q1-Dataset/pg70815.txt': 1, 'Q1-Dataset/1080-0.txt': 1, 'Q1-Dataset/pg70817.txt': 1, 'Q1-Dataset/pg1998.txt': 1}, 'both': {'Q1-Dataset/pg1513.txt': 11, 'Q1-Dataset/2160-0.txt': 67, 'Q1-Dataset/pg11.txt': 15, 'Q1-Dataset/pg2600.txt': 220, 'Q1-Dataset/pg345.txt': 76, 'Q1-Dataset/pg64317.txt': 13, 'Q1-Dataset/pg70815.txt': 29, 'Q1-Dataset/1080-0.txt': 2, 'Q1-Dataset/pg70817.txt': 12, 'Q1-Dataset/pg1998.txt': 21}, '1.F.3.': {'Q1-Dataset/pg1513.txt': 2, 'Q1-Dataset/2160-0.txt': 2, 'Q1-Dataset/pg11.txt': 2, 'Q1-Dataset/pg2600.txt': 2, 'Q1-Dataset/pg345.txt': 2, 'Q1-Dataset/pg64317.txt': 2, 'Q1-Dataset/pg70815.txt': 2, 'Q1-Dataset/1080-0.txt': 2, 'Q1-Dataset/pg70817.txt': 2, 'Q1-Dataset/pg1998.txt': 2}, 'PLEASE': {'Q1-Dataset/pg1513.txt': 1, 'Q1-Dataset/2160-0.txt': 1, 'Q1-Dataset/pg11.txt': 1, 'Q1-Dataset/pg2600.txt': 1, 'Q1-Dataset/pg345.txt': 1, 'Q1-Dataset/pg64317.txt': 1, 'Q1-Dataset/pg70815.txt': 1, 'Q1-Dataset/1080-0.txt': 1, 'Q1-Dataset/pg70817.txt': 1, 'Q1-Dataset/pg1998.txt': 1}, '84116,': {'Q1-Dataset/pg1513.txt': 1, 'Q1-Dataset/2160-0.txt': 1, 'Q1-Dataset/pg11.txt': 1, 'Q1-Dataset/pg2600.txt': 1, 'Q1-Dataset/pg345.txt': 1, 'Q1-Dataset/pg64317.txt': 1, 'Q1-Dataset/pg70815.txt': 1, 'Q1-Dataset/1080-0.txt': 1, 'Q1-Dataset/pg70817.txt': 1, 'Q1-Dataset/pg1998.txt': 1}, 'cease': {'Q1-Dataset/pg1513.txt': 3, 'Q1-Dataset/2160-0.txt': 2, 'Q1-Dataset/pg11.txt': 1, 'Q1-Dataset/pg2600.txt': 23, 'Q1-Dataset/pg345.txt': 3, 'Q1-Dataset/pg64317.txt': 1, 'Q1-Dataset/pg70815.txt': 3, 'Q1-Dataset/1080-0.txt': 1, 'Q1-Dataset/pg70817.txt': 1, 'Q1-Dataset/pg1998.txt': 4}, 'BE': {'Q1-Dataset/pg1513.txt': 1, 'Q1-Dataset/2160-0.txt': 1, 'Q1-Dataset/pg11.txt': 1, 'Q1-Dataset/pg2600.txt': 1, 'Q1-Dataset/pg345.txt': 1, 'Q1-Dataset/pg64317.txt': 1, 'Q1-Dataset/pg70815.txt': 1, 'Q1-Dataset/1080-0.txt': 1, 'Q1-Dataset/pg70817.txt': 1, 'Q1-Dataset/pg1998.txt': 11}, 'govern': {'Q1-Dataset/pg1513.txt': 1, 'Q1-Dataset/2160-0.txt': 1, 'Q1-Dataset/pg11.txt': 1, 'Q1-Dataset/pg2600.txt': 3, 'Q1-Dataset/pg345.txt': 1, 'Q1-Dataset/pg64317.txt': 1, 'Q1-Dataset/pg70815.txt': 1, 'Q1-Dataset/1080-0.txt': 1, 'Q1-Dataset/pg70817.txt': 1, 'Q1-Dataset/pg1998.txt': 1}, 'against': {'Q1-Dataset/pg1513.txt': 10, 'Q1-Dataset/2160-0.txt': 60, 'Q1-Dataset/pg11.txt': 10, 'Q1-Dataset/pg2600.txt': 221, 'Q1-Dataset/pg345.txt': 65, 'Q1-Dataset/pg64317.txt': 33, 'Q1-Dataset/pg70815.txt': 33, 'Q1-Dataset/1080-0.txt': 4, 'Q1-Dataset/pg70817.txt': 20, 'Q1-Dataset/pg1998.txt': 66}, 'card': {'Q1-Dataset/pg1513.txt': 1, 'Q1-Dataset/2160-0.txt': 4, 'Q1-Dataset/pg11.txt': 1, 'Q1-Dataset/pg2600.txt': 15, 'Q1-Dataset/pg345.txt': 2, 'Q1-Dataset/pg64317.txt': 4, 'Q1-Dataset/pg70815.txt': 1, 'Q1-Dataset/1080-0.txt': 1, 'Q1-Dataset/pg70817.txt': 1, 'Q1-Dataset/pg1998.txt': 1}, 'expend': {'Q1-Dataset/pg1513.txt': 1, 'Q1-Dataset/2160-0.txt': 2, 'Q1-Dataset/pg11.txt': 1, 'Q1-Dataset/pg2600.txt': 1, 'Q1-Dataset/pg345.txt': 1, 'Q1-Dataset/pg64317.txt': 1, 'Q1-Dataset/pg70815.txt': 1, 'Q1-Dataset/1080-0.txt': 1, 'Q1-Dataset/pg70817.txt': 1, 'Q1-Dataset/pg1998.txt': 1}, 'THAT': {'Q1-Dataset/pg1513.txt': 2, 'Q1-Dataset/2160-0.txt': 2, 'Q1-Dataset/pg11.txt': 2, 'Q1-Dataset/pg2600.txt': 2, 'Q1-Dataset/pg345.txt': 2, 'Q1-Dataset/pg64317.txt': 2, 'Q1-Dataset/pg70815.txt': 2, 'Q1-Dataset/1080-0.txt': 2, 'Q1-Dataset/pg70817.txt': 2, 'Q1-Dataset/pg1998.txt': 30}, 'General': {'Q1-Dataset/pg1513.txt': 3, 'Q1-Dataset/2160-0.txt': 4, 'Q1-Dataset/pg11.txt': 3, 'Q1-Dataset/pg2600.txt': 58, 'Q1-Dataset/pg345.txt': 3, 'Q1-Dataset/pg64317.txt': 4, 'Q1-Dataset/pg70815.txt': 3, 'Q1-Dataset/1080-0.txt': 3, 'Q1-Dataset/pg70817.txt': 3, 'Q1-Dataset/pg1998.txt': 3}, '$5,000)': {'Q1-Dataset/pg1513.txt': 1, 'Q1-Dataset/2160-0.txt': 1, 'Q1-Dataset/pg11.txt': 1, 'Q1-Dataset/pg2600.txt': 1, 'Q1-Dataset/pg345.txt': 1, 'Q1-Dataset/pg64317.txt': 1, 'Q1-Dataset/pg70815.txt': 1, 'Q1-Dataset/1080-0.txt': 1, 'Q1-Dataset/pg70817.txt': 1, 'Q1-Dataset/pg1998.txt': 1}, 'identify,': {'Q1-Dataset/pg1513.txt': 1, 'Q1-Dataset/2160-0.txt': 1, 'Q1-Dataset/pg11.txt': 1, 'Q1-Dataset/pg2600.txt': 1, 'Q1-Dataset/pg345.txt': 1, 'Q1-Dataset/pg64317.txt': 1, 'Q1-Dataset/pg70815.txt': 1, 'Q1-Dataset/1080-0.txt': 1, 'Q1-Dataset/pg70817.txt': 1, 'Q1-Dataset/pg1998.txt': 1}, 'abide': {'Q1-Dataset/pg1513.txt': 1, 'Q1-Dataset/2160-0.txt': 5, 'Q1-Dataset/pg11.txt': 2, 'Q1-Dataset/pg2600.txt': 1, 'Q1-Dataset/pg345.txt': 2, 'Q1-Dataset/pg64317.txt': 1, 'Q1-Dataset/pg70815.txt': 1, 'Q1-Dataset/1080-0.txt': 1, 'Q1-Dataset/pg70817.txt': 1, 'Q1-Dataset/pg1998.txt': 2}, 'use': {'Q1-Dataset/pg1513.txt': 21, 'Q1-Dataset/2160-0.txt': 58, 'Q1-Dataset/pg11.txt': 25, 'Q1-Dataset/pg2600.txt': 70, 'Q1-Dataset/pg345.txt': 46, 'Q1-Dataset/pg64317.txt': 15, 'Q1-Dataset/pg70815.txt': 18, 'Q1-Dataset/1080-0.txt': 10, 'Q1-Dataset/pg70817.txt': 9, 'Q1-Dataset/pg1998.txt': 17}, 'gratefully': {'Q1-Dataset/pg1513.txt': 1, 'Q1-Dataset/2160-0.txt': 1, 'Q1-Dataset/pg11.txt': 1, 'Q1-Dataset/pg2600.txt': 6, 'Q1-Dataset/pg345.txt': 2, 'Q1-Dataset/pg64317.txt': 1, 'Q1-Dataset/pg70815.txt': 1, 'Q1-Dataset/1080-0.txt': 1, 'Q1-Dataset/pg70817.txt': 1, 'Q1-Dataset/pg1998.txt': 1}, 'claim': {'Q1-Dataset/pg1513.txt': 1, 'Q1-Dataset/2160-0.txt': 4, 'Q1-Dataset/pg11.txt': 1, 'Q1-Dataset/pg2600.txt': 6, 'Q1-Dataset/pg345.txt': 6, 'Q1-Dataset/pg64317.txt': 1, 'Q1-Dataset/pg70815.txt': 5, 'Q1-Dataset/1080-0.txt': 1, 'Q1-Dataset/pg70817.txt': 1, 'Q1-Dataset/pg1998.txt': 4}, 'version': {'Q1-Dataset/pg1513.txt': 1, 'Q1-Dataset/2160-0.txt': 1, 'Q1-Dataset/pg11.txt': 1, 'Q1-Dataset/pg2600.txt': 1, 'Q1-Dataset/pg345.txt': 1, 'Q1-Dataset/pg64317.txt': 1, 'Q1-Dataset/pg70815.txt': 1, 'Q1-Dataset/1080-0.txt': 1, 'Q1-Dataset/pg70817.txt': 4, 'Q1-Dataset/pg1998.txt': 1}, 'INCLUDING': {'Q1-Dataset/pg1513.txt': 1, 'Q1-Dataset/2160-0.txt': 1, 'Q1-Dataset/pg11.txt': 1, 'Q1-Dataset/pg2600.txt': 1, 'Q1-Dataset/pg345.txt': 1, 'Q1-Dataset/pg64317.txt': 1, 'Q1-Dataset/pg70815.txt': 1, 'Q1-Dataset/1080-0.txt': 1, 'Q1-Dataset/pg70817.txt': 1, 'Q1-Dataset/pg1998.txt': 1}, 'created': {'Q1-Dataset/pg1513.txt': 2, 'Q1-Dataset/2160-0.txt': 5, 'Q1-Dataset/pg11.txt': 2, 'Q1-Dataset/pg2600.txt': 7, 'Q1-Dataset/pg345.txt': 3, 'Q1-Dataset/pg64317.txt': 3, 'Q1-Dataset/pg70815.txt': 5, 'Q1-Dataset/1080-0.txt': 2, 'Q1-Dataset/pg70817.txt': 2, 'Q1-Dataset/pg1998.txt': 24}, 'PGLAF),': {'Q1-Dataset/pg1513.txt': 1, 'Q1-Dataset/2160-0.txt': 1, 'Q1-Dataset/pg11.txt': 1, 'Q1-Dataset/pg2600.txt': 1, 'Q1-Dataset/pg345.txt': 1, 'Q1-Dataset/pg64317.txt': 1, 'Q1-Dataset/pg70815.txt': 1, 'Q1-Dataset/1080-0.txt': 1, 'Q1-Dataset/pg70817.txt': 1, 'Q1-Dataset/pg1998.txt': 1}, 'days': {'Q1-Dataset/pg1513.txt': 8, 'Q1-Dataset/2160-0.txt': 41, 'Q1-Dataset/pg11.txt': 6, 'Q1-Dataset/pg2600.txt': 138, 'Q1-Dataset/pg345.txt': 38, 'Q1-Dataset/pg64317.txt': 13, 'Q1-Dataset/pg70815.txt': 6, 'Q1-Dataset/1080-0.txt': 4, 'Q1-Dataset/pg70817.txt': 15, 'Q1-Dataset/pg1998.txt': 11}, 'from.': {'Q1-Dataset/pg1513.txt': 1, 'Q1-Dataset/2160-0.txt': 1, 'Q1-Dataset/pg11.txt': 1, 'Q1-Dataset/pg2600.txt': 5, 'Q1-Dataset/pg345.txt': 1, 'Q1-Dataset/pg64317.txt': 1, 'Q1-Dataset/pg70815.txt': 1, 'Q1-Dataset/1080-0.txt': 1, 'Q1-Dataset/pg70817.txt': 1, 'Q1-Dataset/pg1998.txt': 2}, 'out': {'Q1-Dataset/pg1513.txt': 36, 'Q1-Dataset/2160-0.txt': 196, 'Q1-Dataset/pg11.txt': 98, 'Q1-Dataset/pg2600.txt': 1041, 'Q1-Dataset/pg345.txt': 332, 'Q1-Dataset/pg64317.txt': 191, 'Q1-Dataset/pg70815.txt': 114, 'Q1-Dataset/1080-0.txt': 3, 'Q1-Dataset/pg70817.txt': 84, 'Q1-Dataset/pg1998.txt': 201}, 'liability,': {'Q1-Dataset/pg1513.txt': 1, 'Q1-Dataset/2160-0.txt': 1, 'Q1-Dataset/pg11.txt': 1, 'Q1-Dataset/pg2600.txt': 1, 'Q1-Dataset/pg345.txt': 1, 'Q1-Dataset/pg64317.txt': 1, 'Q1-Dataset/pg70815.txt': 1, 'Q1-Dataset/1080-0.txt': 1, 'Q1-Dataset/pg70817.txt': 1, 'Q1-Dataset/pg1998.txt': 1}, '1.B.': {'Q1-Dataset/pg1513.txt': 1, 'Q1-Dataset/2160-0.txt': 1, 'Q1-Dataset/pg11.txt': 1, 'Q1-Dataset/pg2600.txt': 1, 'Q1-Dataset/pg345.txt': 1, 'Q1-Dataset/pg64317.txt': 1, 'Q1-Dataset/pg70815.txt': 1, 'Q1-Dataset/1080-0.txt': 1, 'Q1-Dataset/pg70817.txt': 1, 'Q1-Dataset/pg1998.txt': 1}, 'appearing': {'Q1-Dataset/pg1513.txt': 1, 'Q1-Dataset/2160-0.txt': 3, 'Q1-Dataset/pg11.txt': 2, 'Q1-Dataset/pg2600.txt': 12, 'Q1-Dataset/pg345.txt': 1, 'Q1-Dataset/pg64317.txt': 1, 'Q1-Dataset/pg70815.txt': 2, 'Q1-Dataset/1080-0.txt': 1, 'Q1-Dataset/pg70817.txt': 1, 'Q1-Dataset/pg1998.txt': 1}, 'violates': {'Q1-Dataset/pg1513.txt': 1, 'Q1-Dataset/2160-0.txt': 1, 'Q1-Dataset/pg11.txt': 1, 'Q1-Dataset/pg2600.txt': 1, 'Q1-Dataset/pg345.txt': 1, 'Q1-Dataset/pg64317.txt': 1, 'Q1-Dataset/pg70815.txt': 1, 'Q1-Dataset/1080-0.txt': 1, 'Q1-Dataset/pg70817.txt': 1, 'Q1-Dataset/pg1998.txt': 1}, 'any)': {'Q1-Dataset/pg1513.txt': 1, 'Q1-Dataset/2160-0.txt': 1, 'Q1-Dataset/pg11.txt': 1, 'Q1-Dataset/pg2600.txt': 1, 'Q1-Dataset/pg345.txt': 1, 'Q1-Dataset/pg64317.txt': 1, 'Q1-Dataset/pg70815.txt': 1, 'Q1-Dataset/1080-0.txt': 1, 'Q1-Dataset/pg70817.txt': 1, 'Q1-Dataset/pg1998.txt': 1}, 'financial': {'Q1-Dataset/pg1513.txt': 1, 'Q1-Dataset/2160-0.txt': 1, 'Q1-Dataset/pg11.txt': 1, 'Q1-Dataset/pg2600.txt': 2, 'Q1-Dataset/pg345.txt': 1, 'Q1-Dataset/pg64317.txt': 1, 'Q1-Dataset/pg70815.txt': 3, 'Q1-Dataset/1080-0.txt': 1, 'Q1-Dataset/pg70817.txt': 1, 'Q1-Dataset/pg1998.txt': 1}, 'copy,': {'Q1-Dataset/pg1513.txt': 4, 'Q1-Dataset/2160-0.txt': 4, 'Q1-Dataset/pg11.txt': 4, 'Q1-Dataset/pg2600.txt': 5, 'Q1-Dataset/pg345.txt': 4, 'Q1-Dataset/pg64317.txt': 4, 'Q1-Dataset/pg70815.txt': 4, 'Q1-Dataset/1080-0.txt': 4, 'Q1-Dataset/pg70817.txt': 4, 'Q1-Dataset/pg1998.txt': 4}, 'new': {'Q1-Dataset/pg1513.txt': 16, 'Q1-Dataset/2160-0.txt': 59, 'Q1-Dataset/pg11.txt': 7, 'Q1-Dataset/pg2600.txt': 258, 'Q1-Dataset/pg345.txt': 72, 'Q1-Dataset/pg64317.txt': 28, 'Q1-Dataset/pg70815.txt': 44, 'Q1-Dataset/1080-0.txt': 4, 'Q1-Dataset/pg70817.txt': 21, 'Q1-Dataset/pg1998.txt': 132}, 'form': {'Q1-Dataset/pg1513.txt': 5, 'Q1-Dataset/2160-0.txt': 11, 'Q1-Dataset/pg11.txt': 2, 'Q1-Dataset/pg2600.txt': 42, 'Q1-Dataset/pg345.txt': 16, 'Q1-Dataset/pg64317.txt': 3, 'Q1-Dataset/pg70815.txt': 10, 'Q1-Dataset/1080-0.txt': 1, 'Q1-Dataset/pg70817.txt': 2, 'Q1-Dataset/pg1998.txt': 11}, 'cannot': {'Q1-Dataset/pg1513.txt': 23, 'Q1-Dataset/2160-0.txt': 100, 'Q1-Dataset/pg11.txt': 5, 'Q1-Dataset/pg2600.txt': 158, 'Q1-Dataset/pg345.txt': 79, 'Q1-Dataset/pg64317.txt': 6, 'Q1-Dataset/pg70815.txt': 36, 'Q1-Dataset/1080-0.txt': 10, 'Q1-Dataset/pg70817.txt': 5, 'Q1-Dataset/pg1998.txt': 34}, 'derived': {'Q1-Dataset/pg1513.txt': 1, 'Q1-Dataset/2160-0.txt': 7, 'Q1-Dataset/pg11.txt': 1, 'Q1-Dataset/pg2600.txt': 5, 'Q1-Dataset/pg345.txt': 1, 'Q1-Dataset/pg64317.txt': 1, 'Q1-Dataset/pg70815.txt': 2, 'Q1-Dataset/1080-0.txt': 1, 'Q1-Dataset/pg70817.txt': 1, 'Q1-Dataset/pg1998.txt': 1}, 'And': {'Q1-Dataset/pg1513.txt': 242, 'Q1-Dataset/2160-0.txt': 14, 'Q1-Dataset/pg11.txt': 49, 'Q1-Dataset/pg2600.txt': 828, 'Q1-Dataset/pg345.txt': 112, 'Q1-Dataset/pg64317.txt': 34, 'Q1-Dataset/pg70815.txt': 81, 'Q1-Dataset/1080-0.txt': 3, 'Q1-Dataset/pg70817.txt': 23, 'Q1-Dataset/pg1998.txt': 565}, 'donate': {'Q1-Dataset/pg1513.txt': 1, 'Q1-Dataset/2160-0.txt': 1, 'Q1-Dataset/pg11.txt': 1, 'Q1-Dataset/pg2600.txt': 1, 'Q1-Dataset/pg345.txt': 1, 'Q1-Dataset/pg64317.txt': 1, 'Q1-Dataset/pg70815.txt': 1, 'Q1-Dataset/1080-0.txt': 1, 'Q1-Dataset/pg70817.txt': 1, 'Q1-Dataset/pg1998.txt': 1}, '3.': {'Q1-Dataset/pg1513.txt': 1, 'Q1-Dataset/2160-0.txt': 4, 'Q1-Dataset/pg11.txt': 1, 'Q1-Dataset/pg2600.txt': 2, 'Q1-Dataset/pg345.txt': 2, 'Q1-Dataset/pg64317.txt': 1, 'Q1-Dataset/pg70815.txt': 1, 'Q1-Dataset/1080-0.txt': 1, 'Q1-Dataset/pg70817.txt': 1, 'Q1-Dataset/pg1998.txt': 12}, 'facility:': {'Q1-Dataset/pg1513.txt': 1, 'Q1-Dataset/2160-0.txt': 1, 'Q1-Dataset/pg11.txt': 1, 'Q1-Dataset/pg2600.txt': 1, 'Q1-Dataset/pg345.txt': 1, 'Q1-Dataset/pg64317.txt': 1, 'Q1-Dataset/pg70815.txt': 1, 'Q1-Dataset/1080-0.txt': 1, 'Q1-Dataset/pg70817.txt': 1, 'Q1-Dataset/pg1998.txt': 1}, 'Despite': {'Q1-Dataset/pg1513.txt': 1, 'Q1-Dataset/2160-0.txt': 1, 'Q1-Dataset/pg11.txt': 1, 'Q1-Dataset/pg2600.txt': 20, 'Q1-Dataset/pg345.txt': 1, 'Q1-Dataset/pg64317.txt': 1, 'Q1-Dataset/pg70815.txt': 1, 'Q1-Dataset/1080-0.txt': 1, 'Q1-Dataset/pg70817.txt': 1, 'Q1-Dataset/pg1998.txt': 2}, 'UNDER': {'Q1-Dataset/pg1513.txt': 1, 'Q1-Dataset/2160-0.txt': 1, 'Q1-Dataset/pg11.txt': 1, 'Q1-Dataset/pg2600.txt': 1, 'Q1-Dataset/pg345.txt': 1, 'Q1-Dataset/pg64317.txt': 1, 'Q1-Dataset/pg70815.txt': 1, 'Q1-Dataset/1080-0.txt': 1, 'Q1-Dataset/pg70817.txt': 1, 'Q1-Dataset/pg1998.txt': 2}, 'these': {'Q1-Dataset/pg1513.txt': 39, 'Q1-Dataset/2160-0.txt': 166, 'Q1-Dataset/pg11.txt': 14, 'Q1-Dataset/pg2600.txt': 526, 'Q1-Dataset/pg345.txt': 96, 'Q1-Dataset/pg64317.txt': 26, 'Q1-Dataset/pg70815.txt': 78, 'Q1-Dataset/1080-0.txt': 9, 'Q1-Dataset/pg70817.txt': 17, 'Q1-Dataset/pg1998.txt': 105}, 'longer': {'Q1-Dataset/pg1513.txt': 4, 'Q1-Dataset/2160-0.txt': 29, 'Q1-Dataset/pg11.txt': 2, 'Q1-Dataset/pg2600.txt': 156, 'Q1-Dataset/pg345.txt': 15, 'Q1-Dataset/pg64317.txt': 8, 'Q1-Dataset/pg70815.txt': 13, 'Q1-Dataset/1080-0.txt': 1, 'Q1-Dataset/pg70817.txt': 9, 'Q1-Dataset/pg1998.txt': 83}, 'English': {'Q1-Dataset/pg1513.txt': 1, 'Q1-Dataset/2160-0.txt': 41, 'Q1-Dataset/pg11.txt': 2, 'Q1-Dataset/pg2600.txt': 27, 'Q1-Dataset/pg345.txt': 15, 'Q1-Dataset/pg64317.txt': 2, 'Q1-Dataset/pg70815.txt': 3, 'Q1-Dataset/1080-0.txt': 1, 'Q1-Dataset/pg70817.txt': 1, 'Q1-Dataset/pg1998.txt': 2}, 'ten': {'Q1-Dataset/pg1513.txt': 2, 'Q1-Dataset/2160-0.txt': 23, 'Q1-Dataset/pg11.txt': 5, 'Q1-Dataset/pg2600.txt': 83, 'Q1-Dataset/pg345.txt': 13, 'Q1-Dataset/pg64317.txt': 6, 'Q1-Dataset/pg70815.txt': 13, 'Q1-Dataset/1080-0.txt': 2, 'Q1-Dataset/pg70817.txt': 1, 'Q1-Dataset/pg1998.txt': 13}, 'collection.': {'Q1-Dataset/pg1513.txt': 1, 'Q1-Dataset/2160-0.txt': 1, 'Q1-Dataset/pg11.txt': 1, 'Q1-Dataset/pg2600.txt': 1, 'Q1-Dataset/pg345.txt': 1, 'Q1-Dataset/pg64317.txt': 1, 'Q1-Dataset/pg70815.txt': 1, 'Q1-Dataset/1080-0.txt': 1, 'Q1-Dataset/pg70817.txt': 1, 'Q1-Dataset/pg1998.txt': 1}, 'them,': {'Q1-Dataset/pg1513.txt': 6, 'Q1-Dataset/2160-0.txt': 25, 'Q1-Dataset/pg11.txt': 21, 'Q1-Dataset/pg2600.txt': 180, 'Q1-Dataset/pg345.txt': 76, 'Q1-Dataset/pg64317.txt': 6, 'Q1-Dataset/pg70815.txt': 59, 'Q1-Dataset/1080-0.txt': 1, 'Q1-Dataset/pg70817.txt': 3, 'Q1-Dataset/pg1998.txt': 55}, 'way': {'Q1-Dataset/pg1513.txt': 8, 'Q1-Dataset/2160-0.txt': 95, 'Q1-Dataset/pg11.txt': 39, 'Q1-Dataset/pg2600.txt': 316, 'Q1-Dataset/pg345.txt': 131, 'Q1-Dataset/pg64317.txt': 38, 'Q1-Dataset/pg70815.txt': 81, 'Q1-Dataset/1080-0.txt': 3, 'Q1-Dataset/pg70817.txt': 16, 'Q1-Dataset/pg1998.txt': 67}, 'medium': {'Q1-Dataset/pg1513.txt': 3, 'Q1-Dataset/2160-0.txt': 3, 'Q1-Dataset/pg11.txt': 3, 'Q1-Dataset/pg2600.txt': 8, 'Q1-Dataset/pg345.txt': 6, 'Q1-Dataset/pg64317.txt': 3, 'Q1-Dataset/pg70815.txt': 3, 'Q1-Dataset/1080-0.txt': 3, 'Q1-Dataset/pg70817.txt': 3, 'Q1-Dataset/pg1998.txt': 4}, '(any': {'Q1-Dataset/pg1513.txt': 1, 'Q1-Dataset/2160-0.txt': 1, 'Q1-Dataset/pg11.txt': 1, 'Q1-Dataset/pg2600.txt': 1, 'Q1-Dataset/pg345.txt': 1, 'Q1-Dataset/pg64317.txt': 1, 'Q1-Dataset/pg70815.txt': 1, 'Q1-Dataset/1080-0.txt': 1, 'Q1-Dataset/pg70817.txt': 1, 'Q1-Dataset/pg1998.txt': 1}, 'nor': {'Q1-Dataset/pg1513.txt': 11, 'Q1-Dataset/2160-0.txt': 86, 'Q1-Dataset/pg11.txt': 2, 'Q1-Dataset/pg2600.txt': 167, 'Q1-Dataset/pg345.txt': 25, 'Q1-Dataset/pg64317.txt': 4, 'Q1-Dataset/pg70815.txt': 71, 'Q1-Dataset/1080-0.txt': 7, 'Q1-Dataset/pg70817.txt': 6, 'Q1-Dataset/pg1998.txt': 33}, 'user,': {'Q1-Dataset/pg1513.txt': 1, 'Q1-Dataset/2160-0.txt': 1, 'Q1-Dataset/pg11.txt': 1, 'Q1-Dataset/pg2600.txt': 1, 'Q1-Dataset/pg345.txt': 1, 'Q1-Dataset/pg64317.txt': 1, 'Q1-Dataset/pg70815.txt': 1, 'Q1-Dataset/1080-0.txt': 1, 'Q1-Dataset/pg70817.txt': 1, 'Q1-Dataset/pg1998.txt': 1}, 'requirements,': {'Q1-Dataset/pg1513.txt': 1, 'Q1-Dataset/2160-0.txt': 1, 'Q1-Dataset/pg11.txt': 1, 'Q1-Dataset/pg2600.txt': 1, 'Q1-Dataset/pg345.txt': 2, 'Q1-Dataset/pg64317.txt': 1, 'Q1-Dataset/pg70815.txt': 1, 'Q1-Dataset/1080-0.txt': 1, 'Q1-Dataset/pg70817.txt': 1, 'Q1-Dataset/pg1998.txt': 1}, 'things': {'Q1-Dataset/pg1513.txt': 6, 'Q1-Dataset/2160-0.txt': 21, 'Q1-Dataset/pg11.txt': 21, 'Q1-Dataset/pg2600.txt': 177, 'Q1-Dataset/pg345.txt': 115, 'Q1-Dataset/pg64317.txt': 24, 'Q1-Dataset/pg70815.txt': 12, 'Q1-Dataset/1080-0.txt': 3, 'Q1-Dataset/pg70817.txt': 5, 'Q1-Dataset/pg1998.txt': 96}, 'in': {'Q1-Dataset/pg1513.txt': 350, 'Q1-Dataset/2160-0.txt': 3052, 'Q1-Dataset/pg11.txt': 406, 'Q1-Dataset/pg2600.txt': 8232, 'Q1-Dataset/pg345.txt': 2389, 'Q1-Dataset/pg64317.txt': 813, 'Q1-Dataset/pg70815.txt': 1114, 'Q1-Dataset/1080-0.txt': 128, 'Q1-Dataset/pg70817.txt': 421, 'Q1-Dataset/pg1998.txt': 1361}, 'provision': {'Q1-Dataset/pg1513.txt': 1, 'Q1-Dataset/2160-0.txt': 8, 'Q1-Dataset/pg11.txt': 1, 'Q1-Dataset/pg2600.txt': 3, 'Q1-Dataset/pg345.txt': 1, 'Q1-Dataset/pg64317.txt': 1, 'Q1-Dataset/pg70815.txt': 4, 'Q1-Dataset/1080-0.txt': 1, 'Q1-Dataset/pg70817.txt': 3, 'Q1-Dataset/pg1998.txt': 1}, 'LICENSE': {'Q1-Dataset/pg1513.txt': 2, 'Q1-Dataset/2160-0.txt': 2, 'Q1-Dataset/pg11.txt': 2, 'Q1-Dataset/pg2600.txt': 2, 'Q1-Dataset/pg345.txt': 2, 'Q1-Dataset/pg64317.txt': 2, 'Q1-Dataset/pg70815.txt': 2, 'Q1-Dataset/1080-0.txt': 2, 'Q1-Dataset/pg70817.txt': 2, 'Q1-Dataset/pg1998.txt': 2}, 'Email': {'Q1-Dataset/pg1513.txt': 1, 'Q1-Dataset/2160-0.txt': 1, 'Q1-Dataset/pg11.txt': 1, 'Q1-Dataset/pg2600.txt': 1, 'Q1-Dataset/pg345.txt': 1, 'Q1-Dataset/pg64317.txt': 1, 'Q1-Dataset/pg70815.txt': 1, 'Q1-Dataset/1080-0.txt': 1, 'Q1-Dataset/pg70817.txt': 1, 'Q1-Dataset/pg1998.txt': 1}, 'long': {'Q1-Dataset/pg1513.txt': 14, 'Q1-Dataset/2160-0.txt': 92, 'Q1-Dataset/pg11.txt': 30, 'Q1-Dataset/pg2600.txt': 452, 'Q1-Dataset/pg345.txt': 126, 'Q1-Dataset/pg64317.txt': 42, 'Q1-Dataset/pg70815.txt': 87, 'Q1-Dataset/1080-0.txt': 3, 'Q1-Dataset/pg70817.txt': 22, 'Q1-Dataset/pg1998.txt': 132}, 'NEGLIGENCE,': {'Q1-Dataset/pg1513.txt': 1, 'Q1-Dataset/2160-0.txt': 1, 'Q1-Dataset/pg11.txt': 1, 'Q1-Dataset/pg2600.txt': 1, 'Q1-Dataset/pg345.txt': 1, 'Q1-Dataset/pg64317.txt': 1, 'Q1-Dataset/pg70815.txt': 1, 'Q1-Dataset/1080-0.txt': 1, 'Q1-Dataset/pg70817.txt': 1, 'Q1-Dataset/pg1998.txt': 1}, 'inaccurate': {'Q1-Dataset/pg1513.txt': 1, 'Q1-Dataset/2160-0.txt': 1, 'Q1-Dataset/pg11.txt': 1, 'Q1-Dataset/pg2600.txt': 1, 'Q1-Dataset/pg345.txt': 1, 'Q1-Dataset/pg64317.txt': 1, 'Q1-Dataset/pg70815.txt': 1, 'Q1-Dataset/1080-0.txt': 1, 'Q1-Dataset/pg70817.txt': 1, 'Q1-Dataset/pg1998.txt': 1}, '1.F.1.': {'Q1-Dataset/pg1513.txt': 1, 'Q1-Dataset/2160-0.txt': 1, 'Q1-Dataset/pg11.txt': 1, 'Q1-Dataset/pg2600.txt': 1, 'Q1-Dataset/pg345.txt': 1, 'Q1-Dataset/pg64317.txt': 1, 'Q1-Dataset/pg70815.txt': 1, 'Q1-Dataset/1080-0.txt': 1, 'Q1-Dataset/pg70817.txt': 1, 'Q1-Dataset/pg1998.txt': 1}, 'additions': {'Q1-Dataset/pg1513.txt': 1, 'Q1-Dataset/2160-0.txt': 1, 'Q1-Dataset/pg11.txt': 1, 'Q1-Dataset/pg2600.txt': 1, 'Q1-Dataset/pg345.txt': 1, 'Q1-Dataset/pg64317.txt': 1, 'Q1-Dataset/pg70815.txt': 1, 'Q1-Dataset/1080-0.txt': 1, 'Q1-Dataset/pg70817.txt': 1, 'Q1-Dataset/pg1998.txt': 1}, 'proprietary': {'Q1-Dataset/pg1513.txt': 1, 'Q1-Dataset/2160-0.txt': 1, 'Q1-Dataset/pg11.txt': 1, 'Q1-Dataset/pg2600.txt': 1, 'Q1-Dataset/pg345.txt': 1, 'Q1-Dataset/pg64317.txt': 2, 'Q1-Dataset/pg70815.txt': 1, 'Q1-Dataset/1080-0.txt': 1, 'Q1-Dataset/pg70817.txt': 1, 'Q1-Dataset/pg1998.txt': 1}, 'rules,': {'Q1-Dataset/pg1513.txt': 1, 'Q1-Dataset/2160-0.txt': 1, 'Q1-Dataset/pg11.txt': 1, 'Q1-Dataset/pg2600.txt': 3, 'Q1-Dataset/pg345.txt': 1, 'Q1-Dataset/pg64317.txt': 1, 'Q1-Dataset/pg70815.txt': 1, 'Q1-Dataset/1080-0.txt': 1, 'Q1-Dataset/pg70817.txt': 1, 'Q1-Dataset/pg1998.txt': 1}, 'we': {'Q1-Dataset/pg1513.txt': 55, 'Q1-Dataset/2160-0.txt': 479, 'Q1-Dataset/pg11.txt': 23, 'Q1-Dataset/pg2600.txt': 712, 'Q1-Dataset/pg345.txt': 1227, 'Q1-Dataset/pg64317.txt': 143, 'Q1-Dataset/pg70815.txt': 261, 'Q1-Dataset/1080-0.txt': 16, 'Q1-Dataset/pg70817.txt': 60, 'Q1-Dataset/pg1998.txt': 235}, 'print': {'Q1-Dataset/pg1513.txt': 1, 'Q1-Dataset/2160-0.txt': 1, 'Q1-Dataset/pg11.txt': 1, 'Q1-Dataset/pg2600.txt': 2, 'Q1-Dataset/pg345.txt': 1, 'Q1-Dataset/pg64317.txt': 1, 'Q1-Dataset/pg70815.txt': 1, 'Q1-Dataset/1080-0.txt': 1, 'Q1-Dataset/pg70817.txt': 1, 'Q1-Dataset/pg1998.txt': 1}, 'donate.': {'Q1-Dataset/pg1513.txt': 1, 'Q1-Dataset/2160-0.txt': 1, 'Q1-Dataset/pg11.txt': 1, 'Q1-Dataset/pg2600.txt': 1, 'Q1-Dataset/pg345.txt': 1, 'Q1-Dataset/pg64317.txt': 1, 'Q1-Dataset/pg70815.txt': 1, 'Q1-Dataset/1080-0.txt': 1, 'Q1-Dataset/pg70817.txt': 1, 'Q1-Dataset/pg1998.txt': 1}, 'walk': {'Q1-Dataset/pg1513.txt': 3, 'Q1-Dataset/2160-0.txt': 9, 'Q1-Dataset/pg11.txt': 4, 'Q1-Dataset/pg2600.txt': 28, 'Q1-Dataset/pg345.txt': 15, 'Q1-Dataset/pg64317.txt': 5, 'Q1-Dataset/pg70815.txt': 2, 'Q1-Dataset/1080-0.txt': 1, 'Q1-Dataset/pg70817.txt': 5, 'Q1-Dataset/pg1998.txt': 12}, 'Hart': {'Q1-Dataset/pg1513.txt': 1, 'Q1-Dataset/2160-0.txt': 1, 'Q1-Dataset/pg11.txt': 1, 'Q1-Dataset/pg2600.txt': 1, 'Q1-Dataset/pg345.txt': 1, 'Q1-Dataset/pg64317.txt': 1, 'Q1-Dataset/pg70815.txt': 1, 'Q1-Dataset/1080-0.txt': 1, 'Q1-Dataset/pg70817.txt': 1, 'Q1-Dataset/pg1998.txt': 1}, 'But': {'Q1-Dataset/pg1513.txt': 79, 'Q1-Dataset/2160-0.txt': 36, 'Q1-Dataset/pg11.txt': 15, 'Q1-Dataset/pg2600.txt': 829, 'Q1-Dataset/pg345.txt': 141, 'Q1-Dataset/pg64317.txt': 55, 'Q1-Dataset/pg70815.txt': 70, 'Q1-Dataset/1080-0.txt': 6, 'Q1-Dataset/pg70817.txt': 45, 'Q1-Dataset/pg1998.txt': 318}, 'array': {'Q1-Dataset/pg1513.txt': 2, 'Q1-Dataset/2160-0.txt': 1, 'Q1-Dataset/pg11.txt': 1, 'Q1-Dataset/pg2600.txt': 2, 'Q1-Dataset/pg345.txt': 1, 'Q1-Dataset/pg64317.txt': 1, 'Q1-Dataset/pg70815.txt': 1, 'Q1-Dataset/1080-0.txt': 1, 'Q1-Dataset/pg70817.txt': 2, 'Q1-Dataset/pg1998.txt': 1}, '($1': {'Q1-Dataset/pg1513.txt': 1, 'Q1-Dataset/2160-0.txt': 1, 'Q1-Dataset/pg11.txt': 1, 'Q1-Dataset/pg2600.txt': 1, 'Q1-Dataset/pg345.txt': 1, 'Q1-Dataset/pg64317.txt': 1, 'Q1-Dataset/pg70815.txt': 1, 'Q1-Dataset/1080-0.txt': 1, 'Q1-Dataset/pg70817.txt': 1, 'Q1-Dataset/pg1998.txt': 1}, 'holder': {'Q1-Dataset/pg1513.txt': 1, 'Q1-Dataset/2160-0.txt': 1, 'Q1-Dataset/pg11.txt': 1, 'Q1-Dataset/pg2600.txt': 1, 'Q1-Dataset/pg345.txt': 1, 'Q1-Dataset/pg64317.txt': 1, 'Q1-Dataset/pg70815.txt': 1, 'Q1-Dataset/1080-0.txt': 1, 'Q1-Dataset/pg70817.txt': 1, 'Q1-Dataset/pg1998.txt': 1}, 'whose': {'Q1-Dataset/pg1513.txt': 11, 'Q1-Dataset/2160-0.txt': 69, 'Q1-Dataset/pg11.txt': 2, 'Q1-Dataset/pg2600.txt': 101, 'Q1-Dataset/pg345.txt': 30, 'Q1-Dataset/pg64317.txt': 9, 'Q1-Dataset/pg70815.txt': 29, 'Q1-Dataset/1080-0.txt': 4, 'Q1-Dataset/pg70817.txt': 1, 'Q1-Dataset/pg1998.txt': 42}, '1.C': {'Q1-Dataset/pg1513.txt': 1, 'Q1-Dataset/2160-0.txt': 1, 'Q1-Dataset/pg11.txt': 1, 'Q1-Dataset/pg2600.txt': 1, 'Q1-Dataset/pg345.txt': 1, 'Q1-Dataset/pg64317.txt': 1, 'Q1-Dataset/pg70815.txt': 1, 'Q1-Dataset/1080-0.txt': 1, 'Q1-Dataset/pg70817.txt': 1, 'Q1-Dataset/pg1998.txt': 1}, 'donations.': {'Q1-Dataset/pg1513.txt': 1, 'Q1-Dataset/2160-0.txt': 1, 'Q1-Dataset/pg11.txt': 1, 'Q1-Dataset/pg2600.txt': 1, 'Q1-Dataset/pg345.txt': 1, 'Q1-Dataset/pg64317.txt': 1, 'Q1-Dataset/pg70815.txt': 1, 'Q1-Dataset/1080-0.txt': 1, 'Q1-Dataset/pg70817.txt': 1, 'Q1-Dataset/pg1998.txt': 1}, 'carry': {'Q1-Dataset/pg1513.txt': 3, 'Q1-Dataset/2160-0.txt': 17, 'Q1-Dataset/pg11.txt': 2, 'Q1-Dataset/pg2600.txt': 51, 'Q1-Dataset/pg345.txt': 15, 'Q1-Dataset/pg64317.txt': 4, 'Q1-Dataset/pg70815.txt': 14, 'Q1-Dataset/1080-0.txt': 1, 'Q1-Dataset/pg70817.txt': 1, 'Q1-Dataset/pg1998.txt': 19}, 'meet': {'Q1-Dataset/pg1513.txt': 6, 'Q1-Dataset/2160-0.txt': 20, 'Q1-Dataset/pg11.txt': 3, 'Q1-Dataset/pg2600.txt': 101, 'Q1-Dataset/pg345.txt': 34, 'Q1-Dataset/pg64317.txt': 8, 'Q1-Dataset/pg70815.txt': 17, 'Q1-Dataset/1080-0.txt': 1, 'Q1-Dataset/pg70817.txt': 3, 'Q1-Dataset/pg1998.txt': 16}, 'understand,': {'Q1-Dataset/pg1513.txt': 1, 'Q1-Dataset/2160-0.txt': 18, 'Q1-Dataset/pg11.txt': 1, 'Q1-Dataset/pg2600.txt': 24, 'Q1-Dataset/pg345.txt': 8, 'Q1-Dataset/pg64317.txt': 1, 'Q1-Dataset/pg70815.txt': 3, 'Q1-Dataset/1080-0.txt': 1, 'Q1-Dataset/pg70817.txt': 1, 'Q1-Dataset/pg1998.txt': 1}, 'appears,': {'Q1-Dataset/pg1513.txt': 1, 'Q1-Dataset/2160-0.txt': 2, 'Q1-Dataset/pg11.txt': 1, 'Q1-Dataset/pg2600.txt': 1, 'Q1-Dataset/pg345.txt': 1, 'Q1-Dataset/pg64317.txt': 1, 'Q1-Dataset/pg70815.txt': 1, 'Q1-Dataset/1080-0.txt': 1, 'Q1-Dataset/pg70817.txt': 1, 'Q1-Dataset/pg1998.txt': 1}, 'you!)': {'Q1-Dataset/pg1513.txt': 1, 'Q1-Dataset/2160-0.txt': 1, 'Q1-Dataset/pg11.txt': 1, 'Q1-Dataset/pg2600.txt': 1, 'Q1-Dataset/pg345.txt': 1, 'Q1-Dataset/pg64317.txt': 1, 'Q1-Dataset/pg70815.txt': 1, 'Q1-Dataset/1080-0.txt': 1, 'Q1-Dataset/pg70817.txt': 1, 'Q1-Dataset/pg1998.txt': 1}, 'subscribe': {'Q1-Dataset/pg1513.txt': 1, 'Q1-Dataset/2160-0.txt': 4, 'Q1-Dataset/pg11.txt': 1, 'Q1-Dataset/pg2600.txt': 2, 'Q1-Dataset/pg345.txt': 1, 'Q1-Dataset/pg64317.txt': 1, 'Q1-Dataset/pg70815.txt': 1, 'Q1-Dataset/1080-0.txt': 1, 'Q1-Dataset/pg70817.txt': 1, 'Q1-Dataset/pg1998.txt': 1}, 'include': {'Q1-Dataset/pg1513.txt': 1, 'Q1-Dataset/2160-0.txt': 1, 'Q1-Dataset/pg11.txt': 1, 'Q1-Dataset/pg2600.txt': 3, 'Q1-Dataset/pg345.txt': 1, 'Q1-Dataset/pg64317.txt': 1, 'Q1-Dataset/pg70815.txt': 1, 'Q1-Dataset/1080-0.txt': 1, 'Q1-Dataset/pg70817.txt': 1, 'Q1-Dataset/pg1998.txt': 1}, 'extent': {'Q1-Dataset/pg1513.txt': 1, 'Q1-Dataset/2160-0.txt': 3, 'Q1-Dataset/pg11.txt': 1, 'Q1-Dataset/pg2600.txt': 8, 'Q1-Dataset/pg345.txt': 3, 'Q1-Dataset/pg64317.txt': 1, 'Q1-Dataset/pg70815.txt': 5, 'Q1-Dataset/1080-0.txt': 1, 'Q1-Dataset/pg70817.txt': 2, 'Q1-Dataset/pg1998.txt': 4}, 'visit': {'Q1-Dataset/pg1513.txt': 1, 'Q1-Dataset/2160-0.txt': 29, 'Q1-Dataset/pg11.txt': 1, 'Q1-Dataset/pg2600.txt': 48, 'Q1-Dataset/pg345.txt': 11, 'Q1-Dataset/pg64317.txt': 1, 'Q1-Dataset/pg70815.txt': 2, 'Q1-Dataset/1080-0.txt': 1, 'Q1-Dataset/pg70817.txt': 6, 'Q1-Dataset/pg1998.txt': 1}, 'provide,': {'Q1-Dataset/pg1513.txt': 1, 'Q1-Dataset/2160-0.txt': 1, 'Q1-Dataset/pg11.txt': 1, 'Q1-Dataset/pg2600.txt': 1, 'Q1-Dataset/pg345.txt': 1, 'Q1-Dataset/pg64317.txt': 1, 'Q1-Dataset/pg70815.txt': 1, 'Q1-Dataset/1080-0.txt': 1, 'Q1-Dataset/pg70817.txt': 1, 'Q1-Dataset/pg1998.txt': 1}, 'far': {'Q1-Dataset/pg1513.txt': 5, 'Q1-Dataset/2160-0.txt': 63, 'Q1-Dataset/pg11.txt': 9, 'Q1-Dataset/pg2600.txt': 153, 'Q1-Dataset/pg345.txt': 77, 'Q1-Dataset/pg64317.txt': 17, 'Q1-Dataset/pg70815.txt': 74, 'Q1-Dataset/1080-0.txt': 1, 'Q1-Dataset/pg70817.txt': 19, 'Q1-Dataset/pg1998.txt': 43}, 'produce': {'Q1-Dataset/pg1513.txt': 1, 'Q1-Dataset/2160-0.txt': 22, 'Q1-Dataset/pg11.txt': 1, 'Q1-Dataset/pg2600.txt': 17, 'Q1-Dataset/pg345.txt': 1, 'Q1-Dataset/pg64317.txt': 1, 'Q1-Dataset/pg70815.txt': 2, 'Q1-Dataset/1080-0.txt': 1, 'Q1-Dataset/pg70817.txt': 1, 'Q1-Dataset/pg1998.txt': 2}, 'this': {'Q1-Dataset/pg1513.txt': 196, 'Q1-Dataset/2160-0.txt': 869, 'Q1-Dataset/pg11.txt': 125, 'Q1-Dataset/pg2600.txt': 1589, 'Q1-Dataset/pg345.txt': 472, 'Q1-Dataset/pg64317.txt': 159, 'Q1-Dataset/pg70815.txt': 262, 'Q1-Dataset/1080-0.txt': 61, 'Q1-Dataset/pg70817.txt': 69, 'Q1-Dataset/pg1998.txt': 493}, 'perform,': {'Q1-Dataset/pg1513.txt': 1, 'Q1-Dataset/2160-0.txt': 2, 'Q1-Dataset/pg11.txt': 1, 'Q1-Dataset/pg2600.txt': 1, 'Q1-Dataset/pg345.txt': 1, 'Q1-Dataset/pg64317.txt': 1, 'Q1-Dataset/pg70815.txt': 1, 'Q1-Dataset/1080-0.txt': 1, 'Q1-Dataset/pg70817.txt': 1, 'Q1-Dataset/pg1998.txt': 1}, 'rest': {'Q1-Dataset/pg1513.txt': 8, 'Q1-Dataset/2160-0.txt': 25, 'Q1-Dataset/pg11.txt': 9, 'Q1-Dataset/pg2600.txt': 70, 'Q1-Dataset/pg345.txt': 60, 'Q1-Dataset/pg64317.txt': 10, 'Q1-Dataset/pg70815.txt': 14, 'Q1-Dataset/1080-0.txt': 2, 'Q1-Dataset/pg70817.txt': 5, 'Q1-Dataset/pg1998.txt': 10}, 'already': {'Q1-Dataset/pg1513.txt': 5, 'Q1-Dataset/2160-0.txt': 36, 'Q1-Dataset/pg11.txt': 2, 'Q1-Dataset/pg2600.txt': 298, 'Q1-Dataset/pg345.txt': 33, 'Q1-Dataset/pg64317.txt': 15, 'Q1-Dataset/pg70815.txt': 21, 'Q1-Dataset/1080-0.txt': 7, 'Q1-Dataset/pg70817.txt': 14, 'Q1-Dataset/pg1998.txt': 68}, 'Compliance': {'Q1-Dataset/pg1513.txt': 1, 'Q1-Dataset/2160-0.txt': 1, 'Q1-Dataset/pg11.txt': 1, 'Q1-Dataset/pg2600.txt': 1, 'Q1-Dataset/pg345.txt': 1, 'Q1-Dataset/pg64317.txt': 1, 'Q1-Dataset/pg70815.txt': 1, 'Q1-Dataset/1080-0.txt': 1, 'Q1-Dataset/pg70817.txt': 1, 'Q1-Dataset/pg1998.txt': 1}, 'KIND,': {'Q1-Dataset/pg1513.txt': 1, 'Q1-Dataset/2160-0.txt': 1, 'Q1-Dataset/pg11.txt': 1, 'Q1-Dataset/pg2600.txt': 1, 'Q1-Dataset/pg345.txt': 1, 'Q1-Dataset/pg64317.txt': 1, 'Q1-Dataset/pg70815.txt': 1, 'Q1-Dataset/1080-0.txt': 1, 'Q1-Dataset/pg70817.txt': 1, 'Q1-Dataset/pg1998.txt': 1}, 'that,': {'Q1-Dataset/pg1513.txt': 7, 'Q1-Dataset/2160-0.txt': 61, 'Q1-Dataset/pg11.txt': 5, 'Q1-Dataset/pg2600.txt': 120, 'Q1-Dataset/pg345.txt': 49, 'Q1-Dataset/pg64317.txt': 18, 'Q1-Dataset/pg70815.txt': 11, 'Q1-Dataset/1080-0.txt': 1, 'Q1-Dataset/pg70817.txt': 2, 'Q1-Dataset/pg1998.txt': 15}, 'www.gutenberg.org/contact': {'Q1-Dataset/pg1513.txt': 1, 'Q1-Dataset/2160-0.txt': 1, 'Q1-Dataset/pg11.txt': 1, 'Q1-Dataset/pg2600.txt': 1, 'Q1-Dataset/pg345.txt': 1, 'Q1-Dataset/pg64317.txt': 1, 'Q1-Dataset/pg70815.txt': 1, 'Q1-Dataset/1080-0.txt': 1, 'Q1-Dataset/pg70817.txt': 1, 'Q1-Dataset/pg1998.txt': 1}, 'must,': {'Q1-Dataset/pg1513.txt': 2, 'Q1-Dataset/2160-0.txt': 4, 'Q1-Dataset/pg11.txt': 2, 'Q1-Dataset/pg2600.txt': 5, 'Q1-Dataset/pg345.txt': 5, 'Q1-Dataset/pg64317.txt': 1, 'Q1-Dataset/pg70815.txt': 1, 'Q1-Dataset/1080-0.txt': 1, 'Q1-Dataset/pg70817.txt': 1, 'Q1-Dataset/pg1998.txt': 2}, 'prominently': {'Q1-Dataset/pg1513.txt': 2, 'Q1-Dataset/2160-0.txt': 2, 'Q1-Dataset/pg11.txt': 2, 'Q1-Dataset/pg2600.txt': 2, 'Q1-Dataset/pg345.txt': 2, 'Q1-Dataset/pg64317.txt': 2, 'Q1-Dataset/pg70815.txt': 2, 'Q1-Dataset/1080-0.txt': 2, 'Q1-Dataset/pg70817.txt': 2, 'Q1-Dataset/pg1998.txt': 2}, 'based': {'Q1-Dataset/pg1513.txt': 2, 'Q1-Dataset/2160-0.txt': 2, 'Q1-Dataset/pg11.txt': 2, 'Q1-Dataset/pg2600.txt': 25, 'Q1-Dataset/pg345.txt': 3, 'Q1-Dataset/pg64317.txt': 3, 'Q1-Dataset/pg70815.txt': 6, 'Q1-Dataset/1080-0.txt': 2, 'Q1-Dataset/pg70817.txt': 2, 'Q1-Dataset/pg1998.txt': 2}, 'corrupt': {'Q1-Dataset/pg1513.txt': 1, 'Q1-Dataset/2160-0.txt': 2, 'Q1-Dataset/pg11.txt': 1, 'Q1-Dataset/pg2600.txt': 1, 'Q1-Dataset/pg345.txt': 1, 'Q1-Dataset/pg64317.txt': 1, 'Q1-Dataset/pg70815.txt': 1, 'Q1-Dataset/1080-0.txt': 1, 'Q1-Dataset/pg70817.txt': 1, 'Q1-Dataset/pg1998.txt': 2}, 'search': {'Q1-Dataset/pg1513.txt': 2, 'Q1-Dataset/2160-0.txt': 6, 'Q1-Dataset/pg11.txt': 2, 'Q1-Dataset/pg2600.txt': 20, 'Q1-Dataset/pg345.txt': 19, 'Q1-Dataset/pg64317.txt': 2, 'Q1-Dataset/pg70815.txt': 37, 'Q1-Dataset/1080-0.txt': 1, 'Q1-Dataset/pg70817.txt': 5, 'Q1-Dataset/pg1998.txt': 5}, 'modified': {'Q1-Dataset/pg1513.txt': 1, 'Q1-Dataset/2160-0.txt': 1, 'Q1-Dataset/pg11.txt': 1, 'Q1-Dataset/pg2600.txt': 1, 'Q1-Dataset/pg345.txt': 1, 'Q1-Dataset/pg64317.txt': 1, 'Q1-Dataset/pg70815.txt': 1, 'Q1-Dataset/1080-0.txt': 1, 'Q1-Dataset/pg70817.txt': 1, 'Q1-Dataset/pg1998.txt': 1}, 'myself,': {'Q1-Dataset/pg1513.txt': 1, 'Q1-Dataset/2160-0.txt': 13, 'Q1-Dataset/pg11.txt': 1, 'Q1-Dataset/pg2600.txt': 17, 'Q1-Dataset/pg345.txt': 21, 'Q1-Dataset/pg64317.txt': 3, 'Q1-Dataset/pg70815.txt': 1, 'Q1-Dataset/1080-0.txt': 1, 'Q1-Dataset/pg70817.txt': 1, 'Q1-Dataset/pg1998.txt': 16}, 'Foundation.': {'Q1-Dataset/pg1513.txt': 1, 'Q1-Dataset/2160-0.txt': 1, 'Q1-Dataset/pg11.txt': 1, 'Q1-Dataset/pg2600.txt': 1, 'Q1-Dataset/pg345.txt': 1, 'Q1-Dataset/pg64317.txt': 1, 'Q1-Dataset/pg70815.txt': 1, 'Q1-Dataset/1080-0.txt': 1, 'Q1-Dataset/pg70817.txt': 1, 'Q1-Dataset/pg1998.txt': 1}, 'states': {'Q1-Dataset/pg1513.txt': 4, 'Q1-Dataset/2160-0.txt': 5, 'Q1-Dataset/pg11.txt': 4, 'Q1-Dataset/pg2600.txt': 9, 'Q1-Dataset/pg345.txt': 4, 'Q1-Dataset/pg64317.txt': 5, 'Q1-Dataset/pg70815.txt': 4, 'Q1-Dataset/1080-0.txt': 4, 'Q1-Dataset/pg70817.txt': 4, 'Q1-Dataset/pg1998.txt': 4}, 'also': {'Q1-Dataset/pg1513.txt': 2, 'Q1-Dataset/2160-0.txt': 39, 'Q1-Dataset/pg11.txt': 3, 'Q1-Dataset/pg2600.txt': 253, 'Q1-Dataset/pg345.txt': 30, 'Q1-Dataset/pg64317.txt': 6, 'Q1-Dataset/pg70815.txt': 18, 'Q1-Dataset/1080-0.txt': 2, 'Q1-Dataset/pg70817.txt': 3, 'Q1-Dataset/pg1998.txt': 288}, 'it': {'Q1-Dataset/pg1513.txt': 162, 'Q1-Dataset/2160-0.txt': 734, 'Q1-Dataset/pg11.txt': 357, 'Q1-Dataset/pg2600.txt': 3324, 'Q1-Dataset/pg345.txt': 1409, 'Q1-Dataset/pg64317.txt': 312, 'Q1-Dataset/pg70815.txt': 615, 'Q1-Dataset/1080-0.txt': 29, 'Q1-Dataset/pg70817.txt': 177, 'Q1-Dataset/pg1998.txt': 1068}, 'forth': {'Q1-Dataset/pg1513.txt': 15, 'Q1-Dataset/2160-0.txt': 25, 'Q1-Dataset/pg11.txt': 8, 'Q1-Dataset/pg2600.txt': 12, 'Q1-Dataset/pg345.txt': 18, 'Q1-Dataset/pg64317.txt': 11, 'Q1-Dataset/pg70815.txt': 16, 'Q1-Dataset/1080-0.txt': 8, 'Q1-Dataset/pg70817.txt': 9, 'Q1-Dataset/pg1998.txt': 30}, 'periodic': {'Q1-Dataset/pg1513.txt': 1, 'Q1-Dataset/2160-0.txt': 1, 'Q1-Dataset/pg11.txt': 1, 'Q1-Dataset/pg2600.txt': 1, 'Q1-Dataset/pg345.txt': 1, 'Q1-Dataset/pg64317.txt': 1, 'Q1-Dataset/pg70815.txt': 1, 'Q1-Dataset/1080-0.txt': 1, 'Q1-Dataset/pg70817.txt': 1, 'Q1-Dataset/pg1998.txt': 1}, 'posted': {'Q1-Dataset/pg1513.txt': 4, 'Q1-Dataset/2160-0.txt': 4, 'Q1-Dataset/pg11.txt': 4, 'Q1-Dataset/pg2600.txt': 6, 'Q1-Dataset/pg345.txt': 4, 'Q1-Dataset/pg64317.txt': 4, 'Q1-Dataset/pg70815.txt': 4, 'Q1-Dataset/1080-0.txt': 4, 'Q1-Dataset/pg70817.txt': 4, 'Q1-Dataset/pg1998.txt': 4}, 'Terms': {'Q1-Dataset/pg1513.txt': 2, 'Q1-Dataset/2160-0.txt': 2, 'Q1-Dataset/pg11.txt': 2, 'Q1-Dataset/pg2600.txt': 2, 'Q1-Dataset/pg345.txt': 2, 'Q1-Dataset/pg64317.txt': 2, 'Q1-Dataset/pg70815.txt': 2, 'Q1-Dataset/1080-0.txt': 2, 'Q1-Dataset/pg70817.txt': 2, 'Q1-Dataset/pg1998.txt': 2}, 'agreed': {'Q1-Dataset/pg1513.txt': 1, 'Q1-Dataset/2160-0.txt': 16, 'Q1-Dataset/pg11.txt': 1, 'Q1-Dataset/pg2600.txt': 28, 'Q1-Dataset/pg345.txt': 11, 'Q1-Dataset/pg64317.txt': 9, 'Q1-Dataset/pg70815.txt': 2, 'Q1-Dataset/1080-0.txt': 2, 'Q1-Dataset/pg70817.txt': 4, 'Q1-Dataset/pg1998.txt': 1}, '30': {'Q1-Dataset/pg1513.txt': 1, 'Q1-Dataset/2160-0.txt': 1, 'Q1-Dataset/pg11.txt': 1, 'Q1-Dataset/pg2600.txt': 3, 'Q1-Dataset/pg345.txt': 2, 'Q1-Dataset/pg64317.txt': 1, 'Q1-Dataset/pg70815.txt': 1, 'Q1-Dataset/1080-0.txt': 1, 'Q1-Dataset/pg70817.txt': 1, 'Q1-Dataset/pg1998.txt': 4}, 'not': {'Q1-Dataset/pg1513.txt': 229, 'Q1-Dataset/2160-0.txt': 902, 'Q1-Dataset/pg11.txt': 129, 'Q1-Dataset/pg2600.txt': 4419, 'Q1-Dataset/pg345.txt': 1302, 'Q1-Dataset/pg64317.txt': 77, 'Q1-Dataset/pg70815.txt': 559, 'Q1-Dataset/1080-0.txt': 42, 'Q1-Dataset/pg70817.txt': 112, 'Q1-Dataset/pg1998.txt': 890}, 'contain': {'Q1-Dataset/pg1513.txt': 2, 'Q1-Dataset/2160-0.txt': 7, 'Q1-Dataset/pg11.txt': 2, 'Q1-Dataset/pg2600.txt': 4, 'Q1-Dataset/pg345.txt': 5, 'Q1-Dataset/pg64317.txt': 3, 'Q1-Dataset/pg70815.txt': 2, 'Q1-Dataset/1080-0.txt': 2, 'Q1-Dataset/pg70817.txt': 2, 'Q1-Dataset/pg1998.txt': 2}, 'States,': {'Q1-Dataset/pg1513.txt': 4, 'Q1-Dataset/2160-0.txt': 2, 'Q1-Dataset/pg11.txt': 4, 'Q1-Dataset/pg2600.txt': 4, 'Q1-Dataset/pg345.txt': 4, 'Q1-Dataset/pg64317.txt': 4, 'Q1-Dataset/pg70815.txt': 4, 'Q1-Dataset/1080-0.txt': 4, 'Q1-Dataset/pg70817.txt': 4, 'Q1-Dataset/pg1998.txt': 4}, 'reading': {'Q1-Dataset/pg1513.txt': 1, 'Q1-Dataset/2160-0.txt': 5, 'Q1-Dataset/pg11.txt': 3, 'Q1-Dataset/pg2600.txt': 60, 'Q1-Dataset/pg345.txt': 14, 'Q1-Dataset/pg64317.txt': 3, 'Q1-Dataset/pg70815.txt': 3, 'Q1-Dataset/1080-0.txt': 1, 'Q1-Dataset/pg70817.txt': 2, 'Q1-Dataset/pg1998.txt': 5}, 'Release': {'Q1-Dataset/pg1513.txt': 1, 'Q1-Dataset/2160-0.txt': 1, 'Q1-Dataset/pg11.txt': 1, 'Q1-Dataset/pg2600.txt': 2, 'Q1-Dataset/pg345.txt': 1, 'Q1-Dataset/pg64317.txt': 1, 'Q1-Dataset/pg70815.txt': 1, 'Q1-Dataset/1080-0.txt': 1, 'Q1-Dataset/pg70817.txt': 1, 'Q1-Dataset/pg1998.txt': 1}, 'fell': {'Q1-Dataset/pg1513.txt': 1, 'Q1-Dataset/2160-0.txt': 14, 'Q1-Dataset/pg11.txt': 6, 'Q1-Dataset/pg2600.txt': 108, 'Q1-Dataset/pg345.txt': 55, 'Q1-Dataset/pg64317.txt': 17, 'Q1-Dataset/pg70815.txt': 22, 'Q1-Dataset/1080-0.txt': 1, 'Q1-Dataset/pg70817.txt': 10, 'Q1-Dataset/pg1998.txt': 12}, 'sentence': {'Q1-Dataset/pg1513.txt': 3, 'Q1-Dataset/2160-0.txt': 1, 'Q1-Dataset/pg11.txt': 6, 'Q1-Dataset/pg2600.txt': 5, 'Q1-Dataset/pg345.txt': 2, 'Q1-Dataset/pg64317.txt': 3, 'Q1-Dataset/pg70815.txt': 2, 'Q1-Dataset/1080-0.txt': 1, 'Q1-Dataset/pg70817.txt': 2, 'Q1-Dataset/pg1998.txt': 1}, '1.E.6.': {'Q1-Dataset/pg1513.txt': 1, 'Q1-Dataset/2160-0.txt': 1, 'Q1-Dataset/pg11.txt': 1, 'Q1-Dataset/pg2600.txt': 1, 'Q1-Dataset/pg345.txt': 1, 'Q1-Dataset/pg64317.txt': 1, 'Q1-Dataset/pg70815.txt': 1, 'Q1-Dataset/1080-0.txt': 1, 'Q1-Dataset/pg70817.txt': 1, 'Q1-Dataset/pg1998.txt': 1}, 'City,': {'Q1-Dataset/pg1513.txt': 1, 'Q1-Dataset/2160-0.txt': 1, 'Q1-Dataset/pg11.txt': 1, 'Q1-Dataset/pg2600.txt': 1, 'Q1-Dataset/pg345.txt': 1, 'Q1-Dataset/pg64317.txt': 1, 'Q1-Dataset/pg70815.txt': 1, 'Q1-Dataset/1080-0.txt': 1, 'Q1-Dataset/pg70817.txt': 1, 'Q1-Dataset/pg1998.txt': 1}, 'help,': {'Q1-Dataset/pg1513.txt': 2, 'Q1-Dataset/2160-0.txt': 1, 'Q1-Dataset/pg11.txt': 1, 'Q1-Dataset/pg2600.txt': 5, 'Q1-Dataset/pg345.txt': 11, 'Q1-Dataset/pg64317.txt': 3, 'Q1-Dataset/pg70815.txt': 1, 'Q1-Dataset/1080-0.txt': 1, 'Q1-Dataset/pg70817.txt': 2, 'Q1-Dataset/pg1998.txt': 2}, 'eBook': {'Q1-Dataset/pg1513.txt': 6, 'Q1-Dataset/2160-0.txt': 5, 'Q1-Dataset/pg11.txt': 6, 'Q1-Dataset/pg2600.txt': 6, 'Q1-Dataset/pg345.txt': 6, 'Q1-Dataset/pg64317.txt': 6, 'Q1-Dataset/pg70815.txt': 6, 'Q1-Dataset/1080-0.txt': 6, 'Q1-Dataset/pg70817.txt': 6, 'Q1-Dataset/pg1998.txt': 6}, 'brought': {'Q1-Dataset/pg1513.txt': 1, 'Q1-Dataset/2160-0.txt': 60, 'Q1-Dataset/pg11.txt': 3, 'Q1-Dataset/pg2600.txt': 200, 'Q1-Dataset/pg345.txt': 36, 'Q1-Dataset/pg64317.txt': 16, 'Q1-Dataset/pg70815.txt': 20, 'Q1-Dataset/1080-0.txt': 1, 'Q1-Dataset/pg70817.txt': 7, 'Q1-Dataset/pg1998.txt': 8}, 'pages': {'Q1-Dataset/pg1513.txt': 1, 'Q1-Dataset/2160-0.txt': 1, 'Q1-Dataset/pg11.txt': 1, 'Q1-Dataset/pg2600.txt': 6, 'Q1-Dataset/pg345.txt': 3, 'Q1-Dataset/pg64317.txt': 2, 'Q1-Dataset/pg70815.txt': 1, 'Q1-Dataset/1080-0.txt': 1, 'Q1-Dataset/pg70817.txt': 4, 'Q1-Dataset/pg1998.txt': 4}, 'trademark,': {'Q1-Dataset/pg1513.txt': 3, 'Q1-Dataset/2160-0.txt': 3, 'Q1-Dataset/pg11.txt': 3, 'Q1-Dataset/pg2600.txt': 3, 'Q1-Dataset/pg345.txt': 3, 'Q1-Dataset/pg64317.txt': 3, 'Q1-Dataset/pg70815.txt': 3, 'Q1-Dataset/1080-0.txt': 3, 'Q1-Dataset/pg70817.txt': 3, 'Q1-Dataset/pg1998.txt': 3}, 'its': {'Q1-Dataset/pg1513.txt': 3, 'Q1-Dataset/2160-0.txt': 94, 'Q1-Dataset/pg11.txt': 60, 'Q1-Dataset/pg2600.txt': 564, 'Q1-Dataset/pg345.txt': 135, 'Q1-Dataset/pg64317.txt': 41, 'Q1-Dataset/pg70815.txt': 227, 'Q1-Dataset/1080-0.txt': 4, 'Q1-Dataset/pg70817.txt': 60, 'Q1-Dataset/pg1998.txt': 250}, 'S.': {'Q1-Dataset/pg1513.txt': 1, 'Q1-Dataset/2160-0.txt': 2, 'Q1-Dataset/pg11.txt': 1, 'Q1-Dataset/pg2600.txt': 3, 'Q1-Dataset/pg345.txt': 5, 'Q1-Dataset/pg64317.txt': 4, 'Q1-Dataset/pg70815.txt': 1, 'Q1-Dataset/1080-0.txt': 1, 'Q1-Dataset/pg70817.txt': 1, 'Q1-Dataset/pg1998.txt': 1}, 'us,': {'Q1-Dataset/pg1513.txt': 5, 'Q1-Dataset/2160-0.txt': 18, 'Q1-Dataset/pg11.txt': 2, 'Q1-Dataset/pg2600.txt': 56, 'Q1-Dataset/pg345.txt': 62, 'Q1-Dataset/pg64317.txt': 11, 'Q1-Dataset/pg70815.txt': 10, 'Q1-Dataset/1080-0.txt': 1, 'Q1-Dataset/pg70817.txt': 4, 'Q1-Dataset/pg1998.txt': 19}, 'without': {'Q1-Dataset/pg1513.txt': 18, 'Q1-Dataset/2160-0.txt': 298, 'Q1-Dataset/pg11.txt': 32, 'Q1-Dataset/pg2600.txt': 634, 'Q1-Dataset/pg345.txt': 125, 'Q1-Dataset/pg64317.txt': 34, 'Q1-Dataset/pg70815.txt': 51, 'Q1-Dataset/1080-0.txt': 12, 'Q1-Dataset/pg70817.txt': 29, 'Q1-Dataset/pg1998.txt': 72}, 'Full': {'Q1-Dataset/pg1513.txt': 3, 'Q1-Dataset/2160-0.txt': 1, 'Q1-Dataset/pg11.txt': 1, 'Q1-Dataset/pg2600.txt': 1, 'Q1-Dataset/pg345.txt': 1, 'Q1-Dataset/pg64317.txt': 1, 'Q1-Dataset/pg70815.txt': 1, 'Q1-Dataset/1080-0.txt': 1, 'Q1-Dataset/pg70817.txt': 1, 'Q1-Dataset/pg1998.txt': 3}, 'few': {'Q1-Dataset/pg1513.txt': 1, 'Q1-Dataset/2160-0.txt': 68, 'Q1-Dataset/pg11.txt': 10, 'Q1-Dataset/pg2600.txt': 168, 'Q1-Dataset/pg345.txt': 86, 'Q1-Dataset/pg64317.txt': 26, 'Q1-Dataset/pg70815.txt': 44, 'Q1-Dataset/1080-0.txt': 1, 'Q1-Dataset/pg70817.txt': 25, 'Q1-Dataset/pg1998.txt': 9}, 'hypertext': {'Q1-Dataset/pg1513.txt': 1, 'Q1-Dataset/2160-0.txt': 1, 'Q1-Dataset/pg11.txt': 1, 'Q1-Dataset/pg2600.txt': 1, 'Q1-Dataset/pg345.txt': 1, 'Q1-Dataset/pg64317.txt': 1, 'Q1-Dataset/pg70815.txt': 1, 'Q1-Dataset/1080-0.txt': 1, 'Q1-Dataset/pg70817.txt': 1, 'Q1-Dataset/pg1998.txt': 1}, 'destroy': {'Q1-Dataset/pg1513.txt': 2, 'Q1-Dataset/2160-0.txt': 5, 'Q1-Dataset/pg11.txt': 2, 'Q1-Dataset/pg2600.txt': 34, 'Q1-Dataset/pg345.txt': 19, 'Q1-Dataset/pg64317.txt': 2, 'Q1-Dataset/pg70815.txt': 12, 'Q1-Dataset/1080-0.txt': 2, 'Q1-Dataset/pg70817.txt': 3, 'Q1-Dataset/pg1998.txt': 7}, 'every': {'Q1-Dataset/pg1513.txt': 9, 'Q1-Dataset/2160-0.txt': 201, 'Q1-Dataset/pg11.txt': 12, 'Q1-Dataset/pg2600.txt': 293, 'Q1-Dataset/pg345.txt': 76, 'Q1-Dataset/pg64317.txt': 26, 'Q1-Dataset/pg70815.txt': 51, 'Q1-Dataset/1080-0.txt': 3, 'Q1-Dataset/pg70817.txt': 20, 'Q1-Dataset/pg1998.txt': 112}, 'INCIDENTAL': {'Q1-Dataset/pg1513.txt': 1, 'Q1-Dataset/2160-0.txt': 1, 'Q1-Dataset/pg11.txt': 1, 'Q1-Dataset/pg2600.txt': 1, 'Q1-Dataset/pg345.txt': 1, 'Q1-Dataset/pg64317.txt': 1, 'Q1-Dataset/pg70815.txt': 1, 'Q1-Dataset/1080-0.txt': 1, 'Q1-Dataset/pg70817.txt': 1, 'Q1-Dataset/pg1998.txt': 1}, 'DISTRIBUTOR': {'Q1-Dataset/pg1513.txt': 1, 'Q1-Dataset/2160-0.txt': 1, 'Q1-Dataset/pg11.txt': 1, 'Q1-Dataset/pg2600.txt': 1, 'Q1-Dataset/pg345.txt': 1, 'Q1-Dataset/pg64317.txt': 1, 'Q1-Dataset/pg70815.txt': 1, 'Q1-Dataset/1080-0.txt': 1, 'Q1-Dataset/pg70817.txt': 1, 'Q1-Dataset/pg1998.txt': 1}, 'my': {'Q1-Dataset/pg1513.txt': 304, 'Q1-Dataset/2160-0.txt': 1180, 'Q1-Dataset/pg11.txt': 55, 'Q1-Dataset/pg2600.txt': 1081, 'Q1-Dataset/pg345.txt': 1152, 'Q1-Dataset/pg64317.txt': 224, 'Q1-Dataset/pg70815.txt': 87, 'Q1-Dataset/1080-0.txt': 20, 'Q1-Dataset/pg70817.txt': 65, 'Q1-Dataset/pg1998.txt': 856}, 'profits': {'Q1-Dataset/pg1513.txt': 1, 'Q1-Dataset/2160-0.txt': 4, 'Q1-Dataset/pg11.txt': 1, 'Q1-Dataset/pg2600.txt': 1, 'Q1-Dataset/pg345.txt': 1, 'Q1-Dataset/pg64317.txt': 1, 'Q1-Dataset/pg70815.txt': 2, 'Q1-Dataset/1080-0.txt': 1, 'Q1-Dataset/pg70817.txt': 1, 'Q1-Dataset/pg1998.txt': 1}, 'since': {'Q1-Dataset/pg1513.txt': 7, 'Q1-Dataset/2160-0.txt': 37, 'Q1-Dataset/pg11.txt': 4, 'Q1-Dataset/pg2600.txt': 159, 'Q1-Dataset/pg345.txt': 79, 'Q1-Dataset/pg64317.txt': 10, 'Q1-Dataset/pg70815.txt': 60, 'Q1-Dataset/1080-0.txt': 1, 'Q1-Dataset/pg70817.txt': 8, 'Q1-Dataset/pg1998.txt': 14}, 'concept': {'Q1-Dataset/pg1513.txt': 2, 'Q1-Dataset/2160-0.txt': 2, 'Q1-Dataset/pg11.txt': 2, 'Q1-Dataset/pg2600.txt': 3, 'Q1-Dataset/pg345.txt': 2, 'Q1-Dataset/pg64317.txt': 2, 'Q1-Dataset/pg70815.txt': 2, 'Q1-Dataset/1080-0.txt': 2, 'Q1-Dataset/pg70817.txt': 2, 'Q1-Dataset/pg1998.txt': 3}, 'WORK': {'Q1-Dataset/pg1513.txt': 1, 'Q1-Dataset/2160-0.txt': 1, 'Q1-Dataset/pg11.txt': 1, 'Q1-Dataset/pg2600.txt': 1, 'Q1-Dataset/pg345.txt': 1, 'Q1-Dataset/pg64317.txt': 1, 'Q1-Dataset/pg70815.txt': 1, 'Q1-Dataset/1080-0.txt': 1, 'Q1-Dataset/pg70817.txt': 1, 'Q1-Dataset/pg1998.txt': 1}, 'except': {'Q1-Dataset/pg1513.txt': 1, 'Q1-Dataset/2160-0.txt': 27, 'Q1-Dataset/pg11.txt': 5, 'Q1-Dataset/pg2600.txt': 67, 'Q1-Dataset/pg345.txt': 32, 'Q1-Dataset/pg64317.txt': 16, 'Q1-Dataset/pg70815.txt': 16, 'Q1-Dataset/1080-0.txt': 3, 'Q1-Dataset/pg70817.txt': 5, 'Q1-Dataset/pg1998.txt': 19}, 'defective': {'Q1-Dataset/pg1513.txt': 2, 'Q1-Dataset/2160-0.txt': 4, 'Q1-Dataset/pg11.txt': 2, 'Q1-Dataset/pg2600.txt': 3, 'Q1-Dataset/pg345.txt': 2, 'Q1-Dataset/pg64317.txt': 2, 'Q1-Dataset/pg70815.txt': 2, 'Q1-Dataset/1080-0.txt': 2, 'Q1-Dataset/pg70817.txt': 2, 'Q1-Dataset/pg1998.txt': 2}, 'States.': {'Q1-Dataset/pg1513.txt': 4, 'Q1-Dataset/2160-0.txt': 4, 'Q1-Dataset/pg11.txt': 4, 'Q1-Dataset/pg2600.txt': 4, 'Q1-Dataset/pg345.txt': 4, 'Q1-Dataset/pg64317.txt': 4, 'Q1-Dataset/pg70815.txt': 4, 'Q1-Dataset/1080-0.txt': 4, 'Q1-Dataset/pg70817.txt': 4, 'Q1-Dataset/pg1998.txt': 4}, 'maximum': {'Q1-Dataset/pg1513.txt': 1, 'Q1-Dataset/2160-0.txt': 1, 'Q1-Dataset/pg11.txt': 1, 'Q1-Dataset/pg2600.txt': 3, 'Q1-Dataset/pg345.txt': 1, 'Q1-Dataset/pg64317.txt': 1, 'Q1-Dataset/pg70815.txt': 2, 'Q1-Dataset/1080-0.txt': 1, 'Q1-Dataset/pg70817.txt': 1, 'Q1-Dataset/pg1998.txt': 1}, 'WITH': {'Q1-Dataset/pg1513.txt': 1, 'Q1-Dataset/2160-0.txt': 1, 'Q1-Dataset/pg11.txt': 1, 'Q1-Dataset/pg2600.txt': 1, 'Q1-Dataset/pg345.txt': 1, 'Q1-Dataset/pg64317.txt': 1, 'Q1-Dataset/pg70815.txt': 1, 'Q1-Dataset/1080-0.txt': 1, 'Q1-Dataset/pg70817.txt': 1, 'Q1-Dataset/pg1998.txt': 7}, 'physical': {'Q1-Dataset/pg1513.txt': 2, 'Q1-Dataset/2160-0.txt': 2, 'Q1-Dataset/pg11.txt': 2, 'Q1-Dataset/pg2600.txt': 35, 'Q1-Dataset/pg345.txt': 9, 'Q1-Dataset/pg64317.txt': 10, 'Q1-Dataset/pg70815.txt': 9, 'Q1-Dataset/1080-0.txt': 2, 'Q1-Dataset/pg70817.txt': 4, 'Q1-Dataset/pg1998.txt': 4}, 'body': {'Q1-Dataset/pg1513.txt': 6, 'Q1-Dataset/2160-0.txt': 27, 'Q1-Dataset/pg11.txt': 2, 'Q1-Dataset/pg2600.txt': 66, 'Q1-Dataset/pg345.txt': 40, 'Q1-Dataset/pg64317.txt': 11, 'Q1-Dataset/pg70815.txt': 49, 'Q1-Dataset/1080-0.txt': 1, 'Q1-Dataset/pg70817.txt': 4, 'Q1-Dataset/pg1998.txt': 39}, 'In': {'Q1-Dataset/pg1513.txt': 33, 'Q1-Dataset/2160-0.txt': 88, 'Q1-Dataset/pg11.txt': 6, 'Q1-Dataset/pg2600.txt': 504, 'Q1-Dataset/pg345.txt': 89, 'Q1-Dataset/pg64317.txt': 27, 'Q1-Dataset/pg70815.txt': 43, 'Q1-Dataset/1080-0.txt': 1, 'Q1-Dataset/pg70817.txt': 32, 'Q1-Dataset/pg1998.txt': 142}, 'under': {'Q1-Dataset/pg1513.txt': 9, 'Q1-Dataset/2160-0.txt': 111, 'Q1-Dataset/pg11.txt': 21, 'Q1-Dataset/pg2600.txt': 360, 'Q1-Dataset/pg345.txt': 62, 'Q1-Dataset/pg64317.txt': 35, 'Q1-Dataset/pg70815.txt': 19, 'Q1-Dataset/1080-0.txt': 9, 'Q1-Dataset/pg70817.txt': 16, 'Q1-Dataset/pg1998.txt': 29}, 'West,': {'Q1-Dataset/pg1513.txt': 1, 'Q1-Dataset/2160-0.txt': 1, 'Q1-Dataset/pg11.txt': 1, 'Q1-Dataset/pg2600.txt': 1, 'Q1-Dataset/pg345.txt': 2, 'Q1-Dataset/pg64317.txt': 3, 'Q1-Dataset/pg70815.txt': 1, 'Q1-Dataset/1080-0.txt': 1, 'Q1-Dataset/pg70817.txt': 1, 'Q1-Dataset/pg1998.txt': 1}, '1.E.7.': {'Q1-Dataset/pg1513.txt': 1, 'Q1-Dataset/2160-0.txt': 1, 'Q1-Dataset/pg11.txt': 1, 'Q1-Dataset/pg2600.txt': 1, 'Q1-Dataset/pg345.txt': 1, 'Q1-Dataset/pg64317.txt': 1, 'Q1-Dataset/pg70815.txt': 1, 'Q1-Dataset/1080-0.txt': 1, 'Q1-Dataset/pg70817.txt': 1, 'Q1-Dataset/pg1998.txt': 1}, '1.F.4.': {'Q1-Dataset/pg1513.txt': 1, 'Q1-Dataset/2160-0.txt': 1, 'Q1-Dataset/pg11.txt': 1, 'Q1-Dataset/pg2600.txt': 1, 'Q1-Dataset/pg345.txt': 1, 'Q1-Dataset/pg64317.txt': 1, 'Q1-Dataset/pg70815.txt': 1, 'Q1-Dataset/1080-0.txt': 1, 'Q1-Dataset/pg70817.txt': 1, 'Q1-Dataset/pg1998.txt': 1}, 'form.': {'Q1-Dataset/pg1513.txt': 2, 'Q1-Dataset/2160-0.txt': 2, 'Q1-Dataset/pg11.txt': 2, 'Q1-Dataset/pg2600.txt': 6, 'Q1-Dataset/pg345.txt': 3, 'Q1-Dataset/pg64317.txt': 3, 'Q1-Dataset/pg70815.txt': 2, 'Q1-Dataset/1080-0.txt': 2, 'Q1-Dataset/pg70817.txt': 2, 'Q1-Dataset/pg1998.txt': 4}, 'methods': {'Q1-Dataset/pg1513.txt': 1, 'Q1-Dataset/2160-0.txt': 1, 'Q1-Dataset/pg11.txt': 1, 'Q1-Dataset/pg2600.txt': 7, 'Q1-Dataset/pg345.txt': 1, 'Q1-Dataset/pg64317.txt': 1, 'Q1-Dataset/pg70815.txt': 2, 'Q1-Dataset/1080-0.txt': 2, 'Q1-Dataset/pg70817.txt': 1, 'Q1-Dataset/pg1998.txt': 1}, 'wish': {'Q1-Dataset/pg1513.txt': 5, 'Q1-Dataset/2160-0.txt': 22, 'Q1-Dataset/pg11.txt': 22, 'Q1-Dataset/pg2600.txt': 165, 'Q1-Dataset/pg345.txt': 43, 'Q1-Dataset/pg64317.txt': 3, 'Q1-Dataset/pg70815.txt': 15, 'Q1-Dataset/1080-0.txt': 1, 'Q1-Dataset/pg70817.txt': 3, 'Q1-Dataset/pg1998.txt': 20}, 'so': {'Q1-Dataset/pg1513.txt': 94, 'Q1-Dataset/2160-0.txt': 573, 'Q1-Dataset/pg11.txt': 104, 'Q1-Dataset/pg2600.txt': 1461, 'Q1-Dataset/pg345.txt': 928, 'Q1-Dataset/pg64317.txt': 106, 'Q1-Dataset/pg70815.txt': 200, 'Q1-Dataset/1080-0.txt': 15, 'Q1-Dataset/pg70817.txt': 48, 'Q1-Dataset/pg1998.txt': 235}, 'constant': {'Q1-Dataset/pg1513.txt': 1, 'Q1-Dataset/2160-0.txt': 11, 'Q1-Dataset/pg11.txt': 3, 'Q1-Dataset/pg2600.txt': 18, 'Q1-Dataset/pg345.txt': 3, 'Q1-Dataset/pg64317.txt': 4, 'Q1-Dataset/pg70815.txt': 8, 'Q1-Dataset/1080-0.txt': 3, 'Q1-Dataset/pg70817.txt': 2, 'Q1-Dataset/pg1998.txt': 1}, 'Many': {'Q1-Dataset/pg1513.txt': 3, 'Q1-Dataset/2160-0.txt': 1, 'Q1-Dataset/pg11.txt': 1, 'Q1-Dataset/pg2600.txt': 15, 'Q1-Dataset/pg345.txt': 2, 'Q1-Dataset/pg64317.txt': 1, 'Q1-Dataset/pg70815.txt': 4, 'Q1-Dataset/1080-0.txt': 2, 'Q1-Dataset/pg70817.txt': 1, 'Q1-Dataset/pg1998.txt': 27}, 'outside': {'Q1-Dataset/pg1513.txt': 2, 'Q1-Dataset/2160-0.txt': 5, 'Q1-Dataset/pg11.txt': 2, 'Q1-Dataset/pg2600.txt': 38, 'Q1-Dataset/pg345.txt': 23, 'Q1-Dataset/pg64317.txt': 9, 'Q1-Dataset/pg70815.txt': 5, 'Q1-Dataset/1080-0.txt': 2, 'Q1-Dataset/pg70817.txt': 10, 'Q1-Dataset/pg1998.txt': 4}, 'applicable': {'Q1-Dataset/pg1513.txt': 3, 'Q1-Dataset/2160-0.txt': 4, 'Q1-Dataset/pg11.txt': 3, 'Q1-Dataset/pg2600.txt': 4, 'Q1-Dataset/pg345.txt': 3, 'Q1-Dataset/pg64317.txt': 3, 'Q1-Dataset/pg70815.txt': 3, 'Q1-Dataset/1080-0.txt': 3, 'Q1-Dataset/pg70817.txt': 3, 'Q1-Dataset/pg1998.txt': 3}, 'possessed': {'Q1-Dataset/pg1513.txt': 1, 'Q1-Dataset/2160-0.txt': 8, 'Q1-Dataset/pg11.txt': 1, 'Q1-Dataset/pg2600.txt': 19, 'Q1-Dataset/pg345.txt': 1, 'Q1-Dataset/pg64317.txt': 4, 'Q1-Dataset/pg70815.txt': 4, 'Q1-Dataset/1080-0.txt': 1, 'Q1-Dataset/pg70817.txt': 5, 'Q1-Dataset/pg1998.txt': 4}, 'or': {'Q1-Dataset/pg1513.txt': 104, 'Q1-Dataset/2160-0.txt': 467, 'Q1-Dataset/pg11.txt': 137, 'Q1-Dataset/pg2600.txt': 1536, 'Q1-Dataset/pg345.txt': 509, 'Q1-Dataset/pg64317.txt': 156, 'Q1-Dataset/pg70815.txt': 281, 'Q1-Dataset/1080-0.txt': 103, 'Q1-Dataset/pg70817.txt': 113, 'Q1-Dataset/pg1998.txt': 217}, '1.A.': {'Q1-Dataset/pg1513.txt': 1, 'Q1-Dataset/2160-0.txt': 1, 'Q1-Dataset/pg11.txt': 1, 'Q1-Dataset/pg2600.txt': 1, 'Q1-Dataset/pg345.txt': 1, 'Q1-Dataset/pg64317.txt': 1, 'Q1-Dataset/pg70815.txt': 1, 'Q1-Dataset/1080-0.txt': 1, 'Q1-Dataset/pg70817.txt': 1, 'Q1-Dataset/pg1998.txt': 1}, 'identification': {'Q1-Dataset/pg1513.txt': 1, 'Q1-Dataset/2160-0.txt': 1, 'Q1-Dataset/pg11.txt': 1, 'Q1-Dataset/pg2600.txt': 2, 'Q1-Dataset/pg345.txt': 1, 'Q1-Dataset/pg64317.txt': 1, 'Q1-Dataset/pg70815.txt': 1, 'Q1-Dataset/1080-0.txt': 1, 'Q1-Dataset/pg70817.txt': 1, 'Q1-Dataset/pg1998.txt': 1}, 'EXCEPT': {'Q1-Dataset/pg1513.txt': 1, 'Q1-Dataset/2160-0.txt': 1, 'Q1-Dataset/pg11.txt': 1, 'Q1-Dataset/pg2600.txt': 1, 'Q1-Dataset/pg345.txt': 1, 'Q1-Dataset/pg64317.txt': 1, 'Q1-Dataset/pg70815.txt': 1, 'Q1-Dataset/1080-0.txt': 1, 'Q1-Dataset/pg70817.txt': 1, 'Q1-Dataset/pg1998.txt': 1}, 'previous': {'Q1-Dataset/pg1513.txt': 1, 'Q1-Dataset/2160-0.txt': 2, 'Q1-Dataset/pg11.txt': 1, 'Q1-Dataset/pg2600.txt': 39, 'Q1-Dataset/pg345.txt': 8, 'Q1-Dataset/pg64317.txt': 1, 'Q1-Dataset/pg70815.txt': 2, 'Q1-Dataset/1080-0.txt': 1, 'Q1-Dataset/pg70817.txt': 3, 'Q1-Dataset/pg1998.txt': 5}, 'ANYTHING': {'Q1-Dataset/pg1513.txt': 1, 'Q1-Dataset/2160-0.txt': 1, 'Q1-Dataset/pg11.txt': 1, 'Q1-Dataset/pg2600.txt': 1, 'Q1-Dataset/pg345.txt': 1, 'Q1-Dataset/pg64317.txt': 1, 'Q1-Dataset/pg70815.txt': 1, 'Q1-Dataset/1080-0.txt': 1, 'Q1-Dataset/pg70817.txt': 1, 'Q1-Dataset/pg1998.txt': 1}, 'www.gutenberg.org/donate': {'Q1-Dataset/pg1513.txt': 2, 'Q1-Dataset/2160-0.txt': 2, 'Q1-Dataset/pg11.txt': 2, 'Q1-Dataset/pg2600.txt': 2, 'Q1-Dataset/pg345.txt': 2, 'Q1-Dataset/pg64317.txt': 2, 'Q1-Dataset/pg70815.txt': 2, 'Q1-Dataset/1080-0.txt': 2, 'Q1-Dataset/pg70817.txt': 2, 'Q1-Dataset/pg1998.txt': 2}, 'exporting': {'Q1-Dataset/pg1513.txt': 1, 'Q1-Dataset/2160-0.txt': 1, 'Q1-Dataset/pg11.txt': 1, 'Q1-Dataset/pg2600.txt': 1, 'Q1-Dataset/pg345.txt': 1, 'Q1-Dataset/pg64317.txt': 1, 'Q1-Dataset/pg70815.txt': 1, 'Q1-Dataset/1080-0.txt': 1, 'Q1-Dataset/pg70817.txt': 1, 'Q1-Dataset/pg1998.txt': 1}, 'fees.': {'Q1-Dataset/pg1513.txt': 1, 'Q1-Dataset/2160-0.txt': 1, 'Q1-Dataset/pg11.txt': 1, 'Q1-Dataset/pg2600.txt': 1, 'Q1-Dataset/pg345.txt': 1, 'Q1-Dataset/pg64317.txt': 1, 'Q1-Dataset/pg70815.txt': 1, 'Q1-Dataset/1080-0.txt': 1, 'Q1-Dataset/pg70817.txt': 1, 'Q1-Dataset/pg1998.txt': 1}, 'fees,': {'Q1-Dataset/pg1513.txt': 1, 'Q1-Dataset/2160-0.txt': 1, 'Q1-Dataset/pg11.txt': 1, 'Q1-Dataset/pg2600.txt': 1, 'Q1-Dataset/pg345.txt': 1, 'Q1-Dataset/pg64317.txt': 1, 'Q1-Dataset/pg70815.txt': 1, 'Q1-Dataset/1080-0.txt': 1, 'Q1-Dataset/pg70817.txt': 1, 'Q1-Dataset/pg1998.txt': 1}, 'shall': {'Q1-Dataset/pg1513.txt': 92, 'Q1-Dataset/2160-0.txt': 212, 'Q1-Dataset/pg11.txt': 23, 'Q1-Dataset/pg2600.txt': 236, 'Q1-Dataset/pg345.txt': 411, 'Q1-Dataset/pg64317.txt': 4, 'Q1-Dataset/pg70815.txt': 93, 'Q1-Dataset/1080-0.txt': 8, 'Q1-Dataset/pg70817.txt': 6, 'Q1-Dataset/pg1998.txt': 197}, 'small': {'Q1-Dataset/pg1513.txt': 4, 'Q1-Dataset/2160-0.txt': 49, 'Q1-Dataset/pg11.txt': 10, 'Q1-Dataset/pg2600.txt': 156, 'Q1-Dataset/pg345.txt': 37, 'Q1-Dataset/pg64317.txt': 32, 'Q1-Dataset/pg70815.txt': 26, 'Q1-Dataset/1080-0.txt': 2, 'Q1-Dataset/pg70817.txt': 16, 'Q1-Dataset/pg1998.txt': 54}, 'found': {'Q1-Dataset/pg1513.txt': 5, 'Q1-Dataset/2160-0.txt': 118, 'Q1-Dataset/pg11.txt': 31, 'Q1-Dataset/pg2600.txt': 211, 'Q1-Dataset/pg345.txt': 144, 'Q1-Dataset/pg64317.txt': 35, 'Q1-Dataset/pg70815.txt': 72, 'Q1-Dataset/1080-0.txt': 5, 'Q1-Dataset/pg70817.txt': 25, 'Q1-Dataset/pg1998.txt': 79}, 'whom': {'Q1-Dataset/pg1513.txt': 4, 'Q1-Dataset/2160-0.txt': 129, 'Q1-Dataset/pg11.txt': 2, 'Q1-Dataset/pg2600.txt': 370, 'Q1-Dataset/pg345.txt': 38, 'Q1-Dataset/pg64317.txt': 10, 'Q1-Dataset/pg70815.txt': 21, 'Q1-Dataset/1080-0.txt': 2, 'Q1-Dataset/pg70817.txt': 2, 'Q1-Dataset/pg1998.txt': 93}, 'Title:': {'Q1-Dataset/pg1513.txt': 1, 'Q1-Dataset/2160-0.txt': 1, 'Q1-Dataset/pg11.txt': 1, 'Q1-Dataset/pg2600.txt': 1, 'Q1-Dataset/pg345.txt': 1, 'Q1-Dataset/pg64317.txt': 1, 'Q1-Dataset/pg70815.txt': 1, 'Q1-Dataset/1080-0.txt': 1, 'Q1-Dataset/pg70817.txt': 1, 'Q1-Dataset/pg1998.txt': 1}, 'DISCLAIMER': {'Q1-Dataset/pg1513.txt': 1, 'Q1-Dataset/2160-0.txt': 1, 'Q1-Dataset/pg11.txt': 1, 'Q1-Dataset/pg2600.txt': 1, 'Q1-Dataset/pg345.txt': 1, 'Q1-Dataset/pg64317.txt': 1, 'Q1-Dataset/pg70815.txt': 1, 'Q1-Dataset/1080-0.txt': 1, 'Q1-Dataset/pg70817.txt': 1, 'Q1-Dataset/pg1998.txt': 1}, 'employees': {'Q1-Dataset/pg1513.txt': 1, 'Q1-Dataset/2160-0.txt': 2, 'Q1-Dataset/pg11.txt': 1, 'Q1-Dataset/pg2600.txt': 1, 'Q1-Dataset/pg345.txt': 1, 'Q1-Dataset/pg64317.txt': 1, 'Q1-Dataset/pg70815.txt': 1, 'Q1-Dataset/1080-0.txt': 1, 'Q1-Dataset/pg70817.txt': 1, 'Q1-Dataset/pg1998.txt': 1}, 'He': {'Q1-Dataset/pg1513.txt': 19, 'Q1-Dataset/2160-0.txt': 169, 'Q1-Dataset/pg11.txt': 14, 'Q1-Dataset/pg2600.txt': 1667, 'Q1-Dataset/pg345.txt': 561, 'Q1-Dataset/pg64317.txt': 209, 'Q1-Dataset/pg70815.txt': 145, 'Q1-Dataset/1080-0.txt': 1, 'Q1-Dataset/pg70817.txt': 197, 'Q1-Dataset/pg1998.txt': 111}, 'READ': {'Q1-Dataset/pg1513.txt': 1, 'Q1-Dataset/2160-0.txt': 1, 'Q1-Dataset/pg11.txt': 1, 'Q1-Dataset/pg2600.txt': 1, 'Q1-Dataset/pg345.txt': 1, 'Q1-Dataset/pg64317.txt': 1, 'Q1-Dataset/pg70815.txt': 1, 'Q1-Dataset/1080-0.txt': 1, 'Q1-Dataset/pg70817.txt': 1, 'Q1-Dataset/pg1998.txt': 1}, 'discontinue': {'Q1-Dataset/pg1513.txt': 1, 'Q1-Dataset/2160-0.txt': 1, 'Q1-Dataset/pg11.txt': 1, 'Q1-Dataset/pg2600.txt': 1, 'Q1-Dataset/pg345.txt': 1, 'Q1-Dataset/pg64317.txt': 1, 'Q1-Dataset/pg70815.txt': 1, 'Q1-Dataset/1080-0.txt': 1, 'Q1-Dataset/pg70817.txt': 1, 'Q1-Dataset/pg1998.txt': 2}, 'equipment.': {'Q1-Dataset/pg1513.txt': 2, 'Q1-Dataset/2160-0.txt': 2, 'Q1-Dataset/pg11.txt': 2, 'Q1-Dataset/pg2600.txt': 3, 'Q1-Dataset/pg345.txt': 2, 'Q1-Dataset/pg64317.txt': 2, 'Q1-Dataset/pg70815.txt': 2, 'Q1-Dataset/1080-0.txt': 2, 'Q1-Dataset/pg70817.txt': 2, 'Q1-Dataset/pg1998.txt': 2}, 'variety': {'Q1-Dataset/pg1513.txt': 1, 'Q1-Dataset/2160-0.txt': 18, 'Q1-Dataset/pg11.txt': 1, 'Q1-Dataset/pg2600.txt': 10, 'Q1-Dataset/pg345.txt': 1, 'Q1-Dataset/pg64317.txt': 2, 'Q1-Dataset/pg70815.txt': 1, 'Q1-Dataset/1080-0.txt': 1, 'Q1-Dataset/pg70817.txt': 2, 'Q1-Dataset/pg1998.txt': 2}, 'Copyright': {'Q1-Dataset/pg1513.txt': 1, 'Q1-Dataset/2160-0.txt': 1, 'Q1-Dataset/pg11.txt': 1, 'Q1-Dataset/pg2600.txt': 1, 'Q1-Dataset/pg345.txt': 1, 'Q1-Dataset/pg64317.txt': 1, 'Q1-Dataset/pg70815.txt': 1, 'Q1-Dataset/1080-0.txt': 1, 'Q1-Dataset/pg70817.txt': 2, 'Q1-Dataset/pg1998.txt': 1}, 'about': {'Q1-Dataset/pg1513.txt': 15, 'Q1-Dataset/2160-0.txt': 132, 'Q1-Dataset/pg11.txt': 91, 'Q1-Dataset/pg2600.txt': 908, 'Q1-Dataset/pg345.txt': 216, 'Q1-Dataset/pg64317.txt': 136, 'Q1-Dataset/pg70815.txt': 115, 'Q1-Dataset/1080-0.txt': 12, 'Q1-Dataset/pg70817.txt': 53, 'Q1-Dataset/pg1998.txt': 109}, 'be': {'Q1-Dataset/pg1513.txt': 202, 'Q1-Dataset/2160-0.txt': 956, 'Q1-Dataset/pg11.txt': 155, 'Q1-Dataset/pg2600.txt': 2298, 'Q1-Dataset/pg345.txt': 1033, 'Q1-Dataset/pg64317.txt': 133, 'Q1-Dataset/pg70815.txt': 312, 'Q1-Dataset/1080-0.txt': 69, 'Q1-Dataset/pg70817.txt': 100, 'Q1-Dataset/pg1998.txt': 730}, 'first': {'Q1-Dataset/pg1513.txt': 9, 'Q1-Dataset/2160-0.txt': 106, 'Q1-Dataset/pg11.txt': 28, 'Q1-Dataset/pg2600.txt': 560, 'Q1-Dataset/pg345.txt': 99, 'Q1-Dataset/pg64317.txt': 47, 'Q1-Dataset/pg70815.txt': 83, 'Q1-Dataset/1080-0.txt': 2, 'Q1-Dataset/pg70817.txt': 18, 'Q1-Dataset/pg1998.txt': 107}, 'support.': {'Q1-Dataset/pg1513.txt': 1, 'Q1-Dataset/2160-0.txt': 3, 'Q1-Dataset/pg11.txt': 1, 'Q1-Dataset/pg2600.txt': 3, 'Q1-Dataset/pg345.txt': 1, 'Q1-Dataset/pg64317.txt': 1, 'Q1-Dataset/pg70815.txt': 3, 'Q1-Dataset/1080-0.txt': 1, 'Q1-Dataset/pg70817.txt': 1, 'Q1-Dataset/pg1998.txt': 1}, 'included.': {'Q1-Dataset/pg1513.txt': 1, 'Q1-Dataset/2160-0.txt': 1, 'Q1-Dataset/pg11.txt': 1, 'Q1-Dataset/pg2600.txt': 1, 'Q1-Dataset/pg345.txt': 2, 'Q1-Dataset/pg64317.txt': 1, 'Q1-Dataset/pg70815.txt': 1, 'Q1-Dataset/1080-0.txt': 1, 'Q1-Dataset/pg70817.txt': 1, 'Q1-Dataset/pg1998.txt': 1}, 'original': {'Q1-Dataset/pg1513.txt': 1, 'Q1-Dataset/2160-0.txt': 16, 'Q1-Dataset/pg11.txt': 1, 'Q1-Dataset/pg2600.txt': 10, 'Q1-Dataset/pg345.txt': 5, 'Q1-Dataset/pg64317.txt': 2, 'Q1-Dataset/pg70815.txt': 2, 'Q1-Dataset/1080-0.txt': 1, 'Q1-Dataset/pg70817.txt': 2, 'Q1-Dataset/pg1998.txt': 10}, 'seem': {'Q1-Dataset/pg1513.txt': 1, 'Q1-Dataset/2160-0.txt': 27, 'Q1-Dataset/pg11.txt': 7, 'Q1-Dataset/pg2600.txt': 76, 'Q1-Dataset/pg345.txt': 65, 'Q1-Dataset/pg64317.txt': 4, 'Q1-Dataset/pg70815.txt': 14, 'Q1-Dataset/1080-0.txt': 1, 'Q1-Dataset/pg70817.txt': 4, 'Q1-Dataset/pg1998.txt': 31}, 'IN': {'Q1-Dataset/pg1513.txt': 1, 'Q1-Dataset/2160-0.txt': 1, 'Q1-Dataset/pg11.txt': 3, 'Q1-Dataset/pg2600.txt': 1, 'Q1-Dataset/pg345.txt': 2, 'Q1-Dataset/pg64317.txt': 1, 'Q1-Dataset/pg70815.txt': 3, 'Q1-Dataset/1080-0.txt': 1, 'Q1-Dataset/pg70817.txt': 3, 'Q1-Dataset/pg1998.txt': 11}, 'accept': {'Q1-Dataset/pg1513.txt': 1, 'Q1-Dataset/2160-0.txt': 7, 'Q1-Dataset/pg11.txt': 1, 'Q1-Dataset/pg2600.txt': 24, 'Q1-Dataset/pg345.txt': 13, 'Q1-Dataset/pg64317.txt': 2, 'Q1-Dataset/pg70815.txt': 6, 'Q1-Dataset/1080-0.txt': 1, 'Q1-Dataset/pg70817.txt': 2, 'Q1-Dataset/pg1998.txt': 6}, 'main': {'Q1-Dataset/pg1513.txt': 1, 'Q1-Dataset/2160-0.txt': 1, 'Q1-Dataset/pg11.txt': 1, 'Q1-Dataset/pg2600.txt': 14, 'Q1-Dataset/pg345.txt': 9, 'Q1-Dataset/pg64317.txt': 3, 'Q1-Dataset/pg70815.txt': 7, 'Q1-Dataset/1080-0.txt': 1, 'Q1-Dataset/pg70817.txt': 1, 'Q1-Dataset/pg1998.txt': 3}, 'LIABILITY,': {'Q1-Dataset/pg1513.txt': 1, 'Q1-Dataset/2160-0.txt': 1, 'Q1-Dataset/pg11.txt': 1, 'Q1-Dataset/pg2600.txt': 1, 'Q1-Dataset/pg345.txt': 1, 'Q1-Dataset/pg64317.txt': 1, 'Q1-Dataset/pg70815.txt': 1, 'Q1-Dataset/1080-0.txt': 1, 'Q1-Dataset/pg70817.txt': 1, 'Q1-Dataset/pg1998.txt': 1}, 'apply': {'Q1-Dataset/pg1513.txt': 1, 'Q1-Dataset/2160-0.txt': 4, 'Q1-Dataset/pg11.txt': 1, 'Q1-Dataset/pg2600.txt': 8, 'Q1-Dataset/pg345.txt': 2, 'Q1-Dataset/pg64317.txt': 1, 'Q1-Dataset/pg70815.txt': 2, 'Q1-Dataset/1080-0.txt': 1, 'Q1-Dataset/pg70817.txt': 1, 'Q1-Dataset/pg1998.txt': 1}, 'get': {'Q1-Dataset/pg1513.txt': 7, 'Q1-Dataset/2160-0.txt': 24, 'Q1-Dataset/pg11.txt': 43, 'Q1-Dataset/pg2600.txt': 332, 'Q1-Dataset/pg345.txt': 168, 'Q1-Dataset/pg64317.txt': 68, 'Q1-Dataset/pg70815.txt': 17, 'Q1-Dataset/1080-0.txt': 2, 'Q1-Dataset/pg70817.txt': 11, 'Q1-Dataset/pg1998.txt': 17}, 'I': {'Q1-Dataset/pg1513.txt': 551, 'Q1-Dataset/2160-0.txt': 2366, 'Q1-Dataset/pg11.txt': 249, 'Q1-Dataset/pg2600.txt': 3225, 'Q1-Dataset/pg345.txt': 4498, 'Q1-Dataset/pg64317.txt': 996, 'Q1-Dataset/pg70815.txt': 344, 'Q1-Dataset/1080-0.txt': 54, 'Q1-Dataset/pg70817.txt': 349, 'Q1-Dataset/pg1998.txt': 1659}, 'contact': {'Q1-Dataset/pg1513.txt': 2, 'Q1-Dataset/2160-0.txt': 4, 'Q1-Dataset/pg11.txt': 2, 'Q1-Dataset/pg2600.txt': 6, 'Q1-Dataset/pg345.txt': 2, 'Q1-Dataset/pg64317.txt': 5, 'Q1-Dataset/pg70815.txt': 4, 'Q1-Dataset/1080-0.txt': 2, 'Q1-Dataset/pg70817.txt': 2, 'Q1-Dataset/pg1998.txt': 2}, 'alternate': {'Q1-Dataset/pg1513.txt': 1, 'Q1-Dataset/2160-0.txt': 1, 'Q1-Dataset/pg11.txt': 1, 'Q1-Dataset/pg2600.txt': 3, 'Q1-Dataset/pg345.txt': 1, 'Q1-Dataset/pg64317.txt': 1, 'Q1-Dataset/pg70815.txt': 1, 'Q1-Dataset/1080-0.txt': 1, 'Q1-Dataset/pg70817.txt': 1, 'Q1-Dataset/pg1998.txt': 1}, 'How': {'Q1-Dataset/pg1513.txt': 29, 'Q1-Dataset/2160-0.txt': 6, 'Q1-Dataset/pg11.txt': 9, 'Q1-Dataset/pg2600.txt': 137, 'Q1-Dataset/pg345.txt': 34, 'Q1-Dataset/pg64317.txt': 3, 'Q1-Dataset/pg70815.txt': 7, 'Q1-Dataset/1080-0.txt': 1, 'Q1-Dataset/pg70817.txt': 5, 'Q1-Dataset/pg1998.txt': 59}, 'notice': {'Q1-Dataset/pg1513.txt': 3, 'Q1-Dataset/2160-0.txt': 19, 'Q1-Dataset/pg11.txt': 7, 'Q1-Dataset/pg2600.txt': 57, 'Q1-Dataset/pg345.txt': 19, 'Q1-Dataset/pg64317.txt': 5, 'Q1-Dataset/pg70815.txt': 6, 'Q1-Dataset/1080-0.txt': 2, 'Q1-Dataset/pg70817.txt': 2, 'Q1-Dataset/pg1998.txt': 4}, 'intellectual': {'Q1-Dataset/pg1513.txt': 2, 'Q1-Dataset/2160-0.txt': 2, 'Q1-Dataset/pg11.txt': 2, 'Q1-Dataset/pg2600.txt': 23, 'Q1-Dataset/pg345.txt': 6, 'Q1-Dataset/pg64317.txt': 2, 'Q1-Dataset/pg70815.txt': 2, 'Q1-Dataset/1080-0.txt': 2, 'Q1-Dataset/pg70817.txt': 2, 'Q1-Dataset/pg1998.txt': 4}, 'Volunteers': {'Q1-Dataset/pg1513.txt': 1, 'Q1-Dataset/2160-0.txt': 1, 'Q1-Dataset/pg11.txt': 1, 'Q1-Dataset/pg2600.txt': 1, 'Q1-Dataset/pg345.txt': 1, 'Q1-Dataset/pg64317.txt': 1, 'Q1-Dataset/pg70815.txt': 1, 'Q1-Dataset/1080-0.txt': 1, 'Q1-Dataset/pg70817.txt': 1, 'Q1-Dataset/pg1998.txt': 1}, 'To': {'Q1-Dataset/pg1513.txt': 86, 'Q1-Dataset/2160-0.txt': 98, 'Q1-Dataset/pg11.txt': 4, 'Q1-Dataset/pg2600.txt': 178, 'Q1-Dataset/pg345.txt': 39, 'Q1-Dataset/pg64317.txt': 9, 'Q1-Dataset/pg70815.txt': 28, 'Q1-Dataset/1080-0.txt': 4, 'Q1-Dataset/pg70817.txt': 8, 'Q1-Dataset/pg1998.txt': 118}, 'DONATIONS': {'Q1-Dataset/pg1513.txt': 1, 'Q1-Dataset/2160-0.txt': 1, 'Q1-Dataset/pg11.txt': 1, 'Q1-Dataset/pg2600.txt': 1, 'Q1-Dataset/pg345.txt': 1, 'Q1-Dataset/pg64317.txt': 1, 'Q1-Dataset/pg70815.txt': 1, 'Q1-Dataset/1080-0.txt': 1, 'Q1-Dataset/pg70817.txt': 1, 'Q1-Dataset/pg1998.txt': 1}, '(and': {'Q1-Dataset/pg1513.txt': 1, 'Q1-Dataset/2160-0.txt': 1, 'Q1-Dataset/pg11.txt': 2, 'Q1-Dataset/pg2600.txt': 12, 'Q1-Dataset/pg345.txt': 1, 'Q1-Dataset/pg64317.txt': 1, 'Q1-Dataset/pg70815.txt': 1, 'Q1-Dataset/1080-0.txt': 1, 'Q1-Dataset/pg70817.txt': 1, 'Q1-Dataset/pg1998.txt': 4}, '(if': {'Q1-Dataset/pg1513.txt': 1, 'Q1-Dataset/2160-0.txt': 4, 'Q1-Dataset/pg11.txt': 1, 'Q1-Dataset/pg2600.txt': 3, 'Q1-Dataset/pg345.txt': 1, 'Q1-Dataset/pg64317.txt': 1, 'Q1-Dataset/pg70815.txt': 1, 'Q1-Dataset/1080-0.txt': 1, 'Q1-Dataset/pg70817.txt': 1, 'Q1-Dataset/pg1998.txt': 1}, 'generations.': {'Q1-Dataset/pg1513.txt': 1, 'Q1-Dataset/2160-0.txt': 1, 'Q1-Dataset/pg11.txt': 1, 'Q1-Dataset/pg2600.txt': 1, 'Q1-Dataset/pg345.txt': 1, 'Q1-Dataset/pg64317.txt': 2, 'Q1-Dataset/pg70815.txt': 1, 'Q1-Dataset/1080-0.txt': 1, 'Q1-Dataset/pg70817.txt': 1, 'Q1-Dataset/pg1998.txt': 1}, 'there': {'Q1-Dataset/pg1513.txt': 34, 'Q1-Dataset/2160-0.txt': 225, 'Q1-Dataset/pg11.txt': 44, 'Q1-Dataset/pg2600.txt': 895, 'Q1-Dataset/pg345.txt': 508, 'Q1-Dataset/pg64317.txt': 119, 'Q1-Dataset/pg70815.txt': 204, 'Q1-Dataset/1080-0.txt': 5, 'Q1-Dataset/pg70817.txt': 42, 'Q1-Dataset/pg1998.txt': 369}, 'turn': {'Q1-Dataset/pg1513.txt': 6, 'Q1-Dataset/2160-0.txt': 26, 'Q1-Dataset/pg11.txt': 6, 'Q1-Dataset/pg2600.txt': 86, 'Q1-Dataset/pg345.txt': 26, 'Q1-Dataset/pg64317.txt': 8, 'Q1-Dataset/pg70815.txt': 20, 'Q1-Dataset/1080-0.txt': 2, 'Q1-Dataset/pg70817.txt': 8, 'Q1-Dataset/pg1998.txt': 17}, 'even': {'Q1-Dataset/pg1513.txt': 10, 'Q1-Dataset/2160-0.txt': 166, 'Q1-Dataset/pg11.txt': 18, 'Q1-Dataset/pg2600.txt': 465, 'Q1-Dataset/pg345.txt': 212, 'Q1-Dataset/pg64317.txt': 37, 'Q1-Dataset/pg70815.txt': 89, 'Q1-Dataset/1080-0.txt': 4, 'Q1-Dataset/pg70817.txt': 34, 'Q1-Dataset/pg1998.txt': 220}, 'anywhere': {'Q1-Dataset/pg1513.txt': 2, 'Q1-Dataset/2160-0.txt': 2, 'Q1-Dataset/pg11.txt': 3, 'Q1-Dataset/pg2600.txt': 14, 'Q1-Dataset/pg345.txt': 9, 'Q1-Dataset/pg64317.txt': 4, 'Q1-Dataset/pg70815.txt': 4, 'Q1-Dataset/1080-0.txt': 2, 'Q1-Dataset/pg70817.txt': 2, 'Q1-Dataset/pg1998.txt': 3}, 'told': {'Q1-Dataset/pg1513.txt': 2, 'Q1-Dataset/2160-0.txt': 70, 'Q1-Dataset/pg11.txt': 6, 'Q1-Dataset/pg2600.txt': 393, 'Q1-Dataset/pg345.txt': 135, 'Q1-Dataset/pg64317.txt': 44, 'Q1-Dataset/pg70815.txt': 26, 'Q1-Dataset/1080-0.txt': 2, 'Q1-Dataset/pg70817.txt': 12, 'Q1-Dataset/pg1998.txt': 13}, 'further': {'Q1-Dataset/pg1513.txt': 4, 'Q1-Dataset/2160-0.txt': 38, 'Q1-Dataset/pg11.txt': 2, 'Q1-Dataset/pg2600.txt': 46, 'Q1-Dataset/pg345.txt': 26, 'Q1-Dataset/pg64317.txt': 6, 'Q1-Dataset/pg70815.txt': 20, 'Q1-Dataset/1080-0.txt': 1, 'Q1-Dataset/pg70817.txt': 10, 'Q1-Dataset/pg1998.txt': 11}, 'binary,': {'Q1-Dataset/pg1513.txt': 1, 'Q1-Dataset/2160-0.txt': 1, 'Q1-Dataset/pg11.txt': 1, 'Q1-Dataset/pg2600.txt': 1, 'Q1-Dataset/pg345.txt': 1, 'Q1-Dataset/pg64317.txt': 1, 'Q1-Dataset/pg70815.txt': 1, 'Q1-Dataset/1080-0.txt': 1, 'Q1-Dataset/pg70817.txt': 1, 'Q1-Dataset/pg1998.txt': 1}, 'produced': {'Q1-Dataset/pg1513.txt': 1, 'Q1-Dataset/2160-0.txt': 33, 'Q1-Dataset/pg11.txt': 2, 'Q1-Dataset/pg2600.txt': 38, 'Q1-Dataset/pg345.txt': 8, 'Q1-Dataset/pg64317.txt': 4, 'Q1-Dataset/pg70815.txt': 1, 'Q1-Dataset/1080-0.txt': 1, 'Q1-Dataset/pg70817.txt': 1, 'Q1-Dataset/pg1998.txt': 1}, 'charge': {'Q1-Dataset/pg1513.txt': 8, 'Q1-Dataset/2160-0.txt': 12, 'Q1-Dataset/pg11.txt': 6, 'Q1-Dataset/pg2600.txt': 22, 'Q1-Dataset/pg345.txt': 13, 'Q1-Dataset/pg64317.txt': 6, 'Q1-Dataset/pg70815.txt': 18, 'Q1-Dataset/1080-0.txt': 10, 'Q1-Dataset/pg70817.txt': 6, 'Q1-Dataset/pg1998.txt': 7}, 'sharing': {'Q1-Dataset/pg1513.txt': 1, 'Q1-Dataset/2160-0.txt': 1, 'Q1-Dataset/pg11.txt': 2, 'Q1-Dataset/pg2600.txt': 8, 'Q1-Dataset/pg345.txt': 2, 'Q1-Dataset/pg64317.txt': 2, 'Q1-Dataset/pg70815.txt': 1, 'Q1-Dataset/1080-0.txt': 1, 'Q1-Dataset/pg70817.txt': 1, 'Q1-Dataset/pg1998.txt': 1}, 'North': {'Q1-Dataset/pg1513.txt': 1, 'Q1-Dataset/2160-0.txt': 5, 'Q1-Dataset/pg11.txt': 1, 'Q1-Dataset/pg2600.txt': 1, 'Q1-Dataset/pg345.txt': 5, 'Q1-Dataset/pg64317.txt': 3, 'Q1-Dataset/pg70815.txt': 2, 'Q1-Dataset/1080-0.txt': 1, 'Q1-Dataset/pg70817.txt': 1, 'Q1-Dataset/pg1998.txt': 1}, 'form,': {'Q1-Dataset/pg1513.txt': 2, 'Q1-Dataset/2160-0.txt': 6, 'Q1-Dataset/pg11.txt': 1, 'Q1-Dataset/pg2600.txt': 5, 'Q1-Dataset/pg345.txt': 4, 'Q1-Dataset/pg64317.txt': 1, 'Q1-Dataset/pg70815.txt': 1, 'Q1-Dataset/1080-0.txt': 1, 'Q1-Dataset/pg70817.txt': 3, 'Q1-Dataset/pg1998.txt': 5}, 'eBook,': {'Q1-Dataset/pg1513.txt': 2, 'Q1-Dataset/2160-0.txt': 1, 'Q1-Dataset/pg11.txt': 2, 'Q1-Dataset/pg2600.txt': 2, 'Q1-Dataset/pg345.txt': 2, 'Q1-Dataset/pg64317.txt': 2, 'Q1-Dataset/pg70815.txt': 2, 'Q1-Dataset/1080-0.txt': 2, 'Q1-Dataset/pg70817.txt': 2, 'Q1-Dataset/pg1998.txt': 2}, 'confirmed': {'Q1-Dataset/pg1513.txt': 1, 'Q1-Dataset/2160-0.txt': 11, 'Q1-Dataset/pg11.txt': 1, 'Q1-Dataset/pg2600.txt': 19, 'Q1-Dataset/pg345.txt': 2, 'Q1-Dataset/pg64317.txt': 3, 'Q1-Dataset/pg70815.txt': 1, 'Q1-Dataset/1080-0.txt': 1, 'Q1-Dataset/pg70817.txt': 1, 'Q1-Dataset/pg1998.txt': 1}, 'NO': {'Q1-Dataset/pg1513.txt': 2, 'Q1-Dataset/2160-0.txt': 2, 'Q1-Dataset/pg11.txt': 2, 'Q1-Dataset/pg2600.txt': 2, 'Q1-Dataset/pg345.txt': 2, 'Q1-Dataset/pg64317.txt': 2, 'Q1-Dataset/pg70815.txt': 2, 'Q1-Dataset/1080-0.txt': 2, 'Q1-Dataset/pg70817.txt': 2, 'Q1-Dataset/pg1998.txt': 5}, 'They': {'Q1-Dataset/pg1513.txt': 9, 'Q1-Dataset/2160-0.txt': 41, 'Q1-Dataset/pg11.txt': 9, 'Q1-Dataset/pg2600.txt': 356, 'Q1-Dataset/pg345.txt': 85, 'Q1-Dataset/pg64317.txt': 33, 'Q1-Dataset/pg70815.txt': 72, 'Q1-Dataset/1080-0.txt': 1, 'Q1-Dataset/pg70817.txt': 27, 'Q1-Dataset/pg1998.txt': 74}, '1.E': {'Q1-Dataset/pg1513.txt': 1, 'Q1-Dataset/2160-0.txt': 1, 'Q1-Dataset/pg11.txt': 1, 'Q1-Dataset/pg2600.txt': 1, 'Q1-Dataset/pg345.txt': 1, 'Q1-Dataset/pg64317.txt': 1, 'Q1-Dataset/pg70815.txt': 1, 'Q1-Dataset/1080-0.txt': 1, 'Q1-Dataset/pg70817.txt': 1, 'Q1-Dataset/pg1998.txt': 1}, 'copied': {'Q1-Dataset/pg1513.txt': 2, 'Q1-Dataset/2160-0.txt': 2, 'Q1-Dataset/pg11.txt': 2, 'Q1-Dataset/pg2600.txt': 6, 'Q1-Dataset/pg345.txt': 6, 'Q1-Dataset/pg64317.txt': 2, 'Q1-Dataset/pg70815.txt': 2, 'Q1-Dataset/1080-0.txt': 2, 'Q1-Dataset/pg70817.txt': 2, 'Q1-Dataset/pg1998.txt': 2}, 'GIVE': {'Q1-Dataset/pg1513.txt': 1, 'Q1-Dataset/2160-0.txt': 1, 'Q1-Dataset/pg11.txt': 1, 'Q1-Dataset/pg2600.txt': 1, 'Q1-Dataset/pg345.txt': 1, 'Q1-Dataset/pg64317.txt': 1, 'Q1-Dataset/pg70815.txt': 1, 'Q1-Dataset/1080-0.txt': 1, 'Q1-Dataset/pg70817.txt': 1, 'Q1-Dataset/pg1998.txt': 1}, 'read,': {'Q1-Dataset/pg1513.txt': 1, 'Q1-Dataset/2160-0.txt': 4, 'Q1-Dataset/pg11.txt': 1, 'Q1-Dataset/pg2600.txt': 10, 'Q1-Dataset/pg345.txt': 4, 'Q1-Dataset/pg64317.txt': 3, 'Q1-Dataset/pg70815.txt': 1, 'Q1-Dataset/1080-0.txt': 1, 'Q1-Dataset/pg70817.txt': 4, 'Q1-Dataset/pg1998.txt': 3}, 'own': {'Q1-Dataset/pg1513.txt': 11, 'Q1-Dataset/2160-0.txt': 297, 'Q1-Dataset/pg11.txt': 9, 'Q1-Dataset/pg2600.txt': 444, 'Q1-Dataset/pg345.txt': 168, 'Q1-Dataset/pg64317.txt': 26, 'Q1-Dataset/pg70815.txt': 63, 'Q1-Dataset/1080-0.txt': 8, 'Q1-Dataset/pg70817.txt': 20, 'Q1-Dataset/pg1998.txt': 114}, 'online': {'Q1-Dataset/pg1513.txt': 4, 'Q1-Dataset/2160-0.txt': 4, 'Q1-Dataset/pg11.txt': 4, 'Q1-Dataset/pg2600.txt': 4, 'Q1-Dataset/pg345.txt': 4, 'Q1-Dataset/pg64317.txt': 4, 'Q1-Dataset/pg70815.txt': 4, 'Q1-Dataset/1080-0.txt': 4, 'Q1-Dataset/pg70817.txt': 4, 'Q1-Dataset/pg1998.txt': 4}, 'DAMAGES': {'Q1-Dataset/pg1513.txt': 2, 'Q1-Dataset/2160-0.txt': 2, 'Q1-Dataset/pg11.txt': 2, 'Q1-Dataset/pg2600.txt': 2, 'Q1-Dataset/pg345.txt': 2, 'Q1-Dataset/pg64317.txt': 2, 'Q1-Dataset/pg70815.txt': 2, 'Q1-Dataset/1080-0.txt': 2, 'Q1-Dataset/pg70817.txt': 2, 'Q1-Dataset/pg1998.txt': 2}, 'International': {'Q1-Dataset/pg1513.txt': 1, 'Q1-Dataset/2160-0.txt': 1, 'Q1-Dataset/pg11.txt': 1, 'Q1-Dataset/pg2600.txt': 1, 'Q1-Dataset/pg345.txt': 2, 'Q1-Dataset/pg64317.txt': 1, 'Q1-Dataset/pg70815.txt': 1, 'Q1-Dataset/1080-0.txt': 1, 'Q1-Dataset/pg70817.txt': 1, 'Q1-Dataset/pg1998.txt': 1}, 'more': {'Q1-Dataset/pg1513.txt': 48, 'Q1-Dataset/2160-0.txt': 276, 'Q1-Dataset/pg11.txt': 39, 'Q1-Dataset/pg2600.txt': 920, 'Q1-Dataset/pg345.txt': 325, 'Q1-Dataset/pg64317.txt': 60, 'Q1-Dataset/pg70815.txt': 120, 'Q1-Dataset/1080-0.txt': 7, 'Q1-Dataset/pg70817.txt': 34, 'Q1-Dataset/pg1998.txt': 192}, 'deletions': {'Q1-Dataset/pg1513.txt': 1, 'Q1-Dataset/2160-0.txt': 1, 'Q1-Dataset/pg11.txt': 1, 'Q1-Dataset/pg2600.txt': 1, 'Q1-Dataset/pg345.txt': 1, 'Q1-Dataset/pg64317.txt': 1, 'Q1-Dataset/pg70815.txt': 1, 'Q1-Dataset/1080-0.txt': 1, 'Q1-Dataset/pg70817.txt': 1, 'Q1-Dataset/pg1998.txt': 1}, '1.F.2.': {'Q1-Dataset/pg1513.txt': 1, 'Q1-Dataset/2160-0.txt': 1, 'Q1-Dataset/pg11.txt': 1, 'Q1-Dataset/pg2600.txt': 1, 'Q1-Dataset/pg345.txt': 1, 'Q1-Dataset/pg64317.txt': 1, 'Q1-Dataset/pg70815.txt': 1, 'Q1-Dataset/1080-0.txt': 1, 'Q1-Dataset/pg70817.txt': 1, 'Q1-Dataset/pg1998.txt': 1}, 'OF': {'Q1-Dataset/pg1513.txt': 11, 'Q1-Dataset/2160-0.txt': 14, 'Q1-Dataset/pg11.txt': 11, 'Q1-Dataset/pg2600.txt': 11, 'Q1-Dataset/pg345.txt': 15, 'Q1-Dataset/pg64317.txt': 10, 'Q1-Dataset/pg70815.txt': 15, 'Q1-Dataset/1080-0.txt': 10, 'Q1-Dataset/pg70817.txt': 10, 'Q1-Dataset/pg1998.txt': 39}, 'ask': {'Q1-Dataset/pg1513.txt': 3, 'Q1-Dataset/2160-0.txt': 8, 'Q1-Dataset/pg11.txt': 7, 'Q1-Dataset/pg2600.txt': 165, 'Q1-Dataset/pg345.txt': 59, 'Q1-Dataset/pg64317.txt': 14, 'Q1-Dataset/pg70815.txt': 7, 'Q1-Dataset/1080-0.txt': 1, 'Q1-Dataset/pg70817.txt': 1, 'Q1-Dataset/pg1998.txt': 18}, 'redistribute': {'Q1-Dataset/pg1513.txt': 1, 'Q1-Dataset/2160-0.txt': 1, 'Q1-Dataset/pg11.txt': 1, 'Q1-Dataset/pg2600.txt': 1, 'Q1-Dataset/pg345.txt': 1, 'Q1-Dataset/pg64317.txt': 1, 'Q1-Dataset/pg70815.txt': 1, 'Q1-Dataset/1080-0.txt': 1, 'Q1-Dataset/pg70817.txt': 1, 'Q1-Dataset/pg1998.txt': 1}, 'implied': {'Q1-Dataset/pg1513.txt': 1, 'Q1-Dataset/2160-0.txt': 3, 'Q1-Dataset/pg11.txt': 1, 'Q1-Dataset/pg2600.txt': 3, 'Q1-Dataset/pg345.txt': 2, 'Q1-Dataset/pg64317.txt': 2, 'Q1-Dataset/pg70815.txt': 1, 'Q1-Dataset/1080-0.txt': 1, 'Q1-Dataset/pg70817.txt': 1, 'Q1-Dataset/pg1998.txt': 1}, 'PROVIDED': {'Q1-Dataset/pg1513.txt': 1, 'Q1-Dataset/2160-0.txt': 1, 'Q1-Dataset/pg11.txt': 1, 'Q1-Dataset/pg2600.txt': 1, 'Q1-Dataset/pg345.txt': 1, 'Q1-Dataset/pg64317.txt': 1, 'Q1-Dataset/pg70815.txt': 1, 'Q1-Dataset/1080-0.txt': 1, 'Q1-Dataset/pg70817.txt': 1, 'Q1-Dataset/pg1998.txt': 1}, 'TO': {'Q1-Dataset/pg1513.txt': 2, 'Q1-Dataset/2160-0.txt': 4, 'Q1-Dataset/pg11.txt': 2, 'Q1-Dataset/pg2600.txt': 2, 'Q1-Dataset/pg345.txt': 3, 'Q1-Dataset/pg64317.txt': 2, 'Q1-Dataset/pg70815.txt': 3, 'Q1-Dataset/1080-0.txt': 2, 'Q1-Dataset/pg70817.txt': 2, 'Q1-Dataset/pg1998.txt': 26}, 'anyone.': {'Q1-Dataset/pg1513.txt': 1, 'Q1-Dataset/2160-0.txt': 1, 'Q1-Dataset/pg11.txt': 1, 'Q1-Dataset/pg2600.txt': 20, 'Q1-Dataset/pg345.txt': 1, 'Q1-Dataset/pg64317.txt': 2, 'Q1-Dataset/pg70815.txt': 1, 'Q1-Dataset/1080-0.txt': 1, 'Q1-Dataset/pg70817.txt': 2, 'Q1-Dataset/pg1998.txt': 1}, 'alteration,': {'Q1-Dataset/pg1513.txt': 1, 'Q1-Dataset/2160-0.txt': 1, 'Q1-Dataset/pg11.txt': 1, 'Q1-Dataset/pg2600.txt': 1, 'Q1-Dataset/pg345.txt': 1, 'Q1-Dataset/pg64317.txt': 1, 'Q1-Dataset/pg70815.txt': 1, 'Q1-Dataset/1080-0.txt': 1, 'Q1-Dataset/pg70817.txt': 1, 'Q1-Dataset/pg1998.txt': 1}, 'very': {'Q1-Dataset/pg1513.txt': 25, 'Q1-Dataset/2160-0.txt': 357, 'Q1-Dataset/pg11.txt': 126, 'Q1-Dataset/pg2600.txt': 748, 'Q1-Dataset/pg345.txt': 266, 'Q1-Dataset/pg64317.txt': 54, 'Q1-Dataset/pg70815.txt': 65, 'Q1-Dataset/1080-0.txt': 11, 'Q1-Dataset/pg70817.txt': 31, 'Q1-Dataset/pg1998.txt': 78}, 'CONSEQUENTIAL,': {'Q1-Dataset/pg1513.txt': 1, 'Q1-Dataset/2160-0.txt': 1, 'Q1-Dataset/pg11.txt': 1, 'Q1-Dataset/pg2600.txt': 1, 'Q1-Dataset/pg345.txt': 1, 'Q1-Dataset/pg64317.txt': 1, 'Q1-Dataset/pg70815.txt': 1, 'Q1-Dataset/1080-0.txt': 1, 'Q1-Dataset/pg70817.txt': 1, 'Q1-Dataset/pg1998.txt': 1}, 'THIS': {'Q1-Dataset/pg1513.txt': 3, 'Q1-Dataset/2160-0.txt': 5, 'Q1-Dataset/pg11.txt': 3, 'Q1-Dataset/pg2600.txt': 3, 'Q1-Dataset/pg345.txt': 3, 'Q1-Dataset/pg64317.txt': 3, 'Q1-Dataset/pg70815.txt': 3, 'Q1-Dataset/1080-0.txt': 3, 'Q1-Dataset/pg70817.txt': 3, 'Q1-Dataset/pg1998.txt': 17}, 'regulating': {'Q1-Dataset/pg1513.txt': 1, 'Q1-Dataset/2160-0.txt': 2, 'Q1-Dataset/pg11.txt': 1, 'Q1-Dataset/pg2600.txt': 1, 'Q1-Dataset/pg345.txt': 1, 'Q1-Dataset/pg64317.txt': 1, 'Q1-Dataset/pg70815.txt': 1, 'Q1-Dataset/1080-0.txt': 1, 'Q1-Dataset/pg70817.txt': 1, 'Q1-Dataset/pg1998.txt': 2}, 'course,': {'Q1-Dataset/pg1513.txt': 1, 'Q1-Dataset/2160-0.txt': 3, 'Q1-Dataset/pg11.txt': 6, 'Q1-Dataset/pg2600.txt': 17, 'Q1-Dataset/pg345.txt': 17, 'Q1-Dataset/pg64317.txt': 5, 'Q1-Dataset/pg70815.txt': 11, 'Q1-Dataset/1080-0.txt': 1, 'Q1-Dataset/pg70817.txt': 2, 'Q1-Dataset/pg1998.txt': 9}, 'last': {'Q1-Dataset/pg1513.txt': 5, 'Q1-Dataset/2160-0.txt': 69, 'Q1-Dataset/pg11.txt': 25, 'Q1-Dataset/pg2600.txt': 316, 'Q1-Dataset/pg345.txt': 102, 'Q1-Dataset/pg64317.txt': 41, 'Q1-Dataset/pg70815.txt': 38, 'Q1-Dataset/1080-0.txt': 1, 'Q1-Dataset/pg70817.txt': 19, 'Q1-Dataset/pg1998.txt': 133}, 'requirements.': {'Q1-Dataset/pg1513.txt': 1, 'Q1-Dataset/2160-0.txt': 1, 'Q1-Dataset/pg11.txt': 1, 'Q1-Dataset/pg2600.txt': 2, 'Q1-Dataset/pg345.txt': 1, 'Q1-Dataset/pg64317.txt': 1, 'Q1-Dataset/pg70815.txt': 1, 'Q1-Dataset/1080-0.txt': 1, 'Q1-Dataset/pg70817.txt': 1, 'Q1-Dataset/pg1998.txt': 1}, 'it,': {'Q1-Dataset/pg1513.txt': 15, 'Q1-Dataset/2160-0.txt': 37, 'Q1-Dataset/pg11.txt': 41, 'Q1-Dataset/pg2600.txt': 327, 'Q1-Dataset/pg345.txt': 137, 'Q1-Dataset/pg64317.txt': 39, 'Q1-Dataset/pg70815.txt': 39, 'Q1-Dataset/1080-0.txt': 5, 'Q1-Dataset/pg70817.txt': 20, 'Q1-Dataset/pg1998.txt': 86}, 'past': {'Q1-Dataset/pg1513.txt': 7, 'Q1-Dataset/2160-0.txt': 6, 'Q1-Dataset/pg11.txt': 1, 'Q1-Dataset/pg2600.txt': 119, 'Q1-Dataset/pg345.txt': 19, 'Q1-Dataset/pg64317.txt': 6, 'Q1-Dataset/pg70815.txt': 5, 'Q1-Dataset/1080-0.txt': 1, 'Q1-Dataset/pg70817.txt': 10, 'Q1-Dataset/pg1998.txt': 20}, 'after': {'Q1-Dataset/pg1513.txt': 2, 'Q1-Dataset/2160-0.txt': 83, 'Q1-Dataset/pg11.txt': 35, 'Q1-Dataset/pg2600.txt': 623, 'Q1-Dataset/pg345.txt': 162, 'Q1-Dataset/pg64317.txt': 62, 'Q1-Dataset/pg70815.txt': 72, 'Q1-Dataset/1080-0.txt': 3, 'Q1-Dataset/pg70817.txt': 30, 'Q1-Dataset/pg1998.txt': 65}, 'confirmation': {'Q1-Dataset/pg1513.txt': 1, 'Q1-Dataset/2160-0.txt': 1, 'Q1-Dataset/pg11.txt': 1, 'Q1-Dataset/pg2600.txt': 9, 'Q1-Dataset/pg345.txt': 3, 'Q1-Dataset/pg64317.txt': 1, 'Q1-Dataset/pg70815.txt': 1, 'Q1-Dataset/1080-0.txt': 1, 'Q1-Dataset/pg70817.txt': 1, 'Q1-Dataset/pg1998.txt': 1}, 'appear': {'Q1-Dataset/pg1513.txt': 3, 'Q1-Dataset/2160-0.txt': 24, 'Q1-Dataset/pg11.txt': 2, 'Q1-Dataset/pg2600.txt': 41, 'Q1-Dataset/pg345.txt': 8, 'Q1-Dataset/pg64317.txt': 1, 'Q1-Dataset/pg70815.txt': 4, 'Q1-Dataset/1080-0.txt': 2, 'Q1-Dataset/pg70817.txt': 4, 'Q1-Dataset/pg1998.txt': 7}, 'obsolete,': {'Q1-Dataset/pg1513.txt': 1, 'Q1-Dataset/2160-0.txt': 1, 'Q1-Dataset/pg11.txt': 1, 'Q1-Dataset/pg2600.txt': 1, 'Q1-Dataset/pg345.txt': 1, 'Q1-Dataset/pg64317.txt': 1, 'Q1-Dataset/pg70815.txt': 1, 'Q1-Dataset/1080-0.txt': 1, 'Q1-Dataset/pg70817.txt': 1, 'Q1-Dataset/pg1998.txt': 1}, 'may': {'Q1-Dataset/pg1513.txt': 57, 'Q1-Dataset/2160-0.txt': 207, 'Q1-Dataset/pg11.txt': 26, 'Q1-Dataset/pg2600.txt': 244, 'Q1-Dataset/pg345.txt': 373, 'Q1-Dataset/pg64317.txt': 20, 'Q1-Dataset/pg70815.txt': 81, 'Q1-Dataset/1080-0.txt': 25, 'Q1-Dataset/pg70817.txt': 23, 'Q1-Dataset/pg1998.txt': 166}, 'comply': {'Q1-Dataset/pg1513.txt': 6, 'Q1-Dataset/2160-0.txt': 7, 'Q1-Dataset/pg11.txt': 6, 'Q1-Dataset/pg2600.txt': 8, 'Q1-Dataset/pg345.txt': 6, 'Q1-Dataset/pg64317.txt': 6, 'Q1-Dataset/pg70815.txt': 6, 'Q1-Dataset/1080-0.txt': 6, 'Q1-Dataset/pg70817.txt': 6, 'Q1-Dataset/pg1998.txt': 6}, 'depends': {'Q1-Dataset/pg1513.txt': 1, 'Q1-Dataset/2160-0.txt': 2, 'Q1-Dataset/pg11.txt': 2, 'Q1-Dataset/pg2600.txt': 16, 'Q1-Dataset/pg345.txt': 1, 'Q1-Dataset/pg64317.txt': 1, 'Q1-Dataset/pg70815.txt': 1, 'Q1-Dataset/1080-0.txt': 1, 'Q1-Dataset/pg70817.txt': 1, 'Q1-Dataset/pg1998.txt': 2}, 'infringement,': {'Q1-Dataset/pg1513.txt': 1, 'Q1-Dataset/2160-0.txt': 1, 'Q1-Dataset/pg11.txt': 1, 'Q1-Dataset/pg2600.txt': 1, 'Q1-Dataset/pg345.txt': 1, 'Q1-Dataset/pg64317.txt': 1, 'Q1-Dataset/pg70815.txt': 1, 'Q1-Dataset/1080-0.txt': 1, 'Q1-Dataset/pg70817.txt': 1, 'Q1-Dataset/pg1998.txt': 1}, 'transcribe': {'Q1-Dataset/pg1513.txt': 1, 'Q1-Dataset/2160-0.txt': 1, 'Q1-Dataset/pg11.txt': 1, 'Q1-Dataset/pg2600.txt': 1, 'Q1-Dataset/pg345.txt': 1, 'Q1-Dataset/pg64317.txt': 1, 'Q1-Dataset/pg70815.txt': 1, 'Q1-Dataset/1080-0.txt': 1, 'Q1-Dataset/pg70817.txt': 1, 'Q1-Dataset/pg1998.txt': 2}, 'came': {'Q1-Dataset/pg1513.txt': 7, 'Q1-Dataset/2160-0.txt': 72, 'Q1-Dataset/pg11.txt': 38, 'Q1-Dataset/pg2600.txt': 661, 'Q1-Dataset/pg345.txt': 295, 'Q1-Dataset/pg64317.txt': 103, 'Q1-Dataset/pg70815.txt': 86, 'Q1-Dataset/1080-0.txt': 1, 'Q1-Dataset/pg70817.txt': 29, 'Q1-Dataset/pg1998.txt': 85}, 'pay': {'Q1-Dataset/pg1513.txt': 5, 'Q1-Dataset/2160-0.txt': 35, 'Q1-Dataset/pg11.txt': 1, 'Q1-Dataset/pg2600.txt': 40, 'Q1-Dataset/pg345.txt': 8, 'Q1-Dataset/pg64317.txt': 4, 'Q1-Dataset/pg70815.txt': 3, 'Q1-Dataset/1080-0.txt': 4, 'Q1-Dataset/pg70817.txt': 3, 'Q1-Dataset/pg1998.txt': 3}, 'are': {'Q1-Dataset/pg1513.txt': 83, 'Q1-Dataset/2160-0.txt': 553, 'Q1-Dataset/pg11.txt': 60, 'Q1-Dataset/pg2600.txt': 1164, 'Q1-Dataset/pg345.txt': 565, 'Q1-Dataset/pg64317.txt': 54, 'Q1-Dataset/pg70815.txt': 278, 'Q1-Dataset/1080-0.txt': 45, 'Q1-Dataset/pg70817.txt': 33, 'Q1-Dataset/pg1998.txt': 482}, 'offers': {'Q1-Dataset/pg1513.txt': 1, 'Q1-Dataset/2160-0.txt': 2, 'Q1-Dataset/pg11.txt': 1, 'Q1-Dataset/pg2600.txt': 6, 'Q1-Dataset/pg345.txt': 1, 'Q1-Dataset/pg64317.txt': 1, 'Q1-Dataset/pg70815.txt': 1, 'Q1-Dataset/1080-0.txt': 1, 'Q1-Dataset/pg70817.txt': 1, 'Q1-Dataset/pg1998.txt': 2}, '4': {'Q1-Dataset/pg1513.txt': 1, 'Q1-Dataset/2160-0.txt': 1, 'Q1-Dataset/pg11.txt': 1, 'Q1-Dataset/pg2600.txt': 2, 'Q1-Dataset/pg345.txt': 3, 'Q1-Dataset/pg64317.txt': 1, 'Q1-Dataset/pg70815.txt': 1, 'Q1-Dataset/1080-0.txt': 1, 'Q1-Dataset/pg70817.txt': 1, 'Q1-Dataset/pg1998.txt': 2}, 'person': {'Q1-Dataset/pg1513.txt': 6, 'Q1-Dataset/2160-0.txt': 72, 'Q1-Dataset/pg11.txt': 6, 'Q1-Dataset/pg2600.txt': 54, 'Q1-Dataset/pg345.txt': 10, 'Q1-Dataset/pg64317.txt': 13, 'Q1-Dataset/pg70815.txt': 7, 'Q1-Dataset/1080-0.txt': 5, 'Q1-Dataset/pg70817.txt': 10, 'Q1-Dataset/pg1998.txt': 15}, 'removed': {'Q1-Dataset/pg1513.txt': 1, 'Q1-Dataset/2160-0.txt': 12, 'Q1-Dataset/pg11.txt': 1, 'Q1-Dataset/pg2600.txt': 26, 'Q1-Dataset/pg345.txt': 7, 'Q1-Dataset/pg64317.txt': 3, 'Q1-Dataset/pg70815.txt': 11, 'Q1-Dataset/1080-0.txt': 1, 'Q1-Dataset/pg70817.txt': 1, 'Q1-Dataset/pg1998.txt': 2}, 'OWNER,': {'Q1-Dataset/pg1513.txt': 1, 'Q1-Dataset/2160-0.txt': 1, 'Q1-Dataset/pg11.txt': 1, 'Q1-Dataset/pg2600.txt': 1, 'Q1-Dataset/pg345.txt': 1, 'Q1-Dataset/pg64317.txt': 1, 'Q1-Dataset/pg70815.txt': 1, 'Q1-Dataset/1080-0.txt': 1, 'Q1-Dataset/pg70817.txt': 1, 'Q1-Dataset/pg1998.txt': 1}, 'damages,': {'Q1-Dataset/pg1513.txt': 1, 'Q1-Dataset/2160-0.txt': 2, 'Q1-Dataset/pg11.txt': 1, 'Q1-Dataset/pg2600.txt': 1, 'Q1-Dataset/pg345.txt': 2, 'Q1-Dataset/pg64317.txt': 1, 'Q1-Dataset/pg70815.txt': 1, 'Q1-Dataset/1080-0.txt': 1, 'Q1-Dataset/pg70817.txt': 1, 'Q1-Dataset/pg1998.txt': 1}, 'make': {'Q1-Dataset/pg1513.txt': 39, 'Q1-Dataset/2160-0.txt': 184, 'Q1-Dataset/pg11.txt': 29, 'Q1-Dataset/pg2600.txt': 263, 'Q1-Dataset/pg345.txt': 161, 'Q1-Dataset/pg64317.txt': 29, 'Q1-Dataset/pg70815.txt': 40, 'Q1-Dataset/1080-0.txt': 11, 'Q1-Dataset/pg70817.txt': 14, 'Q1-Dataset/pg1998.txt': 71}, 'easily': {'Q1-Dataset/pg1513.txt': 1, 'Q1-Dataset/2160-0.txt': 23, 'Q1-Dataset/pg11.txt': 4, 'Q1-Dataset/pg2600.txt': 36, 'Q1-Dataset/pg345.txt': 8, 'Q1-Dataset/pg64317.txt': 1, 'Q1-Dataset/pg70815.txt': 14, 'Q1-Dataset/1080-0.txt': 1, 'Q1-Dataset/pg70817.txt': 1, 'Q1-Dataset/pg1998.txt': 5}, 'legal': {'Q1-Dataset/pg1513.txt': 2, 'Q1-Dataset/2160-0.txt': 4, 'Q1-Dataset/pg11.txt': 2, 'Q1-Dataset/pg2600.txt': 5, 'Q1-Dataset/pg345.txt': 6, 'Q1-Dataset/pg64317.txt': 3, 'Q1-Dataset/pg70815.txt': 2, 'Q1-Dataset/1080-0.txt': 2, 'Q1-Dataset/pg70817.txt': 2, 'Q1-Dataset/pg1998.txt': 2}, 'good': {'Q1-Dataset/pg1513.txt': 58, 'Q1-Dataset/2160-0.txt': 224, 'Q1-Dataset/pg11.txt': 23, 'Q1-Dataset/pg2600.txt': 276, 'Q1-Dataset/pg345.txt': 164, 'Q1-Dataset/pg64317.txt': 16, 'Q1-Dataset/pg70815.txt': 31, 'Q1-Dataset/1080-0.txt': 8, 'Q1-Dataset/pg70817.txt': 7, 'Q1-Dataset/pg1998.txt': 201}, 'provide': {'Q1-Dataset/pg1513.txt': 6, 'Q1-Dataset/2160-0.txt': 18, 'Q1-Dataset/pg11.txt': 6, 'Q1-Dataset/pg2600.txt': 9, 'Q1-Dataset/pg345.txt': 7, 'Q1-Dataset/pg64317.txt': 6, 'Q1-Dataset/pg70815.txt': 6, 'Q1-Dataset/1080-0.txt': 8, 'Q1-Dataset/pg70817.txt': 7, 'Q1-Dataset/pg1998.txt': 7}, 'now': {'Q1-Dataset/pg1513.txt': 33, 'Q1-Dataset/2160-0.txt': 173, 'Q1-Dataset/pg11.txt': 23, 'Q1-Dataset/pg2600.txt': 872, 'Q1-Dataset/pg345.txt': 233, 'Q1-Dataset/pg64317.txt': 49, 'Q1-Dataset/pg70815.txt': 91, 'Q1-Dataset/1080-0.txt': 6, 'Q1-Dataset/pg70817.txt': 31, 'Q1-Dataset/pg1998.txt': 202}, 'compliance.': {'Q1-Dataset/pg1513.txt': 1, 'Q1-Dataset/2160-0.txt': 1, 'Q1-Dataset/pg11.txt': 1, 'Q1-Dataset/pg2600.txt': 1, 'Q1-Dataset/pg345.txt': 1, 'Q1-Dataset/pg64317.txt': 1, 'Q1-Dataset/pg70815.txt': 1, 'Q1-Dataset/1080-0.txt': 1, 'Q1-Dataset/pg70817.txt': 1, 'Q1-Dataset/pg1998.txt': 1}, 'formats': {'Q1-Dataset/pg1513.txt': 1, 'Q1-Dataset/2160-0.txt': 2, 'Q1-Dataset/pg11.txt': 2, 'Q1-Dataset/pg2600.txt': 1, 'Q1-Dataset/pg345.txt': 1, 'Q1-Dataset/pg64317.txt': 1, 'Q1-Dataset/pg70815.txt': 1, 'Q1-Dataset/1080-0.txt': 2, 'Q1-Dataset/pg70817.txt': 1, 'Q1-Dataset/pg1998.txt': 2}, 'paid': {'Q1-Dataset/pg1513.txt': 6, 'Q1-Dataset/2160-0.txt': 16, 'Q1-Dataset/pg11.txt': 6, 'Q1-Dataset/pg2600.txt': 41, 'Q1-Dataset/pg345.txt': 10, 'Q1-Dataset/pg64317.txt': 8, 'Q1-Dataset/pg70815.txt': 14, 'Q1-Dataset/1080-0.txt': 6, 'Q1-Dataset/pg70817.txt': 9, 'Q1-Dataset/pg1998.txt': 9}, 'provisions.': {'Q1-Dataset/pg1513.txt': 1, 'Q1-Dataset/2160-0.txt': 1, 'Q1-Dataset/pg11.txt': 1, 'Q1-Dataset/pg2600.txt': 2, 'Q1-Dataset/pg345.txt': 1, 'Q1-Dataset/pg64317.txt': 1, 'Q1-Dataset/pg70815.txt': 1, 'Q1-Dataset/1080-0.txt': 1, 'Q1-Dataset/pg70817.txt': 1, 'Q1-Dataset/pg1998.txt': 1}, 'compressed,': {'Q1-Dataset/pg1513.txt': 1, 'Q1-Dataset/2160-0.txt': 1, 'Q1-Dataset/pg11.txt': 1, 'Q1-Dataset/pg2600.txt': 4, 'Q1-Dataset/pg345.txt': 1, 'Q1-Dataset/pg64317.txt': 1, 'Q1-Dataset/pg70815.txt': 1, 'Q1-Dataset/1080-0.txt': 1, 'Q1-Dataset/pg70817.txt': 1, 'Q1-Dataset/pg1998.txt': 1}, 'eBooks.': {'Q1-Dataset/pg1513.txt': 1, 'Q1-Dataset/2160-0.txt': 2, 'Q1-Dataset/pg11.txt': 1, 'Q1-Dataset/pg2600.txt': 1, 'Q1-Dataset/pg345.txt': 1, 'Q1-Dataset/pg64317.txt': 1, 'Q1-Dataset/pg70815.txt': 1, 'Q1-Dataset/1080-0.txt': 1, 'Q1-Dataset/pg70817.txt': 1, 'Q1-Dataset/pg1998.txt': 1}, 'world': {'Q1-Dataset/pg1513.txt': 11, 'Q1-Dataset/2160-0.txt': 21, 'Q1-Dataset/pg11.txt': 8, 'Q1-Dataset/pg2600.txt': 86, 'Q1-Dataset/pg345.txt': 34, 'Q1-Dataset/pg64317.txt': 13, 'Q1-Dataset/pg70815.txt': 58, 'Q1-Dataset/1080-0.txt': 2, 'Q1-Dataset/pg70817.txt': 2, 'Q1-Dataset/pg1998.txt': 81}, 'neither': {'Q1-Dataset/pg1513.txt': 1, 'Q1-Dataset/2160-0.txt': 40, 'Q1-Dataset/pg11.txt': 2, 'Q1-Dataset/pg2600.txt': 81, 'Q1-Dataset/pg345.txt': 12, 'Q1-Dataset/pg64317.txt': 6, 'Q1-Dataset/pg70815.txt': 13, 'Q1-Dataset/1080-0.txt': 4, 'Q1-Dataset/pg70817.txt': 2, 'Q1-Dataset/pg1998.txt': 20}, 'check': {'Q1-Dataset/pg1513.txt': 4, 'Q1-Dataset/2160-0.txt': 5, 'Q1-Dataset/pg11.txt': 4, 'Q1-Dataset/pg2600.txt': 11, 'Q1-Dataset/pg345.txt': 6, 'Q1-Dataset/pg64317.txt': 4, 'Q1-Dataset/pg70815.txt': 5, 'Q1-Dataset/1080-0.txt': 4, 'Q1-Dataset/pg70817.txt': 5, 'Q1-Dataset/pg1998.txt': 4}, 'set': {'Q1-Dataset/pg1513.txt': 16, 'Q1-Dataset/2160-0.txt': 77, 'Q1-Dataset/pg11.txt': 22, 'Q1-Dataset/pg2600.txt': 150, 'Q1-Dataset/pg345.txt': 57, 'Q1-Dataset/pg64317.txt': 23, 'Q1-Dataset/pg70815.txt': 28, 'Q1-Dataset/1080-0.txt': 10, 'Q1-Dataset/pg70817.txt': 13, 'Q1-Dataset/pg1998.txt': 27}, 'downloading,': {'Q1-Dataset/pg1513.txt': 1, 'Q1-Dataset/2160-0.txt': 1, 'Q1-Dataset/pg11.txt': 1, 'Q1-Dataset/pg2600.txt': 1, 'Q1-Dataset/pg345.txt': 1, 'Q1-Dataset/pg64317.txt': 1, 'Q1-Dataset/pg70815.txt': 1, 'Q1-Dataset/1080-0.txt': 1, 'Q1-Dataset/pg70817.txt': 1, 'Q1-Dataset/pg1998.txt': 1}, 'remaining': {'Q1-Dataset/pg1513.txt': 1, 'Q1-Dataset/2160-0.txt': 2, 'Q1-Dataset/pg11.txt': 2, 'Q1-Dataset/pg2600.txt': 22, 'Q1-Dataset/pg345.txt': 5, 'Q1-Dataset/pg64317.txt': 2, 'Q1-Dataset/pg70815.txt': 14, 'Q1-Dataset/1080-0.txt': 3, 'Q1-Dataset/pg70817.txt': 4, 'Q1-Dataset/pg1998.txt': 1}, 'public': {'Q1-Dataset/pg1513.txt': 8, 'Q1-Dataset/2160-0.txt': 50, 'Q1-Dataset/pg11.txt': 3, 'Q1-Dataset/pg2600.txt': 23, 'Q1-Dataset/pg345.txt': 7, 'Q1-Dataset/pg64317.txt': 3, 'Q1-Dataset/pg70815.txt': 4, 'Q1-Dataset/1080-0.txt': 3, 'Q1-Dataset/pg70817.txt': 3, 'Q1-Dataset/pg1998.txt': 8}, 'different': {'Q1-Dataset/pg1513.txt': 2, 'Q1-Dataset/2160-0.txt': 68, 'Q1-Dataset/pg11.txt': 5, 'Q1-Dataset/pg2600.txt': 115, 'Q1-Dataset/pg345.txt': 22, 'Q1-Dataset/pg64317.txt': 4, 'Q1-Dataset/pg70815.txt': 6, 'Q1-Dataset/1080-0.txt': 1, 'Q1-Dataset/pg70817.txt': 3, 'Q1-Dataset/pg1998.txt': 12}, 'disclaimers': {'Q1-Dataset/pg1513.txt': 1, 'Q1-Dataset/2160-0.txt': 1, 'Q1-Dataset/pg11.txt': 1, 'Q1-Dataset/pg2600.txt': 1, 'Q1-Dataset/pg345.txt': 1, 'Q1-Dataset/pg64317.txt': 1, 'Q1-Dataset/pg70815.txt': 1, 'Q1-Dataset/1080-0.txt': 1, 'Q1-Dataset/pg70817.txt': 1, 'Q1-Dataset/pg1998.txt': 1}, 'forty': {'Q1-Dataset/pg1513.txt': 3, 'Q1-Dataset/2160-0.txt': 11, 'Q1-Dataset/pg11.txt': 1, 'Q1-Dataset/pg2600.txt': 27, 'Q1-Dataset/pg345.txt': 1, 'Q1-Dataset/pg64317.txt': 3, 'Q1-Dataset/pg70815.txt': 1, 'Q1-Dataset/1080-0.txt': 1, 'Q1-Dataset/pg70817.txt': 3, 'Q1-Dataset/pg1998.txt': 4}, 'paragraph': {'Q1-Dataset/pg1513.txt': 10, 'Q1-Dataset/2160-0.txt': 11, 'Q1-Dataset/pg11.txt': 10, 'Q1-Dataset/pg2600.txt': 12, 'Q1-Dataset/pg345.txt': 11, 'Q1-Dataset/pg64317.txt': 10, 'Q1-Dataset/pg70815.txt': 10, 'Q1-Dataset/1080-0.txt': 10, 'Q1-Dataset/pg70817.txt': 11, 'Q1-Dataset/pg1998.txt': 17}, 'However,': {'Q1-Dataset/pg1513.txt': 1, 'Q1-Dataset/2160-0.txt': 2, 'Q1-Dataset/pg11.txt': 14, 'Q1-Dataset/pg2600.txt': 11, 'Q1-Dataset/pg345.txt': 18, 'Q1-Dataset/pg64317.txt': 4, 'Q1-Dataset/pg70815.txt': 3, 'Q1-Dataset/1080-0.txt': 1, 'Q1-Dataset/pg70817.txt': 1, 'Q1-Dataset/pg1998.txt': 1}, 'providing': {'Q1-Dataset/pg1513.txt': 4, 'Q1-Dataset/2160-0.txt': 6, 'Q1-Dataset/pg11.txt': 4, 'Q1-Dataset/pg2600.txt': 5, 'Q1-Dataset/pg345.txt': 4, 'Q1-Dataset/pg64317.txt': 4, 'Q1-Dataset/pg70815.txt': 4, 'Q1-Dataset/1080-0.txt': 5, 'Q1-Dataset/pg70817.txt': 5, 'Q1-Dataset/pg1998.txt': 4}, 'upon': {'Q1-Dataset/pg1513.txt': 39, 'Q1-Dataset/2160-0.txt': 455, 'Q1-Dataset/pg11.txt': 28, 'Q1-Dataset/pg2600.txt': 96, 'Q1-Dataset/pg345.txt': 89, 'Q1-Dataset/pg64317.txt': 35, 'Q1-Dataset/pg70815.txt': 470, 'Q1-Dataset/1080-0.txt': 15, 'Q1-Dataset/pg70817.txt': 10, 'Q1-Dataset/pg1998.txt': 140}, 'discover': {'Q1-Dataset/pg1513.txt': 2, 'Q1-Dataset/2160-0.txt': 5, 'Q1-Dataset/pg11.txt': 1, 'Q1-Dataset/pg2600.txt': 9, 'Q1-Dataset/pg345.txt': 4, 'Q1-Dataset/pg64317.txt': 1, 'Q1-Dataset/pg70815.txt': 11, 'Q1-Dataset/1080-0.txt': 1, 'Q1-Dataset/pg70817.txt': 1, 'Q1-Dataset/pg1998.txt': 3}, '1.E.5.': {'Q1-Dataset/pg1513.txt': 1, 'Q1-Dataset/2160-0.txt': 1, 'Q1-Dataset/pg11.txt': 1, 'Q1-Dataset/pg2600.txt': 1, 'Q1-Dataset/pg345.txt': 1, 'Q1-Dataset/pg64317.txt': 1, 'Q1-Dataset/pg70815.txt': 1, 'Q1-Dataset/1080-0.txt': 1, 'Q1-Dataset/pg70817.txt': 1, 'Q1-Dataset/pg1998.txt': 1}, 'directly': {'Q1-Dataset/pg1513.txt': 1, 'Q1-Dataset/2160-0.txt': 8, 'Q1-Dataset/pg11.txt': 1, 'Q1-Dataset/pg2600.txt': 24, 'Q1-Dataset/pg345.txt': 2, 'Q1-Dataset/pg64317.txt': 3, 'Q1-Dataset/pg70815.txt': 27, 'Q1-Dataset/1080-0.txt': 1, 'Q1-Dataset/pg70817.txt': 5, 'Q1-Dataset/pg1998.txt': 2}, 'PG': {'Q1-Dataset/pg1513.txt': 2, 'Q1-Dataset/2160-0.txt': 1, 'Q1-Dataset/pg11.txt': 1, 'Q1-Dataset/pg2600.txt': 1, 'Q1-Dataset/pg345.txt': 1, 'Q1-Dataset/pg64317.txt': 1, 'Q1-Dataset/pg70815.txt': 1, 'Q1-Dataset/1080-0.txt': 1, 'Q1-Dataset/pg70817.txt': 1, 'Q1-Dataset/pg1998.txt': 2}, 'modification,': {'Q1-Dataset/pg1513.txt': 1, 'Q1-Dataset/2160-0.txt': 1, 'Q1-Dataset/pg11.txt': 1, 'Q1-Dataset/pg2600.txt': 1, 'Q1-Dataset/pg345.txt': 1, 'Q1-Dataset/pg64317.txt': 1, 'Q1-Dataset/pg70815.txt': 1, 'Q1-Dataset/1080-0.txt': 1, 'Q1-Dataset/pg70817.txt': 1, 'Q1-Dataset/pg1998.txt': 1}, 'require': {'Q1-Dataset/pg1513.txt': 1, 'Q1-Dataset/2160-0.txt': 7, 'Q1-Dataset/pg11.txt': 1, 'Q1-Dataset/pg2600.txt': 6, 'Q1-Dataset/pg345.txt': 3, 'Q1-Dataset/pg64317.txt': 1, 'Q1-Dataset/pg70815.txt': 3, 'Q1-Dataset/1080-0.txt': 1, 'Q1-Dataset/pg70817.txt': 1, 'Q1-Dataset/pg1998.txt': 9}, 'receiving': {'Q1-Dataset/pg1513.txt': 1, 'Q1-Dataset/2160-0.txt': 4, 'Q1-Dataset/pg11.txt': 1, 'Q1-Dataset/pg2600.txt': 39, 'Q1-Dataset/pg345.txt': 1, 'Q1-Dataset/pg64317.txt': 1, 'Q1-Dataset/pg70815.txt': 2, 'Q1-Dataset/1080-0.txt': 1, 'Q1-Dataset/pg70817.txt': 1, 'Q1-Dataset/pg1998.txt': 2}, 'granted': {'Q1-Dataset/pg1513.txt': 1, 'Q1-Dataset/2160-0.txt': 6, 'Q1-Dataset/pg11.txt': 1, 'Q1-Dataset/pg2600.txt': 5, 'Q1-Dataset/pg345.txt': 3, 'Q1-Dataset/pg64317.txt': 1, 'Q1-Dataset/pg70815.txt': 2, 'Q1-Dataset/1080-0.txt': 1, 'Q1-Dataset/pg70817.txt': 1, 'Q1-Dataset/pg1998.txt': 1}, '(c)': {'Q1-Dataset/pg1513.txt': 1, 'Q1-Dataset/2160-0.txt': 1, 'Q1-Dataset/pg11.txt': 1, 'Q1-Dataset/pg2600.txt': 2, 'Q1-Dataset/pg345.txt': 1, 'Q1-Dataset/pg64317.txt': 1, 'Q1-Dataset/pg70815.txt': 1, 'Q1-Dataset/1080-0.txt': 1, 'Q1-Dataset/pg70817.txt': 1, 'Q1-Dataset/pg1998.txt': 1}, '1.E.1.': {'Q1-Dataset/pg1513.txt': 2, 'Q1-Dataset/2160-0.txt': 2, 'Q1-Dataset/pg11.txt': 2, 'Q1-Dataset/pg2600.txt': 2, 'Q1-Dataset/pg345.txt': 2, 'Q1-Dataset/pg64317.txt': 2, 'Q1-Dataset/pg70815.txt': 2, 'Q1-Dataset/1080-0.txt': 2, 'Q1-Dataset/pg70817.txt': 2, 'Q1-Dataset/pg1998.txt': 2}, 'obtaining': {'Q1-Dataset/pg1513.txt': 2, 'Q1-Dataset/2160-0.txt': 2, 'Q1-Dataset/pg11.txt': 2, 'Q1-Dataset/pg2600.txt': 7, 'Q1-Dataset/pg345.txt': 2, 'Q1-Dataset/pg64317.txt': 2, 'Q1-Dataset/pg70815.txt': 3, 'Q1-Dataset/1080-0.txt': 2, 'Q1-Dataset/pg70817.txt': 2, 'Q1-Dataset/pg1998.txt': 2}, 'distributing': {'Q1-Dataset/pg1513.txt': 6, 'Q1-Dataset/2160-0.txt': 6, 'Q1-Dataset/pg11.txt': 6, 'Q1-Dataset/pg2600.txt': 8, 'Q1-Dataset/pg345.txt': 6, 'Q1-Dataset/pg64317.txt': 6, 'Q1-Dataset/pg70815.txt': 6, 'Q1-Dataset/1080-0.txt': 6, 'Q1-Dataset/pg70817.txt': 6, 'Q1-Dataset/pg1998.txt': 7}, 'middle-aged': {'Q1-Dataset/pg1513.txt': 1, 'Q1-Dataset/2160-0.txt': 1, 'Q1-Dataset/pg11.txt': 1, 'Q1-Dataset/pg2600.txt': 6, 'Q1-Dataset/pg345.txt': 1, 'Q1-Dataset/pg64317.txt': 2, 'Q1-Dataset/pg70815.txt': 1, 'Q1-Dataset/1080-0.txt': 1, 'Q1-Dataset/pg70817.txt': 2, 'Q1-Dataset/pg1998.txt': 1}, 'license': {'Q1-Dataset/pg1513.txt': 2, 'Q1-Dataset/2160-0.txt': 1, 'Q1-Dataset/pg11.txt': 2, 'Q1-Dataset/pg2600.txt': 2, 'Q1-Dataset/pg345.txt': 2, 'Q1-Dataset/pg64317.txt': 2, 'Q1-Dataset/pg70815.txt': 2, 'Q1-Dataset/1080-0.txt': 2, 'Q1-Dataset/pg70817.txt': 2, 'Q1-Dataset/pg1998.txt': 2}, 'donations': {'Q1-Dataset/pg1513.txt': 11, 'Q1-Dataset/2160-0.txt': 11, 'Q1-Dataset/pg11.txt': 11, 'Q1-Dataset/pg2600.txt': 11, 'Q1-Dataset/pg345.txt': 11, 'Q1-Dataset/pg64317.txt': 11, 'Q1-Dataset/pg70815.txt': 11, 'Q1-Dataset/1080-0.txt': 11, 'Q1-Dataset/pg70817.txt': 11, 'Q1-Dataset/pg1998.txt': 11}, 'PUNITIVE': {'Q1-Dataset/pg1513.txt': 1, 'Q1-Dataset/2160-0.txt': 1, 'Q1-Dataset/pg11.txt': 1, 'Q1-Dataset/pg2600.txt': 1, 'Q1-Dataset/pg345.txt': 1, 'Q1-Dataset/pg64317.txt': 1, 'Q1-Dataset/pg70815.txt': 1, 'Q1-Dataset/1080-0.txt': 1, 'Q1-Dataset/pg70817.txt': 1, 'Q1-Dataset/pg1998.txt': 1}, 'number': {'Q1-Dataset/pg1513.txt': 4, 'Q1-Dataset/2160-0.txt': 54, 'Q1-Dataset/pg11.txt': 7, 'Q1-Dataset/pg2600.txt': 66, 'Q1-Dataset/pg345.txt': 19, 'Q1-Dataset/pg64317.txt': 7, 'Q1-Dataset/pg70815.txt': 16, 'Q1-Dataset/1080-0.txt': 14, 'Q1-Dataset/pg70817.txt': 5, 'Q1-Dataset/pg1998.txt': 9}, 'off': {'Q1-Dataset/pg1513.txt': 7, 'Q1-Dataset/2160-0.txt': 64, 'Q1-Dataset/pg11.txt': 38, 'Q1-Dataset/pg2600.txt': 303, 'Q1-Dataset/pg345.txt': 116, 'Q1-Dataset/pg64317.txt': 35, 'Q1-Dataset/pg70815.txt': 30, 'Q1-Dataset/1080-0.txt': 1, 'Q1-Dataset/pg70817.txt': 14, 'Q1-Dataset/pg1998.txt': 9}, 'organized': {'Q1-Dataset/pg1513.txt': 1, 'Q1-Dataset/2160-0.txt': 1, 'Q1-Dataset/pg11.txt': 1, 'Q1-Dataset/pg2600.txt': 4, 'Q1-Dataset/pg345.txt': 1, 'Q1-Dataset/pg64317.txt': 1, 'Q1-Dataset/pg70815.txt': 3, 'Q1-Dataset/1080-0.txt': 1, 'Q1-Dataset/pg70817.txt': 1, 'Q1-Dataset/pg1998.txt': 1}, 'office': {'Q1-Dataset/pg1513.txt': 2, 'Q1-Dataset/2160-0.txt': 7, 'Q1-Dataset/pg11.txt': 1, 'Q1-Dataset/pg2600.txt': 7, 'Q1-Dataset/pg345.txt': 6, 'Q1-Dataset/pg64317.txt': 11, 'Q1-Dataset/pg70815.txt': 1, 'Q1-Dataset/1080-0.txt': 1, 'Q1-Dataset/pg70817.txt': 2, 'Q1-Dataset/pg1998.txt': 1}, 'one': {'Q1-Dataset/pg1513.txt': 43, 'Q1-Dataset/2160-0.txt': 317, 'Q1-Dataset/pg11.txt': 78, 'Q1-Dataset/pg2600.txt': 1705, 'Q1-Dataset/pg345.txt': 382, 'Q1-Dataset/pg64317.txt': 118, 'Q1-Dataset/pg70815.txt': 196, 'Q1-Dataset/1080-0.txt': 16, 'Q1-Dataset/pg70817.txt': 54, 'Q1-Dataset/pg1998.txt': 480}, 'EIN': {'Q1-Dataset/pg1513.txt': 1, 'Q1-Dataset/2160-0.txt': 1, 'Q1-Dataset/pg11.txt': 1, 'Q1-Dataset/pg2600.txt': 1, 'Q1-Dataset/pg345.txt': 1, 'Q1-Dataset/pg64317.txt': 1, 'Q1-Dataset/pg70815.txt': 1, 'Q1-Dataset/1080-0.txt': 1, 'Q1-Dataset/pg70817.txt': 1, 'Q1-Dataset/pg1998.txt': 1}, 'learn': {'Q1-Dataset/pg1513.txt': 4, 'Q1-Dataset/2160-0.txt': 5, 'Q1-Dataset/pg11.txt': 5, 'Q1-Dataset/pg2600.txt': 15, 'Q1-Dataset/pg345.txt': 28, 'Q1-Dataset/pg64317.txt': 3, 'Q1-Dataset/pg70815.txt': 5, 'Q1-Dataset/1080-0.txt': 3, 'Q1-Dataset/pg70817.txt': 2, 'Q1-Dataset/pg1998.txt': 67}, 'calculated': {'Q1-Dataset/pg1513.txt': 1, 'Q1-Dataset/2160-0.txt': 3, 'Q1-Dataset/pg11.txt': 1, 'Q1-Dataset/pg2600.txt': 5, 'Q1-Dataset/pg345.txt': 3, 'Q1-Dataset/pg64317.txt': 1, 'Q1-Dataset/pg70815.txt': 1, 'Q1-Dataset/1080-0.txt': 1, 'Q1-Dataset/pg70817.txt': 2, 'Q1-Dataset/pg1998.txt': 1}, 'Revenue': {'Q1-Dataset/pg1513.txt': 1, 'Q1-Dataset/2160-0.txt': 1, 'Q1-Dataset/pg11.txt': 1, 'Q1-Dataset/pg2600.txt': 1, 'Q1-Dataset/pg345.txt': 1, 'Q1-Dataset/pg64317.txt': 1, 'Q1-Dataset/pg70815.txt': 1, 'Q1-Dataset/1080-0.txt': 1, 'Q1-Dataset/pg70817.txt': 1, 'Q1-Dataset/pg1998.txt': 1}, 'creation': {'Q1-Dataset/pg1513.txt': 1, 'Q1-Dataset/2160-0.txt': 1, 'Q1-Dataset/pg11.txt': 1, 'Q1-Dataset/pg2600.txt': 5, 'Q1-Dataset/pg345.txt': 1, 'Q1-Dataset/pg64317.txt': 1, 'Q1-Dataset/pg70815.txt': 3, 'Q1-Dataset/1080-0.txt': 1, 'Q1-Dataset/pg70817.txt': 1, 'Q1-Dataset/pg1998.txt': 3}, 'their': {'Q1-Dataset/pg1513.txt': 46, 'Q1-Dataset/2160-0.txt': 472, 'Q1-Dataset/pg11.txt': 50, 'Q1-Dataset/pg2600.txt': 1407, 'Q1-Dataset/pg345.txt': 214, 'Q1-Dataset/pg64317.txt': 52, 'Q1-Dataset/pg70815.txt': 369, 'Q1-Dataset/1080-0.txt': 38, 'Q1-Dataset/pg70817.txt': 36, 'Q1-Dataset/pg1998.txt': 406}, 'written': {'Q1-Dataset/pg1513.txt': 7, 'Q1-Dataset/2160-0.txt': 15, 'Q1-Dataset/pg11.txt': 9, 'Q1-Dataset/pg2600.txt': 58, 'Q1-Dataset/pg345.txt': 27, 'Q1-Dataset/pg64317.txt': 4, 'Q1-Dataset/pg70815.txt': 4, 'Q1-Dataset/1080-0.txt': 3, 'Q1-Dataset/pg70817.txt': 6, 'Q1-Dataset/pg1998.txt': 13}, 'warranties': {'Q1-Dataset/pg1513.txt': 1, 'Q1-Dataset/2160-0.txt': 1, 'Q1-Dataset/pg11.txt': 1, 'Q1-Dataset/pg2600.txt': 1, 'Q1-Dataset/pg345.txt': 1, 'Q1-Dataset/pg64317.txt': 1, 'Q1-Dataset/pg70815.txt': 1, 'Q1-Dataset/1080-0.txt': 1, 'Q1-Dataset/pg70817.txt': 1, 'Q1-Dataset/pg1998.txt': 1}, '1.F.6.': {'Q1-Dataset/pg1513.txt': 1, 'Q1-Dataset/2160-0.txt': 1, 'Q1-Dataset/pg11.txt': 1, 'Q1-Dataset/pg2600.txt': 1, 'Q1-Dataset/pg345.txt': 1, 'Q1-Dataset/pg64317.txt': 1, 'Q1-Dataset/pg70815.txt': 1, 'Q1-Dataset/1080-0.txt': 1, 'Q1-Dataset/pg70817.txt': 1, 'Q1-Dataset/pg1998.txt': 1}, 'works.': {'Q1-Dataset/pg1513.txt': 4, 'Q1-Dataset/2160-0.txt': 5, 'Q1-Dataset/pg11.txt': 4, 'Q1-Dataset/pg2600.txt': 4, 'Q1-Dataset/pg345.txt': 4, 'Q1-Dataset/pg64317.txt': 4, 'Q1-Dataset/pg70815.txt': 4, 'Q1-Dataset/1080-0.txt': 4, 'Q1-Dataset/pg70817.txt': 4, 'Q1-Dataset/pg1998.txt': 7}, 'place': {'Q1-Dataset/pg1513.txt': 7, 'Q1-Dataset/2160-0.txt': 90, 'Q1-Dataset/pg11.txt': 7, 'Q1-Dataset/pg2600.txt': 229, 'Q1-Dataset/pg345.txt': 87, 'Q1-Dataset/pg64317.txt': 16, 'Q1-Dataset/pg70815.txt': 24, 'Q1-Dataset/1080-0.txt': 1, 'Q1-Dataset/pg70817.txt': 6, 'Q1-Dataset/pg1998.txt': 29}, 'second': {'Q1-Dataset/pg1513.txt': 8, 'Q1-Dataset/2160-0.txt': 23, 'Q1-Dataset/pg11.txt': 6, 'Q1-Dataset/pg2600.txt': 99, 'Q1-Dataset/pg345.txt': 14, 'Q1-Dataset/pg64317.txt': 11, 'Q1-Dataset/pg70815.txt': 9, 'Q1-Dataset/1080-0.txt': 2, 'Q1-Dataset/pg70817.txt': 6, 'Q1-Dataset/pg1998.txt': 20}, 'hundred': {'Q1-Dataset/pg1513.txt': 3, 'Q1-Dataset/2160-0.txt': 51, 'Q1-Dataset/pg11.txt': 1, 'Q1-Dataset/pg2600.txt': 117, 'Q1-Dataset/pg345.txt': 11, 'Q1-Dataset/pg64317.txt': 14, 'Q1-Dataset/pg70815.txt': 32, 'Q1-Dataset/1080-0.txt': 8, 'Q1-Dataset/pg70817.txt': 5, 'Q1-Dataset/pg1998.txt': 12}, 'on': {'Q1-Dataset/pg1513.txt': 80, 'Q1-Dataset/2160-0.txt': 511, 'Q1-Dataset/pg11.txt': 148, 'Q1-Dataset/pg2600.txt': 3368, 'Q1-Dataset/pg345.txt': 943, 'Q1-Dataset/pg64317.txt': 337, 'Q1-Dataset/pg70815.txt': 130, 'Q1-Dataset/1080-0.txt': 18, 'Q1-Dataset/pg70817.txt': 180, 'Q1-Dataset/pg1998.txt': 487}, 'Mission': {'Q1-Dataset/pg1513.txt': 1, 'Q1-Dataset/2160-0.txt': 1, 'Q1-Dataset/pg11.txt': 1, 'Q1-Dataset/pg2600.txt': 1, 'Q1-Dataset/pg345.txt': 1, 'Q1-Dataset/pg64317.txt': 1, 'Q1-Dataset/pg70815.txt': 1, 'Q1-Dataset/1080-0.txt': 1, 'Q1-Dataset/pg70817.txt': 1, 'Q1-Dataset/pg1998.txt': 1}, 'located': {'Q1-Dataset/pg1513.txt': 7, 'Q1-Dataset/2160-0.txt': 4, 'Q1-Dataset/pg11.txt': 7, 'Q1-Dataset/pg2600.txt': 8, 'Q1-Dataset/pg345.txt': 7, 'Q1-Dataset/pg64317.txt': 7, 'Q1-Dataset/pg70815.txt': 12, 'Q1-Dataset/1080-0.txt': 7, 'Q1-Dataset/pg70817.txt': 12, 'Q1-Dataset/pg1998.txt': 7}, 'distributing,': {'Q1-Dataset/pg1513.txt': 1, 'Q1-Dataset/2160-0.txt': 1, 'Q1-Dataset/pg11.txt': 1, 'Q1-Dataset/pg2600.txt': 1, 'Q1-Dataset/pg345.txt': 1, 'Q1-Dataset/pg64317.txt': 1, 'Q1-Dataset/pg70815.txt': 1, 'Q1-Dataset/1080-0.txt': 1, 'Q1-Dataset/pg70817.txt': 1, 'Q1-Dataset/pg1998.txt': 1}, 'incomplete,': {'Q1-Dataset/pg1513.txt': 1, 'Q1-Dataset/2160-0.txt': 1, 'Q1-Dataset/pg11.txt': 1, 'Q1-Dataset/pg2600.txt': 1, 'Q1-Dataset/pg345.txt': 1, 'Q1-Dataset/pg64317.txt': 1, 'Q1-Dataset/pg70815.txt': 1, 'Q1-Dataset/1080-0.txt': 1, 'Q1-Dataset/pg70817.txt': 1, 'Q1-Dataset/pg1998.txt': 1}, 'generations': {'Q1-Dataset/pg1513.txt': 1, 'Q1-Dataset/2160-0.txt': 1, 'Q1-Dataset/pg11.txt': 1, 'Q1-Dataset/pg2600.txt': 3, 'Q1-Dataset/pg345.txt': 2, 'Q1-Dataset/pg64317.txt': 1, 'Q1-Dataset/pg70815.txt': 2, 'Q1-Dataset/1080-0.txt': 1, 'Q1-Dataset/pg70817.txt': 1, 'Q1-Dataset/pg1998.txt': 2}, 'U.S.': {'Q1-Dataset/pg1513.txt': 7, 'Q1-Dataset/2160-0.txt': 3, 'Q1-Dataset/pg11.txt': 7, 'Q1-Dataset/pg2600.txt': 7, 'Q1-Dataset/pg345.txt': 7, 'Q1-Dataset/pg64317.txt': 7, 'Q1-Dataset/pg70815.txt': 7, 'Q1-Dataset/1080-0.txt': 7, 'Q1-Dataset/pg70817.txt': 8, 'Q1-Dataset/pg1998.txt': 7}, 'purpose': {'Q1-Dataset/pg1513.txt': 2, 'Q1-Dataset/2160-0.txt': 17, 'Q1-Dataset/pg11.txt': 1, 'Q1-Dataset/pg2600.txt': 34, 'Q1-Dataset/pg345.txt': 19, 'Q1-Dataset/pg64317.txt': 2, 'Q1-Dataset/pg70815.txt': 14, 'Q1-Dataset/1080-0.txt': 2, 'Q1-Dataset/pg70817.txt': 1, 'Q1-Dataset/pg1998.txt': 17}, 'explanation.': {'Q1-Dataset/pg1513.txt': 1, 'Q1-Dataset/2160-0.txt': 4, 'Q1-Dataset/pg11.txt': 2, 'Q1-Dataset/pg2600.txt': 8, 'Q1-Dataset/pg345.txt': 2, 'Q1-Dataset/pg64317.txt': 1, 'Q1-Dataset/pg70815.txt': 1, 'Q1-Dataset/1080-0.txt': 1, 'Q1-Dataset/pg70817.txt': 1, 'Q1-Dataset/pg1998.txt': 2}, 'elect': {'Q1-Dataset/pg1513.txt': 1, 'Q1-Dataset/2160-0.txt': 1, 'Q1-Dataset/pg11.txt': 1, 'Q1-Dataset/pg2600.txt': 1, 'Q1-Dataset/pg345.txt': 1, 'Q1-Dataset/pg64317.txt': 1, 'Q1-Dataset/pg70815.txt': 1, 'Q1-Dataset/1080-0.txt': 1, 'Q1-Dataset/pg70817.txt': 1, 'Q1-Dataset/pg1998.txt': 1}, 'word': {'Q1-Dataset/pg1513.txt': 16, 'Q1-Dataset/2160-0.txt': 15, 'Q1-Dataset/pg11.txt': 8, 'Q1-Dataset/pg2600.txt': 167, 'Q1-Dataset/pg345.txt': 46, 'Q1-Dataset/pg64317.txt': 15, 'Q1-Dataset/pg70815.txt': 11, 'Q1-Dataset/1080-0.txt': 1, 'Q1-Dataset/pg70817.txt': 3, 'Q1-Dataset/pg1998.txt': 31}, 'SUCH': {'Q1-Dataset/pg1513.txt': 1, 'Q1-Dataset/2160-0.txt': 1, 'Q1-Dataset/pg11.txt': 1, 'Q1-Dataset/pg2600.txt': 1, 'Q1-Dataset/pg345.txt': 1, 'Q1-Dataset/pg64317.txt': 1, 'Q1-Dataset/pg70815.txt': 1, 'Q1-Dataset/1080-0.txt': 1, 'Q1-Dataset/pg70817.txt': 1, 'Q1-Dataset/pg1998.txt': 3}, 'Produced': {'Q1-Dataset/pg1513.txt': 1, 'Q1-Dataset/2160-0.txt': 2, 'Q1-Dataset/pg11.txt': 1, 'Q1-Dataset/pg2600.txt': 1, 'Q1-Dataset/pg345.txt': 1, 'Q1-Dataset/pg64317.txt': 1, 'Q1-Dataset/pg70815.txt': 1, 'Q1-Dataset/1080-0.txt': 1, 'Q1-Dataset/pg70817.txt': 1, 'Q1-Dataset/pg1998.txt': 1}, 'all': {'Q1-Dataset/pg1513.txt': 89, 'Q1-Dataset/2160-0.txt': 647, 'Q1-Dataset/pg11.txt': 169, 'Q1-Dataset/pg2600.txt': 2271, 'Q1-Dataset/pg345.txt': 998, 'Q1-Dataset/pg64317.txt': 180, 'Q1-Dataset/pg70815.txt': 163, 'Q1-Dataset/1080-0.txt': 26, 'Q1-Dataset/pg70817.txt': 73, 'Q1-Dataset/pg1998.txt': 756}, 'secure': {'Q1-Dataset/pg1513.txt': 1, 'Q1-Dataset/2160-0.txt': 4, 'Q1-Dataset/pg11.txt': 1, 'Q1-Dataset/pg2600.txt': 15, 'Q1-Dataset/pg345.txt': 5, 'Q1-Dataset/pg64317.txt': 3, 'Q1-Dataset/pg70815.txt': 1, 'Q1-Dataset/1080-0.txt': 1, 'Q1-Dataset/pg70817.txt': 2, 'Q1-Dataset/pg1998.txt': 2}, 'whenever': {'Q1-Dataset/pg1513.txt': 1, 'Q1-Dataset/2160-0.txt': 5, 'Q1-Dataset/pg11.txt': 1, 'Q1-Dataset/pg2600.txt': 9, 'Q1-Dataset/pg345.txt': 7, 'Q1-Dataset/pg64317.txt': 5, 'Q1-Dataset/pg70815.txt': 2, 'Q1-Dataset/1080-0.txt': 1, 'Q1-Dataset/pg70817.txt': 1, 'Q1-Dataset/pg1998.txt': 4}, 'has': {'Q1-Dataset/pg1513.txt': 2, 'Q1-Dataset/2160-0.txt': 394, 'Q1-Dataset/pg11.txt': 8, 'Q1-Dataset/pg2600.txt': 672, 'Q1-Dataset/pg345.txt': 341, 'Q1-Dataset/pg64317.txt': 19, 'Q1-Dataset/pg70815.txt': 68, 'Q1-Dataset/1080-0.txt': 2, 'Q1-Dataset/pg70817.txt': 10, 'Q1-Dataset/pg1998.txt': 45}, 'agreement,': {'Q1-Dataset/pg1513.txt': 6, 'Q1-Dataset/2160-0.txt': 7, 'Q1-Dataset/pg11.txt': 6, 'Q1-Dataset/pg2600.txt': 6, 'Q1-Dataset/pg345.txt': 6, 'Q1-Dataset/pg64317.txt': 6, 'Q1-Dataset/pg70815.txt': 6, 'Q1-Dataset/1080-0.txt': 6, 'Q1-Dataset/pg70817.txt': 6, 'Q1-Dataset/pg1998.txt': 6}, 'does': {'Q1-Dataset/pg1513.txt': 1, 'Q1-Dataset/2160-0.txt': 30, 'Q1-Dataset/pg11.txt': 5, 'Q1-Dataset/pg2600.txt': 197, 'Q1-Dataset/pg345.txt': 63, 'Q1-Dataset/pg64317.txt': 5, 'Q1-Dataset/pg70815.txt': 15, 'Q1-Dataset/1080-0.txt': 1, 'Q1-Dataset/pg70817.txt': 3, 'Q1-Dataset/pg1998.txt': 18}, 'agree': {'Q1-Dataset/pg1513.txt': 7, 'Q1-Dataset/2160-0.txt': 8, 'Q1-Dataset/pg11.txt': 9, 'Q1-Dataset/pg2600.txt': 38, 'Q1-Dataset/pg345.txt': 11, 'Q1-Dataset/pg64317.txt': 7, 'Q1-Dataset/pg70815.txt': 12, 'Q1-Dataset/1080-0.txt': 7, 'Q1-Dataset/pg70817.txt': 8, 'Q1-Dataset/pg1998.txt': 7}, '20%': {'Q1-Dataset/pg1513.txt': 1, 'Q1-Dataset/2160-0.txt': 1, 'Q1-Dataset/pg11.txt': 1, 'Q1-Dataset/pg2600.txt': 1, 'Q1-Dataset/pg345.txt': 1, 'Q1-Dataset/pg64317.txt': 1, 'Q1-Dataset/pg70815.txt': 1, 'Q1-Dataset/1080-0.txt': 1, 'Q1-Dataset/pg70817.txt': 1, 'Q1-Dataset/pg1998.txt': 1}, 'Archive': {'Q1-Dataset/pg1513.txt': 13, 'Q1-Dataset/2160-0.txt': 13, 'Q1-Dataset/pg11.txt': 13, 'Q1-Dataset/pg2600.txt': 13, 'Q1-Dataset/pg345.txt': 13, 'Q1-Dataset/pg64317.txt': 13, 'Q1-Dataset/pg70815.txt': 13, 'Q1-Dataset/1080-0.txt': 13, 'Q1-Dataset/pg70817.txt': 13, 'Q1-Dataset/pg1998.txt': 13}, 'if': {'Q1-Dataset/pg1513.txt': 59, 'Q1-Dataset/2160-0.txt': 331, 'Q1-Dataset/pg11.txt': 73, 'Q1-Dataset/pg2600.txt': 981, 'Q1-Dataset/pg345.txt': 520, 'Q1-Dataset/pg64317.txt': 126, 'Q1-Dataset/pg70815.txt': 138, 'Q1-Dataset/1080-0.txt': 9, 'Q1-Dataset/pg70817.txt': 34, 'Q1-Dataset/pg1998.txt': 168}, 'www.gutenberg.org/license.': {'Q1-Dataset/pg1513.txt': 1, 'Q1-Dataset/2160-0.txt': 1, 'Q1-Dataset/pg11.txt': 1, 'Q1-Dataset/pg2600.txt': 1, 'Q1-Dataset/pg345.txt': 1, 'Q1-Dataset/pg64317.txt': 1, 'Q1-Dataset/pg70815.txt': 1, 'Q1-Dataset/1080-0.txt': 1, 'Q1-Dataset/pg70817.txt': 1, 'Q1-Dataset/pg1998.txt': 1}, 'performed,': {'Q1-Dataset/pg1513.txt': 1, 'Q1-Dataset/2160-0.txt': 5, 'Q1-Dataset/pg11.txt': 1, 'Q1-Dataset/pg2600.txt': 3, 'Q1-Dataset/pg345.txt': 1, 'Q1-Dataset/pg64317.txt': 1, 'Q1-Dataset/pg70815.txt': 1, 'Q1-Dataset/1080-0.txt': 1, 'Q1-Dataset/pg70817.txt': 1, 'Q1-Dataset/pg1998.txt': 1}, 'makes': {'Q1-Dataset/pg1513.txt': 12, 'Q1-Dataset/2160-0.txt': 18, 'Q1-Dataset/pg11.txt': 12, 'Q1-Dataset/pg2600.txt': 27, 'Q1-Dataset/pg345.txt': 20, 'Q1-Dataset/pg64317.txt': 2, 'Q1-Dataset/pg70815.txt': 4, 'Q1-Dataset/1080-0.txt': 1, 'Q1-Dataset/pg70817.txt': 2, 'Q1-Dataset/pg1998.txt': 6}, 'hold': {'Q1-Dataset/pg1513.txt': 6, 'Q1-Dataset/2160-0.txt': 31, 'Q1-Dataset/pg11.txt': 7, 'Q1-Dataset/pg2600.txt': 59, 'Q1-Dataset/pg345.txt': 28, 'Q1-Dataset/pg64317.txt': 5, 'Q1-Dataset/pg70815.txt': 20, 'Q1-Dataset/1080-0.txt': 1, 'Q1-Dataset/pg70817.txt': 4, 'Q1-Dataset/pg1998.txt': 16}, 'met': {'Q1-Dataset/pg1513.txt': 3, 'Q1-Dataset/2160-0.txt': 38, 'Q1-Dataset/pg11.txt': 4, 'Q1-Dataset/pg2600.txt': 140, 'Q1-Dataset/pg345.txt': 28, 'Q1-Dataset/pg64317.txt': 20, 'Q1-Dataset/pg70815.txt': 8, 'Q1-Dataset/1080-0.txt': 1, 'Q1-Dataset/pg70817.txt': 5, 'Q1-Dataset/pg1998.txt': 8}, 'distributed': {'Q1-Dataset/pg1513.txt': 3, 'Q1-Dataset/2160-0.txt': 8, 'Q1-Dataset/pg11.txt': 3, 'Q1-Dataset/pg2600.txt': 9, 'Q1-Dataset/pg345.txt': 4, 'Q1-Dataset/pg64317.txt': 3, 'Q1-Dataset/pg70815.txt': 3, 'Q1-Dataset/1080-0.txt': 3, 'Q1-Dataset/pg70817.txt': 3, 'Q1-Dataset/pg1998.txt': 3}, 'You': {'Q1-Dataset/pg1513.txt': 31, 'Q1-Dataset/2160-0.txt': 50, 'Q1-Dataset/pg11.txt': 18, 'Q1-Dataset/pg2600.txt': 257, 'Q1-Dataset/pg345.txt': 144, 'Q1-Dataset/pg64317.txt': 34, 'Q1-Dataset/pg70815.txt': 25, 'Q1-Dataset/1080-0.txt': 12, 'Q1-Dataset/pg70817.txt': 19, 'Q1-Dataset/pg1998.txt': 15}, 'AGREE': {'Q1-Dataset/pg1513.txt': 2, 'Q1-Dataset/2160-0.txt': 2, 'Q1-Dataset/pg11.txt': 2, 'Q1-Dataset/pg2600.txt': 2, 'Q1-Dataset/pg345.txt': 2, 'Q1-Dataset/pg64317.txt': 2, 'Q1-Dataset/pg70815.txt': 2, 'Q1-Dataset/1080-0.txt': 2, 'Q1-Dataset/pg70817.txt': 2, 'Q1-Dataset/pg1998.txt': 2}, 'takes': {'Q1-Dataset/pg1513.txt': 1, 'Q1-Dataset/2160-0.txt': 11, 'Q1-Dataset/pg11.txt': 3, 'Q1-Dataset/pg2600.txt': 21, 'Q1-Dataset/pg345.txt': 8, 'Q1-Dataset/pg64317.txt': 2, 'Q1-Dataset/pg70815.txt': 2, 'Q1-Dataset/1080-0.txt': 1, 'Q1-Dataset/pg70817.txt': 1, 'Q1-Dataset/pg1998.txt': 4}, 'come': {'Q1-Dataset/pg1513.txt': 39, 'Q1-Dataset/2160-0.txt': 71, 'Q1-Dataset/pg11.txt': 22, 'Q1-Dataset/pg2600.txt': 493, 'Q1-Dataset/pg345.txt': 242, 'Q1-Dataset/pg64317.txt': 53, 'Q1-Dataset/pg70815.txt': 79, 'Q1-Dataset/1080-0.txt': 1, 'Q1-Dataset/pg70817.txt': 5, 'Q1-Dataset/pg1998.txt': 103}, 'lot': {'Q1-Dataset/pg1513.txt': 1, 'Q1-Dataset/2160-0.txt': 1, 'Q1-Dataset/pg11.txt': 1, 'Q1-Dataset/pg2600.txt': 18, 'Q1-Dataset/pg345.txt': 17, 'Q1-Dataset/pg64317.txt': 10, 'Q1-Dataset/pg70815.txt': 2, 'Q1-Dataset/1080-0.txt': 1, 'Q1-Dataset/pg70817.txt': 4, 'Q1-Dataset/pg1998.txt': 5}, 'cost': {'Q1-Dataset/pg1513.txt': 2, 'Q1-Dataset/2160-0.txt': 11, 'Q1-Dataset/pg11.txt': 3, 'Q1-Dataset/pg2600.txt': 24, 'Q1-Dataset/pg345.txt': 2, 'Q1-Dataset/pg64317.txt': 3, 'Q1-Dataset/pg70815.txt': 2, 'Q1-Dataset/1080-0.txt': 2, 'Q1-Dataset/pg70817.txt': 3, 'Q1-Dataset/pg1998.txt': 3}, 'edition.': {'Q1-Dataset/pg1513.txt': 1, 'Q1-Dataset/2160-0.txt': 1, 'Q1-Dataset/pg11.txt': 1, 'Q1-Dataset/pg2600.txt': 1, 'Q1-Dataset/pg345.txt': 1, 'Q1-Dataset/pg64317.txt': 1, 'Q1-Dataset/pg70815.txt': 1, 'Q1-Dataset/1080-0.txt': 1, 'Q1-Dataset/pg70817.txt': 1, 'Q1-Dataset/pg1998.txt': 1}, 'protect': {'Q1-Dataset/pg1513.txt': 2, 'Q1-Dataset/2160-0.txt': 7, 'Q1-Dataset/pg11.txt': 2, 'Q1-Dataset/pg2600.txt': 9, 'Q1-Dataset/pg345.txt': 12, 'Q1-Dataset/pg64317.txt': 2, 'Q1-Dataset/pg70815.txt': 9, 'Q1-Dataset/1080-0.txt': 2, 'Q1-Dataset/pg70817.txt': 2, 'Q1-Dataset/pg1998.txt': 5}, 'newsletter': {'Q1-Dataset/pg1513.txt': 1, 'Q1-Dataset/2160-0.txt': 1, 'Q1-Dataset/pg11.txt': 1, 'Q1-Dataset/pg2600.txt': 1, 'Q1-Dataset/pg345.txt': 1, 'Q1-Dataset/pg64317.txt': 1, 'Q1-Dataset/pg70815.txt': 1, 'Q1-Dataset/1080-0.txt': 1, 'Q1-Dataset/pg70817.txt': 1, 'Q1-Dataset/pg1998.txt': 1}, 'status': {'Q1-Dataset/pg1513.txt': 4, 'Q1-Dataset/2160-0.txt': 4, 'Q1-Dataset/pg11.txt': 4, 'Q1-Dataset/pg2600.txt': 6, 'Q1-Dataset/pg345.txt': 4, 'Q1-Dataset/pg64317.txt': 4, 'Q1-Dataset/pg70815.txt': 4, 'Q1-Dataset/1080-0.txt': 4, 'Q1-Dataset/pg70817.txt': 4, 'Q1-Dataset/pg1998.txt': 4}, 'Royalty': {'Q1-Dataset/pg1513.txt': 2, 'Q1-Dataset/2160-0.txt': 2, 'Q1-Dataset/pg11.txt': 2, 'Q1-Dataset/pg2600.txt': 2, 'Q1-Dataset/pg345.txt': 2, 'Q1-Dataset/pg64317.txt': 2, 'Q1-Dataset/pg70815.txt': 2, 'Q1-Dataset/1080-0.txt': 2, 'Q1-Dataset/pg70817.txt': 2, 'Q1-Dataset/pg1998.txt': 2}, 'EBOOK': {'Q1-Dataset/pg1513.txt': 2, 'Q1-Dataset/2160-0.txt': 2, 'Q1-Dataset/pg11.txt': 2, 'Q1-Dataset/pg2600.txt': 2, 'Q1-Dataset/pg345.txt': 2, 'Q1-Dataset/pg64317.txt': 2, 'Q1-Dataset/pg70815.txt': 2, 'Q1-Dataset/1080-0.txt': 2, 'Q1-Dataset/pg70817.txt': 2, 'Q1-Dataset/pg1998.txt': 2}, 'invalidity': {'Q1-Dataset/pg1513.txt': 1, 'Q1-Dataset/2160-0.txt': 1, 'Q1-Dataset/pg11.txt': 1, 'Q1-Dataset/pg2600.txt': 2, 'Q1-Dataset/pg345.txt': 1, 'Q1-Dataset/pg64317.txt': 1, 'Q1-Dataset/pg70815.txt': 1, 'Q1-Dataset/1080-0.txt': 1, 'Q1-Dataset/pg70817.txt': 1, 'Q1-Dataset/pg1998.txt': 1}, 'less': {'Q1-Dataset/pg1513.txt': 3, 'Q1-Dataset/2160-0.txt': 45, 'Q1-Dataset/pg11.txt': 3, 'Q1-Dataset/pg2600.txt': 136, 'Q1-Dataset/pg345.txt': 26, 'Q1-Dataset/pg64317.txt': 12, 'Q1-Dataset/pg70815.txt': 20, 'Q1-Dataset/1080-0.txt': 1, 'Q1-Dataset/pg70817.txt': 6, 'Q1-Dataset/pg1998.txt': 14}, 'bent': {'Q1-Dataset/pg1513.txt': 1, 'Q1-Dataset/2160-0.txt': 1, 'Q1-Dataset/pg11.txt': 1, 'Q1-Dataset/pg2600.txt': 59, 'Q1-Dataset/pg345.txt': 26, 'Q1-Dataset/pg64317.txt': 4, 'Q1-Dataset/pg70815.txt': 3, 'Q1-Dataset/1080-0.txt': 1, 'Q1-Dataset/pg70817.txt': 5, 'Q1-Dataset/pg1998.txt': 3}, 'answer': {'Q1-Dataset/pg1513.txt': 7, 'Q1-Dataset/2160-0.txt': 13, 'Q1-Dataset/pg11.txt': 6, 'Q1-Dataset/pg2600.txt': 97, 'Q1-Dataset/pg345.txt': 30, 'Q1-Dataset/pg64317.txt': 5, 'Q1-Dataset/pg70815.txt': 5, 'Q1-Dataset/1080-0.txt': 1, 'Q1-Dataset/pg70817.txt': 2, 'Q1-Dataset/pg1998.txt': 8}, 'nearly': {'Q1-Dataset/pg1513.txt': 1, 'Q1-Dataset/2160-0.txt': 6, 'Q1-Dataset/pg11.txt': 11, 'Q1-Dataset/pg2600.txt': 52, 'Q1-Dataset/pg345.txt': 21, 'Q1-Dataset/pg64317.txt': 3, 'Q1-Dataset/pg70815.txt': 2, 'Q1-Dataset/1080-0.txt': 1, 'Q1-Dataset/pg70817.txt': 15, 'Q1-Dataset/pg1998.txt': 5}, 'among': {'Q1-Dataset/pg1513.txt': 4, 'Q1-Dataset/2160-0.txt': 87, 'Q1-Dataset/pg11.txt': 12, 'Q1-Dataset/pg2600.txt': 192, 'Q1-Dataset/pg345.txt': 8, 'Q1-Dataset/pg64317.txt': 20, 'Q1-Dataset/pg70815.txt': 54, 'Q1-Dataset/1080-0.txt': 6, 'Q1-Dataset/pg70817.txt': 1, 'Q1-Dataset/pg1998.txt': 61}, 'Foundation': {'Q1-Dataset/pg1513.txt': 13, 'Q1-Dataset/2160-0.txt': 14, 'Q1-Dataset/pg11.txt': 13, 'Q1-Dataset/pg2600.txt': 13, 'Q1-Dataset/pg345.txt': 13, 'Q1-Dataset/pg64317.txt': 13, 'Q1-Dataset/pg70815.txt': 13, 'Q1-Dataset/1080-0.txt': 13, 'Q1-Dataset/pg70817.txt': 13, 'Q1-Dataset/pg1998.txt': 13}, 'choose': {'Q1-Dataset/pg1513.txt': 4, 'Q1-Dataset/2160-0.txt': 8, 'Q1-Dataset/pg11.txt': 1, 'Q1-Dataset/pg2600.txt': 21, 'Q1-Dataset/pg345.txt': 5, 'Q1-Dataset/pg64317.txt': 2, 'Q1-Dataset/pg70815.txt': 4, 'Q1-Dataset/1080-0.txt': 1, 'Q1-Dataset/pg70817.txt': 1, 'Q1-Dataset/pg1998.txt': 6}, 'because': {'Q1-Dataset/pg1513.txt': 8, 'Q1-Dataset/2160-0.txt': 39, 'Q1-Dataset/pg11.txt': 12, 'Q1-Dataset/pg2600.txt': 439, 'Q1-Dataset/pg345.txt': 44, 'Q1-Dataset/pg64317.txt': 45, 'Q1-Dataset/pg70815.txt': 36, 'Q1-Dataset/1080-0.txt': 4, 'Q1-Dataset/pg70817.txt': 11, 'Q1-Dataset/pg1998.txt': 86}, 'disclaim': {'Q1-Dataset/pg1513.txt': 1, 'Q1-Dataset/2160-0.txt': 1, 'Q1-Dataset/pg11.txt': 1, 'Q1-Dataset/pg2600.txt': 1, 'Q1-Dataset/pg345.txt': 1, 'Q1-Dataset/pg64317.txt': 1, 'Q1-Dataset/pg70815.txt': 1, 'Q1-Dataset/1080-0.txt': 1, 'Q1-Dataset/pg70817.txt': 1, 'Q1-Dataset/pg1998.txt': 2}, 'For': {'Q1-Dataset/pg1513.txt': 59, 'Q1-Dataset/2160-0.txt': 19, 'Q1-Dataset/pg11.txt': 11, 'Q1-Dataset/pg2600.txt': 116, 'Q1-Dataset/pg345.txt': 67, 'Q1-Dataset/pg64317.txt': 17, 'Q1-Dataset/pg70815.txt': 38, 'Q1-Dataset/1080-0.txt': 7, 'Q1-Dataset/pg70817.txt': 25, 'Q1-Dataset/pg1998.txt': 163}, 'INDIRECT,': {'Q1-Dataset/pg1513.txt': 1, 'Q1-Dataset/2160-0.txt': 1, 'Q1-Dataset/pg11.txt': 1, 'Q1-Dataset/pg2600.txt': 1, 'Q1-Dataset/pg345.txt': 1, 'Q1-Dataset/pg64317.txt': 1, 'Q1-Dataset/pg70815.txt': 1, 'Q1-Dataset/1080-0.txt': 1, 'Q1-Dataset/pg70817.txt': 1, 'Q1-Dataset/pg1998.txt': 1}, 'to': {'Q1-Dataset/pg1513.txt': 524, 'Q1-Dataset/2160-0.txt': 4299, 'Q1-Dataset/pg11.txt': 778, 'Q1-Dataset/pg2600.txt': 16324, 'Q1-Dataset/pg345.txt': 4465, 'Q1-Dataset/pg64317.txt': 1175, 'Q1-Dataset/pg70815.txt': 1988, 'Q1-Dataset/1080-0.txt': 180, 'Q1-Dataset/pg70817.txt': 564, 'Q1-Dataset/pg1998.txt': 2518}, 'REMEDIES': {'Q1-Dataset/pg1513.txt': 1, 'Q1-Dataset/2160-0.txt': 1, 'Q1-Dataset/pg11.txt': 1, 'Q1-Dataset/pg2600.txt': 1, 'Q1-Dataset/pg345.txt': 1, 'Q1-Dataset/pg64317.txt': 1, 'Q1-Dataset/pg70815.txt': 1, 'Q1-Dataset/1080-0.txt': 1, 'Q1-Dataset/pg70817.txt': 1, 'Q1-Dataset/pg1998.txt': 1}, 'credit': {'Q1-Dataset/pg1513.txt': 1, 'Q1-Dataset/2160-0.txt': 12, 'Q1-Dataset/pg11.txt': 1, 'Q1-Dataset/pg2600.txt': 5, 'Q1-Dataset/pg345.txt': 3, 'Q1-Dataset/pg64317.txt': 2, 'Q1-Dataset/pg70815.txt': 3, 'Q1-Dataset/1080-0.txt': 1, 'Q1-Dataset/pg70817.txt': 1, 'Q1-Dataset/pg1998.txt': 2}, 'grow': {'Q1-Dataset/pg1513.txt': 2, 'Q1-Dataset/2160-0.txt': 13, 'Q1-Dataset/pg11.txt': 13, 'Q1-Dataset/pg2600.txt': 26, 'Q1-Dataset/pg345.txt': 19, 'Q1-Dataset/pg64317.txt': 4, 'Q1-Dataset/pg70815.txt': 2, 'Q1-Dataset/1080-0.txt': 2, 'Q1-Dataset/pg70817.txt': 1, 'Q1-Dataset/pg1998.txt': 3}, 'effort': {'Q1-Dataset/pg1513.txt': 1, 'Q1-Dataset/2160-0.txt': 11, 'Q1-Dataset/pg11.txt': 1, 'Q1-Dataset/pg2600.txt': 52, 'Q1-Dataset/pg345.txt': 26, 'Q1-Dataset/pg64317.txt': 9, 'Q1-Dataset/pg70815.txt': 30, 'Q1-Dataset/1080-0.txt': 1, 'Q1-Dataset/pg70817.txt': 3, 'Q1-Dataset/pg1998.txt': 2}, 'want': {'Q1-Dataset/pg1513.txt': 2, 'Q1-Dataset/2160-0.txt': 49, 'Q1-Dataset/pg11.txt': 9, 'Q1-Dataset/pg2600.txt': 211, 'Q1-Dataset/pg345.txt': 104, 'Q1-Dataset/pg64317.txt': 51, 'Q1-Dataset/pg70815.txt': 15, 'Q1-Dataset/1080-0.txt': 5, 'Q1-Dataset/pg70817.txt': 6, 'Q1-Dataset/pg1998.txt': 80}, 'readable': {'Q1-Dataset/pg1513.txt': 1, 'Q1-Dataset/2160-0.txt': 2, 'Q1-Dataset/pg11.txt': 1, 'Q1-Dataset/pg2600.txt': 1, 'Q1-Dataset/pg345.txt': 1, 'Q1-Dataset/pg64317.txt': 1, 'Q1-Dataset/pg70815.txt': 1, 'Q1-Dataset/1080-0.txt': 1, 'Q1-Dataset/pg70817.txt': 1, 'Q1-Dataset/pg1998.txt': 1}, 'time,': {'Q1-Dataset/pg1513.txt': 6, 'Q1-Dataset/2160-0.txt': 70, 'Q1-Dataset/pg11.txt': 6, 'Q1-Dataset/pg2600.txt': 137, 'Q1-Dataset/pg345.txt': 52, 'Q1-Dataset/pg64317.txt': 11, 'Q1-Dataset/pg70815.txt': 17, 'Q1-Dataset/1080-0.txt': 1, 'Q1-Dataset/pg70817.txt': 5, 'Q1-Dataset/pg1998.txt': 21}, 'such': {'Q1-Dataset/pg1513.txt': 45, 'Q1-Dataset/2160-0.txt': 384, 'Q1-Dataset/pg11.txt': 45, 'Q1-Dataset/pg2600.txt': 566, 'Q1-Dataset/pg345.txt': 221, 'Q1-Dataset/pg64317.txt': 23, 'Q1-Dataset/pg70815.txt': 89, 'Q1-Dataset/1080-0.txt': 8, 'Q1-Dataset/pg70817.txt': 15, 'Q1-Dataset/pg1998.txt': 153}, 'eBooks': {'Q1-Dataset/pg1513.txt': 5, 'Q1-Dataset/2160-0.txt': 3, 'Q1-Dataset/pg11.txt': 5, 'Q1-Dataset/pg2600.txt': 5, 'Q1-Dataset/pg345.txt': 5, 'Q1-Dataset/pg64317.txt': 5, 'Q1-Dataset/pg70815.txt': 5, 'Q1-Dataset/1080-0.txt': 5, 'Q1-Dataset/pg70817.txt': 5, 'Q1-Dataset/pg1998.txt': 5}, 'electronically,': {'Q1-Dataset/pg1513.txt': 1, 'Q1-Dataset/2160-0.txt': 1, 'Q1-Dataset/pg11.txt': 1, 'Q1-Dataset/pg2600.txt': 1, 'Q1-Dataset/pg345.txt': 1, 'Q1-Dataset/pg64317.txt': 1, 'Q1-Dataset/pg70815.txt': 1, 'Q1-Dataset/1080-0.txt': 1, 'Q1-Dataset/pg70817.txt': 1, 'Q1-Dataset/pg1998.txt': 1}, 'people': {'Q1-Dataset/pg1513.txt': 4, 'Q1-Dataset/2160-0.txt': 70, 'Q1-Dataset/pg11.txt': 13, 'Q1-Dataset/pg2600.txt': 379, 'Q1-Dataset/pg345.txt': 33, 'Q1-Dataset/pg64317.txt': 45, 'Q1-Dataset/pg70815.txt': 35, 'Q1-Dataset/1080-0.txt': 7, 'Q1-Dataset/pg70817.txt': 10, 'Q1-Dataset/pg1998.txt': 84}, 'FITNESS': {'Q1-Dataset/pg1513.txt': 1, 'Q1-Dataset/2160-0.txt': 1, 'Q1-Dataset/pg11.txt': 1, 'Q1-Dataset/pg2600.txt': 1, 'Q1-Dataset/pg345.txt': 1, 'Q1-Dataset/pg64317.txt': 1, 'Q1-Dataset/pg70815.txt': 1, 'Q1-Dataset/1080-0.txt': 1, 'Q1-Dataset/pg70817.txt': 1, 'Q1-Dataset/pg1998.txt': 1}, 'should': {'Q1-Dataset/pg1513.txt': 48, 'Q1-Dataset/2160-0.txt': 257, 'Q1-Dataset/pg11.txt': 29, 'Q1-Dataset/pg2600.txt': 510, 'Q1-Dataset/pg345.txt': 188, 'Q1-Dataset/pg64317.txt': 11, 'Q1-Dataset/pg70815.txt': 59, 'Q1-Dataset/1080-0.txt': 4, 'Q1-Dataset/pg70817.txt': 6, 'Q1-Dataset/pg1998.txt': 128}, 'request,': {'Q1-Dataset/pg1513.txt': 1, 'Q1-Dataset/2160-0.txt': 6, 'Q1-Dataset/pg11.txt': 1, 'Q1-Dataset/pg2600.txt': 4, 'Q1-Dataset/pg345.txt': 3, 'Q1-Dataset/pg64317.txt': 1, 'Q1-Dataset/pg70815.txt': 1, 'Q1-Dataset/1080-0.txt': 1, 'Q1-Dataset/pg70817.txt': 1, 'Q1-Dataset/pg1998.txt': 1}, 'see': {'Q1-Dataset/pg1513.txt': 28, 'Q1-Dataset/2160-0.txt': 102, 'Q1-Dataset/pg11.txt': 48, 'Q1-Dataset/pg2600.txt': 593, 'Q1-Dataset/pg345.txt': 336, 'Q1-Dataset/pg64317.txt': 57, 'Q1-Dataset/pg70815.txt': 59, 'Q1-Dataset/1080-0.txt': 3, 'Q1-Dataset/pg70817.txt': 25, 'Q1-Dataset/pg1998.txt': 95}, 'me': {'Q1-Dataset/pg1513.txt': 172, 'Q1-Dataset/2160-0.txt': 410, 'Q1-Dataset/pg11.txt': 46, 'Q1-Dataset/pg2600.txt': 656, 'Q1-Dataset/pg345.txt': 846, 'Q1-Dataset/pg64317.txt': 222, 'Q1-Dataset/pg70815.txt': 56, 'Q1-Dataset/1080-0.txt': 4, 'Q1-Dataset/pg70817.txt': 41, 'Q1-Dataset/pg1998.txt': 337}, 'associated': {'Q1-Dataset/pg1513.txt': 6, 'Q1-Dataset/2160-0.txt': 7, 'Q1-Dataset/pg11.txt': 7, 'Q1-Dataset/pg2600.txt': 13, 'Q1-Dataset/pg345.txt': 6, 'Q1-Dataset/pg64317.txt': 7, 'Q1-Dataset/pg70815.txt': 7, 'Q1-Dataset/1080-0.txt': 7, 'Q1-Dataset/pg70817.txt': 6, 'Q1-Dataset/pg1998.txt': 8}, 'reaching': {'Q1-Dataset/pg1513.txt': 1, 'Q1-Dataset/2160-0.txt': 5, 'Q1-Dataset/pg11.txt': 2, 'Q1-Dataset/pg2600.txt': 31, 'Q1-Dataset/pg345.txt': 3, 'Q1-Dataset/pg64317.txt': 1, 'Q1-Dataset/pg70815.txt': 3, 'Q1-Dataset/1080-0.txt': 1, 'Q1-Dataset/pg70817.txt': 3, 'Q1-Dataset/pg1998.txt': 1}, 'when': {'Q1-Dataset/pg1513.txt': 38, 'Q1-Dataset/2160-0.txt': 268, 'Q1-Dataset/pg11.txt': 67, 'Q1-Dataset/pg2600.txt': 1054, 'Q1-Dataset/pg345.txt': 545, 'Q1-Dataset/pg64317.txt': 102, 'Q1-Dataset/pg70815.txt': 185, 'Q1-Dataset/1080-0.txt': 8, 'Q1-Dataset/pg70817.txt': 51, 'Q1-Dataset/pg1998.txt': 293}, 'proofread': {'Q1-Dataset/pg1513.txt': 1, 'Q1-Dataset/2160-0.txt': 1, 'Q1-Dataset/pg11.txt': 1, 'Q1-Dataset/pg2600.txt': 1, 'Q1-Dataset/pg345.txt': 1, 'Q1-Dataset/pg64317.txt': 1, 'Q1-Dataset/pg70815.txt': 1, 'Q1-Dataset/1080-0.txt': 1, 'Q1-Dataset/pg70817.txt': 1, 'Q1-Dataset/pg1998.txt': 1}, '5.': {'Q1-Dataset/pg1513.txt': 1, 'Q1-Dataset/2160-0.txt': 2, 'Q1-Dataset/pg11.txt': 1, 'Q1-Dataset/pg2600.txt': 2, 'Q1-Dataset/pg345.txt': 1, 'Q1-Dataset/pg64317.txt': 1, 'Q1-Dataset/pg70815.txt': 1, 'Q1-Dataset/1080-0.txt': 1, 'Q1-Dataset/pg70817.txt': 1, 'Q1-Dataset/pg1998.txt': 7}, 'opportunities': {'Q1-Dataset/pg1513.txt': 1, 'Q1-Dataset/2160-0.txt': 2, 'Q1-Dataset/pg11.txt': 1, 'Q1-Dataset/pg2600.txt': 4, 'Q1-Dataset/pg345.txt': 4, 'Q1-Dataset/pg64317.txt': 1, 'Q1-Dataset/pg70815.txt': 1, 'Q1-Dataset/1080-0.txt': 1, 'Q1-Dataset/pg70817.txt': 1, 'Q1-Dataset/pg1998.txt': 2}, 'owner': {'Q1-Dataset/pg1513.txt': 2, 'Q1-Dataset/2160-0.txt': 4, 'Q1-Dataset/pg11.txt': 2, 'Q1-Dataset/pg2600.txt': 7, 'Q1-Dataset/pg345.txt': 8, 'Q1-Dataset/pg64317.txt': 2, 'Q1-Dataset/pg70815.txt': 2, 'Q1-Dataset/1080-0.txt': 2, 'Q1-Dataset/pg70817.txt': 3, 'Q1-Dataset/pg1998.txt': 2}, 'Any': {'Q1-Dataset/pg1513.txt': 2, 'Q1-Dataset/2160-0.txt': 1, 'Q1-Dataset/pg11.txt': 1, 'Q1-Dataset/pg2600.txt': 4, 'Q1-Dataset/pg345.txt': 1, 'Q1-Dataset/pg64317.txt': 1, 'Q1-Dataset/pg70815.txt': 2, 'Q1-Dataset/1080-0.txt': 1, 'Q1-Dataset/pg70817.txt': 1, 'Q1-Dataset/pg1998.txt': 1}, 'complying': {'Q1-Dataset/pg1513.txt': 3, 'Q1-Dataset/2160-0.txt': 3, 'Q1-Dataset/pg11.txt': 3, 'Q1-Dataset/pg2600.txt': 4, 'Q1-Dataset/pg345.txt': 3, 'Q1-Dataset/pg64317.txt': 3, 'Q1-Dataset/pg70815.txt': 3, 'Q1-Dataset/1080-0.txt': 3, 'Q1-Dataset/pg70817.txt': 3, 'Q1-Dataset/pg1998.txt': 3}, 'copyright': {'Q1-Dataset/pg1513.txt': 18, 'Q1-Dataset/2160-0.txt': 12, 'Q1-Dataset/pg11.txt': 18, 'Q1-Dataset/pg2600.txt': 18, 'Q1-Dataset/pg345.txt': 18, 'Q1-Dataset/pg64317.txt': 18, 'Q1-Dataset/pg70815.txt': 18, 'Q1-Dataset/1080-0.txt': 18, 'Q1-Dataset/pg70817.txt': 19, 'Q1-Dataset/pg1998.txt': 18}, 'sure': {'Q1-Dataset/pg1513.txt': 2, 'Q1-Dataset/2160-0.txt': 37, 'Q1-Dataset/pg11.txt': 16, 'Q1-Dataset/pg2600.txt': 60, 'Q1-Dataset/pg345.txt': 28, 'Q1-Dataset/pg64317.txt': 11, 'Q1-Dataset/pg70815.txt': 20, 'Q1-Dataset/1080-0.txt': 1, 'Q1-Dataset/pg70817.txt': 17, 'Q1-Dataset/pg1998.txt': 6}, 'twelve': {'Q1-Dataset/pg1513.txt': 2, 'Q1-Dataset/2160-0.txt': 8, 'Q1-Dataset/pg11.txt': 2, 'Q1-Dataset/pg2600.txt': 8, 'Q1-Dataset/pg345.txt': 5, 'Q1-Dataset/pg64317.txt': 3, 'Q1-Dataset/pg70815.txt': 3, 'Q1-Dataset/1080-0.txt': 1, 'Q1-Dataset/pg70817.txt': 1, 'Q1-Dataset/pg1998.txt': 2}, 'yet': {'Q1-Dataset/pg1513.txt': 35, 'Q1-Dataset/2160-0.txt': 70, 'Q1-Dataset/pg11.txt': 6, 'Q1-Dataset/pg2600.txt': 277, 'Q1-Dataset/pg345.txt': 120, 'Q1-Dataset/pg64317.txt': 7, 'Q1-Dataset/pg70815.txt': 66, 'Q1-Dataset/1080-0.txt': 1, 'Q1-Dataset/pg70817.txt': 18, 'Q1-Dataset/pg1998.txt': 121}, 'Lake': {'Q1-Dataset/pg1513.txt': 1, 'Q1-Dataset/2160-0.txt': 1, 'Q1-Dataset/pg11.txt': 1, 'Q1-Dataset/pg2600.txt': 1, 'Q1-Dataset/pg345.txt': 2, 'Q1-Dataset/pg64317.txt': 5, 'Q1-Dataset/pg70815.txt': 1, 'Q1-Dataset/1080-0.txt': 1, 'Q1-Dataset/pg70817.txt': 1, 'Q1-Dataset/pg1998.txt': 1}, 'Creating': {'Q1-Dataset/pg1513.txt': 1, 'Q1-Dataset/2160-0.txt': 1, 'Q1-Dataset/pg11.txt': 1, 'Q1-Dataset/pg2600.txt': 1, 'Q1-Dataset/pg345.txt': 1, 'Q1-Dataset/pg64317.txt': 1, 'Q1-Dataset/pg70815.txt': 1, 'Q1-Dataset/1080-0.txt': 1, 'Q1-Dataset/pg70817.txt': 1, 'Q1-Dataset/pg1998.txt': 4}, 'Then': {'Q1-Dataset/pg1513.txt': 26, 'Q1-Dataset/2160-0.txt': 20, 'Q1-Dataset/pg11.txt': 9, 'Q1-Dataset/pg2600.txt': 145, 'Q1-Dataset/pg345.txt': 162, 'Q1-Dataset/pg64317.txt': 43, 'Q1-Dataset/pg70815.txt': 16, 'Q1-Dataset/1080-0.txt': 1, 'Q1-Dataset/pg70817.txt': 10, 'Q1-Dataset/pg1998.txt': 72}, 'creating': {'Q1-Dataset/pg1513.txt': 3, 'Q1-Dataset/2160-0.txt': 3, 'Q1-Dataset/pg11.txt': 3, 'Q1-Dataset/pg2600.txt': 3, 'Q1-Dataset/pg345.txt': 3, 'Q1-Dataset/pg64317.txt': 3, 'Q1-Dataset/pg70815.txt': 3, 'Q1-Dataset/1080-0.txt': 3, 'Q1-Dataset/pg70817.txt': 3, 'Q1-Dataset/pg1998.txt': 30}, 'Literary': {'Q1-Dataset/pg1513.txt': 13, 'Q1-Dataset/2160-0.txt': 13, 'Q1-Dataset/pg11.txt': 13, 'Q1-Dataset/pg2600.txt': 13, 'Q1-Dataset/pg345.txt': 13, 'Q1-Dataset/pg64317.txt': 13, 'Q1-Dataset/pg70815.txt': 13, 'Q1-Dataset/1080-0.txt': 13, 'Q1-Dataset/pg70817.txt': 13, 'Q1-Dataset/pg1998.txt': 13}, 'copying': {'Q1-Dataset/pg1513.txt': 2, 'Q1-Dataset/2160-0.txt': 2, 'Q1-Dataset/pg11.txt': 2, 'Q1-Dataset/pg2600.txt': 5, 'Q1-Dataset/pg345.txt': 2, 'Q1-Dataset/pg64317.txt': 2, 'Q1-Dataset/pg70815.txt': 2, 'Q1-Dataset/1080-0.txt': 2, 'Q1-Dataset/pg70817.txt': 2, 'Q1-Dataset/pg1998.txt': 2}, 'figure': {'Q1-Dataset/pg1513.txt': 1, 'Q1-Dataset/2160-0.txt': 15, 'Q1-Dataset/pg11.txt': 1, 'Q1-Dataset/pg2600.txt': 54, 'Q1-Dataset/pg345.txt': 16, 'Q1-Dataset/pg64317.txt': 6, 'Q1-Dataset/pg70815.txt': 5, 'Q1-Dataset/1080-0.txt': 2, 'Q1-Dataset/pg70817.txt': 3, 'Q1-Dataset/pg1998.txt': 8}, 'taxes.': {'Q1-Dataset/pg1513.txt': 1, 'Q1-Dataset/2160-0.txt': 1, 'Q1-Dataset/pg11.txt': 1, 'Q1-Dataset/pg2600.txt': 1, 'Q1-Dataset/pg345.txt': 1, 'Q1-Dataset/pg64317.txt': 1, 'Q1-Dataset/pg70815.txt': 1, 'Q1-Dataset/1080-0.txt': 1, 'Q1-Dataset/pg70817.txt': 1, 'Q1-Dataset/pg1998.txt': 1}, 'work.': {'Q1-Dataset/pg1513.txt': 5, 'Q1-Dataset/2160-0.txt': 5, 'Q1-Dataset/pg11.txt': 5, 'Q1-Dataset/pg2600.txt': 26, 'Q1-Dataset/pg345.txt': 23, 'Q1-Dataset/pg64317.txt': 6, 'Q1-Dataset/pg70815.txt': 5, 'Q1-Dataset/1080-0.txt': 5, 'Q1-Dataset/pg70817.txt': 7, 'Q1-Dataset/pg1998.txt': 7}, 'liability': {'Q1-Dataset/pg1513.txt': 1, 'Q1-Dataset/2160-0.txt': 1, 'Q1-Dataset/pg11.txt': 1, 'Q1-Dataset/pg2600.txt': 1, 'Q1-Dataset/pg345.txt': 1, 'Q1-Dataset/pg64317.txt': 1, 'Q1-Dataset/pg70815.txt': 1, 'Q1-Dataset/1080-0.txt': 1, 'Q1-Dataset/pg70817.txt': 1, 'Q1-Dataset/pg1998.txt': 1}, 'YOU': {'Q1-Dataset/pg1513.txt': 6, 'Q1-Dataset/2160-0.txt': 6, 'Q1-Dataset/pg11.txt': 6, 'Q1-Dataset/pg2600.txt': 6, 'Q1-Dataset/pg345.txt': 6, 'Q1-Dataset/pg64317.txt': 6, 'Q1-Dataset/pg70815.txt': 6, 'Q1-Dataset/1080-0.txt': 6, 'Q1-Dataset/pg70817.txt': 6, 'Q1-Dataset/pg1998.txt': 8}, 'work': {'Q1-Dataset/pg1513.txt': 34, 'Q1-Dataset/2160-0.txt': 46, 'Q1-Dataset/pg11.txt': 39, 'Q1-Dataset/pg2600.txt': 106, 'Q1-Dataset/pg345.txt': 122, 'Q1-Dataset/pg64317.txt': 38, 'Q1-Dataset/pg70815.txt': 41, 'Q1-Dataset/1080-0.txt': 35, 'Q1-Dataset/pg70817.txt': 38, 'Q1-Dataset/pg1998.txt': 49}, 'he': {'Q1-Dataset/pg1513.txt': 96, 'Q1-Dataset/2160-0.txt': 1728, 'Q1-Dataset/pg11.txt': 96, 'Q1-Dataset/pg2600.txt': 7631, 'Q1-Dataset/pg345.txt': 1948, 'Q1-Dataset/pg64317.txt': 560, 'Q1-Dataset/pg70815.txt': 1297, 'Q1-Dataset/1080-0.txt': 7, 'Q1-Dataset/pg70817.txt': 353, 'Q1-Dataset/pg1998.txt': 896}, 'library': {'Q1-Dataset/pg1513.txt': 1, 'Q1-Dataset/2160-0.txt': 1, 'Q1-Dataset/pg11.txt': 1, 'Q1-Dataset/pg2600.txt': 3, 'Q1-Dataset/pg345.txt': 3, 'Q1-Dataset/pg64317.txt': 5, 'Q1-Dataset/pg70815.txt': 1, 'Q1-Dataset/1080-0.txt': 1, 'Q1-Dataset/pg70817.txt': 2, 'Q1-Dataset/pg1998.txt': 1}, 'calculate': {'Q1-Dataset/pg1513.txt': 1, 'Q1-Dataset/2160-0.txt': 1, 'Q1-Dataset/pg11.txt': 1, 'Q1-Dataset/pg2600.txt': 1, 'Q1-Dataset/pg345.txt': 1, 'Q1-Dataset/pg64317.txt': 1, 'Q1-Dataset/pg70815.txt': 1, 'Q1-Dataset/1080-0.txt': 3, 'Q1-Dataset/pg70817.txt': 1, 'Q1-Dataset/pg1998.txt': 1}, 'beat': {'Q1-Dataset/pg1513.txt': 3, 'Q1-Dataset/2160-0.txt': 8, 'Q1-Dataset/pg11.txt': 4, 'Q1-Dataset/pg2600.txt': 29, 'Q1-Dataset/pg345.txt': 15, 'Q1-Dataset/pg64317.txt': 8, 'Q1-Dataset/pg70815.txt': 5, 'Q1-Dataset/1080-0.txt': 1, 'Q1-Dataset/pg70817.txt': 1, 'Q1-Dataset/pg1998.txt': 4}, 'copying,': {'Q1-Dataset/pg1513.txt': 2, 'Q1-Dataset/2160-0.txt': 2, 'Q1-Dataset/pg11.txt': 2, 'Q1-Dataset/pg2600.txt': 2, 'Q1-Dataset/pg345.txt': 2, 'Q1-Dataset/pg64317.txt': 2, 'Q1-Dataset/pg70815.txt': 2, 'Q1-Dataset/1080-0.txt': 2, 'Q1-Dataset/pg70817.txt': 2, 'Q1-Dataset/pg1998.txt': 2}, 'Please': {'Q1-Dataset/pg1513.txt': 1, 'Q1-Dataset/2160-0.txt': 2, 'Q1-Dataset/pg11.txt': 1, 'Q1-Dataset/pg2600.txt': 12, 'Q1-Dataset/pg345.txt': 3, 'Q1-Dataset/pg64317.txt': 2, 'Q1-Dataset/pg70815.txt': 1, 'Q1-Dataset/1080-0.txt': 1, 'Q1-Dataset/pg70817.txt': 1, 'Q1-Dataset/pg1998.txt': 1}, 'home': {'Q1-Dataset/pg1513.txt': 4, 'Q1-Dataset/2160-0.txt': 16, 'Q1-Dataset/pg11.txt': 1, 'Q1-Dataset/pg2600.txt': 91, 'Q1-Dataset/pg345.txt': 42, 'Q1-Dataset/pg64317.txt': 9, 'Q1-Dataset/pg70815.txt': 7, 'Q1-Dataset/1080-0.txt': 2, 'Q1-Dataset/pg70817.txt': 7, 'Q1-Dataset/pg1998.txt': 20}, 'errors,': {'Q1-Dataset/pg1513.txt': 1, 'Q1-Dataset/2160-0.txt': 1, 'Q1-Dataset/pg11.txt': 1, 'Q1-Dataset/pg2600.txt': 1, 'Q1-Dataset/pg345.txt': 1, 'Q1-Dataset/pg64317.txt': 1, 'Q1-Dataset/pg70815.txt': 1, 'Q1-Dataset/1080-0.txt': 1, 'Q1-Dataset/pg70817.txt': 1, 'Q1-Dataset/pg1998.txt': 2}, 'active': {'Q1-Dataset/pg1513.txt': 2, 'Q1-Dataset/2160-0.txt': 3, 'Q1-Dataset/pg11.txt': 2, 'Q1-Dataset/pg2600.txt': 23, 'Q1-Dataset/pg345.txt': 7, 'Q1-Dataset/pg64317.txt': 2, 'Q1-Dataset/pg70815.txt': 3, 'Q1-Dataset/1080-0.txt': 2, 'Q1-Dataset/pg70817.txt': 2, 'Q1-Dataset/pg1998.txt': 4}, 'page': {'Q1-Dataset/pg1513.txt': 2, 'Q1-Dataset/2160-0.txt': 2, 'Q1-Dataset/pg11.txt': 2, 'Q1-Dataset/pg2600.txt': 10, 'Q1-Dataset/pg345.txt': 3, 'Q1-Dataset/pg64317.txt': 3, 'Q1-Dataset/pg70815.txt': 3, 'Q1-Dataset/1080-0.txt': 2, 'Q1-Dataset/pg70817.txt': 2, 'Q1-Dataset/pg1998.txt': 5}, 'Date:': {'Q1-Dataset/pg1513.txt': 1, 'Q1-Dataset/2160-0.txt': 1, 'Q1-Dataset/pg11.txt': 1, 'Q1-Dataset/pg2600.txt': 1, 'Q1-Dataset/pg345.txt': 1, 'Q1-Dataset/pg64317.txt': 1, 'Q1-Dataset/pg70815.txt': 1, 'Q1-Dataset/1080-0.txt': 1, 'Q1-Dataset/pg70817.txt': 1, 'Q1-Dataset/pg1998.txt': 1}, 'above': {'Q1-Dataset/pg1513.txt': 7, 'Q1-Dataset/2160-0.txt': 72, 'Q1-Dataset/pg11.txt': 3, 'Q1-Dataset/pg2600.txt': 130, 'Q1-Dataset/pg345.txt': 15, 'Q1-Dataset/pg64317.txt': 6, 'Q1-Dataset/pg70815.txt': 89, 'Q1-Dataset/1080-0.txt': 4, 'Q1-Dataset/pg70817.txt': 6, 'Q1-Dataset/pg1998.txt': 50}, 'disk': {'Q1-Dataset/pg1513.txt': 1, 'Q1-Dataset/2160-0.txt': 1, 'Q1-Dataset/pg11.txt': 1, 'Q1-Dataset/pg2600.txt': 1, 'Q1-Dataset/pg345.txt': 1, 'Q1-Dataset/pg64317.txt': 1, 'Q1-Dataset/pg70815.txt': 1, 'Q1-Dataset/1080-0.txt': 1, 'Q1-Dataset/pg70817.txt': 1, 'Q1-Dataset/pg1998.txt': 1}, 'MERCHANTABILITY': {'Q1-Dataset/pg1513.txt': 1, 'Q1-Dataset/2160-0.txt': 1, 'Q1-Dataset/pg11.txt': 1, 'Q1-Dataset/pg2600.txt': 1, 'Q1-Dataset/pg345.txt': 1, 'Q1-Dataset/pg64317.txt': 1, 'Q1-Dataset/pg70815.txt': 1, 'Q1-Dataset/1080-0.txt': 1, 'Q1-Dataset/pg70817.txt': 1, 'Q1-Dataset/pg1998.txt': 1}, 'WARRANTY,': {'Q1-Dataset/pg1513.txt': 1, 'Q1-Dataset/2160-0.txt': 1, 'Q1-Dataset/pg11.txt': 1, 'Q1-Dataset/pg2600.txt': 1, 'Q1-Dataset/pg345.txt': 1, 'Q1-Dataset/pg64317.txt': 1, 'Q1-Dataset/pg70815.txt': 1, 'Q1-Dataset/1080-0.txt': 1, 'Q1-Dataset/pg70817.txt': 1, 'Q1-Dataset/pg1998.txt': 1}, 'let': {'Q1-Dataset/pg1513.txt': 30, 'Q1-Dataset/2160-0.txt': 41, 'Q1-Dataset/pg11.txt': 7, 'Q1-Dataset/pg2600.txt': 287, 'Q1-Dataset/pg345.txt': 111, 'Q1-Dataset/pg64317.txt': 24, 'Q1-Dataset/pg70815.txt': 17, 'Q1-Dataset/1080-0.txt': 3, 'Q1-Dataset/pg70817.txt': 3, 'Q1-Dataset/pg1998.txt': 50}, 'start': {'Q1-Dataset/pg1513.txt': 1, 'Q1-Dataset/2160-0.txt': 5, 'Q1-Dataset/pg11.txt': 1, 'Q1-Dataset/pg2600.txt': 20, 'Q1-Dataset/pg345.txt': 20, 'Q1-Dataset/pg64317.txt': 7, 'Q1-Dataset/pg70815.txt': 10, 'Q1-Dataset/1080-0.txt': 1, 'Q1-Dataset/pg70817.txt': 5, 'Q1-Dataset/pg1998.txt': 4}, 'distribution': {'Q1-Dataset/pg1513.txt': 6, 'Q1-Dataset/2160-0.txt': 8, 'Q1-Dataset/pg11.txt': 6, 'Q1-Dataset/pg2600.txt': 10, 'Q1-Dataset/pg345.txt': 7, 'Q1-Dataset/pg64317.txt': 6, 'Q1-Dataset/pg70815.txt': 6, 'Q1-Dataset/1080-0.txt': 6, 'Q1-Dataset/pg70817.txt': 6, 'Q1-Dataset/pg1998.txt': 6}, 'particularly': {'Q1-Dataset/pg1513.txt': 1, 'Q1-Dataset/2160-0.txt': 7, 'Q1-Dataset/pg11.txt': 1, 'Q1-Dataset/pg2600.txt': 84, 'Q1-Dataset/pg345.txt': 3, 'Q1-Dataset/pg64317.txt': 2, 'Q1-Dataset/pg70815.txt': 10, 'Q1-Dataset/1080-0.txt': 2, 'Q1-Dataset/pg70817.txt': 2, 'Q1-Dataset/pg1998.txt': 5}, 'holder.': {'Q1-Dataset/pg1513.txt': 1, 'Q1-Dataset/2160-0.txt': 1, 'Q1-Dataset/pg11.txt': 1, 'Q1-Dataset/pg2600.txt': 1, 'Q1-Dataset/pg345.txt': 1, 'Q1-Dataset/pg64317.txt': 1, 'Q1-Dataset/pg70815.txt': 1, 'Q1-Dataset/1080-0.txt': 1, 'Q1-Dataset/pg70817.txt': 1, 'Q1-Dataset/pg1998.txt': 1}, 'donors': {'Q1-Dataset/pg1513.txt': 1, 'Q1-Dataset/2160-0.txt': 1, 'Q1-Dataset/pg11.txt': 1, 'Q1-Dataset/pg2600.txt': 1, 'Q1-Dataset/pg345.txt': 1, 'Q1-Dataset/pg64317.txt': 1, 'Q1-Dataset/pg70815.txt': 1, 'Q1-Dataset/1080-0.txt': 1, 'Q1-Dataset/pg70817.txt': 1, 'Q1-Dataset/pg1998.txt': 1}, 'linked': {'Q1-Dataset/pg1513.txt': 1, 'Q1-Dataset/2160-0.txt': 1, 'Q1-Dataset/pg11.txt': 2, 'Q1-Dataset/pg2600.txt': 5, 'Q1-Dataset/pg345.txt': 2, 'Q1-Dataset/pg64317.txt': 1, 'Q1-Dataset/pg70815.txt': 1, 'Q1-Dataset/1080-0.txt': 1, 'Q1-Dataset/pg70817.txt': 2, 'Q1-Dataset/pg1998.txt': 1}, 'three': {'Q1-Dataset/pg1513.txt': 5, 'Q1-Dataset/2160-0.txt': 73, 'Q1-Dataset/pg11.txt': 23, 'Q1-Dataset/pg2600.txt': 220, 'Q1-Dataset/pg345.txt': 50, 'Q1-Dataset/pg64317.txt': 32, 'Q1-Dataset/pg70815.txt': 66, 'Q1-Dataset/1080-0.txt': 3, 'Q1-Dataset/pg70817.txt': 11, 'Q1-Dataset/pg1998.txt': 18}, 'certain': {'Q1-Dataset/pg1513.txt': 3, 'Q1-Dataset/2160-0.txt': 41, 'Q1-Dataset/pg11.txt': 4, 'Q1-Dataset/pg2600.txt': 121, 'Q1-Dataset/pg345.txt': 38, 'Q1-Dataset/pg64317.txt': 15, 'Q1-Dataset/pg70815.txt': 21, 'Q1-Dataset/1080-0.txt': 3, 'Q1-Dataset/pg70817.txt': 5, 'Q1-Dataset/pg1998.txt': 19}, 'owns': {'Q1-Dataset/pg1513.txt': 2, 'Q1-Dataset/2160-0.txt': 3, 'Q1-Dataset/pg11.txt': 2, 'Q1-Dataset/pg2600.txt': 2, 'Q1-Dataset/pg345.txt': 2, 'Q1-Dataset/pg64317.txt': 3, 'Q1-Dataset/pg70815.txt': 2, 'Q1-Dataset/1080-0.txt': 2, 'Q1-Dataset/pg70817.txt': 2, 'Q1-Dataset/pg1998.txt': 2}, 'transcription': {'Q1-Dataset/pg1513.txt': 1, 'Q1-Dataset/2160-0.txt': 1, 'Q1-Dataset/pg11.txt': 1, 'Q1-Dataset/pg2600.txt': 1, 'Q1-Dataset/pg345.txt': 1, 'Q1-Dataset/pg64317.txt': 2, 'Q1-Dataset/pg70815.txt': 1, 'Q1-Dataset/1080-0.txt': 1, 'Q1-Dataset/pg70817.txt': 1, 'Q1-Dataset/pg1998.txt': 1}, 'maintaining': {'Q1-Dataset/pg1513.txt': 1, 'Q1-Dataset/2160-0.txt': 4, 'Q1-Dataset/pg11.txt': 1, 'Q1-Dataset/pg2600.txt': 6, 'Q1-Dataset/pg345.txt': 1, 'Q1-Dataset/pg64317.txt': 1, 'Q1-Dataset/pg70815.txt': 1, 'Q1-Dataset/1080-0.txt': 2, 'Q1-Dataset/pg70817.txt': 1, 'Q1-Dataset/pg1998.txt': 1}, '596-1887.': {'Q1-Dataset/pg1513.txt': 1, 'Q1-Dataset/2160-0.txt': 1, 'Q1-Dataset/pg11.txt': 1, 'Q1-Dataset/pg2600.txt': 1, 'Q1-Dataset/pg345.txt': 1, 'Q1-Dataset/pg64317.txt': 1, 'Q1-Dataset/pg70815.txt': 1, 'Q1-Dataset/1080-0.txt': 1, 'Q1-Dataset/pg70817.txt': 1, 'Q1-Dataset/pg1998.txt': 1}, '1.D.': {'Q1-Dataset/pg1513.txt': 1, 'Q1-Dataset/2160-0.txt': 1, 'Q1-Dataset/pg11.txt': 1, 'Q1-Dataset/pg2600.txt': 1, 'Q1-Dataset/pg345.txt': 1, 'Q1-Dataset/pg64317.txt': 1, 'Q1-Dataset/pg70815.txt': 1, 'Q1-Dataset/1080-0.txt': 1, 'Q1-Dataset/pg70817.txt': 1, 'Q1-Dataset/pg1998.txt': 1}, 'approach': {'Q1-Dataset/pg1513.txt': 1, 'Q1-Dataset/2160-0.txt': 2, 'Q1-Dataset/pg11.txt': 1, 'Q1-Dataset/pg2600.txt': 23, 'Q1-Dataset/pg345.txt': 4, 'Q1-Dataset/pg64317.txt': 1, 'Q1-Dataset/pg70815.txt': 10, 'Q1-Dataset/1080-0.txt': 1, 'Q1-Dataset/pg70817.txt': 1, 'Q1-Dataset/pg1998.txt': 5}, 'group': {'Q1-Dataset/pg1513.txt': 1, 'Q1-Dataset/2160-0.txt': 1, 'Q1-Dataset/pg11.txt': 1, 'Q1-Dataset/pg2600.txt': 54, 'Q1-Dataset/pg345.txt': 6, 'Q1-Dataset/pg64317.txt': 3, 'Q1-Dataset/pg70815.txt': 2, 'Q1-Dataset/1080-0.txt': 1, 'Q1-Dataset/pg70817.txt': 3, 'Q1-Dataset/pg1998.txt': 1}, 'accepted': {'Q1-Dataset/pg1513.txt': 1, 'Q1-Dataset/2160-0.txt': 2, 'Q1-Dataset/pg11.txt': 1, 'Q1-Dataset/pg2600.txt': 28, 'Q1-Dataset/pg345.txt': 3, 'Q1-Dataset/pg64317.txt': 8, 'Q1-Dataset/pg70815.txt': 10, 'Q1-Dataset/1080-0.txt': 1, 'Q1-Dataset/pg70817.txt': 3, 'Q1-Dataset/pg1998.txt': 2}, 'kind': {'Q1-Dataset/pg1513.txt': 5, 'Q1-Dataset/2160-0.txt': 55, 'Q1-Dataset/pg11.txt': 6, 'Q1-Dataset/pg2600.txt': 94, 'Q1-Dataset/pg345.txt': 32, 'Q1-Dataset/pg64317.txt': 9, 'Q1-Dataset/pg70815.txt': 9, 'Q1-Dataset/1080-0.txt': 2, 'Q1-Dataset/pg70817.txt': 11, 'Q1-Dataset/pg1998.txt': 12}, 'subject': {'Q1-Dataset/pg1513.txt': 2, 'Q1-Dataset/2160-0.txt': 24, 'Q1-Dataset/pg11.txt': 3, 'Q1-Dataset/pg2600.txt': 62, 'Q1-Dataset/pg345.txt': 15, 'Q1-Dataset/pg64317.txt': 7, 'Q1-Dataset/pg70815.txt': 6, 'Q1-Dataset/1080-0.txt': 1, 'Q1-Dataset/pg70817.txt': 2, 'Q1-Dataset/pg1998.txt': 5}, 'again': {'Q1-Dataset/pg1513.txt': 7, 'Q1-Dataset/2160-0.txt': 27, 'Q1-Dataset/pg11.txt': 13, 'Q1-Dataset/pg2600.txt': 467, 'Q1-Dataset/pg345.txt': 99, 'Q1-Dataset/pg64317.txt': 26, 'Q1-Dataset/pg70815.txt': 49, 'Q1-Dataset/1080-0.txt': 1, 'Q1-Dataset/pg70817.txt': 14, 'Q1-Dataset/pg1998.txt': 117}, 'writing': {'Q1-Dataset/pg1513.txt': 4, 'Q1-Dataset/2160-0.txt': 7, 'Q1-Dataset/pg11.txt': 7, 'Q1-Dataset/pg2600.txt': 31, 'Q1-Dataset/pg345.txt': 16, 'Q1-Dataset/pg64317.txt': 4, 'Q1-Dataset/pg70815.txt': 3, 'Q1-Dataset/1080-0.txt': 3, 'Q1-Dataset/pg70817.txt': 5, 'Q1-Dataset/pg1998.txt': 8}, 'loose': {'Q1-Dataset/pg1513.txt': 1, 'Q1-Dataset/2160-0.txt': 9, 'Q1-Dataset/pg11.txt': 2, 'Q1-Dataset/pg2600.txt': 16, 'Q1-Dataset/pg345.txt': 6, 'Q1-Dataset/pg64317.txt': 2, 'Q1-Dataset/pg70815.txt': 3, 'Q1-Dataset/1080-0.txt': 1, 'Q1-Dataset/pg70817.txt': 1, 'Q1-Dataset/pg1998.txt': 1}, '1.E.': {'Q1-Dataset/pg1513.txt': 1, 'Q1-Dataset/2160-0.txt': 1, 'Q1-Dataset/pg11.txt': 1, 'Q1-Dataset/pg2600.txt': 1, 'Q1-Dataset/pg345.txt': 1, 'Q1-Dataset/pg64317.txt': 1, 'Q1-Dataset/pg70815.txt': 1, 'Q1-Dataset/1080-0.txt': 1, 'Q1-Dataset/pg70817.txt': 1, 'Q1-Dataset/pg1998.txt': 1}, 'accepting': {'Q1-Dataset/pg1513.txt': 1, 'Q1-Dataset/2160-0.txt': 3, 'Q1-Dataset/pg11.txt': 1, 'Q1-Dataset/pg2600.txt': 4, 'Q1-Dataset/pg345.txt': 3, 'Q1-Dataset/pg64317.txt': 1, 'Q1-Dataset/pg70815.txt': 1, 'Q1-Dataset/1080-0.txt': 1, 'Q1-Dataset/pg70817.txt': 1, 'Q1-Dataset/pg1998.txt': 1}, 'cause': {'Q1-Dataset/pg1513.txt': 3, 'Q1-Dataset/2160-0.txt': 30, 'Q1-Dataset/pg11.txt': 3, 'Q1-Dataset/pg2600.txt': 111, 'Q1-Dataset/pg345.txt': 31, 'Q1-Dataset/pg64317.txt': 2, 'Q1-Dataset/pg70815.txt': 9, 'Q1-Dataset/1080-0.txt': 1, 'Q1-Dataset/pg70817.txt': 1, 'Q1-Dataset/pg1998.txt': 16}, 'but': {'Q1-Dataset/pg1513.txt': 100, 'Q1-Dataset/2160-0.txt': 864, 'Q1-Dataset/pg11.txt': 104, 'Q1-Dataset/pg2600.txt': 2788, 'Q1-Dataset/pg345.txt': 860, 'Q1-Dataset/pg64317.txt': 162, 'Q1-Dataset/pg70815.txt': 429, 'Q1-Dataset/1080-0.txt': 5, 'Q1-Dataset/pg70817.txt': 100, 'Q1-Dataset/pg1998.txt': 330}, 'money': {'Q1-Dataset/pg1513.txt': 3, 'Q1-Dataset/2160-0.txt': 20, 'Q1-Dataset/pg11.txt': 3, 'Q1-Dataset/pg2600.txt': 79, 'Q1-Dataset/pg345.txt': 10, 'Q1-Dataset/pg64317.txt': 13, 'Q1-Dataset/pg70815.txt': 7, 'Q1-Dataset/1080-0.txt': 6, 'Q1-Dataset/pg70817.txt': 4, 'Q1-Dataset/pg1998.txt': 3}, 'works,': {'Q1-Dataset/pg1513.txt': 5, 'Q1-Dataset/2160-0.txt': 10, 'Q1-Dataset/pg11.txt': 5, 'Q1-Dataset/pg2600.txt': 6, 'Q1-Dataset/pg345.txt': 5, 'Q1-Dataset/pg64317.txt': 5, 'Q1-Dataset/pg70815.txt': 5, 'Q1-Dataset/1080-0.txt': 5, 'Q1-Dataset/pg70817.txt': 5, 'Q1-Dataset/pg1998.txt': 6}, 'anyone': {'Q1-Dataset/pg1513.txt': 4, 'Q1-Dataset/2160-0.txt': 4, 'Q1-Dataset/pg11.txt': 4, 'Q1-Dataset/pg2600.txt': 111, 'Q1-Dataset/pg345.txt': 5, 'Q1-Dataset/pg64317.txt': 12, 'Q1-Dataset/pg70815.txt': 14, 'Q1-Dataset/1080-0.txt': 4, 'Q1-Dataset/pg70817.txt': 5, 'Q1-Dataset/pg1998.txt': 4}, 'Gutenberg:': {'Q1-Dataset/pg1513.txt': 1, 'Q1-Dataset/2160-0.txt': 1, 'Q1-Dataset/pg11.txt': 1, 'Q1-Dataset/pg2600.txt': 1, 'Q1-Dataset/pg345.txt': 1, 'Q1-Dataset/pg64317.txt': 1, 'Q1-Dataset/pg70815.txt': 1, 'Q1-Dataset/1080-0.txt': 1, 'Q1-Dataset/pg70817.txt': 1, 'Q1-Dataset/pg1998.txt': 1}, 'am': {'Q1-Dataset/pg1513.txt': 55, 'Q1-Dataset/2160-0.txt': 202, 'Q1-Dataset/pg11.txt': 13, 'Q1-Dataset/pg2600.txt': 502, 'Q1-Dataset/pg345.txt': 319, 'Q1-Dataset/pg64317.txt': 13, 'Q1-Dataset/pg70815.txt': 76, 'Q1-Dataset/1080-0.txt': 3, 'Q1-Dataset/pg70817.txt': 6, 'Q1-Dataset/pg1998.txt': 172}, 'take': {'Q1-Dataset/pg1513.txt': 30, 'Q1-Dataset/2160-0.txt': 139, 'Q1-Dataset/pg11.txt': 18, 'Q1-Dataset/pg2600.txt': 319, 'Q1-Dataset/pg345.txt': 132, 'Q1-Dataset/pg64317.txt': 27, 'Q1-Dataset/pg70815.txt': 52, 'Q1-Dataset/1080-0.txt': 3, 'Q1-Dataset/pg70817.txt': 7, 'Q1-Dataset/pg1998.txt': 52}, 'renamed.': {'Q1-Dataset/pg1513.txt': 1, 'Q1-Dataset/2160-0.txt': 1, 'Q1-Dataset/pg11.txt': 1, 'Q1-Dataset/pg2600.txt': 1, 'Q1-Dataset/pg345.txt': 1, 'Q1-Dataset/pg64317.txt': 1, 'Q1-Dataset/pg70815.txt': 1, 'Q1-Dataset/1080-0.txt': 1, 'Q1-Dataset/pg70817.txt': 1, 'Q1-Dataset/pg1998.txt': 1}, 'exists': {'Q1-Dataset/pg1513.txt': 1, 'Q1-Dataset/2160-0.txt': 2, 'Q1-Dataset/pg11.txt': 1, 'Q1-Dataset/pg2600.txt': 12, 'Q1-Dataset/pg345.txt': 2, 'Q1-Dataset/pg64317.txt': 1, 'Q1-Dataset/pg70815.txt': 2, 'Q1-Dataset/1080-0.txt': 1, 'Q1-Dataset/pg70817.txt': 1, 'Q1-Dataset/pg1998.txt': 1}, 'commercial': {'Q1-Dataset/pg1513.txt': 1, 'Q1-Dataset/2160-0.txt': 4, 'Q1-Dataset/pg11.txt': 1, 'Q1-Dataset/pg2600.txt': 2, 'Q1-Dataset/pg345.txt': 2, 'Q1-Dataset/pg64317.txt': 1, 'Q1-Dataset/pg70815.txt': 2, 'Q1-Dataset/1080-0.txt': 1, 'Q1-Dataset/pg70817.txt': 1, 'Q1-Dataset/pg1998.txt': 1}, 'do': {'Q1-Dataset/pg1513.txt': 75, 'Q1-Dataset/2160-0.txt': 91, 'Q1-Dataset/pg11.txt': 60, 'Q1-Dataset/pg2600.txt': 758, 'Q1-Dataset/pg345.txt': 356, 'Q1-Dataset/pg64317.txt': 66, 'Q1-Dataset/pg70815.txt': 136, 'Q1-Dataset/1080-0.txt': 16, 'Q1-Dataset/pg70817.txt': 18, 'Q1-Dataset/pg1998.txt': 453}, 'read': {'Q1-Dataset/pg1513.txt': 4, 'Q1-Dataset/2160-0.txt': 20, 'Q1-Dataset/pg11.txt': 10, 'Q1-Dataset/pg2600.txt': 109, 'Q1-Dataset/pg345.txt': 65, 'Q1-Dataset/pg64317.txt': 9, 'Q1-Dataset/pg70815.txt': 3, 'Q1-Dataset/1080-0.txt': 1, 'Q1-Dataset/pg70817.txt': 8, 'Q1-Dataset/pg1998.txt': 15}, 'restrictions': {'Q1-Dataset/pg1513.txt': 2, 'Q1-Dataset/2160-0.txt': 2, 'Q1-Dataset/pg11.txt': 2, 'Q1-Dataset/pg2600.txt': 2, 'Q1-Dataset/pg345.txt': 2, 'Q1-Dataset/pg64317.txt': 2, 'Q1-Dataset/pg70815.txt': 2, 'Q1-Dataset/1080-0.txt': 2, 'Q1-Dataset/pg70817.txt': 2, 'Q1-Dataset/pg1998.txt': 2}, 'like': {'Q1-Dataset/pg1513.txt': 31, 'Q1-Dataset/2160-0.txt': 161, 'Q1-Dataset/pg11.txt': 74, 'Q1-Dataset/pg2600.txt': 673, 'Q1-Dataset/pg345.txt': 259, 'Q1-Dataset/pg64317.txt': 116, 'Q1-Dataset/pg70815.txt': 48, 'Q1-Dataset/1080-0.txt': 3, 'Q1-Dataset/pg70817.txt': 39, 'Q1-Dataset/pg1998.txt': 266}, 'years,': {'Q1-Dataset/pg1513.txt': 2, 'Q1-Dataset/2160-0.txt': 18, 'Q1-Dataset/pg11.txt': 2, 'Q1-Dataset/pg2600.txt': 20, 'Q1-Dataset/pg345.txt': 6, 'Q1-Dataset/pg64317.txt': 3, 'Q1-Dataset/pg70815.txt': 2, 'Q1-Dataset/1080-0.txt': 1, 'Q1-Dataset/pg70817.txt': 1, 'Q1-Dataset/pg1998.txt': 3}, 'eBooks,': {'Q1-Dataset/pg1513.txt': 1, 'Q1-Dataset/2160-0.txt': 2, 'Q1-Dataset/pg11.txt': 1, 'Q1-Dataset/pg2600.txt': 1, 'Q1-Dataset/pg345.txt': 1, 'Q1-Dataset/pg64317.txt': 1, 'Q1-Dataset/pg70815.txt': 1, 'Q1-Dataset/1080-0.txt': 1, 'Q1-Dataset/pg70817.txt': 1, 'Q1-Dataset/pg1998.txt': 1}, 'on,': {'Q1-Dataset/pg1513.txt': 3, 'Q1-Dataset/2160-0.txt': 3, 'Q1-Dataset/pg11.txt': 28, 'Q1-Dataset/pg2600.txt': 114, 'Q1-Dataset/pg345.txt': 34, 'Q1-Dataset/pg64317.txt': 8, 'Q1-Dataset/pg70815.txt': 7, 'Q1-Dataset/1080-0.txt': 1, 'Q1-Dataset/pg70817.txt': 5, 'Q1-Dataset/pg1998.txt': 9}, 'limited': {'Q1-Dataset/pg1513.txt': 2, 'Q1-Dataset/2160-0.txt': 2, 'Q1-Dataset/pg11.txt': 2, 'Q1-Dataset/pg2600.txt': 10, 'Q1-Dataset/pg345.txt': 3, 'Q1-Dataset/pg64317.txt': 5, 'Q1-Dataset/pg70815.txt': 3, 'Q1-Dataset/1080-0.txt': 2, 'Q1-Dataset/pg70817.txt': 2, 'Q1-Dataset/pg1998.txt': 3}, 'promoting': {'Q1-Dataset/pg1513.txt': 2, 'Q1-Dataset/2160-0.txt': 2, 'Q1-Dataset/pg11.txt': 2, 'Q1-Dataset/pg2600.txt': 3, 'Q1-Dataset/pg345.txt': 2, 'Q1-Dataset/pg64317.txt': 2, 'Q1-Dataset/pg70815.txt': 2, 'Q1-Dataset/1080-0.txt': 2, 'Q1-Dataset/pg70817.txt': 2, 'Q1-Dataset/pg1998.txt': 2}, 'OTHER': {'Q1-Dataset/pg1513.txt': 1, 'Q1-Dataset/2160-0.txt': 1, 'Q1-Dataset/pg11.txt': 1, 'Q1-Dataset/pg2600.txt': 1, 'Q1-Dataset/pg345.txt': 1, 'Q1-Dataset/pg64317.txt': 1, 'Q1-Dataset/pg70815.txt': 1, 'Q1-Dataset/1080-0.txt': 1, 'Q1-Dataset/pg70817.txt': 1, 'Q1-Dataset/pg1998.txt': 2}, 'It': {'Q1-Dataset/pg1513.txt': 39, 'Q1-Dataset/2160-0.txt': 62, 'Q1-Dataset/pg11.txt': 17, 'Q1-Dataset/pg2600.txt': 575, 'Q1-Dataset/pg345.txt': 327, 'Q1-Dataset/pg64317.txt': 94, 'Q1-Dataset/pg70815.txt': 115, 'Q1-Dataset/1080-0.txt': 5, 'Q1-Dataset/pg70817.txt': 83, 'Q1-Dataset/pg1998.txt': 133}, 'prepare': {'Q1-Dataset/pg1513.txt': 5, 'Q1-Dataset/2160-0.txt': 10, 'Q1-Dataset/pg11.txt': 1, 'Q1-Dataset/pg2600.txt': 25, 'Q1-Dataset/pg345.txt': 7, 'Q1-Dataset/pg64317.txt': 1, 'Q1-Dataset/pg70815.txt': 3, 'Q1-Dataset/1080-0.txt': 1, 'Q1-Dataset/pg70817.txt': 1, 'Q1-Dataset/pg1998.txt': 4}, 'child': {'Q1-Dataset/pg1513.txt': 5, 'Q1-Dataset/2160-0.txt': 8, 'Q1-Dataset/pg11.txt': 3, 'Q1-Dataset/pg2600.txt': 51, 'Q1-Dataset/pg345.txt': 24, 'Q1-Dataset/pg64317.txt': 5, 'Q1-Dataset/pg70815.txt': 2, 'Q1-Dataset/1080-0.txt': 6, 'Q1-Dataset/pg70817.txt': 6, 'Q1-Dataset/pg1998.txt': 21}, 'Replacement': {'Q1-Dataset/pg1513.txt': 1, 'Q1-Dataset/2160-0.txt': 1, 'Q1-Dataset/pg11.txt': 1, 'Q1-Dataset/pg2600.txt': 1, 'Q1-Dataset/pg345.txt': 1, 'Q1-Dataset/pg64317.txt': 1, 'Q1-Dataset/pg70815.txt': 1, 'Q1-Dataset/1080-0.txt': 1, 'Q1-Dataset/pg70817.txt': 1, 'Q1-Dataset/pg1998.txt': 1}, 'young': {'Q1-Dataset/pg1513.txt': 15, 'Q1-Dataset/2160-0.txt': 78, 'Q1-Dataset/pg11.txt': 5, 'Q1-Dataset/pg2600.txt': 397, 'Q1-Dataset/pg345.txt': 45, 'Q1-Dataset/pg64317.txt': 43, 'Q1-Dataset/pg70815.txt': 19, 'Q1-Dataset/1080-0.txt': 5, 'Q1-Dataset/pg70817.txt': 18, 'Q1-Dataset/pg1998.txt': 14}, 'using': {'Q1-Dataset/pg1513.txt': 6, 'Q1-Dataset/2160-0.txt': 5, 'Q1-Dataset/pg11.txt': 8, 'Q1-Dataset/pg2600.txt': 18, 'Q1-Dataset/pg345.txt': 16, 'Q1-Dataset/pg64317.txt': 6, 'Q1-Dataset/pg70815.txt': 12, 'Q1-Dataset/1080-0.txt': 7, 'Q1-Dataset/pg70817.txt': 7, 'Q1-Dataset/pg1998.txt': 6}, '1.E.8.': {'Q1-Dataset/pg1513.txt': 2, 'Q1-Dataset/2160-0.txt': 2, 'Q1-Dataset/pg11.txt': 2, 'Q1-Dataset/pg2600.txt': 2, 'Q1-Dataset/pg345.txt': 2, 'Q1-Dataset/pg64317.txt': 2, 'Q1-Dataset/pg70815.txt': 2, 'Q1-Dataset/1080-0.txt': 2, 'Q1-Dataset/pg70817.txt': 2, 'Q1-Dataset/pg1998.txt': 2}, 'unenforceability': {'Q1-Dataset/pg1513.txt': 1, 'Q1-Dataset/2160-0.txt': 1, 'Q1-Dataset/pg11.txt': 1, 'Q1-Dataset/pg2600.txt': 1, 'Q1-Dataset/pg345.txt': 1, 'Q1-Dataset/pg64317.txt': 1, 'Q1-Dataset/pg70815.txt': 1, 'Q1-Dataset/1080-0.txt': 1, 'Q1-Dataset/pg70817.txt': 1, 'Q1-Dataset/pg1998.txt': 1}, 'refund.': {'Q1-Dataset/pg1513.txt': 2, 'Q1-Dataset/2160-0.txt': 2, 'Q1-Dataset/pg11.txt': 2, 'Q1-Dataset/pg2600.txt': 2, 'Q1-Dataset/pg345.txt': 2, 'Q1-Dataset/pg64317.txt': 2, 'Q1-Dataset/pg70815.txt': 2, 'Q1-Dataset/1080-0.txt': 2, 'Q1-Dataset/pg70817.txt': 2, 'Q1-Dataset/pg1998.txt': 2}, 'individual': {'Q1-Dataset/pg1513.txt': 4, 'Q1-Dataset/2160-0.txt': 20, 'Q1-Dataset/pg11.txt': 4, 'Q1-Dataset/pg2600.txt': 17, 'Q1-Dataset/pg345.txt': 7, 'Q1-Dataset/pg64317.txt': 5, 'Q1-Dataset/pg70815.txt': 5, 'Q1-Dataset/1080-0.txt': 5, 'Q1-Dataset/pg70817.txt': 4, 'Q1-Dataset/pg1998.txt': 9}, 'below.': {'Q1-Dataset/pg1513.txt': 3, 'Q1-Dataset/2160-0.txt': 4, 'Q1-Dataset/pg11.txt': 3, 'Q1-Dataset/pg2600.txt': 8, 'Q1-Dataset/pg345.txt': 8, 'Q1-Dataset/pg64317.txt': 5, 'Q1-Dataset/pg70815.txt': 9, 'Q1-Dataset/1080-0.txt': 3, 'Q1-Dataset/pg70817.txt': 4, 'Q1-Dataset/pg1998.txt': 3}, 'prevent': {'Q1-Dataset/pg1513.txt': 2, 'Q1-Dataset/2160-0.txt': 10, 'Q1-Dataset/pg11.txt': 2, 'Q1-Dataset/pg2600.txt': 26, 'Q1-Dataset/pg345.txt': 8, 'Q1-Dataset/pg64317.txt': 1, 'Q1-Dataset/pg70815.txt': 3, 'Q1-Dataset/1080-0.txt': 2, 'Q1-Dataset/pg70817.txt': 1, 'Q1-Dataset/pg1998.txt': 3}, 'collection': {'Q1-Dataset/pg1513.txt': 3, 'Q1-Dataset/2160-0.txt': 6, 'Q1-Dataset/pg11.txt': 3, 'Q1-Dataset/pg2600.txt': 6, 'Q1-Dataset/pg345.txt': 3, 'Q1-Dataset/pg64317.txt': 3, 'Q1-Dataset/pg70815.txt': 3, 'Q1-Dataset/1080-0.txt': 3, 'Q1-Dataset/pg70817.txt': 4, 'Q1-Dataset/pg1998.txt': 3}, 'other': {'Q1-Dataset/pg1513.txt': 31, 'Q1-Dataset/2160-0.txt': 222, 'Q1-Dataset/pg11.txt': 42, 'Q1-Dataset/pg2600.txt': 497, 'Q1-Dataset/pg345.txt': 152, 'Q1-Dataset/pg64317.txt': 72, 'Q1-Dataset/pg70815.txt': 136, 'Q1-Dataset/1080-0.txt': 25, 'Q1-Dataset/pg70817.txt': 30, 'Q1-Dataset/pg1998.txt': 85}, 'EXPRESS': {'Q1-Dataset/pg1513.txt': 1, 'Q1-Dataset/2160-0.txt': 1, 'Q1-Dataset/pg11.txt': 1, 'Q1-Dataset/pg2600.txt': 1, 'Q1-Dataset/pg345.txt': 1, 'Q1-Dataset/pg64317.txt': 1, 'Q1-Dataset/pg70815.txt': 1, 'Q1-Dataset/1080-0.txt': 1, 'Q1-Dataset/pg70817.txt': 1, 'Q1-Dataset/pg1998.txt': 1}, 'Author:': {'Q1-Dataset/pg1513.txt': 1, 'Q1-Dataset/2160-0.txt': 1, 'Q1-Dataset/pg11.txt': 1, 'Q1-Dataset/pg2600.txt': 1, 'Q1-Dataset/pg345.txt': 1, 'Q1-Dataset/pg64317.txt': 1, 'Q1-Dataset/pg70815.txt': 1, 'Q1-Dataset/1080-0.txt': 1, 'Q1-Dataset/pg70817.txt': 1, 'Q1-Dataset/pg1998.txt': 1}, 'life.': {'Q1-Dataset/pg1513.txt': 7, 'Q1-Dataset/2160-0.txt': 21, 'Q1-Dataset/pg11.txt': 3, 'Q1-Dataset/pg2600.txt': 89, 'Q1-Dataset/pg345.txt': 18, 'Q1-Dataset/pg64317.txt': 10, 'Q1-Dataset/pg70815.txt': 9, 'Q1-Dataset/1080-0.txt': 1, 'Q1-Dataset/pg70817.txt': 6, 'Q1-Dataset/pg1998.txt': 20}, 'efforts': {'Q1-Dataset/pg1513.txt': 2, 'Q1-Dataset/2160-0.txt': 7, 'Q1-Dataset/pg11.txt': 2, 'Q1-Dataset/pg2600.txt': 37, 'Q1-Dataset/pg345.txt': 10, 'Q1-Dataset/pg64317.txt': 3, 'Q1-Dataset/pg70815.txt': 7, 'Q1-Dataset/1080-0.txt': 2, 'Q1-Dataset/pg70817.txt': 4, 'Q1-Dataset/pg1998.txt': 3}, 'Michael': {'Q1-Dataset/pg1513.txt': 1, 'Q1-Dataset/2160-0.txt': 2, 'Q1-Dataset/pg11.txt': 1, 'Q1-Dataset/pg2600.txt': 47, 'Q1-Dataset/pg345.txt': 1, 'Q1-Dataset/pg64317.txt': 1, 'Q1-Dataset/pg70815.txt': 1, 'Q1-Dataset/1080-0.txt': 1, 'Q1-Dataset/pg70817.txt': 1, 'Q1-Dataset/pg1998.txt': 1}, 'others': {'Q1-Dataset/pg1513.txt': 4, 'Q1-Dataset/2160-0.txt': 15, 'Q1-Dataset/pg11.txt': 4, 'Q1-Dataset/pg2600.txt': 177, 'Q1-Dataset/pg345.txt': 51, 'Q1-Dataset/pg64317.txt': 1, 'Q1-Dataset/pg70815.txt': 32, 'Q1-Dataset/1080-0.txt': 1, 'Q1-Dataset/pg70817.txt': 2, 'Q1-Dataset/pg1998.txt': 22}, 'country': {'Q1-Dataset/pg1513.txt': 5, 'Q1-Dataset/2160-0.txt': 73, 'Q1-Dataset/pg11.txt': 5, 'Q1-Dataset/pg2600.txt': 60, 'Q1-Dataset/pg345.txt': 16, 'Q1-Dataset/pg64317.txt': 8, 'Q1-Dataset/pg70815.txt': 48, 'Q1-Dataset/1080-0.txt': 6, 'Q1-Dataset/pg70817.txt': 4, 'Q1-Dataset/pg1998.txt': 9}, 'LIABLE': {'Q1-Dataset/pg1513.txt': 1, 'Q1-Dataset/2160-0.txt': 1, 'Q1-Dataset/pg11.txt': 1, 'Q1-Dataset/pg2600.txt': 1, 'Q1-Dataset/pg345.txt': 1, 'Q1-Dataset/pg64317.txt': 1, 'Q1-Dataset/pg70815.txt': 1, 'Q1-Dataset/1080-0.txt': 1, 'Q1-Dataset/pg70817.txt': 1, 'Q1-Dataset/pg1998.txt': 1}, '1.F.': {'Q1-Dataset/pg1513.txt': 1, 'Q1-Dataset/2160-0.txt': 1, 'Q1-Dataset/pg11.txt': 1, 'Q1-Dataset/pg2600.txt': 1, 'Q1-Dataset/pg345.txt': 1, 'Q1-Dataset/pg64317.txt': 1, 'Q1-Dataset/pg70815.txt': 1, 'Q1-Dataset/1080-0.txt': 1, 'Q1-Dataset/pg70817.txt': 1, 'Q1-Dataset/pg1998.txt': 1}, 'move': {'Q1-Dataset/pg1513.txt': 5, 'Q1-Dataset/2160-0.txt': 5, 'Q1-Dataset/pg11.txt': 2, 'Q1-Dataset/pg2600.txt': 60, 'Q1-Dataset/pg345.txt': 18, 'Q1-Dataset/pg64317.txt': 8, 'Q1-Dataset/pg70815.txt': 12, 'Q1-Dataset/1080-0.txt': 1, 'Q1-Dataset/pg70817.txt': 7, 'Q1-Dataset/pg1998.txt': 3}, '1.E.9.': {'Q1-Dataset/pg1513.txt': 3, 'Q1-Dataset/2160-0.txt': 3, 'Q1-Dataset/pg11.txt': 3, 'Q1-Dataset/pg2600.txt': 3, 'Q1-Dataset/pg345.txt': 3, 'Q1-Dataset/pg64317.txt': 3, 'Q1-Dataset/pg70815.txt': 3, 'Q1-Dataset/1080-0.txt': 3, 'Q1-Dataset/pg70817.txt': 3, 'Q1-Dataset/pg1998.txt': 3}, 'uniform': {'Q1-Dataset/pg1513.txt': 1, 'Q1-Dataset/2160-0.txt': 1, 'Q1-Dataset/pg11.txt': 1, 'Q1-Dataset/pg2600.txt': 61, 'Q1-Dataset/pg345.txt': 1, 'Q1-Dataset/pg64317.txt': 5, 'Q1-Dataset/pg70815.txt': 1, 'Q1-Dataset/1080-0.txt': 1, 'Q1-Dataset/pg70817.txt': 2, 'Q1-Dataset/pg1998.txt': 2}, 'If': {'Q1-Dataset/pg1513.txt': 43, 'Q1-Dataset/2160-0.txt': 58, 'Q1-Dataset/pg11.txt': 19, 'Q1-Dataset/pg2600.txt': 185, 'Q1-Dataset/pg345.txt': 115, 'Q1-Dataset/pg64317.txt': 26, 'Q1-Dataset/pg70815.txt': 45, 'Q1-Dataset/1080-0.txt': 16, 'Q1-Dataset/pg70817.txt': 27, 'Q1-Dataset/pg1998.txt': 59}, 'another': {'Q1-Dataset/pg1513.txt': 9, 'Q1-Dataset/2160-0.txt': 101, 'Q1-Dataset/pg11.txt': 21, 'Q1-Dataset/pg2600.txt': 342, 'Q1-Dataset/pg345.txt': 62, 'Q1-Dataset/pg64317.txt': 30, 'Q1-Dataset/pg70815.txt': 55, 'Q1-Dataset/1080-0.txt': 3, 'Q1-Dataset/pg70817.txt': 12, 'Q1-Dataset/pg1998.txt': 37}, 'occur:': {'Q1-Dataset/pg1513.txt': 1, 'Q1-Dataset/2160-0.txt': 1, 'Q1-Dataset/pg11.txt': 1, 'Q1-Dataset/pg2600.txt': 1, 'Q1-Dataset/pg345.txt': 1, 'Q1-Dataset/pg64317.txt': 1, 'Q1-Dataset/pg70815.txt': 1, 'Q1-Dataset/1080-0.txt': 1, 'Q1-Dataset/pg70817.txt': 1, 'Q1-Dataset/pg1998.txt': 1}, 'for': {'Q1-Dataset/pg1513.txt': 179, 'Q1-Dataset/2160-0.txt': 1191, 'Q1-Dataset/pg11.txt': 147, 'Q1-Dataset/pg2600.txt': 3271, 'Q1-Dataset/pg345.txt': 1419, 'Q1-Dataset/pg64317.txt': 311, 'Q1-Dataset/pg70815.txt': 547, 'Q1-Dataset/1080-0.txt': 62, 'Q1-Dataset/pg70817.txt': 138, 'Q1-Dataset/pg1998.txt': 918}, 'displayed,': {'Q1-Dataset/pg1513.txt': 1, 'Q1-Dataset/2160-0.txt': 3, 'Q1-Dataset/pg11.txt': 1, 'Q1-Dataset/pg2600.txt': 2, 'Q1-Dataset/pg345.txt': 1, 'Q1-Dataset/pg64317.txt': 1, 'Q1-Dataset/pg70815.txt': 1, 'Q1-Dataset/1080-0.txt': 1, 'Q1-Dataset/pg70817.txt': 1, 'Q1-Dataset/pg1998.txt': 1}, 'up': {'Q1-Dataset/pg1513.txt': 37, 'Q1-Dataset/2160-0.txt': 200, 'Q1-Dataset/pg11.txt': 83, 'Q1-Dataset/pg2600.txt': 1297, 'Q1-Dataset/pg345.txt': 365, 'Q1-Dataset/pg64317.txt': 166, 'Q1-Dataset/pg70815.txt': 83, 'Q1-Dataset/1080-0.txt': 5, 'Q1-Dataset/pg70817.txt': 60, 'Q1-Dataset/pg1998.txt': 110}, 'permission': {'Q1-Dataset/pg1513.txt': 6, 'Q1-Dataset/2160-0.txt': 11, 'Q1-Dataset/pg11.txt': 6, 'Q1-Dataset/pg2600.txt': 22, 'Q1-Dataset/pg345.txt': 8, 'Q1-Dataset/pg64317.txt': 6, 'Q1-Dataset/pg70815.txt': 7, 'Q1-Dataset/1080-0.txt': 6, 'Q1-Dataset/pg70817.txt': 6, 'Q1-Dataset/pg1998.txt': 6}, 'agreement.': {'Q1-Dataset/pg1513.txt': 3, 'Q1-Dataset/2160-0.txt': 3, 'Q1-Dataset/pg11.txt': 3, 'Q1-Dataset/pg2600.txt': 3, 'Q1-Dataset/pg345.txt': 3, 'Q1-Dataset/pg64317.txt': 4, 'Q1-Dataset/pg70815.txt': 3, 'Q1-Dataset/1080-0.txt': 3, 'Q1-Dataset/pg70817.txt': 3, 'Q1-Dataset/pg1998.txt': 3}, 'file': {'Q1-Dataset/pg1513.txt': 1, 'Q1-Dataset/2160-0.txt': 2, 'Q1-Dataset/pg11.txt': 2, 'Q1-Dataset/pg2600.txt': 2, 'Q1-Dataset/pg345.txt': 2, 'Q1-Dataset/pg64317.txt': 1, 'Q1-Dataset/pg70815.txt': 2, 'Q1-Dataset/1080-0.txt': 2, 'Q1-Dataset/pg70817.txt': 1, 'Q1-Dataset/pg1998.txt': 2}, 'they': {'Q1-Dataset/pg1513.txt': 44, 'Q1-Dataset/2160-0.txt': 431, 'Q1-Dataset/pg11.txt': 110, 'Q1-Dataset/pg2600.txt': 1705, 'Q1-Dataset/pg345.txt': 366, 'Q1-Dataset/pg64317.txt': 105, 'Q1-Dataset/pg70815.txt': 566, 'Q1-Dataset/1080-0.txt': 29, 'Q1-Dataset/pg70817.txt': 45, 'Q1-Dataset/pg1998.txt': 525}, 'donation': {'Q1-Dataset/pg1513.txt': 1, 'Q1-Dataset/2160-0.txt': 1, 'Q1-Dataset/pg11.txt': 1, 'Q1-Dataset/pg2600.txt': 1, 'Q1-Dataset/pg345.txt': 1, 'Q1-Dataset/pg64317.txt': 1, 'Q1-Dataset/pg70815.txt': 1, 'Q1-Dataset/1080-0.txt': 1, 'Q1-Dataset/pg70817.txt': 1, 'Q1-Dataset/pg1998.txt': 1}, 'PARAGRAPH': {'Q1-Dataset/pg1513.txt': 1, 'Q1-Dataset/2160-0.txt': 1, 'Q1-Dataset/pg11.txt': 1, 'Q1-Dataset/pg2600.txt': 1, 'Q1-Dataset/pg345.txt': 1, 'Q1-Dataset/pg64317.txt': 1, 'Q1-Dataset/pg70815.txt': 1, 'Q1-Dataset/1080-0.txt': 1, 'Q1-Dataset/pg70817.txt': 1, 'Q1-Dataset/pg1998.txt': 1}, 'property': {'Q1-Dataset/pg1513.txt': 2, 'Q1-Dataset/2160-0.txt': 7, 'Q1-Dataset/pg11.txt': 2, 'Q1-Dataset/pg2600.txt': 22, 'Q1-Dataset/pg345.txt': 7, 'Q1-Dataset/pg64317.txt': 3, 'Q1-Dataset/pg70815.txt': 2, 'Q1-Dataset/1080-0.txt': 2, 'Q1-Dataset/pg70817.txt': 2, 'Q1-Dataset/pg1998.txt': 2}, 'viewed,': {'Q1-Dataset/pg1513.txt': 1, 'Q1-Dataset/2160-0.txt': 1, 'Q1-Dataset/pg11.txt': 1, 'Q1-Dataset/pg2600.txt': 1, 'Q1-Dataset/pg345.txt': 1, 'Q1-Dataset/pg64317.txt': 1, 'Q1-Dataset/pg70815.txt': 1, 'Q1-Dataset/1080-0.txt': 1, 'Q1-Dataset/pg70817.txt': 1, 'Q1-Dataset/pg1998.txt': 1}, 'licensed': {'Q1-Dataset/pg1513.txt': 1, 'Q1-Dataset/2160-0.txt': 1, 'Q1-Dataset/pg11.txt': 1, 'Q1-Dataset/pg2600.txt': 1, 'Q1-Dataset/pg345.txt': 1, 'Q1-Dataset/pg64317.txt': 1, 'Q1-Dataset/pg70815.txt': 1, 'Q1-Dataset/1080-0.txt': 1, 'Q1-Dataset/pg70817.txt': 1, 'Q1-Dataset/pg1998.txt': 1}, 'effort,': {'Q1-Dataset/pg1513.txt': 1, 'Q1-Dataset/2160-0.txt': 2, 'Q1-Dataset/pg11.txt': 1, 'Q1-Dataset/pg2600.txt': 16, 'Q1-Dataset/pg345.txt': 4, 'Q1-Dataset/pg64317.txt': 2, 'Q1-Dataset/pg70815.txt': 1, 'Q1-Dataset/1080-0.txt': 1, 'Q1-Dataset/pg70817.txt': 1, 'Q1-Dataset/pg1998.txt': 1}, 'includes': {'Q1-Dataset/pg1513.txt': 1, 'Q1-Dataset/2160-0.txt': 1, 'Q1-Dataset/pg11.txt': 1, 'Q1-Dataset/pg2600.txt': 2, 'Q1-Dataset/pg345.txt': 1, 'Q1-Dataset/pg64317.txt': 1, 'Q1-Dataset/pg70815.txt': 1, 'Q1-Dataset/1080-0.txt': 1, 'Q1-Dataset/pg70817.txt': 1, 'Q1-Dataset/pg1998.txt': 1}, 'We': {'Q1-Dataset/pg1513.txt': 19, 'Q1-Dataset/2160-0.txt': 49, 'Q1-Dataset/pg11.txt': 2, 'Q1-Dataset/pg2600.txt': 126, 'Q1-Dataset/pg345.txt': 266, 'Q1-Dataset/pg64317.txt': 44, 'Q1-Dataset/pg70815.txt': 25, 'Q1-Dataset/1080-0.txt': 2, 'Q1-Dataset/pg70817.txt': 23, 'Q1-Dataset/pg1998.txt': 25}, 'your': {'Q1-Dataset/pg1513.txt': 99, 'Q1-Dataset/2160-0.txt': 369, 'Q1-Dataset/pg11.txt': 62, 'Q1-Dataset/pg2600.txt': 707, 'Q1-Dataset/pg345.txt': 281, 'Q1-Dataset/pg64317.txt': 71, 'Q1-Dataset/pg70815.txt': 68, 'Q1-Dataset/1080-0.txt': 9, 'Q1-Dataset/pg70817.txt': 17, 'Q1-Dataset/pg1998.txt': 337}, '1.F.5.': {'Q1-Dataset/pg1513.txt': 1, 'Q1-Dataset/2160-0.txt': 1, 'Q1-Dataset/pg11.txt': 1, 'Q1-Dataset/pg2600.txt': 1, 'Q1-Dataset/pg345.txt': 1, 'Q1-Dataset/pg64317.txt': 1, 'Q1-Dataset/pg70815.txt': 1, 'Q1-Dataset/1080-0.txt': 1, 'Q1-Dataset/pg70817.txt': 1, 'Q1-Dataset/pg1998.txt': 1}, '(www.gutenberg.org),': {'Q1-Dataset/pg1513.txt': 1, 'Q1-Dataset/2160-0.txt': 1, 'Q1-Dataset/pg11.txt': 1, 'Q1-Dataset/pg2600.txt': 1, 'Q1-Dataset/pg345.txt': 1, 'Q1-Dataset/pg64317.txt': 1, 'Q1-Dataset/pg70815.txt': 1, 'Q1-Dataset/1080-0.txt': 1, 'Q1-Dataset/pg70817.txt': 1, 'Q1-Dataset/pg1998.txt': 1}, 'Mississippi': {'Q1-Dataset/pg1513.txt': 1, 'Q1-Dataset/2160-0.txt': 1, 'Q1-Dataset/pg11.txt': 1, 'Q1-Dataset/pg2600.txt': 1, 'Q1-Dataset/pg345.txt': 1, 'Q1-Dataset/pg64317.txt': 1, 'Q1-Dataset/pg70815.txt': 1, 'Q1-Dataset/1080-0.txt': 1, 'Q1-Dataset/pg70817.txt': 1, 'Q1-Dataset/pg1998.txt': 1}, 'indicating': {'Q1-Dataset/pg1513.txt': 1, 'Q1-Dataset/2160-0.txt': 1, 'Q1-Dataset/pg11.txt': 1, 'Q1-Dataset/pg2600.txt': 23, 'Q1-Dataset/pg345.txt': 1, 'Q1-Dataset/pg64317.txt': 2, 'Q1-Dataset/pg70815.txt': 3, 'Q1-Dataset/1080-0.txt': 1, 'Q1-Dataset/pg70817.txt': 1, 'Q1-Dataset/pg1998.txt': 1}, 'method': {'Q1-Dataset/pg1513.txt': 1, 'Q1-Dataset/2160-0.txt': 11, 'Q1-Dataset/pg11.txt': 1, 'Q1-Dataset/pg2600.txt': 12, 'Q1-Dataset/pg345.txt': 6, 'Q1-Dataset/pg64317.txt': 1, 'Q1-Dataset/pg70815.txt': 3, 'Q1-Dataset/1080-0.txt': 2, 'Q1-Dataset/pg70817.txt': 1, 'Q1-Dataset/pg1998.txt': 4}, 'laws': {'Q1-Dataset/pg1513.txt': 9, 'Q1-Dataset/2160-0.txt': 7, 'Q1-Dataset/pg11.txt': 9, 'Q1-Dataset/pg2600.txt': 71, 'Q1-Dataset/pg345.txt': 9, 'Q1-Dataset/pg64317.txt': 10, 'Q1-Dataset/pg70815.txt': 13, 'Q1-Dataset/1080-0.txt': 10, 'Q1-Dataset/pg70817.txt': 10, 'Q1-Dataset/pg1998.txt': 12}, 'present': {'Q1-Dataset/pg1513.txt': 3, 'Q1-Dataset/2160-0.txt': 51, 'Q1-Dataset/pg11.txt': 1, 'Q1-Dataset/pg2600.txt': 90, 'Q1-Dataset/pg345.txt': 36, 'Q1-Dataset/pg64317.txt': 4, 'Q1-Dataset/pg70815.txt': 5, 'Q1-Dataset/1080-0.txt': 3, 'Q1-Dataset/pg70817.txt': 1, 'Q1-Dataset/pg1998.txt': 33}, 'up,': {'Q1-Dataset/pg1513.txt': 13, 'Q1-Dataset/2160-0.txt': 31, 'Q1-Dataset/pg11.txt': 10, 'Q1-Dataset/pg2600.txt': 122, 'Q1-Dataset/pg345.txt': 45, 'Q1-Dataset/pg64317.txt': 13, 'Q1-Dataset/pg70815.txt': 6, 'Q1-Dataset/1080-0.txt': 2, 'Q1-Dataset/pg70817.txt': 8, 'Q1-Dataset/pg1998.txt': 26}, 'There': {'Q1-Dataset/pg1513.txt': 14, 'Q1-Dataset/2160-0.txt': 34, 'Q1-Dataset/pg11.txt': 21, 'Q1-Dataset/pg2600.txt': 197, 'Q1-Dataset/pg345.txt': 189, 'Q1-Dataset/pg64317.txt': 31, 'Q1-Dataset/pg70815.txt': 47, 'Q1-Dataset/1080-0.txt': 5, 'Q1-Dataset/pg70817.txt': 31, 'Q1-Dataset/pg1998.txt': 66}, 'future': {'Q1-Dataset/pg1513.txt': 3, 'Q1-Dataset/2160-0.txt': 8, 'Q1-Dataset/pg11.txt': 3, 'Q1-Dataset/pg2600.txt': 56, 'Q1-Dataset/pg345.txt': 9, 'Q1-Dataset/pg64317.txt': 8, 'Q1-Dataset/pg70815.txt': 8, 'Q1-Dataset/1080-0.txt': 3, 'Q1-Dataset/pg70817.txt': 4, 'Q1-Dataset/pg1998.txt': 22}, 'age': {'Q1-Dataset/pg1513.txt': 2, 'Q1-Dataset/2160-0.txt': 11, 'Q1-Dataset/pg11.txt': 2, 'Q1-Dataset/pg2600.txt': 20, 'Q1-Dataset/pg345.txt': 10, 'Q1-Dataset/pg64317.txt': 4, 'Q1-Dataset/pg70815.txt': 13, 'Q1-Dataset/1080-0.txt': 1, 'Q1-Dataset/pg70817.txt': 1, 'Q1-Dataset/pg1998.txt': 6}, 'See': {'Q1-Dataset/pg1513.txt': 6, 'Q1-Dataset/2160-0.txt': 2, 'Q1-Dataset/pg11.txt': 3, 'Q1-Dataset/pg2600.txt': 12, 'Q1-Dataset/pg345.txt': 4, 'Q1-Dataset/pg64317.txt': 3, 'Q1-Dataset/pg70815.txt': 3, 'Q1-Dataset/1080-0.txt': 2, 'Q1-Dataset/pg70817.txt': 2, 'Q1-Dataset/pg1998.txt': 12}, 'reason': {'Q1-Dataset/pg1513.txt': 5, 'Q1-Dataset/2160-0.txt': 29, 'Q1-Dataset/pg11.txt': 8, 'Q1-Dataset/pg2600.txt': 87, 'Q1-Dataset/pg345.txt': 21, 'Q1-Dataset/pg64317.txt': 5, 'Q1-Dataset/pg70815.txt': 18, 'Q1-Dataset/1080-0.txt': 1, 'Q1-Dataset/pg70817.txt': 8, 'Q1-Dataset/pg1998.txt': 14}, 'each': {'Q1-Dataset/pg1513.txt': 2, 'Q1-Dataset/2160-0.txt': 26, 'Q1-Dataset/pg11.txt': 8, 'Q1-Dataset/pg2600.txt': 161, 'Q1-Dataset/pg345.txt': 78, 'Q1-Dataset/pg64317.txt': 31, 'Q1-Dataset/pg70815.txt': 42, 'Q1-Dataset/1080-0.txt': 1, 'Q1-Dataset/pg70817.txt': 8, 'Q1-Dataset/pg1998.txt': 42}, 'END': {'Q1-Dataset/pg1513.txt': 1, 'Q1-Dataset/2160-0.txt': 1, 'Q1-Dataset/pg11.txt': 2, 'Q1-Dataset/pg2600.txt': 1, 'Q1-Dataset/pg345.txt': 2, 'Q1-Dataset/pg64317.txt': 1, 'Q1-Dataset/pg70815.txt': 1, 'Q1-Dataset/1080-0.txt': 1, 'Q1-Dataset/pg70817.txt': 1, 'Q1-Dataset/pg1998.txt': 1}, 'types': {'Q1-Dataset/pg1513.txt': 1, 'Q1-Dataset/2160-0.txt': 1, 'Q1-Dataset/pg11.txt': 1, 'Q1-Dataset/pg2600.txt': 2, 'Q1-Dataset/pg345.txt': 1, 'Q1-Dataset/pg64317.txt': 1, 'Q1-Dataset/pg70815.txt': 2, 'Q1-Dataset/1080-0.txt': 1, 'Q1-Dataset/pg70817.txt': 1, 'Q1-Dataset/pg1998.txt': 3}, 'RIGHT': {'Q1-Dataset/pg1513.txt': 1, 'Q1-Dataset/2160-0.txt': 1, 'Q1-Dataset/pg11.txt': 1, 'Q1-Dataset/pg2600.txt': 1, 'Q1-Dataset/pg345.txt': 1, 'Q1-Dataset/pg64317.txt': 1, 'Q1-Dataset/pg70815.txt': 1, 'Q1-Dataset/1080-0.txt': 1, 'Q1-Dataset/pg70817.txt': 1, 'Q1-Dataset/pg1998.txt': 2}, 'specified': {'Q1-Dataset/pg1513.txt': 2, 'Q1-Dataset/2160-0.txt': 3, 'Q1-Dataset/pg11.txt': 2, 'Q1-Dataset/pg2600.txt': 2, 'Q1-Dataset/pg345.txt': 2, 'Q1-Dataset/pg64317.txt': 2, 'Q1-Dataset/pg70815.txt': 2, 'Q1-Dataset/1080-0.txt': 2, 'Q1-Dataset/pg70817.txt': 2, 'Q1-Dataset/pg1998.txt': 2}, 'will': {'Q1-Dataset/pg1513.txt': 128, 'Q1-Dataset/2160-0.txt': 364, 'Q1-Dataset/pg11.txt': 31, 'Q1-Dataset/pg2600.txt': 942, 'Q1-Dataset/pg345.txt': 400, 'Q1-Dataset/pg64317.txt': 19, 'Q1-Dataset/pg70815.txt': 125, 'Q1-Dataset/1080-0.txt': 44, 'Q1-Dataset/pg70817.txt': 20, 'Q1-Dataset/pg1998.txt': 295}, 'committed': {'Q1-Dataset/pg1513.txt': 1, 'Q1-Dataset/2160-0.txt': 8, 'Q1-Dataset/pg11.txt': 1, 'Q1-Dataset/pg2600.txt': 15, 'Q1-Dataset/pg345.txt': 3, 'Q1-Dataset/pg64317.txt': 2, 'Q1-Dataset/pg70815.txt': 1, 'Q1-Dataset/1080-0.txt': 1, 'Q1-Dataset/pg70817.txt': 1, 'Q1-Dataset/pg1998.txt': 1}, 'ensuring': {'Q1-Dataset/pg1513.txt': 1, 'Q1-Dataset/2160-0.txt': 1, 'Q1-Dataset/pg11.txt': 1, 'Q1-Dataset/pg2600.txt': 2, 'Q1-Dataset/pg345.txt': 1, 'Q1-Dataset/pg64317.txt': 1, 'Q1-Dataset/pg70815.txt': 1, 'Q1-Dataset/1080-0.txt': 1, 'Q1-Dataset/pg70817.txt': 1, 'Q1-Dataset/pg1998.txt': 1}, 'could': {'Q1-Dataset/pg1513.txt': 13, 'Q1-Dataset/2160-0.txt': 247, 'Q1-Dataset/pg11.txt': 64, 'Q1-Dataset/pg2600.txt': 1090, 'Q1-Dataset/pg345.txt': 458, 'Q1-Dataset/pg64317.txt': 62, 'Q1-Dataset/pg70815.txt': 236, 'Q1-Dataset/1080-0.txt': 6, 'Q1-Dataset/pg70817.txt': 60, 'Q1-Dataset/pg1998.txt': 103}, 'swamp': {'Q1-Dataset/pg1513.txt': 1, 'Q1-Dataset/2160-0.txt': 1, 'Q1-Dataset/pg11.txt': 1, 'Q1-Dataset/pg2600.txt': 3, 'Q1-Dataset/pg345.txt': 1, 'Q1-Dataset/pg64317.txt': 1, 'Q1-Dataset/pg70815.txt': 5, 'Q1-Dataset/1080-0.txt': 1, 'Q1-Dataset/pg70817.txt': 9, 'Q1-Dataset/pg1998.txt': 2}, 'License': {'Q1-Dataset/pg1513.txt': 8, 'Q1-Dataset/2160-0.txt': 8, 'Q1-Dataset/pg11.txt': 8, 'Q1-Dataset/pg2600.txt': 8, 'Q1-Dataset/pg345.txt': 8, 'Q1-Dataset/pg64317.txt': 8, 'Q1-Dataset/pg70815.txt': 8, 'Q1-Dataset/1080-0.txt': 8, 'Q1-Dataset/pg70817.txt': 8, 'Q1-Dataset/pg1998.txt': 8}, 'unless': {'Q1-Dataset/pg1513.txt': 4, 'Q1-Dataset/2160-0.txt': 12, 'Q1-Dataset/pg11.txt': 3, 'Q1-Dataset/pg2600.txt': 13, 'Q1-Dataset/pg345.txt': 16, 'Q1-Dataset/pg64317.txt': 3, 'Q1-Dataset/pg70815.txt': 13, 'Q1-Dataset/1080-0.txt': 3, 'Q1-Dataset/pg70817.txt': 3, 'Q1-Dataset/pg1998.txt': 17}, 'Most': {'Q1-Dataset/pg1513.txt': 4, 'Q1-Dataset/2160-0.txt': 3, 'Q1-Dataset/pg11.txt': 1, 'Q1-Dataset/pg2600.txt': 12, 'Q1-Dataset/pg345.txt': 2, 'Q1-Dataset/pg64317.txt': 7, 'Q1-Dataset/pg70815.txt': 2, 'Q1-Dataset/1080-0.txt': 1, 'Q1-Dataset/pg70817.txt': 3, 'Q1-Dataset/pg1998.txt': 5}, 'As': {'Q1-Dataset/pg1513.txt': 36, 'Q1-Dataset/2160-0.txt': 63, 'Q1-Dataset/pg11.txt': 12, 'Q1-Dataset/pg2600.txt': 214, 'Q1-Dataset/pg345.txt': 115, 'Q1-Dataset/pg64317.txt': 26, 'Q1-Dataset/pg70815.txt': 88, 'Q1-Dataset/1080-0.txt': 3, 'Q1-Dataset/pg70817.txt': 35, 'Q1-Dataset/pg1998.txt': 47}, 'might': {'Q1-Dataset/pg1513.txt': 5, 'Q1-Dataset/2160-0.txt': 133, 'Q1-Dataset/pg11.txt': 27, 'Q1-Dataset/pg2600.txt': 293, 'Q1-Dataset/pg345.txt': 153, 'Q1-Dataset/pg64317.txt': 26, 'Q1-Dataset/pg70815.txt': 163, 'Q1-Dataset/1080-0.txt': 4, 'Q1-Dataset/pg70817.txt': 21, 'Q1-Dataset/pg1998.txt': 39}, 'that': {'Q1-Dataset/pg1513.txt': 267, 'Q1-Dataset/2160-0.txt': 1795, 'Q1-Dataset/pg11.txt': 225, 'Q1-Dataset/pg2600.txt': 7228, 'Q1-Dataset/pg345.txt': 2322, 'Q1-Dataset/pg64317.txt': 519, 'Q1-Dataset/pg70815.txt': 1364, 'Q1-Dataset/1080-0.txt': 49, 'Q1-Dataset/pg70817.txt': 247, 'Q1-Dataset/pg1998.txt': 1112}, 'life': {'Q1-Dataset/pg1513.txt': 11, 'Q1-Dataset/2160-0.txt': 43, 'Q1-Dataset/pg11.txt': 2, 'Q1-Dataset/pg2600.txt': 331, 'Q1-Dataset/pg345.txt': 79, 'Q1-Dataset/pg64317.txt': 12, 'Q1-Dataset/pg70815.txt': 46, 'Q1-Dataset/1080-0.txt': 1, 'Q1-Dataset/pg70817.txt': 12, 'Q1-Dataset/pg1998.txt': 71}, 'being': {'Q1-Dataset/pg1513.txt': 12, 'Q1-Dataset/2160-0.txt': 209, 'Q1-Dataset/pg11.txt': 19, 'Q1-Dataset/pg2600.txt': 445, 'Q1-Dataset/pg345.txt': 77, 'Q1-Dataset/pg64317.txt': 15, 'Q1-Dataset/pg70815.txt': 54, 'Q1-Dataset/1080-0.txt': 17, 'Q1-Dataset/pg70817.txt': 9, 'Q1-Dataset/pg1998.txt': 36}, 'problem.': {'Q1-Dataset/pg1513.txt': 1, 'Q1-Dataset/2160-0.txt': 1, 'Q1-Dataset/pg11.txt': 1, 'Q1-Dataset/pg2600.txt': 5, 'Q1-Dataset/pg345.txt': 1, 'Q1-Dataset/pg64317.txt': 1, 'Q1-Dataset/pg70815.txt': 1, 'Q1-Dataset/1080-0.txt': 1, 'Q1-Dataset/pg70817.txt': 1, 'Q1-Dataset/pg1998.txt': 1}, 'critical': {'Q1-Dataset/pg1513.txt': 1, 'Q1-Dataset/2160-0.txt': 1, 'Q1-Dataset/pg11.txt': 1, 'Q1-Dataset/pg2600.txt': 5, 'Q1-Dataset/pg345.txt': 1, 'Q1-Dataset/pg64317.txt': 1, 'Q1-Dataset/pg70815.txt': 1, 'Q1-Dataset/1080-0.txt': 1, 'Q1-Dataset/pg70817.txt': 1, 'Q1-Dataset/pg1998.txt': 1}, 'been': {'Q1-Dataset/pg1513.txt': 20, 'Q1-Dataset/2160-0.txt': 388, 'Q1-Dataset/pg11.txt': 36, 'Q1-Dataset/pg2600.txt': 1458, 'Q1-Dataset/pg345.txt': 377, 'Q1-Dataset/pg64317.txt': 104, 'Q1-Dataset/pg70815.txt': 264, 'Q1-Dataset/1080-0.txt': 7, 'Q1-Dataset/pg70817.txt': 67, 'Q1-Dataset/pg1998.txt': 137}, 'little': {'Q1-Dataset/pg1513.txt': 10, 'Q1-Dataset/2160-0.txt': 142, 'Q1-Dataset/pg11.txt': 118, 'Q1-Dataset/pg2600.txt': 513, 'Q1-Dataset/pg345.txt': 147, 'Q1-Dataset/pg64317.txt': 89, 'Q1-Dataset/pg70815.txt': 62, 'Q1-Dataset/1080-0.txt': 7, 'Q1-Dataset/pg70817.txt': 24, 'Q1-Dataset/pg1998.txt': 95}, 'payments': {'Q1-Dataset/pg1513.txt': 3, 'Q1-Dataset/2160-0.txt': 3, 'Q1-Dataset/pg11.txt': 3, 'Q1-Dataset/pg2600.txt': 5, 'Q1-Dataset/pg345.txt': 3, 'Q1-Dataset/pg64317.txt': 3, 'Q1-Dataset/pg70815.txt': 3, 'Q1-Dataset/1080-0.txt': 3, 'Q1-Dataset/pg70817.txt': 3, 'Q1-Dataset/pg1998.txt': 3}, 'increasing': {'Q1-Dataset/pg1513.txt': 1, 'Q1-Dataset/2160-0.txt': 2, 'Q1-Dataset/pg11.txt': 1, 'Q1-Dataset/pg2600.txt': 11, 'Q1-Dataset/pg345.txt': 4, 'Q1-Dataset/pg64317.txt': 3, 'Q1-Dataset/pg70815.txt': 5, 'Q1-Dataset/1080-0.txt': 1, 'Q1-Dataset/pg70817.txt': 3, 'Q1-Dataset/pg1998.txt': 2}, 'provided': {'Q1-Dataset/pg1513.txt': 4, 'Q1-Dataset/2160-0.txt': 26, 'Q1-Dataset/pg11.txt': 3, 'Q1-Dataset/pg2600.txt': 9, 'Q1-Dataset/pg345.txt': 3, 'Q1-Dataset/pg64317.txt': 5, 'Q1-Dataset/pg70815.txt': 3, 'Q1-Dataset/1080-0.txt': 5, 'Q1-Dataset/pg70817.txt': 3, 'Q1-Dataset/pg1998.txt': 6}, 'Service.': {'Q1-Dataset/pg1513.txt': 1, 'Q1-Dataset/2160-0.txt': 1, 'Q1-Dataset/pg11.txt': 1, 'Q1-Dataset/pg2600.txt': 1, 'Q1-Dataset/pg345.txt': 1, 'Q1-Dataset/pg64317.txt': 1, 'Q1-Dataset/pg70815.txt': 1, 'Q1-Dataset/1080-0.txt': 1, 'Q1-Dataset/pg70817.txt': 1, 'Q1-Dataset/pg1998.txt': 3}, 'to,': {'Q1-Dataset/pg1513.txt': 5, 'Q1-Dataset/2160-0.txt': 7, 'Q1-Dataset/pg11.txt': 7, 'Q1-Dataset/pg2600.txt': 40, 'Q1-Dataset/pg345.txt': 14, 'Q1-Dataset/pg64317.txt': 10, 'Q1-Dataset/pg70815.txt': 5, 'Q1-Dataset/1080-0.txt': 4, 'Q1-Dataset/pg70817.txt': 4, 'Q1-Dataset/pg1998.txt': 5}, 'accessed,': {'Q1-Dataset/pg1513.txt': 1, 'Q1-Dataset/2160-0.txt': 1, 'Q1-Dataset/pg11.txt': 1, 'Q1-Dataset/pg2600.txt': 1, 'Q1-Dataset/pg345.txt': 1, 'Q1-Dataset/pg64317.txt': 1, 'Q1-Dataset/pg70815.txt': 1, 'Q1-Dataset/1080-0.txt': 1, 'Q1-Dataset/pg70817.txt': 1, 'Q1-Dataset/pg1998.txt': 1}, 'times': {'Q1-Dataset/pg1513.txt': 6, 'Q1-Dataset/2160-0.txt': 32, 'Q1-Dataset/pg11.txt': 6, 'Q1-Dataset/pg2600.txt': 117, 'Q1-Dataset/pg345.txt': 38, 'Q1-Dataset/pg64317.txt': 13, 'Q1-Dataset/pg70815.txt': 19, 'Q1-Dataset/1080-0.txt': 2, 'Q1-Dataset/pg70817.txt': 5, 'Q1-Dataset/pg1998.txt': 19}, 'clearly': {'Q1-Dataset/pg1513.txt': 1, 'Q1-Dataset/2160-0.txt': 2, 'Q1-Dataset/pg11.txt': 1, 'Q1-Dataset/pg2600.txt': 78, 'Q1-Dataset/pg345.txt': 3, 'Q1-Dataset/pg64317.txt': 2, 'Q1-Dataset/pg70815.txt': 2, 'Q1-Dataset/1080-0.txt': 1, 'Q1-Dataset/pg70817.txt': 2, 'Q1-Dataset/pg1998.txt': 5}, 'determine': {'Q1-Dataset/pg1513.txt': 3, 'Q1-Dataset/2160-0.txt': 1, 'Q1-Dataset/pg11.txt': 1, 'Q1-Dataset/pg2600.txt': 8, 'Q1-Dataset/pg345.txt': 1, 'Q1-Dataset/pg64317.txt': 2, 'Q1-Dataset/pg70815.txt': 2, 'Q1-Dataset/1080-0.txt': 1, 'Q1-Dataset/pg70817.txt': 1, 'Q1-Dataset/pg1998.txt': 4}, 'PROJECT': {'Q1-Dataset/pg1513.txt': 4, 'Q1-Dataset/2160-0.txt': 4, 'Q1-Dataset/pg11.txt': 4, 'Q1-Dataset/pg2600.txt': 4, 'Q1-Dataset/pg345.txt': 4, 'Q1-Dataset/pg64317.txt': 4, 'Q1-Dataset/pg70815.txt': 4, 'Q1-Dataset/1080-0.txt': 4, 'Q1-Dataset/pg70817.txt': 4, 'Q1-Dataset/pg1998.txt': 4}, 'considerable': {'Q1-Dataset/pg1513.txt': 2, 'Q1-Dataset/2160-0.txt': 28, 'Q1-Dataset/pg11.txt': 2, 'Q1-Dataset/pg2600.txt': 6, 'Q1-Dataset/pg345.txt': 12, 'Q1-Dataset/pg64317.txt': 3, 'Q1-Dataset/pg70815.txt': 30, 'Q1-Dataset/1080-0.txt': 3, 'Q1-Dataset/pg70817.txt': 2, 'Q1-Dataset/pg1998.txt': 3}, 'beginning': {'Q1-Dataset/pg1513.txt': 1, 'Q1-Dataset/2160-0.txt': 9, 'Q1-Dataset/pg11.txt': 12, 'Q1-Dataset/pg2600.txt': 75, 'Q1-Dataset/pg345.txt': 30, 'Q1-Dataset/pg64317.txt': 6, 'Q1-Dataset/pg70815.txt': 4, 'Q1-Dataset/1080-0.txt': 1, 'Q1-Dataset/pg70817.txt': 4, 'Q1-Dataset/pg1998.txt': 9}, 'REFUND': {'Q1-Dataset/pg1513.txt': 1, 'Q1-Dataset/2160-0.txt': 1, 'Q1-Dataset/pg11.txt': 1, 'Q1-Dataset/pg2600.txt': 1, 'Q1-Dataset/pg345.txt': 1, 'Q1-Dataset/pg64317.txt': 1, 'Q1-Dataset/pg70815.txt': 1, 'Q1-Dataset/1080-0.txt': 1, 'Q1-Dataset/pg70817.txt': 1, 'Q1-Dataset/pg1998.txt': 1}, 'Additional': {'Q1-Dataset/pg1513.txt': 1, 'Q1-Dataset/2160-0.txt': 1, 'Q1-Dataset/pg11.txt': 1, 'Q1-Dataset/pg2600.txt': 1, 'Q1-Dataset/pg345.txt': 1, 'Q1-Dataset/pg64317.txt': 1, 'Q1-Dataset/pg70815.txt': 1, 'Q1-Dataset/1080-0.txt': 1, 'Q1-Dataset/pg70817.txt': 1, 'Q1-Dataset/pg1998.txt': 1}, 'receipt': {'Q1-Dataset/pg1513.txt': 3, 'Q1-Dataset/2160-0.txt': 5, 'Q1-Dataset/pg11.txt': 2, 'Q1-Dataset/pg2600.txt': 5, 'Q1-Dataset/pg345.txt': 5, 'Q1-Dataset/pg64317.txt': 2, 'Q1-Dataset/pg70815.txt': 2, 'Q1-Dataset/1080-0.txt': 2, 'Q1-Dataset/pg70817.txt': 2, 'Q1-Dataset/pg1998.txt': 2}, 'please': {'Q1-Dataset/pg1513.txt': 3, 'Q1-Dataset/2160-0.txt': 17, 'Q1-Dataset/pg11.txt': 9, 'Q1-Dataset/pg2600.txt': 52, 'Q1-Dataset/pg345.txt': 18, 'Q1-Dataset/pg64317.txt': 2, 'Q1-Dataset/pg70815.txt': 2, 'Q1-Dataset/1080-0.txt': 1, 'Q1-Dataset/pg70817.txt': 3, 'Q1-Dataset/pg1998.txt': 9}, 'unsolicited': {'Q1-Dataset/pg1513.txt': 1, 'Q1-Dataset/2160-0.txt': 1, 'Q1-Dataset/pg11.txt': 1, 'Q1-Dataset/pg2600.txt': 2, 'Q1-Dataset/pg345.txt': 1, 'Q1-Dataset/pg64317.txt': 1, 'Q1-Dataset/pg70815.txt': 1, 'Q1-Dataset/1080-0.txt': 1, 'Q1-Dataset/pg70817.txt': 1, 'Q1-Dataset/pg1998.txt': 1}, 'half': {'Q1-Dataset/pg1513.txt': 5, 'Q1-Dataset/2160-0.txt': 64, 'Q1-Dataset/pg11.txt': 21, 'Q1-Dataset/pg2600.txt': 118, 'Q1-Dataset/pg345.txt': 43, 'Q1-Dataset/pg64317.txt': 33, 'Q1-Dataset/pg70815.txt': 20, 'Q1-Dataset/1080-0.txt': 1, 'Q1-Dataset/pg70817.txt': 13, 'Q1-Dataset/pg1998.txt': 4}, 'made': {'Q1-Dataset/pg1513.txt': 18, 'Q1-Dataset/2160-0.txt': 217, 'Q1-Dataset/pg11.txt': 29, 'Q1-Dataset/pg2600.txt': 445, 'Q1-Dataset/pg345.txt': 187, 'Q1-Dataset/pg64317.txt': 62, 'Q1-Dataset/pg70815.txt': 74, 'Q1-Dataset/1080-0.txt': 3, 'Q1-Dataset/pg70817.txt': 33, 'Q1-Dataset/pg1998.txt': 43}, 'DIRECT,': {'Q1-Dataset/pg1513.txt': 1, 'Q1-Dataset/2160-0.txt': 1, 'Q1-Dataset/pg11.txt': 1, 'Q1-Dataset/pg2600.txt': 1, 'Q1-Dataset/pg345.txt': 1, 'Q1-Dataset/pg64317.txt': 1, 'Q1-Dataset/pg70815.txt': 1, 'Q1-Dataset/1080-0.txt': 1, 'Q1-Dataset/pg70817.txt': 1, 'Q1-Dataset/pg1998.txt': 1}, 'the': {'Q1-Dataset/pg1513.txt': 780, 'Q1-Dataset/2160-0.txt': 8149, 'Q1-Dataset/pg11.txt': 1683, 'Q1-Dataset/pg2600.txt': 31714, 'Q1-Dataset/pg345.txt': 7437, 'Q1-Dataset/pg64317.txt': 2370, 'Q1-Dataset/pg70815.txt': 5761, 'Q1-Dataset/1080-0.txt': 335, 'Q1-Dataset/pg70817.txt': 1654, 'Q1-Dataset/pg1998.txt': 5431}, 'legally': {'Q1-Dataset/pg1513.txt': 1, 'Q1-Dataset/2160-0.txt': 1, 'Q1-Dataset/pg11.txt': 1, 'Q1-Dataset/pg2600.txt': 1, 'Q1-Dataset/pg345.txt': 1, 'Q1-Dataset/pg64317.txt': 1, 'Q1-Dataset/pg70815.txt': 1, 'Q1-Dataset/1080-0.txt': 1, 'Q1-Dataset/pg70817.txt': 1, 'Q1-Dataset/pg1998.txt': 1}, 'user': {'Q1-Dataset/pg1513.txt': 2, 'Q1-Dataset/2160-0.txt': 2, 'Q1-Dataset/pg11.txt': 2, 'Q1-Dataset/pg2600.txt': 2, 'Q1-Dataset/pg345.txt': 2, 'Q1-Dataset/pg64317.txt': 2, 'Q1-Dataset/pg70815.txt': 2, 'Q1-Dataset/1080-0.txt': 2, 'Q1-Dataset/pg70817.txt': 2, 'Q1-Dataset/pg1998.txt': 2}, 'Except': {'Q1-Dataset/pg1513.txt': 2, 'Q1-Dataset/2160-0.txt': 2, 'Q1-Dataset/pg11.txt': 2, 'Q1-Dataset/pg2600.txt': 3, 'Q1-Dataset/pg345.txt': 2, 'Q1-Dataset/pg64317.txt': 2, 'Q1-Dataset/pg70815.txt': 2, 'Q1-Dataset/1080-0.txt': 2, 'Q1-Dataset/pg70817.txt': 2, 'Q1-Dataset/pg1998.txt': 3}, 'same': {'Q1-Dataset/pg1513.txt': 14, 'Q1-Dataset/2160-0.txt': 139, 'Q1-Dataset/pg11.txt': 22, 'Q1-Dataset/pg2600.txt': 589, 'Q1-Dataset/pg345.txt': 86, 'Q1-Dataset/pg64317.txt': 16, 'Q1-Dataset/pg70815.txt': 52, 'Q1-Dataset/1080-0.txt': 2, 'Q1-Dataset/pg70817.txt': 3, 'Q1-Dataset/pg1998.txt': 38}, 'survive': {'Q1-Dataset/pg1513.txt': 1, 'Q1-Dataset/2160-0.txt': 2, 'Q1-Dataset/pg11.txt': 1, 'Q1-Dataset/pg2600.txt': 3, 'Q1-Dataset/pg345.txt': 3, 'Q1-Dataset/pg64317.txt': 1, 'Q1-Dataset/pg70815.txt': 2, 'Q1-Dataset/1080-0.txt': 1, 'Q1-Dataset/pg70817.txt': 1, 'Q1-Dataset/pg1998.txt': 2}, 'hope': {'Q1-Dataset/pg1513.txt': 3, 'Q1-Dataset/2160-0.txt': 54, 'Q1-Dataset/pg11.txt': 4, 'Q1-Dataset/pg2600.txt': 65, 'Q1-Dataset/pg345.txt': 46, 'Q1-Dataset/pg64317.txt': 6, 'Q1-Dataset/pg70815.txt': 35, 'Q1-Dataset/1080-0.txt': 2, 'Q1-Dataset/pg70817.txt': 3, 'Q1-Dataset/pg1998.txt': 15}, 'performances': {'Q1-Dataset/pg1513.txt': 1, 'Q1-Dataset/2160-0.txt': 4, 'Q1-Dataset/pg11.txt': 1, 'Q1-Dataset/pg2600.txt': 1, 'Q1-Dataset/pg345.txt': 1, 'Q1-Dataset/pg64317.txt': 1, 'Q1-Dataset/pg70815.txt': 1, 'Q1-Dataset/1080-0.txt': 1, 'Q1-Dataset/pg70817.txt': 1, 'Q1-Dataset/pg1998.txt': 1}, 'date': {'Q1-Dataset/pg1513.txt': 5, 'Q1-Dataset/2160-0.txt': 2, 'Q1-Dataset/pg11.txt': 2, 'Q1-Dataset/pg2600.txt': 4, 'Q1-Dataset/pg345.txt': 3, 'Q1-Dataset/pg64317.txt': 3, 'Q1-Dataset/pg70815.txt': 2, 'Q1-Dataset/1080-0.txt': 2, 'Q1-Dataset/pg70817.txt': 5, 'Q1-Dataset/pg1998.txt': 3}, 'sending': {'Q1-Dataset/pg1513.txt': 2, 'Q1-Dataset/2160-0.txt': 5, 'Q1-Dataset/pg11.txt': 3, 'Q1-Dataset/pg2600.txt': 19, 'Q1-Dataset/pg345.txt': 5, 'Q1-Dataset/pg64317.txt': 1, 'Q1-Dataset/pg70815.txt': 2, 'Q1-Dataset/1080-0.txt': 1, 'Q1-Dataset/pg70817.txt': 2, 'Q1-Dataset/pg1998.txt': 1}, 'employee': {'Q1-Dataset/pg1513.txt': 1, 'Q1-Dataset/2160-0.txt': 1, 'Q1-Dataset/pg11.txt': 1, 'Q1-Dataset/pg2600.txt': 1, 'Q1-Dataset/pg345.txt': 1, 'Q1-Dataset/pg64317.txt': 1, 'Q1-Dataset/pg70815.txt': 1, 'Q1-Dataset/1080-0.txt': 1, 'Q1-Dataset/pg70817.txt': 1, 'Q1-Dataset/pg1998.txt': 1}, 'WARRANTIES': {'Q1-Dataset/pg1513.txt': 2, 'Q1-Dataset/2160-0.txt': 2, 'Q1-Dataset/pg11.txt': 2, 'Q1-Dataset/pg2600.txt': 2, 'Q1-Dataset/pg345.txt': 2, 'Q1-Dataset/pg64317.txt': 2, 'Q1-Dataset/pg70815.txt': 2, 'Q1-Dataset/1080-0.txt': 2, 'Q1-Dataset/pg70817.txt': 2, 'Q1-Dataset/pg1998.txt': 2}, 'often': {'Q1-Dataset/pg1513.txt': 3, 'Q1-Dataset/2160-0.txt': 37, 'Q1-Dataset/pg11.txt': 4, 'Q1-Dataset/pg2600.txt': 127, 'Q1-Dataset/pg345.txt': 16, 'Q1-Dataset/pg64317.txt': 5, 'Q1-Dataset/pg70815.txt': 21, 'Q1-Dataset/1080-0.txt': 2, 'Q1-Dataset/pg70817.txt': 6, 'Q1-Dataset/pg1998.txt': 42}, 'practically': {'Q1-Dataset/pg1513.txt': 1, 'Q1-Dataset/2160-0.txt': 1, 'Q1-Dataset/pg11.txt': 1, 'Q1-Dataset/pg2600.txt': 2, 'Q1-Dataset/pg345.txt': 2, 'Q1-Dataset/pg64317.txt': 1, 'Q1-Dataset/pg70815.txt': 10, 'Q1-Dataset/1080-0.txt': 1, 'Q1-Dataset/pg70817.txt': 1, 'Q1-Dataset/pg1998.txt': 7}, 'explanation': {'Q1-Dataset/pg1513.txt': 1, 'Q1-Dataset/2160-0.txt': 6, 'Q1-Dataset/pg11.txt': 1, 'Q1-Dataset/pg2600.txt': 25, 'Q1-Dataset/pg345.txt': 4, 'Q1-Dataset/pg64317.txt': 1, 'Q1-Dataset/pg70815.txt': 4, 'Q1-Dataset/1080-0.txt': 1, 'Q1-Dataset/pg70817.txt': 5, 'Q1-Dataset/pg1998.txt': 2}, 'law.': {'Q1-Dataset/pg1513.txt': 3, 'Q1-Dataset/2160-0.txt': 5, 'Q1-Dataset/pg11.txt': 2, 'Q1-Dataset/pg2600.txt': 8, 'Q1-Dataset/pg345.txt': 4, 'Q1-Dataset/pg64317.txt': 2, 'Q1-Dataset/pg70815.txt': 2, 'Q1-Dataset/1080-0.txt': 2, 'Q1-Dataset/pg70817.txt': 2, 'Q1-Dataset/pg1998.txt': 4}, 'START': {'Q1-Dataset/pg1513.txt': 1, 'Q1-Dataset/2160-0.txt': 1, 'Q1-Dataset/pg11.txt': 1, 'Q1-Dataset/pg2600.txt': 1, 'Q1-Dataset/pg345.txt': 1, 'Q1-Dataset/pg64317.txt': 1, 'Q1-Dataset/pg70815.txt': 1, 'Q1-Dataset/1080-0.txt': 1, 'Q1-Dataset/pg70817.txt': 1, 'Q1-Dataset/pg1998.txt': 1}, 'replacement': {'Q1-Dataset/pg1513.txt': 3, 'Q1-Dataset/2160-0.txt': 3, 'Q1-Dataset/pg11.txt': 3, 'Q1-Dataset/pg2600.txt': 3, 'Q1-Dataset/pg345.txt': 3, 'Q1-Dataset/pg64317.txt': 3, 'Q1-Dataset/pg70815.txt': 3, 'Q1-Dataset/1080-0.txt': 3, 'Q1-Dataset/pg70817.txt': 3, 'Q1-Dataset/pg1998.txt': 3}, 'whole': {'Q1-Dataset/pg1513.txt': 3, 'Q1-Dataset/2160-0.txt': 94, 'Q1-Dataset/pg11.txt': 13, 'Q1-Dataset/pg2600.txt': 522, 'Q1-Dataset/pg345.txt': 72, 'Q1-Dataset/pg64317.txt': 17, 'Q1-Dataset/pg70815.txt': 14, 'Q1-Dataset/1080-0.txt': 4, 'Q1-Dataset/pg70817.txt': 4, 'Q1-Dataset/pg1998.txt': 27}, 'holder,': {'Q1-Dataset/pg1513.txt': 1, 'Q1-Dataset/2160-0.txt': 1, 'Q1-Dataset/pg11.txt': 1, 'Q1-Dataset/pg2600.txt': 1, 'Q1-Dataset/pg345.txt': 1, 'Q1-Dataset/pg64317.txt': 1, 'Q1-Dataset/pg70815.txt': 1, 'Q1-Dataset/1080-0.txt': 1, 'Q1-Dataset/pg70817.txt': 1, 'Q1-Dataset/pg1998.txt': 1}, 'some': {'Q1-Dataset/pg1513.txt': 44, 'Q1-Dataset/2160-0.txt': 338, 'Q1-Dataset/pg11.txt': 47, 'Q1-Dataset/pg2600.txt': 758, 'Q1-Dataset/pg345.txt': 414, 'Q1-Dataset/pg64317.txt': 93, 'Q1-Dataset/pg70815.txt': 96, 'Q1-Dataset/1080-0.txt': 7, 'Q1-Dataset/pg70817.txt': 66, 'Q1-Dataset/pg1998.txt': 63}, 'electronic': {'Q1-Dataset/pg1513.txt': 27, 'Q1-Dataset/2160-0.txt': 27, 'Q1-Dataset/pg11.txt': 27, 'Q1-Dataset/pg2600.txt': 27, 'Q1-Dataset/pg345.txt': 27, 'Q1-Dataset/pg64317.txt': 27, 'Q1-Dataset/pg70815.txt': 27, 'Q1-Dataset/1080-0.txt': 27, 'Q1-Dataset/pg70817.txt': 27, 'Q1-Dataset/pg1998.txt': 27}, 'great': {'Q1-Dataset/pg1513.txt': 8, 'Q1-Dataset/2160-0.txt': 243, 'Q1-Dataset/pg11.txt': 39, 'Q1-Dataset/pg2600.txt': 225, 'Q1-Dataset/pg345.txt': 163, 'Q1-Dataset/pg64317.txt': 23, 'Q1-Dataset/pg70815.txt': 151, 'Q1-Dataset/1080-0.txt': 10, 'Q1-Dataset/pg70817.txt': 15, 'Q1-Dataset/pg1998.txt': 198}, 'sort': {'Q1-Dataset/pg1513.txt': 1, 'Q1-Dataset/2160-0.txt': 28, 'Q1-Dataset/pg11.txt': 17, 'Q1-Dataset/pg2600.txt': 50, 'Q1-Dataset/pg345.txt': 78, 'Q1-Dataset/pg64317.txt': 23, 'Q1-Dataset/pg70815.txt': 6, 'Q1-Dataset/1080-0.txt': 1, 'Q1-Dataset/pg70817.txt': 3, 'Q1-Dataset/pg1998.txt': 5}, 'redistributing': {'Q1-Dataset/pg1513.txt': 1, 'Q1-Dataset/2160-0.txt': 1, 'Q1-Dataset/pg11.txt': 1, 'Q1-Dataset/pg2600.txt': 1, 'Q1-Dataset/pg345.txt': 1, 'Q1-Dataset/pg64317.txt': 1, 'Q1-Dataset/pg70815.txt': 1, 'Q1-Dataset/1080-0.txt': 1, 'Q1-Dataset/pg70817.txt': 1, 'Q1-Dataset/pg1998.txt': 1}, 'AND': {'Q1-Dataset/pg1513.txt': 4, 'Q1-Dataset/2160-0.txt': 1, 'Q1-Dataset/pg11.txt': 2, 'Q1-Dataset/pg2600.txt': 4, 'Q1-Dataset/pg345.txt': 2, 'Q1-Dataset/pg64317.txt': 1, 'Q1-Dataset/pg70815.txt': 2, 'Q1-Dataset/1080-0.txt': 1, 'Q1-Dataset/pg70817.txt': 1, 'Q1-Dataset/pg1998.txt': 24}, 'included': {'Q1-Dataset/pg1513.txt': 2, 'Q1-Dataset/2160-0.txt': 2, 'Q1-Dataset/pg11.txt': 2, 'Q1-Dataset/pg2600.txt': 9, 'Q1-Dataset/pg345.txt': 3, 'Q1-Dataset/pg64317.txt': 8, 'Q1-Dataset/pg70815.txt': 5, 'Q1-Dataset/1080-0.txt': 2, 'Q1-Dataset/pg70817.txt': 3, 'Q1-Dataset/pg1998.txt': 2}, 'royalty': {'Q1-Dataset/pg1513.txt': 1, 'Q1-Dataset/2160-0.txt': 1, 'Q1-Dataset/pg11.txt': 1, 'Q1-Dataset/pg2600.txt': 1, 'Q1-Dataset/pg345.txt': 1, 'Q1-Dataset/pg64317.txt': 1, 'Q1-Dataset/pg70815.txt': 1, 'Q1-Dataset/1080-0.txt': 1, 'Q1-Dataset/pg70817.txt': 1, 'Q1-Dataset/pg1998.txt': 1}, 'deductible': {'Q1-Dataset/pg1513.txt': 1, 'Q1-Dataset/2160-0.txt': 1, 'Q1-Dataset/pg11.txt': 1, 'Q1-Dataset/pg2600.txt': 1, 'Q1-Dataset/pg345.txt': 1, 'Q1-Dataset/pg64317.txt': 1, 'Q1-Dataset/pg70815.txt': 1, 'Q1-Dataset/1080-0.txt': 1, 'Q1-Dataset/pg70817.txt': 1, 'Q1-Dataset/pg1998.txt': 1}, 'time': {'Q1-Dataset/pg1513.txt': 19, 'Q1-Dataset/2160-0.txt': 121, 'Q1-Dataset/pg11.txt': 46, 'Q1-Dataset/pg2600.txt': 638, 'Q1-Dataset/pg345.txt': 245, 'Q1-Dataset/pg64317.txt': 51, 'Q1-Dataset/pg70815.txt': 109, 'Q1-Dataset/1080-0.txt': 4, 'Q1-Dataset/pg70817.txt': 22, 'Q1-Dataset/pg1998.txt': 83}, 'address': {'Q1-Dataset/pg1513.txt': 1, 'Q1-Dataset/2160-0.txt': 6, 'Q1-Dataset/pg11.txt': 1, 'Q1-Dataset/pg2600.txt': 25, 'Q1-Dataset/pg345.txt': 8, 'Q1-Dataset/pg64317.txt': 4, 'Q1-Dataset/pg70815.txt': 1, 'Q1-Dataset/1080-0.txt': 1, 'Q1-Dataset/pg70817.txt': 1, 'Q1-Dataset/pg1998.txt': 3}, 'find': {'Q1-Dataset/pg1513.txt': 20, 'Q1-Dataset/2160-0.txt': 113, 'Q1-Dataset/pg11.txt': 20, 'Q1-Dataset/pg2600.txt': 158, 'Q1-Dataset/pg345.txt': 111, 'Q1-Dataset/pg64317.txt': 16, 'Q1-Dataset/pg70815.txt': 57, 'Q1-Dataset/1080-0.txt': 2, 'Q1-Dataset/pg70817.txt': 7, 'Q1-Dataset/pg1998.txt': 70}, 'day,': {'Q1-Dataset/pg1513.txt': 8, 'Q1-Dataset/2160-0.txt': 33, 'Q1-Dataset/pg11.txt': 4, 'Q1-Dataset/pg2600.txt': 82, 'Q1-Dataset/pg345.txt': 29, 'Q1-Dataset/pg64317.txt': 4, 'Q1-Dataset/pg70815.txt': 4, 'Q1-Dataset/1080-0.txt': 1, 'Q1-Dataset/pg70817.txt': 3, 'Q1-Dataset/pg1998.txt': 11}, 'ever': {'Q1-Dataset/pg1513.txt': 10, 'Q1-Dataset/2160-0.txt': 119, 'Q1-Dataset/pg11.txt': 16, 'Q1-Dataset/pg2600.txt': 97, 'Q1-Dataset/pg345.txt': 97, 'Q1-Dataset/pg64317.txt': 25, 'Q1-Dataset/pg70815.txt': 51, 'Q1-Dataset/1080-0.txt': 4, 'Q1-Dataset/pg70817.txt': 12, 'Q1-Dataset/pg1998.txt': 134}, 'full': {'Q1-Dataset/pg1513.txt': 18, 'Q1-Dataset/2160-0.txt': 43, 'Q1-Dataset/pg11.txt': 16, 'Q1-Dataset/pg2600.txt': 153, 'Q1-Dataset/pg345.txt': 96, 'Q1-Dataset/pg64317.txt': 30, 'Q1-Dataset/pg70815.txt': 25, 'Q1-Dataset/1080-0.txt': 11, 'Q1-Dataset/pg70817.txt': 18, 'Q1-Dataset/pg1998.txt': 43}, 'sound': {'Q1-Dataset/pg1513.txt': 5, 'Q1-Dataset/2160-0.txt': 16, 'Q1-Dataset/pg11.txt': 3, 'Q1-Dataset/pg2600.txt': 144, 'Q1-Dataset/pg345.txt': 35, 'Q1-Dataset/pg64317.txt': 13, 'Q1-Dataset/pg70815.txt': 29, 'Q1-Dataset/1080-0.txt': 1, 'Q1-Dataset/pg70817.txt': 6, 'Q1-Dataset/pg1998.txt': 12}, 'must': {'Q1-Dataset/pg1513.txt': 46, 'Q1-Dataset/2160-0.txt': 179, 'Q1-Dataset/pg11.txt': 48, 'Q1-Dataset/pg2600.txt': 462, 'Q1-Dataset/pg345.txt': 437, 'Q1-Dataset/pg64317.txt': 41, 'Q1-Dataset/pg70815.txt': 107, 'Q1-Dataset/1080-0.txt': 10, 'Q1-Dataset/pg70817.txt': 24, 'Q1-Dataset/pg1998.txt': 174}, 'additional': {'Q1-Dataset/pg1513.txt': 2, 'Q1-Dataset/2160-0.txt': 5, 'Q1-Dataset/pg11.txt': 2, 'Q1-Dataset/pg2600.txt': 5, 'Q1-Dataset/pg345.txt': 4, 'Q1-Dataset/pg64317.txt': 2, 'Q1-Dataset/pg70815.txt': 4, 'Q1-Dataset/1080-0.txt': 3, 'Q1-Dataset/pg70817.txt': 2, 'Q1-Dataset/pg1998.txt': 3}, 'know': {'Q1-Dataset/pg1513.txt': 34, 'Q1-Dataset/2160-0.txt': 143, 'Q1-Dataset/pg11.txt': 46, 'Q1-Dataset/pg2600.txt': 623, 'Q1-Dataset/pg345.txt': 306, 'Q1-Dataset/pg64317.txt': 70, 'Q1-Dataset/pg70815.txt': 76, 'Q1-Dataset/1080-0.txt': 1, 'Q1-Dataset/pg70817.txt': 8, 'Q1-Dataset/pg1998.txt': 115}, '1.E.2.': {'Q1-Dataset/pg1513.txt': 1, 'Q1-Dataset/2160-0.txt': 1, 'Q1-Dataset/pg11.txt': 1, 'Q1-Dataset/pg2600.txt': 1, 'Q1-Dataset/pg345.txt': 1, 'Q1-Dataset/pg64317.txt': 1, 'Q1-Dataset/pg70815.txt': 1, 'Q1-Dataset/1080-0.txt': 1, 'Q1-Dataset/pg70817.txt': 1, 'Q1-Dataset/pg1998.txt': 1}, 'accepted,': {'Q1-Dataset/pg1513.txt': 1, 'Q1-Dataset/2160-0.txt': 2, 'Q1-Dataset/pg11.txt': 1, 'Q1-Dataset/pg2600.txt': 1, 'Q1-Dataset/pg345.txt': 1, 'Q1-Dataset/pg64317.txt': 1, 'Q1-Dataset/pg70815.txt': 1, 'Q1-Dataset/1080-0.txt': 1, 'Q1-Dataset/pg70817.txt': 1, 'Q1-Dataset/pg1998.txt': 1}, 'promotion': {'Q1-Dataset/pg1513.txt': 1, 'Q1-Dataset/2160-0.txt': 1, 'Q1-Dataset/pg11.txt': 1, 'Q1-Dataset/pg2600.txt': 4, 'Q1-Dataset/pg345.txt': 1, 'Q1-Dataset/pg64317.txt': 1, 'Q1-Dataset/pg70815.txt': 1, 'Q1-Dataset/1080-0.txt': 1, 'Q1-Dataset/pg70817.txt': 1, 'Q1-Dataset/pg1998.txt': 1}, 'donate,': {'Q1-Dataset/pg1513.txt': 1, 'Q1-Dataset/2160-0.txt': 1, 'Q1-Dataset/pg11.txt': 1, 'Q1-Dataset/pg2600.txt': 1, 'Q1-Dataset/pg345.txt': 1, 'Q1-Dataset/pg64317.txt': 1, 'Q1-Dataset/pg70815.txt': 1, 'Q1-Dataset/1080-0.txt': 1, 'Q1-Dataset/pg70817.txt': 1, 'Q1-Dataset/pg1998.txt': 1}, 'hear': {'Q1-Dataset/pg1513.txt': 20, 'Q1-Dataset/2160-0.txt': 34, 'Q1-Dataset/pg11.txt': 15, 'Q1-Dataset/pg2600.txt': 120, 'Q1-Dataset/pg345.txt': 84, 'Q1-Dataset/pg64317.txt': 18, 'Q1-Dataset/pg70815.txt': 8, 'Q1-Dataset/1080-0.txt': 1, 'Q1-Dataset/pg70817.txt': 8, 'Q1-Dataset/pg1998.txt': 46}, 'reports,': {'Q1-Dataset/pg1513.txt': 1, 'Q1-Dataset/2160-0.txt': 1, 'Q1-Dataset/pg11.txt': 1, 'Q1-Dataset/pg2600.txt': 6, 'Q1-Dataset/pg345.txt': 1, 'Q1-Dataset/pg64317.txt': 1, 'Q1-Dataset/pg70815.txt': 1, 'Q1-Dataset/1080-0.txt': 1, 'Q1-Dataset/pg70817.txt': 1, 'Q1-Dataset/pg1998.txt': 1}, '64-6221541.': {'Q1-Dataset/pg1513.txt': 1, 'Q1-Dataset/2160-0.txt': 1, 'Q1-Dataset/pg11.txt': 1, 'Q1-Dataset/pg2600.txt': 1, 'Q1-Dataset/pg345.txt': 1, 'Q1-Dataset/pg64317.txt': 1, 'Q1-Dataset/pg70815.txt': 1, 'Q1-Dataset/1080-0.txt': 1, 'Q1-Dataset/pg70817.txt': 1, 'Q1-Dataset/pg1998.txt': 1}, 'his': {'Q1-Dataset/pg1513.txt': 126, 'Q1-Dataset/2160-0.txt': 1966, 'Q1-Dataset/pg11.txt': 93, 'Q1-Dataset/pg2600.txt': 7630, 'Q1-Dataset/pg345.txt': 1363, 'Q1-Dataset/pg64317.txt': 448, 'Q1-Dataset/pg70815.txt': 896, 'Q1-Dataset/1080-0.txt': 10, 'Q1-Dataset/pg70817.txt': 259, 'Q1-Dataset/pg1998.txt': 856}, 'believe': {'Q1-Dataset/pg1513.txt': 3, 'Q1-Dataset/2160-0.txt': 53, 'Q1-Dataset/pg11.txt': 8, 'Q1-Dataset/pg2600.txt': 105, 'Q1-Dataset/pg345.txt': 55, 'Q1-Dataset/pg64317.txt': 15, 'Q1-Dataset/pg70815.txt': 24, 'Q1-Dataset/1080-0.txt': 1, 'Q1-Dataset/pg70817.txt': 4, 'Q1-Dataset/pg1998.txt': 40}, 'current': {'Q1-Dataset/pg1513.txt': 1, 'Q1-Dataset/2160-0.txt': 4, 'Q1-Dataset/pg11.txt': 1, 'Q1-Dataset/pg2600.txt': 17, 'Q1-Dataset/pg345.txt': 2, 'Q1-Dataset/pg64317.txt': 1, 'Q1-Dataset/pg70815.txt': 6, 'Q1-Dataset/1080-0.txt': 1, 'Q1-Dataset/pg70817.txt': 1, 'Q1-Dataset/pg1998.txt': 4}, 'research': {'Q1-Dataset/pg1513.txt': 1, 'Q1-Dataset/2160-0.txt': 1, 'Q1-Dataset/pg11.txt': 1, 'Q1-Dataset/pg2600.txt': 2, 'Q1-Dataset/pg345.txt': 1, 'Q1-Dataset/pg64317.txt': 1, 'Q1-Dataset/pg70815.txt': 1, 'Q1-Dataset/1080-0.txt': 1, 'Q1-Dataset/pg70817.txt': 2, 'Q1-Dataset/pg1998.txt': 1}, 'assistance': {'Q1-Dataset/pg1513.txt': 1, 'Q1-Dataset/2160-0.txt': 13, 'Q1-Dataset/pg11.txt': 1, 'Q1-Dataset/pg2600.txt': 6, 'Q1-Dataset/pg345.txt': 1, 'Q1-Dataset/pg64317.txt': 1, 'Q1-Dataset/pg70815.txt': 5, 'Q1-Dataset/1080-0.txt': 1, 'Q1-Dataset/pg70817.txt': 1, 'Q1-Dataset/pg1998.txt': 2}, 'indemnify': {'Q1-Dataset/pg1513.txt': 1, 'Q1-Dataset/2160-0.txt': 1, 'Q1-Dataset/pg11.txt': 1, 'Q1-Dataset/pg2600.txt': 1, 'Q1-Dataset/pg345.txt': 1, 'Q1-Dataset/pg64317.txt': 1, 'Q1-Dataset/pg70815.txt': 1, 'Q1-Dataset/1080-0.txt': 1, 'Q1-Dataset/pg70817.txt': 1, 'Q1-Dataset/pg1998.txt': 1}, 'easy.': {'Q1-Dataset/pg1513.txt': 1, 'Q1-Dataset/2160-0.txt': 2, 'Q1-Dataset/pg11.txt': 1, 'Q1-Dataset/pg2600.txt': 4, 'Q1-Dataset/pg345.txt': 2, 'Q1-Dataset/pg64317.txt': 1, 'Q1-Dataset/pg70815.txt': 1, 'Q1-Dataset/1080-0.txt': 1, 'Q1-Dataset/pg70817.txt': 1, 'Q1-Dataset/pg1998.txt': 1}, 'domain': {'Q1-Dataset/pg1513.txt': 2, 'Q1-Dataset/2160-0.txt': 7, 'Q1-Dataset/pg11.txt': 2, 'Q1-Dataset/pg2600.txt': 6, 'Q1-Dataset/pg345.txt': 2, 'Q1-Dataset/pg64317.txt': 2, 'Q1-Dataset/pg70815.txt': 2, 'Q1-Dataset/1080-0.txt': 2, 'Q1-Dataset/pg70817.txt': 3, 'Q1-Dataset/pg1998.txt': 6}, 'DISTRIBUTE': {'Q1-Dataset/pg1513.txt': 1, 'Q1-Dataset/2160-0.txt': 1, 'Q1-Dataset/pg11.txt': 1, 'Q1-Dataset/pg2600.txt': 1, 'Q1-Dataset/pg345.txt': 1, 'Q1-Dataset/pg64317.txt': 1, 'Q1-Dataset/pg70815.txt': 1, 'Q1-Dataset/1080-0.txt': 1, 'Q1-Dataset/pg70817.txt': 1, 'Q1-Dataset/pg1998.txt': 1}, 'Redistributing': {'Q1-Dataset/pg1513.txt': 1, 'Q1-Dataset/2160-0.txt': 1, 'Q1-Dataset/pg11.txt': 1, 'Q1-Dataset/pg2600.txt': 1, 'Q1-Dataset/pg345.txt': 1, 'Q1-Dataset/pg64317.txt': 1, 'Q1-Dataset/pg70815.txt': 1, 'Q1-Dataset/1080-0.txt': 1, 'Q1-Dataset/pg70817.txt': 1, 'Q1-Dataset/pg1998.txt': 1}, 'walks': {'Q1-Dataset/pg1513.txt': 1, 'Q1-Dataset/2160-0.txt': 7, 'Q1-Dataset/pg11.txt': 1, 'Q1-Dataset/pg2600.txt': 3, 'Q1-Dataset/pg345.txt': 6, 'Q1-Dataset/pg64317.txt': 2, 'Q1-Dataset/pg70815.txt': 1, 'Q1-Dataset/1080-0.txt': 1, 'Q1-Dataset/pg70817.txt': 2, 'Q1-Dataset/pg1998.txt': 3}, 'STRICT': {'Q1-Dataset/pg1513.txt': 1, 'Q1-Dataset/2160-0.txt': 1, 'Q1-Dataset/pg11.txt': 1, 'Q1-Dataset/pg2600.txt': 1, 'Q1-Dataset/pg345.txt': 1, 'Q1-Dataset/pg64317.txt': 1, 'Q1-Dataset/pg70815.txt': 1, 'Q1-Dataset/1080-0.txt': 1, 'Q1-Dataset/pg70817.txt': 1, 'Q1-Dataset/pg1998.txt': 1}, 'returns.': {'Q1-Dataset/pg1513.txt': 1, 'Q1-Dataset/2160-0.txt': 1, 'Q1-Dataset/pg11.txt': 1, 'Q1-Dataset/pg2600.txt': 1, 'Q1-Dataset/pg345.txt': 2, 'Q1-Dataset/pg64317.txt': 1, 'Q1-Dataset/pg70815.txt': 1, 'Q1-Dataset/1080-0.txt': 1, 'Q1-Dataset/pg70817.txt': 1, 'Q1-Dataset/pg1998.txt': 1}, 'exempt': {'Q1-Dataset/pg1513.txt': 2, 'Q1-Dataset/2160-0.txt': 3, 'Q1-Dataset/pg11.txt': 2, 'Q1-Dataset/pg2600.txt': 4, 'Q1-Dataset/pg345.txt': 2, 'Q1-Dataset/pg64317.txt': 3, 'Q1-Dataset/pg70815.txt': 3, 'Q1-Dataset/1080-0.txt': 2, 'Q1-Dataset/pg70817.txt': 2, 'Q1-Dataset/pg1998.txt': 2}, 'means': {'Q1-Dataset/pg1513.txt': 8, 'Q1-Dataset/2160-0.txt': 58, 'Q1-Dataset/pg11.txt': 5, 'Q1-Dataset/pg2600.txt': 60, 'Q1-Dataset/pg345.txt': 25, 'Q1-Dataset/pg64317.txt': 5, 'Q1-Dataset/pg70815.txt': 34, 'Q1-Dataset/1080-0.txt': 3, 'Q1-Dataset/pg70817.txt': 6, 'Q1-Dataset/pg1998.txt': 30}, 'as': {'Q1-Dataset/pg1513.txt': 129, 'Q1-Dataset/2160-0.txt': 1049, 'Q1-Dataset/pg11.txt': 246, 'Q1-Dataset/pg2600.txt': 3694, 'Q1-Dataset/pg345.txt': 1447, 'Q1-Dataset/pg64317.txt': 247, 'Q1-Dataset/pg70815.txt': 595, 'Q1-Dataset/1080-0.txt': 42, 'Q1-Dataset/pg70817.txt': 92, 'Q1-Dataset/pg1998.txt': 473}, 'as,': {'Q1-Dataset/pg1513.txt': 1, 'Q1-Dataset/2160-0.txt': 6, 'Q1-Dataset/pg11.txt': 3, 'Q1-Dataset/pg2600.txt': 5, 'Q1-Dataset/pg345.txt': 10, 'Q1-Dataset/pg64317.txt': 1, 'Q1-Dataset/pg70815.txt': 2, 'Q1-Dataset/1080-0.txt': 2, 'Q1-Dataset/pg70817.txt': 1, 'Q1-Dataset/pg1998.txt': 1}, 'locations': {'Q1-Dataset/pg1513.txt': 1, 'Q1-Dataset/2160-0.txt': 1, 'Q1-Dataset/pg11.txt': 1, 'Q1-Dataset/pg2600.txt': 1, 'Q1-Dataset/pg345.txt': 1, 'Q1-Dataset/pg64317.txt': 1, 'Q1-Dataset/pg70815.txt': 1, 'Q1-Dataset/1080-0.txt': 1, 'Q1-Dataset/pg70817.txt': 1, 'Q1-Dataset/pg1998.txt': 1}, 'Project': {'Q1-Dataset/pg1513.txt': 80, 'Q1-Dataset/2160-0.txt': 78, 'Q1-Dataset/pg11.txt': 79, 'Q1-Dataset/pg2600.txt': 79, 'Q1-Dataset/pg345.txt': 79, 'Q1-Dataset/pg64317.txt': 80, 'Q1-Dataset/pg70815.txt': 79, 'Q1-Dataset/1080-0.txt': 79, 'Q1-Dataset/pg70817.txt': 79, 'Q1-Dataset/pg1998.txt': 79}, 'REPLACEMENT': {'Q1-Dataset/pg1513.txt': 1, 'Q1-Dataset/2160-0.txt': 1, 'Q1-Dataset/pg11.txt': 1, 'Q1-Dataset/pg2600.txt': 1, 'Q1-Dataset/pg345.txt': 1, 'Q1-Dataset/pg64317.txt': 1, 'Q1-Dataset/pg70815.txt': 1, 'Q1-Dataset/1080-0.txt': 1, 'Q1-Dataset/pg70817.txt': 1, 'Q1-Dataset/pg1998.txt': 1}, '501(c)(3)': {'Q1-Dataset/pg1513.txt': 1, 'Q1-Dataset/2160-0.txt': 1, 'Q1-Dataset/pg11.txt': 1, 'Q1-Dataset/pg2600.txt': 1, 'Q1-Dataset/pg345.txt': 1, 'Q1-Dataset/pg64317.txt': 1, 'Q1-Dataset/pg70815.txt': 1, 'Q1-Dataset/1080-0.txt': 1, 'Q1-Dataset/pg70817.txt': 1, 'Q1-Dataset/pg1998.txt': 1}, 'into': {'Q1-Dataset/pg1513.txt': 8, 'Q1-Dataset/2160-0.txt': 296, 'Q1-Dataset/pg11.txt': 67, 'Q1-Dataset/pg2600.txt': 995, 'Q1-Dataset/pg345.txt': 286, 'Q1-Dataset/pg64317.txt': 167, 'Q1-Dataset/pg70815.txt': 180, 'Q1-Dataset/1080-0.txt': 4, 'Q1-Dataset/pg70817.txt': 80, 'Q1-Dataset/pg1998.txt': 246}, 'production,': {'Q1-Dataset/pg1513.txt': 1, 'Q1-Dataset/2160-0.txt': 1, 'Q1-Dataset/pg11.txt': 1, 'Q1-Dataset/pg2600.txt': 1, 'Q1-Dataset/pg345.txt': 1, 'Q1-Dataset/pg64317.txt': 1, 'Q1-Dataset/pg70815.txt': 1, 'Q1-Dataset/1080-0.txt': 1, 'Q1-Dataset/pg70817.txt': 1, 'Q1-Dataset/pg1998.txt': 2}, 'answer,': {'Q1-Dataset/pg1513.txt': 1, 'Q1-Dataset/2160-0.txt': 6, 'Q1-Dataset/pg11.txt': 1, 'Q1-Dataset/pg2600.txt': 13, 'Q1-Dataset/pg345.txt': 5, 'Q1-Dataset/pg64317.txt': 1, 'Q1-Dataset/pg70815.txt': 1, 'Q1-Dataset/1080-0.txt': 1, 'Q1-Dataset/pg70817.txt': 1, 'Q1-Dataset/pg1998.txt': 1}, 'where': {'Q1-Dataset/pg1513.txt': 25, 'Q1-Dataset/2160-0.txt': 203, 'Q1-Dataset/pg11.txt': 12, 'Q1-Dataset/pg2600.txt': 520, 'Q1-Dataset/pg345.txt': 202, 'Q1-Dataset/pg64317.txt': 51, 'Q1-Dataset/pg70815.txt': 108, 'Q1-Dataset/1080-0.txt': 7, 'Q1-Dataset/pg70817.txt': 15, 'Q1-Dataset/pg1998.txt': 102}, 'Salt': {'Q1-Dataset/pg1513.txt': 1, 'Q1-Dataset/2160-0.txt': 1, 'Q1-Dataset/pg11.txt': 1, 'Q1-Dataset/pg2600.txt': 1, 'Q1-Dataset/pg345.txt': 1, 'Q1-Dataset/pg64317.txt': 1, 'Q1-Dataset/pg70815.txt': 1, 'Q1-Dataset/1080-0.txt': 1, 'Q1-Dataset/pg70817.txt': 1, 'Q1-Dataset/pg1998.txt': 1}, 'States': {'Q1-Dataset/pg1513.txt': 7, 'Q1-Dataset/2160-0.txt': 4, 'Q1-Dataset/pg11.txt': 7, 'Q1-Dataset/pg2600.txt': 7, 'Q1-Dataset/pg345.txt': 8, 'Q1-Dataset/pg64317.txt': 7, 'Q1-Dataset/pg70815.txt': 7, 'Q1-Dataset/1080-0.txt': 7, 'Q1-Dataset/pg70817.txt': 7, 'Q1-Dataset/pg1998.txt': 7}, 'redistribution.': {'Q1-Dataset/pg1513.txt': 1, 'Q1-Dataset/2160-0.txt': 1, 'Q1-Dataset/pg11.txt': 1, 'Q1-Dataset/pg2600.txt': 1, 'Q1-Dataset/pg345.txt': 1, 'Q1-Dataset/pg64317.txt': 1, 'Q1-Dataset/pg70815.txt': 1, 'Q1-Dataset/1080-0.txt': 1, 'Q1-Dataset/pg70817.txt': 1, 'Q1-Dataset/pg1998.txt': 1}, 'fee': {'Q1-Dataset/pg1513.txt': 10, 'Q1-Dataset/2160-0.txt': 9, 'Q1-Dataset/pg11.txt': 8, 'Q1-Dataset/pg2600.txt': 8, 'Q1-Dataset/pg345.txt': 8, 'Q1-Dataset/pg64317.txt': 8, 'Q1-Dataset/pg70815.txt': 8, 'Q1-Dataset/1080-0.txt': 8, 'Q1-Dataset/pg70817.txt': 8, 'Q1-Dataset/pg1998.txt': 8}, 'representations': {'Q1-Dataset/pg1513.txt': 1, 'Q1-Dataset/2160-0.txt': 2, 'Q1-Dataset/pg11.txt': 1, 'Q1-Dataset/pg2600.txt': 1, 'Q1-Dataset/pg345.txt': 1, 'Q1-Dataset/pg64317.txt': 1, 'Q1-Dataset/pg70815.txt': 1, 'Q1-Dataset/1080-0.txt': 1, 'Q1-Dataset/pg70817.txt': 1, 'Q1-Dataset/pg1998.txt': 1}, 'hot': {'Q1-Dataset/pg1513.txt': 2, 'Q1-Dataset/2160-0.txt': 17, 'Q1-Dataset/pg11.txt': 4, 'Q1-Dataset/pg2600.txt': 32, 'Q1-Dataset/pg345.txt': 7, 'Q1-Dataset/pg64317.txt': 14, 'Q1-Dataset/pg70815.txt': 2, 'Q1-Dataset/1080-0.txt': 1, 'Q1-Dataset/pg70817.txt': 3, 'Q1-Dataset/pg1998.txt': 11}, 'work,': {'Q1-Dataset/pg1513.txt': 9, 'Q1-Dataset/2160-0.txt': 8, 'Q1-Dataset/pg11.txt': 8, 'Q1-Dataset/pg2600.txt': 26, 'Q1-Dataset/pg345.txt': 27, 'Q1-Dataset/pg64317.txt': 9, 'Q1-Dataset/pg70815.txt': 9, 'Q1-Dataset/1080-0.txt': 10, 'Q1-Dataset/pg70817.txt': 7, 'Q1-Dataset/pg1998.txt': 16}, 'them': {'Q1-Dataset/pg1513.txt': 32, 'Q1-Dataset/2160-0.txt': 175, 'Q1-Dataset/pg11.txt': 49, 'Q1-Dataset/pg2600.txt': 942, 'Q1-Dataset/pg345.txt': 298, 'Q1-Dataset/pg64317.txt': 63, 'Q1-Dataset/pg70815.txt': 249, 'Q1-Dataset/1080-0.txt': 15, 'Q1-Dataset/pg70817.txt': 28, 'Q1-Dataset/pg1998.txt': 189}, 'others.': {'Q1-Dataset/pg1513.txt': 6, 'Q1-Dataset/2160-0.txt': 1, 'Q1-Dataset/pg11.txt': 3, 'Q1-Dataset/pg2600.txt': 36, 'Q1-Dataset/pg345.txt': 9, 'Q1-Dataset/pg64317.txt': 2, 'Q1-Dataset/pg70815.txt': 10, 'Q1-Dataset/1080-0.txt': 1, 'Q1-Dataset/pg70817.txt': 2, 'Q1-Dataset/pg1998.txt': 4}, 'effect': {'Q1-Dataset/pg1513.txt': 2, 'Q1-Dataset/2160-0.txt': 33, 'Q1-Dataset/pg11.txt': 1, 'Q1-Dataset/pg2600.txt': 56, 'Q1-Dataset/pg345.txt': 15, 'Q1-Dataset/pg64317.txt': 3, 'Q1-Dataset/pg70815.txt': 18, 'Q1-Dataset/1080-0.txt': 1, 'Q1-Dataset/pg70817.txt': 1, 'Q1-Dataset/pg1998.txt': 3}, 'reported': {'Q1-Dataset/pg1513.txt': 1, 'Q1-Dataset/2160-0.txt': 2, 'Q1-Dataset/pg11.txt': 1, 'Q1-Dataset/pg2600.txt': 32, 'Q1-Dataset/pg345.txt': 8, 'Q1-Dataset/pg64317.txt': 2, 'Q1-Dataset/pg70815.txt': 4, 'Q1-Dataset/1080-0.txt': 1, 'Q1-Dataset/pg70817.txt': 1, 'Q1-Dataset/pg1998.txt': 2}, 'give': {'Q1-Dataset/pg1513.txt': 34, 'Q1-Dataset/2160-0.txt': 118, 'Q1-Dataset/pg11.txt': 12, 'Q1-Dataset/pg2600.txt': 249, 'Q1-Dataset/pg345.txt': 77, 'Q1-Dataset/pg64317.txt': 21, 'Q1-Dataset/pg70815.txt': 16, 'Q1-Dataset/1080-0.txt': 4, 'Q1-Dataset/pg70817.txt': 7, 'Q1-Dataset/pg1998.txt': 58}, 'it.': {'Q1-Dataset/pg1513.txt': 17, 'Q1-Dataset/2160-0.txt': 4, 'Q1-Dataset/pg11.txt': 15, 'Q1-Dataset/pg2600.txt': 413, 'Q1-Dataset/pg345.txt': 129, 'Q1-Dataset/pg64317.txt': 26, 'Q1-Dataset/pg70815.txt': 43, 'Q1-Dataset/1080-0.txt': 2, 'Q1-Dataset/pg70817.txt': 27, 'Q1-Dataset/pg1998.txt': 51}, 'indirectly': {'Q1-Dataset/pg1513.txt': 1, 'Q1-Dataset/2160-0.txt': 1, 'Q1-Dataset/pg11.txt': 1, 'Q1-Dataset/pg2600.txt': 1, 'Q1-Dataset/pg345.txt': 1, 'Q1-Dataset/pg64317.txt': 2, 'Q1-Dataset/pg70815.txt': 1, 'Q1-Dataset/1080-0.txt': 1, 'Q1-Dataset/pg70817.txt': 1, 'Q1-Dataset/pg1998.txt': 1}, 'efforts,': {'Q1-Dataset/pg1513.txt': 1, 'Q1-Dataset/2160-0.txt': 4, 'Q1-Dataset/pg11.txt': 1, 'Q1-Dataset/pg2600.txt': 6, 'Q1-Dataset/pg345.txt': 2, 'Q1-Dataset/pg64317.txt': 1, 'Q1-Dataset/pg70815.txt': 2, 'Q1-Dataset/1080-0.txt': 1, 'Q1-Dataset/pg70817.txt': 1, 'Q1-Dataset/pg1998.txt': 1}, '(trademark/copyright)': {'Q1-Dataset/pg1513.txt': 1, 'Q1-Dataset/2160-0.txt': 1, 'Q1-Dataset/pg11.txt': 1, 'Q1-Dataset/pg2600.txt': 1, 'Q1-Dataset/pg345.txt': 1, 'Q1-Dataset/pg64317.txt': 1, 'Q1-Dataset/pg70815.txt': 1, 'Q1-Dataset/1080-0.txt': 1, 'Q1-Dataset/pg70817.txt': 1, 'Q1-Dataset/pg1998.txt': 1}, 'business': {'Q1-Dataset/pg1513.txt': 2, 'Q1-Dataset/2160-0.txt': 29, 'Q1-Dataset/pg11.txt': 3, 'Q1-Dataset/pg2600.txt': 57, 'Q1-Dataset/pg345.txt': 11, 'Q1-Dataset/pg64317.txt': 12, 'Q1-Dataset/pg70815.txt': 3, 'Q1-Dataset/1080-0.txt': 1, 'Q1-Dataset/pg70817.txt': 2, 'Q1-Dataset/pg1998.txt': 2}, 'used': {'Q1-Dataset/pg1513.txt': 3, 'Q1-Dataset/2160-0.txt': 35, 'Q1-Dataset/pg11.txt': 15, 'Q1-Dataset/pg2600.txt': 133, 'Q1-Dataset/pg345.txt': 43, 'Q1-Dataset/pg64317.txt': 20, 'Q1-Dataset/pg70815.txt': 12, 'Q1-Dataset/1080-0.txt': 3, 'Q1-Dataset/pg70817.txt': 8, 'Q1-Dataset/pg1998.txt': 7}, 'whatsoever.': {'Q1-Dataset/pg1513.txt': 2, 'Q1-Dataset/2160-0.txt': 2, 'Q1-Dataset/pg11.txt': 2, 'Q1-Dataset/pg2600.txt': 2, 'Q1-Dataset/pg345.txt': 2, 'Q1-Dataset/pg64317.txt': 2, 'Q1-Dataset/pg70815.txt': 2, 'Q1-Dataset/1080-0.txt': 2, 'Q1-Dataset/pg70817.txt': 2, 'Q1-Dataset/pg1998.txt': 2}, 'Language:': {'Q1-Dataset/pg1513.txt': 1, 'Q1-Dataset/2160-0.txt': 1, 'Q1-Dataset/pg11.txt': 1, 'Q1-Dataset/pg2600.txt': 1, 'Q1-Dataset/pg345.txt': 1, 'Q1-Dataset/pg64317.txt': 1, 'Q1-Dataset/pg70815.txt': 1, 'Q1-Dataset/1080-0.txt': 1, 'Q1-Dataset/pg70817.txt': 1, 'Q1-Dataset/pg1998.txt': 1}, 'Donations': {'Q1-Dataset/pg1513.txt': 2, 'Q1-Dataset/2160-0.txt': 2, 'Q1-Dataset/pg11.txt': 2, 'Q1-Dataset/pg2600.txt': 2, 'Q1-Dataset/pg345.txt': 2, 'Q1-Dataset/pg64317.txt': 2, 'Q1-Dataset/pg70815.txt': 2, 'Q1-Dataset/1080-0.txt': 2, 'Q1-Dataset/pg70817.txt': 2, 'Q1-Dataset/pg1998.txt': 2}, 'nonproprietary': {'Q1-Dataset/pg1513.txt': 1, 'Q1-Dataset/2160-0.txt': 1, 'Q1-Dataset/pg11.txt': 1, 'Q1-Dataset/pg2600.txt': 1, 'Q1-Dataset/pg345.txt': 1, 'Q1-Dataset/pg64317.txt': 1, 'Q1-Dataset/pg70815.txt': 1, 'Q1-Dataset/1080-0.txt': 1, 'Q1-Dataset/pg70817.txt': 1, 'Q1-Dataset/pg1998.txt': 1}, 'possession.': {'Q1-Dataset/pg1513.txt': 1, 'Q1-Dataset/2160-0.txt': 1, 'Q1-Dataset/pg11.txt': 1, 'Q1-Dataset/pg2600.txt': 2, 'Q1-Dataset/pg345.txt': 1, 'Q1-Dataset/pg64317.txt': 1, 'Q1-Dataset/pg70815.txt': 1, 'Q1-Dataset/1080-0.txt': 1, 'Q1-Dataset/pg70817.txt': 1, 'Q1-Dataset/pg1998.txt': 2}, 'arise': {'Q1-Dataset/pg1513.txt': 1, 'Q1-Dataset/2160-0.txt': 3, 'Q1-Dataset/pg11.txt': 1, 'Q1-Dataset/pg2600.txt': 7, 'Q1-Dataset/pg345.txt': 1, 'Q1-Dataset/pg64317.txt': 1, 'Q1-Dataset/pg70815.txt': 2, 'Q1-Dataset/1080-0.txt': 1, 'Q1-Dataset/pg70817.txt': 1, 'Q1-Dataset/pg1998.txt': 6}, 'remove': {'Q1-Dataset/pg1513.txt': 3, 'Q1-Dataset/2160-0.txt': 7, 'Q1-Dataset/pg11.txt': 1, 'Q1-Dataset/pg2600.txt': 6, 'Q1-Dataset/pg345.txt': 5, 'Q1-Dataset/pg64317.txt': 1, 'Q1-Dataset/pg70815.txt': 2, 'Q1-Dataset/1080-0.txt': 1, 'Q1-Dataset/pg70817.txt': 2, 'Q1-Dataset/pg1998.txt': 3}, 'cold': {'Q1-Dataset/pg1513.txt': 5, 'Q1-Dataset/2160-0.txt': 16, 'Q1-Dataset/pg11.txt': 1, 'Q1-Dataset/pg2600.txt': 93, 'Q1-Dataset/pg345.txt': 25, 'Q1-Dataset/pg64317.txt': 11, 'Q1-Dataset/pg70815.txt': 6, 'Q1-Dataset/1080-0.txt': 1, 'Q1-Dataset/pg70817.txt': 19, 'Q1-Dataset/pg1998.txt': 18}, 'convert': {'Q1-Dataset/pg1513.txt': 2, 'Q1-Dataset/2160-0.txt': 8, 'Q1-Dataset/pg11.txt': 1, 'Q1-Dataset/pg2600.txt': 1, 'Q1-Dataset/pg345.txt': 1, 'Q1-Dataset/pg64317.txt': 1, 'Q1-Dataset/pg70815.txt': 1, 'Q1-Dataset/1080-0.txt': 1, 'Q1-Dataset/pg70817.txt': 1, 'Q1-Dataset/pg1998.txt': 1}, 'BUT': {'Q1-Dataset/pg1513.txt': 1, 'Q1-Dataset/2160-0.txt': 1, 'Q1-Dataset/pg11.txt': 1, 'Q1-Dataset/pg2600.txt': 1, 'Q1-Dataset/pg345.txt': 1, 'Q1-Dataset/pg64317.txt': 1, 'Q1-Dataset/pg70815.txt': 1, 'Q1-Dataset/1080-0.txt': 1, 'Q1-Dataset/pg70817.txt': 1, 'Q1-Dataset/pg1998.txt': 3}, 'only': {'Q1-Dataset/pg1513.txt': 11, 'Q1-Dataset/2160-0.txt': 107, 'Q1-Dataset/pg11.txt': 45, 'Q1-Dataset/pg2600.txt': 1137, 'Q1-Dataset/pg345.txt': 274, 'Q1-Dataset/pg64317.txt': 47, 'Q1-Dataset/pg70815.txt': 118, 'Q1-Dataset/1080-0.txt': 8, 'Q1-Dataset/pg70817.txt': 32, 'Q1-Dataset/pg1998.txt': 219}, 'best': {'Q1-Dataset/pg1513.txt': 8, 'Q1-Dataset/2160-0.txt': 57, 'Q1-Dataset/pg11.txt': 7, 'Q1-Dataset/pg2600.txt': 111, 'Q1-Dataset/pg345.txt': 41, 'Q1-Dataset/pg64317.txt': 4, 'Q1-Dataset/pg70815.txt': 14, 'Q1-Dataset/1080-0.txt': 2, 'Q1-Dataset/pg70817.txt': 4, 'Q1-Dataset/pg1998.txt': 74}, 'CONTRACT': {'Q1-Dataset/pg1513.txt': 1, 'Q1-Dataset/2160-0.txt': 1, 'Q1-Dataset/pg11.txt': 1, 'Q1-Dataset/pg2600.txt': 1, 'Q1-Dataset/pg345.txt': 1, 'Q1-Dataset/pg64317.txt': 1, 'Q1-Dataset/pg70815.txt': 1, 'Q1-Dataset/1080-0.txt': 1, 'Q1-Dataset/pg70817.txt': 1, 'Q1-Dataset/pg1998.txt': 1}, 'DAMAGE.': {'Q1-Dataset/pg1513.txt': 1, 'Q1-Dataset/2160-0.txt': 1, 'Q1-Dataset/pg11.txt': 1, 'Q1-Dataset/pg2600.txt': 1, 'Q1-Dataset/pg345.txt': 1, 'Q1-Dataset/pg64317.txt': 1, 'Q1-Dataset/pg70815.txt': 1, 'Q1-Dataset/1080-0.txt': 1, 'Q1-Dataset/pg70817.txt': 1, 'Q1-Dataset/pg1998.txt': 1}, 'electronically': {'Q1-Dataset/pg1513.txt': 1, 'Q1-Dataset/2160-0.txt': 1, 'Q1-Dataset/pg11.txt': 1, 'Q1-Dataset/pg2600.txt': 1, 'Q1-Dataset/pg345.txt': 1, 'Q1-Dataset/pg64317.txt': 1, 'Q1-Dataset/pg70815.txt': 1, 'Q1-Dataset/1080-0.txt': 1, 'Q1-Dataset/pg70817.txt': 1, 'Q1-Dataset/pg1998.txt': 1}, 'name': {'Q1-Dataset/pg1513.txt': 10, 'Q1-Dataset/2160-0.txt': 59, 'Q1-Dataset/pg11.txt': 9, 'Q1-Dataset/pg2600.txt': 72, 'Q1-Dataset/pg345.txt': 16, 'Q1-Dataset/pg64317.txt': 22, 'Q1-Dataset/pg70815.txt': 8, 'Q1-Dataset/1080-0.txt': 2, 'Q1-Dataset/pg70817.txt': 6, 'Q1-Dataset/pg1998.txt': 23}, 'FOR': {'Q1-Dataset/pg1513.txt': 3, 'Q1-Dataset/2160-0.txt': 3, 'Q1-Dataset/pg11.txt': 3, 'Q1-Dataset/pg2600.txt': 3, 'Q1-Dataset/pg345.txt': 3, 'Q1-Dataset/pg64317.txt': 3, 'Q1-Dataset/pg70815.txt': 3, 'Q1-Dataset/1080-0.txt': 3, 'Q1-Dataset/pg70817.txt': 3, 'Q1-Dataset/pg1998.txt': 20}, 'permitted': {'Q1-Dataset/pg1513.txt': 2, 'Q1-Dataset/2160-0.txt': 8, 'Q1-Dataset/pg11.txt': 3, 'Q1-Dataset/pg2600.txt': 5, 'Q1-Dataset/pg345.txt': 5, 'Q1-Dataset/pg64317.txt': 2, 'Q1-Dataset/pg70815.txt': 7, 'Q1-Dataset/1080-0.txt': 2, 'Q1-Dataset/pg70817.txt': 6, 'Q1-Dataset/pg1998.txt': 2}, 'FULL': {'Q1-Dataset/pg1513.txt': 2, 'Q1-Dataset/2160-0.txt': 2, 'Q1-Dataset/pg11.txt': 2, 'Q1-Dataset/pg2600.txt': 2, 'Q1-Dataset/pg345.txt': 2, 'Q1-Dataset/pg64317.txt': 2, 'Q1-Dataset/pg70815.txt': 2, 'Q1-Dataset/1080-0.txt': 2, 'Q1-Dataset/pg70817.txt': 2, 'Q1-Dataset/pg1998.txt': 2}, 'interpreted': {'Q1-Dataset/pg1513.txt': 1, 'Q1-Dataset/2160-0.txt': 3, 'Q1-Dataset/pg11.txt': 1, 'Q1-Dataset/pg2600.txt': 2, 'Q1-Dataset/pg345.txt': 2, 'Q1-Dataset/pg64317.txt': 1, 'Q1-Dataset/pg70815.txt': 3, 'Q1-Dataset/1080-0.txt': 1, 'Q1-Dataset/pg70817.txt': 1, 'Q1-Dataset/pg1998.txt': 3}, 'fees': {'Q1-Dataset/pg1513.txt': 2, 'Q1-Dataset/2160-0.txt': 2, 'Q1-Dataset/pg11.txt': 2, 'Q1-Dataset/pg2600.txt': 2, 'Q1-Dataset/pg345.txt': 2, 'Q1-Dataset/pg64317.txt': 2, 'Q1-Dataset/pg70815.txt': 2, 'Q1-Dataset/1080-0.txt': 2, 'Q1-Dataset/pg70817.txt': 2, 'Q1-Dataset/pg1998.txt': 2}, 'NOTICE': {'Q1-Dataset/pg1513.txt': 1, 'Q1-Dataset/2160-0.txt': 1, 'Q1-Dataset/pg11.txt': 1, 'Q1-Dataset/pg2600.txt': 1, 'Q1-Dataset/pg345.txt': 1, 'Q1-Dataset/pg64317.txt': 1, 'Q1-Dataset/pg70815.txt': 1, 'Q1-Dataset/1080-0.txt': 1, 'Q1-Dataset/pg70817.txt': 1, 'Q1-Dataset/pg1998.txt': 1}, 'fix': {'Q1-Dataset/pg1513.txt': 1, 'Q1-Dataset/2160-0.txt': 2, 'Q1-Dataset/pg11.txt': 2, 'Q1-Dataset/pg2600.txt': 10, 'Q1-Dataset/pg345.txt': 3, 'Q1-Dataset/pg64317.txt': 2, 'Q1-Dataset/pg70815.txt': 1, 'Q1-Dataset/1080-0.txt': 1, 'Q1-Dataset/pg70817.txt': 1, 'Q1-Dataset/pg1998.txt': 3}, 'checks,': {'Q1-Dataset/pg1513.txt': 1, 'Q1-Dataset/2160-0.txt': 1, 'Q1-Dataset/pg11.txt': 1, 'Q1-Dataset/pg2600.txt': 1, 'Q1-Dataset/pg345.txt': 1, 'Q1-Dataset/pg64317.txt': 1, 'Q1-Dataset/pg70815.txt': 1, 'Q1-Dataset/1080-0.txt': 1, 'Q1-Dataset/pg70817.txt': 1, 'Q1-Dataset/pg1998.txt': 1}, 'network': {'Q1-Dataset/pg1513.txt': 1, 'Q1-Dataset/2160-0.txt': 1, 'Q1-Dataset/pg11.txt': 1, 'Q1-Dataset/pg2600.txt': 2, 'Q1-Dataset/pg345.txt': 1, 'Q1-Dataset/pg64317.txt': 1, 'Q1-Dataset/pg70815.txt': 1, 'Q1-Dataset/1080-0.txt': 1, 'Q1-Dataset/pg70817.txt': 1, 'Q1-Dataset/pg1998.txt': 1}, 'paying': {'Q1-Dataset/pg1513.txt': 3, 'Q1-Dataset/2160-0.txt': 7, 'Q1-Dataset/pg11.txt': 3, 'Q1-Dataset/pg2600.txt': 17, 'Q1-Dataset/pg345.txt': 4, 'Q1-Dataset/pg64317.txt': 4, 'Q1-Dataset/pg70815.txt': 4, 'Q1-Dataset/1080-0.txt': 4, 'Q1-Dataset/pg70817.txt': 4, 'Q1-Dataset/pg1998.txt': 3}, 'That': {'Q1-Dataset/pg1513.txt': 74, 'Q1-Dataset/2160-0.txt': 11, 'Q1-Dataset/pg11.txt': 3, 'Q1-Dataset/pg2600.txt': 180, 'Q1-Dataset/pg345.txt': 39, 'Q1-Dataset/pg64317.txt': 16, 'Q1-Dataset/pg70815.txt': 20, 'Q1-Dataset/1080-0.txt': 1, 'Q1-Dataset/pg70817.txt': 6, 'Q1-Dataset/pg1998.txt': 58}, 'Of': {'Q1-Dataset/pg1513.txt': 29, 'Q1-Dataset/2160-0.txt': 5, 'Q1-Dataset/pg11.txt': 1, 'Q1-Dataset/pg2600.txt': 38, 'Q1-Dataset/pg345.txt': 22, 'Q1-Dataset/pg64317.txt': 6, 'Q1-Dataset/pg70815.txt': 6, 'Q1-Dataset/1080-0.txt': 10, 'Q1-Dataset/pg70817.txt': 5, 'Q1-Dataset/pg1998.txt': 16}, 'stay': {'Q1-Dataset/pg1513.txt': 13, 'Q1-Dataset/2160-0.txt': 22, 'Q1-Dataset/pg11.txt': 4, 'Q1-Dataset/pg2600.txt': 51, 'Q1-Dataset/pg345.txt': 33, 'Q1-Dataset/pg64317.txt': 5, 'Q1-Dataset/pg70815.txt': 5, 'Q1-Dataset/1080-0.txt': 2, 'Q1-Dataset/pg70817.txt': 1, 'Q1-Dataset/pg1998.txt': 2}, 'old': {'Q1-Dataset/pg1513.txt': 25, 'Q1-Dataset/2160-0.txt': 127, 'Q1-Dataset/pg11.txt': 14, 'Q1-Dataset/pg2600.txt': 751, 'Q1-Dataset/pg345.txt': 165, 'Q1-Dataset/pg64317.txt': 72, 'Q1-Dataset/pg70815.txt': 8, 'Q1-Dataset/1080-0.txt': 2, 'Q1-Dataset/pg70817.txt': 22, 'Q1-Dataset/pg1998.txt': 147}, 'outdated': {'Q1-Dataset/pg1513.txt': 1, 'Q1-Dataset/2160-0.txt': 1, 'Q1-Dataset/pg11.txt': 1, 'Q1-Dataset/pg2600.txt': 1, 'Q1-Dataset/pg345.txt': 1, 'Q1-Dataset/pg64317.txt': 1, 'Q1-Dataset/pg70815.txt': 1, 'Q1-Dataset/1080-0.txt': 1, 'Q1-Dataset/pg70817.txt': 1, 'Q1-Dataset/pg1998.txt': 1}, 'costs': {'Q1-Dataset/pg1513.txt': 2, 'Q1-Dataset/2160-0.txt': 3, 'Q1-Dataset/pg11.txt': 2, 'Q1-Dataset/pg2600.txt': 2, 'Q1-Dataset/pg345.txt': 2, 'Q1-Dataset/pg64317.txt': 2, 'Q1-Dataset/pg70815.txt': 2, 'Q1-Dataset/1080-0.txt': 2, 'Q1-Dataset/pg70817.txt': 2, 'Q1-Dataset/pg1998.txt': 2}, 'trademark': {'Q1-Dataset/pg1513.txt': 5, 'Q1-Dataset/2160-0.txt': 3, 'Q1-Dataset/pg11.txt': 5, 'Q1-Dataset/pg2600.txt': 5, 'Q1-Dataset/pg345.txt': 5, 'Q1-Dataset/pg64317.txt': 5, 'Q1-Dataset/pg70815.txt': 5, 'Q1-Dataset/1080-0.txt': 5, 'Q1-Dataset/pg70817.txt': 5, 'Q1-Dataset/pg1998.txt': 5}, 'what': {'Q1-Dataset/pg1513.txt': 59, 'Q1-Dataset/2160-0.txt': 228, 'Q1-Dataset/pg11.txt': 86, 'Q1-Dataset/pg2600.txt': 1626, 'Q1-Dataset/pg345.txt': 367, 'Q1-Dataset/pg64317.txt': 75, 'Q1-Dataset/pg70815.txt': 105, 'Q1-Dataset/1080-0.txt': 3, 'Q1-Dataset/pg70817.txt': 22, 'Q1-Dataset/pg1998.txt': 238}, 'well': {'Q1-Dataset/pg1513.txt': 22, 'Q1-Dataset/2160-0.txt': 144, 'Q1-Dataset/pg11.txt': 27, 'Q1-Dataset/pg2600.txt': 176, 'Q1-Dataset/pg345.txt': 122, 'Q1-Dataset/pg64317.txt': 5, 'Q1-Dataset/pg70815.txt': 55, 'Q1-Dataset/1080-0.txt': 8, 'Q1-Dataset/pg70817.txt': 10, 'Q1-Dataset/pg1998.txt': 87}, 'part': {'Q1-Dataset/pg1513.txt': 21, 'Q1-Dataset/2160-0.txt': 95, 'Q1-Dataset/pg11.txt': 5, 'Q1-Dataset/pg2600.txt': 213, 'Q1-Dataset/pg345.txt': 48, 'Q1-Dataset/pg64317.txt': 12, 'Q1-Dataset/pg70815.txt': 20, 'Q1-Dataset/1080-0.txt': 6, 'Q1-Dataset/pg70817.txt': 9, 'Q1-Dataset/pg1998.txt': 26}, 'from': {'Q1-Dataset/pg1513.txt': 94, 'Q1-Dataset/2160-0.txt': 649, 'Q1-Dataset/pg11.txt': 47, 'Q1-Dataset/pg2600.txt': 2517, 'Q1-Dataset/pg345.txt': 623, 'Q1-Dataset/pg64317.txt': 238, 'Q1-Dataset/pg70815.txt': 486, 'Q1-Dataset/1080-0.txt': 28, 'Q1-Dataset/pg70817.txt': 88, 'Q1-Dataset/pg1998.txt': 411}, 'shared': {'Q1-Dataset/pg1513.txt': 1, 'Q1-Dataset/2160-0.txt': 2, 'Q1-Dataset/pg11.txt': 2, 'Q1-Dataset/pg2600.txt': 13, 'Q1-Dataset/pg345.txt': 3, 'Q1-Dataset/pg64317.txt': 1, 'Q1-Dataset/pg70815.txt': 3, 'Q1-Dataset/1080-0.txt': 1, 'Q1-Dataset/pg70817.txt': 1, 'Q1-Dataset/pg1998.txt': 1}, 'said,': {'Q1-Dataset/pg1513.txt': 4, 'Q1-Dataset/2160-0.txt': 48, 'Q1-Dataset/pg11.txt': 26, 'Q1-Dataset/pg2600.txt': 226, 'Q1-Dataset/pg345.txt': 98, 'Q1-Dataset/pg64317.txt': 25, 'Q1-Dataset/pg70815.txt': 43, 'Q1-Dataset/1080-0.txt': 3, 'Q1-Dataset/pg70817.txt': 8, 'Q1-Dataset/pg1998.txt': 2}, 'defective,': {'Q1-Dataset/pg1513.txt': 1, 'Q1-Dataset/2160-0.txt': 2, 'Q1-Dataset/pg11.txt': 1, 'Q1-Dataset/pg2600.txt': 1, 'Q1-Dataset/pg345.txt': 1, 'Q1-Dataset/pg64317.txt': 1, 'Q1-Dataset/pg70815.txt': 1, 'Q1-Dataset/1080-0.txt': 1, 'Q1-Dataset/pg70817.txt': 1, 'Q1-Dataset/pg1998.txt': 1}, 'void': {'Q1-Dataset/pg1513.txt': 1, 'Q1-Dataset/2160-0.txt': 5, 'Q1-Dataset/pg11.txt': 1, 'Q1-Dataset/pg2600.txt': 1, 'Q1-Dataset/pg345.txt': 1, 'Q1-Dataset/pg64317.txt': 1, 'Q1-Dataset/pg70815.txt': 1, 'Q1-Dataset/1080-0.txt': 1, 'Q1-Dataset/pg70817.txt': 1, 'Q1-Dataset/pg1998.txt': 1}, 'him.': {'Q1-Dataset/pg1513.txt': 21, 'Q1-Dataset/2160-0.txt': 2, 'Q1-Dataset/pg11.txt': 2, 'Q1-Dataset/pg2600.txt': 825, 'Q1-Dataset/pg345.txt': 134, 'Q1-Dataset/pg64317.txt': 23, 'Q1-Dataset/pg70815.txt': 90, 'Q1-Dataset/1080-0.txt': 1, 'Q1-Dataset/pg70817.txt': 24, 'Q1-Dataset/pg1998.txt': 46}, 'with': {'Q1-Dataset/pg1513.txt': 274, 'Q1-Dataset/2160-0.txt': 1687, 'Q1-Dataset/pg11.txt': 214, 'Q1-Dataset/pg2600.txt': 5520, 'Q1-Dataset/pg345.txt': 1260, 'Q1-Dataset/pg64317.txt': 450, 'Q1-Dataset/pg70815.txt': 590, 'Q1-Dataset/1080-0.txt': 58, 'Q1-Dataset/pg70817.txt': 215, 'Q1-Dataset/pg1998.txt': 787}, 'AGREEMENT': {'Q1-Dataset/pg1513.txt': 1, 'Q1-Dataset/2160-0.txt': 1, 'Q1-Dataset/pg11.txt': 1, 'Q1-Dataset/pg2600.txt': 1, 'Q1-Dataset/pg345.txt': 1, 'Q1-Dataset/pg64317.txt': 1, 'Q1-Dataset/pg70815.txt': 1, 'Q1-Dataset/1080-0.txt': 1, 'Q1-Dataset/pg70817.txt': 1, 'Q1-Dataset/pg1998.txt': 1}, '(or': {'Q1-Dataset/pg1513.txt': 3, 'Q1-Dataset/2160-0.txt': 4, 'Q1-Dataset/pg11.txt': 4, 'Q1-Dataset/pg2600.txt': 8, 'Q1-Dataset/pg345.txt': 3, 'Q1-Dataset/pg64317.txt': 4, 'Q1-Dataset/pg70815.txt': 3, 'Q1-Dataset/1080-0.txt': 3, 'Q1-Dataset/pg70817.txt': 3, 'Q1-Dataset/pg1998.txt': 4}, 'marked': {'Q1-Dataset/pg1513.txt': 2, 'Q1-Dataset/2160-0.txt': 8, 'Q1-Dataset/pg11.txt': 7, 'Q1-Dataset/pg2600.txt': 7, 'Q1-Dataset/pg345.txt': 14, 'Q1-Dataset/pg64317.txt': 3, 'Q1-Dataset/pg70815.txt': 12, 'Q1-Dataset/1080-0.txt': 2, 'Q1-Dataset/pg70817.txt': 3, 'Q1-Dataset/pg1998.txt': 2}, 'unlink': {'Q1-Dataset/pg1513.txt': 1, 'Q1-Dataset/2160-0.txt': 1, 'Q1-Dataset/pg11.txt': 1, 'Q1-Dataset/pg2600.txt': 1, 'Q1-Dataset/pg345.txt': 1, 'Q1-Dataset/pg64317.txt': 1, 'Q1-Dataset/pg70815.txt': 1, 'Q1-Dataset/1080-0.txt': 1, 'Q1-Dataset/pg70817.txt': 1, 'Q1-Dataset/pg1998.txt': 1}, 'many': {'Q1-Dataset/pg1513.txt': 12, 'Q1-Dataset/2160-0.txt': 97, 'Q1-Dataset/pg11.txt': 13, 'Q1-Dataset/pg2600.txt': 212, 'Q1-Dataset/pg345.txt': 95, 'Q1-Dataset/pg64317.txt': 16, 'Q1-Dataset/pg70815.txt': 61, 'Q1-Dataset/1080-0.txt': 8, 'Q1-Dataset/pg70817.txt': 10, 'Q1-Dataset/pg1998.txt': 133}, 'too': {'Q1-Dataset/pg1513.txt': 35, 'Q1-Dataset/2160-0.txt': 68, 'Q1-Dataset/pg11.txt': 21, 'Q1-Dataset/pg2600.txt': 252, 'Q1-Dataset/pg345.txt': 113, 'Q1-Dataset/pg64317.txt': 31, 'Q1-Dataset/pg70815.txt': 16, 'Q1-Dataset/1080-0.txt': 5, 'Q1-Dataset/pg70817.txt': 14, 'Q1-Dataset/pg1998.txt': 141}, '(b)': {'Q1-Dataset/pg1513.txt': 1, 'Q1-Dataset/2160-0.txt': 1, 'Q1-Dataset/pg11.txt': 1, 'Q1-Dataset/pg2600.txt': 2, 'Q1-Dataset/pg345.txt': 1, 'Q1-Dataset/pg64317.txt': 1, 'Q1-Dataset/pg70815.txt': 1, 'Q1-Dataset/1080-0.txt': 1, 'Q1-Dataset/pg70817.txt': 1, 'Q1-Dataset/pg1998.txt': 1}, 'man': {'Q1-Dataset/pg1513.txt': 29, 'Q1-Dataset/2160-0.txt': 119, 'Q1-Dataset/pg11.txt': 1, 'Q1-Dataset/pg2600.txt': 774, 'Q1-Dataset/pg345.txt': 144, 'Q1-Dataset/pg64317.txt': 69, 'Q1-Dataset/pg70815.txt': 118, 'Q1-Dataset/1080-0.txt': 2, 'Q1-Dataset/pg70817.txt': 24, 'Q1-Dataset/pg1998.txt': 201}, 'WILL': {'Q1-Dataset/pg1513.txt': 1, 'Q1-Dataset/2160-0.txt': 1, 'Q1-Dataset/pg11.txt': 1, 'Q1-Dataset/pg2600.txt': 1, 'Q1-Dataset/pg345.txt': 1, 'Q1-Dataset/pg64317.txt': 1, 'Q1-Dataset/pg70815.txt': 1, 'Q1-Dataset/1080-0.txt': 1, 'Q1-Dataset/pg70817.txt': 1, 'Q1-Dataset/pg1998.txt': 6}, 'access': {'Q1-Dataset/pg1513.txt': 11, 'Q1-Dataset/2160-0.txt': 11, 'Q1-Dataset/pg11.txt': 10, 'Q1-Dataset/pg2600.txt': 11, 'Q1-Dataset/pg345.txt': 11, 'Q1-Dataset/pg64317.txt': 10, 'Q1-Dataset/pg70815.txt': 10, 'Q1-Dataset/1080-0.txt': 10, 'Q1-Dataset/pg70817.txt': 11, 'Q1-Dataset/pg1998.txt': 11}, '3': {'Q1-Dataset/pg1513.txt': 2, 'Q1-Dataset/2160-0.txt': 2, 'Q1-Dataset/pg11.txt': 2, 'Q1-Dataset/pg2600.txt': 3, 'Q1-Dataset/pg345.txt': 3, 'Q1-Dataset/pg64317.txt': 2, 'Q1-Dataset/pg70815.txt': 2, 'Q1-Dataset/1080-0.txt': 2, 'Q1-Dataset/pg70817.txt': 2, 'Q1-Dataset/pg1998.txt': 6}, 'Foundation,': {'Q1-Dataset/pg1513.txt': 5, 'Q1-Dataset/2160-0.txt': 4, 'Q1-Dataset/pg11.txt': 5, 'Q1-Dataset/pg2600.txt': 5, 'Q1-Dataset/pg345.txt': 5, 'Q1-Dataset/pg64317.txt': 5, 'Q1-Dataset/pg70815.txt': 5, 'Q1-Dataset/1080-0.txt': 5, 'Q1-Dataset/pg70817.txt': 5, 'Q1-Dataset/pg1998.txt': 5}, 'exclusion': {'Q1-Dataset/pg1513.txt': 1, 'Q1-Dataset/2160-0.txt': 1, 'Q1-Dataset/pg11.txt': 1, 'Q1-Dataset/pg2600.txt': 2, 'Q1-Dataset/pg345.txt': 1, 'Q1-Dataset/pg64317.txt': 1, 'Q1-Dataset/pg70815.txt': 2, 'Q1-Dataset/1080-0.txt': 1, 'Q1-Dataset/pg70817.txt': 1, 'Q1-Dataset/pg1998.txt': 1}, 'discovered': {'Q1-Dataset/pg1513.txt': 1, 'Q1-Dataset/2160-0.txt': 19, 'Q1-Dataset/pg11.txt': 1, 'Q1-Dataset/pg2600.txt': 10, 'Q1-Dataset/pg345.txt': 6, 'Q1-Dataset/pg64317.txt': 6, 'Q1-Dataset/pg70815.txt': 29, 'Q1-Dataset/1080-0.txt': 1, 'Q1-Dataset/pg70817.txt': 4, 'Q1-Dataset/pg1998.txt': 11}, 'OR': {'Q1-Dataset/pg1513.txt': 6, 'Q1-Dataset/2160-0.txt': 6, 'Q1-Dataset/pg11.txt': 6, 'Q1-Dataset/pg2600.txt': 6, 'Q1-Dataset/pg345.txt': 6, 'Q1-Dataset/pg64317.txt': 6, 'Q1-Dataset/pg70815.txt': 6, 'Q1-Dataset/1080-0.txt': 6, 'Q1-Dataset/pg70817.txt': 6, 'Q1-Dataset/pg1998.txt': 6}, 'Some': {'Q1-Dataset/pg1513.txt': 13, 'Q1-Dataset/2160-0.txt': 7, 'Q1-Dataset/pg11.txt': 3, 'Q1-Dataset/pg2600.txt': 68, 'Q1-Dataset/pg345.txt': 21, 'Q1-Dataset/pg64317.txt': 8, 'Q1-Dataset/pg70815.txt': 2, 'Q1-Dataset/1080-0.txt': 2, 'Q1-Dataset/pg70817.txt': 8, 'Q1-Dataset/pg1998.txt': 8}, 'laws.': {'Q1-Dataset/pg1513.txt': 1, 'Q1-Dataset/2160-0.txt': 1, 'Q1-Dataset/pg11.txt': 1, 'Q1-Dataset/pg2600.txt': 8, 'Q1-Dataset/pg345.txt': 1, 'Q1-Dataset/pg64317.txt': 1, 'Q1-Dataset/pg70815.txt': 1, 'Q1-Dataset/1080-0.txt': 1, 'Q1-Dataset/pg70817.txt': 1, 'Q1-Dataset/pg1998.txt': 1}, 'defect': {'Q1-Dataset/pg1513.txt': 2, 'Q1-Dataset/2160-0.txt': 4, 'Q1-Dataset/pg11.txt': 2, 'Q1-Dataset/pg2600.txt': 5, 'Q1-Dataset/pg345.txt': 2, 'Q1-Dataset/pg64317.txt': 2, 'Q1-Dataset/pg70815.txt': 2, 'Q1-Dataset/1080-0.txt': 2, 'Q1-Dataset/pg70817.txt': 2, 'Q1-Dataset/pg1998.txt': 3}, 'An': {'Q1-Dataset/pg1513.txt': 15, 'Q1-Dataset/2160-0.txt': 4, 'Q1-Dataset/pg11.txt': 4, 'Q1-Dataset/pg2600.txt': 54, 'Q1-Dataset/pg345.txt': 3, 'Q1-Dataset/pg64317.txt': 3, 'Q1-Dataset/pg70815.txt': 4, 'Q1-Dataset/1080-0.txt': 1, 'Q1-Dataset/pg70817.txt': 5, 'Q1-Dataset/pg1998.txt': 17}, 'course': {'Q1-Dataset/pg1513.txt': 2, 'Q1-Dataset/2160-0.txt': 37, 'Q1-Dataset/pg11.txt': 11, 'Q1-Dataset/pg2600.txt': 78, 'Q1-Dataset/pg345.txt': 20, 'Q1-Dataset/pg64317.txt': 17, 'Q1-Dataset/pg70815.txt': 22, 'Q1-Dataset/1080-0.txt': 1, 'Q1-Dataset/pg70817.txt': 6, 'Q1-Dataset/pg1998.txt': 11}, 'our': {'Q1-Dataset/pg1513.txt': 59, 'Q1-Dataset/2160-0.txt': 388, 'Q1-Dataset/pg11.txt': 11, 'Q1-Dataset/pg2600.txt': 572, 'Q1-Dataset/pg345.txt': 390, 'Q1-Dataset/pg64317.txt': 25, 'Q1-Dataset/pg70815.txt': 72, 'Q1-Dataset/1080-0.txt': 26, 'Q1-Dataset/pg70817.txt': 17, 'Q1-Dataset/pg1998.txt': 102}, 'This': {'Q1-Dataset/pg1513.txt': 44, 'Q1-Dataset/2160-0.txt': 76, 'Q1-Dataset/pg11.txt': 20, 'Q1-Dataset/pg2600.txt': 241, 'Q1-Dataset/pg345.txt': 118, 'Q1-Dataset/pg64317.txt': 19, 'Q1-Dataset/pg70815.txt': 24, 'Q1-Dataset/1080-0.txt': 8, 'Q1-Dataset/pg70817.txt': 8, 'Q1-Dataset/pg1998.txt': 90}, 'POSSIBILITY': {'Q1-Dataset/pg1513.txt': 1, 'Q1-Dataset/2160-0.txt': 1, 'Q1-Dataset/pg11.txt': 1, 'Q1-Dataset/pg2600.txt': 1, 'Q1-Dataset/pg345.txt': 1, 'Q1-Dataset/pg64317.txt': 1, 'Q1-Dataset/pg70815.txt': 1, 'Q1-Dataset/1080-0.txt': 1, 'Q1-Dataset/pg70817.txt': 1, 'Q1-Dataset/pg1998.txt': 1}, 'either': {'Q1-Dataset/pg1513.txt': 5, 'Q1-Dataset/2160-0.txt': 48, 'Q1-Dataset/pg11.txt': 6, 'Q1-Dataset/pg2600.txt': 94, 'Q1-Dataset/pg345.txt': 35, 'Q1-Dataset/pg64317.txt': 9, 'Q1-Dataset/pg70815.txt': 40, 'Q1-Dataset/1080-0.txt': 4, 'Q1-Dataset/pg70817.txt': 4, 'Q1-Dataset/pg1998.txt': 11}, 'reasonable': {'Q1-Dataset/pg1513.txt': 1, 'Q1-Dataset/2160-0.txt': 5, 'Q1-Dataset/pg11.txt': 2, 'Q1-Dataset/pg2600.txt': 10, 'Q1-Dataset/pg345.txt': 2, 'Q1-Dataset/pg64317.txt': 1, 'Q1-Dataset/pg70815.txt': 8, 'Q1-Dataset/1080-0.txt': 2, 'Q1-Dataset/pg70817.txt': 3, 'Q1-Dataset/pg1998.txt': 1}, 'six': {'Q1-Dataset/pg1513.txt': 1, 'Q1-Dataset/2160-0.txt': 20, 'Q1-Dataset/pg11.txt': 2, 'Q1-Dataset/pg2600.txt': 48, 'Q1-Dataset/pg345.txt': 11, 'Q1-Dataset/pg64317.txt': 6, 'Q1-Dataset/pg70815.txt': 11, 'Q1-Dataset/1080-0.txt': 2, 'Q1-Dataset/pg70817.txt': 4, 'Q1-Dataset/pg1998.txt': 1}, 'originator': {'Q1-Dataset/pg1513.txt': 1, 'Q1-Dataset/2160-0.txt': 1, 'Q1-Dataset/pg11.txt': 1, 'Q1-Dataset/pg2600.txt': 3, 'Q1-Dataset/pg345.txt': 1, 'Q1-Dataset/pg64317.txt': 1, 'Q1-Dataset/pg70815.txt': 1, 'Q1-Dataset/1080-0.txt': 1, 'Q1-Dataset/pg70817.txt': 1, 'Q1-Dataset/pg1998.txt': 1}, 'addition': {'Q1-Dataset/pg1513.txt': 1, 'Q1-Dataset/2160-0.txt': 6, 'Q1-Dataset/pg11.txt': 1, 'Q1-Dataset/pg2600.txt': 4, 'Q1-Dataset/pg345.txt': 3, 'Q1-Dataset/pg64317.txt': 2, 'Q1-Dataset/pg70815.txt': 10, 'Q1-Dataset/1080-0.txt': 2, 'Q1-Dataset/pg70817.txt': 3, 'Q1-Dataset/pg1998.txt': 2}, 'LIMITED': {'Q1-Dataset/pg1513.txt': 3, 'Q1-Dataset/2160-0.txt': 3, 'Q1-Dataset/pg11.txt': 3, 'Q1-Dataset/pg2600.txt': 3, 'Q1-Dataset/pg345.txt': 3, 'Q1-Dataset/pg64317.txt': 3, 'Q1-Dataset/pg70815.txt': 3, 'Q1-Dataset/1080-0.txt': 3, 'Q1-Dataset/pg70817.txt': 3, 'Q1-Dataset/pg1998.txt': 3}, 'stored,': {'Q1-Dataset/pg1513.txt': 1, 'Q1-Dataset/2160-0.txt': 1, 'Q1-Dataset/pg11.txt': 1, 'Q1-Dataset/pg2600.txt': 1, 'Q1-Dataset/pg345.txt': 1, 'Q1-Dataset/pg64317.txt': 1, 'Q1-Dataset/pg70815.txt': 1, 'Q1-Dataset/1080-0.txt': 1, 'Q1-Dataset/pg70817.txt': 1, 'Q1-Dataset/pg1998.txt': 1}, 'those': {'Q1-Dataset/pg1513.txt': 15, 'Q1-Dataset/2160-0.txt': 160, 'Q1-Dataset/pg11.txt': 9, 'Q1-Dataset/pg2600.txt': 605, 'Q1-Dataset/pg345.txt': 75, 'Q1-Dataset/pg64317.txt': 25, 'Q1-Dataset/pg70815.txt': 53, 'Q1-Dataset/1080-0.txt': 5, 'Q1-Dataset/pg70817.txt': 18, 'Q1-Dataset/pg1998.txt': 183}, 'important': {'Q1-Dataset/pg1513.txt': 1, 'Q1-Dataset/2160-0.txt': 3, 'Q1-Dataset/pg11.txt': 4, 'Q1-Dataset/pg2600.txt': 110, 'Q1-Dataset/pg345.txt': 8, 'Q1-Dataset/pg64317.txt': 2, 'Q1-Dataset/pg70815.txt': 4, 'Q1-Dataset/1080-0.txt': 2, 'Q1-Dataset/pg70817.txt': 1, 'Q1-Dataset/pg1998.txt': 15}, 'including': {'Q1-Dataset/pg1513.txt': 8, 'Q1-Dataset/2160-0.txt': 16, 'Q1-Dataset/pg11.txt': 8, 'Q1-Dataset/pg2600.txt': 14, 'Q1-Dataset/pg345.txt': 9, 'Q1-Dataset/pg64317.txt': 11, 'Q1-Dataset/pg70815.txt': 10, 'Q1-Dataset/1080-0.txt': 8, 'Q1-Dataset/pg70817.txt': 8, 'Q1-Dataset/pg1998.txt': 9}, 'owed': {'Q1-Dataset/pg1513.txt': 1, 'Q1-Dataset/2160-0.txt': 4, 'Q1-Dataset/pg11.txt': 1, 'Q1-Dataset/pg2600.txt': 3, 'Q1-Dataset/pg345.txt': 1, 'Q1-Dataset/pg64317.txt': 1, 'Q1-Dataset/pg70815.txt': 2, 'Q1-Dataset/1080-0.txt': 1, 'Q1-Dataset/pg70817.txt': 1, 'Q1-Dataset/pg1998.txt': 1}, 'HAVE': {'Q1-Dataset/pg1513.txt': 1, 'Q1-Dataset/2160-0.txt': 1, 'Q1-Dataset/pg11.txt': 1, 'Q1-Dataset/pg2600.txt': 1, 'Q1-Dataset/pg345.txt': 1, 'Q1-Dataset/pg64317.txt': 1, 'Q1-Dataset/pg70815.txt': 1, 'Q1-Dataset/1080-0.txt': 1, 'Q1-Dataset/pg70817.txt': 1, 'Q1-Dataset/pg1998.txt': 6}, 'keeping': {'Q1-Dataset/pg1513.txt': 2, 'Q1-Dataset/2160-0.txt': 8, 'Q1-Dataset/pg11.txt': 4, 'Q1-Dataset/pg2600.txt': 34, 'Q1-Dataset/pg345.txt': 17, 'Q1-Dataset/pg64317.txt': 5, 'Q1-Dataset/pg70815.txt': 8, 'Q1-Dataset/1080-0.txt': 2, 'Q1-Dataset/pg70817.txt': 3, 'Q1-Dataset/pg1998.txt': 3}, 'IF': {'Q1-Dataset/pg1513.txt': 1, 'Q1-Dataset/2160-0.txt': 1, 'Q1-Dataset/pg11.txt': 1, 'Q1-Dataset/pg2600.txt': 1, 'Q1-Dataset/pg345.txt': 1, 'Q1-Dataset/pg64317.txt': 1, 'Q1-Dataset/pg70815.txt': 1, 'Q1-Dataset/1080-0.txt': 1, 'Q1-Dataset/pg70817.txt': 1, 'Q1-Dataset/pg1998.txt': 3}, '90': {'Q1-Dataset/pg1513.txt': 2, 'Q1-Dataset/2160-0.txt': 2, 'Q1-Dataset/pg11.txt': 2, 'Q1-Dataset/pg2600.txt': 3, 'Q1-Dataset/pg345.txt': 2, 'Q1-Dataset/pg64317.txt': 2, 'Q1-Dataset/pg70815.txt': 2, 'Q1-Dataset/1080-0.txt': 2, 'Q1-Dataset/pg70817.txt': 2, 'Q1-Dataset/pg1998.txt': 2}, 'thing': {'Q1-Dataset/pg1513.txt': 6, 'Q1-Dataset/2160-0.txt': 75, 'Q1-Dataset/pg11.txt': 35, 'Q1-Dataset/pg2600.txt': 168, 'Q1-Dataset/pg345.txt': 78, 'Q1-Dataset/pg64317.txt': 25, 'Q1-Dataset/pg70815.txt': 27, 'Q1-Dataset/1080-0.txt': 1, 'Q1-Dataset/pg70817.txt': 12, 'Q1-Dataset/pg1998.txt': 60}, 'hundreds': {'Q1-Dataset/pg1513.txt': 1, 'Q1-Dataset/2160-0.txt': 3, 'Q1-Dataset/pg11.txt': 1, 'Q1-Dataset/pg2600.txt': 23, 'Q1-Dataset/pg345.txt': 4, 'Q1-Dataset/pg64317.txt': 2, 'Q1-Dataset/pg70815.txt': 9, 'Q1-Dataset/1080-0.txt': 1, 'Q1-Dataset/pg70817.txt': 2, 'Q1-Dataset/pg1998.txt': 1}, 'corporation': {'Q1-Dataset/pg1513.txt': 1, 'Q1-Dataset/2160-0.txt': 3, 'Q1-Dataset/pg11.txt': 1, 'Q1-Dataset/pg2600.txt': 1, 'Q1-Dataset/pg345.txt': 1, 'Q1-Dataset/pg64317.txt': 1, 'Q1-Dataset/pg70815.txt': 1, 'Q1-Dataset/1080-0.txt': 1, 'Q1-Dataset/pg70817.txt': 1, 'Q1-Dataset/pg1998.txt': 1}, 'prepare)': {'Q1-Dataset/pg1513.txt': 1, 'Q1-Dataset/2160-0.txt': 1, 'Q1-Dataset/pg11.txt': 1, 'Q1-Dataset/pg2600.txt': 1, 'Q1-Dataset/pg345.txt': 1, 'Q1-Dataset/pg64317.txt': 1, 'Q1-Dataset/pg70815.txt': 1, 'Q1-Dataset/1080-0.txt': 1, 'Q1-Dataset/pg70817.txt': 1, 'Q1-Dataset/pg1998.txt': 1}, 'detach': {'Q1-Dataset/pg1513.txt': 1, 'Q1-Dataset/2160-0.txt': 1, 'Q1-Dataset/pg11.txt': 1, 'Q1-Dataset/pg2600.txt': 2, 'Q1-Dataset/pg345.txt': 1, 'Q1-Dataset/pg64317.txt': 1, 'Q1-Dataset/pg70815.txt': 1, 'Q1-Dataset/1080-0.txt': 1, 'Q1-Dataset/pg70817.txt': 1, 'Q1-Dataset/pg1998.txt': 1}, 'having': {'Q1-Dataset/pg1513.txt': 5, 'Q1-Dataset/2160-0.txt': 127, 'Q1-Dataset/pg11.txt': 10, 'Q1-Dataset/pg2600.txt': 367, 'Q1-Dataset/pg345.txt': 25, 'Q1-Dataset/pg64317.txt': 10, 'Q1-Dataset/pg70815.txt': 25, 'Q1-Dataset/1080-0.txt': 5, 'Q1-Dataset/pg70817.txt': 3, 'Q1-Dataset/pg1998.txt': 8}, 'ANY': {'Q1-Dataset/pg1513.txt': 3, 'Q1-Dataset/2160-0.txt': 3, 'Q1-Dataset/pg11.txt': 3, 'Q1-Dataset/pg2600.txt': 3, 'Q1-Dataset/pg345.txt': 3, 'Q1-Dataset/pg64317.txt': 3, 'Q1-Dataset/pg70815.txt': 3, 'Q1-Dataset/1080-0.txt': 3, 'Q1-Dataset/pg70817.txt': 3, 'Q1-Dataset/pg1998.txt': 3}, 'information': {'Q1-Dataset/pg1513.txt': 3, 'Q1-Dataset/2160-0.txt': 11, 'Q1-Dataset/pg11.txt': 3, 'Q1-Dataset/pg2600.txt': 17, 'Q1-Dataset/pg345.txt': 10, 'Q1-Dataset/pg64317.txt': 7, 'Q1-Dataset/pg70815.txt': 5, 'Q1-Dataset/1080-0.txt': 3, 'Q1-Dataset/pg70817.txt': 3, 'Q1-Dataset/pg1998.txt': 3}, 'can': {'Q1-Dataset/pg1513.txt': 42, 'Q1-Dataset/2160-0.txt': 138, 'Q1-Dataset/pg11.txt': 37, 'Q1-Dataset/pg2600.txt': 408, 'Q1-Dataset/pg345.txt': 346, 'Q1-Dataset/pg64317.txt': 38, 'Q1-Dataset/pg70815.txt': 72, 'Q1-Dataset/1080-0.txt': 19, 'Q1-Dataset/pg70817.txt': 19, 'Q1-Dataset/pg1998.txt': 102}, 'Gutenberg': {'Q1-Dataset/pg1513.txt': 23, 'Q1-Dataset/2160-0.txt': 20, 'Q1-Dataset/pg11.txt': 22, 'Q1-Dataset/pg2600.txt': 22, 'Q1-Dataset/pg345.txt': 22, 'Q1-Dataset/pg64317.txt': 23, 'Q1-Dataset/pg70815.txt': 22, 'Q1-Dataset/1080-0.txt': 22, 'Q1-Dataset/pg70817.txt': 22, 'Q1-Dataset/pg1998.txt': 22}, '1.E.1': {'Q1-Dataset/pg1513.txt': 3, 'Q1-Dataset/2160-0.txt': 3, 'Q1-Dataset/pg11.txt': 3, 'Q1-Dataset/pg2600.txt': 3, 'Q1-Dataset/pg345.txt': 3, 'Q1-Dataset/pg64317.txt': 3, 'Q1-Dataset/pg70815.txt': 3, 'Q1-Dataset/1080-0.txt': 3, 'Q1-Dataset/pg70817.txt': 3, 'Q1-Dataset/pg1998.txt': 3}, 'terms': {'Q1-Dataset/pg1513.txt': 21, 'Q1-Dataset/2160-0.txt': 31, 'Q1-Dataset/pg11.txt': 21, 'Q1-Dataset/pg2600.txt': 33, 'Q1-Dataset/pg345.txt': 20, 'Q1-Dataset/pg64317.txt': 22, 'Q1-Dataset/pg70815.txt': 20, 'Q1-Dataset/1080-0.txt': 20, 'Q1-Dataset/pg70817.txt': 20, 'Q1-Dataset/pg1998.txt': 22}, 'paper': {'Q1-Dataset/pg1513.txt': 1, 'Q1-Dataset/2160-0.txt': 12, 'Q1-Dataset/pg11.txt': 4, 'Q1-Dataset/pg2600.txt': 39, 'Q1-Dataset/pg345.txt': 19, 'Q1-Dataset/pg64317.txt': 4, 'Q1-Dataset/pg70815.txt': 1, 'Q1-Dataset/1080-0.txt': 1, 'Q1-Dataset/pg70817.txt': 3, 'Q1-Dataset/pg1998.txt': 1}, 'a': {'Q1-Dataset/pg1513.txt': 458, 'Q1-Dataset/2160-0.txt': 3612, 'Q1-Dataset/pg11.txt': 667, 'Q1-Dataset/pg2600.txt': 10017, 'Q1-Dataset/pg345.txt': 2891, 'Q1-Dataset/pg64317.txt': 1385, 'Q1-Dataset/pg70815.txt': 1504, 'Q1-Dataset/1080-0.txt': 144, 'Q1-Dataset/pg70817.txt': 690, 'Q1-Dataset/pg1998.txt': 1679}, 'printed': {'Q1-Dataset/pg1513.txt': 2, 'Q1-Dataset/2160-0.txt': 5, 'Q1-Dataset/pg11.txt': 3, 'Q1-Dataset/pg2600.txt': 8, 'Q1-Dataset/pg345.txt': 2, 'Q1-Dataset/pg64317.txt': 4, 'Q1-Dataset/pg70815.txt': 2, 'Q1-Dataset/1080-0.txt': 2, 'Q1-Dataset/pg70817.txt': 2, 'Q1-Dataset/pg1998.txt': 2}, 'solicitation': {'Q1-Dataset/pg1513.txt': 1, 'Q1-Dataset/2160-0.txt': 1, 'Q1-Dataset/pg11.txt': 1, 'Q1-Dataset/pg2600.txt': 1, 'Q1-Dataset/pg345.txt': 1, 'Q1-Dataset/pg64317.txt': 1, 'Q1-Dataset/pg70815.txt': 1, 'Q1-Dataset/1080-0.txt': 1, 'Q1-Dataset/pg70817.txt': 1, 'Q1-Dataset/pg1998.txt': 1}, 'performing,': {'Q1-Dataset/pg1513.txt': 3, 'Q1-Dataset/2160-0.txt': 3, 'Q1-Dataset/pg11.txt': 3, 'Q1-Dataset/pg2600.txt': 3, 'Q1-Dataset/pg345.txt': 3, 'Q1-Dataset/pg64317.txt': 3, 'Q1-Dataset/pg70815.txt': 3, 'Q1-Dataset/1080-0.txt': 3, 'Q1-Dataset/pg70817.txt': 3, 'Q1-Dataset/pg1998.txt': 3}, 'doubt': {'Q1-Dataset/pg1513.txt': 2, 'Q1-Dataset/2160-0.txt': 22, 'Q1-Dataset/pg11.txt': 1, 'Q1-Dataset/pg2600.txt': 45, 'Q1-Dataset/pg345.txt': 26, 'Q1-Dataset/pg64317.txt': 3, 'Q1-Dataset/pg70815.txt': 7, 'Q1-Dataset/1080-0.txt': 1, 'Q1-Dataset/pg70817.txt': 4, 'Q1-Dataset/pg1998.txt': 13}, 'computer': {'Q1-Dataset/pg1513.txt': 2, 'Q1-Dataset/2160-0.txt': 2, 'Q1-Dataset/pg11.txt': 2, 'Q1-Dataset/pg2600.txt': 2, 'Q1-Dataset/pg345.txt': 2, 'Q1-Dataset/pg64317.txt': 2, 'Q1-Dataset/pg70815.txt': 2, 'Q1-Dataset/1080-0.txt': 2, 'Q1-Dataset/pg70817.txt': 2, 'Q1-Dataset/pg1998.txt': 2}, 'holder),': {'Q1-Dataset/pg1513.txt': 1, 'Q1-Dataset/2160-0.txt': 1, 'Q1-Dataset/pg11.txt': 1, 'Q1-Dataset/pg2600.txt': 1, 'Q1-Dataset/pg345.txt': 1, 'Q1-Dataset/pg64317.txt': 1, 'Q1-Dataset/pg70815.txt': 1, 'Q1-Dataset/1080-0.txt': 1, 'Q1-Dataset/pg70817.txt': 1, 'Q1-Dataset/pg1998.txt': 1}, 'royalties': {'Q1-Dataset/pg1513.txt': 2, 'Q1-Dataset/2160-0.txt': 1, 'Q1-Dataset/pg11.txt': 2, 'Q1-Dataset/pg2600.txt': 2, 'Q1-Dataset/pg345.txt': 2, 'Q1-Dataset/pg64317.txt': 2, 'Q1-Dataset/pg70815.txt': 2, 'Q1-Dataset/1080-0.txt': 2, 'Q1-Dataset/pg70817.txt': 2, 'Q1-Dataset/pg1998.txt': 2}, 'contributions': {'Q1-Dataset/pg1513.txt': 1, 'Q1-Dataset/2160-0.txt': 1, 'Q1-Dataset/pg11.txt': 1, 'Q1-Dataset/pg2600.txt': 3, 'Q1-Dataset/pg345.txt': 1, 'Q1-Dataset/pg64317.txt': 1, 'Q1-Dataset/pg70815.txt': 1, 'Q1-Dataset/1080-0.txt': 1, 'Q1-Dataset/pg70817.txt': 1, 'Q1-Dataset/pg1998.txt': 1}, 'derivative': {'Q1-Dataset/pg1513.txt': 3, 'Q1-Dataset/2160-0.txt': 3, 'Q1-Dataset/pg11.txt': 3, 'Q1-Dataset/pg2600.txt': 3, 'Q1-Dataset/pg345.txt': 3, 'Q1-Dataset/pg64317.txt': 3, 'Q1-Dataset/pg70815.txt': 3, 'Q1-Dataset/1080-0.txt': 3, 'Q1-Dataset/pg70817.txt': 3, 'Q1-Dataset/pg1998.txt': 3}, 'ways': {'Q1-Dataset/pg1513.txt': 1, 'Q1-Dataset/2160-0.txt': 4, 'Q1-Dataset/pg11.txt': 2, 'Q1-Dataset/pg2600.txt': 10, 'Q1-Dataset/pg345.txt': 13, 'Q1-Dataset/pg64317.txt': 1, 'Q1-Dataset/pg70815.txt': 4, 'Q1-Dataset/1080-0.txt': 1, 'Q1-Dataset/pg70817.txt': 1, 'Q1-Dataset/pg1998.txt': 6}, 'she': {'Q1-Dataset/pg1513.txt': 80, 'Q1-Dataset/2160-0.txt': 413, 'Q1-Dataset/pg11.txt': 485, 'Q1-Dataset/pg2600.txt': 2540, 'Q1-Dataset/pg345.txt': 629, 'Q1-Dataset/pg64317.txt': 270, 'Q1-Dataset/pg70815.txt': 288, 'Q1-Dataset/1080-0.txt': 1, 'Q1-Dataset/pg70817.txt': 179, 'Q1-Dataset/pg1998.txt': 39}, 'viewing,': {'Q1-Dataset/pg1513.txt': 1, 'Q1-Dataset/2160-0.txt': 1, 'Q1-Dataset/pg11.txt': 1, 'Q1-Dataset/pg2600.txt': 1, 'Q1-Dataset/pg345.txt': 1, 'Q1-Dataset/pg64317.txt': 1, 'Q1-Dataset/pg70815.txt': 1, 'Q1-Dataset/1080-0.txt': 1, 'Q1-Dataset/pg70817.txt': 1, 'Q1-Dataset/pg1998.txt': 2}, 'distributed:': {'Q1-Dataset/pg1513.txt': 1, 'Q1-Dataset/2160-0.txt': 1, 'Q1-Dataset/pg11.txt': 1, 'Q1-Dataset/pg2600.txt': 1, 'Q1-Dataset/pg345.txt': 1, 'Q1-Dataset/pg64317.txt': 1, 'Q1-Dataset/pg70815.txt': 1, 'Q1-Dataset/1080-0.txt': 1, 'Q1-Dataset/pg70817.txt': 1, 'Q1-Dataset/pg1998.txt': 1}, 'computers.': {'Q1-Dataset/pg1513.txt': 1, 'Q1-Dataset/2160-0.txt': 1, 'Q1-Dataset/pg11.txt': 1, 'Q1-Dataset/pg2600.txt': 1, 'Q1-Dataset/pg345.txt': 1, 'Q1-Dataset/pg64317.txt': 1, 'Q1-Dataset/pg70815.txt': 1, 'Q1-Dataset/1080-0.txt': 1, 'Q1-Dataset/pg70817.txt': 1, 'Q1-Dataset/pg1998.txt': 1}, 'statements': {'Q1-Dataset/pg1513.txt': 1, 'Q1-Dataset/2160-0.txt': 1, 'Q1-Dataset/pg11.txt': 1, 'Q1-Dataset/pg2600.txt': 2, 'Q1-Dataset/pg345.txt': 1, 'Q1-Dataset/pg64317.txt': 1, 'Q1-Dataset/pg70815.txt': 2, 'Q1-Dataset/1080-0.txt': 1, 'Q1-Dataset/pg70817.txt': 1, 'Q1-Dataset/pg1998.txt': 1}, 'keep': {'Q1-Dataset/pg1513.txt': 17, 'Q1-Dataset/2160-0.txt': 59, 'Q1-Dataset/pg11.txt': 10, 'Q1-Dataset/pg2600.txt': 75, 'Q1-Dataset/pg345.txt': 94, 'Q1-Dataset/pg64317.txt': 12, 'Q1-Dataset/pg70815.txt': 10, 'Q1-Dataset/1080-0.txt': 2, 'Q1-Dataset/pg70817.txt': 10, 'Q1-Dataset/pg1998.txt': 27}, '1.E.7': {'Q1-Dataset/pg1513.txt': 2, 'Q1-Dataset/2160-0.txt': 2, 'Q1-Dataset/pg11.txt': 2, 'Q1-Dataset/pg2600.txt': 2, 'Q1-Dataset/pg345.txt': 2, 'Q1-Dataset/pg64317.txt': 2, 'Q1-Dataset/pg70815.txt': 2, 'Q1-Dataset/1080-0.txt': 2, 'Q1-Dataset/pg70817.txt': 2, 'Q1-Dataset/pg1998.txt': 2}, 'medium,': {'Q1-Dataset/pg1513.txt': 2, 'Q1-Dataset/2160-0.txt': 4, 'Q1-Dataset/pg11.txt': 2, 'Q1-Dataset/pg2600.txt': 2, 'Q1-Dataset/pg345.txt': 3, 'Q1-Dataset/pg64317.txt': 2, 'Q1-Dataset/pg70815.txt': 2, 'Q1-Dataset/1080-0.txt': 3, 'Q1-Dataset/pg70817.txt': 2, 'Q1-Dataset/pg1998.txt': 2}, 'who': {'Q1-Dataset/pg1513.txt': 17, 'Q1-Dataset/2160-0.txt': 554, 'Q1-Dataset/pg11.txt': 51, 'Q1-Dataset/pg2600.txt': 1906, 'Q1-Dataset/pg345.txt': 271, 'Q1-Dataset/pg64317.txt': 97, 'Q1-Dataset/pg70815.txt': 152, 'Q1-Dataset/1080-0.txt': 24, 'Q1-Dataset/pg70817.txt': 16, 'Q1-Dataset/pg1998.txt': 469}, 'notifies': {'Q1-Dataset/pg1513.txt': 1, 'Q1-Dataset/2160-0.txt': 1, 'Q1-Dataset/pg11.txt': 1, 'Q1-Dataset/pg2600.txt': 1, 'Q1-Dataset/pg345.txt': 1, 'Q1-Dataset/pg64317.txt': 1, 'Q1-Dataset/pg70815.txt': 1, 'Q1-Dataset/1080-0.txt': 1, 'Q1-Dataset/pg70817.txt': 1, 'Q1-Dataset/pg1998.txt': 1}, 'license,': {'Q1-Dataset/pg1513.txt': 3, 'Q1-Dataset/2160-0.txt': 2, 'Q1-Dataset/pg11.txt': 3, 'Q1-Dataset/pg2600.txt': 3, 'Q1-Dataset/pg345.txt': 3, 'Q1-Dataset/pg64317.txt': 3, 'Q1-Dataset/pg70815.txt': 3, 'Q1-Dataset/1080-0.txt': 3, 'Q1-Dataset/pg70817.txt': 3, 'Q1-Dataset/pg1998.txt': 3}, 'NOT': {'Q1-Dataset/pg1513.txt': 2, 'Q1-Dataset/2160-0.txt': 2, 'Q1-Dataset/pg11.txt': 2, 'Q1-Dataset/pg2600.txt': 2, 'Q1-Dataset/pg345.txt': 2, 'Q1-Dataset/pg64317.txt': 2, 'Q1-Dataset/pg70815.txt': 2, 'Q1-Dataset/1080-0.txt': 2, 'Q1-Dataset/pg70817.txt': 2, 'Q1-Dataset/pg1998.txt': 20}, 'PURPOSE.': {'Q1-Dataset/pg1513.txt': 1, 'Q1-Dataset/2160-0.txt': 1, 'Q1-Dataset/pg11.txt': 1, 'Q1-Dataset/pg2600.txt': 1, 'Q1-Dataset/pg345.txt': 1, 'Q1-Dataset/pg64317.txt': 1, 'Q1-Dataset/pg70815.txt': 1, 'Q1-Dataset/1080-0.txt': 1, 'Q1-Dataset/pg70817.txt': 1, 'Q1-Dataset/pg1998.txt': 1}, 'day': {'Q1-Dataset/pg1513.txt': 21, 'Q1-Dataset/2160-0.txt': 75, 'Q1-Dataset/pg11.txt': 11, 'Q1-Dataset/pg2600.txt': 379, 'Q1-Dataset/pg345.txt': 89, 'Q1-Dataset/pg64317.txt': 30, 'Q1-Dataset/pg70815.txt': 8, 'Q1-Dataset/1080-0.txt': 2, 'Q1-Dataset/pg70817.txt': 16, 'Q1-Dataset/pg1998.txt': 74}, 'visit:': {'Q1-Dataset/pg1513.txt': 1, 'Q1-Dataset/2160-0.txt': 1, 'Q1-Dataset/pg11.txt': 1, 'Q1-Dataset/pg2600.txt': 1, 'Q1-Dataset/pg345.txt': 1, 'Q1-Dataset/pg64317.txt': 1, 'Q1-Dataset/pg70815.txt': 1, 'Q1-Dataset/1080-0.txt': 1, 'Q1-Dataset/pg70817.txt': 1, 'Q1-Dataset/pg1998.txt': 1}, 'giving': {'Q1-Dataset/pg1513.txt': 1, 'Q1-Dataset/2160-0.txt': 22, 'Q1-Dataset/pg11.txt': 2, 'Q1-Dataset/pg2600.txt': 107, 'Q1-Dataset/pg345.txt': 4, 'Q1-Dataset/pg64317.txt': 3, 'Q1-Dataset/pg70815.txt': 1, 'Q1-Dataset/1080-0.txt': 1, 'Q1-Dataset/pg70817.txt': 2, 'Q1-Dataset/pg1998.txt': 6}, 'works': {'Q1-Dataset/pg1513.txt': 23, 'Q1-Dataset/2160-0.txt': 32, 'Q1-Dataset/pg11.txt': 23, 'Q1-Dataset/pg2600.txt': 27, 'Q1-Dataset/pg345.txt': 25, 'Q1-Dataset/pg64317.txt': 23, 'Q1-Dataset/pg70815.txt': 23, 'Q1-Dataset/1080-0.txt': 23, 'Q1-Dataset/pg70817.txt': 23, 'Q1-Dataset/pg1998.txt': 31}, '4.': {'Q1-Dataset/pg1513.txt': 1, 'Q1-Dataset/2160-0.txt': 6, 'Q1-Dataset/pg11.txt': 1, 'Q1-Dataset/pg2600.txt': 3, 'Q1-Dataset/pg345.txt': 1, 'Q1-Dataset/pg64317.txt': 1, 'Q1-Dataset/pg70815.txt': 1, 'Q1-Dataset/1080-0.txt': 1, 'Q1-Dataset/pg70817.txt': 1, 'Q1-Dataset/pg1998.txt': 8}, '809': {'Q1-Dataset/pg1513.txt': 1, 'Q1-Dataset/2160-0.txt': 1, 'Q1-Dataset/pg11.txt': 1, 'Q1-Dataset/pg2600.txt': 1, 'Q1-Dataset/pg345.txt': 1, 'Q1-Dataset/pg64317.txt': 1, 'Q1-Dataset/pg70815.txt': 1, 'Q1-Dataset/1080-0.txt': 1, 'Q1-Dataset/pg70817.txt': 1, 'Q1-Dataset/pg1998.txt': 1}, 'containing': {'Q1-Dataset/pg1513.txt': 2, 'Q1-Dataset/2160-0.txt': 6, 'Q1-Dataset/pg11.txt': 1, 'Q1-Dataset/pg2600.txt': 14, 'Q1-Dataset/pg345.txt': 2, 'Q1-Dataset/pg64317.txt': 1, 'Q1-Dataset/pg70815.txt': 3, 'Q1-Dataset/1080-0.txt': 1, 'Q1-Dataset/pg70817.txt': 1, 'Q1-Dataset/pg1998.txt': 1}, 'attached': {'Q1-Dataset/pg1513.txt': 1, 'Q1-Dataset/2160-0.txt': 3, 'Q1-Dataset/pg11.txt': 1, 'Q1-Dataset/pg2600.txt': 21, 'Q1-Dataset/pg345.txt': 2, 'Q1-Dataset/pg64317.txt': 2, 'Q1-Dataset/pg70815.txt': 4, 'Q1-Dataset/1080-0.txt': 1, 'Q1-Dataset/pg70817.txt': 1, 'Q1-Dataset/pg1998.txt': 3}, 'staff.': {'Q1-Dataset/pg1513.txt': 1, 'Q1-Dataset/2160-0.txt': 1, 'Q1-Dataset/pg11.txt': 1, 'Q1-Dataset/pg2600.txt': 14, 'Q1-Dataset/pg345.txt': 1, 'Q1-Dataset/pg64317.txt': 1, 'Q1-Dataset/pg70815.txt': 1, 'Q1-Dataset/1080-0.txt': 1, 'Q1-Dataset/pg70817.txt': 1, 'Q1-Dataset/pg1998.txt': 1}, 'need': {'Q1-Dataset/pg1513.txt': 5, 'Q1-Dataset/2160-0.txt': 12, 'Q1-Dataset/pg11.txt': 1, 'Q1-Dataset/pg2600.txt': 98, 'Q1-Dataset/pg345.txt': 63, 'Q1-Dataset/pg64317.txt': 4, 'Q1-Dataset/pg70815.txt': 14, 'Q1-Dataset/1080-0.txt': 1, 'Q1-Dataset/pg70817.txt': 2, 'Q1-Dataset/pg1998.txt': 17}, 'paragraphs': {'Q1-Dataset/pg1513.txt': 3, 'Q1-Dataset/2160-0.txt': 3, 'Q1-Dataset/pg11.txt': 3, 'Q1-Dataset/pg2600.txt': 4, 'Q1-Dataset/pg345.txt': 3, 'Q1-Dataset/pg64317.txt': 3, 'Q1-Dataset/pg70815.txt': 3, 'Q1-Dataset/1080-0.txt': 3, 'Q1-Dataset/pg70817.txt': 4, 'Q1-Dataset/pg1998.txt': 6}, 'through': {'Q1-Dataset/pg1513.txt': 8, 'Q1-Dataset/2160-0.txt': 75, 'Q1-Dataset/pg11.txt': 14, 'Q1-Dataset/pg2600.txt': 352, 'Q1-Dataset/pg345.txt': 205, 'Q1-Dataset/pg64317.txt': 60, 'Q1-Dataset/pg70815.txt': 103, 'Q1-Dataset/1080-0.txt': 4, 'Q1-Dataset/pg70817.txt': 39, 'Q1-Dataset/pg1998.txt': 70}, 'described': {'Q1-Dataset/pg1513.txt': 1, 'Q1-Dataset/2160-0.txt': 4, 'Q1-Dataset/pg11.txt': 1, 'Q1-Dataset/pg2600.txt': 24, 'Q1-Dataset/pg345.txt': 6, 'Q1-Dataset/pg64317.txt': 4, 'Q1-Dataset/pg70815.txt': 2, 'Q1-Dataset/1080-0.txt': 1, 'Q1-Dataset/pg70817.txt': 2, 'Q1-Dataset/pg1998.txt': 2}, '1500': {'Q1-Dataset/pg1513.txt': 1, 'Q1-Dataset/2160-0.txt': 1, 'Q1-Dataset/pg11.txt': 1, 'Q1-Dataset/pg2600.txt': 1, 'Q1-Dataset/pg345.txt': 1, 'Q1-Dataset/pg64317.txt': 1, 'Q1-Dataset/pg70815.txt': 1, 'Q1-Dataset/1080-0.txt': 1, 'Q1-Dataset/pg70817.txt': 1, 'Q1-Dataset/pg1998.txt': 1}, 'damaged': {'Q1-Dataset/pg1513.txt': 1, 'Q1-Dataset/2160-0.txt': 4, 'Q1-Dataset/pg11.txt': 1, 'Q1-Dataset/pg2600.txt': 2, 'Q1-Dataset/pg345.txt': 1, 'Q1-Dataset/pg64317.txt': 1, 'Q1-Dataset/pg70815.txt': 1, 'Q1-Dataset/1080-0.txt': 1, 'Q1-Dataset/pg70817.txt': 2, 'Q1-Dataset/pg1998.txt': 1}, 'talk': {'Q1-Dataset/pg1513.txt': 9, 'Q1-Dataset/2160-0.txt': 10, 'Q1-Dataset/pg11.txt': 10, 'Q1-Dataset/pg2600.txt': 199, 'Q1-Dataset/pg345.txt': 29, 'Q1-Dataset/pg64317.txt': 11, 'Q1-Dataset/pg70815.txt': 4, 'Q1-Dataset/1080-0.txt': 2, 'Q1-Dataset/pg70817.txt': 1, 'Q1-Dataset/pg1998.txt': 22}, 'party': {'Q1-Dataset/pg1513.txt': 1, 'Q1-Dataset/2160-0.txt': 9, 'Q1-Dataset/pg11.txt': 8, 'Q1-Dataset/pg2600.txt': 45, 'Q1-Dataset/pg345.txt': 8, 'Q1-Dataset/pg64317.txt': 13, 'Q1-Dataset/pg70815.txt': 24, 'Q1-Dataset/1080-0.txt': 1, 'Q1-Dataset/pg70817.txt': 7, 'Q1-Dataset/pg1998.txt': 1}, 'receive': {'Q1-Dataset/pg1513.txt': 2, 'Q1-Dataset/2160-0.txt': 19, 'Q1-Dataset/pg11.txt': 2, 'Q1-Dataset/pg2600.txt': 40, 'Q1-Dataset/pg345.txt': 5, 'Q1-Dataset/pg64317.txt': 2, 'Q1-Dataset/pg70815.txt': 5, 'Q1-Dataset/1080-0.txt': 2, 'Q1-Dataset/pg70817.txt': 2, 'Q1-Dataset/pg1998.txt': 5}, 'given': {'Q1-Dataset/pg1513.txt': 1, 'Q1-Dataset/2160-0.txt': 54, 'Q1-Dataset/pg11.txt': 2, 'Q1-Dataset/pg2600.txt': 166, 'Q1-Dataset/pg345.txt': 39, 'Q1-Dataset/pg64317.txt': 8, 'Q1-Dataset/pg70815.txt': 15, 'Q1-Dataset/1080-0.txt': 1, 'Q1-Dataset/pg70817.txt': 4, 'Q1-Dataset/pg1998.txt': 36}, 'change.': {'Q1-Dataset/pg1513.txt': 1, 'Q1-Dataset/2160-0.txt': 2, 'Q1-Dataset/pg11.txt': 1, 'Q1-Dataset/pg2600.txt': 7, 'Q1-Dataset/pg345.txt': 7, 'Q1-Dataset/pg64317.txt': 2, 'Q1-Dataset/pg70815.txt': 1, 'Q1-Dataset/1080-0.txt': 1, 'Q1-Dataset/pg70817.txt': 1, 'Q1-Dataset/pg1998.txt': 2}, 'Vanilla': {'Q1-Dataset/pg1513.txt': 2, 'Q1-Dataset/2160-0.txt': 2, 'Q1-Dataset/pg11.txt': 2, 'Q1-Dataset/pg2600.txt': 2, 'Q1-Dataset/pg345.txt': 2, 'Q1-Dataset/pg64317.txt': 2, 'Q1-Dataset/pg70815.txt': 2, 'Q1-Dataset/1080-0.txt': 2, 'Q1-Dataset/pg70817.txt': 2, 'Q1-Dataset/pg1998.txt': 2}}\n"
     ]
    }
   ],
   "source": [
    "print(f\"Frequencies of the words are :{common_words_frequency_dict}\")"
   ]
  },
  {
   "cell_type": "code",
   "execution_count": 84,
   "metadata": {
    "colab": {
     "base_uri": "https://localhost:8080/",
     "height": 410
    },
    "id": "_sFM6Fxgyoid",
    "outputId": "41c01987-01e2-4eb7-c7b1-db0319c21f2e"
   },
   "outputs": [
    {
     "name": "stdout",
     "output_type": "stream",
     "text": [
      "Frequencies of the words in tabuler format\n"
     ]
    },
    {
     "data": {
      "text/html": [
       "\n",
       "  <div id=\"df-12993273-7e8f-4358-bf51-429197bd4b28\">\n",
       "    <div class=\"colab-df-container\">\n",
       "      <div>\n",
       "<style scoped>\n",
       "    .dataframe tbody tr th:only-of-type {\n",
       "        vertical-align: middle;\n",
       "    }\n",
       "\n",
       "    .dataframe tbody tr th {\n",
       "        vertical-align: top;\n",
       "    }\n",
       "\n",
       "    .dataframe thead th {\n",
       "        text-align: right;\n",
       "    }\n",
       "</style>\n",
       "<table border=\"1\" class=\"dataframe\">\n",
       "  <thead>\n",
       "    <tr style=\"text-align: right;\">\n",
       "      <th></th>\n",
       "      <th></th>\n",
       "      <th>rather</th>\n",
       "      <th>references</th>\n",
       "      <th>IMPLIED,</th>\n",
       "      <th>two</th>\n",
       "      <th>immediate</th>\n",
       "      <th>family</th>\n",
       "      <th>this,</th>\n",
       "      <th>of</th>\n",
       "      <th>2001,</th>\n",
       "      <th>...</th>\n",
       "      <th>through</th>\n",
       "      <th>described</th>\n",
       "      <th>1500</th>\n",
       "      <th>damaged</th>\n",
       "      <th>talk</th>\n",
       "      <th>party</th>\n",
       "      <th>receive</th>\n",
       "      <th>given</th>\n",
       "      <th>change.</th>\n",
       "      <th>Vanilla</th>\n",
       "    </tr>\n",
       "  </thead>\n",
       "  <tbody>\n",
       "    <tr>\n",
       "      <th>Q1-Dataset/pg1513.txt</th>\n",
       "      <td>1474</td>\n",
       "      <td>3</td>\n",
       "      <td>2</td>\n",
       "      <td>1</td>\n",
       "      <td>11</td>\n",
       "      <td>2</td>\n",
       "      <td>2</td>\n",
       "      <td>4</td>\n",
       "      <td>476</td>\n",
       "      <td>1</td>\n",
       "      <td>...</td>\n",
       "      <td>8</td>\n",
       "      <td>1</td>\n",
       "      <td>1</td>\n",
       "      <td>1</td>\n",
       "      <td>9</td>\n",
       "      <td>1</td>\n",
       "      <td>2</td>\n",
       "      <td>1</td>\n",
       "      <td>1</td>\n",
       "      <td>2</td>\n",
       "    </tr>\n",
       "    <tr>\n",
       "      <th>Q1-Dataset/2160-0.txt</th>\n",
       "      <td>1462</td>\n",
       "      <td>42</td>\n",
       "      <td>2</td>\n",
       "      <td>1</td>\n",
       "      <td>128</td>\n",
       "      <td>12</td>\n",
       "      <td>56</td>\n",
       "      <td>10</td>\n",
       "      <td>5644</td>\n",
       "      <td>1</td>\n",
       "      <td>...</td>\n",
       "      <td>75</td>\n",
       "      <td>4</td>\n",
       "      <td>1</td>\n",
       "      <td>4</td>\n",
       "      <td>10</td>\n",
       "      <td>9</td>\n",
       "      <td>19</td>\n",
       "      <td>54</td>\n",
       "      <td>2</td>\n",
       "      <td>2</td>\n",
       "    </tr>\n",
       "    <tr>\n",
       "      <th>Q1-Dataset/pg11.txt</th>\n",
       "      <td>1597</td>\n",
       "      <td>25</td>\n",
       "      <td>2</td>\n",
       "      <td>1</td>\n",
       "      <td>20</td>\n",
       "      <td>3</td>\n",
       "      <td>1</td>\n",
       "      <td>17</td>\n",
       "      <td>605</td>\n",
       "      <td>1</td>\n",
       "      <td>...</td>\n",
       "      <td>14</td>\n",
       "      <td>1</td>\n",
       "      <td>1</td>\n",
       "      <td>1</td>\n",
       "      <td>10</td>\n",
       "      <td>8</td>\n",
       "      <td>2</td>\n",
       "      <td>2</td>\n",
       "      <td>1</td>\n",
       "      <td>2</td>\n",
       "    </tr>\n",
       "    <tr>\n",
       "      <th>Q1-Dataset/pg2600.txt</th>\n",
       "      <td>16663</td>\n",
       "      <td>87</td>\n",
       "      <td>2</td>\n",
       "      <td>1</td>\n",
       "      <td>491</td>\n",
       "      <td>10</td>\n",
       "      <td>80</td>\n",
       "      <td>86</td>\n",
       "      <td>14860</td>\n",
       "      <td>1</td>\n",
       "      <td>...</td>\n",
       "      <td>352</td>\n",
       "      <td>24</td>\n",
       "      <td>1</td>\n",
       "      <td>2</td>\n",
       "      <td>199</td>\n",
       "      <td>45</td>\n",
       "      <td>40</td>\n",
       "      <td>166</td>\n",
       "      <td>7</td>\n",
       "      <td>2</td>\n",
       "    </tr>\n",
       "    <tr>\n",
       "      <th>Q1-Dataset/pg345.txt</th>\n",
       "      <td>7740</td>\n",
       "      <td>25</td>\n",
       "      <td>2</td>\n",
       "      <td>1</td>\n",
       "      <td>111</td>\n",
       "      <td>6</td>\n",
       "      <td>1</td>\n",
       "      <td>28</td>\n",
       "      <td>3681</td>\n",
       "      <td>1</td>\n",
       "      <td>...</td>\n",
       "      <td>205</td>\n",
       "      <td>6</td>\n",
       "      <td>1</td>\n",
       "      <td>1</td>\n",
       "      <td>29</td>\n",
       "      <td>8</td>\n",
       "      <td>5</td>\n",
       "      <td>39</td>\n",
       "      <td>7</td>\n",
       "      <td>2</td>\n",
       "    </tr>\n",
       "    <tr>\n",
       "      <th>Q1-Dataset/pg64317.txt</th>\n",
       "      <td>2527</td>\n",
       "      <td>23</td>\n",
       "      <td>2</td>\n",
       "      <td>1</td>\n",
       "      <td>64</td>\n",
       "      <td>5</td>\n",
       "      <td>12</td>\n",
       "      <td>4</td>\n",
       "      <td>1208</td>\n",
       "      <td>1</td>\n",
       "      <td>...</td>\n",
       "      <td>60</td>\n",
       "      <td>4</td>\n",
       "      <td>1</td>\n",
       "      <td>1</td>\n",
       "      <td>11</td>\n",
       "      <td>13</td>\n",
       "      <td>2</td>\n",
       "      <td>8</td>\n",
       "      <td>2</td>\n",
       "      <td>2</td>\n",
       "    </tr>\n",
       "    <tr>\n",
       "      <th>Q1-Dataset/pg70815.txt</th>\n",
       "      <td>3290</td>\n",
       "      <td>15</td>\n",
       "      <td>2</td>\n",
       "      <td>1</td>\n",
       "      <td>100</td>\n",
       "      <td>7</td>\n",
       "      <td>1</td>\n",
       "      <td>6</td>\n",
       "      <td>3086</td>\n",
       "      <td>1</td>\n",
       "      <td>...</td>\n",
       "      <td>103</td>\n",
       "      <td>2</td>\n",
       "      <td>1</td>\n",
       "      <td>1</td>\n",
       "      <td>4</td>\n",
       "      <td>24</td>\n",
       "      <td>5</td>\n",
       "      <td>15</td>\n",
       "      <td>1</td>\n",
       "      <td>2</td>\n",
       "    </tr>\n",
       "    <tr>\n",
       "      <th>Q1-Dataset/1080-0.txt</th>\n",
       "      <td>188</td>\n",
       "      <td>2</td>\n",
       "      <td>2</td>\n",
       "      <td>1</td>\n",
       "      <td>8</td>\n",
       "      <td>2</td>\n",
       "      <td>2</td>\n",
       "      <td>1</td>\n",
       "      <td>241</td>\n",
       "      <td>1</td>\n",
       "      <td>...</td>\n",
       "      <td>4</td>\n",
       "      <td>1</td>\n",
       "      <td>1</td>\n",
       "      <td>1</td>\n",
       "      <td>2</td>\n",
       "      <td>1</td>\n",
       "      <td>2</td>\n",
       "      <td>1</td>\n",
       "      <td>1</td>\n",
       "      <td>2</td>\n",
       "    </tr>\n",
       "    <tr>\n",
       "      <th>Q1-Dataset/pg70817.txt</th>\n",
       "      <td>1741</td>\n",
       "      <td>10</td>\n",
       "      <td>2</td>\n",
       "      <td>1</td>\n",
       "      <td>21</td>\n",
       "      <td>6</td>\n",
       "      <td>3</td>\n",
       "      <td>1</td>\n",
       "      <td>748</td>\n",
       "      <td>1</td>\n",
       "      <td>...</td>\n",
       "      <td>39</td>\n",
       "      <td>2</td>\n",
       "      <td>1</td>\n",
       "      <td>2</td>\n",
       "      <td>1</td>\n",
       "      <td>7</td>\n",
       "      <td>2</td>\n",
       "      <td>4</td>\n",
       "      <td>1</td>\n",
       "      <td>2</td>\n",
       "    </tr>\n",
       "    <tr>\n",
       "      <th>Q1-Dataset/pg1998.txt</th>\n",
       "      <td>7007</td>\n",
       "      <td>24</td>\n",
       "      <td>2</td>\n",
       "      <td>1</td>\n",
       "      <td>41</td>\n",
       "      <td>3</td>\n",
       "      <td>1</td>\n",
       "      <td>17</td>\n",
       "      <td>2825</td>\n",
       "      <td>1</td>\n",
       "      <td>...</td>\n",
       "      <td>70</td>\n",
       "      <td>2</td>\n",
       "      <td>1</td>\n",
       "      <td>1</td>\n",
       "      <td>22</td>\n",
       "      <td>1</td>\n",
       "      <td>5</td>\n",
       "      <td>36</td>\n",
       "      <td>2</td>\n",
       "      <td>2</td>\n",
       "    </tr>\n",
       "  </tbody>\n",
       "</table>\n",
       "<p>10 rows × 1041 columns</p>\n",
       "</div>\n",
       "      <button class=\"colab-df-convert\" onclick=\"convertToInteractive('df-12993273-7e8f-4358-bf51-429197bd4b28')\"\n",
       "              title=\"Convert this dataframe to an interactive table.\"\n",
       "              style=\"display:none;\">\n",
       "        \n",
       "  <svg xmlns=\"http://www.w3.org/2000/svg\" height=\"24px\"viewBox=\"0 0 24 24\"\n",
       "       width=\"24px\">\n",
       "    <path d=\"M0 0h24v24H0V0z\" fill=\"none\"/>\n",
       "    <path d=\"M18.56 5.44l.94 2.06.94-2.06 2.06-.94-2.06-.94-.94-2.06-.94 2.06-2.06.94zm-11 1L8.5 8.5l.94-2.06 2.06-.94-2.06-.94L8.5 2.5l-.94 2.06-2.06.94zm10 10l.94 2.06.94-2.06 2.06-.94-2.06-.94-.94-2.06-.94 2.06-2.06.94z\"/><path d=\"M17.41 7.96l-1.37-1.37c-.4-.4-.92-.59-1.43-.59-.52 0-1.04.2-1.43.59L10.3 9.45l-7.72 7.72c-.78.78-.78 2.05 0 2.83L4 21.41c.39.39.9.59 1.41.59.51 0 1.02-.2 1.41-.59l7.78-7.78 2.81-2.81c.8-.78.8-2.07 0-2.86zM5.41 20L4 18.59l7.72-7.72 1.47 1.35L5.41 20z\"/>\n",
       "  </svg>\n",
       "      </button>\n",
       "      \n",
       "  <style>\n",
       "    .colab-df-container {\n",
       "      display:flex;\n",
       "      flex-wrap:wrap;\n",
       "      gap: 12px;\n",
       "    }\n",
       "\n",
       "    .colab-df-convert {\n",
       "      background-color: #E8F0FE;\n",
       "      border: none;\n",
       "      border-radius: 50%;\n",
       "      cursor: pointer;\n",
       "      display: none;\n",
       "      fill: #1967D2;\n",
       "      height: 32px;\n",
       "      padding: 0 0 0 0;\n",
       "      width: 32px;\n",
       "    }\n",
       "\n",
       "    .colab-df-convert:hover {\n",
       "      background-color: #E2EBFA;\n",
       "      box-shadow: 0px 1px 2px rgba(60, 64, 67, 0.3), 0px 1px 3px 1px rgba(60, 64, 67, 0.15);\n",
       "      fill: #174EA6;\n",
       "    }\n",
       "\n",
       "    [theme=dark] .colab-df-convert {\n",
       "      background-color: #3B4455;\n",
       "      fill: #D2E3FC;\n",
       "    }\n",
       "\n",
       "    [theme=dark] .colab-df-convert:hover {\n",
       "      background-color: #434B5C;\n",
       "      box-shadow: 0px 1px 3px 1px rgba(0, 0, 0, 0.15);\n",
       "      filter: drop-shadow(0px 1px 2px rgba(0, 0, 0, 0.3));\n",
       "      fill: #FFFFFF;\n",
       "    }\n",
       "  </style>\n",
       "\n",
       "      <script>\n",
       "        const buttonEl =\n",
       "          document.querySelector('#df-12993273-7e8f-4358-bf51-429197bd4b28 button.colab-df-convert');\n",
       "        buttonEl.style.display =\n",
       "          google.colab.kernel.accessAllowed ? 'block' : 'none';\n",
       "\n",
       "        async function convertToInteractive(key) {\n",
       "          const element = document.querySelector('#df-12993273-7e8f-4358-bf51-429197bd4b28');\n",
       "          const dataTable =\n",
       "            await google.colab.kernel.invokeFunction('convertToInteractive',\n",
       "                                                     [key], {});\n",
       "          if (!dataTable) return;\n",
       "\n",
       "          const docLinkHtml = 'Like what you see? Visit the ' +\n",
       "            '<a target=\"_blank\" href=https://colab.research.google.com/notebooks/data_table.ipynb>data table notebook</a>'\n",
       "            + ' to learn more about interactive tables.';\n",
       "          element.innerHTML = '';\n",
       "          dataTable['output_type'] = 'display_data';\n",
       "          await google.colab.output.renderOutput(dataTable, element);\n",
       "          const docLink = document.createElement('div');\n",
       "          docLink.innerHTML = docLinkHtml;\n",
       "          element.appendChild(docLink);\n",
       "        }\n",
       "      </script>\n",
       "    </div>\n",
       "  </div>\n",
       "  "
      ],
      "text/plain": [
       "                               rather  references  IMPLIED,  two  immediate  \\\n",
       "Q1-Dataset/pg1513.txt    1474       3           2         1   11          2   \n",
       "Q1-Dataset/2160-0.txt    1462      42           2         1  128         12   \n",
       "Q1-Dataset/pg11.txt      1597      25           2         1   20          3   \n",
       "Q1-Dataset/pg2600.txt   16663      87           2         1  491         10   \n",
       "Q1-Dataset/pg345.txt     7740      25           2         1  111          6   \n",
       "Q1-Dataset/pg64317.txt   2527      23           2         1   64          5   \n",
       "Q1-Dataset/pg70815.txt   3290      15           2         1  100          7   \n",
       "Q1-Dataset/1080-0.txt     188       2           2         1    8          2   \n",
       "Q1-Dataset/pg70817.txt   1741      10           2         1   21          6   \n",
       "Q1-Dataset/pg1998.txt    7007      24           2         1   41          3   \n",
       "\n",
       "                        family  this,     of  2001,  ...  through  described  \\\n",
       "Q1-Dataset/pg1513.txt        2      4    476      1  ...        8          1   \n",
       "Q1-Dataset/2160-0.txt       56     10   5644      1  ...       75          4   \n",
       "Q1-Dataset/pg11.txt          1     17    605      1  ...       14          1   \n",
       "Q1-Dataset/pg2600.txt       80     86  14860      1  ...      352         24   \n",
       "Q1-Dataset/pg345.txt         1     28   3681      1  ...      205          6   \n",
       "Q1-Dataset/pg64317.txt      12      4   1208      1  ...       60          4   \n",
       "Q1-Dataset/pg70815.txt       1      6   3086      1  ...      103          2   \n",
       "Q1-Dataset/1080-0.txt        2      1    241      1  ...        4          1   \n",
       "Q1-Dataset/pg70817.txt       3      1    748      1  ...       39          2   \n",
       "Q1-Dataset/pg1998.txt        1     17   2825      1  ...       70          2   \n",
       "\n",
       "                        1500  damaged  talk  party  receive  given  change.  \\\n",
       "Q1-Dataset/pg1513.txt      1        1     9      1        2      1        1   \n",
       "Q1-Dataset/2160-0.txt      1        4    10      9       19     54        2   \n",
       "Q1-Dataset/pg11.txt        1        1    10      8        2      2        1   \n",
       "Q1-Dataset/pg2600.txt      1        2   199     45       40    166        7   \n",
       "Q1-Dataset/pg345.txt       1        1    29      8        5     39        7   \n",
       "Q1-Dataset/pg64317.txt     1        1    11     13        2      8        2   \n",
       "Q1-Dataset/pg70815.txt     1        1     4     24        5     15        1   \n",
       "Q1-Dataset/1080-0.txt      1        1     2      1        2      1        1   \n",
       "Q1-Dataset/pg70817.txt     1        2     1      7        2      4        1   \n",
       "Q1-Dataset/pg1998.txt      1        1    22      1        5     36        2   \n",
       "\n",
       "                        Vanilla  \n",
       "Q1-Dataset/pg1513.txt         2  \n",
       "Q1-Dataset/2160-0.txt         2  \n",
       "Q1-Dataset/pg11.txt           2  \n",
       "Q1-Dataset/pg2600.txt         2  \n",
       "Q1-Dataset/pg345.txt          2  \n",
       "Q1-Dataset/pg64317.txt        2  \n",
       "Q1-Dataset/pg70815.txt        2  \n",
       "Q1-Dataset/1080-0.txt         2  \n",
       "Q1-Dataset/pg70817.txt        2  \n",
       "Q1-Dataset/pg1998.txt         2  \n",
       "\n",
       "[10 rows x 1041 columns]"
      ]
     },
     "execution_count": 84,
     "metadata": {},
     "output_type": "execute_result"
    }
   ],
   "source": [
    "print('Frequencies of the words in tabuler format')\n",
    "pd.DataFrame.from_dict(common_words_frequency_dict, orient = 'columns')"
   ]
  },
  {
   "cell_type": "code",
   "execution_count": 85,
   "metadata": {
    "id": "t-wkryhQxqkC"
   },
   "outputs": [],
   "source": [
    "spark_context.stop()"
   ]
  },
  {
   "cell_type": "markdown",
   "metadata": {
    "id": "JwJakxK2zKJ7"
   },
   "source": [
    "# Conclusion of Question 2: \n",
    "#### There are 1041 common words available and there correspon ding frequency of occurance in different files are displayed in tabuler format."
   ]
  },
  {
   "cell_type": "markdown",
   "metadata": {
    "id": "dZXBV49fvEmU"
   },
   "source": [
    "# Question: 03\n",
    "\n",
    "Perform an exploratory data analysis on the primary_data.csv of the Mushroom dataset [Secondary Mushroom Dataset](https://archive.ics.uci.edu/ml/datasets/Secondary+Mushroom+Dataset) using pandas and answer the following questions:\n",
    "  - How many mushrooms are poisonous?\n",
    "  - Which family contains most poisonous mushrooms?\n",
    "  - Do all poisonous mushrooms have a ring?\n",
    "  - Which seasons do poisonous mushrooms grow typically?"
   ]
  },
  {
   "cell_type": "markdown",
   "metadata": {
    "id": "dBGIFsUpvEmU"
   },
   "source": [
    "## Answer: 03"
   ]
  },
  {
   "cell_type": "markdown",
   "metadata": {
    "id": "7AAJ78UavEmU"
   },
   "source": [
    "#### Importing Libraries"
   ]
  },
  {
   "cell_type": "code",
   "execution_count": 86,
   "metadata": {
    "id": "c9_XiGanvEmU"
   },
   "outputs": [],
   "source": [
    "import numpy as np\n",
    "import pandas as pd\n",
    "import matplotlib.pyplot as plt\n",
    "import seaborn as sns\n",
    "import os"
   ]
  },
  {
   "cell_type": "markdown",
   "metadata": {
    "id": "j0asaLAyvEmU"
   },
   "source": [
    "#### Common Variables"
   ]
  },
  {
   "cell_type": "code",
   "execution_count": 87,
   "metadata": {
    "id": "J7-aeHGyvEmU"
   },
   "outputs": [],
   "source": [
    "working_dir_path = '/content/sample_data/Assignment 1/Q3-Dataset/MushroomDataset'#'C:/Users/Admin/Coding-M-Tech/AI Lab 2 - ID5003W/Assignment 1/Q3-Dataset/MushroomDataset'\n",
    "primaryFileName = 'primary_data.csv'"
   ]
  },
  {
   "cell_type": "markdown",
   "metadata": {
    "id": "haB6LrykvEmU"
   },
   "source": [
    "#### Change the folder location "
   ]
  },
  {
   "cell_type": "code",
   "execution_count": 88,
   "metadata": {
    "id": "PwH32Z5HvEmV"
   },
   "outputs": [],
   "source": [
    "os.chdir(working_dir_path)"
   ]
  },
  {
   "cell_type": "markdown",
   "metadata": {
    "id": "JeCmkaK4vEmV"
   },
   "source": [
    "#### Loading primary data"
   ]
  },
  {
   "cell_type": "code",
   "execution_count": 89,
   "metadata": {
    "id": "ZRXEXS4ovEmV"
   },
   "outputs": [],
   "source": [
    "df_primary_data = pd.read_csv(primaryFileName,sep=';')"
   ]
  },
  {
   "cell_type": "code",
   "execution_count": 90,
   "metadata": {
    "colab": {
     "base_uri": "https://localhost:8080/",
     "height": 711
    },
    "id": "-N3phpkmvEmV",
    "outputId": "14e559c8-5e65-46fe-e503-857d18538904"
   },
   "outputs": [
    {
     "data": {
      "text/html": [
       "\n",
       "  <div id=\"df-80b41c0d-ec7a-4669-800b-3d71b2511698\">\n",
       "    <div class=\"colab-df-container\">\n",
       "      <div>\n",
       "<style scoped>\n",
       "    .dataframe tbody tr th:only-of-type {\n",
       "        vertical-align: middle;\n",
       "    }\n",
       "\n",
       "    .dataframe tbody tr th {\n",
       "        vertical-align: top;\n",
       "    }\n",
       "\n",
       "    .dataframe thead th {\n",
       "        text-align: right;\n",
       "    }\n",
       "</style>\n",
       "<table border=\"1\" class=\"dataframe\">\n",
       "  <thead>\n",
       "    <tr style=\"text-align: right;\">\n",
       "      <th></th>\n",
       "      <th>family</th>\n",
       "      <th>name</th>\n",
       "      <th>class</th>\n",
       "      <th>cap-diameter</th>\n",
       "      <th>cap-shape</th>\n",
       "      <th>Cap-surface</th>\n",
       "      <th>cap-color</th>\n",
       "      <th>does-bruise-or-bleed</th>\n",
       "      <th>gill-attachment</th>\n",
       "      <th>gill-spacing</th>\n",
       "      <th>...</th>\n",
       "      <th>stem-root</th>\n",
       "      <th>stem-surface</th>\n",
       "      <th>stem-color</th>\n",
       "      <th>veil-type</th>\n",
       "      <th>veil-color</th>\n",
       "      <th>has-ring</th>\n",
       "      <th>ring-type</th>\n",
       "      <th>Spore-print-color</th>\n",
       "      <th>habitat</th>\n",
       "      <th>season</th>\n",
       "    </tr>\n",
       "  </thead>\n",
       "  <tbody>\n",
       "    <tr>\n",
       "      <th>0</th>\n",
       "      <td>Amanita Family</td>\n",
       "      <td>Fly Agaric</td>\n",
       "      <td>p</td>\n",
       "      <td>[10, 20]</td>\n",
       "      <td>[x, f]</td>\n",
       "      <td>[g, h]</td>\n",
       "      <td>[e, o]</td>\n",
       "      <td>[f]</td>\n",
       "      <td>[e]</td>\n",
       "      <td>NaN</td>\n",
       "      <td>...</td>\n",
       "      <td>[s]</td>\n",
       "      <td>[y]</td>\n",
       "      <td>[w]</td>\n",
       "      <td>[u]</td>\n",
       "      <td>[w]</td>\n",
       "      <td>[t]</td>\n",
       "      <td>[g, p]</td>\n",
       "      <td>NaN</td>\n",
       "      <td>[d]</td>\n",
       "      <td>[u, a, w]</td>\n",
       "    </tr>\n",
       "    <tr>\n",
       "      <th>1</th>\n",
       "      <td>Amanita Family</td>\n",
       "      <td>Panther Cap</td>\n",
       "      <td>p</td>\n",
       "      <td>[5, 10]</td>\n",
       "      <td>[p, x]</td>\n",
       "      <td>[g]</td>\n",
       "      <td>[n]</td>\n",
       "      <td>[f]</td>\n",
       "      <td>[e]</td>\n",
       "      <td>NaN</td>\n",
       "      <td>...</td>\n",
       "      <td>NaN</td>\n",
       "      <td>[y]</td>\n",
       "      <td>[w]</td>\n",
       "      <td>[u]</td>\n",
       "      <td>[w]</td>\n",
       "      <td>[t]</td>\n",
       "      <td>[p]</td>\n",
       "      <td>NaN</td>\n",
       "      <td>[d]</td>\n",
       "      <td>[u, a]</td>\n",
       "    </tr>\n",
       "    <tr>\n",
       "      <th>2</th>\n",
       "      <td>Amanita Family</td>\n",
       "      <td>False Panther Cap</td>\n",
       "      <td>p</td>\n",
       "      <td>[10, 15]</td>\n",
       "      <td>[x, f]</td>\n",
       "      <td>NaN</td>\n",
       "      <td>[g, n]</td>\n",
       "      <td>[f]</td>\n",
       "      <td>[e]</td>\n",
       "      <td>NaN</td>\n",
       "      <td>...</td>\n",
       "      <td>NaN</td>\n",
       "      <td>NaN</td>\n",
       "      <td>[w]</td>\n",
       "      <td>[u]</td>\n",
       "      <td>[w]</td>\n",
       "      <td>[t]</td>\n",
       "      <td>[e, g]</td>\n",
       "      <td>NaN</td>\n",
       "      <td>[d]</td>\n",
       "      <td>[u, a]</td>\n",
       "    </tr>\n",
       "    <tr>\n",
       "      <th>3</th>\n",
       "      <td>Amanita Family</td>\n",
       "      <td>The Blusher</td>\n",
       "      <td>e</td>\n",
       "      <td>[5, 15]</td>\n",
       "      <td>[x, f]</td>\n",
       "      <td>NaN</td>\n",
       "      <td>[n]</td>\n",
       "      <td>[t]</td>\n",
       "      <td>NaN</td>\n",
       "      <td>NaN</td>\n",
       "      <td>...</td>\n",
       "      <td>[b]</td>\n",
       "      <td>NaN</td>\n",
       "      <td>[w]</td>\n",
       "      <td>[u]</td>\n",
       "      <td>[w]</td>\n",
       "      <td>[t]</td>\n",
       "      <td>[g]</td>\n",
       "      <td>NaN</td>\n",
       "      <td>[d]</td>\n",
       "      <td>[u, a]</td>\n",
       "    </tr>\n",
       "    <tr>\n",
       "      <th>4</th>\n",
       "      <td>Amanita Family</td>\n",
       "      <td>Death Cap</td>\n",
       "      <td>p</td>\n",
       "      <td>[5, 12]</td>\n",
       "      <td>[x, f]</td>\n",
       "      <td>[h]</td>\n",
       "      <td>[r]</td>\n",
       "      <td>[f]</td>\n",
       "      <td>NaN</td>\n",
       "      <td>[c]</td>\n",
       "      <td>...</td>\n",
       "      <td>NaN</td>\n",
       "      <td>NaN</td>\n",
       "      <td>[w]</td>\n",
       "      <td>[u]</td>\n",
       "      <td>[w]</td>\n",
       "      <td>[t]</td>\n",
       "      <td>[g, p]</td>\n",
       "      <td>NaN</td>\n",
       "      <td>[d]</td>\n",
       "      <td>[u, a]</td>\n",
       "    </tr>\n",
       "    <tr>\n",
       "      <th>...</th>\n",
       "      <td>...</td>\n",
       "      <td>...</td>\n",
       "      <td>...</td>\n",
       "      <td>...</td>\n",
       "      <td>...</td>\n",
       "      <td>...</td>\n",
       "      <td>...</td>\n",
       "      <td>...</td>\n",
       "      <td>...</td>\n",
       "      <td>...</td>\n",
       "      <td>...</td>\n",
       "      <td>...</td>\n",
       "      <td>...</td>\n",
       "      <td>...</td>\n",
       "      <td>...</td>\n",
       "      <td>...</td>\n",
       "      <td>...</td>\n",
       "      <td>...</td>\n",
       "      <td>...</td>\n",
       "      <td>...</td>\n",
       "      <td>...</td>\n",
       "    </tr>\n",
       "    <tr>\n",
       "      <th>168</th>\n",
       "      <td>Saddle-Cup Family</td>\n",
       "      <td>White Saddle</td>\n",
       "      <td>p</td>\n",
       "      <td>[2, 6]</td>\n",
       "      <td>[o]</td>\n",
       "      <td>NaN</td>\n",
       "      <td>[w]</td>\n",
       "      <td>[f]</td>\n",
       "      <td>[f]</td>\n",
       "      <td>[f]</td>\n",
       "      <td>...</td>\n",
       "      <td>NaN</td>\n",
       "      <td>[g]</td>\n",
       "      <td>[w]</td>\n",
       "      <td>NaN</td>\n",
       "      <td>NaN</td>\n",
       "      <td>[t]</td>\n",
       "      <td>[f]</td>\n",
       "      <td>NaN</td>\n",
       "      <td>[p, d]</td>\n",
       "      <td>[u, a]</td>\n",
       "    </tr>\n",
       "    <tr>\n",
       "      <th>169</th>\n",
       "      <td>Bracket Fungi</td>\n",
       "      <td>Elfin's Saddle</td>\n",
       "      <td>p</td>\n",
       "      <td>[2, 4]</td>\n",
       "      <td>[o]</td>\n",
       "      <td>NaN</td>\n",
       "      <td>[g, k]</td>\n",
       "      <td>[f]</td>\n",
       "      <td>[f]</td>\n",
       "      <td>[f]</td>\n",
       "      <td>...</td>\n",
       "      <td>NaN</td>\n",
       "      <td>[g]</td>\n",
       "      <td>[g, n]</td>\n",
       "      <td>NaN</td>\n",
       "      <td>NaN</td>\n",
       "      <td>[f]</td>\n",
       "      <td>[f]</td>\n",
       "      <td>NaN</td>\n",
       "      <td>[d]</td>\n",
       "      <td>[u, a]</td>\n",
       "    </tr>\n",
       "    <tr>\n",
       "      <th>170</th>\n",
       "      <td>Bracket Fungi</td>\n",
       "      <td>Turban Fungus</td>\n",
       "      <td>p</td>\n",
       "      <td>[5, 15]</td>\n",
       "      <td>[o]</td>\n",
       "      <td>NaN</td>\n",
       "      <td>[n, e]</td>\n",
       "      <td>[f]</td>\n",
       "      <td>[f]</td>\n",
       "      <td>[f]</td>\n",
       "      <td>...</td>\n",
       "      <td>NaN</td>\n",
       "      <td>[g]</td>\n",
       "      <td>[n]</td>\n",
       "      <td>NaN</td>\n",
       "      <td>NaN</td>\n",
       "      <td>[f]</td>\n",
       "      <td>[f]</td>\n",
       "      <td>NaN</td>\n",
       "      <td>[d]</td>\n",
       "      <td>[s, u]</td>\n",
       "    </tr>\n",
       "    <tr>\n",
       "      <th>171</th>\n",
       "      <td>Morel Family</td>\n",
       "      <td>Common Morel</td>\n",
       "      <td>e</td>\n",
       "      <td>[3, 8]</td>\n",
       "      <td>[p, c, o]</td>\n",
       "      <td>NaN</td>\n",
       "      <td>[n, g]</td>\n",
       "      <td>[f]</td>\n",
       "      <td>[f]</td>\n",
       "      <td>[f]</td>\n",
       "      <td>...</td>\n",
       "      <td>NaN</td>\n",
       "      <td>NaN</td>\n",
       "      <td>[n]</td>\n",
       "      <td>NaN</td>\n",
       "      <td>NaN</td>\n",
       "      <td>[f]</td>\n",
       "      <td>[f]</td>\n",
       "      <td>NaN</td>\n",
       "      <td>[l, d]</td>\n",
       "      <td>[s]</td>\n",
       "    </tr>\n",
       "    <tr>\n",
       "      <th>172</th>\n",
       "      <td>Jelly Discs Family</td>\n",
       "      <td>Jelly Babies</td>\n",
       "      <td>p</td>\n",
       "      <td>[1, 1.5]</td>\n",
       "      <td>[x, f, s]</td>\n",
       "      <td>[s]</td>\n",
       "      <td>[y]</td>\n",
       "      <td>[f]</td>\n",
       "      <td>[f]</td>\n",
       "      <td>[f]</td>\n",
       "      <td>...</td>\n",
       "      <td>NaN</td>\n",
       "      <td>NaN</td>\n",
       "      <td>[y]</td>\n",
       "      <td>NaN</td>\n",
       "      <td>NaN</td>\n",
       "      <td>[f]</td>\n",
       "      <td>[f]</td>\n",
       "      <td>NaN</td>\n",
       "      <td>[d]</td>\n",
       "      <td>[u, a]</td>\n",
       "    </tr>\n",
       "  </tbody>\n",
       "</table>\n",
       "<p>173 rows × 23 columns</p>\n",
       "</div>\n",
       "      <button class=\"colab-df-convert\" onclick=\"convertToInteractive('df-80b41c0d-ec7a-4669-800b-3d71b2511698')\"\n",
       "              title=\"Convert this dataframe to an interactive table.\"\n",
       "              style=\"display:none;\">\n",
       "        \n",
       "  <svg xmlns=\"http://www.w3.org/2000/svg\" height=\"24px\"viewBox=\"0 0 24 24\"\n",
       "       width=\"24px\">\n",
       "    <path d=\"M0 0h24v24H0V0z\" fill=\"none\"/>\n",
       "    <path d=\"M18.56 5.44l.94 2.06.94-2.06 2.06-.94-2.06-.94-.94-2.06-.94 2.06-2.06.94zm-11 1L8.5 8.5l.94-2.06 2.06-.94-2.06-.94L8.5 2.5l-.94 2.06-2.06.94zm10 10l.94 2.06.94-2.06 2.06-.94-2.06-.94-.94-2.06-.94 2.06-2.06.94z\"/><path d=\"M17.41 7.96l-1.37-1.37c-.4-.4-.92-.59-1.43-.59-.52 0-1.04.2-1.43.59L10.3 9.45l-7.72 7.72c-.78.78-.78 2.05 0 2.83L4 21.41c.39.39.9.59 1.41.59.51 0 1.02-.2 1.41-.59l7.78-7.78 2.81-2.81c.8-.78.8-2.07 0-2.86zM5.41 20L4 18.59l7.72-7.72 1.47 1.35L5.41 20z\"/>\n",
       "  </svg>\n",
       "      </button>\n",
       "      \n",
       "  <style>\n",
       "    .colab-df-container {\n",
       "      display:flex;\n",
       "      flex-wrap:wrap;\n",
       "      gap: 12px;\n",
       "    }\n",
       "\n",
       "    .colab-df-convert {\n",
       "      background-color: #E8F0FE;\n",
       "      border: none;\n",
       "      border-radius: 50%;\n",
       "      cursor: pointer;\n",
       "      display: none;\n",
       "      fill: #1967D2;\n",
       "      height: 32px;\n",
       "      padding: 0 0 0 0;\n",
       "      width: 32px;\n",
       "    }\n",
       "\n",
       "    .colab-df-convert:hover {\n",
       "      background-color: #E2EBFA;\n",
       "      box-shadow: 0px 1px 2px rgba(60, 64, 67, 0.3), 0px 1px 3px 1px rgba(60, 64, 67, 0.15);\n",
       "      fill: #174EA6;\n",
       "    }\n",
       "\n",
       "    [theme=dark] .colab-df-convert {\n",
       "      background-color: #3B4455;\n",
       "      fill: #D2E3FC;\n",
       "    }\n",
       "\n",
       "    [theme=dark] .colab-df-convert:hover {\n",
       "      background-color: #434B5C;\n",
       "      box-shadow: 0px 1px 3px 1px rgba(0, 0, 0, 0.15);\n",
       "      filter: drop-shadow(0px 1px 2px rgba(0, 0, 0, 0.3));\n",
       "      fill: #FFFFFF;\n",
       "    }\n",
       "  </style>\n",
       "\n",
       "      <script>\n",
       "        const buttonEl =\n",
       "          document.querySelector('#df-80b41c0d-ec7a-4669-800b-3d71b2511698 button.colab-df-convert');\n",
       "        buttonEl.style.display =\n",
       "          google.colab.kernel.accessAllowed ? 'block' : 'none';\n",
       "\n",
       "        async function convertToInteractive(key) {\n",
       "          const element = document.querySelector('#df-80b41c0d-ec7a-4669-800b-3d71b2511698');\n",
       "          const dataTable =\n",
       "            await google.colab.kernel.invokeFunction('convertToInteractive',\n",
       "                                                     [key], {});\n",
       "          if (!dataTable) return;\n",
       "\n",
       "          const docLinkHtml = 'Like what you see? Visit the ' +\n",
       "            '<a target=\"_blank\" href=https://colab.research.google.com/notebooks/data_table.ipynb>data table notebook</a>'\n",
       "            + ' to learn more about interactive tables.';\n",
       "          element.innerHTML = '';\n",
       "          dataTable['output_type'] = 'display_data';\n",
       "          await google.colab.output.renderOutput(dataTable, element);\n",
       "          const docLink = document.createElement('div');\n",
       "          docLink.innerHTML = docLinkHtml;\n",
       "          element.appendChild(docLink);\n",
       "        }\n",
       "      </script>\n",
       "    </div>\n",
       "  </div>\n",
       "  "
      ],
      "text/plain": [
       "                 family               name class cap-diameter  cap-shape  \\\n",
       "0        Amanita Family         Fly Agaric     p     [10, 20]     [x, f]   \n",
       "1        Amanita Family        Panther Cap     p      [5, 10]     [p, x]   \n",
       "2        Amanita Family  False Panther Cap     p     [10, 15]     [x, f]   \n",
       "3        Amanita Family        The Blusher     e      [5, 15]     [x, f]   \n",
       "4        Amanita Family          Death Cap     p      [5, 12]     [x, f]   \n",
       "..                  ...                ...   ...          ...        ...   \n",
       "168   Saddle-Cup Family       White Saddle     p       [2, 6]        [o]   \n",
       "169       Bracket Fungi     Elfin's Saddle     p       [2, 4]        [o]   \n",
       "170       Bracket Fungi      Turban Fungus     p      [5, 15]        [o]   \n",
       "171        Morel Family       Common Morel     e       [3, 8]  [p, c, o]   \n",
       "172  Jelly Discs Family       Jelly Babies     p     [1, 1.5]  [x, f, s]   \n",
       "\n",
       "    Cap-surface cap-color does-bruise-or-bleed gill-attachment gill-spacing  \\\n",
       "0        [g, h]    [e, o]                  [f]             [e]          NaN   \n",
       "1           [g]       [n]                  [f]             [e]          NaN   \n",
       "2           NaN    [g, n]                  [f]             [e]          NaN   \n",
       "3           NaN       [n]                  [t]             NaN          NaN   \n",
       "4           [h]       [r]                  [f]             NaN          [c]   \n",
       "..          ...       ...                  ...             ...          ...   \n",
       "168         NaN       [w]                  [f]             [f]          [f]   \n",
       "169         NaN    [g, k]                  [f]             [f]          [f]   \n",
       "170         NaN    [n, e]                  [f]             [f]          [f]   \n",
       "171         NaN    [n, g]                  [f]             [f]          [f]   \n",
       "172         [s]       [y]                  [f]             [f]          [f]   \n",
       "\n",
       "     ... stem-root stem-surface stem-color veil-type veil-color has-ring  \\\n",
       "0    ...       [s]          [y]        [w]       [u]        [w]      [t]   \n",
       "1    ...       NaN          [y]        [w]       [u]        [w]      [t]   \n",
       "2    ...       NaN          NaN        [w]       [u]        [w]      [t]   \n",
       "3    ...       [b]          NaN        [w]       [u]        [w]      [t]   \n",
       "4    ...       NaN          NaN        [w]       [u]        [w]      [t]   \n",
       "..   ...       ...          ...        ...       ...        ...      ...   \n",
       "168  ...       NaN          [g]        [w]       NaN        NaN      [t]   \n",
       "169  ...       NaN          [g]     [g, n]       NaN        NaN      [f]   \n",
       "170  ...       NaN          [g]        [n]       NaN        NaN      [f]   \n",
       "171  ...       NaN          NaN        [n]       NaN        NaN      [f]   \n",
       "172  ...       NaN          NaN        [y]       NaN        NaN      [f]   \n",
       "\n",
       "    ring-type Spore-print-color habitat     season  \n",
       "0      [g, p]               NaN     [d]  [u, a, w]  \n",
       "1         [p]               NaN     [d]     [u, a]  \n",
       "2      [e, g]               NaN     [d]     [u, a]  \n",
       "3         [g]               NaN     [d]     [u, a]  \n",
       "4      [g, p]               NaN     [d]     [u, a]  \n",
       "..        ...               ...     ...        ...  \n",
       "168       [f]               NaN  [p, d]     [u, a]  \n",
       "169       [f]               NaN     [d]     [u, a]  \n",
       "170       [f]               NaN     [d]     [s, u]  \n",
       "171       [f]               NaN  [l, d]        [s]  \n",
       "172       [f]               NaN     [d]     [u, a]  \n",
       "\n",
       "[173 rows x 23 columns]"
      ]
     },
     "execution_count": 90,
     "metadata": {},
     "output_type": "execute_result"
    }
   ],
   "source": [
    "df_primary_data"
   ]
  },
  {
   "cell_type": "markdown",
   "metadata": {
    "id": "MAha1JQAvEmV"
   },
   "source": [
    "#### Perform basic statistical analysis and missing value check"
   ]
  },
  {
   "cell_type": "code",
   "execution_count": 91,
   "metadata": {
    "colab": {
     "base_uri": "https://localhost:8080/",
     "height": 300
    },
    "id": "8yo68r2UvEmV",
    "outputId": "873dafc9-0afa-45ed-c65f-4044d36595f2"
   },
   "outputs": [
    {
     "data": {
      "text/html": [
       "\n",
       "  <div id=\"df-3a07eb9b-5e7c-4115-b7b6-851a4766d6c5\">\n",
       "    <div class=\"colab-df-container\">\n",
       "      <div>\n",
       "<style scoped>\n",
       "    .dataframe tbody tr th:only-of-type {\n",
       "        vertical-align: middle;\n",
       "    }\n",
       "\n",
       "    .dataframe tbody tr th {\n",
       "        vertical-align: top;\n",
       "    }\n",
       "\n",
       "    .dataframe thead th {\n",
       "        text-align: right;\n",
       "    }\n",
       "</style>\n",
       "<table border=\"1\" class=\"dataframe\">\n",
       "  <thead>\n",
       "    <tr style=\"text-align: right;\">\n",
       "      <th></th>\n",
       "      <th>family</th>\n",
       "      <th>name</th>\n",
       "      <th>class</th>\n",
       "      <th>cap-diameter</th>\n",
       "      <th>cap-shape</th>\n",
       "      <th>Cap-surface</th>\n",
       "      <th>cap-color</th>\n",
       "      <th>does-bruise-or-bleed</th>\n",
       "      <th>gill-attachment</th>\n",
       "      <th>gill-spacing</th>\n",
       "      <th>...</th>\n",
       "      <th>stem-root</th>\n",
       "      <th>stem-surface</th>\n",
       "      <th>stem-color</th>\n",
       "      <th>veil-type</th>\n",
       "      <th>veil-color</th>\n",
       "      <th>has-ring</th>\n",
       "      <th>ring-type</th>\n",
       "      <th>Spore-print-color</th>\n",
       "      <th>habitat</th>\n",
       "      <th>season</th>\n",
       "    </tr>\n",
       "  </thead>\n",
       "  <tbody>\n",
       "    <tr>\n",
       "      <th>count</th>\n",
       "      <td>173</td>\n",
       "      <td>173</td>\n",
       "      <td>173</td>\n",
       "      <td>173</td>\n",
       "      <td>173</td>\n",
       "      <td>133</td>\n",
       "      <td>173</td>\n",
       "      <td>173</td>\n",
       "      <td>145</td>\n",
       "      <td>102</td>\n",
       "      <td>...</td>\n",
       "      <td>27</td>\n",
       "      <td>65</td>\n",
       "      <td>173</td>\n",
       "      <td>9</td>\n",
       "      <td>21</td>\n",
       "      <td>173</td>\n",
       "      <td>166</td>\n",
       "      <td>18</td>\n",
       "      <td>173</td>\n",
       "      <td>173</td>\n",
       "    </tr>\n",
       "    <tr>\n",
       "      <th>unique</th>\n",
       "      <td>23</td>\n",
       "      <td>173</td>\n",
       "      <td>2</td>\n",
       "      <td>51</td>\n",
       "      <td>27</td>\n",
       "      <td>40</td>\n",
       "      <td>67</td>\n",
       "      <td>2</td>\n",
       "      <td>8</td>\n",
       "      <td>3</td>\n",
       "      <td>...</td>\n",
       "      <td>5</td>\n",
       "      <td>14</td>\n",
       "      <td>41</td>\n",
       "      <td>1</td>\n",
       "      <td>7</td>\n",
       "      <td>2</td>\n",
       "      <td>13</td>\n",
       "      <td>8</td>\n",
       "      <td>21</td>\n",
       "      <td>10</td>\n",
       "    </tr>\n",
       "    <tr>\n",
       "      <th>top</th>\n",
       "      <td>Tricholoma Family</td>\n",
       "      <td>Fly Agaric</td>\n",
       "      <td>p</td>\n",
       "      <td>[2, 5]</td>\n",
       "      <td>[x]</td>\n",
       "      <td>[y]</td>\n",
       "      <td>[n]</td>\n",
       "      <td>[f]</td>\n",
       "      <td>[a]</td>\n",
       "      <td>[c]</td>\n",
       "      <td>...</td>\n",
       "      <td>[s]</td>\n",
       "      <td>[s]</td>\n",
       "      <td>[w]</td>\n",
       "      <td>[u]</td>\n",
       "      <td>[w]</td>\n",
       "      <td>[f]</td>\n",
       "      <td>[f]</td>\n",
       "      <td>[k]</td>\n",
       "      <td>[d]</td>\n",
       "      <td>[u, a]</td>\n",
       "    </tr>\n",
       "    <tr>\n",
       "      <th>freq</th>\n",
       "      <td>43</td>\n",
       "      <td>1</td>\n",
       "      <td>96</td>\n",
       "      <td>16</td>\n",
       "      <td>48</td>\n",
       "      <td>14</td>\n",
       "      <td>38</td>\n",
       "      <td>143</td>\n",
       "      <td>32</td>\n",
       "      <td>70</td>\n",
       "      <td>...</td>\n",
       "      <td>9</td>\n",
       "      <td>15</td>\n",
       "      <td>57</td>\n",
       "      <td>9</td>\n",
       "      <td>15</td>\n",
       "      <td>130</td>\n",
       "      <td>137</td>\n",
       "      <td>5</td>\n",
       "      <td>104</td>\n",
       "      <td>106</td>\n",
       "    </tr>\n",
       "  </tbody>\n",
       "</table>\n",
       "<p>4 rows × 23 columns</p>\n",
       "</div>\n",
       "      <button class=\"colab-df-convert\" onclick=\"convertToInteractive('df-3a07eb9b-5e7c-4115-b7b6-851a4766d6c5')\"\n",
       "              title=\"Convert this dataframe to an interactive table.\"\n",
       "              style=\"display:none;\">\n",
       "        \n",
       "  <svg xmlns=\"http://www.w3.org/2000/svg\" height=\"24px\"viewBox=\"0 0 24 24\"\n",
       "       width=\"24px\">\n",
       "    <path d=\"M0 0h24v24H0V0z\" fill=\"none\"/>\n",
       "    <path d=\"M18.56 5.44l.94 2.06.94-2.06 2.06-.94-2.06-.94-.94-2.06-.94 2.06-2.06.94zm-11 1L8.5 8.5l.94-2.06 2.06-.94-2.06-.94L8.5 2.5l-.94 2.06-2.06.94zm10 10l.94 2.06.94-2.06 2.06-.94-2.06-.94-.94-2.06-.94 2.06-2.06.94z\"/><path d=\"M17.41 7.96l-1.37-1.37c-.4-.4-.92-.59-1.43-.59-.52 0-1.04.2-1.43.59L10.3 9.45l-7.72 7.72c-.78.78-.78 2.05 0 2.83L4 21.41c.39.39.9.59 1.41.59.51 0 1.02-.2 1.41-.59l7.78-7.78 2.81-2.81c.8-.78.8-2.07 0-2.86zM5.41 20L4 18.59l7.72-7.72 1.47 1.35L5.41 20z\"/>\n",
       "  </svg>\n",
       "      </button>\n",
       "      \n",
       "  <style>\n",
       "    .colab-df-container {\n",
       "      display:flex;\n",
       "      flex-wrap:wrap;\n",
       "      gap: 12px;\n",
       "    }\n",
       "\n",
       "    .colab-df-convert {\n",
       "      background-color: #E8F0FE;\n",
       "      border: none;\n",
       "      border-radius: 50%;\n",
       "      cursor: pointer;\n",
       "      display: none;\n",
       "      fill: #1967D2;\n",
       "      height: 32px;\n",
       "      padding: 0 0 0 0;\n",
       "      width: 32px;\n",
       "    }\n",
       "\n",
       "    .colab-df-convert:hover {\n",
       "      background-color: #E2EBFA;\n",
       "      box-shadow: 0px 1px 2px rgba(60, 64, 67, 0.3), 0px 1px 3px 1px rgba(60, 64, 67, 0.15);\n",
       "      fill: #174EA6;\n",
       "    }\n",
       "\n",
       "    [theme=dark] .colab-df-convert {\n",
       "      background-color: #3B4455;\n",
       "      fill: #D2E3FC;\n",
       "    }\n",
       "\n",
       "    [theme=dark] .colab-df-convert:hover {\n",
       "      background-color: #434B5C;\n",
       "      box-shadow: 0px 1px 3px 1px rgba(0, 0, 0, 0.15);\n",
       "      filter: drop-shadow(0px 1px 2px rgba(0, 0, 0, 0.3));\n",
       "      fill: #FFFFFF;\n",
       "    }\n",
       "  </style>\n",
       "\n",
       "      <script>\n",
       "        const buttonEl =\n",
       "          document.querySelector('#df-3a07eb9b-5e7c-4115-b7b6-851a4766d6c5 button.colab-df-convert');\n",
       "        buttonEl.style.display =\n",
       "          google.colab.kernel.accessAllowed ? 'block' : 'none';\n",
       "\n",
       "        async function convertToInteractive(key) {\n",
       "          const element = document.querySelector('#df-3a07eb9b-5e7c-4115-b7b6-851a4766d6c5');\n",
       "          const dataTable =\n",
       "            await google.colab.kernel.invokeFunction('convertToInteractive',\n",
       "                                                     [key], {});\n",
       "          if (!dataTable) return;\n",
       "\n",
       "          const docLinkHtml = 'Like what you see? Visit the ' +\n",
       "            '<a target=\"_blank\" href=https://colab.research.google.com/notebooks/data_table.ipynb>data table notebook</a>'\n",
       "            + ' to learn more about interactive tables.';\n",
       "          element.innerHTML = '';\n",
       "          dataTable['output_type'] = 'display_data';\n",
       "          await google.colab.output.renderOutput(dataTable, element);\n",
       "          const docLink = document.createElement('div');\n",
       "          docLink.innerHTML = docLinkHtml;\n",
       "          element.appendChild(docLink);\n",
       "        }\n",
       "      </script>\n",
       "    </div>\n",
       "  </div>\n",
       "  "
      ],
      "text/plain": [
       "                   family        name class cap-diameter cap-shape  \\\n",
       "count                 173         173   173          173       173   \n",
       "unique                 23         173     2           51        27   \n",
       "top     Tricholoma Family  Fly Agaric     p       [2, 5]       [x]   \n",
       "freq                   43           1    96           16        48   \n",
       "\n",
       "       Cap-surface cap-color does-bruise-or-bleed gill-attachment  \\\n",
       "count          133       173                  173             145   \n",
       "unique          40        67                    2               8   \n",
       "top            [y]       [n]                  [f]             [a]   \n",
       "freq            14        38                  143              32   \n",
       "\n",
       "       gill-spacing  ... stem-root stem-surface stem-color veil-type  \\\n",
       "count           102  ...        27           65        173         9   \n",
       "unique            3  ...         5           14         41         1   \n",
       "top             [c]  ...       [s]          [s]        [w]       [u]   \n",
       "freq             70  ...         9           15         57         9   \n",
       "\n",
       "       veil-color has-ring ring-type Spore-print-color habitat  season  \n",
       "count          21      173       166                18     173     173  \n",
       "unique          7        2        13                 8      21      10  \n",
       "top           [w]      [f]       [f]               [k]     [d]  [u, a]  \n",
       "freq           15      130       137                 5     104     106  \n",
       "\n",
       "[4 rows x 23 columns]"
      ]
     },
     "execution_count": 91,
     "metadata": {},
     "output_type": "execute_result"
    }
   ],
   "source": [
    "df_primary_data.describe(include='object')"
   ]
  },
  {
   "cell_type": "code",
   "execution_count": 92,
   "metadata": {
    "colab": {
     "base_uri": "https://localhost:8080/"
    },
    "id": "THPa79J4vEmW",
    "outputId": "39ad41df-5972-4d11-c54f-6fc48c5ae28a"
   },
   "outputs": [
    {
     "name": "stdout",
     "output_type": "stream",
     "text": [
      "<class 'pandas.core.frame.DataFrame'>\n",
      "RangeIndex: 173 entries, 0 to 172\n",
      "Data columns (total 23 columns):\n",
      " #   Column                Non-Null Count  Dtype \n",
      "---  ------                --------------  ----- \n",
      " 0   family                173 non-null    object\n",
      " 1   name                  173 non-null    object\n",
      " 2   class                 173 non-null    object\n",
      " 3   cap-diameter          173 non-null    object\n",
      " 4   cap-shape             173 non-null    object\n",
      " 5   Cap-surface           133 non-null    object\n",
      " 6   cap-color             173 non-null    object\n",
      " 7   does-bruise-or-bleed  173 non-null    object\n",
      " 8   gill-attachment       145 non-null    object\n",
      " 9   gill-spacing          102 non-null    object\n",
      " 10  gill-color            173 non-null    object\n",
      " 11  stem-height           173 non-null    object\n",
      " 12  stem-width            173 non-null    object\n",
      " 13  stem-root             27 non-null     object\n",
      " 14  stem-surface          65 non-null     object\n",
      " 15  stem-color            173 non-null    object\n",
      " 16  veil-type             9 non-null      object\n",
      " 17  veil-color            21 non-null     object\n",
      " 18  has-ring              173 non-null    object\n",
      " 19  ring-type             166 non-null    object\n",
      " 20  Spore-print-color     18 non-null     object\n",
      " 21  habitat               173 non-null    object\n",
      " 22  season                173 non-null    object\n",
      "dtypes: object(23)\n",
      "memory usage: 31.2+ KB\n"
     ]
    }
   ],
   "source": [
    "df_primary_data.info()"
   ]
  },
  {
   "cell_type": "code",
   "execution_count": 93,
   "metadata": {
    "colab": {
     "base_uri": "https://localhost:8080/"
    },
    "id": "MNfz4NAmvEmW",
    "outputId": "793d22e2-2701-4656-e0dd-4f52e0889fc8"
   },
   "outputs": [
    {
     "data": {
      "text/plain": [
       "veil-type               164\n",
       "Spore-print-color       155\n",
       "veil-color              152\n",
       "stem-root               146\n",
       "stem-surface            108\n",
       "gill-spacing             71\n",
       "Cap-surface              40\n",
       "gill-attachment          28\n",
       "ring-type                 7\n",
       "family                    0\n",
       "habitat                   0\n",
       "has-ring                  0\n",
       "stem-color                0\n",
       "stem-height               0\n",
       "stem-width                0\n",
       "name                      0\n",
       "gill-color                0\n",
       "does-bruise-or-bleed      0\n",
       "cap-color                 0\n",
       "cap-shape                 0\n",
       "cap-diameter              0\n",
       "class                     0\n",
       "season                    0\n",
       "dtype: int64"
      ]
     },
     "execution_count": 93,
     "metadata": {},
     "output_type": "execute_result"
    }
   ],
   "source": [
    "df_primary_data.isna().sum().sort_values(ascending=False)"
   ]
  },
  {
   "cell_type": "code",
   "execution_count": 94,
   "metadata": {
    "id": "7Q3nWM90vEmm"
   },
   "outputs": [],
   "source": [
    "poisonous_mushroom = df_primary_data[df_primary_data['class'] == 'p']\n",
    "edible_mushroom = df_primary_data[df_primary_data['class'] == 'e']"
   ]
  },
  {
   "cell_type": "markdown",
   "metadata": {
    "id": "AUvh0jHxvEmm"
   },
   "source": [
    "##### Graphical representation of the distribution of poisonous and edible mushroom"
   ]
  },
  {
   "cell_type": "code",
   "execution_count": 95,
   "metadata": {
    "colab": {
     "base_uri": "https://localhost:8080/",
     "height": 515
    },
    "id": "EobbXrRVvEmm",
    "outputId": "6f96b323-d925-4dee-e965-accd6de682a6",
    "scrolled": false
   },
   "outputs": [
    {
     "name": "stdout",
     "output_type": "stream",
     "text": [
      "==========Distribution of poisonous and edible mushroom============\n"
     ]
    },
    {
     "data": {
      "image/png": "[encoded data removed]",
      "text/plain": [
       "<Figure size 640x480 with 1 Axes>"
      ]
     },
     "metadata": {},
     "output_type": "display_data"
    },
    {
     "data": {
      "text/plain": [
       "p    96\n",
       "e    77\n",
       "Name: class, dtype: int64"
      ]
     },
     "execution_count": 95,
     "metadata": {},
     "output_type": "execute_result"
    }
   ],
   "source": [
    "print('==========Distribution of poisonous and edible mushroom============')\n",
    "mushroom_type_count= df_primary_data['class'].value_counts()  \n",
    "sns.barplot(x=mushroom_type_count.index, y=mushroom_type_count.values,palette='pastel')\n",
    "plt.ylabel('Number of data', fontsize=9)\n",
    "plt.xlabel('class', fontsize=9)\n",
    "plt.xticks(rotation=90)\n",
    "plt.show();\n",
    "df_primary_data['class'].value_counts()"
   ]
  },
  {
   "cell_type": "markdown",
   "metadata": {
    "id": "EGvXSj4hvEmm"
   },
   "source": [
    "### Q. How many mushrooms are poisonous?\n",
    "### A. 96 mushrooms are poisonous and 77 are edible"
   ]
  },
  {
   "cell_type": "markdown",
   "metadata": {
    "id": "Sr63AgM2vEmm"
   },
   "source": [
    "##### Graphical representation of the distribution of poisonous mushroom among different family"
   ]
  },
  {
   "cell_type": "code",
   "execution_count": 96,
   "metadata": {
    "colab": {
     "base_uri": "https://localhost:8080/",
     "height": 980
    },
    "id": "VNlxnaguvEmn",
    "outputId": "93f1f47b-9a32-4089-b077-15fd91c652eb"
   },
   "outputs": [
    {
     "data": {
      "image/png": "[encoded data removed]",
      "text/plain": [
       "<Figure size 640x480 with 1 Axes>"
      ]
     },
     "metadata": {},
     "output_type": "display_data"
    },
    {
     "data": {
      "text/plain": [
       "Tricholoma Family         43\n",
       "Russula Family            27\n",
       "Bolete Family             14\n",
       "Ink Cap Family            13\n",
       "Cortinarius Family        11\n",
       "Stropharia Family          8\n",
       "Amanita Family             8\n",
       "Wax Gill Family            8\n",
       "Entoloma Family            7\n",
       "Bracket Fungi              7\n",
       "Mushroom Family            5\n",
       "Bolbitius Family           3\n",
       "Lepiota Family             3\n",
       "Paxillus Family            3\n",
       "Chanterelle Family         3\n",
       "Pluteus Family             2\n",
       "Oyster Mushroom Family     2\n",
       "Crepidotus Family          1\n",
       "Hydnum Family              1\n",
       "Ear-Pick Family            1\n",
       "Saddle-Cup Family          1\n",
       "Morel Family               1\n",
       "Jelly Discs Family         1\n",
       "Name: family, dtype: int64"
      ]
     },
     "execution_count": 96,
     "metadata": {},
     "output_type": "execute_result"
    }
   ],
   "source": [
    "poisonous_mushroom_type_count= poisonous_mushroom['family'].value_counts()  \n",
    "sns.barplot(x=poisonous_mushroom_type_count.index, y=poisonous_mushroom_type_count.values,palette='pastel')\n",
    "plt.ylabel('Number of data', fontsize=9)\n",
    "plt.xlabel('Family', fontsize=9)\n",
    "plt.xticks(rotation=90)\n",
    "plt.show();\n",
    "df_primary_data['family'].value_counts()"
   ]
  },
  {
   "cell_type": "markdown",
   "metadata": {
    "id": "ZCamM6lZvEmn"
   },
   "source": [
    "### Q. Which family contains most poisonous mushrooms?\n",
    "### A. Tricholoma, mushroom family has highest number of poisonous mushrooms."
   ]
  },
  {
   "cell_type": "markdown",
   "metadata": {
    "id": "MK6ynVFQvEmn"
   },
   "source": [
    "##### Analysis of poisonous mushroom based on its ring characteristics"
   ]
  },
  {
   "cell_type": "code",
   "execution_count": 97,
   "metadata": {
    "colab": {
     "base_uri": "https://localhost:8080/"
    },
    "id": "K8b2yjTXvEmn",
    "outputId": "2f4ac360-de15-4f21-91f8-9711d3520e90"
   },
   "outputs": [
    {
     "data": {
      "text/plain": [
       "array(['[f]', '[t]'], dtype=object)"
      ]
     },
     "execution_count": 97,
     "metadata": {},
     "output_type": "execute_result"
    }
   ],
   "source": [
    "np.unique(poisonous_mushroom['has-ring'])"
   ]
  },
  {
   "cell_type": "markdown",
   "metadata": {
    "id": "Hy7ZaybdvEmn"
   },
   "source": [
    "##### It has been observed that the unique value of mushroom has-ring column is [f] & [t], which clearly indicate that only ring exists among the mushroom which has 'has-ring' column value as [t], so we will filter that out and get the desired result."
   ]
  },
  {
   "cell_type": "code",
   "execution_count": 98,
   "metadata": {
    "id": "FShBHmwXvEmo"
   },
   "outputs": [],
   "source": [
    "ring_poisonous_mushroom = poisonous_mushroom[poisonous_mushroom['has-ring'] != '[t]']"
   ]
  },
  {
   "cell_type": "code",
   "execution_count": 99,
   "metadata": {
    "colab": {
     "base_uri": "https://localhost:8080/",
     "height": 711
    },
    "id": "_7IfqYl2vEmo",
    "outputId": "8b2563cb-d2d8-491c-8fcb-0841a0c090db"
   },
   "outputs": [
    {
     "data": {
      "text/html": [
       "\n",
       "  <div id=\"df-1a99e1b3-233c-4d34-ad96-e05b57d0caf0\">\n",
       "    <div class=\"colab-df-container\">\n",
       "      <div>\n",
       "<style scoped>\n",
       "    .dataframe tbody tr th:only-of-type {\n",
       "        vertical-align: middle;\n",
       "    }\n",
       "\n",
       "    .dataframe tbody tr th {\n",
       "        vertical-align: top;\n",
       "    }\n",
       "\n",
       "    .dataframe thead th {\n",
       "        text-align: right;\n",
       "    }\n",
       "</style>\n",
       "<table border=\"1\" class=\"dataframe\">\n",
       "  <thead>\n",
       "    <tr style=\"text-align: right;\">\n",
       "      <th></th>\n",
       "      <th>family</th>\n",
       "      <th>name</th>\n",
       "      <th>class</th>\n",
       "      <th>cap-diameter</th>\n",
       "      <th>cap-shape</th>\n",
       "      <th>Cap-surface</th>\n",
       "      <th>cap-color</th>\n",
       "      <th>does-bruise-or-bleed</th>\n",
       "      <th>gill-attachment</th>\n",
       "      <th>gill-spacing</th>\n",
       "      <th>...</th>\n",
       "      <th>stem-root</th>\n",
       "      <th>stem-surface</th>\n",
       "      <th>stem-color</th>\n",
       "      <th>veil-type</th>\n",
       "      <th>veil-color</th>\n",
       "      <th>has-ring</th>\n",
       "      <th>ring-type</th>\n",
       "      <th>Spore-print-color</th>\n",
       "      <th>habitat</th>\n",
       "      <th>season</th>\n",
       "    </tr>\n",
       "  </thead>\n",
       "  <tbody>\n",
       "    <tr>\n",
       "      <th>17</th>\n",
       "      <td>Tricholoma Family</td>\n",
       "      <td>Club-footed Funnel Cap</td>\n",
       "      <td>p</td>\n",
       "      <td>[4, 8]</td>\n",
       "      <td>[x, f]</td>\n",
       "      <td>NaN</td>\n",
       "      <td>[g, n]</td>\n",
       "      <td>[f]</td>\n",
       "      <td>[d]</td>\n",
       "      <td>[c]</td>\n",
       "      <td>...</td>\n",
       "      <td>[b]</td>\n",
       "      <td>NaN</td>\n",
       "      <td>[n]</td>\n",
       "      <td>NaN</td>\n",
       "      <td>NaN</td>\n",
       "      <td>[f]</td>\n",
       "      <td>[f]</td>\n",
       "      <td>NaN</td>\n",
       "      <td>[l, d]</td>\n",
       "      <td>[a, w]</td>\n",
       "    </tr>\n",
       "    <tr>\n",
       "      <th>20</th>\n",
       "      <td>Tricholoma Family</td>\n",
       "      <td>Ivory Clitocybe</td>\n",
       "      <td>p</td>\n",
       "      <td>[2, 4]</td>\n",
       "      <td>[x, f, s]</td>\n",
       "      <td>[s]</td>\n",
       "      <td>[w, g]</td>\n",
       "      <td>[f]</td>\n",
       "      <td>[d]</td>\n",
       "      <td>[c]</td>\n",
       "      <td>...</td>\n",
       "      <td>NaN</td>\n",
       "      <td>NaN</td>\n",
       "      <td>[w]</td>\n",
       "      <td>NaN</td>\n",
       "      <td>NaN</td>\n",
       "      <td>[f]</td>\n",
       "      <td>[f]</td>\n",
       "      <td>NaN</td>\n",
       "      <td>[g]</td>\n",
       "      <td>[u, a]</td>\n",
       "    </tr>\n",
       "    <tr>\n",
       "      <th>21</th>\n",
       "      <td>Tricholoma Family</td>\n",
       "      <td>Wood Woolly-foot</td>\n",
       "      <td>p</td>\n",
       "      <td>[3, 6]</td>\n",
       "      <td>[f]</td>\n",
       "      <td>[l]</td>\n",
       "      <td>[n, e, y]</td>\n",
       "      <td>[f]</td>\n",
       "      <td>[x]</td>\n",
       "      <td>[d]</td>\n",
       "      <td>...</td>\n",
       "      <td>NaN</td>\n",
       "      <td>NaN</td>\n",
       "      <td>[n, y]</td>\n",
       "      <td>NaN</td>\n",
       "      <td>NaN</td>\n",
       "      <td>[f]</td>\n",
       "      <td>[f]</td>\n",
       "      <td>NaN</td>\n",
       "      <td>[l, d]</td>\n",
       "      <td>[u, a]</td>\n",
       "    </tr>\n",
       "    <tr>\n",
       "      <th>22</th>\n",
       "      <td>Tricholoma Family</td>\n",
       "      <td>Russet Tough Shank</td>\n",
       "      <td>p</td>\n",
       "      <td>[2, 5]</td>\n",
       "      <td>[f]</td>\n",
       "      <td>[d]</td>\n",
       "      <td>[n, b]</td>\n",
       "      <td>[f]</td>\n",
       "      <td>[x]</td>\n",
       "      <td>[c]</td>\n",
       "      <td>...</td>\n",
       "      <td>[b]</td>\n",
       "      <td>[i, s]</td>\n",
       "      <td>[n]</td>\n",
       "      <td>NaN</td>\n",
       "      <td>NaN</td>\n",
       "      <td>[f]</td>\n",
       "      <td>[f]</td>\n",
       "      <td>NaN</td>\n",
       "      <td>[l, d]</td>\n",
       "      <td>[u, a]</td>\n",
       "    </tr>\n",
       "    <tr>\n",
       "      <th>23</th>\n",
       "      <td>Tricholoma Family</td>\n",
       "      <td>Clustered Tough Shank</td>\n",
       "      <td>p</td>\n",
       "      <td>[2, 5]</td>\n",
       "      <td>[x, f]</td>\n",
       "      <td>NaN</td>\n",
       "      <td>[n, w]</td>\n",
       "      <td>[f]</td>\n",
       "      <td>[x]</td>\n",
       "      <td>[c]</td>\n",
       "      <td>...</td>\n",
       "      <td>NaN</td>\n",
       "      <td>NaN</td>\n",
       "      <td>[n, p]</td>\n",
       "      <td>NaN</td>\n",
       "      <td>NaN</td>\n",
       "      <td>[f]</td>\n",
       "      <td>[f]</td>\n",
       "      <td>NaN</td>\n",
       "      <td>[l, d]</td>\n",
       "      <td>[u, a]</td>\n",
       "    </tr>\n",
       "    <tr>\n",
       "      <th>...</th>\n",
       "      <td>...</td>\n",
       "      <td>...</td>\n",
       "      <td>...</td>\n",
       "      <td>...</td>\n",
       "      <td>...</td>\n",
       "      <td>...</td>\n",
       "      <td>...</td>\n",
       "      <td>...</td>\n",
       "      <td>...</td>\n",
       "      <td>...</td>\n",
       "      <td>...</td>\n",
       "      <td>...</td>\n",
       "      <td>...</td>\n",
       "      <td>...</td>\n",
       "      <td>...</td>\n",
       "      <td>...</td>\n",
       "      <td>...</td>\n",
       "      <td>...</td>\n",
       "      <td>...</td>\n",
       "      <td>...</td>\n",
       "      <td>...</td>\n",
       "    </tr>\n",
       "    <tr>\n",
       "      <th>164</th>\n",
       "      <td>Bracket Fungi</td>\n",
       "      <td>Silver Leaf Fungus</td>\n",
       "      <td>p</td>\n",
       "      <td>[2, 4]</td>\n",
       "      <td>[o]</td>\n",
       "      <td>[l]</td>\n",
       "      <td>[g]</td>\n",
       "      <td>[f]</td>\n",
       "      <td>[f]</td>\n",
       "      <td>[f]</td>\n",
       "      <td>...</td>\n",
       "      <td>[f]</td>\n",
       "      <td>[f]</td>\n",
       "      <td>[f]</td>\n",
       "      <td>NaN</td>\n",
       "      <td>NaN</td>\n",
       "      <td>[f]</td>\n",
       "      <td>[f]</td>\n",
       "      <td>NaN</td>\n",
       "      <td>[d]</td>\n",
       "      <td>[s, u, a, w]</td>\n",
       "    </tr>\n",
       "    <tr>\n",
       "      <th>166</th>\n",
       "      <td>Bracket Fungi</td>\n",
       "      <td>Fuzzy Polypore</td>\n",
       "      <td>p</td>\n",
       "      <td>[8, 30]</td>\n",
       "      <td>[f, x]</td>\n",
       "      <td>[g, s, d]</td>\n",
       "      <td>[o, e, n, k]</td>\n",
       "      <td>[f]</td>\n",
       "      <td>[p]</td>\n",
       "      <td>NaN</td>\n",
       "      <td>...</td>\n",
       "      <td>NaN</td>\n",
       "      <td>NaN</td>\n",
       "      <td>[n]</td>\n",
       "      <td>NaN</td>\n",
       "      <td>NaN</td>\n",
       "      <td>[f]</td>\n",
       "      <td>[f]</td>\n",
       "      <td>NaN</td>\n",
       "      <td>[d]</td>\n",
       "      <td>[a, w]</td>\n",
       "    </tr>\n",
       "    <tr>\n",
       "      <th>169</th>\n",
       "      <td>Bracket Fungi</td>\n",
       "      <td>Elfin's Saddle</td>\n",
       "      <td>p</td>\n",
       "      <td>[2, 4]</td>\n",
       "      <td>[o]</td>\n",
       "      <td>NaN</td>\n",
       "      <td>[g, k]</td>\n",
       "      <td>[f]</td>\n",
       "      <td>[f]</td>\n",
       "      <td>[f]</td>\n",
       "      <td>...</td>\n",
       "      <td>NaN</td>\n",
       "      <td>[g]</td>\n",
       "      <td>[g, n]</td>\n",
       "      <td>NaN</td>\n",
       "      <td>NaN</td>\n",
       "      <td>[f]</td>\n",
       "      <td>[f]</td>\n",
       "      <td>NaN</td>\n",
       "      <td>[d]</td>\n",
       "      <td>[u, a]</td>\n",
       "    </tr>\n",
       "    <tr>\n",
       "      <th>170</th>\n",
       "      <td>Bracket Fungi</td>\n",
       "      <td>Turban Fungus</td>\n",
       "      <td>p</td>\n",
       "      <td>[5, 15]</td>\n",
       "      <td>[o]</td>\n",
       "      <td>NaN</td>\n",
       "      <td>[n, e]</td>\n",
       "      <td>[f]</td>\n",
       "      <td>[f]</td>\n",
       "      <td>[f]</td>\n",
       "      <td>...</td>\n",
       "      <td>NaN</td>\n",
       "      <td>[g]</td>\n",
       "      <td>[n]</td>\n",
       "      <td>NaN</td>\n",
       "      <td>NaN</td>\n",
       "      <td>[f]</td>\n",
       "      <td>[f]</td>\n",
       "      <td>NaN</td>\n",
       "      <td>[d]</td>\n",
       "      <td>[s, u]</td>\n",
       "    </tr>\n",
       "    <tr>\n",
       "      <th>172</th>\n",
       "      <td>Jelly Discs Family</td>\n",
       "      <td>Jelly Babies</td>\n",
       "      <td>p</td>\n",
       "      <td>[1, 1.5]</td>\n",
       "      <td>[x, f, s]</td>\n",
       "      <td>[s]</td>\n",
       "      <td>[y]</td>\n",
       "      <td>[f]</td>\n",
       "      <td>[f]</td>\n",
       "      <td>[f]</td>\n",
       "      <td>...</td>\n",
       "      <td>NaN</td>\n",
       "      <td>NaN</td>\n",
       "      <td>[y]</td>\n",
       "      <td>NaN</td>\n",
       "      <td>NaN</td>\n",
       "      <td>[f]</td>\n",
       "      <td>[f]</td>\n",
       "      <td>NaN</td>\n",
       "      <td>[d]</td>\n",
       "      <td>[u, a]</td>\n",
       "    </tr>\n",
       "  </tbody>\n",
       "</table>\n",
       "<p>70 rows × 23 columns</p>\n",
       "</div>\n",
       "      <button class=\"colab-df-convert\" onclick=\"convertToInteractive('df-1a99e1b3-233c-4d34-ad96-e05b57d0caf0')\"\n",
       "              title=\"Convert this dataframe to an interactive table.\"\n",
       "              style=\"display:none;\">\n",
       "        \n",
       "  <svg xmlns=\"http://www.w3.org/2000/svg\" height=\"24px\"viewBox=\"0 0 24 24\"\n",
       "       width=\"24px\">\n",
       "    <path d=\"M0 0h24v24H0V0z\" fill=\"none\"/>\n",
       "    <path d=\"M18.56 5.44l.94 2.06.94-2.06 2.06-.94-2.06-.94-.94-2.06-.94 2.06-2.06.94zm-11 1L8.5 8.5l.94-2.06 2.06-.94-2.06-.94L8.5 2.5l-.94 2.06-2.06.94zm10 10l.94 2.06.94-2.06 2.06-.94-2.06-.94-.94-2.06-.94 2.06-2.06.94z\"/><path d=\"M17.41 7.96l-1.37-1.37c-.4-.4-.92-.59-1.43-.59-.52 0-1.04.2-1.43.59L10.3 9.45l-7.72 7.72c-.78.78-.78 2.05 0 2.83L4 21.41c.39.39.9.59 1.41.59.51 0 1.02-.2 1.41-.59l7.78-7.78 2.81-2.81c.8-.78.8-2.07 0-2.86zM5.41 20L4 18.59l7.72-7.72 1.47 1.35L5.41 20z\"/>\n",
       "  </svg>\n",
       "      </button>\n",
       "      \n",
       "  <style>\n",
       "    .colab-df-container {\n",
       "      display:flex;\n",
       "      flex-wrap:wrap;\n",
       "      gap: 12px;\n",
       "    }\n",
       "\n",
       "    .colab-df-convert {\n",
       "      background-color: #E8F0FE;\n",
       "      border: none;\n",
       "      border-radius: 50%;\n",
       "      cursor: pointer;\n",
       "      display: none;\n",
       "      fill: #1967D2;\n",
       "      height: 32px;\n",
       "      padding: 0 0 0 0;\n",
       "      width: 32px;\n",
       "    }\n",
       "\n",
       "    .colab-df-convert:hover {\n",
       "      background-color: #E2EBFA;\n",
       "      box-shadow: 0px 1px 2px rgba(60, 64, 67, 0.3), 0px 1px 3px 1px rgba(60, 64, 67, 0.15);\n",
       "      fill: #174EA6;\n",
       "    }\n",
       "\n",
       "    [theme=dark] .colab-df-convert {\n",
       "      background-color: #3B4455;\n",
       "      fill: #D2E3FC;\n",
       "    }\n",
       "\n",
       "    [theme=dark] .colab-df-convert:hover {\n",
       "      background-color: #434B5C;\n",
       "      box-shadow: 0px 1px 3px 1px rgba(0, 0, 0, 0.15);\n",
       "      filter: drop-shadow(0px 1px 2px rgba(0, 0, 0, 0.3));\n",
       "      fill: #FFFFFF;\n",
       "    }\n",
       "  </style>\n",
       "\n",
       "      <script>\n",
       "        const buttonEl =\n",
       "          document.querySelector('#df-1a99e1b3-233c-4d34-ad96-e05b57d0caf0 button.colab-df-convert');\n",
       "        buttonEl.style.display =\n",
       "          google.colab.kernel.accessAllowed ? 'block' : 'none';\n",
       "\n",
       "        async function convertToInteractive(key) {\n",
       "          const element = document.querySelector('#df-1a99e1b3-233c-4d34-ad96-e05b57d0caf0');\n",
       "          const dataTable =\n",
       "            await google.colab.kernel.invokeFunction('convertToInteractive',\n",
       "                                                     [key], {});\n",
       "          if (!dataTable) return;\n",
       "\n",
       "          const docLinkHtml = 'Like what you see? Visit the ' +\n",
       "            '<a target=\"_blank\" href=https://colab.research.google.com/notebooks/data_table.ipynb>data table notebook</a>'\n",
       "            + ' to learn more about interactive tables.';\n",
       "          element.innerHTML = '';\n",
       "          dataTable['output_type'] = 'display_data';\n",
       "          await google.colab.output.renderOutput(dataTable, element);\n",
       "          const docLink = document.createElement('div');\n",
       "          docLink.innerHTML = docLinkHtml;\n",
       "          element.appendChild(docLink);\n",
       "        }\n",
       "      </script>\n",
       "    </div>\n",
       "  </div>\n",
       "  "
      ],
      "text/plain": [
       "                 family                    name class cap-diameter  cap-shape  \\\n",
       "17    Tricholoma Family  Club-footed Funnel Cap     p       [4, 8]     [x, f]   \n",
       "20    Tricholoma Family         Ivory Clitocybe     p       [2, 4]  [x, f, s]   \n",
       "21    Tricholoma Family        Wood Woolly-foot     p       [3, 6]        [f]   \n",
       "22    Tricholoma Family      Russet Tough Shank     p       [2, 5]        [f]   \n",
       "23    Tricholoma Family   Clustered Tough Shank     p       [2, 5]     [x, f]   \n",
       "..                  ...                     ...   ...          ...        ...   \n",
       "164       Bracket Fungi      Silver Leaf Fungus     p       [2, 4]        [o]   \n",
       "166       Bracket Fungi          Fuzzy Polypore     p      [8, 30]     [f, x]   \n",
       "169       Bracket Fungi          Elfin's Saddle     p       [2, 4]        [o]   \n",
       "170       Bracket Fungi           Turban Fungus     p      [5, 15]        [o]   \n",
       "172  Jelly Discs Family            Jelly Babies     p     [1, 1.5]  [x, f, s]   \n",
       "\n",
       "    Cap-surface     cap-color does-bruise-or-bleed gill-attachment  \\\n",
       "17          NaN        [g, n]                  [f]             [d]   \n",
       "20          [s]        [w, g]                  [f]             [d]   \n",
       "21          [l]     [n, e, y]                  [f]             [x]   \n",
       "22          [d]        [n, b]                  [f]             [x]   \n",
       "23          NaN        [n, w]                  [f]             [x]   \n",
       "..          ...           ...                  ...             ...   \n",
       "164         [l]           [g]                  [f]             [f]   \n",
       "166   [g, s, d]  [o, e, n, k]                  [f]             [p]   \n",
       "169         NaN        [g, k]                  [f]             [f]   \n",
       "170         NaN        [n, e]                  [f]             [f]   \n",
       "172         [s]           [y]                  [f]             [f]   \n",
       "\n",
       "    gill-spacing  ... stem-root stem-surface stem-color veil-type veil-color  \\\n",
       "17           [c]  ...       [b]          NaN        [n]       NaN        NaN   \n",
       "20           [c]  ...       NaN          NaN        [w]       NaN        NaN   \n",
       "21           [d]  ...       NaN          NaN     [n, y]       NaN        NaN   \n",
       "22           [c]  ...       [b]       [i, s]        [n]       NaN        NaN   \n",
       "23           [c]  ...       NaN          NaN     [n, p]       NaN        NaN   \n",
       "..           ...  ...       ...          ...        ...       ...        ...   \n",
       "164          [f]  ...       [f]          [f]        [f]       NaN        NaN   \n",
       "166          NaN  ...       NaN          NaN        [n]       NaN        NaN   \n",
       "169          [f]  ...       NaN          [g]     [g, n]       NaN        NaN   \n",
       "170          [f]  ...       NaN          [g]        [n]       NaN        NaN   \n",
       "172          [f]  ...       NaN          NaN        [y]       NaN        NaN   \n",
       "\n",
       "    has-ring ring-type Spore-print-color habitat        season  \n",
       "17       [f]       [f]               NaN  [l, d]        [a, w]  \n",
       "20       [f]       [f]               NaN     [g]        [u, a]  \n",
       "21       [f]       [f]               NaN  [l, d]        [u, a]  \n",
       "22       [f]       [f]               NaN  [l, d]        [u, a]  \n",
       "23       [f]       [f]               NaN  [l, d]        [u, a]  \n",
       "..       ...       ...               ...     ...           ...  \n",
       "164      [f]       [f]               NaN     [d]  [s, u, a, w]  \n",
       "166      [f]       [f]               NaN     [d]        [a, w]  \n",
       "169      [f]       [f]               NaN     [d]        [u, a]  \n",
       "170      [f]       [f]               NaN     [d]        [s, u]  \n",
       "172      [f]       [f]               NaN     [d]        [u, a]  \n",
       "\n",
       "[70 rows x 23 columns]"
      ]
     },
     "execution_count": 99,
     "metadata": {},
     "output_type": "execute_result"
    }
   ],
   "source": [
    "ring_poisonous_mushroom"
   ]
  },
  {
   "cell_type": "markdown",
   "metadata": {
    "id": "urQoXR_UvEmo"
   },
   "source": [
    "### Q. Do all poisonous mushrooms have a ring?\n",
    "### A. No, all the poisonous mushroom does not have ring, only 70 out of 96 poisonous mushroom have ring."
   ]
  },
  {
   "cell_type": "markdown",
   "metadata": {
    "id": "JsavrrYhvEmo"
   },
   "source": [
    "##### Analysis of poisonous mushroom based on the season "
   ]
  },
  {
   "cell_type": "code",
   "execution_count": 100,
   "metadata": {
    "colab": {
     "base_uri": "https://localhost:8080/"
    },
    "id": "zlnitFIBvEmo",
    "outputId": "6ea7cc64-b1ef-4009-f496-c703321194bc"
   },
   "outputs": [
    {
     "data": {
      "text/plain": [
       "array(['[a, w]', '[a]', '[s, u, a, w]', '[s, u, a]', '[s, u]',\n",
       "       '[u, a, w]', '[u, a]', '[u]'], dtype=object)"
      ]
     },
     "execution_count": 100,
     "metadata": {},
     "output_type": "execute_result"
    }
   ],
   "source": [
    "np.unique(poisonous_mushroom['season'])"
   ]
  },
  {
   "cell_type": "markdown",
   "metadata": {
    "id": "UEmv4OaGvEmp"
   },
   "source": [
    "##### Graphical representation of the distribution of poisonous mushroom based on it season of growth"
   ]
  },
  {
   "cell_type": "code",
   "execution_count": 101,
   "metadata": {
    "colab": {
     "base_uri": "https://localhost:8080/",
     "height": 699
    },
    "id": "Dr69fyXEvEmp",
    "outputId": "2628cc86-d872-4487-94b0-d01ecb09fc29"
   },
   "outputs": [
    {
     "data": {
      "image/png": "[encoded data removed]",
      "text/plain": [
       "<Figure size 640x480 with 1 Axes>"
      ]
     },
     "metadata": {},
     "output_type": "display_data"
    },
    {
     "data": {
      "text/plain": [
       "[u, a]          106\n",
       "[a]              16\n",
       "[a, w]           15\n",
       "[s, u, a, w]     13\n",
       "[u, a, w]        12\n",
       "[s, u, a]         5\n",
       "[s, u]            3\n",
       "[s, a, w]         1\n",
       "[u]               1\n",
       "[s]               1\n",
       "Name: season, dtype: int64"
      ]
     },
     "execution_count": 101,
     "metadata": {},
     "output_type": "execute_result"
    }
   ],
   "source": [
    "poisonous_mushroom_type_count= poisonous_mushroom['season'].value_counts()  \n",
    "sns.barplot(x=poisonous_mushroom_type_count.index, y=poisonous_mushroom_type_count.values, palette='pastel')\n",
    "plt.ylabel('Number of data', fontsize=9)\n",
    "plt.xlabel('Season', fontsize=9)\n",
    "plt.xticks(rotation=90)\n",
    "plt.show();\n",
    "df_primary_data['season'].value_counts()"
   ]
  },
  {
   "cell_type": "markdown",
   "metadata": {
    "id": "w6ABe5jJvEmp"
   },
   "source": [
    "### Q. Which seasons do poisonous mushrooms grow typically?\n",
    "### A. Over Summer and Autumn most of the poisonous mushrooms typically grows."
   ]
  },
  {
   "cell_type": "markdown",
   "metadata": {
    "id": "LuKMpnGQvEmp"
   },
   "source": [
    "# Conclusion of Question 3: \n",
    "\n",
    "### Q. How many mushrooms are poisonous?\n",
    "### A. 96 mushrooms are poisonous and 77 are edible\n",
    "### Q. Which family contains most poisonous mushrooms?\n",
    "### A. Tricholoma, mushroom family has highest number of poisonous mushrooms.\n",
    "### Q. Do all poisonous mushrooms have a ring?\n",
    "### A. No, all the poisonous mushroom does not have ring, only 70 out of 96 poisonous mushroom have ring.\n",
    "### Q. Which seasons do poisonous mushrooms grow typically?\n",
    "### A. Over Summer and Autumn most of the poisonous mushrooms typically grows."
   ]
  }
 ],
 "metadata": {
  "accelerator": "GPU",
  "colab": {
   "gpuType": "T4",
   "provenance": []
  },
  "kernelspec": {
   "display_name": "Python 3 (ipykernel)",
   "language": "python",
   "name": "python3"
  },
  "language_info": {
   "codemirror_mode": {
    "name": "ipython",
    "version": 3
   },
   "file_extension": ".py",
   "mimetype": "text/x-python",
   "name": "python",
   "nbconvert_exporter": "python",
   "pygments_lexer": "ipython3",
   "version": "3.9.16"
  }
 },
 "nbformat": 4,
 "nbformat_minor": 1
}
