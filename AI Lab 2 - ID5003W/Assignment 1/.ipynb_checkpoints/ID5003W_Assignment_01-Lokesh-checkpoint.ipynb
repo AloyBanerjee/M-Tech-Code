{
 "cells": [
  {
   "cell_type": "markdown",
   "metadata": {
    "id": "f9aws0meaRBS"
   },
   "source": [
    "#### Submission Deadline: 31/05/2023  -  23:59"
   ]
  },
  {
   "cell_type": "markdown",
   "metadata": {
    "id": "j2OUn001UbEl"
   },
   "source": [
    "# Question: 01\n",
    "\n",
    "**MAP REDUCE - DATASET:** write map reduce program(s) using python-mr in colab notebook and complete the following exercises\n",
    "\n",
    "  - Find the files which contain the following phrases\n",
    "    - “draping the folds of her velvet dress”\n",
    "    - “grim clasp to the iron stanchions”\n",
    "    - “Lo, I teach you the Superman!”\n",
    "    - “Through that divine allegiance”\n",
    "  - Find the file which has maximum number of tokens\n",
    "  - Find the file which has the longest sentence (a sentence ends in a full stop and can span multiple lines)\n",
    "\n",
    "\n",
    "**Dataset:** \n",
    "\n",
    "  - [pg1513.txt](https://www.gutenberg.org/cache/epub/1513/pg1513.txt)<br>\n",
    "  - [2160-0.txt](https://www.gutenberg.org/files/2160/2160-0.txt)<br>\n",
    "  - [pg11.txt](https://www.gutenberg.org/cache/epub/11/pg11.txt)<br>\n",
    "  - [pg2600.txt](https://www.gutenberg.org/cache/epub/2600/pg2600.txt)<br>\n",
    "  - [345.txt.utf-8](https://www.gutenberg.org/ebooks/345.txt.utf-8)<br>\n",
    "  - [64317.txt.utf-8](https://www.gutenberg.org/ebooks/64317.txt.utf-8)<br>\n",
    "  - [70815.txt.utf-8](https://www.gutenberg.org/ebooks/70815.txt.utf-8)<br>\n",
    "  - [1080-0.txt](https://www.gutenberg.org/files/1080/1080-0.txt)<br>\n",
    "  - [70817.txt.utf-8](https://www.gutenberg.org/ebooks/70817.txt.utf-8)<br>\n",
    "  - [1998.txt.utf-8](https://www.gutenberg.org/ebooks/1998.txt.utf-8)<br>\n",
    "\n"
   ]
  },
  {
   "cell_type": "code",
   "execution_count": null,
   "metadata": {
    "id": "fo-aLhXnVuUX"
   },
   "outputs": [],
   "source": [
    "# # First make sure the directory you are supposed to download to, is available and accessible.\n",
    "# !mkdir -p dataset\n",
    "# !wget -P dataset https://www.gutenberg.org/cache/epub/1513/pg1513.txt\n",
    "# !wget -P dataset https://www.gutenberg.org/files/2160/2160-0.txt\n",
    "# !wget -P dataset https://www.gutenberg.org/cache/epub/11/pg11.txt\n",
    "# !wget -P dataset https://www.gutenberg.org/cache/epub/2600/pg2600.txt\n",
    "# !wget -P dataset https://www.gutenberg.org/ebooks/345.txt.utf-8\n",
    "# !wget -P dataset https://www.gutenberg.org/ebooks/64317.txt.utf-8\n",
    "# !wget -P dataset https://www.gutenberg.org/ebooks/70815.txt.utf-8\n",
    "# !wget -P dataset https://www.gutenberg.org/files/1080/1080-0.txt\n",
    "# !wget -P dataset https://www.gutenberg.org/ebooks/70817.txt.utf-8\n",
    "# !wget -P dataset https://www.gutenberg.org/ebooks/1998.txt.utf-8"
   ]
  },
  {
   "cell_type": "code",
   "execution_count": null,
   "metadata": {
    "colab": {
     "base_uri": "https://localhost:8080/"
    },
    "id": "6RvhkvCZhD27",
    "outputId": "3057007f-0b59-4a2f-fc61-8679680f5570"
   },
   "outputs": [
    {
     "name": "stdout",
     "output_type": "stream",
     "text": [
      "pg11.txt\n",
      "70815.txt.utf-8\n",
      "1080-0.txt\n",
      "1998.txt.utf-8\n",
      "64317.txt.utf-8\n",
      "pg1513.txt\n",
      "70817.txt.utf-8\n",
      "pg2600.txt\n",
      "2160-0.txt\n",
      "345.txt.utf-8\n"
     ]
    }
   ],
   "source": [
    "import os\n",
    "\n",
    "file_names = os.listdir('dataset')\n",
    "\n",
    "# Print the file names\n",
    "for file_name in file_names:\n",
    "    print(file_name)"
   ]
  },
  {
   "cell_type": "code",
   "execution_count": null,
   "metadata": {
    "id": "055E2ITd1VGm"
   },
   "outputs": [],
   "source": []
  },
  {
   "cell_type": "markdown",
   "metadata": {
    "id": "Xg_uSD0G1Vu0"
   },
   "source": [
    "## Using MRJOB package"
   ]
  },
  {
   "cell_type": "markdown",
   "metadata": {
    "id": "L1NEDEHjlUUJ"
   },
   "source": [
    "#### Question 1a"
   ]
  },
  {
   "cell_type": "code",
   "execution_count": null,
   "metadata": {
    "colab": {
     "base_uri": "https://localhost:8080/"
    },
    "id": "siPfCg99beTv",
    "outputId": "6f32396d-a880-44b0-a010-9be69256ed5c"
   },
   "outputs": [
    {
     "name": "stdout",
     "output_type": "stream",
     "text": [
      "Overwriting word3.py\n"
     ]
    }
   ],
   "source": [
    "%%file word3.py\n",
    "import re\n",
    "from mrjob.job import MRJob\n",
    "import os\n",
    "\n",
    "class FindPhraseJob(MRJob):\n",
    "    def mapper(self, _, line):\n",
    "      if \"grim clasp to the iron stanchions\" in line:\n",
    "        file_name = os.environ['map_input_file']\n",
    "        yield file_name, \"Present\"\n",
    "\n",
    "    def reducer(self, key, _):\n",
    "      yield key, \"Present\"\n",
    "\n",
    "if __name__ == '__main__':\n",
    "    FindPhraseJob.run()"
   ]
  },
  {
   "cell_type": "code",
   "execution_count": null,
   "metadata": {
    "colab": {
     "base_uri": "https://localhost:8080/"
    },
    "id": "QFsGNR3JcPmU",
    "outputId": "0c5e8660-27f4-46da-94a0-b9c09a453775"
   },
   "outputs": [
    {
     "name": "stdout",
     "output_type": "stream",
     "text": [
      "No configs found; falling back on auto-configuration\n",
      "No configs specified for inline runner\n",
      "Creating temp directory /tmp/word3.root.20230526.204134.694453\n",
      "Running step 1 of 1...\n",
      "job output is in /tmp/word3.root.20230526.204134.694453/output\n",
      "Streaming final output from /tmp/word3.root.20230526.204134.694453/output...\n",
      "\"file://dataset/345.txt.utf-8\"\t\"Present\"\n",
      "Removing temp directory /tmp/word3.root.20230526.204134.694453...\n"
     ]
    }
   ],
   "source": [
    "!python word3.py dataset/2160-0.txt dataset/1080-0.txt dataset/1998.txt.utf-8 dataset/345.txt.utf-8 dataset/64317.txt.utf-8 dataset/70815.txt.utf-8 dataset/70817.txt.utf-8 dataset/pg11.txt dataset/pg1513.txt dataset/pg2600.txt"
   ]
  },
  {
   "cell_type": "markdown",
   "metadata": {
    "id": "hTJ_Wgk3kg7S"
   },
   "source": [
    "#### Question 1-b"
   ]
  },
  {
   "cell_type": "code",
   "execution_count": null,
   "metadata": {
    "colab": {
     "base_uri": "https://localhost:8080/"
    },
    "id": "RMtC_cq6blKC",
    "outputId": "00efc4e1-a17f-4a7d-fbf9-19fc5e5da6ae"
   },
   "outputs": [
    {
     "name": "stdout",
     "output_type": "stream",
     "text": [
      "Overwriting word2.py\n"
     ]
    }
   ],
   "source": [
    "%%file word2.py\n",
    "from mrjob.job import MRJob\n",
    "import os\n",
    "\n",
    "class MRWordFrequencyCount(MRJob):\n",
    "  def mapper(self, _, line):\n",
    "        # Extract the file name from the input file path\n",
    "        file_name = os.environ['map_input_file']\n",
    "        yield file_name, len(line.split())\n",
    "\n",
    "  def reducer(self, key, values):\n",
    "        yield key, sum(values)\n",
    "\n",
    "if __name__ == '__main__':\n",
    "    MRWordFrequencyCount.run()"
   ]
  },
  {
   "cell_type": "code",
   "execution_count": null,
   "metadata": {
    "colab": {
     "base_uri": "https://localhost:8080/"
    },
    "id": "7qejTJRWachE",
    "outputId": "8158387b-af76-437c-d550-0503dc121025"
   },
   "outputs": [
    {
     "name": "stdout",
     "output_type": "stream",
     "text": [
      "No configs found; falling back on auto-configuration\n",
      "No configs specified for inline runner\n",
      "Creating temp directory /tmp/word2.root.20230526.204603.909988\n",
      "Running step 1 of 1...\n",
      "job output is in /tmp/word2.root.20230526.204603.909988/output\n",
      "Streaming final output from /tmp/word2.root.20230526.204603.909988/output...\n",
      "\"file://dataset/1080-0.txt\"\t6512\n",
      "\"file://dataset/1998.txt.utf-8\"\t113997\n",
      "\"file://dataset/2160-0.txt\"\t151379\n",
      "\"file://dataset/345.txt.utf-8\"\t164459\n",
      "\"file://dataset/64317.txt.utf-8\"\t51257\n",
      "\"file://dataset/70815.txt.utf-8\"\t82782\n",
      "\"file://dataset/70817.txt.utf-8\"\t28184\n",
      "\"file://dataset/pg11.txt\"\t29590\n",
      "\"file://dataset/pg1513.txt\"\t29002\n",
      "\"file://dataset/pg2600.txt\"\t566330\n",
      "Removing temp directory /tmp/word2.root.20230526.204603.909988...\n"
     ]
    }
   ],
   "source": [
    "!python word2.py dataset/2160-0.txt dataset/1080-0.txt dataset/1998.txt.utf-8 dataset/345.txt.utf-8 dataset/64317.txt.utf-8 dataset/70815.txt.utf-8 dataset/70817.txt.utf-8 dataset/pg11.txt dataset/pg1513.txt dataset/pg2600.txt"
   ]
  },
  {
   "cell_type": "markdown",
   "metadata": {
    "id": "cfhpxvh2kuDh"
   },
   "source": [
    "##### \"file://dataset/pg2600.txt\"\t566330 \n"
   ]
  },
  {
   "cell_type": "markdown",
   "metadata": {
    "id": "pmDpLddYk_Ma"
   },
   "source": [
    "#### Question 1c"
   ]
  },
  {
   "cell_type": "code",
   "execution_count": null,
   "metadata": {
    "colab": {
     "base_uri": "https://localhost:8080/"
    },
    "id": "NivTBpWXk84f",
    "outputId": "564019d5-309c-4b16-ec89-1b49db78fb2a"
   },
   "outputs": [
    {
     "name": "stdout",
     "output_type": "stream",
     "text": [
      "Overwriting word3.py\n"
     ]
    }
   ],
   "source": [
    "%%file word3.py\n",
    "from mrjob.job import MRJob\n",
    "import re\n",
    "import os\n",
    "\n",
    "class LongestSentenceFinder(MRJob):\n",
    "\n",
    "    def mapper(self, _, line):\n",
    "      file_name = os.environ['map_input_file']\n",
    "      sentences = re.split(r'(?<=[.])\\s+', line)\n",
    "      for sentence in sentences:\n",
    "        yield file_name, len(sentence)\n",
    "\n",
    "    def reducer(self, file_name, lengths):\n",
    "      max_length = max(lengths)\n",
    "      yield file_name, max_length\n",
    "\n",
    "\n",
    "if __name__ == '__main__':\n",
    "    LongestSentenceFinder.run()\n",
    "\n"
   ]
  },
  {
   "cell_type": "code",
   "execution_count": null,
   "metadata": {
    "colab": {
     "base_uri": "https://localhost:8080/"
    },
    "id": "dreKm583hdJD",
    "outputId": "6933aecb-a169-4d44-e6cc-27b72c8beaa9"
   },
   "outputs": [
    {
     "name": "stdout",
     "output_type": "stream",
     "text": [
      "No configs found; falling back on auto-configuration\n",
      "No configs specified for inline runner\n",
      "Creating temp directory /tmp/word3.root.20230526.202848.442811\n",
      "Running step 1 of 1...\n",
      "job output is in /tmp/word3.root.20230526.202848.442811/output\n",
      "Streaming final output from /tmp/word3.root.20230526.202848.442811/output...\n",
      "\"file://dataset/1080-0.txt\"\t72\n",
      "\"file://dataset/1998.txt.utf-8\"\t78\n",
      "\"file://dataset/345.txt.utf-8\"\t73\n",
      "\"file://dataset/pg2600.txt\"\t74\n",
      "\"file://dataset/64317.txt.utf-8\"\t72\n",
      "\"file://dataset/70815.txt.utf-8\"\t72\n",
      "\"file://dataset/70817.txt.utf-8\"\t72\n",
      "\"file://dataset/pg11.txt\"\t82\n",
      "\"file://dataset/pg1513.txt\"\t90\n",
      "Removing temp directory /tmp/word3.root.20230526.202848.442811...\n"
     ]
    }
   ],
   "source": [
    "!python word3.py dataset/64317.txt.utf-8 dataset/1080-0.txt dataset/1998.txt.utf-8 dataset/345.txt.utf-8 dataset/64317.txt.utf-8 dataset/70815.txt.utf-8 dataset/70817.txt.utf-8 dataset/pg11.txt dataset/pg1513.txt dataset/pg2600.txt"
   ]
  },
  {
   "cell_type": "markdown",
   "metadata": {
    "id": "GLkxOl4cwJug"
   },
   "source": [
    "###### Same code but counts word in the sentence"
   ]
  },
  {
   "cell_type": "code",
   "execution_count": null,
   "metadata": {
    "id": "7biP4vnus7uc"
   },
   "outputs": [],
   "source": [
    "# %%file test1.py\n",
    "# import sys\n",
    "# from mrjob.job import MRJob\n",
    "# import re\n",
    "# import os\n",
    "\n",
    "# class LongestWordFinder(MRJob):\n",
    "\n",
    "#     def configure_args(self):\n",
    "#         super(LongestWordFinder, self).configure_args()\n",
    "#         self.add_file_arg('--input', help='Path to input file(s)')\n",
    "\n",
    "#     def mapper_init(self):\n",
    "#         self.files = self.options.input.split(' ')\n",
    "\n",
    "#     def mapper(self, _, line):\n",
    "#         file_name = os.environ['map_input_file']  # Get the input file name\n",
    "#         # Split lines into sentences using regular expressions\n",
    "#         sentences = re.split(r'(?<=[.])\\s+', line)\n",
    "#         for sentence in sentences:\n",
    "#             words = re.findall(r'\\b\\w+\\b', sentence)  # Extract individual words\n",
    "#             if words:\n",
    "#                 max_word_length = max(len(word) for word in words)  # Find the maximum word length\n",
    "#                 yield file_name, max_word_length\n",
    "\n",
    "#     def reducer(self, file_name, lengths):\n",
    "#         # Find the maximum length across all sentences in the file\n",
    "#         max_length = max(lengths)\n",
    "#         yield file_name, max_length\n",
    "\n",
    "# if __name__ == '__main__':\n",
    "#     mr_job = LongestWordFinder(args=sys.argv[1:])\n",
    "#     mr_job.run()\n"
   ]
  },
  {
   "cell_type": "code",
   "execution_count": null,
   "metadata": {
    "id": "xp_tX-purE9D"
   },
   "outputs": [],
   "source": [
    "# !python test1.py dataset/64317.txt.utf-8 dataset/1080-0.txt dataset/1998.txt.utf-8 dataset/345.txt.utf-8 dataset/64317.txt.utf-8 dataset/70815.txt.utf-8 dataset/70817.txt.utf-8 dataset/pg11.txt dataset/pg1513.txt dataset/pg2600.txt"
   ]
  },
  {
   "cell_type": "markdown",
   "metadata": {
    "id": "9LMNCSjvYTwn"
   },
   "source": [
    "==> Textual Answers here."
   ]
  },
  {
   "cell_type": "markdown",
   "metadata": {
    "id": "ilP6fUcZVvj7"
   },
   "source": [
    "# Question: 02\n",
    "\n",
    "**Write a PySpark RDD program to compute:**\n",
    "\n",
    "\n",
    "  - The list of common (overlapping / intersection ) words across all the ten files listed above.\n",
    "  - List the word frequency of common words across files as a dict ( tip: use join method in the rdd). The size of the dict equals the list of common words and each key in the top level dict contains the word count corresponding to all the ten files\n",
    "\n",
    "    - {“word”: {“pg1513.txt”:10,”2160-0.txt”:25,... } \n"
   ]
  },
  {
   "cell_type": "code",
   "execution_count": null,
   "metadata": {
    "id": "3-L9DBBOWLk8"
   },
   "outputs": [],
   "source": [
    "# 'dataset/2160-0.txt','dataset/1080-0.txt','dataset/1998.txt.utf-8','dataset/345.txt.utf-8','dataset/64317.txt.utf-8','dataset/70815.txt.utf-8','dataset/70817.txt.utf-8','dataset/pg11.txt','dataset/pg1513.txt','dataset/pg2600.txt'\n",
    "\n",
    "from pyspark import SparkContext\n",
    "\n",
    "# Create SparkContext\n",
    "sc = SparkContext(\"local\", \"CommonWordsApp\")\n",
    "\n",
    "# Read files into RDDs\n",
    "file_paths = ['dataset/2160-0.txt','dataset/1080-0.txt','dataset/1998.txt.utf-8','dataset/345.txt.utf-8','dataset/64317.txt.utf-8','dataset/70815.txt.utf-8','dataset/70817.txt.utf-8','dataset/pg11.txt','dataset/pg1513.txt','dataset/pg2600.txt']\n",
    "\n",
    "files_rdd = sc.textFile(\",\".join(file_paths))\n",
    "\n",
    "# Split lines into words\n",
    "words_rdd = files_rdd.flatMap(lambda line: line.split(\" \"))\n",
    "\n",
    "# Group words by key (word)\n",
    "grouped_words_rdd = words_rdd.map(lambda word: (word, 1)).groupByKey()\n",
    "\n",
    "# Filter words that appear in all files\n",
    "common_words_rdd = grouped_words_rdd.filter(lambda x: len(x[1]) == 10)\n",
    "\n",
    "# Collect the common words RDD into a list\n",
    "common_words = common_words_rdd.keys().collect()\n",
    "\n",
    "# Stop SparkContext\n",
    "sc.stop()\n"
   ]
  },
  {
   "cell_type": "code",
   "execution_count": null,
   "metadata": {
    "id": "CeCtZ-Pg6jbd"
   },
   "outputs": [],
   "source": []
  },
  {
   "cell_type": "markdown",
   "metadata": {
    "id": "K2nJgGoNYOSX"
   },
   "source": [
    "==> Textual answers here."
   ]
  },
  {
   "cell_type": "markdown",
   "metadata": {
    "id": "bHZr30N0WV0i"
   },
   "source": [
    "# Question: 03\n",
    "\n",
    "Perform an exploratory data analysis on the primary_data.csv of the Mushroom dataset [Secondary Mushroom Dataset](https://archive.ics.uci.edu/ml/datasets/Secondary+Mushroom+Dataset) using pandas and answer the following questions:\n",
    "  - How many mushrooms are poisonous?\n",
    "  - Which family contains most poisonous mushrooms?\n",
    "  - Do all poisonous mushrooms have a ring?\n",
    "  - Which seasons do poisonous mushrooms grow typically?\n",
    "\n"
   ]
  },
  {
   "cell_type": "code",
   "execution_count": null,
   "metadata": {
    "id": "aFWKkm5IXSwT"
   },
   "outputs": [],
   "source": [
    "import pandas as pd\n",
    "import numpy as np"
   ]
  },
  {
   "cell_type": "code",
   "execution_count": null,
   "metadata": {
    "id": "9CVBdnSXvdEi"
   },
   "outputs": [],
   "source": [
    "df= pd.read_csv('primary_data.csv',delimiter=\";\")"
   ]
  },
  {
   "cell_type": "code",
   "execution_count": null,
   "metadata": {
    "colab": {
     "base_uri": "https://localhost:8080/",
     "height": 418
    },
    "id": "DjVyzaR_vdLb",
    "outputId": "1c7f7c74-f57e-44ac-e4c2-5145cdd095dd"
   },
   "outputs": [
    {
     "data": {
      "text/html": [
       "\n",
       "  <div id=\"df-44072a05-f97e-40a5-8bb8-f189824f096d\">\n",
       "    <div class=\"colab-df-container\">\n",
       "      <div>\n",
       "<style scoped>\n",
       "    .dataframe tbody tr th:only-of-type {\n",
       "        vertical-align: middle;\n",
       "    }\n",
       "\n",
       "    .dataframe tbody tr th {\n",
       "        vertical-align: top;\n",
       "    }\n",
       "\n",
       "    .dataframe thead th {\n",
       "        text-align: right;\n",
       "    }\n",
       "</style>\n",
       "<table border=\"1\" class=\"dataframe\">\n",
       "  <thead>\n",
       "    <tr style=\"text-align: right;\">\n",
       "      <th></th>\n",
       "      <th>family</th>\n",
       "      <th>name</th>\n",
       "      <th>class</th>\n",
       "      <th>cap-diameter</th>\n",
       "      <th>cap-shape</th>\n",
       "      <th>Cap-surface</th>\n",
       "      <th>cap-color</th>\n",
       "      <th>does-bruise-or-bleed</th>\n",
       "      <th>gill-attachment</th>\n",
       "      <th>gill-spacing</th>\n",
       "      <th>...</th>\n",
       "      <th>stem-root</th>\n",
       "      <th>stem-surface</th>\n",
       "      <th>stem-color</th>\n",
       "      <th>veil-type</th>\n",
       "      <th>veil-color</th>\n",
       "      <th>has-ring</th>\n",
       "      <th>ring-type</th>\n",
       "      <th>Spore-print-color</th>\n",
       "      <th>habitat</th>\n",
       "      <th>season</th>\n",
       "    </tr>\n",
       "  </thead>\n",
       "  <tbody>\n",
       "    <tr>\n",
       "      <th>0</th>\n",
       "      <td>Amanita Family</td>\n",
       "      <td>Fly Agaric</td>\n",
       "      <td>p</td>\n",
       "      <td>[10, 20]</td>\n",
       "      <td>[x, f]</td>\n",
       "      <td>[g, h]</td>\n",
       "      <td>[e, o]</td>\n",
       "      <td>[f]</td>\n",
       "      <td>[e]</td>\n",
       "      <td>NaN</td>\n",
       "      <td>...</td>\n",
       "      <td>[s]</td>\n",
       "      <td>[y]</td>\n",
       "      <td>[w]</td>\n",
       "      <td>[u]</td>\n",
       "      <td>[w]</td>\n",
       "      <td>[t]</td>\n",
       "      <td>[g, p]</td>\n",
       "      <td>NaN</td>\n",
       "      <td>[d]</td>\n",
       "      <td>[u, a, w]</td>\n",
       "    </tr>\n",
       "    <tr>\n",
       "      <th>1</th>\n",
       "      <td>Amanita Family</td>\n",
       "      <td>Panther Cap</td>\n",
       "      <td>p</td>\n",
       "      <td>[5, 10]</td>\n",
       "      <td>[p, x]</td>\n",
       "      <td>[g]</td>\n",
       "      <td>[n]</td>\n",
       "      <td>[f]</td>\n",
       "      <td>[e]</td>\n",
       "      <td>NaN</td>\n",
       "      <td>...</td>\n",
       "      <td>NaN</td>\n",
       "      <td>[y]</td>\n",
       "      <td>[w]</td>\n",
       "      <td>[u]</td>\n",
       "      <td>[w]</td>\n",
       "      <td>[t]</td>\n",
       "      <td>[p]</td>\n",
       "      <td>NaN</td>\n",
       "      <td>[d]</td>\n",
       "      <td>[u, a]</td>\n",
       "    </tr>\n",
       "    <tr>\n",
       "      <th>2</th>\n",
       "      <td>Amanita Family</td>\n",
       "      <td>False Panther Cap</td>\n",
       "      <td>p</td>\n",
       "      <td>[10, 15]</td>\n",
       "      <td>[x, f]</td>\n",
       "      <td>NaN</td>\n",
       "      <td>[g, n]</td>\n",
       "      <td>[f]</td>\n",
       "      <td>[e]</td>\n",
       "      <td>NaN</td>\n",
       "      <td>...</td>\n",
       "      <td>NaN</td>\n",
       "      <td>NaN</td>\n",
       "      <td>[w]</td>\n",
       "      <td>[u]</td>\n",
       "      <td>[w]</td>\n",
       "      <td>[t]</td>\n",
       "      <td>[e, g]</td>\n",
       "      <td>NaN</td>\n",
       "      <td>[d]</td>\n",
       "      <td>[u, a]</td>\n",
       "    </tr>\n",
       "    <tr>\n",
       "      <th>3</th>\n",
       "      <td>Amanita Family</td>\n",
       "      <td>The Blusher</td>\n",
       "      <td>e</td>\n",
       "      <td>[5, 15]</td>\n",
       "      <td>[x, f]</td>\n",
       "      <td>NaN</td>\n",
       "      <td>[n]</td>\n",
       "      <td>[t]</td>\n",
       "      <td>NaN</td>\n",
       "      <td>NaN</td>\n",
       "      <td>...</td>\n",
       "      <td>[b]</td>\n",
       "      <td>NaN</td>\n",
       "      <td>[w]</td>\n",
       "      <td>[u]</td>\n",
       "      <td>[w]</td>\n",
       "      <td>[t]</td>\n",
       "      <td>[g]</td>\n",
       "      <td>NaN</td>\n",
       "      <td>[d]</td>\n",
       "      <td>[u, a]</td>\n",
       "    </tr>\n",
       "    <tr>\n",
       "      <th>4</th>\n",
       "      <td>Amanita Family</td>\n",
       "      <td>Death Cap</td>\n",
       "      <td>p</td>\n",
       "      <td>[5, 12]</td>\n",
       "      <td>[x, f]</td>\n",
       "      <td>[h]</td>\n",
       "      <td>[r]</td>\n",
       "      <td>[f]</td>\n",
       "      <td>NaN</td>\n",
       "      <td>[c]</td>\n",
       "      <td>...</td>\n",
       "      <td>NaN</td>\n",
       "      <td>NaN</td>\n",
       "      <td>[w]</td>\n",
       "      <td>[u]</td>\n",
       "      <td>[w]</td>\n",
       "      <td>[t]</td>\n",
       "      <td>[g, p]</td>\n",
       "      <td>NaN</td>\n",
       "      <td>[d]</td>\n",
       "      <td>[u, a]</td>\n",
       "    </tr>\n",
       "  </tbody>\n",
       "</table>\n",
       "<p>5 rows × 23 columns</p>\n",
       "</div>\n",
       "      <button class=\"colab-df-convert\" onclick=\"convertToInteractive('df-44072a05-f97e-40a5-8bb8-f189824f096d')\"\n",
       "              title=\"Convert this dataframe to an interactive table.\"\n",
       "              style=\"display:none;\">\n",
       "        \n",
       "  <svg xmlns=\"http://www.w3.org/2000/svg\" height=\"24px\"viewBox=\"0 0 24 24\"\n",
       "       width=\"24px\">\n",
       "    <path d=\"M0 0h24v24H0V0z\" fill=\"none\"/>\n",
       "    <path d=\"M18.56 5.44l.94 2.06.94-2.06 2.06-.94-2.06-.94-.94-2.06-.94 2.06-2.06.94zm-11 1L8.5 8.5l.94-2.06 2.06-.94-2.06-.94L8.5 2.5l-.94 2.06-2.06.94zm10 10l.94 2.06.94-2.06 2.06-.94-2.06-.94-.94-2.06-.94 2.06-2.06.94z\"/><path d=\"M17.41 7.96l-1.37-1.37c-.4-.4-.92-.59-1.43-.59-.52 0-1.04.2-1.43.59L10.3 9.45l-7.72 7.72c-.78.78-.78 2.05 0 2.83L4 21.41c.39.39.9.59 1.41.59.51 0 1.02-.2 1.41-.59l7.78-7.78 2.81-2.81c.8-.78.8-2.07 0-2.86zM5.41 20L4 18.59l7.72-7.72 1.47 1.35L5.41 20z\"/>\n",
       "  </svg>\n",
       "      </button>\n",
       "      \n",
       "  <style>\n",
       "    .colab-df-container {\n",
       "      display:flex;\n",
       "      flex-wrap:wrap;\n",
       "      gap: 12px;\n",
       "    }\n",
       "\n",
       "    .colab-df-convert {\n",
       "      background-color: #E8F0FE;\n",
       "      border: none;\n",
       "      border-radius: 50%;\n",
       "      cursor: pointer;\n",
       "      display: none;\n",
       "      fill: #1967D2;\n",
       "      height: 32px;\n",
       "      padding: 0 0 0 0;\n",
       "      width: 32px;\n",
       "    }\n",
       "\n",
       "    .colab-df-convert:hover {\n",
       "      background-color: #E2EBFA;\n",
       "      box-shadow: 0px 1px 2px rgba(60, 64, 67, 0.3), 0px 1px 3px 1px rgba(60, 64, 67, 0.15);\n",
       "      fill: #174EA6;\n",
       "    }\n",
       "\n",
       "    [theme=dark] .colab-df-convert {\n",
       "      background-color: #3B4455;\n",
       "      fill: #D2E3FC;\n",
       "    }\n",
       "\n",
       "    [theme=dark] .colab-df-convert:hover {\n",
       "      background-color: #434B5C;\n",
       "      box-shadow: 0px 1px 3px 1px rgba(0, 0, 0, 0.15);\n",
       "      filter: drop-shadow(0px 1px 2px rgba(0, 0, 0, 0.3));\n",
       "      fill: #FFFFFF;\n",
       "    }\n",
       "  </style>\n",
       "\n",
       "      <script>\n",
       "        const buttonEl =\n",
       "          document.querySelector('#df-44072a05-f97e-40a5-8bb8-f189824f096d button.colab-df-convert');\n",
       "        buttonEl.style.display =\n",
       "          google.colab.kernel.accessAllowed ? 'block' : 'none';\n",
       "\n",
       "        async function convertToInteractive(key) {\n",
       "          const element = document.querySelector('#df-44072a05-f97e-40a5-8bb8-f189824f096d');\n",
       "          const dataTable =\n",
       "            await google.colab.kernel.invokeFunction('convertToInteractive',\n",
       "                                                     [key], {});\n",
       "          if (!dataTable) return;\n",
       "\n",
       "          const docLinkHtml = 'Like what you see? Visit the ' +\n",
       "            '<a target=\"_blank\" href=https://colab.research.google.com/notebooks/data_table.ipynb>data table notebook</a>'\n",
       "            + ' to learn more about interactive tables.';\n",
       "          element.innerHTML = '';\n",
       "          dataTable['output_type'] = 'display_data';\n",
       "          await google.colab.output.renderOutput(dataTable, element);\n",
       "          const docLink = document.createElement('div');\n",
       "          docLink.innerHTML = docLinkHtml;\n",
       "          element.appendChild(docLink);\n",
       "        }\n",
       "      </script>\n",
       "    </div>\n",
       "  </div>\n",
       "  "
      ],
      "text/plain": [
       "           family               name class cap-diameter cap-shape Cap-surface  \\\n",
       "0  Amanita Family         Fly Agaric     p     [10, 20]    [x, f]      [g, h]   \n",
       "1  Amanita Family        Panther Cap     p      [5, 10]    [p, x]         [g]   \n",
       "2  Amanita Family  False Panther Cap     p     [10, 15]    [x, f]         NaN   \n",
       "3  Amanita Family        The Blusher     e      [5, 15]    [x, f]         NaN   \n",
       "4  Amanita Family          Death Cap     p      [5, 12]    [x, f]         [h]   \n",
       "\n",
       "  cap-color does-bruise-or-bleed gill-attachment gill-spacing  ... stem-root  \\\n",
       "0    [e, o]                  [f]             [e]          NaN  ...       [s]   \n",
       "1       [n]                  [f]             [e]          NaN  ...       NaN   \n",
       "2    [g, n]                  [f]             [e]          NaN  ...       NaN   \n",
       "3       [n]                  [t]             NaN          NaN  ...       [b]   \n",
       "4       [r]                  [f]             NaN          [c]  ...       NaN   \n",
       "\n",
       "  stem-surface stem-color veil-type veil-color has-ring ring-type  \\\n",
       "0          [y]        [w]       [u]        [w]      [t]    [g, p]   \n",
       "1          [y]        [w]       [u]        [w]      [t]       [p]   \n",
       "2          NaN        [w]       [u]        [w]      [t]    [e, g]   \n",
       "3          NaN        [w]       [u]        [w]      [t]       [g]   \n",
       "4          NaN        [w]       [u]        [w]      [t]    [g, p]   \n",
       "\n",
       "  Spore-print-color habitat     season  \n",
       "0               NaN     [d]  [u, a, w]  \n",
       "1               NaN     [d]     [u, a]  \n",
       "2               NaN     [d]     [u, a]  \n",
       "3               NaN     [d]     [u, a]  \n",
       "4               NaN     [d]     [u, a]  \n",
       "\n",
       "[5 rows x 23 columns]"
      ]
     },
     "execution_count": 3,
     "metadata": {},
     "output_type": "execute_result"
    }
   ],
   "source": [
    "df.head()"
   ]
  },
  {
   "cell_type": "code",
   "execution_count": null,
   "metadata": {
    "colab": {
     "base_uri": "https://localhost:8080/"
    },
    "id": "mcmnujNOvdOy",
    "outputId": "bf57faed-2955-4d84-c268-7727ca376dd1"
   },
   "outputs": [
    {
     "data": {
      "text/plain": [
       "Index(['family', 'name', 'class', 'cap-diameter', 'cap-shape', 'Cap-surface',\n",
       "       'cap-color', 'does-bruise-or-bleed', 'gill-attachment', 'gill-spacing',\n",
       "       'gill-color', 'stem-height', 'stem-width', 'stem-root', 'stem-surface',\n",
       "       'stem-color', 'veil-type', 'veil-color', 'has-ring', 'ring-type',\n",
       "       'Spore-print-color', 'habitat', 'season'],\n",
       "      dtype='object')"
      ]
     },
     "execution_count": 45,
     "metadata": {},
     "output_type": "execute_result"
    }
   ],
   "source": [
    "df.columns"
   ]
  },
  {
   "cell_type": "markdown",
   "metadata": {
    "id": "hmHmgXtlxkaE"
   },
   "source": [
    "#### Question 3-a (How many mushrooms are poisonous?)"
   ]
  },
  {
   "cell_type": "code",
   "execution_count": null,
   "metadata": {
    "colab": {
     "base_uri": "https://localhost:8080/"
    },
    "id": "FosURiVmxd-U",
    "outputId": "e6ed5eac-95fb-45dd-b569-5540090606b8"
   },
   "outputs": [
    {
     "name": "stdout",
     "output_type": "stream",
     "text": [
      "No of mushrooms are poisonous:  96\n"
     ]
    }
   ],
   "source": [
    "print(\"No of mushrooms are poisonous: \", df['class'].value_counts()[0])"
   ]
  },
  {
   "cell_type": "markdown",
   "metadata": {
    "id": "XbKhUYtVyfI-"
   },
   "source": [
    "#### Question 3-b (Which family contains most poisonous mushrooms?)"
   ]
  },
  {
   "cell_type": "code",
   "execution_count": null,
   "metadata": {
    "id": "0eZDBk1lxeD-"
   },
   "outputs": [],
   "source": [
    "cross_tab= pd.crosstab(df['family'],df['class'])\n",
    "column_b = cross_tab['p']\n",
    "max_value_index = column_b.idxmax()"
   ]
  },
  {
   "cell_type": "code",
   "execution_count": null,
   "metadata": {
    "colab": {
     "base_uri": "https://localhost:8080/",
     "height": 35
    },
    "id": "RdFMJcBZxeGz",
    "outputId": "8b5dbd7b-a352-41d9-eb4d-a45f1d7f82b0"
   },
   "outputs": [
    {
     "data": {
      "application/vnd.google.colaboratory.intrinsic+json": {
       "type": "string"
      },
      "text/plain": [
       "'Tricholoma Family'"
      ]
     },
     "execution_count": 54,
     "metadata": {},
     "output_type": "execute_result"
    }
   ],
   "source": [
    "max_value_index"
   ]
  },
  {
   "cell_type": "markdown",
   "metadata": {
    "id": "5cqwBJLh0qlU"
   },
   "source": [
    "#### Question 3-c (Do all poisonous mushrooms have a ring?)"
   ]
  },
  {
   "cell_type": "code",
   "execution_count": null,
   "metadata": {
    "colab": {
     "base_uri": "https://localhost:8080/"
    },
    "id": "rrlFzeiJxeKO",
    "outputId": "8c7f7c3b-3139-45ec-81ae-72c6bbebdc9a"
   },
   "outputs": [
    {
     "data": {
      "text/plain": [
       "has-ring\n",
       "[f]    70\n",
       "[t]    26\n",
       "Name: p, dtype: int64"
      ]
     },
     "execution_count": 8,
     "metadata": {},
     "output_type": "execute_result"
    }
   ],
   "source": [
    "cross_tab2= pd.crosstab(df['has-ring'],df['class'])\n",
    "column_3c = cross_tab2['p']\n",
    "column_3c"
   ]
  },
  {
   "cell_type": "markdown",
   "metadata": {
    "id": "T5CtWrtq1xrb"
   },
   "source": [
    "#### Question 3-d (Which seasons do poisonous mushrooms grow typically?)"
   ]
  },
  {
   "cell_type": "code",
   "execution_count": null,
   "metadata": {
    "colab": {
     "base_uri": "https://localhost:8080/"
    },
    "id": "QfPUgYOm1muq",
    "outputId": "35d88fdf-6f7e-4791-8b32-3f6dd7c18d58"
   },
   "outputs": [
    {
     "name": "stdout",
     "output_type": "stream",
     "text": [
      "[u, a] :  63\n"
     ]
    }
   ],
   "source": [
    "cross_tab3d= pd.crosstab(df['season'],df['class'])\n",
    "column_3d = cross_tab3d['p']\n",
    "max_index = column_3d.idxmax()\n",
    "\n",
    "print(max_index, \": \", column_3d.max())"
   ]
  },
  {
   "cell_type": "code",
   "execution_count": null,
   "metadata": {
    "id": "T1H53m1u1m1a"
   },
   "outputs": [],
   "source": []
  },
  {
   "cell_type": "markdown",
   "metadata": {
    "id": "i-XNqAvpYGJ3"
   },
   "source": [
    "### ==> *Your Answer Here*"
   ]
  }
 ],
 "metadata": {
  "colab": {
   "collapsed_sections": [
    "j2OUn001UbEl",
    "Xg_uSD0G1Vu0",
    "hTJ_Wgk3kg7S",
    "pmDpLddYk_Ma",
    "GLkxOl4cwJug",
    "bHZr30N0WV0i",
    "hmHmgXtlxkaE",
    "XbKhUYtVyfI-",
    "5cqwBJLh0qlU",
    "T5CtWrtq1xrb"
   ],
   "provenance": []
  },
  "kernelspec": {
   "display_name": "Python 3 (ipykernel)",
   "language": "python",
   "name": "python3"
  },
  "language_info": {
   "codemirror_mode": {
    "name": "ipython",
    "version": 3
   },
   "file_extension": ".py",
   "mimetype": "text/x-python",
   "name": "python",
   "nbconvert_exporter": "python",
   "pygments_lexer": "ipython3",
   "version": "3.9.16"
  }
 },
 "nbformat": 4,
 "nbformat_minor": 1
}
