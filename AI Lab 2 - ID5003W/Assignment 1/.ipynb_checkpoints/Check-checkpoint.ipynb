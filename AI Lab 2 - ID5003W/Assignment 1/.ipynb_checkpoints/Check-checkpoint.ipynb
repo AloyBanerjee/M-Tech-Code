{
 "cells": [
  {
   "cell_type": "code",
   "execution_count": 1,
   "id": "45089388",
   "metadata": {},
   "outputs": [],
   "source": [
    "!pip install --quiet mrjob"
   ]
  },
  {
   "cell_type": "code",
   "execution_count": 17,
   "id": "f9150ed1",
   "metadata": {},
   "outputs": [],
   "source": [
    "import numpy as np \n",
    "import os"
   ]
  },
  {
   "cell_type": "code",
   "execution_count": 21,
   "id": "3ecebec5",
   "metadata": {},
   "outputs": [],
   "source": [
    "os.chdir('C:\\\\Users\\\\Admin\\\\Coding-M-Tech\\\\AI Lab 2 - ID5003W\\\\Assignment 1\\\\')"
   ]
  },
  {
   "cell_type": "code",
   "execution_count": 22,
   "id": "45ae4871",
   "metadata": {},
   "outputs": [
    {
     "name": "stdout",
     "output_type": "stream",
     "text": [
      "Writing test.py\n"
     ]
    }
   ],
   "source": [
    "%%file test.py\n",
    "import os\n",
    "from mrjob.job import MRJob\n",
    "from mrjob.step import MRStep\n",
    "\n",
    "class MaxSentenceLength(MRJob):\n",
    "\n",
    "    def mapper_init(self):\n",
    "        self.current_sentence = ''\n",
    "\n",
    "    def mapper(self, _, value):\n",
    "        file_name = os.getenv('mapreduce_map_input_file')\n",
    "        line = ' '.join(value.encode(\"ascii\", \"ignore\").decode().split())\n",
    "        #current_sentence = line\n",
    "        #yield file_name, current_sentence\n",
    "        \n",
    "        if '.' in line:\n",
    "            dot_split = line.split('.')\n",
    "            current_sentence = '' + self.current_sentence\n",
    "            if len(dot_split) > 1:\n",
    "                self.current_sentence = '. '.join(dot_split[1:])\n",
    "            else:\n",
    "                self.current_sentence = ''\n",
    "            yield file_name, max((current_sentence + ' ' + dot_split[0]).split('. '))\n",
    "        else:\n",
    "            if line != '':\n",
    "                self.current_sentence += ' ' + line\n",
    "            else:\n",
    "                self.current_sentence += '. ' + line\n",
    "\n",
    "    def reducer(self, key, value):\n",
    "        sentence = max(list(value), key=len)\n",
    "        sentence_length = len(sentence)\n",
    "        yield key, f\"Maximum length of sentence is {sentence_length} from {key} file. Longest Sentence of {key} file is :{sentence}\"\n",
    "        #yield key, list(value)\n",
    "\n",
    "    def steps(self):\n",
    "        return [\n",
    "            MRStep(mapper_init=self.mapper_init, mapper=self.mapper, reducer=self.reducer)\n",
    "        ]\n",
    "\n",
    "if __name__ == '__main__':\n",
    "    MaxSentenceLength.run()\n",
    "\n"
   ]
  },
  {
   "cell_type": "code",
   "execution_count": 23,
   "id": "9f9501cf",
   "metadata": {},
   "outputs": [
    {
     "name": "stdout",
     "output_type": "stream",
     "text": [
      "\"file:\\/\\/test.txt\"\t\"Maximum length of sentence is 26 from file:\\/\\/test.txt file. Longest Sentence of file:\\/\\/test.txt file is : freely shared with anyone\"\n"
     ]
    },
    {
     "name": "stderr",
     "output_type": "stream",
     "text": [
      "No configs found; falling back on auto-configuration\n",
      "No configs specified for inline runner\n",
      "Creating temp directory C:\\Users\\Admin\\AppData\\Local\\Temp\\test.Admin.20230531.140929.465178\n",
      "Running step 1 of 1...\n",
      "job output is in C:\\Users\\Admin\\AppData\\Local\\Temp\\test.Admin.20230531.140929.465178\\output\n",
      "Streaming final output from C:\\Users\\Admin\\AppData\\Local\\Temp\\test.Admin.20230531.140929.465178\\output...\n",
      "Removing temp directory C:\\Users\\Admin\\AppData\\Local\\Temp\\test.Admin.20230531.140929.465178...\n"
     ]
    }
   ],
   "source": [
    "!python test.py \"test.txt\""
   ]
  },
  {
   "cell_type": "code",
   "execution_count": 12,
   "id": "ac0b60b9",
   "metadata": {},
   "outputs": [],
   "source": [
    "import os \n",
    "os.chdir('C:\\\\Users\\\\Admin\\\\Coding-M-Tech\\\\AI Lab 2 - ID5003W\\\\Assignment 1\\\\')"
   ]
  },
  {
   "cell_type": "code",
   "execution_count": 28,
   "id": "7b2354fb",
   "metadata": {},
   "outputs": [
    {
     "name": "stdout",
     "output_type": "stream",
     "text": [
      "Overwriting longest_sentence_Vinu.py\n"
     ]
    }
   ],
   "source": [
    "%%file longest_sentence_Vinu.py\n",
    "from mrjob.job import MRJob\n",
    "from mrjob.step import MRStep\n",
    "import re\n",
    "\n",
    "p = re.compile(\"[\\n$]\")\n",
    "tmplen = 0\n",
    "\n",
    "class longest_sentenc(MRJob):\n",
    "    \n",
    "    def mapper_init(self):        \n",
    "        self.concat = str()\n",
    "        self.flag = int()\n",
    "        self.tmplen = 0\n",
    "        self.longest_sent = str()\n",
    "        self.longest_len = 0\n",
    "\n",
    "    def mapper(self, key, value): \n",
    "        file_name = os.getenv('mapreduce_map_input_file')\n",
    "        value = ' '.join(value.encode(\"ascii\", \"ignore\").decode().split())\n",
    "        yield file_name, value\n",
    "#         self.concat = self.concat + ' ' + value    \n",
    "#         self.flag = self.flag + 1\n",
    "#         sentences = [n.strip() for n in p.split(self.concat) if n]\n",
    "#         sent_period = [x.strip() for x in re.split('[\\.$]', sentences[0]) if x]\n",
    "#         for sent in sent_period:\n",
    "#             if len(sent)>self.tmplen:\n",
    "#                 self.longest_sent = sent\n",
    "#                 #self.longest_len = (len(sent))\n",
    "#                 self.tmplen = len(self.longest_sent)\n",
    "#             else:\n",
    "#                 self.longest_sent = self.longest_sent\n",
    "#                 #self.longest_len = self.longest_len\n",
    "#                 #long_sent = self.longest_sent\n",
    "#                 #long_len = self.longest_len\n",
    "#         yield self.longest_sent, len(self.longest_sent)\n",
    "    \n",
    "    def reducer(self, key, value):\n",
    "        yield key, value\n",
    "    \n",
    "    def steps(self):\n",
    "        return [\n",
    "                MRStep(mapper_init=self.mapper_init, mapper=self.mapper, reducer=self.reducer)\n",
    "            ]     \n",
    "\n",
    "if __name__ == \"_main_\":\n",
    "    longest_sentenc.run()"
   ]
  },
  {
   "cell_type": "code",
   "execution_count": 29,
   "id": "d14c6b2b",
   "metadata": {},
   "outputs": [],
   "source": [
    "#!python longest_sentence_Vinu.py --mapper < test.txt"
   ]
  },
  {
   "cell_type": "code",
   "execution_count": 31,
   "id": "3b67a78c",
   "metadata": {},
   "outputs": [],
   "source": [
    "!python longest_sentence_Vinu.py \"test.txt\""
   ]
  },
  {
   "cell_type": "code",
   "execution_count": 27,
   "id": "454587c0",
   "metadata": {},
   "outputs": [],
   "source": [
    "!python longest_sentence_Vinu.py \"test.txt\""
   ]
  },
  {
   "cell_type": "code",
   "execution_count": null,
   "id": "fb924327",
   "metadata": {},
   "outputs": [],
   "source": []
  }
 ],
 "metadata": {
  "kernelspec": {
   "display_name": "Python 3 (ipykernel)",
   "language": "python",
   "name": "python3"
  },
  "language_info": {
   "codemirror_mode": {
    "name": "ipython",
    "version": 3
   },
   "file_extension": ".py",
   "mimetype": "text/x-python",
   "name": "python",
   "nbconvert_exporter": "python",
   "pygments_lexer": "ipython3",
   "version": "3.9.16"
  }
 },
 "nbformat": 4,
 "nbformat_minor": 5
}
