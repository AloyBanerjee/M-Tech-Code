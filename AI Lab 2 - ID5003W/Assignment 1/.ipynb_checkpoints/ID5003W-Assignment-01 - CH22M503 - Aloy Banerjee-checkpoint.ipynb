{
 "cells": [
  {
   "cell_type": "markdown",
   "metadata": {
    "id": "f9aws0meaRBS"
   },
   "source": [
    "#### Submission Deadline: 31/05/2023  -  23:59"
   ]
  },
  {
   "cell_type": "markdown",
   "metadata": {
    "id": "j2OUn001UbEl"
   },
   "source": [
    "# Question: 01\n",
    "\n",
    "**MAP REDUCE - DATASET:** write map reduce program(s) using python-mr in colab notebook and complete the following exercises\n",
    "\n",
    "  - Find the files which contain the following phrases\n",
    "    - “draping the folds of her velvet dress”\n",
    "    - “grim clasp to the iron stanchions”\n",
    "    - “Lo, I teach you the Superman!”\n",
    "    - “Through that divine allegiance”\n",
    "  - Find the file which has maximum number of tokens\n",
    "  - Find the file which has the longest sentence (a sentence ends in a full stop and can span multiple lines)\n",
    "\n",
    "\n",
    "**Dataset:** \n",
    "\n",
    "  - [pg1513.txt](https://www.gutenberg.org/cache/epub/1513/pg1513.txt)<br>\n",
    "  - [2160-0.txt](https://www.gutenberg.org/files/2160/2160-0.txt)<br>\n",
    "  - [pg11.txt](https://www.gutenberg.org/cache/epub/11/pg11.txt)<br>\n",
    "  - [pg2600.txt](https://www.gutenberg.org/cache/epub/2600/pg2600.txt)<br>\n",
    "  - [345.txt.utf-8](https://www.gutenberg.org/ebooks/345.txt.utf-8)<br>\n",
    "  - [64317.txt.utf-8](https://www.gutenberg.org/ebooks/64317.txt.utf-8)<br>\n",
    "  - [70815.txt.utf-8](https://www.gutenberg.org/ebooks/70815.txt.utf-8)<br>\n",
    "  - [1080-0.txt](https://www.gutenberg.org/files/1080/1080-0.txt)<br>\n",
    "  - [70817.txt.utf-8](https://www.gutenberg.org/ebooks/70817.txt.utf-8)<br>\n",
    "  - [1998.txt.utf-8](https://www.gutenberg.org/ebooks/1998.txt.utf-8)<br>\n",
    "\n"
   ]
  },
  {
   "cell_type": "markdown",
   "metadata": {},
   "source": [
    "## Answer: 01"
   ]
  },
  {
   "cell_type": "code",
   "execution_count": 31,
   "metadata": {},
   "outputs": [
    {
     "name": "stdout",
     "output_type": "stream",
     "text": [
      "Collecting mrjob\n",
      "  Downloading mrjob-0.7.4-py2.py3-none-any.whl (439 kB)\n",
      "     -------------------------------------- 439.6/439.6 kB 1.7 MB/s eta 0:00:00\n",
      "Requirement already satisfied: PyYAML>=3.10 in c:\\users\\admin\\anaconda3\\lib\\site-packages (from mrjob) (6.0)\n",
      "Installing collected packages: mrjob\n",
      "Successfully installed mrjob-0.7.4\n"
     ]
    }
   ],
   "source": [
    "!pip install mrjob"
   ]
  },
  {
   "cell_type": "markdown",
   "metadata": {},
   "source": [
    "#### Import Library"
   ]
  },
  {
   "cell_type": "code",
   "execution_count": 63,
   "metadata": {},
   "outputs": [],
   "source": [
    "import urllib.request\n",
    "from mrjob.job import MRJob\n",
    "from mrjob.step import MRStep\n",
    "import os\n",
    "import re"
   ]
  },
  {
   "cell_type": "markdown",
   "metadata": {},
   "source": [
    "#### Common Variable"
   ]
  },
  {
   "cell_type": "code",
   "execution_count": 55,
   "metadata": {},
   "outputs": [],
   "source": [
    "## All the downloadable url\n",
    "url_pg1513 = 'https://www.gutenberg.org/cache/epub/1513/pg1513.txt'\n",
    "url_2160 = 'https://www.gutenberg.org/files/2160/2160-0.txt'\n",
    "url_pg11 = 'https://www.gutenberg.org/cache/epub/11/pg11.txt'\n",
    "url_pg2600 = 'https://www.gutenberg.org/cache/epub/2600/pg2600.txt'\n",
    "url_pg345 = 'https://www.gutenberg.org/cache/epub/345/pg345.txt'\n",
    "url_pg64317 = 'https://www.gutenberg.org/cache/epub/64317/pg64317.txt'\n",
    "url_pg70815 = 'https://www.gutenberg.org/cache/epub/70815/pg70815.txt'\n",
    "url_1080 = 'https://www.gutenberg.org/files/1080/1080-0.txt'\n",
    "url_pg70817 = 'https://www.gutenberg.org/cache/epub/70817/pg70817.txt'\n",
    "url_pg1998 = 'https://www.gutenberg.org/cache/epub/1998/pg1998.txt'\n",
    "\n",
    "\n",
    "## All the search phrases\n",
    "phrases = [\n",
    "    \"draping the folds of her velvet dress\",\n",
    "    \"grim clasp to the iron stanchions\",\n",
    "    \"Lo, I teach you the Superman!\",\n",
    "    \"Through that divine allegiance\"\n",
    "]\n",
    "\n",
    "\n",
    "## Directory where the files are stored\n",
    "dir_path = 'Q1-Dataset/'"
   ]
  },
  {
   "cell_type": "markdown",
   "metadata": {},
   "source": [
    "#### Common Methods and Class"
   ]
  },
  {
   "cell_type": "code",
   "execution_count": 69,
   "metadata": {},
   "outputs": [
    {
     "name": "stderr",
     "output_type": "stream",
     "text": [
      "usage: ipykernel_launcher.py [options] [input files]\n",
      "ipykernel_launcher.py: error: unrecognized arguments: -f\n"
     ]
    },
    {
     "ename": "SystemExit",
     "evalue": "2",
     "output_type": "error",
     "traceback": [
      "An exception has occurred, use %tb to see the full traceback.\n",
      "\u001b[1;31mSystemExit\u001b[0m\u001b[1;31m:\u001b[0m 2\n"
     ]
    }
   ],
   "source": [
    "class MRPhrasesAndTokens(MRJob):\n",
    "    phrases = [\n",
    "        \"draping the folds of her velvet dress\",\n",
    "        \"grim clasp to the iron stanchions\",\n",
    "        \"Lo, I teach you the Superman!\",\n",
    "        \"Through that divine allegiance\"\n",
    "    ]\n",
    "\n",
    "    def configure_args(self):\n",
    "        super(MRPhrasesAndTokens, self).configure_args()\n",
    "\n",
    "    def mapper(self, _, line):\n",
    "        filename = os.getenv('mapreduce_map_input_file')  # get the file name\n",
    "        for phrase in self.phrases:\n",
    "            if phrase in line:\n",
    "                yield (\"phrase\", phrase), filename\n",
    "        yield (\"token\", filename), len(line.split())\n",
    "\n",
    "    def reducer(self, key, values):\n",
    "        if key[0] == \"phrase\":\n",
    "            yield key, list(set(values))\n",
    "        elif key[0] == \"token\":\n",
    "            yield key, (sum(values), list(values)[0])\n",
    "\n",
    "if __name__ == '__main__':\n",
    "    MRPhrasesAndTokens.run()\n",
    "\n"
   ]
  },
  {
   "cell_type": "markdown",
   "metadata": {},
   "source": [
    "#### Creating a dataset folder"
   ]
  },
  {
   "cell_type": "code",
   "execution_count": 51,
   "metadata": {},
   "outputs": [
    {
     "name": "stderr",
     "output_type": "stream",
     "text": [
      "A subdirectory or file dataset already exists.\n"
     ]
    }
   ],
   "source": [
    "!mkdir Q1-Dataset"
   ]
  },
  {
   "cell_type": "markdown",
   "metadata": {},
   "source": [
    "#### Downloading the file"
   ]
  },
  {
   "cell_type": "code",
   "execution_count": 52,
   "metadata": {},
   "outputs": [
    {
     "data": {
      "text/plain": [
       "('dataset/pg1998.txt', <http.client.HTTPMessage at 0x19bc42a9b20>)"
      ]
     },
     "execution_count": 52,
     "metadata": {},
     "output_type": "execute_result"
    }
   ],
   "source": [
    "urllib.request.urlretrieve(url_pg1513,'Q1-Dataset/pg1513.txt')\n",
    "urllib.request.urlretrieve(url_2160,'Q1-Dataset/2160-0.txt')\n",
    "urllib.request.urlretrieve(url_pg11,'Q1-Dataset/pg11.txt')\n",
    "urllib.request.urlretrieve(url_pg2600,'Q1-Dataset/pg2600.txt')\n",
    "urllib.request.urlretrieve(url_pg345,'Q1-Dataset/pg345.txt')\n",
    "urllib.request.urlretrieve(url_pg64317,'Q1-Dataset/pg64317.txt')\n",
    "urllib.request.urlretrieve(url_pg70815,'Q1-Dataset/pg70815.txt')\n",
    "urllib.request.urlretrieve(url_1080,'Q1-Dataset/1080-0.txt')\n",
    "urllib.request.urlretrieve(url_pg70817,'Q1-Dataset/pg70817.txt')\n",
    "urllib.request.urlretrieve(url_pg1998,'Q1-Dataset/pg1998.txt')"
   ]
  },
  {
   "cell_type": "markdown",
   "metadata": {},
   "source": [
    "##### Perform Map reduce operation"
   ]
  },
  {
   "cell_type": "code",
   "execution_count": null,
   "metadata": {},
   "outputs": [],
   "source": []
  },
  {
   "cell_type": "code",
   "execution_count": null,
   "metadata": {},
   "outputs": [],
   "source": []
  },
  {
   "cell_type": "code",
   "execution_count": null,
   "metadata": {},
   "outputs": [],
   "source": []
  },
  {
   "cell_type": "code",
   "execution_count": null,
   "metadata": {},
   "outputs": [],
   "source": []
  },
  {
   "cell_type": "code",
   "execution_count": null,
   "metadata": {},
   "outputs": [],
   "source": []
  },
  {
   "cell_type": "code",
   "execution_count": null,
   "metadata": {},
   "outputs": [],
   "source": []
  },
  {
   "cell_type": "markdown",
   "metadata": {},
   "source": [
    "# Question: 02\n",
    "\n",
    "**Write a PySpark RDD program to compute:**\n",
    "\n",
    "\n",
    "  - The list of common (overlapping / intersection ) words across all the ten files listed above.\n",
    "  - List the word frequency of common words across files as a dict ( tip: use join method in the rdd). The size of the dict equals the list of common words and each key in the top level dict contains the word count corresponding to all the ten files\n",
    "\n",
    "    - {“word”: {“pg1513.txt”:10,”2160-0.txt”:25,... } \n"
   ]
  },
  {
   "cell_type": "markdown",
   "metadata": {},
   "source": [
    "## Answer: 02"
   ]
  },
  {
   "cell_type": "code",
   "execution_count": null,
   "metadata": {},
   "outputs": [],
   "source": []
  },
  {
   "cell_type": "markdown",
   "metadata": {},
   "source": [
    "# Question: 03\n",
    "\n",
    "Perform an exploratory data analysis on the primary_data.csv of the Mushroom dataset [Secondary Mushroom Dataset](https://archive.ics.uci.edu/ml/datasets/Secondary+Mushroom+Dataset) using pandas and answer the following questions:\n",
    "  - How many mushrooms are poisonous?\n",
    "  - Which family contains most poisonous mushrooms?\n",
    "  - Do all poisonous mushrooms have a ring?\n",
    "  - Which seasons do poisonous mushrooms grow typically?"
   ]
  },
  {
   "cell_type": "markdown",
   "metadata": {},
   "source": [
    "## Answer: 03"
   ]
  },
  {
   "cell_type": "markdown",
   "metadata": {},
   "source": [
    "#### Importing Libraries"
   ]
  },
  {
   "cell_type": "code",
   "execution_count": null,
   "metadata": {},
   "outputs": [],
   "source": [
    "import numpy as np\n",
    "import pandas as pd\n",
    "import matplotlib.pyplot as plt\n",
    "import seaborn as sns\n",
    "import os"
   ]
  },
  {
   "cell_type": "markdown",
   "metadata": {},
   "source": [
    "#### Common Variables"
   ]
  },
  {
   "cell_type": "code",
   "execution_count": 8,
   "metadata": {},
   "outputs": [],
   "source": [
    "working_dir_path = 'C:\\\\Users\\\\Admin\\\\Coding-M-Tech\\\\AI Lab 2 - ID5003W\\\\Assignment 1\\\\Q3-Dataset\\\\MushroomDataset'\n",
    "primaryFileName = 'primary_data.csv'"
   ]
  },
  {
   "cell_type": "markdown",
   "metadata": {},
   "source": [
    "#### Change the folder location "
   ]
  },
  {
   "cell_type": "code",
   "execution_count": 6,
   "metadata": {},
   "outputs": [],
   "source": [
    "os.chdir(working_dir_path)"
   ]
  },
  {
   "cell_type": "markdown",
   "metadata": {},
   "source": [
    "#### Loading primary data"
   ]
  },
  {
   "cell_type": "code",
   "execution_count": 13,
   "metadata": {},
   "outputs": [],
   "source": [
    "df_primary_data = pd.read_csv(primaryFileName,sep=';')"
   ]
  },
  {
   "cell_type": "code",
   "execution_count": 14,
   "metadata": {},
   "outputs": [
    {
     "data": {
      "text/html": [
       "<div>\n",
       "<style scoped>\n",
       "    .dataframe tbody tr th:only-of-type {\n",
       "        vertical-align: middle;\n",
       "    }\n",
       "\n",
       "    .dataframe tbody tr th {\n",
       "        vertical-align: top;\n",
       "    }\n",
       "\n",
       "    .dataframe thead th {\n",
       "        text-align: right;\n",
       "    }\n",
       "</style>\n",
       "<table border=\"1\" class=\"dataframe\">\n",
       "  <thead>\n",
       "    <tr style=\"text-align: right;\">\n",
       "      <th></th>\n",
       "      <th>family</th>\n",
       "      <th>name</th>\n",
       "      <th>class</th>\n",
       "      <th>cap-diameter</th>\n",
       "      <th>cap-shape</th>\n",
       "      <th>Cap-surface</th>\n",
       "      <th>cap-color</th>\n",
       "      <th>does-bruise-or-bleed</th>\n",
       "      <th>gill-attachment</th>\n",
       "      <th>gill-spacing</th>\n",
       "      <th>...</th>\n",
       "      <th>stem-root</th>\n",
       "      <th>stem-surface</th>\n",
       "      <th>stem-color</th>\n",
       "      <th>veil-type</th>\n",
       "      <th>veil-color</th>\n",
       "      <th>has-ring</th>\n",
       "      <th>ring-type</th>\n",
       "      <th>Spore-print-color</th>\n",
       "      <th>habitat</th>\n",
       "      <th>season</th>\n",
       "    </tr>\n",
       "  </thead>\n",
       "  <tbody>\n",
       "    <tr>\n",
       "      <th>0</th>\n",
       "      <td>Amanita Family</td>\n",
       "      <td>Fly Agaric</td>\n",
       "      <td>p</td>\n",
       "      <td>[10, 20]</td>\n",
       "      <td>[x, f]</td>\n",
       "      <td>[g, h]</td>\n",
       "      <td>[e, o]</td>\n",
       "      <td>[f]</td>\n",
       "      <td>[e]</td>\n",
       "      <td>NaN</td>\n",
       "      <td>...</td>\n",
       "      <td>[s]</td>\n",
       "      <td>[y]</td>\n",
       "      <td>[w]</td>\n",
       "      <td>[u]</td>\n",
       "      <td>[w]</td>\n",
       "      <td>[t]</td>\n",
       "      <td>[g, p]</td>\n",
       "      <td>NaN</td>\n",
       "      <td>[d]</td>\n",
       "      <td>[u, a, w]</td>\n",
       "    </tr>\n",
       "    <tr>\n",
       "      <th>1</th>\n",
       "      <td>Amanita Family</td>\n",
       "      <td>Panther Cap</td>\n",
       "      <td>p</td>\n",
       "      <td>[5, 10]</td>\n",
       "      <td>[p, x]</td>\n",
       "      <td>[g]</td>\n",
       "      <td>[n]</td>\n",
       "      <td>[f]</td>\n",
       "      <td>[e]</td>\n",
       "      <td>NaN</td>\n",
       "      <td>...</td>\n",
       "      <td>NaN</td>\n",
       "      <td>[y]</td>\n",
       "      <td>[w]</td>\n",
       "      <td>[u]</td>\n",
       "      <td>[w]</td>\n",
       "      <td>[t]</td>\n",
       "      <td>[p]</td>\n",
       "      <td>NaN</td>\n",
       "      <td>[d]</td>\n",
       "      <td>[u, a]</td>\n",
       "    </tr>\n",
       "    <tr>\n",
       "      <th>2</th>\n",
       "      <td>Amanita Family</td>\n",
       "      <td>False Panther Cap</td>\n",
       "      <td>p</td>\n",
       "      <td>[10, 15]</td>\n",
       "      <td>[x, f]</td>\n",
       "      <td>NaN</td>\n",
       "      <td>[g, n]</td>\n",
       "      <td>[f]</td>\n",
       "      <td>[e]</td>\n",
       "      <td>NaN</td>\n",
       "      <td>...</td>\n",
       "      <td>NaN</td>\n",
       "      <td>NaN</td>\n",
       "      <td>[w]</td>\n",
       "      <td>[u]</td>\n",
       "      <td>[w]</td>\n",
       "      <td>[t]</td>\n",
       "      <td>[e, g]</td>\n",
       "      <td>NaN</td>\n",
       "      <td>[d]</td>\n",
       "      <td>[u, a]</td>\n",
       "    </tr>\n",
       "    <tr>\n",
       "      <th>3</th>\n",
       "      <td>Amanita Family</td>\n",
       "      <td>The Blusher</td>\n",
       "      <td>e</td>\n",
       "      <td>[5, 15]</td>\n",
       "      <td>[x, f]</td>\n",
       "      <td>NaN</td>\n",
       "      <td>[n]</td>\n",
       "      <td>[t]</td>\n",
       "      <td>NaN</td>\n",
       "      <td>NaN</td>\n",
       "      <td>...</td>\n",
       "      <td>[b]</td>\n",
       "      <td>NaN</td>\n",
       "      <td>[w]</td>\n",
       "      <td>[u]</td>\n",
       "      <td>[w]</td>\n",
       "      <td>[t]</td>\n",
       "      <td>[g]</td>\n",
       "      <td>NaN</td>\n",
       "      <td>[d]</td>\n",
       "      <td>[u, a]</td>\n",
       "    </tr>\n",
       "    <tr>\n",
       "      <th>4</th>\n",
       "      <td>Amanita Family</td>\n",
       "      <td>Death Cap</td>\n",
       "      <td>p</td>\n",
       "      <td>[5, 12]</td>\n",
       "      <td>[x, f]</td>\n",
       "      <td>[h]</td>\n",
       "      <td>[r]</td>\n",
       "      <td>[f]</td>\n",
       "      <td>NaN</td>\n",
       "      <td>[c]</td>\n",
       "      <td>...</td>\n",
       "      <td>NaN</td>\n",
       "      <td>NaN</td>\n",
       "      <td>[w]</td>\n",
       "      <td>[u]</td>\n",
       "      <td>[w]</td>\n",
       "      <td>[t]</td>\n",
       "      <td>[g, p]</td>\n",
       "      <td>NaN</td>\n",
       "      <td>[d]</td>\n",
       "      <td>[u, a]</td>\n",
       "    </tr>\n",
       "    <tr>\n",
       "      <th>...</th>\n",
       "      <td>...</td>\n",
       "      <td>...</td>\n",
       "      <td>...</td>\n",
       "      <td>...</td>\n",
       "      <td>...</td>\n",
       "      <td>...</td>\n",
       "      <td>...</td>\n",
       "      <td>...</td>\n",
       "      <td>...</td>\n",
       "      <td>...</td>\n",
       "      <td>...</td>\n",
       "      <td>...</td>\n",
       "      <td>...</td>\n",
       "      <td>...</td>\n",
       "      <td>...</td>\n",
       "      <td>...</td>\n",
       "      <td>...</td>\n",
       "      <td>...</td>\n",
       "      <td>...</td>\n",
       "      <td>...</td>\n",
       "      <td>...</td>\n",
       "    </tr>\n",
       "    <tr>\n",
       "      <th>168</th>\n",
       "      <td>Saddle-Cup Family</td>\n",
       "      <td>White Saddle</td>\n",
       "      <td>p</td>\n",
       "      <td>[2, 6]</td>\n",
       "      <td>[o]</td>\n",
       "      <td>NaN</td>\n",
       "      <td>[w]</td>\n",
       "      <td>[f]</td>\n",
       "      <td>[f]</td>\n",
       "      <td>[f]</td>\n",
       "      <td>...</td>\n",
       "      <td>NaN</td>\n",
       "      <td>[g]</td>\n",
       "      <td>[w]</td>\n",
       "      <td>NaN</td>\n",
       "      <td>NaN</td>\n",
       "      <td>[t]</td>\n",
       "      <td>[f]</td>\n",
       "      <td>NaN</td>\n",
       "      <td>[p, d]</td>\n",
       "      <td>[u, a]</td>\n",
       "    </tr>\n",
       "    <tr>\n",
       "      <th>169</th>\n",
       "      <td>Bracket Fungi</td>\n",
       "      <td>Elfin's Saddle</td>\n",
       "      <td>p</td>\n",
       "      <td>[2, 4]</td>\n",
       "      <td>[o]</td>\n",
       "      <td>NaN</td>\n",
       "      <td>[g, k]</td>\n",
       "      <td>[f]</td>\n",
       "      <td>[f]</td>\n",
       "      <td>[f]</td>\n",
       "      <td>...</td>\n",
       "      <td>NaN</td>\n",
       "      <td>[g]</td>\n",
       "      <td>[g, n]</td>\n",
       "      <td>NaN</td>\n",
       "      <td>NaN</td>\n",
       "      <td>[f]</td>\n",
       "      <td>[f]</td>\n",
       "      <td>NaN</td>\n",
       "      <td>[d]</td>\n",
       "      <td>[u, a]</td>\n",
       "    </tr>\n",
       "    <tr>\n",
       "      <th>170</th>\n",
       "      <td>Bracket Fungi</td>\n",
       "      <td>Turban Fungus</td>\n",
       "      <td>p</td>\n",
       "      <td>[5, 15]</td>\n",
       "      <td>[o]</td>\n",
       "      <td>NaN</td>\n",
       "      <td>[n, e]</td>\n",
       "      <td>[f]</td>\n",
       "      <td>[f]</td>\n",
       "      <td>[f]</td>\n",
       "      <td>...</td>\n",
       "      <td>NaN</td>\n",
       "      <td>[g]</td>\n",
       "      <td>[n]</td>\n",
       "      <td>NaN</td>\n",
       "      <td>NaN</td>\n",
       "      <td>[f]</td>\n",
       "      <td>[f]</td>\n",
       "      <td>NaN</td>\n",
       "      <td>[d]</td>\n",
       "      <td>[s, u]</td>\n",
       "    </tr>\n",
       "    <tr>\n",
       "      <th>171</th>\n",
       "      <td>Morel Family</td>\n",
       "      <td>Common Morel</td>\n",
       "      <td>e</td>\n",
       "      <td>[3, 8]</td>\n",
       "      <td>[p, c, o]</td>\n",
       "      <td>NaN</td>\n",
       "      <td>[n, g]</td>\n",
       "      <td>[f]</td>\n",
       "      <td>[f]</td>\n",
       "      <td>[f]</td>\n",
       "      <td>...</td>\n",
       "      <td>NaN</td>\n",
       "      <td>NaN</td>\n",
       "      <td>[n]</td>\n",
       "      <td>NaN</td>\n",
       "      <td>NaN</td>\n",
       "      <td>[f]</td>\n",
       "      <td>[f]</td>\n",
       "      <td>NaN</td>\n",
       "      <td>[l, d]</td>\n",
       "      <td>[s]</td>\n",
       "    </tr>\n",
       "    <tr>\n",
       "      <th>172</th>\n",
       "      <td>Jelly Discs Family</td>\n",
       "      <td>Jelly Babies</td>\n",
       "      <td>p</td>\n",
       "      <td>[1, 1.5]</td>\n",
       "      <td>[x, f, s]</td>\n",
       "      <td>[s]</td>\n",
       "      <td>[y]</td>\n",
       "      <td>[f]</td>\n",
       "      <td>[f]</td>\n",
       "      <td>[f]</td>\n",
       "      <td>...</td>\n",
       "      <td>NaN</td>\n",
       "      <td>NaN</td>\n",
       "      <td>[y]</td>\n",
       "      <td>NaN</td>\n",
       "      <td>NaN</td>\n",
       "      <td>[f]</td>\n",
       "      <td>[f]</td>\n",
       "      <td>NaN</td>\n",
       "      <td>[d]</td>\n",
       "      <td>[u, a]</td>\n",
       "    </tr>\n",
       "  </tbody>\n",
       "</table>\n",
       "<p>173 rows × 23 columns</p>\n",
       "</div>"
      ],
      "text/plain": [
       "                 family               name class cap-diameter  cap-shape  \\\n",
       "0        Amanita Family         Fly Agaric     p     [10, 20]     [x, f]   \n",
       "1        Amanita Family        Panther Cap     p      [5, 10]     [p, x]   \n",
       "2        Amanita Family  False Panther Cap     p     [10, 15]     [x, f]   \n",
       "3        Amanita Family        The Blusher     e      [5, 15]     [x, f]   \n",
       "4        Amanita Family          Death Cap     p      [5, 12]     [x, f]   \n",
       "..                  ...                ...   ...          ...        ...   \n",
       "168   Saddle-Cup Family       White Saddle     p       [2, 6]        [o]   \n",
       "169       Bracket Fungi     Elfin's Saddle     p       [2, 4]        [o]   \n",
       "170       Bracket Fungi      Turban Fungus     p      [5, 15]        [o]   \n",
       "171        Morel Family       Common Morel     e       [3, 8]  [p, c, o]   \n",
       "172  Jelly Discs Family       Jelly Babies     p     [1, 1.5]  [x, f, s]   \n",
       "\n",
       "    Cap-surface cap-color does-bruise-or-bleed gill-attachment gill-spacing  \\\n",
       "0        [g, h]    [e, o]                  [f]             [e]          NaN   \n",
       "1           [g]       [n]                  [f]             [e]          NaN   \n",
       "2           NaN    [g, n]                  [f]             [e]          NaN   \n",
       "3           NaN       [n]                  [t]             NaN          NaN   \n",
       "4           [h]       [r]                  [f]             NaN          [c]   \n",
       "..          ...       ...                  ...             ...          ...   \n",
       "168         NaN       [w]                  [f]             [f]          [f]   \n",
       "169         NaN    [g, k]                  [f]             [f]          [f]   \n",
       "170         NaN    [n, e]                  [f]             [f]          [f]   \n",
       "171         NaN    [n, g]                  [f]             [f]          [f]   \n",
       "172         [s]       [y]                  [f]             [f]          [f]   \n",
       "\n",
       "     ... stem-root stem-surface stem-color veil-type veil-color has-ring  \\\n",
       "0    ...       [s]          [y]        [w]       [u]        [w]      [t]   \n",
       "1    ...       NaN          [y]        [w]       [u]        [w]      [t]   \n",
       "2    ...       NaN          NaN        [w]       [u]        [w]      [t]   \n",
       "3    ...       [b]          NaN        [w]       [u]        [w]      [t]   \n",
       "4    ...       NaN          NaN        [w]       [u]        [w]      [t]   \n",
       "..   ...       ...          ...        ...       ...        ...      ...   \n",
       "168  ...       NaN          [g]        [w]       NaN        NaN      [t]   \n",
       "169  ...       NaN          [g]     [g, n]       NaN        NaN      [f]   \n",
       "170  ...       NaN          [g]        [n]       NaN        NaN      [f]   \n",
       "171  ...       NaN          NaN        [n]       NaN        NaN      [f]   \n",
       "172  ...       NaN          NaN        [y]       NaN        NaN      [f]   \n",
       "\n",
       "    ring-type Spore-print-color habitat     season  \n",
       "0      [g, p]               NaN     [d]  [u, a, w]  \n",
       "1         [p]               NaN     [d]     [u, a]  \n",
       "2      [e, g]               NaN     [d]     [u, a]  \n",
       "3         [g]               NaN     [d]     [u, a]  \n",
       "4      [g, p]               NaN     [d]     [u, a]  \n",
       "..        ...               ...     ...        ...  \n",
       "168       [f]               NaN  [p, d]     [u, a]  \n",
       "169       [f]               NaN     [d]     [u, a]  \n",
       "170       [f]               NaN     [d]     [s, u]  \n",
       "171       [f]               NaN  [l, d]        [s]  \n",
       "172       [f]               NaN     [d]     [u, a]  \n",
       "\n",
       "[173 rows x 23 columns]"
      ]
     },
     "execution_count": 14,
     "metadata": {},
     "output_type": "execute_result"
    }
   ],
   "source": [
    "df_primary_data"
   ]
  },
  {
   "cell_type": "markdown",
   "metadata": {},
   "source": [
    "#### Perform basic statistical analysis and missing value check"
   ]
  },
  {
   "cell_type": "code",
   "execution_count": 17,
   "metadata": {},
   "outputs": [
    {
     "data": {
      "text/html": [
       "<div>\n",
       "<style scoped>\n",
       "    .dataframe tbody tr th:only-of-type {\n",
       "        vertical-align: middle;\n",
       "    }\n",
       "\n",
       "    .dataframe tbody tr th {\n",
       "        vertical-align: top;\n",
       "    }\n",
       "\n",
       "    .dataframe thead th {\n",
       "        text-align: right;\n",
       "    }\n",
       "</style>\n",
       "<table border=\"1\" class=\"dataframe\">\n",
       "  <thead>\n",
       "    <tr style=\"text-align: right;\">\n",
       "      <th></th>\n",
       "      <th>family</th>\n",
       "      <th>name</th>\n",
       "      <th>class</th>\n",
       "      <th>cap-diameter</th>\n",
       "      <th>cap-shape</th>\n",
       "      <th>Cap-surface</th>\n",
       "      <th>cap-color</th>\n",
       "      <th>does-bruise-or-bleed</th>\n",
       "      <th>gill-attachment</th>\n",
       "      <th>gill-spacing</th>\n",
       "      <th>...</th>\n",
       "      <th>stem-root</th>\n",
       "      <th>stem-surface</th>\n",
       "      <th>stem-color</th>\n",
       "      <th>veil-type</th>\n",
       "      <th>veil-color</th>\n",
       "      <th>has-ring</th>\n",
       "      <th>ring-type</th>\n",
       "      <th>Spore-print-color</th>\n",
       "      <th>habitat</th>\n",
       "      <th>season</th>\n",
       "    </tr>\n",
       "  </thead>\n",
       "  <tbody>\n",
       "    <tr>\n",
       "      <th>count</th>\n",
       "      <td>173</td>\n",
       "      <td>173</td>\n",
       "      <td>173</td>\n",
       "      <td>173</td>\n",
       "      <td>173</td>\n",
       "      <td>133</td>\n",
       "      <td>173</td>\n",
       "      <td>173</td>\n",
       "      <td>145</td>\n",
       "      <td>102</td>\n",
       "      <td>...</td>\n",
       "      <td>27</td>\n",
       "      <td>65</td>\n",
       "      <td>173</td>\n",
       "      <td>9</td>\n",
       "      <td>21</td>\n",
       "      <td>173</td>\n",
       "      <td>166</td>\n",
       "      <td>18</td>\n",
       "      <td>173</td>\n",
       "      <td>173</td>\n",
       "    </tr>\n",
       "    <tr>\n",
       "      <th>unique</th>\n",
       "      <td>23</td>\n",
       "      <td>173</td>\n",
       "      <td>2</td>\n",
       "      <td>51</td>\n",
       "      <td>27</td>\n",
       "      <td>40</td>\n",
       "      <td>67</td>\n",
       "      <td>2</td>\n",
       "      <td>8</td>\n",
       "      <td>3</td>\n",
       "      <td>...</td>\n",
       "      <td>5</td>\n",
       "      <td>14</td>\n",
       "      <td>41</td>\n",
       "      <td>1</td>\n",
       "      <td>7</td>\n",
       "      <td>2</td>\n",
       "      <td>13</td>\n",
       "      <td>8</td>\n",
       "      <td>21</td>\n",
       "      <td>10</td>\n",
       "    </tr>\n",
       "    <tr>\n",
       "      <th>top</th>\n",
       "      <td>Tricholoma Family</td>\n",
       "      <td>Fly Agaric</td>\n",
       "      <td>p</td>\n",
       "      <td>[2, 5]</td>\n",
       "      <td>[x]</td>\n",
       "      <td>[y]</td>\n",
       "      <td>[n]</td>\n",
       "      <td>[f]</td>\n",
       "      <td>[a]</td>\n",
       "      <td>[c]</td>\n",
       "      <td>...</td>\n",
       "      <td>[s]</td>\n",
       "      <td>[s]</td>\n",
       "      <td>[w]</td>\n",
       "      <td>[u]</td>\n",
       "      <td>[w]</td>\n",
       "      <td>[f]</td>\n",
       "      <td>[f]</td>\n",
       "      <td>[k]</td>\n",
       "      <td>[d]</td>\n",
       "      <td>[u, a]</td>\n",
       "    </tr>\n",
       "    <tr>\n",
       "      <th>freq</th>\n",
       "      <td>43</td>\n",
       "      <td>1</td>\n",
       "      <td>96</td>\n",
       "      <td>16</td>\n",
       "      <td>48</td>\n",
       "      <td>14</td>\n",
       "      <td>38</td>\n",
       "      <td>143</td>\n",
       "      <td>32</td>\n",
       "      <td>70</td>\n",
       "      <td>...</td>\n",
       "      <td>9</td>\n",
       "      <td>15</td>\n",
       "      <td>57</td>\n",
       "      <td>9</td>\n",
       "      <td>15</td>\n",
       "      <td>130</td>\n",
       "      <td>137</td>\n",
       "      <td>5</td>\n",
       "      <td>104</td>\n",
       "      <td>106</td>\n",
       "    </tr>\n",
       "  </tbody>\n",
       "</table>\n",
       "<p>4 rows × 23 columns</p>\n",
       "</div>"
      ],
      "text/plain": [
       "                   family        name class cap-diameter cap-shape  \\\n",
       "count                 173         173   173          173       173   \n",
       "unique                 23         173     2           51        27   \n",
       "top     Tricholoma Family  Fly Agaric     p       [2, 5]       [x]   \n",
       "freq                   43           1    96           16        48   \n",
       "\n",
       "       Cap-surface cap-color does-bruise-or-bleed gill-attachment  \\\n",
       "count          133       173                  173             145   \n",
       "unique          40        67                    2               8   \n",
       "top            [y]       [n]                  [f]             [a]   \n",
       "freq            14        38                  143              32   \n",
       "\n",
       "       gill-spacing  ... stem-root stem-surface stem-color veil-type  \\\n",
       "count           102  ...        27           65        173         9   \n",
       "unique            3  ...         5           14         41         1   \n",
       "top             [c]  ...       [s]          [s]        [w]       [u]   \n",
       "freq             70  ...         9           15         57         9   \n",
       "\n",
       "       veil-color has-ring ring-type Spore-print-color habitat  season  \n",
       "count          21      173       166                18     173     173  \n",
       "unique          7        2        13                 8      21      10  \n",
       "top           [w]      [f]       [f]               [k]     [d]  [u, a]  \n",
       "freq           15      130       137                 5     104     106  \n",
       "\n",
       "[4 rows x 23 columns]"
      ]
     },
     "execution_count": 17,
     "metadata": {},
     "output_type": "execute_result"
    }
   ],
   "source": [
    "df_primary_data.describe(include='object')"
   ]
  },
  {
   "cell_type": "code",
   "execution_count": 18,
   "metadata": {},
   "outputs": [
    {
     "name": "stdout",
     "output_type": "stream",
     "text": [
      "<class 'pandas.core.frame.DataFrame'>\n",
      "RangeIndex: 173 entries, 0 to 172\n",
      "Data columns (total 23 columns):\n",
      " #   Column                Non-Null Count  Dtype \n",
      "---  ------                --------------  ----- \n",
      " 0   family                173 non-null    object\n",
      " 1   name                  173 non-null    object\n",
      " 2   class                 173 non-null    object\n",
      " 3   cap-diameter          173 non-null    object\n",
      " 4   cap-shape             173 non-null    object\n",
      " 5   Cap-surface           133 non-null    object\n",
      " 6   cap-color             173 non-null    object\n",
      " 7   does-bruise-or-bleed  173 non-null    object\n",
      " 8   gill-attachment       145 non-null    object\n",
      " 9   gill-spacing          102 non-null    object\n",
      " 10  gill-color            173 non-null    object\n",
      " 11  stem-height           173 non-null    object\n",
      " 12  stem-width            173 non-null    object\n",
      " 13  stem-root             27 non-null     object\n",
      " 14  stem-surface          65 non-null     object\n",
      " 15  stem-color            173 non-null    object\n",
      " 16  veil-type             9 non-null      object\n",
      " 17  veil-color            21 non-null     object\n",
      " 18  has-ring              173 non-null    object\n",
      " 19  ring-type             166 non-null    object\n",
      " 20  Spore-print-color     18 non-null     object\n",
      " 21  habitat               173 non-null    object\n",
      " 22  season                173 non-null    object\n",
      "dtypes: object(23)\n",
      "memory usage: 31.2+ KB\n"
     ]
    }
   ],
   "source": [
    "df_primary_data.info()"
   ]
  },
  {
   "cell_type": "code",
   "execution_count": 19,
   "metadata": {},
   "outputs": [
    {
     "data": {
      "text/plain": [
       "veil-type               164\n",
       "Spore-print-color       155\n",
       "veil-color              152\n",
       "stem-root               146\n",
       "stem-surface            108\n",
       "gill-spacing             71\n",
       "Cap-surface              40\n",
       "gill-attachment          28\n",
       "ring-type                 7\n",
       "family                    0\n",
       "habitat                   0\n",
       "has-ring                  0\n",
       "stem-color                0\n",
       "stem-height               0\n",
       "stem-width                0\n",
       "name                      0\n",
       "gill-color                0\n",
       "does-bruise-or-bleed      0\n",
       "cap-color                 0\n",
       "cap-shape                 0\n",
       "cap-diameter              0\n",
       "class                     0\n",
       "season                    0\n",
       "dtype: int64"
      ]
     },
     "execution_count": 19,
     "metadata": {},
     "output_type": "execute_result"
    }
   ],
   "source": [
    "df_primary_data.isna().sum().sort_values(ascending=False)"
   ]
  },
  {
   "cell_type": "code",
   "execution_count": 20,
   "metadata": {},
   "outputs": [],
   "source": [
    "poisonous_mushroom = df_primary_data[df_primary_data['class'] == 'p']\n",
    "edible_mushroom = df_primary_data[df_primary_data['class'] == 'e']"
   ]
  },
  {
   "cell_type": "markdown",
   "metadata": {},
   "source": [
    "##### Graphical representation of the distribution of poisonous and edible mushroom"
   ]
  },
  {
   "cell_type": "code",
   "execution_count": 22,
   "metadata": {
    "scrolled": false
   },
   "outputs": [
    {
     "name": "stdout",
     "output_type": "stream",
     "text": [
      "==========Distribution of poisonous and edible mushroom============\n"
     ]
    },
    {
     "data": {
      "image/png": "[encoded data removed]",
      "text/plain": [
       "<Figure size 640x480 with 1 Axes>"
      ]
     },
     "metadata": {},
     "output_type": "display_data"
    },
    {
     "data": {
      "text/plain": [
       "p    96\n",
       "e    77\n",
       "Name: class, dtype: int64"
      ]
     },
     "execution_count": 22,
     "metadata": {},
     "output_type": "execute_result"
    }
   ],
   "source": [
    "print('==========Distribution of poisonous and edible mushroom============')\n",
    "mushroom_type_count= df_primary_data['class'].value_counts()  \n",
    "sns.barplot(x=mushroom_type_count.index, y=mushroom_type_count.values)\n",
    "plt.ylabel('Number of data', fontsize=9)\n",
    "plt.xlabel('class', fontsize=9)\n",
    "plt.xticks(rotation=90)\n",
    "plt.show();\n",
    "df_primary_data['class'].value_counts()"
   ]
  },
  {
   "cell_type": "markdown",
   "metadata": {},
   "source": [
    "### Q. How many mushrooms are poisonous?\n",
    "### A. 96 mushrooms are poisonous and 77 are edible"
   ]
  },
  {
   "cell_type": "markdown",
   "metadata": {},
   "source": [
    "##### Graphical representation of the distribution of poisonous mushroom among different family"
   ]
  },
  {
   "cell_type": "code",
   "execution_count": 24,
   "metadata": {},
   "outputs": [
    {
     "data": {
      "image/png": "[encoded data removed]",
      "text/plain": [
       "<Figure size 640x480 with 1 Axes>"
      ]
     },
     "metadata": {},
     "output_type": "display_data"
    },
    {
     "data": {
      "text/plain": [
       "Tricholoma Family         43\n",
       "Russula Family            27\n",
       "Bolete Family             14\n",
       "Ink Cap Family            13\n",
       "Cortinarius Family        11\n",
       "Stropharia Family          8\n",
       "Amanita Family             8\n",
       "Wax Gill Family            8\n",
       "Entoloma Family            7\n",
       "Bracket Fungi              7\n",
       "Mushroom Family            5\n",
       "Bolbitius Family           3\n",
       "Lepiota Family             3\n",
       "Paxillus Family            3\n",
       "Chanterelle Family         3\n",
       "Pluteus Family             2\n",
       "Oyster Mushroom Family     2\n",
       "Crepidotus Family          1\n",
       "Hydnum Family              1\n",
       "Ear-Pick Family            1\n",
       "Saddle-Cup Family          1\n",
       "Morel Family               1\n",
       "Jelly Discs Family         1\n",
       "Name: family, dtype: int64"
      ]
     },
     "execution_count": 24,
     "metadata": {},
     "output_type": "execute_result"
    }
   ],
   "source": [
    "poisonous_mushroom_type_count= poisonous_mushroom['family'].value_counts()  \n",
    "sns.barplot(x=poisonous_mushroom_type_count.index, y=poisonous_mushroom_type_count.values)\n",
    "plt.ylabel('Number of data', fontsize=9)\n",
    "plt.xlabel('Family', fontsize=9)\n",
    "plt.xticks(rotation=90)\n",
    "plt.show();\n",
    "df_primary_data['family'].value_counts()"
   ]
  },
  {
   "cell_type": "markdown",
   "metadata": {},
   "source": [
    "### Q. Which family contains most poisonous mushrooms?\n",
    "### A. Tricholoma, mushroom family has highest number of poisonous mushrooms."
   ]
  },
  {
   "cell_type": "markdown",
   "metadata": {},
   "source": [
    "##### Analysis of poisonous mushroom based on its ring characteristics"
   ]
  },
  {
   "cell_type": "code",
   "execution_count": 32,
   "metadata": {},
   "outputs": [
    {
     "data": {
      "text/plain": [
       "array(['[f]', '[t]'], dtype=object)"
      ]
     },
     "execution_count": 32,
     "metadata": {},
     "output_type": "execute_result"
    }
   ],
   "source": [
    "np.unique(poisonous_mushroom['has-ring'])"
   ]
  },
  {
   "cell_type": "markdown",
   "metadata": {},
   "source": [
    "##### It has been observed that the unique value of mushroom has-ring column is [f] & [t], which clearly indicate that only ring exists among the mushroom which has 'has-ring' column value as [t], so we will filter that out and get the desired result."
   ]
  },
  {
   "cell_type": "code",
   "execution_count": 33,
   "metadata": {},
   "outputs": [],
   "source": [
    "ring_poisonous_mushroom = poisonous_mushroom[poisonous_mushroom['has-ring'] != '[t]']"
   ]
  },
  {
   "cell_type": "code",
   "execution_count": 34,
   "metadata": {},
   "outputs": [
    {
     "data": {
      "text/html": [
       "<div>\n",
       "<style scoped>\n",
       "    .dataframe tbody tr th:only-of-type {\n",
       "        vertical-align: middle;\n",
       "    }\n",
       "\n",
       "    .dataframe tbody tr th {\n",
       "        vertical-align: top;\n",
       "    }\n",
       "\n",
       "    .dataframe thead th {\n",
       "        text-align: right;\n",
       "    }\n",
       "</style>\n",
       "<table border=\"1\" class=\"dataframe\">\n",
       "  <thead>\n",
       "    <tr style=\"text-align: right;\">\n",
       "      <th></th>\n",
       "      <th>family</th>\n",
       "      <th>name</th>\n",
       "      <th>class</th>\n",
       "      <th>cap-diameter</th>\n",
       "      <th>cap-shape</th>\n",
       "      <th>Cap-surface</th>\n",
       "      <th>cap-color</th>\n",
       "      <th>does-bruise-or-bleed</th>\n",
       "      <th>gill-attachment</th>\n",
       "      <th>gill-spacing</th>\n",
       "      <th>...</th>\n",
       "      <th>stem-root</th>\n",
       "      <th>stem-surface</th>\n",
       "      <th>stem-color</th>\n",
       "      <th>veil-type</th>\n",
       "      <th>veil-color</th>\n",
       "      <th>has-ring</th>\n",
       "      <th>ring-type</th>\n",
       "      <th>Spore-print-color</th>\n",
       "      <th>habitat</th>\n",
       "      <th>season</th>\n",
       "    </tr>\n",
       "  </thead>\n",
       "  <tbody>\n",
       "    <tr>\n",
       "      <th>17</th>\n",
       "      <td>Tricholoma Family</td>\n",
       "      <td>Club-footed Funnel Cap</td>\n",
       "      <td>p</td>\n",
       "      <td>[4, 8]</td>\n",
       "      <td>[x, f]</td>\n",
       "      <td>NaN</td>\n",
       "      <td>[g, n]</td>\n",
       "      <td>[f]</td>\n",
       "      <td>[d]</td>\n",
       "      <td>[c]</td>\n",
       "      <td>...</td>\n",
       "      <td>[b]</td>\n",
       "      <td>NaN</td>\n",
       "      <td>[n]</td>\n",
       "      <td>NaN</td>\n",
       "      <td>NaN</td>\n",
       "      <td>[f]</td>\n",
       "      <td>[f]</td>\n",
       "      <td>NaN</td>\n",
       "      <td>[l, d]</td>\n",
       "      <td>[a, w]</td>\n",
       "    </tr>\n",
       "    <tr>\n",
       "      <th>20</th>\n",
       "      <td>Tricholoma Family</td>\n",
       "      <td>Ivory Clitocybe</td>\n",
       "      <td>p</td>\n",
       "      <td>[2, 4]</td>\n",
       "      <td>[x, f, s]</td>\n",
       "      <td>[s]</td>\n",
       "      <td>[w, g]</td>\n",
       "      <td>[f]</td>\n",
       "      <td>[d]</td>\n",
       "      <td>[c]</td>\n",
       "      <td>...</td>\n",
       "      <td>NaN</td>\n",
       "      <td>NaN</td>\n",
       "      <td>[w]</td>\n",
       "      <td>NaN</td>\n",
       "      <td>NaN</td>\n",
       "      <td>[f]</td>\n",
       "      <td>[f]</td>\n",
       "      <td>NaN</td>\n",
       "      <td>[g]</td>\n",
       "      <td>[u, a]</td>\n",
       "    </tr>\n",
       "    <tr>\n",
       "      <th>21</th>\n",
       "      <td>Tricholoma Family</td>\n",
       "      <td>Wood Woolly-foot</td>\n",
       "      <td>p</td>\n",
       "      <td>[3, 6]</td>\n",
       "      <td>[f]</td>\n",
       "      <td>[l]</td>\n",
       "      <td>[n, e, y]</td>\n",
       "      <td>[f]</td>\n",
       "      <td>[x]</td>\n",
       "      <td>[d]</td>\n",
       "      <td>...</td>\n",
       "      <td>NaN</td>\n",
       "      <td>NaN</td>\n",
       "      <td>[n, y]</td>\n",
       "      <td>NaN</td>\n",
       "      <td>NaN</td>\n",
       "      <td>[f]</td>\n",
       "      <td>[f]</td>\n",
       "      <td>NaN</td>\n",
       "      <td>[l, d]</td>\n",
       "      <td>[u, a]</td>\n",
       "    </tr>\n",
       "    <tr>\n",
       "      <th>22</th>\n",
       "      <td>Tricholoma Family</td>\n",
       "      <td>Russet Tough Shank</td>\n",
       "      <td>p</td>\n",
       "      <td>[2, 5]</td>\n",
       "      <td>[f]</td>\n",
       "      <td>[d]</td>\n",
       "      <td>[n, b]</td>\n",
       "      <td>[f]</td>\n",
       "      <td>[x]</td>\n",
       "      <td>[c]</td>\n",
       "      <td>...</td>\n",
       "      <td>[b]</td>\n",
       "      <td>[i, s]</td>\n",
       "      <td>[n]</td>\n",
       "      <td>NaN</td>\n",
       "      <td>NaN</td>\n",
       "      <td>[f]</td>\n",
       "      <td>[f]</td>\n",
       "      <td>NaN</td>\n",
       "      <td>[l, d]</td>\n",
       "      <td>[u, a]</td>\n",
       "    </tr>\n",
       "    <tr>\n",
       "      <th>23</th>\n",
       "      <td>Tricholoma Family</td>\n",
       "      <td>Clustered Tough Shank</td>\n",
       "      <td>p</td>\n",
       "      <td>[2, 5]</td>\n",
       "      <td>[x, f]</td>\n",
       "      <td>NaN</td>\n",
       "      <td>[n, w]</td>\n",
       "      <td>[f]</td>\n",
       "      <td>[x]</td>\n",
       "      <td>[c]</td>\n",
       "      <td>...</td>\n",
       "      <td>NaN</td>\n",
       "      <td>NaN</td>\n",
       "      <td>[n, p]</td>\n",
       "      <td>NaN</td>\n",
       "      <td>NaN</td>\n",
       "      <td>[f]</td>\n",
       "      <td>[f]</td>\n",
       "      <td>NaN</td>\n",
       "      <td>[l, d]</td>\n",
       "      <td>[u, a]</td>\n",
       "    </tr>\n",
       "    <tr>\n",
       "      <th>...</th>\n",
       "      <td>...</td>\n",
       "      <td>...</td>\n",
       "      <td>...</td>\n",
       "      <td>...</td>\n",
       "      <td>...</td>\n",
       "      <td>...</td>\n",
       "      <td>...</td>\n",
       "      <td>...</td>\n",
       "      <td>...</td>\n",
       "      <td>...</td>\n",
       "      <td>...</td>\n",
       "      <td>...</td>\n",
       "      <td>...</td>\n",
       "      <td>...</td>\n",
       "      <td>...</td>\n",
       "      <td>...</td>\n",
       "      <td>...</td>\n",
       "      <td>...</td>\n",
       "      <td>...</td>\n",
       "      <td>...</td>\n",
       "      <td>...</td>\n",
       "    </tr>\n",
       "    <tr>\n",
       "      <th>164</th>\n",
       "      <td>Bracket Fungi</td>\n",
       "      <td>Silver Leaf Fungus</td>\n",
       "      <td>p</td>\n",
       "      <td>[2, 4]</td>\n",
       "      <td>[o]</td>\n",
       "      <td>[l]</td>\n",
       "      <td>[g]</td>\n",
       "      <td>[f]</td>\n",
       "      <td>[f]</td>\n",
       "      <td>[f]</td>\n",
       "      <td>...</td>\n",
       "      <td>[f]</td>\n",
       "      <td>[f]</td>\n",
       "      <td>[f]</td>\n",
       "      <td>NaN</td>\n",
       "      <td>NaN</td>\n",
       "      <td>[f]</td>\n",
       "      <td>[f]</td>\n",
       "      <td>NaN</td>\n",
       "      <td>[d]</td>\n",
       "      <td>[s, u, a, w]</td>\n",
       "    </tr>\n",
       "    <tr>\n",
       "      <th>166</th>\n",
       "      <td>Bracket Fungi</td>\n",
       "      <td>Fuzzy Polypore</td>\n",
       "      <td>p</td>\n",
       "      <td>[8, 30]</td>\n",
       "      <td>[f, x]</td>\n",
       "      <td>[g, s, d]</td>\n",
       "      <td>[o, e, n, k]</td>\n",
       "      <td>[f]</td>\n",
       "      <td>[p]</td>\n",
       "      <td>NaN</td>\n",
       "      <td>...</td>\n",
       "      <td>NaN</td>\n",
       "      <td>NaN</td>\n",
       "      <td>[n]</td>\n",
       "      <td>NaN</td>\n",
       "      <td>NaN</td>\n",
       "      <td>[f]</td>\n",
       "      <td>[f]</td>\n",
       "      <td>NaN</td>\n",
       "      <td>[d]</td>\n",
       "      <td>[a, w]</td>\n",
       "    </tr>\n",
       "    <tr>\n",
       "      <th>169</th>\n",
       "      <td>Bracket Fungi</td>\n",
       "      <td>Elfin's Saddle</td>\n",
       "      <td>p</td>\n",
       "      <td>[2, 4]</td>\n",
       "      <td>[o]</td>\n",
       "      <td>NaN</td>\n",
       "      <td>[g, k]</td>\n",
       "      <td>[f]</td>\n",
       "      <td>[f]</td>\n",
       "      <td>[f]</td>\n",
       "      <td>...</td>\n",
       "      <td>NaN</td>\n",
       "      <td>[g]</td>\n",
       "      <td>[g, n]</td>\n",
       "      <td>NaN</td>\n",
       "      <td>NaN</td>\n",
       "      <td>[f]</td>\n",
       "      <td>[f]</td>\n",
       "      <td>NaN</td>\n",
       "      <td>[d]</td>\n",
       "      <td>[u, a]</td>\n",
       "    </tr>\n",
       "    <tr>\n",
       "      <th>170</th>\n",
       "      <td>Bracket Fungi</td>\n",
       "      <td>Turban Fungus</td>\n",
       "      <td>p</td>\n",
       "      <td>[5, 15]</td>\n",
       "      <td>[o]</td>\n",
       "      <td>NaN</td>\n",
       "      <td>[n, e]</td>\n",
       "      <td>[f]</td>\n",
       "      <td>[f]</td>\n",
       "      <td>[f]</td>\n",
       "      <td>...</td>\n",
       "      <td>NaN</td>\n",
       "      <td>[g]</td>\n",
       "      <td>[n]</td>\n",
       "      <td>NaN</td>\n",
       "      <td>NaN</td>\n",
       "      <td>[f]</td>\n",
       "      <td>[f]</td>\n",
       "      <td>NaN</td>\n",
       "      <td>[d]</td>\n",
       "      <td>[s, u]</td>\n",
       "    </tr>\n",
       "    <tr>\n",
       "      <th>172</th>\n",
       "      <td>Jelly Discs Family</td>\n",
       "      <td>Jelly Babies</td>\n",
       "      <td>p</td>\n",
       "      <td>[1, 1.5]</td>\n",
       "      <td>[x, f, s]</td>\n",
       "      <td>[s]</td>\n",
       "      <td>[y]</td>\n",
       "      <td>[f]</td>\n",
       "      <td>[f]</td>\n",
       "      <td>[f]</td>\n",
       "      <td>...</td>\n",
       "      <td>NaN</td>\n",
       "      <td>NaN</td>\n",
       "      <td>[y]</td>\n",
       "      <td>NaN</td>\n",
       "      <td>NaN</td>\n",
       "      <td>[f]</td>\n",
       "      <td>[f]</td>\n",
       "      <td>NaN</td>\n",
       "      <td>[d]</td>\n",
       "      <td>[u, a]</td>\n",
       "    </tr>\n",
       "  </tbody>\n",
       "</table>\n",
       "<p>70 rows × 23 columns</p>\n",
       "</div>"
      ],
      "text/plain": [
       "                 family                    name class cap-diameter  cap-shape  \\\n",
       "17    Tricholoma Family  Club-footed Funnel Cap     p       [4, 8]     [x, f]   \n",
       "20    Tricholoma Family         Ivory Clitocybe     p       [2, 4]  [x, f, s]   \n",
       "21    Tricholoma Family        Wood Woolly-foot     p       [3, 6]        [f]   \n",
       "22    Tricholoma Family      Russet Tough Shank     p       [2, 5]        [f]   \n",
       "23    Tricholoma Family   Clustered Tough Shank     p       [2, 5]     [x, f]   \n",
       "..                  ...                     ...   ...          ...        ...   \n",
       "164       Bracket Fungi      Silver Leaf Fungus     p       [2, 4]        [o]   \n",
       "166       Bracket Fungi          Fuzzy Polypore     p      [8, 30]     [f, x]   \n",
       "169       Bracket Fungi          Elfin's Saddle     p       [2, 4]        [o]   \n",
       "170       Bracket Fungi           Turban Fungus     p      [5, 15]        [o]   \n",
       "172  Jelly Discs Family            Jelly Babies     p     [1, 1.5]  [x, f, s]   \n",
       "\n",
       "    Cap-surface     cap-color does-bruise-or-bleed gill-attachment  \\\n",
       "17          NaN        [g, n]                  [f]             [d]   \n",
       "20          [s]        [w, g]                  [f]             [d]   \n",
       "21          [l]     [n, e, y]                  [f]             [x]   \n",
       "22          [d]        [n, b]                  [f]             [x]   \n",
       "23          NaN        [n, w]                  [f]             [x]   \n",
       "..          ...           ...                  ...             ...   \n",
       "164         [l]           [g]                  [f]             [f]   \n",
       "166   [g, s, d]  [o, e, n, k]                  [f]             [p]   \n",
       "169         NaN        [g, k]                  [f]             [f]   \n",
       "170         NaN        [n, e]                  [f]             [f]   \n",
       "172         [s]           [y]                  [f]             [f]   \n",
       "\n",
       "    gill-spacing  ... stem-root stem-surface stem-color veil-type veil-color  \\\n",
       "17           [c]  ...       [b]          NaN        [n]       NaN        NaN   \n",
       "20           [c]  ...       NaN          NaN        [w]       NaN        NaN   \n",
       "21           [d]  ...       NaN          NaN     [n, y]       NaN        NaN   \n",
       "22           [c]  ...       [b]       [i, s]        [n]       NaN        NaN   \n",
       "23           [c]  ...       NaN          NaN     [n, p]       NaN        NaN   \n",
       "..           ...  ...       ...          ...        ...       ...        ...   \n",
       "164          [f]  ...       [f]          [f]        [f]       NaN        NaN   \n",
       "166          NaN  ...       NaN          NaN        [n]       NaN        NaN   \n",
       "169          [f]  ...       NaN          [g]     [g, n]       NaN        NaN   \n",
       "170          [f]  ...       NaN          [g]        [n]       NaN        NaN   \n",
       "172          [f]  ...       NaN          NaN        [y]       NaN        NaN   \n",
       "\n",
       "    has-ring ring-type Spore-print-color habitat        season  \n",
       "17       [f]       [f]               NaN  [l, d]        [a, w]  \n",
       "20       [f]       [f]               NaN     [g]        [u, a]  \n",
       "21       [f]       [f]               NaN  [l, d]        [u, a]  \n",
       "22       [f]       [f]               NaN  [l, d]        [u, a]  \n",
       "23       [f]       [f]               NaN  [l, d]        [u, a]  \n",
       "..       ...       ...               ...     ...           ...  \n",
       "164      [f]       [f]               NaN     [d]  [s, u, a, w]  \n",
       "166      [f]       [f]               NaN     [d]        [a, w]  \n",
       "169      [f]       [f]               NaN     [d]        [u, a]  \n",
       "170      [f]       [f]               NaN     [d]        [s, u]  \n",
       "172      [f]       [f]               NaN     [d]        [u, a]  \n",
       "\n",
       "[70 rows x 23 columns]"
      ]
     },
     "execution_count": 34,
     "metadata": {},
     "output_type": "execute_result"
    }
   ],
   "source": [
    "ring_poisonous_mushroom"
   ]
  },
  {
   "cell_type": "markdown",
   "metadata": {},
   "source": [
    "### Q. Do all poisonous mushrooms have a ring?\n",
    "### A. No, all the poisonous mushroom does not have ring, only 70 out of 96 poisonous mushroom have ring."
   ]
  },
  {
   "cell_type": "markdown",
   "metadata": {},
   "source": [
    "##### Analysis of poisonous mushroom based on the season "
   ]
  },
  {
   "cell_type": "code",
   "execution_count": 35,
   "metadata": {},
   "outputs": [
    {
     "data": {
      "text/plain": [
       "array(['[a, w]', '[a]', '[s, u, a, w]', '[s, u, a]', '[s, u]',\n",
       "       '[u, a, w]', '[u, a]', '[u]'], dtype=object)"
      ]
     },
     "execution_count": 35,
     "metadata": {},
     "output_type": "execute_result"
    }
   ],
   "source": [
    "np.unique(poisonous_mushroom['season'])"
   ]
  },
  {
   "cell_type": "markdown",
   "metadata": {},
   "source": [
    "##### Graphical representation of the distribution of poisonous mushroom based on it season of growth"
   ]
  },
  {
   "cell_type": "code",
   "execution_count": 36,
   "metadata": {},
   "outputs": [
    {
     "data": {
      "image/png": "[encoded data removed]",
      "text/plain": [
       "<Figure size 640x480 with 1 Axes>"
      ]
     },
     "metadata": {},
     "output_type": "display_data"
    },
    {
     "data": {
      "text/plain": [
       "[u, a]          106\n",
       "[a]              16\n",
       "[a, w]           15\n",
       "[s, u, a, w]     13\n",
       "[u, a, w]        12\n",
       "[s, u, a]         5\n",
       "[s, u]            3\n",
       "[s, a, w]         1\n",
       "[u]               1\n",
       "[s]               1\n",
       "Name: season, dtype: int64"
      ]
     },
     "execution_count": 36,
     "metadata": {},
     "output_type": "execute_result"
    }
   ],
   "source": [
    "poisonous_mushroom_type_count= poisonous_mushroom['season'].value_counts()  \n",
    "sns.barplot(x=poisonous_mushroom_type_count.index, y=poisonous_mushroom_type_count.values)\n",
    "plt.ylabel('Number of data', fontsize=9)\n",
    "plt.xlabel('Season', fontsize=9)\n",
    "plt.xticks(rotation=90)\n",
    "plt.show();\n",
    "df_primary_data['season'].value_counts()"
   ]
  },
  {
   "cell_type": "markdown",
   "metadata": {},
   "source": [
    "### Q. Which seasons do poisonous mushrooms grow typically?\n",
    "### A. Over Summer and Autumn most of the poisonous mushrooms typically grows."
   ]
  },
  {
   "cell_type": "markdown",
   "metadata": {},
   "source": [
    "# Conclusion : \n",
    "\n",
    "### Q. How many mushrooms are poisonous?\n",
    "### A. 96 mushrooms are poisonous and 77 are edible\n",
    "### Q. Which family contains most poisonous mushrooms?\n",
    "### A. Tricholoma, mushroom family has highest number of poisonous mushrooms.\n",
    "### Q. Do all poisonous mushrooms have a ring?\n",
    "### A. No, all the poisonous mushroom does not have ring, only 70 out of 96 poisonous mushroom have ring.\n",
    "### Q. Which seasons do poisonous mushrooms grow typically?\n",
    "### A. Over Summer and Autumn most of the poisonous mushrooms typically grows."
   ]
  },
  {
   "cell_type": "code",
   "execution_count": null,
   "metadata": {},
   "outputs": [],
   "source": []
  }
 ],
 "metadata": {
  "colab": {
   "authorship_tag": "ABX9TyMaR0TJ429oyDxt9eJDkGts",
   "provenance": []
  },
  "kernelspec": {
   "display_name": "Python 3 (ipykernel)",
   "language": "python",
   "name": "python3"
  },
  "language_info": {
   "codemirror_mode": {
    "name": "ipython",
    "version": 3
   },
   "file_extension": ".py",
   "mimetype": "text/x-python",
   "name": "python",
   "nbconvert_exporter": "python",
   "pygments_lexer": "ipython3",
   "version": "3.9.16"
  }
 },
 "nbformat": 4,
 "nbformat_minor": 1
}
