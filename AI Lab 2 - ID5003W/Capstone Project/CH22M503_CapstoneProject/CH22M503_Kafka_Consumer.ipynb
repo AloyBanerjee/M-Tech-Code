{
  "cells": [
    {
      "cell_type": "markdown",
      "metadata": {
        "id": "INllgJ9GcQAO"
      },
      "source": [
        "## Kafka_Consumer"
      ]
    },
    {
      "cell_type": "markdown",
      "source": [
        "#### Import the packages."
      ],
      "metadata": {
        "id": "qBBPU5hJ6cLa"
      }
    },
    {
      "cell_type": "code",
      "source": [
        "import subprocess\n",
        "import time"
      ],
      "metadata": {
        "id": "qQRTj5vP6ZdS"
      },
      "execution_count": 7,
      "outputs": []
    },
    {
      "cell_type": "code",
      "execution_count": null,
      "metadata": {
        "colab": {
          "base_uri": "https://localhost:8080/"
        },
        "id": "xNbDfMhq6smL",
        "outputId": "344e62b2-8fc0-4a31-ca92-c70c6c57a070"
      },
      "outputs": [
        {
          "output_type": "stream",
          "name": "stdout",
          "text": [
            "{\"review_id\": \"rGQRf8UafX7OTlMNN19I8A\", \"user_id\": \"1WHRWwQmZOZDAhp2Qyny4g\", \"business_id\": \"uMvVYRgGNXf5boolA9HXTw\", \"stars\": 5, \"useful\": 2, \"funny\": 0, \"cool\": 0, \"text\": \"My experience with Shalimar was nothing but wonderful. \\nI wanted to get my engagement ring sized and was told over the phone that it could probably be done within the day. \\nWhen I brought it by, the team confirmed that the jeweler would be able to accommodate my same-day request and that it would be around $40 (simple band, decrease by three full sizes).\\nI checked my size one more time, confirmed, and left to let them do their thing.\\nWhen I came to pick up later that afternoon, the ring was too small. It's very important to note that Shalimar sized the ring perfectly, but that I made a mistake and should've gone up a half-size.\\nThe Shalimar group were completely understanding and accommodating, even resizing my ring back up and getting it back to me within an hour at no charge! Even though it was my mistake!\\nThe associates' attitudes in dealing with what was a pretty embarrassing situation instantly earned my satisfaction and loyalty as a customer. Very grateful for such a wonderful experience.\", \"date\": \"2015-06-21 14:48:06\"}\n",
            "{\"review_id\": \"l3Wk_mvAog6XANIuGQ9C7Q\", \"user_id\": \"ZbqSHbgCjzVAqaa7NKWn5A\", \"business_id\": \"EQ-TZ2eeD_E0BHuvoaeG5Q\", \"stars\": 4, \"useful\": 0, \"funny\": 0, \"cool\": 0, \"text\": \"Locals recommended Milktooth, and it's an amazing jewel of Indianapolis. I'm glade I had the chance to experience this.\", \"date\": \"2015-08-19 14:31:45\"}\n",
            "{\"review_id\": \"XW_LfMv0fV21l9c6xQd_lw\", \"user_id\": \"9OAtfnWag-ajVxRbUTGIyg\", \"business_id\": \"lj-E32x9_FA7GmUrBGBEWg\", \"stars\": 4, \"useful\": 0, \"funny\": 0, \"cool\": 0, \"text\": \"Love going here for happy hour or dinner!  Great patio with fans to beat the StL heat!   Also...very accomodating at this location.  I like the Veal Milanese but with mixed greens instead of pasta!  they'll modify the menu to suit your taste!\", \"date\": \"2014-06-27 22:44:01\"}\n",
            "{\"review_id\": \"8JFGBuHMoiNDyfcxuWNtrA\", \"user_id\": \"smOvOajNG0lS4Pq7d8g4JQ\", \"business_id\": \"RZtGWDLCAtuipwaZ-UfjmQ\", \"stars\": 4, \"useful\": 0, \"funny\": 0, \"cool\": 0, \"text\": \"Good food--loved the gnocchi with marinara\\nthe baked eggplant appetizer was very good too\\n\\nThe service was very slow, but despite this, I'd go back, the food is just that good\", \"date\": \"2009-10-14 19:57:14\"}\n",
            "{\"review_id\": \"UBp0zWyH60Hmw6Fsasei7w\", \"user_id\": \"4Uh27DgGzsp6PqrH913giQ\", \"business_id\": \"otQS34_MymijPTdNBoBdCw\", \"stars\": 4, \"useful\": 0, \"funny\": 2, \"cool\": 0, \"text\": \"The bun makes the Sonoran Dog. It's like a snuggie for the pup. A first, it seems ridiculous and almost like it's going to be too much, exactly like everyone's favorite blanket with sleeves. Too much softness, too much smush, too indulgent.  Wrong. It's warm, soft, chewy, fragrant, and it succeeds where other famed Sonoran Dogs fail. \\n\\nThe hot dog itself is flavorful, but I would prefer that it or the bacon have a little more bite or snap to better hold their own against the dominant mustard and onions. \\n\\nI'm with the masses on the carne asada caramelo. Excellent tortilla, salty, melty cheese, and great carne. \\n\\nSuper cheap and you can drive through.\", \"date\": \"2011-10-27 17:12:05\"}\n",
            "{\"review_id\": \"OAhBYw8IQ6wlfw1owXWRWw\", \"user_id\": \"1C2lxzUo1Hyye4RFIXly3g\", \"business_id\": \"BVndHaLihEYbr76Z0CMEGw\", \"stars\": 5, \"useful\": 0, \"funny\": 0, \"cool\": 0, \"text\": \"Great place for breakfast! I had the waffle, which was fluffy and perfect, and home fries which were nice and smashed and crunchy. Friendly waitstaff. Will definitely be back!\", \"date\": \"2014-10-11 16:22:06\"}\n",
            "{\"review_id\": \"oyaMhzBSwfGgemSGuZCdwQ\", \"user_id\": \"Dd1jQj7S-BFGqRbApFzCFw\", \"business_id\": \"YtSqYv1Q_pOltsVPSx54SA\", \"stars\": 5, \"useful\": 0, \"funny\": 0, \"cool\": 0, \"text\": \"Tremendous service (Big shout out to Douglas) that complemented the delicious food. Pretty expensive establishment (40-50$ avg for your main course), but its definitely backs that up with an atmosphere that's comparable with any of the top tier restaurants across the country.\", \"date\": \"2013-06-24 11:21:25\"}\n",
            "{\"review_id\": \"LnGZB0fjfgeVDVz5IHuEVA\", \"user_id\": \"j2wlzrntrbKwyOcOiB3l3w\", \"business_id\": \"rBdG_23USc7DletfZ11xGA\", \"stars\": 4, \"useful\": 1, \"funny\": 0, \"cool\": 0, \"text\": \"The hubby and I have been here on multiple occasions and we have loved every part of the meal, every single time. Everyone from the servers to the bartender is very knowledgable about the menu and was able to immediately recommend items I could eat as-is, substitute or delete to make something safe for this Celiac girl to eat. The wine and cocktail menus are spot on. The food divine.  My only wish is that they would have a gluten-free dessert, we've always had to go elsewhere for something sweet. But that is not a big deal and I still want to go here time and time again.\", \"date\": \"2014-08-10 19:41:43\"}\n",
            "{\"review_id\": \"u2vzZaOqJ2feRshaaF1doQ\", \"user_id\": \"NDZvyYHTUWWu-kqgQzzDGQ\", \"business_id\": \"CLEWowfkj-wKYJlQDqT1aw\", \"stars\": 5, \"useful\": 2, \"funny\": 0, \"cool\": 1, \"text\": \"I go to blow bar to get my brows done by natalie (brow specialist) which i highly recommend she is great does a great job on my eyebrows! But then i got a blow by victoria!! Wow i was impress i have thin, straight, dead hair and she left me with the biggest volume ive ever had!!! Tried another girl but didnt like it as much so victoria will be my girl for ever; very beautiful clean place!!!\", \"date\": \"2016-03-07 00:02:18\"}\n",
            "{\"review_id\": \"Xs8Z8lmKkosqW5mw_sVAoA\", \"user_id\": \"IQsF3Rc6IgCzjVV9DE8KXg\", \"business_id\": \"eFvzHawVJofxSnD7TgbZtg\", \"stars\": 5, \"useful\": 0, \"funny\": 0, \"cool\": 0, \"text\": \"My absolute favorite cafe in the city. Their black and white latte is probably the best I've ever had (not too sweet and just the right amount of foam), soups are always really good (even for non-soup people) and there's just a lot of space to do work. The noise level is perfect, the music is at a perfect level, and I always enjoy when patrons bring their dogs. I'll keep giving them my business for as long as I can.\", \"date\": \"2014-11-12 15:30:27\"}\n",
            "[2023-08-09 06:27:59,069] ERROR Error processing message, terminating consumer process:  (kafka.tools.ConsoleConsumer$)\n",
            "org.apache.kafka.common.errors.TimeoutException\n",
            "Processed a total of 10 messages\n",
            "Consumer is sleeping for 5 seconds\n",
            "\n",
            "[2023-08-09 06:28:11,124] ERROR Error processing message, terminating consumer process:  (kafka.tools.ConsoleConsumer$)\n",
            "org.apache.kafka.common.errors.TimeoutException\n",
            "Processed a total of 0 messages\n",
            "Consumer is sleeping for 5 seconds\n",
            "\n",
            "[2023-08-09 06:28:23,184] ERROR Error processing message, terminating consumer process:  (kafka.tools.ConsoleConsumer$)\n",
            "org.apache.kafka.common.errors.TimeoutException\n",
            "Processed a total of 0 messages\n",
            "Consumer is sleeping for 5 seconds\n",
            "\n",
            "{\"review_id\": \"yCbzm_d4cHpfUX00Ljvgmg\", \"user_id\": \"bHSoye7R5cL-LVWLxtaxMg\", \"business_id\": \"SSZDGl2J-CEyIzuIbEiYNQ\", \"stars\": 2, \"useful\": 2, \"funny\": 0, \"cool\": 0, \"text\": \"We started with the artichoke dip, big mistake. It was cold and the chips were stale. Mentioned to our waitress, but nothing came of it.  We ordered a large pizza, thin crust which after adding toppings it was a bit pricey for pizza.  Pizza was ok, not great. Except for not being our advocate our server was good.  I have been here before for Cardinals game, it was better then. Will try another venue next time.\", \"date\": \"2017-09-08 23:20:19\"}\n",
            "{\"review_id\": \"r2IBPY_E8AE5_GpsqlONyg\", \"user_id\": \"IKbjLnfBQtEyVzEu8CuOLg\", \"business_id\": \"VJEzpfLs_Jnzgqh5A_FVTg\", \"stars\": 4, \"useful\": 0, \"funny\": 0, \"cool\": 0, \"text\": \"It was my fiance's birthday and he decided he wanted a good, laid back Thai restaurant for dinner. Yelp steered us in the Jasmine Rice direction, and it was definitely a good decision. We wanted the summer rolls, which were on the menu, but apparently will not be available until summer, so we settled on the pan-fried dumplings. The flavor was good, but I don't think we'd order them again. We got the green curry fried rice with duck and chicken pad thai. Both of those dishes were great, but the duck stole the show. That was some the of tastiest duck I've ever had. The pad thai was a bit sweet for us, so I think we'd try a different noodle dish when we return. But it was still very good, especially with some chili sauce mixed in. Our service was good, but other people had issues. One table was rushing to get to a show at the Kimmel Center and waited quite a while for their meal (and were going to be late). Another person who got take-out was missing one of their items (but the owner realized it and called him and walked the dish to his house, which was very nice). Overall, good quality Thai! We would definitely go back.\", \"date\": \"2014-04-01 13:05:18\"}\n",
            "{\"review_id\": \"cejwyz1Hn1yQ-v2m9PAovQ\", \"user_id\": \"9ZLpaBGl-udvS-niR3Y_ow\", \"business_id\": \"GILL0ZkvVXJaNQzYRXfMQw\", \"stars\": 5, \"useful\": 1, \"funny\": 1, \"cool\": 0, \"text\": \"I absolutely love Courtney! She is hands down the best hairstylist I have ever had. The reason I think she is so great is that she knows what will look best on me and over the past year has understood my limits for styles. I always go into the salon and tell her to cut my hair how she thinks will look best, and I always leave blown away at what she does. You know you have a great stylist when you don't have to specify what you want done, but instead they see what needs to be done. Great stylist, great personality and very knowledgeable. I would highly recommend her to anyone who wants to look their best.\", \"date\": \"2012-10-08 19:32:44\"}\n",
            "{\"review_id\": \"QDY_xE91MY9O-nzn56yHxQ\", \"user_id\": \"enaHB1e956thdnafcHVAig\", \"business_id\": \"TyOe_EcbyAWMmPgg_ILwHQ\", \"stars\": 3, \"useful\": 1, \"funny\": 0, \"cool\": 0, \"text\": \"I've been to this location many times when I lived in the area and although it is a chain and not exactly sexy, it does the job on many occasions.   If you need an oil change, this place is ok, if you need a state inspection this place does it.   The key is getting there when they are not busy or else you will wait.   \\n\\nAgain, nothing fancy here a pep boys is a pep boys but all in all decent stuff.\", \"date\": \"2012-05-29 12:16:46\"}\n",
            "{\"review_id\": \"rV6AWGN4rYORMQY8dVP41g\", \"user_id\": \"dKoIp8vsKFH4cbmGSYy2IQ\", \"business_id\": \"0ICfbEImE0gUZc4kSZ7QHg\", \"stars\": 5, \"useful\": 1, \"funny\": 0, \"cool\": 0, \"text\": \"Replaced 2 old 70s lennox with 2 new ones.  They did a great job and have been runnong for 3 years now.\", \"date\": \"2013-11-14 04:58:09\"}\n",
            "{\"review_id\": \"EoN2xyKvTTn9B-z1grhYxw\", \"user_id\": \"DBYhpb5hrAYgQjQaMhNYyQ\", \"business_id\": \"oJ4ik-4PZe6gexxW-tSmsw\", \"stars\": 4, \"useful\": 0, \"funny\": 0, \"cool\": 0, \"text\": \"I love the Brewpub for their variety of dishes.  Nachos, pizza and sandwiches.  Variety of beers to choose from crafted right on sight.  \\n\\nEvery time we go, the service is slow.  I think it's just the pace of the restaurant.  It's never a quick beer and a bite of food.  Instead, enjoy the patio and friends, savor that time.  \\n\\nKid and dog friendly environment.  Also great for your vegetarian and vegan friends.  \\n\\nMy go to is a half order of the nachos or fish & chips.  \\n\\nTried their Pumpkin Seasonal Beer and it's on par with some of my favorite pumpkins.\", \"date\": \"2016-10-26 15:29:56\"}\n",
            "{\"review_id\": \"2u5Skti5mZam_-XTKPelvA\", \"user_id\": \"IMd3NQbclta91pFKk3AJZg\", \"business_id\": \"qO9dNNIvNbCBd8ZgjxMxgQ\", \"stars\": 5, \"useful\": 0, \"funny\": 0, \"cool\": 0, \"text\": \"Farmhouse, rustic, chic.Helpful staff with great ideas to decorate your home. Prices reasonable. Store has items from Joanna Gaines ( Fixer Upper) and much more. Finally a good home store in SB with reasonable prices.\", \"date\": \"2017-04-08 00:33:11\"}\n",
            "{\"review_id\": \"mCVyppNwK2qPOJHXgs0p2Q\", \"user_id\": \"mNITUu6B2wUKBOa4NmUHJg\", \"business_id\": \"NQSnr4RPUScss607oxOaqw\", \"stars\": 5, \"useful\": 0, \"funny\": 0, \"cool\": 0, \"text\": \"My brother came to visit and we wanted to pick up a six pack of good beers for a night in. Ended up staying and having a few while playing their Nintendo 64 (Super Smash Brothers, which the owner said was donated by fellow patrons). It's a great place with good food and genuinely nice people. Should be a staple in the Northeast.\", \"date\": \"2016-05-19 06:10:14\"}\n",
            "{\"review_id\": \"dzNxNW9XpJiECE-bKATezw\", \"user_id\": \"NUtIAX-ygn474tDg5nmesg\", \"business_id\": \"6LCZLGa09Qifn6rG7-DNrg\", \"stars\": 4, \"useful\": 0, \"funny\": 0, \"cool\": 1, \"text\": \"My go to menu is coconut soup and pad thai with protein. I tried same menu here. \\nActually really like their coconut soup. They used enough amount of coconut milk that soup was really creamy and wasn't over powering with herb. I am so used to Americanized thai cuisine that I prefer less herb on my dish except cilantro.\\nPat thai was great too. Liked the amount of peanut they used, noodle was chewy and perfect and not too sweet. They gave me generous amount of chicken and white meat wasn't dry so I was very happy with my meal.\", \"date\": \"2015-02-16 07:20:16\"}\n",
            "{\"review_id\": \"nAE4IGJMRxDfas0qYabMWw\", \"user_id\": \"GtqEcbHF-WTfKlms9250ZQ\", \"business_id\": \"7wQEzj-0yOpLiANNLuUflQ\", \"stars\": 4, \"useful\": 1, \"funny\": 0, \"cool\": 0, \"text\": \"Excellent service! Great diner food and breakfast is served all day. Came here for lunch- they were busy but very friendly and hospitable. Easy to get to off the 295.\", \"date\": \"2016-10-26 16:35:21\"}\n",
            "[2023-08-09 06:28:39,110] ERROR Error processing message, terminating consumer process:  (kafka.tools.ConsoleConsumer$)\n",
            "org.apache.kafka.common.errors.TimeoutException\n",
            "Processed a total of 10 messages\n",
            "Consumer is sleeping for 5 seconds\n",
            "\n",
            "[2023-08-09 06:28:51,117] ERROR Error processing message, terminating consumer process:  (kafka.tools.ConsoleConsumer$)\n",
            "org.apache.kafka.common.errors.TimeoutException\n",
            "Processed a total of 0 messages\n",
            "Consumer is sleeping for 5 seconds\n",
            "\n",
            "[2023-08-09 06:29:03,107] ERROR Error processing message, terminating consumer process:  (kafka.tools.ConsoleConsumer$)\n",
            "org.apache.kafka.common.errors.TimeoutException\n",
            "Processed a total of 0 messages\n",
            "Consumer is sleeping for 5 seconds\n",
            "\n",
            "{\"review_id\": \"byblHsbxiqb1pC1cuSfslA\", \"user_id\": \"C_2mNjl-doRVvsL03_T57Q\", \"business_id\": \"18eWJFJbXyR9j_5xfcRLYA\", \"stars\": 4, \"useful\": 7, \"funny\": 0, \"cool\": 0, \"text\": \"This is the first time I tried this place and  I was surprisingly surprised. I had a combination dinner pad Thai and coconut soup. The soup was very tasty as I never had coconut soup before. The pad Thai was exactly what I was expecting and it did not disappoint. The restaurant had great Thai decor and music. The staff and service was top notch. For a town with not much selection for food, this was a great change of pace. This may become my go to place in Carp.\", \"date\": \"2011-10-28 03:43:05\"}\n",
            "{\"review_id\": \"xumAI7br1X67OY_bU_Yqhg\", \"user_id\": \"jEmClJb6wjfDUksVMO_Jjg\", \"business_id\": \"X_E7U2lVNEwbH_gpOBmAHQ\", \"stars\": 5, \"useful\": 0, \"funny\": 0, \"cool\": 0, \"text\": \"This place was so chill and relaxing. When I come back it'll definitely be in my list if stops. Not to mention the artist performing was fun and eclectic  (I mean really, a country version of \\\"Let It Go\\\", what's not to love?)\", \"date\": \"2017-06-17 17:46:55\"}\n",
            "{\"review_id\": \"fC415u9adP0Xtamme7hcCw\", \"user_id\": \"mEOMAeEonZoUx2nPM3v6fg\", \"business_id\": \"f-WhNOSwN1aB4nRFekf01g\", \"stars\": 4, \"useful\": 0, \"funny\": 0, \"cool\": 0, \"text\": \"Id you haven't been to the Smoothie King center since it was know as the New Orleans Arena, you are in for a nice surprise. The arena has had a face lift and, while the seats are the same,  everything else has been refreshed.   \\n\\nMost importantly,  the food options are far more varied and appeal to many tastes.  The quality of the food is very good and significantly improved from a few years back. The drink options are much improved as well and include full service bars, spiked lemonade,  bottled and draft beer and of course, smoothies.  There is even a spot for sweets. You can get funnel cake, cotton candy, and all kinds of delicious things I was too full to take in.  \\n\\nThe venue finally feels a bit swanky and top notch.  We are moving on up!\", \"date\": \"2015-03-19 00:30:09\"}\n",
            "{\"review_id\": \"onlgwy5qGDEzddsrnIvtWg\", \"user_id\": \"pYXeL0RCqus2IfhthYCOyA\", \"business_id\": \"W7NxQw8UYFR0HLPrI08tvw\", \"stars\": 4, \"useful\": 0, \"funny\": 0, \"cool\": 0, \"text\": \"Don't know what it is but If my tummy's feeling icky, I can count on Chipotle's stake to fix me up. I just have to remember not to go during full on lunch time. I usually go between 2 & 4 when it's peaceful and calm. Busy or not the service is always friendly and fast!\", \"date\": \"2012-02-01 14:21:25\"}\n",
            "{\"review_id\": \"FMFZoES5LfumuwhsZbIDlQ\", \"user_id\": \"4ubLHlnMFFw4JikcXr-F4w\", \"business_id\": \"f4PA-f1tcN1bIpZJLdFsQQ\", \"stars\": 5, \"useful\": 3, \"funny\": 0, \"cool\": 0, \"text\": \"I must admit, I wasn't expecting much. This place totally blew us away. This has to be one of the best Indian restaurants in the Tampa Bay. The ambience is wonderful including white table linens. The best part was the food, OMG. The chicken 65 was to die for, and the hot sour soup was rich and flavorful. The waitress (Angel) was friendly,  attentive and very pleasant. They opened just a week ago. I'm sure this will soon be the place foodies seek out for real Indian food.\", \"date\": \"2017-05-26 02:32:01\"}\n",
            "{\"review_id\": \"QS7CuOtFLuS3dnwKHRtSYQ\", \"user_id\": \"PBnEwGVCBL0N-bET6ZI6kQ\", \"business_id\": \"m5-FtgWRd4qA7j0vaOXiXQ\", \"stars\": 5, \"useful\": 0, \"funny\": 0, \"cool\": 0, \"text\": \"Had to wait until my third trip to NOLA to actually get in the door.  First two times I tried waiting in line, this time around we got smart and bought reserved seats so we could be on the benches. Well worth the extra $20 to not hassle with waiting in line for an hour. It goes toward the preservation of Jazz so it's a good cause...just splurge.\\n\\nThe show was fantastic.  True musicians and great personalities to boot. I can only imagine that this is what concerts were like 50 years ago. The band members were dapper, engaging and insanely talented.  It's in a tiny hole in the wall space that only holds maybe 200 people? So it's very intimate and nice to see the smiles on the faces of the musicians as they share their craft with you. This is a must do while in NOLA!\", \"date\": \"2016-11-10 20:56:13\"}\n",
            "{\"review_id\": \"4PHFo_GRG4FEk1q4X7xQVQ\", \"user_id\": \"jbsCBG0A-3wVDjrKar-0Wg\", \"business_id\": \"X63jIMRHYBvKKQDuJTRiQQ\", \"stars\": 5, \"useful\": 2, \"funny\": 0, \"cool\": 1, \"text\": \"A GREAT EXPERIENCE!!!!!!!!!  I was a completely new customer.  I did not have an appointment because my other plans got rained out and my dealership was too busy to take me.  I needed a PA State & Emissions  inspection which I dread because they can be a total ripoff at some places when they add things on and I just wanted to get it over with.  I saw that this place had much better reviews on Yelp than many other shops in the area.  Keystone Discount Tire took my 2008 Pontiac Torrent in for inspection while I waited and had some free coffee.  I only had to get up once to look at some irregular outer front tire wear on my car when it was on the rack during inspection.  I always appreciate it when the technician lets me look at the problem.   It was nothing major.  Easily correctable with an alignment sometime in the future.  Bill was very friendly, knowledgable, and straightforward with his overall analysis of my car.  My car was fully inspected and stickered in less than an hour without my bill being jacked up with add-ons.   I recommend getting on their mailing list for their coupons!!!!!!!!!!\", \"date\": \"2014-10-11 13:55:05\"}\n",
            "{\"review_id\": \"1c6sgLe07HAhipebsQ1wgA\", \"user_id\": \"ZRXvbrutBBULaFS6T9NCwA\", \"business_id\": \"HnhxO2cpa15AHI1456Pl6Q\", \"stars\": 5, \"useful\": 0, \"funny\": 1, \"cool\": 0, \"text\": \"Wow! I never thought my sons phone could be repaired after he dropped it but it is and it took less than a half an hour! Very professional and excellent service! I'm thrilled!\", \"date\": \"2015-10-17 00:55:35\"}\n",
            "{\"review_id\": \"PPgbLBvi34A6m7bKJfTwhw\", \"user_id\": \"3TL6HZ1JrKcNTvGDWKlrow\", \"business_id\": \"GyC36Pn0Q1-qHnqXys6yFg\", \"stars\": 1, \"useful\": 0, \"funny\": 0, \"cool\": 0, \"text\": \"Service and management terrible... After messing up all 4 of our orders the waiter got mad and started cursing... The manager offered our drinks to be free.. What a mess. The food was cold and nasty didn't even eat half of it and waited over an hour... I will never dine in any cracker barrel again after this experience...\", \"date\": \"2013-12-07 13:17:13\"}\n",
            "{\"review_id\": \"gImS1dtA_TixEouDfp2o4g\", \"user_id\": \"xE7AXFF9wVaN6id6OCtH3Q\", \"business_id\": \"D5V0Fawd6ODVgqCY8xngsw\", \"stars\": 4, \"useful\": 1, \"funny\": 0, \"cool\": 2, \"text\": \"I have been to a number of dog friendly hotels...just not in the city and did not know what to expect. Usually they are motel like.  This one was in the heart of the city.\\n\\nI walked tentatively into the hotel lobby as i have a labrador/golden mix who is not easy to hide.\\n\\nWe got to the front desk to register and i was still feeling uneasy although my  bf had assured me it was a dog friendly hotel. Reception was so nice immediately putting us at ease. As we checked in an attendant asked if Bentley could have treats which she fullly enjoyed. The Reception person also asked if we would like a welcome kit for Bentley. Holy moly. Of course. Dog dishes, a mat, treats, etc. I was blown away.  \\n\\nPlus the guests at the hotel all stopped to compliment and pet \\\"queen Bentley\\\". Our room was on the top floor. Awesome!\\n\\nEven when i went to walk her the car attendants greeted her by name. We were so impressed with the service we decided to come back an extra night. \\n\\nThank you Loews. I didnt realize a hotel could be so dog friendly especially to a big dog.\", \"date\": \"2017-01-14 21:05:04\"}\n",
            "[2023-08-09 06:29:19,173] ERROR Error processing message, terminating consumer process:  (kafka.tools.ConsoleConsumer$)\n",
            "org.apache.kafka.common.errors.TimeoutException\n",
            "Processed a total of 10 messages\n",
            "Consumer is sleeping for 5 seconds\n",
            "\n"
          ]
        }
      ],
      "source": [
        " while True:\n",
        "  !./kafka_2.12-3.5.0/bin/kafka-console-consumer.sh --bootstrap-server localhost:9092 --topic yelp_reviews --timeout-ms=5000 #--max-messages 5\n",
        "  print(\"Consumer is sleeping for 5 seconds\\n\")\n",
        "  time.sleep(5)\n"
      ]
    }
  ],
  "metadata": {
    "colab": {
      "provenance": []
    },
    "kernelspec": {
      "display_name": "Python 3 (ipykernel)",
      "language": "python",
      "name": "python3"
    },
    "language_info": {
      "codemirror_mode": {
        "name": "ipython",
        "version": 3
      },
      "file_extension": ".py",
      "mimetype": "text/x-python",
      "name": "python",
      "nbconvert_exporter": "python",
      "pygments_lexer": "ipython3",
      "version": "3.9.16"
    }
  },
  "nbformat": 4,
  "nbformat_minor": 0
}