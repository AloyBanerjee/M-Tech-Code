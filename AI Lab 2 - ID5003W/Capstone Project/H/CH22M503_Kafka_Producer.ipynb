{
 "cells": [
  {
   "cell_type": "markdown",
   "metadata": {},
   "source": [
    "## Kafka_Producer"
   ]
  },
  {
   "cell_type": "markdown",
   "metadata": {
    "id": "ydFjA-kcJRR6"
   },
   "source": [
    "#### Install Kafka and Zookeeper"
   ]
  },
  {
   "cell_type": "code",
   "execution_count": null,
   "metadata": {
    "id": "ooK-iJhnJaJ9"
   },
   "outputs": [],
   "source": [
    "!curl -sSOL https://downloads.apache.org/kafka/3.5.0/kafka_2.12-3.5.0.tgz\n",
    "!tar -xzf kafka_2.12-3.5.0.tgz"
   ]
  },
  {
   "cell_type": "code",
   "execution_count": null,
   "metadata": {
    "colab": {
     "base_uri": "https://localhost:8080/"
    },
    "id": "n9ujlunrWgRx",
    "outputId": "da8150bb-c336-4ef8-cacc-05f45d8baffa"
   },
   "outputs": [
    {
     "name": "stdout",
     "output_type": "stream",
     "text": [
      "Starting ZooKeeper service...\n",
      "Starting Kafka service...\n",
      "Waiting for 10 secs until Kafka and ZooKeeper services are up and running...\n",
      "root        1356       1 17 18:32 ?        00:00:01 java -Xmx512M -Xms512M -server -XX:+UseG1GC -XX:MaxGCPauseMillis=20 -XX:InitiatingHeapOccupancyPercent=35 -XX:+ExplicitGCInvokesConcurrent -XX:MaxInlineLevel=15 -Djava.awt.headless=true -Xlog:gc*:file=/content/kafka_2.12-3.5.0/bin/../logs/zookeeper-gc.log:time,tags:filecount=10,filesize=100M -Dcom.sun.management.jmxremote -Dcom.sun.management.jmxremote.authenticate=false -Dcom.sun.management.jmxremote.ssl=false -Dkafka.logs.dir=/content/kafka_2.12-3.5.0/bin/../logs -Dlog4j.configuration=file:./kafka_2.12-3.5.0/bin/../config/log4j.properties -cp /content/kafka_2.12-3.5.0/bin/../libs/activation-1.1.1.jar:/content/kafka_2.12-3.5.0/bin/../libs/aopalliance-repackaged-2.6.1.jar:/content/kafka_2.12-3.5.0/bin/../libs/argparse4j-0.7.0.jar:/content/kafka_2.12-3.5.0/bin/../libs/audience-annotations-0.13.0.jar:/content/kafka_2.12-3.5.0/bin/../libs/commons-cli-1.4.jar:/content/kafka_2.12-3.5.0/bin/../libs/commons-lang3-3.8.1.jar:/content/kafka_2.12-3.5.0/bin/../libs/connect-api-3.5.0.jar:/content/kafka_2.12-3.5.0/bin/../libs/connect-basic-auth-extension-3.5.0.jar:/content/kafka_2.12-3.5.0/bin/../libs/connect-json-3.5.0.jar:/content/kafka_2.12-3.5.0/bin/../libs/connect-mirror-3.5.0.jar:/content/kafka_2.12-3.5.0/bin/../libs/connect-mirror-client-3.5.0.jar:/content/kafka_2.12-3.5.0/bin/../libs/connect-runtime-3.5.0.jar:/content/kafka_2.12-3.5.0/bin/../libs/connect-transforms-3.5.0.jar:/content/kafka_2.12-3.5.0/bin/../libs/hk2-api-2.6.1.jar:/content/kafka_2.12-3.5.0/bin/../libs/hk2-locator-2.6.1.jar:/content/kafka_2.12-3.5.0/bin/../libs/hk2-utils-2.6.1.jar:/content/kafka_2.12-3.5.0/bin/../libs/jackson-annotations-2.13.5.jar:/content/kafka_2.12-3.5.0/bin/../libs/jackson-core-2.13.5.jar:/content/kafka_2.12-3.5.0/bin/../libs/jackson-databind-2.13.5.jar:/content/kafka_2.12-3.5.0/bin/../libs/jackson-dataformat-csv-2.13.5.jar:/content/kafka_2.12-3.5.0/bin/../libs/jackson-datatype-jdk8-2.13.5.jar:/content/kafka_2.12-3.5.0/bin/../libs/jackson-jaxrs-base-2.13.5.jar:/content/kafka_2.12-3.5.0/bin/../libs/jackson-jaxrs-json-provider-2.13.5.jar:/content/kafka_2.12-3.5.0/bin/../libs/jackson-module-jaxb-annotations-2.13.5.jar:/content/kafka_2.12-3.5.0/bin/../libs/jackson-module-scala_2.12-2.13.5.jar:/content/kafka_2.12-3.5.0/bin/../libs/jakarta.activation-api-1.2.2.jar:/content/kafka_2.12-3.5.0/bin/../libs/jakarta.annotation-api-1.3.5.jar:/content/kafka_2.12-3.5.0/bin/../libs/jakarta.inject-2.6.1.jar:/content/kafka_2.12-3.5.0/bin/../libs/jakarta.validation-api-2.0.2.jar:/content/kafka_2.12-3.5.0/bin/../libs/jakarta.ws.rs-api-2.1.6.jar:/content/kafka_2.12-3.5.0/bin/../libs/jakarta.xml.bind-api-2.3.3.jar:/content/kafka_2.12-3.5.0/bin/../libs/javassist-3.29.2-GA.jar:/content/kafka_2.12-3.5.0/bin/../libs/javax.activation-api-1.2.0.jar:/content/kafka_2.12-3.5.0/bin/../libs/javax.annotation-api-1.3.2.jar:/content/kafka_2.12-3.5.0/bin/../libs/javax.servlet-api-3.1.0.jar:/content/kafka_2.12-3.5.0/bin/../libs/javax.ws.rs-api-2.1.1.jar:/content/kafka_2.12-3.5.0/bin/../libs/jaxb-api-2.3.1.jar:/content/kafka_2.12-3.5.0/bin/../libs/jersey-client-2.39.1.jar:/content/kafka_2.12-3.5.0/bin/../libs/jersey-common-2.39.1.jar:/content/kafka_2.12-3.5.0/bin/../libs/jersey-container-servlet-2.39.1.jar:/content/kafka_2.12-3.5.0/bin/../libs/jersey-container-servlet-core-2.39.1.jar:/content/kafka_2.12-3.5.0/bin/../libs/jersey-hk2-2.39.1.jar:/content/kafka_2.12-3.5.0/bin/../libs/jersey-server-2.39.1.jar:/content/kafka_2.12-3.5.0/bin/../libs/jetty-client-9.4.51.v20230217.jar:/content/kafka_2.12-3.5.0/bin/../libs/jetty-continuation-9.4.51.v20230217.jar:/content/kafka_2.12-3.5.0/bin/../libs/jetty-http-9.4.51.v20230217.jar:/content/kafka_2.12-3.5.0/bin/../libs/jetty-io-9.4.51.v20230217.jar:/content/kafka_2.12-3.5.0/bin/../libs/jetty-security-9.4.51.v20230217.jar:/content/kafka_2.12-3.5.0/bin/../libs/jetty-server-9.4.51.v20230217.jar:/content/kafka_2.12-3.5.0/bin/../libs/jetty-servlet-9.4.51.v20230217.jar:/content/kafka_2.12-3.5.0/bin/../libs/jetty-servlets-9.4.51.v20230217.jar:/content/kafka_2.12-3.5.0/bin/../libs/jetty-util-9.4.51.v20230217.jar:/content/kafka_2.12-3.5.0/bin/../libs/jetty-util-ajax-9.4.51.v20230217.jar:/content/kafka_2.12-3.5.0/bin/../libs/jline-3.22.0.jar:/content/kafka_2.12-3.5.0/bin/../libs/jopt-simple-5.0.4.jar:/content/kafka_2.12-3.5.0/bin/../libs/jose4j-0.9.3.jar:/content/kafka_2.12-3.5.0/bin/../libs/kafka_2.12-3.5.0.jar:/content/kafka_2.12-3.5.0/bin/../libs/kafka-clients-3.5.0.jar:/content/kafka_2.12-3.5.0/bin/../libs/kafka-group-coordinator-3.5.0.jar:/content/kafka_2.12-3.5.0/bin/../libs/kafka-log4j-appender-3.5.0.jar:/content/kafka_2.12-3.5.0/bin/../libs/kafka-metadata-3.5.0.jar:/content/kafka_2.12-3.5.0/bin/../libs/kafka-raft-3.5.0.jar:/content/kafka_2.12-3.5.0/bin/../libs/kafka-server-common-3.5.0.jar:/content/kafka_2.12-3.5.0/bin/../libs/kafka-shell-3.5.0.jar:/content/kafka_2.12-3.5.0/bin/../libs/kafka-storage-3.5.0.jar:/content/kafka_2.12-3.5.0/bin/../libs/kafka-storage-api-3.5.0.jar:/content/kafka_2.12-3.5.0/bin/../libs/kafka-streams-3.5.0.jar:/content/kafka_2.12-3.5.0/bin/../libs/kafka-streams-examples-3.5.0.jar:/content/kafka_2.12-3.5.0/bin/../libs/kafka-streams-scala_2.12-3.5.0.jar:/content/kafka_2.12-3.5.0/bin/../libs/kafka-streams-test-utils-3.5.0.jar:/content/kafka_2.12-3.5.0/bin/../libs/kafka-tools-3.5.0.jar:/content/kafka_2.12-3.5.0/bin/../libs/kafka-tools-api-3.5.0.jar:/content/kafka_2.12-3.5.0/bin/../libs/lz4-java-1.8.0.jar:/content/kafka_2.12-3.5.0/bin/../libs/maven-artifact-3.8.4.jar:/content/kafka_2.12-3.5.0/bin/../libs/metrics-core-2.2.0.jar:/content/kafka_2.12-3.5.0/bin/../libs/metrics-core-4.1.12.1.jar:/content/kafka_2.12-3.5.0/bin/../libs/netty-buffer-4.1.92.Final.jar:/content/kafka_2.12-3.5.0/bin/../libs/netty-codec-4.1.92.Final.jar:/content/kafka_2.12-3.5.0/bin/../libs/netty-common-4.1.92.Final.jar:/content/kafka_2.12-3.5.0/bin/../libs/netty-handler-4.1.92.Final.jar:/content/kafka_2.12-3.5.0/bin/../libs/netty-resolver-4.1.92.Final.jar:/content/kafka_2.12-3.5.0/bin/../libs/netty-transport-4.1.92.Final.jar:/content/kafka_2.12-3.5.0/bin/../libs/netty-transport-classes-epoll-4.1.92.Final.jar:/content/kafka_2.12-3.5.0/bin/../libs/netty-transport-native-epoll-4.1.92.Final.jar:/content/kafka_2.12-3.5.0/bin/../libs/netty-transport-native-unix-common-4.1.92.Final.jar:/content/kafka_2.12-3.5.0/bin/../libs/osgi-resource-locator-1.0.3.jar:/content/kafka_2.12-3.5.0/bin/../libs/paranamer-2.8.jar:/content/kafka_2.12-3.5.0/bin/../libs/plexus-utils-3.3.0.jar:/content/kafka_2.12-3.5.0/bin/../libs/reflections-0.9.12.jar:/content/kafka_2.12-3.5.0/bin/../libs/reload4j-1.2.25.jar:/content/kafka_2.12-3.5.0/bin/../libs/rocksdbjni-7.1.2.jar:/content/kafka_2.12-3.5.0/bin/../libs/scala-collection-compat_2.12-2.10.0.jar:/content/kafka_2.12-3.5.0/bin/../libs/scala-java8-compat_2.12-1.0.2.jar:/content/kafka_2.12-3.5.0/bin/../libs/scala-library-2.12.15.jar:/content/kafka_2.12-3.5.0/bin/../libs/scala-logging_2.12-3.9.4.jar:/content/kafka_2.12-3.5.0/bin/../libs/scala-reflect-2.12.15.jar:/content/kafka_2.12-3.5.0/bin/../libs/slf4j-api-1.7.36.jar:/content/kafka_2.12-3.5.0/bin/../libs/slf4j-reload4j-1.7.36.jar:/content/kafka_2.12-3.5.0/bin/../libs/snappy-java-1.1.10.0.jar:/content/kafka_2.12-3.5.0/bin/../libs/swagger-annotations-2.2.8.jar:/content/kafka_2.12-3.5.0/bin/../libs/trogdor-3.5.0.jar:/content/kafka_2.12-3.5.0/bin/../libs/zookeeper-3.6.4.jar:/content/kafka_2.12-3.5.0/bin/../libs/zookeeper-jute-3.6.4.jar:/content/kafka_2.12-3.5.0/bin/../libs/zstd-jni-1.5.5-1.jar org.apache.zookeeper.server.quorum.QuorumPeerMain ./kafka_2.12-3.5.0/config/zookeeper.properties\n",
      "root        1717       1 60 18:32 ?        00:00:06 java -Xmx1G -Xms1G -server -XX:+UseG1GC -XX:MaxGCPauseMillis=20 -XX:InitiatingHeapOccupancyPercent=35 -XX:+ExplicitGCInvokesConcurrent -XX:MaxInlineLevel=15 -Djava.awt.headless=true -Xlog:gc*:file=/content/kafka_2.12-3.5.0/bin/../logs/kafkaServer-gc.log:time,tags:filecount=10,filesize=100M -Dcom.sun.management.jmxremote -Dcom.sun.management.jmxremote.authenticate=false -Dcom.sun.management.jmxremote.ssl=false -Dkafka.logs.dir=/content/kafka_2.12-3.5.0/bin/../logs -Dlog4j.configuration=file:./kafka_2.12-3.5.0/bin/../config/log4j.properties -cp /content/kafka_2.12-3.5.0/bin/../libs/activation-1.1.1.jar:/content/kafka_2.12-3.5.0/bin/../libs/aopalliance-repackaged-2.6.1.jar:/content/kafka_2.12-3.5.0/bin/../libs/argparse4j-0.7.0.jar:/content/kafka_2.12-3.5.0/bin/../libs/audience-annotations-0.13.0.jar:/content/kafka_2.12-3.5.0/bin/../libs/commons-cli-1.4.jar:/content/kafka_2.12-3.5.0/bin/../libs/commons-lang3-3.8.1.jar:/content/kafka_2.12-3.5.0/bin/../libs/connect-api-3.5.0.jar:/content/kafka_2.12-3.5.0/bin/../libs/connect-basic-auth-extension-3.5.0.jar:/content/kafka_2.12-3.5.0/bin/../libs/connect-json-3.5.0.jar:/content/kafka_2.12-3.5.0/bin/../libs/connect-mirror-3.5.0.jar:/content/kafka_2.12-3.5.0/bin/../libs/connect-mirror-client-3.5.0.jar:/content/kafka_2.12-3.5.0/bin/../libs/connect-runtime-3.5.0.jar:/content/kafka_2.12-3.5.0/bin/../libs/connect-transforms-3.5.0.jar:/content/kafka_2.12-3.5.0/bin/../libs/hk2-api-2.6.1.jar:/content/kafka_2.12-3.5.0/bin/../libs/hk2-locator-2.6.1.jar:/content/kafka_2.12-3.5.0/bin/../libs/hk2-utils-2.6.1.jar:/content/kafka_2.12-3.5.0/bin/../libs/jackson-annotations-2.13.5.jar:/content/kafka_2.12-3.5.0/bin/../libs/jackson-core-2.13.5.jar:/content/kafka_2.12-3.5.0/bin/../libs/jackson-databind-2.13.5.jar:/content/kafka_2.12-3.5.0/bin/../libs/jackson-dataformat-csv-2.13.5.jar:/content/kafka_2.12-3.5.0/bin/../libs/jackson-datatype-jdk8-2.13.5.jar:/content/kafka_2.12-3.5.0/bin/../libs/jackson-jaxrs-base-2.13.5.jar:/content/kafka_2.12-3.5.0/bin/../libs/jackson-jaxrs-json-provider-2.13.5.jar:/content/kafka_2.12-3.5.0/bin/../libs/jackson-module-jaxb-annotations-2.13.5.jar:/content/kafka_2.12-3.5.0/bin/../libs/jackson-module-scala_2.12-2.13.5.jar:/content/kafka_2.12-3.5.0/bin/../libs/jakarta.activation-api-1.2.2.jar:/content/kafka_2.12-3.5.0/bin/../libs/jakarta.annotation-api-1.3.5.jar:/content/kafka_2.12-3.5.0/bin/../libs/jakarta.inject-2.6.1.jar:/content/kafka_2.12-3.5.0/bin/../libs/jakarta.validation-api-2.0.2.jar:/content/kafka_2.12-3.5.0/bin/../libs/jakarta.ws.rs-api-2.1.6.jar:/content/kafka_2.12-3.5.0/bin/../libs/jakarta.xml.bind-api-2.3.3.jar:/content/kafka_2.12-3.5.0/bin/../libs/javassist-3.29.2-GA.jar:/content/kafka_2.12-3.5.0/bin/../libs/javax.activation-api-1.2.0.jar:/content/kafka_2.12-3.5.0/bin/../libs/javax.annotation-api-1.3.2.jar:/content/kafka_2.12-3.5.0/bin/../libs/javax.servlet-api-3.1.0.jar:/content/kafka_2.12-3.5.0/bin/../libs/javax.ws.rs-api-2.1.1.jar:/content/kafka_2.12-3.5.0/bin/../libs/jaxb-api-2.3.1.jar:/content/kafka_2.12-3.5.0/bin/../libs/jersey-client-2.39.1.jar:/content/kafka_2.12-3.5.0/bin/../libs/jersey-common-2.39.1.jar:/content/kafka_2.12-3.5.0/bin/../libs/jersey-container-servlet-2.39.1.jar:/content/kafka_2.12-3.5.0/bin/../libs/jersey-container-servlet-core-2.39.1.jar:/content/kafka_2.12-3.5.0/bin/../libs/jersey-hk2-2.39.1.jar:/content/kafka_2.12-3.5.0/bin/../libs/jersey-server-2.39.1.jar:/content/kafka_2.12-3.5.0/bin/../libs/jetty-client-9.4.51.v20230217.jar:/content/kafka_2.12-3.5.0/bin/../libs/jetty-continuation-9.4.51.v20230217.jar:/content/kafka_2.12-3.5.0/bin/../libs/jetty-http-9.4.51.v20230217.jar:/content/kafka_2.12-3.5.0/bin/../libs/jetty-io-9.4.51.v20230217.jar:/content/kafka_2.12-3.5.0/bin/../libs/jetty-security-9.4.51.v20230217.jar:/content/kafka_2.12-3.5.0/bin/../libs/jetty-server-9.4.51.v20230217.jar:/content/kafka_2.12-3.5.0/bin/../libs/jetty-servlet-9.4.51.v20230217.jar:/content/kafka_2.12-3.5.0/bin/../libs/jetty-servlets-9.4.51.v20230217.jar:/content/kafka_2.12-3.5.0/bin/../libs/jetty-util-9.4.51.v20230217.jar:/content/kafka_2.12-3.5.0/bin/../libs/jetty-util-ajax-9.4.51.v20230217.jar:/content/kafka_2.12-3.5.0/bin/../libs/jline-3.22.0.jar:/content/kafka_2.12-3.5.0/bin/../libs/jopt-simple-5.0.4.jar:/content/kafka_2.12-3.5.0/bin/../libs/jose4j-0.9.3.jar:/content/kafka_2.12-3.5.0/bin/../libs/kafka_2.12-3.5.0.jar:/content/kafka_2.12-3.5.0/bin/../libs/kafka-clients-3.5.0.jar:/content/kafka_2.12-3.5.0/bin/../libs/kafka-group-coordinator-3.5.0.jar:/content/kafka_2.12-3.5.0/bin/../libs/kafka-log4j-appender-3.5.0.jar:/content/kafka_2.12-3.5.0/bin/../libs/kafka-metadata-3.5.0.jar:/content/kafka_2.12-3.5.0/bin/../libs/kafka-raft-3.5.0.jar:/content/kafka_2.12-3.5.0/bin/../libs/kafka-server-common-3.5.0.jar:/content/kafka_2.12-3.5.0/bin/../libs/kafka-shell-3.5.0.jar:/content/kafka_2.12-3.5.0/bin/../libs/kafka-storage-3.5.0.jar:/content/kafka_2.12-3.5.0/bin/../libs/kafka-storage-api-3.5.0.jar:/content/kafka_2.12-3.5.0/bin/../libs/kafka-streams-3.5.0.jar:/content/kafka_2.12-3.5.0/bin/../libs/kafka-streams-examples-3.5.0.jar:/content/kafka_2.12-3.5.0/bin/../libs/kafka-streams-scala_2.12-3.5.0.jar:/content/kafka_2.12-3.5.0/bin/../libs/kafka-streams-test-utils-3.5.0.jar:/content/kafka_2.12-3.5.0/bin/../libs/kafka-tools-3.5.0.jar:/content/kafka_2.12-3.5.0/bin/../libs/kafka-tools-api-3.5.0.jar:/content/kafka_2.12-3.5.0/bin/../libs/lz4-java-1.8.0.jar:/content/kafka_2.12-3.5.0/bin/../libs/maven-artifact-3.8.4.jar:/content/kafka_2.12-3.5.0/bin/../libs/metrics-core-2.2.0.jar:/content/kafka_2.12-3.5.0/bin/../libs/metrics-core-4.1.12.1.jar:/content/kafka_2.12-3.5.0/bin/../libs/netty-buffer-4.1.92.Final.jar:/content/kafka_2.12-3.5.0/bin/../libs/netty-codec-4.1.92.Final.jar:/content/kafka_2.12-3.5.0/bin/../libs/netty-common-4.1.92.Final.jar:/content/kafka_2.12-3.5.0/bin/../libs/netty-handler-4.1.92.Final.jar:/content/kafka_2.12-3.5.0/bin/../libs/netty-resolver-4.1.92.Final.jar:/content/kafka_2.12-3.5.0/bin/../libs/netty-transport-4.1.92.Final.jar:/content/kafka_2.12-3.5.0/bin/../libs/netty-transport-classes-epoll-4.1.92.Final.jar:/content/kafka_2.12-3.5.0/bin/../libs/netty-transport-native-epoll-4.1.92.Final.jar:/content/kafka_2.12-3.5.0/bin/../libs/netty-transport-native-unix-common-4.1.92.Final.jar:/content/kafka_2.12-3.5.0/bin/../libs/osgi-resource-locator-1.0.3.jar:/content/kafka_2.12-3.5.0/bin/../libs/paranamer-2.8.jar:/content/kafka_2.12-3.5.0/bin/../libs/plexus-utils-3.3.0.jar:/content/kafka_2.12-3.5.0/bin/../libs/reflections-0.9.12.jar:/content/kafka_2.12-3.5.0/bin/../libs/reload4j-1.2.25.jar:/content/kafka_2.12-3.5.0/bin/../libs/rocksdbjni-7.1.2.jar:/content/kafka_2.12-3.5.0/bin/../libs/scala-collection-compat_2.12-2.10.0.jar:/content/kafka_2.12-3.5.0/bin/../libs/scala-java8-compat_2.12-1.0.2.jar:/content/kafka_2.12-3.5.0/bin/../libs/scala-library-2.12.15.jar:/content/kafka_2.12-3.5.0/bin/../libs/scala-logging_2.12-3.9.4.jar:/content/kafka_2.12-3.5.0/bin/../libs/scala-reflect-2.12.15.jar:/content/kafka_2.12-3.5.0/bin/../libs/slf4j-api-1.7.36.jar:/content/kafka_2.12-3.5.0/bin/../libs/slf4j-reload4j-1.7.36.jar:/content/kafka_2.12-3.5.0/bin/../libs/snappy-java-1.1.10.0.jar:/content/kafka_2.12-3.5.0/bin/../libs/swagger-annotations-2.2.8.jar:/content/kafka_2.12-3.5.0/bin/../libs/trogdor-3.5.0.jar:/content/kafka_2.12-3.5.0/bin/../libs/zookeeper-3.6.4.jar:/content/kafka_2.12-3.5.0/bin/../libs/zookeeper-jute-3.6.4.jar:/content/kafka_2.12-3.5.0/bin/../libs/zstd-jni-1.5.5-1.jar kafka.Kafka ./kafka_2.12-3.5.0/config/server.properties\n",
      "root        1851     389  0 18:32 ?        00:00:00 /bin/bash -c ps -ef | grep kafka\n",
      "root        1853    1851  0 18:32 ?        00:00:00 grep kafka\n"
     ]
    }
   ],
   "source": [
    "!echo \"Starting ZooKeeper service...\"\n",
    "!./kafka_2.12-3.5.0/bin/zookeeper-server-start.sh -daemon ./kafka_2.12-3.5.0/config/zookeeper.properties\n",
    "\n",
    "!echo \"Starting Kafka service...\"\n",
    "!./kafka_2.12-3.5.0/bin/kafka-server-start.sh -daemon ./kafka_2.12-3.5.0/config/server.properties\n",
    "\n",
    "!echo \"Waiting for 10 secs until Kafka and ZooKeeper services are up and running...\"\n",
    "\n",
    "!sleep 10\n",
    "\n",
    "!ps -ef | grep kafka\n"
   ]
  },
  {
   "cell_type": "markdown",
   "metadata": {
    "id": "nTOX5oD6Jfvq"
   },
   "source": [
    "#### Run Kafka and Zookeeper in daemon mode on port 9092"
   ]
  },
  {
   "cell_type": "code",
   "execution_count": null,
   "metadata": {
    "colab": {
     "base_uri": "https://localhost:8080/"
    },
    "id": "lXJWqMmWnPyP",
    "outputId": "f46b3592-ba14-4344-e778-56102cabec15"
   },
   "outputs": [
    {
     "name": "stdout",
     "output_type": "stream",
     "text": [
      "WARNING: Due to limitations in metric names, topics with a period ('.') or underscore ('_') could collide. To avoid issues it is best to use either, but not both.\n",
      "Created topic yelp_reviews.\n"
     ]
    }
   ],
   "source": [
    "!./kafka_2.12-3.5.0/bin/kafka-topics.sh --create --bootstrap-server 127.0.0.1:9092 --replication-factor 1 --partitions 1 --topic yelp_reviews"
   ]
  },
  {
   "cell_type": "markdown",
   "metadata": {
    "id": "fvq7OUczJwCS"
   },
   "source": [
    "#### Create new topics in kafka\n"
   ]
  },
  {
   "cell_type": "code",
   "execution_count": null,
   "metadata": {
    "colab": {
     "base_uri": "https://localhost:8080/"
    },
    "id": "apCf9pfVnwn7",
    "outputId": "256f3b35-1afb-427c-cb0d-ba252199a857"
   },
   "outputs": [
    {
     "name": "stdout",
     "output_type": "stream",
     "text": [
      "Topic: yelp_reviews\tTopicId: 3iuKdaZbRgmBHiFuu8D57w\tPartitionCount: 1\tReplicationFactor: 1\tConfigs: \n",
      "\tTopic: yelp_reviews\tPartition: 0\tLeader: 0\tReplicas: 0\tIsr: 0\n"
     ]
    }
   ],
   "source": [
    "!./kafka_2.12-3.5.0/bin/kafka-topics.sh --describe --bootstrap-server 127.0.0.1:9092 --topic yelp_reviews"
   ]
  },
  {
   "cell_type": "markdown",
   "metadata": {
    "id": "txODX9YKJ70o"
   },
   "source": [
    "#### Install OpenJDK"
   ]
  },
  {
   "cell_type": "code",
   "execution_count": null,
   "metadata": {
    "colab": {
     "base_uri": "https://localhost:8080/"
    },
    "id": "pqakT6EsPQcK",
    "outputId": "f04fa90e-c781-465d-83ff-4c78643bd53b"
   },
   "outputs": [
    {
     "name": "stdout",
     "output_type": "stream",
     "text": [
      "Installing OpenJDK 8 JDK...\n"
     ]
    }
   ],
   "source": [
    "!echo \"Installing OpenJDK 8 JDK...\"\n",
    "\n",
    "!apt-get install openjdk-8-jdk-headless -qq > /dev/null"
   ]
  },
  {
   "cell_type": "markdown",
   "metadata": {
    "id": "B_Qiee3bKEDy"
   },
   "source": [
    "#### Install Kafka's client\n"
   ]
  },
  {
   "cell_type": "code",
   "execution_count": null,
   "metadata": {
    "colab": {
     "base_uri": "https://localhost:8080/"
    },
    "id": "cDPYgB5OUF1k",
    "outputId": "d752b8c2-6c46-430c-9702-c4a0c0dc8fc6"
   },
   "outputs": [
    {
     "name": "stdout",
     "output_type": "stream",
     "text": [
      "Collecting kafka-python\n",
      "  Downloading kafka_python-2.0.2-py2.py3-none-any.whl (246 kB)\n",
      "\u001b[?25l     \u001b[90m━━━━━━━━━━━━━━━━━━━━━━━━━━━━━━━━━━━━━━━━\u001b[0m \u001b[32m0.0/246.5 kB\u001b[0m \u001b[31m?\u001b[0m eta \u001b[36m-:--:--\u001b[0m\r",
      "\u001b[2K     \u001b[90m━━━━━━━━━━━━━━━━━━━━━━━━━━━━━━━━━━━━━━\u001b[0m \u001b[32m246.5/246.5 kB\u001b[0m \u001b[31m11.5 MB/s\u001b[0m eta \u001b[36m0:00:00\u001b[0m\n",
      "\u001b[?25hInstalling collected packages: kafka-python\n",
      "Successfully installed kafka-python-2.0.2\n"
     ]
    }
   ],
   "source": [
    "!pip install kafka-python"
   ]
  },
  {
   "cell_type": "markdown",
   "metadata": {
    "id": "gPJUP5KyKi38"
   },
   "source": [
    "#### Import the packages."
   ]
  },
  {
   "cell_type": "code",
   "execution_count": null,
   "metadata": {
    "id": "fgvDW0smTFRb"
   },
   "outputs": [],
   "source": [
    "import pandas as pd\n",
    "from kafka import KafkaProducer\n",
    "import json\n",
    "import time\n",
    "from pandas import Timestamp"
   ]
  },
  {
   "cell_type": "code",
   "execution_count": null,
   "metadata": {
    "colab": {
     "base_uri": "https://localhost:8080/"
    },
    "id": "z0FOhZQ9TKbe",
    "outputId": "b09daace-f7c6-4b3a-ee0c-d7d93555a886"
   },
   "outputs": [
    {
     "name": "stderr",
     "output_type": "stream",
     "text": [
      "<ipython-input-28-ec0bb0326633>:4: FutureWarning: Using short name for 'orient' is deprecated. Only the options: ('dict', list, 'series', 'split', 'records', 'index') will be used in a future version. Use one of the above to silence this warning.\n",
      "  data = yelp_reviews.to_dict ( \"reviews\" )\n"
     ]
    }
   ],
   "source": [
    "yelp_reviews = pd.read_json('small_yelp_reviews.json', lines = True)\n",
    "\n",
    "#yelp_reviews = yelp_reviews.loc [ :9 ]\n",
    "data = yelp_reviews.to_dict ( \"reviews\" )"
   ]
  },
  {
   "cell_type": "code",
   "execution_count": null,
   "metadata": {
    "colab": {
     "base_uri": "https://localhost:8080/"
    },
    "id": "BReEj1eOTLaA",
    "outputId": "1c4001f4-fe95-4018-9971-ace91a52a8c1"
   },
   "outputs": [
    {
     "name": "stdout",
     "output_type": "stream",
     "text": [
      "Number of datapoints:  1000\n",
      "Number of columns:  9\n"
     ]
    }
   ],
   "source": [
    "# Number of datapoints and columns\n",
    "num_datapoints, num_columns = len( yelp_reviews ), len( yelp_reviews.columns )\n",
    "print(\"Number of datapoints: \", num_datapoints)\n",
    "print(\"Number of columns: \", num_columns)"
   ]
  },
  {
   "cell_type": "code",
   "execution_count": null,
   "metadata": {
    "id": "qC6-N4vqTY_B"
   },
   "outputs": [],
   "source": [
    "# Define the Kafka topic\n",
    "topic = \"yelp_reviews\"\n",
    "\n",
    "# Create a Kafka producer\n",
    "producer = KafkaProducer(bootstrap_servers=\"localhost:9092\")\n",
    "producer.flush()\n",
    "# Iterate over the data and send each row to Kafka\n",
    "rownum = 0\n",
    "for row in data:\n",
    "  rownum += 1\n",
    "  print(row)\n",
    "  row['date'] = row['date'].strftime('%Y-%m-%d %H:%M:%S')\n",
    "  message = json.dumps(row).encode(\"utf-8\")\n",
    "\n",
    "  producer.send(topic, message)\n",
    "  if rownum == 10:\n",
    "    rownum = 0\n",
    "    time.sleep ( 10 )\n",
    "# Flush the producer\n",
    "producer.flush()"
   ]
  },
  {
   "cell_type": "markdown",
   "metadata": {
    "id": "wakKLkr9L7rX"
   },
   "source": [
    "##### View the data from the topic"
   ]
  },
  {
   "cell_type": "code",
   "execution_count": null,
   "metadata": {
    "colab": {
     "base_uri": "https://localhost:8080/"
    },
    "id": "REgwdWKLYZJb",
    "outputId": "76286255-8dbb-4dd0-e743-829e896864bb"
   },
   "outputs": [
    {
     "name": "stdout",
     "output_type": "stream",
     "text": [
      "{\"longitude\": -122.05, \"latitude\": 37.37, \"housing_median_age\": 27.0, \"total_rooms\": 3885.0, \"total_bedrooms\": 661.0, \"population\": 1537.0, \"households\": 606.0, \"median_income\": 6.6085, \"median_house_value\": 344700.0}\n",
      "{\"longitude\": -118.3, \"latitude\": 34.26, \"housing_median_age\": 43.0, \"total_rooms\": 1510.0, \"total_bedrooms\": 310.0, \"population\": 809.0, \"households\": 277.0, \"median_income\": 3.599, \"median_house_value\": 176500.0}\n",
      "{\"longitude\": -117.81, \"latitude\": 33.78, \"housing_median_age\": 27.0, \"total_rooms\": 3589.0, \"total_bedrooms\": 507.0, \"population\": 1484.0, \"households\": 495.0, \"median_income\": 5.7934, \"median_house_value\": 270500.0}\n",
      "{\"longitude\": -118.36, \"latitude\": 33.82, \"housing_median_age\": 28.0, \"total_rooms\": 67.0, \"total_bedrooms\": 15.0, \"population\": 49.0, \"households\": 11.0, \"median_income\": 6.1359, \"median_house_value\": 330000.0}\n",
      "{\"longitude\": -119.67, \"latitude\": 36.33, \"housing_median_age\": 19.0, \"total_rooms\": 1241.0, \"total_bedrooms\": 244.0, \"population\": 850.0, \"households\": 237.0, \"median_income\": 2.9375, \"median_house_value\": 81700.0}\n",
      "{\"longitude\": -119.56, \"latitude\": 36.51, \"housing_median_age\": 37.0, \"total_rooms\": 1018.0, \"total_bedrooms\": 213.0, \"population\": 663.0, \"households\": 204.0, \"median_income\": 1.6635, \"median_house_value\": 67000.0}\n",
      "{\"longitude\": -121.43, \"latitude\": 38.63, \"housing_median_age\": 43.0, \"total_rooms\": 1009.0, \"total_bedrooms\": 225.0, \"population\": 604.0, \"households\": 218.0, \"median_income\": 1.6641, \"median_house_value\": 67000.0}\n",
      "{\"longitude\": -120.65, \"latitude\": 35.48, \"housing_median_age\": 19.0, \"total_rooms\": 2310.0, \"total_bedrooms\": 471.0, \"population\": 1341.0, \"households\": 441.0, \"median_income\": 3.225, \"median_house_value\": 166900.0}\n",
      "{\"longitude\": -122.84, \"latitude\": 38.4, \"housing_median_age\": 15.0, \"total_rooms\": 3080.0, \"total_bedrooms\": 617.0, \"population\": 1446.0, \"households\": 599.0, \"median_income\": 3.6696, \"median_house_value\": 194400.0}\n",
      "{\"longitude\": -118.02, \"latitude\": 34.08, \"housing_median_age\": 31.0, \"total_rooms\": 2402.0, \"total_bedrooms\": 632.0, \"population\": 2830.0, \"households\": 603.0, \"median_income\": 2.3333, \"median_house_value\": 164200.0}\n",
      "Processed a total of 10 messages\n"
     ]
    }
   ],
   "source": [
    "!./kafka_2.12-3.5.0/bin/kafka-console-consumer.sh --bootstrap-server localhost:9092 --topic housing_data --from-beginning --max-messages 10"
   ]
  },
  {
   "cell_type": "code",
   "execution_count": null,
   "metadata": {
    "id": "JZGbQeQTClOr"
   },
   "outputs": [],
   "source": []
  }
 ],
 "metadata": {
  "colab": {
   "provenance": []
  },
  "kernelspec": {
   "display_name": "Python 3 (ipykernel)",
   "language": "python",
   "name": "python3"
  },
  "language_info": {
   "codemirror_mode": {
    "name": "ipython",
    "version": 3
   },
   "file_extension": ".py",
   "mimetype": "text/x-python",
   "name": "python",
   "nbconvert_exporter": "python",
   "pygments_lexer": "ipython3",
   "version": "3.9.16"
  }
 },
 "nbformat": 4,
 "nbformat_minor": 1
}
