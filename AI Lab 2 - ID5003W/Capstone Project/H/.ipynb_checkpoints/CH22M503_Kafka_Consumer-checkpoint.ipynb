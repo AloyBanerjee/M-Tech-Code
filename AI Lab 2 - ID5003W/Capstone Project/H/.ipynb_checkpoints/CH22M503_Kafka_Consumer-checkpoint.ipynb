{
 "cells": [
  {
   "cell_type": "markdown",
   "metadata": {},
   "source": [
    "## Kafka_Consumer"
   ]
  },
  {
   "cell_type": "code",
   "execution_count": 2,
   "metadata": {
    "colab": {
     "base_uri": "https://localhost:8080/",
     "height": 720
    },
    "id": "xNbDfMhq6smL",
    "outputId": "859a4072-c4f0-40c0-9c3f-0dd7fada0f91"
   },
   "outputs": [
    {
     "name": "stdout",
     "output_type": "stream",
     "text": [
      "{\"review_id\": \"HuWEnZr7-0HveaqXxyywgg\", \"user_id\": \"Eb8LgZArKmW0KgW6lTni-w\", \"business_id\": \"YbnJYHNp_fHbI-hcFg48vQ\", \"stars\": 5, \"useful\": 2, \"funny\": 0, \"cool\": 2, \"text\": \"The kayaking tour at the Santa Cruz Island was great.  My husband and I had a wonderful time.  Jen, our tour guide, was helpful and informative.  We had a lot of fun exploring the caves.  We didn't expect much but this tour definitely exceeded our expectation.\", \"date\": \"2009-08-03 21:55:27\"}\n",
      "{\"review_id\": \"aAcQibR3zWOvk4atbCM3SA\", \"user_id\": \"7P9w2PrP4ZcJyDFwch51Ig\", \"business_id\": \"Zi-F-YvyVOK0k5QD7lrLOg\", \"stars\": 5, \"useful\": 0, \"funny\": 0, \"cool\": 0, \"text\": \"Definitely recommend for anyone looking for a delicious meal at a reasonable price. The shrimp and goat cheese crepes are a must have!\", \"date\": \"2016-09-18 17:05:23\"}\n",
      "{\"review_id\": \"-up4mW6WdqzGrRh7t_pLmA\", \"user_id\": \"xbybLiQockAzC4xAlzFrGg\", \"business_id\": \"EpREWeEpmR8f1qLHzzF0AA\", \"stars\": 5, \"useful\": 0, \"funny\": 0, \"cool\": 0, \"text\": \"After living in the STL area for way over 10 years now, I am both ashamed and remorseful to admit that I ate here for the FIRST time just a few weeks ago. I am ashamed because it's a St. Louis tradition and remorseful because I missed out on it for so..many...years! \\n\\nThis place is amazing. What is not to love! It's a factory where you can get a tour (Friday-Sunday, noon-5pm on the hour), there's a shop, bar, and dining area. They also host many event with live music on the weekends. It's fun to just kind of wander and look around - don't worry, you'll get a chance because there will likely be a wait before you dine. The beer is, of course, amazing. The Hefeweizen is my personal favorite and a great start for anyone who is not a huge beer drinker (like myself). Additionally, the food is homegrown and damn good. I had the pizza (recommendation from my server) and it was really spectacular, though I'm admittedly a pizza connoisseur so I enjoy a good pizza pie more than most probably ;P My date had a bison burger which was also really good. \\n\\nMore fun info: the service is great! I think they tend to hire more funky and alternative people (like tattoo parlor staff) which I support. The quality is what makes this place stand out along with the emphasis on local food and brewery. \\n\\nIt is a little on the pricier side but for all the experience you get and the quality, it is worth it. I will go again and again and you probably should, too!\", \"date\": \"2011-11-30 06:58:36\"}\n",
      "{\"review_id\": \"PDHRlnEdkEcwATry4w71PQ\", \"user_id\": \"UsBxLh14sUpO8SdeqIiGOA\", \"business_id\": \"Wy8Hswf2cLQGRZN6armkag\", \"stars\": 1, \"useful\": 1, \"funny\": 0, \"cool\": 0, \"text\": \"If I could give it a zero, I would. I order a plain hamburger, and realized they put  bacon in it (which I am allergic to and unable to eat) after two bites. When I went back to the drive-through window to complain (didn't realize the actual restaurant was open--it was almost 2 after all...), the guy took back the burger, said nothing, and disappeared. After 2 minutes of awkwardly making conversation with the next people in line in their car, he came back and rudely told me I had to go inside to get my food. Which I did. And still did not get an apology.\\n\\nI refuse to go back there after that ordeal, which is a shame, because it's nice to have a variety of places to go to after DT. Guess Freebirds it is!\", \"date\": \"2011-08-24 23:07:08\"}\n",
      "{\"review_id\": \"EZarjNNbO_2yH1Xbizog9g\", \"user_id\": \"R_W9WlKiA56VzVbRzTULQQ\", \"business_id\": \"pR8u8hXf1vvzoAGOoKHQqQ\", \"stars\": 5, \"useful\": 1, \"funny\": 0, \"cool\": 0, \"text\": \"First time here and they did a great job, very satisfied with the car wash  and the service I received. Thank you\", \"date\": \"2016-08-25 17:17:46\"}\n",
      "Processed a total of 5 messages\n",
      "Sleeping for 5 seconds...\n",
      "\n",
      "{\"review_id\": \"RGV9GWhAAfAAlYyd4vho7g\", \"user_id\": \"Zs8Zk3sgh5JxRmoZW4PJcg\", \"business_id\": \"3ZynJ94VpIdDlaArmEp2Rg\", \"stars\": 3, \"useful\": 0, \"funny\": 0, \"cool\": 0, \"text\": \"A couple friends and I stopped by for some late night milkshakes and found ourselves at More Than Just Ice Cream. Well, we just got ice cream...not fully taking advantage of what the name implies, but maybe next time.\\n\\n3 milkshakes: 1 coffee, 1 chocolate, and 1 black&white malt. \\n\\nAll were pretty good. Definitely satisfied the ice cream craving. I thought my coffee milkshake could have been thicker, same goes for the chocolate. The black&white was plenty thick and was probably the best of the three. Unfortunately, I did not order that one so I settled for my not so creamy coffee.\\n\\nI did sample some ice cream flavors before setting on a milkshake. I tried the pumpkin pie which was AMAZING. I don't know why I didn't just get this. Maybe a milkshake isn't the way to go here.\", \"date\": \"2013-10-03 16:24:30\"}\n",
      "{\"review_id\": \"7rCsR3SARVF3vXNiw_Csgg\", \"user_id\": \"mmdf_Fi-Hh_3uZN5zE164A\", \"business_id\": \"9gObo5ltOMo6UgsaXaHPWA\", \"stars\": 5, \"useful\": 0, \"funny\": 0, \"cool\": 0, \"text\": \"My husband and I took my mother here for her 100th birthday!\\nWe can't say enough about the treatment we received: from a great table and view, to delicious \\\"compliments of the chef\\\" extra dishes, to a beautifully decorated cake plate, to the warm and attentive servers. It was much more than we expected, even for this very special occasion. For us, it was a wonderfully memorable experience.\", \"date\": \"2016-09-06 03:04:24\"}\n",
      "{\"review_id\": \"DOeEDBfsrNph0ktNkYYFnQ\", \"user_id\": \"qVYilGRmY6uemAy_tDpfuA\", \"business_id\": \"9OtFX3YzG5keaUMOWU1imA\", \"stars\": 5, \"useful\": 4, \"funny\": 0, \"cool\": 0, \"text\": \"Man. This place is nice. The bartender was awesome. Try the burger. It's fresh with all local ingredients. The plates of food I saw come out looked amazing as well. \\n\\nThe beer is cold. The drinks are mixed perfectly.  This is not a chain restaurant but a dedicated local place with good employees.\", \"date\": \"2014-05-26 01:56:19\"}\n",
      "{\"review_id\": \"JzBhoRVecH9pO0BBiJNQqw\", \"user_id\": \"Pbry-b9xBgHlWlbGlYbTZg\", \"business_id\": \"b7V_5q22_eTeHlYzq1bpFw\", \"stars\": 3, \"useful\": 2, \"funny\": 1, \"cool\": 0, \"text\": \"I visited this restaurant 4 times during my 5 days stay. Crazy, right? Here are a list of reasons/pros:\\n\\n- We were staying a nearby hotel.\\n- The restaurant opens 11 - 10:30 pretty much every day including new year's day so it fits into our schedule.\\n- If you are a party of two, chances are you get seated right away.\\n- $9 per dozen of oysters which is a really great deal by any standard!\\n- They have a seafood shop next door that sells boiled and fresh seafood to- go.\\n- Our server (same) is very friendly and recognized us every single time.\\n\\nNow I want to talk about the reasons why I only give it 3 stars.\\n\\n- We tried a bunch of stuff which are all pretty mediocre. Raw oysters are not cleaned well. So if your schedule is flexible, go to Superior Seafood during their happy hours for their 50 cents/oyster - better quality and cheaper. Turtle soup has a strange taste so I definitely prefer Felix's. A portion of my boiled shrimps are always mushy somhow, maybe boiled for too long?...\\n- The ambient is inviting but not comfortable so we basically just finished our food and go. \\n- Clean the bathroom!!\\n\\nWill probably visit again if we stay in the area next time or simply just pick up some seafood quickly.\", \"date\": \"2017-01-02 04:12:17\"}\n",
      "{\"review_id\": \"meGaFP7yxQdjyABrYDVeoQ\", \"user_id\": \"_jaJDV-qTBafatbObmtzpA\", \"business_id\": \"cg4JFJcCxRTTMmcg9O9KtA\", \"stars\": 1, \"useful\": 0, \"funny\": 1, \"cool\": 0, \"text\": \"Skip this train wreck if you are looking for dinner.  Our server was clueless...like we seriously thought she was lost in the restaurant.  Had to ask for setups, water refills, etc.  Ordered chicken parmesan and got eggplant parmesan instead with a fish bone in it.  The drinks were good.\", \"date\": \"2018-02-11 03:11:20\"}\n",
      "Processed a total of 5 messages\n",
      "Sleeping for 5 seconds...\n",
      "\n",
      "{\"review_id\": \"byblHsbxiqb1pC1cuSfslA\", \"user_id\": \"C_2mNjl-doRVvsL03_T57Q\", \"business_id\": \"18eWJFJbXyR9j_5xfcRLYA\", \"stars\": 4, \"useful\": 7, \"funny\": 0, \"cool\": 0, \"text\": \"This is the first time I tried this place and  I was surprisingly surprised. I had a combination dinner pad Thai and coconut soup. The soup was very tasty as I never had coconut soup before. The pad Thai was exactly what I was expecting and it did not disappoint. The restaurant had great Thai decor and music. The staff and service was top notch. For a town with not much selection for food, this was a great change of pace. This may become my go to place in Carp.\", \"date\": \"2011-10-28 03:43:05\"}\n",
      "{\"review_id\": \"xumAI7br1X67OY_bU_Yqhg\", \"user_id\": \"jEmClJb6wjfDUksVMO_Jjg\", \"business_id\": \"X_E7U2lVNEwbH_gpOBmAHQ\", \"stars\": 5, \"useful\": 0, \"funny\": 0, \"cool\": 0, \"text\": \"This place was so chill and relaxing. When I come back it'll definitely be in my list if stops. Not to mention the artist performing was fun and eclectic  (I mean really, a country version of \\\"Let It Go\\\", what's not to love?)\", \"date\": \"2017-06-17 17:46:55\"}\n",
      "{\"review_id\": \"fC415u9adP0Xtamme7hcCw\", \"user_id\": \"mEOMAeEonZoUx2nPM3v6fg\", \"business_id\": \"f-WhNOSwN1aB4nRFekf01g\", \"stars\": 4, \"useful\": 0, \"funny\": 0, \"cool\": 0, \"text\": \"Id you haven't been to the Smoothie King center since it was know as the New Orleans Arena, you are in for a nice surprise. The arena has had a face lift and, while the seats are the same,  everything else has been refreshed.   \\n\\nMost importantly,  the food options are far more varied and appeal to many tastes.  The quality of the food is very good and significantly improved from a few years back. The drink options are much improved as well and include full service bars, spiked lemonade,  bottled and draft beer and of course, smoothies.  There is even a spot for sweets. You can get funnel cake, cotton candy, and all kinds of delicious things I was too full to take in.  \\n\\nThe venue finally feels a bit swanky and top notch.  We are moving on up!\", \"date\": \"2015-03-19 00:30:09\"}\n",
      "{\"review_id\": \"onlgwy5qGDEzddsrnIvtWg\", \"user_id\": \"pYXeL0RCqus2IfhthYCOyA\", \"business_id\": \"W7NxQw8UYFR0HLPrI08tvw\", \"stars\": 4, \"useful\": 0, \"funny\": 0, \"cool\": 0, \"text\": \"Don't know what it is but If my tummy's feeling icky, I can count on Chipotle's stake to fix me up. I just have to remember not to go during full on lunch time. I usually go between 2 & 4 when it's peaceful and calm. Busy or not the service is always friendly and fast!\", \"date\": \"2012-02-01 14:21:25\"}\n",
      "{\"review_id\": \"FMFZoES5LfumuwhsZbIDlQ\", \"user_id\": \"4ubLHlnMFFw4JikcXr-F4w\", \"business_id\": \"f4PA-f1tcN1bIpZJLdFsQQ\", \"stars\": 5, \"useful\": 3, \"funny\": 0, \"cool\": 0, \"text\": \"I must admit, I wasn't expecting much. This place totally blew us away. This has to be one of the best Indian restaurants in the Tampa Bay. The ambience is wonderful including white table linens. The best part was the food, OMG. The chicken 65 was to die for, and the hot sour soup was rich and flavorful. The waitress (Angel) was friendly,  attentive and very pleasant. They opened just a week ago. I'm sure this will soon be the place foodies seek out for real Indian food.\", \"date\": \"2017-05-26 02:32:01\"}\n",
      "Processed a total of 5 messages\n",
      "Sleeping for 5 seconds...\n",
      "\n",
      "Processed a total of 0 messages\n",
      "Sleeping for 5 seconds...\n",
      "\n"
     ]
    },
    {
     "ename": "KeyboardInterrupt",
     "evalue": "ignored",
     "output_type": "error",
     "traceback": [
      "\u001b[0;31m---------------------------------------------------------------------------\u001b[0m",
      "\u001b[0;31mKeyboardInterrupt\u001b[0m                         Traceback (most recent call last)",
      "\u001b[0;32m<ipython-input-2-78a6b15077fc>\u001b[0m in \u001b[0;36m<cell line: 2>\u001b[0;34m()\u001b[0m\n\u001b[1;32m      3\u001b[0m  \u001b[0mget_ipython\u001b[0m\u001b[0;34m(\u001b[0m\u001b[0;34m)\u001b[0m\u001b[0;34m.\u001b[0m\u001b[0msystem\u001b[0m\u001b[0;34m(\u001b[0m\u001b[0;34m'./kafka_2.12-3.5.0/bin/kafka-console-consumer.sh --bootstrap-server localhost:9092 --topic yelp_reviews --max-messages 5'\u001b[0m\u001b[0;34m)\u001b[0m\u001b[0;34m\u001b[0m\u001b[0;34m\u001b[0m\u001b[0m\n\u001b[1;32m      4\u001b[0m  \u001b[0mprint\u001b[0m \u001b[0;34m(\u001b[0m \u001b[0;34m\"Sleeping for 5 seconds...\\n\"\u001b[0m\u001b[0;34m)\u001b[0m\u001b[0;34m\u001b[0m\u001b[0;34m\u001b[0m\u001b[0m\n\u001b[0;32m----> 5\u001b[0;31m  \u001b[0mtime\u001b[0m\u001b[0;34m.\u001b[0m\u001b[0msleep\u001b[0m \u001b[0;34m(\u001b[0m\u001b[0;36m5\u001b[0m\u001b[0;34m)\u001b[0m\u001b[0;34m\u001b[0m\u001b[0;34m\u001b[0m\u001b[0m\n\u001b[0m",
      "\u001b[0;31mKeyboardInterrupt\u001b[0m: "
     ]
    }
   ],
   "source": [
    " import time\n",
    " while True:\n",
    "  !./kafka_2.12-3.5.0/bin/kafka-console-consumer.sh --bootstrap-server localhost:9092 --topic yelp_reviews --max-messages 5\n",
    "  print ( \"Sleeping for 5 seconds...\\n\")\n",
    "  time.sleep (5)"
   ]
  }
 ],
 "metadata": {
  "colab": {
   "provenance": []
  },
  "kernelspec": {
   "display_name": "Python 3 (ipykernel)",
   "language": "python",
   "name": "python3"
  },
  "language_info": {
   "codemirror_mode": {
    "name": "ipython",
    "version": 3
   },
   "file_extension": ".py",
   "mimetype": "text/x-python",
   "name": "python",
   "nbconvert_exporter": "python",
   "pygments_lexer": "ipython3",
   "version": "3.9.16"
  }
 },
 "nbformat": 4,
 "nbformat_minor": 1
}
