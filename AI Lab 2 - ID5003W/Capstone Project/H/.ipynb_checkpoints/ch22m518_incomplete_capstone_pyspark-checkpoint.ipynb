{
 "cells": [
  {
   "cell_type": "code",
   "execution_count": 1,
   "metadata": {
    "colab": {
     "base_uri": "https://localhost:8080/"
    },
    "id": "1r-QiBe_wbvo",
    "outputId": "042eaa92-d5a4-4dba-f084-fac734820487"
   },
   "outputs": [
    {
     "name": "stdout",
     "output_type": "stream",
     "text": [
      "Collecting pyspark\n",
      "  Downloading pyspark-3.4.1.tar.gz (310.8 MB)\n",
      "\u001b[2K     \u001b[90m━━━━━━━━━━━━━━━━━━━━━━━━━━━━━━━━━━━━━━━\u001b[0m \u001b[32m310.8/310.8 MB\u001b[0m \u001b[31m4.4 MB/s\u001b[0m eta \u001b[36m0:00:00\u001b[0m\n",
      "\u001b[?25h  Preparing metadata (setup.py) ... \u001b[?25l\u001b[?25hdone\n",
      "Requirement already satisfied: py4j==0.10.9.7 in /usr/local/lib/python3.10/dist-packages (from pyspark) (0.10.9.7)\n",
      "Building wheels for collected packages: pyspark\n",
      "  Building wheel for pyspark (setup.py) ... \u001b[?25l\u001b[?25hdone\n",
      "  Created wheel for pyspark: filename=pyspark-3.4.1-py2.py3-none-any.whl size=311285397 sha256=de229e31753f95d560dcd3f60efbf7c0729108c3dde186dc937cb1d9c65c26b9\n",
      "  Stored in directory: /root/.cache/pip/wheels/0d/77/a3/ff2f74cc9ab41f8f594dabf0579c2a7c6de920d584206e0834\n",
      "Successfully built pyspark\n",
      "Installing collected packages: pyspark\n",
      "Successfully installed pyspark-3.4.1\n"
     ]
    }
   ],
   "source": [
    "!pip install pyspark"
   ]
  },
  {
   "cell_type": "code",
   "execution_count": 24,
   "metadata": {
    "id": "ioYpUmg8yZbv"
   },
   "outputs": [],
   "source": [
    "from pyspark.sql.types import StructType, StructField, StringType, IntegerType, DoubleType\n",
    "from pyspark.sql.functions import col, from_unixtime, unix_timestamp\n",
    "from pyspark.sql import SparkSession"
   ]
  },
  {
   "cell_type": "code",
   "execution_count": 25,
   "metadata": {
    "id": "q8X8bVEXWpjL"
   },
   "outputs": [],
   "source": [
    "spark = SparkSession.builder.master(\"local\").appName(\"Streaming\").config('spark.ui.port', '4050').getOrCreate()"
   ]
  },
  {
   "cell_type": "code",
   "execution_count": 26,
   "metadata": {
    "id": "IBrl2LKiyKvS"
   },
   "outputs": [],
   "source": [
    "schema = schema = StructType([\n",
    "    StructField(\"driver_id\", StringType(), True),\n",
    "    StructField(\"timestamp\", IntegerType(), True),\n",
    "    StructField(\"latitude\", DoubleType(), True),\n",
    "    StructField(\"longitude\", DoubleType(), True),\n",
    "    StructField(\"trip_distance\", DoubleType(), True),\n",
    "    StructField(\"event_type\", StringType(), True),\n",
    "])"
   ]
  },
  {
   "cell_type": "code",
   "execution_count": 27,
   "metadata": {
    "id": "PyUDpKpNwkcE"
   },
   "outputs": [],
   "source": [
    "rides = spark.read.format(\"json\").schema(schema).option(\"multiline\",\"true\").load(\"input/Pyride.json\")"
   ]
  },
  {
   "cell_type": "code",
   "execution_count": 28,
   "metadata": {
    "colab": {
     "base_uri": "https://localhost:8080/"
    },
    "id": "QgiAufY_-Yf9",
    "outputId": "a8c8abb7-472c-495b-9cc1-76e08efcdfbc"
   },
   "outputs": [
    {
     "name": "stdout",
     "output_type": "stream",
     "text": [
      "+---------+----------+------------------+-------------------+------------------+----------+\n",
      "|driver_id| timestamp|          latitude|          longitude|     trip_distance|event_type|\n",
      "+---------+----------+------------------+-------------------+------------------+----------+\n",
      "|     D001|1690696548|37.538849579360246|-121.22748988885533| 3.423076573047031|      Trip|\n",
      "|     D001|1690701008| 37.93476356947273| -121.0215678805398| 5.072880200441588|      Trip|\n",
      "|     D001|1690701061|37.795197133875064|  -121.920222434928|              null|       GPS|\n",
      "|     D001|1690694421| 37.46871545044007|-121.05888928225791|1.5685949947600415|      Trip|\n",
      "|     D001|1690694849| 37.67930257604861| -121.7174686646489|              null|       GPS|\n",
      "|     D001|1690698049| 37.57858135955766|-121.45726820764473|              null|       GPS|\n",
      "|     D001|1690700798| 37.74438722614793|-121.17710081904086|7.7232027230627365|      Trip|\n",
      "|     D001|1690697892|  37.0110278159199|-121.42103203264915|              null|       GPS|\n",
      "|     D001|1690695294|37.536543146725734|-121.99413381326183| 5.553422145437799|      Trip|\n",
      "|     D001|1690695824|37.416567538021916|-121.64854028369182| 4.557593809287299|      Trip|\n",
      "|     D001|1690698915|37.939113113534425|-121.25154744526644|              null|       GPS|\n",
      "|     D001|1690698284| 37.35144953430424| -121.6580016307517| 5.352056091877271|      Trip|\n",
      "|     D001|1690695880| 37.93082254347954|   -121.84577258978|  4.52091123915711|      Trip|\n",
      "|     D001|1690694583|37.824150511617596|-121.68988617388914| 8.046271597547339|      Trip|\n",
      "|     D001|1690700564| 37.08195014659423| -121.4858342989973|   9.0334611014362|      Trip|\n",
      "|     D001|1690700941| 37.54445263452247|-121.46904886667443|              null|       GPS|\n",
      "|     D001|1690697496| 37.64415725449518|-121.79885410528092| 7.661613624439978|      Trip|\n",
      "|     D001|1690695700|37.868529012745064| -121.5179241616071|2.5937936951862506|      Trip|\n",
      "|     D001|1690693976| 37.00833917614987|-121.86966961698501|  8.16513422051636|      Trip|\n",
      "|     D001|1690696111| 37.92517159868102|-121.29847067816812|              null|       GPS|\n",
      "+---------+----------+------------------+-------------------+------------------+----------+\n",
      "only showing top 20 rows\n",
      "\n"
     ]
    }
   ],
   "source": [
    "rides.show()"
   ]
  },
  {
   "cell_type": "code",
   "execution_count": 29,
   "metadata": {
    "id": "vKsp1V9oI3PR"
   },
   "outputs": [],
   "source": [
    "rides = rides.orderBy ('driver_id', 'timestamp')"
   ]
  },
  {
   "cell_type": "code",
   "execution_count": 30,
   "metadata": {
    "colab": {
     "base_uri": "https://localhost:8080/"
    },
    "id": "TFLGM7KJw4oe",
    "outputId": "fb2b7625-98b5-4d8b-bf8a-7cc9581ef18c"
   },
   "outputs": [
    {
     "name": "stdout",
     "output_type": "stream",
     "text": [
      "+---------+----------+------------------+-------------------+------------------+----------+\n",
      "|driver_id| timestamp|          latitude|          longitude|     trip_distance|event_type|\n",
      "+---------+----------+------------------+-------------------+------------------+----------+\n",
      "|     D001|1690693976| 37.00833917614987|-121.86966961698501|  8.16513422051636|      Trip|\n",
      "|     D001|1690694157|37.933798420920105|-121.26491745286269|              null|       GPS|\n",
      "|     D001|1690694168|37.470222607233374|-121.95756789146502| 5.517398819289635|      Trip|\n",
      "|     D001|1690694266| 37.61493079970788|-121.89354632692844| 5.269132688576797|      Trip|\n",
      "|     D001|1690694271| 37.40565201161414| -121.2094402520545|5.2404322071058544|      Trip|\n",
      "|     D001|1690694421| 37.46871545044007|-121.05888928225791|1.5685949947600415|      Trip|\n",
      "|     D001|1690694457| 37.01175761697454| -121.0528973917844|  8.67899082750732|      Trip|\n",
      "|     D001|1690694467| 37.42290285599628|-121.10610141454059|              null|       GPS|\n",
      "|     D001|1690694583|37.824150511617596|-121.68988617388914| 8.046271597547339|      Trip|\n",
      "|     D001|1690694607|37.197635992850806|-121.59726950140136|              null|       GPS|\n",
      "|     D001|1690694849| 37.67930257604861| -121.7174686646489|              null|       GPS|\n",
      "|     D001|1690694981| 37.64105416098536|-121.56498753794813| 9.378673443323343|      Trip|\n",
      "|     D001|1690694996| 37.57128444623551|-121.29532616500899|1.1490893984814035|      Trip|\n",
      "|     D001|1690695110| 37.58552925910742| -121.1445619934032|              null|       GPS|\n",
      "|     D001|1690695128|37.769040378251034| -121.8112815662169|              null|       GPS|\n",
      "|     D001|1690695140| 37.27731196853152|-121.94277984660884| 4.849591929846003|      Trip|\n",
      "|     D001|1690695154| 37.39507101371773|-121.00429929534138| 9.540039236028761|      Trip|\n",
      "|     D001|1690695294|37.536543146725734|-121.99413381326183| 5.553422145437799|      Trip|\n",
      "|     D001|1690695381|  37.3766829536305|-121.43588185767139|              null|       GPS|\n",
      "|     D001|1690695489| 37.38769183697077|-121.82483716512779|              null|       GPS|\n",
      "+---------+----------+------------------+-------------------+------------------+----------+\n",
      "only showing top 20 rows\n",
      "\n"
     ]
    }
   ],
   "source": [
    "rides.show()"
   ]
  },
  {
   "cell_type": "markdown",
   "metadata": {
    "id": "8cqgwIvl8P9L"
   },
   "source": [
    "# TASK 1"
   ]
  },
  {
   "cell_type": "code",
   "execution_count": 31,
   "metadata": {
    "id": "7L6zo6kz3wpg"
   },
   "outputs": [],
   "source": [
    "from pyspark.sql import SparkSession\n",
    "\n",
    "# Create a SparkSession\n",
    "spark = SparkSession.builder \\\n",
    "    .appName(\"SplitCSVByColumns\") \\\n",
    "    .getOrCreate()\n",
    "\n",
    "# Select specific columns\n",
    "driver_ts = rides.select(\"driver_id\", \"timestamp\")"
   ]
  },
  {
   "cell_type": "code",
   "execution_count": 32,
   "metadata": {
    "colab": {
     "base_uri": "https://localhost:8080/"
    },
    "id": "1czt6pJU6rrD",
    "outputId": "6dac905f-8e13-4b65-e688-4bdc5aec4689"
   },
   "outputs": [
    {
     "name": "stdout",
     "output_type": "stream",
     "text": [
      "+---------+----------+\n",
      "|driver_id| timestamp|\n",
      "+---------+----------+\n",
      "|     D001|1690693976|\n",
      "|     D001|1690694157|\n",
      "|     D001|1690694168|\n",
      "|     D001|1690694266|\n",
      "|     D001|1690694271|\n",
      "|     D001|1690694421|\n",
      "|     D001|1690694457|\n",
      "|     D001|1690694467|\n",
      "|     D001|1690694583|\n",
      "|     D001|1690694607|\n",
      "|     D001|1690694849|\n",
      "|     D001|1690694981|\n",
      "|     D001|1690694996|\n",
      "|     D001|1690695110|\n",
      "|     D001|1690695128|\n",
      "|     D001|1690695140|\n",
      "|     D001|1690695154|\n",
      "|     D001|1690695294|\n",
      "|     D001|1690695381|\n",
      "|     D001|1690695489|\n",
      "+---------+----------+\n",
      "only showing top 20 rows\n",
      "\n"
     ]
    }
   ],
   "source": [
    "driver_ts.show()"
   ]
  },
  {
   "cell_type": "code",
   "execution_count": 33,
   "metadata": {
    "colab": {
     "base_uri": "https://localhost:8080/"
    },
    "id": "uQbww3xr7BNI",
    "outputId": "ccadd232-8823-420f-9b0c-cf35dee25093"
   },
   "outputs": [
    {
     "name": "stdout",
     "output_type": "stream",
     "text": [
      "+---------+-------------------+\n",
      "|driver_id|          timestamp|\n",
      "+---------+-------------------+\n",
      "|     D001|2023-07-30 05:12:56|\n",
      "|     D001|2023-07-30 05:15:57|\n",
      "|     D001|2023-07-30 05:16:08|\n",
      "|     D001|2023-07-30 05:17:46|\n",
      "|     D001|2023-07-30 05:17:51|\n",
      "|     D001|2023-07-30 05:20:21|\n",
      "|     D001|2023-07-30 05:20:57|\n",
      "|     D001|2023-07-30 05:21:07|\n",
      "|     D001|2023-07-30 05:23:03|\n",
      "|     D001|2023-07-30 05:23:27|\n",
      "|     D001|2023-07-30 05:27:29|\n",
      "|     D001|2023-07-30 05:29:41|\n",
      "|     D001|2023-07-30 05:29:56|\n",
      "|     D001|2023-07-30 05:31:50|\n",
      "|     D001|2023-07-30 05:32:08|\n",
      "|     D001|2023-07-30 05:32:20|\n",
      "|     D001|2023-07-30 05:32:34|\n",
      "|     D001|2023-07-30 05:34:54|\n",
      "|     D001|2023-07-30 05:36:21|\n",
      "|     D001|2023-07-30 05:38:09|\n",
      "+---------+-------------------+\n",
      "only showing top 20 rows\n",
      "\n"
     ]
    }
   ],
   "source": [
    "driver_tsformat = driver_ts.withColumn(\"timestamp\", from_unixtime(\"timestamp\").cast(\"timestamp\"))\n",
    "driver_tsformat.show()"
   ]
  },
  {
   "cell_type": "code",
   "execution_count": 34,
   "metadata": {
    "colab": {
     "base_uri": "https://localhost:8080/"
    },
    "id": "U0ifpir_5lvU",
    "outputId": "08894fdd-bc0b-4d61-9895-86b73c64ecc4"
   },
   "outputs": [
    {
     "name": "stdout",
     "output_type": "stream",
     "text": [
      "+---------+------------------------------------------+-----+\n",
      "|driver_id|window                                    |count|\n",
      "+---------+------------------------------------------+-----+\n",
      "|D013     |{2023-07-30 05:15:00, 2023-07-30 05:25:00}|14   |\n",
      "|D023     |{2023-07-30 06:25:00, 2023-07-30 06:35:00}|14   |\n",
      "|D046     |{2023-07-30 06:40:00, 2023-07-30 06:50:00}|11   |\n",
      "|D001     |{2023-07-30 06:50:00, 2023-07-30 07:00:00}|11   |\n",
      "|D002     |{2023-07-30 07:10:00, 2023-07-30 07:20:00}|1    |\n",
      "|D036     |{2023-07-30 05:25:00, 2023-07-30 05:35:00}|4    |\n",
      "|D006     |{2023-07-30 05:10:00, 2023-07-30 05:20:00}|4    |\n",
      "|D007     |{2023-07-30 06:20:00, 2023-07-30 06:30:00}|10   |\n",
      "|D041     |{2023-07-30 05:50:00, 2023-07-30 06:00:00}|4    |\n",
      "|D047     |{2023-07-30 06:30:00, 2023-07-30 06:40:00}|4    |\n",
      "|D012     |{2023-07-30 05:35:00, 2023-07-30 05:45:00}|6    |\n",
      "|D015     |{2023-07-30 06:35:00, 2023-07-30 06:45:00}|6    |\n",
      "|D024     |{2023-07-30 06:15:00, 2023-07-30 06:25:00}|9    |\n",
      "|D027     |{2023-07-30 06:05:00, 2023-07-30 06:15:00}|6    |\n",
      "|D033     |{2023-07-30 06:45:00, 2023-07-30 06:55:00}|13   |\n",
      "|D037     |{2023-07-30 06:25:00, 2023-07-30 06:35:00}|13   |\n",
      "|D039     |{2023-07-30 06:25:00, 2023-07-30 06:35:00}|10   |\n",
      "|D045     |{2023-07-30 05:20:00, 2023-07-30 05:30:00}|8    |\n",
      "|D045     |{2023-07-30 06:20:00, 2023-07-30 06:30:00}|11   |\n",
      "|D046     |{2023-07-30 06:15:00, 2023-07-30 06:25:00}|12   |\n",
      "+---------+------------------------------------------+-----+\n",
      "only showing top 20 rows\n",
      "\n"
     ]
    }
   ],
   "source": [
    "from pyspark.sql.functions import *\n",
    "slidingWindows = driver_tsformat.withWatermark(\"timestamp\", \"10 minutes\").groupBy(\"driver_id\", window(\"timestamp\", \"10 minutes\", \"5 minutes\")).count()\n",
    "slidingWindows.show(truncate = False)"
   ]
  },
  {
   "cell_type": "markdown",
   "metadata": {
    "id": "Y8M0IJpE8Ssv"
   },
   "source": [
    "# Task 2"
   ]
  },
  {
   "cell_type": "code",
   "execution_count": 35,
   "metadata": {
    "id": "vddnV849Htnp"
   },
   "outputs": [],
   "source": [
    "from pyspark.sql import SparkSession\n",
    "\n",
    "# Create a SparkSession\n",
    "spark = SparkSession.builder \\\n",
    "    .appName(\"SplitCSVByColumns\") \\\n",
    "    .getOrCreate()\n",
    "\n",
    "# Select specific columns\n",
    "driver_ts = rides.select(\"driver_id\", \"timestamp\", \"event_type\")"
   ]
  },
  {
   "cell_type": "code",
   "execution_count": 36,
   "metadata": {
    "colab": {
     "base_uri": "https://localhost:8080/"
    },
    "id": "HkfzhMqxHzLk",
    "outputId": "4cbcd937-fd5b-433f-ce60-7c3ad6bfcff0"
   },
   "outputs": [
    {
     "name": "stdout",
     "output_type": "stream",
     "text": [
      "+---------+-------------------+----------+\n",
      "|driver_id|          timestamp|event_type|\n",
      "+---------+-------------------+----------+\n",
      "|     D001|2023-07-30 05:12:56|      Trip|\n",
      "|     D001|2023-07-30 05:15:57|       GPS|\n",
      "|     D001|2023-07-30 05:16:08|      Trip|\n",
      "|     D001|2023-07-30 05:17:46|      Trip|\n",
      "|     D001|2023-07-30 05:17:51|      Trip|\n",
      "|     D001|2023-07-30 05:20:21|      Trip|\n",
      "|     D001|2023-07-30 05:20:57|      Trip|\n",
      "|     D001|2023-07-30 05:21:07|       GPS|\n",
      "|     D001|2023-07-30 05:23:03|      Trip|\n",
      "|     D001|2023-07-30 05:23:27|       GPS|\n",
      "|     D001|2023-07-30 05:27:29|       GPS|\n",
      "|     D001|2023-07-30 05:29:41|      Trip|\n",
      "|     D001|2023-07-30 05:29:56|      Trip|\n",
      "|     D001|2023-07-30 05:31:50|       GPS|\n",
      "|     D001|2023-07-30 05:32:08|       GPS|\n",
      "|     D001|2023-07-30 05:32:20|      Trip|\n",
      "|     D001|2023-07-30 05:32:34|      Trip|\n",
      "|     D001|2023-07-30 05:34:54|      Trip|\n",
      "|     D001|2023-07-30 05:36:21|       GPS|\n",
      "|     D001|2023-07-30 05:38:09|       GPS|\n",
      "+---------+-------------------+----------+\n",
      "only showing top 20 rows\n",
      "\n"
     ]
    }
   ],
   "source": [
    "driver_tsformat = driver_ts.withColumn(\"timestamp\", from_unixtime(\"timestamp\").cast(\"timestamp\"))\n",
    "driver_tsformat.show()"
   ]
  },
  {
   "cell_type": "code",
   "execution_count": 37,
   "metadata": {
    "colab": {
     "base_uri": "https://localhost:8080/"
    },
    "id": "ISijIVXlH04p",
    "outputId": "63f15209-e342-4701-b1f5-23707a6e5123"
   },
   "outputs": [
    {
     "name": "stdout",
     "output_type": "stream",
     "text": [
      "+---------+-------------------+----------+\n",
      "|driver_id|          timestamp|event_type|\n",
      "+---------+-------------------+----------+\n",
      "|     D001|2023-07-30 05:12:56|      Trip|\n",
      "|     D001|2023-07-30 05:16:08|      Trip|\n",
      "|     D001|2023-07-30 05:17:46|      Trip|\n",
      "|     D001|2023-07-30 05:17:51|      Trip|\n",
      "|     D001|2023-07-30 05:20:21|      Trip|\n",
      "|     D001|2023-07-30 05:20:57|      Trip|\n",
      "|     D001|2023-07-30 05:23:03|      Trip|\n",
      "|     D001|2023-07-30 05:29:41|      Trip|\n",
      "|     D001|2023-07-30 05:29:56|      Trip|\n",
      "|     D001|2023-07-30 05:32:20|      Trip|\n",
      "|     D001|2023-07-30 05:32:34|      Trip|\n",
      "|     D001|2023-07-30 05:34:54|      Trip|\n",
      "|     D001|2023-07-30 05:41:40|      Trip|\n",
      "|     D001|2023-07-30 05:43:05|      Trip|\n",
      "|     D001|2023-07-30 05:43:44|      Trip|\n",
      "|     D001|2023-07-30 05:43:55|      Trip|\n",
      "|     D001|2023-07-30 05:44:40|      Trip|\n",
      "|     D001|2023-07-30 05:47:29|      Trip|\n",
      "|     D001|2023-07-30 05:47:41|      Trip|\n",
      "|     D001|2023-07-30 05:48:13|      Trip|\n",
      "+---------+-------------------+----------+\n",
      "only showing top 20 rows\n",
      "\n"
     ]
    }
   ],
   "source": [
    "trip_data = driver_tsformat.filter(driver_tsformat.event_type == \"Trip\")\n",
    "trip_data.show()\n"
   ]
  },
  {
   "cell_type": "code",
   "execution_count": 38,
   "metadata": {
    "colab": {
     "base_uri": "https://localhost:8080/"
    },
    "id": "tKop8QDUeTtY",
    "outputId": "865843b8-ce12-44e8-def2-9509fd0efd3a"
   },
   "outputs": [
    {
     "name": "stdout",
     "output_type": "stream",
     "text": [
      "+---------+-------------------+----------+\n",
      "|driver_id|          timestamp|event_type|\n",
      "+---------+-------------------+----------+\n",
      "|     D005|2023-07-30 05:13:19|      Trip|\n",
      "|     D005|2023-07-30 05:17:32|      Trip|\n",
      "|     D005|2023-07-30 05:19:11|      Trip|\n",
      "|     D005|2023-07-30 05:19:50|      Trip|\n",
      "|     D005|2023-07-30 05:22:16|      Trip|\n",
      "|     D005|2023-07-30 05:23:13|      Trip|\n",
      "|     D005|2023-07-30 05:26:05|      Trip|\n",
      "|     D005|2023-07-30 05:26:56|      Trip|\n",
      "|     D005|2023-07-30 05:27:29|      Trip|\n",
      "|     D005|2023-07-30 05:28:32|      Trip|\n",
      "|     D005|2023-07-30 05:31:49|      Trip|\n",
      "|     D005|2023-07-30 05:33:22|      Trip|\n",
      "|     D005|2023-07-30 05:34:43|      Trip|\n",
      "|     D005|2023-07-30 05:44:22|      Trip|\n",
      "|     D005|2023-07-30 05:46:01|      Trip|\n",
      "|     D005|2023-07-30 05:46:09|      Trip|\n",
      "|     D005|2023-07-30 05:46:50|      Trip|\n",
      "|     D005|2023-07-30 05:52:40|      Trip|\n",
      "|     D005|2023-07-30 05:53:27|      Trip|\n",
      "|     D005|2023-07-30 05:57:42|      Trip|\n",
      "+---------+-------------------+----------+\n",
      "only showing top 20 rows\n",
      "\n"
     ]
    }
   ],
   "source": [
    "driver_d005_data = trip_data.filter(trip_data.driver_id == \"D005\")\n",
    "\n",
    "# Show the filtered DataFrame\n",
    "driver_d005_data.show()"
   ]
  },
  {
   "cell_type": "code",
   "execution_count": 39,
   "metadata": {
    "colab": {
     "base_uri": "https://localhost:8080/"
    },
    "id": "M0f3DZCAfArw",
    "outputId": "63efe9d8-f834-44da-d57a-945a2d5f0958"
   },
   "outputs": [
    {
     "name": "stdout",
     "output_type": "stream",
     "text": [
      "+---------+-------------------+----------+-------------+\n",
      "|driver_id|          timestamp|event_type|trip_duration|\n",
      "+---------+-------------------+----------+-------------+\n",
      "|     D005|2023-07-30 05:13:19|      Trip|         null|\n",
      "|     D005|2023-07-30 05:17:32|      Trip|         null|\n",
      "|     D005|2023-07-30 05:19:11|      Trip|           99|\n",
      "|     D005|2023-07-30 05:19:50|      Trip|           39|\n",
      "|     D005|2023-07-30 05:22:16|      Trip|          146|\n",
      "|     D005|2023-07-30 05:23:13|      Trip|           57|\n",
      "|     D005|2023-07-30 05:26:05|      Trip|          172|\n",
      "|     D005|2023-07-30 05:26:56|      Trip|           51|\n",
      "|     D005|2023-07-30 05:27:29|      Trip|           33|\n",
      "|     D005|2023-07-30 05:28:32|      Trip|           63|\n",
      "|     D005|2023-07-30 05:31:49|      Trip|         null|\n",
      "|     D005|2023-07-30 05:33:22|      Trip|           93|\n",
      "|     D005|2023-07-30 05:34:43|      Trip|           81|\n",
      "|     D005|2023-07-30 05:44:22|      Trip|          579|\n",
      "|     D005|2023-07-30 05:46:01|      Trip|         null|\n",
      "|     D005|2023-07-30 05:46:09|      Trip|            8|\n",
      "|     D005|2023-07-30 05:46:50|      Trip|           41|\n",
      "|     D005|2023-07-30 05:52:40|      Trip|          350|\n",
      "|     D005|2023-07-30 05:53:27|      Trip|           47|\n",
      "|     D005|2023-07-30 05:57:42|      Trip|          255|\n",
      "+---------+-------------------+----------+-------------+\n",
      "only showing top 20 rows\n",
      "\n",
      "+-----------------+\n",
      "|avg_trip_duration|\n",
      "+-----------------+\n",
      "|           113.35|\n",
      "+-----------------+\n",
      "\n"
     ]
    }
   ],
   "source": [
    "from pyspark.sql import Window\n",
    "from pyspark.sql import functions as F\n",
    "\n",
    "# Assuming that the data is in the DataFrame `driver_d005_data`\n",
    "# If not, you can use the filter step mentioned earlier to get the data for driver D005\n",
    "\n",
    "# Calculate the duration for each trip (in seconds)\n",
    "driver_d005_data = driver_d005_data.withColumn(\"trip_duration\", F.unix_timestamp(\"timestamp\") - F.unix_timestamp(F.lag(\"timestamp\").over(Window.partitionBy(\"driver_id\", window(\"timestamp\",\"15 minutes\")).orderBy(\"timestamp\"))))\n",
    "driver_d005_data.show()\n",
    "\n",
    "\n",
    "# Calculate the average trip duration for driver D005\n",
    "average_trip_duration = driver_d005_data.agg(F.avg(\"trip_duration\").alias(\"avg_trip_duration\"))\n",
    "\n",
    "# Display the result\n",
    "average_trip_duration.show()"
   ]
  },
  {
   "cell_type": "code",
   "execution_count": null,
   "metadata": {
    "id": "wxFSW9OD8NPw"
   },
   "outputs": [],
   "source": [
    "tumblingWindows = driver_tsformat.withWatermark(\"timestamp\", \"15 minutes\").groupBy(\"driver_id\", window(\"timestamp\", \"15 minutes\")).avg()\n",
    "tumblingWindows.show(truncate = False)"
   ]
  },
  {
   "cell_type": "code",
   "execution_count": null,
   "metadata": {
    "id": "ze5ZEqMIG4v8"
   },
   "outputs": [],
   "source": [
    "tumblingWindows = driver_tsformat.withWatermark(\"timestamp\", \"15 minutes\").groupBy(\"driver_id\", window(\"timestamp\", \"15 minutes\")).agg(avg(\"trip_distance\"))\n",
    "tumblingWindows.show(truncate = False)"
   ]
  },
  {
   "cell_type": "markdown",
   "metadata": {
    "id": "u1HTE9nuBuO_"
   },
   "source": [
    "# Task 3"
   ]
  },
  {
   "cell_type": "code",
   "execution_count": null,
   "metadata": {
    "id": "h4WzpNWsBwVa"
   },
   "outputs": [],
   "source": []
  },
  {
   "cell_type": "markdown",
   "metadata": {
    "id": "V5U8mGHvAbf7"
   },
   "source": [
    "# Testing"
   ]
  },
  {
   "cell_type": "code",
   "execution_count": 10,
   "metadata": {
    "id": "akxJgmvWXeLS"
   },
   "outputs": [],
   "source": [
    "from pyspark.sql import SparkSession\n",
    "from pyspark.sql.types import StructType, StructField, StringType, IntegerType, DoubleType, TimestampType\n",
    "from pyspark.sql.functions import col, from_unixtime, unix_timestamp, window, expr, avg\n",
    "from pyspark.sql import Window\n",
    "from pyspark.sql import functions as F\n",
    "\n",
    "# Create a SparkSession\n",
    "spark = SparkSession.builder \\\n",
    "    .appName(\"AverageTripDurationStreaming\") \\\n",
    "    .getOrCreate()\n"
   ]
  },
  {
   "cell_type": "code",
   "execution_count": 4,
   "metadata": {
    "id": "rskhFsTpXgtP"
   },
   "outputs": [],
   "source": [
    "\n",
    "# Define the schema for the streaming data\n",
    "schema = StructType([\n",
    "    StructField(\"driver_id\", StringType(), True),\n",
    "    StructField(\"timestamp\", IntegerType(), True),\n",
    "    StructField(\"latitude\", DoubleType(), True),\n",
    "    StructField(\"longitude\", DoubleType(), True),\n",
    "    StructField(\"trip_distance\", DoubleType(), True),\n",
    "    StructField(\"event_type\", StringType(), True),\n",
    "])"
   ]
  },
  {
   "cell_type": "code",
   "execution_count": 6,
   "metadata": {
    "id": "M9K6aJu-JbYI"
   },
   "outputs": [],
   "source": [
    "# Load the streaming data from JSON file with the defined schema\n",
    "rides = spark.readStream \\\n",
    "    .format(\"json\") \\\n",
    "    .schema(schema) \\\n",
    "    .option(\"multiline\", \"true\") \\\n",
    "    .load(\"input\")"
   ]
  },
  {
   "cell_type": "code",
   "execution_count": 7,
   "metadata": {
    "id": "5l3fpfw_Xvoz"
   },
   "outputs": [],
   "source": [
    "# Convert the timestamp column to a timestamp type\n",
    "driver_ts = rides.select(\"driver_id\", \"timestamp\", \"event_type\")\n",
    "driver_tsformat = driver_ts.withColumn(\"timestamp\", from_unixtime(\"timestamp\").cast(TimestampType()))\n",
    "\n",
    "# Filter rows where event_type == \"Trip\"\n",
    "trip_data = driver_tsformat.filter(driver_tsformat.event_type == \"Trip\")\n"
   ]
  },
  {
   "cell_type": "code",
   "execution_count": 14,
   "metadata": {
    "id": "74pt0ytwXxWL"
   },
   "outputs": [],
   "source": [
    "# Define the window duration as 15 minutes (tumbling window)\n",
    "window_duration = \"15 minutes\"\n",
    "\n",
    "#################################\n",
    "window_spec = Window.partitionBy(\"driver_id\").orderBy(\"timestamp\")\n",
    "rides_with_duration = trip_data.withColumn(\"trip_duration\", F.unix_timestamp(\"timestamp\") - F.unix_timestamp(F.lag(\"timestamp\").over(window_spec)))"
   ]
  },
  {
   "cell_type": "code",
   "execution_count": 15,
   "metadata": {
    "colab": {
     "base_uri": "https://localhost:8080/",
     "height": 553
    },
    "id": "etpuGhb-X4pq",
    "outputId": "1399640d-a496-442f-a611-5e09ead79432"
   },
   "outputs": [
    {
     "ename": "AnalysisException",
     "evalue": "ignored",
     "output_type": "error",
     "traceback": [
      "\u001b[0;31m---------------------------------------------------------------------------\u001b[0m",
      "\u001b[0;31mAnalysisException\u001b[0m                         Traceback (most recent call last)",
      "\u001b[0;32m<ipython-input-15-39936a268948>\u001b[0m in \u001b[0;36m<cell line: 15>\u001b[0;34m()\u001b[0m\n\u001b[1;32m     18\u001b[0m     \u001b[0;34m.\u001b[0m\u001b[0mtrigger\u001b[0m\u001b[0;34m(\u001b[0m\u001b[0mprocessingTime\u001b[0m\u001b[0;34m=\u001b[0m\u001b[0;34m'5 seconds'\u001b[0m\u001b[0;34m)\u001b[0m\u001b[0;31m \u001b[0m\u001b[0;31m\\\u001b[0m\u001b[0;34m\u001b[0m\u001b[0;34m\u001b[0m\u001b[0m\n\u001b[1;32m     19\u001b[0m     \u001b[0;34m.\u001b[0m\u001b[0mformat\u001b[0m\u001b[0;34m(\u001b[0m\u001b[0;34m\"memory\"\u001b[0m\u001b[0;34m)\u001b[0m\u001b[0;31m \u001b[0m\u001b[0;31m\\\u001b[0m\u001b[0;34m\u001b[0m\u001b[0;34m\u001b[0m\u001b[0m\n\u001b[0;32m---> 20\u001b[0;31m     \u001b[0;34m.\u001b[0m\u001b[0mstart\u001b[0m\u001b[0;34m(\u001b[0m\u001b[0;34m)\u001b[0m\u001b[0;34m\u001b[0m\u001b[0;34m\u001b[0m\u001b[0m\n\u001b[0m",
      "\u001b[0;32m/usr/local/lib/python3.10/dist-packages/pyspark/sql/streaming/readwriter.py\u001b[0m in \u001b[0;36mstart\u001b[0;34m(self, path, format, outputMode, partitionBy, queryName, **options)\u001b[0m\n\u001b[1;32m   1383\u001b[0m             \u001b[0mself\u001b[0m\u001b[0;34m.\u001b[0m\u001b[0mqueryName\u001b[0m\u001b[0;34m(\u001b[0m\u001b[0mqueryName\u001b[0m\u001b[0;34m)\u001b[0m\u001b[0;34m\u001b[0m\u001b[0;34m\u001b[0m\u001b[0m\n\u001b[1;32m   1384\u001b[0m         \u001b[0;32mif\u001b[0m \u001b[0mpath\u001b[0m \u001b[0;32mis\u001b[0m \u001b[0;32mNone\u001b[0m\u001b[0;34m:\u001b[0m\u001b[0;34m\u001b[0m\u001b[0;34m\u001b[0m\u001b[0m\n\u001b[0;32m-> 1385\u001b[0;31m             \u001b[0;32mreturn\u001b[0m \u001b[0mself\u001b[0m\u001b[0;34m.\u001b[0m\u001b[0m_sq\u001b[0m\u001b[0;34m(\u001b[0m\u001b[0mself\u001b[0m\u001b[0;34m.\u001b[0m\u001b[0m_jwrite\u001b[0m\u001b[0;34m.\u001b[0m\u001b[0mstart\u001b[0m\u001b[0;34m(\u001b[0m\u001b[0;34m)\u001b[0m\u001b[0;34m)\u001b[0m\u001b[0;34m\u001b[0m\u001b[0;34m\u001b[0m\u001b[0m\n\u001b[0m\u001b[1;32m   1386\u001b[0m         \u001b[0;32melse\u001b[0m\u001b[0;34m:\u001b[0m\u001b[0;34m\u001b[0m\u001b[0;34m\u001b[0m\u001b[0m\n\u001b[1;32m   1387\u001b[0m             \u001b[0;32mreturn\u001b[0m \u001b[0mself\u001b[0m\u001b[0;34m.\u001b[0m\u001b[0m_sq\u001b[0m\u001b[0;34m(\u001b[0m\u001b[0mself\u001b[0m\u001b[0;34m.\u001b[0m\u001b[0m_jwrite\u001b[0m\u001b[0;34m.\u001b[0m\u001b[0mstart\u001b[0m\u001b[0;34m(\u001b[0m\u001b[0mpath\u001b[0m\u001b[0;34m)\u001b[0m\u001b[0;34m)\u001b[0m\u001b[0;34m\u001b[0m\u001b[0;34m\u001b[0m\u001b[0m\n",
      "\u001b[0;32m/usr/local/lib/python3.10/dist-packages/py4j/java_gateway.py\u001b[0m in \u001b[0;36m__call__\u001b[0;34m(self, *args)\u001b[0m\n\u001b[1;32m   1320\u001b[0m \u001b[0;34m\u001b[0m\u001b[0m\n\u001b[1;32m   1321\u001b[0m         \u001b[0manswer\u001b[0m \u001b[0;34m=\u001b[0m \u001b[0mself\u001b[0m\u001b[0;34m.\u001b[0m\u001b[0mgateway_client\u001b[0m\u001b[0;34m.\u001b[0m\u001b[0msend_command\u001b[0m\u001b[0;34m(\u001b[0m\u001b[0mcommand\u001b[0m\u001b[0;34m)\u001b[0m\u001b[0;34m\u001b[0m\u001b[0;34m\u001b[0m\u001b[0m\n\u001b[0;32m-> 1322\u001b[0;31m         return_value = get_return_value(\n\u001b[0m\u001b[1;32m   1323\u001b[0m             answer, self.gateway_client, self.target_id, self.name)\n\u001b[1;32m   1324\u001b[0m \u001b[0;34m\u001b[0m\u001b[0m\n",
      "\u001b[0;32m/usr/local/lib/python3.10/dist-packages/pyspark/errors/exceptions/captured.py\u001b[0m in \u001b[0;36mdeco\u001b[0;34m(*a, **kw)\u001b[0m\n\u001b[1;32m    173\u001b[0m                 \u001b[0;31m# Hide where the exception came from that shows a non-Pythonic\u001b[0m\u001b[0;34m\u001b[0m\u001b[0;34m\u001b[0m\u001b[0m\n\u001b[1;32m    174\u001b[0m                 \u001b[0;31m# JVM exception message.\u001b[0m\u001b[0;34m\u001b[0m\u001b[0;34m\u001b[0m\u001b[0m\n\u001b[0;32m--> 175\u001b[0;31m                 \u001b[0;32mraise\u001b[0m \u001b[0mconverted\u001b[0m \u001b[0;32mfrom\u001b[0m \u001b[0;32mNone\u001b[0m\u001b[0;34m\u001b[0m\u001b[0;34m\u001b[0m\u001b[0m\n\u001b[0m\u001b[1;32m    176\u001b[0m             \u001b[0;32melse\u001b[0m\u001b[0;34m:\u001b[0m\u001b[0;34m\u001b[0m\u001b[0;34m\u001b[0m\u001b[0m\n\u001b[1;32m    177\u001b[0m                 \u001b[0;32mraise\u001b[0m\u001b[0;34m\u001b[0m\u001b[0;34m\u001b[0m\u001b[0m\n",
      "\u001b[0;31mAnalysisException\u001b[0m: Non-time-based windows are not supported on streaming DataFrames/Datasets;\nWindow [lag(timestamp#16, -1, null) windowspecdefinition(driver_id#0, timestamp#16 ASC NULLS FIRST, specifiedwindowframe(RowFrame, -1, -1)) AS _we0#26], [driver_id#0], [timestamp#16 ASC NULLS FIRST]\n+- Project [driver_id#0, timestamp#16, event_type#5]\n   +- Filter (event_type#5 = Trip)\n      +- Project [driver_id#0, cast(from_unixtime(cast(timestamp#1 as bigint), yyyy-MM-dd HH:mm:ss, Some(Etc/UTC)) as timestamp) AS timestamp#16, event_type#5]\n         +- Project [driver_id#0, timestamp#1, event_type#5]\n            +- StreamingRelation DataSource(org.apache.spark.sql.SparkSession@43d645e1,json,List(),Some(StructType(StructField(driver_id,StringType,true),StructField(timestamp,IntegerType,true),StructField(latitude,DoubleType,true),StructField(longitude,DoubleType,true),StructField(trip_distance,DoubleType,true),StructField(event_type,StringType,true))),List(),None,Map(multiline -> true, path -> input),None), FileSource[input], [driver_id#0, timestamp#1, latitude#2, longitude#3, trip_distance#4, event_type#5]\n"
     ]
    }
   ],
   "source": [
    "# Calculate the average trip duration for each driver within the tumbling window\n",
    "# average_duration_stream = trip_data \\\n",
    "#     .withColumn(\"end_timestamp\", col(\"timestamp\")) \\\n",
    "#     .withWatermark(\"end_timestamp\", \"10 minutes\") \\\n",
    "#     .groupBy(\"driver_id\", window(\"timestamp\", window_duration)) \\\n",
    "#     .agg(expr(\"(max(end_timestamp) - min(timestamp)) / 60 as avg_trip_duration\"))\n",
    "\n",
    "# average_duration_stream = trip_data \\\n",
    "#     .withColumn(\"end_timestamp\", col(\"timestamp\")) \\\n",
    "#     .withWatermark(\"end_timestamp\", \"10 minutes\") \\\n",
    "#     .groupBy(\"driver_id\", window(\"timestamp\", window_duration)) \\\n",
    "#     .agg(expr(\"(max(end_timestamp) - min(timestamp)) as avg_trip_duration\"))\n",
    "\n",
    "trip_data_with_duration = trip_data.withColumn(\"trip_duration\", F.col(\"timestamp\") - F.lag(\"timestamp\", 1).over(window_spec))\n",
    "query = rides_with_duration.writeStream \\\n",
    "    .outputMode(\"update\") \\\n",
    "    .queryName(\"trip_duration_stream\") \\\n",
    "    .trigger(processingTime='5 seconds') \\\n",
    "    .format(\"memory\") \\\n",
    "    .start()\n"
   ]
  },
  {
   "cell_type": "code",
   "execution_count": null,
   "metadata": {
    "id": "nuWfNuuwXl6w"
   },
   "outputs": [],
   "source": [
    "# Define a foreach sink to print the output to the console\n",
    "query = average_duration_stream.writeStream \\\n",
    "   .outputMode(\"update\") \\\n",
    "   .queryName(\"test2\") \\\n",
    "   .trigger(processingTime='5 seconds') \\\n",
    "   .format(\"memory\") \\\n",
    "   .start()\n",
    "   #.foreachBatch(lambda df, batchId: df.show(truncate=False)) \\\n",
    "\n",
    "#average_duration_stream.writeStream.start()\n",
    "#ation_stream.show()\n",
    "\n",
    "\n",
    "# Wait for the query to terminate (you can set a specific time limit if needed)\n",
    "#query.awaitTermination()"
   ]
  },
  {
   "cell_type": "code",
   "execution_count": null,
   "metadata": {
    "colab": {
     "base_uri": "https://localhost:8080/"
    },
    "id": "GCSJGtBgYjKz",
    "outputId": "5628570e-20df-4711-ff1a-86c2351656dc"
   },
   "outputs": [
    {
     "name": "stdout",
     "output_type": "stream",
     "text": [
      "+---------+------------------------------------------+-----------------------------------+\n",
      "|driver_id|window                                    |avg_trip_duration                  |\n",
      "+---------+------------------------------------------+-----------------------------------+\n",
      "|D047     |{2023-07-30 06:30:00, 2023-07-30 06:45:00}|INTERVAL '0 00:00:00' DAY TO SECOND|\n",
      "|D005     |{2023-07-30 05:15:00, 2023-07-30 05:30:00}|INTERVAL '0 00:11:00' DAY TO SECOND|\n",
      "|D015     |{2023-07-30 05:45:00, 2023-07-30 06:00:00}|INTERVAL '0 00:06:52' DAY TO SECOND|\n",
      "|D042     |{2023-07-30 05:30:00, 2023-07-30 05:45:00}|INTERVAL '0 00:11:04' DAY TO SECOND|\n",
      "|D002     |{2023-07-30 06:00:00, 2023-07-30 06:15:00}|INTERVAL '0 00:12:23' DAY TO SECOND|\n",
      "|D004     |{2023-07-30 05:45:00, 2023-07-30 06:00:00}|INTERVAL '0 00:11:59' DAY TO SECOND|\n",
      "|D024     |{2023-07-30 05:00:00, 2023-07-30 05:15:00}|INTERVAL '0 00:02:13' DAY TO SECOND|\n",
      "|D043     |{2023-07-30 06:45:00, 2023-07-30 07:00:00}|INTERVAL '0 00:10:35' DAY TO SECOND|\n",
      "|D044     |{2023-07-30 07:00:00, 2023-07-30 07:15:00}|INTERVAL '0 00:09:14' DAY TO SECOND|\n",
      "|D013     |{2023-07-30 06:00:00, 2023-07-30 06:15:00}|INTERVAL '0 00:12:14' DAY TO SECOND|\n",
      "|D023     |{2023-07-30 06:00:00, 2023-07-30 06:15:00}|INTERVAL '0 00:12:31' DAY TO SECOND|\n",
      "|D034     |{2023-07-30 06:15:00, 2023-07-30 06:30:00}|INTERVAL '0 00:11:26' DAY TO SECOND|\n",
      "|D037     |{2023-07-30 05:45:00, 2023-07-30 06:00:00}|INTERVAL '0 00:10:36' DAY TO SECOND|\n",
      "|D007     |{2023-07-30 05:15:00, 2023-07-30 05:30:00}|INTERVAL '0 00:13:26' DAY TO SECOND|\n",
      "|D016     |{2023-07-30 05:00:00, 2023-07-30 05:15:00}|INTERVAL '0 00:00:00' DAY TO SECOND|\n",
      "|D026     |{2023-07-30 06:45:00, 2023-07-30 07:00:00}|INTERVAL '0 00:09:30' DAY TO SECOND|\n",
      "|D028     |{2023-07-30 05:15:00, 2023-07-30 05:30:00}|INTERVAL '0 00:10:39' DAY TO SECOND|\n",
      "|D013     |{2023-07-30 07:00:00, 2023-07-30 07:15:00}|INTERVAL '0 00:08:32' DAY TO SECOND|\n",
      "|D049     |{2023-07-30 06:15:00, 2023-07-30 06:30:00}|INTERVAL '0 00:09:59' DAY TO SECOND|\n",
      "|D022     |{2023-07-30 05:30:00, 2023-07-30 05:45:00}|INTERVAL '0 00:06:25' DAY TO SECOND|\n",
      "|D026     |{2023-07-30 06:30:00, 2023-07-30 06:45:00}|INTERVAL '0 00:13:27' DAY TO SECOND|\n",
      "|D030     |{2023-07-30 06:30:00, 2023-07-30 06:45:00}|INTERVAL '0 00:08:34' DAY TO SECOND|\n",
      "|D045     |{2023-07-30 07:00:00, 2023-07-30 07:15:00}|INTERVAL '0 00:04:18' DAY TO SECOND|\n",
      "|D006     |{2023-07-30 06:45:00, 2023-07-30 07:00:00}|INTERVAL '0 00:03:21' DAY TO SECOND|\n",
      "|D014     |{2023-07-30 06:00:00, 2023-07-30 06:15:00}|INTERVAL '0 00:06:31' DAY TO SECOND|\n",
      "|D019     |{2023-07-30 06:30:00, 2023-07-30 06:45:00}|INTERVAL '0 00:08:07' DAY TO SECOND|\n",
      "|D028     |{2023-07-30 06:15:00, 2023-07-30 06:30:00}|INTERVAL '0 00:11:39' DAY TO SECOND|\n",
      "|D016     |{2023-07-30 05:30:00, 2023-07-30 05:45:00}|INTERVAL '0 00:04:12' DAY TO SECOND|\n",
      "|D036     |{2023-07-30 06:30:00, 2023-07-30 06:45:00}|INTERVAL '0 00:11:16' DAY TO SECOND|\n",
      "|D028     |{2023-07-30 06:00:00, 2023-07-30 06:15:00}|INTERVAL '0 00:14:41' DAY TO SECOND|\n",
      "|D031     |{2023-07-30 06:30:00, 2023-07-30 06:45:00}|INTERVAL '0 00:13:38' DAY TO SECOND|\n",
      "|D038     |{2023-07-30 06:45:00, 2023-07-30 07:00:00}|INTERVAL '0 00:13:01' DAY TO SECOND|\n",
      "|D045     |{2023-07-30 05:15:00, 2023-07-30 05:30:00}|INTERVAL '0 00:14:42' DAY TO SECOND|\n",
      "|D018     |{2023-07-30 06:15:00, 2023-07-30 06:30:00}|INTERVAL '0 00:06:36' DAY TO SECOND|\n",
      "|D026     |{2023-07-30 06:00:00, 2023-07-30 06:15:00}|INTERVAL '0 00:13:03' DAY TO SECOND|\n",
      "|D033     |{2023-07-30 07:00:00, 2023-07-30 07:15:00}|INTERVAL '0 00:09:09' DAY TO SECOND|\n",
      "|D011     |{2023-07-30 06:30:00, 2023-07-30 06:45:00}|INTERVAL '0 00:11:29' DAY TO SECOND|\n",
      "|D035     |{2023-07-30 05:45:00, 2023-07-30 06:00:00}|INTERVAL '0 00:02:02' DAY TO SECOND|\n",
      "|D042     |{2023-07-30 05:00:00, 2023-07-30 05:15:00}|INTERVAL '0 00:02:02' DAY TO SECOND|\n",
      "|D047     |{2023-07-30 07:00:00, 2023-07-30 07:15:00}|INTERVAL '0 00:08:51' DAY TO SECOND|\n",
      "|D045     |{2023-07-30 06:15:00, 2023-07-30 06:30:00}|INTERVAL '0 00:11:19' DAY TO SECOND|\n",
      "|D016     |{2023-07-30 06:45:00, 2023-07-30 07:00:00}|INTERVAL '0 00:12:23' DAY TO SECOND|\n",
      "|D050     |{2023-07-30 06:00:00, 2023-07-30 06:15:00}|INTERVAL '0 00:08:10' DAY TO SECOND|\n",
      "|D037     |{2023-07-30 07:00:00, 2023-07-30 07:15:00}|INTERVAL '0 00:02:53' DAY TO SECOND|\n",
      "|D022     |{2023-07-30 06:30:00, 2023-07-30 06:45:00}|INTERVAL '0 00:00:00' DAY TO SECOND|\n",
      "|D033     |{2023-07-30 06:00:00, 2023-07-30 06:15:00}|INTERVAL '0 00:08:43' DAY TO SECOND|\n",
      "|D035     |{2023-07-30 05:30:00, 2023-07-30 05:45:00}|INTERVAL '0 00:11:46' DAY TO SECOND|\n",
      "|D050     |{2023-07-30 06:45:00, 2023-07-30 07:00:00}|INTERVAL '0 00:11:51' DAY TO SECOND|\n",
      "|D028     |{2023-07-30 05:00:00, 2023-07-30 05:15:00}|INTERVAL '0 00:02:46' DAY TO SECOND|\n",
      "|D039     |{2023-07-30 05:30:00, 2023-07-30 05:45:00}|INTERVAL '0 00:10:42' DAY TO SECOND|\n",
      "|D041     |{2023-07-30 05:45:00, 2023-07-30 06:00:00}|INTERVAL '0 00:00:37' DAY TO SECOND|\n",
      "|D042     |{2023-07-30 06:15:00, 2023-07-30 06:30:00}|INTERVAL '0 00:10:36' DAY TO SECOND|\n",
      "|D005     |{2023-07-30 06:30:00, 2023-07-30 06:45:00}|INTERVAL '0 00:11:14' DAY TO SECOND|\n",
      "|D002     |{2023-07-30 05:45:00, 2023-07-30 06:00:00}|INTERVAL '0 00:09:11' DAY TO SECOND|\n",
      "|D047     |{2023-07-30 05:15:00, 2023-07-30 05:30:00}|INTERVAL '0 00:07:11' DAY TO SECOND|\n",
      "|D047     |{2023-07-30 06:15:00, 2023-07-30 06:30:00}|INTERVAL '0 00:08:59' DAY TO SECOND|\n",
      "|D001     |{2023-07-30 05:15:00, 2023-07-30 05:30:00}|INTERVAL '0 00:13:48' DAY TO SECOND|\n",
      "|D003     |{2023-07-30 06:15:00, 2023-07-30 06:30:00}|INTERVAL '0 00:13:28' DAY TO SECOND|\n",
      "|D013     |{2023-07-30 06:15:00, 2023-07-30 06:30:00}|INTERVAL '0 00:11:18' DAY TO SECOND|\n",
      "|D016     |{2023-07-30 06:30:00, 2023-07-30 06:45:00}|INTERVAL '0 00:11:27' DAY TO SECOND|\n",
      "|D019     |{2023-07-30 05:30:00, 2023-07-30 05:45:00}|INTERVAL '0 00:10:47' DAY TO SECOND|\n",
      "|D047     |{2023-07-30 06:45:00, 2023-07-30 07:00:00}|INTERVAL '0 00:12:10' DAY TO SECOND|\n",
      "|D029     |{2023-07-30 06:45:00, 2023-07-30 07:00:00}|INTERVAL '0 00:05:46' DAY TO SECOND|\n",
      "|D044     |{2023-07-30 06:15:00, 2023-07-30 06:30:00}|INTERVAL '0 00:10:45' DAY TO SECOND|\n",
      "|D044     |{2023-07-30 05:15:00, 2023-07-30 05:30:00}|INTERVAL '0 00:10:39' DAY TO SECOND|\n",
      "|D022     |{2023-07-30 06:00:00, 2023-07-30 06:15:00}|INTERVAL '0 00:12:15' DAY TO SECOND|\n",
      "|D023     |{2023-07-30 05:45:00, 2023-07-30 06:00:00}|INTERVAL '0 00:14:15' DAY TO SECOND|\n",
      "|D032     |{2023-07-30 05:45:00, 2023-07-30 06:00:00}|INTERVAL '0 00:01:04' DAY TO SECOND|\n",
      "|D011     |{2023-07-30 07:00:00, 2023-07-30 07:15:00}|INTERVAL '0 00:11:10' DAY TO SECOND|\n",
      "|D031     |{2023-07-30 05:45:00, 2023-07-30 06:00:00}|INTERVAL '0 00:14:01' DAY TO SECOND|\n",
      "|D014     |{2023-07-30 06:45:00, 2023-07-30 07:00:00}|INTERVAL '0 00:14:48' DAY TO SECOND|\n",
      "|D032     |{2023-07-30 05:00:00, 2023-07-30 05:15:00}|INTERVAL '0 00:00:00' DAY TO SECOND|\n",
      "|D043     |{2023-07-30 07:00:00, 2023-07-30 07:15:00}|INTERVAL '0 00:00:00' DAY TO SECOND|\n",
      "|D004     |{2023-07-30 06:45:00, 2023-07-30 07:00:00}|INTERVAL '0 00:13:45' DAY TO SECOND|\n",
      "|D010     |{2023-07-30 06:00:00, 2023-07-30 06:15:00}|INTERVAL '0 00:10:15' DAY TO SECOND|\n",
      "|D014     |{2023-07-30 05:45:00, 2023-07-30 06:00:00}|INTERVAL '0 00:11:16' DAY TO SECOND|\n",
      "|D014     |{2023-07-30 05:15:00, 2023-07-30 05:30:00}|INTERVAL '0 00:12:09' DAY TO SECOND|\n",
      "|D033     |{2023-07-30 05:45:00, 2023-07-30 06:00:00}|INTERVAL '0 00:00:00' DAY TO SECOND|\n",
      "|D001     |{2023-07-30 06:30:00, 2023-07-30 06:45:00}|INTERVAL '0 00:13:07' DAY TO SECOND|\n",
      "|D035     |{2023-07-30 06:15:00, 2023-07-30 06:30:00}|INTERVAL '0 00:13:09' DAY TO SECOND|\n",
      "|D041     |{2023-07-30 06:30:00, 2023-07-30 06:45:00}|INTERVAL '0 00:06:08' DAY TO SECOND|\n",
      "|D001     |{2023-07-30 07:00:00, 2023-07-30 07:15:00}|INTERVAL '0 00:09:30' DAY TO SECOND|\n",
      "|D043     |{2023-07-30 06:15:00, 2023-07-30 06:30:00}|INTERVAL '0 00:06:44' DAY TO SECOND|\n",
      "|D044     |{2023-07-30 05:45:00, 2023-07-30 06:00:00}|INTERVAL '0 00:09:52' DAY TO SECOND|\n",
      "|D006     |{2023-07-30 06:00:00, 2023-07-30 06:15:00}|INTERVAL '0 00:12:02' DAY TO SECOND|\n",
      "|D025     |{2023-07-30 06:45:00, 2023-07-30 07:00:00}|INTERVAL '0 00:09:54' DAY TO SECOND|\n",
      "|D001     |{2023-07-30 06:15:00, 2023-07-30 06:30:00}|INTERVAL '0 00:10:51' DAY TO SECOND|\n",
      "|D010     |{2023-07-30 06:45:00, 2023-07-30 07:00:00}|INTERVAL '0 00:09:27' DAY TO SECOND|\n",
      "|D032     |{2023-07-30 06:45:00, 2023-07-30 07:00:00}|INTERVAL '0 00:12:32' DAY TO SECOND|\n",
      "|D014     |{2023-07-30 07:00:00, 2023-07-30 07:15:00}|INTERVAL '0 00:07:35' DAY TO SECOND|\n",
      "|D017     |{2023-07-30 05:45:00, 2023-07-30 06:00:00}|INTERVAL '0 00:11:58' DAY TO SECOND|\n",
      "|D049     |{2023-07-30 05:00:00, 2023-07-30 05:15:00}|INTERVAL '0 00:00:59' DAY TO SECOND|\n",
      "|D002     |{2023-07-30 05:30:00, 2023-07-30 05:45:00}|INTERVAL '0 00:12:04' DAY TO SECOND|\n",
      "|D004     |{2023-07-30 05:15:00, 2023-07-30 05:30:00}|INTERVAL '0 00:06:22' DAY TO SECOND|\n",
      "|D017     |{2023-07-30 06:30:00, 2023-07-30 06:45:00}|INTERVAL '0 00:00:00' DAY TO SECOND|\n",
      "|D036     |{2023-07-30 06:15:00, 2023-07-30 06:30:00}|INTERVAL '0 00:14:34' DAY TO SECOND|\n",
      "|D036     |{2023-07-30 05:30:00, 2023-07-30 05:45:00}|INTERVAL '0 00:04:38' DAY TO SECOND|\n",
      "|D048     |{2023-07-30 05:00:00, 2023-07-30 05:15:00}|INTERVAL '0 00:00:00' DAY TO SECOND|\n",
      "|D048     |{2023-07-30 07:00:00, 2023-07-30 07:15:00}|INTERVAL '0 00:10:57' DAY TO SECOND|\n",
      "|D005     |{2023-07-30 06:15:00, 2023-07-30 06:30:00}|INTERVAL '0 00:11:10' DAY TO SECOND|\n",
      "+---------+------------------------------------------+-----------------------------------+\n",
      "only showing top 100 rows\n",
      "\n"
     ]
    }
   ],
   "source": [
    "# Display the results of the test\n",
    "spark.sql(\"select * from test2\").show(100,truncate=False)"
   ]
  },
  {
   "cell_type": "code",
   "execution_count": 42,
   "metadata": {
    "colab": {
     "base_uri": "https://localhost:8080/",
     "height": 663
    },
    "id": "HmMXJbvss6hL",
    "outputId": "80fb8e5b-47fa-43d9-865d-caa818fde1a1"
   },
   "outputs": [
    {
     "ename": "AnalysisException",
     "evalue": "ignored",
     "output_type": "error",
     "traceback": [
      "\u001b[0;31m---------------------------------------------------------------------------\u001b[0m",
      "\u001b[0;31mAnalysisException\u001b[0m                         Traceback (most recent call last)",
      "\u001b[0;32m<ipython-input-42-813a529f222a>\u001b[0m in \u001b[0;36m<cell line: 42>\u001b[0;34m()\u001b[0m\n\u001b[1;32m     40\u001b[0m \u001b[0;34m\u001b[0m\u001b[0m\n\u001b[1;32m     41\u001b[0m \u001b[0;31m# Calculate the trip duration in seconds\u001b[0m\u001b[0;34m\u001b[0m\u001b[0;34m\u001b[0m\u001b[0m\n\u001b[0;32m---> 42\u001b[0;31m trip_data_with_duration = trip_data_with_watermark.withColumn(\n\u001b[0m\u001b[1;32m     43\u001b[0m     \u001b[0;34m\"trip_duration\"\u001b[0m\u001b[0;34m,\u001b[0m\u001b[0;34m\u001b[0m\u001b[0;34m\u001b[0m\u001b[0m\n\u001b[1;32m     44\u001b[0m     \u001b[0mF\u001b[0m\u001b[0;34m.\u001b[0m\u001b[0munix_timestamp\u001b[0m\u001b[0;34m(\u001b[0m\u001b[0;34m\"timestamp\"\u001b[0m\u001b[0;34m)\u001b[0m \u001b[0;34m-\u001b[0m \u001b[0mF\u001b[0m\u001b[0;34m.\u001b[0m\u001b[0mlag\u001b[0m\u001b[0;34m(\u001b[0m\u001b[0;34m\"timestamp\"\u001b[0m\u001b[0;34m)\u001b[0m\u001b[0;34m.\u001b[0m\u001b[0mover\u001b[0m\u001b[0;34m(\u001b[0m\u001b[0mwindow_spec\u001b[0m\u001b[0;34m)\u001b[0m\u001b[0;34m\u001b[0m\u001b[0;34m\u001b[0m\u001b[0m\n",
      "\u001b[0;32m/usr/local/lib/python3.10/dist-packages/pyspark/sql/dataframe.py\u001b[0m in \u001b[0;36mwithColumn\u001b[0;34m(self, colName, col)\u001b[0m\n\u001b[1;32m   4787\u001b[0m                 \u001b[0mmessage_parameters\u001b[0m\u001b[0;34m=\u001b[0m\u001b[0;34m{\u001b[0m\u001b[0;34m\"arg_name\"\u001b[0m\u001b[0;34m:\u001b[0m \u001b[0;34m\"col\"\u001b[0m\u001b[0;34m,\u001b[0m \u001b[0;34m\"arg_type\"\u001b[0m\u001b[0;34m:\u001b[0m \u001b[0mtype\u001b[0m\u001b[0;34m(\u001b[0m\u001b[0mcol\u001b[0m\u001b[0;34m)\u001b[0m\u001b[0;34m.\u001b[0m\u001b[0m__name__\u001b[0m\u001b[0;34m}\u001b[0m\u001b[0;34m,\u001b[0m\u001b[0;34m\u001b[0m\u001b[0;34m\u001b[0m\u001b[0m\n\u001b[1;32m   4788\u001b[0m             )\n\u001b[0;32m-> 4789\u001b[0;31m         \u001b[0;32mreturn\u001b[0m \u001b[0mDataFrame\u001b[0m\u001b[0;34m(\u001b[0m\u001b[0mself\u001b[0m\u001b[0;34m.\u001b[0m\u001b[0m_jdf\u001b[0m\u001b[0;34m.\u001b[0m\u001b[0mwithColumn\u001b[0m\u001b[0;34m(\u001b[0m\u001b[0mcolName\u001b[0m\u001b[0;34m,\u001b[0m \u001b[0mcol\u001b[0m\u001b[0;34m.\u001b[0m\u001b[0m_jc\u001b[0m\u001b[0;34m)\u001b[0m\u001b[0;34m,\u001b[0m \u001b[0mself\u001b[0m\u001b[0;34m.\u001b[0m\u001b[0msparkSession\u001b[0m\u001b[0;34m)\u001b[0m\u001b[0;34m\u001b[0m\u001b[0;34m\u001b[0m\u001b[0m\n\u001b[0m\u001b[1;32m   4790\u001b[0m \u001b[0;34m\u001b[0m\u001b[0m\n\u001b[1;32m   4791\u001b[0m     \u001b[0;32mdef\u001b[0m \u001b[0mwithColumnRenamed\u001b[0m\u001b[0;34m(\u001b[0m\u001b[0mself\u001b[0m\u001b[0;34m,\u001b[0m \u001b[0mexisting\u001b[0m\u001b[0;34m:\u001b[0m \u001b[0mstr\u001b[0m\u001b[0;34m,\u001b[0m \u001b[0mnew\u001b[0m\u001b[0;34m:\u001b[0m \u001b[0mstr\u001b[0m\u001b[0;34m)\u001b[0m \u001b[0;34m->\u001b[0m \u001b[0;34m\"DataFrame\"\u001b[0m\u001b[0;34m:\u001b[0m\u001b[0;34m\u001b[0m\u001b[0;34m\u001b[0m\u001b[0m\n",
      "\u001b[0;32m/usr/local/lib/python3.10/dist-packages/py4j/java_gateway.py\u001b[0m in \u001b[0;36m__call__\u001b[0;34m(self, *args)\u001b[0m\n\u001b[1;32m   1320\u001b[0m \u001b[0;34m\u001b[0m\u001b[0m\n\u001b[1;32m   1321\u001b[0m         \u001b[0manswer\u001b[0m \u001b[0;34m=\u001b[0m \u001b[0mself\u001b[0m\u001b[0;34m.\u001b[0m\u001b[0mgateway_client\u001b[0m\u001b[0;34m.\u001b[0m\u001b[0msend_command\u001b[0m\u001b[0;34m(\u001b[0m\u001b[0mcommand\u001b[0m\u001b[0;34m)\u001b[0m\u001b[0;34m\u001b[0m\u001b[0;34m\u001b[0m\u001b[0m\n\u001b[0;32m-> 1322\u001b[0;31m         return_value = get_return_value(\n\u001b[0m\u001b[1;32m   1323\u001b[0m             answer, self.gateway_client, self.target_id, self.name)\n\u001b[1;32m   1324\u001b[0m \u001b[0;34m\u001b[0m\u001b[0m\n",
      "\u001b[0;32m/usr/local/lib/python3.10/dist-packages/pyspark/errors/exceptions/captured.py\u001b[0m in \u001b[0;36mdeco\u001b[0;34m(*a, **kw)\u001b[0m\n\u001b[1;32m    173\u001b[0m                 \u001b[0;31m# Hide where the exception came from that shows a non-Pythonic\u001b[0m\u001b[0;34m\u001b[0m\u001b[0;34m\u001b[0m\u001b[0m\n\u001b[1;32m    174\u001b[0m                 \u001b[0;31m# JVM exception message.\u001b[0m\u001b[0;34m\u001b[0m\u001b[0;34m\u001b[0m\u001b[0m\n\u001b[0;32m--> 175\u001b[0;31m                 \u001b[0;32mraise\u001b[0m \u001b[0mconverted\u001b[0m \u001b[0;32mfrom\u001b[0m \u001b[0;32mNone\u001b[0m\u001b[0;34m\u001b[0m\u001b[0;34m\u001b[0m\u001b[0m\n\u001b[0m\u001b[1;32m    176\u001b[0m             \u001b[0;32melse\u001b[0m\u001b[0;34m:\u001b[0m\u001b[0;34m\u001b[0m\u001b[0;34m\u001b[0m\u001b[0m\n\u001b[1;32m    177\u001b[0m                 \u001b[0;32mraise\u001b[0m\u001b[0;34m\u001b[0m\u001b[0;34m\u001b[0m\u001b[0m\n",
      "\u001b[0;31mAnalysisException\u001b[0m: [DATATYPE_MISMATCH.UNEXPECTED_INPUT_TYPE] Cannot resolve \"(unix_timestamp(timestamp, yyyy-MM-dd HH:mm:ss) - lag(timestamp, 1, NULL) OVER (PARTITION BY driver_id ORDER BY timestamp ASC NULLS FIRST ROWS BETWEEN -1 FOLLOWING AND -1 FOLLOWING))\" due to data type mismatch: Parameter 1 requires the \"(TIMESTAMP OR TIMESTAMP WITHOUT TIME ZONE)\" type, however \"unix_timestamp(timestamp, yyyy-MM-dd HH:mm:ss)\" has the type \"BIGINT\".;\n'Project [driver_id#7015, timestamp#7031-T900000ms, event_type#7020, (unix_timestamp(timestamp#7031-T900000ms, yyyy-MM-dd HH:mm:ss, Some(Etc/UTC), false) - lag(timestamp#7031-T900000ms, -1, null) windowspecdefinition(driver_id#7015, timestamp#7031-T900000ms ASC NULLS FIRST, specifiedwindowframe(RowFrame, -1, -1))) AS trip_duration#7035]\n+- EventTimeWatermark timestamp#7031: timestamp, 15 minutes\n   +- Filter (event_type#7020 = Trip)\n      +- Project [driver_id#7015, cast(from_unixtime(cast(timestamp#7016 as bigint), yyyy-MM-dd HH:mm:ss, Some(Etc/UTC)) as timestamp) AS timestamp#7031, event_type#7020]\n         +- Project [driver_id#7015, timestamp#7016, event_type#7020]\n            +- StreamingRelation DataSource(org.apache.spark.sql.SparkSession@43d645e1,json,List(),Some(StructType(StructField(driver_id,StringType,true),StructField(timestamp,IntegerType,true),StructField(latitude,DoubleType,true),StructField(longitude,DoubleType,true),StructField(trip_distance,DoubleType,true),StructField(event_type,StringType,true))),List(),None,Map(multiline -> true, path -> input),None), FileSource[input], [driver_id#7015, timestamp#7016, latitude#7017, longitude#7018, trip_distance#7019, event_type#7020]\n"
     ]
    }
   ],
   "source": [
    "from pyspark.sql import SparkSession\n",
    "from pyspark.sql.types import StructType, StructField, StringType, IntegerType, DoubleType, TimestampType\n",
    "from pyspark.sql.functions import col, from_unixtime, window, unix_timestamp, lag, expr, avg\n",
    "from pyspark.sql import functions as F\n",
    "\n",
    "# Create a SparkSession\n",
    "spark = SparkSession.builder \\\n",
    "    .appName(\"AverageTripDurationStreaming\") \\\n",
    "    .getOrCreate()\n",
    "\n",
    "# Define the schema for the streaming data\n",
    "schema = StructType([\n",
    "    StructField(\"driver_id\", StringType(), True),\n",
    "    StructField(\"timestamp\", IntegerType(), True),\n",
    "    StructField(\"latitude\", DoubleType(), True),\n",
    "    StructField(\"longitude\", DoubleType(), True),\n",
    "    StructField(\"trip_distance\", DoubleType(), True),\n",
    "    StructField(\"event_type\", StringType(), True),\n",
    "])\n",
    "\n",
    "# Load the streaming data from JSON file with the defined schema\n",
    "rides = spark.readStream \\\n",
    "    .format(\"json\") \\\n",
    "    .schema(schema) \\\n",
    "    .option(\"multiline\", \"true\") \\\n",
    "    .load(\"input\")\n",
    "\n",
    "# Convert the timestamp column to a timestamp type\n",
    "driver_ts = rides.select(\"driver_id\", \"timestamp\", \"event_type\")\n",
    "driver_tsformat = driver_ts.withColumn(\"timestamp\", from_unixtime(\"timestamp\").cast(TimestampType()))\n",
    "\n",
    "# Filter rows where event_type == \"Trip\"\n",
    "trip_data = driver_tsformat.filter(driver_tsformat.event_type == \"Trip\")\n",
    "\n",
    "# Define a watermark based on the timestamp column\n",
    "trip_data_with_watermark = trip_data.withWatermark(\"timestamp\", \"15 minutes\")\n",
    "\n",
    "# Define the window specification\n",
    "window_spec = Window.partitionBy(\"driver_id\").orderBy(\"timestamp\")\n",
    "\n",
    "# Calculate the trip duration in seconds\n",
    "trip_data_with_duration = trip_data_with_watermark.withColumn(\n",
    "    \"trip_duration\",\n",
    "    F.unix_timestamp(\"timestamp\") - F.lag(\"timestamp\").over(window_spec)\n",
    ")\n",
    "\n",
    "# Calculate the average trip duration within the 15-minute window\n",
    "avg_trip_duration = trip_data_with_duration.groupBy(\n",
    "    window(\"timestamp\", \"15 minutes\"),\n",
    "    \"driver_id\"\n",
    ").agg(avg(\"trip_duration\").alias(\"avg_trip_duration\"))\n",
    "\n",
    "# Start the streaming query\n",
    "query = avg_trip_duration.writeStream \\\n",
    "    .outputMode(\"update\") \\\n",
    "    .queryName(\"avg_trip_duration_stream\") \\\n",
    "    .trigger(processingTime='5 seconds') \\\n",
    "    .format(\"memory\") \\\n",
    "    .start()\n",
    "\n",
    "query.awaitTermination()\n"
   ]
  },
  {
   "cell_type": "code",
   "execution_count": 21,
   "metadata": {
    "colab": {
     "base_uri": "https://localhost:8080/"
    },
    "id": "M5mpLAsLwYLX",
    "outputId": "89628b99-a7a4-435d-e1fe-1d08ea26ad7a"
   },
   "outputs": [
    {
     "name": "stdout",
     "output_type": "stream",
     "text": [
      "+---------+------------------------------------------+-------------------+-------------------+-------------+\n",
      "|driver_id|window                                    |start_timestamp    |end_timestamp      |trip_duration|\n",
      "+---------+------------------------------------------+-------------------+-------------------+-------------+\n",
      "|D005     |{2023-07-30 05:15:00, 2023-07-30 05:30:00}|2023-07-30 05:17:32|2023-07-30 05:28:32|660          |\n",
      "|D005     |{2023-07-30 06:30:00, 2023-07-30 06:45:00}|2023-07-30 06:31:48|2023-07-30 06:43:02|674          |\n",
      "|D005     |{2023-07-30 06:15:00, 2023-07-30 06:30:00}|2023-07-30 06:15:36|2023-07-30 06:26:46|670          |\n",
      "|D005     |{2023-07-30 05:45:00, 2023-07-30 06:00:00}|2023-07-30 05:46:01|2023-07-30 05:58:42|761          |\n",
      "|D005     |{2023-07-30 05:30:00, 2023-07-30 05:45:00}|2023-07-30 05:31:49|2023-07-30 05:44:22|753          |\n",
      "|D005     |{2023-07-30 05:00:00, 2023-07-30 05:15:00}|2023-07-30 05:13:19|2023-07-30 05:13:19|0            |\n",
      "|D005     |{2023-07-30 07:00:00, 2023-07-30 07:15:00}|2023-07-30 07:02:00|2023-07-30 07:02:00|0            |\n",
      "|D005     |{2023-07-30 06:00:00, 2023-07-30 06:15:00}|2023-07-30 06:10:12|2023-07-30 06:13:22|190          |\n",
      "|D005     |{2023-07-30 06:45:00, 2023-07-30 07:00:00}|2023-07-30 06:45:44|2023-07-30 06:59:30|826          |\n",
      "+---------+------------------------------------------+-------------------+-------------------+-------------+\n",
      "\n"
     ]
    }
   ],
   "source": [
    "# Display the results of the test\n",
    "spark.sql(\"select * from trip_duration_stream where driver_id='D005'\").show(100,truncate=False)"
   ]
  }
 ],
 "metadata": {
  "colab": {
   "provenance": []
  },
  "kernelspec": {
   "display_name": "Python 3 (ipykernel)",
   "language": "python",
   "name": "python3"
  },
  "language_info": {
   "codemirror_mode": {
    "name": "ipython",
    "version": 3
   },
   "file_extension": ".py",
   "mimetype": "text/x-python",
   "name": "python",
   "nbconvert_exporter": "python",
   "pygments_lexer": "ipython3",
   "version": "3.9.16"
  }
 },
 "nbformat": 4,
 "nbformat_minor": 1
}
