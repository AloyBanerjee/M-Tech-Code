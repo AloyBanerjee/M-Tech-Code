{
 "cells": [
  {
   "cell_type": "code",
   "execution_count": 19,
   "id": "e8672c17",
   "metadata": {},
   "outputs": [],
   "source": [
    "import numpy as np\n",
    "import pandas as pd\n",
    "import matplotlib.pyplot as plt\n",
    "from tqdm import tqdm\n",
    "np.random.seed(42)"
   ]
  },
  {
   "cell_type": "code",
   "execution_count": 20,
   "id": "abb99647",
   "metadata": {},
   "outputs": [],
   "source": [
    "## Define the constants\n",
    "A1 = 28\n",
    "A3 = 28\n",
    "A2 = 32\n",
    "A4 = 32\n",
    "a1 = 0.071\n",
    "a3 = 0.071\n",
    "a2 = 0.057\n",
    "a4 = 0.057\n",
    "kc = 0.5\n",
    "g = 981\n",
    "k1 = 3.33\n",
    "k2 = 3.35\n",
    "gamma1 = 0.7\n",
    "gamma2 = 0.6\n",
    "v1=3\n",
    "v2=3"
   ]
  },
  {
   "cell_type": "code",
   "execution_count": 21,
   "id": "34ff2a4f",
   "metadata": {},
   "outputs": [],
   "source": [
    "# true data\n",
    "tank_true_data = pd.read_excel('Link 2 Measurements.xlsx')\n",
    "tank1_data = tank_true_data['h1'].values\n",
    "tank2_data = tank_true_data['h2'].values\n",
    "tank3_data = tank_true_data['h3'].values\n",
    "tank4_data = tank_true_data['h4'].values"
   ]
  },
  {
   "cell_type": "code",
   "execution_count": 22,
   "id": "d7cd340f",
   "metadata": {},
   "outputs": [],
   "source": [
    "# Initialization\n",
    "kc = 0.5\n",
    "H_mat = np.array([[kc , 0 , 0 , 0],[0, kc , 0 , 0]])\n",
    "h0 = tank_true_data.to_numpy()[0,:]\n",
    "x0 = h0\n",
    "N = 10000\n",
    "n=4\n",
    "t = 0.1\n",
    "P0 = np.eye(4) * 10**5\n",
    "x_post = x0\n",
    "Q = np.eye(4) * 0.1\n",
    "R = np.eye(2) * 0.5\n",
    "epsilon = 1e-10"
   ]
  },
  {
   "cell_type": "code",
   "execution_count": 23,
   "id": "89d9f536",
   "metadata": {},
   "outputs": [],
   "source": [
    "# prior and roughening\n",
    "L = np.linalg.cholesky(P0)\n",
    "x0 = (np.tile(x0, (N, 1)).T + (np.random.randn(N, n).dot(L).T)/N).T\n",
    "x1_post = x0[:, 0]\n",
    "x2_post = x0[:, 1]\n",
    "x3_post = x0[:, 2]\n",
    "x4_post = x0[:, 3]\n",
    "# roughening\n",
    "w = np.linalg.cholesky(Q).dot(np.random.randn(n, N)/N)\n",
    "w1 = w[0, :]\n",
    "w2 = w[1, :]\n",
    "w3 = w[2, :]\n",
    "w4 = w[3, :]\n",
    "x1_post = x1_post + w1\n",
    "x2_post = x2_post + w2\n",
    "x3_post = x3_post + w3\n",
    "x4_post = x4_post + w4"
   ]
  },
  {
   "cell_type": "code",
   "execution_count": null,
   "id": "78c8262c",
   "metadata": {},
   "outputs": [
    {
     "name": "stderr",
     "output_type": "stream",
     "text": [
      "\r",
      "  0%|          | 0/10000 [00:00<?, ?it/s]"
     ]
    }
   ],
   "source": [
    "for ii in tqdm(range(N)):\n",
    "    x1_pri = x1_post + t*(-a1/A1*np.sqrt(2*g*np.abs(x1_post)) + a3/A1*np.sqrt(2*g*np.abs(x3_post)) + (gamma1 * k1 * v1)/A1 + w1)\n",
    "    x2_pri = x2_post + t*(-a2/A2*np.sqrt(2*g*np.abs(x2_post)) + a4/A2*np.sqrt(2*g*np.abs(x3_post)) + (gamma1 * k1 * v1)/A2 + w1)\n",
    "    x3_pri = x3_post + t*(-a3/A3*np.sqrt(2*g*np.abs(x3_post)) + (1 - gamma2)*k2*v2/A3 + w3)\n",
    "    x4_pri = x4_post + t*(-a4/A4*np.sqrt(2*g*np.abs(x4_post)) + (1 - gamma1)*k1*v1/A4 + w4)\n",
    "    x_pri = np.abs(np.array([x1_pri, x2_pri, x3_pri, x4_pri]))\n",
    "    x1_pri = np.abs(x1_pri)\n",
    "    x2_pri = np.abs(x2_pri)\n",
    "    x3_pri = np.abs(x3_pri)\n",
    "    x4_pri = np.abs(x4_pri)\n",
    "    # importance weights ( likelihood function)\n",
    "    h_true = tank_true_data.to_numpy()[ii,:]\n",
    "    z1, z2 = h_true[0], h_true[1]\n",
    "    z_true = np.tile([z1, z2], (N, 1)).T\n",
    "    z_est = H_mat.dot(x_pri)\n",
    "    v = z_true - z_est\n",
    "    q = [np.exp(-0.5 * (v[:, i].T @ np.linalg.inv(R) @ v[:, i])) for i in range(N)]\n",
    "    # Normalize the weights\n",
    "    wt = [q[i]/sum(q) for i in range(N)]\n",
    "    # Resampling\n",
    "    cs_wt = np.cumsum(wt)\n",
    "    T = np.linspace(0, 1-1/N, N) + np.random.rand()/N\n",
    "    i = 0\n",
    "    j = 0\n",
    "    indx = np.zeros(N, dtype=int)\n",
    "    while i < N and j < len(wt):\n",
    "        while cs_wt[j] < T[i]:\n",
    "            j += 1\n",
    "            indx[i] = j\n",
    "        x1_post[i] = x1_pri[j]\n",
    "        x2_post[i] = x2_pri[j]\n",
    "        x3_post[i] = x3_pri[j]\n",
    "        x4_post[i] = x4_pri[j]\n",
    "\n",
    "\n",
    "    i += 1\n",
    "    x1_post_arr[ii] = np.sum(wt*x1_post.reshape(1,-1))\n",
    "    x2_post_arr[ii] = np.sum(wt*x2_post.reshape(1,-1))\n",
    "    x3_post_arr[ii] = np.sum(wt*x3_post.reshape(1,-1))\n",
    "    x4_post_arr[ii] = np.sum(wt*x4_post.reshape(1,-1))"
   ]
  },
  {
   "cell_type": "code",
   "execution_count": null,
   "id": "21050b97",
   "metadata": {},
   "outputs": [],
   "source": [
    "plt.plot(x1_post_arr,label='Particle filter estimate')\n",
    "plt.plot(tank1_data[0:N],label='True data')\n",
    "plt.title('Tank 1')\n",
    "plt.xlabel('No of iterations')\n",
    "plt.ylabel('Height level')\n",
    "plt.legend()\n",
    "plt.show()\n",
    "plt.plot(x2_post_arr,label='Particle filter estimate')\n",
    "plt.plot(tank2_data[0:N],label='True data')\n",
    "plt.title('Tank 2')\n",
    "plt.xlabel('No of iterations')\n",
    "plt.ylabel('Height level')\n",
    "plt.legend()\n",
    "plt.show()\n",
    "plt.plot(x3_post_arr,label='Particle filter estimate')\n",
    "plt.plot(tank3_data[0:N],label='True data')\n",
    "plt.title('Tank 3')\n",
    "plt.xlabel('No of iterations')\n",
    "plt.ylabel('Height level')\n",
    "plt.legend()\n",
    "plt.show()\n",
    "plt.plot(x4_post_arr,label='Particle filter estimate')\n",
    "plt.plot(tank4_data[0:N],label='True data')\n",
    "plt.title('Tank 4')\n",
    "plt.xlabel('No of iterations')\n",
    "plt.ylabel('Height level')\n",
    "plt.legend()\n",
    "plt.show()"
   ]
  },
  {
   "cell_type": "code",
   "execution_count": null,
   "id": "bde2f17d",
   "metadata": {},
   "outputs": [],
   "source": []
  },
  {
   "cell_type": "code",
   "execution_count": null,
   "id": "4435fd9e",
   "metadata": {},
   "outputs": [],
   "source": []
  },
  {
   "cell_type": "code",
   "execution_count": null,
   "id": "9f8ef740",
   "metadata": {},
   "outputs": [],
   "source": []
  },
  {
   "cell_type": "code",
   "execution_count": null,
   "id": "9a57c430",
   "metadata": {},
   "outputs": [],
   "source": []
  },
  {
   "cell_type": "code",
   "execution_count": null,
   "id": "2494fa4c",
   "metadata": {},
   "outputs": [],
   "source": []
  },
  {
   "cell_type": "code",
   "execution_count": null,
   "id": "fa7fc5bc",
   "metadata": {},
   "outputs": [],
   "source": []
  },
  {
   "cell_type": "code",
   "execution_count": null,
   "id": "7c8df42f",
   "metadata": {},
   "outputs": [],
   "source": []
  },
  {
   "cell_type": "code",
   "execution_count": null,
   "id": "8477082e",
   "metadata": {},
   "outputs": [],
   "source": []
  },
  {
   "cell_type": "code",
   "execution_count": null,
   "id": "03ba9106",
   "metadata": {},
   "outputs": [],
   "source": []
  },
  {
   "cell_type": "code",
   "execution_count": null,
   "id": "04ca8911",
   "metadata": {},
   "outputs": [],
   "source": []
  }
 ],
 "metadata": {
  "kernelspec": {
   "display_name": "Python 3 (ipykernel)",
   "language": "python",
   "name": "python3"
  },
  "language_info": {
   "codemirror_mode": {
    "name": "ipython",
    "version": 3
   },
   "file_extension": ".py",
   "mimetype": "text/x-python",
   "name": "python",
   "nbconvert_exporter": "python",
   "pygments_lexer": "ipython3",
   "version": "3.9.16"
  }
 },
 "nbformat": 4,
 "nbformat_minor": 5
}
