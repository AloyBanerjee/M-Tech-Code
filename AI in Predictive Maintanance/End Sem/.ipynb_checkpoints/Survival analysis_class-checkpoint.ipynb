{
 "cells": [
  {
   "cell_type": "markdown",
   "metadata": {},
   "source": [
    "# <div align='center'> Estimation of Survival Curve<br>\n",
    " $S(t) = Pr(T>t)$ "
   ]
  },
  {
   "cell_type": "markdown",
   "metadata": {},
   "source": [
    "## Requiremnts <br>\n",
    "- ISLP package ([Follow for installation](https://pypi.org/project/ISLP/))"
   ]
  },
  {
   "cell_type": "code",
   "execution_count": 2,
   "metadata": {},
   "outputs": [
    {
     "name": "stdout",
     "output_type": "stream",
     "text": [
      "Collecting ISLP\n",
      "  Downloading ISLP-0.3.17-py3-none-any.whl (3.6 MB)\n",
      "     ---------------------------------------- 3.6/3.6 MB 1.8 MB/s eta 0:00:00\n",
      "Requirement already satisfied: statsmodels>=0.13 in c:\\users\\admin\\anaconda3\\lib\\site-packages (from ISLP) (0.13.5)\n",
      "Collecting pygam>=0.0\n",
      "  Downloading pygam-0.9.0-py3-none-any.whl (522 kB)\n",
      "     -------------------------------------- 522.2/522.2 kB 3.3 MB/s eta 0:00:00\n",
      "Requirement already satisfied: lxml>=0.0 in c:\\users\\admin\\anaconda3\\lib\\site-packages (from ISLP) (4.9.1)\n",
      "Requirement already satisfied: matplotlib>=3.3.3 in c:\\users\\admin\\anaconda3\\lib\\site-packages (from ISLP) (3.7.0)\n",
      "Requirement already satisfied: numpy>=1.7.1 in c:\\users\\admin\\anaconda3\\lib\\site-packages (from ISLP) (1.21.5)\n",
      "Requirement already satisfied: pandas>=0.20 in c:\\users\\admin\\anaconda3\\lib\\site-packages (from ISLP) (1.5.3)\n",
      "Requirement already satisfied: joblib>=0.0 in c:\\users\\admin\\anaconda3\\lib\\site-packages (from ISLP) (1.2.0)\n",
      "Requirement already satisfied: scipy>=0.9 in c:\\users\\admin\\anaconda3\\lib\\site-packages (from ISLP) (1.7.3)\n",
      "Requirement already satisfied: lifelines>=0.0 in c:\\users\\admin\\anaconda3\\lib\\site-packages (from ISLP) (0.27.7)\n",
      "Requirement already satisfied: scikit-learn>=0.0 in c:\\users\\admin\\anaconda3\\lib\\site-packages (from ISLP) (1.2.2)\n",
      "Requirement already satisfied: jupyter>=0.0 in c:\\users\\admin\\anaconda3\\lib\\site-packages (from ISLP) (1.0.0)\n",
      "Requirement already satisfied: jupyter-console in c:\\users\\admin\\anaconda3\\lib\\site-packages (from jupyter>=0.0->ISLP) (6.6.2)\n",
      "Requirement already satisfied: nbconvert in c:\\users\\admin\\anaconda3\\lib\\site-packages (from jupyter>=0.0->ISLP) (6.5.4)\n",
      "Requirement already satisfied: notebook in c:\\users\\admin\\anaconda3\\lib\\site-packages (from jupyter>=0.0->ISLP) (6.5.2)\n",
      "Requirement already satisfied: ipywidgets in c:\\users\\admin\\anaconda3\\lib\\site-packages (from jupyter>=0.0->ISLP) (7.6.5)\n",
      "Requirement already satisfied: ipykernel in c:\\users\\admin\\anaconda3\\lib\\site-packages (from jupyter>=0.0->ISLP) (6.19.2)\n",
      "Requirement already satisfied: qtconsole in c:\\users\\admin\\anaconda3\\lib\\site-packages (from jupyter>=0.0->ISLP) (5.4.0)\n",
      "Requirement already satisfied: autograd>=1.5 in c:\\users\\admin\\anaconda3\\lib\\site-packages (from lifelines>=0.0->ISLP) (1.6.2)\n",
      "Requirement already satisfied: formulaic>=0.2.2 in c:\\users\\admin\\anaconda3\\lib\\site-packages (from lifelines>=0.0->ISLP) (0.6.4)\n",
      "Requirement already satisfied: autograd-gamma>=0.3 in c:\\users\\admin\\anaconda3\\lib\\site-packages (from lifelines>=0.0->ISLP) (0.5.0)\n",
      "Requirement already satisfied: kiwisolver>=1.0.1 in c:\\users\\admin\\anaconda3\\lib\\site-packages (from matplotlib>=3.3.3->ISLP) (1.4.4)\n",
      "Requirement already satisfied: packaging>=20.0 in c:\\users\\admin\\anaconda3\\lib\\site-packages (from matplotlib>=3.3.3->ISLP) (22.0)\n",
      "Requirement already satisfied: contourpy>=1.0.1 in c:\\users\\admin\\anaconda3\\lib\\site-packages (from matplotlib>=3.3.3->ISLP) (1.0.5)\n",
      "Requirement already satisfied: pillow>=6.2.0 in c:\\users\\admin\\anaconda3\\lib\\site-packages (from matplotlib>=3.3.3->ISLP) (9.4.0)\n",
      "Requirement already satisfied: fonttools>=4.22.0 in c:\\users\\admin\\anaconda3\\lib\\site-packages (from matplotlib>=3.3.3->ISLP) (4.25.0)\n",
      "Requirement already satisfied: pyparsing>=2.3.1 in c:\\users\\admin\\anaconda3\\lib\\site-packages (from matplotlib>=3.3.3->ISLP) (3.0.9)\n",
      "Requirement already satisfied: cycler>=0.10 in c:\\users\\admin\\anaconda3\\lib\\site-packages (from matplotlib>=3.3.3->ISLP) (0.11.0)\n",
      "Requirement already satisfied: importlib-resources>=3.2.0 in c:\\users\\admin\\anaconda3\\lib\\site-packages (from matplotlib>=3.3.3->ISLP) (5.2.0)\n",
      "Requirement already satisfied: python-dateutil>=2.7 in c:\\users\\admin\\anaconda3\\lib\\site-packages (from matplotlib>=3.3.3->ISLP) (2.8.2)\n",
      "Requirement already satisfied: pytz>=2020.1 in c:\\users\\admin\\anaconda3\\lib\\site-packages (from pandas>=0.20->ISLP) (2022.7)\n",
      "Collecting progressbar2<5.0.0,>=4.2.0\n",
      "  Downloading progressbar2-4.2.0-py2.py3-none-any.whl (27 kB)\n",
      "Collecting scipy>=0.9\n",
      "  Downloading scipy-1.11.1-cp39-cp39-win_amd64.whl (44.1 MB)\n",
      "     ---------------------------------------- 44.1/44.1 MB 3.6 MB/s eta 0:00:00\n",
      "Collecting numpy>=1.7.1\n",
      "  Downloading numpy-1.25.2-cp39-cp39-win_amd64.whl (15.6 MB)\n",
      "     ---------------------------------------- 15.6/15.6 MB 3.6 MB/s eta 0:00:00\n",
      "Requirement already satisfied: threadpoolctl>=2.0.0 in c:\\users\\admin\\anaconda3\\lib\\site-packages (from scikit-learn>=0.0->ISLP) (2.2.0)\n",
      "Requirement already satisfied: patsy>=0.5.2 in c:\\users\\admin\\anaconda3\\lib\\site-packages (from statsmodels>=0.13->ISLP) (0.5.3)\n",
      "Requirement already satisfied: future>=0.15.2 in c:\\users\\admin\\anaconda3\\lib\\site-packages (from autograd>=1.5->lifelines>=0.0->ISLP) (0.18.3)\n",
      "Requirement already satisfied: interface-meta>=1.2.0 in c:\\users\\admin\\anaconda3\\lib\\site-packages (from formulaic>=0.2.2->lifelines>=0.0->ISLP) (1.3.0)\n",
      "Requirement already satisfied: typing-extensions>=4.2.0 in c:\\users\\admin\\anaconda3\\lib\\site-packages (from formulaic>=0.2.2->lifelines>=0.0->ISLP) (4.4.0)\n",
      "Requirement already satisfied: astor>=0.8 in c:\\users\\admin\\anaconda3\\lib\\site-packages (from formulaic>=0.2.2->lifelines>=0.0->ISLP) (0.8.1)\n",
      "Requirement already satisfied: wrapt>=1.0 in c:\\users\\admin\\anaconda3\\lib\\site-packages (from formulaic>=0.2.2->lifelines>=0.0->ISLP) (1.14.1)\n",
      "Requirement already satisfied: zipp>=3.1.0 in c:\\users\\admin\\anaconda3\\lib\\site-packages (from importlib-resources>=3.2.0->matplotlib>=3.3.3->ISLP) (3.11.0)\n",
      "Requirement already satisfied: six in c:\\users\\admin\\anaconda3\\lib\\site-packages (from patsy>=0.5.2->statsmodels>=0.13->ISLP) (1.16.0)\n",
      "Collecting python-utils>=3.0.0\n",
      "  Downloading python_utils-3.7.0-py2.py3-none-any.whl (26 kB)\n",
      "Requirement already satisfied: debugpy>=1.0 in c:\\users\\admin\\anaconda3\\lib\\site-packages (from ipykernel->jupyter>=0.0->ISLP) (1.5.1)\n",
      "Requirement already satisfied: nest-asyncio in c:\\users\\admin\\anaconda3\\lib\\site-packages (from ipykernel->jupyter>=0.0->ISLP) (1.5.6)\n",
      "Requirement already satisfied: psutil in c:\\users\\admin\\anaconda3\\lib\\site-packages (from ipykernel->jupyter>=0.0->ISLP) (5.9.0)\n",
      "Requirement already satisfied: pyzmq>=17 in c:\\users\\admin\\anaconda3\\lib\\site-packages (from ipykernel->jupyter>=0.0->ISLP) (23.2.0)\n",
      "Requirement already satisfied: tornado>=6.1 in c:\\users\\admin\\anaconda3\\lib\\site-packages (from ipykernel->jupyter>=0.0->ISLP) (6.2)\n",
      "Requirement already satisfied: traitlets>=5.4.0 in c:\\users\\admin\\anaconda3\\lib\\site-packages (from ipykernel->jupyter>=0.0->ISLP) (5.7.1)\n",
      "Requirement already satisfied: ipython>=7.23.1 in c:\\users\\admin\\anaconda3\\lib\\site-packages (from ipykernel->jupyter>=0.0->ISLP) (8.10.0)\n",
      "Requirement already satisfied: jupyter-client>=6.1.12 in c:\\users\\admin\\anaconda3\\lib\\site-packages (from ipykernel->jupyter>=0.0->ISLP) (7.4.9)\n",
      "Requirement already satisfied: comm>=0.1.1 in c:\\users\\admin\\anaconda3\\lib\\site-packages (from ipykernel->jupyter>=0.0->ISLP) (0.1.2)\n",
      "Requirement already satisfied: matplotlib-inline>=0.1 in c:\\users\\admin\\anaconda3\\lib\\site-packages (from ipykernel->jupyter>=0.0->ISLP) (0.1.6)\n",
      "Requirement already satisfied: jupyterlab-widgets>=1.0.0 in c:\\users\\admin\\anaconda3\\lib\\site-packages (from ipywidgets->jupyter>=0.0->ISLP) (1.0.0)\n",
      "Requirement already satisfied: ipython-genutils~=0.2.0 in c:\\users\\admin\\anaconda3\\lib\\site-packages (from ipywidgets->jupyter>=0.0->ISLP) (0.2.0)\n",
      "Requirement already satisfied: nbformat>=4.2.0 in c:\\users\\admin\\anaconda3\\lib\\site-packages (from ipywidgets->jupyter>=0.0->ISLP) (5.7.0)\n",
      "Requirement already satisfied: widgetsnbextension~=3.5.0 in c:\\users\\admin\\anaconda3\\lib\\site-packages (from ipywidgets->jupyter>=0.0->ISLP) (3.5.2)\n",
      "Requirement already satisfied: prompt-toolkit>=3.0.30 in c:\\users\\admin\\anaconda3\\lib\\site-packages (from jupyter-console->jupyter>=0.0->ISLP) (3.0.36)\n",
      "Requirement already satisfied: jupyter-core!=5.0.*,>=4.12 in c:\\users\\admin\\anaconda3\\lib\\site-packages (from jupyter-console->jupyter>=0.0->ISLP) (5.2.0)\n",
      "Requirement already satisfied: pygments in c:\\users\\admin\\anaconda3\\lib\\site-packages (from jupyter-console->jupyter>=0.0->ISLP) (2.11.2)\n",
      "Requirement already satisfied: jinja2>=3.0 in c:\\users\\admin\\anaconda3\\lib\\site-packages (from nbconvert->jupyter>=0.0->ISLP) (3.1.2)\n",
      "Requirement already satisfied: mistune<2,>=0.8.1 in c:\\users\\admin\\anaconda3\\lib\\site-packages (from nbconvert->jupyter>=0.0->ISLP) (0.8.4)\n",
      "Requirement already satisfied: beautifulsoup4 in c:\\users\\admin\\anaconda3\\lib\\site-packages (from nbconvert->jupyter>=0.0->ISLP) (4.11.1)\n",
      "Requirement already satisfied: entrypoints>=0.2.2 in c:\\users\\admin\\anaconda3\\lib\\site-packages (from nbconvert->jupyter>=0.0->ISLP) (0.4)\n",
      "Requirement already satisfied: MarkupSafe>=2.0 in c:\\users\\admin\\anaconda3\\lib\\site-packages (from nbconvert->jupyter>=0.0->ISLP) (2.1.1)\n",
      "Requirement already satisfied: pandocfilters>=1.4.1 in c:\\users\\admin\\anaconda3\\lib\\site-packages (from nbconvert->jupyter>=0.0->ISLP) (1.5.0)\n",
      "Requirement already satisfied: defusedxml in c:\\users\\admin\\anaconda3\\lib\\site-packages (from nbconvert->jupyter>=0.0->ISLP) (0.7.1)\n",
      "Requirement already satisfied: nbclient>=0.5.0 in c:\\users\\admin\\anaconda3\\lib\\site-packages (from nbconvert->jupyter>=0.0->ISLP) (0.5.13)\n",
      "Requirement already satisfied: jupyterlab-pygments in c:\\users\\admin\\anaconda3\\lib\\site-packages (from nbconvert->jupyter>=0.0->ISLP) (0.1.2)\n",
      "Requirement already satisfied: tinycss2 in c:\\users\\admin\\anaconda3\\lib\\site-packages (from nbconvert->jupyter>=0.0->ISLP) (1.2.1)\n",
      "Requirement already satisfied: bleach in c:\\users\\admin\\anaconda3\\lib\\site-packages (from nbconvert->jupyter>=0.0->ISLP) (4.1.0)\n",
      "Requirement already satisfied: Send2Trash>=1.8.0 in c:\\users\\admin\\anaconda3\\lib\\site-packages (from notebook->jupyter>=0.0->ISLP) (1.8.0)\n",
      "Requirement already satisfied: prometheus-client in c:\\users\\admin\\anaconda3\\lib\\site-packages (from notebook->jupyter>=0.0->ISLP) (0.14.1)\n",
      "Requirement already satisfied: argon2-cffi in c:\\users\\admin\\anaconda3\\lib\\site-packages (from notebook->jupyter>=0.0->ISLP) (21.3.0)\n",
      "Requirement already satisfied: nbclassic>=0.4.7 in c:\\users\\admin\\anaconda3\\lib\\site-packages (from notebook->jupyter>=0.0->ISLP) (0.5.2)\n",
      "Requirement already satisfied: terminado>=0.8.3 in c:\\users\\admin\\anaconda3\\lib\\site-packages (from notebook->jupyter>=0.0->ISLP) (0.17.1)\n",
      "Requirement already satisfied: qtpy>=2.0.1 in c:\\users\\admin\\anaconda3\\lib\\site-packages (from qtconsole->jupyter>=0.0->ISLP) (2.2.0)\n",
      "Requirement already satisfied: decorator in c:\\users\\admin\\anaconda3\\lib\\site-packages (from ipython>=7.23.1->ipykernel->jupyter>=0.0->ISLP) (5.1.1)\n",
      "Requirement already satisfied: stack-data in c:\\users\\admin\\anaconda3\\lib\\site-packages (from ipython>=7.23.1->ipykernel->jupyter>=0.0->ISLP) (0.2.0)\n",
      "Requirement already satisfied: backcall in c:\\users\\admin\\anaconda3\\lib\\site-packages (from ipython>=7.23.1->ipykernel->jupyter>=0.0->ISLP) (0.2.0)\n",
      "Requirement already satisfied: jedi>=0.16 in c:\\users\\admin\\anaconda3\\lib\\site-packages (from ipython>=7.23.1->ipykernel->jupyter>=0.0->ISLP) (0.18.1)\n",
      "Requirement already satisfied: colorama in c:\\users\\admin\\anaconda3\\lib\\site-packages (from ipython>=7.23.1->ipykernel->jupyter>=0.0->ISLP) (0.4.6)\n",
      "Requirement already satisfied: pickleshare in c:\\users\\admin\\anaconda3\\lib\\site-packages (from ipython>=7.23.1->ipykernel->jupyter>=0.0->ISLP) (0.7.5)\n",
      "Requirement already satisfied: pywin32>=1.0 in c:\\users\\admin\\anaconda3\\lib\\site-packages (from jupyter-core!=5.0.*,>=4.12->jupyter-console->jupyter>=0.0->ISLP) (305.1)\n",
      "Requirement already satisfied: platformdirs>=2.5 in c:\\users\\admin\\anaconda3\\lib\\site-packages (from jupyter-core!=5.0.*,>=4.12->jupyter-console->jupyter>=0.0->ISLP) (2.5.2)\n",
      "Requirement already satisfied: notebook-shim>=0.1.0 in c:\\users\\admin\\anaconda3\\lib\\site-packages (from nbclassic>=0.4.7->notebook->jupyter>=0.0->ISLP) (0.2.2)\n",
      "Requirement already satisfied: jupyter-server>=1.8 in c:\\users\\admin\\anaconda3\\lib\\site-packages (from nbclassic>=0.4.7->notebook->jupyter>=0.0->ISLP) (1.23.4)\n",
      "Requirement already satisfied: fastjsonschema in c:\\users\\admin\\anaconda3\\lib\\site-packages (from nbformat>=4.2.0->ipywidgets->jupyter>=0.0->ISLP) (2.16.2)\n",
      "Requirement already satisfied: jsonschema>=2.6 in c:\\users\\admin\\anaconda3\\lib\\site-packages (from nbformat>=4.2.0->ipywidgets->jupyter>=0.0->ISLP) (4.17.3)\n",
      "Requirement already satisfied: wcwidth in c:\\users\\admin\\anaconda3\\lib\\site-packages (from prompt-toolkit>=3.0.30->jupyter-console->jupyter>=0.0->ISLP) (0.2.5)\n",
      "Requirement already satisfied: pywinpty>=1.1.0 in c:\\users\\admin\\anaconda3\\lib\\site-packages (from terminado>=0.8.3->notebook->jupyter>=0.0->ISLP) (2.0.10)\n",
      "Requirement already satisfied: argon2-cffi-bindings in c:\\users\\admin\\anaconda3\\lib\\site-packages (from argon2-cffi->notebook->jupyter>=0.0->ISLP) (21.2.0)\n",
      "Requirement already satisfied: soupsieve>1.2 in c:\\users\\admin\\anaconda3\\lib\\site-packages (from beautifulsoup4->nbconvert->jupyter>=0.0->ISLP) (2.3.2.post1)\n",
      "Requirement already satisfied: webencodings in c:\\users\\admin\\anaconda3\\lib\\site-packages (from bleach->nbconvert->jupyter>=0.0->ISLP) (0.5.1)\n",
      "Requirement already satisfied: parso<0.9.0,>=0.8.0 in c:\\users\\admin\\anaconda3\\lib\\site-packages (from jedi>=0.16->ipython>=7.23.1->ipykernel->jupyter>=0.0->ISLP) (0.8.3)\n",
      "Requirement already satisfied: pyrsistent!=0.17.0,!=0.17.1,!=0.17.2,>=0.14.0 in c:\\users\\admin\\anaconda3\\lib\\site-packages (from jsonschema>=2.6->nbformat>=4.2.0->ipywidgets->jupyter>=0.0->ISLP) (0.18.0)\n",
      "Requirement already satisfied: attrs>=17.4.0 in c:\\users\\admin\\anaconda3\\lib\\site-packages (from jsonschema>=2.6->nbformat>=4.2.0->ipywidgets->jupyter>=0.0->ISLP) (22.1.0)\n",
      "Requirement already satisfied: anyio<4,>=3.1.0 in c:\\users\\admin\\anaconda3\\lib\\site-packages (from jupyter-server>=1.8->nbclassic>=0.4.7->notebook->jupyter>=0.0->ISLP) (3.5.0)\n",
      "Requirement already satisfied: websocket-client in c:\\users\\admin\\anaconda3\\lib\\site-packages (from jupyter-server>=1.8->nbclassic>=0.4.7->notebook->jupyter>=0.0->ISLP) (0.58.0)\n",
      "Requirement already satisfied: cffi>=1.0.1 in c:\\users\\admin\\anaconda3\\lib\\site-packages (from argon2-cffi-bindings->argon2-cffi->notebook->jupyter>=0.0->ISLP) (1.15.1)\n",
      "Requirement already satisfied: executing in c:\\users\\admin\\anaconda3\\lib\\site-packages (from stack-data->ipython>=7.23.1->ipykernel->jupyter>=0.0->ISLP) (0.8.3)\n",
      "Requirement already satisfied: asttokens in c:\\users\\admin\\anaconda3\\lib\\site-packages (from stack-data->ipython>=7.23.1->ipykernel->jupyter>=0.0->ISLP) (2.0.5)\n",
      "Requirement already satisfied: pure-eval in c:\\users\\admin\\anaconda3\\lib\\site-packages (from stack-data->ipython>=7.23.1->ipykernel->jupyter>=0.0->ISLP) (0.2.2)\n",
      "Requirement already satisfied: sniffio>=1.1 in c:\\users\\admin\\anaconda3\\lib\\site-packages (from anyio<4,>=3.1.0->jupyter-server>=1.8->nbclassic>=0.4.7->notebook->jupyter>=0.0->ISLP) (1.2.0)\n",
      "Requirement already satisfied: idna>=2.8 in c:\\users\\admin\\anaconda3\\lib\\site-packages (from anyio<4,>=3.1.0->jupyter-server>=1.8->nbclassic>=0.4.7->notebook->jupyter>=0.0->ISLP) (3.4)\n",
      "Requirement already satisfied: pycparser in c:\\users\\admin\\anaconda3\\lib\\site-packages (from cffi>=1.0.1->argon2-cffi-bindings->argon2-cffi->notebook->jupyter>=0.0->ISLP) (2.21)\n",
      "Installing collected packages: python-utils, numpy, scipy, progressbar2, pygam, ISLP\n",
      "  Attempting uninstall: numpy\n",
      "    Found existing installation: numpy 1.21.5\n",
      "    Uninstalling numpy-1.21.5:\n",
      "      Successfully uninstalled numpy-1.21.5\n",
      "Note: you may need to restart the kernel to use updated packages.\n"
     ]
    },
    {
     "name": "stderr",
     "output_type": "stream",
     "text": [
      "ERROR: Could not install packages due to an OSError: [WinError 5] Access is denied: 'C:\\\\Users\\\\Admin\\\\anaconda3\\\\Lib\\\\site-packages\\\\~umpy\\\\core\\\\_multiarray_tests.cp39-win_amd64.pyd'\n",
      "Consider using the `--user` option or check the permissions.\n",
      "\n"
     ]
    }
   ],
   "source": [
    "pip install ISLP"
   ]
  },
  {
   "cell_type": "code",
   "execution_count": 3,
   "metadata": {},
   "outputs": [
    {
     "ename": "ModuleNotFoundError",
     "evalue": "No module named 'ISLP'",
     "output_type": "error",
     "traceback": [
      "\u001b[1;31m---------------------------------------------------------------------------\u001b[0m",
      "\u001b[1;31mModuleNotFoundError\u001b[0m                       Traceback (most recent call last)",
      "Cell \u001b[1;32mIn[3], line 2\u001b[0m\n\u001b[0;32m      1\u001b[0m \u001b[38;5;66;03m# importinig libraries\u001b[39;00m\n\u001b[1;32m----> 2\u001b[0m \u001b[38;5;28;01mfrom\u001b[39;00m \u001b[38;5;21;01mISLP\u001b[39;00m\u001b[38;5;21;01m.\u001b[39;00m\u001b[38;5;21;01mmodels\u001b[39;00m \u001b[38;5;28;01mimport\u001b[39;00m ModelSpec \u001b[38;5;28;01mas\u001b[39;00m MS\n\u001b[0;32m      3\u001b[0m \u001b[38;5;28;01mfrom\u001b[39;00m \u001b[38;5;21;01mISLP\u001b[39;00m \u001b[38;5;28;01mimport\u001b[39;00m load_data\n\u001b[0;32m      4\u001b[0m \u001b[38;5;28;01mimport\u001b[39;00m \u001b[38;5;21;01mnumpy\u001b[39;00m \u001b[38;5;28;01mas\u001b[39;00m \u001b[38;5;21;01mnp\u001b[39;00m\n",
      "\u001b[1;31mModuleNotFoundError\u001b[0m: No module named 'ISLP'"
     ]
    }
   ],
   "source": [
    "# importinig libraries\n",
    "from ISLP.models import ModelSpec as MS\n",
    "from ISLP import load_data\n",
    "import numpy as np\n",
    "import pandas as pd\n",
    "import matplotlib.pyplot as plt\n",
    "from matplotlib.pyplot import subplots\n",
    "import seaborn as sns; sns.set()\n",
    "\n",
    "from lifelines import KaplanMeierFitter, CoxPHFitter \n",
    "from lifelines.statistics import logrank_test, multivariate_logrank_test\n",
    "from ISLP import load_data"
   ]
  },
  {
   "cell_type": "markdown",
   "metadata": {},
   "source": [
    "# Brain Cancer dataset\n",
    "- Contains the survival times for patients with primary brain tumors undergoing treatment with stereotactic radiation methods\n",
    "- Conventional status code: 1 = uncensored observation (death) and 0 = censored observation"
   ]
  },
  {
   "cell_type": "code",
   "execution_count": null,
   "metadata": {},
   "outputs": [],
   "source": [
    "BrainCancer = load_data('BrainCancer')\n",
    "BrainCancer.head()\n",
    "# BrainCancer.shape"
   ]
  },
  {
   "cell_type": "markdown",
   "metadata": {},
   "source": [
    "- Predictors: \n",
    "    1. gtv: Gross tumor volume (cm^3)\n",
    "    2. sex\n",
    "    3. Diagnosis: Meningioma, LG glioma, HG glioma and others\n",
    "    4. ki: Karnofsky index\n",
    "    5. loc: Tumor location\n",
    "    6. stereo: Stereotactic methods (SRS and SRT) <br>\n",
    "- Here the time is '$y_{i}$' (time to the *i*the event(censoring/death))"
   ]
  },
  {
   "cell_type": "code",
   "execution_count": null,
   "metadata": {},
   "outputs": [],
   "source": [
    "BrainCancer['sex'].value_counts()"
   ]
  },
  {
   "cell_type": "code",
   "execution_count": null,
   "metadata": {},
   "outputs": [],
   "source": [
    "BrainCancer['diagnosis'].value_counts()"
   ]
  },
  {
   "cell_type": "code",
   "execution_count": null,
   "metadata": {},
   "outputs": [],
   "source": [
    "BrainCancer['status'].value_counts()"
   ]
  },
  {
   "cell_type": "markdown",
   "metadata": {},
   "source": [
    "So, the status indicates that 35 patients died before the end of the study"
   ]
  },
  {
   "cell_type": "code",
   "execution_count": null,
   "metadata": {},
   "outputs": [],
   "source": [
    "# Creating new object\n",
    "km = KaplanMeierFitter()\n",
    "# Fitting the data to the estimator and visualizing the survival curve\n",
    "# Pointwise Confidence interval is set to 90% by default\n",
    "km_brain = km.fit(BrainCancer['time'], BrainCancer['status'])\n",
    "km_brain.plot(label = 'Kalpan Meier estimate')\n",
    "plt.xlabel('Time in months')\n",
    "plt.ylabel('Estimated probability of Survival')\n",
    "plt.title('Survival curve for Brain Cancer')\n"
   ]
  },
  {
   "cell_type": "markdown",
   "metadata": {},
   "source": [
    "# Kaplan-Meier survival curve - sex-stratified"
   ]
  },
  {
   "cell_type": "code",
   "execution_count": null,
   "metadata": {},
   "outputs": [],
   "source": [
    "# Initializing a directory to store data frames for each sex category\n",
    "by_sex = {}\n",
    "\n",
    "for sex, df in BrainCancer.groupby('sex'):\n",
    "    by_sex[sex] = df\n",
    "    # Fitting the data to the estimator and visualizing the survival curve\n",
    "    km_sex = km.fit(df['time'], df['status'])\n",
    "    km_sex.plot(label = 'Sex=%s' % sex)\n",
    "    plt.xlabel('Time in months')\n",
    "    plt.ylabel('Estimated probability of Survival')"
   ]
  },
  {
   "cell_type": "code",
   "execution_count": null,
   "metadata": {},
   "outputs": [],
   "source": [
    "by_sex\n",
    "# by_sex['Female']\n",
    "# by_sex['Male']"
   ]
  },
  {
   "cell_type": "markdown",
   "metadata": {},
   "source": [
    "# Log-Rank Test <br>\n",
    "Comparing survival distributions between two groups\n",
    "\n"
   ]
  },
  {
   "cell_type": "code",
   "execution_count": null,
   "metadata": {},
   "outputs": [],
   "source": [
    "logrank_test(by_sex['Male']['time'], by_sex['Female']['time'], by_sex['Male']['status'], by_sex['Female']['status'])"
   ]
  },
  {
   "cell_type": "markdown",
   "metadata": {},
   "source": [
    "The p-value = 0.23. So, there is no significant difference between the survival distributions of the two groups"
   ]
  },
  {
   "cell_type": "markdown",
   "metadata": {},
   "source": [
    "# Cox Proportional Hazards Model <br>"
   ]
  },
  {
   "cell_type": "code",
   "execution_count": null,
   "metadata": {},
   "outputs": [],
   "source": [
    "coxph = CoxPHFitter\n",
    "sex_df = BrainCancer[['time', 'status', 'sex']]\n",
    "# Design matrix for the Cox model using model specification class (MS) with sex as the only predictor\n",
    "model_df = MS(['time', 'status', 'sex'],intercept=False).fit_transform(sex_df)\n",
    "cox_fit = coxph().fit(model_df , 'time','status')\n",
    "# cox_fit.summary[['coef', 'se(coef)', 'p']]\n",
    "cox_fit.summary"
   ]
  },
  {
   "cell_type": "code",
   "execution_count": null,
   "metadata": {},
   "outputs": [],
   "source": [
    "# Null model (with no features)\n",
    "cox_fit.log_likelihood_ratio_test()"
   ]
  },
  {
   "cell_type": "markdown",
   "metadata": {},
   "source": [
    "- p-value from both the cox model(with one predictor, sex) and the null model suggests that adding the 'sex' predictor to the model did not lead to a significant increase in the model's ability to explain the observed survival outcomes"
   ]
  },
  {
   "cell_type": "markdown",
   "metadata": {},
   "source": [
    "### Fitting a model that makes use of additional predictors"
   ]
  },
  {
   "cell_type": "code",
   "execution_count": null,
   "metadata": {},
   "outputs": [],
   "source": [
    "# cleaning the data\n",
    "cleaned = BrainCancer.dropna()\n",
    "# Design matrix\n",
    "all_MS = MS(cleaned.columns , intercept=False)\n",
    "all_df = all_MS.fit_transform(cleaned)\n",
    "fit_all = coxph().fit(all_df ,\n",
    "'time',\n",
    "'status')\n",
    "fit_all.summary\n",
    "# fit_all.summary[['coef', 'se(coef)', 'p']]"
   ]
  },
  {
   "cell_type": "markdown",
   "metadata": {},
   "source": [
    "### Survival curves for each diagnosis category\n",
    " - Partial dependence plots: Relationship between a predictor variable and the model's prediction while holding the values of other predictors constant(at their average values or commonly used values)\n",
    " -  Mode for categorical columns ('diagnosis') and the mean for numerical columns are calculated "
   ]
  },
  {
   "cell_type": "code",
   "execution_count": null,
   "metadata": {},
   "outputs": [],
   "source": [
    "# Creating a list of all uique diagnosis\n",
    "levels = cleaned['diagnosis'].unique()\n",
    "def representative(series):\n",
    "    if hasattr(series.dtype , 'categories'):\n",
    "        return pd.Series.mode(series)\n",
    "    else:\n",
    "        return series.mean()\n",
    "modal_data = cleaned.apply(representative , axis=0)"
   ]
  },
  {
   "cell_type": "code",
   "execution_count": null,
   "metadata": {},
   "outputs": [],
   "source": [
    "modal_data.shape"
   ]
  },
  {
   "cell_type": "code",
   "execution_count": null,
   "metadata": {},
   "outputs": [],
   "source": [
    "modal_df = pd.DataFrame([modal_data.iloc[0] for _ in range(len(levels))])\n",
    "modal_df['diagnosis'] = levels\n",
    "# modal_df"
   ]
  },
  {
   "cell_type": "code",
   "execution_count": null,
   "metadata": {},
   "outputs": [],
   "source": [
    "modal_X = all_MS.transform(modal_df)\n",
    "modal_X.index = levels\n",
    "# modal_X"
   ]
  },
  {
   "cell_type": "code",
   "execution_count": null,
   "metadata": {},
   "outputs": [],
   "source": [
    "predicted_survival = fit_all.predict_survival_function(modal_X)\n",
    "predicted_survival.plot()\n",
    "plt.xlabel('Time in months')\n",
    "plt.ylabel('Estimated probability of Survival')\n",
    "\n",
    "# predicted_survival"
   ]
  },
  {
   "cell_type": "markdown",
   "metadata": {},
   "source": [
    "# Follow the link for the [Tutorial](https://drive.google.com/file/d/14QWqblU0LXq3ZM1_-VPBqFyFvso_UqHG/view?usp=drive_link) video"
   ]
  }
 ],
 "metadata": {
  "kernelspec": {
   "display_name": "Python 3 (ipykernel)",
   "language": "python",
   "name": "python3"
  },
  "language_info": {
   "codemirror_mode": {
    "name": "ipython",
    "version": 3
   },
   "file_extension": ".py",
   "mimetype": "text/x-python",
   "name": "python",
   "nbconvert_exporter": "python",
   "pygments_lexer": "ipython3",
   "version": "3.9.16"
  }
 },
 "nbformat": 4,
 "nbformat_minor": 2
}
