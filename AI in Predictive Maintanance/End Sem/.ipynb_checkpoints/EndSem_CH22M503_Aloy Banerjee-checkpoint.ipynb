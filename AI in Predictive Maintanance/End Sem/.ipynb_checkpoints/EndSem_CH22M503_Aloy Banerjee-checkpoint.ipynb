{
 "cells": [
  {
   "cell_type": "markdown",
   "id": "395baf23",
   "metadata": {},
   "source": [
    "<h2 style='text-align: center;'>ID5004: AI in Predictive Maintenance, Reliability, and Warranty : End Sem</h2>"
   ]
  },
  {
   "cell_type": "markdown",
   "id": "23ad1575",
   "metadata": {},
   "source": [
    "<h3 style='text-align: center;'>Author - Aloy Banerjee</h3>\n",
    "<h3 style='text-align: center;'>Roll No. CH22M503</h3>"
   ]
  },
  {
   "cell_type": "code",
   "execution_count": 90,
   "id": "9e354ae8",
   "metadata": {},
   "outputs": [],
   "source": [
    "# Importing core libraries\n",
    "import numpy as np\n",
    "import pandas as pd\n",
    "import random\n",
    "\n",
    "# Importing visualization libraries\n",
    "import matplotlib.pyplot as plt\n",
    "from matplotlib.pyplot import subplots\n",
    "import seaborn as sns\n",
    "from matplotlib.patches import Ellipse\n",
    "from mpl_toolkits.mplot3d import Axes3D\n",
    "from matplotlib import patches\n",
    "\n",
    "# Importing machine learning libraries\n",
    "from sklearn.model_selection import train_test_split\n",
    "from sklearn.preprocessing import StandardScaler, MinMaxScaler\n",
    "from sklearn.decomposition import PCA\n",
    "from sklearn.metrics import r2_score\n",
    "from sklearn.linear_model import LinearRegression\n",
    "from sklearn.preprocessing import PolynomialFeatures\n",
    "\n",
    "# Importing statistical libraries\n",
    "from scipy.stats import f, chi2\n",
    "from sympy import solve, symbols, N\n",
    "from scipy.integrate import quad\n",
    "\n",
    "# Importing survival analysis libraries\n",
    "from lifelines import KaplanMeierFitter, CoxPHFitter, WeibullFitter, WeibullAFTFitter, ExponentialFitter, LogNormalFitter, LogLogisticFitter\n",
    "from lifelines.utils import median_survival_times\n",
    "from lifelines.statistics import proportional_hazard_test,logrank_test, multivariate_logrank_test\n",
    "from ISLP.models import ModelSpec as MS\n",
    "from ISLP import load_data"
   ]
  },
  {
   "cell_type": "markdown",
   "id": "7076d1be",
   "metadata": {},
   "source": [
    "<h3 style='text-align: center;'>Part 1</h3>"
   ]
  },
  {
   "cell_type": "markdown",
   "id": "9a15826a",
   "metadata": {},
   "source": [
    "### Q1"
   ]
  },
  {
   "cell_type": "code",
   "execution_count": 59,
   "id": "af14721e",
   "metadata": {},
   "outputs": [],
   "source": [
    "tk = np.array([0, 1, 2, 3, 4])\n",
    "yk = np.array([1.87, 5.4, 6.86, 12.76, 19.89])"
   ]
  },
  {
   "cell_type": "code",
   "execution_count": 60,
   "id": "37f4d34c",
   "metadata": {},
   "outputs": [],
   "source": [
    "def design_matrix(x, L=1):\n",
    "    return np.column_stack((np.ones(len(x)), x))\n",
    "\n",
    "def predicted_values(x, theta):\n",
    "    X = design_matrix(x)\n",
    "    return X @ theta\n",
    "\n",
    "def true_values(x, theta):\n",
    "    X = design_matrix(x)\n",
    "    return X @ theta"
   ]
  },
  {
   "cell_type": "code",
   "execution_count": 61,
   "id": "6cd544da",
   "metadata": {},
   "outputs": [],
   "source": [
    "x_observed = tk\n",
    "y_observed = yk"
   ]
  },
  {
   "cell_type": "code",
   "execution_count": 62,
   "id": "3216e912",
   "metadata": {},
   "outputs": [],
   "source": [
    "theta_estimated = np.linalg.lstsq(design_matrix(x_observed,L), y_observed, rcond=None)[0]"
   ]
  },
  {
   "cell_type": "code",
   "execution_count": 63,
   "id": "8b0c028c",
   "metadata": {},
   "outputs": [
    {
     "data": {
      "text/plain": [
       "array([0.676, 4.34 ])"
      ]
     },
     "execution_count": 63,
     "metadata": {},
     "output_type": "execute_result"
    }
   ],
   "source": [
    "theta_estimated"
   ]
  },
  {
   "cell_type": "markdown",
   "id": "d4f9cf71",
   "metadata": {},
   "source": [
    "### Q16"
   ]
  },
  {
   "cell_type": "code",
   "execution_count": 64,
   "id": "cc69a783",
   "metadata": {},
   "outputs": [
    {
     "name": "stdout",
     "output_type": "stream",
     "text": [
      "T Squared Value:  1.6237874863769912\n"
     ]
    }
   ],
   "source": [
    "# Create a numpy array representing the covariance matrix\n",
    "covarince_mat = np.array([[1.01, 0.25, -0.02], [0.025, 1.01, 0.04], [-0.017, 0.04, 1.01]])\n",
    "# Calculate the eigenvalues and corresponding eigenvectors of the covariance matrix\n",
    "eigenvalues, eigenvectors = np.linalg.eig(covarince_mat)\n",
    "# Sort the indices of the eigenvalues in descending order\n",
    "eigenvalue_indices = np.argsort(eigenvalues)[::-1]\n",
    "# Create a sorted list of eigenvalues\n",
    "eigenvalues_sorted = eigenvalues[eigenvalue_indices]\n",
    "# Create a sorted matrix of eigenvectors according to the sorted eigenvalues\n",
    "eigenvectors_sorted = eigenvectors[:, eigenvalue_indices]\n",
    "# Create a diagonal matrix of the sorted eigenvalues\n",
    "Lambda = np.diag(eigenvalues_sorted)\n",
    "# Create an inverse of the diagonal matrix Lambda by taking the reciprocal of each element on the diagonal \n",
    "# This is equivalent to creating an inverse of a diagonal matrix, which is simply the reciprocal of \n",
    "# each diagonal element\n",
    "Lambda_inv = np.diag(1 / np.diag(Lambda)) \n",
    "# Define a new data point for which we are calculating the Hotelling's T^2 statistic\n",
    "new_data_point = np.array([0.724, 0.649, 1.857])\n",
    "# Calculate the centered and scaled data point 'Z' by multiplying the inverse square root of Lambda,\n",
    "# transposed sorted eigenvectors,\n",
    "# and transposed new data point\n",
    "Z = ((np.linalg.inv(np.sqrt(Lambda))).dot(eigenvectors_sorted.T)).dot(new_data_point.T)\n",
    "# Calculate the Hotelling's T^2 statistic by performing the dot product of transposed Z and Z itself\n",
    "# This is equivalent to summing the square of each element of Z\n",
    "T_squared = Z.T @ Z\n",
    "# Print the computed Hotelling's T^2 statistic\n",
    "print('T Squared Value: ', T_squared)"
   ]
  },
  {
   "cell_type": "markdown",
   "id": "598cda1f",
   "metadata": {},
   "source": [
    "### Q18"
   ]
  },
  {
   "cell_type": "code",
   "execution_count": 65,
   "id": "58f9b240",
   "metadata": {},
   "outputs": [],
   "source": [
    "covarince_mat_1 = np.array([[1.01, 0.25, -0.02], [0.025, 1.01, 0.04], [-0.017, 0.04, 1.01]])\n",
    "covarince_mat_2 = np.array([[11, 2, -2], [1, 3, 4], [-1, 2, 1]])\n",
    "\n",
    "def pca_similarity_index(covariance_mat1, covariance_mat2):\n",
    "    _, eigenvecs1 = np.linalg.eig(covariance_mat1)\n",
    "    _, eigenvecs2 = np.linalg.eig(covariance_mat2)\n",
    "\n",
    "    # Sort the eigenvalues and eigenvectors in descending order\n",
    "    idx1 = np.argsort(eigenvecs1)[::-1]\n",
    "    eigenvecs1_sorted = eigenvecs1[:, idx1]\n",
    "    idx2 = np.argsort(eigenvecs2)[::-1]\n",
    "    eigenvecs2_sorted = eigenvecs2[:, idx2]\n",
    "\n",
    "    # Compute the PCA similarity index\n",
    "    similarity_index = np.sum(np.abs(np.dot(eigenvecs1_sorted, eigenvecs2_sorted.T)))\n",
    "\n",
    "    return similarity_index"
   ]
  },
  {
   "cell_type": "code",
   "execution_count": 66,
   "id": "a0445869",
   "metadata": {},
   "outputs": [
    {
     "name": "stdout",
     "output_type": "stream",
     "text": [
      "Similarity Index: 34.261999058555546\n"
     ]
    }
   ],
   "source": [
    "similarity_index = pca_similarity_index(covarince_mat_1, covarince_mat_2)\n",
    "print(\"Similarity Index:\", similarity_index)"
   ]
  },
  {
   "cell_type": "markdown",
   "id": "60aefe3b",
   "metadata": {},
   "source": [
    "<h3 style='text-align: center;'>Part 2</h3>"
   ]
  },
  {
   "cell_type": "markdown",
   "id": "a7804c58",
   "metadata": {},
   "source": [
    "### Q2.b"
   ]
  },
  {
   "cell_type": "code",
   "execution_count": 96,
   "id": "4742b639",
   "metadata": {},
   "outputs": [
    {
     "name": "stdout",
     "output_type": "stream",
     "text": [
      "Answer Q2b:\n",
      "-----------\n",
      "\n",
      "x1: -0.6000000000000005\n",
      "x2: 2.1999999999999997\n"
     ]
    }
   ],
   "source": [
    "t1 = np.array([3, 2, 1])\n",
    "t2 = np.array([-1, 1, -2])\n",
    "y = np.array([-4, 1, -5])\n",
    "\n",
    "def design_matrix(x1, x2, L=1):\n",
    "    return np.column_stack((x1, x2))\n",
    "\n",
    "def predicted_values(x, theta):\n",
    "    X = design_matrix(x)\n",
    "    return X @ theta\n",
    "\n",
    "def true_values(x, theta):\n",
    "    X = design_matrix(x)\n",
    "    return X @ theta\n",
    "\n",
    "x1_observed = t1\n",
    "x2_observed = t2\n",
    "y_observed = y\n",
    "\n",
    "theta_estimated = np.linalg.lstsq(design_matrix(x1_observed, x2_observed), y_observed, rcond=None)[0]\n",
    "\n",
    "print('Answer Q2b:\\n-----------\\n')\n",
    "print('x1:', theta_estimated[0])\n",
    "print('x2:', theta_estimated[1])"
   ]
  },
  {
   "cell_type": "markdown",
   "id": "092d801d",
   "metadata": {},
   "source": [
    "### Q6 "
   ]
  },
  {
   "cell_type": "code",
   "execution_count": 55,
   "id": "75ba48cf",
   "metadata": {},
   "outputs": [
    {
     "name": "stdout",
     "output_type": "stream",
     "text": [
      "Calculated Parameters:\n",
      "----------------------\n",
      "Parameter 1: 5.84\n",
      "Parameter 2: 0.45\n",
      "Parameter 3: 0.03\n"
     ]
    }
   ],
   "source": [
    "# Observed data\n",
    "time1 = np.array([0, 1, 4, 9, 14])  # Time data points 1\n",
    "time2 = np.array([0, 1, 8, 17, 64])  # Time data points 2\n",
    "output_data = np.array([6, 6.3, 7.6, 10.5, 14])  # Observed output data\n",
    "\n",
    "# Function to create the design matrix\n",
    "def design_matrix(x1, x2, L=1):\n",
    "    return np.column_stack((np.ones(len(x1)), x1, x2))\n",
    "\n",
    "# Assign observed data to local variables\n",
    "observed_time1 = time1\n",
    "observed_time2 = time2\n",
    "observed_output = output_data\n",
    "\n",
    "# Calculate the estimated parameters using least squares linear regression\n",
    "estimated_params = np.linalg.lstsq(design_matrix(observed_time1, observed_time2), observed_output, rcond=None)[0]\n",
    "\n",
    "# Output the calculated parameters\n",
    "print('Calculated Parameters:')\n",
    "print('----------------------')\n",
    "print(f'Parameter 1: {estimated_params[0]:.2f}')  # Print estimated parameter 1 with 2 decimal places\n",
    "print(f'Parameter 2: {estimated_params[1]:.2f}')  # Print estimated parameter 2 with 2 decimal places\n",
    "print(f'Parameter 3: {estimated_params[2]:.2f}')  # Print estimated parameter 3 with 2 decimal places\n"
   ]
  },
  {
   "cell_type": "markdown",
   "id": "27be68d7",
   "metadata": {},
   "source": [
    "## Q7"
   ]
  },
  {
   "cell_type": "code",
   "execution_count": 92,
   "id": "0aa23b4e",
   "metadata": {},
   "outputs": [
    {
     "data": {
      "image/png": "[encoded data removed]",
      "text/plain": [
       "<Figure size 1000x400 with 2 Axes>"
      ]
     },
     "metadata": {},
     "output_type": "display_data"
    },
    {
     "name": "stdout",
     "output_type": "stream",
     "text": [
      "Log-rank test p-value: 0.09194505516451323\n",
      "T squared for x1: [[5.12665231]]\n",
      "T squared for x2: [[4.9746185]]\n"
     ]
    },
    {
     "data": {
      "image/png": "[encoded data removed]",
      "text/plain": [
       "<Figure size 640x480 with 1 Axes>"
      ]
     },
     "metadata": {},
     "output_type": "display_data"
    },
    {
     "name": "stdout",
     "output_type": "stream",
     "text": [
      "T^2 threshold: 9.236356899781123\n"
     ]
    },
    {
     "data": {
      "image/png": "[encoded data removed]",
      "text/plain": [
       "<Figure size 640x480 with 1 Axes>"
      ]
     },
     "metadata": {},
     "output_type": "display_data"
    },
    {
     "name": "stdout",
     "output_type": "stream",
     "text": [
      "The Q statistics are:\n",
      " [5.03019794e-29 3.42348493e-29 7.52315401e-29 1.95500543e-29\n",
      " 6.43572332e-29 8.20641311e-29 2.37507610e-28 1.61272156e-29\n",
      " 2.44777025e-29 4.64918663e-29 8.00731552e-29 1.13957059e-29\n",
      " 4.36232112e-30 2.33685102e-28 3.56735251e-29 1.24680051e-28\n",
      " 9.24298133e-29 2.77449064e-29 3.77738576e-29 8.68377773e-29\n",
      " 3.58095728e-29 1.35204304e-28 2.27702994e-29 8.61564654e-29\n",
      " 1.95656296e-29 2.01113640e-28 5.57096451e-29 7.99217631e-29\n",
      " 2.69134592e-29 1.26493176e-28 7.55891551e-29 2.01579902e-28\n",
      " 2.07605542e-28 1.92126439e-28 8.30273174e-30 3.04524267e-29\n",
      " 7.25206161e-29 9.97088384e-29 2.48529015e-29 1.10847445e-28\n",
      " 8.92702168e-29 1.79482178e-29 1.21223865e-28 4.35861221e-29\n",
      " 7.92750737e-29 1.42033775e-29 1.13820640e-28 1.54188071e-28\n",
      " 2.97465395e-29 2.17571998e-28 7.76046209e-29 5.83416452e-29\n",
      " 8.01226956e-30 1.40519820e-28 1.85320480e-28 1.44348435e-29\n",
      " 1.85630710e-29 4.86389427e-29 1.00512525e-29 4.62460499e-29\n",
      " 2.15198232e-29 2.54753023e-29 1.36232221e-29 1.72797882e-28\n",
      " 3.35039529e-29 2.68792360e-29 6.46636897e-29 3.70379642e-29\n",
      " 1.03233703e-28 2.41599470e-28 2.24469286e-28 1.61096424e-28\n",
      " 5.97635296e-29 1.06605888e-29 6.15807488e-29 4.69796395e-29\n",
      " 1.88523147e-29 3.35947928e-29 1.50970320e-28 1.74916322e-29\n",
      " 4.64946953e-29 3.78537962e-29 1.95506378e-29 2.28960346e-29\n",
      " 9.70022762e-29 3.49060296e-29 1.65284665e-28 5.17104866e-29\n",
      " 1.16138022e-28 1.56699980e-28 6.90327961e-29 6.61151754e-29\n",
      " 3.11657700e-29 5.98403044e-29 3.95411248e-29 4.47618042e-29\n",
      " 6.83309926e-29 1.50118473e-28 1.15572646e-28 9.65438369e-29]\n"
     ]
    },
    {
     "data": {
      "image/png": "[encoded data removed]",
      "text/plain": [
       "<Figure size 640x480 with 1 Axes>"
      ]
     },
     "metadata": {},
     "output_type": "display_data"
    }
   ],
   "source": [
    "# Load the data\n",
    "data = pd.read_csv('sample_classification_3.csv')\n",
    "\n",
    "# Defining the dependent and independent variables\n",
    "X = data.drop(axis=1, columns='target')\n",
    "y = data['target']\n",
    "\n",
    "X_arr = np.array(X)\n",
    "\n",
    "# Autoscaling and visualization\n",
    "X_scaled = preprocessing.scale(X_arr)\n",
    "\n",
    "# Plot histograms\n",
    "fig, axes = plt.subplots(1, 2, figsize=(10, 4))\n",
    "\n",
    "# Plot original data\n",
    "axes[0].hist(X_arr.flatten(), bins=20, color='blue', alpha=0.5)\n",
    "axes[0].set_title('Original Data')\n",
    "\n",
    "# Plot autoscaled data\n",
    "axes[1].hist(X_scaled.flatten(), bins=20, color='red', alpha=0.5)\n",
    "axes[1].set_title('Autoscaled Data')\n",
    "\n",
    "# Set plot labels and layout\n",
    "plt.tight_layout()\n",
    "plt.show()\n",
    "\n",
    "# Calculating sample covariance\n",
    "cov_matrix = np.cov(X_scaled.T)\n",
    "\n",
    "# Perform eigenvalue decomposition\n",
    "eigenvalues, eigenvectors = np.linalg.eig(cov_matrix)\n",
    "\n",
    "# Sort eigenvalues and eigenvectors in descending order\n",
    "eigenvalue_indices = np.argsort(eigenvalues)[::-1]\n",
    "eigenvalues_sorted = eigenvalues[eigenvalue_indices]\n",
    "eigenvectors_sorted = eigenvectors[:, eigenvalue_indices]\n",
    "\n",
    "Lambda = np.diag(eigenvalues_sorted)\n",
    "\n",
    "Lambda_inv = np.diag(1 / np.diag(Lambda))\n",
    "\n",
    "V = eigenvectors_sorted\n",
    "V_T = eigenvectors_sorted.T\n",
    "\n",
    "# Calculate T^2 statistic for each data point\n",
    "t_squared_values_train = []\n",
    "for i in range(len(X_scaled)):\n",
    "    x = X_scaled[i, :].reshape((5, 1))\n",
    "    t_squared = x.T @ V @ Lambda_inv @ V.T @ x\n",
    "    t_squared_values_train.append(t_squared)\n",
    "\n",
    "# Log-rank test p-value\n",
    "results = chi2.sf(np.max(t_squared_values_train), df=5)\n",
    "print(\"Log-rank test p-value:\", results)\n",
    "\n",
    "# Outlier threshold\n",
    "alpha = 0.1\n",
    "n = X_scaled.shape[0]\n",
    "a = 5\n",
    "f_alpha = f.ppf(1 - alpha, a, n - a - 1)\n",
    "threshold_outl = ((n - 1) ** 2 * (a / (n - a - 1)) * f_alpha) / (n * (1 + (a / (n - a - 1))))\n",
    "\n",
    "x1 = np.array([12.91, 11.16, 4.590, 13.17, 5.166])\n",
    "x1_scaled = preprocessing.scale(x1.reshape(-1, 1))\n",
    "\n",
    "# Calculating T squared for x1\n",
    "T_2 = x1_scaled.T @ V @ Lambda_inv @ V.T @ x1_scaled\n",
    "print(\"T squared for x1:\", T_2)\n",
    "\n",
    "x2 = np.array([2.826, 7.106, 47.29, 9.46, 1.548])\n",
    "x2_scaled = preprocessing.scale(x2.reshape(-1, 1))\n",
    "\n",
    "# Calculating T squared for x2\n",
    "T_2 = x2_scaled.T @ V @ Lambda_inv @ V.T @ x2_scaled\n",
    "print(\"T squared for x2:\", T_2)\n",
    "\n",
    "# Perform PCA on the dataset\n",
    "pca = PCA()\n",
    "X_pca = pca.fit_transform(X_scaled)\n",
    "\n",
    "# Plot cumulative variance explained by principal components\n",
    "plt.plot(range(1, 6), np.cumsum(pca.explained_variance_ratio_ * 100))\n",
    "plt.axhline(y=95, color='r', linestyle='--', label='95% threshold')\n",
    "plt.xlabel('No of PCs')\n",
    "plt.ylabel('Cumulative Variance explained')\n",
    "plt.legend()\n",
    "plt.show()\n",
    "\n",
    "# T^2 threshold\n",
    "confidence_level = 0.9\n",
    "T_2_alpha = chi2.ppf(confidence_level, df=5)\n",
    "print(\"T^2 threshold:\", T_2_alpha)\n",
    "\n",
    "# New data points\n",
    "x_new = np.array([[12.91, 11.16, 4.590, 13.17, 5.166], [2.826, 7.106, 47.29, 9.46, 1.548]])\n",
    "x_new_scaled = preprocessing.scale(x_new)\n",
    "\n",
    "# Transform new data using PCA\n",
    "X_pca_test = pca.transform(x_new_scaled)\n",
    "y_labels = [i for i in y]\n",
    "\n",
    "# Creating a scatter plot of the transformed data\n",
    "sns.scatterplot(x=X_pca_test[:, 0], y=X_pca_test[:, 1])\n",
    "\n",
    "# Adding the T2 threshold ellipse\n",
    "ellipse = Ellipse(xy=np.mean(X_pca_test, axis=0), width=2 * np.sqrt(T_2_alpha) * np.sqrt(pca.explained_variance_ratio_[0]),\n",
    "                  height=2 * np.sqrt(T_2_alpha) * np.sqrt(pca.explained_variance_ratio_[1]), edgecolor='red', facecolor='none',\n",
    "                  label='$T^2$ Threshold')\n",
    "\n",
    "# Adding the ellipse to the plot\n",
    "plt.gca().add_patch(ellipse)\n",
    "plt.xlabel('PC1')\n",
    "plt.ylabel('PC2')\n",
    "plt.title('PCA of the given dataset')\n",
    "plt.legend(bbox_to_anchor=(1.05, 1.0), loc='upper left')\n",
    "\n",
    "# Show the plot\n",
    "plt.show()\n",
    "\n",
    "# Calculating the Q statistics\n",
    "I = np.identity(5)\n",
    "Q_stat_values = []\n",
    "for data_point in X_scaled:\n",
    "    r = (I - V @ V_T) @ data_point.reshape((5, 1))\n",
    "    Q = r.T @ r\n",
    "    Q_stat_values.append(Q[0][0])\n",
    "\n",
    "# Converting the Q statistics to a numpy array\n",
    "Q_stat_values = np.array(Q_stat_values)\n",
    "\n",
    "# Printing the Q statistics\n",
    "print(\"The Q statistics are:\\n\", Q_stat_values)\n",
    "\n",
    "# Plotting the Q statistics\n",
    "plt.scatter(range(len(Q_stat_values)), Q_stat_values)\n",
    "plt.xlabel('Data point index')\n",
    "plt.ylabel('Q statistics')\n",
    "plt.show()\n"
   ]
  },
  {
   "cell_type": "markdown",
   "id": "575b5597",
   "metadata": {},
   "source": [
    "## Q8"
   ]
  },
  {
   "cell_type": "code",
   "execution_count": 75,
   "id": "6cba5e15",
   "metadata": {},
   "outputs": [],
   "source": [
    "data = pd.read_csv('Q2_odd.csv')"
   ]
  },
  {
   "cell_type": "markdown",
   "id": "a91dbf17",
   "metadata": {},
   "source": [
    "#### a. Plot the survival curve for the dataset"
   ]
  },
  {
   "cell_type": "code",
   "execution_count": 82,
   "id": "3b25adbd",
   "metadata": {},
   "outputs": [
    {
     "data": {
      "text/plain": [
       "Text(0.5, 1.0, 'Survival curve')"
      ]
     },
     "execution_count": 82,
     "metadata": {},
     "output_type": "execute_result"
    },
    {
     "data": {
      "image/png": "[encoded data removed]",
      "text/plain": [
       "<Figure size 640x480 with 1 Axes>"
      ]
     },
     "metadata": {},
     "output_type": "display_data"
    }
   ],
   "source": [
    "# Creating new object\n",
    "km = KaplanMeierFitter()\n",
    "\n",
    "# Fitting the data to the estimator and visualizing the survival curve\n",
    "# Pointwise Confidence interval is set to 90% by default\n",
    "km_brain = km.fit(data['time'], data['status'])\n",
    "km_brain.plot(label='Kaplan Meier estimate')\n",
    "\n",
    "plt.xlabel('Time in months')\n",
    "plt.ylabel('Estimated probability of Survival')\n",
    "plt.title('Survival curve')"
   ]
  },
  {
   "cell_type": "code",
   "execution_count": 83,
   "id": "6857f23f",
   "metadata": {},
   "outputs": [
    {
     "data": {
      "image/png": "[encoded data removed]",
      "text/plain": [
       "<Figure size 640x480 with 1 Axes>"
      ]
     },
     "metadata": {},
     "output_type": "display_data"
    }
   ],
   "source": [
    "# Initializing a directory to store data frames for each sex category\n",
    "by_mech = {}\n",
    "\n",
    "for sex, df in data.groupby('posres'):\n",
    "    by_mech[sex] = df\n",
    "    # Fitting the data to the estimator and visualizing the survival curve\n",
    "    km_sex = km.fit(df['time'], df['status'])\n",
    "    km_sex.plot(label = 'Sex=%s' % sex)\n",
    "    plt.xlabel('Time in months')\n",
    "    plt.ylabel('Estimated probability of Survival')\n",
    "\n",
    "\n",
    "# Add legend to differentiate between different categories\n",
    "plt.legend()\n",
    "plt.show()"
   ]
  },
  {
   "cell_type": "markdown",
   "id": "528397f0",
   "metadata": {},
   "source": [
    "#### b. Perform log-rank test and report the p-value"
   ]
  },
  {
   "cell_type": "code",
   "execution_count": 78,
   "id": "8ce8b534",
   "metadata": {},
   "outputs": [
    {
     "data": {
      "text/html": [
       "<div>\n",
       "<style scoped>\n",
       "    .dataframe tbody tr th:only-of-type {\n",
       "        vertical-align: middle;\n",
       "    }\n",
       "\n",
       "    .dataframe tbody tr th {\n",
       "        vertical-align: top;\n",
       "    }\n",
       "\n",
       "    .dataframe thead th {\n",
       "        text-align: right;\n",
       "    }\n",
       "</style>\n",
       "<table border=\"1\" class=\"dataframe\">\n",
       "  <tbody>\n",
       "    <tr>\n",
       "      <th>t_0</th>\n",
       "      <td>-1</td>\n",
       "    </tr>\n",
       "    <tr>\n",
       "      <th>null_distribution</th>\n",
       "      <td>chi squared</td>\n",
       "    </tr>\n",
       "    <tr>\n",
       "      <th>degrees_of_freedom</th>\n",
       "      <td>1</td>\n",
       "    </tr>\n",
       "    <tr>\n",
       "      <th>test_name</th>\n",
       "      <td>logrank_test</td>\n",
       "    </tr>\n",
       "  </tbody>\n",
       "</table>\n",
       "</div><table border=\"1\" class=\"dataframe\">\n",
       "  <thead>\n",
       "    <tr style=\"text-align: right;\">\n",
       "      <th></th>\n",
       "      <th>test_statistic</th>\n",
       "      <th>p</th>\n",
       "      <th>-log2(p)</th>\n",
       "    </tr>\n",
       "  </thead>\n",
       "  <tbody>\n",
       "    <tr>\n",
       "      <th>0</th>\n",
       "      <td>0.00</td>\n",
       "      <td>0.97</td>\n",
       "      <td>0.05</td>\n",
       "    </tr>\n",
       "  </tbody>\n",
       "</table>"
      ],
      "text/latex": [
       "\\begin{tabular}{lrrr}\n",
       " & test_statistic & p & -log2(p) \\\\\n",
       "0 & 0.00 & 0.97 & 0.05 \\\\\n",
       "\\end{tabular}\n"
      ],
      "text/plain": [
       "<lifelines.StatisticalResult: logrank_test>\n",
       "               t_0 = -1\n",
       " null_distribution = chi squared\n",
       "degrees_of_freedom = 1\n",
       "         test_name = logrank_test\n",
       "\n",
       "---\n",
       " test_statistic    p  -log2(p)\n",
       "           0.00 0.97      0.05"
      ]
     },
     "execution_count": 78,
     "metadata": {},
     "output_type": "execute_result"
    }
   ],
   "source": [
    "logrank_test(by_mech[0]['time'], by_mech[1]['time'], by_mech[0]['status'], by_mech[1]['status'])"
   ]
  },
  {
   "cell_type": "markdown",
   "id": "4740bbf2",
   "metadata": {},
   "source": [
    "#### c. Fit the data to the Cox’s proportional hazards model with linear and nonlinear terms for the hazard function h(t/xi). The nonlinear terms should be xixj form, for example, x1^2 , x2^2,…, x1x3, x2x3,…."
   ]
  },
  {
   "cell_type": "code",
   "execution_count": 79,
   "id": "3225f4c9",
   "metadata": {},
   "outputs": [
    {
     "data": {
      "text/html": [
       "<div>\n",
       "<style scoped>\n",
       "    .dataframe tbody tr th:only-of-type {\n",
       "        vertical-align: middle;\n",
       "    }\n",
       "\n",
       "    .dataframe tbody tr th {\n",
       "        vertical-align: top;\n",
       "    }\n",
       "\n",
       "    .dataframe thead th {\n",
       "        text-align: right;\n",
       "    }\n",
       "</style>\n",
       "<table border=\"1\" class=\"dataframe\">\n",
       "  <thead>\n",
       "    <tr style=\"text-align: right;\">\n",
       "      <th></th>\n",
       "      <th>coef</th>\n",
       "      <th>exp(coef)</th>\n",
       "      <th>se(coef)</th>\n",
       "      <th>coef lower 95%</th>\n",
       "      <th>coef upper 95%</th>\n",
       "      <th>exp(coef) lower 95%</th>\n",
       "      <th>exp(coef) upper 95%</th>\n",
       "      <th>cmp to</th>\n",
       "      <th>z</th>\n",
       "      <th>p</th>\n",
       "      <th>-log2(p)</th>\n",
       "    </tr>\n",
       "    <tr>\n",
       "      <th>covariate</th>\n",
       "      <th></th>\n",
       "      <th></th>\n",
       "      <th></th>\n",
       "      <th></th>\n",
       "      <th></th>\n",
       "      <th></th>\n",
       "      <th></th>\n",
       "      <th></th>\n",
       "      <th></th>\n",
       "      <th></th>\n",
       "      <th></th>\n",
       "    </tr>\n",
       "  </thead>\n",
       "  <tbody>\n",
       "    <tr>\n",
       "      <th>posres</th>\n",
       "      <td>-0.008852</td>\n",
       "      <td>0.991187</td>\n",
       "      <td>0.213986</td>\n",
       "      <td>-0.428257</td>\n",
       "      <td>0.410553</td>\n",
       "      <td>0.651644</td>\n",
       "      <td>1.507651</td>\n",
       "      <td>0.0</td>\n",
       "      <td>-0.041368</td>\n",
       "      <td>0.967003</td>\n",
       "      <td>0.048408</td>\n",
       "    </tr>\n",
       "  </tbody>\n",
       "</table>\n",
       "</div>"
      ],
      "text/plain": [
       "               coef  exp(coef)  se(coef)  coef lower 95%  coef upper 95%  \\\n",
       "covariate                                                                  \n",
       "posres    -0.008852   0.991187  0.213986       -0.428257        0.410553   \n",
       "\n",
       "           exp(coef) lower 95%  exp(coef) upper 95%  cmp to         z  \\\n",
       "covariate                                                               \n",
       "posres                0.651644             1.507651     0.0 -0.041368   \n",
       "\n",
       "                  p  -log2(p)  \n",
       "covariate                      \n",
       "posres     0.967003  0.048408  "
      ]
     },
     "execution_count": 79,
     "metadata": {},
     "output_type": "execute_result"
    }
   ],
   "source": [
    "coxph = CoxPHFitter\n",
    "sex_df = data[['time', 'status', 'posres']]\n",
    "# Design matrix for the Cox model using model specification class (MS) with sex as the only predictor\n",
    "model_df = MS(['time', 'status', 'posres'],intercept=False).fit_transform(sex_df)\n",
    "cox_fit = coxph().fit(model_df , 'time','status')\n",
    "# cox_fit.summary[['coef', 'se(coef)', 'p']]\n",
    "cox_fit.summary"
   ]
  },
  {
   "cell_type": "markdown",
   "id": "f5d586c3",
   "metadata": {},
   "source": [
    "#### d. Determine the significant contribution of the variables"
   ]
  },
  {
   "cell_type": "code",
   "execution_count": 80,
   "id": "df38ad2e",
   "metadata": {},
   "outputs": [
    {
     "data": {
      "text/html": [
       "<div>\n",
       "<style scoped>\n",
       "    .dataframe tbody tr th:only-of-type {\n",
       "        vertical-align: middle;\n",
       "    }\n",
       "\n",
       "    .dataframe tbody tr th {\n",
       "        vertical-align: top;\n",
       "    }\n",
       "\n",
       "    .dataframe thead th {\n",
       "        text-align: right;\n",
       "    }\n",
       "</style>\n",
       "<table border=\"1\" class=\"dataframe\">\n",
       "  <thead>\n",
       "    <tr style=\"text-align: right;\">\n",
       "      <th></th>\n",
       "      <th>coef</th>\n",
       "      <th>exp(coef)</th>\n",
       "      <th>se(coef)</th>\n",
       "      <th>coef lower 95%</th>\n",
       "      <th>coef upper 95%</th>\n",
       "      <th>exp(coef) lower 95%</th>\n",
       "      <th>exp(coef) upper 95%</th>\n",
       "      <th>cmp to</th>\n",
       "      <th>z</th>\n",
       "      <th>p</th>\n",
       "      <th>-log2(p)</th>\n",
       "    </tr>\n",
       "    <tr>\n",
       "      <th>covariate</th>\n",
       "      <th></th>\n",
       "      <th></th>\n",
       "      <th></th>\n",
       "      <th></th>\n",
       "      <th></th>\n",
       "      <th></th>\n",
       "      <th></th>\n",
       "      <th></th>\n",
       "      <th></th>\n",
       "      <th></th>\n",
       "      <th></th>\n",
       "    </tr>\n",
       "  </thead>\n",
       "  <tbody>\n",
       "    <tr>\n",
       "      <th>posres</th>\n",
       "      <td>0.501158</td>\n",
       "      <td>1.650631</td>\n",
       "      <td>0.233445</td>\n",
       "      <td>0.043614</td>\n",
       "      <td>0.958702</td>\n",
       "      <td>1.044579</td>\n",
       "      <td>2.608309</td>\n",
       "      <td>0.0</td>\n",
       "      <td>2.146790</td>\n",
       "      <td>3.181001e-02</td>\n",
       "      <td>4.974375</td>\n",
       "    </tr>\n",
       "    <tr>\n",
       "      <th>multi</th>\n",
       "      <td>-0.031527</td>\n",
       "      <td>0.968965</td>\n",
       "      <td>0.290175</td>\n",
       "      <td>-0.600260</td>\n",
       "      <td>0.537206</td>\n",
       "      <td>0.548669</td>\n",
       "      <td>1.711220</td>\n",
       "      <td>0.0</td>\n",
       "      <td>-0.108648</td>\n",
       "      <td>9.134819e-01</td>\n",
       "      <td>0.130552</td>\n",
       "    </tr>\n",
       "    <tr>\n",
       "      <th>clinend</th>\n",
       "      <td>0.493307</td>\n",
       "      <td>1.637724</td>\n",
       "      <td>0.313078</td>\n",
       "      <td>-0.120315</td>\n",
       "      <td>1.106929</td>\n",
       "      <td>0.886641</td>\n",
       "      <td>3.025056</td>\n",
       "      <td>0.0</td>\n",
       "      <td>1.575668</td>\n",
       "      <td>1.151024e-01</td>\n",
       "      <td>3.119010</td>\n",
       "    </tr>\n",
       "    <tr>\n",
       "      <th>sampsize</th>\n",
       "      <td>0.000007</td>\n",
       "      <td>1.000007</td>\n",
       "      <td>0.000014</td>\n",
       "      <td>-0.000021</td>\n",
       "      <td>0.000035</td>\n",
       "      <td>0.999979</td>\n",
       "      <td>1.000035</td>\n",
       "      <td>0.0</td>\n",
       "      <td>0.471950</td>\n",
       "      <td>6.369624e-01</td>\n",
       "      <td>0.650720</td>\n",
       "    </tr>\n",
       "    <tr>\n",
       "      <th>budget</th>\n",
       "      <td>0.003589</td>\n",
       "      <td>1.003596</td>\n",
       "      <td>0.002515</td>\n",
       "      <td>-0.001341</td>\n",
       "      <td>0.008519</td>\n",
       "      <td>0.998660</td>\n",
       "      <td>1.008556</td>\n",
       "      <td>0.0</td>\n",
       "      <td>1.426866</td>\n",
       "      <td>1.536186e-01</td>\n",
       "      <td>2.702575</td>\n",
       "    </tr>\n",
       "    <tr>\n",
       "      <th>impact</th>\n",
       "      <td>0.052859</td>\n",
       "      <td>1.054281</td>\n",
       "      <td>0.008889</td>\n",
       "      <td>0.035437</td>\n",
       "      <td>0.070280</td>\n",
       "      <td>1.036073</td>\n",
       "      <td>1.072809</td>\n",
       "      <td>0.0</td>\n",
       "      <td>5.946755</td>\n",
       "      <td>2.735111e-09</td>\n",
       "      <td>28.445753</td>\n",
       "    </tr>\n",
       "  </tbody>\n",
       "</table>\n",
       "</div>"
      ],
      "text/plain": [
       "               coef  exp(coef)  se(coef)  coef lower 95%  coef upper 95%  \\\n",
       "covariate                                                                  \n",
       "posres     0.501158   1.650631  0.233445        0.043614        0.958702   \n",
       "multi     -0.031527   0.968965  0.290175       -0.600260        0.537206   \n",
       "clinend    0.493307   1.637724  0.313078       -0.120315        1.106929   \n",
       "sampsize   0.000007   1.000007  0.000014       -0.000021        0.000035   \n",
       "budget     0.003589   1.003596  0.002515       -0.001341        0.008519   \n",
       "impact     0.052859   1.054281  0.008889        0.035437        0.070280   \n",
       "\n",
       "           exp(coef) lower 95%  exp(coef) upper 95%  cmp to         z  \\\n",
       "covariate                                                               \n",
       "posres                1.044579             2.608309     0.0  2.146790   \n",
       "multi                 0.548669             1.711220     0.0 -0.108648   \n",
       "clinend               0.886641             3.025056     0.0  1.575668   \n",
       "sampsize              0.999979             1.000035     0.0  0.471950   \n",
       "budget                0.998660             1.008556     0.0  1.426866   \n",
       "impact                1.036073             1.072809     0.0  5.946755   \n",
       "\n",
       "                      p   -log2(p)  \n",
       "covariate                           \n",
       "posres     3.181001e-02   4.974375  \n",
       "multi      9.134819e-01   0.130552  \n",
       "clinend    1.151024e-01   3.119010  \n",
       "sampsize   6.369624e-01   0.650720  \n",
       "budget     1.536186e-01   2.702575  \n",
       "impact     2.735111e-09  28.445753  "
      ]
     },
     "execution_count": 80,
     "metadata": {},
     "output_type": "execute_result"
    }
   ],
   "source": [
    "# cleaning the data\n",
    "cleaned = data.dropna()\n",
    "cleaned = cleaned.drop(columns=['mech'])\n",
    "# Design matrix\n",
    "all_MS = MS(cleaned.columns , intercept=False)\n",
    "all_df = all_MS.fit_transform(cleaned)\n",
    "fit_all = coxph().fit(all_df ,'time','status')\n",
    "fit_all.summary"
   ]
  },
  {
   "cell_type": "code",
   "execution_count": 81,
   "id": "1c235449",
   "metadata": {},
   "outputs": [
    {
     "data": {
      "text/html": [
       "<div>\n",
       "<style scoped>\n",
       "    .dataframe tbody tr th:only-of-type {\n",
       "        vertical-align: middle;\n",
       "    }\n",
       "\n",
       "    .dataframe tbody tr th {\n",
       "        vertical-align: top;\n",
       "    }\n",
       "\n",
       "    .dataframe thead th {\n",
       "        text-align: right;\n",
       "    }\n",
       "</style>\n",
       "<table border=\"1\" class=\"dataframe\">\n",
       "  <tbody>\n",
       "    <tr>\n",
       "      <th>null_distribution</th>\n",
       "      <td>chi squared</td>\n",
       "    </tr>\n",
       "    <tr>\n",
       "      <th>degrees_freedom</th>\n",
       "      <td>1</td>\n",
       "    </tr>\n",
       "    <tr>\n",
       "      <th>test_name</th>\n",
       "      <td>log-likelihood ratio test</td>\n",
       "    </tr>\n",
       "  </tbody>\n",
       "</table>\n",
       "</div><table border=\"1\" class=\"dataframe\">\n",
       "  <thead>\n",
       "    <tr style=\"text-align: right;\">\n",
       "      <th></th>\n",
       "      <th>test_statistic</th>\n",
       "      <th>p</th>\n",
       "      <th>-log2(p)</th>\n",
       "    </tr>\n",
       "  </thead>\n",
       "  <tbody>\n",
       "    <tr>\n",
       "      <th>0</th>\n",
       "      <td>0.00</td>\n",
       "      <td>0.97</td>\n",
       "      <td>0.05</td>\n",
       "    </tr>\n",
       "  </tbody>\n",
       "</table>"
      ],
      "text/latex": [
       "\\begin{tabular}{lrrr}\n",
       " & test_statistic & p & -log2(p) \\\\\n",
       "0 & 0.00 & 0.97 & 0.05 \\\\\n",
       "\\end{tabular}\n"
      ],
      "text/plain": [
       "<lifelines.StatisticalResult: log-likelihood ratio test>\n",
       "null_distribution = chi squared\n",
       "  degrees_freedom = 1\n",
       "        test_name = log-likelihood ratio test\n",
       "\n",
       "---\n",
       " test_statistic    p  -log2(p)\n",
       "           0.00 0.97      0.05"
      ]
     },
     "execution_count": 81,
     "metadata": {},
     "output_type": "execute_result"
    }
   ],
   "source": [
    "cox_fit.log_likelihood_ratio_test()"
   ]
  },
  {
   "cell_type": "markdown",
   "id": "35538844",
   "metadata": {},
   "source": [
    "### Q9"
   ]
  },
  {
   "cell_type": "code",
   "execution_count": 93,
   "id": "0759322d",
   "metadata": {},
   "outputs": [
    {
     "name": "stdout",
     "output_type": "stream",
     "text": [
      "Average failure rate over the interval [2, t+3]: 0.11612317403390443\n"
     ]
    }
   ],
   "source": [
    "from scipy.integrate import quad\n",
    "\n",
    "# Function for the hazard rate (failure rate) 𝜆(t)\n",
    "def calculate_hazard_rate(t, 𝜆, k):\n",
    "    return 𝜆 * k * (𝜆 * t) ** (k - 1)\n",
    "\n",
    "# Given parameters for the Weibull distribution\n",
    "𝜆_parameter = 0.5\n",
    "k_parameter = 0.1\n",
    "\n",
    "time_t = 3\n",
    "\n",
    "# Interval [2, t+3]\n",
    "interval_start = 2\n",
    "interval_end = time_t + 3\n",
    "\n",
    "# Calculate the average failure rate using integration\n",
    "average_failure_rate, _ = quad(calculate_hazard_rate, interval_start, interval_end, args=(𝜆_parameter, k_parameter))\n",
    "\n",
    "print(\"Average failure rate over the interval [2, t+3]:\", average_failure_rate)\n",
    "\n"
   ]
  },
  {
   "cell_type": "code",
   "execution_count": null,
   "id": "85896a86",
   "metadata": {},
   "outputs": [],
   "source": []
  }
 ],
 "metadata": {
  "kernelspec": {
   "display_name": "Python 3 (ipykernel)",
   "language": "python",
   "name": "python3"
  },
  "language_info": {
   "codemirror_mode": {
    "name": "ipython",
    "version": 3
   },
   "file_extension": ".py",
   "mimetype": "text/x-python",
   "name": "python",
   "nbconvert_exporter": "python",
   "pygments_lexer": "ipython3",
   "version": "3.9.16"
  }
 },
 "nbformat": 4,
 "nbformat_minor": 5
}
