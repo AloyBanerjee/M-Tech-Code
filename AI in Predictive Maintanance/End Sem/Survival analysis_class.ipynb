{
 "cells": [
  {
   "cell_type": "markdown",
   "metadata": {},
   "source": [
    "# <div align='center'> Estimation of Survival Curve<br>\n",
    " $S(t) = Pr(T>t)$ "
   ]
  },
  {
   "cell_type": "markdown",
   "metadata": {},
   "source": [
    "## Requiremnts <br>\n",
    "- ISLP package ([Follow for installation](https://pypi.org/project/ISLP/))"
   ]
  },
  {
   "cell_type": "code",
   "execution_count": null,
   "metadata": {},
   "outputs": [],
   "source": [
    "#pip install ISLP"
   ]
  },
  {
   "cell_type": "code",
   "execution_count": 3,
   "metadata": {},
   "outputs": [],
   "source": [
    "# importinig libraries\n",
    "from ISLP.models import ModelSpec as MS\n",
    "from ISLP import load_data\n",
    "import numpy as np\n",
    "import pandas as pd\n",
    "import matplotlib.pyplot as plt\n",
    "from matplotlib.pyplot import subplots\n",
    "import seaborn as sns; sns.set()\n",
    "\n",
    "from lifelines import KaplanMeierFitter, CoxPHFitter \n",
    "from lifelines.statistics import logrank_test, multivariate_logrank_test\n"
   ]
  },
  {
   "cell_type": "markdown",
   "metadata": {},
   "source": [
    "# Brain Cancer dataset\n",
    "- Contains the survival times for patients with primary brain tumors undergoing treatment with stereotactic radiation methods\n",
    "- Conventional status code: 1 = uncensored observation (death) and 0 = censored observation"
   ]
  },
  {
   "cell_type": "code",
   "execution_count": 4,
   "metadata": {},
   "outputs": [
    {
     "data": {
      "text/html": [
       "<div>\n",
       "<style scoped>\n",
       "    .dataframe tbody tr th:only-of-type {\n",
       "        vertical-align: middle;\n",
       "    }\n",
       "\n",
       "    .dataframe tbody tr th {\n",
       "        vertical-align: top;\n",
       "    }\n",
       "\n",
       "    .dataframe thead th {\n",
       "        text-align: right;\n",
       "    }\n",
       "</style>\n",
       "<table border=\"1\" class=\"dataframe\">\n",
       "  <thead>\n",
       "    <tr style=\"text-align: right;\">\n",
       "      <th></th>\n",
       "      <th>sex</th>\n",
       "      <th>diagnosis</th>\n",
       "      <th>loc</th>\n",
       "      <th>ki</th>\n",
       "      <th>gtv</th>\n",
       "      <th>stereo</th>\n",
       "      <th>status</th>\n",
       "      <th>time</th>\n",
       "    </tr>\n",
       "  </thead>\n",
       "  <tbody>\n",
       "    <tr>\n",
       "      <th>0</th>\n",
       "      <td>Female</td>\n",
       "      <td>Meningioma</td>\n",
       "      <td>Infratentorial</td>\n",
       "      <td>90</td>\n",
       "      <td>6.11</td>\n",
       "      <td>SRS</td>\n",
       "      <td>0</td>\n",
       "      <td>57.64</td>\n",
       "    </tr>\n",
       "    <tr>\n",
       "      <th>1</th>\n",
       "      <td>Male</td>\n",
       "      <td>HG glioma</td>\n",
       "      <td>Supratentorial</td>\n",
       "      <td>90</td>\n",
       "      <td>19.35</td>\n",
       "      <td>SRT</td>\n",
       "      <td>1</td>\n",
       "      <td>8.98</td>\n",
       "    </tr>\n",
       "    <tr>\n",
       "      <th>2</th>\n",
       "      <td>Female</td>\n",
       "      <td>Meningioma</td>\n",
       "      <td>Infratentorial</td>\n",
       "      <td>70</td>\n",
       "      <td>7.95</td>\n",
       "      <td>SRS</td>\n",
       "      <td>0</td>\n",
       "      <td>26.46</td>\n",
       "    </tr>\n",
       "    <tr>\n",
       "      <th>3</th>\n",
       "      <td>Female</td>\n",
       "      <td>LG glioma</td>\n",
       "      <td>Supratentorial</td>\n",
       "      <td>80</td>\n",
       "      <td>7.61</td>\n",
       "      <td>SRT</td>\n",
       "      <td>1</td>\n",
       "      <td>47.80</td>\n",
       "    </tr>\n",
       "    <tr>\n",
       "      <th>4</th>\n",
       "      <td>Male</td>\n",
       "      <td>HG glioma</td>\n",
       "      <td>Supratentorial</td>\n",
       "      <td>90</td>\n",
       "      <td>5.06</td>\n",
       "      <td>SRT</td>\n",
       "      <td>1</td>\n",
       "      <td>6.30</td>\n",
       "    </tr>\n",
       "  </tbody>\n",
       "</table>\n",
       "</div>"
      ],
      "text/plain": [
       "      sex   diagnosis             loc  ki    gtv stereo  status   time\n",
       "0  Female  Meningioma  Infratentorial  90   6.11    SRS       0  57.64\n",
       "1    Male   HG glioma  Supratentorial  90  19.35    SRT       1   8.98\n",
       "2  Female  Meningioma  Infratentorial  70   7.95    SRS       0  26.46\n",
       "3  Female   LG glioma  Supratentorial  80   7.61    SRT       1  47.80\n",
       "4    Male   HG glioma  Supratentorial  90   5.06    SRT       1   6.30"
      ]
     },
     "execution_count": 4,
     "metadata": {},
     "output_type": "execute_result"
    }
   ],
   "source": [
    "BrainCancer = load_data('BrainCancer')\n",
    "BrainCancer.head()\n",
    "# BrainCancer.shape"
   ]
  },
  {
   "cell_type": "markdown",
   "metadata": {},
   "source": [
    "- Predictors: \n",
    "    1. gtv: Gross tumor volume (cm^3)\n",
    "    2. sex\n",
    "    3. Diagnosis: Meningioma, LG glioma, HG glioma and others\n",
    "    4. ki: Karnofsky index\n",
    "    5. loc: Tumor location\n",
    "    6. stereo: Stereotactic methods (SRS and SRT) <br>\n",
    "- Here the time is '$y_{i}$' (time to the *i*the event(censoring/death))"
   ]
  },
  {
   "cell_type": "code",
   "execution_count": 5,
   "metadata": {},
   "outputs": [
    {
     "data": {
      "text/plain": [
       "Female    45\n",
       "Male      43\n",
       "Name: sex, dtype: int64"
      ]
     },
     "execution_count": 5,
     "metadata": {},
     "output_type": "execute_result"
    }
   ],
   "source": [
    "BrainCancer['sex'].value_counts()"
   ]
  },
  {
   "cell_type": "code",
   "execution_count": 6,
   "metadata": {},
   "outputs": [
    {
     "data": {
      "text/plain": [
       "Meningioma    42\n",
       "HG glioma     22\n",
       "Other         14\n",
       "LG glioma      9\n",
       "Name: diagnosis, dtype: int64"
      ]
     },
     "execution_count": 6,
     "metadata": {},
     "output_type": "execute_result"
    }
   ],
   "source": [
    "BrainCancer['diagnosis'].value_counts()"
   ]
  },
  {
   "cell_type": "code",
   "execution_count": 7,
   "metadata": {},
   "outputs": [
    {
     "data": {
      "text/plain": [
       "0    53\n",
       "1    35\n",
       "Name: status, dtype: int64"
      ]
     },
     "execution_count": 7,
     "metadata": {},
     "output_type": "execute_result"
    }
   ],
   "source": [
    "BrainCancer['status'].value_counts()"
   ]
  },
  {
   "cell_type": "markdown",
   "metadata": {},
   "source": [
    "So, the status indicates that 35 patients died before the end of the study"
   ]
  },
  {
   "cell_type": "code",
   "execution_count": 8,
   "metadata": {},
   "outputs": [
    {
     "data": {
      "text/plain": [
       "Text(0.5, 1.0, 'Survival curve for Brain Cancer')"
      ]
     },
     "execution_count": 8,
     "metadata": {},
     "output_type": "execute_result"
    },
    {
     "data": {
      "image/png": "[encoded data removed]",
      "text/plain": [
       "<Figure size 640x480 with 1 Axes>"
      ]
     },
     "metadata": {},
     "output_type": "display_data"
    }
   ],
   "source": [
    "# Creating new object\n",
    "km = KaplanMeierFitter()\n",
    "# Fitting the data to the estimator and visualizing the survival curve\n",
    "# Pointwise Confidence interval is set to 90% by default\n",
    "km_brain = km.fit(BrainCancer['time'], BrainCancer['status'])\n",
    "km_brain.plot(label = 'Kalpan Meier estimate')\n",
    "plt.xlabel('Time in months')\n",
    "plt.ylabel('Estimated probability of Survival')\n",
    "plt.title('Survival curve for Brain Cancer')\n"
   ]
  },
  {
   "cell_type": "markdown",
   "metadata": {},
   "source": [
    "# Kaplan-Meier survival curve - sex-stratified"
   ]
  },
  {
   "cell_type": "code",
   "execution_count": 9,
   "metadata": {},
   "outputs": [
    {
     "data": {
      "image/png": "[encoded data removed]",
      "text/plain": [
       "<Figure size 640x480 with 1 Axes>"
      ]
     },
     "metadata": {},
     "output_type": "display_data"
    }
   ],
   "source": [
    "# Initializing a directory to store data frames for each sex category\n",
    "by_sex = {}\n",
    "\n",
    "for sex, df in BrainCancer.groupby('sex'):\n",
    "    by_sex[sex] = df\n",
    "    # Fitting the data to the estimator and visualizing the survival curve\n",
    "    km_sex = km.fit(df['time'], df['status'])\n",
    "    km_sex.plot(label = 'Sex=%s' % sex)\n",
    "    plt.xlabel('Time in months')\n",
    "    plt.ylabel('Estimated probability of Survival')"
   ]
  },
  {
   "cell_type": "code",
   "execution_count": 10,
   "metadata": {},
   "outputs": [
    {
     "data": {
      "text/plain": [
       "{'Female':        sex   diagnosis             loc   ki    gtv stereo  status   time\n",
       " 0   Female  Meningioma  Infratentorial   90   6.11    SRS       0  57.64\n",
       " 2   Female  Meningioma  Infratentorial   70   7.95    SRS       0  26.46\n",
       " 3   Female   LG glioma  Supratentorial   80   7.61    SRT       1  47.80\n",
       " 5   Female  Meningioma  Supratentorial   80   4.82    SRS       0  52.75\n",
       " 8   Female  Meningioma  Supratentorial   70  12.16    SRT       0  34.66\n",
       " 11  Female  Meningioma  Infratentorial   90   6.54    SRS       0  34.26\n",
       " 12  Female  Meningioma  Infratentorial   90   0.63    SRS       0  32.98\n",
       " 14  Female  Meningioma  Supratentorial   60   9.18    SRT       0  41.44\n",
       " 15  Female   HG glioma  Supratentorial   70  11.38    SRS       1   7.05\n",
       " 16  Female       Other  Infratentorial   60  24.00    SRT       1   6.82\n",
       " 19  Female  Meningioma  Supratentorial   90   2.50    SRT       0  30.16\n",
       " 20  Female  Meningioma  Supratentorial   80   2.82    SRS       0  24.39\n",
       " 22  Female       Other  Infratentorial   80   2.11    SRS       0  10.49\n",
       " 23  Female  Meningioma  Infratentorial  100   2.13    SRS       1  51.02\n",
       " 24  Female  Meningioma  Supratentorial   70   6.48    SRT       1  33.41\n",
       " 29  Female  Meningioma  Supratentorial   90   4.72    SRS       0  65.02\n",
       " 30  Female   LG glioma  Supratentorial   80   0.85    SRS       1   6.10\n",
       " 32  Female       Other  Infratentorial   70  13.45    SRT       1  10.82\n",
       " 34  Female  Meningioma  Supratentorial   90   7.30    SRT       0   5.51\n",
       " 35  Female       Other  Supratentorial   70  14.26    SRT       0   7.18\n",
       " 36  Female  Meningioma  Supratentorial   80   6.60    SRT       0  14.75\n",
       " 39  Female  Meningioma  Supratentorial   90   2.54    SRT       0  45.74\n",
       " 40  Female  Meningioma  Supratentorial   80   1.57    SRT       0   2.03\n",
       " 42  Female  Meningioma  Supratentorial   70   6.70    SRT       0  14.56\n",
       " 47  Female  Meningioma  Supratentorial   80  26.31    SRT       1  39.54\n",
       " 49  Female   LG glioma  Supratentorial   80   0.19    SRS       0  11.51\n",
       " 50  Female   HG glioma  Supratentorial   90   0.04    SRT       0  31.67\n",
       " 51  Female  Meningioma  Infratentorial   90   9.24    SRT       0  26.85\n",
       " 54  Female   HG glioma  Supratentorial   80   0.63    SRT       1  16.92\n",
       " 58  Female       Other  Supratentorial   80  11.83    SRT       1  22.03\n",
       " 59  Female  Meningioma  Supratentorial   90   2.47    SRT       0  17.57\n",
       " 60  Female   HG glioma  Supratentorial   80  12.08    SRT       1   7.25\n",
       " 62  Female   HG glioma  Supratentorial   40  22.87    SRT       1   3.38\n",
       " 65  Female  Meningioma  Supratentorial  100   4.00    SRT       0  52.23\n",
       " 66  Female   HG glioma  Supratentorial   80   7.59    SRT       1   4.56\n",
       " 68  Female  Meningioma  Supratentorial   80   6.93    SRS       0  10.10\n",
       " 69  Female  Meningioma  Supratentorial   70   3.63    SRT       0  32.82\n",
       " 73  Female   HG glioma  Supratentorial   80   0.19    SRT       1  11.02\n",
       " 75  Female  Meningioma  Supratentorial   80  31.74    SRT       0  57.25\n",
       " 76  Female  Meningioma  Supratentorial   80   2.39    SRS       0  73.74\n",
       " 77  Female  Meningioma  Supratentorial   90   7.26    SRT       0  49.05\n",
       " 78  Female  Meningioma  Supratentorial  100   9.66    SRT       0  39.25\n",
       " 79  Female  Meningioma  Infratentorial   70   2.94    SRS       0   1.54\n",
       " 80  Female   HG glioma  Supratentorial   80  15.45    SRT       1  46.16\n",
       " 81  Female       Other  Supratentorial   90   1.82    SRT       0  47.11,\n",
       " 'Male':      sex   diagnosis             loc   ki    gtv stereo  status   time\n",
       " 1   Male   HG glioma  Supratentorial   90  19.35    SRT       1   8.98\n",
       " 4   Male   HG glioma  Supratentorial   90   5.06    SRT       1   6.30\n",
       " 6   Male  Meningioma  Supratentorial   80   3.19    SRT       0  55.80\n",
       " 7   Male   LG glioma  Supratentorial   80  12.37    SRT       0  42.10\n",
       " 9   Male   HG glioma  Supratentorial  100   2.53    SRT       0  11.48\n",
       " 10  Male   LG glioma  Supratentorial   80   0.14    SRT       1  35.93\n",
       " 13  Male         NaN  Supratentorial   90   6.38    SRT       0  50.85\n",
       " 17  Male   HG glioma  Supratentorial   90  10.80    SRT       0  82.56\n",
       " 18  Male  Meningioma  Supratentorial   80  13.49    SRS       1   6.92\n",
       " 21  Male   HG glioma  Supratentorial   70  14.44    SRT       1  14.00\n",
       " 25  Male   LG glioma  Supratentorial   90   4.23    SRT       1  25.02\n",
       " 26  Male       Other  Supratentorial   60  34.64    SRT       1  11.57\n",
       " 27  Male   HG glioma  Supratentorial   70  33.69    SRT       1   0.07\n",
       " 28  Male  Meningioma  Supratentorial   60   3.81    SRT       0  36.10\n",
       " 31  Male  Meningioma  Supratentorial   90   2.56    SRS       0  44.39\n",
       " 33  Male       Other  Infratentorial   80   6.81    SRS       0  57.11\n",
       " 37  Male   HG glioma  Supratentorial   90   9.95    SRT       1   6.23\n",
       " 38  Male       Other  Infratentorial   80  12.51    SRT       1  29.70\n",
       " 41  Male   HG glioma  Supratentorial   90   0.28    SRT       1  16.43\n",
       " 43  Male  Meningioma  Supratentorial   80  12.63    SRT       1   4.16\n",
       " 44  Male       Other  Infratentorial   90   3.12    SRT       0  18.95\n",
       " 45  Male  Meningioma  Supratentorial   60   7.09    SRS       1  31.25\n",
       " 46  Male   HG glioma  Supratentorial   80  29.27    SRT       0   5.15\n",
       " 48  Male  Meningioma  Supratentorial   70   0.97    SRT       1   1.41\n",
       " 52  Male   HG glioma  Supratentorial   90   2.50    SRT       1   9.77\n",
       " 53  Male  Meningioma  Infratentorial   80  24.41    SRT       0  39.54\n",
       " 55  Male       Other  Infratentorial   90   0.48    SRS       0  54.43\n",
       " 56  Male   HG glioma  Infratentorial   80   0.22    SRS       0  33.67\n",
       " 57  Male   HG glioma  Supratentorial   80   3.75    SRT       1  19.90\n",
       " 61  Male  Meningioma  Supratentorial   80  11.51    SRT       1  14.62\n",
       " 63  Male  Meningioma  Supratentorial   80   4.77    SRT       0  67.38\n",
       " 64  Male   LG glioma  Supratentorial   80   9.58    SRT       0  78.75\n",
       " 67  Male       Other  Infratentorial   70   0.01    SRS       0  23.67\n",
       " 70  Male  Meningioma  Supratentorial   70   8.45    SRT       0  19.41\n",
       " 71  Male  Meningioma  Supratentorial   80  20.93    SRT       1  31.15\n",
       " 72  Male   LG glioma  Supratentorial   90   2.64    SRT       0  20.13\n",
       " 74  Male       Other  Supratentorial  100  24.91    SRT       0  19.74\n",
       " 82  Male   LG glioma  Infratentorial   90  30.41    SRT       0   1.18\n",
       " 83  Male   HG glioma  Supratentorial   80   0.16    SRT       1  20.69\n",
       " 84  Male   HG glioma  Supratentorial   80  19.81    SRT       1   6.39\n",
       " 85  Male  Meningioma  Supratentorial   90   2.50    SRT       0  32.82\n",
       " 86  Male  Meningioma  Supratentorial   90   2.02    SRS       0  42.07\n",
       " 87  Male       Other  Infratentorial   80   0.11    SRT       0  13.90}"
      ]
     },
     "execution_count": 10,
     "metadata": {},
     "output_type": "execute_result"
    }
   ],
   "source": [
    "by_sex\n",
    "# by_sex['Female']\n",
    "# by_sex['Male']"
   ]
  },
  {
   "cell_type": "markdown",
   "metadata": {},
   "source": [
    "# Log-Rank Test <br>\n",
    "Comparing survival distributions between two groups\n",
    "\n"
   ]
  },
  {
   "cell_type": "code",
   "execution_count": 11,
   "metadata": {},
   "outputs": [
    {
     "data": {
      "text/html": [
       "<div>\n",
       "<style scoped>\n",
       "    .dataframe tbody tr th:only-of-type {\n",
       "        vertical-align: middle;\n",
       "    }\n",
       "\n",
       "    .dataframe tbody tr th {\n",
       "        vertical-align: top;\n",
       "    }\n",
       "\n",
       "    .dataframe thead th {\n",
       "        text-align: right;\n",
       "    }\n",
       "</style>\n",
       "<table border=\"1\" class=\"dataframe\">\n",
       "  <tbody>\n",
       "    <tr>\n",
       "      <th>t_0</th>\n",
       "      <td>-1</td>\n",
       "    </tr>\n",
       "    <tr>\n",
       "      <th>null_distribution</th>\n",
       "      <td>chi squared</td>\n",
       "    </tr>\n",
       "    <tr>\n",
       "      <th>degrees_of_freedom</th>\n",
       "      <td>1</td>\n",
       "    </tr>\n",
       "    <tr>\n",
       "      <th>test_name</th>\n",
       "      <td>logrank_test</td>\n",
       "    </tr>\n",
       "  </tbody>\n",
       "</table>\n",
       "</div><table border=\"1\" class=\"dataframe\">\n",
       "  <thead>\n",
       "    <tr style=\"text-align: right;\">\n",
       "      <th></th>\n",
       "      <th>test_statistic</th>\n",
       "      <th>p</th>\n",
       "      <th>-log2(p)</th>\n",
       "    </tr>\n",
       "  </thead>\n",
       "  <tbody>\n",
       "    <tr>\n",
       "      <th>0</th>\n",
       "      <td>1.44</td>\n",
       "      <td>0.23</td>\n",
       "      <td>2.12</td>\n",
       "    </tr>\n",
       "  </tbody>\n",
       "</table>"
      ],
      "text/latex": [
       "\\begin{tabular}{lrrr}\n",
       " & test_statistic & p & -log2(p) \\\\\n",
       "0 & 1.44 & 0.23 & 2.12 \\\\\n",
       "\\end{tabular}\n"
      ],
      "text/plain": [
       "<lifelines.StatisticalResult: logrank_test>\n",
       "               t_0 = -1\n",
       " null_distribution = chi squared\n",
       "degrees_of_freedom = 1\n",
       "         test_name = logrank_test\n",
       "\n",
       "---\n",
       " test_statistic    p  -log2(p)\n",
       "           1.44 0.23      2.12"
      ]
     },
     "execution_count": 11,
     "metadata": {},
     "output_type": "execute_result"
    }
   ],
   "source": [
    "logrank_test(by_sex['Male']['time'], by_sex['Female']['time'], by_sex['Male']['status'], by_sex['Female']['status'])"
   ]
  },
  {
   "cell_type": "markdown",
   "metadata": {},
   "source": [
    "The p-value = 0.23. So, there is no significant difference between the survival distributions of the two groups"
   ]
  },
  {
   "cell_type": "markdown",
   "metadata": {},
   "source": [
    "# Cox Proportional Hazards Model <br>"
   ]
  },
  {
   "cell_type": "code",
   "execution_count": 12,
   "metadata": {},
   "outputs": [
    {
     "data": {
      "text/html": [
       "<div>\n",
       "<style scoped>\n",
       "    .dataframe tbody tr th:only-of-type {\n",
       "        vertical-align: middle;\n",
       "    }\n",
       "\n",
       "    .dataframe tbody tr th {\n",
       "        vertical-align: top;\n",
       "    }\n",
       "\n",
       "    .dataframe thead th {\n",
       "        text-align: right;\n",
       "    }\n",
       "</style>\n",
       "<table border=\"1\" class=\"dataframe\">\n",
       "  <thead>\n",
       "    <tr style=\"text-align: right;\">\n",
       "      <th></th>\n",
       "      <th>coef</th>\n",
       "      <th>exp(coef)</th>\n",
       "      <th>se(coef)</th>\n",
       "      <th>coef lower 95%</th>\n",
       "      <th>coef upper 95%</th>\n",
       "      <th>exp(coef) lower 95%</th>\n",
       "      <th>exp(coef) upper 95%</th>\n",
       "      <th>cmp to</th>\n",
       "      <th>z</th>\n",
       "      <th>p</th>\n",
       "      <th>-log2(p)</th>\n",
       "    </tr>\n",
       "    <tr>\n",
       "      <th>covariate</th>\n",
       "      <th></th>\n",
       "      <th></th>\n",
       "      <th></th>\n",
       "      <th></th>\n",
       "      <th></th>\n",
       "      <th></th>\n",
       "      <th></th>\n",
       "      <th></th>\n",
       "      <th></th>\n",
       "      <th></th>\n",
       "      <th></th>\n",
       "    </tr>\n",
       "  </thead>\n",
       "  <tbody>\n",
       "    <tr>\n",
       "      <th>sex[Male]</th>\n",
       "      <td>0.407668</td>\n",
       "      <td>1.503309</td>\n",
       "      <td>0.342004</td>\n",
       "      <td>-0.262648</td>\n",
       "      <td>1.077984</td>\n",
       "      <td>0.769013</td>\n",
       "      <td>2.93875</td>\n",
       "      <td>0.0</td>\n",
       "      <td>1.191998</td>\n",
       "      <td>0.233262</td>\n",
       "      <td>2.099977</td>\n",
       "    </tr>\n",
       "  </tbody>\n",
       "</table>\n",
       "</div>"
      ],
      "text/plain": [
       "               coef  exp(coef)  se(coef)  coef lower 95%  coef upper 95%  \\\n",
       "covariate                                                                  \n",
       "sex[Male]  0.407668   1.503309  0.342004       -0.262648        1.077984   \n",
       "\n",
       "           exp(coef) lower 95%  exp(coef) upper 95%  cmp to         z  \\\n",
       "covariate                                                               \n",
       "sex[Male]             0.769013              2.93875     0.0  1.191998   \n",
       "\n",
       "                  p  -log2(p)  \n",
       "covariate                      \n",
       "sex[Male]  0.233262  2.099977  "
      ]
     },
     "execution_count": 12,
     "metadata": {},
     "output_type": "execute_result"
    }
   ],
   "source": [
    "coxph = CoxPHFitter\n",
    "sex_df = BrainCancer[['time', 'status', 'sex']]\n",
    "# Design matrix for the Cox model using model specification class (MS) with sex as the only predictor\n",
    "model_df = MS(['time', 'status', 'sex'],intercept=False).fit_transform(sex_df)\n",
    "cox_fit = coxph().fit(model_df , 'time','status')\n",
    "# cox_fit.summary[['coef', 'se(coef)', 'p']]\n",
    "cox_fit.summary"
   ]
  },
  {
   "cell_type": "code",
   "execution_count": 13,
   "metadata": {},
   "outputs": [
    {
     "data": {
      "text/html": [
       "<div>\n",
       "<style scoped>\n",
       "    .dataframe tbody tr th:only-of-type {\n",
       "        vertical-align: middle;\n",
       "    }\n",
       "\n",
       "    .dataframe tbody tr th {\n",
       "        vertical-align: top;\n",
       "    }\n",
       "\n",
       "    .dataframe thead th {\n",
       "        text-align: right;\n",
       "    }\n",
       "</style>\n",
       "<table border=\"1\" class=\"dataframe\">\n",
       "  <tbody>\n",
       "    <tr>\n",
       "      <th>null_distribution</th>\n",
       "      <td>chi squared</td>\n",
       "    </tr>\n",
       "    <tr>\n",
       "      <th>degrees_freedom</th>\n",
       "      <td>1</td>\n",
       "    </tr>\n",
       "    <tr>\n",
       "      <th>test_name</th>\n",
       "      <td>log-likelihood ratio test</td>\n",
       "    </tr>\n",
       "  </tbody>\n",
       "</table>\n",
       "</div><table border=\"1\" class=\"dataframe\">\n",
       "  <thead>\n",
       "    <tr style=\"text-align: right;\">\n",
       "      <th></th>\n",
       "      <th>test_statistic</th>\n",
       "      <th>p</th>\n",
       "      <th>-log2(p)</th>\n",
       "    </tr>\n",
       "  </thead>\n",
       "  <tbody>\n",
       "    <tr>\n",
       "      <th>0</th>\n",
       "      <td>1.44</td>\n",
       "      <td>0.23</td>\n",
       "      <td>2.12</td>\n",
       "    </tr>\n",
       "  </tbody>\n",
       "</table>"
      ],
      "text/latex": [
       "\\begin{tabular}{lrrr}\n",
       " & test_statistic & p & -log2(p) \\\\\n",
       "0 & 1.44 & 0.23 & 2.12 \\\\\n",
       "\\end{tabular}\n"
      ],
      "text/plain": [
       "<lifelines.StatisticalResult: log-likelihood ratio test>\n",
       "null_distribution = chi squared\n",
       "  degrees_freedom = 1\n",
       "        test_name = log-likelihood ratio test\n",
       "\n",
       "---\n",
       " test_statistic    p  -log2(p)\n",
       "           1.44 0.23      2.12"
      ]
     },
     "execution_count": 13,
     "metadata": {},
     "output_type": "execute_result"
    }
   ],
   "source": [
    "# Null model (with no features)\n",
    "cox_fit.log_likelihood_ratio_test()"
   ]
  },
  {
   "cell_type": "markdown",
   "metadata": {},
   "source": [
    "- p-value from both the cox model(with one predictor, sex) and the null model suggests that adding the 'sex' predictor to the model did not lead to a significant increase in the model's ability to explain the observed survival outcomes"
   ]
  },
  {
   "cell_type": "markdown",
   "metadata": {},
   "source": [
    "### Fitting a model that makes use of additional predictors"
   ]
  },
  {
   "cell_type": "code",
   "execution_count": 14,
   "metadata": {},
   "outputs": [
    {
     "data": {
      "text/html": [
       "<div>\n",
       "<style scoped>\n",
       "    .dataframe tbody tr th:only-of-type {\n",
       "        vertical-align: middle;\n",
       "    }\n",
       "\n",
       "    .dataframe tbody tr th {\n",
       "        vertical-align: top;\n",
       "    }\n",
       "\n",
       "    .dataframe thead th {\n",
       "        text-align: right;\n",
       "    }\n",
       "</style>\n",
       "<table border=\"1\" class=\"dataframe\">\n",
       "  <thead>\n",
       "    <tr style=\"text-align: right;\">\n",
       "      <th></th>\n",
       "      <th>coef</th>\n",
       "      <th>exp(coef)</th>\n",
       "      <th>se(coef)</th>\n",
       "      <th>coef lower 95%</th>\n",
       "      <th>coef upper 95%</th>\n",
       "      <th>exp(coef) lower 95%</th>\n",
       "      <th>exp(coef) upper 95%</th>\n",
       "      <th>cmp to</th>\n",
       "      <th>z</th>\n",
       "      <th>p</th>\n",
       "      <th>-log2(p)</th>\n",
       "    </tr>\n",
       "    <tr>\n",
       "      <th>covariate</th>\n",
       "      <th></th>\n",
       "      <th></th>\n",
       "      <th></th>\n",
       "      <th></th>\n",
       "      <th></th>\n",
       "      <th></th>\n",
       "      <th></th>\n",
       "      <th></th>\n",
       "      <th></th>\n",
       "      <th></th>\n",
       "      <th></th>\n",
       "    </tr>\n",
       "  </thead>\n",
       "  <tbody>\n",
       "    <tr>\n",
       "      <th>sex[Male]</th>\n",
       "      <td>0.183748</td>\n",
       "      <td>1.201712</td>\n",
       "      <td>0.360358</td>\n",
       "      <td>-0.522541</td>\n",
       "      <td>0.890036</td>\n",
       "      <td>0.593012</td>\n",
       "      <td>2.435218</td>\n",
       "      <td>0.0</td>\n",
       "      <td>0.509903</td>\n",
       "      <td>0.610119</td>\n",
       "      <td>0.712836</td>\n",
       "    </tr>\n",
       "    <tr>\n",
       "      <th>diagnosis[LG glioma]</th>\n",
       "      <td>-1.239530</td>\n",
       "      <td>0.289520</td>\n",
       "      <td>0.579555</td>\n",
       "      <td>-2.375436</td>\n",
       "      <td>-0.103623</td>\n",
       "      <td>0.092974</td>\n",
       "      <td>0.901565</td>\n",
       "      <td>0.0</td>\n",
       "      <td>-2.138762</td>\n",
       "      <td>0.032455</td>\n",
       "      <td>4.945417</td>\n",
       "    </tr>\n",
       "    <tr>\n",
       "      <th>diagnosis[Meningioma]</th>\n",
       "      <td>-2.154566</td>\n",
       "      <td>0.115954</td>\n",
       "      <td>0.450524</td>\n",
       "      <td>-3.037577</td>\n",
       "      <td>-1.271554</td>\n",
       "      <td>0.047951</td>\n",
       "      <td>0.280396</td>\n",
       "      <td>0.0</td>\n",
       "      <td>-4.782351</td>\n",
       "      <td>0.000002</td>\n",
       "      <td>19.138659</td>\n",
       "    </tr>\n",
       "    <tr>\n",
       "      <th>diagnosis[Other]</th>\n",
       "      <td>-1.268870</td>\n",
       "      <td>0.281149</td>\n",
       "      <td>0.617672</td>\n",
       "      <td>-2.479486</td>\n",
       "      <td>-0.058255</td>\n",
       "      <td>0.083786</td>\n",
       "      <td>0.943409</td>\n",
       "      <td>0.0</td>\n",
       "      <td>-2.054278</td>\n",
       "      <td>0.039949</td>\n",
       "      <td>4.645705</td>\n",
       "    </tr>\n",
       "    <tr>\n",
       "      <th>loc[Supratentorial]</th>\n",
       "      <td>0.441195</td>\n",
       "      <td>1.554563</td>\n",
       "      <td>0.703669</td>\n",
       "      <td>-0.937971</td>\n",
       "      <td>1.820361</td>\n",
       "      <td>0.391421</td>\n",
       "      <td>6.174084</td>\n",
       "      <td>0.0</td>\n",
       "      <td>0.626992</td>\n",
       "      <td>0.530665</td>\n",
       "      <td>0.914128</td>\n",
       "    </tr>\n",
       "    <tr>\n",
       "      <th>ki</th>\n",
       "      <td>-0.054955</td>\n",
       "      <td>0.946527</td>\n",
       "      <td>0.018314</td>\n",
       "      <td>-0.090850</td>\n",
       "      <td>-0.019061</td>\n",
       "      <td>0.913155</td>\n",
       "      <td>0.981120</td>\n",
       "      <td>0.0</td>\n",
       "      <td>-3.000768</td>\n",
       "      <td>0.002693</td>\n",
       "      <td>8.536573</td>\n",
       "    </tr>\n",
       "    <tr>\n",
       "      <th>gtv</th>\n",
       "      <td>0.034293</td>\n",
       "      <td>1.034887</td>\n",
       "      <td>0.022333</td>\n",
       "      <td>-0.009480</td>\n",
       "      <td>0.078065</td>\n",
       "      <td>0.990565</td>\n",
       "      <td>1.081192</td>\n",
       "      <td>0.0</td>\n",
       "      <td>1.535502</td>\n",
       "      <td>0.124661</td>\n",
       "      <td>3.003923</td>\n",
       "    </tr>\n",
       "    <tr>\n",
       "      <th>stereo[SRT]</th>\n",
       "      <td>0.177778</td>\n",
       "      <td>1.194560</td>\n",
       "      <td>0.601578</td>\n",
       "      <td>-1.001293</td>\n",
       "      <td>1.356848</td>\n",
       "      <td>0.367404</td>\n",
       "      <td>3.883933</td>\n",
       "      <td>0.0</td>\n",
       "      <td>0.295519</td>\n",
       "      <td>0.767597</td>\n",
       "      <td>0.381578</td>\n",
       "    </tr>\n",
       "  </tbody>\n",
       "</table>\n",
       "</div>"
      ],
      "text/plain": [
       "                           coef  exp(coef)  se(coef)  coef lower 95%  \\\n",
       "covariate                                                              \n",
       "sex[Male]              0.183748   1.201712  0.360358       -0.522541   \n",
       "diagnosis[LG glioma]  -1.239530   0.289520  0.579555       -2.375436   \n",
       "diagnosis[Meningioma] -2.154566   0.115954  0.450524       -3.037577   \n",
       "diagnosis[Other]      -1.268870   0.281149  0.617672       -2.479486   \n",
       "loc[Supratentorial]    0.441195   1.554563  0.703669       -0.937971   \n",
       "ki                    -0.054955   0.946527  0.018314       -0.090850   \n",
       "gtv                    0.034293   1.034887  0.022333       -0.009480   \n",
       "stereo[SRT]            0.177778   1.194560  0.601578       -1.001293   \n",
       "\n",
       "                       coef upper 95%  exp(coef) lower 95%  \\\n",
       "covariate                                                    \n",
       "sex[Male]                    0.890036             0.593012   \n",
       "diagnosis[LG glioma]        -0.103623             0.092974   \n",
       "diagnosis[Meningioma]       -1.271554             0.047951   \n",
       "diagnosis[Other]            -0.058255             0.083786   \n",
       "loc[Supratentorial]          1.820361             0.391421   \n",
       "ki                          -0.019061             0.913155   \n",
       "gtv                          0.078065             0.990565   \n",
       "stereo[SRT]                  1.356848             0.367404   \n",
       "\n",
       "                       exp(coef) upper 95%  cmp to         z         p  \\\n",
       "covariate                                                                \n",
       "sex[Male]                         2.435218     0.0  0.509903  0.610119   \n",
       "diagnosis[LG glioma]              0.901565     0.0 -2.138762  0.032455   \n",
       "diagnosis[Meningioma]             0.280396     0.0 -4.782351  0.000002   \n",
       "diagnosis[Other]                  0.943409     0.0 -2.054278  0.039949   \n",
       "loc[Supratentorial]               6.174084     0.0  0.626992  0.530665   \n",
       "ki                                0.981120     0.0 -3.000768  0.002693   \n",
       "gtv                               1.081192     0.0  1.535502  0.124661   \n",
       "stereo[SRT]                       3.883933     0.0  0.295519  0.767597   \n",
       "\n",
       "                        -log2(p)  \n",
       "covariate                         \n",
       "sex[Male]               0.712836  \n",
       "diagnosis[LG glioma]    4.945417  \n",
       "diagnosis[Meningioma]  19.138659  \n",
       "diagnosis[Other]        4.645705  \n",
       "loc[Supratentorial]     0.914128  \n",
       "ki                      8.536573  \n",
       "gtv                     3.003923  \n",
       "stereo[SRT]             0.381578  "
      ]
     },
     "execution_count": 14,
     "metadata": {},
     "output_type": "execute_result"
    }
   ],
   "source": [
    "# cleaning the data\n",
    "cleaned = BrainCancer.dropna()\n",
    "# Design matrix\n",
    "all_MS = MS(cleaned.columns , intercept=False)\n",
    "all_df = all_MS.fit_transform(cleaned)\n",
    "fit_all = coxph().fit(all_df ,\n",
    "'time',\n",
    "'status')\n",
    "fit_all.summary\n",
    "# fit_all.summary[['coef', 'se(coef)', 'p']]"
   ]
  },
  {
   "cell_type": "markdown",
   "metadata": {},
   "source": [
    "### Survival curves for each diagnosis category\n",
    " - Partial dependence plots: Relationship between a predictor variable and the model's prediction while holding the values of other predictors constant(at their average values or commonly used values)\n",
    " -  Mode for categorical columns ('diagnosis') and the mean for numerical columns are calculated "
   ]
  },
  {
   "cell_type": "code",
   "execution_count": 15,
   "metadata": {},
   "outputs": [],
   "source": [
    "# Creating a list of all uique diagnosis\n",
    "levels = cleaned['diagnosis'].unique()\n",
    "def representative(series):\n",
    "    if hasattr(series.dtype , 'categories'):\n",
    "        return pd.Series.mode(series)\n",
    "    else:\n",
    "        return series.mean()\n",
    "modal_data = cleaned.apply(representative , axis=0)"
   ]
  },
  {
   "cell_type": "code",
   "execution_count": 16,
   "metadata": {},
   "outputs": [
    {
     "data": {
      "text/plain": [
       "(1, 8)"
      ]
     },
     "execution_count": 16,
     "metadata": {},
     "output_type": "execute_result"
    }
   ],
   "source": [
    "modal_data.shape"
   ]
  },
  {
   "cell_type": "code",
   "execution_count": 17,
   "metadata": {},
   "outputs": [],
   "source": [
    "modal_df = pd.DataFrame([modal_data.iloc[0] for _ in range(len(levels))])\n",
    "modal_df['diagnosis'] = levels\n",
    "# modal_df"
   ]
  },
  {
   "cell_type": "code",
   "execution_count": 18,
   "metadata": {},
   "outputs": [],
   "source": [
    "modal_X = all_MS.transform(modal_df)\n",
    "modal_X.index = levels\n",
    "# modal_X"
   ]
  },
  {
   "cell_type": "code",
   "execution_count": 19,
   "metadata": {},
   "outputs": [
    {
     "data": {
      "text/plain": [
       "Text(0, 0.5, 'Estimated probability of Survival')"
      ]
     },
     "execution_count": 19,
     "metadata": {},
     "output_type": "execute_result"
    },
    {
     "data": {
      "image/png": "[encoded data removed]",
      "text/plain": [
       "<Figure size 640x480 with 1 Axes>"
      ]
     },
     "metadata": {},
     "output_type": "display_data"
    }
   ],
   "source": [
    "predicted_survival = fit_all.predict_survival_function(modal_X)\n",
    "predicted_survival.plot()\n",
    "plt.xlabel('Time in months')\n",
    "plt.ylabel('Estimated probability of Survival')\n",
    "\n",
    "# predicted_survival"
   ]
  },
  {
   "cell_type": "markdown",
   "metadata": {},
   "source": [
    "# Follow the link for the [Tutorial](https://drive.google.com/file/d/14QWqblU0LXq3ZM1_-VPBqFyFvso_UqHG/view?usp=drive_link) video"
   ]
  },
  {
   "cell_type": "code",
   "execution_count": null,
   "metadata": {},
   "outputs": [],
   "source": []
  },
  {
   "cell_type": "code",
   "execution_count": null,
   "metadata": {},
   "outputs": [],
   "source": []
  }
 ],
 "metadata": {
  "kernelspec": {
   "display_name": "Python 3 (ipykernel)",
   "language": "python",
   "name": "python3"
  },
  "language_info": {
   "codemirror_mode": {
    "name": "ipython",
    "version": 3
   },
   "file_extension": ".py",
   "mimetype": "text/x-python",
   "name": "python",
   "nbconvert_exporter": "python",
   "pygments_lexer": "ipython3",
   "version": "3.9.16"
  }
 },
 "nbformat": 4,
 "nbformat_minor": 2
}
