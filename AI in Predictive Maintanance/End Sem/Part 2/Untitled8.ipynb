{
 "cells": [
  {
   "cell_type": "code",
   "execution_count": 1,
   "metadata": {
    "id": "TH1z9PJyVStg"
   },
   "outputs": [],
   "source": [
    "import numpy as np\n",
    "import pandas as pd"
   ]
  },
  {
   "cell_type": "code",
   "execution_count": 2,
   "metadata": {
    "id": "0qW31kQMWXKB"
   },
   "outputs": [],
   "source": [
    "# !pip install lifelines\n",
    "# !pip install ISLP"
   ]
  },
  {
   "cell_type": "code",
   "execution_count": 3,
   "metadata": {
    "id": "RY0ZD1v6WTUp"
   },
   "outputs": [],
   "source": [
    "from ISLP.models import ModelSpec as MS\n",
    "import matplotlib.pyplot as plt\n",
    "from matplotlib.pyplot import subplots\n",
    "import seaborn as sns; sns.set()\n",
    "\n",
    "from lifelines import KaplanMeierFitter, CoxPHFitter\n",
    "from lifelines.statistics import logrank_test, multivariate_logrank_test"
   ]
  },
  {
   "cell_type": "code",
   "execution_count": 4,
   "metadata": {
    "id": "dGnW7x03V8ll"
   },
   "outputs": [],
   "source": [
    "data = pd.read_csv('Q2_odd.csv')"
   ]
  },
  {
   "cell_type": "code",
   "execution_count": 5,
   "metadata": {
    "colab": {
     "base_uri": "https://localhost:8080/",
     "height": 424
    },
    "id": "LC9wMttiWDNs",
    "outputId": "93f81cf0-d305-4471-e2c1-95a6fba74b6f"
   },
   "outputs": [
    {
     "data": {
      "text/html": [
       "<div>\n",
       "<style scoped>\n",
       "    .dataframe tbody tr th:only-of-type {\n",
       "        vertical-align: middle;\n",
       "    }\n",
       "\n",
       "    .dataframe tbody tr th {\n",
       "        vertical-align: top;\n",
       "    }\n",
       "\n",
       "    .dataframe thead th {\n",
       "        text-align: right;\n",
       "    }\n",
       "</style>\n",
       "<table border=\"1\" class=\"dataframe\">\n",
       "  <thead>\n",
       "    <tr style=\"text-align: right;\">\n",
       "      <th></th>\n",
       "      <th>posres</th>\n",
       "      <th>multi</th>\n",
       "      <th>clinend</th>\n",
       "      <th>mech</th>\n",
       "      <th>sampsize</th>\n",
       "      <th>budget</th>\n",
       "      <th>impact</th>\n",
       "      <th>time</th>\n",
       "      <th>status</th>\n",
       "    </tr>\n",
       "  </thead>\n",
       "  <tbody>\n",
       "    <tr>\n",
       "      <th>0</th>\n",
       "      <td>0</td>\n",
       "      <td>0</td>\n",
       "      <td>1</td>\n",
       "      <td>R01</td>\n",
       "      <td>39876</td>\n",
       "      <td>8.016941</td>\n",
       "      <td>44.016</td>\n",
       "      <td>11.203285</td>\n",
       "      <td>1</td>\n",
       "    </tr>\n",
       "    <tr>\n",
       "      <th>1</th>\n",
       "      <td>0</td>\n",
       "      <td>0</td>\n",
       "      <td>1</td>\n",
       "      <td>R01</td>\n",
       "      <td>39876</td>\n",
       "      <td>8.016941</td>\n",
       "      <td>23.494</td>\n",
       "      <td>15.178645</td>\n",
       "      <td>1</td>\n",
       "    </tr>\n",
       "    <tr>\n",
       "      <th>2</th>\n",
       "      <td>0</td>\n",
       "      <td>0</td>\n",
       "      <td>1</td>\n",
       "      <td>R01</td>\n",
       "      <td>8171</td>\n",
       "      <td>7.612606</td>\n",
       "      <td>8.391</td>\n",
       "      <td>24.410678</td>\n",
       "      <td>1</td>\n",
       "    </tr>\n",
       "    <tr>\n",
       "      <th>3</th>\n",
       "      <td>0</td>\n",
       "      <td>0</td>\n",
       "      <td>1</td>\n",
       "      <td>Contract</td>\n",
       "      <td>24335</td>\n",
       "      <td>11.771928</td>\n",
       "      <td>15.402</td>\n",
       "      <td>2.595483</td>\n",
       "      <td>1</td>\n",
       "    </tr>\n",
       "    <tr>\n",
       "      <th>4</th>\n",
       "      <td>0</td>\n",
       "      <td>0</td>\n",
       "      <td>1</td>\n",
       "      <td>Contract</td>\n",
       "      <td>33357</td>\n",
       "      <td>76.517537</td>\n",
       "      <td>16.783</td>\n",
       "      <td>8.607803</td>\n",
       "      <td>1</td>\n",
       "    </tr>\n",
       "    <tr>\n",
       "      <th>...</th>\n",
       "      <td>...</td>\n",
       "      <td>...</td>\n",
       "      <td>...</td>\n",
       "      <td>...</td>\n",
       "      <td>...</td>\n",
       "      <td>...</td>\n",
       "      <td>...</td>\n",
       "      <td>...</td>\n",
       "      <td>...</td>\n",
       "    </tr>\n",
       "    <tr>\n",
       "      <th>117</th>\n",
       "      <td>0</td>\n",
       "      <td>0</td>\n",
       "      <td>0</td>\n",
       "      <td>R01</td>\n",
       "      <td>239</td>\n",
       "      <td>1.600511</td>\n",
       "      <td>3.873</td>\n",
       "      <td>39.950719</td>\n",
       "      <td>1</td>\n",
       "    </tr>\n",
       "    <tr>\n",
       "      <th>118</th>\n",
       "      <td>0</td>\n",
       "      <td>0</td>\n",
       "      <td>0</td>\n",
       "      <td>R01</td>\n",
       "      <td>249</td>\n",
       "      <td>1.869710</td>\n",
       "      <td>1.438</td>\n",
       "      <td>17.051335</td>\n",
       "      <td>1</td>\n",
       "    </tr>\n",
       "    <tr>\n",
       "      <th>119</th>\n",
       "      <td>1</td>\n",
       "      <td>0</td>\n",
       "      <td>0</td>\n",
       "      <td>R01</td>\n",
       "      <td>201</td>\n",
       "      <td>1.747354</td>\n",
       "      <td>3.873</td>\n",
       "      <td>39.195072</td>\n",
       "      <td>1</td>\n",
       "    </tr>\n",
       "    <tr>\n",
       "      <th>120</th>\n",
       "      <td>1</td>\n",
       "      <td>0</td>\n",
       "      <td>0</td>\n",
       "      <td>R01</td>\n",
       "      <td>182</td>\n",
       "      <td>4.232768</td>\n",
       "      <td>7.508</td>\n",
       "      <td>18.398357</td>\n",
       "      <td>1</td>\n",
       "    </tr>\n",
       "    <tr>\n",
       "      <th>121</th>\n",
       "      <td>1</td>\n",
       "      <td>0</td>\n",
       "      <td>0</td>\n",
       "      <td>R18</td>\n",
       "      <td>234</td>\n",
       "      <td>2.733214</td>\n",
       "      <td>9.110</td>\n",
       "      <td>17.839836</td>\n",
       "      <td>1</td>\n",
       "    </tr>\n",
       "  </tbody>\n",
       "</table>\n",
       "<p>122 rows × 9 columns</p>\n",
       "</div>"
      ],
      "text/plain": [
       "     posres  multi  clinend      mech  sampsize     budget  impact       time  \\\n",
       "0         0      0        1       R01     39876   8.016941  44.016  11.203285   \n",
       "1         0      0        1       R01     39876   8.016941  23.494  15.178645   \n",
       "2         0      0        1       R01      8171   7.612606   8.391  24.410678   \n",
       "3         0      0        1  Contract     24335  11.771928  15.402   2.595483   \n",
       "4         0      0        1  Contract     33357  76.517537  16.783   8.607803   \n",
       "..      ...    ...      ...       ...       ...        ...     ...        ...   \n",
       "117       0      0        0       R01       239   1.600511   3.873  39.950719   \n",
       "118       0      0        0       R01       249   1.869710   1.438  17.051335   \n",
       "119       1      0        0       R01       201   1.747354   3.873  39.195072   \n",
       "120       1      0        0       R01       182   4.232768   7.508  18.398357   \n",
       "121       1      0        0       R18       234   2.733214   9.110  17.839836   \n",
       "\n",
       "     status  \n",
       "0         1  \n",
       "1         1  \n",
       "2         1  \n",
       "3         1  \n",
       "4         1  \n",
       "..      ...  \n",
       "117       1  \n",
       "118       1  \n",
       "119       1  \n",
       "120       1  \n",
       "121       1  \n",
       "\n",
       "[122 rows x 9 columns]"
      ]
     },
     "execution_count": 5,
     "metadata": {},
     "output_type": "execute_result"
    }
   ],
   "source": [
    "data"
   ]
  },
  {
   "cell_type": "code",
   "execution_count": null,
   "metadata": {
    "id": "ad-zhJ2bWD9w"
   },
   "outputs": [],
   "source": []
  },
  {
   "cell_type": "markdown",
   "metadata": {
    "id": "Hgh1EZ8vWsAr"
   },
   "source": [
    "__a. Plot the survival curve for the dataset__"
   ]
  },
  {
   "cell_type": "code",
   "execution_count": 6,
   "metadata": {
    "colab": {
     "base_uri": "https://localhost:8080/",
     "height": 497
    },
    "id": "ARySYONPWS8a",
    "outputId": "de1bd0b9-5bea-4233-9fbf-7661cd530587"
   },
   "outputs": [
    {
     "data": {
      "text/plain": [
       "Text(0.5, 1.0, 'Survival curve')"
      ]
     },
     "execution_count": 6,
     "metadata": {},
     "output_type": "execute_result"
    },
    {
     "data": {
      "image/png": "[encoded data removed]",
      "text/plain": [
       "<Figure size 640x480 with 1 Axes>"
      ]
     },
     "metadata": {},
     "output_type": "display_data"
    }
   ],
   "source": [
    "# Creating new object\n",
    "km = KaplanMeierFitter()\n",
    "# Fitting the data to the estimator and visualizing the survival curve\n",
    "# Pointwise Confidence interval is set to 90% by default\n",
    "km_brain = km.fit(data['time'], data['status'])\n",
    "km_brain.plot(label = 'Kalpan Meier estimate')\n",
    "plt.xlabel('Time in months')\n",
    "plt.ylabel('Estimated probability of Survival')\n",
    "plt.title('Survival curve')"
   ]
  },
  {
   "cell_type": "code",
   "execution_count": 7,
   "metadata": {
    "colab": {
     "base_uri": "https://localhost:8080/",
     "height": 458
    },
    "id": "kt07HLgMXWPb",
    "outputId": "222e9083-4d70-44a0-81ff-43f26993c1d0"
   },
   "outputs": [
    {
     "data": {
      "image/png": "[encoded data removed]",
      "text/plain": [
       "<Figure size 640x480 with 1 Axes>"
      ]
     },
     "metadata": {},
     "output_type": "display_data"
    }
   ],
   "source": [
    "# Initializing a directory to store data frames for each sex category\n",
    "by_mech = {}\n",
    "\n",
    "for sex, df in data.groupby('posres'):\n",
    "    by_mech[sex] = df\n",
    "    # Fitting the data to the estimator and visualizing the survival curve\n",
    "    km_sex = km.fit(df['time'], df['status'])\n",
    "    km_sex.plot(label = 'Sex=%s' % sex)\n",
    "    plt.xlabel('Time in months')\n",
    "    plt.ylabel('Estimated probability of Survival')"
   ]
  },
  {
   "cell_type": "code",
   "execution_count": 8,
   "metadata": {
    "id": "N2cnE5K1Zjq8"
   },
   "outputs": [],
   "source": [
    "# by_mech"
   ]
  },
  {
   "cell_type": "markdown",
   "metadata": {
    "id": "L5mPWvqwWx-a"
   },
   "source": [
    "__b. Perform log-rank test and report the p-value__"
   ]
  },
  {
   "cell_type": "code",
   "execution_count": 9,
   "metadata": {
    "colab": {
     "base_uri": "https://localhost:8080/",
     "height": 206
    },
    "id": "z1CdgB1jWo70",
    "outputId": "63a015d7-b0a3-4e2c-d074-1dda37fc1858"
   },
   "outputs": [
    {
     "data": {
      "text/html": [
       "<div>\n",
       "<style scoped>\n",
       "    .dataframe tbody tr th:only-of-type {\n",
       "        vertical-align: middle;\n",
       "    }\n",
       "\n",
       "    .dataframe tbody tr th {\n",
       "        vertical-align: top;\n",
       "    }\n",
       "\n",
       "    .dataframe thead th {\n",
       "        text-align: right;\n",
       "    }\n",
       "</style>\n",
       "<table border=\"1\" class=\"dataframe\">\n",
       "  <tbody>\n",
       "    <tr>\n",
       "      <th>t_0</th>\n",
       "      <td>-1</td>\n",
       "    </tr>\n",
       "    <tr>\n",
       "      <th>null_distribution</th>\n",
       "      <td>chi squared</td>\n",
       "    </tr>\n",
       "    <tr>\n",
       "      <th>degrees_of_freedom</th>\n",
       "      <td>1</td>\n",
       "    </tr>\n",
       "    <tr>\n",
       "      <th>test_name</th>\n",
       "      <td>logrank_test</td>\n",
       "    </tr>\n",
       "  </tbody>\n",
       "</table>\n",
       "</div><table border=\"1\" class=\"dataframe\">\n",
       "  <thead>\n",
       "    <tr style=\"text-align: right;\">\n",
       "      <th></th>\n",
       "      <th>test_statistic</th>\n",
       "      <th>p</th>\n",
       "      <th>-log2(p)</th>\n",
       "    </tr>\n",
       "  </thead>\n",
       "  <tbody>\n",
       "    <tr>\n",
       "      <th>0</th>\n",
       "      <td>0.00</td>\n",
       "      <td>0.97</td>\n",
       "      <td>0.05</td>\n",
       "    </tr>\n",
       "  </tbody>\n",
       "</table>"
      ],
      "text/latex": [
       "\\begin{tabular}{lrrr}\n",
       " & test_statistic & p & -log2(p) \\\\\n",
       "0 & 0.00 & 0.97 & 0.05 \\\\\n",
       "\\end{tabular}\n"
      ],
      "text/plain": [
       "<lifelines.StatisticalResult: logrank_test>\n",
       "               t_0 = -1\n",
       " null_distribution = chi squared\n",
       "degrees_of_freedom = 1\n",
       "         test_name = logrank_test\n",
       "\n",
       "---\n",
       " test_statistic    p  -log2(p)\n",
       "           0.00 0.97      0.05"
      ]
     },
     "execution_count": 9,
     "metadata": {},
     "output_type": "execute_result"
    }
   ],
   "source": [
    "logrank_test(by_mech[0]['time'], by_mech[1]['time'], by_mech[0]['status'], by_mech[1]['status'])"
   ]
  },
  {
   "cell_type": "markdown",
   "metadata": {
    "id": "wcYLWHDbYkb6"
   },
   "source": [
    "__c. Fit the data to the Cox’s proportional hazards model with linear and\n",
    "nonlinear terms for the hazard function h(t/xi). The nonlinear terms should\n",
    "be xixj form, for example, x1\n",
    "2\n",
    ", x2\n",
    "2\n",
    ",…, x1x3, x2x3,…..__"
   ]
  },
  {
   "cell_type": "code",
   "execution_count": 10,
   "metadata": {
    "colab": {
     "base_uri": "https://localhost:8080/",
     "height": 191
    },
    "id": "zSHfrAsuXuKR",
    "outputId": "d9be4be7-86e4-4987-e3b5-0e67d1c487a9"
   },
   "outputs": [
    {
     "data": {
      "text/html": [
       "<div>\n",
       "<style scoped>\n",
       "    .dataframe tbody tr th:only-of-type {\n",
       "        vertical-align: middle;\n",
       "    }\n",
       "\n",
       "    .dataframe tbody tr th {\n",
       "        vertical-align: top;\n",
       "    }\n",
       "\n",
       "    .dataframe thead th {\n",
       "        text-align: right;\n",
       "    }\n",
       "</style>\n",
       "<table border=\"1\" class=\"dataframe\">\n",
       "  <thead>\n",
       "    <tr style=\"text-align: right;\">\n",
       "      <th></th>\n",
       "      <th>coef</th>\n",
       "      <th>exp(coef)</th>\n",
       "      <th>se(coef)</th>\n",
       "      <th>coef lower 95%</th>\n",
       "      <th>coef upper 95%</th>\n",
       "      <th>exp(coef) lower 95%</th>\n",
       "      <th>exp(coef) upper 95%</th>\n",
       "      <th>cmp to</th>\n",
       "      <th>z</th>\n",
       "      <th>p</th>\n",
       "      <th>-log2(p)</th>\n",
       "    </tr>\n",
       "    <tr>\n",
       "      <th>covariate</th>\n",
       "      <th></th>\n",
       "      <th></th>\n",
       "      <th></th>\n",
       "      <th></th>\n",
       "      <th></th>\n",
       "      <th></th>\n",
       "      <th></th>\n",
       "      <th></th>\n",
       "      <th></th>\n",
       "      <th></th>\n",
       "      <th></th>\n",
       "    </tr>\n",
       "  </thead>\n",
       "  <tbody>\n",
       "    <tr>\n",
       "      <th>posres</th>\n",
       "      <td>-0.008852</td>\n",
       "      <td>0.991187</td>\n",
       "      <td>0.213986</td>\n",
       "      <td>-0.428257</td>\n",
       "      <td>0.410553</td>\n",
       "      <td>0.651644</td>\n",
       "      <td>1.507651</td>\n",
       "      <td>0.0</td>\n",
       "      <td>-0.041368</td>\n",
       "      <td>0.967003</td>\n",
       "      <td>0.048408</td>\n",
       "    </tr>\n",
       "  </tbody>\n",
       "</table>\n",
       "</div>"
      ],
      "text/plain": [
       "               coef  exp(coef)  se(coef)  coef lower 95%  coef upper 95%  \\\n",
       "covariate                                                                  \n",
       "posres    -0.008852   0.991187  0.213986       -0.428257        0.410553   \n",
       "\n",
       "           exp(coef) lower 95%  exp(coef) upper 95%  cmp to         z  \\\n",
       "covariate                                                               \n",
       "posres                0.651644             1.507651     0.0 -0.041368   \n",
       "\n",
       "                  p  -log2(p)  \n",
       "covariate                      \n",
       "posres     0.967003  0.048408  "
      ]
     },
     "execution_count": 10,
     "metadata": {},
     "output_type": "execute_result"
    }
   ],
   "source": [
    "coxph = CoxPHFitter\n",
    "sex_df = data[['time', 'status', 'posres']]\n",
    "# Design matrix for the Cox model using model specification class (MS) with sex as the only predictor\n",
    "model_df = MS(['time', 'status', 'posres'],intercept=False).fit_transform(sex_df)\n",
    "cox_fit = coxph().fit(model_df , 'time','status')\n",
    "# cox_fit.summary[['coef', 'se(coef)', 'p']]\n",
    "cox_fit.summary"
   ]
  },
  {
   "cell_type": "markdown",
   "metadata": {
    "id": "iWfKYLnzZ2TZ"
   },
   "source": [
    "__d. Determine the significant contribution of the variables__"
   ]
  },
  {
   "cell_type": "code",
   "execution_count": 11,
   "metadata": {
    "colab": {
     "base_uri": "https://localhost:8080/"
    },
    "id": "cQks4t48kNjb",
    "outputId": "820b711b-2a66-4d5d-c4d7-383b7cfbc5ae"
   },
   "outputs": [
    {
     "data": {
      "text/plain": [
       "Index(['posres', 'multi', 'clinend', 'mech', 'sampsize', 'budget', 'impact',\n",
       "       'time', 'status'],\n",
       "      dtype='object')"
      ]
     },
     "execution_count": 11,
     "metadata": {},
     "output_type": "execute_result"
    }
   ],
   "source": [
    "data.columns"
   ]
  },
  {
   "cell_type": "code",
   "execution_count": 12,
   "metadata": {
    "colab": {
     "base_uri": "https://localhost:8080/",
     "height": 472
    },
    "id": "vXRr2Sloj07p",
    "outputId": "143e3bc2-3805-446d-fefc-4d9b3cd8f430"
   },
   "outputs": [
    {
     "data": {
      "text/html": [
       "<div>\n",
       "<style scoped>\n",
       "    .dataframe tbody tr th:only-of-type {\n",
       "        vertical-align: middle;\n",
       "    }\n",
       "\n",
       "    .dataframe tbody tr th {\n",
       "        vertical-align: top;\n",
       "    }\n",
       "\n",
       "    .dataframe thead th {\n",
       "        text-align: right;\n",
       "    }\n",
       "</style>\n",
       "<table border=\"1\" class=\"dataframe\">\n",
       "  <thead>\n",
       "    <tr style=\"text-align: right;\">\n",
       "      <th></th>\n",
       "      <th>coef</th>\n",
       "      <th>exp(coef)</th>\n",
       "      <th>se(coef)</th>\n",
       "      <th>coef lower 95%</th>\n",
       "      <th>coef upper 95%</th>\n",
       "      <th>exp(coef) lower 95%</th>\n",
       "      <th>exp(coef) upper 95%</th>\n",
       "      <th>cmp to</th>\n",
       "      <th>z</th>\n",
       "      <th>p</th>\n",
       "      <th>-log2(p)</th>\n",
       "    </tr>\n",
       "    <tr>\n",
       "      <th>covariate</th>\n",
       "      <th></th>\n",
       "      <th></th>\n",
       "      <th></th>\n",
       "      <th></th>\n",
       "      <th></th>\n",
       "      <th></th>\n",
       "      <th></th>\n",
       "      <th></th>\n",
       "      <th></th>\n",
       "      <th></th>\n",
       "      <th></th>\n",
       "    </tr>\n",
       "  </thead>\n",
       "  <tbody>\n",
       "    <tr>\n",
       "      <th>posres</th>\n",
       "      <td>0.501158</td>\n",
       "      <td>1.650631</td>\n",
       "      <td>0.233445</td>\n",
       "      <td>0.043614</td>\n",
       "      <td>0.958702</td>\n",
       "      <td>1.044579</td>\n",
       "      <td>2.608309</td>\n",
       "      <td>0.0</td>\n",
       "      <td>2.146790</td>\n",
       "      <td>3.181001e-02</td>\n",
       "      <td>4.974375</td>\n",
       "    </tr>\n",
       "    <tr>\n",
       "      <th>multi</th>\n",
       "      <td>-0.031527</td>\n",
       "      <td>0.968965</td>\n",
       "      <td>0.290175</td>\n",
       "      <td>-0.600260</td>\n",
       "      <td>0.537206</td>\n",
       "      <td>0.548669</td>\n",
       "      <td>1.711220</td>\n",
       "      <td>0.0</td>\n",
       "      <td>-0.108648</td>\n",
       "      <td>9.134819e-01</td>\n",
       "      <td>0.130552</td>\n",
       "    </tr>\n",
       "    <tr>\n",
       "      <th>clinend</th>\n",
       "      <td>0.493307</td>\n",
       "      <td>1.637724</td>\n",
       "      <td>0.313078</td>\n",
       "      <td>-0.120315</td>\n",
       "      <td>1.106929</td>\n",
       "      <td>0.886641</td>\n",
       "      <td>3.025056</td>\n",
       "      <td>0.0</td>\n",
       "      <td>1.575668</td>\n",
       "      <td>1.151024e-01</td>\n",
       "      <td>3.119010</td>\n",
       "    </tr>\n",
       "    <tr>\n",
       "      <th>sampsize</th>\n",
       "      <td>0.000007</td>\n",
       "      <td>1.000007</td>\n",
       "      <td>0.000014</td>\n",
       "      <td>-0.000021</td>\n",
       "      <td>0.000035</td>\n",
       "      <td>0.999979</td>\n",
       "      <td>1.000035</td>\n",
       "      <td>0.0</td>\n",
       "      <td>0.471950</td>\n",
       "      <td>6.369624e-01</td>\n",
       "      <td>0.650720</td>\n",
       "    </tr>\n",
       "    <tr>\n",
       "      <th>budget</th>\n",
       "      <td>0.003589</td>\n",
       "      <td>1.003596</td>\n",
       "      <td>0.002515</td>\n",
       "      <td>-0.001341</td>\n",
       "      <td>0.008519</td>\n",
       "      <td>0.998660</td>\n",
       "      <td>1.008556</td>\n",
       "      <td>0.0</td>\n",
       "      <td>1.426866</td>\n",
       "      <td>1.536186e-01</td>\n",
       "      <td>2.702575</td>\n",
       "    </tr>\n",
       "    <tr>\n",
       "      <th>impact</th>\n",
       "      <td>0.052859</td>\n",
       "      <td>1.054281</td>\n",
       "      <td>0.008889</td>\n",
       "      <td>0.035437</td>\n",
       "      <td>0.070280</td>\n",
       "      <td>1.036073</td>\n",
       "      <td>1.072809</td>\n",
       "      <td>0.0</td>\n",
       "      <td>5.946755</td>\n",
       "      <td>2.735111e-09</td>\n",
       "      <td>28.445753</td>\n",
       "    </tr>\n",
       "  </tbody>\n",
       "</table>\n",
       "</div>"
      ],
      "text/plain": [
       "               coef  exp(coef)  se(coef)  coef lower 95%  coef upper 95%  \\\n",
       "covariate                                                                  \n",
       "posres     0.501158   1.650631  0.233445        0.043614        0.958702   \n",
       "multi     -0.031527   0.968965  0.290175       -0.600260        0.537206   \n",
       "clinend    0.493307   1.637724  0.313078       -0.120315        1.106929   \n",
       "sampsize   0.000007   1.000007  0.000014       -0.000021        0.000035   \n",
       "budget     0.003589   1.003596  0.002515       -0.001341        0.008519   \n",
       "impact     0.052859   1.054281  0.008889        0.035437        0.070280   \n",
       "\n",
       "           exp(coef) lower 95%  exp(coef) upper 95%  cmp to         z  \\\n",
       "covariate                                                               \n",
       "posres                1.044579             2.608309     0.0  2.146790   \n",
       "multi                 0.548669             1.711220     0.0 -0.108648   \n",
       "clinend               0.886641             3.025056     0.0  1.575668   \n",
       "sampsize              0.999979             1.000035     0.0  0.471950   \n",
       "budget                0.998660             1.008556     0.0  1.426866   \n",
       "impact                1.036073             1.072809     0.0  5.946755   \n",
       "\n",
       "                      p   -log2(p)  \n",
       "covariate                           \n",
       "posres     3.181001e-02   4.974375  \n",
       "multi      9.134819e-01   0.130552  \n",
       "clinend    1.151024e-01   3.119010  \n",
       "sampsize   6.369624e-01   0.650720  \n",
       "budget     1.536186e-01   2.702575  \n",
       "impact     2.735111e-09  28.445753  "
      ]
     },
     "execution_count": 12,
     "metadata": {},
     "output_type": "execute_result"
    }
   ],
   "source": [
    "# cleaning the data\n",
    "cleaned = data.dropna()\n",
    "cleaned = cleaned.drop(columns=['mech'])\n",
    "# Design matrix\n",
    "all_MS = MS(cleaned.columns , intercept=False)\n",
    "all_df = all_MS.fit_transform(cleaned)\n",
    "fit_all = coxph().fit(all_df ,'time','status')\n",
    "fit_all.summary"
   ]
  },
  {
   "cell_type": "code",
   "execution_count": 13,
   "metadata": {
    "colab": {
     "base_uri": "https://localhost:8080/",
     "height": 175
    },
    "id": "ly9Npux6ZbET",
    "outputId": "2520cf55-633b-435c-d0b4-c6f26abdcf24"
   },
   "outputs": [
    {
     "data": {
      "text/html": [
       "<div>\n",
       "<style scoped>\n",
       "    .dataframe tbody tr th:only-of-type {\n",
       "        vertical-align: middle;\n",
       "    }\n",
       "\n",
       "    .dataframe tbody tr th {\n",
       "        vertical-align: top;\n",
       "    }\n",
       "\n",
       "    .dataframe thead th {\n",
       "        text-align: right;\n",
       "    }\n",
       "</style>\n",
       "<table border=\"1\" class=\"dataframe\">\n",
       "  <tbody>\n",
       "    <tr>\n",
       "      <th>null_distribution</th>\n",
       "      <td>chi squared</td>\n",
       "    </tr>\n",
       "    <tr>\n",
       "      <th>degrees_freedom</th>\n",
       "      <td>1</td>\n",
       "    </tr>\n",
       "    <tr>\n",
       "      <th>test_name</th>\n",
       "      <td>log-likelihood ratio test</td>\n",
       "    </tr>\n",
       "  </tbody>\n",
       "</table>\n",
       "</div><table border=\"1\" class=\"dataframe\">\n",
       "  <thead>\n",
       "    <tr style=\"text-align: right;\">\n",
       "      <th></th>\n",
       "      <th>test_statistic</th>\n",
       "      <th>p</th>\n",
       "      <th>-log2(p)</th>\n",
       "    </tr>\n",
       "  </thead>\n",
       "  <tbody>\n",
       "    <tr>\n",
       "      <th>0</th>\n",
       "      <td>0.00</td>\n",
       "      <td>0.97</td>\n",
       "      <td>0.05</td>\n",
       "    </tr>\n",
       "  </tbody>\n",
       "</table>"
      ],
      "text/latex": [
       "\\begin{tabular}{lrrr}\n",
       " & test_statistic & p & -log2(p) \\\\\n",
       "0 & 0.00 & 0.97 & 0.05 \\\\\n",
       "\\end{tabular}\n"
      ],
      "text/plain": [
       "<lifelines.StatisticalResult: log-likelihood ratio test>\n",
       "null_distribution = chi squared\n",
       "  degrees_freedom = 1\n",
       "        test_name = log-likelihood ratio test\n",
       "\n",
       "---\n",
       " test_statistic    p  -log2(p)\n",
       "           0.00 0.97      0.05"
      ]
     },
     "execution_count": 13,
     "metadata": {},
     "output_type": "execute_result"
    }
   ],
   "source": [
    "# Null model (with no features)\n",
    "cox_fit.log_likelihood_ratio_test()"
   ]
  },
  {
   "cell_type": "code",
   "execution_count": null,
   "metadata": {
    "id": "vywKyEHfaBFu"
   },
   "outputs": [],
   "source": []
  },
  {
   "cell_type": "code",
   "execution_count": null,
   "metadata": {
    "id": "cFCxzCV1etrz"
   },
   "outputs": [],
   "source": []
  },
  {
   "cell_type": "code",
   "execution_count": null,
   "metadata": {
    "id": "cqYHOoA_etub"
   },
   "outputs": [],
   "source": []
  },
  {
   "cell_type": "code",
   "execution_count": null,
   "metadata": {
    "id": "5VOyruBketwr"
   },
   "outputs": [],
   "source": []
  },
  {
   "cell_type": "code",
   "execution_count": null,
   "metadata": {
    "id": "5nc-TYAPgPX4"
   },
   "outputs": [],
   "source": []
  }
 ],
 "metadata": {
  "colab": {
   "provenance": []
  },
  "kernelspec": {
   "display_name": "Python 3 (ipykernel)",
   "language": "python",
   "name": "python3"
  },
  "language_info": {
   "codemirror_mode": {
    "name": "ipython",
    "version": 3
   },
   "file_extension": ".py",
   "mimetype": "text/x-python",
   "name": "python",
   "nbconvert_exporter": "python",
   "pygments_lexer": "ipython3",
   "version": "3.9.16"
  }
 },
 "nbformat": 4,
 "nbformat_minor": 1
}
