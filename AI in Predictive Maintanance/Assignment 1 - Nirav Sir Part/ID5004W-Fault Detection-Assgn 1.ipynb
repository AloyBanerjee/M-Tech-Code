{
 "cells": [
  {
   "cell_type": "markdown",
   "id": "2b45311d",
   "metadata": {},
   "source": [
    "# Importing necessary Python libraries"
   ]
  },
  {
   "cell_type": "code",
   "execution_count": 1,
   "id": "cb5dfe1b",
   "metadata": {},
   "outputs": [],
   "source": [
    "import numpy as np\n",
    "import pandas as pd\n",
    "import matplotlib.pyplot as plt\n",
    "import seaborn as sns\n",
    "import math\n",
    "from sklearn import model_selection\n",
    "from sklearn import preprocessing\n",
    "from tsquared import HotellingT2\n",
    "from sklearn.decomposition import PCA\n",
    "from scipy.stats import chi2\n",
    "from matplotlib.patches import Ellipse\n",
    "from scipy.stats import f\n",
    "\n",
    "%matplotlib inline"
   ]
  },
  {
   "cell_type": "markdown",
   "id": "05237eda",
   "metadata": {},
   "source": [
    "# Reading the dataset"
   ]
  },
  {
   "cell_type": "code",
   "execution_count": 2,
   "id": "90cc7721",
   "metadata": {},
   "outputs": [
    {
     "data": {
      "text/html": [
       "<div>\n",
       "<style scoped>\n",
       "    .dataframe tbody tr th:only-of-type {\n",
       "        vertical-align: middle;\n",
       "    }\n",
       "\n",
       "    .dataframe tbody tr th {\n",
       "        vertical-align: top;\n",
       "    }\n",
       "\n",
       "    .dataframe thead th {\n",
       "        text-align: right;\n",
       "    }\n",
       "</style>\n",
       "<table border=\"1\" class=\"dataframe\">\n",
       "  <thead>\n",
       "    <tr style=\"text-align: right;\">\n",
       "      <th></th>\n",
       "      <th>Area</th>\n",
       "      <th>Perimeter</th>\n",
       "      <th>Compactness</th>\n",
       "      <th>Kernel.Length</th>\n",
       "      <th>Kernel.Width</th>\n",
       "      <th>Asymmetry.Coeff</th>\n",
       "      <th>Kernel.Groove</th>\n",
       "      <th>Type</th>\n",
       "    </tr>\n",
       "  </thead>\n",
       "  <tbody>\n",
       "    <tr>\n",
       "      <th>0</th>\n",
       "      <td>15.26</td>\n",
       "      <td>14.84</td>\n",
       "      <td>0.8710</td>\n",
       "      <td>5.763</td>\n",
       "      <td>3.312</td>\n",
       "      <td>2.221</td>\n",
       "      <td>5.220</td>\n",
       "      <td>1</td>\n",
       "    </tr>\n",
       "    <tr>\n",
       "      <th>1</th>\n",
       "      <td>14.88</td>\n",
       "      <td>14.57</td>\n",
       "      <td>0.8811</td>\n",
       "      <td>5.554</td>\n",
       "      <td>3.333</td>\n",
       "      <td>1.018</td>\n",
       "      <td>4.956</td>\n",
       "      <td>1</td>\n",
       "    </tr>\n",
       "    <tr>\n",
       "      <th>2</th>\n",
       "      <td>14.29</td>\n",
       "      <td>14.09</td>\n",
       "      <td>0.9050</td>\n",
       "      <td>5.291</td>\n",
       "      <td>3.337</td>\n",
       "      <td>2.699</td>\n",
       "      <td>4.825</td>\n",
       "      <td>1</td>\n",
       "    </tr>\n",
       "    <tr>\n",
       "      <th>3</th>\n",
       "      <td>13.84</td>\n",
       "      <td>13.94</td>\n",
       "      <td>0.8955</td>\n",
       "      <td>5.324</td>\n",
       "      <td>3.379</td>\n",
       "      <td>2.259</td>\n",
       "      <td>4.805</td>\n",
       "      <td>1</td>\n",
       "    </tr>\n",
       "    <tr>\n",
       "      <th>4</th>\n",
       "      <td>16.14</td>\n",
       "      <td>14.99</td>\n",
       "      <td>0.9034</td>\n",
       "      <td>5.658</td>\n",
       "      <td>3.562</td>\n",
       "      <td>1.355</td>\n",
       "      <td>5.175</td>\n",
       "      <td>1</td>\n",
       "    </tr>\n",
       "    <tr>\n",
       "      <th>...</th>\n",
       "      <td>...</td>\n",
       "      <td>...</td>\n",
       "      <td>...</td>\n",
       "      <td>...</td>\n",
       "      <td>...</td>\n",
       "      <td>...</td>\n",
       "      <td>...</td>\n",
       "      <td>...</td>\n",
       "    </tr>\n",
       "    <tr>\n",
       "      <th>194</th>\n",
       "      <td>12.19</td>\n",
       "      <td>13.20</td>\n",
       "      <td>0.8783</td>\n",
       "      <td>5.137</td>\n",
       "      <td>2.981</td>\n",
       "      <td>3.631</td>\n",
       "      <td>4.870</td>\n",
       "      <td>3</td>\n",
       "    </tr>\n",
       "    <tr>\n",
       "      <th>195</th>\n",
       "      <td>11.23</td>\n",
       "      <td>12.88</td>\n",
       "      <td>0.8511</td>\n",
       "      <td>5.140</td>\n",
       "      <td>2.795</td>\n",
       "      <td>4.325</td>\n",
       "      <td>5.003</td>\n",
       "      <td>3</td>\n",
       "    </tr>\n",
       "    <tr>\n",
       "      <th>196</th>\n",
       "      <td>13.20</td>\n",
       "      <td>13.66</td>\n",
       "      <td>0.8883</td>\n",
       "      <td>5.236</td>\n",
       "      <td>3.232</td>\n",
       "      <td>8.315</td>\n",
       "      <td>5.056</td>\n",
       "      <td>3</td>\n",
       "    </tr>\n",
       "    <tr>\n",
       "      <th>197</th>\n",
       "      <td>11.84</td>\n",
       "      <td>13.21</td>\n",
       "      <td>0.8521</td>\n",
       "      <td>5.175</td>\n",
       "      <td>2.836</td>\n",
       "      <td>3.598</td>\n",
       "      <td>5.044</td>\n",
       "      <td>3</td>\n",
       "    </tr>\n",
       "    <tr>\n",
       "      <th>198</th>\n",
       "      <td>12.30</td>\n",
       "      <td>13.34</td>\n",
       "      <td>0.8684</td>\n",
       "      <td>5.243</td>\n",
       "      <td>2.974</td>\n",
       "      <td>5.637</td>\n",
       "      <td>5.063</td>\n",
       "      <td>3</td>\n",
       "    </tr>\n",
       "  </tbody>\n",
       "</table>\n",
       "<p>199 rows × 8 columns</p>\n",
       "</div>"
      ],
      "text/plain": [
       "      Area  Perimeter  Compactness  Kernel.Length  Kernel.Width  \\\n",
       "0    15.26      14.84       0.8710          5.763         3.312   \n",
       "1    14.88      14.57       0.8811          5.554         3.333   \n",
       "2    14.29      14.09       0.9050          5.291         3.337   \n",
       "3    13.84      13.94       0.8955          5.324         3.379   \n",
       "4    16.14      14.99       0.9034          5.658         3.562   \n",
       "..     ...        ...          ...            ...           ...   \n",
       "194  12.19      13.20       0.8783          5.137         2.981   \n",
       "195  11.23      12.88       0.8511          5.140         2.795   \n",
       "196  13.20      13.66       0.8883          5.236         3.232   \n",
       "197  11.84      13.21       0.8521          5.175         2.836   \n",
       "198  12.30      13.34       0.8684          5.243         2.974   \n",
       "\n",
       "     Asymmetry.Coeff  Kernel.Groove  Type  \n",
       "0              2.221          5.220     1  \n",
       "1              1.018          4.956     1  \n",
       "2              2.699          4.825     1  \n",
       "3              2.259          4.805     1  \n",
       "4              1.355          5.175     1  \n",
       "..               ...            ...   ...  \n",
       "194            3.631          4.870     3  \n",
       "195            4.325          5.003     3  \n",
       "196            8.315          5.056     3  \n",
       "197            3.598          5.044     3  \n",
       "198            5.637          5.063     3  \n",
       "\n",
       "[199 rows x 8 columns]"
      ]
     },
     "execution_count": 2,
     "metadata": {},
     "output_type": "execute_result"
    }
   ],
   "source": [
    "dat = pd.read_csv('seeds.csv')\n",
    "dat"
   ]
  },
  {
   "cell_type": "code",
   "execution_count": 3,
   "id": "633adf71",
   "metadata": {},
   "outputs": [
    {
     "data": {
      "text/html": [
       "<div>\n",
       "<style scoped>\n",
       "    .dataframe tbody tr th:only-of-type {\n",
       "        vertical-align: middle;\n",
       "    }\n",
       "\n",
       "    .dataframe tbody tr th {\n",
       "        vertical-align: top;\n",
       "    }\n",
       "\n",
       "    .dataframe thead th {\n",
       "        text-align: right;\n",
       "    }\n",
       "</style>\n",
       "<table border=\"1\" class=\"dataframe\">\n",
       "  <thead>\n",
       "    <tr style=\"text-align: right;\">\n",
       "      <th></th>\n",
       "      <th>Area</th>\n",
       "      <th>Perimeter</th>\n",
       "      <th>Compactness</th>\n",
       "      <th>Kernel.Length</th>\n",
       "      <th>Kernel.Width</th>\n",
       "      <th>Asymmetry.Coeff</th>\n",
       "      <th>Kernel.Groove</th>\n",
       "      <th>Type</th>\n",
       "    </tr>\n",
       "  </thead>\n",
       "  <tbody>\n",
       "    <tr>\n",
       "      <th>count</th>\n",
       "      <td>199.000000</td>\n",
       "      <td>199.000000</td>\n",
       "      <td>199.000000</td>\n",
       "      <td>199.000000</td>\n",
       "      <td>199.000000</td>\n",
       "      <td>199.000000</td>\n",
       "      <td>199.000000</td>\n",
       "      <td>199.000000</td>\n",
       "    </tr>\n",
       "    <tr>\n",
       "      <th>mean</th>\n",
       "      <td>14.918744</td>\n",
       "      <td>14.595829</td>\n",
       "      <td>0.870811</td>\n",
       "      <td>5.643151</td>\n",
       "      <td>3.265533</td>\n",
       "      <td>3.699217</td>\n",
       "      <td>5.420653</td>\n",
       "      <td>1.994975</td>\n",
       "    </tr>\n",
       "    <tr>\n",
       "      <th>std</th>\n",
       "      <td>2.919976</td>\n",
       "      <td>1.310445</td>\n",
       "      <td>0.023320</td>\n",
       "      <td>0.443593</td>\n",
       "      <td>0.378322</td>\n",
       "      <td>1.471102</td>\n",
       "      <td>0.492718</td>\n",
       "      <td>0.813382</td>\n",
       "    </tr>\n",
       "    <tr>\n",
       "      <th>min</th>\n",
       "      <td>10.590000</td>\n",
       "      <td>12.410000</td>\n",
       "      <td>0.808100</td>\n",
       "      <td>4.899000</td>\n",
       "      <td>2.630000</td>\n",
       "      <td>0.765100</td>\n",
       "      <td>4.519000</td>\n",
       "      <td>1.000000</td>\n",
       "    </tr>\n",
       "    <tr>\n",
       "      <th>25%</th>\n",
       "      <td>12.330000</td>\n",
       "      <td>13.470000</td>\n",
       "      <td>0.857100</td>\n",
       "      <td>5.267000</td>\n",
       "      <td>2.954500</td>\n",
       "      <td>2.570000</td>\n",
       "      <td>5.046000</td>\n",
       "      <td>1.000000</td>\n",
       "    </tr>\n",
       "    <tr>\n",
       "      <th>50%</th>\n",
       "      <td>14.430000</td>\n",
       "      <td>14.370000</td>\n",
       "      <td>0.873400</td>\n",
       "      <td>5.541000</td>\n",
       "      <td>3.245000</td>\n",
       "      <td>3.631000</td>\n",
       "      <td>5.228000</td>\n",
       "      <td>2.000000</td>\n",
       "    </tr>\n",
       "    <tr>\n",
       "      <th>75%</th>\n",
       "      <td>17.455000</td>\n",
       "      <td>15.805000</td>\n",
       "      <td>0.886800</td>\n",
       "      <td>6.002000</td>\n",
       "      <td>3.564500</td>\n",
       "      <td>4.799000</td>\n",
       "      <td>5.879000</td>\n",
       "      <td>3.000000</td>\n",
       "    </tr>\n",
       "    <tr>\n",
       "      <th>max</th>\n",
       "      <td>21.180000</td>\n",
       "      <td>17.250000</td>\n",
       "      <td>0.918300</td>\n",
       "      <td>6.675000</td>\n",
       "      <td>4.033000</td>\n",
       "      <td>8.315000</td>\n",
       "      <td>6.550000</td>\n",
       "      <td>3.000000</td>\n",
       "    </tr>\n",
       "  </tbody>\n",
       "</table>\n",
       "</div>"
      ],
      "text/plain": [
       "             Area   Perimeter  Compactness  Kernel.Length  Kernel.Width  \\\n",
       "count  199.000000  199.000000   199.000000     199.000000    199.000000   \n",
       "mean    14.918744   14.595829     0.870811       5.643151      3.265533   \n",
       "std      2.919976    1.310445     0.023320       0.443593      0.378322   \n",
       "min     10.590000   12.410000     0.808100       4.899000      2.630000   \n",
       "25%     12.330000   13.470000     0.857100       5.267000      2.954500   \n",
       "50%     14.430000   14.370000     0.873400       5.541000      3.245000   \n",
       "75%     17.455000   15.805000     0.886800       6.002000      3.564500   \n",
       "max     21.180000   17.250000     0.918300       6.675000      4.033000   \n",
       "\n",
       "       Asymmetry.Coeff  Kernel.Groove        Type  \n",
       "count       199.000000     199.000000  199.000000  \n",
       "mean          3.699217       5.420653    1.994975  \n",
       "std           1.471102       0.492718    0.813382  \n",
       "min           0.765100       4.519000    1.000000  \n",
       "25%           2.570000       5.046000    1.000000  \n",
       "50%           3.631000       5.228000    2.000000  \n",
       "75%           4.799000       5.879000    3.000000  \n",
       "max           8.315000       6.550000    3.000000  "
      ]
     },
     "execution_count": 3,
     "metadata": {},
     "output_type": "execute_result"
    }
   ],
   "source": [
    "dat.describe()"
   ]
  },
  {
   "cell_type": "code",
   "execution_count": 4,
   "id": "ffbd1829",
   "metadata": {},
   "outputs": [],
   "source": [
    "# Converting the pandas dataframe into a 2-D numpy array\n",
    "dat_np = np.array(dat)"
   ]
  },
  {
   "cell_type": "code",
   "execution_count": 5,
   "id": "1d69dac3",
   "metadata": {},
   "outputs": [
    {
     "data": {
      "text/plain": [
       "(199, 8)"
      ]
     },
     "execution_count": 5,
     "metadata": {},
     "output_type": "execute_result"
    }
   ],
   "source": [
    "dat_np.shape\n",
    "# We can see the same dataframe row and column dimensions preserved as shown below"
   ]
  },
  {
   "cell_type": "code",
   "execution_count": 6,
   "id": "c3e1e5cb",
   "metadata": {},
   "outputs": [
    {
     "data": {
      "text/plain": [
       "(199, 7)"
      ]
     },
     "execution_count": 6,
     "metadata": {},
     "output_type": "execute_result"
    }
   ],
   "source": [
    "# Scaling the input data\n",
    "X_scaled = preprocessing.scale(dat_np[:,:7])\n",
    "X_scaled.shape"
   ]
  },
  {
   "cell_type": "markdown",
   "id": "9e081073",
   "metadata": {},
   "source": [
    "# Q2.a - Find the trace of Λ"
   ]
  },
  {
   "cell_type": "code",
   "execution_count": 7,
   "id": "7cd6cce2",
   "metadata": {},
   "outputs": [
    {
     "name": "stdout",
     "output_type": "stream",
     "text": [
      "Eigen values are:\n",
      "\n",
      " [[5.05691778e+00 0.00000000e+00 0.00000000e+00 0.00000000e+00\n",
      "  0.00000000e+00 0.00000000e+00 0.00000000e+00]\n",
      " [0.00000000e+00 1.20519035e+00 0.00000000e+00 0.00000000e+00\n",
      "  0.00000000e+00 0.00000000e+00 0.00000000e+00]\n",
      " [0.00000000e+00 0.00000000e+00 6.79631565e-01 0.00000000e+00\n",
      "  0.00000000e+00 0.00000000e+00 0.00000000e+00]\n",
      " [0.00000000e+00 0.00000000e+00 0.00000000e+00 6.85475795e-02\n",
      "  0.00000000e+00 0.00000000e+00 0.00000000e+00]\n",
      " [0.00000000e+00 0.00000000e+00 0.00000000e+00 0.00000000e+00\n",
      "  1.89074688e-02 0.00000000e+00 0.00000000e+00]\n",
      " [0.00000000e+00 0.00000000e+00 0.00000000e+00 0.00000000e+00\n",
      "  0.00000000e+00 8.16380060e-04 0.00000000e+00]\n",
      " [0.00000000e+00 0.00000000e+00 0.00000000e+00 0.00000000e+00\n",
      "  0.00000000e+00 0.00000000e+00 5.34241202e-03]]\n",
      "\n",
      "\n",
      "Eigen vectors are:\n",
      "\n",
      " [[ 0.44444526  0.0268951  -0.02541939  0.19763627  0.19751625 -0.73412145\n",
      "  -0.42905925]\n",
      " [ 0.44156742  0.08298812  0.06019769  0.30034829  0.16637062  0.67153918\n",
      "  -0.47503082]\n",
      " [ 0.27791499 -0.52535969 -0.63238211 -0.34000075 -0.32627308  0.07310414\n",
      "  -0.13947927]\n",
      " [ 0.42412605  0.200075    0.21443932  0.25098045 -0.76832639 -0.0463691\n",
      "   0.28042137]\n",
      " [ 0.43293659 -0.11572453 -0.2151238   0.20373132  0.46870015  0.03700686\n",
      "   0.70024261]\n",
      " [-0.1157433   0.72122562 -0.67513087  0.09326364 -0.04045161  0.00383945\n",
      "  -0.01691821]\n",
      " [ 0.38669933  0.37788656  0.21853787 -0.80120818  0.12333864  0.0349609\n",
      "   0.03920887]]\n"
     ]
    }
   ],
   "source": [
    "# Finding the sample covariance matrix\n",
    "n = dat_np.shape[0]\n",
    "# Manual sample covariance matrix without mean shifting\n",
    "S = (dat_np[:,:7].T.dot(dat_np[:,:7]))/(n-1)\n",
    "# Sample covariance matrix with mean shifting\n",
    "cov_mat = np.cov(X_scaled.T)\n",
    "\n",
    "# Computing the eigenvalues and eigenvectors\n",
    "eigvals, eigvecs = np.linalg.eig(cov_mat)\n",
    "eigvals = np.diag(eigvals)\n",
    "#eigvecs = eigvecs.reshape(-1,1)\n",
    "\n",
    "print(\"Eigen values are:\\n\\n\", eigvals)\n",
    "print(\"\\n\")\n",
    "print(\"Eigen vectors are:\\n\\n\", eigvecs)"
   ]
  },
  {
   "cell_type": "code",
   "execution_count": 8,
   "id": "5fa3e54a",
   "metadata": {},
   "outputs": [
    {
     "name": "stdout",
     "output_type": "stream",
     "text": [
      "The shape of the eigenvalues diagonal matrix is: (7, 7)\n",
      "The shape of the eigenvectors matrix is: (7, 7)\n"
     ]
    }
   ],
   "source": [
    "# Checking the shapes of the eigenvalues and the eigenvectors\n",
    "print(\"The shape of the eigenvalues diagonal matrix is:\",eigvals.shape)\n",
    "print(\"The shape of the eigenvectors matrix is:\", eigvecs.shape)"
   ]
  },
  {
   "cell_type": "code",
   "execution_count": 9,
   "id": "b84c16ac",
   "metadata": {},
   "outputs": [
    {
     "name": "stdout",
     "output_type": "stream",
     "text": [
      "The trace of the eigen values matrix is: 7.035353535353538\n"
     ]
    }
   ],
   "source": [
    "# Trace of the lambda matrix is:\n",
    "print(\"The trace of the eigen values matrix is:\", np.trace(eigvals))"
   ]
  },
  {
   "cell_type": "markdown",
   "id": "5cef9940",
   "metadata": {},
   "source": [
    "# Q2.b - Find the basic statistics (mean and standard deviation) for the all the types of seeds"
   ]
  },
  {
   "cell_type": "code",
   "execution_count": 10,
   "id": "b68dee49",
   "metadata": {},
   "outputs": [
    {
     "name": "stdout",
     "output_type": "stream",
     "text": [
      "Printing MEANs of each input feature by seed types:\n"
     ]
    },
    {
     "data": {
      "text/html": [
       "<div>\n",
       "<style scoped>\n",
       "    .dataframe tbody tr th:only-of-type {\n",
       "        vertical-align: middle;\n",
       "    }\n",
       "\n",
       "    .dataframe tbody tr th {\n",
       "        vertical-align: top;\n",
       "    }\n",
       "\n",
       "    .dataframe thead th {\n",
       "        text-align: right;\n",
       "    }\n",
       "</style>\n",
       "<table border=\"1\" class=\"dataframe\">\n",
       "  <thead>\n",
       "    <tr style=\"text-align: right;\">\n",
       "      <th>Type</th>\n",
       "      <th>1</th>\n",
       "      <th>2</th>\n",
       "      <th>3</th>\n",
       "    </tr>\n",
       "  </thead>\n",
       "  <tbody>\n",
       "    <tr>\n",
       "      <th>Area</th>\n",
       "      <td>14.354394</td>\n",
       "      <td>18.370147</td>\n",
       "      <td>11.881077</td>\n",
       "    </tr>\n",
       "    <tr>\n",
       "      <th>Perimeter</th>\n",
       "      <td>14.306818</td>\n",
       "      <td>16.156912</td>\n",
       "      <td>13.256154</td>\n",
       "    </tr>\n",
       "    <tr>\n",
       "      <th>Compactness</th>\n",
       "      <td>0.879892</td>\n",
       "      <td>0.882965</td>\n",
       "      <td>0.848874</td>\n",
       "    </tr>\n",
       "    <tr>\n",
       "      <th>Kernel.Length</th>\n",
       "      <td>5.513000</td>\n",
       "      <td>6.157838</td>\n",
       "      <td>5.236862</td>\n",
       "    </tr>\n",
       "    <tr>\n",
       "      <th>Kernel.Width</th>\n",
       "      <td>3.247485</td>\n",
       "      <td>3.678647</td>\n",
       "      <td>2.851677</td>\n",
       "    </tr>\n",
       "    <tr>\n",
       "      <th>Asymmetry.Coeff</th>\n",
       "      <td>2.690670</td>\n",
       "      <td>3.657250</td>\n",
       "      <td>4.767185</td>\n",
       "    </tr>\n",
       "    <tr>\n",
       "      <th>Kernel.Groove</th>\n",
       "      <td>5.087197</td>\n",
       "      <td>6.026515</td>\n",
       "      <td>5.125415</td>\n",
       "    </tr>\n",
       "  </tbody>\n",
       "</table>\n",
       "</div>"
      ],
      "text/plain": [
       "Type                     1          2          3\n",
       "Area             14.354394  18.370147  11.881077\n",
       "Perimeter        14.306818  16.156912  13.256154\n",
       "Compactness       0.879892   0.882965   0.848874\n",
       "Kernel.Length     5.513000   6.157838   5.236862\n",
       "Kernel.Width      3.247485   3.678647   2.851677\n",
       "Asymmetry.Coeff   2.690670   3.657250   4.767185\n",
       "Kernel.Groove     5.087197   6.026515   5.125415"
      ]
     },
     "execution_count": 10,
     "metadata": {},
     "output_type": "execute_result"
    }
   ],
   "source": [
    "print(\"Printing MEANs of each input feature by seed types:\")\n",
    "seed_type = dat.groupby('Type')\n",
    "seed_type.mean().transpose()"
   ]
  },
  {
   "cell_type": "code",
   "execution_count": 11,
   "id": "d36955be",
   "metadata": {},
   "outputs": [
    {
     "name": "stdout",
     "output_type": "stream",
     "text": [
      "Printing STANDARD DEVIATIONS of each input feature by seed types:\n"
     ]
    },
    {
     "data": {
      "text/html": [
       "<div>\n",
       "<style scoped>\n",
       "    .dataframe tbody tr th:only-of-type {\n",
       "        vertical-align: middle;\n",
       "    }\n",
       "\n",
       "    .dataframe tbody tr th {\n",
       "        vertical-align: top;\n",
       "    }\n",
       "\n",
       "    .dataframe thead th {\n",
       "        text-align: right;\n",
       "    }\n",
       "</style>\n",
       "<table border=\"1\" class=\"dataframe\">\n",
       "  <thead>\n",
       "    <tr style=\"text-align: right;\">\n",
       "      <th>Type</th>\n",
       "      <th>1</th>\n",
       "      <th>2</th>\n",
       "      <th>3</th>\n",
       "    </tr>\n",
       "  </thead>\n",
       "  <tbody>\n",
       "    <tr>\n",
       "      <th>Area</th>\n",
       "      <td>1.178117</td>\n",
       "      <td>1.413670</td>\n",
       "      <td>0.720822</td>\n",
       "    </tr>\n",
       "    <tr>\n",
       "      <th>Perimeter</th>\n",
       "      <td>0.559209</td>\n",
       "      <td>0.599224</td>\n",
       "      <td>0.347975</td>\n",
       "    </tr>\n",
       "    <tr>\n",
       "      <th>Compactness</th>\n",
       "      <td>0.016349</td>\n",
       "      <td>0.015371</td>\n",
       "      <td>0.020807</td>\n",
       "    </tr>\n",
       "    <tr>\n",
       "      <th>Kernel.Length</th>\n",
       "      <td>0.228527</td>\n",
       "      <td>0.259336</td>\n",
       "      <td>0.136917</td>\n",
       "    </tr>\n",
       "    <tr>\n",
       "      <th>Kernel.Width</th>\n",
       "      <td>0.173251</td>\n",
       "      <td>0.185824</td>\n",
       "      <td>0.143343</td>\n",
       "    </tr>\n",
       "    <tr>\n",
       "      <th>Asymmetry.Coeff</th>\n",
       "      <td>1.198981</td>\n",
       "      <td>1.195293</td>\n",
       "      <td>1.237093</td>\n",
       "    </tr>\n",
       "    <tr>\n",
       "      <th>Kernel.Groove</th>\n",
       "      <td>0.259822</td>\n",
       "      <td>0.246663</td>\n",
       "      <td>0.160033</td>\n",
       "    </tr>\n",
       "  </tbody>\n",
       "</table>\n",
       "</div>"
      ],
      "text/plain": [
       "Type                    1         2         3\n",
       "Area             1.178117  1.413670  0.720822\n",
       "Perimeter        0.559209  0.599224  0.347975\n",
       "Compactness      0.016349  0.015371  0.020807\n",
       "Kernel.Length    0.228527  0.259336  0.136917\n",
       "Kernel.Width     0.173251  0.185824  0.143343\n",
       "Asymmetry.Coeff  1.198981  1.195293  1.237093\n",
       "Kernel.Groove    0.259822  0.246663  0.160033"
      ]
     },
     "execution_count": 11,
     "metadata": {},
     "output_type": "execute_result"
    }
   ],
   "source": [
    "print(\"Printing STANDARD DEVIATIONS of each input feature by seed types:\")\n",
    "seed_type = dat.groupby('Type')\n",
    "seed_type.std().transpose()"
   ]
  },
  {
   "cell_type": "markdown",
   "id": "a23538ab",
   "metadata": {},
   "source": [
    "# Q2.c - Split the data into training and test data (80:20) and calculate the T^2 statistic"
   ]
  },
  {
   "cell_type": "code",
   "execution_count": 12,
   "id": "48293689",
   "metadata": {},
   "outputs": [],
   "source": [
    "X = dat_np[:,:7]\n",
    "Y = dat_np[:,-1]\n",
    "\n",
    "x_train, x_test, y_train, y_test = model_selection.train_test_split(X, Y, test_size=0.20, random_state=42)\n",
    "y_train = y_train.reshape(-1,1)\n",
    "y_test = y_test.reshape(-1,1)"
   ]
  },
  {
   "cell_type": "code",
   "execution_count": 13,
   "id": "d0ef912f",
   "metadata": {},
   "outputs": [
    {
     "name": "stdout",
     "output_type": "stream",
     "text": [
      "x_train's shape: (159, 7)\n",
      "y_train's shape: (159, 1)\n",
      "x_test's shape: (40, 7)\n",
      "y_test's shape: (40, 1)\n"
     ]
    }
   ],
   "source": [
    "# Checking the array shapes of the split data\n",
    "print(\"x_train's shape:\", x_train.shape)\n",
    "print(\"y_train's shape:\", y_train.shape)\n",
    "print(\"x_test's shape:\", x_test.shape)\n",
    "print(\"y_test's shape:\", y_test.shape)"
   ]
  },
  {
   "cell_type": "code",
   "execution_count": 14,
   "id": "12db1629",
   "metadata": {},
   "outputs": [],
   "source": [
    "# Scaling the training and the test data separately\n",
    "x_train_scaled = preprocessing.scale(x_train)\n",
    "x_test_scaled = preprocessing.scale(x_test)"
   ]
  },
  {
   "cell_type": "code",
   "execution_count": 15,
   "id": "396bee6d",
   "metadata": {},
   "outputs": [
    {
     "name": "stdout",
     "output_type": "stream",
     "text": [
      "Diagonal matrix of eigenvalues (Lambda):\n",
      " [[5.06 0.   0.   0.   0.   0.   0.  ]\n",
      " [0.   1.22 0.   0.   0.   0.   0.  ]\n",
      " [0.   0.   0.66 0.   0.   0.   0.  ]\n",
      " [0.   0.   0.   0.07 0.   0.   0.  ]\n",
      " [0.   0.   0.   0.   0.02 0.   0.  ]\n",
      " [0.   0.   0.   0.   0.   0.01 0.  ]\n",
      " [0.   0.   0.   0.   0.   0.   0.  ]]\n",
      "\n",
      "\n",
      "Eigenvalue 1 : 5.0616017684436505\n",
      "Eigenvector 1 : [ 0.44440222  0.44148671  0.27846524  0.42576754  0.43325112 -0.12320394\n",
      "  0.38195487]\n",
      "\n",
      "Eigenvalue 2 : 1.2203678507402318\n",
      "Eigenvector 2 : [ 0.02978046  0.08300594 -0.52465338  0.19378946 -0.11344396  0.71448362\n",
      "  0.39503321]\n",
      "\n",
      "Eigenvalue 3 : 0.6623534238935319\n",
      "Eigenvector 3 : [-0.02488146  0.0613306  -0.63413364  0.20191396 -0.2112561  -0.67935876\n",
      "  0.21579452]\n",
      "\n",
      "Eigenvalue 4 : 0.07376766544216427\n",
      "Eigenvector 4 : [ 0.2030799   0.30216001 -0.36231727  0.22243039  0.22468262  0.1030365\n",
      " -0.79095511]\n",
      "\n",
      "Eigenvalue 5 : 0.019554429896357042\n",
      "Eigenvector 5 : [ 0.1805387   0.14487001 -0.30149014 -0.77615235  0.47775963 -0.04320036\n",
      "  0.15162174]\n",
      "\n",
      "Eigenvalue 6 : 0.005856674891028715\n",
      "Eigenvector 6 : [-0.43153831 -0.48264676 -0.13289104  0.29430866  0.68883924 -0.01714464\n",
      "  0.0419016 ]\n",
      "\n",
      "Eigenvalue 7 : 0.0008019841613875273\n",
      "Eigenvector 7 : [-0.73548605  0.67022546  0.07239009 -0.04350944  0.03948112  0.00537449\n",
      "  0.03372048]\n",
      "\n"
     ]
    }
   ],
   "source": [
    "# Eigenvalue decomposition\n",
    "cov_mat_train = np.cov(x_train_scaled.T)\n",
    "eigvals_train_scaled, eigvecs_train_scaled = np.linalg.eig(cov_mat_train)\n",
    "\n",
    "# Sort eigenvalues and eigenvectors in descending order\n",
    "eigvals_train_indices = np.argsort(eigvals_train_scaled)[::-1]\n",
    "eigvals_train_sorted = eigvals_train_scaled[eigvals_train_indices]\n",
    "eigvecs_train_sorted = eigvecs_train_scaled[:, eigvals_train_indices]\n",
    "\n",
    "lambda_train_scaled = np.diag(eigvals_train_sorted)\n",
    "\n",
    "print(\"Diagonal matrix of eigenvalues (Lambda):\\n\", np.round(lambda_train_scaled,2))\n",
    "print(\"\\n\")\n",
    "\n",
    "# Print the eigenvalues and eigenvectors\n",
    "for i in range(len(eigvals_train_sorted)):\n",
    "    print(\"Eigenvalue\", i+1, \":\", eigvals_train_sorted[i])\n",
    "    print(\"Eigenvector\", i+1, \":\", eigvecs_train_sorted[:, i])\n",
    "    print()"
   ]
  },
  {
   "cell_type": "code",
   "execution_count": 16,
   "id": "840d362f",
   "metadata": {},
   "outputs": [
    {
     "name": "stdout",
     "output_type": "stream",
     "text": [
      "T_squared statistic calculated for each sample manually with array operations:\n",
      "\n",
      " [ 9.20670525  4.41231858  5.04357688  3.07609455  1.45484681  8.44101252\n",
      "  4.09760412  5.46926895  7.80615417  6.05723196  3.11357891  2.97873796\n",
      "  5.1437081   6.27484444 13.99104358  7.49117401  3.77331298  6.60653898\n",
      " 18.02025748  8.11899318  8.89878372 10.51290689  5.05747599  4.08888223\n",
      " 12.96869851  5.98657603 14.99020383  5.66355799 10.32578109  3.45195012\n",
      "  4.34538468  4.00622728 10.483485    7.13191566 14.69009929  4.85801982\n",
      "  6.24901742  8.43019164 12.18589162  5.41060125 10.09944309  2.16707003\n",
      "  5.07775544  2.88648341  4.23524077  2.39051938  5.10960759  7.98542957\n",
      "  7.46960024  8.92464304  3.14192275 10.7013703   2.2713631   6.59173288\n",
      "  2.13989746  3.5556654   3.86507774  4.46085357  5.62103977  3.15871399\n",
      "  3.77144766  3.16280059 14.80506331  2.55117927  5.30615336 15.51022649\n",
      "  7.96455013  4.07200106  6.32460785  8.75937472  2.88473248 18.79965709\n",
      "  3.9272825   4.54293536  5.61970407  2.3362702   5.4917328   7.77928089\n",
      "  5.80296958  4.84786429  4.91087978 12.75674712  5.87511715  3.45888394\n",
      "  5.72044736 13.22991935  7.09673756 25.75304008  4.46370438  4.18028696\n",
      "  2.44964761  7.62498012  4.4587576   3.73207054  4.30603095 13.47454072\n",
      "  4.19935514  4.37305586  8.73899515  2.707684    2.82466466  7.05891475\n",
      " 10.46999945  4.8091844   3.94999834  6.34459212  7.92767715  5.7591196\n",
      " 10.61354474  7.6075784   9.35052218  9.66283714  2.52570605  8.12764208\n",
      "  7.29792796  6.59409751  8.37019984 11.75432389 11.92985399  4.15858952\n",
      "  4.01528757 11.41574372  4.18094923  4.2978711  10.47738179  9.71903061\n",
      "  5.64450965  3.89473909 11.98927116  3.38755401  5.34810028  5.3967907\n",
      " 36.70843248  2.81857884  2.62043833 11.64535838 11.81667232  1.14074839\n",
      "  4.4506174   5.76762695  5.74752697  5.09362243  5.11271219 15.10750746\n",
      " 13.46482177  4.39708275 10.25068875  4.44490475  8.73524146  6.90752611\n",
      "  3.30062506  1.42616174  3.98510878  8.47142687  9.36500677  9.7282558\n",
      "  4.9814392   9.15200164  2.51886575] \n",
      "\n",
      "\n",
      "159 T_squared scores\n"
     ]
    }
   ],
   "source": [
    "# Calculating the T^2 statistic as T^2 = Z.T.dot(Z)\n",
    "Z = ((np.linalg.inv(np.sqrt(lambda_train_scaled))).dot(eigvecs_train_sorted.T)).dot(x_train_scaled.T)\n",
    "T_squared = Z.T@Z\n",
    "print(\"T_squared statistic calculated for each sample manually with array operations:\\n\\n\", np.diag(T_squared),\"\\n\\n\")\n",
    "print(np.diag(T_squared).shape[0],\"T_squared scores\")"
   ]
  },
  {
   "cell_type": "code",
   "execution_count": 17,
   "id": "ce7bac93",
   "metadata": {},
   "outputs": [
    {
     "name": "stdout",
     "output_type": "stream",
     "text": [
      "T_squared statistic calculated for each sample using library:\n",
      "\n",
      " [ 9.20670525  4.41231858  5.04357688  3.07609455  1.45484681  8.44101252\n",
      "  4.09760412  5.46926895  7.80615417  6.05723196  3.11357891  2.97873796\n",
      "  5.1437081   6.27484444 13.99104358  7.49117401  3.77331298  6.60653898\n",
      " 18.02025748  8.11899318  8.89878372 10.51290689  5.05747599  4.08888223\n",
      " 12.96869851  5.98657603 14.99020383  5.66355799 10.32578109  3.45195012\n",
      "  4.34538468  4.00622728 10.483485    7.13191566 14.69009929  4.85801982\n",
      "  6.24901742  8.43019164 12.18589162  5.41060125 10.09944309  2.16707003\n",
      "  5.07775544  2.88648341  4.23524077  2.39051938  5.10960759  7.98542957\n",
      "  7.46960024  8.92464304  3.14192275 10.7013703   2.2713631   6.59173288\n",
      "  2.13989746  3.5556654   3.86507774  4.46085357  5.62103977  3.15871399\n",
      "  3.77144766  3.16280059 14.80506331  2.55117927  5.30615336 15.51022649\n",
      "  7.96455013  4.07200106  6.32460785  8.75937472  2.88473248 18.79965709\n",
      "  3.9272825   4.54293536  5.61970407  2.3362702   5.4917328   7.77928089\n",
      "  5.80296958  4.84786429  4.91087978 12.75674712  5.87511715  3.45888394\n",
      "  5.72044736 13.22991935  7.09673756 25.75304008  4.46370438  4.18028696\n",
      "  2.44964761  7.62498012  4.4587576   3.73207054  4.30603095 13.47454072\n",
      "  4.19935514  4.37305586  8.73899515  2.707684    2.82466466  7.05891475\n",
      " 10.46999945  4.8091844   3.94999834  6.34459212  7.92767715  5.7591196\n",
      " 10.61354474  7.6075784   9.35052218  9.66283714  2.52570605  8.12764208\n",
      "  7.29792796  6.59409751  8.37019984 11.75432389 11.92985399  4.15858952\n",
      "  4.01528757 11.41574372  4.18094923  4.2978711  10.47738179  9.71903061\n",
      "  5.64450965  3.89473909 11.98927116  3.38755401  5.34810028  5.3967907\n",
      " 36.70843248  2.81857884  2.62043833 11.64535838 11.81667232  1.14074839\n",
      "  4.4506174   5.76762695  5.74752697  5.09362243  5.11271219 15.10750746\n",
      " 13.46482177  4.39708275 10.25068875  4.44490475  8.73524146  6.90752611\n",
      "  3.30062506  1.42616174  3.98510878  8.47142687  9.36500677  9.7282558\n",
      "  4.9814392   9.15200164  2.51886575]\n",
      "\n",
      "\n",
      "159 T_squared scores\n"
     ]
    }
   ],
   "source": [
    "# Calculating T^2 statistic for each sample using library\n",
    "clf = HotellingT2()\n",
    "clf.fit(x_train_scaled)\n",
    "train_t2_scores_scaled = clf.score_samples(x_train_scaled)\n",
    "print(f\"T_squared statistic calculated for each sample using library:\\n\\n {train_t2_scores_scaled}\\n\\n\")\n",
    "print(train_t2_scores_scaled.shape[0],\"T_squared scores\")"
   ]
  },
  {
   "cell_type": "markdown",
   "id": "198efebe",
   "metadata": {},
   "source": [
    "# Q2.d - Perform PCA and visualize the explained variance ratio for the training set"
   ]
  },
  {
   "cell_type": "code",
   "execution_count": 18,
   "id": "e6042a02",
   "metadata": {},
   "outputs": [],
   "source": [
    "# Checking variance explained and cumulative variance per principal component\n",
    "variance_explained_pc = [lambda_train_scaled[v][v]/np.trace(lambda_train_scaled) for v in range(lambda_train_scaled.shape[0])]\n",
    "variance_accumulated_pc = np.cumsum(variance_explained_pc)"
   ]
  },
  {
   "cell_type": "code",
   "execution_count": 19,
   "id": "9e4337c3",
   "metadata": {},
   "outputs": [
    {
     "data": {
      "image/png": "[encoded data removed]",
      "text/plain": [
       "<Figure size 640x480 with 1 Axes>"
      ]
     },
     "metadata": {},
     "output_type": "display_data"
    }
   ],
   "source": [
    "# Plotting variance explained ratio vs cumulative variance ratio\n",
    "plt.bar(range(0,len(variance_explained_pc)), variance_explained_pc, alpha=0.5, align='center', label='Individual PC explained variance')\n",
    "plt.step(range(0,len(variance_accumulated_pc)), variance_accumulated_pc, where='mid',label='Cumulative explained variance')\n",
    "plt.ylabel('Explained variance ratio')\n",
    "plt.xlabel('Principal component index')\n",
    "plt.legend(loc='center')\n",
    "plt.grid()\n",
    "plt.tight_layout()\n",
    "plt.show()"
   ]
  },
  {
   "cell_type": "markdown",
   "id": "c5637d44",
   "metadata": {},
   "source": [
    "# Q2.e - Find the T2 statistic threshold for the training data with 90% confidence interval using PCA representation\n"
   ]
  },
  {
   "cell_type": "markdown",
   "id": "bc60a534",
   "metadata": {},
   "source": [
    "Based on the variance analysis done above we will use the first 2 principal components and their corresponding loading and scores to resconstruct the training input data"
   ]
  },
  {
   "cell_type": "code",
   "execution_count": 20,
   "id": "4534cf5c",
   "metadata": {},
   "outputs": [
    {
     "name": "stdout",
     "output_type": "stream",
     "text": [
      "Critical value F_alpha(a, n-a): 2.3366877645565762\n",
      "\n",
      "\n",
      "T^2 threshold for with chi^2 distribution: 4.605170185988092\n",
      "T^2 threshold for with f distribution: 4.732721763248828\n"
     ]
    }
   ],
   "source": [
    "# Calculating Principal Components\n",
    "PCs = eigvecs_train_sorted[:,:2].T@x_train_scaled.T\n",
    "\n",
    "# Level of Significance\n",
    "alpha = 0.1\n",
    "\n",
    "# T^2 threshold with known covariance or chi^2 distribution\n",
    "T2_threshold_chi2 = chi2.ppf(1-alpha, df=PCs.shape[0])\n",
    "\n",
    "# T^2 threshold with unknown covariance or f distribution\n",
    "dfn = 2  # Degrees of freedom numerator\n",
    "dfd = PCs.shape[-1] - dfn  # Degrees of freedom denominator\n",
    "f_critical_value = f.ppf(1 - alpha, dfn, dfd)\n",
    "print(\"Critical value F_alpha(a, n-a):\", f_critical_value)\n",
    "print(\"\\n\")\n",
    "n = PCs.shape[-1]\n",
    "a = 2\n",
    "T2_threshold_f = ((a*(n-1)*(n+1))/(n*(n-a)))*f_critical_value\n",
    "\n",
    "print(\"T^2 threshold for with chi^2 distribution:\", T2_threshold_chi2)\n",
    "print(\"T^2 threshold for with f distribution:\", T2_threshold_f)"
   ]
  },
  {
   "cell_type": "markdown",
   "id": "c1e2e28f",
   "metadata": {},
   "source": [
    "# Q2.f -  Report whether there are faults in the test data and outliers in the training set"
   ]
  },
  {
   "cell_type": "code",
   "execution_count": 21,
   "id": "f87984ed",
   "metadata": {},
   "outputs": [
    {
     "name": "stdout",
     "output_type": "stream",
     "text": [
      "Outliers threshold is: 0.2095372288638188\n"
     ]
    }
   ],
   "source": [
    "# Before performing fault detection we need to check if there are any outliers using f-distribution and the outlier formula:\n",
    "\n",
    "alpha = 0.1  # Significance level\n",
    "# Calculate F_alpha(a, n-a-1)\n",
    "f_alpha = f.ppf(alpha, a, n-a-1)\n",
    "\n",
    "# Calculate T^2 statistic\n",
    "outlier_threshold= ((n-1)**2*(a/(n-a-1))*f_alpha)/(n*(1+(a/(n-a-1))))\n",
    "print(\"Outliers threshold is:\", outlier_threshold)"
   ]
  },
  {
   "cell_type": "code",
   "execution_count": 22,
   "id": "cb2a30c7",
   "metadata": {},
   "outputs": [
    {
     "data": {
      "image/png": "[encoded data removed]",
      "text/plain": [
       "<Figure size 640x480 with 1 Axes>"
      ]
     },
     "metadata": {},
     "output_type": "display_data"
    }
   ],
   "source": [
    "# Create a scatter plot of the T^2 statistic values\n",
    "plt.scatter(range(len(train_t2_scores_scaled)), train_t2_scores_scaled, label='$T^2$ Statistic')\n",
    "\n",
    "# Plot the threshold as a dotted line\n",
    "plt.axhline(y=outlier_threshold, linestyle='dotted', color='red', label='Threshold')\n",
    "\n",
    "# Add labels and title to the plot\n",
    "plt.xlabel('Data Point')\n",
    "plt.ylabel('$T^2$ Statistic')\n",
    "plt.title('Outlier Detection using $T^2$ Statistic')\n",
    "\n",
    "# Add a legend\n",
    "plt.legend()\n",
    "\n",
    "# Show the plot\n",
    "plt.show()\n"
   ]
  },
  {
   "cell_type": "code",
   "execution_count": 23,
   "id": "667281f6",
   "metadata": {},
   "outputs": [
    {
     "data": {
      "image/png": "[encoded data removed]",
      "text/plain": [
       "<Figure size 640x480 with 1 Axes>"
      ]
     },
     "metadata": {},
     "output_type": "display_data"
    }
   ],
   "source": [
    "# Creating a scatter plot of the transformed data\n",
    "sns.scatterplot(x=PCs[0, :].T, y=PCs[1, :].T, hue=y_train.reshape(-1,))\n",
    "\n",
    "# Adding the T2 threshold ellipse for class 3 data\n",
    "ellipse = Ellipse(xy=np.mean(PCs.T, axis=0), width=2 * np.sqrt(T2_threshold_f) * np.sqrt(variance_explained_pc[0]),\n",
    "                  height=2 * np.sqrt(T2_threshold_f) * np.sqrt(variance_explained_pc[1]), edgecolor='red', facecolor='none',\n",
    "                  label='All data $T^2$ Threshold')\n",
    "\n",
    "# Adding the ellipse to the plot\n",
    "plt.gca().add_patch(ellipse)\n",
    "plt.xlabel('PC1')\n",
    "plt.ylabel('PC2')\n",
    "plt.title('PCA of the seeds dataset')\n",
    "plt.legend()\n",
    "\n",
    "# Show the plot\n",
    "plt.show()"
   ]
  },
  {
   "cell_type": "code",
   "execution_count": 24,
   "id": "98a79659",
   "metadata": {},
   "outputs": [],
   "source": [
    "# Removing outliers from the x_train_scaled input dataset\n",
    "\n",
    "inlier_indices = [i for i in range(train_t2_scores_scaled.shape[0]) if train_t2_scores_scaled[i]>outlier_threshold]\n",
    "x_train_scaled_upd = x_train_scaled[inlier_indices, :]"
   ]
  },
  {
   "cell_type": "code",
   "execution_count": 25,
   "id": "06587e17",
   "metadata": {},
   "outputs": [
    {
     "name": "stdout",
     "output_type": "stream",
     "text": [
      "T_squared statistic calculated for each sample manually with array operations:\n",
      "\n",
      " [2.41487063 1.23045947 1.11660269 3.38426444 1.20652622 3.94618843\n",
      " 0.6726517  1.24919906 1.22036254 1.27646429 2.36905368 1.81639422\n",
      " 0.90147638 0.15519918 2.49823313 3.58859271 5.67283272 0.56495362\n",
      " 5.94175084 3.268976   4.94207168 0.48414838 0.08581668 0.90800155\n",
      " 1.26707297 0.77750583 2.04268871 0.13064879 1.04637486 0.49294857\n",
      " 3.71032454 1.14167543 2.25557014 3.16432415 1.46748359 2.03147293\n",
      " 1.44654863 2.15980472 0.66927909 3.00801486] \n",
      "\n",
      "\n",
      "40 T_squared scores\n"
     ]
    }
   ],
   "source": [
    "# Test data calculating the T^2 statistic as T^2 = Z.T.dot(Z)\n",
    "Z_test = ((np.linalg.inv(np.sqrt(lambda_train_scaled[:2,:2]))).dot(eigvecs_train_sorted[:, :2].T)).dot(x_test_scaled.T)\n",
    "T_squared_test = np.diag(Z_test.T@Z_test)\n",
    "print(\"T_squared statistic calculated for each sample manually with array operations:\\n\\n\", T_squared_test,\"\\n\\n\")\n",
    "print(T_squared_test.shape[0],\"T_squared scores\")"
   ]
  },
  {
   "cell_type": "code",
   "execution_count": 26,
   "id": "78e6d79b",
   "metadata": {},
   "outputs": [
    {
     "data": {
      "image/png": "[encoded data removed]",
      "text/plain": [
       "<Figure size 640x480 with 1 Axes>"
      ]
     },
     "metadata": {},
     "output_type": "display_data"
    }
   ],
   "source": [
    "# Create a scatter plot of the T^2 statistic values\n",
    "plt.scatter(range(len(T_squared_test)), T_squared_test, label='$T^2$ Statistic')\n",
    "\n",
    "# Plot the threshold as a dotted line\n",
    "plt.axhline(y=T2_threshold_f, linestyle='dotted', color='red', label='Threshold')\n",
    "\n",
    "# Add labels and title to the plot\n",
    "plt.xlabel('Data Point')\n",
    "plt.ylabel('$T^2$ Statistic')\n",
    "plt.title('Fault detection from the test data using $T^2$ Statistic')\n",
    "\n",
    "# Add a legend\n",
    "plt.legend(loc='center')\n",
    "\n",
    "# Show the plot\n",
    "plt.show()"
   ]
  },
  {
   "cell_type": "code",
   "execution_count": null,
   "id": "a9ee3476",
   "metadata": {},
   "outputs": [],
   "source": []
  }
 ],
 "metadata": {
  "kernelspec": {
   "display_name": "Python 3 (ipykernel)",
   "language": "python",
   "name": "python3"
  },
  "language_info": {
   "codemirror_mode": {
    "name": "ipython",
    "version": 3
   },
   "file_extension": ".py",
   "mimetype": "text/x-python",
   "name": "python",
   "nbconvert_exporter": "python",
   "pygments_lexer": "ipython3",
   "version": "3.9.16"
  }
 },
 "nbformat": 4,
 "nbformat_minor": 5
}
