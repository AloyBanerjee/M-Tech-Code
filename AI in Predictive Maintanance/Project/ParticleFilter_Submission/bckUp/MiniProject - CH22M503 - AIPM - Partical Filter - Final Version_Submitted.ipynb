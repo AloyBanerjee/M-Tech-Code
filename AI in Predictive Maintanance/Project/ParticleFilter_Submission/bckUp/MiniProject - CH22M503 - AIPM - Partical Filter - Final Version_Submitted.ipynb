{
 "cells": [
  {
   "cell_type": "markdown",
   "id": "cd196c6c",
   "metadata": {},
   "source": [
    "<h2 style='text-align: center;'>AIPM -  MiniProject - CH22M503</h2>"
   ]
  },
  {
   "cell_type": "markdown",
   "id": "7cd9f689",
   "metadata": {},
   "source": [
    "<h3 style='text-align: center;'>Author - Aloy Banerjee</h3>\n",
    "<h3 style='text-align: center;'>Roll No. CH22M503</h3>"
   ]
  },
  {
   "cell_type": "markdown",
   "id": "d75f912b",
   "metadata": {},
   "source": [
    "Note : We have shown the result for a specific set of random seed and changing the seed value might result different plot as the initialization of different used random variable might generate different set of values."
   ]
  },
  {
   "cell_type": "markdown",
   "id": "bca6a85c",
   "metadata": {},
   "source": [
    "### Problem - 2: Particle filter\n",
    "######  Implement the Particle Filter to estimate the level of water in the 4 tanks present in the Quadruple tank experiment, as discussed in class. Follow the same procedures as mentioned in Problem 1."
   ]
  },
  {
   "cell_type": "markdown",
   "id": "f452b23b",
   "metadata": {},
   "source": [
    "#### Importing Library"
   ]
  },
  {
   "cell_type": "code",
   "execution_count": 1,
   "id": "714335b2",
   "metadata": {},
   "outputs": [],
   "source": [
    "import os\n",
    "import pandas as pd\n",
    "import numpy as np\n",
    "import matplotlib.pyplot as plt"
   ]
  },
  {
   "cell_type": "markdown",
   "id": "13d57491",
   "metadata": {},
   "source": [
    "#### Reference used "
   ]
  },
  {
   "cell_type": "code",
   "execution_count": 2,
   "id": "8433546a",
   "metadata": {},
   "outputs": [],
   "source": [
    "# http://www.diva-portal.org/smash/get/diva2:495784/FULLTEXT01.pdf"
   ]
  },
  {
   "cell_type": "markdown",
   "id": "4a6c5dda",
   "metadata": {},
   "source": [
    "#### Loading the data"
   ]
  },
  {
   "cell_type": "code",
   "execution_count": 3,
   "id": "b4442869",
   "metadata": {},
   "outputs": [
    {
     "data": {
      "text/html": [
       "<div>\n",
       "<style scoped>\n",
       "    .dataframe tbody tr th:only-of-type {\n",
       "        vertical-align: middle;\n",
       "    }\n",
       "\n",
       "    .dataframe tbody tr th {\n",
       "        vertical-align: top;\n",
       "    }\n",
       "\n",
       "    .dataframe thead th {\n",
       "        text-align: right;\n",
       "    }\n",
       "</style>\n",
       "<table border=\"1\" class=\"dataframe\">\n",
       "  <thead>\n",
       "    <tr style=\"text-align: right;\">\n",
       "      <th></th>\n",
       "      <th>h1</th>\n",
       "      <th>h2</th>\n",
       "      <th>h3</th>\n",
       "      <th>h4</th>\n",
       "    </tr>\n",
       "  </thead>\n",
       "  <tbody>\n",
       "    <tr>\n",
       "      <th>0</th>\n",
       "      <td>12.400000</td>\n",
       "      <td>12.700000</td>\n",
       "      <td>1.800000</td>\n",
       "      <td>1.400000</td>\n",
       "    </tr>\n",
       "    <tr>\n",
       "      <th>1</th>\n",
       "      <td>12.404928</td>\n",
       "      <td>12.700618</td>\n",
       "      <td>1.792881</td>\n",
       "      <td>1.400301</td>\n",
       "    </tr>\n",
       "    <tr>\n",
       "      <th>2</th>\n",
       "      <td>12.409478</td>\n",
       "      <td>12.701239</td>\n",
       "      <td>1.786060</td>\n",
       "      <td>1.400592</td>\n",
       "    </tr>\n",
       "    <tr>\n",
       "      <th>3</th>\n",
       "      <td>12.413670</td>\n",
       "      <td>12.701863</td>\n",
       "      <td>1.779526</td>\n",
       "      <td>1.400873</td>\n",
       "    </tr>\n",
       "    <tr>\n",
       "      <th>4</th>\n",
       "      <td>12.417521</td>\n",
       "      <td>12.702490</td>\n",
       "      <td>1.773266</td>\n",
       "      <td>1.401145</td>\n",
       "    </tr>\n",
       "    <tr>\n",
       "      <th>...</th>\n",
       "      <td>...</td>\n",
       "      <td>...</td>\n",
       "      <td>...</td>\n",
       "      <td>...</td>\n",
       "    </tr>\n",
       "    <tr>\n",
       "      <th>9996</th>\n",
       "      <td>12.262968</td>\n",
       "      <td>12.783158</td>\n",
       "      <td>1.633941</td>\n",
       "      <td>1.409045</td>\n",
       "    </tr>\n",
       "    <tr>\n",
       "      <th>9997</th>\n",
       "      <td>12.262968</td>\n",
       "      <td>12.783158</td>\n",
       "      <td>1.633941</td>\n",
       "      <td>1.409045</td>\n",
       "    </tr>\n",
       "    <tr>\n",
       "      <th>9998</th>\n",
       "      <td>12.262968</td>\n",
       "      <td>12.783158</td>\n",
       "      <td>1.633941</td>\n",
       "      <td>1.409045</td>\n",
       "    </tr>\n",
       "    <tr>\n",
       "      <th>9999</th>\n",
       "      <td>12.262968</td>\n",
       "      <td>12.783158</td>\n",
       "      <td>1.633941</td>\n",
       "      <td>1.409045</td>\n",
       "    </tr>\n",
       "    <tr>\n",
       "      <th>10000</th>\n",
       "      <td>12.262968</td>\n",
       "      <td>12.783158</td>\n",
       "      <td>1.633941</td>\n",
       "      <td>1.409045</td>\n",
       "    </tr>\n",
       "  </tbody>\n",
       "</table>\n",
       "<p>10001 rows × 4 columns</p>\n",
       "</div>"
      ],
      "text/plain": [
       "              h1         h2        h3        h4\n",
       "0      12.400000  12.700000  1.800000  1.400000\n",
       "1      12.404928  12.700618  1.792881  1.400301\n",
       "2      12.409478  12.701239  1.786060  1.400592\n",
       "3      12.413670  12.701863  1.779526  1.400873\n",
       "4      12.417521  12.702490  1.773266  1.401145\n",
       "...          ...        ...       ...       ...\n",
       "9996   12.262968  12.783158  1.633941  1.409045\n",
       "9997   12.262968  12.783158  1.633941  1.409045\n",
       "9998   12.262968  12.783158  1.633941  1.409045\n",
       "9999   12.262968  12.783158  1.633941  1.409045\n",
       "10000  12.262968  12.783158  1.633941  1.409045\n",
       "\n",
       "[10001 rows x 4 columns]"
      ]
     },
     "metadata": {},
     "output_type": "display_data"
    }
   ],
   "source": [
    "# Load the data from an Excel file\n",
    "tank_measurement_data = pd.read_excel('Link 2 Measurements.xlsx')\n",
    "display(tank_measurement_data)"
   ]
  },
  {
   "cell_type": "markdown",
   "id": "7c4189eb",
   "metadata": {},
   "source": [
    "#### Seperate each tank measurement "
   ]
  },
  {
   "cell_type": "code",
   "execution_count": 4,
   "id": "a14b080a",
   "metadata": {},
   "outputs": [],
   "source": [
    "tank1_measurements = tank_measurement_data['h1'].values\n",
    "tank2_measurements = tank_measurement_data['h2'].values\n",
    "tank3_measurements = tank_measurement_data['h3'].values\n",
    "tank4_measurements = tank_measurement_data['h4'].values"
   ]
  },
  {
   "cell_type": "markdown",
   "id": "25cf3b52",
   "metadata": {},
   "source": [
    "#### Display the result"
   ]
  },
  {
   "cell_type": "code",
   "execution_count": 5,
   "id": "10ece02d",
   "metadata": {},
   "outputs": [
    {
     "name": "stdout",
     "output_type": "stream",
     "text": [
      "[12.4        12.40492766 12.40947845 ... 12.26296752 12.26296752\n",
      " 12.26296752]\n",
      "[12.7        12.70061798 12.70123915 ... 12.7831584  12.7831584\n",
      " 12.7831584 ]\n",
      "[1.8        1.79288086 1.78606001 ... 1.63394113 1.63394113 1.63394113]\n",
      "[1.4        1.40030108 1.40059211 ... 1.4090447  1.4090447  1.4090447 ]\n"
     ]
    }
   ],
   "source": [
    "print(tank1_measurements)\n",
    "print(tank2_measurements)\n",
    "print(tank3_measurements)\n",
    "print(tank4_measurements)"
   ]
  },
  {
   "cell_type": "markdown",
   "id": "401794a1",
   "metadata": {},
   "source": [
    "<h2 style='text-align: center;'>Particle Filter Implementation 1st Approach</h2>"
   ]
  },
  {
   "cell_type": "markdown",
   "id": "d829fa32",
   "metadata": {},
   "source": [
    "##### This version of particle filter implementation approach provides a simplified version of the particle filter implementation, focusing on the core steps of prediction, update, and resampling without explicitly defining separate functions for each step. Here we have not considered the system dynamics in details but utilize random noise (Gaussian noise with mean 0 and standard deviation 0.1) to model process noise in the system during the prediction step."
   ]
  },
  {
   "cell_type": "markdown",
   "id": "2a6301cc",
   "metadata": {},
   "source": [
    "#### Common variable declaration"
   ]
  },
  {
   "cell_type": "code",
   "execution_count": 6,
   "id": "8ebde275",
   "metadata": {},
   "outputs": [],
   "source": [
    "np.random.seed(100)\n",
    "# Create a time vector\n",
    "time_steps = np.arange(len(tank1_measurements))\n",
    "time_steps_10000 = np.arange(len(tank1_measurements) - 1)\n",
    "# Measurements from the system\n",
    "measurements = np.array([tank1_measurements, tank2_measurements, tank3_measurements, tank4_measurements]).T\n",
    "# Variable holding the number of tanks for this excercise\n",
    "num_tanks = measurements.shape[1]\n",
    "# Number of measurement availables\n",
    "num_measurements = len(measurements)\n",
    "# particles for our particle filter\n",
    "number_of_particles = 1000 \n",
    "# replace this with your method for initializing particles\n",
    "initial_particles = np.random.rand(number_of_particles, num_tanks)  \n",
    "# start with equal confidence in all particles : Initialize weights\n",
    "initial_weights = np.ones(number_of_particles) / number_of_particles"
   ]
  },
  {
   "cell_type": "markdown",
   "id": "5b742bd9",
   "metadata": {},
   "source": [
    "#### Common function"
   ]
  },
  {
   "cell_type": "code",
   "execution_count": 7,
   "id": "0e65865d",
   "metadata": {},
   "outputs": [],
   "source": [
    "def particle_filter(N, z, particles, weights):\n",
    "    \"\"\"\n",
    "    Implements the Particle filter for a system.\n",
    "    \n",
    "    Parameters:\n",
    "    N (int): Number of particles.\n",
    "    z (np.array): Vector of measurements for each time step.\n",
    "    particles (np.array): Initial set of particles.\n",
    "    weights (np.array): Initial weights of particles.\n",
    "\n",
    "    Returns:\n",
    "    x_estimates (np.array): Estimated state for each time step.\n",
    "    \"\"\"\n",
    "\n",
    "    # Initialize matrix to hold state estimates for each time step\n",
    "    n = particles.shape[1]  # number of states (i.e., dimension of a particle)\n",
    "    Nt = len(z)  # number of time steps\n",
    "    x_estimates = np.zeros((Nt, n))  # one row for each time step, one column for each state\n",
    "\n",
    "    for i in range(Nt):\n",
    "        # Predict step: move particles based on system dynamics\n",
    "        particles = particle_filter_predict(particles)  # You need to define the predict function based on your process model\n",
    "\n",
    "        # Update step: update weights based on measurement\n",
    "        weights = particle_filter_update(particles, z[i], weights)  # You need to define the update function based on your measurement model\n",
    "\n",
    "        # Resampling step: create a new set of particles\n",
    "        particles = particle_filter_resample(particles, weights)  # Resample particles based on weights\n",
    "        \n",
    "        # Compute the weighted average of particles as the state estimate for this time step\n",
    "        x_estimates[i] = np.average(particles, weights=weights, axis=0)\n",
    "\n",
    "    # Return the state estimates for all time steps\n",
    "    return x_estimates\n",
    "\n",
    "def particle_filter_predict(particles):\n",
    "    \"\"\"\n",
    "    Predicts the next state of the particles based on the system dynamics.\n",
    "    \n",
    "    Parameters:\n",
    "    particles (np.array): The current state of the particles.\n",
    "\n",
    "    Returns:\n",
    "    particles (np.array): The predicted state of the particles.\n",
    "    \"\"\"\n",
    "    # Add some process noise to each particle to represent uncertainty in the system dynamics\n",
    "    # This step is based on the assumption that the particles follow a Gaussian distribution and \n",
    "    # the process noise is also Gaussian. The predict function simply adds some Gaussian noise \n",
    "    # to each particle which simulates the effect of process noise in the system.\n",
    "    particles += np.random.normal(0, 0.1, particles.shape)  # 0.1 is our estimate of process noise\n",
    "\n",
    "    # Returns the updated particles after adding the process noise\n",
    "    return particles\n",
    "\n",
    "def particle_filter_update(particles, z, weights):\n",
    "    \"\"\"\n",
    "    Updates the weights of the particles based on the measurement.\n",
    "\n",
    "    Parameters:\n",
    "    particles (np.array): The current state of the particles.\n",
    "    z (float): The current measurement.\n",
    "    weights (np.array): The current weights of the particles.\n",
    "\n",
    "    Returns:\n",
    "    weights (np.array): The updated weights of the particles.\n",
    "    \"\"\"\n",
    "\n",
    "    for i in range(len(particles)):\n",
    "        # Calculate the difference between the predicted state (particle) and the actual measurement\n",
    "        # This difference, or residual, is used to update the weight of the particle\n",
    "        diff = z - particles[i]\n",
    "\n",
    "        # Update the weight of this particle based on the difference\n",
    "        # The weight is updated using the Gaussian probability density function, assuming the measurement noise is Gaussian\n",
    "        # The larger the difference between the particle and the measurement, the smaller the weight will be\n",
    "        # Replace this with your own noise model if necessary\n",
    "        weights[i] = np.exp(-0.5 * np.dot(diff, diff))\n",
    "\n",
    "    # Normalize the weights so they sum to 1\n",
    "    # This is necessary as the weights represent the relative probability of each particle\n",
    "    weights /= sum(weights)\n",
    "\n",
    "    # Return the updated weights\n",
    "    return weights\n",
    "\n",
    "def particle_filter_resample(particles, weights):\n",
    "    \"\"\"\n",
    "    Resamples the particles based on their weights.\n",
    "    \n",
    "    Parameters:\n",
    "    particles (np.array): The current state of the particles.\n",
    "    weights (np.array): The current weights of the particles.\n",
    "\n",
    "    Returns:\n",
    "    particles (np.array): The resampled particles.\n",
    "    \"\"\"\n",
    "\n",
    "    # Generate a set of indices for resampling. Indices are chosen randomly, \n",
    "    # but particles with higher weights are more likely to be chosen. \n",
    "    # The size of the resampled array is the same as the original array of particles.\n",
    "    indices = np.random.choice(np.arange(len(particles)), size=len(particles), p=weights)\n",
    "\n",
    "    # Resample the particles based on the generated indices\n",
    "    # The resampled array of particles contains duplicates of the same particle if that particle's weight is high\n",
    "    particles = particles[indices]\n",
    "\n",
    "    # Reset all weights to be equal\n",
    "    # This is done because after resampling, all particles are equally likely (they've survived the 'survival of the fittest')\n",
    "    weights = np.ones_like(weights) / len(particles)\n",
    "\n",
    "    # Return the resampled particles\n",
    "    return particles\n",
    "\n",
    "def plot_filterwise_tank_data(subplot_num, time_steps, original_data, filter_results, tank_measurements, tank_name, marker):\n",
    "    \"\"\"\n",
    "    Plots the tank data for a specific filter.\n",
    "\n",
    "    Parameters:\n",
    "        subplot_num (int): The subplot number for the current tank.\n",
    "        time_steps (numpy.ndarray): Array of time steps.\n",
    "        original_data (numpy.ndarray): Array of original tank data.\n",
    "        filter_results (numpy.ndarray): Array of filter results for the current tank.\n",
    "        tank_measurements (numpy.ndarray): Array of tank measurements for the current tank.\n",
    "        tank_name (str): Name of the current tank.\n",
    "        marker (str): Marking the tank wise plot\n",
    "\n",
    "    Returns:\n",
    "        None\n",
    "    \"\"\"\n",
    "    # Create a subplot for the current tank\n",
    "    plt.subplot(2, 2, subplot_num) \n",
    "    # Plot the original tank data\n",
    "    plt.plot(time_steps, original_data, label='Original Data', color='#9A0EEA')  \n",
    "    # Plot the filter results\n",
    "    plt.plot(time_steps, filter_results, label='Filter Results', color='red')  \n",
    "    # Plot the tank measurements\n",
    "    plt.scatter(time_steps, tank_measurements, label='Measurements', color='#76FF7B', marker=marker, s = 30) \n",
    "    # Set the x-axis label\n",
    "    plt.xlabel('Time Steps')  \n",
    "    # Set the y-axis label\n",
    "    plt.ylabel('Tank Level') \n",
    "    # Set the title for the subplot\n",
    "    plt.title(tank_name)  \n",
    "    # Show the legend\n",
    "    plt.legend()"
   ]
  },
  {
   "cell_type": "markdown",
   "id": "4b3d3983",
   "metadata": {},
   "source": [
    "#### Calling Particle filter implmentation"
   ]
  },
  {
   "cell_type": "code",
   "execution_count": 8,
   "id": "703103ef",
   "metadata": {},
   "outputs": [],
   "source": [
    "# Call the Particle filter function\n",
    "particle_filter_results = particle_filter(number_of_particles, measurements, initial_particles, initial_weights)"
   ]
  },
  {
   "cell_type": "markdown",
   "id": "7981e0ce",
   "metadata": {},
   "source": [
    "#### Visualization of the convergence with actual estimates"
   ]
  },
  {
   "cell_type": "code",
   "execution_count": 9,
   "id": "f83b2487",
   "metadata": {},
   "outputs": [
    {
     "data": {
      "image/png": "[encoded data removed]",
      "text/plain": [
       "<Figure size 1200x800 with 4 Axes>"
      ]
     },
     "metadata": {},
     "output_type": "display_data"
    }
   ],
   "source": [
    "# Initialize the plot for original data and Particle filter results\n",
    "plt.figure(figsize=(12, 8))\n",
    "plt.suptitle('Original and Particle Filter Results')\n",
    "\n",
    "plot_filterwise_tank_data(1, time_steps, tank1_measurements, particle_filter_results[:, 0], tank1_measurements, 'Tank 1', '+')\n",
    "plot_filterwise_tank_data(2, time_steps, tank2_measurements, particle_filter_results[:, 1], tank2_measurements, 'Tank 2', 'o')\n",
    "plot_filterwise_tank_data(3, time_steps, tank3_measurements, particle_filter_results[:, 2], tank3_measurements, 'Tank 3', 's')\n",
    "plot_filterwise_tank_data(4, time_steps, tank4_measurements, particle_filter_results[:, 3], tank4_measurements, 'Tank 4', 'x')\n",
    "\n",
    "# Adjust the subplot layout, so the plots do not overlap\n",
    "plt.tight_layout()\n",
    "plt.subplots_adjust(top=0.9)\n",
    "plt.show()"
   ]
  },
  {
   "cell_type": "code",
   "execution_count": 10,
   "id": "f0d75d5a",
   "metadata": {},
   "outputs": [
    {
     "data": {
      "text/plain": [
       "array([ 0.94055627,  1.15981338,  1.38102729, ..., 12.23094316,\n",
       "       12.22404149, 12.23559295])"
      ]
     },
     "execution_count": 10,
     "metadata": {},
     "output_type": "execute_result"
    }
   ],
   "source": [
    "particle_filter_results[:, 0]"
   ]
  },
  {
   "cell_type": "code",
   "execution_count": 11,
   "id": "53a05ec9",
   "metadata": {},
   "outputs": [
    {
     "data": {
      "text/html": [
       "<div>\n",
       "<style scoped>\n",
       "    .dataframe tbody tr th:only-of-type {\n",
       "        vertical-align: middle;\n",
       "    }\n",
       "\n",
       "    .dataframe tbody tr th {\n",
       "        vertical-align: top;\n",
       "    }\n",
       "\n",
       "    .dataframe thead th {\n",
       "        text-align: right;\n",
       "    }\n",
       "</style>\n",
       "<table border=\"1\" class=\"dataframe\">\n",
       "  <thead>\n",
       "    <tr style=\"text-align: right;\">\n",
       "      <th></th>\n",
       "      <th>Time_Step</th>\n",
       "      <th>Original_Tank1_Reading</th>\n",
       "      <th>ParticleFilter_Tank1_Estimate</th>\n",
       "      <th>Original_Tank2_Reading</th>\n",
       "      <th>ParticleFilter_Tank2_Estimate</th>\n",
       "      <th>Original_Tank3_Reading</th>\n",
       "      <th>ParticleFilter_Tank3_Estimate</th>\n",
       "      <th>Original_Tank4_Reading</th>\n",
       "      <th>ParticleFilter_Tank4_Estimate</th>\n",
       "    </tr>\n",
       "  </thead>\n",
       "  <tbody>\n",
       "    <tr>\n",
       "      <th>0</th>\n",
       "      <td>0</td>\n",
       "      <td>12.400000</td>\n",
       "      <td>0.940556</td>\n",
       "      <td>12.700000</td>\n",
       "      <td>1.062343</td>\n",
       "      <td>1.800000</td>\n",
       "      <td>0.449156</td>\n",
       "      <td>1.400000</td>\n",
       "      <td>0.558254</td>\n",
       "    </tr>\n",
       "    <tr>\n",
       "      <th>1</th>\n",
       "      <td>1</td>\n",
       "      <td>12.404928</td>\n",
       "      <td>1.159813</td>\n",
       "      <td>12.700618</td>\n",
       "      <td>1.216321</td>\n",
       "      <td>1.792881</td>\n",
       "      <td>0.956267</td>\n",
       "      <td>1.400301</td>\n",
       "      <td>0.704101</td>\n",
       "    </tr>\n",
       "    <tr>\n",
       "      <th>2</th>\n",
       "      <td>2</td>\n",
       "      <td>12.409478</td>\n",
       "      <td>1.381027</td>\n",
       "      <td>12.701239</td>\n",
       "      <td>1.414988</td>\n",
       "      <td>1.786060</td>\n",
       "      <td>1.052767</td>\n",
       "      <td>1.400592</td>\n",
       "      <td>0.734678</td>\n",
       "    </tr>\n",
       "    <tr>\n",
       "      <th>3</th>\n",
       "      <td>3</td>\n",
       "      <td>12.413670</td>\n",
       "      <td>1.603940</td>\n",
       "      <td>12.701863</td>\n",
       "      <td>1.644630</td>\n",
       "      <td>1.779526</td>\n",
       "      <td>0.940352</td>\n",
       "      <td>1.400873</td>\n",
       "      <td>0.743716</td>\n",
       "    </tr>\n",
       "    <tr>\n",
       "      <th>4</th>\n",
       "      <td>4</td>\n",
       "      <td>12.417521</td>\n",
       "      <td>1.767181</td>\n",
       "      <td>12.702490</td>\n",
       "      <td>1.806574</td>\n",
       "      <td>1.773266</td>\n",
       "      <td>0.928861</td>\n",
       "      <td>1.401145</td>\n",
       "      <td>0.755078</td>\n",
       "    </tr>\n",
       "    <tr>\n",
       "      <th>...</th>\n",
       "      <td>...</td>\n",
       "      <td>...</td>\n",
       "      <td>...</td>\n",
       "      <td>...</td>\n",
       "      <td>...</td>\n",
       "      <td>...</td>\n",
       "      <td>...</td>\n",
       "      <td>...</td>\n",
       "      <td>...</td>\n",
       "    </tr>\n",
       "    <tr>\n",
       "      <th>9996</th>\n",
       "      <td>9996</td>\n",
       "      <td>12.262968</td>\n",
       "      <td>12.224866</td>\n",
       "      <td>12.783158</td>\n",
       "      <td>12.827946</td>\n",
       "      <td>1.633941</td>\n",
       "      <td>1.624780</td>\n",
       "      <td>1.409045</td>\n",
       "      <td>1.376013</td>\n",
       "    </tr>\n",
       "    <tr>\n",
       "      <th>9997</th>\n",
       "      <td>9997</td>\n",
       "      <td>12.262968</td>\n",
       "      <td>12.235916</td>\n",
       "      <td>12.783158</td>\n",
       "      <td>12.830423</td>\n",
       "      <td>1.633941</td>\n",
       "      <td>1.639051</td>\n",
       "      <td>1.409045</td>\n",
       "      <td>1.365303</td>\n",
       "    </tr>\n",
       "    <tr>\n",
       "      <th>9998</th>\n",
       "      <td>9998</td>\n",
       "      <td>12.262968</td>\n",
       "      <td>12.230943</td>\n",
       "      <td>12.783158</td>\n",
       "      <td>12.833507</td>\n",
       "      <td>1.633941</td>\n",
       "      <td>1.655216</td>\n",
       "      <td>1.409045</td>\n",
       "      <td>1.387551</td>\n",
       "    </tr>\n",
       "    <tr>\n",
       "      <th>9999</th>\n",
       "      <td>9999</td>\n",
       "      <td>12.262968</td>\n",
       "      <td>12.224041</td>\n",
       "      <td>12.783158</td>\n",
       "      <td>12.829527</td>\n",
       "      <td>1.633941</td>\n",
       "      <td>1.666601</td>\n",
       "      <td>1.409045</td>\n",
       "      <td>1.400384</td>\n",
       "    </tr>\n",
       "    <tr>\n",
       "      <th>10000</th>\n",
       "      <td>10000</td>\n",
       "      <td>12.262968</td>\n",
       "      <td>12.235593</td>\n",
       "      <td>12.783158</td>\n",
       "      <td>12.843896</td>\n",
       "      <td>1.633941</td>\n",
       "      <td>1.682437</td>\n",
       "      <td>1.409045</td>\n",
       "      <td>1.397565</td>\n",
       "    </tr>\n",
       "  </tbody>\n",
       "</table>\n",
       "<p>10001 rows × 9 columns</p>\n",
       "</div>"
      ],
      "text/plain": [
       "       Time_Step  Original_Tank1_Reading  ParticleFilter_Tank1_Estimate  \\\n",
       "0              0               12.400000                       0.940556   \n",
       "1              1               12.404928                       1.159813   \n",
       "2              2               12.409478                       1.381027   \n",
       "3              3               12.413670                       1.603940   \n",
       "4              4               12.417521                       1.767181   \n",
       "...          ...                     ...                            ...   \n",
       "9996        9996               12.262968                      12.224866   \n",
       "9997        9997               12.262968                      12.235916   \n",
       "9998        9998               12.262968                      12.230943   \n",
       "9999        9999               12.262968                      12.224041   \n",
       "10000      10000               12.262968                      12.235593   \n",
       "\n",
       "       Original_Tank2_Reading  ParticleFilter_Tank2_Estimate  \\\n",
       "0                   12.700000                       1.062343   \n",
       "1                   12.700618                       1.216321   \n",
       "2                   12.701239                       1.414988   \n",
       "3                   12.701863                       1.644630   \n",
       "4                   12.702490                       1.806574   \n",
       "...                       ...                            ...   \n",
       "9996                12.783158                      12.827946   \n",
       "9997                12.783158                      12.830423   \n",
       "9998                12.783158                      12.833507   \n",
       "9999                12.783158                      12.829527   \n",
       "10000               12.783158                      12.843896   \n",
       "\n",
       "       Original_Tank3_Reading  ParticleFilter_Tank3_Estimate  \\\n",
       "0                    1.800000                       0.449156   \n",
       "1                    1.792881                       0.956267   \n",
       "2                    1.786060                       1.052767   \n",
       "3                    1.779526                       0.940352   \n",
       "4                    1.773266                       0.928861   \n",
       "...                       ...                            ...   \n",
       "9996                 1.633941                       1.624780   \n",
       "9997                 1.633941                       1.639051   \n",
       "9998                 1.633941                       1.655216   \n",
       "9999                 1.633941                       1.666601   \n",
       "10000                1.633941                       1.682437   \n",
       "\n",
       "       Original_Tank4_Reading  ParticleFilter_Tank4_Estimate  \n",
       "0                    1.400000                       0.558254  \n",
       "1                    1.400301                       0.704101  \n",
       "2                    1.400592                       0.734678  \n",
       "3                    1.400873                       0.743716  \n",
       "4                    1.401145                       0.755078  \n",
       "...                       ...                            ...  \n",
       "9996                 1.409045                       1.376013  \n",
       "9997                 1.409045                       1.365303  \n",
       "9998                 1.409045                       1.387551  \n",
       "9999                 1.409045                       1.400384  \n",
       "10000                1.409045                       1.397565  \n",
       "\n",
       "[10001 rows x 9 columns]"
      ]
     },
     "metadata": {},
     "output_type": "display_data"
    }
   ],
   "source": [
    "# Create a dataframe with the results\n",
    "particle_results_dataframe_1stApproach = pd.DataFrame({\n",
    "    'Time_Step': time_steps,\n",
    "    'Original_Tank1_Reading': tank1_measurements,\n",
    "    'ParticleFilter_Tank1_Estimate': particle_filter_results[:, 0],\n",
    "    'Original_Tank2_Reading': tank2_measurements,\n",
    "    'ParticleFilter_Tank2_Estimate': particle_filter_results[:, 1],\n",
    "    'Original_Tank3_Reading': tank3_measurements,\n",
    "    'ParticleFilter_Tank3_Estimate': particle_filter_results[:, 2],\n",
    "    'Original_Tank4_Reading': tank4_measurements,\n",
    "    'ParticleFilter_Tank4_Estimate': particle_filter_results[:, 3]\n",
    "})\n",
    "\n",
    "# Display the dataframe\n",
    "display(particle_results_dataframe_1stApproach)"
   ]
  },
  {
   "cell_type": "code",
   "execution_count": 12,
   "id": "ac64c6ef",
   "metadata": {},
   "outputs": [],
   "source": [
    "particle_results_dataframe_1stApproach.to_csv('ParticleFilterResult1stApproach.csv', sep=',', index=False, encoding='utf-8')"
   ]
  },
  {
   "cell_type": "markdown",
   "id": "9f194271",
   "metadata": {},
   "source": [
    "### **Conclusion for 1st Approach - More generic implementation :**\n",
    "\n",
    "###### 1. Looking at the observation value and estimated value it has been observed that for all 4 tank Particle filter is converging to the actual(reading) value much closure compared to previously developed Kalman filter. \n",
    "\n",
    "###### The 4 tank problem involves estimating the water levels in four interconnected tanks based on noisy measurements. Both the Kalman filter and particle filter are commonly used estimation techniques, but they have different underlying principles and assumptions.\n",
    "\n",
    "- **Nonlinearity and Non-Gaussianity**: The 4 tank problem is nonlinear, meaning that the system dynamics and measurement equations do not follow a linear relationship. Additionally, the noise in the problem may not follow a Gaussian distribution. The Kalman filter assumes linearity and Gaussian noise, which may lead to suboptimal performance in nonlinear and non-Gaussian scenarios. On the other hand, particle filters can handle both nonlinear system dynamics and non-Gaussian noise, making them more suitable for the 4 tank problem.\n",
    "\n",
    "- **Multimodal Distributions**: The water levels in the tanks may exhibit multimodal distributions due to the complex interaction between the tanks. The particle filter is capable of representing multimodal distributions by using a set of particles, where each particle represents a possible state hypothesis. This allows the particle filter to capture multiple modes and provide a more accurate estimation compared to the Kalman filter, which assumes a unimodal Gaussian distribution.\n",
    "\n",
    "- **Resampling**: Particle filters use a resampling step to adaptively allocate more particles to regions of higher probability. This helps to focus the estimation on promising areas of the state space and mitigate the effects of particle degeneracy. In the 4 tank problem, where the system dynamics and measurements may be highly nonlinear and the noise can be non-Gaussian, resampling helps the particle filter to maintain a diverse set of particles and provide better estimation accuracy.\n",
    "\n",
    "- **Computational Complexity**: Particle filters can be computationally more intensive compared to the Kalman filter, especially when dealing with a large number of particles. However, advancements in particle filter algorithms, such as sequential Monte Carlo methods, have made them more efficient and practical for real-time applications.\n",
    "\n",
    "In summary, the particle filter outperforms the Kalman filter in the 4 tank problem because it can handle nonlinear system dynamics, non-Gaussian noise, multimodal distributions, and adaptively allocate particles through resampling. These capabilities allow the particle filter to provide better estimation accuracy and capture the complex behavior of the interconnected tanks."
   ]
  },
  {
   "cell_type": "markdown",
   "id": "2fca4688",
   "metadata": {},
   "source": [
    "<h2 style='text-align: center;'>Particle Filter Implementation 2nd Approach</h2>"
   ]
  },
  {
   "cell_type": "markdown",
   "id": "2c5d5d8e",
   "metadata": {},
   "source": [
    "##### This implementation approach provides a comprehensive and detailed function-based structure for the particle filter. It clearly defines functions for the prediction, update, and resampling steps of the particle filter with all the relevant system dynamic parameter has to be taken care of."
   ]
  },
  {
   "cell_type": "markdown",
   "id": "63622557",
   "metadata": {},
   "source": [
    "#### System parameter declaration"
   ]
  },
  {
   "cell_type": "code",
   "execution_count": 13,
   "id": "68fc492a",
   "metadata": {},
   "outputs": [],
   "source": [
    "# System parameters\n",
    "h = tank_measurement_data.to_numpy()[0,:]\n",
    "Ar = [28, 32, 28, 32]\n",
    "ar = [0.071, 0.057, 0.071, 0.057]\n",
    "g = 981.2\n",
    "gamma_1, gamma_2= 0.7, 0.6\n",
    "k1, k2 = 3.33, 3.35\n",
    "kc=0.5\n",
    "gamma_arr = [gamma_1, gamma_2]\n",
    "k_arr = [k1, k2]\n",
    "control_input = np.array([[3], [3]])\n",
    "v_arr = control_input\n",
    "# Initial state and covariance\n",
    "x0 = h\n",
    "n = num_tanks\n",
    "P0 = np.eye(num_tanks) * 10**5\n",
    "# Measurements\n",
    "z = np.vstack((tank1_measurements, tank2_measurements)).T\n",
    "N = len(z)\n",
    "delta_t = 0.1\n",
    "np.random.seed(199)"
   ]
  },
  {
   "cell_type": "markdown",
   "id": "873c9dab",
   "metadata": {},
   "source": [
    "#### Common function"
   ]
  },
  {
   "cell_type": "code",
   "execution_count": 14,
   "id": "c22a6441",
   "metadata": {},
   "outputs": [],
   "source": [
    "def particle_filter_2ndApproach(N, z, particles, weights, Ar, ar, gamma_arr, g, k_arr, v_arr):\n",
    "    \"\"\"\n",
    "    Particle Filter implementation for state estimation.\n",
    "\n",
    "    Parameters:\n",
    "        N (int): Number of particles.\n",
    "        z (ndarray): Array of measurements at each time step. Shape (Nt, m), where Nt is the number of time steps and m is the measurement dimension.\n",
    "        particles (ndarray): Array of particle states at the initial time step. Shape (N, n), where N is the number of particles and n is the state dimension.\n",
    "        weights (ndarray): Array of particle weights at the initial time step. Shape (N,).\n",
    "\n",
    "    Returns:\n",
    "        ndarray: Array of estimated state values at each time step. Shape (Nt, n).\n",
    "    \"\"\"\n",
    "    n = particles.shape[1]\n",
    "    Nt = len(z)\n",
    "    x_estimates = np.zeros((Nt, n))\n",
    "\n",
    "    for i in range(Nt):\n",
    "        particles = particle_filter_predict_2ndApproach(particles, Ar, ar, gamma_arr, g, k_arr, v_arr)\n",
    "        weights = particle_filter_update_2ndApproach(particles, z[i], weights)\n",
    "        particles = particle_filter_resample_2ndApproach(particles, weights)\n",
    "        x_estimates[i] = np.average(particles, weights=weights, axis=0)\n",
    "    return x_estimates\n",
    "\n",
    "def particle_filter_predict_2ndApproach(particles, Ar, ar, gamma_arr, g, k_arr, v_arr, delta_t=0.1):\n",
    "    \"\"\"\n",
    "    Predicts the state of particles using the process model and adds noise.\n",
    "\n",
    "    Parameters:\n",
    "        particles (ndarray): Array of particle states at the current time step. Shape (N, n), where N is the number of particles and n is the state dimension.\n",
    "        Ar (list): List of tank areas for each tank (A1, A2, A3, A4).\n",
    "        ar (list): List of flow areas for each tank (a1, a2, a3, a4).\n",
    "        gamma_arr (list): List of gamma parameters for each tank (gamma1, gamma2).\n",
    "        g (float): Gravitational acceleration constant.\n",
    "        k_arr (list): List of k parameters for each tank (k1, k2).\n",
    "        v_arr (ndarray): Array of control input (valve openings) for each tank.\n",
    "        delta_t (float): Time step for prediction. Default is 0.1.\n",
    "\n",
    "    Returns:\n",
    "        ndarray: Array of predicted particle states at the next time step. Shape (N, n).\n",
    "    \"\"\"\n",
    "    # Particle dynamics equations\n",
    "    x1, x2, x3, x4 = particles.T\n",
    "    w1 = np.random.normal(0, 0.1, particles.shape[0])\n",
    "    w2 = np.random.normal(0, 0.1, particles.shape[0])\n",
    "    w3 = np.random.normal(0, 0.1, particles.shape[0])\n",
    "    w4 = np.random.normal(0, 0.1, particles.shape[0])\n",
    "    x1_new = x1 - ar[0]/Ar[0]*np.sqrt(2*g*np.maximum(x1,0))*delta_t + ar[2]/Ar[0]*np.sqrt(2*g*np.maximum(x3,0))*delta_t + (gamma_arr[0]*k_arr[0]*v_arr[0])/Ar[0]*delta_t + w1*delta_t\n",
    "    x2_new = x2 - ar[1]/Ar[1]*np.sqrt(2*g*np.maximum(x2,0))*delta_t + ar[3]/Ar[1]*np.sqrt(2*g*np.maximum(x4,0))*delta_t + (gamma_arr[1]*k_arr[0]*v_arr[1])/Ar[1]*delta_t + w2*delta_t\n",
    "    x3_new = x3 - ar[2]/Ar[2]*np.sqrt(2*g*np.maximum(x3,0))*delta_t + (1 - gamma_arr[1])*k_arr[1]*v_arr[1]/Ar[2]*delta_t + w3*delta_t\n",
    "    x4_new = x4 - ar[3]/Ar[3]*np.sqrt(2*g*np.maximum(x4,0))*delta_t + (1 - gamma_arr[0])*k_arr[0]*v_arr[0]/Ar[3]*delta_t + w4*delta_t\n",
    "    particles = np.vstack((x1_new, x2_new, x3_new, x4_new)).T\n",
    "\n",
    "    # Add noise to particles\n",
    "    particles += np.random.normal(0, 0.1, particles.shape)\n",
    "    return particles\n",
    "\n",
    "def particle_filter_update_2ndApproach(particles, z, weights):\n",
    "    \"\"\"\n",
    "    Updates the weights of particles based on the measurement model.\n",
    "\n",
    "    Parameters:\n",
    "        particles (ndarray): Array of particle states at the current time step. Shape (N, n), where N is the number of particles and n is the state dimension.\n",
    "        z (ndarray): Measurement at the current time step. Shape (m,), where m is the measurement dimension.\n",
    "        weights (ndarray): Array of particle weights at the current time step. Shape (N,).\n",
    "\n",
    "    Returns:\n",
    "        ndarray: Array of updated particle weights at the current time step. Shape (N,).\n",
    "    \"\"\"\n",
    "    for i, particle in enumerate(particles):\n",
    "        weights[i] *= measurement_model_2ndApproach(z, particle)\n",
    "\n",
    "    # Avoid round-off to zero and normalize the weights\n",
    "    weights += 1.e-300\n",
    "    weights /= sum(weights)\n",
    "    return weights\n",
    "\n",
    "def measurement_model_2ndApproach(z, particle):\n",
    "    \"\"\"\n",
    "    Calculates the likelihood of a measurement given a particle state.\n",
    "\n",
    "    Parameters:\n",
    "        z (ndarray): Measurement at the current time step. Shape (m,), where m is the measurement dimension.\n",
    "        particle (ndarray): A single particle state. Shape (n,), where n is the state dimension.\n",
    "\n",
    "    Returns:\n",
    "        float: Likelihood of the measurement given the particle state.\n",
    "    \"\"\"\n",
    "    C = np.array([[kc, 0, 0, 0], [0, kc, 0, 0]])\n",
    "    z_est = C @ particle\n",
    "    return np.exp(-0.5 * np.linalg.norm(z-z_est)**2)\n",
    "\n",
    "def particle_filter_resample_2ndApproach(particles, weights):\n",
    "    \"\"\"\n",
    "    Resamples particles based on their weights.\n",
    "\n",
    "    Parameters:\n",
    "        particles (ndarray): Array of particle states at the current time step. Shape (N, n), where N is the number of particles and n is the state dimension.\n",
    "        weights (ndarray): Array of particle weights at the current time step. Shape (N,).\n",
    "\n",
    "    Returns:\n",
    "        ndarray: Resampled particles. Shape (N, n).\n",
    "    \"\"\"\n",
    "    indices = np.random.choice(np.arange(len(particles)), size=len(particles), p=weights)\n",
    "    particles = particles[indices]\n",
    "    \n",
    "    # Reset weights to be uniform after resampling\n",
    "    weights = np.ones_like(weights) / len(particles)\n",
    "    return particles\n"
   ]
  },
  {
   "cell_type": "markdown",
   "id": "58e1bcbc",
   "metadata": {},
   "source": [
    "#### Calling Particle filter implmentation"
   ]
  },
  {
   "cell_type": "code",
   "execution_count": null,
   "id": "247199e7",
   "metadata": {},
   "outputs": [],
   "source": [
    "# Initialize particles and weights\n",
    "particles = np.tile(x0, (N, 1)) + np.random.randn(N, n) @ np.linalg.cholesky(P0)\n",
    "weights = np.ones(N) / N\n",
    "# Particle filter\n",
    "x_estimates = particle_filter_2ndApproach(N, z, particles, weights, Ar, ar, gamma_arr, g, k_arr, v_arr)\n",
    "print(f'Particle filter estimates : {x_estimates}')"
   ]
  },
  {
   "cell_type": "markdown",
   "id": "37edd566",
   "metadata": {},
   "source": [
    "#### Visualization of the convergence with actual estimates"
   ]
  },
  {
   "cell_type": "code",
   "execution_count": null,
   "id": "433eeb55",
   "metadata": {},
   "outputs": [],
   "source": [
    "# Initialize the plot for original data and Particle filter results\n",
    "plt.figure(figsize=(12, 8))\n",
    "plt.suptitle('Original and Particle Filter Results')\n",
    "\n",
    "plot_filterwise_tank_data(1, time_steps, tank1_measurements, x_estimates[:, 0], tank1_measurements, 'Tank 1', '+')\n",
    "plot_filterwise_tank_data(2, time_steps, tank2_measurements, x_estimates[:, 1], tank2_measurements, 'Tank 2', 'o')\n",
    "plot_filterwise_tank_data(3, time_steps, tank3_measurements, x_estimates[:, 2], tank3_measurements, 'Tank 3', 's')\n",
    "plot_filterwise_tank_data(4, time_steps, tank4_measurements, x_estimates[:, 3], tank4_measurements, 'Tank 4', 'x')\n",
    "\n",
    "# Adjust the subplot layout, so the plots do not overlap\n",
    "plt.tight_layout()\n",
    "plt.subplots_adjust(top=0.9)\n",
    "plt.show()"
   ]
  },
  {
   "cell_type": "code",
   "execution_count": null,
   "id": "07bc85ba",
   "metadata": {},
   "outputs": [],
   "source": [
    "# Create a dataframe with the results\n",
    "particle_results_dataframe = pd.DataFrame({\n",
    "    'Time_Step': time_steps,\n",
    "    'Original_Tank1_Reading': tank1_measurements,\n",
    "    'ParticleFilter_Tank1_Estimate': x_estimates[:, 0],\n",
    "    'Original_Tank2_Reading': tank2_measurements,\n",
    "    'ParticleFilter_Tank2_Estimate': x_estimates[:, 1],\n",
    "    'Original_Tank3_Reading': tank3_measurements,\n",
    "    'ParticleFilter_Tank3_Estimate': x_estimates[:, 2],\n",
    "    'Original_Tank4_Reading': tank4_measurements,\n",
    "    'ParticleFilter_Tank4_Estimate': x_estimates[:, 3]\n",
    "})\n",
    "\n",
    "# Display the dataframe\n",
    "display(particle_results_dataframe)"
   ]
  },
  {
   "cell_type": "code",
   "execution_count": null,
   "id": "3af32791",
   "metadata": {},
   "outputs": [],
   "source": [
    "particle_results_dataframe.to_csv('ParticleFilterResult2ndApproach.csv', sep=',', index=False, encoding='utf-8')"
   ]
  },
  {
   "cell_type": "markdown",
   "id": "756dea07",
   "metadata": {},
   "source": [
    "### **Conclusion for 2nd Approach - More system dynamic oriented implementation :**"
   ]
  },
  {
   "cell_type": "markdown",
   "id": "75714a84",
   "metadata": {},
   "source": [
    "1. We have considered all the system dynamics related parameters in this approach of Particle filter implementation.\n",
    "2. While observing the result closely I have undestood that the filter estimation of actual measurement is converging over the iteration but it is more closely converged for Tank 3 and Tank 4 but on the other hand the for Tank 1 and Tank 2 there are some fluctuation exists even coming to an end of the iteration.\n",
    "3. If we compare our result for 2nd approach with 1st approach we can see initially consider 1st approach is more reliable for better estimates than 2nd approach, but with deep analysis we can see that 2nd approach is more inclined towards system dynamics.\n",
    "4. We also observe that with changing random seed change the final result, and we have iterated couple of them and strict to 199 which is giving considerable result (The change in the seed change the initial randomization set up which lead to better convergence and estimation in some cases)."
   ]
  },
  {
   "cell_type": "markdown",
   "id": "c738b267",
   "metadata": {},
   "source": [
    "### Comparison between Kalman and Particle Filter"
   ]
  },
  {
   "cell_type": "markdown",
   "id": "eabe2c72",
   "metadata": {},
   "source": [
    "#### Loading the data result of Particle and Kalman filter"
   ]
  },
  {
   "cell_type": "code",
   "execution_count": null,
   "id": "075db1fc",
   "metadata": {},
   "outputs": [],
   "source": [
    "#os.chdir('C:\\\\Users\\\\Admin\\\\Coding-M-Tech\\\\AI in Predictive Maintanance\\\\Project\\\\Mini Project_CH22M503_Aloy Banerjee_ParticleFilter_Submission\\\\Mini Project - Particle Filter - CH22M503 - Aloy Banerjee\\\\Kalman Result\\\\')\n",
    "kalman_result_1stApproach = pd.read_csv('Comparison_Kalman_Approach1.csv')\n",
    "kalman_result_2ndApproach = pd.read_csv('Comparison_Kalman_Approach2.csv')\n",
    "kalman_result_1stApproach = kalman_result_1stApproach.iloc[:10000]\n",
    "kalman_result_2ndApproach = kalman_result_2ndApproach.iloc[:10000]\n",
    "print(kalman_result_1stApproach.shape, kalman_result_2ndApproach.shape)\n",
    "\n",
    "#os.chdir('C:\\\\Users\\\\Admin\\\\Coding-M-Tech\\\\AI in Predictive Maintanance\\\\Project\\\\Mini Project_CH22M503_Aloy Banerjee_ParticleFilter_Submission\\\\Mini Project - Particle Filter - CH22M503 - Aloy Banerjee\\\\Particle Result\\\\')\n",
    "particle_result_1stApproach = pd.read_csv('ParticleFilterResult1stApproach.csv')\n",
    "particle_result_2ndApproach = pd.read_csv('ParticleFilterResult2ndApproach.csv')\n",
    "particle_result_1stApproach = particle_result_1stApproach.iloc[:10000]\n",
    "particle_result_2ndApproach = particle_result_2ndApproach.iloc[:10000]\n",
    "print(particle_result_1stApproach.shape, particle_result_2ndApproach.shape)"
   ]
  },
  {
   "cell_type": "markdown",
   "id": "bb386510",
   "metadata": {},
   "source": [
    "#### Common Function for plotting tank data for different filter estimation"
   ]
  },
  {
   "cell_type": "code",
   "execution_count": null,
   "id": "d6304c84",
   "metadata": {},
   "outputs": [],
   "source": [
    "def plot_tank_data(subplot_index, time_steps, tank_measurements, kalman_results, particle_results, tank_title, marker_kalman, marker_particle):\n",
    "    \"\"\"\n",
    "    Plots the tank measurements, Kalman Filter results, and Particle Filter results on a 2x2 subplot.\n",
    "\n",
    "    Args:\n",
    "        subplot_index (int): The index of the subplot where this tank's data will be plotted.\n",
    "        time_steps (array): An array representing the time steps.\n",
    "        tank_measurements (array): An array of the original measurements for this tank.\n",
    "        kalman_results (array): The results of the Kalman filter for this tank.\n",
    "        particle_results (array): The results of the Particle filter for this tank.\n",
    "        tank_title (str): The title for the subplot.\n",
    "    \"\"\"\n",
    "    # Create a subplot on a 2x2 grid at the specified index\n",
    "    plt.subplot(2, 2, subplot_index)\n",
    "    # Scatter plot the Kalman Filter results against time steps, label it as 'Kalman Filter'\n",
    "    plt.scatter(range(time_steps), kalman_results, label='Kalman Filter', marker='+', s=30)\n",
    "    # Scatter plot the Particle Filter results against time steps, label it as 'Particle Filter'\n",
    "    plt.scatter(range(time_steps), particle_results, label='Particle Filter', marker='p', s=30)\n",
    "    # Scatter plot the original tank measurements against time steps, label it as 'Original'\n",
    "    plt.scatter(range(time_steps), tank_measurements, label='Original', marker='*', s=30)\n",
    "    # Set the x-axis label\n",
    "    plt.xlabel('Time Steps')\n",
    "    # Set the y-axis label\n",
    "    plt.ylabel('Tank Level')\n",
    "    # Set the title for this subplot to be the provided tank title\n",
    "    plt.title(tank_title)\n",
    "    # Add a legend to the subplot\n",
    "    plt.legend()\n",
    "\n",
    "    \n",
    "def comparison(kalman_result, particle_result, plot_title, time_steps = 10000):\n",
    "    \"\"\"\n",
    "    Compare Kalman Filter and Particle Filter results for multiple tanks.\n",
    "    \n",
    "    Parameters:\n",
    "        kalman_result (pd.DataFrame): DataFrame containing Kalman Filter results for each tank.\n",
    "        particle_result (pd.DataFrame): DataFrame containing Particle Filter results for each tank.\n",
    "        plot_title (str): Title for the comparison plot.\n",
    "    \"\"\"\n",
    "    \n",
    "    # Combine the Kalman Filter and Particle Filter results, and remove duplicate columns\n",
    "    comparable_dataframe = pd.concat([kalman_result, particle_result], axis=1).T.drop_duplicates().T\n",
    "    \n",
    "    # Extract the measurements for each tank from the comparable DataFrame\n",
    "    tank1_measurements = comparable_dataframe['Original_Tank1_Reading']\n",
    "    tank2_measurements = comparable_dataframe['Original_Tank2_Reading']\n",
    "    tank3_measurements = comparable_dataframe['Original_Tank3_Reading']\n",
    "    tank4_measurements = comparable_dataframe['Original_Tank4_Reading']\n",
    "\n",
    "    # Extract Kalman Filter estimates for each tank from the comparable DataFrame\n",
    "    tank1_kalman_filter_result = comparable_dataframe['KalmanFilter_Tank1_Estimate']\n",
    "    tank2_kalman_filter_result = comparable_dataframe['KalmanFilter_Tank2_Estimate']\n",
    "    tank3_kalman_filter_result = comparable_dataframe['KalmanFilter_Tank3_Estimate']\n",
    "    tank4_kalman_filter_result = comparable_dataframe['KalmanFilter_Tank4_Estimate']\n",
    "\n",
    "    # Extract Particle Filter estimates for each tank from the comparable DataFrame\n",
    "    tank1_Particle_filter_result = comparable_dataframe['ParticleFilter_Tank1_Estimate']\n",
    "    tank2_Particle_filter_result = comparable_dataframe['ParticleFilter_Tank2_Estimate']\n",
    "    tank3_Particle_filter_result = comparable_dataframe['ParticleFilter_Tank3_Estimate']\n",
    "    tank4_Particle_filter_result = comparable_dataframe['ParticleFilter_Tank4_Estimate']\n",
    "    \n",
    "    # Initialize the plot\n",
    "    plt.figure(figsize=(12, 8))\n",
    "    plt.suptitle(plot_title)\n",
    "        \n",
    "    # Plotting the Kalman Filter and Particle Filter measurements for each tank\n",
    "    plot_tank_data(1, time_steps, tank1_measurements, np.array(tank1_kalman_filter_result), np.array(tank1_Particle_filter_result), 'Tank 1', '+', 'o')\n",
    "    plot_tank_data(2, time_steps, tank2_measurements, np.array(tank2_kalman_filter_result), np.array(tank2_Particle_filter_result), 'Tank 2', '+', 'o')\n",
    "    plot_tank_data(3, time_steps, tank3_measurements, np.array(tank3_kalman_filter_result), np.array(tank3_Particle_filter_result), 'Tank 3', '+', 'o')\n",
    "    plot_tank_data(4, time_steps, tank4_measurements, np.array(tank4_kalman_filter_result), np.array(tank4_Particle_filter_result), 'Tank 4', '+', 'o')\n",
    "\n",
    "    # Adjust the subplot layout, so the plots do not overlap\n",
    "    plt.tight_layout()\n",
    "    plt.show()   \n",
    "    "
   ]
  },
  {
   "cell_type": "markdown",
   "id": "b606119e",
   "metadata": {},
   "source": [
    "#### Comparison between Kalman Filter 1st Approach with Paricle Filter 1st Approach :"
   ]
  },
  {
   "cell_type": "code",
   "execution_count": null,
   "id": "2c0bce1f",
   "metadata": {},
   "outputs": [],
   "source": [
    "comparison(kalman_result_1stApproach, particle_result_1stApproach, 'Kalman 1st approach and Particle 1st approach : Filter Results Comparison')"
   ]
  },
  {
   "cell_type": "markdown",
   "id": "8a2e5938",
   "metadata": {},
   "source": [
    "#### Comparison between Kalman Filter 1st Approach with Particle Filter 2nd Approach :"
   ]
  },
  {
   "cell_type": "code",
   "execution_count": null,
   "id": "5a506ce3",
   "metadata": {},
   "outputs": [],
   "source": [
    "comparison(kalman_result_1stApproach, particle_result_2ndApproach, 'Kalman 1st approach and Particle 2nd approach : Filter Results Comparison')"
   ]
  },
  {
   "cell_type": "markdown",
   "id": "f3661dd9",
   "metadata": {},
   "source": [
    "#### Comparison between Kalman Filter 2nd Approach with Particle Filter 1st Approach :"
   ]
  },
  {
   "cell_type": "code",
   "execution_count": null,
   "id": "f9d4f7f8",
   "metadata": {},
   "outputs": [],
   "source": [
    "kalman_result_2ndApproach.shape"
   ]
  },
  {
   "cell_type": "code",
   "execution_count": null,
   "id": "c76289ae",
   "metadata": {},
   "outputs": [],
   "source": [
    "comparison(kalman_result_2ndApproach, particle_result_1stApproach, 'Kalman 2nd approach and Particle 1st approach : Filter Results Comparison')"
   ]
  },
  {
   "cell_type": "markdown",
   "id": "4605c671",
   "metadata": {},
   "source": [
    "#### Comparison between Kalman Filter 2nd Approach with Particle Filter 2nd Approach :"
   ]
  },
  {
   "cell_type": "code",
   "execution_count": null,
   "id": "4ffc6721",
   "metadata": {},
   "outputs": [],
   "source": [
    "comparison(kalman_result_2ndApproach, particle_result_2ndApproach, 'Kalman 2nd approach and Particle 2nd approach : Filter Results Comparison')"
   ]
  },
  {
   "cell_type": "markdown",
   "id": "f5891571",
   "metadata": {},
   "source": [
    "##### Generic Difference between Kalman Filter & Particle Filter :\n",
    "\n",
    "**Kalman Filter**: This is a linear quadratic estimator that provides a mathematical technique to estimate the state of a system from noisy data. It is particularly useful when dealing with multi-sensor data fusion and control problems, like the 4-tank problem.\n",
    "\n",
    "- **Efficiency**: The Kalman filter is computationally efficient, even for large datasets, making it ideal for real-time applications.\n",
    "- **Optimal Estimation**: Under certain conditions (linearity and Gaussian noise), the Kalman filter provides the optimal estimate of the state of the system.\n",
    "- **Handling Noise**: It deals well with system and observation noise, making it robust in many applications.\n",
    "\n",
    "**Particle Filter**: This is a sequential Monte Carlo method for implementing a recursive Bayesian filter by Monte Carlo simulations. It's a powerful tool when dealing with nonlinear and non-Gaussian state-space models, which the 4-tank problem may exhibit.\n",
    "\n",
    "- **Flexibility**: Particle filters are extremely flexible and can handle highly nonlinear and non-Gaussian systems, which may be the case in complex scenarios like the 4-tank problem.\n",
    "- **Robustness**: Particle filters are robust to model misspecifications. They provide good estimates even when the system model is not perfectly known or is slightly incorrect.\n",
    "- **Multimodal Distributions**: Particle filters can represent multimodal distributions, allowing them to model more complex scenarios and provide richer information."
   ]
  },
  {
   "cell_type": "markdown",
   "id": "03559ac3",
   "metadata": {},
   "source": [
    "### Conclusion on the result comparison :\n",
    "1. The 4 Tank problem presents a highly nonlinear system, and the noise in the system may not follow a Gaussian distribution, posing significant challenges to accurate state estimation.\n",
    "\n",
    "2. Leveraging the Kalman filter, we made an approximation of linearity to estimate the true tank level measurements. Over 10000 time steps, the Kalman filter's estimates gradually converged to the actual measurements, showcasing its ability to refine predictions and improve accuracy over time.\n",
    "\n",
    "3. In contrast, the Particle filter exhibited a distinct behavior. It initiated its estimates from a far-off starting point and rapidly converged towards the true measurements. This agility in adapting to nonlinear systems and handling non-Gaussian noise is a notable strength of the Particle filter.\n",
    "\n",
    "4. The Particle filter's fast convergence led to occasional fluctuations in the estimation results, particularly towards the end of the filtering process. However, these fluctuations remained within a close approximation of the true measurements, further validating the Particle filter's reliability.\n",
    "\n",
    "5. The comparison between the Kalman and Particle filter results highlights their respective advantages. The Kalman filter's gradual convergence may be advantageous for systems with stable dynamics, while the Particle filter's swift adaptation is more suitable for highly nonlinear and non-Gaussian processes."
   ]
  },
  {
   "cell_type": "markdown",
   "id": "25a3eb02",
   "metadata": {},
   "source": [
    "<h3 style='text-align: center;'>=======================End of Particle Filter Implementation =======================</h3>"
   ]
  }
 ],
 "metadata": {
  "kernelspec": {
   "display_name": "Python 3 (ipykernel)",
   "language": "python",
   "name": "python3"
  },
  "language_info": {
   "codemirror_mode": {
    "name": "ipython",
    "version": 3
   },
   "file_extension": ".py",
   "mimetype": "text/x-python",
   "name": "python",
   "nbconvert_exporter": "python",
   "pygments_lexer": "ipython3",
   "version": "3.9.16"
  }
 },
 "nbformat": 4,
 "nbformat_minor": 5
}
