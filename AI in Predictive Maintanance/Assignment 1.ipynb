{
 "cells": [
  {
   "cell_type": "markdown",
   "id": "3f9085c8",
   "metadata": {},
   "source": [
    "### Q4. "
   ]
  },
  {
   "cell_type": "markdown",
   "id": "0e45ea79",
   "metadata": {},
   "source": [
    "##### The given circuit is a series RLC circuit, and the equation of motion for the charge Q on the capacitor is given by:\n",
    "$$Q'' + R/L * Q' + 1/(LC) * Q = 0$$\n",
    "\n",
    "##### where Q'' is the second derivative of the charge with respect to time (which is proportional to the current), Q' is the first derivative of the charge with respect to time (which is the current), Q is the charge, R is the resistance, L is the inductance, and C is the capacitance.\n",
    "\n",
    "##### Substituting the given values:\n",
    "$$R = 3 * 10^2 ohms$$\n",
    "$$L = 0.2 * 10^-6 H$$\n",
    "$$C = 103 * 10^-6 F$$\n",
    "\n",
    "##### we get:\n",
    "$$Q'' + 3 * 10^2 / 0.2 * 10^-6 * Q' + 1 / (0.2 * 10^-6 * 103 * 10^-6) * Q = 0$$\n",
    "\n",
    "##### Simplifying, we have:\n",
    "$$Q'' + 1.5 * 10^9 * Q' + 4.854 * 10^4 * Q = 0$$\n",
    "\n",
    "##### The general solution to this equation is:\n",
    "$$Q(t) = e^(-αt) * [A * cos(βt) + B * sin(βt)]$$\n",
    "\n",
    "##### where α = R / (2L) is the damping coefficient and β = sqrt(4/(LC) - α^2) is the undamped angular frequency.\n",
    "\n",
    "##### Substituting the given values, we find:\n",
    "$$α = 3 * 10^2 / (2 * 0.2 * 10^-6) = 7.5 * 10^8 s^-1$$\n",
    "$$β = sqrt(4 / (0.2 * 10^-6 * 103 * 10^-6) - (7.5 * 10^8)^2) ≈ 2.2 * 10^2 s^-1$$\n",
    "\n",
    "##### The initial conditions are:\n",
    "$$Q(0) = 1 * 10^-6 C$$\n",
    "$$Q'(0) = 0$$\n",
    "\n",
    "##### Substituting these into the general solution and its derivative gives:\n",
    "$$A = Q(0) = 1 * 10^-6 C$$\n",
    "$$B = Q'(0) / β + α * A = 0 / β + α * A = 0$$\n",
    "\n",
    "##### So the charge on the capacitor at any time t is:\n",
    "$$Q(t) = e^(-7.5 * 10^8 t) * [1 * 10^-6 * cos(2.2 * 10^2 t) + 0]$$\n",
    "\n",
    "##### Therefore, the charge on the capacitor at any time t is given by:\n",
    "$$Q(t) = 1 * 10^-6 * e^(-7.5 * 10^8 t) * cos(2.2 * 10^2 t) C$$\n"
   ]
  },
  {
   "cell_type": "markdown",
   "id": "34be4bf4",
   "metadata": {},
   "source": [
    "### Q3. "
   ]
  },
  {
   "cell_type": "markdown",
   "id": "06f24681",
   "metadata": {},
   "source": [
    "##### The equation of motion for an undamped, unforced harmonic oscillator (like a mass on a spring) is given by:\n",
    "$$m * x'' + k * x = 0$$\n",
    "\n",
    "##### where m is the mass, x'' is the acceleration (second derivative of the position with respect to time), k is the spring constant, and x is the displacement.\n",
    "##### We first need to calculate the spring constant k, which can be obtained from the formula:\n",
    "$$k = m * g / x0$$\n",
    "\n",
    "##### where m = 4.5 kg, g = 9.81 m/s^2 is the acceleration due to gravity, and x0 = 40 mm = 0.04 m is the initial displacement due to the weight of the mass.\n",
    "\n",
    "$$k = 4.5 kg * 9.81 m/s^2 / 0.04 m = 1102.75 N/m$$\n",
    "\n",
    "##### The general solution of the equation of motion is:\n",
    "\n",
    "$$x(t) = A * cos(w*t + phi)$$\n",
    "\n",
    "##### where A is the amplitude, w = sqrt(k/m) is the angular frequency, t is the time, and phi is the phase.\n",
    "\n",
    "##### The initial conditions are:\n",
    "\n",
    "$$x(0) = x0 + x1 = 0.04 m + 0.025 m = 0.065 m$$\n",
    "$$x'(0) = v0 = 0.5 m/s$$\n",
    "\n",
    "##### Substituting these into the general solution and its derivative gives:\n",
    "\n",
    "$$A * cos(phi) = 0.065 m$$\n",
    "$$-A * w * sin(phi) = 0.5 m/s$$\n",
    "\n",
    "##### We can use these to solve for A and phi. Let's first compute w:\n",
    "\n",
    "$$w = sqrt(k/m) = sqrt(1102.75 N/m / 4.5 kg) = 15.74 rad/s$$\n",
    "\n",
    "##### Then we can compute A using the first equation:\n",
    "\n",
    "$$A = x(0) / cos(phi) = 0.065 m / cos(phi)$$\n",
    "\n",
    "##### And using the second equation:\n",
    "\n",
    "$$-A * w * sin(phi) = v0$$\n",
    "$$sin(phi) = -v0 / (A * w)$$\n",
    "\n",
    "\n",
    "##### Combining these two equations gives:\n",
    "\n",
    "$$tan(phi) = -v0 / (x(0) * w)$$\n",
    "\n",
    "So, \n",
    "$$phi = arctan(-v0 / (x(0) * w)) = arctan(-0.5 m/s / (0.065 m * 15.74 rad/s)) = -0.485 rad$$\n",
    "\n",
    "##### We must adjust this angle to lie in the correct quadrant. Since tan(phi) is negative and cos(phi) is positive (since A = x(0) / cos(phi) and both A and x(0) are positive), phi must lie in the fourth quadrant. Thus, phi is equivalent to 2*pi - 0.485 rad = 5.799 rad.\n",
    "\n",
    "##### Substituting phi back into the equation for A gives:\n",
    "\n",
    "$$A = x(0) / cos(phi) = 0.065 m / cos(5.799 rad) = 0.066 m$$\n",
    "\n",
    "##### So the position of the mass at any later time t is:\n",
    "$$x(t) = 0.066 m * cos(15.74 rad/s * t + 5.799 rad)$$\n",
    "\n",
    "##### The period of the motion is given by T = 2*pi / w:\n",
    "$$T = 2*pi / 15.74 rad/s = 0.398 s$$\n",
    "\n",
    "##### So the period is 0.398 s, the amplitude is 0.066 m, and the phase is 5.799 rad.\n"
   ]
  },
  {
   "cell_type": "markdown",
   "id": "75039188",
   "metadata": {},
   "source": [
    "### Q2. "
   ]
  },
  {
   "cell_type": "markdown",
   "id": "b0468a90",
   "metadata": {},
   "source": [
    "### a."
   ]
  },
  {
   "cell_type": "code",
   "execution_count": null,
   "id": "fa9b8627",
   "metadata": {},
   "outputs": [],
   "source": []
  },
  {
   "cell_type": "code",
   "execution_count": null,
   "id": "958d518d",
   "metadata": {},
   "outputs": [],
   "source": []
  }
 ],
 "metadata": {
  "kernelspec": {
   "display_name": "Python 3 (ipykernel)",
   "language": "python",
   "name": "python3"
  },
  "language_info": {
   "codemirror_mode": {
    "name": "ipython",
    "version": 3
   },
   "file_extension": ".py",
   "mimetype": "text/x-python",
   "name": "python",
   "nbconvert_exporter": "python",
   "pygments_lexer": "ipython3",
   "version": "3.9.16"
  }
 },
 "nbformat": 4,
 "nbformat_minor": 5
}
