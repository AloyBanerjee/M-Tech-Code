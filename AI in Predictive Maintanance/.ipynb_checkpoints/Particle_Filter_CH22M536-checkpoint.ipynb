{
 "cells": [
  {
   "cell_type": "code",
   "execution_count": 442,
   "id": "cc8038e8",
   "metadata": {},
   "outputs": [],
   "source": [
    "import numpy as np\n",
    "import pandas as pd\n",
    "import matplotlib.pyplot as plt\n",
    "from tqdm import tqdm\n",
    "\n",
    "np.random.seed(42)"
   ]
  },
  {
   "cell_type": "code",
   "execution_count": 443,
   "id": "ad330a83",
   "metadata": {},
   "outputs": [],
   "source": [
    "# Reading h state data from excel sheet\n",
    "z = pd.read_excel(\"Link 2 Measurements.xlsx\")\n",
    "\n",
    "# Convert Dataframe to numpy array\n",
    "z = z.to_numpy()"
   ]
  },
  {
   "cell_type": "code",
   "execution_count": 444,
   "id": "a135acf3",
   "metadata": {},
   "outputs": [],
   "source": [
    "# Initialization\n",
    "\n",
    "# Ai => cross-section of Tank i (cm^2)\n",
    "A1, A2, A3, A4 = 28, 32, 28, 32\n",
    "\n",
    "# ai => cross-section of outlet hole of Tank i (cm^2)\n",
    "a1, a2, a3, a4 = 0.071, 0.057, 0.071, 0.057\n",
    "\n",
    "# proportionality constants\n",
    "kc = 0.5 # % (V/cm)\n",
    "g = 981 # % (cm/s^2)\n",
    "gamma1, gamma2 = 0.7, 0.6\n",
    "k1, k2 = 3.33, 3.35 # % cm^3/Vs\n",
    "\n",
    "# initial h\n",
    "h0 = np.array([12.4, 12.7, 1.8, 1.4])\n",
    "\n",
    "# voltages\n",
    "v1, v2 = [0.15, 0.15] # % V\n",
    "\n",
    "# No. of states\n",
    "n=4\n",
    "# No. of particles\n",
    "N=1000\n",
    "\n",
    "C = np.array([[kc, 0, 0, 0],\n",
    "              [0, kc, 0, 0]])"
   ]
  },
  {
   "cell_type": "markdown",
   "id": "fdcd9abd",
   "metadata": {},
   "source": [
    "### Prior"
   ]
  },
  {
   "cell_type": "code",
   "execution_count": 445,
   "id": "a7894dab",
   "metadata": {},
   "outputs": [],
   "source": [
    "p0 = pow(10,5)*np.eye(4)\n",
    "x0 = h0.reshape(4,1)\n",
    "\n",
    "L = np.linalg.cholesky(p0)\n",
    "x0 = (x0 @ np.ones([1, N])).T + np.random.rand(N, n) @ L\n",
    "\n",
    "# Initialization of the states\n",
    "x1_post = x0[:, 0]\n",
    "x2_post = x0[:, 1]\n",
    "x3_post = x0[:, 2]\n",
    "x4_post = x0[:, 3]\n",
    "\n",
    "# Process Noise\n",
    "Q = 100 * np.eye(4) # process noise\n",
    "w = np.linalg.cholesky(Q) @ np.random.rand(n, N) # roughening of the prior\n",
    "w1 = w[0, :]\n",
    "w2 = w[1, :]\n",
    "w3 = w[2, :]\n",
    "w4 = w[3, :]\n",
    "\n",
    "# Prior roughening\n",
    "x1_post += w1.T\n",
    "x2_post += w2.T\n",
    "x3_post += w3.T\n",
    "x4_post += w4.T"
   ]
  },
  {
   "cell_type": "code",
   "execution_count": 446,
   "id": "cb4a8f89",
   "metadata": {},
   "outputs": [],
   "source": [
    "x1_prior = np.zeros(N)\n",
    "x2_prior = np.zeros(N)\n",
    "x3_prior = np.zeros(N)\n",
    "x4_prior = np.zeros(N)"
   ]
  },
  {
   "cell_type": "markdown",
   "id": "f4cc9c70",
   "metadata": {},
   "source": [
    "### Particle Filter"
   ]
  },
  {
   "cell_type": "code",
   "execution_count": 447,
   "id": "e9b2c3a8",
   "metadata": {},
   "outputs": [
    {
     "name": "stderr",
     "output_type": "stream",
     "text": [
      "100%|████████████████████████████████████████████████████████████████████████████████| 100/100 [00:09<00:00, 10.78it/s]\n"
     ]
    }
   ],
   "source": [
    "X_post = []\n",
    "\n",
    "# for k in tqdm(range(len(z))):\n",
    "for k in tqdm(range(100)):\n",
    "    \n",
    "    # Prediction Step\n",
    "    for i in range(N):\n",
    "        x1_prior[i] = (-a1/A1)*np.sqrt(2*g*x1_post[i]) + (a3/A1)*np.sqrt(2*g*x3_post[i]) + (gamma1*k1*v1)/A1 + w1[i]\n",
    "        x2_prior[i] = (-a2/A2)*np.sqrt(2*g*x2_post[i]) + (a4/A2)*np.sqrt(2*g*x4_post[i]) + (gamma2*k1*v2)/A2 + w2[i]\n",
    "        x3_prior[i] = (-a3/A3)*np.sqrt(2*g*x3_post[i]) + ((1 - gamma2)*k2*v1)/A3 + w3[i]\n",
    "        x4_prior[i] = (-a4/A4)*np.sqrt(2*g*x4_post[i]) + ((1 - gamma1)*k1*v2)/A4 + w4[i]\n",
    "    x1_prior = abs(x1_prior)\n",
    "    x2_prior = abs(x2_prior)\n",
    "    x3_prior = abs(x3_prior)\n",
    "    x4_prior = abs(x4_prior)\n",
    "    x_prior = np.array([x1_prior, x2_prior, x3_prior, x4_prior]).T\n",
    "    \n",
    "    # Likelihood Step\n",
    "    # Importance Weights\n",
    "    z_true = np.array(z[k][:2]).reshape(2,1) @ np.ones([1,N])\n",
    "    R = 10 * np.eye(2)\n",
    "    z_est = C @ x_prior.T\n",
    "    v = z_true - z_est\n",
    "    q = [np.exp(-0.5 * (v[:, i].T @ np.linalg.inv(R) @ v[:, i])) for i in range(N)]\n",
    "    \n",
    "    # Normalize the weights\n",
    "    wt = [q[i]/sum(q) for i in range(N)]\n",
    "    \n",
    "    # Selection\n",
    "    # Resampling\n",
    "    M = len(wt)\n",
    "    Q = np.cumsum(wt)\n",
    "    indx = np.zeros(N)\n",
    "    T = np.linspace(0, 1 - (1/N), N) + np.random.rand(N)/N\n",
    "    i = 0\n",
    "    j = 0\n",
    "    while(i < N and j < M):\n",
    "        while(Q[j] < T[i]):\n",
    "            j += 1\n",
    "        indx[i] = j\n",
    "        x1_post[i] = x1_prior[i]\n",
    "        x2_post[i] = x2_prior[i]\n",
    "        x3_post[i] = x3_prior[i]\n",
    "        x4_post[i] = x4_prior[i]\n",
    "        i += 1\n",
    "    \n",
    "    X_post.append([x1_post.mean(), x2_post.mean(), x3_post.mean(), x4_post.mean()])"
   ]
  },
  {
   "cell_type": "code",
   "execution_count": 448,
   "id": "97129eb4",
   "metadata": {},
   "outputs": [
    {
     "data": {
      "text/plain": [
       "[4.945824054829133, 4.987172734504897, 4.711108529602643, 4.668318764605452]"
      ]
     },
     "execution_count": 448,
     "metadata": {},
     "output_type": "execute_result"
    }
   ],
   "source": [
    "X_post[-1]"
   ]
  },
  {
   "cell_type": "code",
   "execution_count": null,
   "id": "bf3531bb",
   "metadata": {},
   "outputs": [],
   "source": []
  }
 ],
 "metadata": {
  "kernelspec": {
   "display_name": "Python 3 (ipykernel)",
   "language": "python",
   "name": "python3"
  },
  "language_info": {
   "codemirror_mode": {
    "name": "ipython",
    "version": 3
   },
   "file_extension": ".py",
   "mimetype": "text/x-python",
   "name": "python",
   "nbconvert_exporter": "python",
   "pygments_lexer": "ipython3",
   "version": "3.9.16"
  }
 },
 "nbformat": 4,
 "nbformat_minor": 5
}
