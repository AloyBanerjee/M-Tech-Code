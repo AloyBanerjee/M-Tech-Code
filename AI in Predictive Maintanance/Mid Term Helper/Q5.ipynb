{
 "cells": [
  {
   "cell_type": "code",
   "execution_count": 2,
   "id": "d1cfdab7",
   "metadata": {},
   "outputs": [
    {
     "name": "stdout",
     "output_type": "stream",
     "text": [
      "H(s) = \n",
      "   5 s + 2\n",
      "-------------\n",
      "s^2 + 4 s + 4\n",
      "\n",
      "RiseTime         0.10466295877245661\n",
      "SettlingTime     nan            \n",
      "SettlingMin      0.5            \n",
      "SettlingMax      1.0729994722115879\n",
      "Overshoot        114.59989444231758\n",
      "Undershoot       0              \n",
      "Peak             1.0729994722115879\n",
      "PeakTime         0.6279777526347396\n",
      "SteadyStateValue 0.5            \n"
     ]
    }
   ],
   "source": [
    "# Import necessary modules\n",
    "import control\n",
    "import numpy as np\n",
    "\n",
    "# Define numerator and denominator of the transfer function\n",
    "numerator = np.array([0, 5, 2])\n",
    "denominator = np.array([1, 4, 4])\n",
    "\n",
    "# Create the transfer function H(s)\n",
    "transfer_function = control.tf(numerator, denominator)\n",
    "\n",
    "# Print the transfer function\n",
    "print('H(s) =', transfer_function)\n",
    "\n",
    "# Get step response information of the system\n",
    "step_info = control.step_info(transfer_function)\n",
    "\n",
    "# Print each attribute and its corresponding value\n",
    "for key in step_info:\n",
    "    print(\"{:<16} {:<15}\".format(key, step_info[key]))"
   ]
  },
  {
   "cell_type": "code",
   "execution_count": null,
   "id": "60b6fbbc",
   "metadata": {},
   "outputs": [],
   "source": []
  }
 ],
 "metadata": {
  "kernelspec": {
   "display_name": "Python 3 (ipykernel)",
   "language": "python",
   "name": "python3"
  },
  "language_info": {
   "codemirror_mode": {
    "name": "ipython",
    "version": 3
   },
   "file_extension": ".py",
   "mimetype": "text/x-python",
   "name": "python",
   "nbconvert_exporter": "python",
   "pygments_lexer": "ipython3",
   "version": "3.9.16"
  }
 },
 "nbformat": 4,
 "nbformat_minor": 5
}
