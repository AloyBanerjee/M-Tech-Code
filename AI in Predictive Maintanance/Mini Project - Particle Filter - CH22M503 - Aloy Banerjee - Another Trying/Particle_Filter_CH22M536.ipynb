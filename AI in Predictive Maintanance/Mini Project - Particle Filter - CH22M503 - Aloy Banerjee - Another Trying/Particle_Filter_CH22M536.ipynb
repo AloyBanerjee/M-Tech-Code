{
 "cells": [
  {
   "cell_type": "code",
   "execution_count": 1,
   "id": "cc8038e8",
   "metadata": {},
   "outputs": [],
   "source": [
    "import numpy as np\n",
    "import pandas as pd\n",
    "import matplotlib.pyplot as plt\n",
    "from tqdm import tqdm\n",
    "\n",
    "np.random.seed(42)"
   ]
  },
  {
   "cell_type": "code",
   "execution_count": 2,
   "id": "ad330a83",
   "metadata": {},
   "outputs": [],
   "source": [
    "# Reading h state data from excel sheet\n",
    "z = pd.read_excel(\"Link 2 Measurements.xlsx\")\n",
    "\n",
    "# Convert Dataframe to numpy array\n",
    "z = z.to_numpy()"
   ]
  },
  {
   "cell_type": "code",
   "execution_count": 3,
   "id": "a135acf3",
   "metadata": {},
   "outputs": [],
   "source": [
    "# Initialization\n",
    "\n",
    "# Ai => cross-section of Tank i (cm^2)\n",
    "A1, A2, A3, A4 = 28, 32, 28, 32\n",
    "\n",
    "# ai => cross-section of outlet hole of Tank i (cm^2)\n",
    "a1, a2, a3, a4 = 0.071, 0.057, 0.071, 0.057\n",
    "\n",
    "# proportionality constants\n",
    "kc = 0.5 # % (V/cm)\n",
    "g = 981 # % (cm/s^2)\n",
    "gamma1, gamma2 = 0.7, 0.6\n",
    "k1, k2 = 3.33, 3.35 # % cm^3/Vs\n",
    "\n",
    "# initial h\n",
    "h0 = np.array([12.4, 12.7, 1.8, 1.4])\n",
    "\n",
    "# voltages\n",
    "v1, v2 = [3, 3] # % V\n",
    "\n",
    "# No. of states\n",
    "n=4\n",
    "# No. of particles\n",
    "N=10000\n",
    "total_data_length = 10000\n",
    "C = np.array([[kc, 0, 0, 0],\n",
    "              [0, kc, 0, 0]])\n",
    "\n",
    "ts = 0.1"
   ]
  },
  {
   "cell_type": "markdown",
   "id": "fdcd9abd",
   "metadata": {},
   "source": [
    "### Prior"
   ]
  },
  {
   "cell_type": "code",
   "execution_count": 4,
   "id": "a7894dab",
   "metadata": {},
   "outputs": [],
   "source": [
    "p0 = pow(10,5)*np.eye(4)\n",
    "x0 = h0.reshape(4,1)\n",
    "\n",
    "L = np.linalg.cholesky(p0)\n",
    "x0 = (x0 @ np.ones([1, N])).T + (np.random.rand(N, n) @ L)/N\n",
    "\n",
    "# Initialization of the states\n",
    "x1_post = x0[:, 0]\n",
    "x2_post = x0[:, 1]\n",
    "x3_post = x0[:, 2]\n",
    "x4_post = x0[:, 3]\n",
    "\n",
    "# Process Noise\n",
    "Q = 0.1 * np.eye(4) # process noise\n",
    "w = np.linalg.cholesky(Q) @ np.random.rand(n, N)/N # roughening of the prior\n",
    "w1 = w[0, :]\n",
    "w2 = w[1, :]\n",
    "w3 = w[2, :]\n",
    "w4 = w[3, :]\n",
    "\n",
    "# Prior roughening\n",
    "x1_post += w1.T\n",
    "x2_post += w2.T\n",
    "x3_post += w3.T\n",
    "x4_post += w4.T"
   ]
  },
  {
   "cell_type": "code",
   "execution_count": 5,
   "id": "cb4a8f89",
   "metadata": {},
   "outputs": [],
   "source": [
    "x1_prior = np.zeros(N)\n",
    "x2_prior = np.zeros(N)\n",
    "x3_prior = np.zeros(N)\n",
    "x4_prior = np.zeros(N)\n",
    "x1_post_data, x2_post_data, x3_post_data, x4_post_data = np.zeros(total_data_length), np.zeros(total_data_length), np.zeros(total_data_length), np.zeros(total_data_length)"
   ]
  },
  {
   "cell_type": "markdown",
   "id": "f4cc9c70",
   "metadata": {},
   "source": [
    "### Particle Filter"
   ]
  },
  {
   "cell_type": "code",
   "execution_count": null,
   "id": "e9b2c3a8",
   "metadata": {},
   "outputs": [
    {
     "name": "stderr",
     "output_type": "stream",
     "text": [
      "  0%|          | 23/10001 [01:30<11:00:48,  3.97s/it]"
     ]
    }
   ],
   "source": [
    "X_post = []\n",
    "\n",
    "for k in tqdm(range(len(z))):\n",
    "# for k in tqdm(range(1000)):\n",
    "    \n",
    "    # Prediction Step\n",
    "    x1_prior = x1_post + ts*((-a1/A1)*np.sqrt(2*g*x1_post) + (a3/A1)*np.sqrt(2*g*x3_post) + (gamma1*k1*v1)/A1 + w1)\n",
    "    x2_prior = x2_post + ts*((-a2/A2)*np.sqrt(2*g*x2_post) + (a4/A2)*np.sqrt(2*g*x4_post) + (gamma2*k1*v2)/A2 + w2)\n",
    "    x3_prior = x3_post + ts*((-a3/A3)*np.sqrt(2*g*x3_post) + ((1 - gamma2)*k2*v1)/A3 + w3)\n",
    "    x4_prior = x4_post + ts*((-a4/A4)*np.sqrt(2*g*x4_post) + ((1 - gamma1)*k1*v2)/A4 + w4)\n",
    "    x1_prior = abs(x1_prior)\n",
    "    x2_prior = abs(x2_prior)\n",
    "    x3_prior = abs(x3_prior)\n",
    "    x4_prior = abs(x4_prior)\n",
    "    x_prior = np.array([x1_prior, x2_prior, x3_prior, x4_prior]).T\n",
    "    \n",
    "    # Likelihood Step\n",
    "    # Importance Weights\n",
    "    z_true = np.array(C @ z[k]).reshape(2,1) @ np.ones([1,N])\n",
    "    R = 1 * np.eye(2)\n",
    "    z_est = C @ x_prior.T\n",
    "    v = z_true - z_est\n",
    "    q = [np.exp(-0.5 * (v[:, i].T @ np.linalg.inv(R) @ v[:, i])) for i in range(N)]\n",
    "    \n",
    "    # Normalize the weights\n",
    "    wt = [q[i]/sum(q) for i in range(N)]\n",
    "    \n",
    "    # Selection\n",
    "    # Resampling\n",
    "    M = len(wt)\n",
    "    Q = np.cumsum(wt)\n",
    "    indx = np.zeros(N)\n",
    "    T = np.linspace(0, 1 - (1/N), N) + np.random.rand(N)/N\n",
    "    i = 0\n",
    "    j = 0\n",
    "    while(i < N and j < M):\n",
    "        while(Q[j] < T[i]):\n",
    "            j += 1\n",
    "        indx[i] = j\n",
    "        x1_post[i] = x1_prior[j]\n",
    "        x2_post[i] = x2_prior[j]\n",
    "        x3_post[i] = x3_prior[j]\n",
    "        x4_post[i] = x4_prior[j]\n",
    "        i += 1    \n",
    "    X_post.append([x1_post.mean(), x2_post.mean(), x3_post.mean(), x4_post.mean()])"
   ]
  },
  {
   "cell_type": "code",
   "execution_count": null,
   "id": "18a51106",
   "metadata": {},
   "outputs": [],
   "source": [
    "def plot_X(X, h, label):\n",
    "    # Extracting X\n",
    "    X_1 = [x[0] for x in X]\n",
    "    X_2 = [x[1] for x in X]\n",
    "    X_3 = [x[2] for x in X]\n",
    "    X_4 = [x[3] for x in X]\n",
    "\n",
    "\n",
    "    fig, ax = plt.subplots(2,2, figsize=(12, 8))\n",
    "    ax[0][0].plot(X_1)\n",
    "    ax[0][1].plot(X_2)\n",
    "    ax[1][0].plot(X_3)\n",
    "    ax[1][1].plot(X_4)\n",
    "\n",
    "    if type(h) == np.ndarray:\n",
    "        ax[0][0].plot(h[:,0])\n",
    "        ax[0][1].plot(h[:,1])\n",
    "        ax[1][0].plot(h[:,2])\n",
    "        ax[1][1].plot(h[:,3])\n",
    "    \n",
    "    ax[0][0].set_xlabel(\"k (Time Steps)\")\n",
    "    ax[0][1].set_xlabel(\"k (Time Steps)\")\n",
    "    ax[1][0].set_xlabel(\"k (Time Steps)\")\n",
    "    ax[1][1].set_xlabel(\"k (Time Steps)\")\n",
    "    ax[0][0].set_ylabel(label)\n",
    "    ax[0][1].set_ylabel(label)\n",
    "    ax[1][0].set_ylabel(label)\n",
    "    ax[1][1].set_ylabel(label)\n",
    "\n",
    "    ax[0][0].legend([label + \"1\", \"Measured h1 Value from CSV\"])\n",
    "    ax[0][1].legend([label + \"2\", \"Measured h2 Value from CSV\"])\n",
    "    ax[1][0].legend([label + \"3\", \"Measured h3 Value from CSV\"])\n",
    "    ax[1][1].legend([label + \"4\", \"Measured h4 Value from CSV\"])\n",
    "\n",
    "    fig.suptitle(label)\n",
    "    plt.show()"
   ]
  },
  {
   "cell_type": "code",
   "execution_count": null,
   "id": "a3aa6ae2",
   "metadata": {},
   "outputs": [],
   "source": [
    "# Plotting X posterior\n",
    "plot_X(X_post, z[:len(X_post)], 'X_Posterior')"
   ]
  },
  {
   "cell_type": "code",
   "execution_count": null,
   "id": "241f4c91",
   "metadata": {
    "scrolled": true
   },
   "outputs": [],
   "source": [
    "X_post[-1]"
   ]
  },
  {
   "cell_type": "markdown",
   "id": "b5014ecb",
   "metadata": {},
   "source": [
    "[12.286329555610704,\n",
    " 12.715180427659662,\n",
    " 1.6377875202192915,\n",
    " 1.4140518676187503]"
   ]
  }
 ],
 "metadata": {
  "kernelspec": {
   "display_name": "Python 3 (ipykernel)",
   "language": "python",
   "name": "python3"
  },
  "language_info": {
   "codemirror_mode": {
    "name": "ipython",
    "version": 3
   },
   "file_extension": ".py",
   "mimetype": "text/x-python",
   "name": "python",
   "nbconvert_exporter": "python",
   "pygments_lexer": "ipython3",
   "version": "3.9.16"
  }
 },
 "nbformat": 4,
 "nbformat_minor": 5
}
