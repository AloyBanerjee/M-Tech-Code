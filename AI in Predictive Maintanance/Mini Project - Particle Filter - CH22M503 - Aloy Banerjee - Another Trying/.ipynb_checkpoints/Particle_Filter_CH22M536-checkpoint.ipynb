{
 "cells": [
  {
   "cell_type": "code",
   "execution_count": 34,
   "id": "cc8038e8",
   "metadata": {},
   "outputs": [],
   "source": [
    "import numpy as np\n",
    "import pandas as pd\n",
    "import matplotlib.pyplot as plt\n",
    "from tqdm import tqdm\n",
    "\n",
    "np.random.seed(42)"
   ]
  },
  {
   "cell_type": "code",
   "execution_count": 35,
   "id": "ad330a83",
   "metadata": {},
   "outputs": [],
   "source": [
    "# Reading h state data from excel sheet\n",
    "z = pd.read_excel(\"Link 2 Measurements.xlsx\")\n",
    "tank1_measurements, tank2_measurements, tank3_measurements, tank4_measurements = [z[f'h{i}'].values for i in range(1, 5)]\n",
    "# Convert Dataframe to numpy array\n",
    "z = z.to_numpy()"
   ]
  },
  {
   "cell_type": "code",
   "execution_count": 57,
   "id": "a135acf3",
   "metadata": {},
   "outputs": [],
   "source": [
    "# Initialization\n",
    "\n",
    "# Ai => cross-section of Tank i (cm^2)\n",
    "A1, A2, A3, A4 = 28, 32, 28, 32\n",
    "\n",
    "# ai => cross-section of outlet hole of Tank i (cm^2)\n",
    "a1, a2, a3, a4 = 0.071, 0.057, 0.071, 0.057\n",
    "\n",
    "# proportionality constants\n",
    "kc = 0.5 # % (V/cm)\n",
    "g = 981 # % (cm/s^2)\n",
    "gamma1, gamma2 = 0.7, 0.6\n",
    "k1, k2 = 3.33, 3.35 # % cm^3/Vs\n",
    "\n",
    "# initial h\n",
    "h0 = np.array([12.4, 12.7, 1.8, 1.4])\n",
    "\n",
    "# voltages\n",
    "v1, v2 = [0.15, 0.15] # % V\n",
    "\n",
    "# No. of states\n",
    "n=4\n",
    "# No. of particles\n",
    "N=1000\n",
    "\n",
    "C = np.array([[kc, 0, 0, 0],\n",
    "              [0, kc, 0, 0]])\n",
    "\n",
    "delta_t = 0.1\n",
    "epsilon = 1e-10"
   ]
  },
  {
   "cell_type": "markdown",
   "id": "fdcd9abd",
   "metadata": {},
   "source": [
    "### Prior"
   ]
  },
  {
   "cell_type": "code",
   "execution_count": 52,
   "id": "a7894dab",
   "metadata": {},
   "outputs": [],
   "source": [
    "p0 = pow(10,5)*np.eye(4)\n",
    "x0 = h0.reshape(4,1)\n",
    "\n",
    "L = np.linalg.cholesky(p0)\n",
    "x0 = (x0 @ np.ones([1, N])).T + np.random.rand(N, n) @ L\n",
    "\n",
    "# Initialization of the states\n",
    "x1_post = x0[:, 0]\n",
    "x2_post = x0[:, 1]\n",
    "x3_post = x0[:, 2]\n",
    "x4_post = x0[:, 3]\n",
    "\n",
    "# Hyperparameter\n",
    "Q = 1 * np.eye(4) # process noise\n",
    "R = 0.501 * np.eye(2) # measurement noise\n",
    "w = np.linalg.cholesky(Q) @ (np.random.rand(n, N)/N) # roughening of the prior\n",
    "w1 = w[0, :]\n",
    "w2 = w[1, :]\n",
    "w3 = w[2, :]\n",
    "w4 = w[3, :]\n",
    "\n",
    "# Prior roughening\n",
    "x1_post += w1.T\n",
    "x2_post += w2.T\n",
    "x3_post += w3.T\n",
    "x4_post += w4.T\n",
    "\n",
    "x1_post_data, x2_post_data, x3_post_data, x4_post_data = np.zeros(N), np.zeros(N), np.zeros(N), np.zeros(N)"
   ]
  },
  {
   "cell_type": "code",
   "execution_count": 53,
   "id": "cb4a8f89",
   "metadata": {},
   "outputs": [],
   "source": [
    "x1_prior = np.zeros(N)\n",
    "x2_prior = np.zeros(N)\n",
    "x3_prior = np.zeros(N)\n",
    "x4_prior = np.zeros(N)"
   ]
  },
  {
   "cell_type": "code",
   "execution_count": 54,
   "id": "343d2935",
   "metadata": {},
   "outputs": [
    {
     "data": {
      "text/plain": [
       "(1000,)"
      ]
     },
     "execution_count": 54,
     "metadata": {},
     "output_type": "execute_result"
    }
   ],
   "source": [
    "x1_post.shape"
   ]
  },
  {
   "cell_type": "code",
   "execution_count": 61,
   "id": "4be0b207",
   "metadata": {},
   "outputs": [],
   "source": [
    "def plot(subplot_num, time_steps, original_data, filter_results, tank_measurements, tank_name, marker):\n",
    "    plt.subplot(2, 2, subplot_num) \n",
    "    plt.plot(time_steps, original_data, label='Original', color='purple')  \n",
    "    plt.plot(time_steps, filter_results, label='Filter Info', color='blue')\n",
    "    plt.title(tank_name)  \n",
    "    plt.legend()"
   ]
  },
  {
   "cell_type": "markdown",
   "id": "f4cc9c70",
   "metadata": {},
   "source": [
    "### Particle Filter"
   ]
  },
  {
   "cell_type": "code",
   "execution_count": null,
   "id": "346c5696",
   "metadata": {},
   "outputs": [],
   "source": [
    "for hyperparameter_process_noise in range(1,15,1):\n",
    "    for hyperparameter_measurement_noise in np.arange(0.001, 1.0, 0.5):\n",
    "        x1_pri = x1_post + delta_t*(-a1/A1*np.sqrt(2*g*np.abs(x1_post)) + a3/A1*np.sqrt(2*g*np.abs(x3_post)) + (gamma1*k1*v1)/A1 + w1)\n",
    "        x2_pri = x2_post + delta_t*(-a2/A2*np.sqrt(2*g*np.abs(x2_post)) + a4/A2*np.sqrt(2*g*np.abs(x4_post)) + (gamma2*k1*v2)/A2 + w2)\n",
    "        x3_pri = x3_post + delta_t*(-a3/A3*np.sqrt(2*g*np.abs(x3_post)) + (1 - gamma2)*k2*v2/A3 + w3)\n",
    "        x4_pri = x4_post + delta_t*(-a4/A4*np.sqrt(2*g*np.abs(x4_post)) + (1 - gamma1)*k1*v1/A4 + w4)\n",
    "\n",
    "        \n",
    "        x_pri = np.abs(np.array([x1_pri, x2_pri, x3_pri, x4_pri]))\n",
    "        x1_pri, x2_pri, x3_pri, x4_pri = np.abs(x1_pri), np.abs(x2_pri), np.abs(x3_pri), np.abs(x4_pri)\n",
    "\n",
    "        h_try = z[initalLoop,:]        \n",
    "        z1, z2 = h_try[0], h_try[1]\n",
    "\n",
    "        z_true = np.tile([z1, z2], (N, 1)).T\n",
    "        z_est = C.dot(x_pri)\n",
    "        \n",
    "        e = z_true - z_est        \n",
    "        q = np.zeros(N)\n",
    "        for i in range(N):\n",
    "            q[i] = np.exp(-0.5 * e[:, i].T @ np.linalg.inv(R) @ e[:, i])\n",
    "        \n",
    "        wt = np.array([q[i] / np.sum(q) if np.sum(q) != 0 else q[i] / (np.sum(q)+epsilon) for i in range(N)])\n",
    "       \n",
    "        Q = np.cumsum(wt)\n",
    "\n",
    "        T = np.linspace(0, 1-1/N, N) + np.random.rand()/N\n",
    "        i,j = 0,0\n",
    "        index = np.zeros(N, dtype=int)\n",
    "        while i < N and j < N:\n",
    "            while T[i] < Q[j] and i < N-1 and j < N-1:        \n",
    "                j += 1\n",
    "            index[i] = j\n",
    "            x1_post[i], x2_post[i], x3_post[i], x4_post[i] = x1_pri[j], x2_pri[j], x3_pri[j], x4_pri[j]\n",
    "            i += 1\n",
    "\n",
    "        # Calculate the posterior estimates for each state variable using weighted averages\n",
    "        x1_post_data[initalLoop] = np.sum(wt*x1_post.reshape(1,-1))\n",
    "        x2_post_data[initalLoop] = np.sum(wt*x2_post.reshape(1,-1))\n",
    "        x3_post_data[initalLoop] = np.sum(wt*x3_post.reshape(1,-1))\n",
    "        x4_post_data[initalLoop] = np.sum(wt*x4_post.reshape(1,-1))\n",
    "        \n",
    "        plt.figure(figsize=(12, 8))\n",
    "\n",
    "        plot(1, range(1000), tank1_measurements[:1000], x1_post_data, tank1_measurements[:1000], 'Tank 1', '+')\n",
    "        plot(2, range(1000), tank2_measurements[:1000], x2_post_data, tank2_measurements[:1000], 'Tank 2', 'o')\n",
    "        plot(3, range(1000), tank3_measurements[:1000], x3_post_data, tank3_measurements[:1000], 'Tank 3', 's')\n",
    "        plot(4, range(1000), tank4_measurements[:1000], x4_post_data, tank4_measurements[:1000], 'Tank 4', 'x')\n",
    "\n",
    "        # Adjust the subplot layout, so the plots do not overlap\n",
    "        plt.tight_layout()\n",
    "        plt.subplots_adjust(top=0.9)\n",
    "        plt.show()"
   ]
  },
  {
   "cell_type": "code",
   "execution_count": 58,
   "id": "e9b2c3a8",
   "metadata": {},
   "outputs": [
    {
     "name": "stderr",
     "output_type": "stream",
     "text": [
      "100%|██████████| 100/100 [37:57<00:00, 22.78s/it]\n"
     ]
    }
   ],
   "source": [
    "X_post = []\n",
    "for k in tqdm(range(100)):\n",
    "    for initalLoop in range(N):\n",
    "        \n",
    "        x1_pri = x1_post + delta_t*(-a1/A1*np.sqrt(2*g*np.abs(x1_post)) + a3/A1*np.sqrt(2*g*np.abs(x3_post)) + (gamma1*k1*v1)/A1 + w1)\n",
    "        x2_pri = x2_post + delta_t*(-a2/A2*np.sqrt(2*g*np.abs(x2_post)) + a4/A2*np.sqrt(2*g*np.abs(x4_post)) + (gamma2*k1*v2)/A2 + w2)\n",
    "        x3_pri = x3_post + delta_t*(-a3/A3*np.sqrt(2*g*np.abs(x3_post)) + (1 - gamma2)*k2*v2/A3 + w3)\n",
    "        x4_pri = x4_post + delta_t*(-a4/A4*np.sqrt(2*g*np.abs(x4_post)) + (1 - gamma1)*k1*v1/A4 + w4)\n",
    "\n",
    "        \n",
    "        x_pri = np.abs(np.array([x1_pri, x2_pri, x3_pri, x4_pri]))\n",
    "        x1_pri, x2_pri, x3_pri, x4_pri = np.abs(x1_pri), np.abs(x2_pri), np.abs(x3_pri), np.abs(x4_pri)\n",
    "\n",
    "        h_try = z[initalLoop,:]        \n",
    "        z1, z2 = h_try[0], h_try[1]\n",
    "\n",
    "        z_true = np.tile([z1, z2], (N, 1)).T\n",
    "        z_est = C.dot(x_pri)\n",
    "        \n",
    "        e = z_true - z_est        \n",
    "        q = np.zeros(N)\n",
    "        for i in range(N):\n",
    "            q[i] = np.exp(-0.5 * e[:, i].T @ np.linalg.inv(R) @ e[:, i])\n",
    "        \n",
    "        wt = np.array([q[i] / np.sum(q) if np.sum(q) != 0 else q[i] / (np.sum(q)+epsilon) for i in range(N)])\n",
    "       \n",
    "        Q = np.cumsum(wt)\n",
    "\n",
    "        T = np.linspace(0, 1-1/N, N) + np.random.rand()/N\n",
    "        i,j = 0,0\n",
    "        index = np.zeros(N, dtype=int)\n",
    "        while i < N and j < N:\n",
    "            while T[i] < Q[j] and i < N-1 and j < N-1:        \n",
    "                j += 1\n",
    "            index[i] = j\n",
    "            x1_post[i], x2_post[i], x3_post[i], x4_post[i] = x1_pri[j], x2_pri[j], x3_pri[j], x4_pri[j]\n",
    "            i += 1\n",
    "\n",
    "        # Calculate the posterior estimates for each state variable using weighted averages\n",
    "        x1_post_data[initalLoop] = np.sum(wt*x1_post.reshape(1,-1))\n",
    "        x2_post_data[initalLoop] = np.sum(wt*x2_post.reshape(1,-1))\n",
    "        x3_post_data[initalLoop] = np.sum(wt*x3_post.reshape(1,-1))\n",
    "        x4_post_data[initalLoop] = np.sum(wt*x4_post.reshape(1,-1))"
   ]
  },
  {
   "cell_type": "code",
   "execution_count": 59,
   "id": "97129eb4",
   "metadata": {},
   "outputs": [
    {
     "data": {
      "text/plain": [
       "0.032300871356661806"
      ]
     },
     "execution_count": 59,
     "metadata": {},
     "output_type": "execute_result"
    }
   ],
   "source": [
    "x1_post_data[-1]"
   ]
  },
  {
   "cell_type": "code",
   "execution_count": 62,
   "id": "bf3531bb",
   "metadata": {},
   "outputs": [
    {
     "data": {
      "image/png": "[encoded data removed]",
      "text/plain": [
       "<Figure size 1200x800 with 4 Axes>"
      ]
     },
     "metadata": {},
     "output_type": "display_data"
    }
   ],
   "source": [
    "plt.figure(figsize=(12, 8))\n",
    "\n",
    "plot(1, range(1000), tank1_measurements[:1000], x1_post_data, tank1_measurements[:1000], 'Tank 1', '+')\n",
    "plot(2, range(1000), tank2_measurements[:1000], x2_post_data, tank2_measurements[:1000], 'Tank 2', 'o')\n",
    "plot(3, range(1000), tank3_measurements[:1000], x3_post_data, tank3_measurements[:1000], 'Tank 3', 's')\n",
    "plot(4, range(1000), tank4_measurements[:1000], x4_post_data, tank4_measurements[:1000], 'Tank 4', 'x')\n",
    "\n",
    "# Adjust the subplot layout, so the plots do not overlap\n",
    "plt.tight_layout()\n",
    "plt.subplots_adjust(top=0.9)\n",
    "plt.show()"
   ]
  },
  {
   "cell_type": "code",
   "execution_count": null,
   "id": "06db2355",
   "metadata": {},
   "outputs": [],
   "source": []
  }
 ],
 "metadata": {
  "kernelspec": {
   "display_name": "Python 3 (ipykernel)",
   "language": "python",
   "name": "python3"
  },
  "language_info": {
   "codemirror_mode": {
    "name": "ipython",
    "version": 3
   },
   "file_extension": ".py",
   "mimetype": "text/x-python",
   "name": "python",
   "nbconvert_exporter": "python",
   "pygments_lexer": "ipython3",
   "version": "3.9.16"
  }
 },
 "nbformat": 4,
 "nbformat_minor": 5
}
