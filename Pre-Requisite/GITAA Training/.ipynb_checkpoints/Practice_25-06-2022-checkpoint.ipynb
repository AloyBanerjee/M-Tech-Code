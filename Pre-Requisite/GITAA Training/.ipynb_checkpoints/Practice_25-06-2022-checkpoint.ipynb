{
 "cells": [
  {
   "cell_type": "code",
   "execution_count": 18,
   "id": "df536e64",
   "metadata": {},
   "outputs": [
    {
     "name": "stdout",
     "output_type": "stream",
     "text": [
      "[[3 3 2]\n",
      " [2 3 2]\n",
      " [3 3 2]]\n",
      "(3, 3)\n",
      "2\n",
      "int32\n",
      "2\n",
      "Eigen Value :  [7.60555128e+00 3.94448725e-01 6.13848056e-16]\n",
      "Eigen Vector :  [[-6.02549387e-01 -4.79089583e-01  1.11543190e-15]\n",
      " [-5.23324442e-01  7.35490546e-01 -5.54700196e-01]\n",
      " [-6.02549387e-01 -4.79089583e-01  8.32050294e-01]]\n",
      "Sum of eigenValue :  7.999999999999997\n"
     ]
    }
   ],
   "source": [
    "import numpy as np\n",
    "import pandas as pd\n",
    "from sympy import *\n",
    "\n",
    "np.random.seed(10)\n",
    "matrix = np.random.randint(2,5,(3,3))\n",
    "print(matrix)\n",
    "print(matrix.shape)\n",
    "print(matrix.ndim)\n",
    "print(matrix.dtype)\n",
    "\n",
    "#Rank of matrix\n",
    "print(np.linalg.matrix_rank(matrix))\n",
    "eigenValue, eigenVector = np.linalg.eig(matrix)\n",
    "print('Eigen Value : ', eigenValue, sep= \" \")\n",
    "print('Eigen Vector : ', eigenVector, sep= \" \")\n",
    "\n",
    "print('Sum of eigenValue : ', sum(eigenValue), sep=\" \")\n",
    "\n"
   ]
  },
  {
   "cell_type": "code",
   "execution_count": null,
   "id": "bc10d76f",
   "metadata": {},
   "outputs": [],
   "source": []
  }
 ],
 "metadata": {
  "kernelspec": {
   "display_name": "Python 3 (ipykernel)",
   "language": "python",
   "name": "python3"
  },
  "language_info": {
   "codemirror_mode": {
    "name": "ipython",
    "version": 3
   },
   "file_extension": ".py",
   "mimetype": "text/x-python",
   "name": "python",
   "nbconvert_exporter": "python",
   "pygments_lexer": "ipython3",
   "version": "3.9.12"
  }
 },
 "nbformat": 4,
 "nbformat_minor": 5
}
