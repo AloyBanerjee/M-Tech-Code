{
 "cells": [
  {
   "cell_type": "code",
   "execution_count": 44,
   "id": "6fbaa4c1",
   "metadata": {},
   "outputs": [],
   "source": [
    " %config IPCompleter.greedy=True"
   ]
  },
  {
   "cell_type": "markdown",
   "id": "45cea97f",
   "metadata": {},
   "source": [
    "# Measure of Central Tendency & Descriptive Statistics"
   ]
  },
  {
   "cell_type": "markdown",
   "id": "336d4602",
   "metadata": {},
   "source": [
    "### Mean :"
   ]
  },
  {
   "cell_type": "markdown",
   "id": "710b8b79",
   "metadata": {},
   "source": [
    "Sample:$$\\bar{x} = \\dfrac{\\sum x}{n}$$  Population:$$\\mu = \\dfrac{\\sum x}{{\\color{Black}N}}$$"
   ]
  },
  {
   "cell_type": "markdown",
   "id": "eec14bda",
   "metadata": {},
   "source": [
    "####  Code (https://statisticsglobe.com/calculate-mean-python)"
   ]
  },
  {
   "cell_type": "code",
   "execution_count": 2,
   "id": "c724cda4",
   "metadata": {},
   "outputs": [
    {
     "name": "stdout",
     "output_type": "stream",
     "text": [
      "[1, 4, 6, 1, 3, 1, 4, 5]\n",
      "3.125\n"
     ]
    }
   ],
   "source": [
    "import numpy as np\n",
    "\n",
    "my_list = [1, 4, 6, 1, 3, 1, 4, 5]                      # Create example list\n",
    "print(my_list)\n",
    "mean = np.mean(my_list)\n",
    "print(mean)"
   ]
  },
  {
   "cell_type": "markdown",
   "id": "e54890f7",
   "metadata": {},
   "source": [
    "### Median :"
   ]
  },
  {
   "cell_type": "markdown",
   "id": "208bb73b",
   "metadata": {},
   "source": [
    "$$ (n + 1) / 2 $$ # where n = sample size"
   ]
  },
  {
   "cell_type": "markdown",
   "id": "ceb09f77",
   "metadata": {},
   "source": [
    "#### Code(https://www.geeksforgeeks.org/python-statistics-median/)"
   ]
  },
  {
   "cell_type": "code",
   "execution_count": 5,
   "id": "0e29a890",
   "metadata": {
    "scrolled": true
   },
   "outputs": [
    {
     "name": "stdout",
     "output_type": "stream",
     "text": [
      "[1, 4, 6, 1, 3, 1, 4, 5]\n",
      "3.5\n"
     ]
    }
   ],
   "source": [
    "import statistics as stat\n",
    "\n",
    "my_list = [1, 4, 6, 1, 3, 1, 4, 5]                      # Create example list\n",
    "print(my_list)\n",
    "median = stat.median(my_list)\n",
    "print(median)"
   ]
  },
  {
   "cell_type": "code",
   "execution_count": 7,
   "id": "897e5b83",
   "metadata": {},
   "outputs": [
    {
     "name": "stdout",
     "output_type": "stream",
     "text": [
      "[1, 4, 6, 1, 3, 1, 4, 5]\n",
      "3.5\n"
     ]
    }
   ],
   "source": [
    "import numpy as np\n",
    "my_list = [1, 4, 6, 1, 3, 1, 4, 5]                      # Create example list\n",
    "print(my_list)\n",
    "median = np.median(my_list)\n",
    "print(median)"
   ]
  },
  {
   "cell_type": "markdown",
   "id": "7afd1284",
   "metadata": {},
   "source": [
    "### Mode :"
   ]
  },
  {
   "cell_type": "markdown",
   "id": "4c7fe8dd",
   "metadata": {},
   "source": [
    " Number of most repetative data will be considered as Mode of that data set."
   ]
  },
  {
   "cell_type": "markdown",
   "id": "158ade3f",
   "metadata": {},
   "source": [
    "#### Code "
   ]
  },
  {
   "cell_type": "code",
   "execution_count": 2,
   "id": "9c0ece61",
   "metadata": {},
   "outputs": [
    {
     "name": "stdout",
     "output_type": "stream",
     "text": [
      "[1, 4, 6, 1, 3, 1, 4, 5, 4]\n",
      "1\n"
     ]
    }
   ],
   "source": [
    "import statistics as stat\n",
    "\n",
    "my_list = [1, 4, 6, 1, 3, 1, 4, 5, 4]                      # Create example list\n",
    "print(my_list)\n",
    "# return only single mode\n",
    "mode = stat.mode(my_list)\n",
    "print(mode)"
   ]
  },
  {
   "cell_type": "code",
   "execution_count": 4,
   "id": "9f535cf1",
   "metadata": {},
   "outputs": [
    {
     "name": "stdout",
     "output_type": "stream",
     "text": [
      "[1, 4, 6, 1, 3, 1, 4, 5, 4]\n",
      "[1, 4]\n"
     ]
    }
   ],
   "source": [
    "import statistics as stat\n",
    "my_list = [1, 4, 6, 1, 3, 1, 4, 5, 4]                      # Create example list\n",
    "print(my_list)\n",
    "#return all the mode in the data set\n",
    "mode = stat.multimode(my_list)\n",
    "print(mode)"
   ]
  },
  {
   "cell_type": "markdown",
   "id": "37cf1b25",
   "metadata": {},
   "source": [
    "### Range :"
   ]
  },
  {
   "cell_type": "markdown",
   "id": "d8a010a2",
   "metadata": {},
   "source": [
    "#### Code"
   ]
  },
  {
   "cell_type": "code",
   "execution_count": 11,
   "id": "47704eeb",
   "metadata": {},
   "outputs": [
    {
     "name": "stdout",
     "output_type": "stream",
     "text": [
      "[1, 4, 6, 1, 3, 1, 4, 5]\n",
      "5\n"
     ]
    }
   ],
   "source": [
    "import numpy as np\n",
    "my_list = [1, 4, 6, 1, 3, 1, 4, 5]                      # Create example list\n",
    "print(my_list)\n",
    "my_range = np.ptp(my_list)\n",
    "print(my_range)"
   ]
  },
  {
   "cell_type": "code",
   "execution_count": 12,
   "id": "b70b127d",
   "metadata": {},
   "outputs": [
    {
     "name": "stdout",
     "output_type": "stream",
     "text": [
      "[1, 4, 6, 1, 3, 1, 4, 5]\n",
      "1 - 6\n",
      "5\n"
     ]
    }
   ],
   "source": [
    "my_list = [1, 4, 6, 1, 3, 1, 4, 5]                      # Create example list\n",
    "print(my_list)\n",
    "max_val = max(my_list)\n",
    "min_val = min(my_list)\n",
    "print(f'{min_val} - {max_val}')\n",
    "print(max_val-min_val)"
   ]
  },
  {
   "cell_type": "markdown",
   "id": "fea5e21c",
   "metadata": {},
   "source": [
    "### Variance :"
   ]
  },
  {
   "cell_type": "markdown",
   "id": "c53c4e6c",
   "metadata": {},
   "source": [
    "Sample:$$s^2 = \\dfrac{\\sum (x - \\bar{x})^2}{n-1}$$  Population:$$\\sigma^2 = \\dfrac{\\sum (x - \\mu)^2}{N}$$"
   ]
  },
  {
   "cell_type": "markdown",
   "id": "d84d4c32",
   "metadata": {},
   "source": [
    "### Standard Deviation"
   ]
  },
  {
   "cell_type": "markdown",
   "id": "2bf57f98",
   "metadata": {},
   "source": [
    "Sample:$$\\begin{array}{l}s=\\sqrt{\\frac{\\sum(X-\\bar{X})^{2}}{n-1}}\\end{array}$$  Population:$$\\begin{array}{l}\\sigma=\\sqrt{\\frac{\\sum(X-\\mu)^{2}}{n}}\\end{array}$$"
   ]
  },
  {
   "cell_type": "markdown",
   "id": "56501415",
   "metadata": {},
   "source": [
    "#### Code"
   ]
  },
  {
   "cell_type": "code",
   "execution_count": 15,
   "id": "8b909f03",
   "metadata": {},
   "outputs": [
    {
     "name": "stdout",
     "output_type": "stream",
     "text": [
      "[1, 4, 6, 1, 3, 1, 4, 5]\n",
      "Standard Deviation : 1.8328597873268975\n",
      "Variance : 3.359375\n"
     ]
    }
   ],
   "source": [
    "import numpy as np\n",
    "import math as m\n",
    "my_list = [1, 4, 6, 1, 3, 1, 4, 5]                      # Create example list\n",
    "print(my_list)\n",
    "standrd_deviation = np.std(my_list)\n",
    "print(\"Standard Deviation : \" + str(standrd_deviation))\n",
    "print(\"Variance : \" + str(m.pow(standrd_deviation,2)))"
   ]
  },
  {
   "cell_type": "markdown",
   "id": "3959ba5d",
   "metadata": {},
   "source": [
    "### Co-Efficient of Variance :"
   ]
  },
  {
   "cell_type": "markdown",
   "id": "d0145349",
   "metadata": {},
   "source": [
    "$$ {CV = \\frac{\\sigma}{µ} \\times 100 } $$ Where  σ = population standard deviation µ = population mean "
   ]
  },
  {
   "cell_type": "markdown",
   "id": "3f9ce063",
   "metadata": {},
   "source": [
    "#### Code"
   ]
  },
  {
   "cell_type": "code",
   "execution_count": 16,
   "id": "3f5d13c8",
   "metadata": {},
   "outputs": [
    {
     "data": {
      "text/plain": [
       "9.234517604065275"
      ]
     },
     "execution_count": 16,
     "metadata": {},
     "output_type": "execute_result"
    }
   ],
   "source": [
    "import numpy as np \n",
    "data = [88, 85, 82, 97, 67, 77, 74, 86, 81, 95, 77, 88, 85, 76, 81, 82]\n",
    "cv = lambda x: np.std(x, ddof=1) / np.mean(x) * 100 \n",
    "cv(data)"
   ]
  },
  {
   "cell_type": "code",
   "execution_count": 19,
   "id": "c6dc7d38",
   "metadata": {},
   "outputs": [
    {
     "data": {
      "text/plain": [
       "a    11.012892\n",
       "b     8.330843\n",
       "c     7.154009\n",
       "dtype: float64"
      ]
     },
     "execution_count": 19,
     "metadata": {},
     "output_type": "execute_result"
    }
   ],
   "source": [
    "import numpy as np\n",
    "import pandas as pd\n",
    "\n",
    "#define function to calculate cv\n",
    "cv = lambda x: np.std(x, ddof=1) / np.mean(x) * 100 \n",
    "\n",
    "#create pandas DataFrame\n",
    "df = pd.DataFrame({'a': [88, 85, 82, 97, 67, 77, 74, 86, 81, 95],\n",
    "                   'b': [77, 88, 85, 76, 81, 82, 88, 91, 92, 99],\n",
    "                   'c': [67, 68, 68, 74, 74, 76, 76, 77, 78, 84]})\n",
    "\n",
    "#calculate CV for each column in data frame\n",
    "df.apply(cv)"
   ]
  },
  {
   "cell_type": "markdown",
   "id": "9264f4fe",
   "metadata": {},
   "source": [
    "### Quartile & Percentile :"
   ]
  },
  {
   "cell_type": "code",
   "execution_count": 31,
   "id": "d66f8d2b",
   "metadata": {},
   "outputs": [
    {
     "name": "stdout",
     "output_type": "stream",
     "text": [
      "18.5 5.5\n",
      "[ 5.5 12.  18.5 29. ]\n"
     ]
    }
   ],
   "source": [
    "#Quartile\n",
    "import numpy as np\n",
    "#define array of data\n",
    "data = np.array([2, 3, 5, 7, 11, 13, 17, 19, 23, 29])\n",
    "#calculate interquartile range \n",
    "q3, q1 = np.percentile(data, [75 ,25])\n",
    "print (q3,q1)\n",
    "val = np.percentile(data, [25,50,75,100])\n",
    "print(val)"
   ]
  },
  {
   "cell_type": "code",
   "execution_count": null,
   "id": "17a51b55",
   "metadata": {},
   "outputs": [],
   "source": [
    "#Percentile For eg Find out the 65th percebntile for below list [2, 3, 5, 7, 11, 13, 17, 19, 23, 29]"
   ]
  },
  {
   "cell_type": "code",
   "execution_count": 32,
   "id": "84ff42d9",
   "metadata": {},
   "outputs": [
    {
     "name": "stdout",
     "output_type": "stream",
     "text": [
      "16.400000000000002\n"
     ]
    }
   ],
   "source": [
    "import numpy as np \n",
    "data =[2, 3, 5, 7, 11, 13, 17, 19, 23, 29]\n",
    "print(np.percentile(data,65))"
   ]
  },
  {
   "cell_type": "markdown",
   "id": "5df0c660",
   "metadata": {},
   "source": [
    "### Inter Quartile Range : "
   ]
  },
  {
   "cell_type": "code",
   "execution_count": 23,
   "id": "131f0f88",
   "metadata": {},
   "outputs": [
    {
     "name": "stdout",
     "output_type": "stream",
     "text": [
      "13.0\n"
     ]
    }
   ],
   "source": [
    "from scipy import stats as stat\n",
    "data =[2, 3, 5, 7, 11, 13, 17, 19, 23, 29]\n",
    "iqr = stat.iqr(data)\n",
    "print(iqr)"
   ]
  },
  {
   "cell_type": "code",
   "execution_count": 26,
   "id": "aaea3ca8",
   "metadata": {},
   "outputs": [
    {
     "name": "stdout",
     "output_type": "stream",
     "text": [
      "18.5 5.5\n",
      "13.0\n"
     ]
    }
   ],
   "source": [
    "import numpy as np\n",
    "#define array of data\n",
    "data = np.array([2, 3, 5, 7, 11, 13, 17, 19, 23, 29])\n",
    "#calculate interquartile range \n",
    "q3, q1 = np.percentile(data, [75 ,25])\n",
    "print(q3,q1)\n",
    "iqr = q3 - q1\n",
    "print(iqr)"
   ]
  },
  {
   "cell_type": "markdown",
   "id": "82d41057",
   "metadata": {},
   "source": [
    "### Z - Score - Code:"
   ]
  },
  {
   "cell_type": "markdown",
   "id": "fed840f8",
   "metadata": {},
   "source": [
    "Sample: $$z = \\dfrac{x-\\bar{x}}{s}$$  Population: $$z = \\dfrac{X-μ}{σ}$$"
   ]
  },
  {
   "cell_type": "code",
   "execution_count": 45,
   "id": "ef263207",
   "metadata": {
    "scrolled": true
   },
   "outputs": [
    {
     "name": "stdout",
     "output_type": "stream",
     "text": [
      "9.333333333333334\n",
      "4.268749491621899\n",
      "From Lamda : \n",
      "[-1.2493901  -1.01512945 -0.78086881 -0.78086881 -0.78086881 -0.54660817\n",
      " -0.31234752  0.62469505  0.85895569  0.85895569  1.09321633  2.0302589 ]\n",
      "From Direct : \n",
      "[-1.2493901  -1.01512945 -0.78086881 -0.78086881 -0.78086881 -0.54660817\n",
      " -0.31234752  0.62469505  0.85895569  0.85895569  1.09321633  2.0302589 ]\n",
      "From Scipy : \n",
      "[-1.2493901  -1.01512945 -0.78086881 -0.78086881 -0.78086881 -0.54660817\n",
      " -0.31234752  0.62469505  0.85895569  0.85895569  1.09321633  2.0302589 ]\n"
     ]
    },
    {
     "data": {
      "image/png": "[encoded data removed]",
      "text/plain": [
       "<Figure size 432x288 with 1 Axes>"
      ]
     },
     "metadata": {
      "needs_background": "light"
     },
     "output_type": "display_data"
    }
   ],
   "source": [
    "import scipy.stats as stats\n",
    "import numpy as np\n",
    "import matplotlib.pyplot as plt\n",
    "values = [4,5,6,6,6,7,8,12,13,13,14,18]\n",
    "mean = np.mean(values)\n",
    "print(mean)\n",
    "std = np.std(values)\n",
    "print(std)\n",
    "zScore_cal_lamda = lambda x: (x-mean) / std\n",
    "print('From Lamda : ')\n",
    "print(zScore_cal_lamda(values))\n",
    "zScore_cal =  (values - mean)/std\n",
    "print('From Direct : ' )\n",
    "print(zScore_cal)\n",
    "zscores = stats.zscore(values)\n",
    "print('From Scipy : ')\n",
    "print(zscores)\n",
    "\n",
    "plt.plot(zscores)\n",
    "plt.show()"
   ]
  },
  {
   "cell_type": "markdown",
   "id": "b3d3e3ef",
   "metadata": {},
   "source": [
    "### Frequency Distribution Table"
   ]
  },
  {
   "cell_type": "markdown",
   "id": "17e4a207",
   "metadata": {},
   "source": [
    "#### Code"
   ]
  },
  {
   "cell_type": "markdown",
   "id": "6e228709",
   "metadata": {},
   "source": [
    "###### One way frequency table with series"
   ]
  },
  {
   "cell_type": "code",
   "execution_count": 47,
   "id": "31b40466",
   "metadata": {},
   "outputs": [
    {
     "data": {
      "text/plain": [
       "3    4\n",
       "1    3\n",
       "4    2\n",
       "2    1\n",
       "5    1\n",
       "dtype: int64"
      ]
     },
     "execution_count": 47,
     "metadata": {},
     "output_type": "execute_result"
    }
   ],
   "source": [
    "import pandas as pd\n",
    "data = pd.Series([1, 1, 1, 2, 3, 3, 3, 3, 4, 4, 5])\n",
    "data.value_counts()"
   ]
  },
  {
   "cell_type": "markdown",
   "id": "e5393d67",
   "metadata": {},
   "source": [
    "###### One way frequency table with data frame (crosstab function is used)"
   ]
  },
  {
   "cell_type": "code",
   "execution_count": 53,
   "id": "2a2eb7b7",
   "metadata": {},
   "outputs": [
    {
     "data": {
      "text/html": [
       "<div>\n",
       "<style scoped>\n",
       "    .dataframe tbody tr th:only-of-type {\n",
       "        vertical-align: middle;\n",
       "    }\n",
       "\n",
       "    .dataframe tbody tr th {\n",
       "        vertical-align: top;\n",
       "    }\n",
       "\n",
       "    .dataframe thead th {\n",
       "        text-align: right;\n",
       "    }\n",
       "</style>\n",
       "<table border=\"1\" class=\"dataframe\">\n",
       "  <thead>\n",
       "    <tr style=\"text-align: right;\">\n",
       "      <th></th>\n",
       "      <th>Grade</th>\n",
       "      <th>Age</th>\n",
       "      <th>Gender</th>\n",
       "      <th>Count</th>\n",
       "    </tr>\n",
       "    <tr>\n",
       "      <th>Grade</th>\n",
       "      <th></th>\n",
       "      <th></th>\n",
       "      <th></th>\n",
       "      <th></th>\n",
       "    </tr>\n",
       "  </thead>\n",
       "  <tbody>\n",
       "    <tr>\n",
       "      <th>A</th>\n",
       "      <td>A</td>\n",
       "      <td>18</td>\n",
       "      <td>M</td>\n",
       "      <td>0</td>\n",
       "    </tr>\n",
       "    <tr>\n",
       "      <th>A</th>\n",
       "      <td>A</td>\n",
       "      <td>18</td>\n",
       "      <td>M</td>\n",
       "      <td>0</td>\n",
       "    </tr>\n",
       "    <tr>\n",
       "      <th>A</th>\n",
       "      <td>A</td>\n",
       "      <td>18</td>\n",
       "      <td>F</td>\n",
       "      <td>0</td>\n",
       "    </tr>\n",
       "    <tr>\n",
       "      <th>B</th>\n",
       "      <td>B</td>\n",
       "      <td>19</td>\n",
       "      <td>F</td>\n",
       "      <td>0</td>\n",
       "    </tr>\n",
       "    <tr>\n",
       "      <th>B</th>\n",
       "      <td>B</td>\n",
       "      <td>19</td>\n",
       "      <td>F</td>\n",
       "      <td>0</td>\n",
       "    </tr>\n",
       "  </tbody>\n",
       "</table>\n",
       "</div>"
      ],
      "text/plain": [
       "      Grade  Age Gender Count\n",
       "Grade                        \n",
       "A         A   18      M     0\n",
       "A         A   18      M     0\n",
       "A         A   18      F     0\n",
       "B         B   19      F     0\n",
       "B         B   19      F     0"
      ]
     },
     "execution_count": 53,
     "metadata": {},
     "output_type": "execute_result"
    }
   ],
   "source": [
    "df = pd.DataFrame({'Grade': ['A','A','A','B','B', 'B', 'B', 'C', 'D', 'D'],\n",
    "                   'Age': [18, 18, 18, 19, 19, 20, 18, 18, 19, 19],\n",
    "                   'Gender': ['M','M', 'F', 'F', 'F', 'M', 'M', 'F', 'M', 'F']}, index = df['Grade'])\n",
    "df['Count'] = '0'\n",
    "df.head()\n"
   ]
  },
  {
   "cell_type": "code",
   "execution_count": 58,
   "id": "0521809f",
   "metadata": {},
   "outputs": [
    {
     "data": {
      "text/html": [
       "<div>\n",
       "<style scoped>\n",
       "    .dataframe tbody tr th:only-of-type {\n",
       "        vertical-align: middle;\n",
       "    }\n",
       "\n",
       "    .dataframe tbody tr th {\n",
       "        vertical-align: top;\n",
       "    }\n",
       "\n",
       "    .dataframe thead th {\n",
       "        text-align: right;\n",
       "    }\n",
       "</style>\n",
       "<table border=\"1\" class=\"dataframe\">\n",
       "  <thead>\n",
       "    <tr style=\"text-align: right;\">\n",
       "      <th>col_0</th>\n",
       "      <th>Count</th>\n",
       "    </tr>\n",
       "    <tr>\n",
       "      <th>Age</th>\n",
       "      <th></th>\n",
       "    </tr>\n",
       "  </thead>\n",
       "  <tbody>\n",
       "    <tr>\n",
       "      <th>18</th>\n",
       "      <td>5</td>\n",
       "    </tr>\n",
       "    <tr>\n",
       "      <th>19</th>\n",
       "      <td>4</td>\n",
       "    </tr>\n",
       "    <tr>\n",
       "      <th>20</th>\n",
       "      <td>1</td>\n",
       "    </tr>\n",
       "  </tbody>\n",
       "</table>\n",
       "</div>"
      ],
      "text/plain": [
       "col_0  Count\n",
       "Age         \n",
       "18         5\n",
       "19         4\n",
       "20         1"
      ]
     },
     "execution_count": 58,
     "metadata": {},
     "output_type": "execute_result"
    }
   ],
   "source": [
    "df = pd.DataFrame({'Grade': ['A','A','A','B','B', 'B', 'B', 'C', 'D', 'D'],\n",
    "                   'Age': [18, 18, 18, 19, 19, 20, 18, 18, 19, 19],\n",
    "                   'Gender': ['M','M', 'F', 'F', 'F', 'M', 'M', 'F', 'M', 'F']}, index = df['Grade'])\n",
    "df['Count'] = '0'\n",
    "pd.crosstab(index=df['Grade'], columns='Count')\n",
    "#df.head()"
   ]
  },
  {
   "cell_type": "code",
   "execution_count": 59,
   "id": "9c01969a",
   "metadata": {},
   "outputs": [
    {
     "data": {
      "text/html": [
       "<div>\n",
       "<style scoped>\n",
       "    .dataframe tbody tr th:only-of-type {\n",
       "        vertical-align: middle;\n",
       "    }\n",
       "\n",
       "    .dataframe tbody tr th {\n",
       "        vertical-align: top;\n",
       "    }\n",
       "\n",
       "    .dataframe thead th {\n",
       "        text-align: right;\n",
       "    }\n",
       "</style>\n",
       "<table border=\"1\" class=\"dataframe\">\n",
       "  <thead>\n",
       "    <tr style=\"text-align: right;\">\n",
       "      <th>col_0</th>\n",
       "      <th>Count</th>\n",
       "    </tr>\n",
       "    <tr>\n",
       "      <th>Age</th>\n",
       "      <th></th>\n",
       "    </tr>\n",
       "  </thead>\n",
       "  <tbody>\n",
       "    <tr>\n",
       "      <th>18</th>\n",
       "      <td>5</td>\n",
       "    </tr>\n",
       "    <tr>\n",
       "      <th>19</th>\n",
       "      <td>4</td>\n",
       "    </tr>\n",
       "    <tr>\n",
       "      <th>20</th>\n",
       "      <td>1</td>\n",
       "    </tr>\n",
       "  </tbody>\n",
       "</table>\n",
       "</div>"
      ],
      "text/plain": [
       "col_0  Count\n",
       "Age         \n",
       "18         5\n",
       "19         4\n",
       "20         1"
      ]
     },
     "execution_count": 59,
     "metadata": {},
     "output_type": "execute_result"
    }
   ],
   "source": [
    "pd.crosstab(index=df['Age'], columns='Count')"
   ]
  },
  {
   "cell_type": "code",
   "execution_count": 60,
   "id": "0c2518c8",
   "metadata": {
    "scrolled": true
   },
   "outputs": [
    {
     "data": {
      "text/html": [
       "<div>\n",
       "<style scoped>\n",
       "    .dataframe tbody tr th:only-of-type {\n",
       "        vertical-align: middle;\n",
       "    }\n",
       "\n",
       "    .dataframe tbody tr th {\n",
       "        vertical-align: top;\n",
       "    }\n",
       "\n",
       "    .dataframe thead th {\n",
       "        text-align: right;\n",
       "    }\n",
       "</style>\n",
       "<table border=\"1\" class=\"dataframe\">\n",
       "  <thead>\n",
       "    <tr style=\"text-align: right;\">\n",
       "      <th>col_0</th>\n",
       "      <th>Count</th>\n",
       "    </tr>\n",
       "    <tr>\n",
       "      <th>Gender</th>\n",
       "      <th></th>\n",
       "    </tr>\n",
       "  </thead>\n",
       "  <tbody>\n",
       "    <tr>\n",
       "      <th>F</th>\n",
       "      <td>5</td>\n",
       "    </tr>\n",
       "    <tr>\n",
       "      <th>M</th>\n",
       "      <td>5</td>\n",
       "    </tr>\n",
       "  </tbody>\n",
       "</table>\n",
       "</div>"
      ],
      "text/plain": [
       "col_0   Count\n",
       "Gender       \n",
       "F           5\n",
       "M           5"
      ]
     },
     "execution_count": 60,
     "metadata": {},
     "output_type": "execute_result"
    }
   ],
   "source": [
    "pd.crosstab(index=df['Gender'], columns='Count')"
   ]
  },
  {
   "cell_type": "markdown",
   "id": "0a876738",
   "metadata": {},
   "source": [
    "##### Two way data frame"
   ]
  },
  {
   "cell_type": "code",
   "execution_count": 61,
   "id": "5ab54359",
   "metadata": {},
   "outputs": [
    {
     "data": {
      "text/html": [
       "<div>\n",
       "<style scoped>\n",
       "    .dataframe tbody tr th:only-of-type {\n",
       "        vertical-align: middle;\n",
       "    }\n",
       "\n",
       "    .dataframe tbody tr th {\n",
       "        vertical-align: top;\n",
       "    }\n",
       "\n",
       "    .dataframe thead th {\n",
       "        text-align: right;\n",
       "    }\n",
       "</style>\n",
       "<table border=\"1\" class=\"dataframe\">\n",
       "  <thead>\n",
       "    <tr style=\"text-align: right;\">\n",
       "      <th>Grade</th>\n",
       "      <th>A</th>\n",
       "      <th>B</th>\n",
       "      <th>C</th>\n",
       "      <th>D</th>\n",
       "    </tr>\n",
       "    <tr>\n",
       "      <th>Age</th>\n",
       "      <th></th>\n",
       "      <th></th>\n",
       "      <th></th>\n",
       "      <th></th>\n",
       "    </tr>\n",
       "  </thead>\n",
       "  <tbody>\n",
       "    <tr>\n",
       "      <th>18</th>\n",
       "      <td>3</td>\n",
       "      <td>1</td>\n",
       "      <td>1</td>\n",
       "      <td>0</td>\n",
       "    </tr>\n",
       "    <tr>\n",
       "      <th>19</th>\n",
       "      <td>0</td>\n",
       "      <td>2</td>\n",
       "      <td>0</td>\n",
       "      <td>2</td>\n",
       "    </tr>\n",
       "    <tr>\n",
       "      <th>20</th>\n",
       "      <td>0</td>\n",
       "      <td>1</td>\n",
       "      <td>0</td>\n",
       "      <td>0</td>\n",
       "    </tr>\n",
       "  </tbody>\n",
       "</table>\n",
       "</div>"
      ],
      "text/plain": [
       "Grade  A  B  C  D\n",
       "Age              \n",
       "18     3  1  1  0\n",
       "19     0  2  0  2\n",
       "20     0  1  0  0"
      ]
     },
     "execution_count": 61,
     "metadata": {},
     "output_type": "execute_result"
    }
   ],
   "source": [
    "pd.crosstab(index=df['Age'], columns=df['Grade'])"
   ]
  },
  {
   "cell_type": "markdown",
   "id": "d1e1ef19",
   "metadata": {},
   "source": [
    "##### Relative Frequencies"
   ]
  },
  {
   "cell_type": "code",
   "execution_count": 69,
   "id": "c70f2208",
   "metadata": {},
   "outputs": [
    {
     "data": {
      "text/html": [
       "<div>\n",
       "<style scoped>\n",
       "    .dataframe tbody tr th:only-of-type {\n",
       "        vertical-align: middle;\n",
       "    }\n",
       "\n",
       "    .dataframe tbody tr th {\n",
       "        vertical-align: top;\n",
       "    }\n",
       "\n",
       "    .dataframe thead th {\n",
       "        text-align: right;\n",
       "    }\n",
       "</style>\n",
       "<table border=\"1\" class=\"dataframe\">\n",
       "  <thead>\n",
       "    <tr style=\"text-align: right;\">\n",
       "      <th>col_0</th>\n",
       "      <th>count</th>\n",
       "    </tr>\n",
       "    <tr>\n",
       "      <th>Age</th>\n",
       "      <th></th>\n",
       "    </tr>\n",
       "  </thead>\n",
       "  <tbody>\n",
       "    <tr>\n",
       "      <th>18</th>\n",
       "      <td>0.5</td>\n",
       "    </tr>\n",
       "    <tr>\n",
       "      <th>19</th>\n",
       "      <td>0.4</td>\n",
       "    </tr>\n",
       "    <tr>\n",
       "      <th>20</th>\n",
       "      <td>0.1</td>\n",
       "    </tr>\n",
       "  </tbody>\n",
       "</table>\n",
       "</div>"
      ],
      "text/plain": [
       "col_0  count\n",
       "Age         \n",
       "18       0.5\n",
       "19       0.4\n",
       "20       0.1"
      ]
     },
     "execution_count": 69,
     "metadata": {},
     "output_type": "execute_result"
    }
   ],
   "source": [
    "#define crosstab\n",
    "tab = pd.crosstab(index=df['Age'], columns=['count'] )\n",
    "#find proportions \n",
    "tab/tab.sum()"
   ]
  },
  {
   "cell_type": "markdown",
   "id": "d4245fc0",
   "metadata": {},
   "source": [
    "### Skewness & Kurtosis :"
   ]
  },
  {
   "cell_type": "markdown",
   "id": "7bf02e0e",
   "metadata": {},
   "source": [
    "Sample : $$ skewness=\\frac{\\sum_{i=1}^{n}\\left(x_{i}-\\bar{x}\\right)^{3}}{(n-1) s^{3}} $$"
   ]
  },
  {
   "cell_type": "markdown",
   "id": "49bb4eba",
   "metadata": {},
   "source": [
    "#### Code"
   ]
  },
  {
   "cell_type": "markdown",
   "id": "c80a7449",
   "metadata": {},
   "source": [
    "##### Positive Skew"
   ]
  },
  {
   "cell_type": "code",
   "execution_count": 20,
   "id": "64b0910f",
   "metadata": {},
   "outputs": [
    {
     "data": {
      "image/png": "[encoded data removed]",
      "text/plain": [
       "<Figure size 360x360 with 1 Axes>"
      ]
     },
     "metadata": {
      "needs_background": "light"
     },
     "output_type": "display_data"
    },
    {
     "name": "stdout",
     "output_type": "stream",
     "text": [
      "Mean : :1666.6000000000004\n",
      "Median:1250.1\n",
      "Mode:0.1\n"
     ]
    }
   ],
   "source": [
    "import numpy as np \n",
    "import statistics as stat\n",
    "import pandas as pd\n",
    "import matplotlib.pyplot as plt\n",
    "import seaborn as sns\n",
    "\n",
    "positive_skewness = []\n",
    "k=0.1\n",
    "for i,j in enumerate(range(100)):\n",
    "    m=j+k;\n",
    "    k=k+i\n",
    "    positive_skewness.append(m)\n",
    "sns.displot(positive_skewness, color='Blue')\n",
    "plt.annotate('+ Skew', xy = (4000,0.0002), fontsize = 13)\n",
    "plt.show()\n",
    "print('Mean : ', end=':')\n",
    "print(np.mean(positive_skewness))\n",
    "print('Median' , end=':')\n",
    "print(np.median(positive_skewness))\n",
    "print('Mode' , end=':')\n",
    "print(stat.mode(positive_skewness))"
   ]
  },
  {
   "cell_type": "markdown",
   "id": "92bfdebe",
   "metadata": {},
   "source": [
    "##### Negative Skew"
   ]
  },
  {
   "cell_type": "code",
   "execution_count": 21,
   "id": "e3444b46",
   "metadata": {},
   "outputs": [
    {
     "data": {
      "image/png": "[encoded data removed]",
      "text/plain": [
       "<Figure size 360x360 with 1 Axes>"
      ]
     },
     "metadata": {
      "needs_background": "light"
     },
     "output_type": "display_data"
    },
    {
     "name": "stdout",
     "output_type": "stream",
     "text": [
      "Mean : :-1567.6000000000004\n",
      "Median:-1151.1\n",
      "Mode:-0.1\n"
     ]
    }
   ],
   "source": [
    "import numpy as np \n",
    "import statistics as stat\n",
    "import pandas as pd\n",
    "import matplotlib.pyplot as plt\n",
    "import seaborn as sns\n",
    "\n",
    "negative_skewness = []\n",
    "k=0.1\n",
    "for i,j in enumerate(range(100)):\n",
    "    m=j-k;\n",
    "    k=k+i\n",
    "    negative_skewness.append(m)\n",
    "sns.displot(negative_skewness, color='Blue')\n",
    "plt.annotate('+ Skew', xy = (4000,0.0002), fontsize = 13)\n",
    "plt.show()\n",
    "print('Mean : ', end=':')\n",
    "print(np.mean(negative_skewness))\n",
    "print('Median' , end=':')\n",
    "print(np.median(negative_skewness))\n",
    "print('Mode' , end=':')\n",
    "print(stat.mode(negative_skewness))"
   ]
  },
  {
   "cell_type": "markdown",
   "id": "2e163971",
   "metadata": {},
   "source": [
    "#### Shifting of Mean, Median & Mode with shift +/- & */%"
   ]
  },
  {
   "cell_type": "code",
   "execution_count": 19,
   "id": "37287d94",
   "metadata": {},
   "outputs": [
    {
     "name": "stdout",
     "output_type": "stream",
     "text": [
      "Basic List\n",
      "[1, 4, 6, 1, 3, 1, 4, 5]\n",
      "Mean:3.125\n",
      "Median:3.5\n",
      "IQR:3.25\n",
      "#After + shift\n",
      "[5, 8, 10, 5, 7, 5, 8, 9]\n",
      "Mean:7.125\n",
      "Median:7.5\n",
      "IQR:3.25\n",
      "#After - shift\n",
      "[-3, 0, 2, -3, -1, -3, 0, 1]\n",
      "Mean:-0.875\n",
      "Median:-0.5\n",
      "IQR:3.25\n",
      "IQR REMAIN SAME BUT MEAN AND MEDIAN CHANGED\n"
     ]
    }
   ],
   "source": [
    "# Shift +/-\n",
    "import numpy as np\n",
    "import scipy.stats as stat\n",
    "\n",
    "print('Basic List')\n",
    "my_list = [1, 4, 6, 1, 3, 1, 4, 5]                      # Create example list\n",
    "print(my_list)\n",
    "print('Mean',end=':')\n",
    "print(np.mean(my_list))\n",
    "print('Median',end=':')\n",
    "print(np.median(my_list))\n",
    "print('IQR',end=':')\n",
    "print(stat.iqr(my_list))\n",
    "\n",
    "\n",
    "print('#After + shift')\n",
    "new_plus_list = [(x + 4) for x in my_list]\n",
    "print(new_plus_list)\n",
    "print('Mean',end=':')\n",
    "print(np.mean(new_plus_list))\n",
    "print('Median',end=':')\n",
    "print(np.median(new_plus_list))\n",
    "print('IQR',end=':')\n",
    "print(stat.iqr(new_plus_list))\n",
    "\n",
    "print('#After - shift')\n",
    "new_minus_list = [(x - 4) for x in my_list]\n",
    "print(new_minus_list)\n",
    "print('Mean',end=':')\n",
    "print(np.mean(new_minus_list))\n",
    "print('Median',end=':')\n",
    "print(np.median(new_minus_list))\n",
    "print('IQR',end=':')\n",
    "print(stat.iqr(new_minus_list))\n",
    "\n",
    "\n",
    "\n",
    "print('IQR REMAIN SAME BUT MEAN AND MEDIAN CHANGED')"
   ]
  },
  {
   "cell_type": "code",
   "execution_count": 18,
   "id": "1713fe2e",
   "metadata": {},
   "outputs": [
    {
     "name": "stdout",
     "output_type": "stream",
     "text": [
      "Basic List\n",
      "[1, 4, 6, 1, 3, 1, 4, 5]\n",
      "Mean\n",
      "3.125\n",
      "Median\n",
      "3.5\n",
      "IQR\n",
      "3.25\n",
      "#After + shift\n",
      "[4, 16, 24, 4, 12, 4, 16, 20]\n",
      "Mean\n",
      "12.5\n",
      "Median\n",
      "14.0\n",
      "IQR\n",
      "13.0\n",
      "#After - shift\n",
      "[0.25, 1.0, 1.5, 0.25, 0.75, 0.25, 1.0, 1.25]\n",
      "Mean\n",
      "0.78125\n",
      "Median:0.875\n",
      "IQR\n",
      "0.8125\n",
      "MEAN, MEDIAN AND IQR ALL ARE CHANGED\n"
     ]
    }
   ],
   "source": [
    "# Shift */%\n",
    "import numpy as np\n",
    "import scipy.stats as stat\n",
    "\n",
    "print('Basic List')\n",
    "my_list = [1, 4, 6, 1, 3, 1, 4, 5]                      # Create example list\n",
    "print(my_list)\n",
    "print('Mean',end=':')\n",
    "print(np.mean(my_list))\n",
    "print('Median',end=':')\n",
    "print(np.median(my_list))\n",
    "print('IQR',end=':')\n",
    "print(stat.iqr(my_list))\n",
    "\n",
    "\n",
    "print('#After + shift')\n",
    "new_plus_list = [(x * 4) for x in my_list]\n",
    "print(new_plus_list)\n",
    "print('Mean',end=':')\n",
    "print(np.mean(new_plus_list))\n",
    "print('Median',end=':')\n",
    "print(np.median(new_plus_list))\n",
    "print('IQR',end=':')\n",
    "print(stat.iqr(new_plus_list))\n",
    "\n",
    "print('#After - shift')\n",
    "new_minus_list = [(x / 4) for x in my_list]\n",
    "print(new_minus_list)\n",
    "print('Mean',end=':')\n",
    "print(np.mean(new_minus_list))\n",
    "print('Median',end=':')\n",
    "print(np.median(new_minus_list))\n",
    "print('IQR',end=':')\n",
    "print(stat.iqr(new_minus_list))\n",
    "\n",
    "print('MEAN, MEDIAN AND IQR ALL ARE CHANGED')"
   ]
  },
  {
   "cell_type": "markdown",
   "id": "7d33442d",
   "metadata": {},
   "source": []
  },
  {
   "cell_type": "markdown",
   "id": "2f70c845",
   "metadata": {},
   "source": [
    "### Weighted Mean"
   ]
  },
  {
   "cell_type": "markdown",
   "id": "1998ac9a",
   "metadata": {},
   "source": [
    "$$\\bar{x} = \\dfrac{\\sum wx}{n}$$     Where w-> weight"
   ]
  },
  {
   "cell_type": "code",
   "execution_count": 26,
   "id": "b79c43be",
   "metadata": {},
   "outputs": [
    {
     "name": "stdout",
     "output_type": "stream",
     "text": [
      "[[40  1]\n",
      " [50  2]\n",
      " [60  3]]\n",
      "106.66666666666667\n"
     ]
    }
   ],
   "source": [
    "import numpy as np\n",
    "\n",
    "value_weight = np.array([(40,50,60),(1,2,3)])\n",
    "value_weight_transpose = np.transpose(value_weight)\n",
    "weighted_Mean = 0;\n",
    "print(value_weight_transpose)\n",
    "#print(len(value_weight_transpose))\n",
    "#weighted_mean_1 = value_weight_transpose[0,0]*value_weight_transpose[0,0]/ len(value_weight_transpose\n",
    "for i,j in value_weight_transpose:\n",
    "    weighted_Mean += (i*j)\n",
    "print(weighted_Mean/len(value_weight_transpose))\n"
   ]
  },
  {
   "cell_type": "markdown",
   "id": "41b8f4fe",
   "metadata": {},
   "source": [
    "### Geometric Mean"
   ]
  },
  {
   "cell_type": "markdown",
   "id": "0bc8deb2",
   "metadata": {},
   "source": [
    "$$ \\begin{array}{l}\\sqrt[n]{\\prod_{i=1}^{n}x_{i}}\\end{array} $$"
   ]
  },
  {
   "cell_type": "code",
   "execution_count": 35,
   "id": "2e964b9d",
   "metadata": {},
   "outputs": [
    {
     "name": "stdout",
     "output_type": "stream",
     "text": [
      "1885\n",
      "GM:1.2404530304073331\n",
      "AM:53.857142857142854\n"
     ]
    }
   ],
   "source": [
    "import numpy as np\n",
    "import math as m\n",
    "\n",
    "\n",
    "my_List = [12,15,25,16,74,41,65,35,25,29,74,45,62,24,57,66,62,62,68,64,63,24,25,85,95,99,91,47,85,76,72,71,48,36,47]\n",
    "sum_all_data = 0\n",
    "for sumV in my_List: \n",
    "    sum_all_data +=sumV;\n",
    "print(sum_all_data)\n",
    "geometric_Mean = m.pow(sum_all_data,(1/len(my_List)))\n",
    "print('GM', end=':')\n",
    "print(geometric_Mean)\n",
    "artihmetic_Mean = sum_all_data/len(my_List)\n",
    "print('AM', end=':')\n",
    "print(artihmetic_Mean)\n"
   ]
  },
  {
   "cell_type": "markdown",
   "id": "e6800e7c",
   "metadata": {},
   "source": [
    "### Harmonic Mean"
   ]
  },
  {
   "cell_type": "markdown",
   "id": "065bdc06",
   "metadata": {},
   "source": [
    "$$Harmonic Mean = n / ∑ [1/Xi]$$ "
   ]
  },
  {
   "cell_type": "code",
   "execution_count": 37,
   "id": "94a131b7",
   "metadata": {},
   "outputs": [
    {
     "name": "stdout",
     "output_type": "stream",
     "text": [
      "0.8826393407752017\n",
      "HM:39.65379559136839\n"
     ]
    }
   ],
   "source": [
    "import numpy as np\n",
    "import math as m\n",
    "\n",
    "\n",
    "my_List = [12,15,25,16,74,41,65,35,25,29,74,45,62,24,57,66,62,62,68,64,63,24,25,85,95,99,91,47,85,76,72,71,48,36,47]\n",
    "sum_all_inverse_data = 0\n",
    "for sumV in my_List: \n",
    "    sum_all_inverse_data +=(1/sumV);\n",
    "Harmonic_Mean = len(my_List)/sum_all_inverse_data\n",
    "print(sum_all_inverse_data)\n",
    "print('HM', end=':')\n",
    "print(Harmonic_Mean)\n"
   ]
  },
  {
   "cell_type": "markdown",
   "id": "61536335",
   "metadata": {},
   "source": [
    "## Co relation & Co Variance "
   ]
  },
  {
   "cell_type": "code",
   "execution_count": 12,
   "id": "6948da78",
   "metadata": {},
   "outputs": [
    {
     "name": "stdout",
     "output_type": "stream",
     "text": [
      "[1 2 6]\n",
      "[1 2 5]\n",
      "Mean of X : 3.0\n",
      "Mean of Y : 2.6666666666666665\n",
      "0.0\n",
      "4.440892098500626e-16\n",
      "0.0\n",
      "0.0\n"
     ]
    }
   ],
   "source": [
    "#Covariance\n",
    "import numpy as np\n",
    "import pandas as pd\n",
    "\n",
    "x = np.array([1,2,6])\n",
    "y = np.array([1,2,5])\n",
    "print(x)\n",
    "print(y)\n",
    "\n",
    "mean_x = np.mean(x)\n",
    "mean_y = np.mean(y)\n",
    "print(f'Mean of X : {mean_x}')\n",
    "print(f'Mean of Y : {mean_y}')\n",
    "\n",
    "x_sum = np.sum(x-mean_x)\n",
    "y_sum = np.sum(y-mean_y)\n",
    "\n",
    "print(x_sum)\n",
    "print(y_sum)\n",
    "\n",
    "covX = (x_sum *y_sum)/(len(x)-1)\n",
    "covY = (x_sum *y_sum)/(len(y)-1)\n",
    "print(covX)\n",
    "print(covY)\n"
   ]
  },
  {
   "cell_type": "code",
   "execution_count": 16,
   "id": "14112355",
   "metadata": {},
   "outputs": [
    {
     "name": "stdout",
     "output_type": "stream",
     "text": [
      "[1 2 6]\n",
      "[1 2 5]\n",
      "Mean of X : 3.0\n",
      "Mean of Y : 2.6666666666666665\n",
      "0.0\n",
      "4.440892098500626e-16\n",
      "0.0\n",
      "0.0\n",
      "2.160246899469287\n",
      "1.699673171197595\n",
      "0.0\n",
      "0.0\n"
     ]
    }
   ],
   "source": [
    "#Corealation\n",
    "import numpy as np\n",
    "import pandas as pd\n",
    "\n",
    "x = np.array([1,2,6])\n",
    "y = np.array([1,2,5])\n",
    "print(x)\n",
    "print(y)\n",
    "mean_x = np.mean(x)\n",
    "mean_y = np.mean(y)\n",
    "print(f'Mean of X : {mean_x}')\n",
    "print(f'Mean of Y : {mean_y}')\n",
    "\n",
    "x_sum = np.sum(x-mean_x)\n",
    "y_sum = np.sum(y-mean_y)\n",
    "\n",
    "print(x_sum)\n",
    "print(y_sum)\n",
    "\n",
    "covX = (x_sum *y_sum)/(len(x)-1)\n",
    "covY = (x_sum *y_sum)/(len(y)-1)\n",
    "print(covX)\n",
    "print(covY)\n",
    "\n",
    "stdX= np.std(x)\n",
    "stdY = np.std(y)\n",
    "print(stdX)\n",
    "print(stdY)\n",
    "\n",
    "\n",
    "CorX = covX/(stdX*stdY)\n",
    "print(CorX)\n",
    "CorY = covY/(stdY*stdY)\n",
    "print(CorY)\n",
    "\n",
    "\n"
   ]
  },
  {
   "cell_type": "code",
   "execution_count": null,
   "id": "e1b44cb9",
   "metadata": {},
   "outputs": [],
   "source": [
    "# Panda for calculating the co-relation and covariance"
   ]
  },
  {
   "cell_type": "code",
   "execution_count": null,
   "id": "0f70e538",
   "metadata": {},
   "outputs": [],
   "source": []
  },
  {
   "cell_type": "code",
   "execution_count": null,
   "id": "c9784203",
   "metadata": {},
   "outputs": [],
   "source": []
  },
  {
   "cell_type": "code",
   "execution_count": null,
   "id": "709d3aea",
   "metadata": {},
   "outputs": [],
   "source": []
  },
  {
   "cell_type": "code",
   "execution_count": null,
   "id": "317670ad",
   "metadata": {},
   "outputs": [],
   "source": []
  },
  {
   "cell_type": "code",
   "execution_count": null,
   "id": "94967846",
   "metadata": {},
   "outputs": [],
   "source": []
  },
  {
   "cell_type": "code",
   "execution_count": null,
   "id": "df71669c",
   "metadata": {},
   "outputs": [],
   "source": []
  },
  {
   "cell_type": "code",
   "execution_count": null,
   "id": "aac8a7b4",
   "metadata": {},
   "outputs": [],
   "source": []
  },
  {
   "cell_type": "markdown",
   "id": "62f662c2",
   "metadata": {},
   "source": [
    "# Inference Statistics"
   ]
  },
  {
   "cell_type": "markdown",
   "id": "f47bae5f",
   "metadata": {},
   "source": [
    "### Point Estimate - Using mean"
   ]
  },
  {
   "cell_type": "code",
   "execution_count": 28,
   "id": "917855e1",
   "metadata": {},
   "outputs": [
    {
     "data": {
      "image/png": "[encoded data removed]",
      "text/plain": [
       "<Figure size 432x288 with 1 Axes>"
      ]
     },
     "metadata": {
      "needs_background": "light"
     },
     "output_type": "display_data"
    },
    {
     "data": {
      "image/png": "[encoded data removed]",
      "text/plain": [
       "<Figure size 432x288 with 1 Axes>"
      ]
     },
     "metadata": {
      "needs_background": "light"
     },
     "output_type": "display_data"
    },
    {
     "data": {
      "image/png": "[encoded data removed]",
      "text/plain": [
       "<Figure size 432x288 with 1 Axes>"
      ]
     },
     "metadata": {
      "needs_background": "light"
     },
     "output_type": "display_data"
    },
    {
     "name": "stdout",
     "output_type": "stream",
     "text": [
      "Cumulative Break Mean: 39.99944444444444\n",
      "Sample Break Mean: 39.3\n"
     ]
    }
   ],
   "source": [
    "import numpy as np\n",
    "import scipy.stats as stats\n",
    "import pandas as pd\n",
    "import matplotlib.pyplot as plt\n",
    "np.random.seed(1234) \n",
    "long_breaks = stats.poisson.rvs(loc=10, mu=60, size=3000)\n",
    "plt.title('Long Break', x=0.5, y=1.0)\n",
    "pd.Series(long_breaks).hist()\n",
    "plt.show()\n",
    "short_breaks = stats.poisson.rvs(loc=10, mu=15, size=6000)\n",
    "# represents 6000 people who take about a 15 minute break\n",
    "plt.title('Short Break', x=0.5, y=1.0)\n",
    "pd.Series(short_breaks).hist()\n",
    "plt.show()\n",
    "breaks = np.concatenate((long_breaks, short_breaks))\n",
    "plt.title('Cumulative Break', x=0.5, y=1.0)\n",
    "pd.Series(breaks).hist()\n",
    "plt.show()\n",
    "print('Cumulative Break Mean', end=\": \")\n",
    "print(breaks.mean())\n",
    "print('Sample Break Mean', end=\": \")\n",
    "sample_breaks = np.random.choice(a = breaks, size=100)\n",
    "print(sample_breaks.mean())"
   ]
  },
  {
   "cell_type": "markdown",
   "id": "5df197db",
   "metadata": {},
   "source": [
    "### Point Estimate - Using proportion"
   ]
  },
  {
   "cell_type": "code",
   "execution_count": 32,
   "id": "f0a6722e",
   "metadata": {},
   "outputs": [
    {
     "name": "stdout",
     "output_type": "stream",
     "text": [
      "asian proportion estimate:\n",
      "0.285\n",
      "other proportion estimate:\n",
      "0.33\n",
      "hispanic proportion estimate:\n",
      "0.101\n",
      "black proportion estimate:\n",
      "0.101\n",
      "white proportion estimate:\n",
      "0.183\n"
     ]
    }
   ],
   "source": [
    "import random\n",
    "\n",
    "employee_races = ([\"white\"]*2000) + ([\"black\"]*1000) + ([\"hispanic\"]*1000) + ([\"asian\"]*3000) + ([\"other\"]*3000)\n",
    "employee_races\n",
    "#Now lets take a random sample of 100\n",
    "demo_sample = random.sample(employee_races, 1000) # Sample 1000 values\n",
    "for race in set(demo_sample):\n",
    "    print( race + \" proportion estimate:\" )\n",
    "    print( demo_sample.count(race)/1000. )"
   ]
  },
  {
   "cell_type": "markdown",
   "id": "9bac5b8a",
   "metadata": {},
   "source": [
    "### Formulae Confidence Interval Calculation : by using  population mean\n",
    "#### Margin of Error = $$z_{\\alpha/2} \\dfrac{\\sigma}{\\sqrt{{\\color{Black} n}}}$$\n",
    "#### Margin of Error = $$t_{\\alpha/2} \\dfrac{s}{\\sqrt{n}}$$ \n",
    "\n",
    "### Formulae Confidence Interval Calculation : by using  population proportion\n",
    "#### Margin of Error = $$z_{\\alpha/2} \\sqrt{\\frac{\\bar{p}(1-\\bar{p})}{n}}$$\n"
   ]
  },
  {
   "cell_type": "markdown",
   "id": "a8753d12",
   "metadata": {},
   "source": [
    "### Confidence Interval using Sample Mean"
   ]
  },
  {
   "cell_type": "code",
   "execution_count": 41,
   "id": "f6d91f6c",
   "metadata": {},
   "outputs": [
    {
     "data": {
      "text/plain": [
       "(2.962098014195961, 4.837901985804038)"
      ]
     },
     "execution_count": 41,
     "metadata": {},
     "output_type": "execute_result"
    }
   ],
   "source": [
    "#In this example, we will be using the data set of size(n=20) and will be calculating the 90% confidence Intervals using the \n",
    "# t Distribution using t.interval() function and passing the alpha parameter to 0.90 in the python.\n",
    "import numpy as np\n",
    "import scipy.stats as st\n",
    "  \n",
    "# define sample data\n",
    "data = [1, 1, 1, 2, 2, 2, 3, 3, 3, 3, 3, 4, 4, 5, 5, 5, 6, 7, 8, 10]\n",
    "# create 90% confidence interval\n",
    "st.t.interval(alpha=0.90, df=len(data)-1,\n",
    "              loc=np.mean(data),\n",
    "              scale=st.sem(data))"
   ]
  },
  {
   "cell_type": "code",
   "execution_count": 43,
   "id": "ee178e2c",
   "metadata": {},
   "outputs": [
    {
     "data": {
      "text/plain": [
       "(2.3481954013214263, 5.4518045986785735)"
      ]
     },
     "execution_count": 43,
     "metadata": {},
     "output_type": "execute_result"
    }
   ],
   "source": [
    "#In this example, we will be using the data set of size(n=20) and will be calculating the 90% confidence Intervals using the \n",
    "#t Distribution using the  t.interval() function and passing the alpha parameter to 0.99 in the python.\n",
    "import numpy as np\n",
    "import scipy.stats as st\n",
    "  \n",
    "# define sample data\n",
    "gfg_data = [1, 1, 1, 2, 2, 2, 3, 3, 3, 3, 3, 4, 4, 5, 5, 5, 6, 7, 8, 10]\n",
    "  \n",
    "# create 99% confidence interval\n",
    "st.t.interval(alpha=0.99,\n",
    "              df=len(gfg_data)-1,\n",
    "              loc=np.mean(gfg_data), \n",
    "              scale=st.sem(gfg_data))\n"
   ]
  },
  {
   "cell_type": "code",
   "execution_count": 37,
   "id": "17237931",
   "metadata": {},
   "outputs": [
    {
     "data": {
      "text/plain": [
       "(6.917058760758715, 7.422941239241284)"
      ]
     },
     "execution_count": 37,
     "metadata": {},
     "output_type": "execute_result"
    }
   ],
   "source": [
    "#In this example, we will be using the random data set of size(n=100) and will be calculating the 90% confidence Intervals \n",
    "#using the norm Distribution using the norm.interval() function and passing the alpha parameter to 0.90 in the python\n",
    "import numpy as np\n",
    "import scipy.stats as st\n",
    "  \n",
    "# define sample data\n",
    "gfg_data = np.random.randint(5, 10, 100)\n",
    "  \n",
    "# create 90% confidence interval\n",
    "# for population mean weight\n",
    "st.norm.interval(alpha=0.90,\n",
    "                 loc=np.mean(gfg_data),\n",
    "                 scale=st.sem(gfg_data))"
   ]
  },
  {
   "cell_type": "code",
   "execution_count": 39,
   "id": "c5634822",
   "metadata": {},
   "outputs": [
    {
     "data": {
      "text/plain": [
       "(6.47239801673671, 7.227601983263289)"
      ]
     },
     "execution_count": 39,
     "metadata": {},
     "output_type": "execute_result"
    }
   ],
   "source": [
    "#In this example, we will be using the random data set of size(n=100) and will be calculating the 99% confidence Intervals \n",
    "#using the norm Distribution using the norm.interval() function and passing the alpha parameter to 0.99 in the python.\n",
    "import numpy as np\n",
    "import scipy.stats as st\n",
    "\n",
    "# define sample data\n",
    "gfg_data = np.random.randint(5, 10, 100)\n",
    "\n",
    "# create 99% confidence interval\n",
    "# for population mean weight\n",
    "st.norm.interval(alpha=0.99,loc=np.mean(gfg_data),scale=st.sem(gfg_data))\n"
   ]
  },
  {
   "cell_type": "markdown",
   "id": "2f02502f",
   "metadata": {},
   "source": [
    "### Confidence Interval using Sample Proportion"
   ]
  },
  {
   "cell_type": "code",
   "execution_count": 38,
   "id": "9ee652e7",
   "metadata": {},
   "outputs": [
    {
     "data": {
      "text/plain": [
       "(0.24922129423231776, 0.30140037539468045)"
      ]
     },
     "execution_count": 38,
     "metadata": {},
     "output_type": "execute_result"
    }
   ],
   "source": [
    "#Let’s suppose that on a certain website, out of 1126 visitors on a given day, 310 clicked on an ad purchased by a sponsor. \n",
    "#Let’s construct a confidence interval for the population proportion of visitors who click the ad.\n",
    "# Function for computing confidence intervals\n",
    "from statsmodels.stats.proportion import proportion_confint   \n",
    "\n",
    "proportion_confint(count=310,    # Number of \"successes\"\n",
    "                   nobs=1126,    # Number of trials\n",
    "                   alpha=(1 - 0.95))\n",
    "# Alpha, which is 1 minus the confidence level"
   ]
  },
  {
   "cell_type": "code",
   "execution_count": null,
   "id": "b5e38c58",
   "metadata": {},
   "outputs": [],
   "source": []
  },
  {
   "cell_type": "code",
   "execution_count": null,
   "id": "b45daa93",
   "metadata": {},
   "outputs": [],
   "source": []
  },
  {
   "cell_type": "code",
   "execution_count": null,
   "id": "c4622129",
   "metadata": {},
   "outputs": [],
   "source": []
  },
  {
   "cell_type": "code",
   "execution_count": null,
   "id": "bf3a5534",
   "metadata": {},
   "outputs": [],
   "source": []
  },
  {
   "cell_type": "code",
   "execution_count": null,
   "id": "7a089180",
   "metadata": {},
   "outputs": [],
   "source": []
  },
  {
   "cell_type": "code",
   "execution_count": null,
   "id": "58de3236",
   "metadata": {},
   "outputs": [],
   "source": []
  },
  {
   "cell_type": "code",
   "execution_count": null,
   "id": "67dfa256",
   "metadata": {},
   "outputs": [],
   "source": []
  },
  {
   "cell_type": "code",
   "execution_count": null,
   "id": "cbacdfd0",
   "metadata": {},
   "outputs": [],
   "source": []
  },
  {
   "cell_type": "code",
   "execution_count": null,
   "id": "eb7acd20",
   "metadata": {},
   "outputs": [],
   "source": []
  },
  {
   "cell_type": "code",
   "execution_count": null,
   "id": "d2aa63d1",
   "metadata": {},
   "outputs": [],
   "source": []
  },
  {
   "cell_type": "code",
   "execution_count": null,
   "id": "78883158",
   "metadata": {},
   "outputs": [],
   "source": []
  }
 ],
 "metadata": {
  "kernelspec": {
   "display_name": "Python 3 (ipykernel)",
   "language": "python",
   "name": "python3"
  },
  "language_info": {
   "codemirror_mode": {
    "name": "ipython",
    "version": 3
   },
   "file_extension": ".py",
   "mimetype": "text/x-python",
   "name": "python",
   "nbconvert_exporter": "python",
   "pygments_lexer": "ipython3",
   "version": "3.9.12"
  }
 },
 "nbformat": 4,
 "nbformat_minor": 5
}
