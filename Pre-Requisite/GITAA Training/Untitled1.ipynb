{
 "cells": [
  {
   "cell_type": "code",
   "execution_count": 1,
   "id": "e426d367",
   "metadata": {},
   "outputs": [
    {
     "name": "stdout",
     "output_type": "stream",
     "text": [
      "[[ 40 -35  10]\n",
      " [ -8   7  -2]]\n",
      "[[ 0.98058068  0.19611614]\n",
      " [-0.19611614  0.98058068]]\n",
      "[[5.51543289e+01 0.00000000e+00]\n",
      " [0.00000000e+00 7.73106677e-16]]\n",
      "[[ 0.73960026 -0.64715023  0.18490007]\n",
      " [ 0.67212508  0.69580041 -0.25319888]\n",
      " [ 0.03520417  0.31154193  0.94958006]]\n"
     ]
    }
   ],
   "source": [
    "import numpy as np\n",
    "\n",
    "A_Test = np.array([[40,-35,10],[-8,7,-2]])\n",
    "print(A_Test)\n",
    "\n",
    "U,D,VT = np.linalg.svd(A_Test)\n",
    "\n",
    "print(U)\n",
    "print(np.diag(D))\n",
    "print(VT)"
   ]
  },
  {
   "cell_type": "code",
   "execution_count": null,
   "id": "db6745f7",
   "metadata": {},
   "outputs": [],
   "source": []
  }
 ],
 "metadata": {
  "kernelspec": {
   "display_name": "Python 3 (ipykernel)",
   "language": "python",
   "name": "python3"
  },
  "language_info": {
   "codemirror_mode": {
    "name": "ipython",
    "version": 3
   },
   "file_extension": ".py",
   "mimetype": "text/x-python",
   "name": "python",
   "nbconvert_exporter": "python",
   "pygments_lexer": "ipython3",
   "version": "3.9.12"
  }
 },
 "nbformat": 4,
 "nbformat_minor": 5
}
