{
 "cells": [
  {
   "cell_type": "code",
   "execution_count": 17,
   "id": "5dc50050",
   "metadata": {},
   "outputs": [
    {
     "name": "stdout",
     "output_type": "stream",
     "text": [
      "[[ 5  6  3]\n",
      " [ 7  2  6]\n",
      " [ 2 85  9]]\n",
      "3\n",
      "(Matrix([\n",
      "[1, 0, 0],\n",
      "[0, 1, 0],\n",
      "[0, 0, 1]]), (0, 1, 2))\n",
      "--------------------------\n",
      "[[2 0 0]\n",
      " [0 4 5]\n",
      " [0 4 3]]\n",
      "[-1.  8.  2.]\n",
      "[[ 0.          0.          1.        ]\n",
      " [ 0.70710678 -0.78086881  0.        ]\n",
      " [-0.70710678 -0.62469505  0.        ]]\n"
     ]
    }
   ],
   "source": [
    "import numpy as np\n",
    "import sympy as s\n",
    "\n",
    "A = np.array([[5,6,3],[7,2,6],[2,85,9]])\n",
    "M = s.Matrix(A)\n",
    "print(A)\n",
    "print(np.linalg.matrix_rank(A))\n",
    "print(M.rref())\n",
    "\n",
    "print('--------------------------')\n",
    "A = np.array([[2,0,0],[0,4,5],[0,4,3]])\n",
    "print(A)\n",
    "lamda,v = np.linalg.eig(A)\n",
    "print(lamda)\n",
    "print(v)"
   ]
  },
  {
   "cell_type": "code",
   "execution_count": 16,
   "id": "f861cbfe",
   "metadata": {},
   "outputs": [
    {
     "name": "stdout",
     "output_type": "stream",
     "text": [
      "-2.0000000000000004\n"
     ]
    }
   ],
   "source": [
    "A = np.array([[1,2],[3,4]])\n",
    "print(np.linalg.det(A))"
   ]
  },
  {
   "cell_type": "code",
   "execution_count": null,
   "id": "791c46c7",
   "metadata": {},
   "outputs": [],
   "source": []
  },
  {
   "cell_type": "code",
   "execution_count": null,
   "id": "f8f743db",
   "metadata": {},
   "outputs": [],
   "source": []
  },
  {
   "cell_type": "code",
   "execution_count": null,
   "id": "dd9916cb",
   "metadata": {},
   "outputs": [],
   "source": []
  }
 ],
 "metadata": {
  "kernelspec": {
   "display_name": "Python 3 (ipykernel)",
   "language": "python",
   "name": "python3"
  },
  "language_info": {
   "codemirror_mode": {
    "name": "ipython",
    "version": 3
   },
   "file_extension": ".py",
   "mimetype": "text/x-python",
   "name": "python",
   "nbconvert_exporter": "python",
   "pygments_lexer": "ipython3",
   "version": "3.9.16"
  }
 },
 "nbformat": 4,
 "nbformat_minor": 5
}
