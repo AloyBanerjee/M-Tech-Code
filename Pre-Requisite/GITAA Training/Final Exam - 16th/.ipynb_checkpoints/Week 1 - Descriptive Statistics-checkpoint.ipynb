{
 "cells": [
  {
   "cell_type": "markdown",
   "id": "8c15a579",
   "metadata": {},
   "source": [
    "# Descriptive Statistics"
   ]
  },
  {
   "cell_type": "code",
   "execution_count": 121,
   "id": "91c8f547",
   "metadata": {},
   "outputs": [],
   "source": [
    "import numpy as np \n",
    "import pandas as pd\n",
    "import scipy.stats as stats\n",
    "import statistics as stat"
   ]
  },
  {
   "cell_type": "code",
   "execution_count": 110,
   "id": "0c50238b",
   "metadata": {},
   "outputs": [
    {
     "name": "stdout",
     "output_type": "stream",
     "text": [
      "[0 1 2 3 4 5 6 7 8 9]\n",
      "[7.00796078 6.94908614 7.26120013 8.29284406 7.01978265 7.51859132\n",
      " 6.29257047 7.35538406 6.89560975 2.496995   9.23723762 0.25383585\n",
      " 4.43392523 1.51703455 3.91598341]\n",
      "0.7282410170037295\n",
      "[0.  0.1 0.2 0.3 0.4]\n",
      "-0.882938431731705\n",
      "[[ 6.3559483   6.95706358  8.2343756   4.1618452 ]\n",
      " [ 0.38728666  8.8318552   9.12959589  5.70712686]\n",
      " [ 3.04149214 10.27556265  8.32099477  3.28137665]]\n"
     ]
    }
   ],
   "source": [
    "#Random array \n",
    "array_int = np.arange(0, 10, 1)\n",
    "arrayFloat = np.random.uniform(0,10,15) # Create float\n",
    "random_number = np.random.rand() # Create randon positive float \n",
    "array_random_number = np.arange(0,np.random.rand(), 0.1) #Create randon list of number \n",
    "array_using_randn = np.random.randn() #Create positive as well as negative\n",
    "random_matrix = np.matrix(np.random.uniform(0,12,(3,4)))\n",
    "print(array_int)\n",
    "print(arrayFloat)\n",
    "print(random_number)\n",
    "print(array_random_number)\n",
    "print(array_using_randn)\n",
    "print(random_matrix)"
   ]
  },
  {
   "cell_type": "code",
   "execution_count": 143,
   "id": "85665354",
   "metadata": {},
   "outputs": [
    {
     "name": "stdout",
     "output_type": "stream",
     "text": [
      "[0.  0.1 0.2 0.3 0.4 0.5 0.6 0.7]\n",
      "Mean:0.35000000000000003\n",
      "Median:0.35000000000000003\n",
      "Mode:0.0\n",
      "Variance:0.05250000000000001\n",
      "Standard Deviation:0.22912878474779202\n",
      "Inter Quartile Range:0.35\n",
      "Range:0.7000000000000001\n",
      "Qartile:[0.175 0.35  0.525]\n",
      "Percentile:0.42000000000000004\n",
      "Kurtosis:-1.238095238095238\n",
      "Geometric Mean:0.0\n",
      "Harmonic Mean:0.0\n"
     ]
    },
    {
     "name": "stderr",
     "output_type": "stream",
     "text": [
      "C:\\Users\\Admin\\anaconda3\\lib\\statistics.py:406: RuntimeWarning: divide by zero encountered in double_scalars\n",
      "  T, total, count = _sum(1 / x for x in _fail_neg(data, errmsg))\n"
     ]
    }
   ],
   "source": [
    "#Central tendency & Deiviation\n",
    "data = np.arange(0, np.random.rand(), 0.1)\n",
    "print(data)\n",
    "print('Mean',np.mean(data),sep=':')\n",
    "print('Median', np.median(data), sep=':')\n",
    "print('Mode', stat.mode(data),sep=':')#Statistics\n",
    "print('Variance', np.square(np.std(data)), sep=':')\n",
    "print('Standard Deviation', np.std(data), sep=':')\n",
    "print('Inter Quartile Range', stats.iqr(data), sep=':')\n",
    "print('Range', np.ptp(data), sep=':')\n",
    "print('Qartile', np.quantile(data,[0.25,0.5,0.75]), sep=':')\n",
    "print('Percentile', np.percentile(data,60), sep=':')\n",
    "print('Kurtosis', stats.kurtosis(data), sep=':')\n",
    "print('Geometric Mean', stats.gmean(data), sep=':')\n",
    "print('Harmonic Mean', stat.harmonic_mean(data), sep=':')"
   ]
  },
  {
   "cell_type": "code",
   "execution_count": 13,
   "id": "9f9cbd2a",
   "metadata": {},
   "outputs": [
    {
     "name": "stdout",
     "output_type": "stream",
     "text": [
      "Kurtosis without Fisher:2.350977669356352\n",
      "Kurtosis:-0.649022330643648\n"
     ]
    }
   ],
   "source": [
    "import scipy.stats as stat\n",
    "import numpy as np \n",
    "\n",
    "data = np.array([42, 20, 38, 78, 54, 26])\n",
    "print('Kurtosis without Fisher', stat.kurtosis(data, fisher=False), sep=':')\n",
    "print('Kurtosis', stat.kurtosis(data, fisher=True), sep=':')"
   ]
  },
  {
   "cell_type": "code",
   "execution_count": 18,
   "id": "f0c4fa2d",
   "metadata": {},
   "outputs": [
    {
     "name": "stdout",
     "output_type": "stream",
     "text": [
      "2.0\n",
      "2.0\n",
      "1\n",
      "2\n",
      "1.5\n",
      "2.5\n",
      "1.0\n",
      "0.816496580927726\n",
      "1\n",
      "SpearmanrResult(correlation=0.5, pvalue=0.6666666666666667)\n",
      "<bound method DataFrame.corr of    0\n",
      "0  1\n",
      "1  2\n",
      "2  3>\n"
     ]
    }
   ],
   "source": [
    "import numpy as np \n",
    "import pandas as pd\n",
    "import statistics as stats\n",
    "import scipy.stats as stat\n",
    "\n",
    "data = np.array([1,2,3])\n",
    "data1 = np.array([1,6,3])\n",
    "print(np.mean(data))\n",
    "print(np.median(data))\n",
    "print(stats.mode(data))\n",
    "print(np.max(data) - np.min(data))\n",
    "print(np.percentile(data, 25))\n",
    "print(np.percentile(data, 75))\n",
    "print(np.percentile(data, 75) - np.percentile(data, 25))\n",
    "print(np.std(data))\n",
    "print(stats.variance(data))\n",
    "print(stat.spearmanr(data, data1, axis = 0))\n",
    "print(pd.DataFrame(data).corr)"
   ]
  },
  {
   "cell_type": "markdown",
   "id": "21bef5a3",
   "metadata": {},
   "source": [
    "# Inferential Statistics"
   ]
  },
  {
   "cell_type": "code",
   "execution_count": 25,
   "id": "6dec4c80",
   "metadata": {},
   "outputs": [
    {
     "data": {
      "text/plain": [
       "<function scipy.stats.stats.ttest_rel(a, b, axis=0, nan_policy='propagate', alternative='two-sided')>"
      ]
     },
     "execution_count": 25,
     "metadata": {},
     "output_type": "execute_result"
    }
   ],
   "source": [
    "#t Test\n",
    "\n",
    "import scipy.stats as stat\n",
    "\n",
    "stat.ttest_1samp \n",
    "stat.ttest_ind \n",
    "stat.ttest_rel"
   ]
  },
  {
   "cell_type": "code",
   "execution_count": 22,
   "id": "db9a2526",
   "metadata": {},
   "outputs": [
    {
     "data": {
      "text/plain": [
       "<function statsmodels.stats.weightstats.ztest(x1, x2=None, value=0, alternative='two-sided', usevar='pooled', ddof=1.0)>"
      ]
     },
     "execution_count": 22,
     "metadata": {},
     "output_type": "execute_result"
    }
   ],
   "source": [
    "#z test\n",
    "\n",
    "from statsmodels.stats import weightstats\n",
    "\n",
    "weightstats.ztest"
   ]
  },
  {
   "cell_type": "code",
   "execution_count": 23,
   "id": "24c303c9",
   "metadata": {},
   "outputs": [
    {
     "data": {
      "text/plain": [
       "<function statsmodels.stats.proportion.proportions_ztest(count, nobs, value=None, alternative='two-sided', prop_var=False)>"
      ]
     },
     "execution_count": 23,
     "metadata": {},
     "output_type": "execute_result"
    }
   ],
   "source": [
    "#proportion test \n",
    "\n",
    "from statsmodels.stats import proportion\n",
    "import scipy.stats as stat\n",
    "\n",
    "proportion.binom_test\n",
    "proportion.test_proportions_2indep\n",
    "proportion.proportions_ztest"
   ]
  },
  {
   "cell_type": "markdown",
   "id": "3e1eed39",
   "metadata": {},
   "source": [
    "# Practice Week 3 Hands on "
   ]
  },
  {
   "cell_type": "code",
   "execution_count": null,
   "id": "50a6169d",
   "metadata": {},
   "outputs": [],
   "source": []
  },
  {
   "cell_type": "code",
   "execution_count": null,
   "id": "6c591876",
   "metadata": {},
   "outputs": [],
   "source": []
  },
  {
   "cell_type": "code",
   "execution_count": null,
   "id": "3be245ec",
   "metadata": {},
   "outputs": [],
   "source": []
  },
  {
   "cell_type": "code",
   "execution_count": null,
   "id": "5ae7ff3a",
   "metadata": {},
   "outputs": [],
   "source": []
  },
  {
   "cell_type": "code",
   "execution_count": null,
   "id": "0eafc290",
   "metadata": {},
   "outputs": [],
   "source": []
  },
  {
   "cell_type": "code",
   "execution_count": null,
   "id": "6be706a3",
   "metadata": {},
   "outputs": [],
   "source": []
  },
  {
   "cell_type": "code",
   "execution_count": null,
   "id": "446e06f6",
   "metadata": {},
   "outputs": [],
   "source": []
  },
  {
   "cell_type": "code",
   "execution_count": null,
   "id": "f976720a",
   "metadata": {},
   "outputs": [],
   "source": []
  },
  {
   "cell_type": "code",
   "execution_count": null,
   "id": "fe6629bd",
   "metadata": {},
   "outputs": [],
   "source": []
  }
 ],
 "metadata": {
  "kernelspec": {
   "display_name": "Python 3 (ipykernel)",
   "language": "python",
   "name": "python3"
  },
  "language_info": {
   "codemirror_mode": {
    "name": "ipython",
    "version": 3
   },
   "file_extension": ".py",
   "mimetype": "text/x-python",
   "name": "python",
   "nbconvert_exporter": "python",
   "pygments_lexer": "ipython3",
   "version": "3.9.12"
  }
 },
 "nbformat": 4,
 "nbformat_minor": 5
}
