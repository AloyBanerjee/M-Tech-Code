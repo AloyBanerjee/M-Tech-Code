{
 "cells": [
  {
   "cell_type": "code",
   "execution_count": 118,
   "id": "8c6a5bd6",
   "metadata": {
    "scrolled": true
   },
   "outputs": [
    {
     "data": {
      "text/html": [
       "<div>\n",
       "<style scoped>\n",
       "    .dataframe tbody tr th:only-of-type {\n",
       "        vertical-align: middle;\n",
       "    }\n",
       "\n",
       "    .dataframe tbody tr th {\n",
       "        vertical-align: top;\n",
       "    }\n",
       "\n",
       "    .dataframe thead th {\n",
       "        text-align: right;\n",
       "    }\n",
       "</style>\n",
       "<table border=\"1\" class=\"dataframe\">\n",
       "  <thead>\n",
       "    <tr style=\"text-align: right;\">\n",
       "      <th></th>\n",
       "      <th>Length</th>\n",
       "      <th>Width</th>\n",
       "      <th>Height</th>\n",
       "    </tr>\n",
       "    <tr>\n",
       "      <th>Operator</th>\n",
       "      <th></th>\n",
       "      <th></th>\n",
       "      <th></th>\n",
       "    </tr>\n",
       "  </thead>\n",
       "  <tbody>\n",
       "    <tr>\n",
       "      <th>Op-1</th>\n",
       "      <td>99.5472</td>\n",
       "      <td>49.3012</td>\n",
       "      <td>20.0248</td>\n",
       "    </tr>\n",
       "    <tr>\n",
       "      <th>Op-2</th>\n",
       "      <td>100.7104</td>\n",
       "      <td>49.6216</td>\n",
       "      <td>20.0032</td>\n",
       "    </tr>\n",
       "  </tbody>\n",
       "</table>\n",
       "</div>"
      ],
      "text/plain": [
       "            Length    Width   Height\n",
       "Operator                            \n",
       "Op-1       99.5472  49.3012  20.0248\n",
       "Op-2      100.7104  49.6216  20.0032"
      ]
     },
     "execution_count": 118,
     "metadata": {},
     "output_type": "execute_result"
    }
   ],
   "source": [
    "import numpy as np \n",
    "import pandas as pd\n",
    "import matplotlib.pyplot as plt\n",
    "import seaborn as sns\n",
    "\n",
    "\n",
    "df = pd.read_csv('C:\\\\Users\\\\Admin\\\\Pre-Requisite\\\\GITAA Training\\\\Piece_Dim.csv', index_col = 'Item_No', na_values=['##', '$$'])\n",
    "#df.head(6)\n",
    "#df.tail(6)\n",
    "#df.isnull().sum()\n",
    "#df.describe()\n",
    "#df.info()\n",
    "#print(df['Operator'])\n",
    "#print(np.unique(df['Operator']))\n",
    "#print(df['Operator'].unique())\n",
    "\n",
    "\n",
    "#plt.bar(df['Operator'], len(df['Operator']))\n",
    "#plt.boxplot(df['Length'],notch=True)\n",
    "#plt.show()\n",
    "\n",
    "A_Test = np.matrix([[40,-35,10],[-8,7,-2]])\n",
    "#print(A_Test)\n",
    "U, D,VT = np.linalg.svd(A_Test)\n",
    "#print(U, D,VT, sep='\\n')\n",
    "\n",
    "import sys\n",
    "#print(sys.version)\n",
    "\n",
    "df_excel = pd.read_excel('C:\\\\Users\\\\Admin\\\\Pre-Requisite\\\\GITAA Training\\\\Piece_Dim.xlsx',sheet_name='Piece_Dim', index_col = 'Item_No', na_values=['##', '$$'])\n",
    "df_txt = pd.read_table('C:\\\\Users\\\\Admin\\\\Pre-Requisite\\\\GITAA Training\\\\Iris_data_sample.txt', delimiter=' ')\n",
    "df_txt.head()\n",
    "\n",
    "df_copy = df.copy()\n",
    "\n",
    "#print(df.index)\n",
    "#print(df.columns)\n",
    "#print(df.ndim)\n",
    "#print(df.shape)\n",
    "\n",
    "#print(df.head())\n",
    "#df.loc['Item-9', 'Height']\n",
    "#df.iloc[1,2]\n",
    "#df.dtypes\n",
    "#df.select_dtypes(exclude='float64', include='object')\n",
    "#print(df['Operator'].nbytes)\n",
    "#print(df['Operator'].astype('category').nbytes)\n",
    "\n",
    "df_copy['Operator'] = df_copy['Operator'].map({'Op-1':1, 'Op-2': 2, 'Op-3':3})\n",
    "#print(df)\n",
    "\n",
    "#df['Operator'] = df.where(df['Operator'] == 'Op-1', 'Op-1-New', inplace=True)\n",
    "#print(df['Operator'])\n",
    "\n",
    "df.head()\n",
    "#pd.crosstab(df['Length'], df['Width'], normalize='columns',margins=True)\n",
    "#df.corr()\n",
    "\n",
    "#df.describe(include='all')\n",
    "\n",
    "#df['Operator'].duplicated()\n",
    "\n",
    "df.groupby(df['Operator']).mean()\n"
   ]
  },
  {
   "cell_type": "code",
   "execution_count": null,
   "id": "1bf94648",
   "metadata": {},
   "outputs": [],
   "source": []
  },
  {
   "cell_type": "code",
   "execution_count": 120,
   "id": "c82413de",
   "metadata": {},
   "outputs": [
    {
     "name": "stdout",
     "output_type": "stream",
     "text": [
      "[[ 0.98058068  0.19611614]\n",
      " [-0.19611614  0.98058068]]\n",
      "[5.51543289e+01 7.73106677e-16]\n",
      "[[ 0.73960026 -0.64715023  0.18490007]\n",
      " [ 0.67212508  0.69580041 -0.25319888]\n",
      " [ 0.03520417  0.31154193  0.94958006]]\n"
     ]
    }
   ],
   "source": [
    "import numpy as np\n",
    "A_Test = np.matrix([[40,-35,10],[-8,7,-2]])\n",
    "#print(A_Test)\n",
    "U, D,VT = np.linalg.svd(A_Test)\n",
    "print(U, D,VT, sep='\\n')"
   ]
  },
  {
   "cell_type": "code",
   "execution_count": 121,
   "id": "e7576a74",
   "metadata": {},
   "outputs": [
    {
     "name": "stdout",
     "output_type": "stream",
     "text": [
      "[[-0.98058068  0.19611614]\n",
      " [-0.19611614 -0.98058068]]\n",
      "[5.51543289e+01 3.73117902e-16]\n",
      "[[-0.73960026 -0.6730464   0.        ]\n",
      " [ 0.64715023 -0.71114336  0.27472113]\n",
      " [-0.18490007  0.20318382  0.96152395]]\n"
     ]
    }
   ],
   "source": [
    "import numpy as np\n",
    "A_Test = np.matrix([[40,-35,10],[-8,7,-2]])\n",
    "#print(A_Test)\n",
    "VT, D,U = np.linalg.svd(A_Test.T)\n",
    "print(U, D,VT, sep='\\n')"
   ]
  },
  {
   "cell_type": "code",
   "execution_count": 125,
   "id": "bd7524fb",
   "metadata": {},
   "outputs": [
    {
     "name": "stdout",
     "output_type": "stream",
     "text": [
      "[[ 0.9701425  -0.24253563]\n",
      " [ 0.24253563  0.9701425 ]]\n",
      "[4.40227214e+01 2.13828868e-15]\n",
      "[[ 0.37463432  0.74926865  0.28097574 -0.46829291]\n",
      " [ 0.91304029 -0.1993535  -0.14198427  0.32627607]\n",
      " [ 0.04091244 -0.30630999  0.94473073  0.10947242]\n",
      " [-0.15598949  0.55229418  0.09152564  0.81379449]]\n",
      "---------------\n",
      "[[-0.9701425  -0.24253563]\n",
      " [-0.24253563  0.9701425 ]]\n",
      "[4.40227214e+01 6.64572591e-16]\n",
      "[[-0.37463432  0.59236691 -0.23968339  0.67179047]\n",
      " [-0.74926865 -0.6303333  -0.19075891  0.06991033]\n",
      " [-0.28097574  0.06096475  0.94915842  0.128196  ]\n",
      " [ 0.46829291 -0.4980609   0.07253408  0.72620651]]\n"
     ]
    }
   ],
   "source": [
    "import numpy as np \n",
    "A_Test = np.matrix([[16,32,12,-20],[4,8,3,-5]])\n",
    "U, D,VT = np.linalg.svd(A_Test)\n",
    "print(U, D,VT, sep='\\n')\n",
    "print('---------------')\n",
    "VT, D,U = np.linalg.svd(A_Test.T)\n",
    "print(U, D,VT, sep='\\n')"
   ]
  },
  {
   "cell_type": "code",
   "execution_count": 126,
   "id": "628f774f",
   "metadata": {},
   "outputs": [
    {
     "name": "stdout",
     "output_type": "stream",
     "text": [
      "[[-0.26726124 -0.65769057  0.70428299]\n",
      " [ 0.53452248 -0.70930294 -0.45953788]\n",
      " [ 0.80178373  0.25363843  0.54111958]]\n",
      "[3.01662063e+01 3.46896995e-16]\n",
      "[[-0.49613894 -0.86824314]\n",
      " [-0.86824314  0.49613894]]\n"
     ]
    }
   ],
   "source": [
    "A_Test = np.matrix([[4,7],[-8,-14],[-12,-21]])\n",
    "U, D,VT = np.linalg.svd(A_Test)\n",
    "print(U, D,VT, sep='\\n')"
   ]
  }
 ],
 "metadata": {
  "kernelspec": {
   "display_name": "Python 3 (ipykernel)",
   "language": "python",
   "name": "python3"
  },
  "language_info": {
   "codemirror_mode": {
    "name": "ipython",
    "version": 3
   },
   "file_extension": ".py",
   "mimetype": "text/x-python",
   "name": "python",
   "nbconvert_exporter": "python",
   "pygments_lexer": "ipython3",
   "version": "3.9.12"
  }
 },
 "nbformat": 4,
 "nbformat_minor": 5
}
