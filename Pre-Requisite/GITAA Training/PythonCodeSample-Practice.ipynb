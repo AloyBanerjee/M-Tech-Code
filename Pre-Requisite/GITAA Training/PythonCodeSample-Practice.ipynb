{
 "cells": [
  {
   "cell_type": "code",
   "execution_count": 1,
   "id": "3e8c9c43",
   "metadata": {},
   "outputs": [
    {
     "name": "stdout",
     "output_type": "stream",
     "text": [
      "[2, 3, 5, 7, 11, 13, 17, 19, 23, 29]\n",
      "12.0\n"
     ]
    }
   ],
   "source": [
    "import statistics as stat\n",
    "\n",
    "my_list = [2, 3, 5, 7, 11, 13, 17, 19, 23, 29]                      # Create example list\n",
    "print(my_list)\n",
    "median = stat.median(my_list)\n",
    "print(median)"
   ]
  },
  {
   "cell_type": "code",
   "execution_count": 2,
   "id": "266c3dbb",
   "metadata": {},
   "outputs": [
    {
     "name": "stdout",
     "output_type": "stream",
     "text": [
      "[2, 3, 5, 7, 11]\n",
      "5\n"
     ]
    }
   ],
   "source": [
    "import statistics as stat\n",
    "\n",
    "my_list = [2, 3, 5, 7, 11]                      # Create example list\n",
    "print(my_list)\n",
    "median = stat.median(my_list)\n",
    "print(median)"
   ]
  },
  {
   "cell_type": "code",
   "execution_count": 3,
   "id": "15d7afa8",
   "metadata": {},
   "outputs": [
    {
     "name": "stdout",
     "output_type": "stream",
     "text": [
      "[13, 17, 19, 23, 29]\n",
      "19\n"
     ]
    }
   ],
   "source": [
    "import statistics as stat\n",
    "\n",
    "my_list = [13, 17, 19, 23, 29]                      # Create example list\n",
    "print(my_list)\n",
    "median = stat.median(my_list)\n",
    "print(median)"
   ]
  },
  {
   "cell_type": "markdown",
   "id": "5fa539fd",
   "metadata": {},
   "source": []
  },
  {
   "cell_type": "markdown",
   "id": "694127f5",
   "metadata": {},
   "source": [
    "\n",
    "## Code Practice for Week 1\n",
    "## 'is' is a Identity Operator \n",
    "## 'In' is a Membership Operator\n"
   ]
  },
  {
   "cell_type": "code",
   "execution_count": 4,
   "id": "2dc0e35d",
   "metadata": {},
   "outputs": [
    {
     "name": "stdout",
     "output_type": "stream",
     "text": [
      "<class 'int'>\n",
      "<class 'float'>\n",
      "<class 'str'>\n",
      "False\n",
      "<class 'float'>\n",
      "[1, 2, 3, 2.3]\n",
      "<class 'list'>\n",
      "(1, 2, 2.3)\n",
      "<class 'tuple'>\n",
      "{'w': 22, 3: 'My Python code', 1: 23.22, 56: 26}\n",
      "<class 'dict'>\n",
      "{1, 2, 3, 6}\n",
      "<class 'set'>\n",
      "19.5\n",
      "3.0\n",
      "0\n",
      "3\n",
      "3.3333333333333335\n",
      "3.0\n",
      "67.5\n",
      "75\n",
      "5\n",
      "20\n",
      "No\n"
     ]
    }
   ],
   "source": [
    "a = 15 \n",
    "b = 15.23\n",
    "c = 'Hello'\n",
    "\n",
    "print(type(a))\n",
    "print(type(b))\n",
    "print(type(c))\n",
    "\n",
    "if type(a) is float:\n",
    "    print('True')\n",
    "else:\n",
    "    print('False')\n",
    "    \n",
    "\n",
    "print(type(float(a)))\n",
    "\n",
    "list_a = [1,2,3,2.3]\n",
    "print(list_a)\n",
    "print(type(list_a))\n",
    "Tuple_a = (1,2,2.3)\n",
    "#Can contain any set of data like list\n",
    "print(Tuple_a)\n",
    "print(type(Tuple_a))\n",
    "#Can contains key value pair\n",
    "Dict_a = {\"w\" : 22, 3:\"My Python code\", 1:23.22, 56:26}\n",
    "print(Dict_a)\n",
    "print(type(Dict_a))\n",
    "#Can contain only ordered unique value\n",
    "set_a = {1,2,2,2,6,6,6,6,3,3,3}\n",
    "print(set_a)\n",
    "print(type(set_a))\n",
    "\n",
    "first = 15\n",
    "second = 5\n",
    "third = 4.5\n",
    "\n",
    "print(first+third)\n",
    "print(first/second)\n",
    "print(first%second)\n",
    "print(first//second)\n",
    "print(first/third)\n",
    "print(first//third)\n",
    "print(first*third)\n",
    "print(first * second)\n",
    "\n",
    "a = 10\n",
    "print(a >> 1)\n",
    "print(a << 1)\n",
    "\n",
    "list_a = [1,2,3,2.3]\n",
    "if(256 in list_a):\n",
    "    print('Yes')\n",
    "else:\n",
    "    print('No')"
   ]
  },
  {
   "cell_type": "markdown",
   "id": "a3b73180",
   "metadata": {},
   "source": [
    "### Sequence Data 1 "
   ]
  },
  {
   "cell_type": "code",
   "execution_count": 5,
   "id": "83d3d2ca",
   "metadata": {},
   "outputs": [
    {
     "name": "stdout",
     "output_type": "stream",
     "text": [
      "STUDY OF STAT AND MACHINE LEARNING\n",
      "study of stat and machine learning\n",
      "Study of stat and machine learning\n",
      "Study Of Stat And Machine Learning\n",
      "9\n",
      "machine learning\n",
      "Studystatmachine\n",
      "I am Aloy\n",
      "I am Aloy\n",
      "['__add__', '__class__', '__contains__', '__delattr__', '__dir__', '__doc__', '__eq__', '__format__', '__ge__', '__getattribute__', '__getitem__', '__getnewargs__', '__gt__', '__hash__', '__init__', '__init_subclass__', '__iter__', '__le__', '__len__', '__lt__', '__mod__', '__mul__', '__ne__', '__new__', '__reduce__', '__reduce_ex__', '__repr__', '__rmod__', '__rmul__', '__setattr__', '__sizeof__', '__str__', '__subclasshook__', 'capitalize', 'casefold', 'center', 'count', 'encode', 'endswith', 'expandtabs', 'find', 'format', 'format_map', 'index', 'isalnum', 'isalpha', 'isascii', 'isdecimal', 'isdigit', 'isidentifier', 'islower', 'isnumeric', 'isprintable', 'isspace', 'istitle', 'isupper', 'join', 'ljust', 'lower', 'lstrip', 'maketrans', 'partition', 'removeprefix', 'removesuffix', 'replace', 'rfind', 'rindex', 'rjust', 'rpartition', 'rsplit', 'rstrip', 'split', 'splitlines', 'startswith', 'strip', 'swapcase', 'title', 'translate', 'upper', 'zfill']\n",
      "Help on built-in function len in module builtins:\n",
      "\n",
      "len(obj, /)\n",
      "    Return the number of items in a container.\n",
      "\n",
      "None\n",
      "Help on method_descriptor:\n",
      "\n",
      "find(...)\n",
      "    S.find(sub[, start[, end]]) -> int\n",
      "    \n",
      "    Return the lowest index in S where substring sub is found,\n",
      "    such that sub is contained within S[start:end].  Optional\n",
      "    arguments start and end are interpreted as in slice notation.\n",
      "    \n",
      "    Return -1 on failure.\n",
      "\n",
      "None\n"
     ]
    }
   ],
   "source": [
    "a_string = \"Study of stat and machine learning\"\n",
    "print(a_string.upper())\n",
    "print(a_string.lower())\n",
    "print(a_string.capitalize())\n",
    "print(a_string.title())\n",
    "print(a_string.find('stat'))\n",
    "print(a_string[a_string.find('machine'):])\n",
    "arr = a_string.split(' ')\n",
    "index = 0\n",
    "finalOutput = ''\n",
    "for val in arr:    \n",
    "    if(index%2 ==0):\n",
    "       finalOutput += ''.join(val)\n",
    "    index = index + 1\n",
    "print(finalOutput)\n",
    "\n",
    "print('I am {}'.format('Aloy'))\n",
    "#fstring\n",
    "name ='Aloy'\n",
    "print(f'I am {name}')\n",
    "#Return all the metod supported by this variable\n",
    "print(dir(name))\n",
    "#Return the details of inbuilt function\n",
    "print(help(len))\n",
    "print(help(str.find))"
   ]
  },
  {
   "cell_type": "markdown",
   "id": "c131cea9",
   "metadata": {},
   "source": [
    "#### One liner output from list : List Comprehension"
   ]
  },
  {
   "cell_type": "code",
   "execution_count": 6,
   "id": "0a514031",
   "metadata": {},
   "outputs": [
    {
     "name": "stdout",
     "output_type": "stream",
     "text": [
      "['I', 'Am', 1, 2, 2.3, True, False]\n",
      "I, value is not an integer rather <class 'str'>\n",
      "Am, value is not an integer rather <class 'str'>\n",
      "1\n",
      "2\n",
      "2.3, value is not an integer rather <class 'float'>\n",
      "True, value is not an integer rather <class 'bool'>\n",
      "False, value is not an integer rather <class 'bool'>\n"
     ]
    }
   ],
   "source": [
    "a_list = [\"I\", \"Am\", 1, 2, 2.3, True, False]\n",
    "print(a_list)\n",
    "for val in a_list:\n",
    "    if(type(val) == int):\n",
    "        print(val)\n",
    "    else:\n",
    "        print(f'{val}, value is not an integer rather {type(val)}')\n",
    "      \n"
   ]
  },
  {
   "cell_type": "code",
   "execution_count": 7,
   "id": "0b519bd7",
   "metadata": {},
   "outputs": [
    {
     "name": "stdout",
     "output_type": "stream",
     "text": [
      "['Apple', 'Mango', 'Pineapple']\n"
     ]
    },
    {
     "data": {
      "text/plain": [
       "[]"
      ]
     },
     "execution_count": 7,
     "metadata": {},
     "output_type": "execute_result"
    }
   ],
   "source": [
    "lst_data = ['Apple','Mango','Pineapple']\n",
    "print(lst_data)\n",
    "lst_data.clear()\n",
    "lst_data\n"
   ]
  },
  {
   "cell_type": "code",
   "execution_count": 8,
   "id": "bd229d72",
   "metadata": {},
   "outputs": [
    {
     "name": "stdout",
     "output_type": "stream",
     "text": [
      "Jackfruit\n",
      "Help on method_descriptor:\n",
      "\n",
      "append(self, object, /)\n",
      "    Append object to the end of the list.\n",
      "\n"
     ]
    },
    {
     "data": {
      "text/plain": [
       "['Apple', 'Mango']"
      ]
     },
     "execution_count": 8,
     "metadata": {},
     "output_type": "execute_result"
    }
   ],
   "source": [
    "lst_data = ['Apple','Mango','Pineapple']\n",
    "lst_data.append('Jackfruit')\n",
    "lst_data\n",
    "print(lst_data.pop())\n",
    "lst_data.remove('Pineapple')\n",
    "lst_data\n",
    "help(list.append)\n",
    "lst_data\n"
   ]
  },
  {
   "cell_type": "code",
   "execution_count": 9,
   "id": "858124a3",
   "metadata": {},
   "outputs": [
    {
     "data": {
      "text/plain": [
       "['Apple', 'Mango']"
      ]
     },
     "execution_count": 9,
     "metadata": {},
     "output_type": "execute_result"
    }
   ],
   "source": [
    "lst_data"
   ]
  },
  {
   "cell_type": "code",
   "execution_count": 10,
   "id": "41a6f18d",
   "metadata": {},
   "outputs": [
    {
     "data": {
      "text/plain": [
       "['Litchi', 'Mango']"
      ]
     },
     "execution_count": 10,
     "metadata": {},
     "output_type": "execute_result"
    }
   ],
   "source": [
    "lst_data[0] = 'Litchi'\n",
    "lst_data\n"
   ]
  },
  {
   "cell_type": "markdown",
   "id": "050e7884",
   "metadata": {},
   "source": [
    "#### Operation on dictionary"
   ]
  },
  {
   "cell_type": "code",
   "execution_count": 11,
   "id": "e2444bab",
   "metadata": {},
   "outputs": [
    {
     "name": "stdout",
     "output_type": "stream",
     "text": [
      "(1, 'Jojo')\n",
      "(2, 'Mou')\n",
      "(3, 'Mojo')\n"
     ]
    },
    {
     "data": {
      "text/plain": [
       "array([['1', 'Jojo'],\n",
       "       ['2', 'Mou'],\n",
       "       ['3', 'Mojo']], dtype='<U11')"
      ]
     },
     "execution_count": 11,
     "metadata": {},
     "output_type": "execute_result"
    }
   ],
   "source": [
    "dict_a = {1:\"Jojo\",2:\"Mou\",3:\"Mojo\"}\n",
    "dict_a.keys()\n",
    "dict_a.values()\n",
    "dict_a\n",
    "lst =[]\n",
    "import numpy as np\n",
    "for key in dict_a.items():\n",
    "    print(key)\n",
    "    lst.append(key)\n",
    "lst    \n",
    "arr = np.array(lst)    \n",
    "arr\n"
   ]
  },
  {
   "cell_type": "markdown",
   "id": "51df3dcc",
   "metadata": {},
   "source": [
    "### Set Operation"
   ]
  },
  {
   "cell_type": "code",
   "execution_count": 12,
   "id": "e798e06d",
   "metadata": {},
   "outputs": [
    {
     "data": {
      "text/plain": [
       "set"
      ]
     },
     "execution_count": 12,
     "metadata": {},
     "output_type": "execute_result"
    }
   ],
   "source": [
    "set_a = {\"A\",12,25,25.23}\n",
    "set_b = {\"B\",12,13,34}\n",
    "type(set_a)\n",
    "type(set_b)"
   ]
  },
  {
   "cell_type": "code",
   "execution_count": 13,
   "id": "8a9f82f0",
   "metadata": {},
   "outputs": [
    {
     "data": {
      "text/plain": [
       "{12, 25, 25.23, 'A'}"
      ]
     },
     "execution_count": 13,
     "metadata": {},
     "output_type": "execute_result"
    }
   ],
   "source": [
    "set_a"
   ]
  },
  {
   "cell_type": "code",
   "execution_count": 14,
   "id": "23c7c93a",
   "metadata": {},
   "outputs": [
    {
     "data": {
      "text/plain": [
       "{12, 13, 34, 'B'}"
      ]
     },
     "execution_count": 14,
     "metadata": {},
     "output_type": "execute_result"
    }
   ],
   "source": [
    "set_b"
   ]
  },
  {
   "cell_type": "code",
   "execution_count": 15,
   "id": "791f7368",
   "metadata": {},
   "outputs": [
    {
     "name": "stdout",
     "output_type": "stream",
     "text": [
      "{34, 'B', 12, 13, 25, 25.23, 'A'}\n"
     ]
    }
   ],
   "source": [
    "print(set_a | set_b) #Union"
   ]
  },
  {
   "cell_type": "code",
   "execution_count": 16,
   "id": "e7ddd245",
   "metadata": {},
   "outputs": [
    {
     "name": "stdout",
     "output_type": "stream",
     "text": [
      "{12}\n"
     ]
    }
   ],
   "source": [
    "print(set_a & set_b) #Intersection"
   ]
  },
  {
   "cell_type": "markdown",
   "id": "f6195495",
   "metadata": {},
   "source": [
    "### Sequence Data 2"
   ]
  },
  {
   "cell_type": "code",
   "execution_count": 17,
   "id": "0c30a053",
   "metadata": {},
   "outputs": [
    {
     "name": "stdout",
     "output_type": "stream",
     "text": [
      "1\n",
      "2\n",
      "3\n",
      "4\n"
     ]
    }
   ],
   "source": [
    "from array import * # importing array module\n",
    "arrSample = array('i',[1,2,3,4]) \n",
    "for x in arrSample: print(x) "
   ]
  },
  {
   "cell_type": "markdown",
   "id": "75ec716b",
   "metadata": {},
   "source": [
    "===============================\n",
    "'b' int 1\n",
    "'B' int 1\n",
    "'u' Unicode 2\n",
    "'h' int 2\n",
    "'H' int 2\n",
    "'i' int 2\n",
    "'I' int 2\n",
    "'l' int 4\n",
    "'L' int 4\n",
    "'f' float 4\n",
    "'d' float 8"
   ]
  },
  {
   "cell_type": "code",
   "execution_count": 18,
   "id": "5205881d",
   "metadata": {},
   "outputs": [
    {
     "name": "stdout",
     "output_type": "stream",
     "text": [
      "(1, 2, 3, 4, 3, 'py')\n"
     ]
    }
   ],
   "source": [
    "tupSample = (1,2,3,4,3,'py')\n",
    "tupleSample = 1, 2, 'sample'\n",
    "print(tupSample)\n"
   ]
  },
  {
   "cell_type": "code",
   "execution_count": 19,
   "id": "9ad054be",
   "metadata": {},
   "outputs": [
    {
     "name": "stdout",
     "output_type": "stream",
     "text": [
      "10\n",
      "110\n",
      "210\n",
      "310\n",
      "410\n",
      "510\n",
      "610\n",
      "710\n",
      "810\n",
      "910\n"
     ]
    }
   ],
   "source": [
    "for i in range(10,1000,100):\n",
    "    print(i)"
   ]
  },
  {
   "cell_type": "code",
   "execution_count": 20,
   "id": "f093598c",
   "metadata": {},
   "outputs": [
    {
     "data": {
      "text/plain": [
       "array('i', [1, 2, 3, 4])"
      ]
     },
     "execution_count": 20,
     "metadata": {},
     "output_type": "execute_result"
    }
   ],
   "source": [
    "from array import *\n",
    "\n",
    "arrSample = array('i',(1,2,3,4))\n",
    "arrSample"
   ]
  },
  {
   "cell_type": "code",
   "execution_count": 21,
   "id": "9fe6639b",
   "metadata": {},
   "outputs": [
    {
     "data": {
      "text/plain": [
       "1"
      ]
     },
     "execution_count": 21,
     "metadata": {},
     "output_type": "execute_result"
    }
   ],
   "source": [
    "arrSample[0]"
   ]
  },
  {
   "cell_type": "code",
   "execution_count": 22,
   "id": "f8dbf636",
   "metadata": {},
   "outputs": [
    {
     "data": {
      "text/plain": [
       "array.array"
      ]
     },
     "execution_count": 22,
     "metadata": {},
     "output_type": "execute_result"
    }
   ],
   "source": [
    "type(arrSample)"
   ]
  },
  {
   "cell_type": "code",
   "execution_count": 23,
   "id": "dac9aa9d",
   "metadata": {},
   "outputs": [
    {
     "data": {
      "text/plain": [
       "array('i', [1, 2, 3, 4, 10])"
      ]
     },
     "execution_count": 23,
     "metadata": {},
     "output_type": "execute_result"
    }
   ],
   "source": [
    "arrSample.append(10)\n",
    "arrSample"
   ]
  },
  {
   "cell_type": "markdown",
   "id": "c1c434ef",
   "metadata": {},
   "source": [
    "### Set does not support indexing\n",
    "\n"
   ]
  },
  {
   "cell_type": "code",
   "execution_count": 24,
   "id": "e964feaa",
   "metadata": {},
   "outputs": [
    {
     "data": {
      "text/plain": [
       "{24, 87.5, 'a', 'data', 'e', 'example', 'l', 'm', 'p', 's', 'x'}"
      ]
     },
     "execution_count": 24,
     "metadata": {},
     "output_type": "execute_result"
    }
   ],
   "source": [
    "setSample = {'example',24,87.5,'data',24,'data'}\n",
    "setSample\n",
    "setSample.update('example','sample')\n",
    "setSample"
   ]
  },
  {
   "cell_type": "code",
   "execution_count": 25,
   "id": "091e778f",
   "metadata": {},
   "outputs": [
    {
     "data": {
      "text/plain": [
       "[15, 45, 1, 45]"
      ]
     },
     "execution_count": 25,
     "metadata": {},
     "output_type": "execute_result"
    }
   ],
   "source": [
    "tuple_a =(45,263,1,25,66)\n",
    "tuple_a\n",
    "list_aee = [15,45,1,45]\n",
    "list_aee\n"
   ]
  },
  {
   "cell_type": "code",
   "execution_count": 26,
   "id": "d1d286da",
   "metadata": {},
   "outputs": [
    {
     "name": "stdout",
     "output_type": "stream",
     "text": [
      "[7.0, 9.0, 8.0, 11.0, 14.0]\n"
     ]
    }
   ],
   "source": [
    "lst_sample = [14,18,16,22,28]\n",
    "lst_NewSample = [x/2 for x in lst_sample]\n",
    "print(lst_NewSample)"
   ]
  },
  {
   "cell_type": "markdown",
   "id": "9bf689ec",
   "metadata": {},
   "source": [
    "# Numpy "
   ]
  },
  {
   "cell_type": "code",
   "execution_count": 27,
   "id": "88aadb92",
   "metadata": {},
   "outputs": [],
   "source": [
    "import numpy as np\n",
    "arr = np.array([1,2,3,4,5,6],dtype='int')"
   ]
  },
  {
   "cell_type": "code",
   "execution_count": 28,
   "id": "3ec35293",
   "metadata": {},
   "outputs": [
    {
     "name": "stdout",
     "output_type": "stream",
     "text": [
      "[1 2 3 4 5 6]\n",
      "int32\n",
      "1\n",
      "[[1 2]\n",
      " [3 4]\n",
      " [5 6]]\n",
      "4\n"
     ]
    }
   ],
   "source": [
    "print(arr)\n",
    "print(arr.dtype)\n",
    "print(arr.ndim)\n",
    "print(arr.reshape(3,2))\n",
    "print(arr.itemsize)"
   ]
  },
  {
   "cell_type": "code",
   "execution_count": 29,
   "id": "ede04f1c",
   "metadata": {},
   "outputs": [
    {
     "name": "stdout",
     "output_type": "stream",
     "text": [
      "[ 2  4  6  8 10 12]\n"
     ]
    }
   ],
   "source": [
    "print(arr+arr)"
   ]
  },
  {
   "cell_type": "code",
   "execution_count": 30,
   "id": "cece0b60",
   "metadata": {},
   "outputs": [
    {
     "name": "stdout",
     "output_type": "stream",
     "text": [
      "[ 1  4  9 16 25 36]\n"
     ]
    }
   ],
   "source": [
    "print(arr*arr)"
   ]
  },
  {
   "cell_type": "code",
   "execution_count": 31,
   "id": "8e52736b",
   "metadata": {},
   "outputs": [
    {
     "name": "stdout",
     "output_type": "stream",
     "text": [
      "[ 1  4  9 16 25 36]\n"
     ]
    }
   ],
   "source": [
    "print(arr**2)"
   ]
  },
  {
   "cell_type": "code",
   "execution_count": 32,
   "id": "492cb192",
   "metadata": {},
   "outputs": [
    {
     "name": "stdout",
     "output_type": "stream",
     "text": [
      "[1. 1. 1. 1. 1. 1.]\n"
     ]
    }
   ],
   "source": [
    "print(arr/arr)"
   ]
  },
  {
   "cell_type": "code",
   "execution_count": 33,
   "id": "2f1f9a95",
   "metadata": {},
   "outputs": [
    {
     "name": "stdout",
     "output_type": "stream",
     "text": [
      "[1 2 3 4 5 6]\n"
     ]
    }
   ],
   "source": [
    "copy_arr = arr.copy()\n",
    "print(copy_arr)"
   ]
  },
  {
   "cell_type": "code",
   "execution_count": 34,
   "id": "2798b14e",
   "metadata": {},
   "outputs": [
    {
     "name": "stdout",
     "output_type": "stream",
     "text": [
      "[1 2 3 4 5 6]\n",
      "[1 2 3 4 5 6]\n"
     ]
    }
   ],
   "source": [
    "print(arr)\n",
    "print(copy_arr)"
   ]
  },
  {
   "cell_type": "code",
   "execution_count": 35,
   "id": "74a63348",
   "metadata": {},
   "outputs": [
    {
     "name": "stdout",
     "output_type": "stream",
     "text": [
      "[  1   3   5   7   9  11  13  15  17  19  21  23  25  27  29  31  33  35\n",
      "  37  39  41  43  45  47  49  51  53  55  57  59  61  63  65  67  69  71\n",
      "  73  75  77  79  81  83  85  87  89  91  93  95  97  99 101 103 105 107\n",
      " 109 111 113 115 117 119 121 123 125 127 129 131 133 135 137 139 141 143\n",
      " 145 147 149 151]\n"
     ]
    }
   ],
   "source": [
    "print(np.arange(1,152,2))"
   ]
  },
  {
   "cell_type": "code",
   "execution_count": 36,
   "id": "82e28082",
   "metadata": {},
   "outputs": [
    {
     "name": "stdout",
     "output_type": "stream",
     "text": [
      "2\n",
      "float64\n"
     ]
    }
   ],
   "source": [
    "arr_50 = np.linspace(0,500,500)\n",
    "arr_50\n",
    "finalVal = (np.array(arr_50)).reshape(100,5)\n",
    "#print(finalVal)\n",
    "print(finalVal.ndim)\n",
    "print(finalVal.dtype)"
   ]
  },
  {
   "cell_type": "code",
   "execution_count": 37,
   "id": "7ded16fa",
   "metadata": {},
   "outputs": [
    {
     "name": "stdout",
     "output_type": "stream",
     "text": [
      "[[1 2 3]\n",
      " [4 5 6]\n",
      " [7 8 9]]\n",
      "2\n",
      "[[1 4 7]\n",
      " [2 5 8]\n",
      " [3 6 9]]\n",
      "[[1. 2. 3.]\n",
      " [4. 5. 6.]\n",
      " [7. 8. 9.]]\n",
      "<class 'numpy.ndarray'>\n",
      "8.0\n",
      "8.0\n",
      "[[15 18 16]\n",
      " [18 25 29]]\n",
      "(2, 3)\n",
      "2\n",
      "int32\n",
      "[[15 18]\n",
      " [16 18]\n",
      " [25 29]]\n",
      "[[15 18 16]\n",
      " [18 25 29]\n",
      " [15 18 16]\n",
      " [18 25 29]]\n",
      "[[15 18 16 15 18 16]\n",
      " [18 25 29 18 25 29]]\n",
      "[[15 18 16]\n",
      " [18 25 29]\n",
      " [15 18 16]\n",
      " [18 25 29]]\n",
      "[[15 18 16]\n",
      " [18 25 29]\n",
      " [15 18 16]\n",
      " [18 25 29]\n",
      " [15 18 16]\n",
      " [18 25 29]\n",
      " [15 18 16]\n",
      " [18 25 29]]\n",
      "[[15 18 16 15 18 16]\n",
      " [18 25 29 18 25 29]\n",
      " [15 18 16 15 18 16]\n",
      " [18 25 29 18 25 29]]\n",
      "[array([[15, 18, 16]]), array([[18, 25, 29]]), array([[15, 18, 16]]), array([[18, 25, 29]])]\n",
      "[[15 18 16]\n",
      " [18 25 29]]\n",
      "[[15 18 16]\n",
      " [18 25 29]]\n",
      "None\n",
      "[[15 18 16]\n",
      " [18 25 29]]\n",
      "[[15 18 16]\n",
      " [18 25 29]]\n",
      "[[15 18 16]\n",
      " [18 25 29]]\n",
      "[[30 36 32]\n",
      " [36 50 58]]\n",
      "----------------------------------------\n",
      "[15 21 22 45 54 78 98 99]\n",
      "[22 54 78 98]\n",
      "[14.         14.3877551  14.7755102  15.16326531 15.55102041 15.93877551\n",
      " 16.32653061 16.71428571 17.10204082 17.48979592 17.87755102 18.26530612\n",
      " 18.65306122 19.04081633 19.42857143 19.81632653 20.20408163 20.59183673\n",
      " 20.97959184 21.36734694 21.75510204 22.14285714 22.53061224 22.91836735\n",
      " 23.30612245 23.69387755 24.08163265 24.46938776 24.85714286 25.24489796\n",
      " 25.63265306 26.02040816 26.40816327 26.79591837 27.18367347 27.57142857\n",
      " 27.95918367 28.34693878 28.73469388 29.12244898 29.51020408 29.89795918\n",
      " 30.28571429 30.67346939 31.06122449 31.44897959 31.83673469 32.2244898\n",
      " 32.6122449  33.         33.3877551  33.7755102  34.16326531 34.55102041\n",
      " 34.93877551 35.32653061 35.71428571 36.10204082 36.48979592 36.87755102\n",
      " 37.26530612 37.65306122 38.04081633 38.42857143 38.81632653 39.20408163\n",
      " 39.59183673 39.97959184 40.36734694 40.75510204 41.14285714 41.53061224\n",
      " 41.91836735 42.30612245 42.69387755 43.08163265 43.46938776 43.85714286\n",
      " 44.24489796 44.63265306 45.02040816 45.40816327 45.79591837 46.18367347\n",
      " 46.57142857 46.95918367 47.34693878 47.73469388 48.12244898 48.51020408\n",
      " 48.89795918 49.28571429 49.67346939 50.06122449 50.44897959 50.83673469\n",
      " 51.2244898  51.6122449  52.        ]\n"
     ]
    }
   ],
   "source": [
    "import numpy as np \n",
    "arrq = np.array([(1,2,3),(4,5,6),(7,8,9)])\n",
    "print(arrq)\n",
    "print(arrq.ndim)\n",
    "print(arrq.T)\n",
    "arr_new = arrq.astype(dtype='f')\n",
    "print(arr_new)\n",
    "print(type(arr_new))\n",
    "#Want to grasp 8\n",
    "print(arr_new[2][1])\n",
    "print(arr_new[2,1])\n",
    "## Difference between Copy and View\n",
    "\n",
    "arr_original = np.array([(15,18,16),(18,25,29)])\n",
    "print(arr_original)\n",
    "print(arr_original.shape)\n",
    "print(arr_original.ndim)\n",
    "print(arr_original.dtype)\n",
    "arr_reshape = arr_original.reshape(3,2)\n",
    "print(arr_reshape)\n",
    "#Array concatination\n",
    "arr_concat_col = np.concatenate((arr_original,arr_original),axis=0)\n",
    "print(arr_concat_col)\n",
    "arr_concat_row = np.concatenate((arr_original,arr_original),axis=1)\n",
    "print(arr_concat_row)\n",
    "## VStack & HStatck\n",
    "print(arr_concat_col)\n",
    "arr_VStack = np.vstack((arr_concat_col,arr_concat_col))\n",
    "print(arr_VStack)\n",
    "arr_HStack = np.hstack((arr_concat_col,arr_concat_col))\n",
    "print(arr_HStack)\n",
    "#Split of an array \n",
    "arr_split = np.split(arr_concat_col,4)\n",
    "print(arr_split)\n",
    "## Copy & View\n",
    "\n",
    "print(arr_original)\n",
    "copy_Original = np.copy(arr_original)\n",
    "print(copy_Original)\n",
    "print(copy_Original.base)\n",
    "\n",
    "view_Original = arr_original.view()\n",
    "print(view_Original)\n",
    "print(view_Original.base)\n",
    "\n",
    "# Concept of axxis \n",
    "#axis - 0 Column && axis - 1 Row\n",
    "# Pending\n",
    "print(arr_original)\n",
    "arr_add = np.add(arr_original,arr_original)\n",
    "print(arr_add)\n",
    "\n",
    "\n",
    "print('----------------------------------------')\n",
    "arr_Val = np.array([15,21,99,54,98,22,78,45])\n",
    "arr_sorted = np.sort(arr_Val)\n",
    "print(arr_sorted)\n",
    "arr_masked = (arr_sorted%2 ==0)\n",
    "print(arr_sorted[arr_masked])\n",
    "\n",
    "print(np.linspace(14,52,99))"
   ]
  },
  {
   "cell_type": "markdown",
   "id": "a53f427d",
   "metadata": {},
   "source": [
    "# PANDA LIBRARY"
   ]
  },
  {
   "cell_type": "code",
   "execution_count": 38,
   "id": "edd2719a",
   "metadata": {},
   "outputs": [
    {
     "name": "stdout",
     "output_type": "stream",
     "text": [
      "0    8.0\n",
      "1    9.0\n",
      "2    5.5\n",
      "3    8.0\n",
      "4    9.0\n",
      "dtype: float64\n",
      "<class 'pandas.core.series.Series'>\n",
      "float64\n",
      "float64\n",
      "5.5\n",
      "        Working_Hours 1\n",
      "Mon                 8.0\n",
      "Tue                 9.0\n",
      "Wed                 5.5\n",
      "Thurs               8.0\n",
      "Friday              9.0\n"
     ]
    },
    {
     "data": {
      "text/html": [
       "<div>\n",
       "<style scoped>\n",
       "    .dataframe tbody tr th:only-of-type {\n",
       "        vertical-align: middle;\n",
       "    }\n",
       "\n",
       "    .dataframe tbody tr th {\n",
       "        vertical-align: top;\n",
       "    }\n",
       "\n",
       "    .dataframe thead th {\n",
       "        text-align: right;\n",
       "    }\n",
       "</style>\n",
       "<table border=\"1\" class=\"dataframe\">\n",
       "  <thead>\n",
       "    <tr style=\"text-align: right;\">\n",
       "      <th></th>\n",
       "      <th>Mon</th>\n",
       "      <th>Tue</th>\n",
       "      <th>Wed</th>\n",
       "      <th>Thurs</th>\n",
       "      <th>Friday</th>\n",
       "    </tr>\n",
       "  </thead>\n",
       "  <tbody>\n",
       "    <tr>\n",
       "      <th>First</th>\n",
       "      <td>4</td>\n",
       "      <td>15</td>\n",
       "      <td>9</td>\n",
       "      <td>9</td>\n",
       "      <td>6</td>\n",
       "    </tr>\n",
       "    <tr>\n",
       "      <th>Second</th>\n",
       "      <td>6</td>\n",
       "      <td>7</td>\n",
       "      <td>8</td>\n",
       "      <td>2</td>\n",
       "      <td>3</td>\n",
       "    </tr>\n",
       "  </tbody>\n",
       "</table>\n",
       "</div>"
      ],
      "text/plain": [
       "        Mon  Tue  Wed  Thurs  Friday\n",
       "First     4   15    9      9       6\n",
       "Second    6    7    8      2       3"
      ]
     },
     "execution_count": 38,
     "metadata": {},
     "output_type": "execute_result"
    }
   ],
   "source": [
    "import numpy as np \n",
    "import pandas as pd\n",
    "\n",
    "working_Hours = np.array([8,9,5.5,8,9])\n",
    "working_Days = np.array(['Mon','Tue','Wed','Thurs','Friday'])\n",
    "column= np.array(['Working_Hours 1'])\n",
    "column1= np.array(['Working_Hours 1', 'Working Hours 2'])\n",
    "index= np.array(['First', 'Second'])\n",
    "#Panda Series\n",
    "s = pd.Series(working_Hours)\n",
    "print(s)\n",
    "print(type(s))\n",
    "print(s.dtype)\n",
    "print(s.dtypes)\n",
    "print(s[2])\n",
    "#Panda's Data Frame\n",
    "df = pd.DataFrame(data= working_Hours, index=working_Days, columns=column)\n",
    "print(df)\n",
    "df.head()\n",
    "df.tail()\n",
    "#Data Frame Declaration\n",
    "df_new = pd.DataFrame({'Mon':[4,6],'Tue':[15,7],'Wed':[9,8],'Thurs':[9,2],'Friday':[6,3]}, index=index)\n",
    "df_new.head()\n"
   ]
  },
  {
   "cell_type": "code",
   "execution_count": 39,
   "id": "37d87776",
   "metadata": {
    "scrolled": false
   },
   "outputs": [
    {
     "name": "stdout",
     "output_type": "stream",
     "text": [
      ".\n",
      ".\n",
      "<class 'pandas.core.frame.DataFrame'>\n",
      "RangeIndex: 1436 entries, 0 to 1435\n",
      "Data columns (total 11 columns):\n",
      " #   Column      Non-Null Count  Dtype  \n",
      "---  ------      --------------  -----  \n",
      " 0   Unnamed: 0  1436 non-null   int64  \n",
      " 1   Price       1436 non-null   int64  \n",
      " 2   Age         1336 non-null   float64\n",
      " 3   KM          1436 non-null   object \n",
      " 4   FuelType    1336 non-null   object \n",
      " 5   HP          1436 non-null   object \n",
      " 6   MetColor    1286 non-null   float64\n",
      " 7   Automatic   1436 non-null   int64  \n",
      " 8   CC          1436 non-null   int64  \n",
      " 9   Doors       1436 non-null   object \n",
      " 10  Weight      1436 non-null   int64  \n",
      "dtypes: float64(2), int64(5), object(4)\n",
      "memory usage: 123.5+ KB\n",
      "<class 'pandas.core.series.Series'>\n",
      "RangeIndex: 1436 entries, 0 to 1435\n",
      "Series name: KM\n",
      "Non-Null Count  Dtype \n",
      "--------------  ----- \n",
      "1436 non-null   object\n",
      "dtypes: object(1)\n",
      "memory usage: 11.3+ KB\n",
      "-----------------------------Basic Ops-----------------------\n",
      "2\n",
      "(1436, 10)\n",
      "Int64Index([   0,    1,    2,    3,    4,    5,    6,    7,    8,    9,\n",
      "            ...\n",
      "            1426, 1427, 1428, 1429, 1430, 1431, 1432, 1433, 1434, 1435],\n",
      "           dtype='int64', length=1436)\n",
      "Index(['Price', 'Age', 'KM', 'FuelType', 'HP', 'MetColor', 'Automatic', 'CC',\n",
      "       'Doors', 'Weight'],\n",
      "      dtype='object')\n",
      "   Price   Age       KM FuelType    HP  MetColor  Automatic    CC  Doors  \\\n",
      "0  13500  23.0  46986.0   Diesel  90.0       1.0          0  2000  three   \n",
      "1  13750  23.0  72937.0   Diesel  90.0       1.0          0  2000      3   \n",
      "2  13950  24.0  41711.0   Diesel  90.0       NaN          0  2000      3   \n",
      "3  14950  26.0  48000.0   Diesel  90.0       0.0          0  2000      3   \n",
      "4  13750  30.0  38500.0   Diesel  90.0       0.0          0  2000      3   \n",
      "\n",
      "   Weight  \n",
      "0    1165  \n",
      "1    1165  \n",
      "2    1165  \n",
      "3    1165  \n",
      "4    1170  \n",
      "      Price   Age       KM FuelType     HP  MetColor  Automatic    CC Doors  \\\n",
      "1431   7500   NaN  20544.0   Petrol   86.0       1.0          0  1300     3   \n",
      "1432  10845  72.0      NaN   Petrol   86.0       0.0          0  1300     3   \n",
      "1433   8500   NaN  17016.0   Petrol   86.0       0.0          0  1300     3   \n",
      "1434   7250  70.0      NaN      NaN   86.0       1.0          0  1300     3   \n",
      "1435   6950  76.0      1.0   Petrol  110.0       0.0          0  1600     5   \n",
      "\n",
      "      Weight  \n",
      "1431    1025  \n",
      "1432    1015  \n",
      "1433    1015  \n",
      "1434    1015  \n",
      "1435    1114  \n",
      "-----------------------------Dealing with new data frame-----------------------\n",
      "2\n",
      "(1436, 11)\n",
      "Int64Index([   0,    1,    2,    3,    4,    5,    6,    7,    8,    9,\n",
      "            ...\n",
      "            1426, 1427, 1428, 1429, 1430, 1431, 1432, 1433, 1434, 1435],\n",
      "           dtype='int64', length=1436)\n",
      "Index(['index', 'Price', 'Age', 'KM', 'FuelType', 'HP', 'MetColor',\n",
      "       'Automatic', 'CC', 'Doors', 'Weight'],\n",
      "      dtype='object')\n",
      "  index  Price   Age       KM FuelType    HP  MetColor  Automatic    CC  \\\n",
      "0     0  13500  23.0  46986.0   Diesel  90.0       1.0          0  2000   \n",
      "1     1  13750  23.0  72937.0   Diesel  90.0       1.0          0  2000   \n",
      "2     2  13950  24.0  41711.0   Diesel  90.0       NaN          0  2000   \n",
      "3     3  14950  26.0  48000.0   Diesel  90.0       0.0          0  2000   \n",
      "4     4  13750  30.0  38500.0   Diesel  90.0       0.0          0  2000   \n",
      "\n",
      "   Doors  Weight  \n",
      "0  three    1165  \n",
      "1      3    1165  \n",
      "2      3    1165  \n",
      "3      3    1165  \n",
      "4      3    1170  \n",
      "     index  Price   Age       KM FuelType     HP  MetColor  Automatic    CC  \\\n",
      "1431  1431   7500   NaN  20544.0   Petrol   86.0       1.0          0  1300   \n",
      "1432  1432  10845  72.0      NaN   Petrol   86.0       0.0          0  1300   \n",
      "1433  1433   8500   NaN  17016.0   Petrol   86.0       0.0          0  1300   \n",
      "1434  1434   7250  70.0      NaN      NaN   86.0       1.0          0  1300   \n",
      "1435  1435   6950  76.0      1.0   Petrol  110.0       0.0          0  1600   \n",
      "\n",
      "     Doors  Weight  \n",
      "1431     3    1025  \n",
      "1432     3    1015  \n",
      "1433     3    1015  \n",
      "1434     3    1015  \n",
      "1435     5    1114  \n",
      "Index(['index', 'Price', 'Age', 'KM', 'FuelType', 'HP', 'MetColor',\n",
      "       'Automatic', 'CC', 'Doors', 'Weight'],\n",
      "      dtype='object')\n",
      "-----------selecting some data -----------------\n"
     ]
    },
    {
     "data": {
      "text/html": [
       "<div>\n",
       "<style scoped>\n",
       "    .dataframe tbody tr th:only-of-type {\n",
       "        vertical-align: middle;\n",
       "    }\n",
       "\n",
       "    .dataframe tbody tr th {\n",
       "        vertical-align: top;\n",
       "    }\n",
       "\n",
       "    .dataframe thead th {\n",
       "        text-align: right;\n",
       "    }\n",
       "</style>\n",
       "<table border=\"1\" class=\"dataframe\">\n",
       "  <thead>\n",
       "    <tr style=\"text-align: right;\">\n",
       "      <th></th>\n",
       "      <th>index</th>\n",
       "      <th>Price</th>\n",
       "      <th>Age</th>\n",
       "      <th>KM</th>\n",
       "      <th>FuelType</th>\n",
       "      <th>HP</th>\n",
       "      <th>MetColor</th>\n",
       "      <th>Automatic</th>\n",
       "      <th>CC</th>\n",
       "      <th>Doors</th>\n",
       "      <th>Weight</th>\n",
       "    </tr>\n",
       "  </thead>\n",
       "  <tbody>\n",
       "    <tr>\n",
       "      <th>0</th>\n",
       "      <td>0</td>\n",
       "      <td>13500</td>\n",
       "      <td>23.0</td>\n",
       "      <td>46986.0</td>\n",
       "      <td>Diesel</td>\n",
       "      <td>90.0</td>\n",
       "      <td>1.0</td>\n",
       "      <td>0</td>\n",
       "      <td>2000</td>\n",
       "      <td>three</td>\n",
       "      <td>1165</td>\n",
       "    </tr>\n",
       "    <tr>\n",
       "      <th>1</th>\n",
       "      <td>1</td>\n",
       "      <td>13750</td>\n",
       "      <td>23.0</td>\n",
       "      <td>72937.0</td>\n",
       "      <td>Diesel</td>\n",
       "      <td>90.0</td>\n",
       "      <td>1.0</td>\n",
       "      <td>0</td>\n",
       "      <td>2000</td>\n",
       "      <td>3</td>\n",
       "      <td>1165</td>\n",
       "    </tr>\n",
       "    <tr>\n",
       "      <th>2</th>\n",
       "      <td>2</td>\n",
       "      <td>13950</td>\n",
       "      <td>24.0</td>\n",
       "      <td>41711.0</td>\n",
       "      <td>Diesel</td>\n",
       "      <td>90.0</td>\n",
       "      <td>NaN</td>\n",
       "      <td>0</td>\n",
       "      <td>2000</td>\n",
       "      <td>3</td>\n",
       "      <td>1165</td>\n",
       "    </tr>\n",
       "    <tr>\n",
       "      <th>3</th>\n",
       "      <td>3</td>\n",
       "      <td>14950</td>\n",
       "      <td>26.0</td>\n",
       "      <td>48000.0</td>\n",
       "      <td>Diesel</td>\n",
       "      <td>90.0</td>\n",
       "      <td>0.0</td>\n",
       "      <td>0</td>\n",
       "      <td>2000</td>\n",
       "      <td>3</td>\n",
       "      <td>1165</td>\n",
       "    </tr>\n",
       "    <tr>\n",
       "      <th>4</th>\n",
       "      <td>4</td>\n",
       "      <td>13750</td>\n",
       "      <td>30.0</td>\n",
       "      <td>38500.0</td>\n",
       "      <td>Diesel</td>\n",
       "      <td>90.0</td>\n",
       "      <td>0.0</td>\n",
       "      <td>0</td>\n",
       "      <td>2000</td>\n",
       "      <td>3</td>\n",
       "      <td>1170</td>\n",
       "    </tr>\n",
       "    <tr>\n",
       "      <th>...</th>\n",
       "      <td>...</td>\n",
       "      <td>...</td>\n",
       "      <td>...</td>\n",
       "      <td>...</td>\n",
       "      <td>...</td>\n",
       "      <td>...</td>\n",
       "      <td>...</td>\n",
       "      <td>...</td>\n",
       "      <td>...</td>\n",
       "      <td>...</td>\n",
       "      <td>...</td>\n",
       "    </tr>\n",
       "    <tr>\n",
       "      <th>140</th>\n",
       "      <td>140</td>\n",
       "      <td>16450</td>\n",
       "      <td>20.0</td>\n",
       "      <td>22588.0</td>\n",
       "      <td>Petrol</td>\n",
       "      <td>97.0</td>\n",
       "      <td>1.0</td>\n",
       "      <td>0</td>\n",
       "      <td>1400</td>\n",
       "      <td>5</td>\n",
       "      <td>1110</td>\n",
       "    </tr>\n",
       "    <tr>\n",
       "      <th>141</th>\n",
       "      <td>141</td>\n",
       "      <td>23950</td>\n",
       "      <td>19.0</td>\n",
       "      <td>21684.0</td>\n",
       "      <td>Petrol</td>\n",
       "      <td>192.0</td>\n",
       "      <td>1.0</td>\n",
       "      <td>0</td>\n",
       "      <td>1800</td>\n",
       "      <td>5</td>\n",
       "      <td>1185</td>\n",
       "    </tr>\n",
       "    <tr>\n",
       "      <th>142</th>\n",
       "      <td>142</td>\n",
       "      <td>19950</td>\n",
       "      <td>13.0</td>\n",
       "      <td>21428.0</td>\n",
       "      <td>Petrol</td>\n",
       "      <td>110.0</td>\n",
       "      <td>1.0</td>\n",
       "      <td>0</td>\n",
       "      <td>1600</td>\n",
       "      <td>5</td>\n",
       "      <td>1130</td>\n",
       "    </tr>\n",
       "    <tr>\n",
       "      <th>143</th>\n",
       "      <td>143</td>\n",
       "      <td>18500</td>\n",
       "      <td>16.0</td>\n",
       "      <td>20629.0</td>\n",
       "      <td>Petrol</td>\n",
       "      <td>110.0</td>\n",
       "      <td>1.0</td>\n",
       "      <td>0</td>\n",
       "      <td>1600</td>\n",
       "      <td>4</td>\n",
       "      <td>1090</td>\n",
       "    </tr>\n",
       "    <tr>\n",
       "      <th>144</th>\n",
       "      <td>144</td>\n",
       "      <td>18950</td>\n",
       "      <td>15.0</td>\n",
       "      <td>20270.0</td>\n",
       "      <td>Petrol</td>\n",
       "      <td>110.0</td>\n",
       "      <td>NaN</td>\n",
       "      <td>0</td>\n",
       "      <td>1600</td>\n",
       "      <td>5</td>\n",
       "      <td>1130</td>\n",
       "    </tr>\n",
       "  </tbody>\n",
       "</table>\n",
       "<p>145 rows × 11 columns</p>\n",
       "</div>"
      ],
      "text/plain": [
       "    index  Price   Age       KM FuelType     HP  MetColor  Automatic    CC  \\\n",
       "0       0  13500  23.0  46986.0   Diesel   90.0       1.0          0  2000   \n",
       "1       1  13750  23.0  72937.0   Diesel   90.0       1.0          0  2000   \n",
       "2       2  13950  24.0  41711.0   Diesel   90.0       NaN          0  2000   \n",
       "3       3  14950  26.0  48000.0   Diesel   90.0       0.0          0  2000   \n",
       "4       4  13750  30.0  38500.0   Diesel   90.0       0.0          0  2000   \n",
       "..    ...    ...   ...      ...      ...    ...       ...        ...   ...   \n",
       "140   140  16450  20.0  22588.0   Petrol   97.0       1.0          0  1400   \n",
       "141   141  23950  19.0  21684.0   Petrol  192.0       1.0          0  1800   \n",
       "142   142  19950  13.0  21428.0   Petrol  110.0       1.0          0  1600   \n",
       "143   143  18500  16.0  20629.0   Petrol  110.0       1.0          0  1600   \n",
       "144   144  18950  15.0  20270.0   Petrol  110.0       NaN          0  1600   \n",
       "\n",
       "     Doors  Weight  \n",
       "0    three    1165  \n",
       "1        3    1165  \n",
       "2        3    1165  \n",
       "3        3    1165  \n",
       "4        3    1170  \n",
       "..     ...     ...  \n",
       "140      5    1110  \n",
       "141      5    1185  \n",
       "142      5    1130  \n",
       "143      4    1090  \n",
       "144      5    1130  \n",
       "\n",
       "[145 rows x 11 columns]"
      ]
     },
     "execution_count": 39,
     "metadata": {},
     "output_type": "execute_result"
    }
   ],
   "source": [
    "import os\n",
    "import numpy as np \n",
    "import pandas as pd\n",
    "\n",
    "print(os.curdir)\n",
    "os.chdir('C:\\\\Users\\\\Admin\\\\Pre-Requisite\\\\GITAA Training')\n",
    "print(os.curdir)\n",
    "\n",
    "\n",
    "df = pd.read_csv('Toyota.csv')\n",
    "df\n",
    "df.info()\n",
    "df.describe()\n",
    "\n",
    "df.head(10)\n",
    "df.tail(15)\n",
    "\n",
    "df['KM'].info()\n",
    "\n",
    "shallow_copy = df.copy(deep = 'false')\n",
    "deep_copy= df.copy()\n",
    "\n",
    "\n",
    "df['FuelType'].value_counts()\n",
    "\n",
    "print('-----------------------------Basic Ops-----------------------')\n",
    "df = pd.read_csv('Toyota.csv',index_col=0,na_values=['??','????'])\n",
    "\n",
    "print(df.ndim)\n",
    "print(df.shape)\n",
    "print(df.index)\n",
    "print(df.columns)\n",
    "print(df.head())\n",
    "print(df.tail())\n",
    "\n",
    "len(df)\n",
    "df.insert(0,column='index',value='0')\n",
    "df\n",
    "for i in range(len(df)):\n",
    "    df.iat[i, 0] = i\n",
    "df\n",
    "print('-----------------------------Dealing with new data frame-----------------------')\n",
    "print(df.ndim)\n",
    "print(df.shape)\n",
    "print(df.index)\n",
    "print(df.columns)\n",
    "print(df.head())\n",
    "print(df.tail())\n",
    "df.dtypes\n",
    "print(df.columns)\n",
    "\n",
    "df.select_dtypes(include='object')\n",
    "df.select_dtypes(include='float64')\n",
    "\n",
    "\n",
    "\n",
    "\n",
    "print('-----------selecting some data -----------------')\n",
    "df['MetColor'].replace('1.0', '25.0', inplace=True)\n",
    "df.head(145)\n"
   ]
  },
  {
   "cell_type": "markdown",
   "id": "60a99423",
   "metadata": {},
   "source": [
    "## Panda Practice"
   ]
  },
  {
   "cell_type": "code",
   "execution_count": 40,
   "id": "bf8c8f88",
   "metadata": {},
   "outputs": [
    {
     "name": "stdout",
     "output_type": "stream",
     "text": [
      "<class 'pandas.core.frame.DataFrame'>\n",
      "Int64Index: 251 entries, 1 to 251\n",
      "Data columns (total 11 columns):\n",
      " #   Column            Non-Null Count  Dtype \n",
      "---  ------            --------------  ----- \n",
      " 0   customerID        251 non-null    object\n",
      " 1   PhoneService      251 non-null    object\n",
      " 2   MultipleLines     251 non-null    object\n",
      " 3   InternetService   251 non-null    object\n",
      " 4   OnlineSecurity    251 non-null    object\n",
      " 5   OnlineBackup      251 non-null    object\n",
      " 6   DeviceProtection  251 non-null    object\n",
      " 7   TechSupport       251 non-null    object\n",
      " 8   StreamingTV       251 non-null    object\n",
      " 9   StreamingMovies   251 non-null    object\n",
      " 10  Churn             251 non-null    object\n",
      "dtypes: object(11)\n",
      "memory usage: 23.5+ KB\n"
     ]
    },
    {
     "data": {
      "text/html": [
       "<div>\n",
       "<style scoped>\n",
       "    .dataframe tbody tr th:only-of-type {\n",
       "        vertical-align: middle;\n",
       "    }\n",
       "\n",
       "    .dataframe tbody tr th {\n",
       "        vertical-align: top;\n",
       "    }\n",
       "\n",
       "    .dataframe thead th {\n",
       "        text-align: right;\n",
       "    }\n",
       "</style>\n",
       "<table border=\"1\" class=\"dataframe\">\n",
       "  <thead>\n",
       "    <tr style=\"text-align: right;\">\n",
       "      <th></th>\n",
       "      <th>customerID</th>\n",
       "      <th>PhoneService</th>\n",
       "      <th>MultipleLines</th>\n",
       "      <th>InternetService</th>\n",
       "      <th>OnlineSecurity</th>\n",
       "      <th>OnlineBackup</th>\n",
       "      <th>DeviceProtection</th>\n",
       "      <th>TechSupport</th>\n",
       "      <th>StreamingTV</th>\n",
       "      <th>StreamingMovies</th>\n",
       "      <th>Churn</th>\n",
       "    </tr>\n",
       "  </thead>\n",
       "  <tbody>\n",
       "    <tr>\n",
       "      <th>count</th>\n",
       "      <td>251</td>\n",
       "      <td>251</td>\n",
       "      <td>251</td>\n",
       "      <td>251</td>\n",
       "      <td>251</td>\n",
       "      <td>251</td>\n",
       "      <td>251</td>\n",
       "      <td>251</td>\n",
       "      <td>251</td>\n",
       "      <td>251</td>\n",
       "      <td>251</td>\n",
       "    </tr>\n",
       "    <tr>\n",
       "      <th>unique</th>\n",
       "      <td>250</td>\n",
       "      <td>2</td>\n",
       "      <td>3</td>\n",
       "      <td>3</td>\n",
       "      <td>3</td>\n",
       "      <td>3</td>\n",
       "      <td>3</td>\n",
       "      <td>3</td>\n",
       "      <td>3</td>\n",
       "      <td>3</td>\n",
       "      <td>2</td>\n",
       "    </tr>\n",
       "    <tr>\n",
       "      <th>top</th>\n",
       "      <td>9067-SQTNS</td>\n",
       "      <td>Yes</td>\n",
       "      <td>No</td>\n",
       "      <td>Fiber optic</td>\n",
       "      <td>No</td>\n",
       "      <td>Yes</td>\n",
       "      <td>No</td>\n",
       "      <td>No</td>\n",
       "      <td>Yes</td>\n",
       "      <td>No</td>\n",
       "      <td>No</td>\n",
       "    </tr>\n",
       "    <tr>\n",
       "      <th>freq</th>\n",
       "      <td>2</td>\n",
       "      <td>224</td>\n",
       "      <td>114</td>\n",
       "      <td>113</td>\n",
       "      <td>132</td>\n",
       "      <td>117</td>\n",
       "      <td>107</td>\n",
       "      <td>130</td>\n",
       "      <td>108</td>\n",
       "      <td>104</td>\n",
       "      <td>173</td>\n",
       "    </tr>\n",
       "  </tbody>\n",
       "</table>\n",
       "</div>"
      ],
      "text/plain": [
       "        customerID PhoneService MultipleLines InternetService OnlineSecurity  \\\n",
       "count          251          251           251             251            251   \n",
       "unique         250            2             3               3              3   \n",
       "top     9067-SQTNS          Yes            No     Fiber optic             No   \n",
       "freq             2          224           114             113            132   \n",
       "\n",
       "       OnlineBackup DeviceProtection TechSupport StreamingTV StreamingMovies  \\\n",
       "count           251              251         251         251             251   \n",
       "unique            3                3           3           3               3   \n",
       "top             Yes               No          No         Yes              No   \n",
       "freq            117              107         130         108             104   \n",
       "\n",
       "       Churn  \n",
       "count    251  \n",
       "unique     2  \n",
       "top       No  \n",
       "freq     173  "
      ]
     },
     "execution_count": 40,
     "metadata": {},
     "output_type": "execute_result"
    }
   ],
   "source": [
    "#Importing library\n",
    "import pandas as pd\n",
    "import numpy as np \n",
    "import matplotlib.pyplot as plt\n",
    "import seaborn as sns\n",
    "import os\n",
    "\n",
    "#importing the file from desktop\n",
    "#print(os.curdir)\n",
    "\n",
    "os.chdir('E:\\\\Document\\\\Pre-RequisitePrgrame\\\\GITAA Training\\\\Notes\\\\Week 2')\n",
    "df_serviceDetails = pd.read_csv('serviceDetails.csv',index_col= 0, na_values = ['?','??'])\n",
    "#df_serviceDetails.head()\n",
    "#df_serviceDetails.info()\n",
    "#df_serviceDetails.describe()\n",
    "#df_serviceDetails.tail()\n",
    "#print(df_serviceDetails.columns)\n",
    "len(np.unique(df_serviceDetails['customerID']))\n",
    "df_serviceDetails.nunique(axis=0)\n",
    "column = df_serviceDetails.columns\n",
    "#pd.crosstab(df_serviceDetails,columns=[column])\n",
    "#df_serviceDetails.head()\n",
    "#df_serviceDetails.insert(2,'Manually Inserted', df_serviceDetails['PhoneService'])\n",
    "#df_serviceDetails.head()\n",
    "#df_serviceDetails.drop(columns=['Manually Inserted'], axis=1)\n",
    "#df_serviceDetails.head()\n",
    "\n",
    "#df_serviceDetails.memory_usage()\n",
    "#df_serviceDetails.iloc[0:5, 2:9]\n",
    "#df_serviceDetails['OnlineBackup'].value_counts()\n",
    "\n",
    "df1 = df_serviceDetails.copy()\n",
    "df2 = df_serviceDetails.copy(deep='False')\n",
    "\n",
    "#print(df_serviceDetails.dtypes)\n",
    "#print(df_serviceDetails.select_dtypes(include=[object]))\n",
    "\n",
    "df_serviceDetails['OnlineBackup'].value_counts()\n",
    "\n",
    "df_serviceDetails.info()\n",
    "df_serviceDetails.describe()\n"
   ]
  },
  {
   "cell_type": "code",
   "execution_count": null,
   "id": "7eb75b73",
   "metadata": {},
   "outputs": [],
   "source": [
    "import pandas as pd\n",
    "import numpy as np \n",
    "\n",
    "df =pd.read_csv('Toyota.csv', index_col=0,na_values=['????', '??'])\n",
    "df.insert(10,'City','')\n",
    "#df.info()\n",
    "#df['Price'].dtype\n",
    "insertCity = (lambda x: 'Kolkata' if x%2==0 else 'Chennai')\n",
    "df['City'] = [insertCity(i) for i in df.index]\n",
    "\n",
    "#print(np.unique(df['MetColor']))\n",
    "\n",
    "#print(len(np.unique(df['Price'])))\n",
    "#print(df)\n",
    "insertMetColor = (lambda metcolor: 'TRUE' if df.at[metcolor,'MetColor'] == 1 else 'FALSE')\n",
    "df['MetColor'] = [insertMetColor(i) for i in df.index]\n",
    "\n",
    "\n",
    "df['Age'].fillna(round(df['Age'].mean(), 0), inplace=True)\n",
    "df.drop(columns='City', axis=1, inplace=True)\n",
    "np.unique(df['Doors'])\n",
    "#df.info()\n",
    "df['Doors'].replace(['five','four','three'],[5,4,3], inplace=True)\n",
    "df['Doors'].unique()\n",
    "df.info()\n",
    "df['Doors'] = df['Doors'].astype('int64')\n",
    "df.info()\n",
    "\n",
    "## Corelation\n",
    "\n",
    "df['FuelType'].fillna(df['FuelType'].mode, inplace=True)\n",
    "df\n"
   ]
  },
  {
   "cell_type": "markdown",
   "id": "a43f5d88",
   "metadata": {},
   "source": [
    "## Cross Tab in Panda"
   ]
  },
  {
   "cell_type": "code",
   "execution_count": 52,
   "id": "ac0f2e4a",
   "metadata": {},
   "outputs": [
    {
     "name": "stdout",
     "output_type": "stream",
     "text": [
      "   Price   Age       KM FuelType    HP  MetColor  Automatic    CC Doors  \\\n",
      "0  13500  23.0  46986.0   Diesel  90.0       1.0          0  2000     3   \n",
      "1  13750  23.0  72937.0   Diesel  90.0       1.0          0  2000     3   \n",
      "2  13950  24.0  41711.0   Diesel  90.0       NaN          0  2000     3   \n",
      "3  14950  26.0  48000.0   Diesel  90.0       0.0          0  2000     3   \n",
      "4  13750  30.0  38500.0   Diesel  90.0       0.0          0  2000     3   \n",
      "\n",
      "   Weight  \n",
      "0    1165  \n",
      "1    1165  \n",
      "2    1165  \n",
      "3    1165  \n",
      "4    1170  \n",
      "col_0     count\n",
      "FuelType       \n",
      "CNG          15\n",
      "Diesel      144\n",
      "Petrol     1177\n",
      "Doors     3  4  5  2    3    4    5\n",
      "FuelType                           \n",
      "CNG       0  0  0  0    5    2    8\n",
      "Diesel    1  0  0  1   59   12   71\n",
      "Petrol    0  1  1  1  516  106  552\n",
      "Doors            3         4         5         2         3         4         5\n",
      "FuelType                                                                      \n",
      "CNG       0.000000  0.000000  0.000000  0.000000  0.003743  0.001497  0.005988\n",
      "Diesel    0.000749  0.000000  0.000000  0.000749  0.044162  0.008982  0.053144\n",
      "Petrol    0.000000  0.000749  0.000749  0.000749  0.386228  0.079341  0.413174\n",
      "Doors            3         4         5         2         3         4  \\\n",
      "FuelType                                                               \n",
      "CNG       0.000000  0.000000  0.000000  0.000000  0.003743  0.001497   \n",
      "Diesel    0.000749  0.000000  0.000000  0.000749  0.044162  0.008982   \n",
      "Petrol    0.000000  0.000749  0.000749  0.000749  0.386228  0.079341   \n",
      "All       0.000749  0.000749  0.000749  0.001497  0.434132  0.089820   \n",
      "\n",
      "Doors            5       All  \n",
      "FuelType                      \n",
      "CNG       0.005988  0.011228  \n",
      "Diesel    0.053144  0.107784  \n",
      "Petrol    0.413174  0.880988  \n",
      "All       0.472305  1.000000  \n",
      "Doors            3         4         5         2         3         4         5\n",
      "FuelType                                                                      \n",
      "CNG       0.000000  0.000000  0.000000  0.000000  0.333333  0.133333  0.533333\n",
      "Diesel    0.006944  0.000000  0.000000  0.006944  0.409722  0.083333  0.493056\n",
      "Petrol    0.000000  0.000850  0.000850  0.000850  0.438403  0.090059  0.468989\n",
      "All       0.000749  0.000749  0.000749  0.001497  0.434132  0.089820  0.472305\n"
     ]
    }
   ],
   "source": [
    "import numpy as np \n",
    "import pandas as pd\n",
    "df = pd.read_csv('Toyota.csv', index_col=0,na_values=['????', '??'])\n",
    "df.head()\n",
    "df.tail()\n",
    "df.take([2, 3,1425])\n",
    "df.index\n",
    "df.columns\n",
    "df.describe(include=\"O\") # for categorical variable \n",
    "df.describe(include=\"all\") # for numerical variable \n",
    "df['Doors'].replace(['five','four','three'],[5,4,3], inplace=True)\n",
    "df['Doors'].replace({'five':5, 'four':4,'three':3}, inplace=True)\n",
    "print(df.head())\n",
    "df1 = pd.crosstab(index=df[\"FuelType\"], columns='count')\n",
    "print(df1.head())\n",
    "df2 = pd.crosstab(index=df[\"FuelType\"], columns=df['Doors'])\n",
    "print(df2.head())\n",
    "df_jointProbability = pd.crosstab(index=df[\"FuelType\"], columns=df['Doors'], normalize=True)\n",
    "print(df_jointProbability.head())\n",
    "df_marginalProbability = pd.crosstab(index=df[\"FuelType\"], columns=df['Doors'], normalize=True,margins=True)\n",
    "print(df_marginalProbability.head())\n",
    "df_conditionalProbability = pd.crosstab(index=df[\"FuelType\"], columns=df['Doors'], normalize='index',margins=True)\n",
    "print(df_conditionalProbability.head())"
   ]
  },
  {
   "cell_type": "markdown",
   "id": "7723e620",
   "metadata": {},
   "source": [
    "## More Practice in Numpy and Panda\n"
   ]
  },
  {
   "cell_type": "code",
   "execution_count": 105,
   "id": "077153ef",
   "metadata": {},
   "outputs": [
    {
     "name": "stdout",
     "output_type": "stream",
     "text": [
      "[1 2 3 4 5 6]\n",
      "<class 'numpy.ndarray'>\n",
      "1\n",
      "int32\n",
      "(6,)\n",
      "6\n",
      "[[ 0  2  4  6  8]\n",
      " [10 12 14 16 18]]\n",
      "<class 'numpy.ndarray'>\n",
      "2\n",
      "int32\n",
      "(2, 5)\n",
      "10\n",
      "[[0 0 0 0]\n",
      " [0 0 0 0]\n",
      " [0 0 0 0]]\n",
      "2\n",
      "(3, 4)\n",
      "12\n",
      "[0.   0.25 0.5  0.75 1.  ]\n",
      "<class 'numpy.ndarray'>\n",
      "float64\n",
      "5\n",
      "[0 0 0 0 1]\n",
      "int32\n",
      "[ 0  1  2  3  4  5  6  7  8  9 10 11 12 13 14 15 16 17 18 19 20 21 22 23\n",
      " 24 25 26 27 28 29 30 31 32 33 34 35 36 37]\n",
      "[ 0  1  2  3  4  5  6  7  8  9 10 11 12 13 14 15 16 17 18 19 20 21 22 23\n",
      " 24 25 26 27 28 29 30 31 32 33 34 35 36 37]\n",
      "[ 0  1  2  3  4  5  6  7  8  9 10 11 12 13 14 15 16 17 18 19 20 21 22 23\n",
      " 24 25 26 27 28 29 30 31 32 33 34 35 36 37]\n",
      "(11, 7)\n",
      "[[1 2 3]\n",
      " [4 5 6]\n",
      " [7 8 9]]\n",
      "(3, 3)\n",
      "[[10 14]\n",
      " [14 18]]\n",
      "[10 14 14 18]\n",
      "[[1 2 3]\n",
      " [4 5 6]\n",
      " [7 8 9]]\n",
      "[[10 11 12]\n",
      " [14 15 16]\n",
      " [17 18 19]]\n",
      "Stack\n",
      "[[[ 1  2  3]\n",
      "  [ 4  5  6]\n",
      "  [ 7  8  9]]\n",
      "\n",
      " [[10 11 12]\n",
      "  [14 15 16]\n",
      "  [17 18 19]]]\n",
      "[[[ 1  2  3]\n",
      "  [10 11 12]]\n",
      "\n",
      " [[ 4  5  6]\n",
      "  [14 15 16]]\n",
      "\n",
      " [[ 7  8  9]\n",
      "  [17 18 19]]]\n",
      "SpecialStack\n",
      "[[ 1  2  3 10 11 12]\n",
      " [ 4  5  6 14 15 16]\n",
      " [ 7  8  9 17 18 19]]\n",
      "[[ 1  2  3]\n",
      " [ 4  5  6]\n",
      " [ 7  8  9]\n",
      " [10 11 12]\n",
      " [14 15 16]\n",
      " [17 18 19]]\n",
      "SpecialSplit\n",
      "[array([[1, 2, 3],\n",
      "       [4, 5, 6],\n",
      "       [7, 8, 9]]), array([], shape=(3, 0), dtype=int32), array([[10, 11, 12],\n",
      "       [14, 15, 16],\n",
      "       [17, 18, 19]])]\n",
      "[array([[ 1,  2,  3, 10, 11, 12],\n",
      "       [ 4,  5,  6, 14, 15, 16],\n",
      "       [ 7,  8,  9, 17, 18, 19]]), array([], shape=(0, 6), dtype=int32), array([], shape=(0, 6), dtype=int32)]\n",
      "[ 3  6  9 12 15 18]\n",
      "----------------------Vector Operation-------------------------\n",
      "[ 5  6  7  8  9 10 11 12 13 14]\n",
      "9\n",
      "0\n",
      "4.5\n",
      "4.5\n",
      "0\n",
      "-----------------------Randon Function------------------------\n",
      "6\n",
      "[[-0.25195031  1.15257604  0.30903078 -1.80496494  1.39880327  1.53022462]\n",
      " [ 0.53452561 -0.02202418  1.41849795  0.21592932  1.49689045 -0.53408713]\n",
      " [ 2.7213967   0.70501489  1.75392577 -0.55777049  0.44208856  0.43457953]\n",
      " [ 0.14139795 -0.00606986  0.38056754  1.16451403 -0.15209357  1.51425617]\n",
      " [ 1.40230893 -0.69797372 -0.36149492 -0.23155264  0.9040309  -1.84792608]]\n",
      "97\n",
      "0.6618696702598502\n"
     ]
    },
    {
     "name": "stderr",
     "output_type": "stream",
     "text": [
      "C:\\Users\\Admin\\AppData\\Local\\Temp\\ipykernel_20420\\3416147572.py:110: DeprecationWarning: This function is deprecated. Please call randint(0, 100 + 1) instead\n",
      "  arr13 = np.random.random_integers(0,100)\n"
     ]
    }
   ],
   "source": [
    "#importing necessary libs0\n",
    "import numpy as np \n",
    "import pandas as pd\n",
    "import statistics as stat\n",
    "import matplotlib.pyplot as plt\n",
    "import seaborn as sns\n",
    "\n",
    "#To get the list of internal callable function for different data types\n",
    "#dir(str)\n",
    "#dir(float)\n",
    "#dir(bool)\n",
    "#dir(set)\n",
    "\n",
    "print('-------------------------------#NUMPY------------------------------')\n",
    "data1 = [1,2,3,4,5,6]\n",
    "arr1 = np.array(data1)\n",
    "print(arr1)\n",
    "print(type(arr1))\n",
    "print(arr1.ndim)\n",
    "print(arr1.dtype)\n",
    "print(arr1.shape)\n",
    "print(arr1.size)\n",
    "\n",
    "data2 = (np.arange(0,10,2), np.arange(10,20,2))\n",
    "data2\n",
    "arr2 = np.array(data2)\n",
    "print(arr2)\n",
    "print(type(arr2))\n",
    "print(arr2.ndim)\n",
    "print(arr2.dtype)\n",
    "print(arr2.shape)\n",
    "print(arr2.size)\n",
    "\n",
    "arr3 = np.zeros((3,4),dtype='int64')\n",
    "print(arr3)\n",
    "print(arr3.ndim)\n",
    "print(arr3.shape)\n",
    "print(arr3.size)\n",
    "\n",
    "arr4 = np.linspace(0,1,5)\n",
    "print(arr4)\n",
    "print(type(arr4))\n",
    "print(arr4.dtype)\n",
    "print(arr4.size)\n",
    "\n",
    "arr4_int = arr4.astype('int')\n",
    "print(arr4_int)\n",
    "print(arr4_int.dtype)\n",
    "\n",
    "\n",
    "arr5 = np.arange(np.random.randint(12, 120,dtype=int))\n",
    "print(arr5)\n",
    "x = np.array(arr5)\n",
    "print(x)\n",
    "print(x.T)\n",
    "\n",
    "arr6 = np.arange(0,77,1)\n",
    "\n",
    "arr_reshape = np.reshape(arr6,(11,7))\n",
    "\n",
    "print(arr_reshape.shape)\n",
    "\n",
    "arr7 = np.array(([1,2,3],[4,5,6],[7,8,9]))\n",
    "print(arr7)\n",
    "print(arr7.shape)\n",
    "\n",
    "arr7_part = arr7[1:,1:]\n",
    "arr7_part_T = arr7_part.T\n",
    "\n",
    "sum_arr = np.add(arr7_part, arr7_part_T)\n",
    "print(sum_arr)\n",
    "\n",
    "print(sum_arr.ravel())\n",
    "\n",
    "\n",
    "arr8 = np.array(([1,2,3],[4,5,6],[7,8,9]))\n",
    "arr9 = np.array(([10,11,12],[14,15,16],[17,18,19]))\n",
    "\n",
    "print(arr8, arr9, sep='\\n')\n",
    "\n",
    "arr_89_stack_axis0 = np.stack((arr8, arr9), axis=0)\n",
    "arr_89_stack_axis1 = np.stack((arr8, arr9), axis=1)\n",
    "print('Stack', arr_89_stack_axis0,arr_89_stack_axis1, sep='\\n')\n",
    "\n",
    "arr_89_stack_Hstack = np.hstack((arr8, arr9))\n",
    "arr_89_stack_Vstack = np.vstack((arr8, arr9))\n",
    "print('SpecialStack', arr_89_stack_Hstack,arr_89_stack_Vstack, sep='\\n')\n",
    "\n",
    "arr89_split_H = np.hsplit(arr_89_stack_Hstack,(3,3))\n",
    "arr89_split_V = np.vsplit(arr_89_stack_Hstack,(3,3))\n",
    "print('SpecialSplit', arr89_split_H,arr89_split_V, sep='\\n')\n",
    "\n",
    "print(arr_89_stack_axis0[arr_89_stack_axis0%3 ==0])\n",
    "\n",
    "print('----------------------Vector Operation-------------------------')\n",
    "\n",
    "arr10 = np.arange(10)\n",
    "print(arr10+5)\n",
    "print(np.max(arr10))\n",
    "print(np.min(arr10))\n",
    "print(np.mean(arr10))\n",
    "print(np.median(arr10))\n",
    "print(stat.mode(arr10))\n",
    "\n",
    "\n",
    "print('-----------------------Randon Function------------------------')\n",
    "np.random.seed()\n",
    "arr11 = np.random.randint(0,10, dtype='int')\n",
    "arr12 = np.random.randn(5,6)\n",
    "arr13 = np.random.random_integers(0,100)#depricated methods\n",
    "arr14 = np.random.sample()\n",
    "\n",
    "\n",
    "print(arr11,arr12,arr13,arr14, sep='\\n')"
   ]
  },
  {
   "cell_type": "code",
   "execution_count": 317,
   "id": "44b71da3",
   "metadata": {},
   "outputs": [
    {
     "name": "stdout",
     "output_type": "stream",
     "text": [
      "-------------------------------#PANDA------------------------------\n",
      "2\n",
      "Name      object\n",
      "Age        int64\n",
      "Gender    object\n",
      "Role      object\n",
      "dtype: object\n",
      "Index     128\n",
      "Name       24\n",
      "Age        24\n",
      "Gender     24\n",
      "Role       24\n",
      "dtype: int64\n",
      "Index(['Name', 'Age', 'Gender', 'Role'], dtype='object')\n",
      "RangeIndex(start=0, stop=3, step=1)\n",
      "<class 'pandas.core.frame.DataFrame'>\n",
      "RangeIndex: 3 entries, 0 to 2\n",
      "Data columns (total 4 columns):\n",
      " #   Column  Non-Null Count  Dtype \n",
      "---  ------  --------------  ----- \n",
      " 0   Name    3 non-null      object\n",
      " 1   Age     3 non-null      int64 \n",
      " 2   Gender  3 non-null      object\n",
      " 3   Role    3 non-null      object\n",
      "dtypes: int64(1), object(3)\n",
      "memory usage: 224.0+ bytes\n",
      "None\n",
      "             Age\n",
      "count   3.000000\n",
      "mean   29.000000\n",
      "std     5.196152\n",
      "min    23.000000\n",
      "25%    27.500000\n",
      "50%    32.000000\n",
      "75%    32.000000\n",
      "max    32.000000\n",
      "M    2\n",
      "F    1\n",
      "Name: Gender, dtype: int64\n",
      "----------------Descriptive Statistics---------------------------------------\n",
      "-----------------CNG-------------------\n",
      "      Price   Age        KM FuelType     HP  MetColor  Automatic    CC Doors  \\\n",
      "189    7750  43.0  178858.0      CNG  110.0       0.0          0  1600     3   \n",
      "199   11950   NaN   98823.0      CNG  110.0       1.0          0  1600     5   \n",
      "209   11950  37.0   82743.0      CNG  110.0       1.0          0  1600     5   \n",
      "223   14950  44.0   71793.0      CNG  110.0       NaN          0  1600     4   \n",
      "296   12950  44.0   41499.0      CNG  110.0       1.0          0  1600     5   \n",
      "383    8500  55.0  150000.0      CNG  110.0       1.0          0  1600     3   \n",
      "387    9250  48.0  142130.0      CNG  110.0       0.0          0  1600     5   \n",
      "436   11500  47.0   78785.0      CNG  110.0       1.0          0  1600     5   \n",
      "622    8950  59.0  137050.0      CNG  110.0       1.0          0  1600     3   \n",
      "624    7950  67.0  135337.0      CNG  110.0       1.0          0  1600     5   \n",
      "650    9450  60.0  115191.0      CNG  110.0       NaN          0  1600     4   \n",
      "652    9450  63.0  115000.0      CNG  110.0       0.0          0  1600     3   \n",
      "1047   5250  79.0  207114.0      CNG  110.0       1.0          0  1600     5   \n",
      "1072   6450  71.0  151000.0      CNG  110.0       1.0          0  1600     5   \n",
      "1122   7460  80.0  111392.0      CNG  110.0       0.0          0  1598     3   \n",
      "\n",
      "      Weight  \n",
      "189     1084  \n",
      "199     1119  \n",
      "209     1121  \n",
      "223     1067  \n",
      "296     1103  \n",
      "383     1075  \n",
      "387     1119  \n",
      "436     1119  \n",
      "622     1078  \n",
      "624     1120  \n",
      "650     1079  \n",
      "652     1109  \n",
      "1047    1114  \n",
      "1072    1094  \n",
      "1122    1083  \n",
      "-----------------Diesel-------------------\n",
      "      Price   Age       KM FuelType    HP  MetColor  Automatic    CC  Doors  \\\n",
      "0     13500  23.0  46986.0   Diesel  90.0       1.0          0  2000  three   \n",
      "1     13750  23.0  72937.0   Diesel  90.0       1.0          0  2000      3   \n",
      "2     13950  24.0  41711.0   Diesel  90.0       NaN          0  2000      3   \n",
      "3     14950  26.0  48000.0   Diesel  90.0       0.0          0  2000      3   \n",
      "4     13750  30.0  38500.0   Diesel  90.0       0.0          0  2000      3   \n",
      "...     ...   ...      ...      ...   ...       ...        ...   ...    ...   \n",
      "1195   8750  74.0  89800.0   Diesel  72.0       1.0          0  2000      3   \n",
      "1202   6950  73.0  88186.0   Diesel  72.0       1.0          0  2000      3   \n",
      "1216   8500  70.0  85864.0   Diesel  72.0       1.0          0  2000      5   \n",
      "1320   9400  69.0  67092.0   Diesel  72.0       NaN          0  2000      3   \n",
      "1330   8950  71.0  65021.0   Diesel  72.0       NaN          0  2000      3   \n",
      "\n",
      "      Weight  \n",
      "0       1165  \n",
      "1       1165  \n",
      "2       1165  \n",
      "3       1165  \n",
      "4       1170  \n",
      "...      ...  \n",
      "1195    1115  \n",
      "1202    1115  \n",
      "1216    1135  \n",
      "1320    1115  \n",
      "1330    1115  \n",
      "\n",
      "[144 rows x 10 columns]\n",
      "-----------------Petrol-------------------\n",
      "      Price   Age       KM FuelType     HP  MetColor  Automatic    CC Doors  \\\n",
      "8     21500  27.0  19700.0   Petrol  192.0       0.0          0  1800     3   \n",
      "10    20950  25.0  31461.0   Petrol  192.0       0.0          0  1800     3   \n",
      "11    19950  22.0  43610.0   Petrol  192.0       0.0          0  1800     3   \n",
      "12    19600  25.0  32189.0   Petrol  192.0       0.0          0  1800     3   \n",
      "13    21500  31.0  23000.0   Petrol  192.0       1.0          0  1800     3   \n",
      "...     ...   ...      ...      ...    ...       ...        ...   ...   ...   \n",
      "1430   8450  80.0  23000.0   Petrol   86.0       0.0          0  1300     3   \n",
      "1431   7500   NaN  20544.0   Petrol   86.0       1.0          0  1300     3   \n",
      "1432  10845  72.0      NaN   Petrol   86.0       0.0          0  1300     3   \n",
      "1433   8500   NaN  17016.0   Petrol   86.0       0.0          0  1300     3   \n",
      "1435   6950  76.0      1.0   Petrol  110.0       0.0          0  1600     5   \n",
      "\n",
      "      Weight  \n",
      "8       1185  \n",
      "10      1185  \n",
      "11      1185  \n",
      "12      1185  \n",
      "13      1185  \n",
      "...      ...  \n",
      "1430    1015  \n",
      "1431    1025  \n",
      "1432    1015  \n",
      "1433    1015  \n",
      "1435    1114  \n",
      "\n",
      "[1177 rows x 10 columns]\n"
     ]
    },
    {
     "name": "stderr",
     "output_type": "stream",
     "text": [
      "C:\\Users\\Admin\\AppData\\Local\\Temp\\ipykernel_20420\\4150296163.py:37: FutureWarning: The frame.append method is deprecated and will be removed from pandas in a future version. Use pandas.concat instead.\n",
      "  final = df_new.append(df_new_val)\n"
     ]
    }
   ],
   "source": [
    "import numpy as np \n",
    "import pandas as pd \n",
    "import matplotlib.pyplot as plt\n",
    "import seaborn as sns\n",
    "import os\n",
    "\n",
    "print('-------------------------------#PANDA------------------------------')\n",
    "s1 = pd.Series([1,2,3,1,4,56,7,8,9])\n",
    "#print(s1)\n",
    "#print(s1.dtype)\n",
    "#print(s1.ndim)\n",
    "#print(s1[2])\n",
    "\n",
    "\n",
    "columns = ['name', 'age', 'gender', 'job']\n",
    "user1 = pd.DataFrame([['alice', 19, \"F\", \"student\"],['john', 26, \"M\", \"student\"]], columns=columns)\n",
    "user2 = pd.DataFrame([['eric', 22, \"M\", \"student\"],['paul', 58, \"F\", \"manager\"]], columns=columns)\n",
    "user3 = pd.DataFrame(dict(name=['peter', 'julie'],age=[33, 44], gender=['M', 'F'], job=['engineer', 'scientist']))\n",
    "\n",
    "final_user = pd.concat([user1, user2, user3])\n",
    "#print(final_user)\n",
    "#print(final_user.dtypes)\n",
    "#print(final_user.iloc[2,0:2])\n",
    "\n",
    "index = [0,1]\n",
    "ser_name = ['Aloy', 'Moumita']\n",
    "ser_age = [32,32]\n",
    "ser_Gneder = ['M','F']\n",
    "ser_Role = ['Software Developer', 'Software Developer']\n",
    "col_ser = ['Name','Age','Gender','Role']\n",
    "df_new = pd.DataFrame({'Name' : ser_name, 'Age' : ser_age, 'Gender' : ser_Gneder, 'Role' : ser_Role})\n",
    "\n",
    "df_new_val = pd.DataFrame({'Name': ['Another Value'],'Age' : [23], 'Gender' :  ['M'] , 'Role' : ['Another Role']})\n",
    "#print(df_new_val)\n",
    "df_new.head()\n",
    "df_new_val.head()\n",
    "final = df_new.append(df_new_val)\n",
    "final_concat = pd.concat([df_new,df_new_val], axis=0, ignore_index=True)\n",
    "final_concat.head(2)\n",
    "final_concat.tail(1)\n",
    "\n",
    "print(final_concat.ndim)\n",
    "print(final_concat.dtypes)\n",
    "print(final_concat.memory_usage())\n",
    "print(final_concat.columns)\n",
    "print(final_concat.index)\n",
    "print(final_concat.info())\n",
    "print(final_concat.describe())\n",
    "print(final_concat['Gender'].value_counts())\n",
    "\n",
    "final_concat.rename(columns={'Role':'Roles & Responsibility'})\n",
    "\n",
    "final_concat.insert(4, 'NewCol', 'Test Col')\n",
    "final_concat.head()\n",
    "final_concat.drop(columns='NewCol', inplace=True)\n",
    "final_concat.head()\n",
    "final_concat[final_concat['Gender'] == 'F']\n",
    "final_concat[final_concat.Gender == 'F']\n",
    "final_concat[final_concat.Age > 31]\n",
    "\n",
    "print('----------------Descriptive Statistics---------------------------------------')\n",
    "\n",
    "\n",
    "os.chdir('C:\\\\Users\\\\Admin\\\\Pre-Requisite\\\\GITAA Training')\n",
    "\n",
    "df_toyota = pd.read_csv('Toyota.csv', index_col=0, na_values=['??', '????'])\n",
    "df_toyota.head()\n",
    "df_toyota.tail()\n",
    "\n",
    "#print(df_toyota.info())\n",
    "#print(df_toyota.describe())\n",
    "#print(df_toyota.groupby(['KM','HP']).mean())\n",
    "\n",
    "for grp, data in df_toyota.groupby('FuelType'):\n",
    "    print(f'-----------------{grp}-------------------')\n",
    "    print(data)\n",
    "    \n",
    "\n",
    "\n",
    "\n"
   ]
  },
  {
   "cell_type": "code",
   "execution_count": 372,
   "id": "d2f06e40",
   "metadata": {},
   "outputs": [
    {
     "data": {
      "text/plain": [
       "250"
      ]
     },
     "execution_count": 372,
     "metadata": {},
     "output_type": "execute_result"
    }
   ],
   "source": [
    "df_Qcheck = pd.read_csv('demoDetails.csv', index_col=0, na_values=['??','????'])    \n",
    "df_Qcheck.head()\n",
    "#print(df_Qcheck.size)\n",
    "\n",
    "\n",
    "\n",
    "df_Qcheck['customerID'].nunique()\n",
    "\n",
    "pd.crosstab(df_Qcheck['customerID'], columns='count')\n",
    "\n",
    "\n",
    "\n",
    "df_Qcheck['customerID'].value_counts()\n",
    "\n",
    "df_Qcheck.duplicated('customerID')\n",
    "\n",
    "df_Qcheck.drop_duplicates(['customerID'], keep='first', inplace=True)\n",
    "\n",
    "\n",
    "\n",
    "df_Qcheck.isnull().sum()\n",
    "\n",
    "median = df_Qcheck['SeniorCitizen'].median()\n",
    "\n",
    "\n",
    "df_Qcheck['SeniorCitizen'] = df_Qcheck['SeniorCitizen'].fillna(median)\n",
    "df_Qcheck.isnull().sum()\n",
    "df_Qcheck.describe()\n",
    "\n",
    "df_Qcheck['SeniorCitizen'] = df_Qcheck['SeniorCitizen'].apply(lambda x: True if x==1 else False)\n",
    "\n",
    "df_Qcheck.head()\n",
    "\n",
    "\n",
    "df_Qcheck['SeniorCitizen'].notnull().sum()"
   ]
  },
  {
   "cell_type": "markdown",
   "id": "4d3758f0",
   "metadata": {},
   "source": [
    "## Data Visualization\n",
    "### Matplotlib & Seaborn"
   ]
  },
  {
   "cell_type": "code",
   "execution_count": null,
   "id": "9431ce18",
   "metadata": {},
   "outputs": [],
   "source": [
    "import numpy as np \n",
    "import pandas as pd\n",
    "import matplotlib.pyplot as plt\n",
    "import seaborn as sns\n",
    "\n",
    "df_udemy = pd.read_csv('C:\\\\Users\\\\Admin\\\\Pre-Requisite\\\\GITAA Training\\\\Piece_Dim.csv', index_col='Item_No')\n",
    "df_udemy.head()\n",
    "df_udemy_op1 = df_udemy[df_udemy['Operator'] == 'Op-1']\n",
    "df_udemy_op2 = df_udemy[df_udemy['Operator'] == 'Op-2']\n",
    "df_udemy_op1.describe()\n",
    "\n",
    "df_udemy.isnull().sum()\n",
    "\n",
    "df_udemy.nunique()\n",
    "\n",
    "df_udemy.value_counts()\n",
    "\n",
    "df_udemy.describe()\n",
    "\n",
    "\n",
    "plt.hist(df_udemy['Length'],bins=10, color='purple')\n",
    "plt.xlabel(\"Length in mm\")\n",
    "plt.ylabel(\"Count\")\n",
    "plt.title(\"Histogram of piece length\")\n",
    "plt.show()\n",
    "\n",
    "\n",
    "plt.boxplot(df_udemy['Length'],notch=True)\n",
    "plt.show()\n",
    "\n",
    "\n",
    "\n",
    "plt.boxplot([df_udemy['Length'],df_udemy['Width']], notch=True)\n",
    "\n",
    "plt.plot([df_udemy['Length'], df_udemy['Width']])"
   ]
  },
  {
   "cell_type": "code",
   "execution_count": 1,
   "id": "65df0873",
   "metadata": {},
   "outputs": [],
   "source": [
    "import numpy as np \n",
    "import pandas as pd\n",
    "import matplotlib.pyplot as plt\n",
    "import seaborn as sns\n",
    "from scipy.stats import pearsonr\n",
    "import os\n",
    "\n",
    "\n",
    "df = pd.read_csv('C:\\\\Users\\\\Admin\\\\Pre-Requisite\\\\GITAA Training\\\\Toyota.csv',index_col=0, na_values=['??','???'])\n",
    "#df1 = pd.read_excel('C:\\\\Users\\\\Admin\\\\Pre-Requisite\\\\GITAA Training\\\\Piece_Dim.csv', sheet_name='Piece_Dim')\n",
    "#os.chdir('E:\\\\Document\\\\Pre-RequisitePrgrame\\\\GITAA Training\\\\Notes\\\\Week 2')\n",
    "#df_serviceDetails = pd.read_csv('serviceDetails.csv',index_col= 0)\n",
    "df.dropna(axis=1, inplace=True)\n",
    "#corr,_ = pearsonr(df['Age'],df['Price'])\n",
    "#print(corr)\n",
    "#df.isnull().sum(axis=0)\n",
    "\n",
    "\n",
    "#df1.head()\n",
    "#df1.dropna(axis=0, )\n",
    "#print(df.columns)\n",
    "#print(list(df.columns.values))\n",
    "#for col in df.columns:\n",
    "    #print(col)\n",
    "#Histogram plot - For continous variable with numeric value\n",
    "\n",
    "#print (np.nan + 2)\n"
   ]
  },
  {
   "cell_type": "code",
   "execution_count": 4,
   "id": "f5f28b6d",
   "metadata": {},
   "outputs": [
    {
     "name": "stdout",
     "output_type": "stream",
     "text": [
      "<class 'float'>\n"
     ]
    },
    {
     "data": {
      "text/plain": [
       "13.382262921757558"
      ]
     },
     "execution_count": 4,
     "metadata": {},
     "output_type": "execute_result"
    }
   ],
   "source": [
    "import re\n",
    "import random \n",
    "pattern = re.compile(r'13*')\n",
    "\n",
    "print(type(np.nan))\n",
    "random.uniform(10,20)"
   ]
  },
  {
   "cell_type": "markdown",
   "id": "3a6c5ebd",
   "metadata": {},
   "source": [
    "# Exam Practice"
   ]
  },
  {
   "cell_type": "code",
   "execution_count": 64,
   "id": "8714a26a",
   "metadata": {},
   "outputs": [
    {
     "name": "stdout",
     "output_type": "stream",
     "text": [
      "0.5199388058383725\n",
      "-1.6448536269514729\n",
      "1.6448536269514722\n",
      "0.254059056469189\n"
     ]
    }
   ],
   "source": [
    "import scipy\n",
    "print(scipy.stats.norm.cdf(0.05))\n",
    "print(scipy.stats.norm.ppf(0.05))\n",
    "print(scipy.stats.norm.ppf(0.95))\n",
    "print(scipy.stats.norm.pdf(0.95))"
   ]
  },
  {
   "cell_type": "code",
   "execution_count": 77,
   "id": "87819a13",
   "metadata": {},
   "outputs": [
    {
     "name": "stdout",
     "output_type": "stream",
     "text": [
      "           TotalBill      Tips      Size\n",
      "TotalBill   1.000000  0.764716  0.587403\n",
      "Tips        0.764716  1.000000  0.448241\n",
      "Size        0.587403  0.448241  1.000000\n",
      "45.2\n"
     ]
    }
   ],
   "source": [
    "import numpy as np\n",
    "import pandas as pd\n",
    "import scipy.stats as stat\n",
    "\n",
    "dfTips = pd.read_csv('C:\\\\Users\\\\Admin\\\\Pre-Requisite\\\\GITAA Training\\\\Tips.csv',index_col=0)\n",
    "dfTips.head()\n",
    "dfTips.describe()\n",
    "#dfTips['Smoker'].isna().sum()\n",
    "\n",
    "print(dfTips.corr())\n",
    "\n",
    "#print(np.max(dfTips['TotalBill'])-np.min(dfTips['TotalBill']))"
   ]
  },
  {
   "cell_type": "markdown",
   "id": "542f1dd3",
   "metadata": {
    "scrolled": true
   },
   "source": [
    "# Practice Scipy"
   ]
  },
  {
   "cell_type": "code",
   "execution_count": 3,
   "id": "a9de20af",
   "metadata": {},
   "outputs": [
    {
     "name": "stdout",
     "output_type": "stream",
     "text": [
      "144\n",
      "1728\n"
     ]
    }
   ],
   "source": [
    "import numpy as np\n",
    "import scipy as sc\n",
    "\n",
    "x = 12\n",
    "squareX = np.square(x)\n",
    "print(squareX)\n",
    "cubeX = np.power(x,3)\n",
    "print(cubeX)\n",
    "theta = 30\n",
    "\n"
   ]
  },
  {
   "cell_type": "markdown",
   "id": "8a7737ac",
   "metadata": {},
   "source": [
    "# Hypthesis Testing\n"
   ]
  },
  {
   "cell_type": "markdown",
   "id": "5338ab7c",
   "metadata": {},
   "source": [
    "One Sample Test :\n",
    "1. One Sample Z Test\n",
    "2. One Sample T Test\n",
    "3. One Sample Poportion Test\n",
    "4. One Sample Variance Test\n",
    "\n",
    "Two Sample Test :\n",
    "1. Two Sample Z Test\n",
    "2. Two Sample T Test\n",
    "3. Two Sample Porportion Test\n",
    "4. Two Sample Variance Test\n",
    "4. Paired T Test (Before and After condition)\n",
    "\n",
    "More Than 2 Sample :\n",
    "1. Annova"
   ]
  },
  {
   "cell_type": "markdown",
   "id": "ccaf2fbb",
   "metadata": {},
   "source": [
    "# Week 3 Exam"
   ]
  },
  {
   "cell_type": "code",
   "execution_count": 3,
   "id": "8e1660c1",
   "metadata": {},
   "outputs": [
    {
     "name": "stdout",
     "output_type": "stream",
     "text": [
      "66.0\n",
      "3.0\n",
      "Ttest_1sampResult(statistic=2.0, pvalue=0.07655282377070093)\n"
     ]
    }
   ],
   "source": [
    "import numpy as np \n",
    "import pandas as pd\n",
    "import matplotlib.pyplot as ply\n",
    "import seaborn as sns\n",
    "import scipy.stats as stats\n",
    "from statsmodels.stats import weightstats\n",
    "from statsmodels.stats import proportion\n",
    "from scipy.stats import f\n",
    "\n",
    "students_weight = [70,67,62,68,61,68,70,64,64,66]\n",
    "student_weight_mean_given = 64\n",
    "student_weight_mean_cal = np.mean(students_weight)\n",
    "print(student_weight_mean_cal)\n",
    "sd = np.std(students_weight)\n",
    "print(sd)\n",
    "\n",
    "\n",
    "t_cal = stats.ttest_1samp(students_weight,student_weight_mean_given)\n",
    "print(t_cal)"
   ]
  },
  {
   "cell_type": "code",
   "execution_count": 3,
   "id": "aed50a61",
   "metadata": {},
   "outputs": [
    {
     "name": "stdout",
     "output_type": "stream",
     "text": [
      "(-1.0495208144101036, 0.2939384805955664)\n"
     ]
    }
   ],
   "source": [
    "#import Tyre\n",
    "\n",
    "df_Tyre = pd.read_csv('C:\\\\Users\\\\Admin\\\\Pre-Requisite\\\\GITAA Training\\\\Tyres.csv')\n",
    "#df_Tyre.head()\n",
    "#df_Tyre.info()\n",
    "#df_Tyre.describe()\n",
    "\n",
    "z_cal = weightstats.ztest(df_Tyre['Diameter'],value=600, alternative='two-sided')\n",
    "print(z_cal)"
   ]
  },
  {
   "cell_type": "code",
   "execution_count": 4,
   "id": "7a216aa7",
   "metadata": {},
   "outputs": [
    {
     "data": {
      "text/plain": [
       "-1.9599279716222244"
      ]
     },
     "execution_count": 4,
     "metadata": {},
     "output_type": "execute_result"
    }
   ],
   "source": [
    "a=stats.norm.cdf(x=1.96,loc = 0,scale= 1) -(0.95)\n",
    "\n",
    "stats.norm.ppf(a)"
   ]
  },
  {
   "cell_type": "code",
   "execution_count": 5,
   "id": "de88df43",
   "metadata": {},
   "outputs": [
    {
     "data": {
      "text/plain": [
       "0.9750021048517795"
      ]
     },
     "execution_count": 5,
     "metadata": {},
     "output_type": "execute_result"
    }
   ],
   "source": [
    "stats.norm.cdf(x=1.96, loc = 0,scale= 1)"
   ]
  },
  {
   "cell_type": "code",
   "execution_count": 6,
   "id": "e24386e8",
   "metadata": {},
   "outputs": [
    {
     "name": "stdout",
     "output_type": "stream",
     "text": [
      "0.024997895148220484\n",
      "0.06680720126885807\n",
      "0.09180509641707855\n",
      "0.9081949035829214\n"
     ]
    }
   ],
   "source": [
    "print(1 - stats.norm.cdf(1.96))\n",
    "print(stats.norm.cdf(-1.5))\n",
    "\n",
    "print((1 - stats.norm.cdf(1.96)) + stats.norm.cdf(-1.5))\n",
    "\n",
    "print(1 - ((1 - stats.norm.cdf(1.96)) + stats.norm.cdf(-1.5)))"
   ]
  },
  {
   "cell_type": "code",
   "execution_count": 7,
   "id": "0c3d6b6b",
   "metadata": {},
   "outputs": [
    {
     "name": "stdout",
     "output_type": "stream",
     "text": [
      "0.31731050786291415\n"
     ]
    }
   ],
   "source": [
    "left = stats.norm.cdf(-1)\n",
    "right = 1 - stats.norm.cdf(1)\n",
    "\n",
    "print(left + right)"
   ]
  },
  {
   "cell_type": "markdown",
   "id": "7b5a7390",
   "metadata": {},
   "source": [
    "# Linear Algebra"
   ]
  },
  {
   "cell_type": "code",
   "execution_count": 13,
   "id": "c984990c",
   "metadata": {},
   "outputs": [
    {
     "data": {
      "image/png": "[encoded data removed]",
      "text/plain": [
       "<Figure size 432x288 with 1 Axes>"
      ]
     },
     "metadata": {
      "needs_background": "light"
     },
     "output_type": "display_data"
    }
   ],
   "source": [
    "import numpy as np \n",
    "import matplotlib.pyplot as plt\n",
    "import seaborn as sns\n",
    "\n",
    "time_series = np.linspace(0,50,1000)\n",
    "\n",
    "d_rob = 2.5*time_series\n",
    "d_sheriff = 3*(time_series-5)\n",
    "\n",
    "fig, ax = plt.subplots()\n",
    "\n",
    "ax.plot(d_rob,time_series)\n",
    "ax.plot(d_sheriff,time_series)\n",
    "plt.show()"
   ]
  },
  {
   "cell_type": "code",
   "execution_count": 17,
   "id": "34fcaed5",
   "metadata": {},
   "outputs": [
    {
     "data": {
      "image/png": "[encoded data removed]",
      "text/plain": [
       "<Figure size 432x288 with 1 Axes>"
      ]
     },
     "metadata": {
      "needs_background": "light"
     },
     "output_type": "display_data"
    }
   ],
   "source": [
    "time_series_solar = np.linspace(0, 80, 1000)\n",
    "\n",
    "p_Mark1 = time_series_solar\n",
    "p_Mark2 = 4*(time_series_solar - 30)\n",
    "\n",
    "\n",
    "fig,ax = plt.subplots()\n",
    "\n",
    "ax.plot(p_Mark1, time_series_solar, c='blue')\n",
    "ax.plot(p_Mark2, time_series_solar, c='green')\n",
    "\n",
    "plt.show()"
   ]
  },
  {
   "cell_type": "code",
   "execution_count": 27,
   "id": "fe63fcd0",
   "metadata": {},
   "outputs": [
    {
     "data": {
      "text/plain": [
       "torch.Size([])"
      ]
     },
     "execution_count": 27,
     "metadata": {},
     "output_type": "execute_result"
    }
   ],
   "source": [
    "import torch as t \n",
    "\n",
    "#define tensor\n",
    "tensor = t.tensor(25)\n",
    "type(tensor)\n",
    "#tensor.dtype\n",
    "#tensor.ndim\n",
    "#tensor.shape"
   ]
  },
  {
   "cell_type": "code",
   "execution_count": 47,
   "id": "a2dd7ef6",
   "metadata": {},
   "outputs": [
    {
     "name": "stdout",
     "output_type": "stream",
     "text": [
      "[1 2 3]\n",
      "1\n",
      "[1 2 3]\n",
      "(3,)\n",
      "(1, 3)\n",
      "[[1]\n",
      " [2]\n",
      " [3]]\n",
      "(3, 1)\n"
     ]
    }
   ],
   "source": [
    "#Vector creation using numpy\n",
    "# For one dimenstional vector there is no impact on the transpose method\n",
    "X = np.array([1,2,3])\n",
    "print(X)\n",
    "print(X.ndim)\n",
    "X_T = X.T\n",
    "X_T_1 = np.transpose(X)\n",
    "print(X_T_1)\n",
    "print(X_T_1.shape)\n",
    "\n",
    "# for 2 dimenstional vector it has impact\n",
    "\n",
    "X_2 = np.array([[1,2,3]])\n",
    "print(X_2.shape)\n",
    "X_2_T = X_2.T\n",
    "print(X_2_T)\n",
    "print(X_2_T.shape)"
   ]
  },
  {
   "cell_type": "code",
   "execution_count": 105,
   "id": "0bc1c4e8",
   "metadata": {},
   "outputs": [
    {
     "name": "stdout",
     "output_type": "stream",
     "text": [
      "25.573423705088842\n",
      "32.0\n",
      "25.070733018198208\n"
     ]
    }
   ],
   "source": [
    "# Norm\n",
    "#L2 Norm \n",
    "\n",
    "import numpy as np\n",
    "\n",
    "a = np.array([25,2,5])\n",
    "\n",
    "L2_Norm  = np.linalg.norm(a)\n",
    "print(L2_Norm)\n",
    "\n",
    "#L1 Norm\n",
    "\n",
    "L1_Norm = np.linalg.norm(a, ord = 1)\n",
    "print(L1_Norm)\n",
    "L3_Norm = np.linalg.norm(a,ord = 3)\n",
    "print(L3_Norm)"
   ]
  },
  {
   "cell_type": "code",
   "execution_count": 57,
   "id": "d57c6c00",
   "metadata": {},
   "outputs": [
    {
     "name": "stdout",
     "output_type": "stream",
     "text": [
      "[[[[0. 0. 0. 0. 0. 0. 0. 0.]\n",
      "   [0. 0. 0. 0. 0. 0. 0. 0.]\n",
      "   [0. 0. 0. 0. 0. 0. 0. 0.]\n",
      "   [0. 0. 0. 0. 0. 0. 0. 0.]]\n",
      "\n",
      "  [[0. 0. 0. 0. 0. 0. 0. 0.]\n",
      "   [0. 0. 0. 0. 0. 0. 0. 0.]\n",
      "   [0. 0. 0. 0. 0. 0. 0. 0.]\n",
      "   [0. 0. 0. 0. 0. 0. 0. 0.]]\n",
      "\n",
      "  [[0. 0. 0. 0. 0. 0. 0. 0.]\n",
      "   [0. 0. 0. 0. 0. 0. 0. 0.]\n",
      "   [0. 0. 0. 0. 0. 0. 0. 0.]\n",
      "   [0. 0. 0. 0. 0. 0. 0. 0.]]]\n",
      "\n",
      "\n",
      " [[[0. 0. 0. 0. 0. 0. 0. 0.]\n",
      "   [0. 0. 0. 0. 0. 0. 0. 0.]\n",
      "   [0. 0. 0. 0. 0. 0. 0. 0.]\n",
      "   [0. 0. 0. 0. 0. 0. 0. 0.]]\n",
      "\n",
      "  [[0. 0. 0. 0. 0. 0. 0. 0.]\n",
      "   [0. 0. 0. 0. 0. 0. 0. 0.]\n",
      "   [0. 0. 0. 0. 0. 0. 0. 0.]\n",
      "   [0. 0. 0. 0. 0. 0. 0. 0.]]\n",
      "\n",
      "  [[0. 0. 0. 0. 0. 0. 0. 0.]\n",
      "   [0. 0. 0. 0. 0. 0. 0. 0.]\n",
      "   [0. 0. 0. 0. 0. 0. 0. 0.]\n",
      "   [0. 0. 0. 0. 0. 0. 0. 0.]]]]\n"
     ]
    }
   ],
   "source": [
    " y = np.zeros((2, 3, 4,8))\n",
    " print(y)"
   ]
  },
  {
   "cell_type": "code",
   "execution_count": 75,
   "id": "87b81502",
   "metadata": {},
   "outputs": [
    {
     "name": "stdout",
     "output_type": "stream",
     "text": [
      "[[1 2 3 4]] [[1 2 3 4]]\n",
      "[[ 42   4   7  99]\n",
      " [-99  -3  17  22]]\n",
      "2\n",
      "17\n"
     ]
    }
   ],
   "source": [
    "#Excercise 1 \n",
    "\n",
    "v1 = np.array(([1],[2],[3],[4]))\n",
    "v1\n",
    "V1_T = np.transpose(v1)\n",
    "V1_T_Alt = v1.T\n",
    "\n",
    "print(V1_T,V1_T_Alt)\n",
    "\n",
    "D1 = np.array(([42, 4, 7, 99],[-99, -3, 17, 22]))\n",
    "print(D1)\n",
    "print(D1.ndim)\n",
    "\n",
    "print(D1[1,2])"
   ]
  },
  {
   "cell_type": "code",
   "execution_count": 84,
   "id": "7419333c",
   "metadata": {},
   "outputs": [
    {
     "name": "stdout",
     "output_type": "stream",
     "text": [
      "tensor([25,  0, 25], dtype=torch.int32) tensor([1, 0, 1], dtype=torch.int32)\n",
      "[25  0 25]\n",
      "50\n",
      "tensor(50, dtype=torch.int32)\n"
     ]
    }
   ],
   "source": [
    "#Dot Product : \n",
    "\n",
    "x = np.array([25,0,25])\n",
    "y = np.array([1,0,1])\n",
    "\n",
    "x_tensor = torch.tensor(x)\n",
    "y_tensor = torch.tensor(y)\n",
    "\n",
    "print(x_tensor,y_tensor)\n",
    "\n",
    "print(x*y)\n",
    "print(np.dot(x,y))\n",
    "print(torch.dot(x_tensor,y_tensor))"
   ]
  },
  {
   "cell_type": "code",
   "execution_count": 95,
   "id": "2b6f524a",
   "metadata": {},
   "outputs": [
    {
     "name": "stdout",
     "output_type": "stream",
     "text": [
      "[[ 42   4   7  99]\n",
      " [-99  -3  17  22]]\n",
      "[[ 42 -99]\n",
      " [  4  -3]\n",
      " [  7  17]\n",
      " [ 99  22]]\n",
      "[[25 10]\n",
      " [-2  1]]\n",
      "[[-1  7]\n",
      " [10  8]]\n",
      "[[-25  70]\n",
      " [-20   8]]\n",
      "[-1  2 -2] [ 5 10  0]\n",
      "15\n"
     ]
    }
   ],
   "source": [
    "#Excercise 2\n",
    "Y = np.array(([42, 4, 7, 99],[-99, -3, 17, 22]))\n",
    "print(Y)\n",
    "print(Y.T)\n",
    "\n",
    "x1 = np.array(([25,10],[-2,1]))\n",
    "x2 = np.array(([-1,7],[10,8]))\n",
    "print(x1)\n",
    "print(x2)\n",
    "#Hadamard Product\n",
    "final_product = np.multiply(x1,x2)\n",
    "print(final_product)\n",
    "\n",
    "#dot product of one dimensional tensor\n",
    "w = np.array([-1, 2, -2])\n",
    "x = np.array([5, 10, 0])\n",
    "print(w,x)\n",
    "final_dot_product = np.dot(w,x)\n",
    "print(final_dot_product)"
   ]
  },
  {
   "cell_type": "code",
   "execution_count": 104,
   "id": "ef3997fa",
   "metadata": {},
   "outputs": [
    {
     "data": {
      "image/png": "[encoded data removed]",
      "text/plain": [
       "<Figure size 432x288 with 1 Axes>"
      ]
     },
     "metadata": {
      "needs_background": "light"
     },
     "output_type": "display_data"
    }
   ],
   "source": [
    "#Calculating the linear equation query \n",
    "y1 = 3*x\n",
    "y2 = 1 + (5*x)/2\n",
    "\n",
    "x = np.linspace(0,15,1000)\n",
    "\n",
    "fig, axis = plt.subplots()\n",
    "axis.plot(x,y1, c='red')\n",
    "axis.plot(x,y2, c='green')\n",
    "plt.xlim(0,2.5)\n",
    "plt.ylim(0,9)\n",
    "plt.show()"
   ]
  },
  {
   "cell_type": "code",
   "execution_count": 137,
   "id": "c3baecd2",
   "metadata": {},
   "outputs": [
    {
     "name": "stdout",
     "output_type": "stream",
     "text": [
      "[[0 1 2]\n",
      " [3 4 5]\n",
      " [6 7 8]]\n",
      "[[1 0 0]\n",
      " [0 1 0]\n",
      " [0 0 1]]\n",
      "[[-1]\n",
      " [ 1]\n",
      " [-2]]\n",
      "[[-1  0]\n",
      " [ 1  1]\n",
      " [-2  2]]\n",
      "[[ -3   5]\n",
      " [ -9  14]\n",
      " [-15  23]]\n"
     ]
    }
   ],
   "source": [
    "#Excersise 3 - Matrix multiplication\n",
    "\n",
    "A = np.array(([0,1,2],[3,4,5],[6,7,8]))\n",
    "I = np.array(([1,0,0],[0,1,0],[0,0,1]))\n",
    "V = np.array(([-1],[1],[-2]))\n",
    "\n",
    "M1 = np.array(([-1,1,-2],[0,1,2])).T\n",
    "\n",
    "print(A)\n",
    "print(I)\n",
    "print(V)\n",
    "print(M1)\n",
    "\n",
    "final_dot = np.dot(A,V)\n",
    "final_dot_Identity = np.dot(I,V)\n",
    "final_dot_matrix = np.dot(A,M1)\n",
    "#print(final_dot)\n",
    "#print(final_dot_Identity)\n",
    "print(final_dot_matrix)"
   ]
  },
  {
   "cell_type": "code",
   "execution_count": 164,
   "id": "f944162d",
   "metadata": {},
   "outputs": [
    {
     "name": "stdout",
     "output_type": "stream",
     "text": [
      "[-1.  4.]\n"
     ]
    }
   ],
   "source": [
    "#inverse \n",
    "\n",
    "A = np.array(([4,-5],[2,-3])).T\n",
    "y = np.array([4,-7]).T\n",
    "#matrix multiplication with vector\n",
    "A_inv = np.linalg.inv(A)\n",
    "w_unknown = np.dot(A_inv,y)\n",
    "print(w_unknown)"
   ]
  },
  {
   "cell_type": "code",
   "execution_count": 169,
   "id": "01c7d1bc",
   "metadata": {},
   "outputs": [
    {
     "name": "stdout",
     "output_type": "stream",
     "text": [
      "[[1 0 0]\n",
      " [0 1 0]\n",
      " [0 0 1]]\n",
      "[[1. 0. 0.]\n",
      " [0. 1. 0.]\n",
      " [0. 0. 1.]]\n",
      "[[1 0 0]\n",
      " [0 1 0]\n",
      " [0 0 1]]\n",
      "1.0\n"
     ]
    }
   ],
   "source": [
    "# Orthogonal & Orthonormal\n",
    "#Excercise 4\n",
    "\n",
    "I3 = np.array(([1,0,0],[0,1,0],[0,0,1]))\n",
    "print(I3)\n",
    "\n",
    "#We have to prove A^T = A^-1\n",
    "I3_Transpose = I3.T\n",
    "I3_Inverse = np.linalg.inv(I3)\n",
    "print(I3_Inverse)\n",
    "print(I3_Transpose)\n",
    "\n",
    "# Checking for the unit norm \n",
    "l2norm = np.linalg.norm(I3,ord = 2)\n",
    "print(l2norm)\n",
    "\n"
   ]
  },
  {
   "cell_type": "code",
   "execution_count": null,
   "id": "e0904874",
   "metadata": {},
   "outputs": [],
   "source": [
    "#Part 2"
   ]
  },
  {
   "cell_type": "code",
   "execution_count": 170,
   "id": "73356deb",
   "metadata": {},
   "outputs": [],
   "source": [
    "import numpy as np\n",
    "from numpy import linalg as lng\n",
    "import matplotlib.pyplot as plt\n"
   ]
  },
  {
   "cell_type": "code",
   "execution_count": 198,
   "id": "3c96755a",
   "metadata": {},
   "outputs": [
    {
     "name": "stdout",
     "output_type": "stream",
     "text": [
      "[[ 2]\n",
      " [ 5]\n",
      " [-3]]\n",
      "[[ 2  0 -1]\n",
      " [-2  3  1]\n",
      " [ 0  4 -1]]\n",
      "[[ 7]\n",
      " [ 8]\n",
      " [23]]\n",
      "[[ 0]\n",
      " [-4]\n",
      " [ 6]]\n",
      "[[ -6]\n",
      " [ -6]\n",
      " [-22]]\n",
      "[[ 2  0]\n",
      " [ 5 -4]\n",
      " [-3  6]]\n",
      "[[  7  -6]\n",
      " [  8  -6]\n",
      " [ 23 -22]]\n"
     ]
    }
   ],
   "source": [
    "I3 = np.array(([1,0,0],[0,1,0],[0,0,1]))\n",
    "u = np.array([[2],[5],[-3]])\n",
    "\n",
    "IapplyU = np.dot(I3,u)\n",
    "print(IapplyU)\n",
    "\n",
    "B = np.array(([2,-2,0],[0,3,4],[-1,1,-1])).T\n",
    "print(B)\n",
    "Bapplyu = np.dot(B,u)\n",
    "print(Bapplyu)\n",
    "\n",
    "\n",
    "\n",
    "\n",
    "u2 = np.array([[0],[-4],[6]])\n",
    "print(u2)\n",
    "\n",
    "\n",
    "Bapplyu2 = np.dot(B,u2)\n",
    "print(Bapplyu2)\n",
    "\n",
    "\n",
    "U = np.concatenate((u,u2), axis=1)\n",
    "print(U)\n",
    "\n",
    "BapplyU = np.dot(B,U)\n",
    "print(BapplyU)"
   ]
  },
  {
   "cell_type": "code",
   "execution_count": 203,
   "id": "b9ebf1fc",
   "metadata": {},
   "outputs": [
    {
     "name": "stdout",
     "output_type": "stream",
     "text": [
      "[[1 2 3]\n",
      " [2 5 6]\n",
      " [7 8 9]]\n",
      "-12.0\n"
     ]
    }
   ],
   "source": [
    "#determinent\n",
    "\n",
    "X = np.array([[1,2,3],[2,5,6],[7,8,9]])\n",
    "print(X)\n",
    "\n",
    "detX = np.linalg.det(X)\n",
    "print(detX)"
   ]
  },
  {
   "cell_type": "code",
   "execution_count": 250,
   "id": "44b657af",
   "metadata": {
    "scrolled": true
   },
   "outputs": [
    {
     "name": "stdout",
     "output_type": "stream",
     "text": [
      "[1.18031462 0.70000958]\n",
      "[1.18031462 0.70000958]\n"
     ]
    }
   ],
   "source": [
    "#Eigen value and eigen vector\n",
    "\n",
    "A =np.array([[-1, 4], [2, -2]])\n",
    "#np.array([[1,2,3],[2,5,6],[7,8,9]])\n",
    "\n",
    "#print(A)\n",
    "\n",
    "eigenVal, eigenVector = np.linalg.eig(A)\n",
    "\n",
    "#print(eigenVal)\n",
    "#print(eigenVector)\n",
    "\n",
    "#Av = lamda*v\n",
    "\n",
    "eigen_1_val = eigenVal[0]\n",
    "#print(eigen_1_val)\n",
    "eigen_1_vector = eigenVector[:,0]\n",
    "#print(eigen_1_vector)\n",
    "\n",
    "LHS = np.dot(A,eigen_1_vector)\n",
    "print(LHS)\n",
    "RHS = np.dot(eigen_1_val,eigen_1_vector)\n",
    "print(RHS)"
   ]
  },
  {
   "cell_type": "markdown",
   "id": "57e04abf",
   "metadata": {},
   "source": [
    "# Assignment 4\n"
   ]
  },
  {
   "cell_type": "code",
   "execution_count": 1,
   "id": "1eb7dcac",
   "metadata": {},
   "outputs": [],
   "source": [
    "import numpy as np \n",
    "import pandas as pd\n",
    "import matplotlib.pyplot as plt\n",
    "import seaborn as sns\n"
   ]
  },
  {
   "cell_type": "code",
   "execution_count": 6,
   "id": "b9284b92",
   "metadata": {},
   "outputs": [
    {
     "name": "stdout",
     "output_type": "stream",
     "text": [
      "[[ 4  5 16  7]\n",
      " [ 2 -3  2  3]\n",
      " [ 3  4  5  6]\n",
      " [ 4  7  8  9]]\n",
      "4\n"
     ]
    }
   ],
   "source": [
    "A = np.array([[4,5,16,7],[2,-3,2,3],[3,4,5,6],[4,7,8,9]])\n",
    "A\n",
    "rank_A = np.linalg.matrix_rank(A)\n",
    "print(A)\n",
    "print(rank_A)"
   ]
  },
  {
   "cell_type": "code",
   "execution_count": 17,
   "id": "43bfec82",
   "metadata": {},
   "outputs": [
    {
     "name": "stdout",
     "output_type": "stream",
     "text": [
      "[[ 1  0 -1  2]\n",
      " [ 0  3  1 -1]\n",
      " [ 2  4  0  3]\n",
      " [-3  1 -1  2]]\n",
      "[[ 1  2]\n",
      " [ 3 -1]\n",
      " [ 0 -1]\n",
      " [ 4  2]]\n",
      "[[ 3  8  0  5]\n",
      " [ 1  0 -4  8]]\n",
      "Final\n",
      "[[107 -37]\n",
      " [-31 -33]]\n",
      "-37\n"
     ]
    }
   ],
   "source": [
    "A1 = np.array([[1,0,-1,2],[0,3,1,-1],[2,4,0,3],[-3,1,-1,2]])\n",
    "B = np.array([[1,2],[3,-1],[0,-1],[4,2]])\n",
    "C = np.array([[3,8,0,5],[1,0,-4,8]])\n",
    "\n",
    "print(A1,B,C, sep='\\n')\n",
    "\n",
    "D = np.dot(C, np.dot(A1,B))\n",
    "print('Final')\n",
    "print(D)\n",
    "print(D.item((0,1)))"
   ]
  },
  {
   "cell_type": "code",
   "execution_count": 22,
   "id": "cec322ec",
   "metadata": {},
   "outputs": [
    {
     "name": "stdout",
     "output_type": "stream",
     "text": [
      "[[ -2  32  24]\n",
      " [ 92  66  25]\n",
      " [-80  37  10]]\n",
      "115506.00000000006\n"
     ]
    }
   ],
   "source": [
    "Z = np.array([[-2,32,24],[92,66,25],[-80,37,10]])\n",
    "print(Z)\n",
    "det_z = np.linalg.det(Z)\n",
    "print(det_z)\n"
   ]
  },
  {
   "cell_type": "code",
   "execution_count": 27,
   "id": "1f955f8f",
   "metadata": {},
   "outputs": [
    {
     "name": "stdout",
     "output_type": "stream",
     "text": [
      "2\n",
      "1.6653345369377407e-16\n",
      "[[-1.2009599e+16  6.0047995e+15  6.0047995e+15]\n",
      " [ 1.0000000e+00 -2.0000000e+00 -0.0000000e+00]\n",
      " [ 1.2009599e+16 -6.0047995e+15 -6.0047995e+15]]\n"
     ]
    }
   ],
   "source": [
    "P = np.array([[2,1,2],[1,0,1],[3,2,3]])\n",
    "print(np.linalg.matrix_rank(P))\n",
    "P_inv= np.linalg.inv(P)\n",
    "det_P = np.linalg.det(P)\n",
    "print(det_P) # det is zero\n",
    "print(P_inv)"
   ]
  },
  {
   "cell_type": "code",
   "execution_count": 29,
   "id": "cdabfe1d",
   "metadata": {},
   "outputs": [
    {
     "data": {
      "text/plain": [
       "2"
      ]
     },
     "execution_count": 29,
     "metadata": {},
     "output_type": "execute_result"
    }
   ],
   "source": [
    "b = np.array([[1,0],[2,9]])\n",
    "b\n",
    "np.linalg.matrix_rank(b)"
   ]
  },
  {
   "cell_type": "code",
   "execution_count": 33,
   "id": "bbeab53d",
   "metadata": {},
   "outputs": [
    {
     "name": "stdout",
     "output_type": "stream",
     "text": [
      "[[2 0 0]\n",
      " [0 1 0]\n",
      " [0 0 3]]\n",
      "[2. 1. 3.]\n",
      "6.0\n",
      "[[1. 0. 0.]\n",
      " [0. 1. 0.]\n",
      " [0. 0. 1.]]\n"
     ]
    }
   ],
   "source": [
    "A_eigen = np.array([[2,0,0],[0,1,0],[0,0,3]])\n",
    "print(A_eigen)\n",
    "lamda,v = np.linalg.eig(A_eigen)\n",
    "print(lamda)\n",
    "print(lamda.sum())\n",
    "print(v)"
   ]
  },
  {
   "cell_type": "code",
   "execution_count": 34,
   "id": "622452fa",
   "metadata": {},
   "outputs": [
    {
     "name": "stdout",
     "output_type": "stream",
     "text": [
      "[[1 6 1]\n",
      " [1 2 3]\n",
      " [0 0 3]]\n",
      "[-1.  4.  3.]\n",
      "6.0\n",
      "[[-0.9486833  -0.89442719 -0.92055301]\n",
      " [ 0.31622777 -0.4472136  -0.33915111]\n",
      " [ 0.          0.          0.19380063]]\n"
     ]
    }
   ],
   "source": [
    "A_eigen_a = np.array([[1,6,1],[1,2,3],[0,0,3]])\n",
    "print(A_eigen_a)\n",
    "lamda,v = np.linalg.eig(A_eigen_a)\n",
    "print(lamda)\n",
    "print(lamda.sum())\n",
    "print(v)"
   ]
  },
  {
   "cell_type": "code",
   "execution_count": 41,
   "id": "b6cfb413",
   "metadata": {},
   "outputs": [
    {
     "name": "stdout",
     "output_type": "stream",
     "text": [
      "40.00000000000019\n",
      "39.99999999999995\n",
      "-63.99999999999998\n",
      "-63.999999999999986\n",
      "[[10 13]\n",
      " [19 22]]\n",
      "-27.0\n",
      "-13.99999999999999\n",
      "-4.0\n",
      "-3.999999999999999\n"
     ]
    }
   ],
   "source": [
    "A = np.array([[1,2],[5,6]])\n",
    "B = np.array([[9,11],[14,16]])\n",
    "\n",
    "# i\n",
    "print(np.linalg.det(np.dot(A,B)))\n",
    "print(np.linalg.det(A)*np.linalg.det(B))\n",
    "\n",
    "#ii\n",
    "print(np.linalg.det(np.dot(4,A)))\n",
    "print((4**2)*np.linalg.det(A))\n",
    "\n",
    "#iii\n",
    "print(A+B)\n",
    "print(np.linalg.det(A+B))\n",
    "print(np.linalg.det(A) + np.linalg.det(B))\n",
    "\n",
    "#iv\n",
    "print(np.linalg.det(np.transpose(A)))\n",
    "print(1/np.linalg.det(np.linalg.inv(A)))"
   ]
  },
  {
   "cell_type": "code",
   "execution_count": 43,
   "id": "0bc33197",
   "metadata": {},
   "outputs": [
    {
     "name": "stdout",
     "output_type": "stream",
     "text": [
      "[[0 0 0]\n",
      " [0 0 0]\n",
      " [0 0 0]]\n",
      "0\n"
     ]
    }
   ],
   "source": [
    "A = np.array([[0,0,0],[0,0,0],[0,0,0]])\n",
    "print(A)\n",
    "\n",
    "print(np.linalg.matrix_rank(A))\n"
   ]
  },
  {
   "cell_type": "code",
   "execution_count": 53,
   "id": "05719688",
   "metadata": {},
   "outputs": [
    {
     "name": "stdout",
     "output_type": "stream",
     "text": [
      "[14  5] [10 -2]\n",
      "130\n"
     ]
    }
   ],
   "source": [
    "v1 = np.array([14,5]).T\n",
    "v2 = np.array([10,-2]).T\n",
    "print(v1,v2)\n",
    "print(np.dot(v1,v2))\n",
    "\n"
   ]
  },
  {
   "cell_type": "code",
   "execution_count": 56,
   "id": "6b125c21",
   "metadata": {},
   "outputs": [
    {
     "name": "stdout",
     "output_type": "stream",
     "text": [
      "[ 5 -2  3] [-2  4  6]\n",
      "0\n"
     ]
    }
   ],
   "source": [
    "v1 = np.array([5,-2,3]).T\n",
    "v2 = np.array([-2,4,6])\n",
    "print(v1,v2)\n",
    "print(np.dot(v1,v2))"
   ]
  },
  {
   "cell_type": "code",
   "execution_count": 57,
   "id": "cdaf94c2",
   "metadata": {},
   "outputs": [
    {
     "name": "stdout",
     "output_type": "stream",
     "text": [
      "[2 3] [-1  4]\n",
      "10\n"
     ]
    }
   ],
   "source": [
    "v1 = np.array([2,3]).T\n",
    "v2 = np.array([-1,4]).T\n",
    "print(v1,v2)\n",
    "print(np.dot(v1,v2))"
   ]
  },
  {
   "cell_type": "code",
   "execution_count": 58,
   "id": "a3636da1",
   "metadata": {},
   "outputs": [
    {
     "name": "stdout",
     "output_type": "stream",
     "text": [
      "[ 2  4 -2] [1 4]\n"
     ]
    },
    {
     "ename": "ValueError",
     "evalue": "shapes (3,) and (2,) not aligned: 3 (dim 0) != 2 (dim 0)",
     "output_type": "error",
     "traceback": [
      "\u001b[1;31m---------------------------------------------------------------------------\u001b[0m",
      "\u001b[1;31mValueError\u001b[0m                                Traceback (most recent call last)",
      "Input \u001b[1;32mIn [58]\u001b[0m, in \u001b[0;36m<cell line: 4>\u001b[1;34m()\u001b[0m\n\u001b[0;32m      2\u001b[0m v2 \u001b[38;5;241m=\u001b[39m np\u001b[38;5;241m.\u001b[39marray([\u001b[38;5;241m1\u001b[39m,\u001b[38;5;241m4\u001b[39m])\n\u001b[0;32m      3\u001b[0m \u001b[38;5;28mprint\u001b[39m(v1,v2)\n\u001b[1;32m----> 4\u001b[0m \u001b[38;5;28mprint\u001b[39m(\u001b[43mnp\u001b[49m\u001b[38;5;241;43m.\u001b[39;49m\u001b[43mdot\u001b[49m\u001b[43m(\u001b[49m\u001b[43mv1\u001b[49m\u001b[43m,\u001b[49m\u001b[43mv2\u001b[49m\u001b[43m)\u001b[49m)\n",
      "File \u001b[1;32m<__array_function__ internals>:5\u001b[0m, in \u001b[0;36mdot\u001b[1;34m(*args, **kwargs)\u001b[0m\n",
      "\u001b[1;31mValueError\u001b[0m: shapes (3,) and (2,) not aligned: 3 (dim 0) != 2 (dim 0)"
     ]
    }
   ],
   "source": [
    "v1 = np.array([2,4,-2])\n",
    "v2 = np.array([1,4])\n",
    "print(v1,v2)\n",
    "print(np.dot(v1,v2))"
   ]
  },
  {
   "cell_type": "code",
   "execution_count": 60,
   "id": "d2971ef8",
   "metadata": {},
   "outputs": [
    {
     "name": "stdout",
     "output_type": "stream",
     "text": [
      "2.449489742783178\n",
      "2.449489742783178\n",
      "2.449489742783178\n"
     ]
    }
   ],
   "source": [
    "import math \n",
    "\n",
    "v1 = np.array([[8,9,2]]).T\n",
    "v2 = np.array([[7,7,1]]).T\n",
    "\n",
    "print(np.linalg.norm(v1-v2))\n",
    "print(math.dist(v1,v2))\n",
    "print(np.sqrt(6))\n"
   ]
  },
  {
   "cell_type": "code",
   "execution_count": 65,
   "id": "265e03db",
   "metadata": {},
   "outputs": [
    {
     "name": "stdout",
     "output_type": "stream",
     "text": [
      "0.0\n",
      "[[ 35 -35 -10]\n",
      " [ -4  15   4]\n",
      " [ -6 -93 -24]]\n",
      "2\n"
     ]
    }
   ],
   "source": [
    "A = np.array([[5,-8,8],[-1,-8,7],[3,5,4]])\n",
    "B = np.array([[7,-7,-2],[-3,-8,-2],[-3,-8,-2]])\n",
    "print(np.linalg.det(B))\n",
    "print(np.dot(A,B))\n",
    "print(np.linalg.matrix_rank(np.dot(A,B)))"
   ]
  },
  {
   "cell_type": "code",
   "execution_count": 66,
   "id": "4959706d",
   "metadata": {},
   "outputs": [
    {
     "name": "stdout",
     "output_type": "stream",
     "text": [
      "2\n"
     ]
    }
   ],
   "source": [
    "M = np.array([[8,-6,4],[-24,18,-12],[-5,-6,-4]])\n",
    "print(np.linalg.matrix_rank(M))"
   ]
  },
  {
   "cell_type": "code",
   "execution_count": 2,
   "id": "efb15f14",
   "metadata": {},
   "outputs": [
    {
     "name": "stdout",
     "output_type": "stream",
     "text": [
      "[[4 2]\n",
      " [2 5]]\n",
      "[2.43844719 6.56155281]\n",
      "[[-0.78820544 -0.61541221]\n",
      " [ 0.61541221 -0.78820544]]\n"
     ]
    }
   ],
   "source": [
    "import numpy as np\n",
    "A_e = np.array([[0,2],[2,1]])\n",
    "print(np.dot(A_e,A_e))\n",
    "lamda, v = np.linalg.eig(np.dot(A_e,A_e))\n",
    "print(lamda)\n",
    "print(v)"
   ]
  },
  {
   "cell_type": "code",
   "execution_count": 5,
   "id": "c3c99de6",
   "metadata": {},
   "outputs": [
    {
     "name": "stdout",
     "output_type": "stream",
     "text": [
      "Matrix : Matrix([[7, 5, -9], [-7, 2, -9], [7, 5, -9]]) \n",
      "(Matrix([\n",
      "[1, 0, 27/49],\n",
      "[0, 1, -18/7],\n",
      "[0, 0,     0]]), (0, 1))\n",
      "-----------------\n",
      "[Matrix([[7, 5, -9]]), Matrix([[0, 49, -126]])]\n",
      "-----------------\n",
      "[Matrix([\n",
      "[ 7],\n",
      "[-7],\n",
      "[ 7]]), Matrix([\n",
      "[5],\n",
      "[2],\n",
      "[5]])]\n",
      "-----------------\n",
      "[Matrix([\n",
      "[-27/49],\n",
      "[  18/7],\n",
      "[     1]])]\n"
     ]
    }
   ],
   "source": [
    "# import sympy \n",
    "from sympy import * \n",
    "\n",
    "M = Matrix([[7,5,-9], [-7,2,-9], [7,5,-9]])\n",
    "print(\"Matrix : {} \".format(M))\n",
    "   \n",
    "# Use sympy.columnspace() method \n",
    "print(M.rref())\n",
    "rowspace = M.rowspace()\n",
    "colspace = M.columnspace() \n",
    "nullspace = M.nullspace()\n",
    "print('-----------------')\n",
    "print(rowspace)\n",
    "print('-----------------')\n",
    "print(colspace)\n",
    "print('-----------------')\n",
    "print(nullspace)"
   ]
  },
  {
   "cell_type": "code",
   "execution_count": 78,
   "id": "822d915d",
   "metadata": {},
   "outputs": [
    {
     "name": "stdout",
     "output_type": "stream",
     "text": [
      "[[-0.26726124 -0.65769057  0.70428299]\n",
      " [ 0.53452248 -0.70930294 -0.45953788]\n",
      " [ 0.80178373  0.25363843  0.54111958]]\n",
      "[3.01662063e+01 3.46896995e-16]\n",
      "[[-0.49613894 -0.86824314]\n",
      " [-0.86824314  0.49613894]]\n"
     ]
    }
   ],
   "source": [
    "A_SVD = np.array([[4,7],[-8,-14],[-12,-21]])\n",
    "\n",
    "U, d, VT = np.linalg.svd(A_SVD)\n",
    "\n",
    "print(U)\n",
    "print(d)\n",
    "print(VT)"
   ]
  },
  {
   "cell_type": "code",
   "execution_count": 79,
   "id": "c25c752a",
   "metadata": {},
   "outputs": [
    {
     "name": "stdout",
     "output_type": "stream",
     "text": [
      "1\n"
     ]
    }
   ],
   "source": [
    "A = np.array([[3,3],[-3,2]])\n",
    "B = np.array([[-12,-16],[-6,-8]])\n",
    "print(np.linalg.matrix_rank(np.dot(A,B)))"
   ]
  },
  {
   "cell_type": "code",
   "execution_count": 85,
   "id": "455a7da1",
   "metadata": {},
   "outputs": [
    {
     "name": "stdout",
     "output_type": "stream",
     "text": [
      "[[ 4 -5  2 -3]\n",
      " [-1  3  2 -4]\n",
      " [-1  4  1  1]\n",
      " [ 3 -2 -8  1]]\n",
      "[[  6 -12 -12  -6]\n",
      " [ -8   6  -5   5]\n",
      " [ -5  -5   1  -7]\n",
      " [  3  -6  -6  -3]]\n",
      "3\n"
     ]
    }
   ],
   "source": [
    "A = np.array([[4,-5,2,-3],[-1,3,2,-4],[-1,4,1,1],[3,-2,-8,1]])\n",
    "B = np.array([[6,-12,-12,-6],[-8,6,-5,5],[-5,-5,1,-7],[3,-6,-6,-3]])\n",
    "\n",
    "print(A)\n",
    "print(B)\n",
    "\n",
    "print(np.linalg.matrix_rank(np.dot(A,B)))\n"
   ]
  },
  {
   "cell_type": "code",
   "execution_count": 86,
   "id": "5e9f5e6a",
   "metadata": {},
   "outputs": [
    {
     "name": "stdout",
     "output_type": "stream",
     "text": [
      "2\n"
     ]
    }
   ],
   "source": [
    "M = np.array([[5,5,4], [-10,-10,-8], [1,-4,-6]])\n",
    "print(np.linalg.matrix_rank(M))"
   ]
  },
  {
   "cell_type": "code",
   "execution_count": 5,
   "id": "2ca4186e",
   "metadata": {},
   "outputs": [
    {
     "name": "stdout",
     "output_type": "stream",
     "text": [
      "[[ 63 -20]\n",
      " [-20 -12]]\n",
      "[4624.  289.]\n",
      "[[ 0.9701425   0.24253563]\n",
      " [-0.24253563  0.9701425 ]]\n"
     ]
    }
   ],
   "source": [
    "A_e = np.array([[63,-20],[-20,-12]])\n",
    "print(A_e)\n",
    "lamda, v = np.linalg.eig(np.dot(A_e,A_e))\n",
    "print(lamda)\n",
    "print(v)"
   ]
  },
  {
   "cell_type": "code",
   "execution_count": 88,
   "id": "ed7da2f5",
   "metadata": {},
   "outputs": [
    {
     "name": "stdout",
     "output_type": "stream",
     "text": [
      "Matrix : Matrix([[8, 12, -14], [-4, -6, 7], [5, 6, 7]]) \n",
      "-----------------\n",
      "[Matrix([[8, 12, -14]]), Matrix([[0, -12, 126]])]\n",
      "-----------------\n",
      "[Matrix([\n",
      "[ 8],\n",
      "[-4],\n",
      "[ 5]]), Matrix([\n",
      "[12],\n",
      "[-6],\n",
      "[ 6]])]\n",
      "-----------------\n",
      "[Matrix([\n",
      "[ -14],\n",
      "[21/2],\n",
      "[   1]])]\n"
     ]
    }
   ],
   "source": [
    "# import sympy \n",
    "from sympy import * \n",
    "\n",
    "M = Matrix([[8,12,-14], [-4,-6,7], [5,6,7]])\n",
    "print(\"Matrix : {} \".format(M))\n",
    "   \n",
    "# Use sympy.columnspace() method \n",
    "rowspace = M.rowspace()\n",
    "colspace = M.columnspace() \n",
    "nullspace = M.nullspace()\n",
    "print('-----------------')\n",
    "print(rowspace)\n",
    "print('-----------------')\n",
    "print(colspace)\n",
    "print('-----------------')\n",
    "print(nullspace)"
   ]
  },
  {
   "cell_type": "code",
   "execution_count": 21,
   "id": "9b0f918b",
   "metadata": {
    "scrolled": true
   },
   "outputs": [
    {
     "name": "stdout",
     "output_type": "stream",
     "text": [
      "[[ 0.29451936  0.48586091 -0.82292012]\n",
      " [-0.33547402 -0.75374774 -0.56508542]\n",
      " [-0.89482709  0.44249691 -0.05899959]]\n"
     ]
    }
   ],
   "source": [
    "import numpy as np \n",
    "A_SVD = np.array([[-3,-5,8],[3,5,-8],[-6,-10,16],[-3,-7,-7]])\n",
    "#print(A_SVD)\n",
    "\n",
    "U, d, VT = np.linalg.svd(A_SVD)\n",
    "\n",
    "#print(U)\n",
    "#print(d)\n",
    "print(VT)"
   ]
  },
  {
   "cell_type": "code",
   "execution_count": 90,
   "id": "9f1bad1b",
   "metadata": {},
   "outputs": [
    {
     "name": "stdout",
     "output_type": "stream",
     "text": [
      "1\n"
     ]
    }
   ],
   "source": [
    "A = np.array([[-7,9],[-8,2]])\n",
    "B = np.array([[-12,-3],[4,1]])\n",
    "print(np.linalg.matrix_rank(np.dot(A,B)))"
   ]
  },
  {
   "cell_type": "code",
   "execution_count": 93,
   "id": "b359bcff",
   "metadata": {},
   "outputs": [
    {
     "data": {
      "text/plain": [
       "matrix([[ 1,  2],\n",
       "        [12, 12],\n",
       "        [33, 33]])"
      ]
     },
     "execution_count": 93,
     "metadata": {},
     "output_type": "execute_result"
    }
   ],
   "source": [
    "A = np.matrix(\"1,2;12,12;33,33\")\n",
    "A"
   ]
  },
  {
   "cell_type": "markdown",
   "id": "a759fb5f",
   "metadata": {},
   "source": [
    "# Python Coding Practice"
   ]
  },
  {
   "cell_type": "code",
   "execution_count": 7,
   "id": "af62ff67",
   "metadata": {},
   "outputs": [
    {
     "name": "stdout",
     "output_type": "stream",
     "text": [
      "15\n",
      "5\n",
      "50\n",
      "100000\n",
      "2.0\n",
      "2\n",
      "0\n",
      "False\n",
      "True\n",
      "False\n",
      "True\n",
      "False\n"
     ]
    }
   ],
   "source": [
    "a = 10\n",
    "b = 5\n",
    "\n",
    "print(a+b)\n",
    "print(a-b)\n",
    "print(a*b)\n",
    "print(a**b)\n",
    "print(a/b)\n",
    "print(a//b)\n",
    "print(a%b)\n",
    "\n",
    "#print(a%%2)\n",
    "\n",
    "print(a<b)\n",
    "print(a>b)\n",
    "print(a<=b)\n",
    "print(a>=b)\n",
    "print(a==b)\n"
   ]
  },
  {
   "cell_type": "code",
   "execution_count": 16,
   "id": "d3b567d3",
   "metadata": {},
   "outputs": [
    {
     "name": "stdout",
     "output_type": "stream",
     "text": [
      "Aloy's\n",
      "My name is Aloy\n"
     ]
    }
   ],
   "source": [
    "name = 'Aloy'\n",
    "special = 'Aloy\\'s'\n",
    "print(special)\n",
    "print(f'My name is {name}')"
   ]
  },
  {
   "cell_type": "code",
   "execution_count": 31,
   "id": "5df50571",
   "metadata": {},
   "outputs": [
    {
     "name": "stdout",
     "output_type": "stream",
     "text": [
      "<class 'float'>\n",
      "nan\n",
      "nan\n",
      "nan\n",
      "nan\n",
      "nan\n",
      "[[3 0 3]\n",
      " [8 9 7]]\n"
     ]
    }
   ],
   "source": [
    "import numpy as np\n",
    "nanValue = np.nan\n",
    "print(type(nanValue))\n",
    "i = 10\n",
    "print(i+nanValue)\n",
    "print(i/nanValue)\n",
    "print(i*nanValue)\n",
    "print(i%nanValue)\n",
    "print(i//nanValue)\n",
    "\n",
    "_ = np.random.randint(0,10,(2,3))\n",
    "print(_)\n"
   ]
  },
  {
   "cell_type": "code",
   "execution_count": 69,
   "id": "8b6e871f",
   "metadata": {},
   "outputs": [
    {
     "name": "stdout",
     "output_type": "stream",
     "text": [
      "[[0.27326409 0.41379645]\n",
      " [0.24766583 0.34424303]\n",
      " [0.97376664 0.22297335]]\n",
      "[[1 1]\n",
      " [1 1]\n",
      " [1 1]]\n",
      "[[ 4 10  2]\n",
      " [ 2  3  8]\n",
      " [ 3  6  2]]\n",
      "115.05035430992963\n",
      "[[[-0.64710617  0.97448357 -1.12816844  1.62569071]\n",
      "  [-1.4978411  -0.65927048 -0.76338718  1.20522001]\n",
      "  [-0.30670797 -0.28809291 -0.01834154 -0.46926324]\n",
      "  [-0.71219711 -0.1074396   1.18212269  0.56213367]\n",
      "  [-0.16538979 -0.30503498  0.9356911   2.44972974]]]\n"
     ]
    }
   ],
   "source": [
    "import numpy as np \n",
    "#Random variable study\n",
    "\n",
    "print(np.random.rand(3,2))\n",
    "print(np.random.binomial(1,1,(3,2)))\n",
    "print(np.random.randint(1,12,(3,3)))\n",
    "print(np.random.uniform(3,133))\n",
    "print(np.random.randn(1,5,4))\n"
   ]
  },
  {
   "cell_type": "code",
   "execution_count": null,
   "id": "9ebb81fd",
   "metadata": {},
   "outputs": [],
   "source": [
    "import math as m\n",
    "my_course = 'Gitaa'\n",
    "duration = 12\n",
    "\n",
    "print(\"this is my course %s, and duration of it %r\" %(my_course,duration))\n",
    "\n",
    "pi = m.pi\n",
    "\n",
    "print(round(pi,3))\n",
    "\n",
    "#Mathemetical operation\n",
    "#trigometry\n",
    "angle = 90\n",
    "\n",
    "print(m.sin(angle))\n",
    "print(m.cos(angle))\n",
    "print(m.tan(angle))\n"
   ]
  },
  {
   "cell_type": "code",
   "execution_count": null,
   "id": "485f7c45",
   "metadata": {},
   "outputs": [],
   "source": [
    "s = 'this is A text'\n",
    "print(s.capitalize())\n",
    "print(s.upper())\n",
    "print(s.lower())\n",
    "print(s.swapcase())\n",
    "s_space = 'this is    the  '\n",
    "print(s_space.strip())\n",
    "\n",
    "s1 = 'This is a nice string'\n",
    "s2 = 'What so nice about it'\n",
    "print(s1,s2, end='\\n')\n",
    "print(s2)\n",
    "\n",
    "print(s2*2)"
   ]
  },
  {
   "cell_type": "code",
   "execution_count": null,
   "id": "c1186793",
   "metadata": {},
   "outputs": [],
   "source": [
    "name = input('What is your name : ')\n",
    "\n",
    "age = int(input('What is your age : '))\n",
    "\n",
    "status = lambda x: 'Adult' if x>18 else 'minor'\n",
    "\n",
    "\n",
    "print(f'Hello {name}, Ihope you are doing good.. You are {status(age)}')\n"
   ]
  },
  {
   "cell_type": "code",
   "execution_count": 16,
   "id": "a4a7a261",
   "metadata": {},
   "outputs": [
    {
     "name": "stdout",
     "output_type": "stream",
     "text": [
      "[[-4 -7 -6 -4]\n",
      " [ 4  7  6  4]\n",
      " [ 4  7  6  4]]\n",
      "[[ 5.77350269e-01 -8.16496581e-01 -5.94237885e-17]\n",
      " [-5.77350269e-01 -4.08248290e-01 -7.07106781e-01]\n",
      " [-5.77350269e-01 -4.08248290e-01  7.07106781e-01]]\n",
      "[1.87349940e+01 1.62468599e-15 7.33452931e-32]\n",
      "[[-0.36980013 -0.64715023 -0.5547002  -0.36980013]\n",
      " [ 0.84809663  0.05170313 -0.3867652  -0.35842931]\n",
      " [ 0.07042575  0.00598172 -0.5900884   0.80423884]\n",
      " [ 0.3728541  -0.76058371  0.44103974  0.29660779]]\n"
     ]
    }
   ],
   "source": [
    "import numpy as np\n",
    "\n",
    "A_Test = np.matrix([[-4,-7,-6,-4],[4,7,6,4],[4,7,6,4]])\n",
    "print(A_Test)\n",
    "\n",
    "U,D,VT = np.linalg.svd(A_Test)\n",
    "\n",
    "print(U)\n",
    "print(D)\n",
    "print(VT)\n",
    "\n"
   ]
  },
  {
   "cell_type": "code",
   "execution_count": 12,
   "id": "ac4a0c61",
   "metadata": {},
   "outputs": [
    {
     "name": "stdout",
     "output_type": "stream",
     "text": [
      "[[ 16  32  12 -20]\n",
      " [  4   8   3  -5]]\n",
      "[[ 0.9701425  -0.24253563]\n",
      " [ 0.24253563  0.9701425 ]]\n",
      "[[4.40227214e+01 0.00000000e+00]\n",
      " [0.00000000e+00 2.13828868e-15]]\n",
      "[[ 0.37463432  0.74926865  0.28097574 -0.46829291]\n",
      " [ 0.91304029 -0.1993535  -0.14198427  0.32627607]\n",
      " [ 0.04091244 -0.30630999  0.94473073  0.10947242]\n",
      " [-0.15598949  0.55229418  0.09152564  0.81379449]]\n"
     ]
    }
   ],
   "source": [
    "import numpy as np\n",
    "\n",
    "A_Test = np.matrix([[16,32,12,-20],[4,8,3,-5]])\n",
    "print(A_Test)\n",
    "\n",
    "U,D,VT = np.linalg.svd(A_Test)\n",
    "\n",
    "print(U)\n",
    "print(np.diag(D))\n",
    "print(VT)"
   ]
  },
  {
   "cell_type": "code",
   "execution_count": 20,
   "id": "2bcbab8e",
   "metadata": {},
   "outputs": [
    {
     "data": {
      "text/plain": [
       "2.220446049250313e-16"
      ]
     },
     "execution_count": 20,
     "metadata": {},
     "output_type": "execute_result"
    }
   ],
   "source": [
    "(0.858*(-4))+(0.034*(-7))+ (-0.395*(-6)) + (-0.325*(-4))"
   ]
  },
  {
   "cell_type": "code",
   "execution_count": 5,
   "id": "3f6b48aa",
   "metadata": {},
   "outputs": [
    {
     "name": "stdout",
     "output_type": "stream",
     "text": [
      "[[ 0.98058068  0.19611614]\n",
      " [-0.19611614  0.98058068]]\n",
      "[[5.51543289e+01 0.00000000e+00]\n",
      " [0.00000000e+00 7.73106677e-16]]\n",
      "[[ 0.73960026 -0.64715023  0.18490007]\n",
      " [ 0.67212508  0.69580041 -0.25319888]\n",
      " [ 0.03520417  0.31154193  0.94958006]]\n"
     ]
    }
   ],
   "source": [
    "#Question from Vinu\n",
    "import numpy as np \n",
    "A_Test = np.matrix([[40,-35,10],[-8,7,-2]])\n",
    "#print(A_Test)\n",
    "\n",
    "U,D,VT = np.linalg.svd(A_Test)\n",
    "\n",
    "print(U)\n",
    "print(np.diag(D))\n",
    "print(VT)"
   ]
  },
  {
   "cell_type": "code",
   "execution_count": 25,
   "id": "5f9af6a9",
   "metadata": {},
   "outputs": [
    {
     "name": "stdout",
     "output_type": "stream",
     "text": [
      "3.8.5 (default, Sep  3 2020, 21:29:08) [MSC v.1916 64 bit (AMD64)]\n"
     ]
    }
   ],
   "source": [
    "import sys\n",
    "print (sys.version)"
   ]
  },
  {
   "cell_type": "code",
   "execution_count": null,
   "id": "4a61549f",
   "metadata": {},
   "outputs": [],
   "source": [
    "[[-4 -7 -6 -4]\n",
    " [ 4  7  6  4]\n",
    " [ 4  7  6  4]]\n",
    "[[ 5.77350269e-01 -8.16496581e-01 -7.65671051e-17]\n",
    " [-5.77350269e-01 -4.08248290e-01 -7.07106781e-01]\n",
    " [-5.77350269e-01 -4.08248290e-01  7.07106781e-01]]\n",
    "[1.87349940e+01 1.95264633e-15 1.22833748e-31]\n",
    "[[-0.36980013 -0.64715023 -0.5547002  -0.36980013]\n",
    " [ 0.858377    0.03414212 -0.39518181 -0.32535299]\n",
    " [-0.13051847  0.18747411  0.44541946 -0.86569041]\n",
    " [ 0.33075929 -0.73816282  0.58115448  0.08929392]]\n"
   ]
  },
  {
   "cell_type": "code",
   "execution_count": 24,
   "id": "823da724",
   "metadata": {},
   "outputs": [
    {
     "name": "stdout",
     "output_type": "stream",
     "text": [
      "[[-4 -7 -6 -4]\n",
      " [ 4  7  6  4]\n",
      " [ 4  7  6  4]]\n",
      "[[ 5.77350269e-01 -8.16496581e-01 -5.94237885e-17]\n",
      " [-5.77350269e-01 -4.08248290e-01 -7.07106781e-01]\n",
      " [-5.77350269e-01 -4.08248290e-01  7.07106781e-01]]\n",
      "[1.87349940e+01 1.62468599e-15 7.33452931e-32]\n",
      "[[-0.36980013 -0.64715023 -0.5547002  -0.36980013]\n",
      " [ 0.84809663  0.05170313 -0.3867652  -0.35842931]\n",
      " [ 0.07042575  0.00598172 -0.5900884   0.80423884]\n",
      " [ 0.3728541  -0.76058371  0.44103974  0.29660779]]\n"
     ]
    }
   ],
   "source": [
    "#Question from Arjun\n",
    "import numpy as np\n",
    "\n",
    "A_Test = np.matrix([[-4,-7,-6,-4],[4,7,6,4],[4,7,6,4]])\n",
    "print(A_Test)\n",
    "\n",
    "U,D,VT = np.linalg.svd(A_Test)\n",
    "\n",
    "print(U)\n",
    "print(D)\n",
    "print(VT)\n"
   ]
  },
  {
   "cell_type": "code",
   "execution_count": 26,
   "id": "29d432be",
   "metadata": {},
   "outputs": [
    {
     "name": "stdout",
     "output_type": "stream",
     "text": [
      "[[ 16  32  12 -20]\n",
      " [  4   8   3  -5]]\n",
      "[[ 0.9701425  -0.24253563]\n",
      " [ 0.24253563  0.9701425 ]]\n",
      "[[4.40227214e+01 0.00000000e+00]\n",
      " [0.00000000e+00 2.13828868e-15]]\n",
      "[[ 0.37463432  0.74926865  0.28097574 -0.46829291]\n",
      " [ 0.91304029 -0.1993535  -0.14198427  0.32627607]\n",
      " [ 0.04091244 -0.30630999  0.94473073  0.10947242]\n",
      " [-0.15598949  0.55229418  0.09152564  0.81379449]]\n"
     ]
    }
   ],
   "source": [
    "import numpy as np\n",
    "\n",
    "A_Test = np.array([[16,32,12,-20],[4,8,3,-5]])\n",
    "print(A_Test)\n",
    "\n",
    "U,D,VT = np.linalg.svd(A_Test)\n",
    "\n",
    "print(U)\n",
    "print(np.diag(D))\n",
    "print(VT)\n",
    "\n"
   ]
  },
  {
   "cell_type": "code",
   "execution_count": null,
   "id": "001dbbca",
   "metadata": {},
   "outputs": [],
   "source": [
    "[[ 16  32  12 -20]\n",
    " [  4   8   3  -5]]\n",
    "[[-0.9701425  -0.24253563]\n",
    " [-0.24253563  0.9701425 ]]\n",
    "[[4.40227214e+01 0.00000000e+00]\n",
    " [0.00000000e+00 2.58497890e-15]]\n",
    "[[-0.37463432 -0.74926865 -0.28097574  0.46829291]\n",
    " [ 0.90536628 -0.17318083 -0.14827614  0.35823802]\n",
    " [ 0.04995124 -0.30610653  0.94354339  0.11631658]\n",
    " [-0.19356107  0.5611628   0.09376938  0.79927325]]\n",
    "\n",
    "\n",
    "** Process exited - Return Code: 0 **\n",
    "Press Enter to exit terminal"
   ]
  },
  {
   "cell_type": "markdown",
   "id": "008b4f24",
   "metadata": {},
   "source": [
    "# Assigment 5 - Linear Regression"
   ]
  },
  {
   "cell_type": "code",
   "execution_count": 6,
   "id": "b9ddd982",
   "metadata": {},
   "outputs": [
    {
     "name": "stdout",
     "output_type": "stream",
     "text": [
      "[[1. 1.]\n",
      " [1. 1.]]\n",
      "    0\n",
      "5   1\n",
      "10  2\n",
      "15  3\n"
     ]
    }
   ],
   "source": [
    "import numpy as np\n",
    "import pandas as pd\n",
    "\n",
    "\n",
    "lis_A = np.array([1,2,3])\n",
    "lis_B = np.array([5,10,15])\n",
    "print(np.corrcoef(lis_A,lis_B))\n",
    "\n",
    "pd1 = pd.DataFrame(lis_A,lis_B)\n",
    "pd2 = pd.DataFrame(lis_B)\n",
    "print(pd1)\n",
    "#print(pd1.corr())\n"
   ]
  },
  {
   "cell_type": "code",
   "execution_count": 11,
   "id": "8c65a4c5",
   "metadata": {},
   "outputs": [
    {
     "name": "stdout",
     "output_type": "stream",
     "text": [
      "   Unnamed: 0        X1        X2        X3        X4        X5\n",
      "0           1  0.266066  0.558480  0.894119  0.644930  2.363595\n",
      "1           2  0.552035  0.666928  0.616492  0.336270  2.171725\n",
      "2           3  0.476539  0.634680  0.680674  0.410387  2.202279\n",
      "3           4  0.670965  0.804444  0.733776  0.396153  2.605338\n",
      "4           5  0.480306  0.731702       NaN       NaN       NaN\n",
      "       Unnamed: 0         X1         X2         X3         X4         X5\n",
      "count  100.000000  86.000000  85.000000  79.000000  84.000000  82.000000\n",
      "mean    50.500000   0.479180   0.655997   0.706428   0.424423   2.285990\n",
      "std     29.011492   0.200217   0.122093   0.140410   0.159414   0.233779\n",
      "min      1.000000   0.094735   0.389484   0.416636   0.165926   1.774347\n",
      "25%     25.750000   0.313116   0.581571   0.595176   0.285878   2.141885\n",
      "50%     50.500000   0.488127   0.642462   0.685661   0.398744   2.281113\n",
      "75%     75.250000   0.632949   0.735828   0.827312   0.577796   2.480422\n",
      "max    100.000000   0.892610   0.920741   0.988026   0.713126   2.724414\n",
      "<class 'pandas.core.frame.DataFrame'>\n",
      "RangeIndex: 100 entries, 0 to 99\n",
      "Data columns (total 6 columns):\n",
      " #   Column      Non-Null Count  Dtype  \n",
      "---  ------      --------------  -----  \n",
      " 0   Unnamed: 0  100 non-null    int64  \n",
      " 1   X1          86 non-null     float64\n",
      " 2   X2          85 non-null     float64\n",
      " 3   X3          79 non-null     float64\n",
      " 4   X4          84 non-null     float64\n",
      " 5   X5          82 non-null     float64\n",
      "dtypes: float64(5), int64(1)\n",
      "memory usage: 4.8 KB\n",
      "None\n"
     ]
    }
   ],
   "source": [
    "import numpy as np\n",
    "import pandas as pd \n",
    "import matplotlib as plt\n",
    "import seaborn as sns\n",
    "\n",
    "from sklearn.linear_model import LinearRegression\n",
    "from sklearn.model_selection import train_test_split\n",
    "\n",
    "\n",
    "df = pd.read_csv('E:\\\\Document\\\\Pre-RequisitePrgrame\\\\GITAA Training\\\\Notes\\\\Week 5\\\\GTPvar.csv',AtV3Tjmi4YmpJFX9aSsFAv6GWMsz2yyPua4aJPhTE3pR)\n",
    "print(df.head())\n",
    "\n",
    "print(df.describe())\n",
    "print(df.info())\n"
   ]
  },
  {
   "cell_type": "code",
   "execution_count": 7,
   "id": "2d4e3e30",
   "metadata": {},
   "outputs": [
    {
     "name": "stdout",
     "output_type": "stream",
     "text": [
      "   Minutes  Units\n",
      "0       23      1\n",
      "1       29      2\n",
      "2       49      3\n",
      "3       64      4\n",
      "4       74      4\n",
      "-------#Q11--------\n",
      "   Units\n",
      "0    101\n",
      "1    102\n",
      "2    103\n",
      "3    104\n",
      "4    105\n",
      "5    106\n",
      "===========Prediction==============\n",
      "[[1570.54761905]\n",
      " [1586.05639098]\n",
      " [1601.56516291]\n",
      " [1617.07393484]\n",
      " [1632.58270677]\n",
      " [1648.0914787 ]]\n",
      "-------#Q12--------\n",
      "   Units\n",
      "0      4\n",
      "===========Prediction==============\n",
      "[[66.19674185]]\n",
      "-------#Q13--------\n",
      "   Price  Food  Decor  Service  East\n",
      "0     43    22     18       20     0\n",
      "1     32    20     19       19     0\n",
      "2     34    21     13       18     0\n",
      "3     41    20     20       17     0\n",
      "4     54    24     19       21     0\n",
      "            Price      Food     Decor   Service      East\n",
      "Price    1.000000  0.627043  0.724352  0.641140  0.186630\n",
      "Food     0.627043  1.000000  0.503916  0.794525  0.180371\n",
      "Decor    0.724352  0.503916  1.000000  0.645331  0.035749\n",
      "Service  0.641140  0.794525  0.645331  1.000000  0.209094\n",
      "East     0.186630  0.180371  0.035749  0.209094  1.000000\n",
      "=================#Regression between Price and Food========================\n",
      "     Food\n",
      "0      22\n",
      "1      20\n",
      "2      21\n",
      "3      20\n",
      "4      24\n",
      "..    ...\n",
      "163    17\n",
      "164    20\n",
      "165    18\n",
      "166    22\n",
      "167    24\n",
      "\n",
      "[168 rows x 1 columns]\n",
      "     Price\n",
      "0       43\n",
      "1       32\n",
      "2       34\n",
      "3       41\n",
      "4       54\n",
      "..     ...\n",
      "163     31\n",
      "164     26\n",
      "165     31\n",
      "166     38\n",
      "167     34\n",
      "\n",
      "[168 rows x 1 columns]\n",
      "============================================\n",
      "[[2.93895981]]\n",
      "[-17.83214856]\n",
      "0.39318351691321984\n",
      "===================#Regression model for all variable====================\n",
      "=========================Model building done===========================\n",
      "[[ 1.53811994  1.91008711 -0.00272748  2.06805016]]\n",
      "[-24.02379967]\n",
      "0.6278809367791338\n",
      "[[44.1418574 ]\n",
      " [42.97843212]\n",
      " [33.05875686]\n",
      " [44.89397419]\n",
      " [49.12545691]\n",
      " [51.77947837]\n",
      " [40.31895569]\n",
      " [43.13094019]\n",
      " [48.11453971]\n",
      " [42.76442799]\n",
      " [39.68546062]\n",
      " [46.57914725]\n",
      " [46.58187473]\n",
      " [39.68818811]\n",
      " [43.13094019]\n",
      " [46.57914725]\n",
      " [46.20172511]\n",
      " [55.01095381]\n",
      " [39.69091559]\n",
      " [50.02462682]\n",
      " [51.56001928]\n",
      " [45.8352129 ]\n",
      " [43.13912264]\n",
      " [51.93744141]\n",
      " [50.02462682]\n",
      " [39.68818811]\n",
      " [48.11453971]\n",
      " [39.31894842]\n",
      " [48.11999467]\n",
      " [48.49196184]\n",
      " [39.31894842]\n",
      " [48.49741681]\n",
      " [45.04648227]\n",
      " [55.3801935 ]\n",
      " [58.45643338]\n",
      " [53.47556135]\n",
      " [44.67178762]\n",
      " [48.11453971]\n",
      " [53.09813922]\n",
      " [48.48923436]\n",
      " [39.69091559]\n",
      " [39.69364307]\n",
      " [42.76715547]\n",
      " [55.00822633]\n",
      " [44.29709296]\n",
      " [44.29709296]\n",
      " [37.40340634]\n",
      " [42.76170051]\n",
      " [49.28341996]\n",
      " [33.17192362]\n",
      " [43.13366768]\n",
      " [46.9538419 ]\n",
      " [41.60373018]\n",
      " [30.88714185]\n",
      " [34.33807639]\n",
      " [36.25089098]\n",
      " [45.83794039]\n",
      " [35.49604671]\n",
      " [44.29982045]\n",
      " [30.5124472 ]\n",
      " [53.10359418]\n",
      " [37.78355596]\n",
      " [36.24543602]\n",
      " [45.04648227]\n",
      " [35.87346885]\n",
      " [40.85706836]\n",
      " [45.04375479]\n",
      " [30.89259682]\n",
      " [38.53294527]\n",
      " [51.9401689 ]\n",
      " [46.20990756]\n",
      " [51.56274676]\n",
      " [53.1008667 ]\n",
      " [33.96065425]\n",
      " [51.56274676]\n",
      " [42.38700585]\n",
      " [40.85161339]\n",
      " [38.15279565]\n",
      " [36.23998105]\n",
      " [44.6745151 ]\n",
      " [44.66906013]\n",
      " [49.65538713]\n",
      " [49.64720468]\n",
      " [39.31622093]\n",
      " [49.64993216]\n",
      " [35.86801388]\n",
      " [47.7480275 ]\n",
      " [62.27388013]\n",
      " [46.57914725]\n",
      " [38.94698125]\n",
      " [46.20718008]\n",
      " [56.91831344]\n",
      " [43.92239831]\n",
      " [49.65538713]\n",
      " [41.6010027 ]\n",
      " [39.31894842]\n",
      " [32.04511217]\n",
      " [39.68818811]\n",
      " [33.96338173]\n",
      " [34.34080387]\n",
      " [41.59282025]\n",
      " [37.41158879]\n",
      " [43.92785327]\n",
      " [32.26729875]\n",
      " [55.0136813 ]\n",
      " [51.56547424]\n",
      " [36.2481635 ]\n",
      " [39.15825789]\n",
      " [45.04648227]\n",
      " [49.65538713]\n",
      " [37.77810099]\n",
      " [36.24270853]\n",
      " [51.56547424]\n",
      " [55.38564847]\n",
      " [22.8802812 ]\n",
      " [28.8190917 ]\n",
      " [19.69905701]\n",
      " [37.62013795]\n",
      " [33.80269121]\n",
      " [33.80541869]\n",
      " [37.62286543]\n",
      " [35.71277832]\n",
      " [32.63926592]\n",
      " [50.61605308]\n",
      " [39.15825789]\n",
      " [37.99756009]\n",
      " [44.1418574 ]\n",
      " [39.16098537]\n",
      " [35.33808367]\n",
      " [49.08338811]\n",
      " [45.26594137]\n",
      " [53.31487083]\n",
      " [39.15280292]\n",
      " [51.78220585]\n",
      " [42.97570463]\n",
      " [41.44303966]\n",
      " [39.52749758]\n",
      " [33.80541869]\n",
      " [33.436179  ]\n",
      " [43.72782142]\n",
      " [42.60646494]\n",
      " [42.60373746]\n",
      " [55.5996526 ]\n",
      " [46.04921703]\n",
      " [57.50701222]\n",
      " [55.22768542]\n",
      " [43.35585425]\n",
      " [49.86393629]\n",
      " [40.69365035]\n",
      " [36.08474549]\n",
      " [38.78356324]\n",
      " [47.58188201]\n",
      " [44.51382457]\n",
      " [41.07107249]\n",
      " [28.82181918]\n",
      " [37.24817078]\n",
      " [46.04921703]\n",
      " [34.17738586]\n",
      " [29.19378635]\n",
      " [39.15825789]\n",
      " [44.50836961]\n",
      " [36.87620361]\n",
      " [35.71277832]\n",
      " [30.73190629]\n",
      " [37.25362574]\n",
      " [34.17738586]\n",
      " [42.22904281]\n",
      " [31.94831032]]\n",
      "===================Q15: RMSE Value of full model=====================\n",
      "5.651865323787545\n",
      "====================Q16:RSqaured Value of full model====================\n",
      "0.6278809367791338\n",
      "=====================Q17: RMSE Base with Full Model======================\n",
      "{'RMSE-test from model': 5.651865323787545, 'Base RMSE': 9.26511566022135}\n",
      "==================Q18:Co-efficient of decor=====================\n",
      "=========================Model building done model_droppingService_NYC===========================\n",
      "[[1.53634566 1.90937296 2.0670128 ]]\n",
      "[-24.02687967]\n",
      "0.6278808286060671\n"
     ]
    },
    {
     "name": "stderr",
     "output_type": "stream",
     "text": [
      "C:\\Users\\Admin\\anaconda3\\lib\\site-packages\\numpy\\core\\fromnumeric.py:3438: FutureWarning: In a future version, DataFrame.mean(axis=None) will return a scalar mean over the entire DataFrame. To retain the old behavior, use 'frame.mean(axis=0)' or just 'frame.mean()'\n",
      "  return mean(axis=axis, dtype=dtype, out=out, **kwargs)\n"
     ]
    }
   ],
   "source": [
    "import numpy as np\n",
    "import pandas as pd \n",
    "import matplotlib as plt\n",
    "import seaborn as sns\n",
    "\n",
    "from sklearn.linear_model import LinearRegression\n",
    "from sklearn.model_selection import train_test_split\n",
    "\n",
    "from sklearn.metrics import mean_squared_error\n",
    "import math\n",
    "\n",
    "\n",
    "df = pd.read_csv('E:\\\\Document\\\\Pre-RequisitePrgrame\\\\GITAA Training\\\\Notes\\\\Week 5\\\\P301.txt', delimiter='\\t')\n",
    "print(df.head())\n",
    "\n",
    "#print(df.describe())\n",
    "#print(df.info())\n",
    "\n",
    "pd_unit = pd.DataFrame(df['Units'])\n",
    "pd_minutes = pd.DataFrame(df['Minutes'])\n",
    "\n",
    "\n",
    "\n",
    "#print(pd_unit.head())\n",
    "#print(pd_minutes.head())\n",
    "\n",
    "model = LinearRegression()\n",
    "result = model.fit(pd_unit, pd_minutes)\n",
    "#print(model.coef_)\n",
    "#print(model.intercept_)\n",
    "#print(model.score(pd_unit, pd_minutes))\n",
    "\n",
    "#Predict a new value\n",
    "print('-------#Q11--------')\n",
    "pd_unit_ip = pd.read_csv('E:\\\\Document\\\\Pre-RequisitePrgrame\\\\GITAA Training\\\\Notes\\\\Week 5\\\\P301 - Test.txt', delimiter='\\t')\n",
    "print(pd_unit_ip)\n",
    "pd_minutes_predeicted = model.predict(pd_unit_ip)\n",
    "print('===========Prediction==============')\n",
    "print(pd_minutes_predeicted)\n",
    "\n",
    "print('-------#Q12--------')\n",
    "pd_unit_ip = pd.read_csv('E:\\\\Document\\\\Pre-RequisitePrgrame\\\\GITAA Training\\\\Notes\\\\Week 5\\\\P301 - Test - 4Comp.txt', delimiter='\\t')\n",
    "print(pd_unit_ip)\n",
    "pd_minutes_predeicted = model.predict(pd_unit_ip)\n",
    "print('===========Prediction==============')\n",
    "print(pd_minutes_predeicted)\n",
    "\n",
    "print('-------#Q13--------')\n",
    "pd_nyc = pd.read_csv('E:\\\\Document\\\\Pre-RequisitePrgrame\\\\GITAA Training\\\\Notes\\\\Week 5\\\\nyc.csv')\n",
    "print(pd_nyc.head())\n",
    "\n",
    "print(pd_nyc.corr())\n",
    "\n",
    "print('=================#Regression between Price and Food========================')\n",
    "pd_price = pd.DataFrame(pd_nyc['Price'])\n",
    "pd_food = pd.DataFrame(pd_nyc['Food'])\n",
    "\n",
    "print(pd_food)\n",
    "print(pd_price)\n",
    "\n",
    "model_nyc = LinearRegression()\n",
    "model_nyc.fit(pd_food, pd_price)\n",
    "print('============================================')\n",
    "print(model_nyc.coef_)\n",
    "print(model_nyc.intercept_)\n",
    "print(model_nyc.score(pd_food, pd_price))\n",
    "\n",
    "print('===================#Regression model for all variable====================')\n",
    "pd_nyc.head()\n",
    "input_parameter = pd_nyc[['Food','Decor','Service','East']]\n",
    "output_parameter = pd_nyc[['Price']]\n",
    "model_fullnyc = LinearRegression()\n",
    "model_fullnyc.fit(input_parameter, output_parameter)\n",
    "print('=========================Model building done===========================')\n",
    "print(model_fullnyc.coef_)\n",
    "print(model_fullnyc.intercept_)\n",
    "print(model_fullnyc.score(input_parameter,output_parameter))\n",
    "#RMSE\n",
    "pd_price_actual = output_parameter\n",
    "pd_price_predicted = model_fullnyc.predict(input_parameter)\n",
    "print(pd_price_predicted)\n",
    "RMSE_Val = math.sqrt(mean_squared_error(pd_price_actual,pd_price_predicted))\n",
    "print('===================Q15: RMSE Value of full model=====================')\n",
    "print(RMSE_Val)\n",
    "\n",
    "print('====================Q16:RSqaured Value of full model====================')\n",
    "R_Square = model_fullnyc.score(input_parameter,output_parameter)\n",
    "print(R_Square)\n",
    "\n",
    "print('=====================Q17: RMSE Base with Full Model======================')\n",
    "def rmse(test_y,predicted_y):\n",
    "    rmse_test=np.sqrt(mean_squared_error(test_y, predicted_y))\n",
    "    #for base rmse\n",
    "    base_pred = np.repeat(np.mean(test_y), len(test_y))\n",
    "    rmse_base = np.sqrt(mean_squared_error((test_y), base_pred))\n",
    "    values={'RMSE-test from model':rmse_test,'Base RMSE':rmse_base}\n",
    "    return values\n",
    "\n",
    "\n",
    "\n",
    "print(rmse(output_parameter,pd_price_predicted))\n",
    "\n",
    "print('==================Q18:Co-efficient of decor=====================')\n",
    "\n",
    "input_parameter_new = pd_nyc[['Food','Decor','East']]\n",
    "output_parameter_new = pd_nyc[['Price']]\n",
    "model_droppingService_NYC = LinearRegression()\n",
    "model_droppingService_NYC.fit(input_parameter_new, output_parameter_new)\n",
    "print('=========================Model building done model_droppingService_NYC===========================')\n",
    "print(model_droppingService_NYC.coef_)\n",
    "print(model_droppingService_NYC.intercept_)\n",
    "print(model_droppingService_NYC.score(input_parameter_new,output_parameter_new))\n",
    "\n",
    "\n",
    "\n",
    "#base_pred = np.repeat(np.mean(output_parameter), len(output_parameter))\n",
    "#print(base_pred[0])\n",
    "#output_parameter_base = pd_nyc[['Price']]\n",
    "#output_parameter_base['Price'] = base_pred[0]\n",
    "#print(output_parameter_base)\n",
    "#RMSE_Base = np.sqrt(mean_squared_error(input_parameter, base_pred))\n",
    "#print(RMSE_Base)\n",
    "\n",
    "\n",
    "\n",
    "\n",
    "\n",
    "\n"
   ]
  },
  {
   "cell_type": "code",
   "execution_count": 102,
   "id": "828d1396",
   "metadata": {},
   "outputs": [
    {
     "name": "stdout",
     "output_type": "stream",
     "text": [
      "=============================Q19==============================\n",
      "Dataset Length:  44\n",
      "Dataset Shape:  (44, 3)\n",
      "Dataset:    dataset     x     y\n",
      "0       I  10.0  8.04\n",
      "1       I   8.0  6.95\n",
      "2       I  13.0  7.58\n",
      "3       I   9.0  8.81\n",
      "4       I  11.0  8.33\n",
      "Results Using Gini Index:\n",
      "Predicted values:\n",
      "['I' 'I' 'III' 'I' 'IV']\n",
      "Confusion Matrix:  [[1 0 0 0]\n",
      " [1 0 1 0]\n",
      " [1 0 0 0]\n",
      " [0 0 0 1]]\n",
      "Accuracy :  40.0\n",
      "Report :                precision    recall  f1-score   support\n",
      "\n",
      "           I       0.33      1.00      0.50         1\n",
      "          II       0.00      0.00      0.00         2\n",
      "         III       0.00      0.00      0.00         1\n",
      "          IV       1.00      1.00      1.00         1\n",
      "\n",
      "    accuracy                           0.40         5\n",
      "   macro avg       0.33      0.50      0.38         5\n",
      "weighted avg       0.27      0.40      0.30         5\n",
      "\n",
      "Results Using Entropy:\n",
      "Predicted values:\n",
      "['I' 'I' 'III' 'I' 'IV']\n",
      "Confusion Matrix:  [[1 0 0 0]\n",
      " [1 0 1 0]\n",
      " [1 0 0 0]\n",
      " [0 0 0 1]]\n",
      "Accuracy :  40.0\n",
      "Report :                precision    recall  f1-score   support\n",
      "\n",
      "           I       0.33      1.00      0.50         1\n",
      "          II       0.00      0.00      0.00         2\n",
      "         III       0.00      0.00      0.00         1\n",
      "          IV       1.00      1.00      1.00         1\n",
      "\n",
      "    accuracy                           0.40         5\n",
      "   macro avg       0.33      0.50      0.38         5\n",
      "weighted avg       0.27      0.40      0.30         5\n",
      "\n"
     ]
    },
    {
     "name": "stderr",
     "output_type": "stream",
     "text": [
      "C:\\Users\\Admin\\anaconda3\\lib\\site-packages\\sklearn\\metrics\\_classification.py:1318: UndefinedMetricWarning: Precision and F-score are ill-defined and being set to 0.0 in labels with no predicted samples. Use `zero_division` parameter to control this behavior.\n",
      "  _warn_prf(average, modifier, msg_start, len(result))\n",
      "C:\\Users\\Admin\\anaconda3\\lib\\site-packages\\sklearn\\metrics\\_classification.py:1318: UndefinedMetricWarning: Precision and F-score are ill-defined and being set to 0.0 in labels with no predicted samples. Use `zero_division` parameter to control this behavior.\n",
      "  _warn_prf(average, modifier, msg_start, len(result))\n",
      "C:\\Users\\Admin\\anaconda3\\lib\\site-packages\\sklearn\\metrics\\_classification.py:1318: UndefinedMetricWarning: Precision and F-score are ill-defined and being set to 0.0 in labels with no predicted samples. Use `zero_division` parameter to control this behavior.\n",
      "  _warn_prf(average, modifier, msg_start, len(result))\n",
      "C:\\Users\\Admin\\anaconda3\\lib\\site-packages\\sklearn\\metrics\\_classification.py:1318: UndefinedMetricWarning: Precision and F-score are ill-defined and being set to 0.0 in labels with no predicted samples. Use `zero_division` parameter to control this behavior.\n",
      "  _warn_prf(average, modifier, msg_start, len(result))\n",
      "C:\\Users\\Admin\\anaconda3\\lib\\site-packages\\sklearn\\metrics\\_classification.py:1318: UndefinedMetricWarning: Precision and F-score are ill-defined and being set to 0.0 in labels with no predicted samples. Use `zero_division` parameter to control this behavior.\n",
      "  _warn_prf(average, modifier, msg_start, len(result))\n",
      "C:\\Users\\Admin\\anaconda3\\lib\\site-packages\\sklearn\\metrics\\_classification.py:1318: UndefinedMetricWarning: Precision and F-score are ill-defined and being set to 0.0 in labels with no predicted samples. Use `zero_division` parameter to control this behavior.\n",
      "  _warn_prf(average, modifier, msg_start, len(result))\n"
     ]
    }
   ],
   "source": [
    "import numpy as np\n",
    "import pandas as pd\n",
    "from sklearn.metrics import confusion_matrix\n",
    "from sklearn.model_selection import train_test_split\n",
    "from sklearn.tree import DecisionTreeClassifier\n",
    "from sklearn.metrics import accuracy_score\n",
    "from sklearn.metrics import classification_report\n",
    "import seaborn as sns\n",
    "print('=============================Q19==============================')\n",
    "from sklearn.tree import DecisionTreeClassifier\n",
    "\n",
    "\n",
    "def importdata():\n",
    "    balance_data=sns.load_dataset('anscombe')\n",
    "      \n",
    "    # Printing the dataswet shape\n",
    "    print (\"Dataset Length: \", len(balance_data))\n",
    "    print (\"Dataset Shape: \", balance_data.shape)\n",
    "      \n",
    "    # Printing the dataset obseravtions\n",
    "    print (\"Dataset: \",balance_data.head())\n",
    "    return balance_data\n",
    "\n",
    "\n",
    "\n",
    "def splitdataset(balance_data):\n",
    "  \n",
    "    # Separating the target variable\n",
    "    X = balance_data.values[:, 1:5]\n",
    "    Y = balance_data.values[:, 0]\n",
    "  \n",
    "    # Splitting the dataset into train and test\n",
    "    X_train, X_test, y_train, y_test = train_test_split( \n",
    "    X, Y, test_size = 0.1, random_state = 100)\n",
    "      \n",
    "    return X, Y, X_train, X_test, y_train, y_test\n",
    "      \n",
    "# Function to perform training with giniIndex.\n",
    "def train_using_gini(X_train, X_test, y_train):\n",
    "  \n",
    "    # Creating the classifier object\n",
    "    clf_gini = DecisionTreeClassifier(criterion = \"gini\",\n",
    "            random_state = 100,max_depth=3, min_samples_leaf=5)\n",
    "  \n",
    "    # Performing training\n",
    "    clf_gini.fit(X_train, y_train)\n",
    "    return clf_gini\n",
    "      \n",
    "# Function to perform training with entropy.\n",
    "def tarin_using_entropy(X_train, X_test, y_train):\n",
    "  \n",
    "    # Decision tree with entropy\n",
    "    clf_entropy = DecisionTreeClassifier(\n",
    "            criterion = \"entropy\", random_state = 100,\n",
    "            max_depth = 3, min_samples_leaf = 5)\n",
    "  \n",
    "    # Performing training\n",
    "    clf_entropy.fit(X_train, y_train)\n",
    "    return clf_entropy\n",
    "  \n",
    "  \n",
    "# Function to make predictions\n",
    "def prediction(X_test, clf_object):\n",
    "  \n",
    "    # Predicton on test with giniIndex\n",
    "    y_pred = clf_object.predict(X_test)\n",
    "    print(\"Predicted values:\")\n",
    "    print(y_pred)\n",
    "    return y_pred\n",
    "      \n",
    "# Function to calculate accuracy\n",
    "def cal_accuracy(y_test, y_pred):\n",
    "      \n",
    "    print(\"Confusion Matrix: \",\n",
    "        confusion_matrix(y_test, y_pred))\n",
    "      \n",
    "    print (\"Accuracy : \",\n",
    "    accuracy_score(y_test,y_pred)*100)\n",
    "      \n",
    "    print(\"Report : \",\n",
    "    classification_report(y_test, y_pred))\n",
    "  \n",
    "# Driver code\n",
    "def main():\n",
    "      \n",
    "    # Building Phase\n",
    "    data = importdata()\n",
    "    X, Y, X_train, X_test, y_train, y_test = splitdataset(data)\n",
    "    clf_gini = train_using_gini(X_train, X_test, y_train)\n",
    "    clf_entropy = tarin_using_entropy(X_train, X_test, y_train)\n",
    "      \n",
    "    # Operational Phase\n",
    "    print(\"Results Using Gini Index:\")\n",
    "      \n",
    "    # Prediction using gini\n",
    "    y_pred_gini = prediction(X_test, clf_gini)\n",
    "    cal_accuracy(y_test, y_pred_gini)\n",
    "      \n",
    "    print(\"Results Using Entropy:\")\n",
    "    # Prediction using entropy\n",
    "    y_pred_entropy = prediction(X_test, clf_entropy)\n",
    "    cal_accuracy(y_test, y_pred_entropy)\n",
    "      \n",
    "      \n",
    "# Calling main function\n",
    "if __name__==\"__main__\":\n",
    "    main()"
   ]
  },
  {
   "cell_type": "code",
   "execution_count": 108,
   "id": "7a2c7b43",
   "metadata": {},
   "outputs": [
    {
     "name": "stdout",
     "output_type": "stream",
     "text": [
      "       x\n",
      "0   10.0\n",
      "1    8.0\n",
      "2   13.0\n",
      "3    9.0\n",
      "4   11.0\n",
      "5   14.0\n",
      "6    6.0\n",
      "7    4.0\n",
      "8   12.0\n",
      "9    7.0\n",
      "10   5.0\n",
      "11  10.0\n",
      "12   8.0\n",
      "13  13.0\n",
      "14   9.0\n",
      "15  11.0\n",
      "16  14.0\n",
      "17   6.0\n",
      "18   4.0\n",
      "19  12.0\n",
      "20   7.0\n",
      "21   5.0\n",
      "22  10.0\n",
      "23   8.0\n",
      "24  13.0\n",
      "25   9.0\n",
      "26  11.0\n",
      "27  14.0\n",
      "28   6.0\n",
      "29   4.0\n",
      "30  12.0\n",
      "31   7.0\n",
      "32   5.0\n",
      "33   8.0\n",
      "34   8.0\n",
      "35   8.0\n",
      "36   8.0\n",
      "37   8.0\n",
      "38   8.0\n",
      "39   8.0\n",
      "40  19.0\n",
      "41   8.0\n",
      "42   8.0\n",
      "43   8.0\n",
      "        y\n",
      "0    8.04\n",
      "1    6.95\n",
      "2    7.58\n",
      "3    8.81\n",
      "4    8.33\n",
      "5    9.96\n",
      "6    7.24\n",
      "7    4.26\n",
      "8   10.84\n",
      "9    4.82\n",
      "10   5.68\n",
      "11   9.14\n",
      "12   8.14\n",
      "13   8.74\n",
      "14   8.77\n",
      "15   9.26\n",
      "16   8.10\n",
      "17   6.13\n",
      "18   3.10\n",
      "19   9.13\n",
      "20   7.26\n",
      "21   4.74\n",
      "22   7.46\n",
      "23   6.77\n",
      "24  12.74\n",
      "25   7.11\n",
      "26   7.81\n",
      "27   8.84\n",
      "28   6.08\n",
      "29   5.39\n",
      "30   8.15\n",
      "31   6.42\n",
      "32   5.73\n",
      "33   6.58\n",
      "34   5.76\n",
      "35   7.71\n",
      "36   8.84\n",
      "37   8.47\n",
      "38   7.04\n",
      "39   5.25\n",
      "40  12.50\n",
      "41   5.56\n",
      "42   7.91\n",
      "43   6.89\n",
      "[[0.49993182]]\n",
      "[3.00129545]\n"
     ]
    }
   ],
   "source": [
    "import numpy as np\n",
    "import pandas as pd \n",
    "import matplotlib as plt\n",
    "import seaborn as sns\n",
    "\n",
    "from sklearn.linear_model import LinearRegression\n",
    "from sklearn.model_selection import train_test_split\n",
    "\n",
    "from sklearn.metrics import mean_squared_error\n",
    "import math\n",
    "\n",
    "balance_data=sns.load_dataset('anscombe')\n",
    "balance_data.head()\n",
    "input_parameter = balance_data[['x']]\n",
    "output_parameter = balance_data[['y']]\n",
    "\n",
    "print(input_parameter)\n",
    "print(output_parameter)\n",
    "\n",
    "model_anscombe = LinearRegression()\n",
    "\n",
    "\n",
    "\n",
    "model_anscombe.fit(input_parameter, output_parameter)\n",
    "print(model_anscombe.coef_)\n",
    "print(model_anscombe.intercept_)\n",
    "#print(model_anscombe.score(input_anscombe,output_anscombe))"
   ]
  },
  {
   "cell_type": "code",
   "execution_count": 11,
   "id": "9b153633",
   "metadata": {},
   "outputs": [
    {
     "name": "stdout",
     "output_type": "stream",
     "text": [
      "(Matrix([\n",
      "[1, 0, 27/49],\n",
      "[0, 1, -18/7],\n",
      "[0, 0,     0]]), (0, 1))\n"
     ]
    }
   ],
   "source": [
    "import numpy as np \n",
    "import sympy as s\n",
    "M = np.array([[7,5,-9],[-7,2,-9],[7,5,-9]])\n",
    "MQ = Matrix(M)\n",
    "print(MQ.rref())"
   ]
  },
  {
   "cell_type": "code",
   "execution_count": 4,
   "id": "aea7107a",
   "metadata": {},
   "outputs": [
    {
     "ename": "ValueError",
     "evalue": "The truth value of a DataFrame is ambiguous. Use a.empty, a.bool(), a.item(), a.any() or a.all().",
     "output_type": "error",
     "traceback": [
      "\u001b[1;31m---------------------------------------------------------------------------\u001b[0m",
      "\u001b[1;31mValueError\u001b[0m                                Traceback (most recent call last)",
      "Input \u001b[1;32mIn [4]\u001b[0m, in \u001b[0;36m<cell line: 8>\u001b[1;34m()\u001b[0m\n\u001b[0;32m      5\u001b[0m df \u001b[38;5;241m=\u001b[39m pd\u001b[38;5;241m.\u001b[39mDataFrame(np\u001b[38;5;241m.\u001b[39marray([\u001b[38;5;241m8\u001b[39m,\u001b[38;5;241m-\u001b[39m\u001b[38;5;241m3\u001b[39m, \u001b[38;5;241m0\u001b[39m,\u001b[38;5;241m3\u001b[39m,\u001b[38;5;241m-\u001b[39m\u001b[38;5;241m7\u001b[39m]))\n\u001b[0;32m      6\u001b[0m df1 \u001b[38;5;241m=\u001b[39m pd\u001b[38;5;241m.\u001b[39mDataFrame(np\u001b[38;5;241m.\u001b[39marray([\u001b[38;5;241m16\u001b[39m,\u001b[38;5;241m5\u001b[39m,\u001b[38;5;241m8\u001b[39m,\u001b[38;5;241m11\u001b[39m,\u001b[38;5;241m1\u001b[39m]))\n\u001b[1;32m----> 8\u001b[0m \u001b[38;5;28mprint\u001b[39m(\u001b[43mdf\u001b[49m\u001b[38;5;241;43m.\u001b[39;49m\u001b[43mcorr\u001b[49m\u001b[43m(\u001b[49m\u001b[43mdf1\u001b[49m\u001b[43m,\u001b[49m\u001b[38;5;124;43m\"\u001b[39;49m\u001b[38;5;124;43mpearson\u001b[39;49m\u001b[38;5;124;43m\"\u001b[39;49m\u001b[43m)\u001b[49m)\n",
      "File \u001b[1;32m~\\anaconda3\\lib\\site-packages\\pandas\\core\\frame.py:9533\u001b[0m, in \u001b[0;36mDataFrame.corr\u001b[1;34m(self, method, min_periods)\u001b[0m\n\u001b[0;32m   9530\u001b[0m idx \u001b[38;5;241m=\u001b[39m cols\u001b[38;5;241m.\u001b[39mcopy()\n\u001b[0;32m   9531\u001b[0m mat \u001b[38;5;241m=\u001b[39m numeric_df\u001b[38;5;241m.\u001b[39mto_numpy(dtype\u001b[38;5;241m=\u001b[39m\u001b[38;5;28mfloat\u001b[39m, na_value\u001b[38;5;241m=\u001b[39mnp\u001b[38;5;241m.\u001b[39mnan, copy\u001b[38;5;241m=\u001b[39m\u001b[38;5;28;01mFalse\u001b[39;00m)\n\u001b[1;32m-> 9533\u001b[0m \u001b[38;5;28;01mif\u001b[39;00m \u001b[43mmethod\u001b[49m\u001b[43m \u001b[49m\u001b[38;5;241;43m==\u001b[39;49m\u001b[43m \u001b[49m\u001b[38;5;124;43m\"\u001b[39;49m\u001b[38;5;124;43mpearson\u001b[39;49m\u001b[38;5;124;43m\"\u001b[39;49m:\n\u001b[0;32m   9534\u001b[0m     correl \u001b[38;5;241m=\u001b[39m libalgos\u001b[38;5;241m.\u001b[39mnancorr(mat, minp\u001b[38;5;241m=\u001b[39mmin_periods)\n\u001b[0;32m   9535\u001b[0m \u001b[38;5;28;01melif\u001b[39;00m method \u001b[38;5;241m==\u001b[39m \u001b[38;5;124m\"\u001b[39m\u001b[38;5;124mspearman\u001b[39m\u001b[38;5;124m\"\u001b[39m:\n",
      "File \u001b[1;32m~\\anaconda3\\lib\\site-packages\\pandas\\core\\generic.py:1527\u001b[0m, in \u001b[0;36mNDFrame.__nonzero__\u001b[1;34m(self)\u001b[0m\n\u001b[0;32m   1525\u001b[0m \u001b[38;5;129m@final\u001b[39m\n\u001b[0;32m   1526\u001b[0m \u001b[38;5;28;01mdef\u001b[39;00m \u001b[38;5;21m__nonzero__\u001b[39m(\u001b[38;5;28mself\u001b[39m):\n\u001b[1;32m-> 1527\u001b[0m     \u001b[38;5;28;01mraise\u001b[39;00m \u001b[38;5;167;01mValueError\u001b[39;00m(\n\u001b[0;32m   1528\u001b[0m         \u001b[38;5;124mf\u001b[39m\u001b[38;5;124m\"\u001b[39m\u001b[38;5;124mThe truth value of a \u001b[39m\u001b[38;5;132;01m{\u001b[39;00m\u001b[38;5;28mtype\u001b[39m(\u001b[38;5;28mself\u001b[39m)\u001b[38;5;241m.\u001b[39m\u001b[38;5;18m__name__\u001b[39m\u001b[38;5;132;01m}\u001b[39;00m\u001b[38;5;124m is ambiguous. \u001b[39m\u001b[38;5;124m\"\u001b[39m\n\u001b[0;32m   1529\u001b[0m         \u001b[38;5;124m\"\u001b[39m\u001b[38;5;124mUse a.empty, a.bool(), a.item(), a.any() or a.all().\u001b[39m\u001b[38;5;124m\"\u001b[39m\n\u001b[0;32m   1530\u001b[0m     )\n",
      "\u001b[1;31mValueError\u001b[0m: The truth value of a DataFrame is ambiguous. Use a.empty, a.bool(), a.item(), a.any() or a.all()."
     ]
    }
   ],
   "source": [
    "import numpy as np \n",
    "import sympy as s\n",
    "import pandas as pd \n",
    "\n",
    "df = pd.DataFrame(np.array([8,-3, 0,3,-7]))\n",
    "df1 = pd.DataFrame(np.array([16,5,8,11,1]))\n",
    "\n",
    "print(df.corr(df1,\"pearson\"))"
   ]
  },
  {
   "cell_type": "code",
   "execution_count": null,
   "id": "c3252323",
   "metadata": {},
   "outputs": [],
   "source": []
  },
  {
   "cell_type": "code",
   "execution_count": null,
   "id": "ff7274d2",
   "metadata": {},
   "outputs": [],
   "source": []
  },
  {
   "cell_type": "code",
   "execution_count": null,
   "id": "7f790d26",
   "metadata": {},
   "outputs": [],
   "source": []
  },
  {
   "cell_type": "code",
   "execution_count": null,
   "id": "92c52cd2",
   "metadata": {},
   "outputs": [],
   "source": []
  },
  {
   "cell_type": "code",
   "execution_count": null,
   "id": "ca74de2a",
   "metadata": {},
   "outputs": [],
   "source": []
  },
  {
   "cell_type": "code",
   "execution_count": null,
   "id": "6e31039e",
   "metadata": {},
   "outputs": [],
   "source": []
  },
  {
   "cell_type": "code",
   "execution_count": null,
   "id": "8bd4e296",
   "metadata": {},
   "outputs": [],
   "source": []
  },
  {
   "cell_type": "code",
   "execution_count": null,
   "id": "30171bd5",
   "metadata": {},
   "outputs": [],
   "source": []
  },
  {
   "cell_type": "code",
   "execution_count": null,
   "id": "77d35948",
   "metadata": {},
   "outputs": [],
   "source": []
  },
  {
   "cell_type": "code",
   "execution_count": null,
   "id": "4d00ef16",
   "metadata": {},
   "outputs": [],
   "source": []
  },
  {
   "cell_type": "code",
   "execution_count": null,
   "id": "11ff9b50",
   "metadata": {},
   "outputs": [],
   "source": []
  },
  {
   "cell_type": "code",
   "execution_count": null,
   "id": "12bc4203",
   "metadata": {},
   "outputs": [],
   "source": []
  },
  {
   "cell_type": "code",
   "execution_count": null,
   "id": "6b675263",
   "metadata": {},
   "outputs": [],
   "source": []
  }
 ],
 "metadata": {
  "kernelspec": {
   "display_name": "Python 3 (ipykernel)",
   "language": "python",
   "name": "python3"
  },
  "language_info": {
   "codemirror_mode": {
    "name": "ipython",
    "version": 3
   },
   "file_extension": ".py",
   "mimetype": "text/x-python",
   "name": "python",
   "nbconvert_exporter": "python",
   "pygments_lexer": "ipython3",
   "version": "3.9.16"
  }
 },
 "nbformat": 4,
 "nbformat_minor": 5
}
