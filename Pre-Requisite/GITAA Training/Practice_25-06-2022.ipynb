{
 "cells": [
  {
   "cell_type": "code",
   "execution_count": 40,
   "id": "747c579c",
   "metadata": {},
   "outputs": [
    {
     "name": "stdout",
     "output_type": "stream",
     "text": [
      "[[3 3 2]\n",
      " [2 3 2]\n",
      " [3 3 2]]\n",
      "(3, 3)\n",
      "2\n",
      "int32\n",
      "2\n",
      "Eigen Value :  [7.60555128e+00 3.94448725e-01 6.13848056e-16]\n",
      "Eigen Vector :  [[-6.02549387e-01 -4.79089583e-01  1.11543190e-15]\n",
      " [-5.23324442e-01  7.35490546e-01 -5.54700196e-01]\n",
      " [-6.02549387e-01 -4.79089583e-01  8.32050294e-01]]\n",
      "Sum of eigenValue :  7.999999999999997\n",
      "------SVD--------\n",
      "[[3 3 2]\n",
      " [2 3 2]\n",
      " [3 3 2]]\n",
      "[[-6.01859877e-01  3.71166658e-01 -7.07106781e-01]\n",
      " [-5.24908921e-01 -8.51158401e-01  1.15444696e-17]\n",
      " [-6.01859877e-01  3.71166658e-01  7.07106781e-01]]----------------[7.78272124e+00 6.55171804e-01 1.36280684e-17]----------------[[-0.59888784 -0.66633326 -0.44422217]\n",
      " [ 0.80083291 -0.4983048  -0.3322032 ]\n",
      " [ 0.         -0.5547002   0.83205029]]\n",
      "----------RREF----------\n",
      "Matrix([[3, 3, 2], [2, 3, 2], [3, 3, 2]])\n",
      "(Matrix([\n",
      "[1, 0,   0],\n",
      "[0, 1, 2/3],\n",
      "[0, 0,   0]]), (0, 1))\n",
      "[Matrix([[3, 3, 2]]), Matrix([[0, 3, 2]])]\n",
      "[Matrix([\n",
      "[3],\n",
      "[2],\n",
      "[3]]), Matrix([\n",
      "[3],\n",
      "[3],\n",
      "[3]])]\n",
      "[Matrix([\n",
      "[   0],\n",
      "[-2/3],\n",
      "[   1]])]\n"
     ]
    }
   ],
   "source": [
    "import numpy as np\n",
    "import pandas as pd\n",
    "from sympy import *\n",
    "\n",
    "\n",
    "np.random.seed(10)\n",
    "matrix = np.random.randint(2,5,(3,3))\n",
    "print(matrix)\n",
    "print(matrix.shape)\n",
    "print(matrix.ndim)\n",
    "print(matrix.dtype)\n",
    "\n",
    "#Rank of matrix\n",
    "print(np.linalg.matrix_rank(matrix))\n",
    "eigenValue, eigenVector = np.linalg.eig(matrix)\n",
    "print('Eigen Value : ', eigenValue, sep= \" \")\n",
    "print('Eigen Vector : ', eigenVector, sep= \" \")\n",
    "\n",
    "print('Sum of eigenValue : ', sum(eigenValue), sep=\" \")\n",
    "\n",
    "\n",
    "print('------SVD--------')\n",
    "print(matrix)\n",
    "U, D, VT = np.linalg.svd(matrix)\n",
    "print(U,D,VT, sep=\"----------------\")\n",
    "\n",
    "print('----------RREF----------')\n",
    "M = Matrix(matrix)\n",
    "print(M)\n",
    "matrix_rref = M.rref()\n",
    "print(matrix_rref)\n",
    "print(M.rowspace())\n",
    "print(M.columnspace())\n",
    "print(M.nullspace())\n",
    "\n",
    "\n",
    "from scipy import * \n",
    "\n"
   ]
  },
  {
   "cell_type": "code",
   "execution_count": null,
   "id": "13979931",
   "metadata": {},
   "outputs": [],
   "source": []
  }
 ],
 "metadata": {
  "kernelspec": {
   "display_name": "Python 3 (ipykernel)",
   "language": "python",
   "name": "python3"
  },
  "language_info": {
   "codemirror_mode": {
    "name": "ipython",
    "version": 3
   },
   "file_extension": ".py",
   "mimetype": "text/x-python",
   "name": "python",
   "nbconvert_exporter": "python",
   "pygments_lexer": "ipython3",
   "version": "3.9.16"
  }
 },
 "nbformat": 4,
 "nbformat_minor": 5
}
