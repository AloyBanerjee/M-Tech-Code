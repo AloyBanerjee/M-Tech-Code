{
 "cells": [
  {
   "cell_type": "code",
   "execution_count": null,
   "id": "8fbd0245",
   "metadata": {},
   "outputs": [],
   "source": [
    "import pandas as pd\n",
    "import matplotlib.pyplot as plt\n",
    "import seaborn as sns\n",
    "import numpy as np\n",
    "\n",
    "plt.rcParams.update({'font.size': 10})"
   ]
  },
  {
   "attachments": {},
   "cell_type": "markdown",
   "id": "2739caeb",
   "metadata": {},
   "source": [
    "**To find significant geometrical aspects to distinguish between malignant and beningn tumours we need to find features in the dataframe that have a significant difference in their median values**"
   ]
  },
  {
   "cell_type": "code",
   "execution_count": null,
   "id": "1dcb612c",
   "metadata": {},
   "outputs": [],
   "source": [
    "data = pd.read_csv('Cancergeometry.csv')\n",
    "y = data.diagnosis                       \n",
    "x = data.drop(['id','diagnosis'],axis = 1 )\n",
    "x.head()"
   ]
  },
  {
   "cell_type": "code",
   "execution_count": null,
   "id": "94630748",
   "metadata": {},
   "outputs": [],
   "source": [
    "data_dia = y # labels (M or B) for diagnosis\n",
    "data = x # features for tumour types\n",
    "data_n_2 = (data - data.mean()) / (data.std())  # Normalize the values to fit all values in the same plot"
   ]
  },
  {
   "attachments": {},
   "cell_type": "markdown",
   "id": "4fc93793",
   "metadata": {},
   "source": [
    "# Violin Plot"
   ]
  },
  {
   "cell_type": "code",
   "execution_count": null,
   "id": "b100c918",
   "metadata": {},
   "outputs": [],
   "source": [
    "fig, ax = plt.subplots(figsize=(20,8)) # Make a figure and a set of subplots\n",
    "data = pd.concat([y,data_n_2],axis=1) # Concatenate the dataframes so that the diagnosis column is next to the features\n",
    "data = pd.melt(data,id_vars=\"diagnosis\",\n",
    "                    var_name=\"features\",\n",
    "                    value_name='value')  # Melt the data into a long format so that seaborn can make a violin plot\n",
    "sns.violinplot(x=\"features\", y=\"value\", hue=\"diagnosis\", data=data,split=True, inner=\"quart\") # Make a violin plot\n",
    "plt.xticks(rotation=90); # Rotate the x-axis labels so that they are easier to read"
   ]
  },
  {
   "attachments": {},
   "cell_type": "markdown",
   "id": "a1ba19f4",
   "metadata": {},
   "source": [
    "# Box Plot"
   ]
  },
  {
   "cell_type": "code",
   "execution_count": null,
   "id": "a269941f",
   "metadata": {},
   "outputs": [],
   "source": [
    "fig, ax = plt.subplots(figsize=(20,8)) # Make a figure and a set of subplots\n",
    "sns.boxplot(x=\"features\", y=\"value\", hue=\"diagnosis\", data=data) # Make a boxplot\n",
    "plt.xticks(rotation=90); # Rotate the x-axis labels so that they are easier to read"
   ]
  },
  {
   "attachments": {},
   "cell_type": "markdown",
   "id": "7231269b",
   "metadata": {},
   "source": [
    "**The features that have a significant difference in median for B and M labels are:** 'radius_worst', 'texture_worst', 'perimeter_worst', 'area_worst','smoothness_worst', 'compactness_worst', 'concavity_worst', 'concave points_worst', 'symmetry_worst', 'fractal_dimension_worst','radius_se', 'perimeter_se', 'area_se', 'compactness_se', 'concavity_se', 'concave points_se', 'fractal_dimension_se','radius_mean', 'texture_mean', 'perimeter_mean', 'area_mean','smoothness_mean', 'compactness_mean', 'concavity_mean','concave points_mean', 'symmetry_mean'"
   ]
  },
  {
   "attachments": {},
   "cell_type": "markdown",
   "id": "2e5e1cba",
   "metadata": {},
   "source": [
    "# Pair Plot"
   ]
  },
  {
   "cell_type": "code",
   "execution_count": null,
   "id": "413ccc1e",
   "metadata": {},
   "outputs": [],
   "source": [
    "sns.pairplot(x)"
   ]
  },
  {
   "attachments": {},
   "cell_type": "markdown",
   "id": "95e27f39",
   "metadata": {},
   "source": [
    "# Correlation Heatmap"
   ]
  },
  {
   "cell_type": "code",
   "execution_count": null,
   "id": "9783d3c2",
   "metadata": {},
   "outputs": [],
   "source": [
    "fig, ax = plt.subplots(figsize=(20,8)) # Make a figure and a set of subplots\n",
    "corr = x.corr() # Calculate the correlation between the features\n",
    "matrix = np.triu(corr) # Make a mask for the upper triangle\n",
    "sns.heatmap(corr, xticklabels=corr.columns, yticklabels=corr.columns,annot=True,mask=matrix) # Make a heatmap"
   ]
  },
  {
   "attachments": {},
   "cell_type": "markdown",
   "id": "60865980",
   "metadata": {},
   "source": [
    "There is highly significant correlation observed between: \n",
    "- 'radius_mean and perimeter_mean',\n",
    "- 'radius_mean and area_mean',\n",
    "-  'radius_mean and radius_worst',\n",
    "-  'radius_mean and perimeter_worst',\n",
    "-  'perimeter_mean and area_mean',\n",
    "-  'perimeter_mean and perimeter_worst',\n",
    "-  'area_mean and radius_worst',\n",
    "-  'area_mean and perimeter_worst',\n",
    "-  'area_mean and area_worst',\n",
    "- 'radius_worst and perimeter_worst',\n",
    "-  'radius_worst and area_worst',\n",
    "-  'perimeter_worst and area_worst'"
   ]
  }
 ],
 "metadata": {
  "kernelspec": {
   "display_name": "torch_env",
   "language": "python",
   "name": "python3"
  },
  "language_info": {
   "codemirror_mode": {
    "name": "ipython",
    "version": 3
   },
   "file_extension": ".py",
   "mimetype": "text/x-python",
   "name": "python",
   "nbconvert_exporter": "python",
   "pygments_lexer": "ipython3",
   "version": "3.9.15"
  },
  "vscode": {
   "interpreter": {
    "hash": "361a8d57a0e2a78723716f42fcaf9253c19957bfb2980caf149704a44c60f9de"
   }
  }
 },
 "nbformat": 4,
 "nbformat_minor": 5
}
