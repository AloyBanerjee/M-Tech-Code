{
 "cells": [
  {
   "cell_type": "code",
   "execution_count": 2,
   "id": "246feed0",
   "metadata": {},
   "outputs": [
    {
     "data": {
      "text/html": [
       "        <script type=\"text/javascript\">\n",
       "        window.PlotlyConfig = {MathJaxConfig: 'local'};\n",
       "        if (window.MathJax) {MathJax.Hub.Config({SVG: {font: \"STIX-Web\"}});}\n",
       "        if (typeof require !== 'undefined') {\n",
       "        require.undef(\"plotly\");\n",
       "        requirejs.config({\n",
       "            paths: {\n",
       "                'plotly': ['https://cdn.plot.ly/plotly-2.9.0.min']\n",
       "            }\n",
       "        });\n",
       "        require(['plotly'], function(Plotly) {\n",
       "            window._Plotly = Plotly;\n",
       "        });\n",
       "        }\n",
       "        </script>\n",
       "        "
      ]
     },
     "metadata": {},
     "output_type": "display_data"
    },
    {
     "name": "stdout",
     "output_type": "stream",
     "text": [
      "Rows     :  569\n",
      "Columns  :  32\n",
      "\n",
      "Features : \n",
      " ['id', 'diagnosis', 'radius_mean', 'texture_mean', 'perimeter_mean', 'area_mean', 'smoothness_mean', 'compactness_mean', 'concavity_mean', 'concave points_mean', 'symmetry_mean', 'fractal_dimension_mean', 'radius_se', 'texture_se', 'perimeter_se', 'area_se', 'smoothness_se', 'compactness_se', 'concavity_se', 'concave points_se', 'symmetry_se', 'fractal_dimension_se', 'radius_worst', 'texture_worst', 'perimeter_worst', 'area_worst', 'smoothness_worst', 'compactness_worst', 'concavity_worst', 'concave points_worst', 'symmetry_worst', 'fractal_dimension_worst']\n",
      "\n",
      "Missing values :   0\n",
      "Unique values  :  \n",
      " id                         569\n",
      "diagnosis                    2\n",
      "radius_mean                456\n",
      "texture_mean               479\n",
      "perimeter_mean             522\n",
      "area_mean                  539\n",
      "smoothness_mean            474\n",
      "compactness_mean           537\n",
      "concavity_mean             537\n",
      "concave points_mean        542\n",
      "symmetry_mean              432\n",
      "fractal_dimension_mean     499\n",
      "radius_se                  540\n",
      "texture_se                 519\n",
      "perimeter_se               533\n",
      "area_se                    528\n",
      "smoothness_se              547\n",
      "compactness_se             541\n",
      "concavity_se               533\n",
      "concave points_se          507\n",
      "symmetry_se                498\n",
      "fractal_dimension_se       545\n",
      "radius_worst               457\n",
      "texture_worst              511\n",
      "perimeter_worst            514\n",
      "area_worst                 544\n",
      "smoothness_worst           411\n",
      "compactness_worst          529\n",
      "concavity_worst            539\n",
      "concave points_worst       492\n",
      "symmetry_worst             500\n",
      "fractal_dimension_worst    535\n",
      "dtype: int64\n"
     ]
    },
    {
     "data": {
      "application/vnd.plotly.v1+json": {
       "config": {
        "linkText": "Export to plot.ly",
        "plotlyServerURL": "https://plot.ly",
        "showLink": false
       },
       "data": [
        {
         "hole": 0.5,
         "hoverinfo": "label+value+text",
         "labels": [
          "Benign",
          "Malignant"
         ],
         "marker": {
          "colors": [
           "black",
           "#FF96A7"
          ],
          "line": {
           "color": "white",
           "width": 1.3
          }
         },
         "rotation": 90,
         "type": "pie",
         "values": [
          357,
          212
         ]
        }
       ],
       "layout": {
        "paper_bgcolor": "rgb(243,243,243)",
        "plot_bgcolor": "rgb(243,243,243)",
        "template": {
         "data": {
          "bar": [
           {
            "error_x": {
             "color": "#2a3f5f"
            },
            "error_y": {
             "color": "#2a3f5f"
            },
            "marker": {
             "line": {
              "color": "#E5ECF6",
              "width": 0.5
             },
             "pattern": {
              "fillmode": "overlay",
              "size": 10,
              "solidity": 0.2
             }
            },
            "type": "bar"
           }
          ],
          "barpolar": [
           {
            "marker": {
             "line": {
              "color": "#E5ECF6",
              "width": 0.5
             },
             "pattern": {
              "fillmode": "overlay",
              "size": 10,
              "solidity": 0.2
             }
            },
            "type": "barpolar"
           }
          ],
          "carpet": [
           {
            "aaxis": {
             "endlinecolor": "#2a3f5f",
             "gridcolor": "white",
             "linecolor": "white",
             "minorgridcolor": "white",
             "startlinecolor": "#2a3f5f"
            },
            "baxis": {
             "endlinecolor": "#2a3f5f",
             "gridcolor": "white",
             "linecolor": "white",
             "minorgridcolor": "white",
             "startlinecolor": "#2a3f5f"
            },
            "type": "carpet"
           }
          ],
          "choropleth": [
           {
            "colorbar": {
             "outlinewidth": 0,
             "ticks": ""
            },
            "type": "choropleth"
           }
          ],
          "contour": [
           {
            "colorbar": {
             "outlinewidth": 0,
             "ticks": ""
            },
            "colorscale": [
             [
              0,
              "#0d0887"
             ],
             [
              0.1111111111111111,
              "#46039f"
             ],
             [
              0.2222222222222222,
              "#7201a8"
             ],
             [
              0.3333333333333333,
              "#9c179e"
             ],
             [
              0.4444444444444444,
              "#bd3786"
             ],
             [
              0.5555555555555556,
              "#d8576b"
             ],
             [
              0.6666666666666666,
              "#ed7953"
             ],
             [
              0.7777777777777778,
              "#fb9f3a"
             ],
             [
              0.8888888888888888,
              "#fdca26"
             ],
             [
              1,
              "#f0f921"
             ]
            ],
            "type": "contour"
           }
          ],
          "contourcarpet": [
           {
            "colorbar": {
             "outlinewidth": 0,
             "ticks": ""
            },
            "type": "contourcarpet"
           }
          ],
          "heatmap": [
           {
            "colorbar": {
             "outlinewidth": 0,
             "ticks": ""
            },
            "colorscale": [
             [
              0,
              "#0d0887"
             ],
             [
              0.1111111111111111,
              "#46039f"
             ],
             [
              0.2222222222222222,
              "#7201a8"
             ],
             [
              0.3333333333333333,
              "#9c179e"
             ],
             [
              0.4444444444444444,
              "#bd3786"
             ],
             [
              0.5555555555555556,
              "#d8576b"
             ],
             [
              0.6666666666666666,
              "#ed7953"
             ],
             [
              0.7777777777777778,
              "#fb9f3a"
             ],
             [
              0.8888888888888888,
              "#fdca26"
             ],
             [
              1,
              "#f0f921"
             ]
            ],
            "type": "heatmap"
           }
          ],
          "heatmapgl": [
           {
            "colorbar": {
             "outlinewidth": 0,
             "ticks": ""
            },
            "colorscale": [
             [
              0,
              "#0d0887"
             ],
             [
              0.1111111111111111,
              "#46039f"
             ],
             [
              0.2222222222222222,
              "#7201a8"
             ],
             [
              0.3333333333333333,
              "#9c179e"
             ],
             [
              0.4444444444444444,
              "#bd3786"
             ],
             [
              0.5555555555555556,
              "#d8576b"
             ],
             [
              0.6666666666666666,
              "#ed7953"
             ],
             [
              0.7777777777777778,
              "#fb9f3a"
             ],
             [
              0.8888888888888888,
              "#fdca26"
             ],
             [
              1,
              "#f0f921"
             ]
            ],
            "type": "heatmapgl"
           }
          ],
          "histogram": [
           {
            "marker": {
             "pattern": {
              "fillmode": "overlay",
              "size": 10,
              "solidity": 0.2
             }
            },
            "type": "histogram"
           }
          ],
          "histogram2d": [
           {
            "colorbar": {
             "outlinewidth": 0,
             "ticks": ""
            },
            "colorscale": [
             [
              0,
              "#0d0887"
             ],
             [
              0.1111111111111111,
              "#46039f"
             ],
             [
              0.2222222222222222,
              "#7201a8"
             ],
             [
              0.3333333333333333,
              "#9c179e"
             ],
             [
              0.4444444444444444,
              "#bd3786"
             ],
             [
              0.5555555555555556,
              "#d8576b"
             ],
             [
              0.6666666666666666,
              "#ed7953"
             ],
             [
              0.7777777777777778,
              "#fb9f3a"
             ],
             [
              0.8888888888888888,
              "#fdca26"
             ],
             [
              1,
              "#f0f921"
             ]
            ],
            "type": "histogram2d"
           }
          ],
          "histogram2dcontour": [
           {
            "colorbar": {
             "outlinewidth": 0,
             "ticks": ""
            },
            "colorscale": [
             [
              0,
              "#0d0887"
             ],
             [
              0.1111111111111111,
              "#46039f"
             ],
             [
              0.2222222222222222,
              "#7201a8"
             ],
             [
              0.3333333333333333,
              "#9c179e"
             ],
             [
              0.4444444444444444,
              "#bd3786"
             ],
             [
              0.5555555555555556,
              "#d8576b"
             ],
             [
              0.6666666666666666,
              "#ed7953"
             ],
             [
              0.7777777777777778,
              "#fb9f3a"
             ],
             [
              0.8888888888888888,
              "#fdca26"
             ],
             [
              1,
              "#f0f921"
             ]
            ],
            "type": "histogram2dcontour"
           }
          ],
          "mesh3d": [
           {
            "colorbar": {
             "outlinewidth": 0,
             "ticks": ""
            },
            "type": "mesh3d"
           }
          ],
          "parcoords": [
           {
            "line": {
             "colorbar": {
              "outlinewidth": 0,
              "ticks": ""
             }
            },
            "type": "parcoords"
           }
          ],
          "pie": [
           {
            "automargin": true,
            "type": "pie"
           }
          ],
          "scatter": [
           {
            "marker": {
             "colorbar": {
              "outlinewidth": 0,
              "ticks": ""
             }
            },
            "type": "scatter"
           }
          ],
          "scatter3d": [
           {
            "line": {
             "colorbar": {
              "outlinewidth": 0,
              "ticks": ""
             }
            },
            "marker": {
             "colorbar": {
              "outlinewidth": 0,
              "ticks": ""
             }
            },
            "type": "scatter3d"
           }
          ],
          "scattercarpet": [
           {
            "marker": {
             "colorbar": {
              "outlinewidth": 0,
              "ticks": ""
             }
            },
            "type": "scattercarpet"
           }
          ],
          "scattergeo": [
           {
            "marker": {
             "colorbar": {
              "outlinewidth": 0,
              "ticks": ""
             }
            },
            "type": "scattergeo"
           }
          ],
          "scattergl": [
           {
            "marker": {
             "colorbar": {
              "outlinewidth": 0,
              "ticks": ""
             }
            },
            "type": "scattergl"
           }
          ],
          "scattermapbox": [
           {
            "marker": {
             "colorbar": {
              "outlinewidth": 0,
              "ticks": ""
             }
            },
            "type": "scattermapbox"
           }
          ],
          "scatterpolar": [
           {
            "marker": {
             "colorbar": {
              "outlinewidth": 0,
              "ticks": ""
             }
            },
            "type": "scatterpolar"
           }
          ],
          "scatterpolargl": [
           {
            "marker": {
             "colorbar": {
              "outlinewidth": 0,
              "ticks": ""
             }
            },
            "type": "scatterpolargl"
           }
          ],
          "scatterternary": [
           {
            "marker": {
             "colorbar": {
              "outlinewidth": 0,
              "ticks": ""
             }
            },
            "type": "scatterternary"
           }
          ],
          "surface": [
           {
            "colorbar": {
             "outlinewidth": 0,
             "ticks": ""
            },
            "colorscale": [
             [
              0,
              "#0d0887"
             ],
             [
              0.1111111111111111,
              "#46039f"
             ],
             [
              0.2222222222222222,
              "#7201a8"
             ],
             [
              0.3333333333333333,
              "#9c179e"
             ],
             [
              0.4444444444444444,
              "#bd3786"
             ],
             [
              0.5555555555555556,
              "#d8576b"
             ],
             [
              0.6666666666666666,
              "#ed7953"
             ],
             [
              0.7777777777777778,
              "#fb9f3a"
             ],
             [
              0.8888888888888888,
              "#fdca26"
             ],
             [
              1,
              "#f0f921"
             ]
            ],
            "type": "surface"
           }
          ],
          "table": [
           {
            "cells": {
             "fill": {
              "color": "#EBF0F8"
             },
             "line": {
              "color": "white"
             }
            },
            "header": {
             "fill": {
              "color": "#C8D4E3"
             },
             "line": {
              "color": "white"
             }
            },
            "type": "table"
           }
          ]
         },
         "layout": {
          "annotationdefaults": {
           "arrowcolor": "#2a3f5f",
           "arrowhead": 0,
           "arrowwidth": 1
          },
          "autotypenumbers": "strict",
          "coloraxis": {
           "colorbar": {
            "outlinewidth": 0,
            "ticks": ""
           }
          },
          "colorscale": {
           "diverging": [
            [
             0,
             "#8e0152"
            ],
            [
             0.1,
             "#c51b7d"
            ],
            [
             0.2,
             "#de77ae"
            ],
            [
             0.3,
             "#f1b6da"
            ],
            [
             0.4,
             "#fde0ef"
            ],
            [
             0.5,
             "#f7f7f7"
            ],
            [
             0.6,
             "#e6f5d0"
            ],
            [
             0.7,
             "#b8e186"
            ],
            [
             0.8,
             "#7fbc41"
            ],
            [
             0.9,
             "#4d9221"
            ],
            [
             1,
             "#276419"
            ]
           ],
           "sequential": [
            [
             0,
             "#0d0887"
            ],
            [
             0.1111111111111111,
             "#46039f"
            ],
            [
             0.2222222222222222,
             "#7201a8"
            ],
            [
             0.3333333333333333,
             "#9c179e"
            ],
            [
             0.4444444444444444,
             "#bd3786"
            ],
            [
             0.5555555555555556,
             "#d8576b"
            ],
            [
             0.6666666666666666,
             "#ed7953"
            ],
            [
             0.7777777777777778,
             "#fb9f3a"
            ],
            [
             0.8888888888888888,
             "#fdca26"
            ],
            [
             1,
             "#f0f921"
            ]
           ],
           "sequentialminus": [
            [
             0,
             "#0d0887"
            ],
            [
             0.1111111111111111,
             "#46039f"
            ],
            [
             0.2222222222222222,
             "#7201a8"
            ],
            [
             0.3333333333333333,
             "#9c179e"
            ],
            [
             0.4444444444444444,
             "#bd3786"
            ],
            [
             0.5555555555555556,
             "#d8576b"
            ],
            [
             0.6666666666666666,
             "#ed7953"
            ],
            [
             0.7777777777777778,
             "#fb9f3a"
            ],
            [
             0.8888888888888888,
             "#fdca26"
            ],
            [
             1,
             "#f0f921"
            ]
           ]
          },
          "colorway": [
           "#636efa",
           "#EF553B",
           "#00cc96",
           "#ab63fa",
           "#FFA15A",
           "#19d3f3",
           "#FF6692",
           "#B6E880",
           "#FF97FF",
           "#FECB52"
          ],
          "font": {
           "color": "#2a3f5f"
          },
          "geo": {
           "bgcolor": "white",
           "lakecolor": "white",
           "landcolor": "#E5ECF6",
           "showlakes": true,
           "showland": true,
           "subunitcolor": "white"
          },
          "hoverlabel": {
           "align": "left"
          },
          "hovermode": "closest",
          "mapbox": {
           "style": "light"
          },
          "paper_bgcolor": "white",
          "plot_bgcolor": "#E5ECF6",
          "polar": {
           "angularaxis": {
            "gridcolor": "white",
            "linecolor": "white",
            "ticks": ""
           },
           "bgcolor": "#E5ECF6",
           "radialaxis": {
            "gridcolor": "white",
            "linecolor": "white",
            "ticks": ""
           }
          },
          "scene": {
           "xaxis": {
            "backgroundcolor": "#E5ECF6",
            "gridcolor": "white",
            "gridwidth": 2,
            "linecolor": "white",
            "showbackground": true,
            "ticks": "",
            "zerolinecolor": "white"
           },
           "yaxis": {
            "backgroundcolor": "#E5ECF6",
            "gridcolor": "white",
            "gridwidth": 2,
            "linecolor": "white",
            "showbackground": true,
            "ticks": "",
            "zerolinecolor": "white"
           },
           "zaxis": {
            "backgroundcolor": "#E5ECF6",
            "gridcolor": "white",
            "gridwidth": 2,
            "linecolor": "white",
            "showbackground": true,
            "ticks": "",
            "zerolinecolor": "white"
           }
          },
          "shapedefaults": {
           "line": {
            "color": "#2a3f5f"
           }
          },
          "ternary": {
           "aaxis": {
            "gridcolor": "white",
            "linecolor": "white",
            "ticks": ""
           },
           "baxis": {
            "gridcolor": "white",
            "linecolor": "white",
            "ticks": ""
           },
           "bgcolor": "#E5ECF6",
           "caxis": {
            "gridcolor": "white",
            "linecolor": "white",
            "ticks": ""
           }
          },
          "title": {
           "x": 0.05
          },
          "xaxis": {
           "automargin": true,
           "gridcolor": "white",
           "linecolor": "white",
           "ticks": "",
           "title": {
            "standoff": 15
           },
           "zerolinecolor": "white",
           "zerolinewidth": 2
          },
          "yaxis": {
           "automargin": true,
           "gridcolor": "white",
           "linecolor": "white",
           "ticks": "",
           "title": {
            "standoff": 15
           },
           "zerolinecolor": "white",
           "zerolinewidth": 2
          }
         }
        },
        "title": {
         "text": "Patient Classification in data"
        }
       }
      },
      "text/html": [
       "<div>                            <div id=\"4a61a486-4ad7-491a-915a-bcaa1b164bf7\" class=\"plotly-graph-div\" style=\"height:525px; width:100%;\"></div>            <script type=\"text/javascript\">                require([\"plotly\"], function(Plotly) {                    window.PLOTLYENV=window.PLOTLYENV || {};                                    if (document.getElementById(\"4a61a486-4ad7-491a-915a-bcaa1b164bf7\")) {                    Plotly.newPlot(                        \"4a61a486-4ad7-491a-915a-bcaa1b164bf7\",                        [{\"hole\":0.5,\"hoverinfo\":\"label+value+text\",\"labels\":[\"Benign\",\"Malignant\"],\"marker\":{\"colors\":[\"black\",\"#FF96A7\"],\"line\":{\"color\":\"white\",\"width\":1.3}},\"rotation\":90,\"values\":[357,212],\"type\":\"pie\"}],                        {\"paper_bgcolor\":\"rgb(243,243,243)\",\"plot_bgcolor\":\"rgb(243,243,243)\",\"template\":{\"data\":{\"barpolar\":[{\"marker\":{\"line\":{\"color\":\"#E5ECF6\",\"width\":0.5},\"pattern\":{\"fillmode\":\"overlay\",\"size\":10,\"solidity\":0.2}},\"type\":\"barpolar\"}],\"bar\":[{\"error_x\":{\"color\":\"#2a3f5f\"},\"error_y\":{\"color\":\"#2a3f5f\"},\"marker\":{\"line\":{\"color\":\"#E5ECF6\",\"width\":0.5},\"pattern\":{\"fillmode\":\"overlay\",\"size\":10,\"solidity\":0.2}},\"type\":\"bar\"}],\"carpet\":[{\"aaxis\":{\"endlinecolor\":\"#2a3f5f\",\"gridcolor\":\"white\",\"linecolor\":\"white\",\"minorgridcolor\":\"white\",\"startlinecolor\":\"#2a3f5f\"},\"baxis\":{\"endlinecolor\":\"#2a3f5f\",\"gridcolor\":\"white\",\"linecolor\":\"white\",\"minorgridcolor\":\"white\",\"startlinecolor\":\"#2a3f5f\"},\"type\":\"carpet\"}],\"choropleth\":[{\"colorbar\":{\"outlinewidth\":0,\"ticks\":\"\"},\"type\":\"choropleth\"}],\"contourcarpet\":[{\"colorbar\":{\"outlinewidth\":0,\"ticks\":\"\"},\"type\":\"contourcarpet\"}],\"contour\":[{\"colorbar\":{\"outlinewidth\":0,\"ticks\":\"\"},\"colorscale\":[[0.0,\"#0d0887\"],[0.1111111111111111,\"#46039f\"],[0.2222222222222222,\"#7201a8\"],[0.3333333333333333,\"#9c179e\"],[0.4444444444444444,\"#bd3786\"],[0.5555555555555556,\"#d8576b\"],[0.6666666666666666,\"#ed7953\"],[0.7777777777777778,\"#fb9f3a\"],[0.8888888888888888,\"#fdca26\"],[1.0,\"#f0f921\"]],\"type\":\"contour\"}],\"heatmapgl\":[{\"colorbar\":{\"outlinewidth\":0,\"ticks\":\"\"},\"colorscale\":[[0.0,\"#0d0887\"],[0.1111111111111111,\"#46039f\"],[0.2222222222222222,\"#7201a8\"],[0.3333333333333333,\"#9c179e\"],[0.4444444444444444,\"#bd3786\"],[0.5555555555555556,\"#d8576b\"],[0.6666666666666666,\"#ed7953\"],[0.7777777777777778,\"#fb9f3a\"],[0.8888888888888888,\"#fdca26\"],[1.0,\"#f0f921\"]],\"type\":\"heatmapgl\"}],\"heatmap\":[{\"colorbar\":{\"outlinewidth\":0,\"ticks\":\"\"},\"colorscale\":[[0.0,\"#0d0887\"],[0.1111111111111111,\"#46039f\"],[0.2222222222222222,\"#7201a8\"],[0.3333333333333333,\"#9c179e\"],[0.4444444444444444,\"#bd3786\"],[0.5555555555555556,\"#d8576b\"],[0.6666666666666666,\"#ed7953\"],[0.7777777777777778,\"#fb9f3a\"],[0.8888888888888888,\"#fdca26\"],[1.0,\"#f0f921\"]],\"type\":\"heatmap\"}],\"histogram2dcontour\":[{\"colorbar\":{\"outlinewidth\":0,\"ticks\":\"\"},\"colorscale\":[[0.0,\"#0d0887\"],[0.1111111111111111,\"#46039f\"],[0.2222222222222222,\"#7201a8\"],[0.3333333333333333,\"#9c179e\"],[0.4444444444444444,\"#bd3786\"],[0.5555555555555556,\"#d8576b\"],[0.6666666666666666,\"#ed7953\"],[0.7777777777777778,\"#fb9f3a\"],[0.8888888888888888,\"#fdca26\"],[1.0,\"#f0f921\"]],\"type\":\"histogram2dcontour\"}],\"histogram2d\":[{\"colorbar\":{\"outlinewidth\":0,\"ticks\":\"\"},\"colorscale\":[[0.0,\"#0d0887\"],[0.1111111111111111,\"#46039f\"],[0.2222222222222222,\"#7201a8\"],[0.3333333333333333,\"#9c179e\"],[0.4444444444444444,\"#bd3786\"],[0.5555555555555556,\"#d8576b\"],[0.6666666666666666,\"#ed7953\"],[0.7777777777777778,\"#fb9f3a\"],[0.8888888888888888,\"#fdca26\"],[1.0,\"#f0f921\"]],\"type\":\"histogram2d\"}],\"histogram\":[{\"marker\":{\"pattern\":{\"fillmode\":\"overlay\",\"size\":10,\"solidity\":0.2}},\"type\":\"histogram\"}],\"mesh3d\":[{\"colorbar\":{\"outlinewidth\":0,\"ticks\":\"\"},\"type\":\"mesh3d\"}],\"parcoords\":[{\"line\":{\"colorbar\":{\"outlinewidth\":0,\"ticks\":\"\"}},\"type\":\"parcoords\"}],\"pie\":[{\"automargin\":true,\"type\":\"pie\"}],\"scatter3d\":[{\"line\":{\"colorbar\":{\"outlinewidth\":0,\"ticks\":\"\"}},\"marker\":{\"colorbar\":{\"outlinewidth\":0,\"ticks\":\"\"}},\"type\":\"scatter3d\"}],\"scattercarpet\":[{\"marker\":{\"colorbar\":{\"outlinewidth\":0,\"ticks\":\"\"}},\"type\":\"scattercarpet\"}],\"scattergeo\":[{\"marker\":{\"colorbar\":{\"outlinewidth\":0,\"ticks\":\"\"}},\"type\":\"scattergeo\"}],\"scattergl\":[{\"marker\":{\"colorbar\":{\"outlinewidth\":0,\"ticks\":\"\"}},\"type\":\"scattergl\"}],\"scattermapbox\":[{\"marker\":{\"colorbar\":{\"outlinewidth\":0,\"ticks\":\"\"}},\"type\":\"scattermapbox\"}],\"scatterpolargl\":[{\"marker\":{\"colorbar\":{\"outlinewidth\":0,\"ticks\":\"\"}},\"type\":\"scatterpolargl\"}],\"scatterpolar\":[{\"marker\":{\"colorbar\":{\"outlinewidth\":0,\"ticks\":\"\"}},\"type\":\"scatterpolar\"}],\"scatter\":[{\"marker\":{\"colorbar\":{\"outlinewidth\":0,\"ticks\":\"\"}},\"type\":\"scatter\"}],\"scatterternary\":[{\"marker\":{\"colorbar\":{\"outlinewidth\":0,\"ticks\":\"\"}},\"type\":\"scatterternary\"}],\"surface\":[{\"colorbar\":{\"outlinewidth\":0,\"ticks\":\"\"},\"colorscale\":[[0.0,\"#0d0887\"],[0.1111111111111111,\"#46039f\"],[0.2222222222222222,\"#7201a8\"],[0.3333333333333333,\"#9c179e\"],[0.4444444444444444,\"#bd3786\"],[0.5555555555555556,\"#d8576b\"],[0.6666666666666666,\"#ed7953\"],[0.7777777777777778,\"#fb9f3a\"],[0.8888888888888888,\"#fdca26\"],[1.0,\"#f0f921\"]],\"type\":\"surface\"}],\"table\":[{\"cells\":{\"fill\":{\"color\":\"#EBF0F8\"},\"line\":{\"color\":\"white\"}},\"header\":{\"fill\":{\"color\":\"#C8D4E3\"},\"line\":{\"color\":\"white\"}},\"type\":\"table\"}]},\"layout\":{\"annotationdefaults\":{\"arrowcolor\":\"#2a3f5f\",\"arrowhead\":0,\"arrowwidth\":1},\"autotypenumbers\":\"strict\",\"coloraxis\":{\"colorbar\":{\"outlinewidth\":0,\"ticks\":\"\"}},\"colorscale\":{\"diverging\":[[0,\"#8e0152\"],[0.1,\"#c51b7d\"],[0.2,\"#de77ae\"],[0.3,\"#f1b6da\"],[0.4,\"#fde0ef\"],[0.5,\"#f7f7f7\"],[0.6,\"#e6f5d0\"],[0.7,\"#b8e186\"],[0.8,\"#7fbc41\"],[0.9,\"#4d9221\"],[1,\"#276419\"]],\"sequential\":[[0.0,\"#0d0887\"],[0.1111111111111111,\"#46039f\"],[0.2222222222222222,\"#7201a8\"],[0.3333333333333333,\"#9c179e\"],[0.4444444444444444,\"#bd3786\"],[0.5555555555555556,\"#d8576b\"],[0.6666666666666666,\"#ed7953\"],[0.7777777777777778,\"#fb9f3a\"],[0.8888888888888888,\"#fdca26\"],[1.0,\"#f0f921\"]],\"sequentialminus\":[[0.0,\"#0d0887\"],[0.1111111111111111,\"#46039f\"],[0.2222222222222222,\"#7201a8\"],[0.3333333333333333,\"#9c179e\"],[0.4444444444444444,\"#bd3786\"],[0.5555555555555556,\"#d8576b\"],[0.6666666666666666,\"#ed7953\"],[0.7777777777777778,\"#fb9f3a\"],[0.8888888888888888,\"#fdca26\"],[1.0,\"#f0f921\"]]},\"colorway\":[\"#636efa\",\"#EF553B\",\"#00cc96\",\"#ab63fa\",\"#FFA15A\",\"#19d3f3\",\"#FF6692\",\"#B6E880\",\"#FF97FF\",\"#FECB52\"],\"font\":{\"color\":\"#2a3f5f\"},\"geo\":{\"bgcolor\":\"white\",\"lakecolor\":\"white\",\"landcolor\":\"#E5ECF6\",\"showlakes\":true,\"showland\":true,\"subunitcolor\":\"white\"},\"hoverlabel\":{\"align\":\"left\"},\"hovermode\":\"closest\",\"mapbox\":{\"style\":\"light\"},\"paper_bgcolor\":\"white\",\"plot_bgcolor\":\"#E5ECF6\",\"polar\":{\"angularaxis\":{\"gridcolor\":\"white\",\"linecolor\":\"white\",\"ticks\":\"\"},\"bgcolor\":\"#E5ECF6\",\"radialaxis\":{\"gridcolor\":\"white\",\"linecolor\":\"white\",\"ticks\":\"\"}},\"scene\":{\"xaxis\":{\"backgroundcolor\":\"#E5ECF6\",\"gridcolor\":\"white\",\"gridwidth\":2,\"linecolor\":\"white\",\"showbackground\":true,\"ticks\":\"\",\"zerolinecolor\":\"white\"},\"yaxis\":{\"backgroundcolor\":\"#E5ECF6\",\"gridcolor\":\"white\",\"gridwidth\":2,\"linecolor\":\"white\",\"showbackground\":true,\"ticks\":\"\",\"zerolinecolor\":\"white\"},\"zaxis\":{\"backgroundcolor\":\"#E5ECF6\",\"gridcolor\":\"white\",\"gridwidth\":2,\"linecolor\":\"white\",\"showbackground\":true,\"ticks\":\"\",\"zerolinecolor\":\"white\"}},\"shapedefaults\":{\"line\":{\"color\":\"#2a3f5f\"}},\"ternary\":{\"aaxis\":{\"gridcolor\":\"white\",\"linecolor\":\"white\",\"ticks\":\"\"},\"baxis\":{\"gridcolor\":\"white\",\"linecolor\":\"white\",\"ticks\":\"\"},\"bgcolor\":\"#E5ECF6\",\"caxis\":{\"gridcolor\":\"white\",\"linecolor\":\"white\",\"ticks\":\"\"}},\"title\":{\"x\":0.05},\"xaxis\":{\"automargin\":true,\"gridcolor\":\"white\",\"linecolor\":\"white\",\"ticks\":\"\",\"title\":{\"standoff\":15},\"zerolinecolor\":\"white\",\"zerolinewidth\":2},\"yaxis\":{\"automargin\":true,\"gridcolor\":\"white\",\"linecolor\":\"white\",\"ticks\":\"\",\"title\":{\"standoff\":15},\"zerolinecolor\":\"white\",\"zerolinewidth\":2}}},\"title\":{\"text\":\"Patient Classification in data\"}},                        {\"responsive\": true}                    ).then(function(){\n",
       "                            \n",
       "var gd = document.getElementById('4a61a486-4ad7-491a-915a-bcaa1b164bf7');\n",
       "var x = new MutationObserver(function (mutations, observer) {{\n",
       "        var display = window.getComputedStyle(gd).display;\n",
       "        if (!display || display === 'none') {{\n",
       "            console.log([gd, 'removed!']);\n",
       "            Plotly.purge(gd);\n",
       "            observer.disconnect();\n",
       "        }}\n",
       "}});\n",
       "\n",
       "// Listen for the removal of the full notebook cells\n",
       "var notebookContainer = gd.closest('#notebook-container');\n",
       "if (notebookContainer) {{\n",
       "    x.observe(notebookContainer, {childList: true});\n",
       "}}\n",
       "\n",
       "// Listen for the clearing of the current output cell\n",
       "var outputEl = gd.closest('.output');\n",
       "if (outputEl) {{\n",
       "    x.observe(outputEl, {childList: true});\n",
       "}}\n",
       "\n",
       "                        })                };                });            </script>        </div>"
      ]
     },
     "metadata": {},
     "output_type": "display_data"
    },
    {
     "data": {
      "application/vnd.plotly.v1+json": {
       "config": {
        "linkText": "Export to plot.ly",
        "plotlyServerURL": "https://plot.ly",
        "showLink": false
       },
       "data": [
        {
         "cells": {
          "fill": {
           "color": [
            "lightgrey",
            "#F5F8FF"
           ]
          },
          "line": {
           "color": [
            "#506784"
           ]
          },
          "values": [
           [
            "diagnosis",
            "radius_mean",
            "texture_mean",
            "perimeter_mean",
            "area_mean",
            "smoothness_mean",
            "compactness_mean",
            "concavity_mean",
            "concave points_mean",
            "symmetry_mean",
            "fractal_dimension_mean",
            "radius_se",
            "texture_se",
            "perimeter_se",
            "area_se",
            "smoothness_se",
            "compactness_se",
            "concavity_se",
            "concave points_se",
            "symmetry_se",
            "fractal_dimension_se",
            "radius_worst",
            "texture_worst",
            "perimeter_worst",
            "area_worst",
            "smoothness_worst",
            "compactness_worst",
            "concavity_worst",
            "concave points_worst",
            "symmetry_worst",
            "fractal_dimension_worst"
           ],
           [
            569,
            569,
            569,
            569,
            569,
            569,
            569,
            569,
            569,
            569,
            569,
            569,
            569,
            569,
            569,
            569,
            569,
            569,
            569,
            569,
            569,
            569,
            569,
            569,
            569,
            569,
            569,
            569,
            569,
            569,
            569
           ],
           [
            0.373,
            14.127,
            19.29,
            91.969,
            654.889,
            0.096,
            0.104,
            0.089,
            0.049,
            0.181,
            0.063,
            0.405,
            1.217,
            2.866,
            40.337,
            0.007,
            0.025,
            0.032,
            0.012,
            0.021,
            0.004,
            16.269,
            25.677,
            107.261,
            880.583,
            0.132,
            0.254,
            0.272,
            0.115,
            0.29,
            0.084
           ],
           [
            0.484,
            3.524,
            4.301,
            24.299,
            351.914,
            0.014,
            0.053,
            0.08,
            0.039,
            0.027,
            0.007,
            0.277,
            0.552,
            2.022,
            45.491,
            0.003,
            0.018,
            0.03,
            0.006,
            0.008,
            0.003,
            4.833,
            6.146,
            33.603,
            569.357,
            0.023,
            0.157,
            0.209,
            0.066,
            0.062,
            0.018
           ],
           [
            0,
            6.981,
            9.71,
            43.79,
            143.5,
            0.053,
            0.019,
            0,
            0,
            0.106,
            0.05,
            0.112,
            0.36,
            0.757,
            6.802,
            0.002,
            0.002,
            0,
            0,
            0.008,
            0.001,
            7.93,
            12.02,
            50.41,
            185.2,
            0.071,
            0.027,
            0,
            0,
            0.156,
            0.055
           ],
           [
            0,
            11.7,
            16.17,
            75.17,
            420.3,
            0.086,
            0.065,
            0.03,
            0.02,
            0.162,
            0.058,
            0.232,
            0.834,
            1.606,
            17.85,
            0.005,
            0.013,
            0.015,
            0.008,
            0.015,
            0.002,
            13.01,
            21.08,
            84.11,
            515.3,
            0.117,
            0.147,
            0.114,
            0.065,
            0.25,
            0.071
           ],
           [
            0,
            13.37,
            18.84,
            86.24,
            551.1,
            0.096,
            0.093,
            0.062,
            0.034,
            0.179,
            0.062,
            0.324,
            1.108,
            2.287,
            24.53,
            0.006,
            0.02,
            0.026,
            0.011,
            0.019,
            0.003,
            14.97,
            25.41,
            97.66,
            686.5,
            0.131,
            0.212,
            0.227,
            0.1,
            0.282,
            0.08
           ],
           [
            1,
            15.78,
            21.8,
            104.1,
            782.7,
            0.105,
            0.13,
            0.131,
            0.074,
            0.196,
            0.066,
            0.479,
            1.474,
            3.357,
            45.19,
            0.008,
            0.032,
            0.042,
            0.015,
            0.023,
            0.005,
            18.79,
            29.72,
            125.4,
            1084,
            0.146,
            0.339,
            0.383,
            0.161,
            0.318,
            0.092
           ],
           [
            1,
            28.11,
            39.28,
            188.5,
            2501,
            0.163,
            0.345,
            0.427,
            0.201,
            0.304,
            0.097,
            2.873,
            4.885,
            21.98,
            542.2,
            0.031,
            0.135,
            0.396,
            0.053,
            0.079,
            0.03,
            36.04,
            49.54,
            251.2,
            4254,
            0.223,
            1.058,
            1.252,
            0.291,
            0.664,
            0.208
           ]
          ]
         },
         "columnwidth": [
          180,
          60,
          100,
          100,
          60,
          60,
          80,
          80,
          80
         ],
         "header": {
          "fill": {
           "color": [
            "#119DFF"
           ]
          },
          "line": {
           "color": [
            "#506784"
           ]
          },
          "values": [
           "feature",
           "count",
           "mean",
           "std",
           "min",
           "25%",
           "50%",
           "75%",
           "max"
          ]
         },
         "type": "table"
        }
       ],
       "layout": {
        "template": {
         "data": {
          "bar": [
           {
            "error_x": {
             "color": "#2a3f5f"
            },
            "error_y": {
             "color": "#2a3f5f"
            },
            "marker": {
             "line": {
              "color": "#E5ECF6",
              "width": 0.5
             },
             "pattern": {
              "fillmode": "overlay",
              "size": 10,
              "solidity": 0.2
             }
            },
            "type": "bar"
           }
          ],
          "barpolar": [
           {
            "marker": {
             "line": {
              "color": "#E5ECF6",
              "width": 0.5
             },
             "pattern": {
              "fillmode": "overlay",
              "size": 10,
              "solidity": 0.2
             }
            },
            "type": "barpolar"
           }
          ],
          "carpet": [
           {
            "aaxis": {
             "endlinecolor": "#2a3f5f",
             "gridcolor": "white",
             "linecolor": "white",
             "minorgridcolor": "white",
             "startlinecolor": "#2a3f5f"
            },
            "baxis": {
             "endlinecolor": "#2a3f5f",
             "gridcolor": "white",
             "linecolor": "white",
             "minorgridcolor": "white",
             "startlinecolor": "#2a3f5f"
            },
            "type": "carpet"
           }
          ],
          "choropleth": [
           {
            "colorbar": {
             "outlinewidth": 0,
             "ticks": ""
            },
            "type": "choropleth"
           }
          ],
          "contour": [
           {
            "colorbar": {
             "outlinewidth": 0,
             "ticks": ""
            },
            "colorscale": [
             [
              0,
              "#0d0887"
             ],
             [
              0.1111111111111111,
              "#46039f"
             ],
             [
              0.2222222222222222,
              "#7201a8"
             ],
             [
              0.3333333333333333,
              "#9c179e"
             ],
             [
              0.4444444444444444,
              "#bd3786"
             ],
             [
              0.5555555555555556,
              "#d8576b"
             ],
             [
              0.6666666666666666,
              "#ed7953"
             ],
             [
              0.7777777777777778,
              "#fb9f3a"
             ],
             [
              0.8888888888888888,
              "#fdca26"
             ],
             [
              1,
              "#f0f921"
             ]
            ],
            "type": "contour"
           }
          ],
          "contourcarpet": [
           {
            "colorbar": {
             "outlinewidth": 0,
             "ticks": ""
            },
            "type": "contourcarpet"
           }
          ],
          "heatmap": [
           {
            "colorbar": {
             "outlinewidth": 0,
             "ticks": ""
            },
            "colorscale": [
             [
              0,
              "#0d0887"
             ],
             [
              0.1111111111111111,
              "#46039f"
             ],
             [
              0.2222222222222222,
              "#7201a8"
             ],
             [
              0.3333333333333333,
              "#9c179e"
             ],
             [
              0.4444444444444444,
              "#bd3786"
             ],
             [
              0.5555555555555556,
              "#d8576b"
             ],
             [
              0.6666666666666666,
              "#ed7953"
             ],
             [
              0.7777777777777778,
              "#fb9f3a"
             ],
             [
              0.8888888888888888,
              "#fdca26"
             ],
             [
              1,
              "#f0f921"
             ]
            ],
            "type": "heatmap"
           }
          ],
          "heatmapgl": [
           {
            "colorbar": {
             "outlinewidth": 0,
             "ticks": ""
            },
            "colorscale": [
             [
              0,
              "#0d0887"
             ],
             [
              0.1111111111111111,
              "#46039f"
             ],
             [
              0.2222222222222222,
              "#7201a8"
             ],
             [
              0.3333333333333333,
              "#9c179e"
             ],
             [
              0.4444444444444444,
              "#bd3786"
             ],
             [
              0.5555555555555556,
              "#d8576b"
             ],
             [
              0.6666666666666666,
              "#ed7953"
             ],
             [
              0.7777777777777778,
              "#fb9f3a"
             ],
             [
              0.8888888888888888,
              "#fdca26"
             ],
             [
              1,
              "#f0f921"
             ]
            ],
            "type": "heatmapgl"
           }
          ],
          "histogram": [
           {
            "marker": {
             "pattern": {
              "fillmode": "overlay",
              "size": 10,
              "solidity": 0.2
             }
            },
            "type": "histogram"
           }
          ],
          "histogram2d": [
           {
            "colorbar": {
             "outlinewidth": 0,
             "ticks": ""
            },
            "colorscale": [
             [
              0,
              "#0d0887"
             ],
             [
              0.1111111111111111,
              "#46039f"
             ],
             [
              0.2222222222222222,
              "#7201a8"
             ],
             [
              0.3333333333333333,
              "#9c179e"
             ],
             [
              0.4444444444444444,
              "#bd3786"
             ],
             [
              0.5555555555555556,
              "#d8576b"
             ],
             [
              0.6666666666666666,
              "#ed7953"
             ],
             [
              0.7777777777777778,
              "#fb9f3a"
             ],
             [
              0.8888888888888888,
              "#fdca26"
             ],
             [
              1,
              "#f0f921"
             ]
            ],
            "type": "histogram2d"
           }
          ],
          "histogram2dcontour": [
           {
            "colorbar": {
             "outlinewidth": 0,
             "ticks": ""
            },
            "colorscale": [
             [
              0,
              "#0d0887"
             ],
             [
              0.1111111111111111,
              "#46039f"
             ],
             [
              0.2222222222222222,
              "#7201a8"
             ],
             [
              0.3333333333333333,
              "#9c179e"
             ],
             [
              0.4444444444444444,
              "#bd3786"
             ],
             [
              0.5555555555555556,
              "#d8576b"
             ],
             [
              0.6666666666666666,
              "#ed7953"
             ],
             [
              0.7777777777777778,
              "#fb9f3a"
             ],
             [
              0.8888888888888888,
              "#fdca26"
             ],
             [
              1,
              "#f0f921"
             ]
            ],
            "type": "histogram2dcontour"
           }
          ],
          "mesh3d": [
           {
            "colorbar": {
             "outlinewidth": 0,
             "ticks": ""
            },
            "type": "mesh3d"
           }
          ],
          "parcoords": [
           {
            "line": {
             "colorbar": {
              "outlinewidth": 0,
              "ticks": ""
             }
            },
            "type": "parcoords"
           }
          ],
          "pie": [
           {
            "automargin": true,
            "type": "pie"
           }
          ],
          "scatter": [
           {
            "marker": {
             "colorbar": {
              "outlinewidth": 0,
              "ticks": ""
             }
            },
            "type": "scatter"
           }
          ],
          "scatter3d": [
           {
            "line": {
             "colorbar": {
              "outlinewidth": 0,
              "ticks": ""
             }
            },
            "marker": {
             "colorbar": {
              "outlinewidth": 0,
              "ticks": ""
             }
            },
            "type": "scatter3d"
           }
          ],
          "scattercarpet": [
           {
            "marker": {
             "colorbar": {
              "outlinewidth": 0,
              "ticks": ""
             }
            },
            "type": "scattercarpet"
           }
          ],
          "scattergeo": [
           {
            "marker": {
             "colorbar": {
              "outlinewidth": 0,
              "ticks": ""
             }
            },
            "type": "scattergeo"
           }
          ],
          "scattergl": [
           {
            "marker": {
             "colorbar": {
              "outlinewidth": 0,
              "ticks": ""
             }
            },
            "type": "scattergl"
           }
          ],
          "scattermapbox": [
           {
            "marker": {
             "colorbar": {
              "outlinewidth": 0,
              "ticks": ""
             }
            },
            "type": "scattermapbox"
           }
          ],
          "scatterpolar": [
           {
            "marker": {
             "colorbar": {
              "outlinewidth": 0,
              "ticks": ""
             }
            },
            "type": "scatterpolar"
           }
          ],
          "scatterpolargl": [
           {
            "marker": {
             "colorbar": {
              "outlinewidth": 0,
              "ticks": ""
             }
            },
            "type": "scatterpolargl"
           }
          ],
          "scatterternary": [
           {
            "marker": {
             "colorbar": {
              "outlinewidth": 0,
              "ticks": ""
             }
            },
            "type": "scatterternary"
           }
          ],
          "surface": [
           {
            "colorbar": {
             "outlinewidth": 0,
             "ticks": ""
            },
            "colorscale": [
             [
              0,
              "#0d0887"
             ],
             [
              0.1111111111111111,
              "#46039f"
             ],
             [
              0.2222222222222222,
              "#7201a8"
             ],
             [
              0.3333333333333333,
              "#9c179e"
             ],
             [
              0.4444444444444444,
              "#bd3786"
             ],
             [
              0.5555555555555556,
              "#d8576b"
             ],
             [
              0.6666666666666666,
              "#ed7953"
             ],
             [
              0.7777777777777778,
              "#fb9f3a"
             ],
             [
              0.8888888888888888,
              "#fdca26"
             ],
             [
              1,
              "#f0f921"
             ]
            ],
            "type": "surface"
           }
          ],
          "table": [
           {
            "cells": {
             "fill": {
              "color": "#EBF0F8"
             },
             "line": {
              "color": "white"
             }
            },
            "header": {
             "fill": {
              "color": "#C8D4E3"
             },
             "line": {
              "color": "white"
             }
            },
            "type": "table"
           }
          ]
         },
         "layout": {
          "annotationdefaults": {
           "arrowcolor": "#2a3f5f",
           "arrowhead": 0,
           "arrowwidth": 1
          },
          "autotypenumbers": "strict",
          "coloraxis": {
           "colorbar": {
            "outlinewidth": 0,
            "ticks": ""
           }
          },
          "colorscale": {
           "diverging": [
            [
             0,
             "#8e0152"
            ],
            [
             0.1,
             "#c51b7d"
            ],
            [
             0.2,
             "#de77ae"
            ],
            [
             0.3,
             "#f1b6da"
            ],
            [
             0.4,
             "#fde0ef"
            ],
            [
             0.5,
             "#f7f7f7"
            ],
            [
             0.6,
             "#e6f5d0"
            ],
            [
             0.7,
             "#b8e186"
            ],
            [
             0.8,
             "#7fbc41"
            ],
            [
             0.9,
             "#4d9221"
            ],
            [
             1,
             "#276419"
            ]
           ],
           "sequential": [
            [
             0,
             "#0d0887"
            ],
            [
             0.1111111111111111,
             "#46039f"
            ],
            [
             0.2222222222222222,
             "#7201a8"
            ],
            [
             0.3333333333333333,
             "#9c179e"
            ],
            [
             0.4444444444444444,
             "#bd3786"
            ],
            [
             0.5555555555555556,
             "#d8576b"
            ],
            [
             0.6666666666666666,
             "#ed7953"
            ],
            [
             0.7777777777777778,
             "#fb9f3a"
            ],
            [
             0.8888888888888888,
             "#fdca26"
            ],
            [
             1,
             "#f0f921"
            ]
           ],
           "sequentialminus": [
            [
             0,
             "#0d0887"
            ],
            [
             0.1111111111111111,
             "#46039f"
            ],
            [
             0.2222222222222222,
             "#7201a8"
            ],
            [
             0.3333333333333333,
             "#9c179e"
            ],
            [
             0.4444444444444444,
             "#bd3786"
            ],
            [
             0.5555555555555556,
             "#d8576b"
            ],
            [
             0.6666666666666666,
             "#ed7953"
            ],
            [
             0.7777777777777778,
             "#fb9f3a"
            ],
            [
             0.8888888888888888,
             "#fdca26"
            ],
            [
             1,
             "#f0f921"
            ]
           ]
          },
          "colorway": [
           "#636efa",
           "#EF553B",
           "#00cc96",
           "#ab63fa",
           "#FFA15A",
           "#19d3f3",
           "#FF6692",
           "#B6E880",
           "#FF97FF",
           "#FECB52"
          ],
          "font": {
           "color": "#2a3f5f"
          },
          "geo": {
           "bgcolor": "white",
           "lakecolor": "white",
           "landcolor": "#E5ECF6",
           "showlakes": true,
           "showland": true,
           "subunitcolor": "white"
          },
          "hoverlabel": {
           "align": "left"
          },
          "hovermode": "closest",
          "mapbox": {
           "style": "light"
          },
          "paper_bgcolor": "white",
          "plot_bgcolor": "#E5ECF6",
          "polar": {
           "angularaxis": {
            "gridcolor": "white",
            "linecolor": "white",
            "ticks": ""
           },
           "bgcolor": "#E5ECF6",
           "radialaxis": {
            "gridcolor": "white",
            "linecolor": "white",
            "ticks": ""
           }
          },
          "scene": {
           "xaxis": {
            "backgroundcolor": "#E5ECF6",
            "gridcolor": "white",
            "gridwidth": 2,
            "linecolor": "white",
            "showbackground": true,
            "ticks": "",
            "zerolinecolor": "white"
           },
           "yaxis": {
            "backgroundcolor": "#E5ECF6",
            "gridcolor": "white",
            "gridwidth": 2,
            "linecolor": "white",
            "showbackground": true,
            "ticks": "",
            "zerolinecolor": "white"
           },
           "zaxis": {
            "backgroundcolor": "#E5ECF6",
            "gridcolor": "white",
            "gridwidth": 2,
            "linecolor": "white",
            "showbackground": true,
            "ticks": "",
            "zerolinecolor": "white"
           }
          },
          "shapedefaults": {
           "line": {
            "color": "#2a3f5f"
           }
          },
          "ternary": {
           "aaxis": {
            "gridcolor": "white",
            "linecolor": "white",
            "ticks": ""
           },
           "baxis": {
            "gridcolor": "white",
            "linecolor": "white",
            "ticks": ""
           },
           "bgcolor": "#E5ECF6",
           "caxis": {
            "gridcolor": "white",
            "linecolor": "white",
            "ticks": ""
           }
          },
          "title": {
           "x": 0.05
          },
          "xaxis": {
           "automargin": true,
           "gridcolor": "white",
           "linecolor": "white",
           "ticks": "",
           "title": {
            "standoff": 15
           },
           "zerolinecolor": "white",
           "zerolinewidth": 2
          },
          "yaxis": {
           "automargin": true,
           "gridcolor": "white",
           "linecolor": "white",
           "ticks": "",
           "title": {
            "standoff": 15
           },
           "zerolinecolor": "white",
           "zerolinewidth": 2
          }
         }
        },
        "title": {
         "text": "Features Summary"
        }
       }
      },
      "text/html": [
       "<div>                            <div id=\"83ae1d51-a4ef-4195-a0bb-87468b5807ef\" class=\"plotly-graph-div\" style=\"height:525px; width:100%;\"></div>            <script type=\"text/javascript\">                require([\"plotly\"], function(Plotly) {                    window.PLOTLYENV=window.PLOTLYENV || {};                                    if (document.getElementById(\"83ae1d51-a4ef-4195-a0bb-87468b5807ef\")) {                    Plotly.newPlot(                        \"83ae1d51-a4ef-4195-a0bb-87468b5807ef\",                        [{\"cells\":{\"fill\":{\"color\":[\"lightgrey\",\"#F5F8FF\"]},\"line\":{\"color\":[\"#506784\"]},\"values\":[[\"diagnosis\",\"radius_mean\",\"texture_mean\",\"perimeter_mean\",\"area_mean\",\"smoothness_mean\",\"compactness_mean\",\"concavity_mean\",\"concave points_mean\",\"symmetry_mean\",\"fractal_dimension_mean\",\"radius_se\",\"texture_se\",\"perimeter_se\",\"area_se\",\"smoothness_se\",\"compactness_se\",\"concavity_se\",\"concave points_se\",\"symmetry_se\",\"fractal_dimension_se\",\"radius_worst\",\"texture_worst\",\"perimeter_worst\",\"area_worst\",\"smoothness_worst\",\"compactness_worst\",\"concavity_worst\",\"concave points_worst\",\"symmetry_worst\",\"fractal_dimension_worst\"],[569.0,569.0,569.0,569.0,569.0,569.0,569.0,569.0,569.0,569.0,569.0,569.0,569.0,569.0,569.0,569.0,569.0,569.0,569.0,569.0,569.0,569.0,569.0,569.0,569.0,569.0,569.0,569.0,569.0,569.0,569.0],[0.373,14.127,19.29,91.969,654.889,0.096,0.104,0.089,0.049,0.181,0.063,0.405,1.217,2.866,40.337,0.007,0.025,0.032,0.012,0.021,0.004,16.269,25.677,107.261,880.583,0.132,0.254,0.272,0.115,0.29,0.084],[0.484,3.524,4.301,24.299,351.914,0.014,0.053,0.08,0.039,0.027,0.007,0.277,0.552,2.022,45.491,0.003,0.018,0.03,0.006,0.008,0.003,4.833,6.146,33.603,569.357,0.023,0.157,0.209,0.066,0.062,0.018],[0.0,6.981,9.71,43.79,143.5,0.053,0.019,0.0,0.0,0.106,0.05,0.112,0.36,0.757,6.802,0.002,0.002,0.0,0.0,0.008,0.001,7.93,12.02,50.41,185.2,0.071,0.027,0.0,0.0,0.156,0.055],[0.0,11.7,16.17,75.17,420.3,0.086,0.065,0.03,0.02,0.162,0.058,0.232,0.834,1.606,17.85,0.005,0.013,0.015,0.008,0.015,0.002,13.01,21.08,84.11,515.3,0.117,0.147,0.114,0.065,0.25,0.071],[0.0,13.37,18.84,86.24,551.1,0.096,0.093,0.062,0.034,0.179,0.062,0.324,1.108,2.287,24.53,0.006,0.02,0.026,0.011,0.019,0.003,14.97,25.41,97.66,686.5,0.131,0.212,0.227,0.1,0.282,0.08],[1.0,15.78,21.8,104.1,782.7,0.105,0.13,0.131,0.074,0.196,0.066,0.479,1.474,3.357,45.19,0.008,0.032,0.042,0.015,0.023,0.005,18.79,29.72,125.4,1084.0,0.146,0.339,0.383,0.161,0.318,0.092],[1.0,28.11,39.28,188.5,2501.0,0.163,0.345,0.427,0.201,0.304,0.097,2.873,4.885,21.98,542.2,0.031,0.135,0.396,0.053,0.079,0.03,36.04,49.54,251.2,4254.0,0.223,1.058,1.252,0.291,0.664,0.208]]},\"columnwidth\":[180,60,100,100,60,60,80,80,80],\"header\":{\"fill\":{\"color\":[\"#119DFF\"]},\"line\":{\"color\":[\"#506784\"]},\"values\":[\"feature\",\"count\",\"mean\",\"std\",\"min\",\"25%\",\"50%\",\"75%\",\"max\"]},\"type\":\"table\"}],                        {\"template\":{\"data\":{\"barpolar\":[{\"marker\":{\"line\":{\"color\":\"#E5ECF6\",\"width\":0.5},\"pattern\":{\"fillmode\":\"overlay\",\"size\":10,\"solidity\":0.2}},\"type\":\"barpolar\"}],\"bar\":[{\"error_x\":{\"color\":\"#2a3f5f\"},\"error_y\":{\"color\":\"#2a3f5f\"},\"marker\":{\"line\":{\"color\":\"#E5ECF6\",\"width\":0.5},\"pattern\":{\"fillmode\":\"overlay\",\"size\":10,\"solidity\":0.2}},\"type\":\"bar\"}],\"carpet\":[{\"aaxis\":{\"endlinecolor\":\"#2a3f5f\",\"gridcolor\":\"white\",\"linecolor\":\"white\",\"minorgridcolor\":\"white\",\"startlinecolor\":\"#2a3f5f\"},\"baxis\":{\"endlinecolor\":\"#2a3f5f\",\"gridcolor\":\"white\",\"linecolor\":\"white\",\"minorgridcolor\":\"white\",\"startlinecolor\":\"#2a3f5f\"},\"type\":\"carpet\"}],\"choropleth\":[{\"colorbar\":{\"outlinewidth\":0,\"ticks\":\"\"},\"type\":\"choropleth\"}],\"contourcarpet\":[{\"colorbar\":{\"outlinewidth\":0,\"ticks\":\"\"},\"type\":\"contourcarpet\"}],\"contour\":[{\"colorbar\":{\"outlinewidth\":0,\"ticks\":\"\"},\"colorscale\":[[0.0,\"#0d0887\"],[0.1111111111111111,\"#46039f\"],[0.2222222222222222,\"#7201a8\"],[0.3333333333333333,\"#9c179e\"],[0.4444444444444444,\"#bd3786\"],[0.5555555555555556,\"#d8576b\"],[0.6666666666666666,\"#ed7953\"],[0.7777777777777778,\"#fb9f3a\"],[0.8888888888888888,\"#fdca26\"],[1.0,\"#f0f921\"]],\"type\":\"contour\"}],\"heatmapgl\":[{\"colorbar\":{\"outlinewidth\":0,\"ticks\":\"\"},\"colorscale\":[[0.0,\"#0d0887\"],[0.1111111111111111,\"#46039f\"],[0.2222222222222222,\"#7201a8\"],[0.3333333333333333,\"#9c179e\"],[0.4444444444444444,\"#bd3786\"],[0.5555555555555556,\"#d8576b\"],[0.6666666666666666,\"#ed7953\"],[0.7777777777777778,\"#fb9f3a\"],[0.8888888888888888,\"#fdca26\"],[1.0,\"#f0f921\"]],\"type\":\"heatmapgl\"}],\"heatmap\":[{\"colorbar\":{\"outlinewidth\":0,\"ticks\":\"\"},\"colorscale\":[[0.0,\"#0d0887\"],[0.1111111111111111,\"#46039f\"],[0.2222222222222222,\"#7201a8\"],[0.3333333333333333,\"#9c179e\"],[0.4444444444444444,\"#bd3786\"],[0.5555555555555556,\"#d8576b\"],[0.6666666666666666,\"#ed7953\"],[0.7777777777777778,\"#fb9f3a\"],[0.8888888888888888,\"#fdca26\"],[1.0,\"#f0f921\"]],\"type\":\"heatmap\"}],\"histogram2dcontour\":[{\"colorbar\":{\"outlinewidth\":0,\"ticks\":\"\"},\"colorscale\":[[0.0,\"#0d0887\"],[0.1111111111111111,\"#46039f\"],[0.2222222222222222,\"#7201a8\"],[0.3333333333333333,\"#9c179e\"],[0.4444444444444444,\"#bd3786\"],[0.5555555555555556,\"#d8576b\"],[0.6666666666666666,\"#ed7953\"],[0.7777777777777778,\"#fb9f3a\"],[0.8888888888888888,\"#fdca26\"],[1.0,\"#f0f921\"]],\"type\":\"histogram2dcontour\"}],\"histogram2d\":[{\"colorbar\":{\"outlinewidth\":0,\"ticks\":\"\"},\"colorscale\":[[0.0,\"#0d0887\"],[0.1111111111111111,\"#46039f\"],[0.2222222222222222,\"#7201a8\"],[0.3333333333333333,\"#9c179e\"],[0.4444444444444444,\"#bd3786\"],[0.5555555555555556,\"#d8576b\"],[0.6666666666666666,\"#ed7953\"],[0.7777777777777778,\"#fb9f3a\"],[0.8888888888888888,\"#fdca26\"],[1.0,\"#f0f921\"]],\"type\":\"histogram2d\"}],\"histogram\":[{\"marker\":{\"pattern\":{\"fillmode\":\"overlay\",\"size\":10,\"solidity\":0.2}},\"type\":\"histogram\"}],\"mesh3d\":[{\"colorbar\":{\"outlinewidth\":0,\"ticks\":\"\"},\"type\":\"mesh3d\"}],\"parcoords\":[{\"line\":{\"colorbar\":{\"outlinewidth\":0,\"ticks\":\"\"}},\"type\":\"parcoords\"}],\"pie\":[{\"automargin\":true,\"type\":\"pie\"}],\"scatter3d\":[{\"line\":{\"colorbar\":{\"outlinewidth\":0,\"ticks\":\"\"}},\"marker\":{\"colorbar\":{\"outlinewidth\":0,\"ticks\":\"\"}},\"type\":\"scatter3d\"}],\"scattercarpet\":[{\"marker\":{\"colorbar\":{\"outlinewidth\":0,\"ticks\":\"\"}},\"type\":\"scattercarpet\"}],\"scattergeo\":[{\"marker\":{\"colorbar\":{\"outlinewidth\":0,\"ticks\":\"\"}},\"type\":\"scattergeo\"}],\"scattergl\":[{\"marker\":{\"colorbar\":{\"outlinewidth\":0,\"ticks\":\"\"}},\"type\":\"scattergl\"}],\"scattermapbox\":[{\"marker\":{\"colorbar\":{\"outlinewidth\":0,\"ticks\":\"\"}},\"type\":\"scattermapbox\"}],\"scatterpolargl\":[{\"marker\":{\"colorbar\":{\"outlinewidth\":0,\"ticks\":\"\"}},\"type\":\"scatterpolargl\"}],\"scatterpolar\":[{\"marker\":{\"colorbar\":{\"outlinewidth\":0,\"ticks\":\"\"}},\"type\":\"scatterpolar\"}],\"scatter\":[{\"marker\":{\"colorbar\":{\"outlinewidth\":0,\"ticks\":\"\"}},\"type\":\"scatter\"}],\"scatterternary\":[{\"marker\":{\"colorbar\":{\"outlinewidth\":0,\"ticks\":\"\"}},\"type\":\"scatterternary\"}],\"surface\":[{\"colorbar\":{\"outlinewidth\":0,\"ticks\":\"\"},\"colorscale\":[[0.0,\"#0d0887\"],[0.1111111111111111,\"#46039f\"],[0.2222222222222222,\"#7201a8\"],[0.3333333333333333,\"#9c179e\"],[0.4444444444444444,\"#bd3786\"],[0.5555555555555556,\"#d8576b\"],[0.6666666666666666,\"#ed7953\"],[0.7777777777777778,\"#fb9f3a\"],[0.8888888888888888,\"#fdca26\"],[1.0,\"#f0f921\"]],\"type\":\"surface\"}],\"table\":[{\"cells\":{\"fill\":{\"color\":\"#EBF0F8\"},\"line\":{\"color\":\"white\"}},\"header\":{\"fill\":{\"color\":\"#C8D4E3\"},\"line\":{\"color\":\"white\"}},\"type\":\"table\"}]},\"layout\":{\"annotationdefaults\":{\"arrowcolor\":\"#2a3f5f\",\"arrowhead\":0,\"arrowwidth\":1},\"autotypenumbers\":\"strict\",\"coloraxis\":{\"colorbar\":{\"outlinewidth\":0,\"ticks\":\"\"}},\"colorscale\":{\"diverging\":[[0,\"#8e0152\"],[0.1,\"#c51b7d\"],[0.2,\"#de77ae\"],[0.3,\"#f1b6da\"],[0.4,\"#fde0ef\"],[0.5,\"#f7f7f7\"],[0.6,\"#e6f5d0\"],[0.7,\"#b8e186\"],[0.8,\"#7fbc41\"],[0.9,\"#4d9221\"],[1,\"#276419\"]],\"sequential\":[[0.0,\"#0d0887\"],[0.1111111111111111,\"#46039f\"],[0.2222222222222222,\"#7201a8\"],[0.3333333333333333,\"#9c179e\"],[0.4444444444444444,\"#bd3786\"],[0.5555555555555556,\"#d8576b\"],[0.6666666666666666,\"#ed7953\"],[0.7777777777777778,\"#fb9f3a\"],[0.8888888888888888,\"#fdca26\"],[1.0,\"#f0f921\"]],\"sequentialminus\":[[0.0,\"#0d0887\"],[0.1111111111111111,\"#46039f\"],[0.2222222222222222,\"#7201a8\"],[0.3333333333333333,\"#9c179e\"],[0.4444444444444444,\"#bd3786\"],[0.5555555555555556,\"#d8576b\"],[0.6666666666666666,\"#ed7953\"],[0.7777777777777778,\"#fb9f3a\"],[0.8888888888888888,\"#fdca26\"],[1.0,\"#f0f921\"]]},\"colorway\":[\"#636efa\",\"#EF553B\",\"#00cc96\",\"#ab63fa\",\"#FFA15A\",\"#19d3f3\",\"#FF6692\",\"#B6E880\",\"#FF97FF\",\"#FECB52\"],\"font\":{\"color\":\"#2a3f5f\"},\"geo\":{\"bgcolor\":\"white\",\"lakecolor\":\"white\",\"landcolor\":\"#E5ECF6\",\"showlakes\":true,\"showland\":true,\"subunitcolor\":\"white\"},\"hoverlabel\":{\"align\":\"left\"},\"hovermode\":\"closest\",\"mapbox\":{\"style\":\"light\"},\"paper_bgcolor\":\"white\",\"plot_bgcolor\":\"#E5ECF6\",\"polar\":{\"angularaxis\":{\"gridcolor\":\"white\",\"linecolor\":\"white\",\"ticks\":\"\"},\"bgcolor\":\"#E5ECF6\",\"radialaxis\":{\"gridcolor\":\"white\",\"linecolor\":\"white\",\"ticks\":\"\"}},\"scene\":{\"xaxis\":{\"backgroundcolor\":\"#E5ECF6\",\"gridcolor\":\"white\",\"gridwidth\":2,\"linecolor\":\"white\",\"showbackground\":true,\"ticks\":\"\",\"zerolinecolor\":\"white\"},\"yaxis\":{\"backgroundcolor\":\"#E5ECF6\",\"gridcolor\":\"white\",\"gridwidth\":2,\"linecolor\":\"white\",\"showbackground\":true,\"ticks\":\"\",\"zerolinecolor\":\"white\"},\"zaxis\":{\"backgroundcolor\":\"#E5ECF6\",\"gridcolor\":\"white\",\"gridwidth\":2,\"linecolor\":\"white\",\"showbackground\":true,\"ticks\":\"\",\"zerolinecolor\":\"white\"}},\"shapedefaults\":{\"line\":{\"color\":\"#2a3f5f\"}},\"ternary\":{\"aaxis\":{\"gridcolor\":\"white\",\"linecolor\":\"white\",\"ticks\":\"\"},\"baxis\":{\"gridcolor\":\"white\",\"linecolor\":\"white\",\"ticks\":\"\"},\"bgcolor\":\"#E5ECF6\",\"caxis\":{\"gridcolor\":\"white\",\"linecolor\":\"white\",\"ticks\":\"\"}},\"title\":{\"x\":0.05},\"xaxis\":{\"automargin\":true,\"gridcolor\":\"white\",\"linecolor\":\"white\",\"ticks\":\"\",\"title\":{\"standoff\":15},\"zerolinecolor\":\"white\",\"zerolinewidth\":2},\"yaxis\":{\"automargin\":true,\"gridcolor\":\"white\",\"linecolor\":\"white\",\"ticks\":\"\",\"title\":{\"standoff\":15},\"zerolinecolor\":\"white\",\"zerolinewidth\":2}}},\"title\":{\"text\":\"Features Summary\"}},                        {\"responsive\": true}                    ).then(function(){\n",
       "                            \n",
       "var gd = document.getElementById('83ae1d51-a4ef-4195-a0bb-87468b5807ef');\n",
       "var x = new MutationObserver(function (mutations, observer) {{\n",
       "        var display = window.getComputedStyle(gd).display;\n",
       "        if (!display || display === 'none') {{\n",
       "            console.log([gd, 'removed!']);\n",
       "            Plotly.purge(gd);\n",
       "            observer.disconnect();\n",
       "        }}\n",
       "}});\n",
       "\n",
       "// Listen for the removal of the full notebook cells\n",
       "var notebookContainer = gd.closest('#notebook-container');\n",
       "if (notebookContainer) {{\n",
       "    x.observe(notebookContainer, {childList: true});\n",
       "}}\n",
       "\n",
       "// Listen for the clearing of the current output cell\n",
       "var outputEl = gd.closest('.output');\n",
       "if (outputEl) {{\n",
       "    x.observe(outputEl, {childList: true});\n",
       "}}\n",
       "\n",
       "                        })                };                });            </script>        </div>"
      ]
     },
     "metadata": {},
     "output_type": "display_data"
    },
    {
     "data": {
      "application/vnd.plotly.v1+json": {
       "config": {
        "linkText": "Export to plot.ly",
        "plotlyServerURL": "https://plot.ly",
        "showLink": false
       },
       "data": [
        {
         "colorbar": {
          "title": {
           "side": "right",
           "text": "Pearson Correlation coefficient"
          }
         },
         "colorscale": [
          [
           0,
           "rgb(255, 198, 196)"
          ],
          [
           0.16666666666666666,
           "rgb(244, 163, 168)"
          ],
          [
           0.3333333333333333,
           "rgb(227, 129, 145)"
          ],
          [
           0.5,
           "rgb(204, 96, 125)"
          ],
          [
           0.6666666666666666,
           "rgb(173, 70, 108)"
          ],
          [
           0.8333333333333334,
           "rgb(139, 48, 88)"
          ],
          [
           1,
           "rgb(103, 32, 68)"
          ]
         ],
         "type": "heatmap",
         "x": [
          "id",
          "diagnosis",
          "radius_mean",
          "texture_mean",
          "perimeter_mean",
          "area_mean",
          "smoothness_mean",
          "compactness_mean",
          "concavity_mean",
          "concave points_mean",
          "symmetry_mean",
          "fractal_dimension_mean",
          "radius_se",
          "texture_se",
          "perimeter_se",
          "area_se",
          "smoothness_se",
          "compactness_se",
          "concavity_se",
          "concave points_se",
          "symmetry_se",
          "fractal_dimension_se",
          "radius_worst",
          "texture_worst",
          "perimeter_worst",
          "area_worst",
          "smoothness_worst",
          "compactness_worst",
          "concavity_worst",
          "concave points_worst",
          "symmetry_worst",
          "fractal_dimension_worst"
         ],
         "y": [
          "id",
          "diagnosis",
          "radius_mean",
          "texture_mean",
          "perimeter_mean",
          "area_mean",
          "smoothness_mean",
          "compactness_mean",
          "concavity_mean",
          "concave points_mean",
          "symmetry_mean",
          "fractal_dimension_mean",
          "radius_se",
          "texture_se",
          "perimeter_se",
          "area_se",
          "smoothness_se",
          "compactness_se",
          "concavity_se",
          "concave points_se",
          "symmetry_se",
          "fractal_dimension_se",
          "radius_worst",
          "texture_worst",
          "perimeter_worst",
          "area_worst",
          "smoothness_worst",
          "compactness_worst",
          "concavity_worst",
          "concave points_worst",
          "symmetry_worst",
          "fractal_dimension_worst"
         ],
         "z": [
          [
           1,
           0.03976850962171701,
           0.07462646971722937,
           0.09976989120339742,
           0.07315941187033173,
           0.0968928232816979,
           -0.012968197459056417,
           9.570110005919952e-05,
           0.05007995318682945,
           0.0441580956130942,
           -0.02211406094054623,
           -0.05251144760538408,
           0.14304758136570647,
           -0.007526190386325113,
           0.13733106601321007,
           0.1777419151972139,
           0.09678057388699476,
           0.0339609720746819,
           0.05523931743591363,
           0.07876807105106293,
           -0.017306294834957745,
           0.025725324327841456,
           0.08240533729217786,
           0.06471954538105888,
           0.07998587311128416,
           0.10718652332566654,
           0.01033803426848161,
           -0.0029680997948661808,
           0.023202743927262987,
           0.03517357937367914,
           -0.04422425287013756,
           -0.029865635986145375
          ],
          [
           0.03976850962171701,
           1,
           0.7300285113754563,
           0.4151852998452049,
           0.7426355297258325,
           0.7089838365853903,
           0.3585599650859322,
           0.5965336775082539,
           0.6963597071719054,
           0.7766138400204352,
           0.33049855426254765,
           -0.012837602698432374,
           0.5671338208247173,
           -0.008303332973877461,
           0.5561407034314829,
           0.5482359402780245,
           -0.06701601057948729,
           0.2929992442488584,
           0.25372976598083025,
           0.4080423327165046,
           -0.006521755870647837,
           0.07797241739025614,
           0.7764537785950398,
           0.45690282139679816,
           0.7829141371737596,
           0.7338250349210516,
           0.4214648610664023,
           0.5909982378417924,
           0.6596102103692336,
           0.79356601714127,
           0.41629431104861975,
           0.3238721887208236
          ],
          [
           0.07462646971722937,
           0.7300285113754563,
           1,
           0.32378189092773296,
           0.9978552814938094,
           0.9873571700566122,
           0.17058118749299478,
           0.506123577526364,
           0.6767635503908114,
           0.8225285223871796,
           0.14774124199260236,
           -0.3116308263092902,
           0.6790903880020756,
           -0.09731744314481329,
           0.6741716157641056,
           0.7358636632128172,
           -0.22260012458211145,
           0.20599998040769932,
           0.19420362276150901,
           0.3761689559399259,
           -0.1043208814178656,
           -0.04264126911445621,
           0.9695389726112066,
           0.2970076439863737,
           0.9651365139559874,
           0.9410824595860466,
           0.11961613992160841,
           0.4134628230608015,
           0.526911461838545,
           0.7442141978674657,
           0.16395333493630732,
           0.007065885692182585
          ],
          [
           0.09976989120339742,
           0.4151852998452049,
           0.32378189092773296,
           1,
           0.3295330586865705,
           0.32108569608020754,
           -0.02338851599842353,
           0.2367022220743722,
           0.3024178279438915,
           0.29346405131394243,
           0.07140098048331703,
           -0.0764371834481339,
           0.27586867617376243,
           0.38635762272449037,
           0.2816731147872026,
           0.2598449866100987,
           0.006613777353585341,
           0.19197461132396648,
           0.14329307656049842,
           0.16385102528521808,
           0.009127167755036037,
           0.05445751956893367,
           0.3525729471502957,
           0.9120445888404213,
           0.35803957505322426,
           0.34354594718646964,
           0.07750335882212882,
           0.2778295924789796,
           0.30102522381649127,
           0.29531584333773664,
           0.10500791031597212,
           0.11920535139708549
          ],
          [
           0.07315941187033173,
           0.7426355297258325,
           0.9978552814938094,
           0.3295330586865705,
           1,
           0.9865068039913902,
           0.2072781636910065,
           0.5569362108795616,
           0.716135650117405,
           0.8509770412528191,
           0.18302721211685294,
           -0.26147690806633356,
           0.691765013533482,
           -0.0867610783117948,
           0.6931348895408654,
           0.744982694119068,
           -0.20269402629832206,
           0.25074368074058784,
           0.228082345393658,
           0.40721691599861876,
           -0.08162932702839953,
           -0.0055233910570039535,
           0.9694763634663137,
           0.3030383715571501,
           0.9703868870426389,
           0.9415498080023066,
           0.15054940431703698,
           0.4557742280383266,
           0.5638792634736616,
           0.7712407893605485,
           0.18911504046245753,
           0.05101852972340665
          ],
          [
           0.0968928232816979,
           0.7089838365853903,
           0.9873571700566122,
           0.32108569608020754,
           0.9865068039913902,
           1,
           0.1770283772540012,
           0.49850168215241225,
           0.6859828285519107,
           0.8232688686524328,
           0.15129307903511213,
           -0.2831098116914264,
           0.7325622269972987,
           -0.0662802136045774,
           0.7266283277906844,
           0.800085921234322,
           -0.1667766666011127,
           0.21258255077923285,
           0.2076600604825693,
           0.37232028233071,
           -0.07249658821176272,
           -0.01988696323506802,
           0.9627460860470832,
           0.2874886271213966,
           0.9591195743552647,
           0.9592133256499006,
           0.123522938755571,
           0.3904103092424984,
           0.5126059204433243,
           0.7220166262603592,
           0.14356991388907128,
           0.0037375973515715597
          ],
          [
           -0.012968197459056417,
           0.3585599650859322,
           0.17058118749299478,
           -0.02338851599842353,
           0.2072781636910065,
           0.1770283772540012,
           1,
           0.6591232152159229,
           0.5219837677142605,
           0.5536951727437605,
           0.5577747880728873,
           0.5847920019499776,
           0.30146709825316953,
           0.06840644817118238,
           0.29609193289351415,
           0.24655243166573562,
           0.33237544264759233,
           0.318943296705379,
           0.2483956798825553,
           0.38067569098328563,
           0.20077437592048317,
           0.283606698546885,
           0.21312014189594855,
           0.036071798785646474,
           0.23885262620915038,
           0.20671836342857658,
           0.805324195494362,
           0.4724684437304434,
           0.4349257147250867,
           0.5030533532989497,
           0.39430948181175546,
           0.499316368593766
          ],
          [
           9.570110005919952e-05,
           0.5965336775082539,
           0.506123577526364,
           0.2367022220743722,
           0.5569362108795616,
           0.49850168215241225,
           0.6591232152159229,
           1,
           0.8831206701772505,
           0.8311350431336991,
           0.6026410484055158,
           0.5653686634145211,
           0.4974734460850617,
           0.04620483071640683,
           0.5489052645888233,
           0.45565285198788885,
           0.13529926770047154,
           0.7387217896603927,
           0.5705168714898885,
           0.6422618509716466,
           0.22997659080143243,
           0.5073181269004224,
           0.5353153982176653,
           0.2481328332774176,
           0.5902104277312977,
           0.5096038055579203,
           0.5655411663750874,
           0.865809039802263,
           0.8162752498000297,
           0.8155732235690639,
           0.510223429921806,
           0.6873823227538964
          ],
          [
           0.05007995318682945,
           0.6963597071719054,
           0.6767635503908114,
           0.3024178279438915,
           0.716135650117405,
           0.6859828285519107,
           0.5219837677142605,
           0.8831206701772505,
           1,
           0.9213910263788581,
           0.5006666171419618,
           0.33678335942118526,
           0.631924822141491,
           0.07621834813534,
           0.6603907872419624,
           0.617426805845241,
           0.09856374579911731,
           0.6702788246430207,
           0.6912702075448517,
           0.6832599165123272,
           0.1780092079208777,
           0.44930074905033845,
           0.6882364076436721,
           0.2998788887096905,
           0.7295649165132028,
           0.6759872313060887,
           0.4488220384047602,
           0.7549680159063961,
           0.8841026390943832,
           0.8613230336379509,
           0.4094641265399866,
           0.5149298906363866
          ],
          [
           0.0441580956130942,
           0.7766138400204352,
           0.8225285223871796,
           0.29346405131394243,
           0.8509770412528191,
           0.8232688686524328,
           0.5536951727437605,
           0.8311350431336991,
           0.9213910263788581,
           1,
           0.4624973883673582,
           0.16691738322699232,
           0.6980498335607402,
           0.02147958192340165,
           0.7106498716138993,
           0.690298539759553,
           0.027653308387136203,
           0.4904242495935712,
           0.4391670684742612,
           0.6156341308969195,
           0.09535078688667688,
           0.25758374624303265,
           0.8303176311186148,
           0.29275171300151764,
           0.8559231281343108,
           0.8096296199096182,
           0.4527530541790472,
           0.6674536768257117,
           0.7523994975749642,
           0.9101553142985929,
           0.3757441454236105,
           0.36866113371677084
          ],
          [
           -0.02211406094054623,
           0.33049855426254765,
           0.14774124199260236,
           0.07140098048331703,
           0.18302721211685294,
           0.15129307903511213,
           0.5577747880728873,
           0.6026410484055158,
           0.5006666171419618,
           0.4624973883673582,
           1,
           0.47992133005096915,
           0.30337926320726255,
           0.12805292634025597,
           0.31389276079651357,
           0.22397021941762993,
           0.18732116526139062,
           0.4216591470050108,
           0.34262702307772047,
           0.3932978720890168,
           0.4491365423934285,
           0.33178614627312447,
           0.18572775349568735,
           0.09065068811664272,
           0.21916855911105806,
           0.17719337737409702,
           0.4266750263849461,
           0.4732000132446181,
           0.43372100759017285,
           0.430296611457954,
           0.6998257976437305,
           0.43841349844460287
          ],
          [
           -0.05251144760538408,
           -0.012837602698432374,
           -0.3116308263092902,
           -0.0764371834481339,
           -0.26147690806633356,
           -0.2831098116914264,
           0.5847920019499776,
           0.5653686634145211,
           0.33678335942118526,
           0.16691738322699232,
           0.47992133005096915,
           1,
           0.00011099507262942823,
           0.1641739658717292,
           0.03982993157204705,
           -0.09017024752042735,
           0.4019644254484123,
           0.5598366906211327,
           0.44663032169957073,
           0.34119804439711793,
           0.3450073971437277,
           0.6881315774585512,
           -0.2536914948766094,
           -0.05126920203676512,
           -0.2051512112627737,
           -0.23185445116756076,
           0.5049420753517614,
           0.4587981566678595,
           0.34623387634806796,
           0.17532544924324453,
           0.33401868385108263,
           0.7672967792384358
          ],
          [
           0.14304758136570647,
           0.5671338208247173,
           0.6790903880020756,
           0.27586867617376243,
           0.691765013533482,
           0.7325622269972987,
           0.30146709825316953,
           0.4974734460850617,
           0.631924822141491,
           0.6980498335607402,
           0.30337926320726255,
           0.00011099507262942823,
           1,
           0.2132473372511577,
           0.9727936770160753,
           0.9518301121109907,
           0.16451421981281159,
           0.35606457553220255,
           0.33235753760761083,
           0.5133464414367648,
           0.24056736245007118,
           0.22775353267198065,
           0.7150651951351846,
           0.1947985568342513,
           0.7196838036650051,
           0.7515484761266196,
           0.1419185529186069,
           0.2871031656007405,
           0.3805846346287225,
           0.5310623278216042,
           0.09454283035438187,
           0.04955943246457305
          ],
          [
           -0.007526190386325113,
           -0.008303332973877461,
           -0.09731744314481329,
           0.38635762272449037,
           -0.0867610783117948,
           -0.0662802136045774,
           0.06840644817118238,
           0.04620483071640683,
           0.07621834813534,
           0.02147958192340165,
           0.12805292634025597,
           0.1641739658717292,
           0.2132473372511577,
           1,
           0.2231707286307136,
           0.11156724721803925,
           0.39724285264120945,
           0.23169969897623707,
           0.19499846445881833,
           0.2302833995570333,
           0.4116206801975396,
           0.2797227477191935,
           -0.11169031312493015,
           0.4090027663153055,
           -0.10224192188743299,
           -0.08319498858504674,
           -0.07365765910118525,
           -0.09243935361819385,
           -0.06895622054645609,
           -0.11963752313984627,
           -0.12821475779252967,
           -0.04565456859320707
          ],
          [
           0.13733106601321007,
           0.5561407034314829,
           0.6741716157641056,
           0.2816731147872026,
           0.6931348895408654,
           0.7266283277906844,
           0.29609193289351415,
           0.5489052645888233,
           0.6603907872419624,
           0.7106498716138993,
           0.31389276079651357,
           0.03982993157204705,
           0.9727936770160753,
           0.2231707286307136,
           1,
           0.9376554069544162,
           0.1510753312084128,
           0.4163223679924623,
           0.3624815822704491,
           0.5562640836543966,
           0.2664870918640229,
           0.24414277341628596,
           0.6972005927206452,
           0.20037085395945153,
           0.721031309989018,
           0.7307129731302835,
           0.13005439199100946,
           0.3419194453712058,
           0.4188988157305721,
           0.554897230628211,
           0.10993043423135018,
           0.08543257205665716
          ],
          [
           0.1777419151972139,
           0.5482359402780245,
           0.7358636632128172,
           0.2598449866100987,
           0.744982694119068,
           0.800085921234322,
           0.24655243166573562,
           0.45565285198788885,
           0.617426805845241,
           0.690298539759553,
           0.22397021941762993,
           -0.09017024752042735,
           0.9518301121109907,
           0.11156724721803925,
           0.9376554069544162,
           1,
           0.07515033812199384,
           0.28484005654116107,
           0.2708947261906317,
           0.4157295683714,
           0.13410897969247482,
           0.12707090297801268,
           0.757373188924016,
           0.1964966490728104,
           0.7612126360687592,
           0.8114079609317281,
           0.12538943051609117,
           0.2832565375374556,
           0.38510013559852924,
           0.5381663138957361,
           0.074126291599528,
           0.017539295132385366
          ],
          [
           0.09678057388699476,
           -0.06701601057948729,
           -0.22260012458211145,
           0.006613777353585341,
           -0.20269402629832206,
           -0.1667766666011127,
           0.33237544264759233,
           0.13529926770047154,
           0.09856374579911731,
           0.027653308387136203,
           0.18732116526139062,
           0.4019644254484123,
           0.16451421981281159,
           0.39724285264120945,
           0.1510753312084128,
           0.07515033812199384,
           1,
           0.3366960805054456,
           0.26868475987226237,
           0.32842949910967906,
           0.413506125207898,
           0.42737420672315796,
           -0.2306907098451477,
           -0.0747429648767562,
           -0.21730375458186194,
           -0.18219547805909903,
           0.31445745598082775,
           -0.05555813871505076,
           -0.05829838674344535,
           -0.10200679633746526,
           -0.10734209778914475,
           0.1014803150425252
          ],
          [
           0.0339609720746819,
           0.2929992442488584,
           0.20599998040769932,
           0.19197461132396648,
           0.25074368074058784,
           0.21258255077923285,
           0.318943296705379,
           0.7387217896603927,
           0.6702788246430207,
           0.4904242495935712,
           0.4216591470050108,
           0.5598366906211327,
           0.35606457553220255,
           0.23169969897623707,
           0.4163223679924623,
           0.28484005654116107,
           0.3366960805054456,
           1,
           0.8012683427383291,
           0.7440826676953245,
           0.394712834762032,
           0.8032688176617679,
           0.20460716594748163,
           0.1430025832957165,
           0.26051583964720904,
           0.199371329091014,
           0.22739423230542294,
           0.678780354372495,
           0.6391466977559204,
           0.48320832682561393,
           0.2778784307146353,
           0.5909727625047906
          ],
          [
           0.05523931743591363,
           0.25372976598083025,
           0.19420362276150901,
           0.14329307656049842,
           0.228082345393658,
           0.2076600604825693,
           0.2483956798825553,
           0.5705168714898885,
           0.6912702075448517,
           0.4391670684742612,
           0.34262702307772047,
           0.44663032169957073,
           0.33235753760761083,
           0.19499846445881833,
           0.3624815822704491,
           0.2708947261906317,
           0.26868475987226237,
           0.8012683427383291,
           1,
           0.7718039949238455,
           0.3094285779844512,
           0.7273721838811918,
           0.1869035156858974,
           0.1002409837483462,
           0.2266804255909013,
           0.18835265208953053,
           0.16848132079136718,
           0.4848578006864687,
           0.6625641337427423,
           0.44047226304622267,
           0.1977878218614109,
           0.43932926857579113
          ],
          [
           0.07876807105106293,
           0.4080423327165046,
           0.3761689559399259,
           0.16385102528521808,
           0.40721691599861876,
           0.37232028233071,
           0.38067569098328563,
           0.6422618509716466,
           0.6832599165123272,
           0.6156341308969195,
           0.3932978720890168,
           0.34119804439711793,
           0.5133464414367648,
           0.2302833995570333,
           0.5562640836543966,
           0.4157295683714,
           0.32842949910967906,
           0.7440826676953245,
           0.7718039949238455,
           1,
           0.3127802232097332,
           0.6110441393807221,
           0.3581266692410419,
           0.08674120994286853,
           0.39499925177418477,
           0.342271162092682,
           0.21535059681593308,
           0.4528883773698811,
           0.5495923752351927,
           0.6024496059209878,
           0.14311566863305,
           0.3106545514938305
          ],
          [
           -0.017306294834957745,
           -0.006521755870647837,
           -0.1043208814178656,
           0.009127167755036037,
           -0.08162932702839953,
           -0.07249658821176272,
           0.20077437592048317,
           0.22997659080143243,
           0.1780092079208777,
           0.09535078688667688,
           0.4491365423934285,
           0.3450073971437277,
           0.24056736245007118,
           0.4116206801975396,
           0.2664870918640229,
           0.13410897969247482,
           0.413506125207898,
           0.394712834762032,
           0.3094285779844512,
           0.3127802232097332,
           1,
           0.36907808336572917,
           -0.1281207690727425,
           -0.07747342018407904,
           -0.10375304384332525,
           -0.11034274289549868,
           -0.012661799565908734,
           0.06025487946536669,
           0.03711904859992855,
           -0.030413396423600934,
           0.38940248488464535,
           0.07807947627266777
          ],
          [
           0.025725324327841456,
           0.07797241739025614,
           -0.04264126911445621,
           0.05445751956893367,
           -0.0055233910570039535,
           -0.01988696323506802,
           0.283606698546885,
           0.5073181269004224,
           0.44930074905033845,
           0.25758374624303265,
           0.33178614627312447,
           0.6881315774585512,
           0.22775353267198065,
           0.2797227477191935,
           0.24414277341628596,
           0.12707090297801268,
           0.42737420672315796,
           0.8032688176617679,
           0.7273721838811918,
           0.6110441393807221,
           0.36907808336572917,
           1,
           -0.037487617862673364,
           -0.003195028868089598,
           -0.001000397625966831,
           -0.022736147308900542,
           0.17056831595314184,
           0.390158842086675,
           0.37997466145707964,
           0.2152040133100292,
           0.11109395575572417,
           0.5913280656608755
          ],
          [
           0.08240533729217786,
           0.7764537785950398,
           0.9695389726112066,
           0.3525729471502957,
           0.9694763634663137,
           0.9627460860470832,
           0.21312014189594855,
           0.5353153982176653,
           0.6882364076436721,
           0.8303176311186148,
           0.18572775349568735,
           -0.2536914948766094,
           0.7150651951351846,
           -0.11169031312493015,
           0.6972005927206452,
           0.757373188924016,
           -0.2306907098451477,
           0.20460716594748163,
           0.1869035156858974,
           0.3581266692410419,
           -0.1281207690727425,
           -0.037487617862673364,
           1,
           0.35992075422104813,
           0.9937079161029493,
           0.9840145644590723,
           0.21657443125969553,
           0.4758200374601461,
           0.5739747080993024,
           0.7874238517122398,
           0.24352920429131317,
           0.09349197867930158
          ],
          [
           0.06471954538105888,
           0.45690282139679816,
           0.2970076439863737,
           0.9120445888404213,
           0.3030383715571501,
           0.2874886271213966,
           0.036071798785646474,
           0.2481328332774176,
           0.2998788887096905,
           0.29275171300151764,
           0.09065068811664272,
           -0.05126920203676512,
           0.1947985568342513,
           0.4090027663153055,
           0.20037085395945153,
           0.1964966490728104,
           -0.0747429648767562,
           0.1430025832957165,
           0.1002409837483462,
           0.08674120994286853,
           -0.07747342018407904,
           -0.003195028868089598,
           0.35992075422104813,
           1,
           0.36509824540861924,
           0.3458422825267967,
           0.2254294149094868,
           0.3608323385979728,
           0.3683656074599455,
           0.3597546095250371,
           0.2330274614453172,
           0.21912242546315852
          ],
          [
           0.07998587311128416,
           0.7829141371737596,
           0.9651365139559874,
           0.35803957505322426,
           0.9703868870426389,
           0.9591195743552647,
           0.23885262620915038,
           0.5902104277312977,
           0.7295649165132028,
           0.8559231281343108,
           0.21916855911105806,
           -0.2051512112627737,
           0.7196838036650051,
           -0.10224192188743299,
           0.721031309989018,
           0.7612126360687592,
           -0.21730375458186194,
           0.26051583964720904,
           0.2266804255909013,
           0.39499925177418477,
           -0.10375304384332525,
           -0.001000397625966831,
           0.9937079161029493,
           0.36509824540861924,
           1,
           0.9775780914063872,
           0.2367746038860695,
           0.5294076901641029,
           0.6183440795335164,
           0.8163221016875445,
           0.269492769083817,
           0.13895686184575753
          ],
          [
           0.10718652332566654,
           0.7338250349210516,
           0.9410824595860466,
           0.34354594718646964,
           0.9415498080023066,
           0.9592133256499006,
           0.20671836342857658,
           0.5096038055579203,
           0.6759872313060887,
           0.8096296199096182,
           0.17719337737409702,
           -0.23185445116756076,
           0.7515484761266196,
           -0.08319498858504674,
           0.7307129731302835,
           0.8114079609317281,
           -0.18219547805909903,
           0.199371329091014,
           0.18835265208953053,
           0.342271162092682,
           -0.11034274289549868,
           -0.022736147308900542,
           0.9840145644590723,
           0.3458422825267967,
           0.9775780914063872,
           1,
           0.20914533376028968,
           0.4382962837796735,
           0.5433305254110797,
           0.7474188023228182,
           0.20914550838707863,
           0.07964703402467592
          ],
          [
           0.01033803426848161,
           0.4214648610664023,
           0.11961613992160841,
           0.07750335882212882,
           0.15054940431703698,
           0.123522938755571,
           0.805324195494362,
           0.5655411663750874,
           0.4488220384047602,
           0.4527530541790472,
           0.4266750263849461,
           0.5049420753517614,
           0.1419185529186069,
           -0.07365765910118525,
           0.13005439199100946,
           0.12538943051609117,
           0.31445745598082775,
           0.22739423230542294,
           0.16848132079136718,
           0.21535059681593308,
           -0.012661799565908734,
           0.17056831595314184,
           0.21657443125969553,
           0.2254294149094868,
           0.2367746038860695,
           0.20914533376028968,
           1,
           0.5681865166856062,
           0.5185232928640019,
           0.5476909029497864,
           0.4938383302357588,
           0.6176241916554384
          ],
          [
           -0.0029680997948661808,
           0.5909982378417924,
           0.4134628230608015,
           0.2778295924789796,
           0.4557742280383266,
           0.3904103092424984,
           0.4724684437304434,
           0.865809039802263,
           0.7549680159063961,
           0.6674536768257117,
           0.4732000132446181,
           0.4587981566678595,
           0.2871031656007405,
           -0.09243935361819385,
           0.3419194453712058,
           0.2832565375374556,
           -0.05555813871505076,
           0.678780354372495,
           0.4848578006864687,
           0.4528883773698811,
           0.06025487946536669,
           0.390158842086675,
           0.4758200374601461,
           0.3608323385979728,
           0.5294076901641029,
           0.4382962837796735,
           0.5681865166856062,
           1,
           0.8922608987764685,
           0.8010803646352531,
           0.6144405011493057,
           0.8104548563116124
          ],
          [
           0.023202743927262987,
           0.6596102103692336,
           0.526911461838545,
           0.30102522381649127,
           0.5638792634736616,
           0.5126059204433243,
           0.4349257147250867,
           0.8162752498000297,
           0.8841026390943832,
           0.7523994975749642,
           0.43372100759017285,
           0.34623387634806796,
           0.3805846346287225,
           -0.06895622054645609,
           0.4188988157305721,
           0.38510013559852924,
           -0.05829838674344535,
           0.6391466977559204,
           0.6625641337427423,
           0.5495923752351927,
           0.03711904859992855,
           0.37997466145707964,
           0.5739747080993024,
           0.3683656074599455,
           0.6183440795335164,
           0.5433305254110797,
           0.5185232928640019,
           0.8922608987764685,
           1,
           0.8554338603439994,
           0.5325197291183613,
           0.6865109212448646
          ],
          [
           0.03517357937367914,
           0.79356601714127,
           0.7442141978674657,
           0.29531584333773664,
           0.7712407893605485,
           0.7220166262603592,
           0.5030533532989497,
           0.8155732235690639,
           0.8613230336379509,
           0.9101553142985929,
           0.430296611457954,
           0.17532544924324453,
           0.5310623278216042,
           -0.11963752313984627,
           0.554897230628211,
           0.5381663138957361,
           -0.10200679633746526,
           0.48320832682561393,
           0.44047226304622267,
           0.6024496059209878,
           -0.030413396423600934,
           0.2152040133100292,
           0.7874238517122398,
           0.3597546095250371,
           0.8163221016875445,
           0.7474188023228182,
           0.5476909029497864,
           0.8010803646352531,
           0.8554338603439994,
           1,
           0.5025284938306975,
           0.5111141458863389
          ],
          [
           -0.04422425287013756,
           0.41629431104861975,
           0.16395333493630732,
           0.10500791031597212,
           0.18911504046245753,
           0.14356991388907128,
           0.39430948181175546,
           0.510223429921806,
           0.4094641265399866,
           0.3757441454236105,
           0.6998257976437305,
           0.33401868385108263,
           0.09454283035438187,
           -0.12821475779252967,
           0.10993043423135018,
           0.074126291599528,
           -0.10734209778914475,
           0.2778784307146353,
           0.1977878218614109,
           0.14311566863305,
           0.38940248488464535,
           0.11109395575572417,
           0.24352920429131317,
           0.2330274614453172,
           0.269492769083817,
           0.20914550838707863,
           0.4938383302357588,
           0.6144405011493057,
           0.5325197291183613,
           0.5025284938306975,
           1,
           0.5378482062536084
          ],
          [
           -0.029865635986145375,
           0.3238721887208236,
           0.007065885692182585,
           0.11920535139708549,
           0.05101852972340665,
           0.0037375973515715597,
           0.499316368593766,
           0.6873823227538964,
           0.5149298906363866,
           0.36866113371677084,
           0.43841349844460287,
           0.7672967792384358,
           0.04955943246457305,
           -0.04565456859320707,
           0.08543257205665716,
           0.017539295132385366,
           0.1014803150425252,
           0.5909727625047906,
           0.43932926857579113,
           0.3106545514938305,
           0.07807947627266777,
           0.5913280656608755,
           0.09349197867930158,
           0.21912242546315852,
           0.13895686184575753,
           0.07964703402467592,
           0.6176241916554384,
           0.8104548563116124,
           0.6865109212448646,
           0.5111141458863389,
           0.5378482062536084,
           1
          ]
         ]
        }
       ],
       "layout": {
        "autosize": false,
        "height": 720,
        "margin": {
         "b": 210,
         "l": 210,
         "r": 0,
         "t": 25
        },
        "template": {
         "data": {
          "bar": [
           {
            "error_x": {
             "color": "#2a3f5f"
            },
            "error_y": {
             "color": "#2a3f5f"
            },
            "marker": {
             "line": {
              "color": "#E5ECF6",
              "width": 0.5
             },
             "pattern": {
              "fillmode": "overlay",
              "size": 10,
              "solidity": 0.2
             }
            },
            "type": "bar"
           }
          ],
          "barpolar": [
           {
            "marker": {
             "line": {
              "color": "#E5ECF6",
              "width": 0.5
             },
             "pattern": {
              "fillmode": "overlay",
              "size": 10,
              "solidity": 0.2
             }
            },
            "type": "barpolar"
           }
          ],
          "carpet": [
           {
            "aaxis": {
             "endlinecolor": "#2a3f5f",
             "gridcolor": "white",
             "linecolor": "white",
             "minorgridcolor": "white",
             "startlinecolor": "#2a3f5f"
            },
            "baxis": {
             "endlinecolor": "#2a3f5f",
             "gridcolor": "white",
             "linecolor": "white",
             "minorgridcolor": "white",
             "startlinecolor": "#2a3f5f"
            },
            "type": "carpet"
           }
          ],
          "choropleth": [
           {
            "colorbar": {
             "outlinewidth": 0,
             "ticks": ""
            },
            "type": "choropleth"
           }
          ],
          "contour": [
           {
            "colorbar": {
             "outlinewidth": 0,
             "ticks": ""
            },
            "colorscale": [
             [
              0,
              "#0d0887"
             ],
             [
              0.1111111111111111,
              "#46039f"
             ],
             [
              0.2222222222222222,
              "#7201a8"
             ],
             [
              0.3333333333333333,
              "#9c179e"
             ],
             [
              0.4444444444444444,
              "#bd3786"
             ],
             [
              0.5555555555555556,
              "#d8576b"
             ],
             [
              0.6666666666666666,
              "#ed7953"
             ],
             [
              0.7777777777777778,
              "#fb9f3a"
             ],
             [
              0.8888888888888888,
              "#fdca26"
             ],
             [
              1,
              "#f0f921"
             ]
            ],
            "type": "contour"
           }
          ],
          "contourcarpet": [
           {
            "colorbar": {
             "outlinewidth": 0,
             "ticks": ""
            },
            "type": "contourcarpet"
           }
          ],
          "heatmap": [
           {
            "colorbar": {
             "outlinewidth": 0,
             "ticks": ""
            },
            "colorscale": [
             [
              0,
              "#0d0887"
             ],
             [
              0.1111111111111111,
              "#46039f"
             ],
             [
              0.2222222222222222,
              "#7201a8"
             ],
             [
              0.3333333333333333,
              "#9c179e"
             ],
             [
              0.4444444444444444,
              "#bd3786"
             ],
             [
              0.5555555555555556,
              "#d8576b"
             ],
             [
              0.6666666666666666,
              "#ed7953"
             ],
             [
              0.7777777777777778,
              "#fb9f3a"
             ],
             [
              0.8888888888888888,
              "#fdca26"
             ],
             [
              1,
              "#f0f921"
             ]
            ],
            "type": "heatmap"
           }
          ],
          "heatmapgl": [
           {
            "colorbar": {
             "outlinewidth": 0,
             "ticks": ""
            },
            "colorscale": [
             [
              0,
              "#0d0887"
             ],
             [
              0.1111111111111111,
              "#46039f"
             ],
             [
              0.2222222222222222,
              "#7201a8"
             ],
             [
              0.3333333333333333,
              "#9c179e"
             ],
             [
              0.4444444444444444,
              "#bd3786"
             ],
             [
              0.5555555555555556,
              "#d8576b"
             ],
             [
              0.6666666666666666,
              "#ed7953"
             ],
             [
              0.7777777777777778,
              "#fb9f3a"
             ],
             [
              0.8888888888888888,
              "#fdca26"
             ],
             [
              1,
              "#f0f921"
             ]
            ],
            "type": "heatmapgl"
           }
          ],
          "histogram": [
           {
            "marker": {
             "pattern": {
              "fillmode": "overlay",
              "size": 10,
              "solidity": 0.2
             }
            },
            "type": "histogram"
           }
          ],
          "histogram2d": [
           {
            "colorbar": {
             "outlinewidth": 0,
             "ticks": ""
            },
            "colorscale": [
             [
              0,
              "#0d0887"
             ],
             [
              0.1111111111111111,
              "#46039f"
             ],
             [
              0.2222222222222222,
              "#7201a8"
             ],
             [
              0.3333333333333333,
              "#9c179e"
             ],
             [
              0.4444444444444444,
              "#bd3786"
             ],
             [
              0.5555555555555556,
              "#d8576b"
             ],
             [
              0.6666666666666666,
              "#ed7953"
             ],
             [
              0.7777777777777778,
              "#fb9f3a"
             ],
             [
              0.8888888888888888,
              "#fdca26"
             ],
             [
              1,
              "#f0f921"
             ]
            ],
            "type": "histogram2d"
           }
          ],
          "histogram2dcontour": [
           {
            "colorbar": {
             "outlinewidth": 0,
             "ticks": ""
            },
            "colorscale": [
             [
              0,
              "#0d0887"
             ],
             [
              0.1111111111111111,
              "#46039f"
             ],
             [
              0.2222222222222222,
              "#7201a8"
             ],
             [
              0.3333333333333333,
              "#9c179e"
             ],
             [
              0.4444444444444444,
              "#bd3786"
             ],
             [
              0.5555555555555556,
              "#d8576b"
             ],
             [
              0.6666666666666666,
              "#ed7953"
             ],
             [
              0.7777777777777778,
              "#fb9f3a"
             ],
             [
              0.8888888888888888,
              "#fdca26"
             ],
             [
              1,
              "#f0f921"
             ]
            ],
            "type": "histogram2dcontour"
           }
          ],
          "mesh3d": [
           {
            "colorbar": {
             "outlinewidth": 0,
             "ticks": ""
            },
            "type": "mesh3d"
           }
          ],
          "parcoords": [
           {
            "line": {
             "colorbar": {
              "outlinewidth": 0,
              "ticks": ""
             }
            },
            "type": "parcoords"
           }
          ],
          "pie": [
           {
            "automargin": true,
            "type": "pie"
           }
          ],
          "scatter": [
           {
            "marker": {
             "colorbar": {
              "outlinewidth": 0,
              "ticks": ""
             }
            },
            "type": "scatter"
           }
          ],
          "scatter3d": [
           {
            "line": {
             "colorbar": {
              "outlinewidth": 0,
              "ticks": ""
             }
            },
            "marker": {
             "colorbar": {
              "outlinewidth": 0,
              "ticks": ""
             }
            },
            "type": "scatter3d"
           }
          ],
          "scattercarpet": [
           {
            "marker": {
             "colorbar": {
              "outlinewidth": 0,
              "ticks": ""
             }
            },
            "type": "scattercarpet"
           }
          ],
          "scattergeo": [
           {
            "marker": {
             "colorbar": {
              "outlinewidth": 0,
              "ticks": ""
             }
            },
            "type": "scattergeo"
           }
          ],
          "scattergl": [
           {
            "marker": {
             "colorbar": {
              "outlinewidth": 0,
              "ticks": ""
             }
            },
            "type": "scattergl"
           }
          ],
          "scattermapbox": [
           {
            "marker": {
             "colorbar": {
              "outlinewidth": 0,
              "ticks": ""
             }
            },
            "type": "scattermapbox"
           }
          ],
          "scatterpolar": [
           {
            "marker": {
             "colorbar": {
              "outlinewidth": 0,
              "ticks": ""
             }
            },
            "type": "scatterpolar"
           }
          ],
          "scatterpolargl": [
           {
            "marker": {
             "colorbar": {
              "outlinewidth": 0,
              "ticks": ""
             }
            },
            "type": "scatterpolargl"
           }
          ],
          "scatterternary": [
           {
            "marker": {
             "colorbar": {
              "outlinewidth": 0,
              "ticks": ""
             }
            },
            "type": "scatterternary"
           }
          ],
          "surface": [
           {
            "colorbar": {
             "outlinewidth": 0,
             "ticks": ""
            },
            "colorscale": [
             [
              0,
              "#0d0887"
             ],
             [
              0.1111111111111111,
              "#46039f"
             ],
             [
              0.2222222222222222,
              "#7201a8"
             ],
             [
              0.3333333333333333,
              "#9c179e"
             ],
             [
              0.4444444444444444,
              "#bd3786"
             ],
             [
              0.5555555555555556,
              "#d8576b"
             ],
             [
              0.6666666666666666,
              "#ed7953"
             ],
             [
              0.7777777777777778,
              "#fb9f3a"
             ],
             [
              0.8888888888888888,
              "#fdca26"
             ],
             [
              1,
              "#f0f921"
             ]
            ],
            "type": "surface"
           }
          ],
          "table": [
           {
            "cells": {
             "fill": {
              "color": "#EBF0F8"
             },
             "line": {
              "color": "white"
             }
            },
            "header": {
             "fill": {
              "color": "#C8D4E3"
             },
             "line": {
              "color": "white"
             }
            },
            "type": "table"
           }
          ]
         },
         "layout": {
          "annotationdefaults": {
           "arrowcolor": "#2a3f5f",
           "arrowhead": 0,
           "arrowwidth": 1
          },
          "autotypenumbers": "strict",
          "coloraxis": {
           "colorbar": {
            "outlinewidth": 0,
            "ticks": ""
           }
          },
          "colorscale": {
           "diverging": [
            [
             0,
             "#8e0152"
            ],
            [
             0.1,
             "#c51b7d"
            ],
            [
             0.2,
             "#de77ae"
            ],
            [
             0.3,
             "#f1b6da"
            ],
            [
             0.4,
             "#fde0ef"
            ],
            [
             0.5,
             "#f7f7f7"
            ],
            [
             0.6,
             "#e6f5d0"
            ],
            [
             0.7,
             "#b8e186"
            ],
            [
             0.8,
             "#7fbc41"
            ],
            [
             0.9,
             "#4d9221"
            ],
            [
             1,
             "#276419"
            ]
           ],
           "sequential": [
            [
             0,
             "#0d0887"
            ],
            [
             0.1111111111111111,
             "#46039f"
            ],
            [
             0.2222222222222222,
             "#7201a8"
            ],
            [
             0.3333333333333333,
             "#9c179e"
            ],
            [
             0.4444444444444444,
             "#bd3786"
            ],
            [
             0.5555555555555556,
             "#d8576b"
            ],
            [
             0.6666666666666666,
             "#ed7953"
            ],
            [
             0.7777777777777778,
             "#fb9f3a"
            ],
            [
             0.8888888888888888,
             "#fdca26"
            ],
            [
             1,
             "#f0f921"
            ]
           ],
           "sequentialminus": [
            [
             0,
             "#0d0887"
            ],
            [
             0.1111111111111111,
             "#46039f"
            ],
            [
             0.2222222222222222,
             "#7201a8"
            ],
            [
             0.3333333333333333,
             "#9c179e"
            ],
            [
             0.4444444444444444,
             "#bd3786"
            ],
            [
             0.5555555555555556,
             "#d8576b"
            ],
            [
             0.6666666666666666,
             "#ed7953"
            ],
            [
             0.7777777777777778,
             "#fb9f3a"
            ],
            [
             0.8888888888888888,
             "#fdca26"
            ],
            [
             1,
             "#f0f921"
            ]
           ]
          },
          "colorway": [
           "#636efa",
           "#EF553B",
           "#00cc96",
           "#ab63fa",
           "#FFA15A",
           "#19d3f3",
           "#FF6692",
           "#B6E880",
           "#FF97FF",
           "#FECB52"
          ],
          "font": {
           "color": "#2a3f5f"
          },
          "geo": {
           "bgcolor": "white",
           "lakecolor": "white",
           "landcolor": "#E5ECF6",
           "showlakes": true,
           "showland": true,
           "subunitcolor": "white"
          },
          "hoverlabel": {
           "align": "left"
          },
          "hovermode": "closest",
          "mapbox": {
           "style": "light"
          },
          "paper_bgcolor": "white",
          "plot_bgcolor": "#E5ECF6",
          "polar": {
           "angularaxis": {
            "gridcolor": "white",
            "linecolor": "white",
            "ticks": ""
           },
           "bgcolor": "#E5ECF6",
           "radialaxis": {
            "gridcolor": "white",
            "linecolor": "white",
            "ticks": ""
           }
          },
          "scene": {
           "xaxis": {
            "backgroundcolor": "#E5ECF6",
            "gridcolor": "white",
            "gridwidth": 2,
            "linecolor": "white",
            "showbackground": true,
            "ticks": "",
            "zerolinecolor": "white"
           },
           "yaxis": {
            "backgroundcolor": "#E5ECF6",
            "gridcolor": "white",
            "gridwidth": 2,
            "linecolor": "white",
            "showbackground": true,
            "ticks": "",
            "zerolinecolor": "white"
           },
           "zaxis": {
            "backgroundcolor": "#E5ECF6",
            "gridcolor": "white",
            "gridwidth": 2,
            "linecolor": "white",
            "showbackground": true,
            "ticks": "",
            "zerolinecolor": "white"
           }
          },
          "shapedefaults": {
           "line": {
            "color": "#2a3f5f"
           }
          },
          "ternary": {
           "aaxis": {
            "gridcolor": "white",
            "linecolor": "white",
            "ticks": ""
           },
           "baxis": {
            "gridcolor": "white",
            "linecolor": "white",
            "ticks": ""
           },
           "bgcolor": "#E5ECF6",
           "caxis": {
            "gridcolor": "white",
            "linecolor": "white",
            "ticks": ""
           }
          },
          "title": {
           "x": 0.05
          },
          "xaxis": {
           "automargin": true,
           "gridcolor": "white",
           "linecolor": "white",
           "ticks": "",
           "title": {
            "standoff": 15
           },
           "zerolinecolor": "white",
           "zerolinewidth": 2
          },
          "yaxis": {
           "automargin": true,
           "gridcolor": "white",
           "linecolor": "white",
           "ticks": "",
           "title": {
            "standoff": 15
           },
           "zerolinecolor": "white",
           "zerolinewidth": 2
          }
         }
        },
        "title": {
         "text": "Correlation Matrix for Features"
        },
        "width": 800,
        "xaxis": {
         "tickfont": {
          "size": 9
         }
        },
        "yaxis": {
         "tickfont": {
          "size": 9
         }
        }
       }
      },
      "text/html": [
       "<div>                            <div id=\"4dac613c-73ef-47bf-9940-d1102d31e5c0\" class=\"plotly-graph-div\" style=\"height:720px; width:800px;\"></div>            <script type=\"text/javascript\">                require([\"plotly\"], function(Plotly) {                    window.PLOTLYENV=window.PLOTLYENV || {};                                    if (document.getElementById(\"4dac613c-73ef-47bf-9940-d1102d31e5c0\")) {                    Plotly.newPlot(                        \"4dac613c-73ef-47bf-9940-d1102d31e5c0\",                        [{\"colorbar\":{\"title\":{\"side\":\"right\",\"text\":\"Pearson Correlation coefficient\"}},\"colorscale\":[[0.0,\"rgb(255, 198, 196)\"],[0.16666666666666666,\"rgb(244, 163, 168)\"],[0.3333333333333333,\"rgb(227, 129, 145)\"],[0.5,\"rgb(204, 96, 125)\"],[0.6666666666666666,\"rgb(173, 70, 108)\"],[0.8333333333333334,\"rgb(139, 48, 88)\"],[1.0,\"rgb(103, 32, 68)\"]],\"x\":[\"id\",\"diagnosis\",\"radius_mean\",\"texture_mean\",\"perimeter_mean\",\"area_mean\",\"smoothness_mean\",\"compactness_mean\",\"concavity_mean\",\"concave points_mean\",\"symmetry_mean\",\"fractal_dimension_mean\",\"radius_se\",\"texture_se\",\"perimeter_se\",\"area_se\",\"smoothness_se\",\"compactness_se\",\"concavity_se\",\"concave points_se\",\"symmetry_se\",\"fractal_dimension_se\",\"radius_worst\",\"texture_worst\",\"perimeter_worst\",\"area_worst\",\"smoothness_worst\",\"compactness_worst\",\"concavity_worst\",\"concave points_worst\",\"symmetry_worst\",\"fractal_dimension_worst\"],\"y\":[\"id\",\"diagnosis\",\"radius_mean\",\"texture_mean\",\"perimeter_mean\",\"area_mean\",\"smoothness_mean\",\"compactness_mean\",\"concavity_mean\",\"concave points_mean\",\"symmetry_mean\",\"fractal_dimension_mean\",\"radius_se\",\"texture_se\",\"perimeter_se\",\"area_se\",\"smoothness_se\",\"compactness_se\",\"concavity_se\",\"concave points_se\",\"symmetry_se\",\"fractal_dimension_se\",\"radius_worst\",\"texture_worst\",\"perimeter_worst\",\"area_worst\",\"smoothness_worst\",\"compactness_worst\",\"concavity_worst\",\"concave points_worst\",\"symmetry_worst\",\"fractal_dimension_worst\"],\"z\":[[1.0,0.03976850962171701,0.07462646971722937,0.09976989120339742,0.07315941187033173,0.0968928232816979,-0.012968197459056417,9.570110005919952e-05,0.05007995318682945,0.0441580956130942,-0.02211406094054623,-0.05251144760538408,0.14304758136570647,-0.007526190386325113,0.13733106601321007,0.1777419151972139,0.09678057388699476,0.0339609720746819,0.05523931743591363,0.07876807105106293,-0.017306294834957745,0.025725324327841456,0.08240533729217786,0.06471954538105888,0.07998587311128416,0.10718652332566654,0.01033803426848161,-0.0029680997948661808,0.023202743927262987,0.03517357937367914,-0.04422425287013756,-0.029865635986145375],[0.03976850962171701,1.0,0.7300285113754563,0.4151852998452049,0.7426355297258325,0.7089838365853903,0.3585599650859322,0.5965336775082539,0.6963597071719054,0.7766138400204352,0.33049855426254765,-0.012837602698432374,0.5671338208247173,-0.008303332973877461,0.5561407034314829,0.5482359402780245,-0.06701601057948729,0.2929992442488584,0.25372976598083025,0.4080423327165046,-0.006521755870647837,0.07797241739025614,0.7764537785950398,0.45690282139679816,0.7829141371737596,0.7338250349210516,0.4214648610664023,0.5909982378417924,0.6596102103692336,0.79356601714127,0.41629431104861975,0.3238721887208236],[0.07462646971722937,0.7300285113754563,1.0,0.32378189092773296,0.9978552814938094,0.9873571700566122,0.17058118749299478,0.506123577526364,0.6767635503908114,0.8225285223871796,0.14774124199260236,-0.3116308263092902,0.6790903880020756,-0.09731744314481329,0.6741716157641056,0.7358636632128172,-0.22260012458211145,0.20599998040769932,0.19420362276150901,0.3761689559399259,-0.1043208814178656,-0.04264126911445621,0.9695389726112066,0.2970076439863737,0.9651365139559874,0.9410824595860466,0.11961613992160841,0.4134628230608015,0.526911461838545,0.7442141978674657,0.16395333493630732,0.007065885692182585],[0.09976989120339742,0.4151852998452049,0.32378189092773296,1.0,0.3295330586865705,0.32108569608020754,-0.02338851599842353,0.2367022220743722,0.3024178279438915,0.29346405131394243,0.07140098048331703,-0.0764371834481339,0.27586867617376243,0.38635762272449037,0.2816731147872026,0.2598449866100987,0.006613777353585341,0.19197461132396648,0.14329307656049842,0.16385102528521808,0.009127167755036037,0.05445751956893367,0.3525729471502957,0.9120445888404213,0.35803957505322426,0.34354594718646964,0.07750335882212882,0.2778295924789796,0.30102522381649127,0.29531584333773664,0.10500791031597212,0.11920535139708549],[0.07315941187033173,0.7426355297258325,0.9978552814938094,0.3295330586865705,1.0,0.9865068039913902,0.2072781636910065,0.5569362108795616,0.716135650117405,0.8509770412528191,0.18302721211685294,-0.26147690806633356,0.691765013533482,-0.0867610783117948,0.6931348895408654,0.744982694119068,-0.20269402629832206,0.25074368074058784,0.228082345393658,0.40721691599861876,-0.08162932702839953,-0.0055233910570039535,0.9694763634663137,0.3030383715571501,0.9703868870426389,0.9415498080023066,0.15054940431703698,0.4557742280383266,0.5638792634736616,0.7712407893605485,0.18911504046245753,0.05101852972340665],[0.0968928232816979,0.7089838365853903,0.9873571700566122,0.32108569608020754,0.9865068039913902,1.0,0.1770283772540012,0.49850168215241225,0.6859828285519107,0.8232688686524328,0.15129307903511213,-0.2831098116914264,0.7325622269972987,-0.0662802136045774,0.7266283277906844,0.800085921234322,-0.1667766666011127,0.21258255077923285,0.2076600604825693,0.37232028233071,-0.07249658821176272,-0.01988696323506802,0.9627460860470832,0.2874886271213966,0.9591195743552647,0.9592133256499006,0.123522938755571,0.3904103092424984,0.5126059204433243,0.7220166262603592,0.14356991388907128,0.0037375973515715597],[-0.012968197459056417,0.3585599650859322,0.17058118749299478,-0.02338851599842353,0.2072781636910065,0.1770283772540012,1.0,0.6591232152159229,0.5219837677142605,0.5536951727437605,0.5577747880728873,0.5847920019499776,0.30146709825316953,0.06840644817118238,0.29609193289351415,0.24655243166573562,0.33237544264759233,0.318943296705379,0.2483956798825553,0.38067569098328563,0.20077437592048317,0.283606698546885,0.21312014189594855,0.036071798785646474,0.23885262620915038,0.20671836342857658,0.805324195494362,0.4724684437304434,0.4349257147250867,0.5030533532989497,0.39430948181175546,0.499316368593766],[9.570110005919952e-05,0.5965336775082539,0.506123577526364,0.2367022220743722,0.5569362108795616,0.49850168215241225,0.6591232152159229,1.0,0.8831206701772505,0.8311350431336991,0.6026410484055158,0.5653686634145211,0.4974734460850617,0.04620483071640683,0.5489052645888233,0.45565285198788885,0.13529926770047154,0.7387217896603927,0.5705168714898885,0.6422618509716466,0.22997659080143243,0.5073181269004224,0.5353153982176653,0.2481328332774176,0.5902104277312977,0.5096038055579203,0.5655411663750874,0.865809039802263,0.8162752498000297,0.8155732235690639,0.510223429921806,0.6873823227538964],[0.05007995318682945,0.6963597071719054,0.6767635503908114,0.3024178279438915,0.716135650117405,0.6859828285519107,0.5219837677142605,0.8831206701772505,1.0,0.9213910263788581,0.5006666171419618,0.33678335942118526,0.631924822141491,0.07621834813534,0.6603907872419624,0.617426805845241,0.09856374579911731,0.6702788246430207,0.6912702075448517,0.6832599165123272,0.1780092079208777,0.44930074905033845,0.6882364076436721,0.2998788887096905,0.7295649165132028,0.6759872313060887,0.4488220384047602,0.7549680159063961,0.8841026390943832,0.8613230336379509,0.4094641265399866,0.5149298906363866],[0.0441580956130942,0.7766138400204352,0.8225285223871796,0.29346405131394243,0.8509770412528191,0.8232688686524328,0.5536951727437605,0.8311350431336991,0.9213910263788581,1.0,0.4624973883673582,0.16691738322699232,0.6980498335607402,0.02147958192340165,0.7106498716138993,0.690298539759553,0.027653308387136203,0.4904242495935712,0.4391670684742612,0.6156341308969195,0.09535078688667688,0.25758374624303265,0.8303176311186148,0.29275171300151764,0.8559231281343108,0.8096296199096182,0.4527530541790472,0.6674536768257117,0.7523994975749642,0.9101553142985929,0.3757441454236105,0.36866113371677084],[-0.02211406094054623,0.33049855426254765,0.14774124199260236,0.07140098048331703,0.18302721211685294,0.15129307903511213,0.5577747880728873,0.6026410484055158,0.5006666171419618,0.4624973883673582,1.0,0.47992133005096915,0.30337926320726255,0.12805292634025597,0.31389276079651357,0.22397021941762993,0.18732116526139062,0.4216591470050108,0.34262702307772047,0.3932978720890168,0.4491365423934285,0.33178614627312447,0.18572775349568735,0.09065068811664272,0.21916855911105806,0.17719337737409702,0.4266750263849461,0.4732000132446181,0.43372100759017285,0.430296611457954,0.6998257976437305,0.43841349844460287],[-0.05251144760538408,-0.012837602698432374,-0.3116308263092902,-0.0764371834481339,-0.26147690806633356,-0.2831098116914264,0.5847920019499776,0.5653686634145211,0.33678335942118526,0.16691738322699232,0.47992133005096915,1.0,0.00011099507262942823,0.1641739658717292,0.03982993157204705,-0.09017024752042735,0.4019644254484123,0.5598366906211327,0.44663032169957073,0.34119804439711793,0.3450073971437277,0.6881315774585512,-0.2536914948766094,-0.05126920203676512,-0.2051512112627737,-0.23185445116756076,0.5049420753517614,0.4587981566678595,0.34623387634806796,0.17532544924324453,0.33401868385108263,0.7672967792384358],[0.14304758136570647,0.5671338208247173,0.6790903880020756,0.27586867617376243,0.691765013533482,0.7325622269972987,0.30146709825316953,0.4974734460850617,0.631924822141491,0.6980498335607402,0.30337926320726255,0.00011099507262942823,1.0,0.2132473372511577,0.9727936770160753,0.9518301121109907,0.16451421981281159,0.35606457553220255,0.33235753760761083,0.5133464414367648,0.24056736245007118,0.22775353267198065,0.7150651951351846,0.1947985568342513,0.7196838036650051,0.7515484761266196,0.1419185529186069,0.2871031656007405,0.3805846346287225,0.5310623278216042,0.09454283035438187,0.04955943246457305],[-0.007526190386325113,-0.008303332973877461,-0.09731744314481329,0.38635762272449037,-0.0867610783117948,-0.0662802136045774,0.06840644817118238,0.04620483071640683,0.07621834813534,0.02147958192340165,0.12805292634025597,0.1641739658717292,0.2132473372511577,1.0,0.2231707286307136,0.11156724721803925,0.39724285264120945,0.23169969897623707,0.19499846445881833,0.2302833995570333,0.4116206801975396,0.2797227477191935,-0.11169031312493015,0.4090027663153055,-0.10224192188743299,-0.08319498858504674,-0.07365765910118525,-0.09243935361819385,-0.06895622054645609,-0.11963752313984627,-0.12821475779252967,-0.04565456859320707],[0.13733106601321007,0.5561407034314829,0.6741716157641056,0.2816731147872026,0.6931348895408654,0.7266283277906844,0.29609193289351415,0.5489052645888233,0.6603907872419624,0.7106498716138993,0.31389276079651357,0.03982993157204705,0.9727936770160753,0.2231707286307136,1.0,0.9376554069544162,0.1510753312084128,0.4163223679924623,0.3624815822704491,0.5562640836543966,0.2664870918640229,0.24414277341628596,0.6972005927206452,0.20037085395945153,0.721031309989018,0.7307129731302835,0.13005439199100946,0.3419194453712058,0.4188988157305721,0.554897230628211,0.10993043423135018,0.08543257205665716],[0.1777419151972139,0.5482359402780245,0.7358636632128172,0.2598449866100987,0.744982694119068,0.800085921234322,0.24655243166573562,0.45565285198788885,0.617426805845241,0.690298539759553,0.22397021941762993,-0.09017024752042735,0.9518301121109907,0.11156724721803925,0.9376554069544162,1.0,0.07515033812199384,0.28484005654116107,0.2708947261906317,0.4157295683714,0.13410897969247482,0.12707090297801268,0.757373188924016,0.1964966490728104,0.7612126360687592,0.8114079609317281,0.12538943051609117,0.2832565375374556,0.38510013559852924,0.5381663138957361,0.074126291599528,0.017539295132385366],[0.09678057388699476,-0.06701601057948729,-0.22260012458211145,0.006613777353585341,-0.20269402629832206,-0.1667766666011127,0.33237544264759233,0.13529926770047154,0.09856374579911731,0.027653308387136203,0.18732116526139062,0.4019644254484123,0.16451421981281159,0.39724285264120945,0.1510753312084128,0.07515033812199384,1.0,0.3366960805054456,0.26868475987226237,0.32842949910967906,0.413506125207898,0.42737420672315796,-0.2306907098451477,-0.0747429648767562,-0.21730375458186194,-0.18219547805909903,0.31445745598082775,-0.05555813871505076,-0.05829838674344535,-0.10200679633746526,-0.10734209778914475,0.1014803150425252],[0.0339609720746819,0.2929992442488584,0.20599998040769932,0.19197461132396648,0.25074368074058784,0.21258255077923285,0.318943296705379,0.7387217896603927,0.6702788246430207,0.4904242495935712,0.4216591470050108,0.5598366906211327,0.35606457553220255,0.23169969897623707,0.4163223679924623,0.28484005654116107,0.3366960805054456,1.0,0.8012683427383291,0.7440826676953245,0.394712834762032,0.8032688176617679,0.20460716594748163,0.1430025832957165,0.26051583964720904,0.199371329091014,0.22739423230542294,0.678780354372495,0.6391466977559204,0.48320832682561393,0.2778784307146353,0.5909727625047906],[0.05523931743591363,0.25372976598083025,0.19420362276150901,0.14329307656049842,0.228082345393658,0.2076600604825693,0.2483956798825553,0.5705168714898885,0.6912702075448517,0.4391670684742612,0.34262702307772047,0.44663032169957073,0.33235753760761083,0.19499846445881833,0.3624815822704491,0.2708947261906317,0.26868475987226237,0.8012683427383291,1.0,0.7718039949238455,0.3094285779844512,0.7273721838811918,0.1869035156858974,0.1002409837483462,0.2266804255909013,0.18835265208953053,0.16848132079136718,0.4848578006864687,0.6625641337427423,0.44047226304622267,0.1977878218614109,0.43932926857579113],[0.07876807105106293,0.4080423327165046,0.3761689559399259,0.16385102528521808,0.40721691599861876,0.37232028233071,0.38067569098328563,0.6422618509716466,0.6832599165123272,0.6156341308969195,0.3932978720890168,0.34119804439711793,0.5133464414367648,0.2302833995570333,0.5562640836543966,0.4157295683714,0.32842949910967906,0.7440826676953245,0.7718039949238455,1.0,0.3127802232097332,0.6110441393807221,0.3581266692410419,0.08674120994286853,0.39499925177418477,0.342271162092682,0.21535059681593308,0.4528883773698811,0.5495923752351927,0.6024496059209878,0.14311566863305,0.3106545514938305],[-0.017306294834957745,-0.006521755870647837,-0.1043208814178656,0.009127167755036037,-0.08162932702839953,-0.07249658821176272,0.20077437592048317,0.22997659080143243,0.1780092079208777,0.09535078688667688,0.4491365423934285,0.3450073971437277,0.24056736245007118,0.4116206801975396,0.2664870918640229,0.13410897969247482,0.413506125207898,0.394712834762032,0.3094285779844512,0.3127802232097332,1.0,0.36907808336572917,-0.1281207690727425,-0.07747342018407904,-0.10375304384332525,-0.11034274289549868,-0.012661799565908734,0.06025487946536669,0.03711904859992855,-0.030413396423600934,0.38940248488464535,0.07807947627266777],[0.025725324327841456,0.07797241739025614,-0.04264126911445621,0.05445751956893367,-0.0055233910570039535,-0.01988696323506802,0.283606698546885,0.5073181269004224,0.44930074905033845,0.25758374624303265,0.33178614627312447,0.6881315774585512,0.22775353267198065,0.2797227477191935,0.24414277341628596,0.12707090297801268,0.42737420672315796,0.8032688176617679,0.7273721838811918,0.6110441393807221,0.36907808336572917,1.0,-0.037487617862673364,-0.003195028868089598,-0.001000397625966831,-0.022736147308900542,0.17056831595314184,0.390158842086675,0.37997466145707964,0.2152040133100292,0.11109395575572417,0.5913280656608755],[0.08240533729217786,0.7764537785950398,0.9695389726112066,0.3525729471502957,0.9694763634663137,0.9627460860470832,0.21312014189594855,0.5353153982176653,0.6882364076436721,0.8303176311186148,0.18572775349568735,-0.2536914948766094,0.7150651951351846,-0.11169031312493015,0.6972005927206452,0.757373188924016,-0.2306907098451477,0.20460716594748163,0.1869035156858974,0.3581266692410419,-0.1281207690727425,-0.037487617862673364,1.0,0.35992075422104813,0.9937079161029493,0.9840145644590723,0.21657443125969553,0.4758200374601461,0.5739747080993024,0.7874238517122398,0.24352920429131317,0.09349197867930158],[0.06471954538105888,0.45690282139679816,0.2970076439863737,0.9120445888404213,0.3030383715571501,0.2874886271213966,0.036071798785646474,0.2481328332774176,0.2998788887096905,0.29275171300151764,0.09065068811664272,-0.05126920203676512,0.1947985568342513,0.4090027663153055,0.20037085395945153,0.1964966490728104,-0.0747429648767562,0.1430025832957165,0.1002409837483462,0.08674120994286853,-0.07747342018407904,-0.003195028868089598,0.35992075422104813,1.0,0.36509824540861924,0.3458422825267967,0.2254294149094868,0.3608323385979728,0.3683656074599455,0.3597546095250371,0.2330274614453172,0.21912242546315852],[0.07998587311128416,0.7829141371737596,0.9651365139559874,0.35803957505322426,0.9703868870426389,0.9591195743552647,0.23885262620915038,0.5902104277312977,0.7295649165132028,0.8559231281343108,0.21916855911105806,-0.2051512112627737,0.7196838036650051,-0.10224192188743299,0.721031309989018,0.7612126360687592,-0.21730375458186194,0.26051583964720904,0.2266804255909013,0.39499925177418477,-0.10375304384332525,-0.001000397625966831,0.9937079161029493,0.36509824540861924,1.0,0.9775780914063872,0.2367746038860695,0.5294076901641029,0.6183440795335164,0.8163221016875445,0.269492769083817,0.13895686184575753],[0.10718652332566654,0.7338250349210516,0.9410824595860466,0.34354594718646964,0.9415498080023066,0.9592133256499006,0.20671836342857658,0.5096038055579203,0.6759872313060887,0.8096296199096182,0.17719337737409702,-0.23185445116756076,0.7515484761266196,-0.08319498858504674,0.7307129731302835,0.8114079609317281,-0.18219547805909903,0.199371329091014,0.18835265208953053,0.342271162092682,-0.11034274289549868,-0.022736147308900542,0.9840145644590723,0.3458422825267967,0.9775780914063872,1.0,0.20914533376028968,0.4382962837796735,0.5433305254110797,0.7474188023228182,0.20914550838707863,0.07964703402467592],[0.01033803426848161,0.4214648610664023,0.11961613992160841,0.07750335882212882,0.15054940431703698,0.123522938755571,0.805324195494362,0.5655411663750874,0.4488220384047602,0.4527530541790472,0.4266750263849461,0.5049420753517614,0.1419185529186069,-0.07365765910118525,0.13005439199100946,0.12538943051609117,0.31445745598082775,0.22739423230542294,0.16848132079136718,0.21535059681593308,-0.012661799565908734,0.17056831595314184,0.21657443125969553,0.2254294149094868,0.2367746038860695,0.20914533376028968,1.0,0.5681865166856062,0.5185232928640019,0.5476909029497864,0.4938383302357588,0.6176241916554384],[-0.0029680997948661808,0.5909982378417924,0.4134628230608015,0.2778295924789796,0.4557742280383266,0.3904103092424984,0.4724684437304434,0.865809039802263,0.7549680159063961,0.6674536768257117,0.4732000132446181,0.4587981566678595,0.2871031656007405,-0.09243935361819385,0.3419194453712058,0.2832565375374556,-0.05555813871505076,0.678780354372495,0.4848578006864687,0.4528883773698811,0.06025487946536669,0.390158842086675,0.4758200374601461,0.3608323385979728,0.5294076901641029,0.4382962837796735,0.5681865166856062,1.0,0.8922608987764685,0.8010803646352531,0.6144405011493057,0.8104548563116124],[0.023202743927262987,0.6596102103692336,0.526911461838545,0.30102522381649127,0.5638792634736616,0.5126059204433243,0.4349257147250867,0.8162752498000297,0.8841026390943832,0.7523994975749642,0.43372100759017285,0.34623387634806796,0.3805846346287225,-0.06895622054645609,0.4188988157305721,0.38510013559852924,-0.05829838674344535,0.6391466977559204,0.6625641337427423,0.5495923752351927,0.03711904859992855,0.37997466145707964,0.5739747080993024,0.3683656074599455,0.6183440795335164,0.5433305254110797,0.5185232928640019,0.8922608987764685,1.0,0.8554338603439994,0.5325197291183613,0.6865109212448646],[0.03517357937367914,0.79356601714127,0.7442141978674657,0.29531584333773664,0.7712407893605485,0.7220166262603592,0.5030533532989497,0.8155732235690639,0.8613230336379509,0.9101553142985929,0.430296611457954,0.17532544924324453,0.5310623278216042,-0.11963752313984627,0.554897230628211,0.5381663138957361,-0.10200679633746526,0.48320832682561393,0.44047226304622267,0.6024496059209878,-0.030413396423600934,0.2152040133100292,0.7874238517122398,0.3597546095250371,0.8163221016875445,0.7474188023228182,0.5476909029497864,0.8010803646352531,0.8554338603439994,1.0,0.5025284938306975,0.5111141458863389],[-0.04422425287013756,0.41629431104861975,0.16395333493630732,0.10500791031597212,0.18911504046245753,0.14356991388907128,0.39430948181175546,0.510223429921806,0.4094641265399866,0.3757441454236105,0.6998257976437305,0.33401868385108263,0.09454283035438187,-0.12821475779252967,0.10993043423135018,0.074126291599528,-0.10734209778914475,0.2778784307146353,0.1977878218614109,0.14311566863305,0.38940248488464535,0.11109395575572417,0.24352920429131317,0.2330274614453172,0.269492769083817,0.20914550838707863,0.4938383302357588,0.6144405011493057,0.5325197291183613,0.5025284938306975,1.0,0.5378482062536084],[-0.029865635986145375,0.3238721887208236,0.007065885692182585,0.11920535139708549,0.05101852972340665,0.0037375973515715597,0.499316368593766,0.6873823227538964,0.5149298906363866,0.36866113371677084,0.43841349844460287,0.7672967792384358,0.04955943246457305,-0.04565456859320707,0.08543257205665716,0.017539295132385366,0.1014803150425252,0.5909727625047906,0.43932926857579113,0.3106545514938305,0.07807947627266777,0.5913280656608755,0.09349197867930158,0.21912242546315852,0.13895686184575753,0.07964703402467592,0.6176241916554384,0.8104548563116124,0.6865109212448646,0.5111141458863389,0.5378482062536084,1.0]],\"type\":\"heatmap\"}],                        {\"autosize\":false,\"height\":720,\"margin\":{\"b\":210,\"l\":210,\"r\":0,\"t\":25},\"template\":{\"data\":{\"barpolar\":[{\"marker\":{\"line\":{\"color\":\"#E5ECF6\",\"width\":0.5},\"pattern\":{\"fillmode\":\"overlay\",\"size\":10,\"solidity\":0.2}},\"type\":\"barpolar\"}],\"bar\":[{\"error_x\":{\"color\":\"#2a3f5f\"},\"error_y\":{\"color\":\"#2a3f5f\"},\"marker\":{\"line\":{\"color\":\"#E5ECF6\",\"width\":0.5},\"pattern\":{\"fillmode\":\"overlay\",\"size\":10,\"solidity\":0.2}},\"type\":\"bar\"}],\"carpet\":[{\"aaxis\":{\"endlinecolor\":\"#2a3f5f\",\"gridcolor\":\"white\",\"linecolor\":\"white\",\"minorgridcolor\":\"white\",\"startlinecolor\":\"#2a3f5f\"},\"baxis\":{\"endlinecolor\":\"#2a3f5f\",\"gridcolor\":\"white\",\"linecolor\":\"white\",\"minorgridcolor\":\"white\",\"startlinecolor\":\"#2a3f5f\"},\"type\":\"carpet\"}],\"choropleth\":[{\"colorbar\":{\"outlinewidth\":0,\"ticks\":\"\"},\"type\":\"choropleth\"}],\"contourcarpet\":[{\"colorbar\":{\"outlinewidth\":0,\"ticks\":\"\"},\"type\":\"contourcarpet\"}],\"contour\":[{\"colorbar\":{\"outlinewidth\":0,\"ticks\":\"\"},\"colorscale\":[[0.0,\"#0d0887\"],[0.1111111111111111,\"#46039f\"],[0.2222222222222222,\"#7201a8\"],[0.3333333333333333,\"#9c179e\"],[0.4444444444444444,\"#bd3786\"],[0.5555555555555556,\"#d8576b\"],[0.6666666666666666,\"#ed7953\"],[0.7777777777777778,\"#fb9f3a\"],[0.8888888888888888,\"#fdca26\"],[1.0,\"#f0f921\"]],\"type\":\"contour\"}],\"heatmapgl\":[{\"colorbar\":{\"outlinewidth\":0,\"ticks\":\"\"},\"colorscale\":[[0.0,\"#0d0887\"],[0.1111111111111111,\"#46039f\"],[0.2222222222222222,\"#7201a8\"],[0.3333333333333333,\"#9c179e\"],[0.4444444444444444,\"#bd3786\"],[0.5555555555555556,\"#d8576b\"],[0.6666666666666666,\"#ed7953\"],[0.7777777777777778,\"#fb9f3a\"],[0.8888888888888888,\"#fdca26\"],[1.0,\"#f0f921\"]],\"type\":\"heatmapgl\"}],\"heatmap\":[{\"colorbar\":{\"outlinewidth\":0,\"ticks\":\"\"},\"colorscale\":[[0.0,\"#0d0887\"],[0.1111111111111111,\"#46039f\"],[0.2222222222222222,\"#7201a8\"],[0.3333333333333333,\"#9c179e\"],[0.4444444444444444,\"#bd3786\"],[0.5555555555555556,\"#d8576b\"],[0.6666666666666666,\"#ed7953\"],[0.7777777777777778,\"#fb9f3a\"],[0.8888888888888888,\"#fdca26\"],[1.0,\"#f0f921\"]],\"type\":\"heatmap\"}],\"histogram2dcontour\":[{\"colorbar\":{\"outlinewidth\":0,\"ticks\":\"\"},\"colorscale\":[[0.0,\"#0d0887\"],[0.1111111111111111,\"#46039f\"],[0.2222222222222222,\"#7201a8\"],[0.3333333333333333,\"#9c179e\"],[0.4444444444444444,\"#bd3786\"],[0.5555555555555556,\"#d8576b\"],[0.6666666666666666,\"#ed7953\"],[0.7777777777777778,\"#fb9f3a\"],[0.8888888888888888,\"#fdca26\"],[1.0,\"#f0f921\"]],\"type\":\"histogram2dcontour\"}],\"histogram2d\":[{\"colorbar\":{\"outlinewidth\":0,\"ticks\":\"\"},\"colorscale\":[[0.0,\"#0d0887\"],[0.1111111111111111,\"#46039f\"],[0.2222222222222222,\"#7201a8\"],[0.3333333333333333,\"#9c179e\"],[0.4444444444444444,\"#bd3786\"],[0.5555555555555556,\"#d8576b\"],[0.6666666666666666,\"#ed7953\"],[0.7777777777777778,\"#fb9f3a\"],[0.8888888888888888,\"#fdca26\"],[1.0,\"#f0f921\"]],\"type\":\"histogram2d\"}],\"histogram\":[{\"marker\":{\"pattern\":{\"fillmode\":\"overlay\",\"size\":10,\"solidity\":0.2}},\"type\":\"histogram\"}],\"mesh3d\":[{\"colorbar\":{\"outlinewidth\":0,\"ticks\":\"\"},\"type\":\"mesh3d\"}],\"parcoords\":[{\"line\":{\"colorbar\":{\"outlinewidth\":0,\"ticks\":\"\"}},\"type\":\"parcoords\"}],\"pie\":[{\"automargin\":true,\"type\":\"pie\"}],\"scatter3d\":[{\"line\":{\"colorbar\":{\"outlinewidth\":0,\"ticks\":\"\"}},\"marker\":{\"colorbar\":{\"outlinewidth\":0,\"ticks\":\"\"}},\"type\":\"scatter3d\"}],\"scattercarpet\":[{\"marker\":{\"colorbar\":{\"outlinewidth\":0,\"ticks\":\"\"}},\"type\":\"scattercarpet\"}],\"scattergeo\":[{\"marker\":{\"colorbar\":{\"outlinewidth\":0,\"ticks\":\"\"}},\"type\":\"scattergeo\"}],\"scattergl\":[{\"marker\":{\"colorbar\":{\"outlinewidth\":0,\"ticks\":\"\"}},\"type\":\"scattergl\"}],\"scattermapbox\":[{\"marker\":{\"colorbar\":{\"outlinewidth\":0,\"ticks\":\"\"}},\"type\":\"scattermapbox\"}],\"scatterpolargl\":[{\"marker\":{\"colorbar\":{\"outlinewidth\":0,\"ticks\":\"\"}},\"type\":\"scatterpolargl\"}],\"scatterpolar\":[{\"marker\":{\"colorbar\":{\"outlinewidth\":0,\"ticks\":\"\"}},\"type\":\"scatterpolar\"}],\"scatter\":[{\"marker\":{\"colorbar\":{\"outlinewidth\":0,\"ticks\":\"\"}},\"type\":\"scatter\"}],\"scatterternary\":[{\"marker\":{\"colorbar\":{\"outlinewidth\":0,\"ticks\":\"\"}},\"type\":\"scatterternary\"}],\"surface\":[{\"colorbar\":{\"outlinewidth\":0,\"ticks\":\"\"},\"colorscale\":[[0.0,\"#0d0887\"],[0.1111111111111111,\"#46039f\"],[0.2222222222222222,\"#7201a8\"],[0.3333333333333333,\"#9c179e\"],[0.4444444444444444,\"#bd3786\"],[0.5555555555555556,\"#d8576b\"],[0.6666666666666666,\"#ed7953\"],[0.7777777777777778,\"#fb9f3a\"],[0.8888888888888888,\"#fdca26\"],[1.0,\"#f0f921\"]],\"type\":\"surface\"}],\"table\":[{\"cells\":{\"fill\":{\"color\":\"#EBF0F8\"},\"line\":{\"color\":\"white\"}},\"header\":{\"fill\":{\"color\":\"#C8D4E3\"},\"line\":{\"color\":\"white\"}},\"type\":\"table\"}]},\"layout\":{\"annotationdefaults\":{\"arrowcolor\":\"#2a3f5f\",\"arrowhead\":0,\"arrowwidth\":1},\"autotypenumbers\":\"strict\",\"coloraxis\":{\"colorbar\":{\"outlinewidth\":0,\"ticks\":\"\"}},\"colorscale\":{\"diverging\":[[0,\"#8e0152\"],[0.1,\"#c51b7d\"],[0.2,\"#de77ae\"],[0.3,\"#f1b6da\"],[0.4,\"#fde0ef\"],[0.5,\"#f7f7f7\"],[0.6,\"#e6f5d0\"],[0.7,\"#b8e186\"],[0.8,\"#7fbc41\"],[0.9,\"#4d9221\"],[1,\"#276419\"]],\"sequential\":[[0.0,\"#0d0887\"],[0.1111111111111111,\"#46039f\"],[0.2222222222222222,\"#7201a8\"],[0.3333333333333333,\"#9c179e\"],[0.4444444444444444,\"#bd3786\"],[0.5555555555555556,\"#d8576b\"],[0.6666666666666666,\"#ed7953\"],[0.7777777777777778,\"#fb9f3a\"],[0.8888888888888888,\"#fdca26\"],[1.0,\"#f0f921\"]],\"sequentialminus\":[[0.0,\"#0d0887\"],[0.1111111111111111,\"#46039f\"],[0.2222222222222222,\"#7201a8\"],[0.3333333333333333,\"#9c179e\"],[0.4444444444444444,\"#bd3786\"],[0.5555555555555556,\"#d8576b\"],[0.6666666666666666,\"#ed7953\"],[0.7777777777777778,\"#fb9f3a\"],[0.8888888888888888,\"#fdca26\"],[1.0,\"#f0f921\"]]},\"colorway\":[\"#636efa\",\"#EF553B\",\"#00cc96\",\"#ab63fa\",\"#FFA15A\",\"#19d3f3\",\"#FF6692\",\"#B6E880\",\"#FF97FF\",\"#FECB52\"],\"font\":{\"color\":\"#2a3f5f\"},\"geo\":{\"bgcolor\":\"white\",\"lakecolor\":\"white\",\"landcolor\":\"#E5ECF6\",\"showlakes\":true,\"showland\":true,\"subunitcolor\":\"white\"},\"hoverlabel\":{\"align\":\"left\"},\"hovermode\":\"closest\",\"mapbox\":{\"style\":\"light\"},\"paper_bgcolor\":\"white\",\"plot_bgcolor\":\"#E5ECF6\",\"polar\":{\"angularaxis\":{\"gridcolor\":\"white\",\"linecolor\":\"white\",\"ticks\":\"\"},\"bgcolor\":\"#E5ECF6\",\"radialaxis\":{\"gridcolor\":\"white\",\"linecolor\":\"white\",\"ticks\":\"\"}},\"scene\":{\"xaxis\":{\"backgroundcolor\":\"#E5ECF6\",\"gridcolor\":\"white\",\"gridwidth\":2,\"linecolor\":\"white\",\"showbackground\":true,\"ticks\":\"\",\"zerolinecolor\":\"white\"},\"yaxis\":{\"backgroundcolor\":\"#E5ECF6\",\"gridcolor\":\"white\",\"gridwidth\":2,\"linecolor\":\"white\",\"showbackground\":true,\"ticks\":\"\",\"zerolinecolor\":\"white\"},\"zaxis\":{\"backgroundcolor\":\"#E5ECF6\",\"gridcolor\":\"white\",\"gridwidth\":2,\"linecolor\":\"white\",\"showbackground\":true,\"ticks\":\"\",\"zerolinecolor\":\"white\"}},\"shapedefaults\":{\"line\":{\"color\":\"#2a3f5f\"}},\"ternary\":{\"aaxis\":{\"gridcolor\":\"white\",\"linecolor\":\"white\",\"ticks\":\"\"},\"baxis\":{\"gridcolor\":\"white\",\"linecolor\":\"white\",\"ticks\":\"\"},\"bgcolor\":\"#E5ECF6\",\"caxis\":{\"gridcolor\":\"white\",\"linecolor\":\"white\",\"ticks\":\"\"}},\"title\":{\"x\":0.05},\"xaxis\":{\"automargin\":true,\"gridcolor\":\"white\",\"linecolor\":\"white\",\"ticks\":\"\",\"title\":{\"standoff\":15},\"zerolinecolor\":\"white\",\"zerolinewidth\":2},\"yaxis\":{\"automargin\":true,\"gridcolor\":\"white\",\"linecolor\":\"white\",\"ticks\":\"\",\"title\":{\"standoff\":15},\"zerolinecolor\":\"white\",\"zerolinewidth\":2}}},\"title\":{\"text\":\"Correlation Matrix for Features\"},\"width\":800,\"xaxis\":{\"tickfont\":{\"size\":9}},\"yaxis\":{\"tickfont\":{\"size\":9}}},                        {\"responsive\": true}                    ).then(function(){\n",
       "                            \n",
       "var gd = document.getElementById('4dac613c-73ef-47bf-9940-d1102d31e5c0');\n",
       "var x = new MutationObserver(function (mutations, observer) {{\n",
       "        var display = window.getComputedStyle(gd).display;\n",
       "        if (!display || display === 'none') {{\n",
       "            console.log([gd, 'removed!']);\n",
       "            Plotly.purge(gd);\n",
       "            observer.disconnect();\n",
       "        }}\n",
       "}});\n",
       "\n",
       "// Listen for the removal of the full notebook cells\n",
       "var notebookContainer = gd.closest('#notebook-container');\n",
       "if (notebookContainer) {{\n",
       "    x.observe(notebookContainer, {childList: true});\n",
       "}}\n",
       "\n",
       "// Listen for the clearing of the current output cell\n",
       "var outputEl = gd.closest('.output');\n",
       "if (outputEl) {{\n",
       "    x.observe(outputEl, {childList: true});\n",
       "}}\n",
       "\n",
       "                        })                };                });            </script>        </div>"
      ]
     },
     "metadata": {},
     "output_type": "display_data"
    },
    {
     "name": "stdout",
     "output_type": "stream",
     "text": [
      "LogisticRegression(multi_class='ovr', n_jobs=1, solver='liblinear')\n",
      "\n",
      " Classification report : \n",
      "               precision    recall  f1-score   support\n",
      "\n",
      "           0       0.96      0.99      0.97        86\n",
      "           1       0.98      0.93      0.95        57\n",
      "\n",
      "    accuracy                           0.97       143\n",
      "   macro avg       0.97      0.96      0.96       143\n",
      "weighted avg       0.97      0.97      0.96       143\n",
      "\n",
      "Accuracy   Score :  0.965034965034965\n",
      "Area under curve :  0.9590983272133823 \n",
      "\n"
     ]
    },
    {
     "data": {
      "application/vnd.plotly.v1+json": {
       "config": {
        "linkText": "Export to plot.ly",
        "plotlyServerURL": "https://plot.ly",
        "showLink": false
       },
       "data": [
        {
         "colorscale": [
          [
           0,
           "rgb(255, 198, 196)"
          ],
          [
           0.16666666666666666,
           "rgb(244, 163, 168)"
          ],
          [
           0.3333333333333333,
           "rgb(227, 129, 145)"
          ],
          [
           0.5,
           "rgb(204, 96, 125)"
          ],
          [
           0.6666666666666666,
           "rgb(173, 70, 108)"
          ],
          [
           0.8333333333333334,
           "rgb(139, 48, 88)"
          ],
          [
           1,
           "rgb(103, 32, 68)"
          ]
         ],
         "name": "matrix",
         "showscale": false,
         "type": "heatmap",
         "x": [
          "Benign",
          "Malignant"
         ],
         "xaxis": "x",
         "y": [
          "Benign",
          "Malignant"
         ],
         "yaxis": "y",
         "z": [
          [
           85,
           1
          ],
          [
           4,
           53
          ]
         ]
        },
        {
         "line": {
          "color": "rgb(22, 96, 167)",
          "width": 2
         },
         "name": "Roc : 0.9590983272133823",
         "type": "scatter",
         "x": [
          0,
          0,
          0,
          0.011627906976744186,
          0.011627906976744186,
          0.023255813953488372,
          0.023255813953488372,
          0.09302325581395349,
          0.09302325581395349,
          1
         ],
         "xaxis": "x2",
         "y": [
          0,
          0.017543859649122806,
          0.9298245614035088,
          0.9298245614035088,
          0.9649122807017544,
          0.9649122807017544,
          0.9824561403508771,
          0.9824561403508771,
          1,
          1
         ],
         "yaxis": "y2"
        },
        {
         "line": {
          "color": "rgb(205, 12, 24)",
          "dash": "dot",
          "width": 2
         },
         "type": "scatter",
         "x": [
          0,
          1
         ],
         "xaxis": "x2",
         "y": [
          0,
          1
         ],
         "yaxis": "y2"
        },
        {
         "marker": {
          "color": [
           1.2611043023375932,
           0.978920564934528,
           0.9485590139053649,
           0.9402659179683895,
           0.9378141003629128,
           0.8938672802343015,
           0.8775933719737687,
           0.861941612259462,
           0.811056274982832,
           0.7682387986725299,
           0.6939194825129683,
           0.6735997073800237,
           0.6635143927183542,
           0.6170545670582119,
           0.518451576855391,
           0.44490266682464397,
           0.3332898978400755,
           0.3289164517836803,
           0.2875913429902482,
           0.2523778692221465,
           0.24281921754608624,
           0.010784546535620106,
           0.0027549727111063987,
           -0.1970032724737964,
           -0.223089305735712,
           -0.2691947578660862,
           -0.40809027835641976,
           -0.5330738624867664,
           -0.7184861896238554,
           -1.0145995813107622
          ],
          "colorscale": [
           [
            0,
            "rgb(255, 198, 196)"
           ],
           [
            0.16666666666666666,
            "rgb(244, 163, 168)"
           ],
           [
            0.3333333333333333,
            "rgb(227, 129, 145)"
           ],
           [
            0.5,
            "rgb(204, 96, 125)"
           ],
           [
            0.6666666666666666,
            "rgb(173, 70, 108)"
           ],
           [
            0.8333333333333334,
            "rgb(139, 48, 88)"
           ],
           [
            1,
            "rgb(103, 32, 68)"
           ]
          ],
          "line": {
           "color": "black",
           "width": 0.6
          }
         },
         "name": "coefficients",
         "type": "bar",
         "x": [
          "radius_se",
          "radius_worst",
          "area_worst",
          "area_se",
          "concave points_worst",
          "concave points_mean",
          "texture_worst",
          "concavity_mean",
          "perimeter_worst",
          "symmetry_worst",
          "concavity_worst",
          "perimeter_se",
          "fractal_dimension_worst",
          "texture_mean",
          "smoothness_worst",
          "area_mean",
          "perimeter_mean",
          "radius_mean",
          "concave points_se",
          "smoothness_mean",
          "smoothness_se",
          "concavity_se",
          "symmetry_mean",
          "compactness_worst",
          "texture_se",
          "fractal_dimension_mean",
          "fractal_dimension_se",
          "symmetry_se",
          "compactness_mean",
          "compactness_se"
         ],
         "xaxis": "x3",
         "y": [
          1.2611043023375932,
          0.978920564934528,
          0.9485590139053649,
          0.9402659179683895,
          0.9378141003629128,
          0.8938672802343015,
          0.8775933719737687,
          0.861941612259462,
          0.811056274982832,
          0.7682387986725299,
          0.6939194825129683,
          0.6735997073800237,
          0.6635143927183542,
          0.6170545670582119,
          0.518451576855391,
          0.44490266682464397,
          0.3332898978400755,
          0.3289164517836803,
          0.2875913429902482,
          0.2523778692221465,
          0.24281921754608624,
          0.010784546535620106,
          0.0027549727111063987,
          -0.1970032724737964,
          -0.223089305735712,
          -0.2691947578660862,
          -0.40809027835641976,
          -0.5330738624867664,
          -0.7184861896238554,
          -1.0145995813107622
         ],
         "yaxis": "y3"
        }
       ],
       "layout": {
        "annotations": [
         {
          "font": {
           "size": 16
          },
          "showarrow": false,
          "text": "Confusion Matrix",
          "x": 0.225,
          "xanchor": "center",
          "xref": "paper",
          "y": 1,
          "yanchor": "bottom",
          "yref": "paper"
         },
         {
          "font": {
           "size": 16
          },
          "showarrow": false,
          "text": "Receiver operating characteristic",
          "x": 0.775,
          "xanchor": "center",
          "xref": "paper",
          "y": 1,
          "yanchor": "bottom",
          "yref": "paper"
         },
         {
          "font": {
           "size": 16
          },
          "showarrow": false,
          "text": "Feature Importances",
          "x": 0.5,
          "xanchor": "center",
          "xref": "paper",
          "y": 0.375,
          "yanchor": "bottom",
          "yref": "paper"
         }
        ],
        "autosize": false,
        "height": 900,
        "margin": {
         "b": 195
        },
        "paper_bgcolor": "rgba(240,240,240, 0.95)",
        "plot_bgcolor": "rgba(240,240,240, 0.95)",
        "showlegend": false,
        "template": {
         "data": {
          "bar": [
           {
            "error_x": {
             "color": "#2a3f5f"
            },
            "error_y": {
             "color": "#2a3f5f"
            },
            "marker": {
             "line": {
              "color": "#E5ECF6",
              "width": 0.5
             },
             "pattern": {
              "fillmode": "overlay",
              "size": 10,
              "solidity": 0.2
             }
            },
            "type": "bar"
           }
          ],
          "barpolar": [
           {
            "marker": {
             "line": {
              "color": "#E5ECF6",
              "width": 0.5
             },
             "pattern": {
              "fillmode": "overlay",
              "size": 10,
              "solidity": 0.2
             }
            },
            "type": "barpolar"
           }
          ],
          "carpet": [
           {
            "aaxis": {
             "endlinecolor": "#2a3f5f",
             "gridcolor": "white",
             "linecolor": "white",
             "minorgridcolor": "white",
             "startlinecolor": "#2a3f5f"
            },
            "baxis": {
             "endlinecolor": "#2a3f5f",
             "gridcolor": "white",
             "linecolor": "white",
             "minorgridcolor": "white",
             "startlinecolor": "#2a3f5f"
            },
            "type": "carpet"
           }
          ],
          "choropleth": [
           {
            "colorbar": {
             "outlinewidth": 0,
             "ticks": ""
            },
            "type": "choropleth"
           }
          ],
          "contour": [
           {
            "colorbar": {
             "outlinewidth": 0,
             "ticks": ""
            },
            "colorscale": [
             [
              0,
              "#0d0887"
             ],
             [
              0.1111111111111111,
              "#46039f"
             ],
             [
              0.2222222222222222,
              "#7201a8"
             ],
             [
              0.3333333333333333,
              "#9c179e"
             ],
             [
              0.4444444444444444,
              "#bd3786"
             ],
             [
              0.5555555555555556,
              "#d8576b"
             ],
             [
              0.6666666666666666,
              "#ed7953"
             ],
             [
              0.7777777777777778,
              "#fb9f3a"
             ],
             [
              0.8888888888888888,
              "#fdca26"
             ],
             [
              1,
              "#f0f921"
             ]
            ],
            "type": "contour"
           }
          ],
          "contourcarpet": [
           {
            "colorbar": {
             "outlinewidth": 0,
             "ticks": ""
            },
            "type": "contourcarpet"
           }
          ],
          "heatmap": [
           {
            "colorbar": {
             "outlinewidth": 0,
             "ticks": ""
            },
            "colorscale": [
             [
              0,
              "#0d0887"
             ],
             [
              0.1111111111111111,
              "#46039f"
             ],
             [
              0.2222222222222222,
              "#7201a8"
             ],
             [
              0.3333333333333333,
              "#9c179e"
             ],
             [
              0.4444444444444444,
              "#bd3786"
             ],
             [
              0.5555555555555556,
              "#d8576b"
             ],
             [
              0.6666666666666666,
              "#ed7953"
             ],
             [
              0.7777777777777778,
              "#fb9f3a"
             ],
             [
              0.8888888888888888,
              "#fdca26"
             ],
             [
              1,
              "#f0f921"
             ]
            ],
            "type": "heatmap"
           }
          ],
          "heatmapgl": [
           {
            "colorbar": {
             "outlinewidth": 0,
             "ticks": ""
            },
            "colorscale": [
             [
              0,
              "#0d0887"
             ],
             [
              0.1111111111111111,
              "#46039f"
             ],
             [
              0.2222222222222222,
              "#7201a8"
             ],
             [
              0.3333333333333333,
              "#9c179e"
             ],
             [
              0.4444444444444444,
              "#bd3786"
             ],
             [
              0.5555555555555556,
              "#d8576b"
             ],
             [
              0.6666666666666666,
              "#ed7953"
             ],
             [
              0.7777777777777778,
              "#fb9f3a"
             ],
             [
              0.8888888888888888,
              "#fdca26"
             ],
             [
              1,
              "#f0f921"
             ]
            ],
            "type": "heatmapgl"
           }
          ],
          "histogram": [
           {
            "marker": {
             "pattern": {
              "fillmode": "overlay",
              "size": 10,
              "solidity": 0.2
             }
            },
            "type": "histogram"
           }
          ],
          "histogram2d": [
           {
            "colorbar": {
             "outlinewidth": 0,
             "ticks": ""
            },
            "colorscale": [
             [
              0,
              "#0d0887"
             ],
             [
              0.1111111111111111,
              "#46039f"
             ],
             [
              0.2222222222222222,
              "#7201a8"
             ],
             [
              0.3333333333333333,
              "#9c179e"
             ],
             [
              0.4444444444444444,
              "#bd3786"
             ],
             [
              0.5555555555555556,
              "#d8576b"
             ],
             [
              0.6666666666666666,
              "#ed7953"
             ],
             [
              0.7777777777777778,
              "#fb9f3a"
             ],
             [
              0.8888888888888888,
              "#fdca26"
             ],
             [
              1,
              "#f0f921"
             ]
            ],
            "type": "histogram2d"
           }
          ],
          "histogram2dcontour": [
           {
            "colorbar": {
             "outlinewidth": 0,
             "ticks": ""
            },
            "colorscale": [
             [
              0,
              "#0d0887"
             ],
             [
              0.1111111111111111,
              "#46039f"
             ],
             [
              0.2222222222222222,
              "#7201a8"
             ],
             [
              0.3333333333333333,
              "#9c179e"
             ],
             [
              0.4444444444444444,
              "#bd3786"
             ],
             [
              0.5555555555555556,
              "#d8576b"
             ],
             [
              0.6666666666666666,
              "#ed7953"
             ],
             [
              0.7777777777777778,
              "#fb9f3a"
             ],
             [
              0.8888888888888888,
              "#fdca26"
             ],
             [
              1,
              "#f0f921"
             ]
            ],
            "type": "histogram2dcontour"
           }
          ],
          "mesh3d": [
           {
            "colorbar": {
             "outlinewidth": 0,
             "ticks": ""
            },
            "type": "mesh3d"
           }
          ],
          "parcoords": [
           {
            "line": {
             "colorbar": {
              "outlinewidth": 0,
              "ticks": ""
             }
            },
            "type": "parcoords"
           }
          ],
          "pie": [
           {
            "automargin": true,
            "type": "pie"
           }
          ],
          "scatter": [
           {
            "marker": {
             "colorbar": {
              "outlinewidth": 0,
              "ticks": ""
             }
            },
            "type": "scatter"
           }
          ],
          "scatter3d": [
           {
            "line": {
             "colorbar": {
              "outlinewidth": 0,
              "ticks": ""
             }
            },
            "marker": {
             "colorbar": {
              "outlinewidth": 0,
              "ticks": ""
             }
            },
            "type": "scatter3d"
           }
          ],
          "scattercarpet": [
           {
            "marker": {
             "colorbar": {
              "outlinewidth": 0,
              "ticks": ""
             }
            },
            "type": "scattercarpet"
           }
          ],
          "scattergeo": [
           {
            "marker": {
             "colorbar": {
              "outlinewidth": 0,
              "ticks": ""
             }
            },
            "type": "scattergeo"
           }
          ],
          "scattergl": [
           {
            "marker": {
             "colorbar": {
              "outlinewidth": 0,
              "ticks": ""
             }
            },
            "type": "scattergl"
           }
          ],
          "scattermapbox": [
           {
            "marker": {
             "colorbar": {
              "outlinewidth": 0,
              "ticks": ""
             }
            },
            "type": "scattermapbox"
           }
          ],
          "scatterpolar": [
           {
            "marker": {
             "colorbar": {
              "outlinewidth": 0,
              "ticks": ""
             }
            },
            "type": "scatterpolar"
           }
          ],
          "scatterpolargl": [
           {
            "marker": {
             "colorbar": {
              "outlinewidth": 0,
              "ticks": ""
             }
            },
            "type": "scatterpolargl"
           }
          ],
          "scatterternary": [
           {
            "marker": {
             "colorbar": {
              "outlinewidth": 0,
              "ticks": ""
             }
            },
            "type": "scatterternary"
           }
          ],
          "surface": [
           {
            "colorbar": {
             "outlinewidth": 0,
             "ticks": ""
            },
            "colorscale": [
             [
              0,
              "#0d0887"
             ],
             [
              0.1111111111111111,
              "#46039f"
             ],
             [
              0.2222222222222222,
              "#7201a8"
             ],
             [
              0.3333333333333333,
              "#9c179e"
             ],
             [
              0.4444444444444444,
              "#bd3786"
             ],
             [
              0.5555555555555556,
              "#d8576b"
             ],
             [
              0.6666666666666666,
              "#ed7953"
             ],
             [
              0.7777777777777778,
              "#fb9f3a"
             ],
             [
              0.8888888888888888,
              "#fdca26"
             ],
             [
              1,
              "#f0f921"
             ]
            ],
            "type": "surface"
           }
          ],
          "table": [
           {
            "cells": {
             "fill": {
              "color": "#EBF0F8"
             },
             "line": {
              "color": "white"
             }
            },
            "header": {
             "fill": {
              "color": "#C8D4E3"
             },
             "line": {
              "color": "white"
             }
            },
            "type": "table"
           }
          ]
         },
         "layout": {
          "annotationdefaults": {
           "arrowcolor": "#2a3f5f",
           "arrowhead": 0,
           "arrowwidth": 1
          },
          "autotypenumbers": "strict",
          "coloraxis": {
           "colorbar": {
            "outlinewidth": 0,
            "ticks": ""
           }
          },
          "colorscale": {
           "diverging": [
            [
             0,
             "#8e0152"
            ],
            [
             0.1,
             "#c51b7d"
            ],
            [
             0.2,
             "#de77ae"
            ],
            [
             0.3,
             "#f1b6da"
            ],
            [
             0.4,
             "#fde0ef"
            ],
            [
             0.5,
             "#f7f7f7"
            ],
            [
             0.6,
             "#e6f5d0"
            ],
            [
             0.7,
             "#b8e186"
            ],
            [
             0.8,
             "#7fbc41"
            ],
            [
             0.9,
             "#4d9221"
            ],
            [
             1,
             "#276419"
            ]
           ],
           "sequential": [
            [
             0,
             "#0d0887"
            ],
            [
             0.1111111111111111,
             "#46039f"
            ],
            [
             0.2222222222222222,
             "#7201a8"
            ],
            [
             0.3333333333333333,
             "#9c179e"
            ],
            [
             0.4444444444444444,
             "#bd3786"
            ],
            [
             0.5555555555555556,
             "#d8576b"
            ],
            [
             0.6666666666666666,
             "#ed7953"
            ],
            [
             0.7777777777777778,
             "#fb9f3a"
            ],
            [
             0.8888888888888888,
             "#fdca26"
            ],
            [
             1,
             "#f0f921"
            ]
           ],
           "sequentialminus": [
            [
             0,
             "#0d0887"
            ],
            [
             0.1111111111111111,
             "#46039f"
            ],
            [
             0.2222222222222222,
             "#7201a8"
            ],
            [
             0.3333333333333333,
             "#9c179e"
            ],
            [
             0.4444444444444444,
             "#bd3786"
            ],
            [
             0.5555555555555556,
             "#d8576b"
            ],
            [
             0.6666666666666666,
             "#ed7953"
            ],
            [
             0.7777777777777778,
             "#fb9f3a"
            ],
            [
             0.8888888888888888,
             "#fdca26"
            ],
            [
             1,
             "#f0f921"
            ]
           ]
          },
          "colorway": [
           "#636efa",
           "#EF553B",
           "#00cc96",
           "#ab63fa",
           "#FFA15A",
           "#19d3f3",
           "#FF6692",
           "#B6E880",
           "#FF97FF",
           "#FECB52"
          ],
          "font": {
           "color": "#2a3f5f"
          },
          "geo": {
           "bgcolor": "white",
           "lakecolor": "white",
           "landcolor": "#E5ECF6",
           "showlakes": true,
           "showland": true,
           "subunitcolor": "white"
          },
          "hoverlabel": {
           "align": "left"
          },
          "hovermode": "closest",
          "mapbox": {
           "style": "light"
          },
          "paper_bgcolor": "white",
          "plot_bgcolor": "#E5ECF6",
          "polar": {
           "angularaxis": {
            "gridcolor": "white",
            "linecolor": "white",
            "ticks": ""
           },
           "bgcolor": "#E5ECF6",
           "radialaxis": {
            "gridcolor": "white",
            "linecolor": "white",
            "ticks": ""
           }
          },
          "scene": {
           "xaxis": {
            "backgroundcolor": "#E5ECF6",
            "gridcolor": "white",
            "gridwidth": 2,
            "linecolor": "white",
            "showbackground": true,
            "ticks": "",
            "zerolinecolor": "white"
           },
           "yaxis": {
            "backgroundcolor": "#E5ECF6",
            "gridcolor": "white",
            "gridwidth": 2,
            "linecolor": "white",
            "showbackground": true,
            "ticks": "",
            "zerolinecolor": "white"
           },
           "zaxis": {
            "backgroundcolor": "#E5ECF6",
            "gridcolor": "white",
            "gridwidth": 2,
            "linecolor": "white",
            "showbackground": true,
            "ticks": "",
            "zerolinecolor": "white"
           }
          },
          "shapedefaults": {
           "line": {
            "color": "#2a3f5f"
           }
          },
          "ternary": {
           "aaxis": {
            "gridcolor": "white",
            "linecolor": "white",
            "ticks": ""
           },
           "baxis": {
            "gridcolor": "white",
            "linecolor": "white",
            "ticks": ""
           },
           "bgcolor": "#E5ECF6",
           "caxis": {
            "gridcolor": "white",
            "linecolor": "white",
            "ticks": ""
           }
          },
          "title": {
           "x": 0.05
          },
          "xaxis": {
           "automargin": true,
           "gridcolor": "white",
           "linecolor": "white",
           "ticks": "",
           "title": {
            "standoff": 15
           },
           "zerolinecolor": "white",
           "zerolinewidth": 2
          },
          "yaxis": {
           "automargin": true,
           "gridcolor": "white",
           "linecolor": "white",
           "ticks": "",
           "title": {
            "standoff": 15
           },
           "zerolinecolor": "white",
           "zerolinewidth": 2
          }
         }
        },
        "title": {
         "text": "Model performance"
        },
        "width": 800,
        "xaxis": {
         "anchor": "y",
         "domain": [
          0,
          0.45
         ]
        },
        "xaxis2": {
         "anchor": "y2",
         "domain": [
          0.55,
          1
         ],
         "title": {
          "text": "false positive rate"
         }
        },
        "xaxis3": {
         "anchor": "y3",
         "domain": [
          0,
          1
         ],
         "showgrid": true,
         "tickangle": 90,
         "tickfont": {
          "size": 10
         }
        },
        "yaxis": {
         "anchor": "x",
         "domain": [
          0.625,
          1
         ]
        },
        "yaxis2": {
         "anchor": "x2",
         "domain": [
          0.625,
          1
         ],
         "title": {
          "text": "true positive rate"
         }
        },
        "yaxis3": {
         "anchor": "x3",
         "domain": [
          0,
          0.375
         ]
        }
       }
      },
      "text/html": [
       "<div>                            <div id=\"0dac9114-aa99-40ea-ae95-3e5271fbf2c3\" class=\"plotly-graph-div\" style=\"height:900px; width:800px;\"></div>            <script type=\"text/javascript\">                require([\"plotly\"], function(Plotly) {                    window.PLOTLYENV=window.PLOTLYENV || {};                                    if (document.getElementById(\"0dac9114-aa99-40ea-ae95-3e5271fbf2c3\")) {                    Plotly.newPlot(                        \"0dac9114-aa99-40ea-ae95-3e5271fbf2c3\",                        [{\"colorscale\":[[0.0,\"rgb(255, 198, 196)\"],[0.16666666666666666,\"rgb(244, 163, 168)\"],[0.3333333333333333,\"rgb(227, 129, 145)\"],[0.5,\"rgb(204, 96, 125)\"],[0.6666666666666666,\"rgb(173, 70, 108)\"],[0.8333333333333334,\"rgb(139, 48, 88)\"],[1.0,\"rgb(103, 32, 68)\"]],\"name\":\"matrix\",\"showscale\":false,\"x\":[\"Benign\",\"Malignant\"],\"xaxis\":\"x\",\"y\":[\"Benign\",\"Malignant\"],\"yaxis\":\"y\",\"z\":[[85,1],[4,53]],\"type\":\"heatmap\"},{\"line\":{\"color\":\"rgb(22, 96, 167)\",\"width\":2},\"name\":\"Roc : 0.9590983272133823\",\"x\":[0.0,0.0,0.0,0.011627906976744186,0.011627906976744186,0.023255813953488372,0.023255813953488372,0.09302325581395349,0.09302325581395349,1.0],\"xaxis\":\"x2\",\"y\":[0.0,0.017543859649122806,0.9298245614035088,0.9298245614035088,0.9649122807017544,0.9649122807017544,0.9824561403508771,0.9824561403508771,1.0,1.0],\"yaxis\":\"y2\",\"type\":\"scatter\"},{\"line\":{\"color\":\"rgb(205, 12, 24)\",\"dash\":\"dot\",\"width\":2},\"x\":[0,1],\"xaxis\":\"x2\",\"y\":[0,1],\"yaxis\":\"y2\",\"type\":\"scatter\"},{\"marker\":{\"color\":[1.2611043023375932,0.978920564934528,0.9485590139053649,0.9402659179683895,0.9378141003629128,0.8938672802343015,0.8775933719737687,0.861941612259462,0.811056274982832,0.7682387986725299,0.6939194825129683,0.6735997073800237,0.6635143927183542,0.6170545670582119,0.518451576855391,0.44490266682464397,0.3332898978400755,0.3289164517836803,0.2875913429902482,0.2523778692221465,0.24281921754608624,0.010784546535620106,0.0027549727111063987,-0.1970032724737964,-0.223089305735712,-0.2691947578660862,-0.40809027835641976,-0.5330738624867664,-0.7184861896238554,-1.0145995813107622],\"colorscale\":[[0.0,\"rgb(255, 198, 196)\"],[0.16666666666666666,\"rgb(244, 163, 168)\"],[0.3333333333333333,\"rgb(227, 129, 145)\"],[0.5,\"rgb(204, 96, 125)\"],[0.6666666666666666,\"rgb(173, 70, 108)\"],[0.8333333333333334,\"rgb(139, 48, 88)\"],[1.0,\"rgb(103, 32, 68)\"]],\"line\":{\"color\":\"black\",\"width\":0.6}},\"name\":\"coefficients\",\"x\":[\"radius_se\",\"radius_worst\",\"area_worst\",\"area_se\",\"concave points_worst\",\"concave points_mean\",\"texture_worst\",\"concavity_mean\",\"perimeter_worst\",\"symmetry_worst\",\"concavity_worst\",\"perimeter_se\",\"fractal_dimension_worst\",\"texture_mean\",\"smoothness_worst\",\"area_mean\",\"perimeter_mean\",\"radius_mean\",\"concave points_se\",\"smoothness_mean\",\"smoothness_se\",\"concavity_se\",\"symmetry_mean\",\"compactness_worst\",\"texture_se\",\"fractal_dimension_mean\",\"fractal_dimension_se\",\"symmetry_se\",\"compactness_mean\",\"compactness_se\"],\"xaxis\":\"x3\",\"y\":[1.2611043023375932,0.978920564934528,0.9485590139053649,0.9402659179683895,0.9378141003629128,0.8938672802343015,0.8775933719737687,0.861941612259462,0.811056274982832,0.7682387986725299,0.6939194825129683,0.6735997073800237,0.6635143927183542,0.6170545670582119,0.518451576855391,0.44490266682464397,0.3332898978400755,0.3289164517836803,0.2875913429902482,0.2523778692221465,0.24281921754608624,0.010784546535620106,0.0027549727111063987,-0.1970032724737964,-0.223089305735712,-0.2691947578660862,-0.40809027835641976,-0.5330738624867664,-0.7184861896238554,-1.0145995813107622],\"yaxis\":\"y3\",\"type\":\"bar\"}],                        {\"annotations\":[{\"font\":{\"size\":16},\"showarrow\":false,\"text\":\"Confusion Matrix\",\"x\":0.225,\"xanchor\":\"center\",\"xref\":\"paper\",\"y\":1.0,\"yanchor\":\"bottom\",\"yref\":\"paper\"},{\"font\":{\"size\":16},\"showarrow\":false,\"text\":\"Receiver operating characteristic\",\"x\":0.775,\"xanchor\":\"center\",\"xref\":\"paper\",\"y\":1.0,\"yanchor\":\"bottom\",\"yref\":\"paper\"},{\"font\":{\"size\":16},\"showarrow\":false,\"text\":\"Feature Importances\",\"x\":0.5,\"xanchor\":\"center\",\"xref\":\"paper\",\"y\":0.375,\"yanchor\":\"bottom\",\"yref\":\"paper\"}],\"autosize\":false,\"height\":900,\"margin\":{\"b\":195},\"paper_bgcolor\":\"rgba(240,240,240, 0.95)\",\"plot_bgcolor\":\"rgba(240,240,240, 0.95)\",\"showlegend\":false,\"template\":{\"data\":{\"barpolar\":[{\"marker\":{\"line\":{\"color\":\"#E5ECF6\",\"width\":0.5},\"pattern\":{\"fillmode\":\"overlay\",\"size\":10,\"solidity\":0.2}},\"type\":\"barpolar\"}],\"bar\":[{\"error_x\":{\"color\":\"#2a3f5f\"},\"error_y\":{\"color\":\"#2a3f5f\"},\"marker\":{\"line\":{\"color\":\"#E5ECF6\",\"width\":0.5},\"pattern\":{\"fillmode\":\"overlay\",\"size\":10,\"solidity\":0.2}},\"type\":\"bar\"}],\"carpet\":[{\"aaxis\":{\"endlinecolor\":\"#2a3f5f\",\"gridcolor\":\"white\",\"linecolor\":\"white\",\"minorgridcolor\":\"white\",\"startlinecolor\":\"#2a3f5f\"},\"baxis\":{\"endlinecolor\":\"#2a3f5f\",\"gridcolor\":\"white\",\"linecolor\":\"white\",\"minorgridcolor\":\"white\",\"startlinecolor\":\"#2a3f5f\"},\"type\":\"carpet\"}],\"choropleth\":[{\"colorbar\":{\"outlinewidth\":0,\"ticks\":\"\"},\"type\":\"choropleth\"}],\"contourcarpet\":[{\"colorbar\":{\"outlinewidth\":0,\"ticks\":\"\"},\"type\":\"contourcarpet\"}],\"contour\":[{\"colorbar\":{\"outlinewidth\":0,\"ticks\":\"\"},\"colorscale\":[[0.0,\"#0d0887\"],[0.1111111111111111,\"#46039f\"],[0.2222222222222222,\"#7201a8\"],[0.3333333333333333,\"#9c179e\"],[0.4444444444444444,\"#bd3786\"],[0.5555555555555556,\"#d8576b\"],[0.6666666666666666,\"#ed7953\"],[0.7777777777777778,\"#fb9f3a\"],[0.8888888888888888,\"#fdca26\"],[1.0,\"#f0f921\"]],\"type\":\"contour\"}],\"heatmapgl\":[{\"colorbar\":{\"outlinewidth\":0,\"ticks\":\"\"},\"colorscale\":[[0.0,\"#0d0887\"],[0.1111111111111111,\"#46039f\"],[0.2222222222222222,\"#7201a8\"],[0.3333333333333333,\"#9c179e\"],[0.4444444444444444,\"#bd3786\"],[0.5555555555555556,\"#d8576b\"],[0.6666666666666666,\"#ed7953\"],[0.7777777777777778,\"#fb9f3a\"],[0.8888888888888888,\"#fdca26\"],[1.0,\"#f0f921\"]],\"type\":\"heatmapgl\"}],\"heatmap\":[{\"colorbar\":{\"outlinewidth\":0,\"ticks\":\"\"},\"colorscale\":[[0.0,\"#0d0887\"],[0.1111111111111111,\"#46039f\"],[0.2222222222222222,\"#7201a8\"],[0.3333333333333333,\"#9c179e\"],[0.4444444444444444,\"#bd3786\"],[0.5555555555555556,\"#d8576b\"],[0.6666666666666666,\"#ed7953\"],[0.7777777777777778,\"#fb9f3a\"],[0.8888888888888888,\"#fdca26\"],[1.0,\"#f0f921\"]],\"type\":\"heatmap\"}],\"histogram2dcontour\":[{\"colorbar\":{\"outlinewidth\":0,\"ticks\":\"\"},\"colorscale\":[[0.0,\"#0d0887\"],[0.1111111111111111,\"#46039f\"],[0.2222222222222222,\"#7201a8\"],[0.3333333333333333,\"#9c179e\"],[0.4444444444444444,\"#bd3786\"],[0.5555555555555556,\"#d8576b\"],[0.6666666666666666,\"#ed7953\"],[0.7777777777777778,\"#fb9f3a\"],[0.8888888888888888,\"#fdca26\"],[1.0,\"#f0f921\"]],\"type\":\"histogram2dcontour\"}],\"histogram2d\":[{\"colorbar\":{\"outlinewidth\":0,\"ticks\":\"\"},\"colorscale\":[[0.0,\"#0d0887\"],[0.1111111111111111,\"#46039f\"],[0.2222222222222222,\"#7201a8\"],[0.3333333333333333,\"#9c179e\"],[0.4444444444444444,\"#bd3786\"],[0.5555555555555556,\"#d8576b\"],[0.6666666666666666,\"#ed7953\"],[0.7777777777777778,\"#fb9f3a\"],[0.8888888888888888,\"#fdca26\"],[1.0,\"#f0f921\"]],\"type\":\"histogram2d\"}],\"histogram\":[{\"marker\":{\"pattern\":{\"fillmode\":\"overlay\",\"size\":10,\"solidity\":0.2}},\"type\":\"histogram\"}],\"mesh3d\":[{\"colorbar\":{\"outlinewidth\":0,\"ticks\":\"\"},\"type\":\"mesh3d\"}],\"parcoords\":[{\"line\":{\"colorbar\":{\"outlinewidth\":0,\"ticks\":\"\"}},\"type\":\"parcoords\"}],\"pie\":[{\"automargin\":true,\"type\":\"pie\"}],\"scatter3d\":[{\"line\":{\"colorbar\":{\"outlinewidth\":0,\"ticks\":\"\"}},\"marker\":{\"colorbar\":{\"outlinewidth\":0,\"ticks\":\"\"}},\"type\":\"scatter3d\"}],\"scattercarpet\":[{\"marker\":{\"colorbar\":{\"outlinewidth\":0,\"ticks\":\"\"}},\"type\":\"scattercarpet\"}],\"scattergeo\":[{\"marker\":{\"colorbar\":{\"outlinewidth\":0,\"ticks\":\"\"}},\"type\":\"scattergeo\"}],\"scattergl\":[{\"marker\":{\"colorbar\":{\"outlinewidth\":0,\"ticks\":\"\"}},\"type\":\"scattergl\"}],\"scattermapbox\":[{\"marker\":{\"colorbar\":{\"outlinewidth\":0,\"ticks\":\"\"}},\"type\":\"scattermapbox\"}],\"scatterpolargl\":[{\"marker\":{\"colorbar\":{\"outlinewidth\":0,\"ticks\":\"\"}},\"type\":\"scatterpolargl\"}],\"scatterpolar\":[{\"marker\":{\"colorbar\":{\"outlinewidth\":0,\"ticks\":\"\"}},\"type\":\"scatterpolar\"}],\"scatter\":[{\"marker\":{\"colorbar\":{\"outlinewidth\":0,\"ticks\":\"\"}},\"type\":\"scatter\"}],\"scatterternary\":[{\"marker\":{\"colorbar\":{\"outlinewidth\":0,\"ticks\":\"\"}},\"type\":\"scatterternary\"}],\"surface\":[{\"colorbar\":{\"outlinewidth\":0,\"ticks\":\"\"},\"colorscale\":[[0.0,\"#0d0887\"],[0.1111111111111111,\"#46039f\"],[0.2222222222222222,\"#7201a8\"],[0.3333333333333333,\"#9c179e\"],[0.4444444444444444,\"#bd3786\"],[0.5555555555555556,\"#d8576b\"],[0.6666666666666666,\"#ed7953\"],[0.7777777777777778,\"#fb9f3a\"],[0.8888888888888888,\"#fdca26\"],[1.0,\"#f0f921\"]],\"type\":\"surface\"}],\"table\":[{\"cells\":{\"fill\":{\"color\":\"#EBF0F8\"},\"line\":{\"color\":\"white\"}},\"header\":{\"fill\":{\"color\":\"#C8D4E3\"},\"line\":{\"color\":\"white\"}},\"type\":\"table\"}]},\"layout\":{\"annotationdefaults\":{\"arrowcolor\":\"#2a3f5f\",\"arrowhead\":0,\"arrowwidth\":1},\"autotypenumbers\":\"strict\",\"coloraxis\":{\"colorbar\":{\"outlinewidth\":0,\"ticks\":\"\"}},\"colorscale\":{\"diverging\":[[0,\"#8e0152\"],[0.1,\"#c51b7d\"],[0.2,\"#de77ae\"],[0.3,\"#f1b6da\"],[0.4,\"#fde0ef\"],[0.5,\"#f7f7f7\"],[0.6,\"#e6f5d0\"],[0.7,\"#b8e186\"],[0.8,\"#7fbc41\"],[0.9,\"#4d9221\"],[1,\"#276419\"]],\"sequential\":[[0.0,\"#0d0887\"],[0.1111111111111111,\"#46039f\"],[0.2222222222222222,\"#7201a8\"],[0.3333333333333333,\"#9c179e\"],[0.4444444444444444,\"#bd3786\"],[0.5555555555555556,\"#d8576b\"],[0.6666666666666666,\"#ed7953\"],[0.7777777777777778,\"#fb9f3a\"],[0.8888888888888888,\"#fdca26\"],[1.0,\"#f0f921\"]],\"sequentialminus\":[[0.0,\"#0d0887\"],[0.1111111111111111,\"#46039f\"],[0.2222222222222222,\"#7201a8\"],[0.3333333333333333,\"#9c179e\"],[0.4444444444444444,\"#bd3786\"],[0.5555555555555556,\"#d8576b\"],[0.6666666666666666,\"#ed7953\"],[0.7777777777777778,\"#fb9f3a\"],[0.8888888888888888,\"#fdca26\"],[1.0,\"#f0f921\"]]},\"colorway\":[\"#636efa\",\"#EF553B\",\"#00cc96\",\"#ab63fa\",\"#FFA15A\",\"#19d3f3\",\"#FF6692\",\"#B6E880\",\"#FF97FF\",\"#FECB52\"],\"font\":{\"color\":\"#2a3f5f\"},\"geo\":{\"bgcolor\":\"white\",\"lakecolor\":\"white\",\"landcolor\":\"#E5ECF6\",\"showlakes\":true,\"showland\":true,\"subunitcolor\":\"white\"},\"hoverlabel\":{\"align\":\"left\"},\"hovermode\":\"closest\",\"mapbox\":{\"style\":\"light\"},\"paper_bgcolor\":\"white\",\"plot_bgcolor\":\"#E5ECF6\",\"polar\":{\"angularaxis\":{\"gridcolor\":\"white\",\"linecolor\":\"white\",\"ticks\":\"\"},\"bgcolor\":\"#E5ECF6\",\"radialaxis\":{\"gridcolor\":\"white\",\"linecolor\":\"white\",\"ticks\":\"\"}},\"scene\":{\"xaxis\":{\"backgroundcolor\":\"#E5ECF6\",\"gridcolor\":\"white\",\"gridwidth\":2,\"linecolor\":\"white\",\"showbackground\":true,\"ticks\":\"\",\"zerolinecolor\":\"white\"},\"yaxis\":{\"backgroundcolor\":\"#E5ECF6\",\"gridcolor\":\"white\",\"gridwidth\":2,\"linecolor\":\"white\",\"showbackground\":true,\"ticks\":\"\",\"zerolinecolor\":\"white\"},\"zaxis\":{\"backgroundcolor\":\"#E5ECF6\",\"gridcolor\":\"white\",\"gridwidth\":2,\"linecolor\":\"white\",\"showbackground\":true,\"ticks\":\"\",\"zerolinecolor\":\"white\"}},\"shapedefaults\":{\"line\":{\"color\":\"#2a3f5f\"}},\"ternary\":{\"aaxis\":{\"gridcolor\":\"white\",\"linecolor\":\"white\",\"ticks\":\"\"},\"baxis\":{\"gridcolor\":\"white\",\"linecolor\":\"white\",\"ticks\":\"\"},\"bgcolor\":\"#E5ECF6\",\"caxis\":{\"gridcolor\":\"white\",\"linecolor\":\"white\",\"ticks\":\"\"}},\"title\":{\"x\":0.05},\"xaxis\":{\"automargin\":true,\"gridcolor\":\"white\",\"linecolor\":\"white\",\"ticks\":\"\",\"title\":{\"standoff\":15},\"zerolinecolor\":\"white\",\"zerolinewidth\":2},\"yaxis\":{\"automargin\":true,\"gridcolor\":\"white\",\"linecolor\":\"white\",\"ticks\":\"\",\"title\":{\"standoff\":15},\"zerolinecolor\":\"white\",\"zerolinewidth\":2}}},\"title\":{\"text\":\"Model performance\"},\"width\":800,\"xaxis\":{\"anchor\":\"y\",\"domain\":[0.0,0.45]},\"yaxis\":{\"anchor\":\"x\",\"domain\":[0.625,1.0]},\"xaxis2\":{\"anchor\":\"y2\",\"domain\":[0.55,1.0],\"title\":{\"text\":\"false positive rate\"}},\"yaxis2\":{\"anchor\":\"x2\",\"domain\":[0.625,1.0],\"title\":{\"text\":\"true positive rate\"}},\"xaxis3\":{\"anchor\":\"y3\",\"domain\":[0.0,1.0],\"showgrid\":true,\"tickangle\":90,\"tickfont\":{\"size\":10}},\"yaxis3\":{\"anchor\":\"x3\",\"domain\":[0.0,0.375]}},                        {\"responsive\": true}                    ).then(function(){\n",
       "                            \n",
       "var gd = document.getElementById('0dac9114-aa99-40ea-ae95-3e5271fbf2c3');\n",
       "var x = new MutationObserver(function (mutations, observer) {{\n",
       "        var display = window.getComputedStyle(gd).display;\n",
       "        if (!display || display === 'none') {{\n",
       "            console.log([gd, 'removed!']);\n",
       "            Plotly.purge(gd);\n",
       "            observer.disconnect();\n",
       "        }}\n",
       "}});\n",
       "\n",
       "// Listen for the removal of the full notebook cells\n",
       "var notebookContainer = gd.closest('#notebook-container');\n",
       "if (notebookContainer) {{\n",
       "    x.observe(notebookContainer, {childList: true});\n",
       "}}\n",
       "\n",
       "// Listen for the clearing of the current output cell\n",
       "var outputEl = gd.closest('.output');\n",
       "if (outputEl) {{\n",
       "    x.observe(outputEl, {childList: true});\n",
       "}}\n",
       "\n",
       "                        })                };                });            </script>        </div>"
      ]
     },
     "metadata": {},
     "output_type": "display_data"
    },
    {
     "ename": "ModuleNotFoundError",
     "evalue": "No module named 'imblearn'",
     "output_type": "error",
     "traceback": [
      "\u001b[1;31m---------------------------------------------------------------------------\u001b[0m",
      "\u001b[1;31mModuleNotFoundError\u001b[0m                       Traceback (most recent call last)",
      "Input \u001b[1;32mIn [2]\u001b[0m, in \u001b[0;36m<cell line: 333>\u001b[1;34m()\u001b[0m\n\u001b[0;32m    312\u001b[0m breast_cancer_prediction(logit,train_X,test_X,train_Y,test_Y,\n\u001b[0;32m    313\u001b[0m                          cols,\u001b[38;5;124m\"\u001b[39m\u001b[38;5;124mcoefficients\u001b[39m\u001b[38;5;124m\"\u001b[39m)\n\u001b[0;32m    316\u001b[0m \u001b[38;5;66;03m# <b>Inferences</b><br>\u001b[39;00m\n\u001b[0;32m    317\u001b[0m \u001b[38;5;66;03m# <b>Confusion Matrix</b><br>\u001b[39;00m\n\u001b[0;32m    318\u001b[0m \u001b[38;5;66;03m# From the confusion matrix, we observe that the algorithm classifies 53 Malignant (True Positives) and 85 Benign instances (True Negatives) correctly while it classifies 4 benign tumors as malignant (False Positives) and 1 malignant tumor as benign (False Negative).\u001b[39;00m\n\u001b[1;32m   (...)\u001b[0m\n\u001b[0;32m    331\u001b[0m \n\u001b[0;32m    332\u001b[0m \u001b[38;5;66;03m#Synthetic Minority Oversampling Technique (SMOTE)\u001b[39;00m\n\u001b[1;32m--> 333\u001b[0m \u001b[38;5;28;01mfrom\u001b[39;00m \u001b[38;5;21;01mimblearn\u001b[39;00m\u001b[38;5;21;01m.\u001b[39;00m\u001b[38;5;21;01mover_sampling\u001b[39;00m \u001b[38;5;28;01mimport\u001b[39;00m SMOTE\n\u001b[0;32m    335\u001b[0m cols    \u001b[38;5;241m=\u001b[39m [i \u001b[38;5;28;01mfor\u001b[39;00m i \u001b[38;5;129;01min\u001b[39;00m dataset\u001b[38;5;241m.\u001b[39mcolumns \u001b[38;5;28;01mif\u001b[39;00m i \u001b[38;5;129;01mnot\u001b[39;00m \u001b[38;5;129;01min\u001b[39;00m Id_col\u001b[38;5;241m+\u001b[39mtarget_col]\n\u001b[0;32m    337\u001b[0m smote_X \u001b[38;5;241m=\u001b[39m dataset[cols]\n",
      "\u001b[1;31mModuleNotFoundError\u001b[0m: No module named 'imblearn'"
     ]
    }
   ],
   "source": [
    "#!/usr/bin/env python\n",
    "# coding: utf-8\n",
    "\n",
    "# # Breast Cancer Prediction using Machine Learning\n",
    "\n",
    "# In[1]:\n",
    "\n",
    "\n",
    "#Importing the required libraries.\n",
    "import numpy as np \n",
    "import pandas as pd\n",
    "import os\n",
    "import matplotlib.pyplot as plt\n",
    "from PIL import  Image\n",
    "get_ipython().run_line_magic('matplotlib', 'inline')\n",
    "import seaborn as sns\n",
    "import itertools\n",
    "import warnings\n",
    "warnings.filterwarnings(\"ignore\")\n",
    "import io\n",
    "import plotly.offline as py\n",
    "py.init_notebook_mode(connected=True)\n",
    "import plotly.graph_objs as go\n",
    "import plotly.tools as tls\n",
    "import plotly.figure_factory as ff\n",
    "\n",
    "\n",
    "# In[2]:\n",
    "\n",
    "\n",
    "#Reading the dataset stored as a .csv file.\n",
    "dataset = pd.read_csv(\"C:\\\\Users\\\\Admin\\\\Downloads\\\\Breast Cancer Prediction using Machine Learning\\\\breast-cancer-wisconsin.csv\")\n",
    "\n",
    "##Displaying the first five rows of the dataset.\n",
    "dataset.head()\n",
    "\n",
    "\n",
    "# # Data Preprocessing\n",
    "\n",
    "# In[3]:\n",
    "\n",
    "\n",
    "#Data overview\n",
    "print (\"Rows     : \" ,dataset.shape[0])\n",
    "print (\"Columns  : \" ,dataset.shape[1])\n",
    "print (\"\\nFeatures : \\n\" ,dataset.columns.tolist())\n",
    "print (\"\\nMissing values :  \", dataset.isnull().sum().values.sum())\n",
    "print (\"Unique values  :  \\n\",dataset.nunique())\n",
    "\n",
    "\n",
    "# In[4]:\n",
    "\n",
    "\n",
    "#Separating benign and malignant patients.\n",
    "benign     = dataset[dataset[\"diagnosis\"] == \"B\"]\n",
    "malignant = dataset[dataset[\"diagnosis\"] == \"M\"]\n",
    "\n",
    "#Assigning numercial values to catagorical target column.\n",
    "dataset[\"diagnosis\"] = dataset[\"diagnosis\"].replace({1:\"M\",0:\"B\"})\n",
    "\n",
    "\n",
    "# In[5]:\n",
    "\n",
    "\n",
    "#Separating catagorical and numerical columns.\n",
    "Id_col     = ['id']\n",
    "target_col = [\"diagnosis\"]\n",
    "cat_cols   = dataset.nunique()[dataset.nunique() < 6].keys().tolist()\n",
    "cat_cols   = [x for x in cat_cols if x not in target_col]\n",
    "num_cols   = [x for x in dataset.columns if x not in cat_cols + target_col + Id_col]\n",
    "\n",
    "\n",
    "# In[6]:\n",
    "\n",
    "\n",
    "#Exploratory Data Analysis.\n",
    "\n",
    "l = ['Benign', 'Malignant']\n",
    "v = dataset[\"diagnosis\"].value_counts().values.tolist()\n",
    "\n",
    "trace = go.Pie(labels = l, values = v,\n",
    "               marker = dict(colors =  [ 'black' ,'#FF96A7'], line = dict(color = \"white\", width =  1.3)),\n",
    "               rotation = 90,\n",
    "               hoverinfo = \"label+value+text\",\n",
    "               hole = .5\n",
    "              )\n",
    "layout = go.Layout(dict(title = \"Patient Classification in data\",\n",
    "                        plot_bgcolor  = \"rgb(243,243,243)\",\n",
    "                        paper_bgcolor = \"rgb(243,243,243)\",\n",
    "                       )\n",
    "                  )\n",
    "\n",
    "data = [trace]\n",
    "fig = go.Figure(data = data,layout = layout)\n",
    "py.iplot(fig)\n",
    "\n",
    "\n",
    "# In[7]:\n",
    "\n",
    "\n",
    "#Data preprocessing.\n",
    "from sklearn.preprocessing import LabelEncoder\n",
    "from sklearn.preprocessing import StandardScaler\n",
    "\n",
    "#customer id col\n",
    "Id_col     = ['id']\n",
    "#Target columns\n",
    "target_col = [\"diagnosis\"]\n",
    "#categorical columns\n",
    "cat_cols   = dataset.nunique()[dataset.nunique() < 6].keys().tolist()\n",
    "cat_cols   = [x for x in cat_cols if x not in target_col]\n",
    "#numerical columns\n",
    "num_cols   = [x for x in dataset.columns if x not in cat_cols + target_col + Id_col]\n",
    "#Binary columns with 2 values\n",
    "bin_cols   = dataset.nunique()[dataset.nunique() == 2].keys().tolist()\n",
    "#Columns more than 2 values\n",
    "multi_cols = [i for i in cat_cols if i not in bin_cols]\n",
    "\n",
    "#Label encoding Binary columns.\n",
    "le = LabelEncoder()\n",
    "for i in bin_cols :\n",
    "    dataset[i] = le.fit_transform(dataset[i])\n",
    "    \n",
    "#Duplicating columns for multi value columns.\n",
    "dataset = pd.get_dummies(data = dataset, columns = multi_cols )\n",
    "\n",
    "#Scaling Numerical columns.\n",
    "std = StandardScaler()\n",
    "scaled = std.fit_transform(dataset[num_cols])\n",
    "scaled = pd.DataFrame(scaled,columns=num_cols)\n",
    "\n",
    "#Dropping original values merging scaled values for numerical columns.\n",
    "df_dataset_og = dataset.copy()\n",
    "dataset = dataset.drop(columns = num_cols,axis = 1)\n",
    "dataset = dataset.merge(scaled,left_index=True,right_index=True,how = \"left\")\n",
    "\n",
    "\n",
    "# In[8]:\n",
    "\n",
    "\n",
    "#Features Summary.\n",
    "summary = (df_dataset_og[[i for i in df_dataset_og.columns if i not in Id_col]].\n",
    "           describe().transpose().reset_index())\n",
    "\n",
    "summary = summary.rename(columns = {\"index\" : \"feature\"})\n",
    "summary = np.around(summary,3)\n",
    "\n",
    "val_lst = [summary['feature'], summary['count'], summary['mean'], summary['std'], summary['min'], summary['25%'],\n",
    "           summary['50%'], summary['75%'], summary['max']]\n",
    "\n",
    "trace  = go.Table(header = dict(values = summary.columns.tolist(), \n",
    "                                line = dict(color = ['#506784']), \n",
    "                                fill = dict(color = ['#119DFF']),\n",
    "                               ),\n",
    "                  cells  = dict(values = val_lst,\n",
    "                                line = dict(color = ['#506784']),\n",
    "                                fill = dict(color = [\"lightgrey\",'#F5F8FF'])\n",
    "                               ),\n",
    "                  columnwidth = [180,60,100,100,60,60,80,80,80])\n",
    "layout = go.Layout(dict(title = \"Features Summary\"))\n",
    "figure = go.Figure(data=[trace],layout=layout)\n",
    "py.iplot(figure)\n",
    "\n",
    "\n",
    "# In[9]:\n",
    "\n",
    "\n",
    "#Correlation Matrix.\n",
    "correlation = dataset.corr()\n",
    "\n",
    "#tick labels\n",
    "matrix_cols = correlation.columns.tolist()\n",
    "\n",
    "#convert to array\n",
    "corr_array  = np.array(correlation)\n",
    "\n",
    "#Plotting\n",
    "trace = go.Heatmap(z = corr_array, x = matrix_cols, y = matrix_cols,\n",
    "                   colorscale = \"burg\",\n",
    "                   colorbar   = dict(title = \"Pearson Correlation coefficient\",\n",
    "                                     titleside = \"right\"\n",
    "                                    ) ,\n",
    "                  )\n",
    "\n",
    "layout = go.Layout(dict(title = \"Correlation Matrix for Features\",\n",
    "                        autosize = False,\n",
    "                        height  = 720, width   = 800,\n",
    "                        margin  = dict(r = 0 ,l = 210,\n",
    "                                       t = 25,b = 210,\n",
    "                                      ),\n",
    "                        yaxis   = dict(tickfont = dict(size = 9)),\n",
    "                        xaxis   = dict(tickfont = dict(size = 9))\n",
    "                       )\n",
    "                  )\n",
    "\n",
    "data = [trace]\n",
    "fig = go.Figure(data=data,layout=layout)\n",
    "py.iplot(fig)\n",
    "\n",
    "\n",
    "# # Model Building\n",
    "\n",
    "# # 1. Logistic Regression\n",
    "\n",
    "# In[10]:\n",
    "\n",
    "\n",
    "#Baseline Model\n",
    "from sklearn.model_selection import train_test_split\n",
    "from sklearn.linear_model import LogisticRegression\n",
    "from sklearn.metrics import confusion_matrix,accuracy_score,classification_report\n",
    "from sklearn.metrics import roc_auc_score,roc_curve#scorer\n",
    "from sklearn.metrics import f1_score\n",
    "import statsmodels.api as sm\n",
    "from sklearn.metrics import precision_score,recall_score\n",
    "\n",
    "#splitting train and test data \n",
    "train,test = train_test_split(dataset,test_size = .25 ,random_state = 111)\n",
    "    \n",
    "##seperating dependent and independent variables\n",
    "cols    = [i for i in dataset.columns if i not in Id_col + target_col]\n",
    "train_X = train[cols]\n",
    "train_Y = train[target_col]\n",
    "test_X  = test[cols]\n",
    "test_Y  = test[target_col]\n",
    "\n",
    "#Function attributes\n",
    "#dataframe     - processed dataframe\n",
    "#Algorithm     - Algorithm used \n",
    "#training_x    - predictor variables dataframe(training)\n",
    "#testing_x     - predictor variables dataframe(testing)\n",
    "#training_y    - target variable(training)\n",
    "#training_y    - target variable(testing)\n",
    "#cf - [\"coefficients\",\"features\"](cooefficients for logistic regression, features for tree based models)\n",
    "\n",
    "def breast_cancer_prediction(algorithm,training_x,testing_x,training_y,testing_y,cols,cf) :\n",
    "    \n",
    "    #model\n",
    "    algorithm.fit(training_x,training_y)\n",
    "    predictions   = algorithm.predict(testing_x)\n",
    "    probabilities = algorithm.predict_proba(testing_x)\n",
    "    \n",
    "    #coeffs\n",
    "    if   cf == \"coefficients\" :\n",
    "        coefficients  = pd.DataFrame(algorithm.coef_.ravel())\n",
    "    elif cf == \"features\" :\n",
    "        coefficients  = pd.DataFrame(algorithm.feature_importances_)\n",
    "        \n",
    "    column_df     = pd.DataFrame(cols)\n",
    "    coef_sumry    = (pd.merge(coefficients,column_df,left_index= True, right_index= True, how = \"left\"))\n",
    "    coef_sumry.columns = [\"coefficients\",\"features\"]\n",
    "    coef_sumry    = coef_sumry.sort_values(by = \"coefficients\",ascending = False)\n",
    "    \n",
    "    print (algorithm)\n",
    "    print (\"\\n Classification report : \\n\",classification_report(testing_y,predictions))\n",
    "    print (\"Accuracy   Score : \",accuracy_score(testing_y,predictions))\n",
    "    \n",
    "    #confusion matrix\n",
    "    conf_matrix = confusion_matrix(testing_y,predictions)\n",
    "    \n",
    "    #roc_auc_score\n",
    "    model_roc_auc = roc_auc_score(testing_y,predictions) \n",
    "    print (\"Area under curve : \",model_roc_auc,\"\\n\")\n",
    "    fpr,tpr,thresholds = roc_curve(testing_y,probabilities[:,1])\n",
    "    \n",
    "    #Plot Confusion Matrix\n",
    "    trace1 = go.Heatmap(z = conf_matrix , x = [\"Benign\",\"Malignant\"], y = [\"Benign\",\"Malignant\"],\n",
    "                        showscale  = False, colorscale = \"burg\", name = \"matrix\")\n",
    "    \n",
    "    #Plot ROC Curve\n",
    "    trace2 = go.Scatter(x = fpr,y = tpr,\n",
    "                        name = \"Roc : \" + str(model_roc_auc),\n",
    "                        line = dict(color = ('rgb(22, 96, 167)'),width = 2))\n",
    "    trace3 = go.Scatter(x = [0,1],y=[0,1],\n",
    "                        line = dict(color = ('rgb(205, 12, 24)'),width = 2,\n",
    "                        dash = 'dot'))\n",
    "    \n",
    "    #plot coeffs\n",
    "    trace4 = go.Bar(x = coef_sumry[\"features\"],y = coef_sumry[\"coefficients\"],\n",
    "                    name = \"coefficients\",\n",
    "                    marker = dict(color = coef_sumry[\"coefficients\"],\n",
    "                                  colorscale = \"burg\",\n",
    "                                  line = dict(width = .6,color = \"black\")))\n",
    "    \n",
    "    #subplots\n",
    "    fig = tls.make_subplots(rows=2, cols=2, specs=[[{}, {}], [{'colspan': 2}, None]],\n",
    "                            subplot_titles=('Confusion Matrix',\n",
    "                                            'Receiver operating characteristic',\n",
    "                                            'Feature Importances'))\n",
    "    \n",
    "    fig.append_trace(trace1,1,1)\n",
    "    fig.append_trace(trace2,1,2)\n",
    "    fig.append_trace(trace3,1,2)\n",
    "    fig.append_trace(trace4,2,1)\n",
    "    \n",
    "    fig['layout'].update(showlegend=False, title=\"Model performance\" ,\n",
    "                         autosize = False,height = 900,width = 800,\n",
    "                         plot_bgcolor = 'rgba(240,240,240, 0.95)',\n",
    "                         paper_bgcolor = 'rgba(240,240,240, 0.95)',\n",
    "                         margin = dict(b = 195))\n",
    "    fig[\"layout\"][\"xaxis2\"].update(dict(title = \"false positive rate\"))\n",
    "    fig[\"layout\"][\"yaxis2\"].update(dict(title = \"true positive rate\"))\n",
    "    fig[\"layout\"][\"xaxis3\"].update(dict(showgrid = True,tickfont = dict(size = 10),\n",
    "                                        tickangle = 90))\n",
    "    py.iplot(fig)\n",
    "    \n",
    "logit  = LogisticRegression(C=1.0, class_weight=None, dual=False, fit_intercept=True,\n",
    "          intercept_scaling=1, max_iter=100, multi_class='ovr', n_jobs=1,\n",
    "          penalty='l2', random_state=None, solver='liblinear', tol=0.0001,\n",
    "          verbose=0, warm_start=False)\n",
    "\n",
    "breast_cancer_prediction(logit,train_X,test_X,train_Y,test_Y,\n",
    "                         cols,\"coefficients\")\n",
    "\n",
    "\n",
    "# <b>Inferences</b><br>\n",
    "# <b>Confusion Matrix</b><br>\n",
    "# From the confusion matrix, we observe that the algorithm classifies 53 Malignant (True Positives) and 85 Benign instances (True Negatives) correctly while it classifies 4 benign tumors as malignant (False Positives) and 1 malignant tumor as benign (False Negative).\n",
    "# \n",
    "# <b>Receiver operating characteristic(ROC) Curve</b><br>\n",
    "# The ROC Area under the curve(AUC) score of 0.959 and the curve, both demonstrate how well the algorithm was able to classify the \n",
    "# records.\n",
    "# \n",
    "# <b>Feature Importance</b><br>\n",
    "# From the Feature Importance graph, we observe that features like Compactness, Symmetry and Fractal Dimension contribute towards the tumor being detected as malignant whereas features such as Radius, Area and Concavity contribute towards the tumor being detected as benign.  \n",
    "\n",
    "# # 2. Logistic Regression - Synthetic Minority Oversampling Technique (SMOTE)\n",
    "\n",
    "# In[11]:\n",
    "\n",
    "\n",
    "#Synthetic Minority Oversampling Technique (SMOTE)\n",
    "from imblearn.over_sampling import SMOTE\n",
    "\n",
    "cols    = [i for i in dataset.columns if i not in Id_col+target_col]\n",
    "\n",
    "smote_X = dataset[cols]\n",
    "smote_Y = dataset[target_col]\n",
    "\n",
    "#Split train and test data\n",
    "smote_train_X,smote_test_X,smote_train_Y,smote_test_Y = train_test_split(smote_X,smote_Y,\n",
    "                                                                         test_size = .25 ,\n",
    "                                                                         random_state = 111)\n",
    "\n",
    "#oversampling minority class using smote\n",
    "os = SMOTE(random_state = 0)\n",
    "os_smote_X,os_smote_Y = os.fit_sample(smote_train_X,smote_train_Y)\n",
    "os_smote_X = pd.DataFrame(data = os_smote_X,columns=cols)\n",
    "os_smote_Y = pd.DataFrame(data = os_smote_Y,columns=target_col)\n",
    "\n",
    "\n",
    "logit_smote = LogisticRegression(C=1.0, class_weight=None, dual=False, fit_intercept=True,\n",
    "          intercept_scaling=1, max_iter=100, multi_class='ovr', n_jobs=1,\n",
    "          penalty='l2', random_state=None, solver='liblinear', tol=0.0001,\n",
    "          verbose=0, warm_start=False)\n",
    "\n",
    "breast_cancer_prediction(logit_smote,os_smote_X,test_X,os_smote_Y,test_Y,cols,\"coefficients\")\n",
    "\n",
    "\n",
    "# <b>Inferences</b><br>\n",
    "# The Modifications made to the Logistic Regression Algorithm using SMOTE helped the classifier better classify the tumores which is evident from the higher accuracy<br>\n",
    "# <b>Confusion Matrix</b><br>\n",
    "# From the confusion matrix, we observe that the algorithm classifies 55 Malignant (True Positives) and 84 Benign instances (True Negatives) correctly while it classifies 2 benign tumors as malignant (False Positives) and 2 malignant tumor as benign (False Negative).\n",
    "# \n",
    "# <b>Receiver operating characteristic(ROC) Curve</b><br>\n",
    "# The ROC Area under the curve(AUC) score of 0.97 and the curve, both demonstrate how well the algorithm was able to classify the \n",
    "# records.\n",
    "# \n",
    "# <b>Feature Importance</b><br>\n",
    "# From the Feature Importance graph, we observe that features like Compactness, Symmetry and Fractal Dimension contribute towards the tumor being detected as malignant whereas features such as Radius, Area and Concavity contribute towards the tumor being detected as benign.  \n",
    "\n",
    "# # 3. K - Nearest Neighbors Classifier\n",
    "\n",
    "# In[12]:\n",
    "\n",
    "\n",
    "#KNN Classifier\n",
    "#Applying knn algorithm to SMOTE oversampled data.\n",
    "def breast_cancer_prediction_alg(algorithm,training_x,testing_x,training_y,testing_y) :\n",
    "    \n",
    "    #model\n",
    "    algorithm.fit(training_x,training_y)\n",
    "    predictions   = algorithm.predict(testing_x)\n",
    "    probabilities = algorithm.predict_proba(testing_x)\n",
    "    \n",
    "    print (algorithm)\n",
    "    print (\"\\n Classification report : \\n\",classification_report(testing_y,predictions))\n",
    "    print (\"Accuracy Score   : \",accuracy_score(testing_y,predictions))\n",
    "    \n",
    "    #confusion matrix\n",
    "    conf_matrix = confusion_matrix(testing_y,predictions)\n",
    "    \n",
    "    #roc_auc_score\n",
    "    model_roc_auc = roc_auc_score(testing_y,predictions) \n",
    "    print (\"Area under curve : \",model_roc_auc)\n",
    "    fpr,tpr,thresholds = roc_curve(testing_y,probabilities[:,1])\n",
    "     \n",
    "    #plot roc curve\n",
    "    trace1 = go.Scatter(x = fpr,y = tpr,\n",
    "                        name = \"Roc : \" + str(model_roc_auc),\n",
    "                        line = dict(color = ('rgb(22, 96, 167)'),width = 2),\n",
    "                       )\n",
    "    trace2 = go.Scatter(x = [0,1],y=[0,1],\n",
    "                        line = dict(color = ('rgb(205, 12, 24)'),width = 2,\n",
    "                        dash = 'dot'))\n",
    "    \n",
    "    #plot confusion matrix\n",
    "    trace3 = go.Heatmap(z = conf_matrix ,x = [\"Benign\",\"Malignant\"],\n",
    "                        y = [\"Benign\",\"Malignant\"],\n",
    "                        showscale  = False,colorscale = \"Burg\",name = \"matrix\",\n",
    "                        xaxis = \"x2\",yaxis = \"y2\"\n",
    "                       )\n",
    "    \n",
    "    layout = go.Layout(dict(title=\"Model performance\" ,\n",
    "                            autosize = False,height = 500,width = 800,\n",
    "                            showlegend = False,\n",
    "                            plot_bgcolor  = \"rgb(243,243,243)\",\n",
    "                            paper_bgcolor = \"rgb(243,243,243)\",\n",
    "                            xaxis = dict(title = \"false positive rate\",\n",
    "                                         gridcolor = 'rgb(255, 255, 255)',\n",
    "                                         domain=[0, 0.6],\n",
    "                                         ticklen=5,gridwidth=2),\n",
    "                            yaxis = dict(title = \"true positive rate\",\n",
    "                                         gridcolor = 'rgb(255, 255, 255)',\n",
    "                                         zerolinewidth=1,\n",
    "                                         ticklen=5,gridwidth=2),\n",
    "                            margin = dict(b=200),\n",
    "                            xaxis2=dict(domain=[0.7, 1],tickangle = 90,\n",
    "                                        gridcolor = 'rgb(255, 255, 255)'),\n",
    "                            yaxis2=dict(anchor='x2',gridcolor = 'rgb(255, 255, 255)')\n",
    "                           )\n",
    "                  )\n",
    "    data = [trace1,trace2,trace3]\n",
    "    fig = go.Figure(data=data,layout=layout)\n",
    "    py.iplot(fig)\n",
    "    \n",
    "from sklearn.neighbors import KNeighborsClassifier\n",
    "knn = KNeighborsClassifier(algorithm='auto', leaf_size=30, metric='minkowski',\n",
    "           metric_params=None, n_jobs=1, n_neighbors=5, p=2,\n",
    "           weights='uniform')\n",
    "\n",
    "breast_cancer_prediction_alg(knn,os_smote_X,test_X,os_smote_Y,test_Y)\n",
    "\n",
    "\n",
    "# <b>Inferences</b><br>\n",
    "# <b>Confusion Matrix</b><br>\n",
    "# From the confusion matrix, we observe that the algorithm classifies 56 Malignant (True Positives) and 83 Benign instances (True Negatives) correctly while it classifies 1 benign tumors as malignant (False Positives) and 3 malignant tumor as benign (False Negative).\n",
    "# \n",
    "# <b>Receiver operating characteristic(ROC) Curve</b><br>\n",
    "# The ROC Area under the curve(AUC) score of 0.973 and the curve, both demonstrate how well the algorithm was able to classify the \n",
    "# records.\n",
    "\n",
    "# # 4. Naive Bayes Classifier\n",
    "\n",
    "# In[13]:\n",
    "\n",
    "\n",
    "#Gaussian Naive Bayes.\n",
    "from sklearn.naive_bayes import GaussianNB\n",
    "gnb = GaussianNB(priors=None)\n",
    "\n",
    "breast_cancer_prediction_alg(gnb,os_smote_X,test_X,os_smote_Y,test_Y)\n",
    "\n",
    "\n",
    "# <b>Inferences</b><br>\n",
    "# <b>Confusion Matrix</b><br>\n",
    "# From the confusion matrix, we observe that the algorithm classifies 55 Malignant (True Positives) and 82 Benign instances (True Negatives) correctly while it classifies 2 benign tumors as malignant (False Positives) and 4 malignant tumor as benign (False Negative).\n",
    "# \n",
    "# <b>Receiver operating characteristic(ROC) Curve</b><br>\n",
    "# The ROC Area under the curve(AUC) score of 0.959 and the curve, both demonstrate how well the algorithm was able to classify the \n",
    "# records.\n",
    "\n",
    "# # 5. Support Vector Machine\n",
    "\n",
    "# In[14]:\n",
    "\n",
    "\n",
    "#Support Vector Machine\n",
    "from sklearn.svm import SVC\n",
    "\n",
    "#Using linear hyper plane\n",
    "svc_lin  = SVC(C=1.0, cache_size=200, class_weight=None, coef0=0.0,\n",
    "               decision_function_shape='ovr', degree=3, gamma=1.0, kernel='linear',\n",
    "               max_iter=-1, probability=True, random_state=None, shrinking=True,\n",
    "               tol=0.001, verbose=False)\n",
    "\n",
    "cols = [i for i in dataset.columns if i not in Id_col + target_col]\n",
    "breast_cancer_prediction(svc_lin,os_smote_X,test_X,os_smote_Y,test_Y,cols,\"coefficients\")\n",
    "\n",
    "\n",
    "# <b>Inferences</b><br>\n",
    "# <b>Confusion Matrix</b><br>\n",
    "# From the confusion matrix, we observe that the algorithm classifies 53 Malignant (True Positives) and 85 Benign instances (True Negatives) correctly while it classifies 4 benign tumors as malignant (False Positives) and 1 malignant tumor as benign (False Negative).\n",
    "# \n",
    "# <b>Receiver operating characteristic(ROC) Curve</b><br>\n",
    "# The ROC Area under the curve(AUC) score of 0.959 and the curve, both demonstrate how well the algorithm was able to classify the \n",
    "# records.\n",
    "# \n",
    "# <b>Feature Importance</b><br>\n",
    "# From the Feature Importance graph, we observe that features like Compactness, Symmetry and Fractal Dimension contribute towards the tumor being detected as malignant whereas features such as Radius, Area and Concavity contribute towards the tumor being detected as benign.  \n",
    "\n",
    "# # 6. LightGBM Classifier\n",
    "\n",
    "# In[15]:\n",
    "\n",
    "\n",
    "#LightGBMClassifier\n",
    "from lightgbm import LGBMClassifier\n",
    "\n",
    "lgbm_c = LGBMClassifier(boosting_type='gbdt', class_weight=None, colsample_bytree=1.0,\n",
    "                        learning_rate=0.5, max_depth=7, min_child_samples=20,\n",
    "                        min_child_weight=0.001, min_split_gain=0.0, n_estimators=100,\n",
    "                        n_jobs=-1, num_leaves=500, objective='binary', random_state=None,\n",
    "                        reg_alpha=0.0, reg_lambda=0.0, silent=True, subsample=1.0,\n",
    "                        subsample_for_bin=200000, subsample_freq=0)\n",
    "\n",
    "cols = [i for i in dataset.columns if i not in Id_col + target_col]\n",
    "breast_cancer_prediction(lgbm_c,os_smote_X,test_X,os_smote_Y,test_Y,cols,\"features\")\n",
    "\n",
    "\n",
    "# <b>Inferences</b><br>\n",
    "# <b>Confusion Matrix</b><br>\n",
    "# From the confusion matrix, we observe that the algorithm classifies 56 Malignant (True Positives) and 84 Benign instances (True Negatives) correctly while it classifies 1 benign tumor as malignant (False Positives) and 2 malignant tumor as benign (False Negative).\n",
    "# \n",
    "# <b>Receiver operating characteristic(ROC) Curve</b><br>\n",
    "# The ROC Area under the curve(AUC) score of 0.979 and the curve, both demonstrate how well the algorithm was able to classify the \n",
    "# records.\n",
    "# \n",
    "# <b>Feature Importance</b><br>\n",
    "# From the Feature Importance graph, we observe that features like Compactness, Symmetry and Fractal Dimension contribute towards the tumor being detected as malignant whereas features such as Radius, Area and Concavity contribute towards the tumor being detected as benign.  \n",
    "\n",
    "# # Model Performances\n",
    "\n",
    "# In[16]:\n",
    "\n",
    "\n",
    "#Model Performances\n",
    "from sklearn.metrics import f1_score\n",
    "from sklearn.metrics import cohen_kappa_score\n",
    "\n",
    "#gives model report in dataframe\n",
    "def model_report(model,training_x,testing_x,training_y,testing_y,name) :\n",
    "    model.fit(training_x,training_y)\n",
    "    predictions  = model.predict(testing_x)\n",
    "    accuracy     = accuracy_score(testing_y,predictions)\n",
    "    recallscore  = recall_score(testing_y,predictions)\n",
    "    precision    = precision_score(testing_y,predictions)\n",
    "    roc_auc      = roc_auc_score(testing_y,predictions)\n",
    "    f1score      = f1_score(testing_y,predictions) \n",
    "    kappa_metric = cohen_kappa_score(testing_y,predictions)\n",
    "    \n",
    "    df = pd.DataFrame({\"Model\"           : [name],\n",
    "                       \"Accuracy_score\"  : [accuracy],\n",
    "                       \"Recall_score\"    : [recallscore],\n",
    "                       \"Precision\"       : [precision],\n",
    "                       \"f1_score\"        : [f1score],\n",
    "                       \"Area_under_curve\": [roc_auc],\n",
    "                       \"Kappa_metric\"    : [kappa_metric],\n",
    "                      })\n",
    "    return df\n",
    "\n",
    "#outputs for every model\n",
    "model1 = model_report(logit,train_X,test_X,train_Y,test_Y,\n",
    "                      \"Logistic Regression  \")\n",
    "model2 = model_report(logit_smote,os_smote_X,test_X,os_smote_Y,test_Y,\n",
    "                      \"Log.R - SMOTE  \")\n",
    "model3 = model_report(knn,os_smote_X,test_X,os_smote_Y,test_Y,\n",
    "                      \"KNN Classifier  \")\n",
    "model4 = model_report(gnb,os_smote_X,test_X,os_smote_Y,test_Y,\n",
    "                     \"Naive Bayes Classifier  \")\n",
    "model5 = model_report(svc_lin,os_smote_X,test_X,os_smote_Y,test_Y,\n",
    "                      \"SVM Classifier  \")\n",
    "model6 = model_report(lgbm_c,os_smote_X,test_X,os_smote_Y,test_Y,\n",
    "                      \"LGBM Classifier  \")\n",
    "\n",
    "#concat all models\n",
    "model_performances = pd.concat([model1,model2,model3,model4,model5,model6],axis = 0).reset_index()\n",
    "model_performances = model_performances.drop(columns = \"index\",axis =1)\n",
    "\n",
    "table  = ff.create_table(np.round(model_performances,3))\n",
    "py.iplot(table)\n",
    "\n",
    "\n",
    "# <b>Metric - Highest - Lowest</b>\n",
    "# <br>Accuracy - LGBM Classifier - Naive Bayes Classifier\n",
    "# <br>Recall - LGBM Classifier - Logistic Regression / SVM Classifier\n",
    "# <br>Precision - Logistic Regression & SVM Classifier - Naive Bayes Classifier\n",
    "# <br>F1 Score - LGBM Classifier - Naive Bayes Classifier\n",
    "# <br>Area Under Curve - LGBM Classifier - Logistic Regression / Naive Bayes / SVM Classifier\n",
    "# <br>Kappa Metric - LGBM Classifier - Naive Bayes Classifier\n",
    "\n",
    "# In[17]:\n",
    "\n",
    "\n",
    "#Compare model metrics\n",
    "def output_tracer(metric,color) :\n",
    "    tracer = go.Bar(y = model_performances[\"Model\"] ,\n",
    "                    x = model_performances[metric],\n",
    "                    orientation = \"h\", name = metric ,\n",
    "                    marker = dict(line = dict(width =.7),\n",
    "                                  color = color)\n",
    "                   )\n",
    "    return tracer\n",
    "\n",
    "layout = go.Layout(dict(title = \"Model performances\",\n",
    "                        plot_bgcolor  = \"rgb(243,243,243)\",\n",
    "                        paper_bgcolor = \"rgb(243,243,243)\",\n",
    "                        xaxis = dict(gridcolor = 'rgb(255, 255, 255)',\n",
    "                                     title = \"metric\",\n",
    "                                     zerolinewidth=1,\n",
    "                                     ticklen=5,gridwidth=2),\n",
    "                        yaxis = dict(gridcolor = 'rgb(255, 255, 255)',\n",
    "                                     zerolinewidth=1,ticklen=5,gridwidth=2),\n",
    "                        margin = dict(l = 250),\n",
    "                        height = 780\n",
    "                       )\n",
    "                  )\n",
    "\n",
    "trace1  = output_tracer(\"Accuracy_score\",\"#FF96A7\")\n",
    "trace2  = output_tracer('Recall_score',\"#FFD5DC\")\n",
    "trace3  = output_tracer('Precision',\"#8D8284\")\n",
    "trace4  = output_tracer('f1_score',\"#663C43\")\n",
    "trace5  = output_tracer('Kappa_metric',\"#1A0F11\")\n",
    "\n",
    "data = [trace1,trace2,trace3,trace4,trace5]\n",
    "fig = go.Figure(data=data,layout=layout)\n",
    "py.iplot(fig)\n",
    "\n"
   ]
  },
  {
   "cell_type": "code",
   "execution_count": null,
   "id": "b3dd0940",
   "metadata": {},
   "outputs": [],
   "source": []
  }
 ],
 "metadata": {
  "kernelspec": {
   "display_name": "Python 3 (ipykernel)",
   "language": "python",
   "name": "python3"
  },
  "language_info": {
   "codemirror_mode": {
    "name": "ipython",
    "version": 3
   },
   "file_extension": ".py",
   "mimetype": "text/x-python",
   "name": "python",
   "nbconvert_exporter": "python",
   "pygments_lexer": "ipython3",
   "version": "3.9.12"
  }
 },
 "nbformat": 4,
 "nbformat_minor": 5
}
