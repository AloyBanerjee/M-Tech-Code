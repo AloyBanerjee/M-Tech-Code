{
 "cells": [
  {
   "cell_type": "code",
   "execution_count": 4,
   "id": "149bec00",
   "metadata": {},
   "outputs": [],
   "source": [
    "#Import library \n",
    "import numpy as np \n",
    "import pandas as pd\n",
    "import matplotlib.pyplot as plt\n",
    "import seaborn as sns\n",
    "import os\n",
    "import math\n",
    "from sklearn.cluster import KMeans, AgglomerativeClustering, SpectralClustering\n",
    "from sklearn.metrics import rand_score, silhouette_score, accuracy_score, adjusted_rand_score\n",
    "from scipy.cluster.hierarchy import linkage, dendrogram, fcluster\n",
    "\n",
    "import umap.umap_ as umap\n",
    "from sklearn.manifold import TSNE\n",
    "\n",
    "import warnings\n",
    "warnings.filterwarnings('ignore')\n",
    "\n",
    "sns.set(context=\"notebook\", palette=\"viridis\", style=\"darkgrid\", font_scale=1.0, color_codes=True,rc={'figure.figsize':(14,10)})"
   ]
  },
  {
   "cell_type": "code",
   "execution_count": 5,
   "id": "3bf3dfbe",
   "metadata": {},
   "outputs": [],
   "source": [
    "workingDir = 'E:\\\\Document\\\\M-Tech\\\\M-Tech Class\\\\2nd Trimester\\\\Assignment\\\\AI Lab\\\\Assignment 5\\\\Datasets'\n",
    "dataset_fileName = '20.csv'\n",
    "random_state = 42\n",
    "cluster = 3"
   ]
  },
  {
   "cell_type": "code",
   "execution_count": 63,
   "id": "af958934",
   "metadata": {},
   "outputs": [],
   "source": [
    "def get_num_clusters(input_data, linkage_method, distance_metric):\n",
    "    '''# Define a function to calculate the number of clusters for each\n",
    "    combination of linkage method and distance metric''' \n",
    "    agg_clustering = AgglomerativeClustering(linkage=linkage_method,distance_threshold = 0.1)\n",
    "    agg_clustering.fit(input_data)\n",
    "\n",
    "    # Get the number of clusters\n",
    "    n_clusters = agg_clustering.n_clusters_\n",
    "    return n_clusters\n",
    "    \n",
    "\n",
    "\n",
    "def evaluation_hierarchical_cluster(input_data, linkage_method, distance_metric, dataset,clusters=3):\n",
    "    '''Evaluation of hierarchical clustering'''\n",
    "    print(f'============Linkage method: {linkage_method}, Distance metric: {distance_metric}============')\n",
    "    linkage_init = linkage(input_data, method=linkage_method, metric=distance_metric)\n",
    "    y_pred_hierarchical = pd.Series(fcluster(linkage_init, t=clusters, criterion='maxclust'), index=dataset.index) \n",
    "    \n",
    "    clust_agglo = AgglomerativeClustering(n_clusters=None, metric = distance_metric, linkage = linkage_method, distance_threshold = 0.1)\n",
    "    y_pred_agglo_hierarchical = clust_agglo.fit_predict(input_data, dataset[\"y\"])\n",
    "    \n",
    "    print('Hierarchical Clustering using fcluster:')\n",
    "    print(f'Accuracy Score: {accuracy_score(dataset[\"y\"], y_pred_hierarchical):.4f}')\n",
    "    print(f'Silhouette score: {silhouette_score(input_data, y_pred_hierarchical):.4f}')\n",
    "    print(f'Adjusted Rand score: {adjusted_rand_score(dataset[\"y\"], y_pred_hierarchical):.4f}') \n",
    "    print(f'Rand score: {rand_score(dataset[\"y\"], y_pred_hierarchical):.4f}') \n",
    "    \n",
    "    print('Hierarchical Clustering using Agglomerative Clustering:')\n",
    "    print(f'Accuracy Score: {accuracy_score(dataset[\"y\"], y_pred_agglo_hierarchical):.4f}')\n",
    "    print(f'Silhouette score: {silhouette_score(input_data, y_pred_agglo_hierarchical):.4f}')\n",
    "    print(f'Adjusted Rand score: {adjusted_rand_score(dataset[\"y\"], y_pred_agglo_hierarchical):.4f}') \n",
    "    print(f'Rand score: {rand_score(dataset[\"y\"], y_pred_agglo_hierarchical):.4f}') \n",
    "\n",
    "def evaluation_spectral_cluster(input_data, dataset, clusters=3, neighbors=10, random_state=42, affinity='nearest_neighbors'):\n",
    "    '''Evaluation of spectral clustering'''    \n",
    "    spectral = SpectralClustering(n_clusters=clusters, affinity=affinity, n_neighbors=neighbors, random_state=random_state)\n",
    "    y_pred_spectral = spectral.fit_predict(input_data)\n",
    "    print('Spectral Clustering:')\n",
    "    print(f'Accuracy Score: {accuracy_score(dataset[\"y\"], y_pred_spectral):.4f}')\n",
    "    print(f'Silhouette score: {silhouette_score(input_data, y_pred_spectral):.4f}')\n",
    "    print(f'Adjusted Rand score: {adjusted_rand_score(dataset[\"y\"], y_pred_spectral):.4f}')\n",
    "    print(f'Rand score: {rand_score(dataset[\"y\"], y_pred_spectral):.4f}')\n",
    "    \n",
    "def plotUMAPGraph(data,output_data, title, pallet_name,n_neighbors,min_dist,metric_val):\n",
    "    '''Plot UMAP graph'''\n",
    "    plt.figure(figsize=(10, 5))\n",
    "    sns.scatterplot(\n",
    "        x=data[:, 0], y=data[:, 1],\n",
    "        hue= output_data,\n",
    "        palette=sns.color_palette(pallet_name, len(np.unique(output_data))),\n",
    "        legend=\"full\",\n",
    "        alpha=0.3\n",
    "    )\n",
    "    plt.title(f'{title} : neighbour: {n_neighbors}, metric : {metric_val} & minimum distance: {min_dist}')\n",
    "    plt.show()\n",
    "              \n",
    "def plotTSNEGraph(data,output_data, title, pallet_name,perplexity):\n",
    "    '''Plot TSNE graph'''\n",
    "    plt.figure(figsize=(10, 5))\n",
    "    sns.scatterplot(\n",
    "        x=data[:, 0], y=data[:, 1],\n",
    "        hue= output_data,\n",
    "        palette=sns.color_palette(pallet_name, len(np.unique(output_data))),\n",
    "        legend=\"full\",\n",
    "        alpha=0.3\n",
    "    )\n",
    "    plt.title(f'{title} : perplexity: {perplexity}')\n",
    "    plt.show()"
   ]
  },
  {
   "cell_type": "code",
   "execution_count": 59,
   "id": "d84b28f9",
   "metadata": {},
   "outputs": [],
   "source": [
    "#Change the working directory \n",
    "os.chdir(workingDir)\n",
    "#Load the data\n",
    "dataset = pd.read_csv(dataset_fileName)"
   ]
  },
  {
   "cell_type": "code",
   "execution_count": 60,
   "id": "d49e5e0c",
   "metadata": {},
   "outputs": [],
   "source": [
    "input_data = dataset.drop('y', axis=1)\n",
    "output_data = dataset['y']"
   ]
  },
  {
   "cell_type": "code",
   "execution_count": 61,
   "id": "c962965a",
   "metadata": {},
   "outputs": [],
   "source": [
    "# List of linkage methods and distance metrics  '\n",
    "linkage_methods = ['average', 'complete', 'ward', 'single']\n",
    "distance_metrics = ['manhattan', 'cosine', 'euclidean']\n"
   ]
  },
  {
   "cell_type": "code",
   "execution_count": 64,
   "id": "cf37eef4",
   "metadata": {},
   "outputs": [
    {
     "ename": "ValueError",
     "evalue": "Exactly one of n_clusters and distance_threshold has to be set, and the other needs to be None.",
     "output_type": "error",
     "traceback": [
      "\u001b[1;31m---------------------------------------------------------------------------\u001b[0m",
      "\u001b[1;31mValueError\u001b[0m                                Traceback (most recent call last)",
      "Cell \u001b[1;32mIn[64], line 4\u001b[0m\n\u001b[0;32m      2\u001b[0m \u001b[38;5;28;01mfor\u001b[39;00m linkage_method \u001b[38;5;129;01min\u001b[39;00m linkage_methods:\n\u001b[0;32m      3\u001b[0m     \u001b[38;5;28;01mfor\u001b[39;00m distance_metric \u001b[38;5;129;01min\u001b[39;00m distance_metrics:\n\u001b[1;32m----> 4\u001b[0m         num_clusters \u001b[38;5;241m=\u001b[39m \u001b[43mget_num_clusters\u001b[49m\u001b[43m(\u001b[49m\u001b[43minput_data\u001b[49m\u001b[43m,\u001b[49m\u001b[43m \u001b[49m\u001b[43mlinkage_method\u001b[49m\u001b[43m,\u001b[49m\u001b[43m \u001b[49m\u001b[43mdistance_metric\u001b[49m\u001b[43m)\u001b[49m\n\u001b[0;32m      5\u001b[0m         \u001b[38;5;28mprint\u001b[39m(\u001b[38;5;124mf\u001b[39m\u001b[38;5;124m'\u001b[39m\u001b[38;5;124mLinkage method: \u001b[39m\u001b[38;5;132;01m{\u001b[39;00mlinkage_method\u001b[38;5;132;01m}\u001b[39;00m\u001b[38;5;124m, Distance metric: \u001b[39m\u001b[38;5;132;01m{\u001b[39;00mdistance_metric\u001b[38;5;132;01m}\u001b[39;00m\u001b[38;5;124m, Number of clusters: \u001b[39m\u001b[38;5;132;01m{\u001b[39;00mnum_clusters\u001b[38;5;132;01m}\u001b[39;00m\u001b[38;5;124m'\u001b[39m)\n",
      "Cell \u001b[1;32mIn[63], line 5\u001b[0m, in \u001b[0;36mget_num_clusters\u001b[1;34m(input_data, linkage_method, distance_metric)\u001b[0m\n\u001b[0;32m      2\u001b[0m \u001b[38;5;124;03m'''# Define a function to calculate the number of clusters for each\u001b[39;00m\n\u001b[0;32m      3\u001b[0m \u001b[38;5;124;03mcombination of linkage method and distance metric'''\u001b[39;00m \n\u001b[0;32m      4\u001b[0m agg_clustering \u001b[38;5;241m=\u001b[39m AgglomerativeClustering(linkage\u001b[38;5;241m=\u001b[39mlinkage_method,distance_threshold \u001b[38;5;241m=\u001b[39m \u001b[38;5;241m0.1\u001b[39m)\n\u001b[1;32m----> 5\u001b[0m \u001b[43magg_clustering\u001b[49m\u001b[38;5;241;43m.\u001b[39;49m\u001b[43mfit\u001b[49m\u001b[43m(\u001b[49m\u001b[43minput_data\u001b[49m\u001b[43m)\u001b[49m\n\u001b[0;32m      7\u001b[0m \u001b[38;5;66;03m# Get the number of clusters\u001b[39;00m\n\u001b[0;32m      8\u001b[0m n_clusters \u001b[38;5;241m=\u001b[39m agg_clustering\u001b[38;5;241m.\u001b[39mn_clusters_\n",
      "File \u001b[1;32m~\\AppData\\Roaming\\Python\\Python39\\site-packages\\sklearn\\cluster\\_agglomerative.py:956\u001b[0m, in \u001b[0;36mAgglomerativeClustering.fit\u001b[1;34m(self, X, y)\u001b[0m\n\u001b[0;32m    954\u001b[0m \u001b[38;5;28mself\u001b[39m\u001b[38;5;241m.\u001b[39m_validate_params()\n\u001b[0;32m    955\u001b[0m X \u001b[38;5;241m=\u001b[39m \u001b[38;5;28mself\u001b[39m\u001b[38;5;241m.\u001b[39m_validate_data(X, ensure_min_samples\u001b[38;5;241m=\u001b[39m\u001b[38;5;241m2\u001b[39m)\n\u001b[1;32m--> 956\u001b[0m \u001b[38;5;28;01mreturn\u001b[39;00m \u001b[38;5;28;43mself\u001b[39;49m\u001b[38;5;241;43m.\u001b[39;49m\u001b[43m_fit\u001b[49m\u001b[43m(\u001b[49m\u001b[43mX\u001b[49m\u001b[43m)\u001b[49m\n",
      "File \u001b[1;32m~\\AppData\\Roaming\\Python\\Python39\\site-packages\\sklearn\\cluster\\_agglomerative.py:993\u001b[0m, in \u001b[0;36mAgglomerativeClustering._fit\u001b[1;34m(self, X)\u001b[0m\n\u001b[0;32m    990\u001b[0m     \u001b[38;5;28mself\u001b[39m\u001b[38;5;241m.\u001b[39m_metric \u001b[38;5;241m=\u001b[39m \u001b[38;5;124m\"\u001b[39m\u001b[38;5;124meuclidean\u001b[39m\u001b[38;5;124m\"\u001b[39m\n\u001b[0;32m    992\u001b[0m \u001b[38;5;28;01mif\u001b[39;00m \u001b[38;5;129;01mnot\u001b[39;00m ((\u001b[38;5;28mself\u001b[39m\u001b[38;5;241m.\u001b[39mn_clusters \u001b[38;5;129;01mis\u001b[39;00m \u001b[38;5;28;01mNone\u001b[39;00m) \u001b[38;5;241m^\u001b[39m (\u001b[38;5;28mself\u001b[39m\u001b[38;5;241m.\u001b[39mdistance_threshold \u001b[38;5;129;01mis\u001b[39;00m \u001b[38;5;28;01mNone\u001b[39;00m)):\n\u001b[1;32m--> 993\u001b[0m     \u001b[38;5;28;01mraise\u001b[39;00m \u001b[38;5;167;01mValueError\u001b[39;00m(\n\u001b[0;32m    994\u001b[0m         \u001b[38;5;124m\"\u001b[39m\u001b[38;5;124mExactly one of n_clusters and \u001b[39m\u001b[38;5;124m\"\u001b[39m\n\u001b[0;32m    995\u001b[0m         \u001b[38;5;124m\"\u001b[39m\u001b[38;5;124mdistance_threshold has to be set, and the other \u001b[39m\u001b[38;5;124m\"\u001b[39m\n\u001b[0;32m    996\u001b[0m         \u001b[38;5;124m\"\u001b[39m\u001b[38;5;124mneeds to be None.\u001b[39m\u001b[38;5;124m\"\u001b[39m\n\u001b[0;32m    997\u001b[0m     )\n\u001b[0;32m    999\u001b[0m \u001b[38;5;28;01mif\u001b[39;00m \u001b[38;5;28mself\u001b[39m\u001b[38;5;241m.\u001b[39mdistance_threshold \u001b[38;5;129;01mis\u001b[39;00m \u001b[38;5;129;01mnot\u001b[39;00m \u001b[38;5;28;01mNone\u001b[39;00m \u001b[38;5;129;01mand\u001b[39;00m \u001b[38;5;129;01mnot\u001b[39;00m \u001b[38;5;28mself\u001b[39m\u001b[38;5;241m.\u001b[39mcompute_full_tree:\n\u001b[0;32m   1000\u001b[0m     \u001b[38;5;28;01mraise\u001b[39;00m \u001b[38;5;167;01mValueError\u001b[39;00m(\n\u001b[0;32m   1001\u001b[0m         \u001b[38;5;124m\"\u001b[39m\u001b[38;5;124mcompute_full_tree must be True if distance_threshold is set.\u001b[39m\u001b[38;5;124m\"\u001b[39m\n\u001b[0;32m   1002\u001b[0m     )\n",
      "\u001b[1;31mValueError\u001b[0m: Exactly one of n_clusters and distance_threshold has to be set, and the other needs to be None."
     ]
    }
   ],
   "source": [
    "# Calculate the number of clusters for each combination of linkage method and distance metric\n",
    "for linkage_method in linkage_methods:\n",
    "    for distance_metric in distance_metrics:\n",
    "        num_clusters = get_num_clusters(input_data, linkage_method, distance_metric)\n",
    "        print(f'Linkage method: {linkage_method}, Distance metric: {distance_metric}, Number of clusters: {num_clusters}')\n",
    "        "
   ]
  },
  {
   "cell_type": "code",
   "execution_count": null,
   "id": "b499a1eb",
   "metadata": {},
   "outputs": [],
   "source": [
    "\n"
   ]
  },
  {
   "cell_type": "code",
   "execution_count": null,
   "id": "c09f5833",
   "metadata": {},
   "outputs": [],
   "source": []
  },
  {
   "cell_type": "code",
   "execution_count": null,
   "id": "efebe251",
   "metadata": {},
   "outputs": [],
   "source": []
  },
  {
   "cell_type": "code",
   "execution_count": null,
   "id": "93834dd0",
   "metadata": {},
   "outputs": [],
   "source": []
  },
  {
   "cell_type": "code",
   "execution_count": null,
   "id": "11b42194",
   "metadata": {},
   "outputs": [],
   "source": []
  },
  {
   "cell_type": "code",
   "execution_count": null,
   "id": "9b70c932",
   "metadata": {},
   "outputs": [],
   "source": []
  },
  {
   "cell_type": "code",
   "execution_count": null,
   "id": "925435f0",
   "metadata": {},
   "outputs": [],
   "source": [
    ", "
   ]
  }
 ],
 "metadata": {
  "kernelspec": {
   "display_name": "Python 3 (ipykernel)",
   "language": "python",
   "name": "python3"
  },
  "language_info": {
   "codemirror_mode": {
    "name": "ipython",
    "version": 3
   },
   "file_extension": ".py",
   "mimetype": "text/x-python",
   "name": "python",
   "nbconvert_exporter": "python",
   "pygments_lexer": "ipython3",
   "version": "3.9.16"
  }
 },
 "nbformat": 4,
 "nbformat_minor": 5
}
