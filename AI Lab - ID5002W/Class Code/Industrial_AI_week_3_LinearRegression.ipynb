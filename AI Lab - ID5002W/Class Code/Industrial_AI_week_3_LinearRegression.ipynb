{
 "cells": [
  {
   "cell_type": "code",
   "execution_count": 1,
   "metadata": {},
   "outputs": [],
   "source": [
    "#Import packages\n",
    "import numpy as np\n",
    "import matplotlib.pyplot as plt\n",
    "import pandas as pd\n",
    "import math\n",
    "from sklearn import datasets\n",
    "from sklearn.linear_model import LinearRegression"
   ]
  },
  {
   "cell_type": "markdown",
   "metadata": {},
   "source": [
    "# Data Processing and Visualization"
   ]
  },
  {
   "cell_type": "code",
   "execution_count": 2,
   "metadata": {},
   "outputs": [
    {
     "data": {
      "text/html": [
       "<div>\n",
       "<style scoped>\n",
       "    .dataframe tbody tr th:only-of-type {\n",
       "        vertical-align: middle;\n",
       "    }\n",
       "\n",
       "    .dataframe tbody tr th {\n",
       "        vertical-align: top;\n",
       "    }\n",
       "\n",
       "    .dataframe thead th {\n",
       "        text-align: right;\n",
       "    }\n",
       "</style>\n",
       "<table border=\"1\" class=\"dataframe\">\n",
       "  <thead>\n",
       "    <tr style=\"text-align: right;\">\n",
       "      <th></th>\n",
       "      <th>age</th>\n",
       "      <th>sex</th>\n",
       "      <th>bmi</th>\n",
       "      <th>bp</th>\n",
       "      <th>s1</th>\n",
       "      <th>s2</th>\n",
       "      <th>s3</th>\n",
       "      <th>s4</th>\n",
       "      <th>s5</th>\n",
       "      <th>s6</th>\n",
       "    </tr>\n",
       "  </thead>\n",
       "  <tbody>\n",
       "    <tr>\n",
       "      <th>0</th>\n",
       "      <td>0.038076</td>\n",
       "      <td>0.050680</td>\n",
       "      <td>0.061696</td>\n",
       "      <td>0.021872</td>\n",
       "      <td>-0.044223</td>\n",
       "      <td>-0.034821</td>\n",
       "      <td>-0.043401</td>\n",
       "      <td>-0.002592</td>\n",
       "      <td>0.019908</td>\n",
       "      <td>-0.017646</td>\n",
       "    </tr>\n",
       "    <tr>\n",
       "      <th>1</th>\n",
       "      <td>-0.001882</td>\n",
       "      <td>-0.044642</td>\n",
       "      <td>-0.051474</td>\n",
       "      <td>-0.026328</td>\n",
       "      <td>-0.008449</td>\n",
       "      <td>-0.019163</td>\n",
       "      <td>0.074412</td>\n",
       "      <td>-0.039493</td>\n",
       "      <td>-0.068330</td>\n",
       "      <td>-0.092204</td>\n",
       "    </tr>\n",
       "    <tr>\n",
       "      <th>2</th>\n",
       "      <td>0.085299</td>\n",
       "      <td>0.050680</td>\n",
       "      <td>0.044451</td>\n",
       "      <td>-0.005671</td>\n",
       "      <td>-0.045599</td>\n",
       "      <td>-0.034194</td>\n",
       "      <td>-0.032356</td>\n",
       "      <td>-0.002592</td>\n",
       "      <td>0.002864</td>\n",
       "      <td>-0.025930</td>\n",
       "    </tr>\n",
       "    <tr>\n",
       "      <th>3</th>\n",
       "      <td>-0.089063</td>\n",
       "      <td>-0.044642</td>\n",
       "      <td>-0.011595</td>\n",
       "      <td>-0.036656</td>\n",
       "      <td>0.012191</td>\n",
       "      <td>0.024991</td>\n",
       "      <td>-0.036038</td>\n",
       "      <td>0.034309</td>\n",
       "      <td>0.022692</td>\n",
       "      <td>-0.009362</td>\n",
       "    </tr>\n",
       "    <tr>\n",
       "      <th>4</th>\n",
       "      <td>0.005383</td>\n",
       "      <td>-0.044642</td>\n",
       "      <td>-0.036385</td>\n",
       "      <td>0.021872</td>\n",
       "      <td>0.003935</td>\n",
       "      <td>0.015596</td>\n",
       "      <td>0.008142</td>\n",
       "      <td>-0.002592</td>\n",
       "      <td>-0.031991</td>\n",
       "      <td>-0.046641</td>\n",
       "    </tr>\n",
       "  </tbody>\n",
       "</table>\n",
       "</div>"
      ],
      "text/plain": [
       "        age       sex       bmi        bp        s1        s2        s3  \\\n",
       "0  0.038076  0.050680  0.061696  0.021872 -0.044223 -0.034821 -0.043401   \n",
       "1 -0.001882 -0.044642 -0.051474 -0.026328 -0.008449 -0.019163  0.074412   \n",
       "2  0.085299  0.050680  0.044451 -0.005671 -0.045599 -0.034194 -0.032356   \n",
       "3 -0.089063 -0.044642 -0.011595 -0.036656  0.012191  0.024991 -0.036038   \n",
       "4  0.005383 -0.044642 -0.036385  0.021872  0.003935  0.015596  0.008142   \n",
       "\n",
       "         s4        s5        s6  \n",
       "0 -0.002592  0.019908 -0.017646  \n",
       "1 -0.039493 -0.068330 -0.092204  \n",
       "2 -0.002592  0.002864 -0.025930  \n",
       "3  0.034309  0.022692 -0.009362  \n",
       "4 -0.002592 -0.031991 -0.046641  "
      ]
     },
     "execution_count": 2,
     "metadata": {},
     "output_type": "execute_result"
    }
   ],
   "source": [
    "# Load the diabetes dataset\n",
    "diabetes_X, diabetes_y = datasets.load_diabetes(return_X_y=True,as_frame=True)\n",
    "diabetes_X.head()"
   ]
  },
  {
   "cell_type": "code",
   "execution_count": 3,
   "metadata": {},
   "outputs": [
    {
     "data": {
      "text/plain": [
       "0      151.0\n",
       "1       75.0\n",
       "2      141.0\n",
       "3      206.0\n",
       "4      135.0\n",
       "       ...  \n",
       "437    178.0\n",
       "438    104.0\n",
       "439    132.0\n",
       "440    220.0\n",
       "441     57.0\n",
       "Name: target, Length: 442, dtype: float64"
      ]
     },
     "execution_count": 3,
     "metadata": {},
     "output_type": "execute_result"
    }
   ],
   "source": [
    "diabetes_y"
   ]
  },
  {
   "cell_type": "code",
   "execution_count": 4,
   "metadata": {},
   "outputs": [],
   "source": [
    "# Assign variables\n",
    "X = diabetes_X['bmi']\n",
    "y = diabetes_y"
   ]
  },
  {
   "cell_type": "code",
   "execution_count": 5,
   "metadata": {},
   "outputs": [
    {
     "data": {
      "text/plain": [
       "Text(0, 0.5, 'Disease Progression')"
      ]
     },
     "execution_count": 5,
     "metadata": {},
     "output_type": "execute_result"
    },
    {
     "data": {
      "image/png": "[encoded data removed]",
      "text/plain": [
       "<Figure size 432x288 with 1 Axes>"
      ]
     },
     "metadata": {
      "needs_background": "light"
     },
     "output_type": "display_data"
    }
   ],
   "source": [
    "#Plot the dataset to visualize how to solve the problem\n",
    "plt.scatter(X,y,color = '#88c999') #Scatter plot\n",
    "plt.title('Diabetes dataset regression') #Set title\n",
    "plt.xlabel('BMI') #Set x axis label\n",
    "plt.ylabel('Disease Progression') #Set y axis label"
   ]
  },
  {
   "cell_type": "markdown",
   "metadata": {},
   "source": [
    "# OLS (Ordinary Least Squares) Solution"
   ]
  },
  {
   "cell_type": "code",
   "execution_count": 6,
   "metadata": {},
   "outputs": [],
   "source": [
    "X_mean = X.mean() # Mean of X\n",
    "y_mean = y.mean() # Mean of Y\n",
    "Sxx = np.sum((X - X_mean)**2) #Sum of Squares of X\n",
    "Sxy = np.sum((X - X_mean)*(y-y_mean)) # Sum of Squares of Products of X and Y\n",
    "Syy = np.sum((y-y_mean)**2) #Sum of Squares of Y"
   ]
  },
  {
   "cell_type": "markdown",
   "metadata": {},
   "source": [
    "# The solution in the OLS case is: $$\\hat{\\alpha} = \\frac{S_{xy}}{S_{xx}}$$  $$\\hat{\\beta} = \\bar{y} - \\hat{\\alpha}\\bar{x}$$\n"
   ]
  },
  {
   "cell_type": "code",
   "execution_count": 7,
   "metadata": {},
   "outputs": [
    {
     "data": {
      "text/plain": [
       "949.435260383949"
      ]
     },
     "execution_count": 7,
     "metadata": {},
     "output_type": "execute_result"
    }
   ],
   "source": [
    "alpha = Sxy/Sxx #alpha calculation\n",
    "alpha"
   ]
  },
  {
   "cell_type": "code",
   "execution_count": 8,
   "metadata": {},
   "outputs": [
    {
     "data": {
      "text/plain": [
       "152.1334841628967"
      ]
     },
     "execution_count": 8,
     "metadata": {},
     "output_type": "execute_result"
    }
   ],
   "source": [
    "beta = y_mean - alpha*X_mean #beta calculation\n",
    "beta"
   ]
  },
  {
   "cell_type": "code",
   "execution_count": 9,
   "metadata": {},
   "outputs": [],
   "source": [
    "#Function for prediction\n",
    "def predict(alpha,beta,X):\n",
    "    return alpha*X + beta\n",
    "\n",
    "#Utility function for printing predictions\n",
    "def print_predictions(prog,prog_pred):\n",
    "    df_pred = pd.DataFrame({'Progression_measured':prog,'Progression_predicted':prog_pred,'Error':prog-prog_pred})\n",
    "    return df_pred\n",
    "\n",
    "#Utility function for plotting\n",
    "def plot_predictions(prog,prog_pred):\n",
    "    plt.scatter(prog,prog_pred)\n",
    "    plt.title('Progression predicted vs measured') #Set title\n",
    "    plt.ylabel('Progression predicted') #Set y axis label\n",
    "    plt.xlabel('Progression measured') #Set x axis label\n",
    "    plt.axline((0, 0), slope=1, c = 'red',label='Perfect fit line') #Plot perfect fit line\n",
    "    plt.legend() #Legends"
   ]
  },
  {
   "cell_type": "code",
   "execution_count": 10,
   "metadata": {},
   "outputs": [
    {
     "data": {
      "text/html": [
       "<div>\n",
       "<style scoped>\n",
       "    .dataframe tbody tr th:only-of-type {\n",
       "        vertical-align: middle;\n",
       "    }\n",
       "\n",
       "    .dataframe tbody tr th {\n",
       "        vertical-align: top;\n",
       "    }\n",
       "\n",
       "    .dataframe thead th {\n",
       "        text-align: right;\n",
       "    }\n",
       "</style>\n",
       "<table border=\"1\" class=\"dataframe\">\n",
       "  <thead>\n",
       "    <tr style=\"text-align: right;\">\n",
       "      <th></th>\n",
       "      <th>Progression_measured</th>\n",
       "      <th>Progression_predicted</th>\n",
       "      <th>Error</th>\n",
       "    </tr>\n",
       "  </thead>\n",
       "  <tbody>\n",
       "    <tr>\n",
       "      <th>0</th>\n",
       "      <td>151.0</td>\n",
       "      <td>210.710038</td>\n",
       "      <td>-59.710038</td>\n",
       "    </tr>\n",
       "    <tr>\n",
       "      <th>1</th>\n",
       "      <td>75.0</td>\n",
       "      <td>103.262195</td>\n",
       "      <td>-28.262195</td>\n",
       "    </tr>\n",
       "    <tr>\n",
       "      <th>2</th>\n",
       "      <td>141.0</td>\n",
       "      <td>194.337033</td>\n",
       "      <td>-53.337033</td>\n",
       "    </tr>\n",
       "    <tr>\n",
       "      <th>3</th>\n",
       "      <td>206.0</td>\n",
       "      <td>141.124769</td>\n",
       "      <td>64.875231</td>\n",
       "    </tr>\n",
       "    <tr>\n",
       "      <th>4</th>\n",
       "      <td>135.0</td>\n",
       "      <td>117.588574</td>\n",
       "      <td>17.411426</td>\n",
       "    </tr>\n",
       "  </tbody>\n",
       "</table>\n",
       "</div>"
      ],
      "text/plain": [
       "   Progression_measured  Progression_predicted      Error\n",
       "0                 151.0             210.710038 -59.710038\n",
       "1                  75.0             103.262195 -28.262195\n",
       "2                 141.0             194.337033 -53.337033\n",
       "3                 206.0             141.124769  64.875231\n",
       "4                 135.0             117.588574  17.411426"
      ]
     },
     "execution_count": 10,
     "metadata": {},
     "output_type": "execute_result"
    }
   ],
   "source": [
    "y_pred_ols = [predict(alpha,beta,X_i) for X_i in X] #Predicted progression based on alpha and beta\n",
    "df_ols = print_predictions(y,y_pred_ols)\n",
    "df_ols.head()"
   ]
  },
  {
   "cell_type": "code",
   "execution_count": 11,
   "metadata": {},
   "outputs": [
    {
     "ename": "AttributeError",
     "evalue": "module 'matplotlib.pyplot' has no attribute 'axline'",
     "output_type": "error",
     "traceback": [
      "\u001b[1;31m---------------------------------------------------------------------------\u001b[0m",
      "\u001b[1;31mAttributeError\u001b[0m                            Traceback (most recent call last)",
      "\u001b[1;32m<ipython-input-11-d3cadae125c4>\u001b[0m in \u001b[0;36m<module>\u001b[1;34m\u001b[0m\n\u001b[1;32m----> 1\u001b[1;33m \u001b[0mplot_predictions\u001b[0m\u001b[1;33m(\u001b[0m\u001b[0my\u001b[0m\u001b[1;33m,\u001b[0m\u001b[0my_pred_ols\u001b[0m\u001b[1;33m)\u001b[0m\u001b[1;33m\u001b[0m\u001b[1;33m\u001b[0m\u001b[0m\n\u001b[0m",
      "\u001b[1;32m<ipython-input-9-9996cf7505fd>\u001b[0m in \u001b[0;36mplot_predictions\u001b[1;34m(prog, prog_pred)\u001b[0m\n\u001b[0;32m     14\u001b[0m     \u001b[0mplt\u001b[0m\u001b[1;33m.\u001b[0m\u001b[0mylabel\u001b[0m\u001b[1;33m(\u001b[0m\u001b[1;34m'Progression predicted'\u001b[0m\u001b[1;33m)\u001b[0m \u001b[1;31m#Set y axis label\u001b[0m\u001b[1;33m\u001b[0m\u001b[1;33m\u001b[0m\u001b[0m\n\u001b[0;32m     15\u001b[0m     \u001b[0mplt\u001b[0m\u001b[1;33m.\u001b[0m\u001b[0mxlabel\u001b[0m\u001b[1;33m(\u001b[0m\u001b[1;34m'Progression measured'\u001b[0m\u001b[1;33m)\u001b[0m \u001b[1;31m#Set x axis label\u001b[0m\u001b[1;33m\u001b[0m\u001b[1;33m\u001b[0m\u001b[0m\n\u001b[1;32m---> 16\u001b[1;33m     \u001b[0mplt\u001b[0m\u001b[1;33m.\u001b[0m\u001b[0maxline\u001b[0m\u001b[1;33m(\u001b[0m\u001b[1;33m(\u001b[0m\u001b[1;36m0\u001b[0m\u001b[1;33m,\u001b[0m \u001b[1;36m0\u001b[0m\u001b[1;33m)\u001b[0m\u001b[1;33m,\u001b[0m \u001b[0mslope\u001b[0m\u001b[1;33m=\u001b[0m\u001b[1;36m1\u001b[0m\u001b[1;33m,\u001b[0m \u001b[0mc\u001b[0m \u001b[1;33m=\u001b[0m \u001b[1;34m'red'\u001b[0m\u001b[1;33m,\u001b[0m\u001b[0mlabel\u001b[0m\u001b[1;33m=\u001b[0m\u001b[1;34m'Perfect fit line'\u001b[0m\u001b[1;33m)\u001b[0m \u001b[1;31m#Plot perfect fit line\u001b[0m\u001b[1;33m\u001b[0m\u001b[1;33m\u001b[0m\u001b[0m\n\u001b[0m\u001b[0;32m     17\u001b[0m     \u001b[0mplt\u001b[0m\u001b[1;33m.\u001b[0m\u001b[0mlegend\u001b[0m\u001b[1;33m(\u001b[0m\u001b[1;33m)\u001b[0m \u001b[1;31m#Legends\u001b[0m\u001b[1;33m\u001b[0m\u001b[1;33m\u001b[0m\u001b[0m\n",
      "\u001b[1;31mAttributeError\u001b[0m: module 'matplotlib.pyplot' has no attribute 'axline'"
     ]
    },
    {
     "data": {
      "image/png": "[encoded data removed]",
      "text/plain": [
       "<Figure size 432x288 with 1 Axes>"
      ]
     },
     "metadata": {
      "needs_background": "light"
     },
     "output_type": "display_data"
    }
   ],
   "source": [
    "plot_predictions(y,y_pred_ols)"
   ]
  },
  {
   "cell_type": "markdown",
   "metadata": {},
   "source": [
    "# Metrics for comparison:"
   ]
  },
  {
   "cell_type": "markdown",
   "metadata": {},
   "source": [
    "# Coefficient of determination: $$R^2 = 1 - \\frac{RSS}{TSS}$$"
   ]
  },
  {
   "cell_type": "markdown",
   "metadata": {},
   "source": [
    "# Mean Average Error: $$MAE = \\frac{1}{N}\\sum_{i=1}^{N}(y_i - \\hat{y_i})$$"
   ]
  },
  {
   "cell_type": "markdown",
   "metadata": {},
   "source": [
    "# Mean Squared Error: $$MSE = \\frac{1}{N}\\sum_{i=1}^{N}(y_i - \\hat{y_i})^2$$"
   ]
  },
  {
   "cell_type": "markdown",
   "metadata": {},
   "source": [
    "# Root Mean Squared Error: $$RMSE = \\sqrt{\\frac{1}{N}\\sum_{i=1}^{N}(y_i - \\hat{y_i})^2}$$"
   ]
  },
  {
   "cell_type": "code",
   "execution_count": 12,
   "metadata": {},
   "outputs": [],
   "source": [
    "#Utility function to calculate metrics\n",
    "def print_metrics(y,y_pred):\n",
    "    rss = np.sum((y-y_pred)**2) # Sum of Squares of Residuals \n",
    "    tss = np.sum((y-y.mean())**2) # Total Sum of Squares \n",
    "    r2 = 1 - (rss/tss) #Coefficient of Determination\n",
    "    mae = np.sum((y-y_pred))/len(y) #Mean Average Error\n",
    "    mse = np.sum((y-y_pred)**2)/len(y) # Mean Squared Error\n",
    "    rmse = math.sqrt(mse) # Root Mean Squared Error\n",
    "    print('The Coefficient of Determination is %s' % r2)\n",
    "    print('The Mean Average Error is %s' % mae)\n",
    "    print('The  Mean Squared Error is %s' % mse)\n",
    "    print('The Root Mean Squared Error is %s' % rmse)\n",
    "    return r2,mae,mse,rmse"
   ]
  },
  {
   "cell_type": "code",
   "execution_count": 13,
   "metadata": {},
   "outputs": [
    {
     "name": "stdout",
     "output_type": "stream",
     "text": [
      "The Coefficient of Determination is 0.3439237602253803\n",
      "The Mean Average Error is -1.9033542966967388e-14\n",
      "The  Mean Squared Error is 3890.4565854612724\n",
      "The Root Mean Squared Error is 62.37352471570989\n"
     ]
    }
   ],
   "source": [
    "r2_ols,mae_ols,mse_ols,rmse_ols = print_metrics(y,y_pred_ols)"
   ]
  },
  {
   "cell_type": "markdown",
   "metadata": {},
   "source": [
    "# Multiple Regression"
   ]
  },
  {
   "cell_type": "markdown",
   "metadata": {},
   "source": [
    "$$Y = \\beta_0X_0+ \\beta_1X_1+ \\beta_2X_2+ \\beta_2X_3...$$\n",
    "$$Y = X\\beta$$"
   ]
  },
  {
   "cell_type": "markdown",
   "metadata": {},
   "source": [
    "$$\\beta = (X^{'}X)^{-1}X^{'}Y$$"
   ]
  },
  {
   "cell_type": "code",
   "execution_count": 15,
   "metadata": {},
   "outputs": [],
   "source": [
    "X = diabetes_X.to_numpy()\n",
    "y = diabetes_y.to_numpy()\n",
    "X = np.concatenate([np.ones((X.shape[0],1)),X],axis=1)\n",
    "beta = np.linalg.inv(X.T@X)@X.T@y #Multiple Regression Coefficients"
   ]
  },
  {
   "cell_type": "code",
   "execution_count": 16,
   "metadata": {},
   "outputs": [
    {
     "data": {
      "text/html": [
       "<div>\n",
       "<style scoped>\n",
       "    .dataframe tbody tr th:only-of-type {\n",
       "        vertical-align: middle;\n",
       "    }\n",
       "\n",
       "    .dataframe tbody tr th {\n",
       "        vertical-align: top;\n",
       "    }\n",
       "\n",
       "    .dataframe thead th {\n",
       "        text-align: right;\n",
       "    }\n",
       "</style>\n",
       "<table border=\"1\" class=\"dataframe\">\n",
       "  <thead>\n",
       "    <tr style=\"text-align: right;\">\n",
       "      <th></th>\n",
       "      <th>Progression_measured</th>\n",
       "      <th>Progression_predicted</th>\n",
       "      <th>Error</th>\n",
       "    </tr>\n",
       "  </thead>\n",
       "  <tbody>\n",
       "    <tr>\n",
       "      <th>0</th>\n",
       "      <td>151.0</td>\n",
       "      <td>206.117070</td>\n",
       "      <td>-55.117070</td>\n",
       "    </tr>\n",
       "    <tr>\n",
       "      <th>1</th>\n",
       "      <td>75.0</td>\n",
       "      <td>68.072348</td>\n",
       "      <td>6.927652</td>\n",
       "    </tr>\n",
       "    <tr>\n",
       "      <th>2</th>\n",
       "      <td>141.0</td>\n",
       "      <td>176.884060</td>\n",
       "      <td>-35.884060</td>\n",
       "    </tr>\n",
       "    <tr>\n",
       "      <th>3</th>\n",
       "      <td>206.0</td>\n",
       "      <td>166.917966</td>\n",
       "      <td>39.082034</td>\n",
       "    </tr>\n",
       "    <tr>\n",
       "      <th>4</th>\n",
       "      <td>135.0</td>\n",
       "      <td>128.459842</td>\n",
       "      <td>6.540158</td>\n",
       "    </tr>\n",
       "  </tbody>\n",
       "</table>\n",
       "</div>"
      ],
      "text/plain": [
       "   Progression_measured  Progression_predicted      Error\n",
       "0                 151.0             206.117070 -55.117070\n",
       "1                  75.0              68.072348   6.927652\n",
       "2                 141.0             176.884060 -35.884060\n",
       "3                 206.0             166.917966  39.082034\n",
       "4                 135.0             128.459842   6.540158"
      ]
     },
     "execution_count": 16,
     "metadata": {},
     "output_type": "execute_result"
    }
   ],
   "source": [
    "y_pred_ols = X@beta #Predicted progression based on alpha and beta\n",
    "df_ols = print_predictions(y,y_pred_ols)\n",
    "df_ols.head()"
   ]
  },
  {
   "cell_type": "code",
   "execution_count": 17,
   "metadata": {},
   "outputs": [
    {
     "ename": "AttributeError",
     "evalue": "module 'matplotlib.pyplot' has no attribute 'axline'",
     "output_type": "error",
     "traceback": [
      "\u001b[1;31m---------------------------------------------------------------------------\u001b[0m",
      "\u001b[1;31mAttributeError\u001b[0m                            Traceback (most recent call last)",
      "\u001b[1;32m<ipython-input-17-d3cadae125c4>\u001b[0m in \u001b[0;36m<module>\u001b[1;34m\u001b[0m\n\u001b[1;32m----> 1\u001b[1;33m \u001b[0mplot_predictions\u001b[0m\u001b[1;33m(\u001b[0m\u001b[0my\u001b[0m\u001b[1;33m,\u001b[0m\u001b[0my_pred_ols\u001b[0m\u001b[1;33m)\u001b[0m\u001b[1;33m\u001b[0m\u001b[1;33m\u001b[0m\u001b[0m\n\u001b[0m",
      "\u001b[1;32m<ipython-input-9-9996cf7505fd>\u001b[0m in \u001b[0;36mplot_predictions\u001b[1;34m(prog, prog_pred)\u001b[0m\n\u001b[0;32m     14\u001b[0m     \u001b[0mplt\u001b[0m\u001b[1;33m.\u001b[0m\u001b[0mylabel\u001b[0m\u001b[1;33m(\u001b[0m\u001b[1;34m'Progression predicted'\u001b[0m\u001b[1;33m)\u001b[0m \u001b[1;31m#Set y axis label\u001b[0m\u001b[1;33m\u001b[0m\u001b[1;33m\u001b[0m\u001b[0m\n\u001b[0;32m     15\u001b[0m     \u001b[0mplt\u001b[0m\u001b[1;33m.\u001b[0m\u001b[0mxlabel\u001b[0m\u001b[1;33m(\u001b[0m\u001b[1;34m'Progression measured'\u001b[0m\u001b[1;33m)\u001b[0m \u001b[1;31m#Set x axis label\u001b[0m\u001b[1;33m\u001b[0m\u001b[1;33m\u001b[0m\u001b[0m\n\u001b[1;32m---> 16\u001b[1;33m     \u001b[0mplt\u001b[0m\u001b[1;33m.\u001b[0m\u001b[0maxline\u001b[0m\u001b[1;33m(\u001b[0m\u001b[1;33m(\u001b[0m\u001b[1;36m0\u001b[0m\u001b[1;33m,\u001b[0m \u001b[1;36m0\u001b[0m\u001b[1;33m)\u001b[0m\u001b[1;33m,\u001b[0m \u001b[0mslope\u001b[0m\u001b[1;33m=\u001b[0m\u001b[1;36m1\u001b[0m\u001b[1;33m,\u001b[0m \u001b[0mc\u001b[0m \u001b[1;33m=\u001b[0m \u001b[1;34m'red'\u001b[0m\u001b[1;33m,\u001b[0m\u001b[0mlabel\u001b[0m\u001b[1;33m=\u001b[0m\u001b[1;34m'Perfect fit line'\u001b[0m\u001b[1;33m)\u001b[0m \u001b[1;31m#Plot perfect fit line\u001b[0m\u001b[1;33m\u001b[0m\u001b[1;33m\u001b[0m\u001b[0m\n\u001b[0m\u001b[0;32m     17\u001b[0m     \u001b[0mplt\u001b[0m\u001b[1;33m.\u001b[0m\u001b[0mlegend\u001b[0m\u001b[1;33m(\u001b[0m\u001b[1;33m)\u001b[0m \u001b[1;31m#Legends\u001b[0m\u001b[1;33m\u001b[0m\u001b[1;33m\u001b[0m\u001b[0m\n",
      "\u001b[1;31mAttributeError\u001b[0m: module 'matplotlib.pyplot' has no attribute 'axline'"
     ]
    },
    {
     "data": {
      "image/png": "[encoded data removed]",
      "text/plain": [
       "<Figure size 432x288 with 1 Axes>"
      ]
     },
     "metadata": {
      "needs_background": "light"
     },
     "output_type": "display_data"
    }
   ],
   "source": [
    "plot_predictions(y,y_pred_ols)"
   ]
  },
  {
   "cell_type": "code",
   "execution_count": 18,
   "metadata": {},
   "outputs": [
    {
     "name": "stdout",
     "output_type": "stream",
     "text": [
      "The Coefficient of Determination is 0.5177494254132934\n",
      "The Mean Average Error is -2.9836364650921855e-14\n",
      "The  Mean Squared Error is 2859.6903987680657\n",
      "The Root Mean Squared Error is 53.47607314274362\n"
     ]
    }
   ],
   "source": [
    "r2_ols,mae_ols,mse_ols,rmse_ols = print_metrics(y,y_pred_ols)"
   ]
  },
  {
   "cell_type": "markdown",
   "metadata": {},
   "source": [
    "# Linear Regression with scikit-learn:"
   ]
  },
  {
   "cell_type": "code",
   "execution_count": 32,
   "metadata": {},
   "outputs": [],
   "source": [
    "#Define Features and Labels\n",
    "X = diabetes_X.to_numpy()\n",
    "y = diabetes_y.to_numpy()\n",
    "model =LinearRegression(fit_intercept=True)"
   ]
  },
  {
   "cell_type": "code",
   "execution_count": 33,
   "metadata": {},
   "outputs": [
    {
     "data": {
      "text/plain": [
       "LinearRegression()"
      ]
     },
     "execution_count": 33,
     "metadata": {},
     "output_type": "execute_result"
    }
   ],
   "source": [
    "#Fit the model\n",
    "model.fit(X,y)"
   ]
  },
  {
   "cell_type": "code",
   "execution_count": 34,
   "metadata": {},
   "outputs": [
    {
     "data": {
      "text/plain": [
       "0.5177494254132934"
      ]
     },
     "execution_count": 34,
     "metadata": {},
     "output_type": "execute_result"
    }
   ],
   "source": [
    "#Get coefficient of determination\n",
    "model.score(X,y)"
   ]
  },
  {
   "cell_type": "code",
   "execution_count": 35,
   "metadata": {},
   "outputs": [
    {
     "data": {
      "text/plain": [
       "array([ -10.01219782, -239.81908937,  519.83978679,  324.39042769,\n",
       "       -792.18416163,  476.74583782,  101.04457032,  177.06417623,\n",
       "        751.27932109,   67.62538639])"
      ]
     },
     "execution_count": 35,
     "metadata": {},
     "output_type": "execute_result"
    }
   ],
   "source": [
    "#Model coefficients\n",
    "model.coef_"
   ]
  },
  {
   "cell_type": "code",
   "execution_count": 36,
   "metadata": {},
   "outputs": [
    {
     "data": {
      "text/plain": [
       "152.1334841628965"
      ]
     },
     "execution_count": 36,
     "metadata": {},
     "output_type": "execute_result"
    }
   ],
   "source": [
    "#Model Intercept\n",
    "model.intercept_"
   ]
  },
  {
   "cell_type": "code",
   "execution_count": 37,
   "metadata": {
    "scrolled": true
   },
   "outputs": [
    {
     "data": {
      "text/plain": [
       "array([206.11706979,  68.07234761, 176.88406035, 166.91796559,\n",
       "       128.45984241, 106.34908972,  73.89417947, 118.85378669,\n",
       "       158.81033076, 213.58408893,  97.07853583,  95.1016223 ,\n",
       "       115.06673301, 164.67605023, 103.07517946, 177.17236996,\n",
       "       211.75953205, 182.84424343, 147.99987605, 124.01702527,\n",
       "       120.33094632,  85.80377894, 113.11286302, 252.44934852,\n",
       "       165.48821056, 147.72187623,  97.12824075, 179.09342974,\n",
       "       129.05497324, 184.78138552, 158.71515746,  69.47588393,\n",
       "       261.50255826, 112.81897436,  78.37194762,  87.66624129,\n",
       "       207.92460213, 157.87686037, 240.84370686, 136.93372685,\n",
       "       153.48187659,  74.15703284, 145.63105805,  77.8280105 ,\n",
       "       221.0786645 , 125.22224022, 142.60147066, 109.4926324 ,\n",
       "        73.14037106, 189.87368742, 157.93636782, 169.55816531,\n",
       "       134.18186217, 157.72356219, 139.1077439 ,  72.73252701,\n",
       "       207.8289973 ,  80.10834588, 104.08562488, 134.57807971,\n",
       "       114.23779529, 180.67760064,  61.12644508,  98.7215441 ,\n",
       "       113.79626149, 189.96141244, 148.98263155, 124.33457266,\n",
       "       114.83969622, 122.00224605,  73.91315064, 236.70948329,\n",
       "       142.31366526, 124.51427625, 150.84273716, 127.75408702,\n",
       "       191.16674356,  77.05921006, 166.82129568,  91.00741773,\n",
       "       174.75026808, 122.83488194,  63.27214662, 151.99895968,\n",
       "        53.73407848, 166.00134469,  42.65030679, 153.04135861,\n",
       "        80.54493791, 106.9048058 ,  79.94239571, 187.1634566 ,\n",
       "       192.60115666,  61.07125918, 107.40466928, 125.04038427,\n",
       "       207.72180472, 214.21749964, 123.47505642, 139.16396617,\n",
       "       168.21035724, 106.9267784 , 150.64502809, 157.92231541,\n",
       "       152.75856279, 116.22255529,  73.03090141, 155.66898717,\n",
       "       230.14278537, 143.50191007,  38.0947967 , 121.860737  ,\n",
       "       152.79569851, 207.99651918, 291.23082717, 189.17431487,\n",
       "       214.02871163, 235.18090808, 165.3872774 , 151.25000032,\n",
       "       156.57626783, 200.44154589, 219.35211772, 174.79049427,\n",
       "       169.23161767, 187.8719893 ,  57.49473392, 108.55110499,\n",
       "        92.68518048, 210.87365701, 245.47433558,  69.84529943,\n",
       "       113.0351432 ,  68.42945176, 141.69628649, 239.46177949,\n",
       "        58.3802079 , 235.47268158, 254.91986281, 253.31042713,\n",
       "       155.50813249, 230.55904185, 170.44063216, 117.99200943,\n",
       "       178.55548636, 240.07155813, 190.3398776 , 228.66100769,\n",
       "       114.24162642, 178.36570405, 209.09273631, 144.85567253,\n",
       "       200.65791056, 121.34184881, 150.50918174, 199.02165018,\n",
       "       146.2806806 , 124.02443772,  85.26036769, 235.16536625,\n",
       "        82.17255475, 231.29266191, 144.36634395, 197.04778326,\n",
       "       146.99720377,  77.18477545,  59.3728572 , 262.67891084,\n",
       "       225.12578458, 220.20506312,  46.59691745,  88.1040833 ,\n",
       "       221.77623752,  97.24900614, 164.48869956, 119.90114263,\n",
       "       157.79986195, 223.08505437,  99.5885471 , 165.84341641,\n",
       "       179.47571002,  89.83382843, 171.82492808, 158.36337775,\n",
       "       201.47857482, 186.39202728, 197.47094269,  66.57241937,\n",
       "       154.59826802, 116.18638034, 195.92074021, 128.04740268,\n",
       "        91.20285628, 140.56975398, 155.23013996, 169.70207476,\n",
       "        98.75498537, 190.1453107 , 142.5193942 , 177.26966106,\n",
       "        95.31403505,  69.0645889 , 164.16669511, 198.06460718,\n",
       "       178.26228169, 228.58801706, 160.67275473, 212.28682319,\n",
       "       222.48172067, 172.85184399, 125.27697688, 174.7240982 ,\n",
       "       152.38282657,  98.58485669,  99.73695497, 262.29658755,\n",
       "       223.73784832, 221.3425256 , 133.61497308, 145.42593933,\n",
       "        53.04259372, 141.81807792, 153.68369915, 125.21948824,\n",
       "        77.25091512, 230.26311068,  78.90849563, 105.20931175,\n",
       "       117.99633487,  99.06361032, 166.55382825, 159.34391027,\n",
       "       158.27612808, 143.05658763, 231.55938678, 176.64144413,\n",
       "       187.23572317,  65.38504165, 190.66078824, 179.74973878,\n",
       "       234.91022512, 119.15540438,  85.63464409, 100.85860205,\n",
       "       140.4174259 , 101.83836332, 120.66138775,  83.06599161,\n",
       "       234.58754656, 245.16192142, 263.26766492, 274.87431887,\n",
       "       180.67699732, 203.05474761, 254.21769367, 118.44122343,\n",
       "       268.44988948, 104.83643442, 115.87172349, 140.45788952,\n",
       "        58.46850453, 129.83264097, 263.78452618,  45.01240356,\n",
       "       123.28697604, 131.08314499,  34.89018315, 138.35659686,\n",
       "       244.30370588,  89.95612306, 192.07094588, 164.32674962,\n",
       "       147.74783541, 191.89381753, 176.44296313, 158.34707354,\n",
       "       189.19183226, 116.58275843, 111.44622859, 117.45262547,\n",
       "       165.79457547,  97.80241129, 139.54389024,  84.17453643,\n",
       "       159.9389204 , 202.4011919 ,  80.48200416, 146.64621068,\n",
       "        79.05274311, 191.33759392, 220.67545196, 203.75145711,\n",
       "        92.87093594, 179.15570241,  81.80126162, 152.82706623,\n",
       "        76.79700486,  97.79712384, 106.83424483, 123.83477117,\n",
       "       218.13375502, 126.02077447, 206.76300555, 230.57976636,\n",
       "       122.0628518 , 135.67694517, 126.36969016, 148.49621551,\n",
       "        88.07082258, 138.95595037, 203.86570118, 172.55362727,\n",
       "       122.95773416, 213.92445645, 174.88857841, 110.07169487,\n",
       "       198.36767241, 173.24601643, 162.64946177, 193.31777358,\n",
       "       191.53802295, 284.13478714, 279.30688474, 216.0070265 ,\n",
       "       210.08517801, 216.22213925, 157.01489819, 224.06561179,\n",
       "       189.05840605, 103.56829281, 178.70442926, 111.81492124,\n",
       "       290.99913121, 182.64959461,  79.33602602,  86.33287509,\n",
       "       249.15238929, 174.51439576, 122.10645431, 146.27099383,\n",
       "       170.6555544 , 183.50018707, 163.36970989, 157.03563376,\n",
       "       144.42617093, 125.30179325, 177.50072942, 104.57821235,\n",
       "       132.1746674 ,  95.06145678, 249.9007786 ,  86.24033937,\n",
       "        62.00077469, 156.81087903, 192.3231713 , 133.85292727,\n",
       "        93.67456315, 202.49458467,  52.53953733, 174.82926235,\n",
       "       196.9141296 , 118.06646574, 235.3011088 , 165.09286707,\n",
       "       160.41863314, 162.37831419, 254.05718804, 257.23616403,\n",
       "       197.50578991, 184.06609359,  58.62043851, 194.3950396 ,\n",
       "       110.77475548, 142.20916765, 128.82725506, 180.12844365,\n",
       "       211.26415225, 169.59711427, 164.34167693, 136.2363478 ,\n",
       "       174.50905908,  74.67649224, 246.29542114, 114.14131338,\n",
       "       111.54358708, 140.02313284, 109.99647408,  91.37269237,\n",
       "       163.01389345,  75.16389857, 254.05755095,  53.47055785,\n",
       "        98.48060512, 100.66268306, 258.58885744, 170.67482041,\n",
       "        61.91866052, 182.3042492 , 171.26913027, 189.19307553,\n",
       "       187.18384852,  87.12032949, 148.37816611, 251.35898288,\n",
       "       199.69712357, 283.63722409,  50.85577124, 172.14848891,\n",
       "       204.06179478, 174.16816194, 157.93027543, 150.50201654,\n",
       "       232.9761832 , 121.5808709 , 164.54891787, 172.67742636,\n",
       "       226.78005938, 149.46967223,  99.14026374,  80.43680779,\n",
       "       140.15557121, 191.90593837, 199.27952034, 153.63210613,\n",
       "       171.80130949, 112.11314588, 162.60650576, 129.8448476 ,\n",
       "       258.02898298, 100.70869427, 115.87611124, 122.53790409,\n",
       "       218.17749233,  60.94590955, 131.09513588, 119.48417359,\n",
       "        52.60848094, 193.01802803, 101.05169913, 121.22505534,\n",
       "       211.8588945 ,  53.44819015])"
      ]
     },
     "execution_count": 37,
     "metadata": {},
     "output_type": "execute_result"
    }
   ],
   "source": [
    "#Get predictions given features\n",
    "model.predict(X)"
   ]
  },
  {
   "cell_type": "markdown",
   "metadata": {},
   "source": [
    "# scikit-learn metrics"
   ]
  },
  {
   "cell_type": "code",
   "execution_count": 38,
   "metadata": {},
   "outputs": [],
   "source": [
    "from sklearn.metrics import r2_score,mean_absolute_error,mean_squared_error"
   ]
  },
  {
   "cell_type": "code",
   "execution_count": 39,
   "metadata": {},
   "outputs": [
    {
     "data": {
      "text/plain": [
       "0.5177494254132934"
      ]
     },
     "execution_count": 39,
     "metadata": {},
     "output_type": "execute_result"
    }
   ],
   "source": [
    "r2_score(y,y_pred_ols)"
   ]
  },
  {
   "cell_type": "code",
   "execution_count": 41,
   "metadata": {},
   "outputs": [
    {
     "data": {
      "text/plain": [
       "43.27739508374989"
      ]
     },
     "execution_count": 41,
     "metadata": {},
     "output_type": "execute_result"
    }
   ],
   "source": [
    "mean_absolute_error(y,y_pred_ols)"
   ]
  },
  {
   "cell_type": "code",
   "execution_count": 43,
   "metadata": {},
   "outputs": [
    {
     "data": {
      "text/plain": [
       "53.47607314274362"
      ]
     },
     "execution_count": 43,
     "metadata": {},
     "output_type": "execute_result"
    }
   ],
   "source": [
    "mean_squared_error(y,y_pred_ols,squared=False)"
   ]
  },
  {
   "cell_type": "markdown",
   "metadata": {},
   "source": [
    "# Dataset splitting"
   ]
  },
  {
   "cell_type": "code",
   "execution_count": 44,
   "metadata": {},
   "outputs": [],
   "source": [
    "from sklearn.model_selection import train_test_split"
   ]
  },
  {
   "cell_type": "code",
   "execution_count": 45,
   "metadata": {},
   "outputs": [],
   "source": [
    "X_train, X_test, y_train, y_test = train_test_split(X,y,test_size=0.3,random_state = 123)"
   ]
  },
  {
   "cell_type": "code",
   "execution_count": 46,
   "metadata": {},
   "outputs": [
    {
     "data": {
      "text/plain": [
       "LinearRegression()"
      ]
     },
     "execution_count": 46,
     "metadata": {},
     "output_type": "execute_result"
    }
   ],
   "source": [
    "model = LinearRegression()\n",
    "model.fit(X_train,y_train)"
   ]
  },
  {
   "cell_type": "code",
   "execution_count": 47,
   "metadata": {},
   "outputs": [
    {
     "data": {
      "text/plain": [
       "0.5078285584893742"
      ]
     },
     "execution_count": 47,
     "metadata": {},
     "output_type": "execute_result"
    }
   ],
   "source": [
    "model.score(X_test,y_test)"
   ]
  },
  {
   "cell_type": "code",
   "execution_count": 48,
   "metadata": {},
   "outputs": [
    {
     "data": {
      "text/plain": [
       "0.5174979976746197"
      ]
     },
     "execution_count": 48,
     "metadata": {},
     "output_type": "execute_result"
    }
   ],
   "source": [
    "model.score(X_train,y_train)"
   ]
  },
  {
   "cell_type": "code",
   "execution_count": 54,
   "metadata": {},
   "outputs": [],
   "source": [
    "from sklearn.model_selection import cross_val_score,cross_validate"
   ]
  },
  {
   "cell_type": "code",
   "execution_count": 50,
   "metadata": {},
   "outputs": [],
   "source": [
    "model = LinearRegression()\n",
    "scores = cross_val_score(model,X_train,y_train,cv=10)"
   ]
  },
  {
   "cell_type": "code",
   "execution_count": 51,
   "metadata": {},
   "outputs": [
    {
     "data": {
      "text/plain": [
       "array([0.35468986, 0.54297407, 0.46332286, 0.47403727, 0.39455894,\n",
       "       0.66136857, 0.63775962, 0.34670463, 0.3056358 , 0.37444083])"
      ]
     },
     "execution_count": 51,
     "metadata": {},
     "output_type": "execute_result"
    }
   ],
   "source": [
    "scores"
   ]
  },
  {
   "cell_type": "code",
   "execution_count": 52,
   "metadata": {},
   "outputs": [
    {
     "data": {
      "text/plain": [
       "(0.45554924651759165, 0.1176434233798313)"
      ]
     },
     "execution_count": 52,
     "metadata": {},
     "output_type": "execute_result"
    }
   ],
   "source": [
    "scores.mean(),scores.std()"
   ]
  },
  {
   "cell_type": "code",
   "execution_count": 60,
   "metadata": {},
   "outputs": [],
   "source": [
    "scoring = ['r2','neg_mean_absolute_error']\n",
    "scores = cross_validate(model,X_train,y_train,cv=10,scoring=scoring,return_train_score=True)"
   ]
  },
  {
   "cell_type": "code",
   "execution_count": 61,
   "metadata": {},
   "outputs": [
    {
     "data": {
      "text/plain": [
       "{'fit_time': array([0.00099516, 0.00099778, 0.0009973 , 0.        , 0.0009973 ,\n",
       "        0.00098705, 0.00102043, 0.        , 0.00099707, 0.00099802]),\n",
       " 'score_time': array([0.00099587, 0.00199533, 0.00099826, 0.00099134, 0.0009973 ,\n",
       "        0.        , 0.00097418, 0.00099707, 0.00099921, 0.        ]),\n",
       " 'test_r2': array([0.35468986, 0.54297407, 0.46332286, 0.47403727, 0.39455894,\n",
       "        0.66136857, 0.63775962, 0.34670463, 0.3056358 , 0.37444083]),\n",
       " 'train_r2': array([0.53149212, 0.50717065, 0.5228193 , 0.51898552, 0.52709514,\n",
       "        0.49945328, 0.49352187, 0.52922074, 0.535687  , 0.52609964]),\n",
       " 'test_neg_mean_absolute_error': array([-46.08225993, -37.52343337, -49.96830246, -44.95951969,\n",
       "        -47.05074918, -35.67091072, -46.38113109, -43.85203059,\n",
       "        -48.98682084, -46.01454117]),\n",
       " 'train_neg_mean_absolute_error': array([-42.6847134 , -43.79361858, -42.40771281, -42.96444141,\n",
       "        -42.69812979, -43.99281488, -42.92990001, -43.0298331 ,\n",
       "        -42.31319064, -42.92397   ])}"
      ]
     },
     "execution_count": 61,
     "metadata": {},
     "output_type": "execute_result"
    }
   ],
   "source": [
    "scores"
   ]
  },
  {
   "cell_type": "code",
   "execution_count": 66,
   "metadata": {},
   "outputs": [],
   "source": [
    "from sklearn.model_selection import KFold, LeaveOneOut"
   ]
  },
  {
   "cell_type": "code",
   "execution_count": 67,
   "metadata": {},
   "outputs": [],
   "source": [
    "kf = LeaveOneOut()"
   ]
  },
  {
   "cell_type": "code",
   "execution_count": 69,
   "metadata": {},
   "outputs": [],
   "source": [
    "for train_idx,test_idx in kf.split(X):\n",
    "    X_train = X[train_idx]\n",
    "    X_test = X[test_idx]\n",
    "    y_train = y[train_idx]\n",
    "    y_test = y[test_idx]"
   ]
  },
  {
   "cell_type": "code",
   "execution_count": 70,
   "metadata": {},
   "outputs": [
    {
     "data": {
      "text/plain": [
       "array([441])"
      ]
     },
     "execution_count": 70,
     "metadata": {},
     "output_type": "execute_result"
    }
   ],
   "source": [
    "test_idx"
   ]
  },
  {
   "cell_type": "code",
   "execution_count": null,
   "metadata": {},
   "outputs": [],
   "source": []
  }
 ],
 "metadata": {
  "kernelspec": {
   "display_name": "Python 3",
   "language": "python",
   "name": "python3"
  },
  "language_info": {
   "codemirror_mode": {
    "name": "ipython",
    "version": 3
   },
   "file_extension": ".py",
   "mimetype": "text/x-python",
   "name": "python",
   "nbconvert_exporter": "python",
   "pygments_lexer": "ipython3",
   "version": "3.8.3"
  }
 },
 "nbformat": 4,
 "nbformat_minor": 5
}