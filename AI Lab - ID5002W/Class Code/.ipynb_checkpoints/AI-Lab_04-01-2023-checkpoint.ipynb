{
 "cells": [
  {
   "cell_type": "markdown",
   "id": "0aa80a6c",
   "metadata": {},
   "source": [
    "### 1. Many identification numbers have a certain structure to them. For example, the IIT Madras Roll numbers are of the form: “Alphabet-Alphabet-Num-Num-Alphabet-Num-Num-Num”. Now write a python program that takes in a string as input and reports if the string is in concurrence with the structure. Do this for:\n",
    "### a. The IITM ID (Structure above)\n",
    "### b. The PAN ID (Structure: AAAAANNNNM, where A is alphabet and N is a number)"
   ]
  },
  {
   "cell_type": "code",
   "execution_count": 1,
   "id": "b92f75db",
   "metadata": {},
   "outputs": [
    {
     "name": "stdout",
     "output_type": "stream",
     "text": [
      "========== a. The IITM ID (Structure above)===========\n",
      "Valid Roll number\n",
      "Invalid Roll number\n",
      "========== b. The PAN ID (Structure: AAAAANNNNM, where A is alphabet and N is a number) ===========\n",
      "Valid PAN number\n",
      "Invalid PAN number\n"
     ]
    }
   ],
   "source": [
    "import re\n",
    " \n",
    "def ValidPANNumber(panCardNo):\n",
    "    regex = r\"[A-Z]{5}[0-9]{4}[A-Z]{1}\"\n",
    "    p = re.compile(regex)\n",
    "    if(panCardNo == None):\n",
    "        return 'No PAN Number has been supplied'\n",
    "    if(re.search(p, panCardNo) and len(panCardNo) == 10):\n",
    "        return 'Valid PAN number'\n",
    "    else:\n",
    "        return 'Invalid PAN number'\n",
    "\n",
    "    \n",
    "def ValidIITMRollNo(RollNo):\n",
    "    regex = r\"[A-Z]{2}[0-9]{2}[A-Z]{1}[0-9]{3}\"\n",
    "    p = re.compile(regex)\n",
    "    if(RollNo == None):\n",
    "        return 'No Roll Number has been supplied'\n",
    "    if(re.search(p, RollNo) and len(RollNo) == 8):\n",
    "        return 'Valid Roll number'\n",
    "    else:\n",
    "        return 'Invalid Roll number'\n",
    "print('========== a. The IITM ID (Structure above)===========')\n",
    "\n",
    "validRollNo = \"CH22M503\"\n",
    "invalidRollNo = \"CHM22503\"\n",
    "print(ValidIITMRollNo(validRollNo.upper()))\n",
    "print(ValidIITMRollNo(invalidRollNo.upper()))\n",
    "\n",
    "print('========== b. The PAN ID (Structure: AAAAANNNNM, where A is alphabet and N is a number) ===========')\n",
    "\n",
    "validpanCardNo = \"AQGPB1799R\"\n",
    "invalidpanCardNo = \"AQGP81799R5\"\n",
    "print(ValidPANNumber(validpanCardNo.upper()))\n",
    "print(ValidPANNumber(invalidpanCardNo.upper()))\n"
   ]
  },
  {
   "cell_type": "markdown",
   "id": "81b880d1",
   "metadata": {},
   "source": [
    "### 2. Following a proper diet is necessary for maintaining health. The dietician suggests that every meal the following nutritional requirements need to be met:\n",
    "###  a. Carbohydrates - Not more than 300 units\n",
    "### b. Fats - Not more than 150 units\n",
    "### c. Proteins - More than 80 units but not more than 500 units\n",
    "### d. Vitamins - More than 10 units but not more than 100 units\n",
    "### e. Minerals - More than 10 units but not more than 50 units\n",
    "### Provided below is the menu at a mess that you’ll be eating one meal a day the rest of this semester (This mess does not necessarily reflect reality). Given that you can choose only one item, find all the combinations of the food items that satisfy the dietician’s criteria.\n",
    "\n",
    "#### Name Carbs Fats Proteins Vitamins Minerals \n",
    "#### Rice 195   12    12         5      7\n",
    "\n",
    "#### Veg\n",
    "#### Curry 50   36    42         23     3\n",
    "\n",
    "#### Cheese\n",
    "#### burger 203 95   150         63     27\n",
    "\n",
    "#### Potato \n",
    "#### Chips  78  78   25          14     12\n",
    "\n",
    "#### Roti   76  20   34          14     6\n",
    "\n",
    "#### Soft\n",
    "#### Drink  98   7    8          9      21"
   ]
  },
  {
   "cell_type": "code",
   "execution_count": 87,
   "id": "68e134e4",
   "metadata": {},
   "outputs": [
    {
     "name": "stdout",
     "output_type": "stream",
     "text": [
      "('Rice', 'Veg Curry') is not a valid combination of food can be consumed for maintaining good health\n",
      "('Rice', 'Cheeseburger') is not a valid combination of food can be consumed for maintaining good health\n",
      "('Rice', 'Potato Chips') is not a valid combination of food can be consumed for maintaining good health\n",
      "('Rice', 'Roti') is not a valid combination of food can be consumed for maintaining good health\n",
      "('Rice', 'Soft Drink') is not a valid combination of food can be consumed for maintaining good health\n",
      "('Veg Curry', 'Cheeseburger') is a valid combination of food can be consumed for maintaining good health\n",
      "('Veg Curry', 'Potato Chips') is not a valid combination of food can be consumed for maintaining good health\n",
      "('Veg Curry', 'Roti') is not a valid combination of food can be consumed for maintaining good health\n",
      "('Veg Curry', 'Soft Drink') is not a valid combination of food can be consumed for maintaining good health\n",
      "('Cheeseburger', 'Potato Chips') is not a valid combination of food can be consumed for maintaining good health\n",
      "('Cheeseburger', 'Roti') is a valid combination of food can be consumed for maintaining good health\n",
      "('Cheeseburger', 'Soft Drink') is not a valid combination of food can be consumed for maintaining good health\n",
      "('Potato Chips', 'Roti') is not a valid combination of food can be consumed for maintaining good health\n",
      "('Potato Chips', 'Soft Drink') is not a valid combination of food can be consumed for maintaining good health\n",
      "('Roti', 'Soft Drink') is not a valid combination of food can be consumed for maintaining good health\n"
     ]
    }
   ],
   "source": [
    "import numpy as np \n",
    "import pandas as pd\n",
    "import itertools as i\n",
    "import os\n",
    "\n",
    "os.chdir('E:\\\\Document\\\\M-Tech\\\\M-Tech Class\\\\2nd Trimester\\\\AI Lab\\\\Note\\\\Question\\\\')\n",
    "nutrition_data = pd.read_excel('NutritionData.xlsx')\n",
    "\n",
    "number_of_food_item_to_be_taken = 2\n",
    "\n",
    "\n",
    "combination_food = list(i.combinations(nutrition_data['Name'],number_of_food_item_to_be_taken))\n",
    "\n",
    "def CalculateNutrition(comb_data, nutrition_data):\n",
    "    total_carbs = 0\n",
    "    total_fats = 0\n",
    "    total_proteins = 0\n",
    "    total_vitamins = 0\n",
    "    total_minerals = 0\n",
    "    \n",
    "    for i in range(len(comb_data)):\n",
    "        data = nutrition_data[nutrition_data['Name'] == comb_data[i]]\n",
    "        total_carbs += float(data.Carbs)\n",
    "        total_fats += float(data.Fats)\n",
    "        total_proteins += float(data.Proteins)\n",
    "        total_vitamins += float(data.Vitamins)  \n",
    "        total_minerals += float(data.Minerals)  \n",
    "    \n",
    "    if(total_carbs<=300 and total_fats<=150 and (total_proteins>80 and total_proteins<=500) and (total_vitamins>10 and total_vitamins<=100) and (total_minerals>10 and total_minerals<=50)):\n",
    "        print(f'{comb_data} is a valid combination of food can be consumed for maintaining good health')\n",
    "    else:\n",
    "        print(f'{comb_data} is not a valid combination of food can be consumed for maintaining good health')\n",
    "\n",
    "for each_comb in combination_food:\n",
    "    CalculateNutrition(each_comb, nutrition_data)"
   ]
  },
  {
   "cell_type": "code",
   "execution_count": null,
   "id": "0dde6a69",
   "metadata": {},
   "outputs": [],
   "source": []
  },
  {
   "cell_type": "code",
   "execution_count": null,
   "id": "6a1ee06a",
   "metadata": {},
   "outputs": [],
   "source": []
  },
  {
   "cell_type": "code",
   "execution_count": null,
   "id": "1d84646f",
   "metadata": {},
   "outputs": [],
   "source": []
  },
  {
   "cell_type": "code",
   "execution_count": null,
   "id": "0b9a6e75",
   "metadata": {},
   "outputs": [],
   "source": []
  },
  {
   "cell_type": "code",
   "execution_count": null,
   "id": "a2376d47",
   "metadata": {},
   "outputs": [],
   "source": []
  },
  {
   "cell_type": "code",
   "execution_count": null,
   "id": "f714e002",
   "metadata": {},
   "outputs": [],
   "source": []
  },
  {
   "cell_type": "code",
   "execution_count": null,
   "id": "01d1ecea",
   "metadata": {},
   "outputs": [],
   "source": []
  },
  {
   "cell_type": "code",
   "execution_count": null,
   "id": "110f3ccd",
   "metadata": {},
   "outputs": [],
   "source": []
  },
  {
   "cell_type": "code",
   "execution_count": null,
   "id": "47d7a60f",
   "metadata": {},
   "outputs": [],
   "source": []
  }
 ],
 "metadata": {
  "kernelspec": {
   "display_name": "Python 3 (ipykernel)",
   "language": "python",
   "name": "python3"
  },
  "language_info": {
   "codemirror_mode": {
    "name": "ipython",
    "version": 3
   },
   "file_extension": ".py",
   "mimetype": "text/x-python",
   "name": "python",
   "nbconvert_exporter": "python",
   "pygments_lexer": "ipython3",
   "version": "3.9.16"
  }
 },
 "nbformat": 4,
 "nbformat_minor": 5
}
