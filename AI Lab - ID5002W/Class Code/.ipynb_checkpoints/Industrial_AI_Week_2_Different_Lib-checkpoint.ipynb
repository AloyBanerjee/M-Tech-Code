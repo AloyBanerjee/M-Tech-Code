{
 "cells": [
  {
   "cell_type": "code",
   "execution_count": null,
   "id": "9de61a35",
   "metadata": {},
   "outputs": [],
   "source": [
    "import matplotlib.pyplot as plt\n",
    "import numpy as np\n",
    "from scipy.optimize import minimize, root, fsolve\n",
    "from scipy.signal import argrelextrema\n",
    "from matplotlib import cm\n",
    "import seaborn as sns\n",
    "from scipy.integrate import odeint\n",
    "import torch"
   ]
  },
  {
   "cell_type": "markdown",
   "id": "217ce18f",
   "metadata": {},
   "source": [
    "# [Optimization:](https://docs.scipy.org/doc/scipy/reference/optimize.html?highlight=optimize#module-scipy.optimize) \n",
    "1. **Objective Function:**$$4x^3-3x^2+2x+1$$"
   ]
  },
  {
   "cell_type": "code",
   "execution_count": null,
   "id": "96dfbdd0",
   "metadata": {},
   "outputs": [],
   "source": [
    "#Define objective function\n",
    "def objective(x):\n",
    "    return 4*x**3 - 3*x**2 + 2*x - 1"
   ]
  },
  {
   "cell_type": "markdown",
   "id": "d0362686",
   "metadata": {},
   "source": [
    "## [Finding roots:](https://docs.scipy.org/doc/scipy/reference/generated/scipy.optimize.root.html)"
   ]
  },
  {
   "cell_type": "code",
   "execution_count": null,
   "id": "93a98672",
   "metadata": {},
   "outputs": [],
   "source": [
    "root(objective,1)"
   ]
  },
  {
   "cell_type": "code",
   "execution_count": null,
   "id": "0d164c40",
   "metadata": {},
   "outputs": [],
   "source": [
    "#Inputs and outputs\n",
    "inputs = np.arange(-2000,2000,0.1)\n",
    "f_x = objective(inputs)"
   ]
  },
  {
   "cell_type": "code",
   "execution_count": null,
   "id": "beae51d8",
   "metadata": {},
   "outputs": [],
   "source": [
    "#Plot\n",
    "plt.plot(inputs,f_x)"
   ]
  },
  {
   "cell_type": "markdown",
   "id": "bddf4215",
   "metadata": {},
   "source": [
    "## [Local minima and maxima:](https://docs.scipy.org/doc/scipy/reference/generated/scipy.signal.argrelextrema.html)"
   ]
  },
  {
   "cell_type": "code",
   "execution_count": null,
   "id": "d54c88b2",
   "metadata": {},
   "outputs": [],
   "source": [
    "#Local Maxima\n",
    "argrelextrema(f_x,np.greater)"
   ]
  },
  {
   "cell_type": "code",
   "execution_count": null,
   "id": "61c05a58",
   "metadata": {},
   "outputs": [],
   "source": [
    "#Local Minima\n",
    "argrelextrema(f_x,np.less)"
   ]
  },
  {
   "cell_type": "markdown",
   "id": "1a189a4a",
   "metadata": {},
   "source": [
    "##  [Minimize Function:](https://docs.scipy.org/doc/scipy/reference/generated/scipy.optimize.minimize.html)\n",
    "$$sin(x)+cos(x)$$"
   ]
  },
  {
   "cell_type": "code",
   "execution_count": null,
   "id": "3271e87a",
   "metadata": {},
   "outputs": [],
   "source": [
    "def objective(x):\n",
    "    return np.sin(x) + np.cos(x)"
   ]
  },
  {
   "cell_type": "code",
   "execution_count": null,
   "id": "a1b091cc",
   "metadata": {},
   "outputs": [],
   "source": [
    "inputs = np.arange(-20,20,0.01)\n",
    "f_x = objective(inputs)"
   ]
  },
  {
   "cell_type": "code",
   "execution_count": null,
   "id": "0d7dec1a",
   "metadata": {},
   "outputs": [],
   "source": [
    "plt.plot(inputs,f_x)"
   ]
  },
  {
   "cell_type": "code",
   "execution_count": null,
   "id": "598f6ebd",
   "metadata": {},
   "outputs": [],
   "source": [
    "#Minimize with initial conditions\n",
    "minimize(objective,1)"
   ]
  },
  {
   "cell_type": "code",
   "execution_count": null,
   "id": "545df76f",
   "metadata": {},
   "outputs": [],
   "source": [
    "inputs[argrelextrema(f_x,np.greater)[0]]"
   ]
  },
  {
   "cell_type": "code",
   "execution_count": null,
   "id": "f650a983",
   "metadata": {},
   "outputs": [],
   "source": [
    "inputs[argrelextrema(f_x,np.less)[0]]"
   ]
  },
  {
   "cell_type": "markdown",
   "id": "da483119",
   "metadata": {},
   "source": [
    "## Multiple Variable Case:\n",
    "$$x^2+y^2$$"
   ]
  },
  {
   "cell_type": "code",
   "execution_count": null,
   "id": "531cae65",
   "metadata": {},
   "outputs": [],
   "source": [
    "def objective(X):\n",
    "    x = X[0]\n",
    "    y = X[1]\n",
    "    return x**2 + y**2"
   ]
  },
  {
   "cell_type": "code",
   "execution_count": null,
   "id": "b70a28ae",
   "metadata": {},
   "outputs": [],
   "source": [
    "minimize(objective,(0,0))"
   ]
  },
  {
   "cell_type": "code",
   "execution_count": null,
   "id": "4a0f62dc",
   "metadata": {},
   "outputs": [],
   "source": [
    "xaxis = np.arange(-10,10)\n",
    "yaxis = np.arange(-10,10)\n",
    "x, y = np.meshgrid(xaxis, yaxis)"
   ]
  },
  {
   "cell_type": "code",
   "execution_count": null,
   "id": "aee681ad",
   "metadata": {},
   "outputs": [],
   "source": [
    "f_x_y = objective([x,y])"
   ]
  },
  {
   "cell_type": "markdown",
   "id": "f1705a8d",
   "metadata": {},
   "source": [
    "## [3D surface plots:](https://matplotlib.org/stable/gallery/mplot3d/surface3d.html)"
   ]
  },
  {
   "cell_type": "code",
   "execution_count": null,
   "id": "d9fa291a",
   "metadata": {},
   "outputs": [],
   "source": [
    "fig, ax = plt.subplots(subplot_kw={\"projection\": \"3d\"})\n",
    "ax.plot_surface(x,y,f_x_y,cmap=cm.coolwarm)"
   ]
  },
  {
   "cell_type": "markdown",
   "id": "8e5725e6",
   "metadata": {},
   "source": [
    "## [Contour plots:](https://matplotlib.org/stable/api/_as_gen/matplotlib.pyplot.contour.html)"
   ]
  },
  {
   "cell_type": "code",
   "execution_count": null,
   "id": "2ecdbfc0",
   "metadata": {},
   "outputs": [],
   "source": [
    "plt.contour(x,y,f_x_y)"
   ]
  },
  {
   "cell_type": "markdown",
   "id": "c3cf7078",
   "metadata": {},
   "source": [
    "# [Integration:](https://docs.scipy.org/doc/scipy/tutorial/integrate.html)\n",
    "$$\\frac{dy}{dt} = -ky$$"
   ]
  },
  {
   "cell_type": "code",
   "execution_count": null,
   "id": "0617bc11",
   "metadata": {},
   "outputs": [],
   "source": [
    "#Define system of differential equations\n",
    "def model(y,t,k):\n",
    "    dydt = -k*t\n",
    "    return dydt"
   ]
  },
  {
   "cell_type": "markdown",
   "id": "4d506678",
   "metadata": {},
   "source": [
    "## [odeint:](https://docs.scipy.org/doc/scipy/reference/generated/scipy.integrate.odeint.html)"
   ]
  },
  {
   "cell_type": "code",
   "execution_count": null,
   "id": "a3de7262",
   "metadata": {},
   "outputs": [],
   "source": [
    "#Initial value\n",
    "y0 = 5\n",
    "\n",
    "# time points\n",
    "t = np.linspace(0,20)\n",
    "k = 0.5\n",
    "\n",
    "# solve ODE\n",
    "y = odeint(model,y0,t,args = (k,))"
   ]
  },
  {
   "cell_type": "code",
   "execution_count": null,
   "id": "0498d0f4",
   "metadata": {},
   "outputs": [],
   "source": [
    "#Plotting\n",
    "plt.plot(t,y)\n",
    "plt.xlabel('Time')\n",
    "plt.ylabel('y')\n",
    "plt.title('Numerical Integration')"
   ]
  },
  {
   "cell_type": "markdown",
   "id": "eeeff227",
   "metadata": {},
   "source": [
    "## System of differential equations:"
   ]
  },
  {
   "cell_type": "markdown",
   "id": "2cdc1705",
   "metadata": {},
   "source": [
    "$$\\dot{x_1} = x_1(1-x_1-x_2)$$\n",
    "$$\\dot{x_2} = x_2(0.75-x_2-0.5x_1)$$"
   ]
  },
  {
   "cell_type": "code",
   "execution_count": null,
   "id": "050fbd43",
   "metadata": {},
   "outputs": [],
   "source": [
    "#Define system of differential equations\n",
    "def model(X,t):\n",
    "    x1 = X[0]\n",
    "    x2 = X[1]\n",
    "    dx1dt = x1*(1-x1-x2)\n",
    "    dx2dt = x2*(0.75-x2-0.5*x1)\n",
    "    return [dx1dt,dx2dt]"
   ]
  },
  {
   "cell_type": "code",
   "execution_count": null,
   "id": "97b7d1d7",
   "metadata": {},
   "outputs": [],
   "source": [
    "#Initial value\n",
    "y0 = (5,5)\n",
    "\n",
    "# time points\n",
    "t = np.linspace(0,20)\n",
    "\n",
    "# solve ODE\n",
    "y = odeint(model,y0,t)"
   ]
  },
  {
   "cell_type": "code",
   "execution_count": null,
   "id": "1bf1e246",
   "metadata": {},
   "outputs": [],
   "source": [
    "#Plotting\n",
    "plt.plot(t,y,label=['x1','x2'])\n",
    "plt.xlabel('Time')\n",
    "plt.ylabel('Concentration')\n",
    "plt.title('Numerical Integration')\n",
    "plt.legend()"
   ]
  },
  {
   "cell_type": "markdown",
   "id": "f1e17382",
   "metadata": {},
   "source": [
    "## [Steady State values:](https://docs.scipy.org/doc/scipy/reference/generated/scipy.optimize.fsolve.html)"
   ]
  },
  {
   "cell_type": "code",
   "execution_count": null,
   "id": "1c585b9f",
   "metadata": {},
   "outputs": [],
   "source": [
    "#Define system of differential equations\n",
    "def model(X):\n",
    "    x1 = X[0]\n",
    "    x2 = X[1]\n",
    "    dx1dt = x1*(1-x1-x2)\n",
    "    dx2dt = x2*(0.75-x2-0.5*x1)\n",
    "    return [dx1dt,dx2dt]"
   ]
  },
  {
   "cell_type": "code",
   "execution_count": null,
   "id": "20d887ee",
   "metadata": {},
   "outputs": [],
   "source": [
    "fsolve(model,y0)"
   ]
  },
  {
   "cell_type": "markdown",
   "id": "a3235597",
   "metadata": {},
   "source": [
    "# [Seaborn:](https://seaborn.pydata.org/)"
   ]
  },
  {
   "cell_type": "code",
   "execution_count": null,
   "id": "ac9b559b",
   "metadata": {},
   "outputs": [],
   "source": [
    "sns.set_theme()"
   ]
  },
  {
   "cell_type": "code",
   "execution_count": null,
   "id": "fef62093",
   "metadata": {},
   "outputs": [],
   "source": [
    "titanic = sns.load_dataset(\"titanic\")"
   ]
  },
  {
   "cell_type": "code",
   "execution_count": null,
   "id": "b475aea9",
   "metadata": {},
   "outputs": [],
   "source": [
    "titanic.head()"
   ]
  },
  {
   "cell_type": "code",
   "execution_count": null,
   "id": "b6dc96a3",
   "metadata": {},
   "outputs": [],
   "source": [
    "titanic.dropna(inplace=True)"
   ]
  },
  {
   "cell_type": "code",
   "execution_count": null,
   "id": "403adf1b",
   "metadata": {},
   "outputs": [],
   "source": [
    "titanic.head()"
   ]
  },
  {
   "cell_type": "markdown",
   "id": "4038c1d8",
   "metadata": {},
   "source": [
    "## [scatterplot:](https://seaborn.pydata.org/generated/seaborn.scatterplot.html)"
   ]
  },
  {
   "cell_type": "code",
   "execution_count": null,
   "id": "49894a50",
   "metadata": {},
   "outputs": [],
   "source": [
    "sns.scatterplot(data=titanic, x=\"fare\", y=\"age\")"
   ]
  },
  {
   "cell_type": "code",
   "execution_count": null,
   "id": "4314d080",
   "metadata": {},
   "outputs": [],
   "source": [
    "sns.scatterplot(data=titanic, x=\"fare\", y=\"age\",hue=\"embark_town\")"
   ]
  },
  {
   "cell_type": "markdown",
   "id": "f147f9a6",
   "metadata": {},
   "source": [
    "## [lmplot:](https://seaborn.pydata.org/generated/seaborn.lmplot.html#seaborn.lmplot)"
   ]
  },
  {
   "cell_type": "code",
   "execution_count": null,
   "id": "e271dbf4",
   "metadata": {},
   "outputs": [],
   "source": [
    "sns.lmplot(data=titanic, x=\"fare\", y=\"age\", col=\"alive\", hue=\"class\")"
   ]
  },
  {
   "cell_type": "markdown",
   "id": "6876a257",
   "metadata": {},
   "source": [
    "## [histplot:](https://seaborn.pydata.org/generated/seaborn.histplot.html)"
   ]
  },
  {
   "cell_type": "code",
   "execution_count": null,
   "id": "52997ce7",
   "metadata": {},
   "outputs": [],
   "source": [
    "sns.histplot(data=titanic, x=\"fare\",kde=True)"
   ]
  },
  {
   "cell_type": "markdown",
   "id": "d758bdf3",
   "metadata": {},
   "source": [
    "## [boxplot:](https://seaborn.pydata.org/generated/seaborn.boxplot.html)"
   ]
  },
  {
   "cell_type": "code",
   "execution_count": null,
   "id": "cc8ddb51",
   "metadata": {},
   "outputs": [],
   "source": [
    "sns.boxplot(data=titanic, x=\"fare\", y=\"who\")"
   ]
  },
  {
   "cell_type": "markdown",
   "id": "232ccd7b",
   "metadata": {},
   "source": [
    "## [catplot:](https://seaborn.pydata.org/generated/seaborn.catplot.html)"
   ]
  },
  {
   "cell_type": "code",
   "execution_count": null,
   "id": "aed8b1d4",
   "metadata": {},
   "outputs": [],
   "source": [
    "sns.catplot(data=titanic, kind=\"bar\", x=\"who\", y=\"age\", hue=\"class\")"
   ]
  },
  {
   "cell_type": "markdown",
   "id": "75a66348",
   "metadata": {},
   "source": [
    "# [Pytorch:](https://pytorch.org/docs/stable/index.html)"
   ]
  },
  {
   "cell_type": "markdown",
   "id": "e955b05a",
   "metadata": {},
   "source": [
    "## Tensor:"
   ]
  },
  {
   "cell_type": "code",
   "execution_count": null,
   "id": "6d6fcb18",
   "metadata": {},
   "outputs": [],
   "source": [
    "#Tensor from list\n",
    "ar = [0,1]\n",
    "ten = torch.tensor(ar)"
   ]
  },
  {
   "cell_type": "code",
   "execution_count": null,
   "id": "517f2210",
   "metadata": {},
   "outputs": [],
   "source": [
    "#Tensor attributes: shape, dtype, device\n",
    "ten.shape"
   ]
  },
  {
   "cell_type": "code",
   "execution_count": null,
   "id": "c0c7b42e",
   "metadata": {},
   "outputs": [],
   "source": [
    "#Tensor from numpy array\n",
    "torch.tensor(np.asarray(ar))"
   ]
  },
  {
   "cell_type": "code",
   "execution_count": null,
   "id": "955ba79e",
   "metadata": {},
   "outputs": [],
   "source": [
    "#Back to numpy\n",
    "torch.tensor(np.asarray(ar)).numpy()"
   ]
  },
  {
   "cell_type": "code",
   "execution_count": null,
   "id": "e8e36d8b",
   "metadata": {},
   "outputs": [],
   "source": [
    "torch.ones_like(ten)"
   ]
  },
  {
   "cell_type": "code",
   "execution_count": null,
   "id": "784ce134",
   "metadata": {},
   "outputs": [],
   "source": [
    "torch.rand_like(ten, dtype=torch.float)"
   ]
  },
  {
   "cell_type": "code",
   "execution_count": null,
   "id": "b9441049",
   "metadata": {},
   "outputs": [],
   "source": [
    "#ones, zeros, rand\n",
    "shape = (5,5)\n",
    "torch.ones(shape)"
   ]
  },
  {
   "cell_type": "code",
   "execution_count": null,
   "id": "d20e1e05",
   "metadata": {},
   "outputs": [],
   "source": [
    "#Concatenate\n",
    "torch.cat((ten,ten)).shape"
   ]
  },
  {
   "cell_type": "code",
   "execution_count": null,
   "id": "f02a0068",
   "metadata": {},
   "outputs": [],
   "source": [
    "ones = torch.ones(shape)"
   ]
  },
  {
   "cell_type": "code",
   "execution_count": null,
   "id": "4ee03ed4",
   "metadata": {},
   "outputs": [],
   "source": [
    "#Matrix multiplication\n",
    "ones@ones"
   ]
  },
  {
   "cell_type": "code",
   "execution_count": null,
   "id": "7acaa724",
   "metadata": {},
   "outputs": [],
   "source": [
    "#Elementwise multiplication\n",
    "ones*ones"
   ]
  },
  {
   "cell_type": "code",
   "execution_count": null,
   "id": "3a5a01dc",
   "metadata": {},
   "outputs": [],
   "source": [
    "#sum, mean\n",
    "ten.sum()"
   ]
  }
 ],
 "metadata": {
  "kernelspec": {
   "display_name": "Python 3 (ipykernel)",
   "language": "python",
   "name": "python3"
  },
  "language_info": {
   "codemirror_mode": {
    "name": "ipython",
    "version": 3
   },
   "file_extension": ".py",
   "mimetype": "text/x-python",
   "name": "python",
   "nbconvert_exporter": "python",
   "pygments_lexer": "ipython3",
   "version": "3.9.16"
  }
 },
 "nbformat": 4,
 "nbformat_minor": 5
}
