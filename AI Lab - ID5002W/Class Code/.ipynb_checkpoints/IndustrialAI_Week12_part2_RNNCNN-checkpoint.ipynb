{
 "cells": [
  {
   "cell_type": "markdown",
   "metadata": {
    "id": "cZgBVd-99tRm"
   },
   "source": [
    "## <center> ID5002W:Industrial AI Laboratory\n",
    "### <center> Week-12 (part-2)\n",
    "### <center> Recurrent Neural Networks"
   ]
  },
  {
   "cell_type": "markdown",
   "metadata": {
    "id": "KcLlB5eMATRV"
   },
   "source": [
    "**Contents:** \n",
    "1. Data preprocessing\n",
    "2. Creating tensor dataset\n",
    "3. Defining and training RNN model \n",
    "4. Test dataset performance evaluation\n"
   ]
  },
  {
   "cell_type": "code",
   "execution_count": null,
   "metadata": {
    "id": "eOQbCfyf4USy"
   },
   "outputs": [],
   "source": [
    "# !pip install torchmetrics"
   ]
  },
  {
   "cell_type": "code",
   "execution_count": 2,
   "metadata": {
    "id": "N40vez6i9scs"
   },
   "outputs": [],
   "source": [
    "# Importing necessary libraries\n",
    "import matplotlib.pyplot as plt # For data visulization\n",
    "import pandas as pd # For data import and manipulation\n",
    "import numpy as np # For linear algebra\n",
    "from sklearn.model_selection import train_test_split # For training and validating\n",
    "\n",
    "import torch\n",
    "import torch.optim as optim # To choose the optimizer\n",
    "from torch.autograd import Variable # To define the hidden state in the RNN to be a variable\n",
    "import torch.nn as nn # To build the neural network layers\n",
    "import torch.nn.functional as F # To use non-linear function (Eg: Relu)\n",
    "from torch.utils.data import DataLoader, TensorDataset\n",
    "from torchmetrics import Accuracy"
   ]
  },
  {
   "cell_type": "markdown",
   "metadata": {
    "id": "cFClPpfvBTWS"
   },
   "source": [
    "# Data pre-processing"
   ]
  },
  {
   "cell_type": "markdown",
   "metadata": {
    "id": "MyD3QAW2BprV"
   },
   "source": [
    "# Data source: https://www.kaggle.com/datasets/namanj27/ner-dataset"
   ]
  },
  {
   "cell_type": "code",
   "execution_count": 3,
   "metadata": {
    "colab": {
     "base_uri": "https://localhost:8080/",
     "height": 206
    },
    "id": "_M6jyuhmBOtV",
    "outputId": "3f3c085e-8aab-4a3d-d550-d202405d2dec"
   },
   "outputs": [
    {
     "data": {
      "text/html": [
       "\n",
       "  <div id=\"df-10362316-a312-4d02-83d9-cc42d9223452\">\n",
       "    <div class=\"colab-df-container\">\n",
       "      <div>\n",
       "<style scoped>\n",
       "    .dataframe tbody tr th:only-of-type {\n",
       "        vertical-align: middle;\n",
       "    }\n",
       "\n",
       "    .dataframe tbody tr th {\n",
       "        vertical-align: top;\n",
       "    }\n",
       "\n",
       "    .dataframe thead th {\n",
       "        text-align: right;\n",
       "    }\n",
       "</style>\n",
       "<table border=\"1\" class=\"dataframe\">\n",
       "  <thead>\n",
       "    <tr style=\"text-align: right;\">\n",
       "      <th></th>\n",
       "      <th>Sentence #</th>\n",
       "      <th>Word</th>\n",
       "      <th>POS</th>\n",
       "      <th>Tag</th>\n",
       "    </tr>\n",
       "  </thead>\n",
       "  <tbody>\n",
       "    <tr>\n",
       "      <th>0</th>\n",
       "      <td>Sentence: 1</td>\n",
       "      <td>Thousands</td>\n",
       "      <td>NNS</td>\n",
       "      <td>O</td>\n",
       "    </tr>\n",
       "    <tr>\n",
       "      <th>1</th>\n",
       "      <td>NaN</td>\n",
       "      <td>of</td>\n",
       "      <td>IN</td>\n",
       "      <td>O</td>\n",
       "    </tr>\n",
       "    <tr>\n",
       "      <th>2</th>\n",
       "      <td>NaN</td>\n",
       "      <td>demonstrators</td>\n",
       "      <td>NNS</td>\n",
       "      <td>O</td>\n",
       "    </tr>\n",
       "    <tr>\n",
       "      <th>3</th>\n",
       "      <td>NaN</td>\n",
       "      <td>have</td>\n",
       "      <td>VBP</td>\n",
       "      <td>O</td>\n",
       "    </tr>\n",
       "    <tr>\n",
       "      <th>4</th>\n",
       "      <td>NaN</td>\n",
       "      <td>marched</td>\n",
       "      <td>VBN</td>\n",
       "      <td>O</td>\n",
       "    </tr>\n",
       "  </tbody>\n",
       "</table>\n",
       "</div>\n",
       "      <button class=\"colab-df-convert\" onclick=\"convertToInteractive('df-10362316-a312-4d02-83d9-cc42d9223452')\"\n",
       "              title=\"Convert this dataframe to an interactive table.\"\n",
       "              style=\"display:none;\">\n",
       "        \n",
       "  <svg xmlns=\"http://www.w3.org/2000/svg\" height=\"24px\"viewBox=\"0 0 24 24\"\n",
       "       width=\"24px\">\n",
       "    <path d=\"M0 0h24v24H0V0z\" fill=\"none\"/>\n",
       "    <path d=\"M18.56 5.44l.94 2.06.94-2.06 2.06-.94-2.06-.94-.94-2.06-.94 2.06-2.06.94zm-11 1L8.5 8.5l.94-2.06 2.06-.94-2.06-.94L8.5 2.5l-.94 2.06-2.06.94zm10 10l.94 2.06.94-2.06 2.06-.94-2.06-.94-.94-2.06-.94 2.06-2.06.94z\"/><path d=\"M17.41 7.96l-1.37-1.37c-.4-.4-.92-.59-1.43-.59-.52 0-1.04.2-1.43.59L10.3 9.45l-7.72 7.72c-.78.78-.78 2.05 0 2.83L4 21.41c.39.39.9.59 1.41.59.51 0 1.02-.2 1.41-.59l7.78-7.78 2.81-2.81c.8-.78.8-2.07 0-2.86zM5.41 20L4 18.59l7.72-7.72 1.47 1.35L5.41 20z\"/>\n",
       "  </svg>\n",
       "      </button>\n",
       "      \n",
       "  <style>\n",
       "    .colab-df-container {\n",
       "      display:flex;\n",
       "      flex-wrap:wrap;\n",
       "      gap: 12px;\n",
       "    }\n",
       "\n",
       "    .colab-df-convert {\n",
       "      background-color: #E8F0FE;\n",
       "      border: none;\n",
       "      border-radius: 50%;\n",
       "      cursor: pointer;\n",
       "      display: none;\n",
       "      fill: #1967D2;\n",
       "      height: 32px;\n",
       "      padding: 0 0 0 0;\n",
       "      width: 32px;\n",
       "    }\n",
       "\n",
       "    .colab-df-convert:hover {\n",
       "      background-color: #E2EBFA;\n",
       "      box-shadow: 0px 1px 2px rgba(60, 64, 67, 0.3), 0px 1px 3px 1px rgba(60, 64, 67, 0.15);\n",
       "      fill: #174EA6;\n",
       "    }\n",
       "\n",
       "    [theme=dark] .colab-df-convert {\n",
       "      background-color: #3B4455;\n",
       "      fill: #D2E3FC;\n",
       "    }\n",
       "\n",
       "    [theme=dark] .colab-df-convert:hover {\n",
       "      background-color: #434B5C;\n",
       "      box-shadow: 0px 1px 3px 1px rgba(0, 0, 0, 0.15);\n",
       "      filter: drop-shadow(0px 1px 2px rgba(0, 0, 0, 0.3));\n",
       "      fill: #FFFFFF;\n",
       "    }\n",
       "  </style>\n",
       "\n",
       "      <script>\n",
       "        const buttonEl =\n",
       "          document.querySelector('#df-10362316-a312-4d02-83d9-cc42d9223452 button.colab-df-convert');\n",
       "        buttonEl.style.display =\n",
       "          google.colab.kernel.accessAllowed ? 'block' : 'none';\n",
       "\n",
       "        async function convertToInteractive(key) {\n",
       "          const element = document.querySelector('#df-10362316-a312-4d02-83d9-cc42d9223452');\n",
       "          const dataTable =\n",
       "            await google.colab.kernel.invokeFunction('convertToInteractive',\n",
       "                                                     [key], {});\n",
       "          if (!dataTable) return;\n",
       "\n",
       "          const docLinkHtml = 'Like what you see? Visit the ' +\n",
       "            '<a target=\"_blank\" href=https://colab.research.google.com/notebooks/data_table.ipynb>data table notebook</a>'\n",
       "            + ' to learn more about interactive tables.';\n",
       "          element.innerHTML = '';\n",
       "          dataTable['output_type'] = 'display_data';\n",
       "          await google.colab.output.renderOutput(dataTable, element);\n",
       "          const docLink = document.createElement('div');\n",
       "          docLink.innerHTML = docLinkHtml;\n",
       "          element.appendChild(docLink);\n",
       "        }\n",
       "      </script>\n",
       "    </div>\n",
       "  </div>\n",
       "  "
      ],
      "text/plain": [
       "    Sentence #           Word  POS Tag\n",
       "0  Sentence: 1      Thousands  NNS   O\n",
       "1          NaN             of   IN   O\n",
       "2          NaN  demonstrators  NNS   O\n",
       "3          NaN           have  VBP   O\n",
       "4          NaN        marched  VBN   O"
      ]
     },
     "execution_count": 3,
     "metadata": {},
     "output_type": "execute_result"
    }
   ],
   "source": [
    "# Loading the dataset\n",
    "df = pd.read_csv('ner_datasetreference.csv',encoding='latin1')\n",
    "df.head()"
   ]
  },
  {
   "cell_type": "code",
   "execution_count": 5,
   "metadata": {
    "id": "i7Hf6P3ODATl"
   },
   "outputs": [],
   "source": [
    "n_sentences = np.sum(df['Sentence #'].isna()==0) # total number of sentences\n",
    "idx = np.where(df['Sentence #'].isna().values==0) # index of first word in a sentence\n",
    "# Sentences is a list of lists (inner list will be the words in a sentence; outer list will be all the sentences)\n",
    "# entities is a list of lists (inner list will be the tags in a sentence; outer list will be all the sentences)\n",
    "sentences=[]\n",
    "entities=[]\n",
    "for i,j in enumerate(idx[0]):\n",
    "  if j==idx[0][-1]:\n",
    "    sentence = [k for k in df['Word'][j:]]\n",
    "    entity = [k for k in df['Tag'][j:]]\n",
    "  else:\n",
    "    sentence = [k for k in df['Word'][j:idx[0][i+1]]]\n",
    "    entity = [k for k in df['Tag'][j:idx[0][i+1]]]\n",
    "  sentences.append(sentence)\n",
    "  entities.append(entity)"
   ]
  },
  {
   "cell_type": "code",
   "execution_count": 9,
   "metadata": {
    "id": "nIMdAZC_KSBF"
   },
   "outputs": [],
   "source": [
    "# Creating a dictionary that carry word to index and index to word info\n",
    "uniq_words = np.sort(df['Word'].unique()) # all unique words\n",
    "uniq_words = np.concatenate((uniq_words,np.array(['end_pad']))) # appending with end tag\n",
    "\n",
    "word_2_idx = {j:i for i,j in enumerate(uniq_words)}\n",
    "idx_2_word = {i:j for i,j in enumerate(uniq_words)}"
   ]
  },
  {
   "cell_type": "code",
   "execution_count": 10,
   "metadata": {
    "id": "LMJx41gGUQpF"
   },
   "outputs": [],
   "source": [
    "# Creating a dictionary that carry entity to index and index to entity info\n",
    "uniq_tags = np.sort(df['Tag'].unique()) # all unique tags\n",
    "uniq_tags = np.concatenate((uniq_tags,np.array(['end_pad']))) # appeding with end tag\n",
    "\n",
    "tag_2_idx = {j:i for i,j in enumerate(uniq_tags)}\n",
    "idx_2_tag = {i:j for i,j in enumerate(uniq_tags)}"
   ]
  },
  {
   "cell_type": "code",
   "execution_count": 17,
   "metadata": {
    "id": "GArHmS97Wa-k"
   },
   "outputs": [],
   "source": [
    "# replacing the words and tags with the indices\n",
    "X,y = [],[]\n",
    "for sent,ent in zip(sentences,entities):\n",
    "  item1 = [word_2_idx[i] for i in sent]\n",
    "  item2 = [tag_2_idx[i] for i in ent]\n",
    "  X.append(item1)\n",
    "  y.append(item2)"
   ]
  },
  {
   "cell_type": "code",
   "execution_count": 20,
   "metadata": {
    "colab": {
     "base_uri": "https://localhost:8080/"
    },
    "id": "zRDXkC1nbf8h",
    "outputId": "013f02da-388d-4dd1-be50-4fcb05bd934c"
   },
   "outputs": [
    {
     "name": "stdout",
     "output_type": "stream",
     "text": [
      "torch.Size([47959, 104])\n"
     ]
    }
   ],
   "source": [
    "X = [torch.tensor(i) for i in X] # Converting the list to tensor\n",
    "X = nn.utils.rnn.pad_sequence(X,batch_first =True, padding_value=word_2_idx['end_pad']) # Padding all the sentences with end pad\n",
    "print(X.shape)"
   ]
  },
  {
   "cell_type": "code",
   "execution_count": 22,
   "metadata": {
    "colab": {
     "base_uri": "https://localhost:8080/"
    },
    "id": "cg5P9W6DbmxR",
    "outputId": "3581b4dd-a9cc-4808-fe72-9bf4d8ce7632"
   },
   "outputs": [
    {
     "name": "stdout",
     "output_type": "stream",
     "text": [
      "torch.Size([47959, 104])\n"
     ]
    }
   ],
   "source": [
    "y = [torch.tensor(i) for i in y] # Converting the list to tensor\n",
    "y = nn.utils.rnn.pad_sequence(y,batch_first =True, padding_value=tag_2_idx['end_pad']) # Padding all the sentences with end pad\n",
    "print(y.shape)"
   ]
  },
  {
   "cell_type": "markdown",
   "metadata": {
    "id": "fcWts5FqOiyE"
   },
   "source": [
    "# Summary of data preprocessing\n",
    "\n",
    "1. Created a variable 'X' of shape --> (number of sentences, max_length)\n",
    "2. Created a variable 'y' of shape --> (number of sentences, max_length, number of entities)\n",
    "3. Created variables 'word_2_idx' and 'idx_2_word' that maps word to index and index to word respectively\n",
    "4. Created variables 'tag_2_idx' and 'idx_2_tag' that maps entities to index and index to entities respectively"
   ]
  },
  {
   "cell_type": "markdown",
   "metadata": {
    "id": "obDmPs5V1Fmg"
   },
   "source": [
    "# Creating tensor dataset"
   ]
  },
  {
   "cell_type": "code",
   "execution_count": 23,
   "metadata": {
    "id": "h-vJZZQoNybD"
   },
   "outputs": [],
   "source": [
    "# train test split\n",
    "Xtrain, Xtest, ytrain, ytest = train_test_split(X,y,test_size = 0.2,random_state = 42) "
   ]
  },
  {
   "cell_type": "code",
   "execution_count": 24,
   "metadata": {
    "id": "rDf2lxTdOgYz"
   },
   "outputs": [],
   "source": [
    "# Pytorch train and test sets\n",
    "train = TensorDataset(Xtrain,ytrain)\n",
    "test = TensorDataset(Xtest,ytest)\n",
    "\n",
    "batch_size =16\n",
    "\n",
    "# data loader\n",
    "train_loader = DataLoader(train, batch_size = batch_size, shuffle = True)\n",
    "test_loader = DataLoader(test, batch_size = batch_size, shuffle = True)"
   ]
  },
  {
   "cell_type": "markdown",
   "metadata": {
    "id": "Z_Z5UJqvskTD"
   },
   "source": [
    "# Defining and training RNN model "
   ]
  },
  {
   "cell_type": "code",
   "execution_count": 25,
   "metadata": {
    "id": "7_X4GAHEfUyE"
   },
   "outputs": [],
   "source": [
    "# Defining the model\n",
    "class RNN_model(nn.Module):\n",
    "  def __init__(self,n_words,embedding_size,padding_idx,output_size,hidden_dim,n_rnn_layers):\n",
    "    super().__init__()\n",
    "    # RNN layers\n",
    "    self.emb_1 = nn.Embedding(num_embeddings=n_words, embedding_dim=embedding_size, padding_idx=padding_idx)\n",
    "    self.rnn_2 = nn.RNN(input_size=embedding_size, hidden_size=hidden_dim, num_layers=n_rnn_layers, nonlinearity='relu',batch_first=True) \n",
    "    self.lin_3 = nn.Linear(hidden_dim, output_size)\n",
    "    \n",
    "  def forward(self, x):\n",
    "    output = self.emb_1(x)\n",
    "    output, hs = self.rnn_2(output)\n",
    "    output = self.lin_3(output)\n",
    "    return output"
   ]
  },
  {
   "cell_type": "code",
   "execution_count": 26,
   "metadata": {
    "colab": {
     "base_uri": "https://localhost:8080/"
    },
    "id": "co_wGVv5LQFz",
    "outputId": "bb85f021-4f2b-4434-9af5-ccb8023fc56c"
   },
   "outputs": [
    {
     "data": {
      "text/plain": [
       "RNN_model(\n",
       "  (emb_1): Embedding(35179, 50, padding_idx=35178)\n",
       "  (rnn_2): RNN(50, 50, num_layers=2, batch_first=True)\n",
       "  (lin_3): Linear(in_features=50, out_features=18, bias=True)\n",
       ")"
      ]
     },
     "execution_count": 26,
     "metadata": {},
     "output_type": "execute_result"
    }
   ],
   "source": [
    "# number of words\n",
    "n_words = len(word_2_idx.keys())\n",
    "embedding_size = 50\n",
    "padding_idx = word_2_idx['end_pad']\n",
    "output_size = 18\n",
    "hidden_dim = 50\n",
    "n_rnn_layers =2\n",
    "\n",
    "# Check if GPU is available so that the model can be trained on a GPU\n",
    "device = torch.device(\"cuda\" if torch.cuda.is_available() else \"cpu\")\n",
    "\n",
    "# Initializing the model\n",
    "model = RNN_model(n_words,embedding_size,padding_idx,output_size,hidden_dim,n_rnn_layers)\n",
    "\n",
    "model.to(device)"
   ]
  },
  {
   "cell_type": "code",
   "execution_count": 27,
   "metadata": {
    "id": "y6CkjWM2LpMs"
   },
   "outputs": [],
   "source": [
    "# defining the loss and the optimizer\n",
    "loss_metric = nn.CrossEntropyLoss(ignore_index=padding_idx)\n",
    "optimizer = optim.Adam(model.parameters(), lr=0.001)"
   ]
  },
  {
   "cell_type": "code",
   "execution_count": 28,
   "metadata": {
    "colab": {
     "base_uri": "https://localhost:8080/"
    },
    "id": "clWIpBUaMwUb",
    "outputId": "c888cc57-acfc-49cb-9517-aa849fa11004"
   },
   "outputs": [
    {
     "name": "stdout",
     "output_type": "stream",
     "text": [
      "For epoch 1: The loss is:0.11399002670526853\n",
      "For epoch 2: The loss is:0.0407255743737078\n",
      "For epoch 3: The loss is:0.03147547689651543\n",
      "For epoch 4: The loss is:0.02677877865456632\n",
      "For epoch 5: The loss is:0.02379323736308737\n"
     ]
    }
   ],
   "source": [
    "# Training the model\n",
    "for epoch in range(5): # Number of epochs\n",
    "    running_loss = 0.0\n",
    "    for i, data in enumerate(train_loader):\n",
    "        inputs, labels = data\n",
    "        inputs, labels = inputs.to(device), labels.to(device) # to gpu\n",
    "        optimizer.zero_grad() # zero the parameter gradients\n",
    "        outputs = model(inputs) # Forward pass\n",
    "        loss = loss_metric(outputs.view(-1,output_size), labels.view(-1)) # Cross entropy loss\n",
    "        loss.backward() # backward pass\n",
    "        optimizer.step() # Optimizing the parameters\n",
    "        running_loss += loss.item() # calculating the loss\n",
    "    print(f'For epoch {epoch+1}: The loss is:{running_loss/i}')\n",
    "    running_loss = 0.0"
   ]
  },
  {
   "cell_type": "markdown",
   "metadata": {
    "id": "U-4VZnZIArna"
   },
   "source": [
    "# Test dataset performance evaluation"
   ]
  },
  {
   "cell_type": "code",
   "execution_count": 31,
   "metadata": {
    "colab": {
     "base_uri": "https://localhost:8080/"
    },
    "id": "Ibr0uAjQQcab",
    "outputId": "d0263afc-b013-4fe7-9cd4-c685e2e9664f"
   },
   "outputs": [
    {
     "name": "stdout",
     "output_type": "stream",
     "text": [
      "The accuracy of the model in test dataset is 0.9567702412605286\n"
     ]
    }
   ],
   "source": [
    "accuracy = Accuracy(task='multiclass', num_classes=18,ignore_index=tag_2_idx['end_pad']).to(device)\n",
    "# Test accuracy\n",
    "acc= []\n",
    "with torch.no_grad():\n",
    "    for data in test_loader:\n",
    "        inputs, labels = data\n",
    "        inputs, labels = inputs.to(device), labels.to(device)\n",
    "        outputs = model(inputs)\n",
    "        acc_metric = accuracy(outputs.view(-1,output_size), labels.view(-1))\n",
    "        acc.append(acc_metric)\n",
    "print('The accuracy of the model in test dataset is',torch.mean(torch.tensor(acc)).item())"
   ]
  }
 ],
 "metadata": {
  "accelerator": "GPU",
  "colab": {
   "provenance": []
  },
  "gpuClass": "standard",
  "kernelspec": {
   "display_name": "Python 3 (ipykernel)",
   "language": "python",
   "name": "python3"
  },
  "language_info": {
   "codemirror_mode": {
    "name": "ipython",
    "version": 3
   },
   "file_extension": ".py",
   "mimetype": "text/x-python",
   "name": "python",
   "nbconvert_exporter": "python",
   "pygments_lexer": "ipython3",
   "version": "3.9.16"
  }
 },
 "nbformat": 4,
 "nbformat_minor": 1
}
