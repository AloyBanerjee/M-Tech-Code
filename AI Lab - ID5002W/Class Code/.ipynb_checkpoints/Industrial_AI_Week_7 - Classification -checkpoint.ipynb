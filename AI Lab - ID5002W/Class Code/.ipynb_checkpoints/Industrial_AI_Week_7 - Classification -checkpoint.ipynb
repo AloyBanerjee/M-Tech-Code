{
 "cells": [
  {
   "cell_type": "markdown",
   "metadata": {
    "id": "VgwznZNwnFnm"
   },
   "source": [
    "# Classification Methods"
   ]
  },
  {
   "cell_type": "code",
   "execution_count": null,
   "metadata": {
    "id": "e-6JQWaRGOBS"
   },
   "outputs": [],
   "source": [
    "import numpy as np\n",
    "import pandas as pd\n",
    "import matplotlib.pyplot as plt\n",
    "from mpl_toolkits import mplot3d\n",
    "import graphviz\n",
    "import seaborn as sns\n",
    "import os\n",
    "\n",
    "\n",
    "from sklearn.preprocessing import LabelEncoder\n",
    "from sklearn.preprocessing import StandardScaler\n",
    "from sklearn.preprocessing import label_binarize\n",
    "\n",
    "from sklearn.model_selection import train_test_split\n",
    "\n",
    "from sklearn.linear_model import LogisticRegression\n",
    "\n",
    "from sklearn.neighbors import KNeighborsClassifier\n",
    "\n",
    "from sklearn.naive_bayes import GaussianNB\n",
    "\n",
    "from sklearn.svm import SVC\n",
    "\n",
    "from sklearn.discriminant_analysis import LinearDiscriminantAnalysis\n",
    "from sklearn.discriminant_analysis import QuadraticDiscriminantAnalysis\n",
    "\n",
    "from sklearn.metrics import classification_report\n",
    "from sklearn.metrics import confusion_matrix\n",
    "from sklearn.metrics import roc_curve,auc, RocCurveDisplay\n",
    "\n",
    "from sklearn.multiclass import OneVsRestClassifier\n",
    "\n",
    "from itertools import cycle"
   ]
  },
  {
   "cell_type": "code",
   "execution_count": null,
   "metadata": {
    "colab": {
     "base_uri": "https://localhost:8080/",
     "height": 424
    },
    "id": "DwqbfKWUGjad",
    "outputId": "2a267328-da55-4826-daa3-d6939884193a"
   },
   "outputs": [
    {
     "data": {
      "text/html": [
       "\n",
       "  <div id=\"df-2cfca1dc-2e51-46f9-91d8-538e3d324f06\">\n",
       "    <div class=\"colab-df-container\">\n",
       "      <div>\n",
       "<style scoped>\n",
       "    .dataframe tbody tr th:only-of-type {\n",
       "        vertical-align: middle;\n",
       "    }\n",
       "\n",
       "    .dataframe tbody tr th {\n",
       "        vertical-align: top;\n",
       "    }\n",
       "\n",
       "    .dataframe thead th {\n",
       "        text-align: right;\n",
       "    }\n",
       "</style>\n",
       "<table border=\"1\" class=\"dataframe\">\n",
       "  <thead>\n",
       "    <tr style=\"text-align: right;\">\n",
       "      <th></th>\n",
       "      <th>Id</th>\n",
       "      <th>SepalLengthCm</th>\n",
       "      <th>SepalWidthCm</th>\n",
       "      <th>PetalLengthCm</th>\n",
       "      <th>PetalWidthCm</th>\n",
       "      <th>Species</th>\n",
       "    </tr>\n",
       "  </thead>\n",
       "  <tbody>\n",
       "    <tr>\n",
       "      <th>0</th>\n",
       "      <td>1</td>\n",
       "      <td>5.1</td>\n",
       "      <td>3.5</td>\n",
       "      <td>1.4</td>\n",
       "      <td>0.2</td>\n",
       "      <td>Iris-setosa</td>\n",
       "    </tr>\n",
       "    <tr>\n",
       "      <th>1</th>\n",
       "      <td>2</td>\n",
       "      <td>4.9</td>\n",
       "      <td>3.0</td>\n",
       "      <td>1.4</td>\n",
       "      <td>0.2</td>\n",
       "      <td>Iris-setosa</td>\n",
       "    </tr>\n",
       "    <tr>\n",
       "      <th>2</th>\n",
       "      <td>3</td>\n",
       "      <td>4.7</td>\n",
       "      <td>3.2</td>\n",
       "      <td>1.3</td>\n",
       "      <td>0.2</td>\n",
       "      <td>Iris-setosa</td>\n",
       "    </tr>\n",
       "    <tr>\n",
       "      <th>3</th>\n",
       "      <td>4</td>\n",
       "      <td>4.6</td>\n",
       "      <td>3.1</td>\n",
       "      <td>1.5</td>\n",
       "      <td>0.2</td>\n",
       "      <td>Iris-setosa</td>\n",
       "    </tr>\n",
       "    <tr>\n",
       "      <th>4</th>\n",
       "      <td>5</td>\n",
       "      <td>5.0</td>\n",
       "      <td>3.6</td>\n",
       "      <td>1.4</td>\n",
       "      <td>0.2</td>\n",
       "      <td>Iris-setosa</td>\n",
       "    </tr>\n",
       "    <tr>\n",
       "      <th>...</th>\n",
       "      <td>...</td>\n",
       "      <td>...</td>\n",
       "      <td>...</td>\n",
       "      <td>...</td>\n",
       "      <td>...</td>\n",
       "      <td>...</td>\n",
       "    </tr>\n",
       "    <tr>\n",
       "      <th>145</th>\n",
       "      <td>146</td>\n",
       "      <td>6.7</td>\n",
       "      <td>3.0</td>\n",
       "      <td>5.2</td>\n",
       "      <td>2.3</td>\n",
       "      <td>Iris-virginica</td>\n",
       "    </tr>\n",
       "    <tr>\n",
       "      <th>146</th>\n",
       "      <td>147</td>\n",
       "      <td>6.3</td>\n",
       "      <td>2.5</td>\n",
       "      <td>5.0</td>\n",
       "      <td>1.9</td>\n",
       "      <td>Iris-virginica</td>\n",
       "    </tr>\n",
       "    <tr>\n",
       "      <th>147</th>\n",
       "      <td>148</td>\n",
       "      <td>6.5</td>\n",
       "      <td>3.0</td>\n",
       "      <td>5.2</td>\n",
       "      <td>2.0</td>\n",
       "      <td>Iris-virginica</td>\n",
       "    </tr>\n",
       "    <tr>\n",
       "      <th>148</th>\n",
       "      <td>149</td>\n",
       "      <td>6.2</td>\n",
       "      <td>3.4</td>\n",
       "      <td>5.4</td>\n",
       "      <td>2.3</td>\n",
       "      <td>Iris-virginica</td>\n",
       "    </tr>\n",
       "    <tr>\n",
       "      <th>149</th>\n",
       "      <td>150</td>\n",
       "      <td>5.9</td>\n",
       "      <td>3.0</td>\n",
       "      <td>5.1</td>\n",
       "      <td>1.8</td>\n",
       "      <td>Iris-virginica</td>\n",
       "    </tr>\n",
       "  </tbody>\n",
       "</table>\n",
       "<p>150 rows × 6 columns</p>\n",
       "</div>\n",
       "      <button class=\"colab-df-convert\" onclick=\"convertToInteractive('df-2cfca1dc-2e51-46f9-91d8-538e3d324f06')\"\n",
       "              title=\"Convert this dataframe to an interactive table.\"\n",
       "              style=\"display:none;\">\n",
       "        \n",
       "  <svg xmlns=\"http://www.w3.org/2000/svg\" height=\"24px\"viewBox=\"0 0 24 24\"\n",
       "       width=\"24px\">\n",
       "    <path d=\"M0 0h24v24H0V0z\" fill=\"none\"/>\n",
       "    <path d=\"M18.56 5.44l.94 2.06.94-2.06 2.06-.94-2.06-.94-.94-2.06-.94 2.06-2.06.94zm-11 1L8.5 8.5l.94-2.06 2.06-.94-2.06-.94L8.5 2.5l-.94 2.06-2.06.94zm10 10l.94 2.06.94-2.06 2.06-.94-2.06-.94-.94-2.06-.94 2.06-2.06.94z\"/><path d=\"M17.41 7.96l-1.37-1.37c-.4-.4-.92-.59-1.43-.59-.52 0-1.04.2-1.43.59L10.3 9.45l-7.72 7.72c-.78.78-.78 2.05 0 2.83L4 21.41c.39.39.9.59 1.41.59.51 0 1.02-.2 1.41-.59l7.78-7.78 2.81-2.81c.8-.78.8-2.07 0-2.86zM5.41 20L4 18.59l7.72-7.72 1.47 1.35L5.41 20z\"/>\n",
       "  </svg>\n",
       "      </button>\n",
       "      \n",
       "  <style>\n",
       "    .colab-df-container {\n",
       "      display:flex;\n",
       "      flex-wrap:wrap;\n",
       "      gap: 12px;\n",
       "    }\n",
       "\n",
       "    .colab-df-convert {\n",
       "      background-color: #E8F0FE;\n",
       "      border: none;\n",
       "      border-radius: 50%;\n",
       "      cursor: pointer;\n",
       "      display: none;\n",
       "      fill: #1967D2;\n",
       "      height: 32px;\n",
       "      padding: 0 0 0 0;\n",
       "      width: 32px;\n",
       "    }\n",
       "\n",
       "    .colab-df-convert:hover {\n",
       "      background-color: #E2EBFA;\n",
       "      box-shadow: 0px 1px 2px rgba(60, 64, 67, 0.3), 0px 1px 3px 1px rgba(60, 64, 67, 0.15);\n",
       "      fill: #174EA6;\n",
       "    }\n",
       "\n",
       "    [theme=dark] .colab-df-convert {\n",
       "      background-color: #3B4455;\n",
       "      fill: #D2E3FC;\n",
       "    }\n",
       "\n",
       "    [theme=dark] .colab-df-convert:hover {\n",
       "      background-color: #434B5C;\n",
       "      box-shadow: 0px 1px 3px 1px rgba(0, 0, 0, 0.15);\n",
       "      filter: drop-shadow(0px 1px 2px rgba(0, 0, 0, 0.3));\n",
       "      fill: #FFFFFF;\n",
       "    }\n",
       "  </style>\n",
       "\n",
       "      <script>\n",
       "        const buttonEl =\n",
       "          document.querySelector('#df-2cfca1dc-2e51-46f9-91d8-538e3d324f06 button.colab-df-convert');\n",
       "        buttonEl.style.display =\n",
       "          google.colab.kernel.accessAllowed ? 'block' : 'none';\n",
       "\n",
       "        async function convertToInteractive(key) {\n",
       "          const element = document.querySelector('#df-2cfca1dc-2e51-46f9-91d8-538e3d324f06');\n",
       "          const dataTable =\n",
       "            await google.colab.kernel.invokeFunction('convertToInteractive',\n",
       "                                                     [key], {});\n",
       "          if (!dataTable) return;\n",
       "\n",
       "          const docLinkHtml = 'Like what you see? Visit the ' +\n",
       "            '<a target=\"_blank\" href=https://colab.research.google.com/notebooks/data_table.ipynb>data table notebook</a>'\n",
       "            + ' to learn more about interactive tables.';\n",
       "          element.innerHTML = '';\n",
       "          dataTable['output_type'] = 'display_data';\n",
       "          await google.colab.output.renderOutput(dataTable, element);\n",
       "          const docLink = document.createElement('div');\n",
       "          docLink.innerHTML = docLinkHtml;\n",
       "          element.appendChild(docLink);\n",
       "        }\n",
       "      </script>\n",
       "    </div>\n",
       "  </div>\n",
       "  "
      ],
      "text/plain": [
       "      Id  SepalLengthCm  SepalWidthCm  PetalLengthCm  PetalWidthCm  \\\n",
       "0      1            5.1           3.5            1.4           0.2   \n",
       "1      2            4.9           3.0            1.4           0.2   \n",
       "2      3            4.7           3.2            1.3           0.2   \n",
       "3      4            4.6           3.1            1.5           0.2   \n",
       "4      5            5.0           3.6            1.4           0.2   \n",
       "..   ...            ...           ...            ...           ...   \n",
       "145  146            6.7           3.0            5.2           2.3   \n",
       "146  147            6.3           2.5            5.0           1.9   \n",
       "147  148            6.5           3.0            5.2           2.0   \n",
       "148  149            6.2           3.4            5.4           2.3   \n",
       "149  150            5.9           3.0            5.1           1.8   \n",
       "\n",
       "            Species  \n",
       "0       Iris-setosa  \n",
       "1       Iris-setosa  \n",
       "2       Iris-setosa  \n",
       "3       Iris-setosa  \n",
       "4       Iris-setosa  \n",
       "..              ...  \n",
       "145  Iris-virginica  \n",
       "146  Iris-virginica  \n",
       "147  Iris-virginica  \n",
       "148  Iris-virginica  \n",
       "149  Iris-virginica  \n",
       "\n",
       "[150 rows x 6 columns]"
      ]
     },
     "execution_count": 3,
     "metadata": {},
     "output_type": "execute_result"
    }
   ],
   "source": [
    "df = pd.read_csv('Iris.csv')\n",
    "df"
   ]
  },
  {
   "cell_type": "code",
   "execution_count": null,
   "metadata": {
    "colab": {
     "base_uri": "https://localhost:8080/",
     "height": 300
    },
    "id": "h0o5YF2aJRH4",
    "outputId": "e4e908f7-4b8d-4de6-cd48-d8896a05ebd5"
   },
   "outputs": [
    {
     "data": {
      "text/html": [
       "\n",
       "  <div id=\"df-3d82f111-1a7a-47bf-9f60-c3da03fab28e\">\n",
       "    <div class=\"colab-df-container\">\n",
       "      <div>\n",
       "<style scoped>\n",
       "    .dataframe tbody tr th:only-of-type {\n",
       "        vertical-align: middle;\n",
       "    }\n",
       "\n",
       "    .dataframe tbody tr th {\n",
       "        vertical-align: top;\n",
       "    }\n",
       "\n",
       "    .dataframe thead th {\n",
       "        text-align: right;\n",
       "    }\n",
       "</style>\n",
       "<table border=\"1\" class=\"dataframe\">\n",
       "  <thead>\n",
       "    <tr style=\"text-align: right;\">\n",
       "      <th></th>\n",
       "      <th>Id</th>\n",
       "      <th>SepalLengthCm</th>\n",
       "      <th>SepalWidthCm</th>\n",
       "      <th>PetalLengthCm</th>\n",
       "      <th>PetalWidthCm</th>\n",
       "    </tr>\n",
       "  </thead>\n",
       "  <tbody>\n",
       "    <tr>\n",
       "      <th>count</th>\n",
       "      <td>150.000000</td>\n",
       "      <td>150.000000</td>\n",
       "      <td>150.000000</td>\n",
       "      <td>150.000000</td>\n",
       "      <td>150.000000</td>\n",
       "    </tr>\n",
       "    <tr>\n",
       "      <th>mean</th>\n",
       "      <td>75.500000</td>\n",
       "      <td>5.843333</td>\n",
       "      <td>3.054000</td>\n",
       "      <td>3.758667</td>\n",
       "      <td>1.198667</td>\n",
       "    </tr>\n",
       "    <tr>\n",
       "      <th>std</th>\n",
       "      <td>43.445368</td>\n",
       "      <td>0.828066</td>\n",
       "      <td>0.433594</td>\n",
       "      <td>1.764420</td>\n",
       "      <td>0.763161</td>\n",
       "    </tr>\n",
       "    <tr>\n",
       "      <th>min</th>\n",
       "      <td>1.000000</td>\n",
       "      <td>4.300000</td>\n",
       "      <td>2.000000</td>\n",
       "      <td>1.000000</td>\n",
       "      <td>0.100000</td>\n",
       "    </tr>\n",
       "    <tr>\n",
       "      <th>25%</th>\n",
       "      <td>38.250000</td>\n",
       "      <td>5.100000</td>\n",
       "      <td>2.800000</td>\n",
       "      <td>1.600000</td>\n",
       "      <td>0.300000</td>\n",
       "    </tr>\n",
       "    <tr>\n",
       "      <th>50%</th>\n",
       "      <td>75.500000</td>\n",
       "      <td>5.800000</td>\n",
       "      <td>3.000000</td>\n",
       "      <td>4.350000</td>\n",
       "      <td>1.300000</td>\n",
       "    </tr>\n",
       "    <tr>\n",
       "      <th>75%</th>\n",
       "      <td>112.750000</td>\n",
       "      <td>6.400000</td>\n",
       "      <td>3.300000</td>\n",
       "      <td>5.100000</td>\n",
       "      <td>1.800000</td>\n",
       "    </tr>\n",
       "    <tr>\n",
       "      <th>max</th>\n",
       "      <td>150.000000</td>\n",
       "      <td>7.900000</td>\n",
       "      <td>4.400000</td>\n",
       "      <td>6.900000</td>\n",
       "      <td>2.500000</td>\n",
       "    </tr>\n",
       "  </tbody>\n",
       "</table>\n",
       "</div>\n",
       "      <button class=\"colab-df-convert\" onclick=\"convertToInteractive('df-3d82f111-1a7a-47bf-9f60-c3da03fab28e')\"\n",
       "              title=\"Convert this dataframe to an interactive table.\"\n",
       "              style=\"display:none;\">\n",
       "        \n",
       "  <svg xmlns=\"http://www.w3.org/2000/svg\" height=\"24px\"viewBox=\"0 0 24 24\"\n",
       "       width=\"24px\">\n",
       "    <path d=\"M0 0h24v24H0V0z\" fill=\"none\"/>\n",
       "    <path d=\"M18.56 5.44l.94 2.06.94-2.06 2.06-.94-2.06-.94-.94-2.06-.94 2.06-2.06.94zm-11 1L8.5 8.5l.94-2.06 2.06-.94-2.06-.94L8.5 2.5l-.94 2.06-2.06.94zm10 10l.94 2.06.94-2.06 2.06-.94-2.06-.94-.94-2.06-.94 2.06-2.06.94z\"/><path d=\"M17.41 7.96l-1.37-1.37c-.4-.4-.92-.59-1.43-.59-.52 0-1.04.2-1.43.59L10.3 9.45l-7.72 7.72c-.78.78-.78 2.05 0 2.83L4 21.41c.39.39.9.59 1.41.59.51 0 1.02-.2 1.41-.59l7.78-7.78 2.81-2.81c.8-.78.8-2.07 0-2.86zM5.41 20L4 18.59l7.72-7.72 1.47 1.35L5.41 20z\"/>\n",
       "  </svg>\n",
       "      </button>\n",
       "      \n",
       "  <style>\n",
       "    .colab-df-container {\n",
       "      display:flex;\n",
       "      flex-wrap:wrap;\n",
       "      gap: 12px;\n",
       "    }\n",
       "\n",
       "    .colab-df-convert {\n",
       "      background-color: #E8F0FE;\n",
       "      border: none;\n",
       "      border-radius: 50%;\n",
       "      cursor: pointer;\n",
       "      display: none;\n",
       "      fill: #1967D2;\n",
       "      height: 32px;\n",
       "      padding: 0 0 0 0;\n",
       "      width: 32px;\n",
       "    }\n",
       "\n",
       "    .colab-df-convert:hover {\n",
       "      background-color: #E2EBFA;\n",
       "      box-shadow: 0px 1px 2px rgba(60, 64, 67, 0.3), 0px 1px 3px 1px rgba(60, 64, 67, 0.15);\n",
       "      fill: #174EA6;\n",
       "    }\n",
       "\n",
       "    [theme=dark] .colab-df-convert {\n",
       "      background-color: #3B4455;\n",
       "      fill: #D2E3FC;\n",
       "    }\n",
       "\n",
       "    [theme=dark] .colab-df-convert:hover {\n",
       "      background-color: #434B5C;\n",
       "      box-shadow: 0px 1px 3px 1px rgba(0, 0, 0, 0.15);\n",
       "      filter: drop-shadow(0px 1px 2px rgba(0, 0, 0, 0.3));\n",
       "      fill: #FFFFFF;\n",
       "    }\n",
       "  </style>\n",
       "\n",
       "      <script>\n",
       "        const buttonEl =\n",
       "          document.querySelector('#df-3d82f111-1a7a-47bf-9f60-c3da03fab28e button.colab-df-convert');\n",
       "        buttonEl.style.display =\n",
       "          google.colab.kernel.accessAllowed ? 'block' : 'none';\n",
       "\n",
       "        async function convertToInteractive(key) {\n",
       "          const element = document.querySelector('#df-3d82f111-1a7a-47bf-9f60-c3da03fab28e');\n",
       "          const dataTable =\n",
       "            await google.colab.kernel.invokeFunction('convertToInteractive',\n",
       "                                                     [key], {});\n",
       "          if (!dataTable) return;\n",
       "\n",
       "          const docLinkHtml = 'Like what you see? Visit the ' +\n",
       "            '<a target=\"_blank\" href=https://colab.research.google.com/notebooks/data_table.ipynb>data table notebook</a>'\n",
       "            + ' to learn more about interactive tables.';\n",
       "          element.innerHTML = '';\n",
       "          dataTable['output_type'] = 'display_data';\n",
       "          await google.colab.output.renderOutput(dataTable, element);\n",
       "          const docLink = document.createElement('div');\n",
       "          docLink.innerHTML = docLinkHtml;\n",
       "          element.appendChild(docLink);\n",
       "        }\n",
       "      </script>\n",
       "    </div>\n",
       "  </div>\n",
       "  "
      ],
      "text/plain": [
       "               Id  SepalLengthCm  SepalWidthCm  PetalLengthCm  PetalWidthCm\n",
       "count  150.000000     150.000000    150.000000     150.000000    150.000000\n",
       "mean    75.500000       5.843333      3.054000       3.758667      1.198667\n",
       "std     43.445368       0.828066      0.433594       1.764420      0.763161\n",
       "min      1.000000       4.300000      2.000000       1.000000      0.100000\n",
       "25%     38.250000       5.100000      2.800000       1.600000      0.300000\n",
       "50%     75.500000       5.800000      3.000000       4.350000      1.300000\n",
       "75%    112.750000       6.400000      3.300000       5.100000      1.800000\n",
       "max    150.000000       7.900000      4.400000       6.900000      2.500000"
      ]
     },
     "execution_count": 4,
     "metadata": {},
     "output_type": "execute_result"
    }
   ],
   "source": [
    "df.describe()"
   ]
  },
  {
   "cell_type": "code",
   "execution_count": null,
   "metadata": {
    "colab": {
     "base_uri": "https://localhost:8080/"
    },
    "id": "dsSpPHQCJZWf",
    "outputId": "81f39797-4900-47ae-f551-3a1dbad35d32"
   },
   "outputs": [
    {
     "name": "stdout",
     "output_type": "stream",
     "text": [
      "Total number of missing values\n",
      "------------------------------\n",
      "Id               0\n",
      "SepalLengthCm    0\n",
      "SepalWidthCm     0\n",
      "PetalLengthCm    0\n",
      "PetalWidthCm     0\n",
      "Species          0\n",
      "dtype: int64\n",
      "------------------------------\n",
      "Total missing values are: 0\n",
      "------------------------------\n"
     ]
    }
   ],
   "source": [
    "print(\"Total number of missing values\")\n",
    "print(30 * \"-\")\n",
    "print(df.isna().sum())\n",
    "print(30 * \"-\")\n",
    "print(\"Total missing values are:\", df.isna().sum().sum())\n",
    "print(30 * \"-\")"
   ]
  },
  {
   "cell_type": "code",
   "execution_count": null,
   "metadata": {
    "colab": {
     "base_uri": "https://localhost:8080/",
     "height": 424
    },
    "id": "Fks-kIlMJjrS",
    "outputId": "9ccf6072-22d8-439f-fd3b-c6d41df17d36"
   },
   "outputs": [
    {
     "data": {
      "text/html": [
       "\n",
       "  <div id=\"df-8b77249f-a0d4-4398-9b74-a6d665b6b229\">\n",
       "    <div class=\"colab-df-container\">\n",
       "      <div>\n",
       "<style scoped>\n",
       "    .dataframe tbody tr th:only-of-type {\n",
       "        vertical-align: middle;\n",
       "    }\n",
       "\n",
       "    .dataframe tbody tr th {\n",
       "        vertical-align: top;\n",
       "    }\n",
       "\n",
       "    .dataframe thead th {\n",
       "        text-align: right;\n",
       "    }\n",
       "</style>\n",
       "<table border=\"1\" class=\"dataframe\">\n",
       "  <thead>\n",
       "    <tr style=\"text-align: right;\">\n",
       "      <th></th>\n",
       "      <th>SepalLengthCm</th>\n",
       "      <th>SepalWidthCm</th>\n",
       "      <th>PetalLengthCm</th>\n",
       "      <th>PetalWidthCm</th>\n",
       "      <th>Species</th>\n",
       "    </tr>\n",
       "  </thead>\n",
       "  <tbody>\n",
       "    <tr>\n",
       "      <th>0</th>\n",
       "      <td>5.1</td>\n",
       "      <td>3.5</td>\n",
       "      <td>1.4</td>\n",
       "      <td>0.2</td>\n",
       "      <td>Iris-setosa</td>\n",
       "    </tr>\n",
       "    <tr>\n",
       "      <th>1</th>\n",
       "      <td>4.9</td>\n",
       "      <td>3.0</td>\n",
       "      <td>1.4</td>\n",
       "      <td>0.2</td>\n",
       "      <td>Iris-setosa</td>\n",
       "    </tr>\n",
       "    <tr>\n",
       "      <th>2</th>\n",
       "      <td>4.7</td>\n",
       "      <td>3.2</td>\n",
       "      <td>1.3</td>\n",
       "      <td>0.2</td>\n",
       "      <td>Iris-setosa</td>\n",
       "    </tr>\n",
       "    <tr>\n",
       "      <th>3</th>\n",
       "      <td>4.6</td>\n",
       "      <td>3.1</td>\n",
       "      <td>1.5</td>\n",
       "      <td>0.2</td>\n",
       "      <td>Iris-setosa</td>\n",
       "    </tr>\n",
       "    <tr>\n",
       "      <th>4</th>\n",
       "      <td>5.0</td>\n",
       "      <td>3.6</td>\n",
       "      <td>1.4</td>\n",
       "      <td>0.2</td>\n",
       "      <td>Iris-setosa</td>\n",
       "    </tr>\n",
       "    <tr>\n",
       "      <th>...</th>\n",
       "      <td>...</td>\n",
       "      <td>...</td>\n",
       "      <td>...</td>\n",
       "      <td>...</td>\n",
       "      <td>...</td>\n",
       "    </tr>\n",
       "    <tr>\n",
       "      <th>145</th>\n",
       "      <td>6.7</td>\n",
       "      <td>3.0</td>\n",
       "      <td>5.2</td>\n",
       "      <td>2.3</td>\n",
       "      <td>Iris-virginica</td>\n",
       "    </tr>\n",
       "    <tr>\n",
       "      <th>146</th>\n",
       "      <td>6.3</td>\n",
       "      <td>2.5</td>\n",
       "      <td>5.0</td>\n",
       "      <td>1.9</td>\n",
       "      <td>Iris-virginica</td>\n",
       "    </tr>\n",
       "    <tr>\n",
       "      <th>147</th>\n",
       "      <td>6.5</td>\n",
       "      <td>3.0</td>\n",
       "      <td>5.2</td>\n",
       "      <td>2.0</td>\n",
       "      <td>Iris-virginica</td>\n",
       "    </tr>\n",
       "    <tr>\n",
       "      <th>148</th>\n",
       "      <td>6.2</td>\n",
       "      <td>3.4</td>\n",
       "      <td>5.4</td>\n",
       "      <td>2.3</td>\n",
       "      <td>Iris-virginica</td>\n",
       "    </tr>\n",
       "    <tr>\n",
       "      <th>149</th>\n",
       "      <td>5.9</td>\n",
       "      <td>3.0</td>\n",
       "      <td>5.1</td>\n",
       "      <td>1.8</td>\n",
       "      <td>Iris-virginica</td>\n",
       "    </tr>\n",
       "  </tbody>\n",
       "</table>\n",
       "<p>150 rows × 5 columns</p>\n",
       "</div>\n",
       "      <button class=\"colab-df-convert\" onclick=\"convertToInteractive('df-8b77249f-a0d4-4398-9b74-a6d665b6b229')\"\n",
       "              title=\"Convert this dataframe to an interactive table.\"\n",
       "              style=\"display:none;\">\n",
       "        \n",
       "  <svg xmlns=\"http://www.w3.org/2000/svg\" height=\"24px\"viewBox=\"0 0 24 24\"\n",
       "       width=\"24px\">\n",
       "    <path d=\"M0 0h24v24H0V0z\" fill=\"none\"/>\n",
       "    <path d=\"M18.56 5.44l.94 2.06.94-2.06 2.06-.94-2.06-.94-.94-2.06-.94 2.06-2.06.94zm-11 1L8.5 8.5l.94-2.06 2.06-.94-2.06-.94L8.5 2.5l-.94 2.06-2.06.94zm10 10l.94 2.06.94-2.06 2.06-.94-2.06-.94-.94-2.06-.94 2.06-2.06.94z\"/><path d=\"M17.41 7.96l-1.37-1.37c-.4-.4-.92-.59-1.43-.59-.52 0-1.04.2-1.43.59L10.3 9.45l-7.72 7.72c-.78.78-.78 2.05 0 2.83L4 21.41c.39.39.9.59 1.41.59.51 0 1.02-.2 1.41-.59l7.78-7.78 2.81-2.81c.8-.78.8-2.07 0-2.86zM5.41 20L4 18.59l7.72-7.72 1.47 1.35L5.41 20z\"/>\n",
       "  </svg>\n",
       "      </button>\n",
       "      \n",
       "  <style>\n",
       "    .colab-df-container {\n",
       "      display:flex;\n",
       "      flex-wrap:wrap;\n",
       "      gap: 12px;\n",
       "    }\n",
       "\n",
       "    .colab-df-convert {\n",
       "      background-color: #E8F0FE;\n",
       "      border: none;\n",
       "      border-radius: 50%;\n",
       "      cursor: pointer;\n",
       "      display: none;\n",
       "      fill: #1967D2;\n",
       "      height: 32px;\n",
       "      padding: 0 0 0 0;\n",
       "      width: 32px;\n",
       "    }\n",
       "\n",
       "    .colab-df-convert:hover {\n",
       "      background-color: #E2EBFA;\n",
       "      box-shadow: 0px 1px 2px rgba(60, 64, 67, 0.3), 0px 1px 3px 1px rgba(60, 64, 67, 0.15);\n",
       "      fill: #174EA6;\n",
       "    }\n",
       "\n",
       "    [theme=dark] .colab-df-convert {\n",
       "      background-color: #3B4455;\n",
       "      fill: #D2E3FC;\n",
       "    }\n",
       "\n",
       "    [theme=dark] .colab-df-convert:hover {\n",
       "      background-color: #434B5C;\n",
       "      box-shadow: 0px 1px 3px 1px rgba(0, 0, 0, 0.15);\n",
       "      filter: drop-shadow(0px 1px 2px rgba(0, 0, 0, 0.3));\n",
       "      fill: #FFFFFF;\n",
       "    }\n",
       "  </style>\n",
       "\n",
       "      <script>\n",
       "        const buttonEl =\n",
       "          document.querySelector('#df-8b77249f-a0d4-4398-9b74-a6d665b6b229 button.colab-df-convert');\n",
       "        buttonEl.style.display =\n",
       "          google.colab.kernel.accessAllowed ? 'block' : 'none';\n",
       "\n",
       "        async function convertToInteractive(key) {\n",
       "          const element = document.querySelector('#df-8b77249f-a0d4-4398-9b74-a6d665b6b229');\n",
       "          const dataTable =\n",
       "            await google.colab.kernel.invokeFunction('convertToInteractive',\n",
       "                                                     [key], {});\n",
       "          if (!dataTable) return;\n",
       "\n",
       "          const docLinkHtml = 'Like what you see? Visit the ' +\n",
       "            '<a target=\"_blank\" href=https://colab.research.google.com/notebooks/data_table.ipynb>data table notebook</a>'\n",
       "            + ' to learn more about interactive tables.';\n",
       "          element.innerHTML = '';\n",
       "          dataTable['output_type'] = 'display_data';\n",
       "          await google.colab.output.renderOutput(dataTable, element);\n",
       "          const docLink = document.createElement('div');\n",
       "          docLink.innerHTML = docLinkHtml;\n",
       "          element.appendChild(docLink);\n",
       "        }\n",
       "      </script>\n",
       "    </div>\n",
       "  </div>\n",
       "  "
      ],
      "text/plain": [
       "     SepalLengthCm  SepalWidthCm  PetalLengthCm  PetalWidthCm         Species\n",
       "0              5.1           3.5            1.4           0.2     Iris-setosa\n",
       "1              4.9           3.0            1.4           0.2     Iris-setosa\n",
       "2              4.7           3.2            1.3           0.2     Iris-setosa\n",
       "3              4.6           3.1            1.5           0.2     Iris-setosa\n",
       "4              5.0           3.6            1.4           0.2     Iris-setosa\n",
       "..             ...           ...            ...           ...             ...\n",
       "145            6.7           3.0            5.2           2.3  Iris-virginica\n",
       "146            6.3           2.5            5.0           1.9  Iris-virginica\n",
       "147            6.5           3.0            5.2           2.0  Iris-virginica\n",
       "148            6.2           3.4            5.4           2.3  Iris-virginica\n",
       "149            5.9           3.0            5.1           1.8  Iris-virginica\n",
       "\n",
       "[150 rows x 5 columns]"
      ]
     },
     "execution_count": 6,
     "metadata": {},
     "output_type": "execute_result"
    }
   ],
   "source": [
    "df.drop(columns = ['Id'], axis = 1, inplace = True)\n",
    "df"
   ]
  },
  {
   "cell_type": "code",
   "execution_count": null,
   "metadata": {
    "colab": {
     "base_uri": "https://localhost:8080/",
     "height": 432
    },
    "id": "RX0jyqUzJpxi",
    "outputId": "ff33f2b6-e973-49a9-fe26-b16278999932"
   },
   "outputs": [
    {
     "data": {
      "image/png": "[encoded data removed]",
      "text/plain": [
       "<Figure size 720x504 with 1 Axes>"
      ]
     },
     "metadata": {},
     "output_type": "display_data"
    }
   ],
   "source": [
    "count_list = [(df.Species == 'Iris-setosa').sum(), (df.Species == 'Iris-versicolor').sum(), (df.Species == 'Iris-virginica').sum()]\n",
    "label_list = list(df['Species'].unique())\n",
    "plt.figure(figsize = (10, 7))\n",
    "plt.pie(count_list, labels = label_list, autopct = \"%.2f %%\", startangle = 90, explode = (0.1, 0.1, 0.0), textprops = {'fontsize': 12})\n",
    "plt.title('Distribution of Classes', fontsize = 20)\n",
    "plt.show()"
   ]
  },
  {
   "cell_type": "code",
   "execution_count": null,
   "metadata": {
    "colab": {
     "base_uri": "https://localhost:8080/",
     "height": 612
    },
    "id": "BXsH-o7vJ7jA",
    "outputId": "1d1963b0-0f93-4cb3-c3d4-6752652dd252"
   },
   "outputs": [
    {
     "data": {
      "image/png": "[encoded data removed]",
      "text/plain": [
       "<Figure size 1080x720 with 2 Axes>"
      ]
     },
     "metadata": {
      "needs_background": "light"
     },
     "output_type": "display_data"
    }
   ],
   "source": [
    "plt.figure(figsize = (15, 10))\n",
    "sns.heatmap(df.corr(), cmap = 'Blues', square = True, annot = True)\n",
    "plt.title(\"Visualizing Correlations\", size = 20)\n",
    "plt.show()"
   ]
  },
  {
   "cell_type": "code",
   "execution_count": null,
   "metadata": {
    "colab": {
     "base_uri": "https://localhost:8080/"
    },
    "id": "d2RTTFtPKoCg",
    "outputId": "125c2ff9-ef18-4702-bb38-11d4fad4f7ac"
   },
   "outputs": [
    {
     "name": "stdout",
     "output_type": "stream",
     "text": [
      "     SepalLengthCm  SepalWidthCm  PetalLengthCm  PetalWidthCm\n",
      "0              5.1           3.5            1.4           0.2\n",
      "1              4.9           3.0            1.4           0.2\n",
      "2              4.7           3.2            1.3           0.2\n",
      "3              4.6           3.1            1.5           0.2\n",
      "4              5.0           3.6            1.4           0.2\n",
      "..             ...           ...            ...           ...\n",
      "145            6.7           3.0            5.2           2.3\n",
      "146            6.3           2.5            5.0           1.9\n",
      "147            6.5           3.0            5.2           2.0\n",
      "148            6.2           3.4            5.4           2.3\n",
      "149            5.9           3.0            5.1           1.8\n",
      "\n",
      "[150 rows x 4 columns] \n",
      " 0         Iris-setosa\n",
      "1         Iris-setosa\n",
      "2         Iris-setosa\n",
      "3         Iris-setosa\n",
      "4         Iris-setosa\n",
      "            ...      \n",
      "145    Iris-virginica\n",
      "146    Iris-virginica\n",
      "147    Iris-virginica\n",
      "148    Iris-virginica\n",
      "149    Iris-virginica\n",
      "Name: Species, Length: 150, dtype: object\n"
     ]
    }
   ],
   "source": [
    "X = df.drop(['Species'], axis = 1)\n",
    "y = df['Species']\n",
    "print(X, \"\\n\", y)"
   ]
  },
  {
   "cell_type": "code",
   "execution_count": null,
   "metadata": {
    "id": "CcYWcfYDLCvp"
   },
   "outputs": [],
   "source": [
    "scaler = StandardScaler()  # Standardization\n",
    "X = scaler.fit_transform(X)"
   ]
  },
  {
   "cell_type": "code",
   "execution_count": null,
   "metadata": {
    "id": "CHmCUTXhLHrN"
   },
   "outputs": [],
   "source": [
    "label_encoder = LabelEncoder() #Encoding class names in numerical values\n",
    "y = label_encoder.fit_transform(y)"
   ]
  },
  {
   "cell_type": "code",
   "execution_count": null,
   "metadata": {
    "id": "cdD4lTj7LJXc"
   },
   "outputs": [],
   "source": [
    "X_train, X_test, y_train, y_test = train_test_split(X, y, test_size = 0.2, stratify = y, random_state = 0)"
   ]
  },
  {
   "cell_type": "markdown",
   "metadata": {
    "id": "e79OPzrlRW_C"
   },
   "source": [
    "**Displaying results**"
   ]
  },
  {
   "cell_type": "code",
   "execution_count": null,
   "metadata": {
    "id": "W_71_06-LW1F"
   },
   "outputs": [],
   "source": [
    "def generate_result(model, predictions, name):\n",
    "    cl_rep = classification_report(y_test, predictions)\n",
    "    print(\"\\nThe classification report for \" + name + \" is:\", cl_rep, sep = \"\\n\")\n",
    "    cm = confusion_matrix(y_test, predictions)\n",
    "    plt.figure(figsize = (8, 6))\n",
    "    sns.heatmap(cm, annot = True, cmap = 'Spectral', annot_kws = {'size': 15}, square = True)\n",
    "    plt.title('Confusion Matrix for ' + name, size = 15)\n",
    "    plt.xticks(size = 15)\n",
    "    plt.yticks(size = 15)\n",
    "    plt.show() "
   ]
  },
  {
   "cell_type": "markdown",
   "metadata": {
    "id": "H5xM7Yfa0NSy"
   },
   "source": [
    "**Confusion Matrix for Multi-class classification**"
   ]
  },
  {
   "cell_type": "markdown",
   "metadata": {
    "id": "lF-m3yZM0DL3"
   },
   "source": [
    "![image.png](data:image/png;base64,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)"
   ]
  },
  {
   "cell_type": "markdown",
   "metadata": {
    "id": "rNZmxA_GRcDo"
   },
   "source": [
    "#**Logistic Regression**"
   ]
  },
  {
   "cell_type": "markdown",
   "metadata": {
    "id": "lpLXfDn5ifl9"
   },
   "source": [
    "The logistic model:"
   ]
  },
  {
   "cell_type": "markdown",
   "metadata": {
    "id": "D_n1bWf7icWM"
   },
   "source": [
    "![image.png](data:image/png;base64,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)"
   ]
  },
  {
   "cell_type": "markdown",
   "metadata": {
    "id": "CM-4AioQiiQG"
   },
   "source": [
    "To fit the model, maximum likelihood is used"
   ]
  },
  {
   "cell_type": "markdown",
   "metadata": {
    "id": "PCaB1teri0y8"
   },
   "source": [
    "![image.png](data:image/png;base64,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)"
   ]
  },
  {
   "cell_type": "code",
   "execution_count": null,
   "metadata": {
    "colab": {
     "base_uri": "https://localhost:8080/",
     "height": 623
    },
    "id": "gi3yuQyrNCyL",
    "outputId": "9f3a706d-0f62-4fb3-db5f-573cf4430f40"
   },
   "outputs": [
    {
     "name": "stdout",
     "output_type": "stream",
     "text": [
      "The accuracy for Logistic Regression is: 96.66666666666667 %\n",
      "\n",
      "The classification report for Logistic Regression is:\n",
      "              precision    recall  f1-score   support\n",
      "\n",
      "           0       1.00      1.00      1.00        10\n",
      "           1       0.91      1.00      0.95        10\n",
      "           2       1.00      0.90      0.95        10\n",
      "\n",
      "    accuracy                           0.97        30\n",
      "   macro avg       0.97      0.97      0.97        30\n",
      "weighted avg       0.97      0.97      0.97        30\n",
      "\n"
     ]
    },
    {
     "data": {
      "image/png": "[encoded data removed]",
      "text/plain": [
       "<Figure size 576x432 with 2 Axes>"
      ]
     },
     "metadata": {
      "needs_background": "light"
     },
     "output_type": "display_data"
    }
   ],
   "source": [
    "lr = LogisticRegression()\n",
    "lr.fit(X_train, y_train)\n",
    "y_pred = lr.predict(X_test)\n",
    "acc_lr = lr.score(X_test, y_test)\n",
    "print(\"The accuracy for Logistic Regression is:\", acc_lr * 100, \"%\")\n",
    "generate_result(lr, y_pred, 'Logistic Regression')\n"
   ]
  },
  {
   "cell_type": "markdown",
   "metadata": {
    "id": "yG_Ss6Y_RhmX"
   },
   "source": [
    "# **Naive Bayes**"
   ]
  },
  {
   "cell_type": "markdown",
   "metadata": {
    "id": "S1NGlDljjsYS"
   },
   "source": [
    "Assumption made: Within the kth class, the p predictors are independent.\n",
    "This can be mathematically represented as: "
   ]
  },
  {
   "cell_type": "markdown",
   "metadata": {
    "id": "v20st5fPj20C"
   },
   "source": [
    "![image.png](data:image/png;base64,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)"
   ]
  },
  {
   "cell_type": "code",
   "execution_count": null,
   "metadata": {
    "colab": {
     "base_uri": "https://localhost:8080/",
     "height": 623
    },
    "id": "0rkSByAkOSDY",
    "outputId": "f035f066-1429-4a3a-afff-0ec7207157bf"
   },
   "outputs": [
    {
     "name": "stdout",
     "output_type": "stream",
     "text": [
      "The accuracy for Gaussian Naive Bayes is: 96.66666666666667 %\n",
      "\n",
      "The classification report for Gaussian Naive Bayes is:\n",
      "              precision    recall  f1-score   support\n",
      "\n",
      "           0       1.00      1.00      1.00        10\n",
      "           1       0.91      1.00      0.95        10\n",
      "           2       1.00      0.90      0.95        10\n",
      "\n",
      "    accuracy                           0.97        30\n",
      "   macro avg       0.97      0.97      0.97        30\n",
      "weighted avg       0.97      0.97      0.97        30\n",
      "\n"
     ]
    },
    {
     "data": {
      "image/png": "[encoded data removed]",
      "text/plain": [
       "<Figure size 576x432 with 2 Axes>"
      ]
     },
     "metadata": {
      "needs_background": "light"
     },
     "output_type": "display_data"
    }
   ],
   "source": [
    "gnb = GaussianNB()\n",
    "gnb.fit(X_train, y_train)\n",
    "y_pred = gnb.predict(X_test)\n",
    "acc_gnb = gnb.score(X_test, y_test)\n",
    "print('The accuracy for Gaussian Naive Bayes is:', acc_gnb * 100, '%')\n",
    "generate_result(gnb, y_pred, 'Gaussian Naive Bayes')"
   ]
  },
  {
   "cell_type": "markdown",
   "metadata": {
    "id": "8k8Il_dmRqbv"
   },
   "source": [
    "#**LDA**"
   ]
  },
  {
   "cell_type": "markdown",
   "metadata": {
    "id": "pAMlSQ9vkQYN"
   },
   "source": [
    "![image.png](data:image/png;base64,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)"
   ]
  },
  {
   "cell_type": "code",
   "execution_count": null,
   "metadata": {
    "colab": {
     "base_uri": "https://localhost:8080/",
     "height": 623
    },
    "id": "iEud8ATCOwQx",
    "outputId": "16b2d169-dfeb-4002-b7dc-bf03c01d711c"
   },
   "outputs": [
    {
     "name": "stdout",
     "output_type": "stream",
     "text": [
      "The accuracy for Linear Discriminant Analysis is: 100.0 %\n",
      "\n",
      "The classification report for LDA is:\n",
      "              precision    recall  f1-score   support\n",
      "\n",
      "           0       1.00      1.00      1.00        10\n",
      "           1       1.00      1.00      1.00        10\n",
      "           2       1.00      1.00      1.00        10\n",
      "\n",
      "    accuracy                           1.00        30\n",
      "   macro avg       1.00      1.00      1.00        30\n",
      "weighted avg       1.00      1.00      1.00        30\n",
      "\n"
     ]
    },
    {
     "data": {
      "image/png": "[encoded data removed]",
      "text/plain": [
       "<Figure size 576x432 with 2 Axes>"
      ]
     },
     "metadata": {
      "needs_background": "light"
     },
     "output_type": "display_data"
    }
   ],
   "source": [
    "lda=LinearDiscriminantAnalysis() \n",
    "lda.fit(X_train, y_train)\n",
    "y_pred = lda.predict(X_test)\n",
    "acc_lda = lda.score(X_test, y_test)\n",
    "print('The accuracy for Linear Discriminant Analysis is:', acc_lda * 100, '%')\n",
    "generate_result(lda, y_pred, 'LDA')"
   ]
  },
  {
   "cell_type": "markdown",
   "metadata": {
    "id": "mlpAilZwRsar"
   },
   "source": [
    "#**QDA**"
   ]
  },
  {
   "cell_type": "code",
   "execution_count": null,
   "metadata": {
    "colab": {
     "base_uri": "https://localhost:8080/",
     "height": 623
    },
    "id": "irDih2lGOsN4",
    "outputId": "594b60ba-06d6-4937-b8fe-ffdfb8a248b5"
   },
   "outputs": [
    {
     "name": "stdout",
     "output_type": "stream",
     "text": [
      "The accuracy for Quadratic Discriminant Analysis is: 100.0 %\n",
      "\n",
      "The classification report for QDA is:\n",
      "              precision    recall  f1-score   support\n",
      "\n",
      "           0       1.00      1.00      1.00        10\n",
      "           1       1.00      1.00      1.00        10\n",
      "           2       1.00      1.00      1.00        10\n",
      "\n",
      "    accuracy                           1.00        30\n",
      "   macro avg       1.00      1.00      1.00        30\n",
      "weighted avg       1.00      1.00      1.00        30\n",
      "\n"
     ]
    },
    {
     "data": {
      "image/png": "[encoded data removed]",
      "text/plain": [
       "<Figure size 576x432 with 2 Axes>"
      ]
     },
     "metadata": {
      "needs_background": "light"
     },
     "output_type": "display_data"
    }
   ],
   "source": [
    "qda = QuadraticDiscriminantAnalysis()\n",
    "qda.fit(X_train, y_train)\n",
    "y_pred = qda.predict(X_test)\n",
    "acc_qda = qda.score(X_test, y_test)\n",
    "print('The accuracy for Quadratic Discriminant Analysis is:', acc_qda * 100, '%')\n",
    "generate_result(qda, y_pred, 'QDA')"
   ]
  },
  {
   "cell_type": "markdown",
   "metadata": {
    "id": "Vg3IMh98RuSG"
   },
   "source": [
    "#**KNN**"
   ]
  },
  {
   "cell_type": "code",
   "execution_count": null,
   "metadata": {
    "colab": {
     "base_uri": "https://localhost:8080/"
    },
    "id": "kmhmmBWnPb5P",
    "outputId": "36562b54-c2b8-43e2-aaf2-84d9b9b86d73"
   },
   "outputs": [
    {
     "name": "stdout",
     "output_type": "stream",
     "text": [
      "The accuracy for KNN is: 96.66666666666667 %\n"
     ]
    }
   ],
   "source": [
    "knn = KNeighborsClassifier()\n",
    "knn.fit(X_train, y_train)\n",
    "y_pred = knn.predict(X_test)\n",
    "acc_knn = knn.score(X_test, y_test)\n",
    "print(\"The accuracy for KNN is:\", acc_knn * 100, \"%\")"
   ]
  },
  {
   "cell_type": "markdown",
   "metadata": {
    "id": "Ar9Tal2DRyFi"
   },
   "source": [
    "#**Performance of KNN**"
   ]
  },
  {
   "cell_type": "code",
   "execution_count": null,
   "metadata": {
    "colab": {
     "base_uri": "https://localhost:8080/",
     "height": 468
    },
    "id": "jW38zG90Pfvk",
    "outputId": "3c8dee72-d2fa-481d-9deb-48dcd321bc3c"
   },
   "outputs": [
    {
     "data": {
      "image/png": "[encoded data removed]",
      "text/plain": [
       "<Figure size 720x504 with 1 Axes>"
      ]
     },
     "metadata": {
      "needs_background": "light"
     },
     "output_type": "display_data"
    }
   ],
   "source": [
    "store_acc = []\n",
    "neighbors = [i for i in range(1, 20)]\n",
    "for i in range(len(neighbors)):\n",
    "    knn_improved = KNeighborsClassifier(n_neighbors = neighbors[i])\n",
    "    knn_improved.fit(X_train, y_train)\n",
    "    y_pred = knn_improved.predict(X_test)\n",
    "    acc_knn_for_diff_values = ((knn_improved.score(X_test, y_test)) * 100)\n",
    "    store_acc.append(acc_knn_for_diff_values)\n",
    "plt.figure(figsize = (10, 7))\n",
    "plt.plot(neighbors, store_acc, color = 'blue', marker = 'o')\n",
    "plt.title('N Neighbors VS Score', fontsize = 20)\n",
    "plt.xlabel('N Neighbors', fontsize = 15)\n",
    "plt.ylabel('Score', fontsize = 15)\n",
    "plt.grid(True)\n",
    "plt.show()"
   ]
  },
  {
   "cell_type": "markdown",
   "metadata": {
    "id": "m_dTsyOXdPtX"
   },
   "source": [
    "The code below would work for a binary classification. However in a mutliclass classification, we will need to divide our problem into subsets of binary classification problems inorder to obtain the ROCs."
   ]
  },
  {
   "cell_type": "code",
   "execution_count": null,
   "metadata": {
    "colab": {
     "base_uri": "https://localhost:8080/",
     "height": 381
    },
    "id": "_PAeLQ_gK0Zb",
    "outputId": "c76001ab-93b5-4a64-fd96-139ebd9ce0c6"
   },
   "outputs": [
    {
     "ename": "ValueError",
     "evalue": "ignored",
     "output_type": "error",
     "traceback": [
      "\u001b[0;31m---------------------------------------------------------------------------\u001b[0m",
      "\u001b[0;31mValueError\u001b[0m                                Traceback (most recent call last)",
      "\u001b[0;32m<ipython-input-22-d90aa9e27d7b>\u001b[0m in \u001b[0;36m<module>\u001b[0;34m\u001b[0m\n\u001b[1;32m      1\u001b[0m \u001b[0mprobas_\u001b[0m \u001b[0;34m=\u001b[0m \u001b[0mlr\u001b[0m\u001b[0;34m.\u001b[0m\u001b[0mfit\u001b[0m\u001b[0;34m(\u001b[0m\u001b[0mX_train\u001b[0m\u001b[0;34m,\u001b[0m \u001b[0my_train\u001b[0m\u001b[0;34m)\u001b[0m\u001b[0;34m.\u001b[0m\u001b[0mpredict_proba\u001b[0m\u001b[0;34m(\u001b[0m\u001b[0mX_test\u001b[0m\u001b[0;34m)\u001b[0m\u001b[0;34m\u001b[0m\u001b[0;34m\u001b[0m\u001b[0m\n\u001b[1;32m      2\u001b[0m \u001b[0;31m# Compute ROC curve and area the curve\u001b[0m\u001b[0;34m\u001b[0m\u001b[0;34m\u001b[0m\u001b[0;34m\u001b[0m\u001b[0m\n\u001b[0;32m----> 3\u001b[0;31m \u001b[0mfpr\u001b[0m\u001b[0;34m,\u001b[0m \u001b[0mtpr\u001b[0m\u001b[0;34m,\u001b[0m \u001b[0mthresholds\u001b[0m \u001b[0;34m=\u001b[0m \u001b[0mroc_curve\u001b[0m\u001b[0;34m(\u001b[0m\u001b[0my_test\u001b[0m\u001b[0;34m,\u001b[0m \u001b[0mprobas_\u001b[0m\u001b[0;34m[\u001b[0m\u001b[0;34m:\u001b[0m\u001b[0;34m,\u001b[0m \u001b[0;36m1\u001b[0m\u001b[0;34m]\u001b[0m\u001b[0;34m)\u001b[0m\u001b[0;34m\u001b[0m\u001b[0;34m\u001b[0m\u001b[0m\n\u001b[0m\u001b[1;32m      4\u001b[0m \u001b[0mroc_auc\u001b[0m \u001b[0;34m=\u001b[0m \u001b[0mauc\u001b[0m\u001b[0;34m(\u001b[0m\u001b[0mfpr\u001b[0m\u001b[0;34m,\u001b[0m \u001b[0mtpr\u001b[0m\u001b[0;34m)\u001b[0m\u001b[0;34m\u001b[0m\u001b[0;34m\u001b[0m\u001b[0m\n\u001b[1;32m      5\u001b[0m \u001b[0mprint\u001b[0m \u001b[0;34m(\u001b[0m\u001b[0;34m\"Area under the ROC curve : %f\"\u001b[0m \u001b[0;34m%\u001b[0m \u001b[0mroc_auc\u001b[0m\u001b[0;34m)\u001b[0m\u001b[0;34m\u001b[0m\u001b[0;34m\u001b[0m\u001b[0m\n",
      "\u001b[0;32m/usr/local/lib/python3.8/dist-packages/sklearn/metrics/_ranking.py\u001b[0m in \u001b[0;36mroc_curve\u001b[0;34m(y_true, y_score, pos_label, sample_weight, drop_intermediate)\u001b[0m\n\u001b[1;32m    960\u001b[0m \u001b[0;34m\u001b[0m\u001b[0m\n\u001b[1;32m    961\u001b[0m     \"\"\"\n\u001b[0;32m--> 962\u001b[0;31m     fps, tps, thresholds = _binary_clf_curve(\n\u001b[0m\u001b[1;32m    963\u001b[0m         \u001b[0my_true\u001b[0m\u001b[0;34m,\u001b[0m \u001b[0my_score\u001b[0m\u001b[0;34m,\u001b[0m \u001b[0mpos_label\u001b[0m\u001b[0;34m=\u001b[0m\u001b[0mpos_label\u001b[0m\u001b[0;34m,\u001b[0m \u001b[0msample_weight\u001b[0m\u001b[0;34m=\u001b[0m\u001b[0msample_weight\u001b[0m\u001b[0;34m\u001b[0m\u001b[0;34m\u001b[0m\u001b[0m\n\u001b[1;32m    964\u001b[0m     )\n",
      "\u001b[0;32m/usr/local/lib/python3.8/dist-packages/sklearn/metrics/_ranking.py\u001b[0m in \u001b[0;36m_binary_clf_curve\u001b[0;34m(y_true, y_score, pos_label, sample_weight)\u001b[0m\n\u001b[1;32m    729\u001b[0m     \u001b[0my_type\u001b[0m \u001b[0;34m=\u001b[0m \u001b[0mtype_of_target\u001b[0m\u001b[0;34m(\u001b[0m\u001b[0my_true\u001b[0m\u001b[0;34m)\u001b[0m\u001b[0;34m\u001b[0m\u001b[0;34m\u001b[0m\u001b[0m\n\u001b[1;32m    730\u001b[0m     \u001b[0;32mif\u001b[0m \u001b[0;32mnot\u001b[0m \u001b[0;34m(\u001b[0m\u001b[0my_type\u001b[0m \u001b[0;34m==\u001b[0m \u001b[0;34m\"binary\"\u001b[0m \u001b[0;32mor\u001b[0m \u001b[0;34m(\u001b[0m\u001b[0my_type\u001b[0m \u001b[0;34m==\u001b[0m \u001b[0;34m\"multiclass\"\u001b[0m \u001b[0;32mand\u001b[0m \u001b[0mpos_label\u001b[0m \u001b[0;32mis\u001b[0m \u001b[0;32mnot\u001b[0m \u001b[0;32mNone\u001b[0m\u001b[0;34m)\u001b[0m\u001b[0;34m)\u001b[0m\u001b[0;34m:\u001b[0m\u001b[0;34m\u001b[0m\u001b[0;34m\u001b[0m\u001b[0m\n\u001b[0;32m--> 731\u001b[0;31m         \u001b[0;32mraise\u001b[0m \u001b[0mValueError\u001b[0m\u001b[0;34m(\u001b[0m\u001b[0;34m\"{0} format is not supported\"\u001b[0m\u001b[0;34m.\u001b[0m\u001b[0mformat\u001b[0m\u001b[0;34m(\u001b[0m\u001b[0my_type\u001b[0m\u001b[0;34m)\u001b[0m\u001b[0;34m)\u001b[0m\u001b[0;34m\u001b[0m\u001b[0;34m\u001b[0m\u001b[0m\n\u001b[0m\u001b[1;32m    732\u001b[0m \u001b[0;34m\u001b[0m\u001b[0m\n\u001b[1;32m    733\u001b[0m     \u001b[0mcheck_consistent_length\u001b[0m\u001b[0;34m(\u001b[0m\u001b[0my_true\u001b[0m\u001b[0;34m,\u001b[0m \u001b[0my_score\u001b[0m\u001b[0;34m,\u001b[0m \u001b[0msample_weight\u001b[0m\u001b[0;34m)\u001b[0m\u001b[0;34m\u001b[0m\u001b[0;34m\u001b[0m\u001b[0m\n",
      "\u001b[0;31mValueError\u001b[0m: multiclass format is not supported"
     ]
    }
   ],
   "source": [
    "probas_ = lr.fit(X_train, y_train).predict_proba(X_test)\n",
    "# Compute ROC curve and area the curve\n",
    "fpr, tpr, thresholds = roc_curve(y_test, probas_[:, 1])\n",
    "roc_auc = auc(fpr, tpr)\n",
    "print (\"Area under the ROC curve : %f\" % roc_auc)\n"
   ]
  },
  {
   "cell_type": "markdown",
   "metadata": {
    "id": "tyylJS0qY8Y1"
   },
   "source": [
    "# **ROC for Multiclass Classification**"
   ]
  },
  {
   "cell_type": "code",
   "execution_count": null,
   "metadata": {
    "id": "VV33I9ErL4kD"
   },
   "outputs": [],
   "source": [
    "X=df.drop(['Species'], axis = 1)\n",
    "features=X.to_numpy()\n",
    "target=y"
   ]
  },
  {
   "cell_type": "code",
   "execution_count": null,
   "metadata": {
    "colab": {
     "base_uri": "https://localhost:8080/"
    },
    "id": "XdWxk47KUbqG",
    "outputId": "9760c798-086d-451b-bb67-e672e8858b36"
   },
   "outputs": [
    {
     "data": {
      "text/plain": [
       "array([[5.1, 3.5, 1.4, 0.2],\n",
       "       [4.9, 3. , 1.4, 0.2],\n",
       "       [4.7, 3.2, 1.3, 0.2],\n",
       "       [4.6, 3.1, 1.5, 0.2],\n",
       "       [5. , 3.6, 1.4, 0.2]])"
      ]
     },
     "execution_count": 41,
     "metadata": {},
     "output_type": "execute_result"
    }
   ],
   "source": [
    "features[:5, :]"
   ]
  },
  {
   "cell_type": "code",
   "execution_count": null,
   "metadata": {
    "colab": {
     "base_uri": "https://localhost:8080/"
    },
    "id": "IDpYYNP9Uj4E",
    "outputId": "4ed6fab8-259e-4187-e7ce-1d9eaf28c4ce"
   },
   "outputs": [
    {
     "data": {
      "text/plain": [
       "array([0, 0, 0, 0, 0])"
      ]
     },
     "execution_count": 42,
     "metadata": {},
     "output_type": "execute_result"
    }
   ],
   "source": [
    "target[:5]"
   ]
  },
  {
   "cell_type": "code",
   "execution_count": null,
   "metadata": {
    "colab": {
     "base_uri": "https://localhost:8080/"
    },
    "id": "woEaqH15UlR3",
    "outputId": "3b34f367-7199-4db5-80c3-38afe34dfd76"
   },
   "outputs": [
    {
     "data": {
      "text/plain": [
       "array([[1, 0, 0],\n",
       "       [1, 0, 0],\n",
       "       [1, 0, 0],\n",
       "       [1, 0, 0],\n",
       "       [1, 0, 0]])"
      ]
     },
     "execution_count": 46,
     "metadata": {},
     "output_type": "execute_result"
    }
   ],
   "source": [
    "target = label_binarize(target,\n",
    "                        classes=[0, 1, 2])\n",
    "target[:5]"
   ]
  },
  {
   "cell_type": "code",
   "execution_count": null,
   "metadata": {
    "colab": {
     "base_uri": "https://localhost:8080/"
    },
    "id": "mq_cn60yUo_C",
    "outputId": "2c02556a-4819-4001-b26f-05575d5be666"
   },
   "outputs": [
    {
     "name": "stdout",
     "output_type": "stream",
     "text": [
      "Model Accuracy :\n",
      "model 1 - 0.34210526315789475\n",
      "model 2 - 0.34210526315789475\n",
      "model 3 - 1.0\n"
     ]
    }
   ],
   "source": [
    "X_train, X_test, y_train, y_test = train_test_split(features, target, test_size = 0.25,stratify=y,random_state = 0)\n",
    "model_1 = lr.fit(X_train, y_train[:, 0])\n",
    "model_2 = lr.fit(X_train, y_train[:, 1])\n",
    "model_3 = lr.fit(X_train, y_train[:, 2])\n",
    " \n",
    "print(f\"Model Accuracy :\")\n",
    "print(f\"model 1 - {model_1.score(X_test, y_test[:, 0])}\")\n",
    "print(f\"model 2 - {model_2.score(X_test, y_test[:, 1])}\")\n",
    "print(f\"model 3 - {model_3.score(X_test, y_test[:, 2])}\")"
   ]
  },
  {
   "cell_type": "code",
   "execution_count": null,
   "metadata": {
    "colab": {
     "base_uri": "https://localhost:8080/"
    },
    "id": "T4PxQml-VBr8",
    "outputId": "22cdc65b-07dd-4987-a2b2-1f3068b9a4f4"
   },
   "outputs": [
    {
     "data": {
      "text/plain": [
       "[1.0, 0.7353846153846153, 1.0]"
      ]
     },
     "execution_count": 48,
     "metadata": {},
     "output_type": "execute_result"
    }
   ],
   "source": [
    "model = OneVsRestClassifier(LogisticRegression(random_state=0)).fit(X_train, y_train)\n",
    "prob_test_vec = model.predict_proba(X_test)\n",
    " \n",
    "n_classes = 3\n",
    "fpr = [0] * 3\n",
    "tpr = [0] * 3\n",
    "thresholds = [0] * 3\n",
    "auc_score = [0] * 3\n",
    " \n",
    "for i in range(n_classes):\n",
    "    fpr[i], tpr[i], thresholds[i] = roc_curve(y_test[:, i],\n",
    "                                              prob_test_vec[:, i])\n",
    "    auc_score[i] = auc(fpr[i], tpr[i])\n",
    " \n",
    "auc_score"
   ]
  },
  {
   "cell_type": "code",
   "execution_count": null,
   "metadata": {
    "colab": {
     "base_uri": "https://localhost:8080/"
    },
    "id": "Nt47f5bEwJ-d",
    "outputId": "d374d2c5-dceb-46b3-9880-82c28d81e101"
   },
   "outputs": [
    {
     "data": {
      "text/plain": [
       "0.9117948717948717"
      ]
     },
     "execution_count": 49,
     "metadata": {},
     "output_type": "execute_result"
    }
   ],
   "source": [
    "sum(auc_score)/n_classes"
   ]
  },
  {
   "cell_type": "code",
   "execution_count": null,
   "metadata": {
    "colab": {
     "base_uri": "https://localhost:8080/",
     "height": 606
    },
    "id": "MYLbjLWuVagx",
    "outputId": "a188187a-6600-4151-ccdc-8c1f1ca17eb8"
   },
   "outputs": [
    {
     "data": {
      "image/png": "[encoded data removed]",
      "text/plain": [
       "<Figure size 720x720 with 1 Axes>"
      ]
     },
     "metadata": {
      "needs_background": "light"
     },
     "output_type": "display_data"
    }
   ],
   "source": [
    "fig, ax = plt.subplots(figsize=(10, 10))\n",
    "target_names =list(df['Species'].unique())\n",
    "colors = cycle([\"red\", \"darkorange\", \"cornflowerblue\"])\n",
    "for class_id, color in zip(range(n_classes), colors):\n",
    "    RocCurveDisplay.from_predictions(\n",
    "        y_test[:, class_id],\n",
    "        prob_test_vec[:, class_id],\n",
    "        name=f\"ROC curve for {target_names[class_id]}\",\n",
    "        color=color,\n",
    "        ax=ax,\n",
    "    )"
   ]
  }
 ],
 "metadata": {
  "colab": {
   "provenance": []
  },
  "kernelspec": {
   "display_name": "Python 3 (ipykernel)",
   "language": "python",
   "name": "python3"
  },
  "language_info": {
   "codemirror_mode": {
    "name": "ipython",
    "version": 3
   },
   "file_extension": ".py",
   "mimetype": "text/x-python",
   "name": "python",
   "nbconvert_exporter": "python",
   "pygments_lexer": "ipython3",
   "version": "3.9.12"
  }
 },
 "nbformat": 4,
 "nbformat_minor": 1
}
