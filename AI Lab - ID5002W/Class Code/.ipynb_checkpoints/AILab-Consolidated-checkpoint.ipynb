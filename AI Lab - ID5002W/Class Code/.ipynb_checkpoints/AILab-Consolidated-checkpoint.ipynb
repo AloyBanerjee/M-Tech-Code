{
 "cells": [
  {
   "cell_type": "code",
   "execution_count": 8,
   "id": "97ba8b16",
   "metadata": {},
   "outputs": [],
   "source": [
    "#Importing modules\n",
    "import numpy as np\n",
    "import scipy\n",
    "import pandas as pd\n",
    "import seaborn as sns\n",
    "import matplotlib.pyplot as plt\n",
    "from scipy.optimize import minimize, root, fsolve\n",
    "from scipy.signal import argrelextrema\n",
    "from matplotlib import cm\n",
    "from scipy.integrate import odeint\n",
    "import torch"
   ]
  },
  {
   "cell_type": "markdown",
   "id": "c2f31641",
   "metadata": {},
   "source": [
    "#### Week 1"
   ]
  },
  {
   "cell_type": "markdown",
   "id": "eaeb42fd",
   "metadata": {},
   "source": [
    "##### Control System"
   ]
  },
  {
   "cell_type": "code",
   "execution_count": 1,
   "id": "b7c67260",
   "metadata": {
    "scrolled": true
   },
   "outputs": [
    {
     "name": "stdout",
     "output_type": "stream",
     "text": [
      "9 is lesser than 10\n",
      "The number is zero\n",
      "0\n",
      "1\n",
      "2\n",
      "3\n",
      "4\n",
      "5\n",
      "6\n",
      "7\n",
      "8\n",
      "9\n",
      "a\n",
      "b\n",
      "c\n",
      "10\n",
      "10\n",
      "0\n",
      "1\n",
      "2\n",
      "3\n",
      "4\n",
      "5\n",
      "0\n",
      "1\n",
      "2\n",
      "3\n",
      "4\n",
      "5\n",
      "6\n",
      "7\n",
      "8\n",
      "9\n"
     ]
    }
   ],
   "source": [
    "#Control Statements: if and else\n",
    "a = 9\n",
    "if a>10:\n",
    "    print(f\"{a} is greater than 10\")\n",
    "else:\n",
    "    print(f\"{a} is lesser than 10\")\n",
    "    \n",
    "#Control Statements: if, elif and else\n",
    "a = 0\n",
    "if a>10:\n",
    "    print(f\"{a} is greater than 10\")\n",
    "elif a==0:\n",
    "    print(\"The number is zero\")\n",
    "else:\n",
    "    print(f\"{a} is lesser than 10\")\n",
    "    \n",
    "#Looping: for\n",
    "for i in range(10):\n",
    "    print(i)\n",
    "    \n",
    "#Looping: for\n",
    "for i in [\"a\",\"b\",\"c\"]:\n",
    "    print(i)\n",
    "    \n",
    "#Looping: while\n",
    "i = 10\n",
    "while i>9:\n",
    "    print(i)\n",
    "    break\n",
    "    \n",
    "#Control Statement: break\n",
    "while i>9:\n",
    "    print(i)\n",
    "    break\n",
    "    \n",
    "#Control Statement: continue\n",
    "for i in range(10):\n",
    "    if i>5:\n",
    "        continue\n",
    "    print(i)\n",
    "\n",
    "#Control Statement: pass\n",
    "for i in range(10):\n",
    "    if i>5:\n",
    "        pass\n",
    "    print(i)"
   ]
  },
  {
   "cell_type": "markdown",
   "id": "3ffed968",
   "metadata": {},
   "source": [
    "#### Function"
   ]
  },
  {
   "cell_type": "code",
   "execution_count": null,
   "id": "3330e881",
   "metadata": {},
   "outputs": [],
   "source": [
    "#Function definition\n",
    "def add(a,b):\n",
    "    return a + b\n",
    "add(1,2)\n",
    "\n",
    "#Built in functions: range, len, abs, max, min ... and many more\n",
    "test = [-1,-2,3,4,8,90]\n",
    "len(test)"
   ]
  },
  {
   "cell_type": "markdown",
   "id": "acb1d857",
   "metadata": {},
   "source": [
    "#### OOPS"
   ]
  },
  {
   "cell_type": "code",
   "execution_count": 3,
   "id": "7ad72c63",
   "metadata": {},
   "outputs": [
    {
     "name": "stdout",
     "output_type": "stream",
     "text": [
      "The car model is toyota and number is 1234\n",
      "The car model is toyota and number is v6\n",
      "I am selling my toyota car\n",
      "I am selling my maruthi car\n"
     ]
    }
   ],
   "source": [
    "#Class and attributes\n",
    "class Car:\n",
    "    model = \"maruthi\"\n",
    "    number = 2033\n",
    "car = Car()\n",
    "car.model = 'toyota'\n",
    "car.model\n",
    "#Method\n",
    "class Car:\n",
    "    def __init__(self, model, number):\n",
    "        self.model = model\n",
    "        self.number = number\n",
    "    def mod_num(self):\n",
    "        print(f\"The car model is {self.model} and number is {self.number}\")\n",
    "#Method examples\n",
    "car = Car(\"toyota\",1234)\n",
    "car.model\n",
    "car.mod_num()\n",
    "#Inheritance\n",
    "class Car:\n",
    "    def __init__(self, model, number):\n",
    "        self.model = model\n",
    "        self.number = number\n",
    "    def mod_num(self,model):\n",
    "        return model\n",
    "\n",
    "class Engine(Car):\n",
    "    def __init__(self, model, engine):\n",
    "        self.engine = engine\n",
    "        self.model = model\n",
    "    def mod_engine(self):\n",
    "        print(f\"The car model is {self.mod_num(self.model)} and number is {self.engine}\")\n",
    "Engine('toyota','v6').mod_engine()\n",
    "#Encapsulation\n",
    "class Car:\n",
    "    def __init__(self):\n",
    "        self.__model = 'toyota'\n",
    "    def sell(self):\n",
    "        print(f\"I am selling my {self.__model} car\")\n",
    "        \n",
    "car = Car()\n",
    "car.__model = 1000\n",
    "car.sell()\n",
    "#Polymorphism\n",
    "class Car:\n",
    "    def __init__(self):\n",
    "        self.model = 'toyota'\n",
    "    def sell(self):\n",
    "        print(f\"I am selling my {self.model} car\")\n",
    "class Maruthi(Car):\n",
    "    def __init__(self):\n",
    "        self.model = 'maruthi'\n",
    "    def sell(self):\n",
    "        print(f\"I am selling my {self.model} car\")\n",
    "        \n",
    "Maruthi().sell()"
   ]
  },
  {
   "cell_type": "markdown",
   "id": "8787d62d",
   "metadata": {},
   "source": [
    "#### Numpy"
   ]
  },
  {
   "cell_type": "code",
   "execution_count": 4,
   "id": "62e2b8e9",
   "metadata": {},
   "outputs": [
    {
     "name": "stdout",
     "output_type": "stream",
     "text": [
      "397 µs ± 4.65 µs per loop (mean ± std. dev. of 7 runs, 1,000 loops each)\n",
      "5.12 µs ± 55.6 ns per loop (mean ± std. dev. of 7 runs, 100,000 loops each)\n",
      "[ 0  1  2  3  4  5  6  7  8  9 10 11 12 13 14 15 16 17 18 19]\n",
      "(20,)\n",
      "20\n",
      "1\n",
      "[[ 0  1  2  3]\n",
      " [ 4  5  6  7]\n",
      " [ 8  9 10 11]\n",
      " [12 13 14 15]\n",
      " [16 17 18 19]]\n",
      "[  0   1   4   9  16  25  36  49  64  81 100 121 144 169 196 225 256 289\n",
      " 324 361]\n",
      "[ 2  3  4  5  6  7  8  9 10 11 12 13 14 15 16 17 18 19 20 21]\n",
      "[0 0 0 0 0 0 0 0 0 0 0 0 0 0 0 0 0 0 0 0]\n",
      "[-0.73677158  0.39632779  1.7497563   2.72386797  3.70389277  4.79582021\n",
      "  5.90067712  6.90342658  7.015111    8.31386382  9.01952977 10.27683188\n",
      " 11.11773896 12.95678515 13.29102667 14.39316029 15.68617542 16.91866417\n",
      " 17.64627091 18.98099457]\n",
      "0\n",
      "[0 1 2]\n",
      "[1 4 5]\n",
      "[False False False False False False  True  True  True  True  True  True\n",
      "  True  True  True  True  True  True  True  True]\n",
      "[  0   1   4   9  16  25  36  49  64  81 100 121 144 169 196 225 256 289\n",
      " 324 361]\n",
      "2470\n",
      "[[ 9.00719925e+14 -4.50359963e+14 -1.80143985e+15  1.35107989e+15]\n",
      " [-2.40191980e+15  2.70215978e+15  1.80143985e+15 -2.10167983e+15]\n",
      " [ 2.10167983e+15 -4.05323966e+15  1.80143985e+15  1.50119988e+14]\n",
      " [-6.00479950e+14  1.80143985e+15 -1.80143985e+15  6.00479950e+14]]\n"
     ]
    }
   ],
   "source": [
    "test = [i for i in range(10000)]\n",
    "%timeit test1 = [i + 10 for i in test]\n",
    "\n",
    "test = np.asarray(test)\n",
    "%timeit test1 = test+10\n",
    "\n",
    "#Array creation\n",
    "ar1 = np.arange(20)\n",
    "print(ar1)\n",
    "\n",
    "np.linspace(20, 145, 5)\n",
    "print(ar1.shape)\n",
    "print(ar1.size)\n",
    "print(ar1.ndim)\n",
    "print(ar1.reshape(5,4)) \n",
    "print(ar1**2)\n",
    "print(ar1 + 2)\n",
    "#Elementwise operations\n",
    "print(ar1 - ar1)\n",
    "print(ar1 - np.random.rand(20))\n",
    "#Indexing and slicing\n",
    "print(ar1[0])\n",
    "print(ar1[:3])\n",
    "print(ar1[[1,4,5]])\n",
    "#Boolean arrays\n",
    "print(ar1>5)\n",
    "#Matrix multiplication\n",
    "print(ar1*ar1)\n",
    "print(ar1@ar1)\n",
    "#Linear algebra functions: inv, norm, dot, vdot, svd, eig, eigh and many more\n",
    "print(np.linalg.inv(np.arange(16).reshape((4,4))))"
   ]
  },
  {
   "cell_type": "markdown",
   "id": "dd670092",
   "metadata": {},
   "source": [
    "#### Pandas"
   ]
  },
  {
   "cell_type": "code",
   "execution_count": 7,
   "id": "68322156",
   "metadata": {},
   "outputs": [
    {
     "name": "stdout",
     "output_type": "stream",
     "text": [
      "0      5.1\n",
      "1      4.9\n",
      "2      4.7\n",
      "3      4.6\n",
      "4      5.0\n",
      "      ... \n",
      "145    6.7\n",
      "146    6.3\n",
      "147    6.5\n",
      "148    6.2\n",
      "149    5.9\n",
      "Name: sepal_length, Length: 150, dtype: float64\n",
      "5.1\n",
      "Index(['sepal_length', 'sepal_width', 'petal_length', 'petal_width',\n",
      "       'species'],\n",
      "      dtype='object')\n",
      "RangeIndex(start=0, stop=150, step=1)\n",
      "3.0\n",
      "5.843333333333334\n",
      "setosa        50\n",
      "versicolor    50\n",
      "virginica     50\n",
      "Name: species, dtype: int64\n"
     ]
    },
    {
     "data": {
      "text/html": [
       "<div>\n",
       "<style scoped>\n",
       "    .dataframe tbody tr th:only-of-type {\n",
       "        vertical-align: middle;\n",
       "    }\n",
       "\n",
       "    .dataframe tbody tr th {\n",
       "        vertical-align: top;\n",
       "    }\n",
       "\n",
       "    .dataframe thead th {\n",
       "        text-align: right;\n",
       "    }\n",
       "</style>\n",
       "<table border=\"1\" class=\"dataframe\">\n",
       "  <thead>\n",
       "    <tr style=\"text-align: right;\">\n",
       "      <th></th>\n",
       "      <th>sepal_length</th>\n",
       "      <th>sepal_width</th>\n",
       "      <th>petal_length</th>\n",
       "      <th>petal_width</th>\n",
       "      <th>species</th>\n",
       "      <th>new</th>\n",
       "    </tr>\n",
       "  </thead>\n",
       "  <tbody>\n",
       "    <tr>\n",
       "      <th>13</th>\n",
       "      <td>4.3</td>\n",
       "      <td>3.0</td>\n",
       "      <td>1.1</td>\n",
       "      <td>0.1</td>\n",
       "      <td>setosa</td>\n",
       "      <td>6.3</td>\n",
       "    </tr>\n",
       "    <tr>\n",
       "      <th>42</th>\n",
       "      <td>4.4</td>\n",
       "      <td>3.2</td>\n",
       "      <td>1.3</td>\n",
       "      <td>0.2</td>\n",
       "      <td>setosa</td>\n",
       "      <td>6.4</td>\n",
       "    </tr>\n",
       "    <tr>\n",
       "      <th>38</th>\n",
       "      <td>4.4</td>\n",
       "      <td>3.0</td>\n",
       "      <td>1.3</td>\n",
       "      <td>0.2</td>\n",
       "      <td>setosa</td>\n",
       "      <td>6.4</td>\n",
       "    </tr>\n",
       "    <tr>\n",
       "      <th>8</th>\n",
       "      <td>4.4</td>\n",
       "      <td>2.9</td>\n",
       "      <td>1.4</td>\n",
       "      <td>0.2</td>\n",
       "      <td>setosa</td>\n",
       "      <td>6.4</td>\n",
       "    </tr>\n",
       "    <tr>\n",
       "      <th>41</th>\n",
       "      <td>4.5</td>\n",
       "      <td>2.3</td>\n",
       "      <td>1.3</td>\n",
       "      <td>0.3</td>\n",
       "      <td>setosa</td>\n",
       "      <td>6.5</td>\n",
       "    </tr>\n",
       "    <tr>\n",
       "      <th>...</th>\n",
       "      <td>...</td>\n",
       "      <td>...</td>\n",
       "      <td>...</td>\n",
       "      <td>...</td>\n",
       "      <td>...</td>\n",
       "      <td>...</td>\n",
       "    </tr>\n",
       "    <tr>\n",
       "      <th>122</th>\n",
       "      <td>7.7</td>\n",
       "      <td>2.8</td>\n",
       "      <td>6.7</td>\n",
       "      <td>2.0</td>\n",
       "      <td>virginica</td>\n",
       "      <td>9.7</td>\n",
       "    </tr>\n",
       "    <tr>\n",
       "      <th>118</th>\n",
       "      <td>7.7</td>\n",
       "      <td>2.6</td>\n",
       "      <td>6.9</td>\n",
       "      <td>2.3</td>\n",
       "      <td>virginica</td>\n",
       "      <td>9.7</td>\n",
       "    </tr>\n",
       "    <tr>\n",
       "      <th>117</th>\n",
       "      <td>7.7</td>\n",
       "      <td>3.8</td>\n",
       "      <td>6.7</td>\n",
       "      <td>2.2</td>\n",
       "      <td>virginica</td>\n",
       "      <td>9.7</td>\n",
       "    </tr>\n",
       "    <tr>\n",
       "      <th>135</th>\n",
       "      <td>7.7</td>\n",
       "      <td>3.0</td>\n",
       "      <td>6.1</td>\n",
       "      <td>2.3</td>\n",
       "      <td>virginica</td>\n",
       "      <td>9.7</td>\n",
       "    </tr>\n",
       "    <tr>\n",
       "      <th>131</th>\n",
       "      <td>7.9</td>\n",
       "      <td>3.8</td>\n",
       "      <td>6.4</td>\n",
       "      <td>2.0</td>\n",
       "      <td>virginica</td>\n",
       "      <td>9.9</td>\n",
       "    </tr>\n",
       "  </tbody>\n",
       "</table>\n",
       "<p>150 rows × 6 columns</p>\n",
       "</div>"
      ],
      "text/plain": [
       "     sepal_length  sepal_width  petal_length  petal_width    species  new\n",
       "13            4.3          3.0           1.1          0.1     setosa  6.3\n",
       "42            4.4          3.2           1.3          0.2     setosa  6.4\n",
       "38            4.4          3.0           1.3          0.2     setosa  6.4\n",
       "8             4.4          2.9           1.4          0.2     setosa  6.4\n",
       "41            4.5          2.3           1.3          0.3     setosa  6.5\n",
       "..            ...          ...           ...          ...        ...  ...\n",
       "122           7.7          2.8           6.7          2.0  virginica  9.7\n",
       "118           7.7          2.6           6.9          2.3  virginica  9.7\n",
       "117           7.7          3.8           6.7          2.2  virginica  9.7\n",
       "135           7.7          3.0           6.1          2.3  virginica  9.7\n",
       "131           7.9          3.8           6.4          2.0  virginica  9.9\n",
       "\n",
       "[150 rows x 6 columns]"
      ]
     },
     "execution_count": 7,
     "metadata": {},
     "output_type": "execute_result"
    }
   ],
   "source": [
    "iris = sns.load_dataset('iris')\n",
    "iris.head()\n",
    "iris.tail()\n",
    "#Indexing\n",
    "print(iris['sepal_length'])\n",
    "print(iris['sepal_length'][0])\n",
    "print(iris.columns)\n",
    "print(iris.index)\n",
    "print(iris.iloc[1,1])\n",
    "#Statistics: mean, std, median, mode\n",
    "print(iris['sepal_length'].mean())\n",
    "#Describe\n",
    "print\n",
    "(iris.describe())\n",
    "#Dropping\n",
    "iris.dropna()\n",
    "iris.dropna(inplace=True)\n",
    "iris.drop_duplicates()\n",
    "#Grouping\n",
    "iris.groupby(\"species\").mean()\n",
    "print(iris['species'].value_counts())\n",
    "iris['new'] = iris['sepal_length'] + 2\n",
    "iris.head()\n",
    "iris.drop('new',axis=1)\n",
    "iris.sort_values(by=['sepal_length'],ascending=True)"
   ]
  },
  {
   "cell_type": "markdown",
   "id": "45ec3a89",
   "metadata": {},
   "source": [
    "#### Week 2"
   ]
  },
  {
   "cell_type": "code",
   "execution_count": null,
   "id": "4f61ba68",
   "metadata": {},
   "outputs": [],
   "source": []
  },
  {
   "cell_type": "code",
   "execution_count": null,
   "id": "442fd519",
   "metadata": {},
   "outputs": [],
   "source": []
  },
  {
   "cell_type": "code",
   "execution_count": 24,
   "id": "3784d1f0",
   "metadata": {},
   "outputs": [],
   "source": [
    "import nbformat\n",
    "import os\n",
    "\n",
    "os.chdir('C:\\\\Users\\\\Admin\\\\Coding-M-Tech\\\\AI Lab - ID5002W\\\\Class Code')\n",
    "\n",
    "# Reading the notebooks\n",
    "first_notebook = nbformat.read('final_notebook.ipynb', 4)\n",
    "second_notebook = nbformat.read('IndustrialAI_Week12_part2_RNNCNN.ipynb', 4)\n",
    "\n",
    "# Creating a new notebook\n",
    "final_notebook = nbformat.v4.new_notebook(metadata=first_notebook.metadata)\n",
    "\n",
    "# Concatenating the notebooks\n",
    "final_notebook.cells = first_notebook.cells + second_notebook.cells\n",
    "\n",
    "# Saving the new notebook \n",
    "nbformat.write(final_notebook, 'final_notebook.ipynb')"
   ]
  },
  {
   "cell_type": "code",
   "execution_count": null,
   "id": "aac5f7b6",
   "metadata": {},
   "outputs": [],
   "source": []
  },
  {
   "cell_type": "code",
   "execution_count": null,
   "id": "5d81b77f",
   "metadata": {},
   "outputs": [],
   "source": []
  },
  {
   "cell_type": "code",
   "execution_count": null,
   "id": "e4e188dd",
   "metadata": {},
   "outputs": [],
   "source": []
  },
  {
   "cell_type": "code",
   "execution_count": null,
   "id": "513fec20",
   "metadata": {},
   "outputs": [],
   "source": []
  },
  {
   "cell_type": "code",
   "execution_count": null,
   "id": "f5b9f00f",
   "metadata": {},
   "outputs": [],
   "source": []
  },
  {
   "cell_type": "code",
   "execution_count": null,
   "id": "7cc91f47",
   "metadata": {},
   "outputs": [],
   "source": []
  },
  {
   "cell_type": "code",
   "execution_count": null,
   "id": "5b6210d6",
   "metadata": {},
   "outputs": [],
   "source": []
  },
  {
   "cell_type": "code",
   "execution_count": null,
   "id": "295c6e94",
   "metadata": {},
   "outputs": [],
   "source": []
  },
  {
   "cell_type": "code",
   "execution_count": null,
   "id": "30f23489",
   "metadata": {},
   "outputs": [],
   "source": []
  },
  {
   "cell_type": "code",
   "execution_count": null,
   "id": "21e9cb2c",
   "metadata": {},
   "outputs": [],
   "source": []
  },
  {
   "cell_type": "code",
   "execution_count": null,
   "id": "c34e74e0",
   "metadata": {},
   "outputs": [],
   "source": []
  },
  {
   "cell_type": "code",
   "execution_count": null,
   "id": "c3fe04e0",
   "metadata": {},
   "outputs": [],
   "source": []
  },
  {
   "cell_type": "code",
   "execution_count": null,
   "id": "e41deb1f",
   "metadata": {},
   "outputs": [],
   "source": []
  },
  {
   "cell_type": "code",
   "execution_count": null,
   "id": "0a4addf4",
   "metadata": {},
   "outputs": [],
   "source": []
  },
  {
   "cell_type": "code",
   "execution_count": null,
   "id": "8b3519a1",
   "metadata": {},
   "outputs": [],
   "source": []
  },
  {
   "cell_type": "code",
   "execution_count": null,
   "id": "0819e2c6",
   "metadata": {},
   "outputs": [],
   "source": []
  },
  {
   "cell_type": "code",
   "execution_count": null,
   "id": "caed554b",
   "metadata": {},
   "outputs": [],
   "source": []
  },
  {
   "cell_type": "code",
   "execution_count": null,
   "id": "bbb748d3",
   "metadata": {},
   "outputs": [],
   "source": []
  },
  {
   "cell_type": "code",
   "execution_count": null,
   "id": "e0047d57",
   "metadata": {},
   "outputs": [],
   "source": []
  },
  {
   "cell_type": "code",
   "execution_count": null,
   "id": "fcf0b63f",
   "metadata": {},
   "outputs": [],
   "source": []
  },
  {
   "cell_type": "code",
   "execution_count": null,
   "id": "043785e7",
   "metadata": {},
   "outputs": [],
   "source": []
  },
  {
   "cell_type": "code",
   "execution_count": null,
   "id": "885ba882",
   "metadata": {},
   "outputs": [],
   "source": []
  },
  {
   "cell_type": "code",
   "execution_count": null,
   "id": "556d97e9",
   "metadata": {},
   "outputs": [],
   "source": []
  },
  {
   "cell_type": "code",
   "execution_count": null,
   "id": "1697b310",
   "metadata": {},
   "outputs": [],
   "source": []
  },
  {
   "cell_type": "code",
   "execution_count": null,
   "id": "6e6f34fc",
   "metadata": {},
   "outputs": [],
   "source": []
  },
  {
   "cell_type": "code",
   "execution_count": null,
   "id": "8de33d9d",
   "metadata": {},
   "outputs": [],
   "source": []
  },
  {
   "cell_type": "code",
   "execution_count": null,
   "id": "3a78297c",
   "metadata": {},
   "outputs": [],
   "source": []
  },
  {
   "cell_type": "code",
   "execution_count": null,
   "id": "82c6eba4",
   "metadata": {},
   "outputs": [],
   "source": []
  },
  {
   "cell_type": "code",
   "execution_count": null,
   "id": "b14602c0",
   "metadata": {},
   "outputs": [],
   "source": []
  },
  {
   "cell_type": "code",
   "execution_count": null,
   "id": "511687ac",
   "metadata": {},
   "outputs": [],
   "source": []
  },
  {
   "cell_type": "code",
   "execution_count": null,
   "id": "00bdf755",
   "metadata": {},
   "outputs": [],
   "source": []
  },
  {
   "cell_type": "code",
   "execution_count": null,
   "id": "af2bd8f8",
   "metadata": {},
   "outputs": [],
   "source": []
  },
  {
   "cell_type": "code",
   "execution_count": null,
   "id": "185069b0",
   "metadata": {},
   "outputs": [],
   "source": []
  },
  {
   "cell_type": "code",
   "execution_count": null,
   "id": "462ad001",
   "metadata": {},
   "outputs": [],
   "source": []
  },
  {
   "cell_type": "code",
   "execution_count": null,
   "id": "5fd08f0a",
   "metadata": {},
   "outputs": [],
   "source": []
  },
  {
   "cell_type": "code",
   "execution_count": null,
   "id": "5c5f8431",
   "metadata": {},
   "outputs": [],
   "source": []
  },
  {
   "cell_type": "code",
   "execution_count": null,
   "id": "929f7d57",
   "metadata": {},
   "outputs": [],
   "source": []
  },
  {
   "cell_type": "code",
   "execution_count": null,
   "id": "bc6932bb",
   "metadata": {},
   "outputs": [],
   "source": []
  },
  {
   "cell_type": "code",
   "execution_count": null,
   "id": "4b7e8c1e",
   "metadata": {},
   "outputs": [],
   "source": []
  },
  {
   "cell_type": "code",
   "execution_count": null,
   "id": "e32c7095",
   "metadata": {},
   "outputs": [],
   "source": []
  },
  {
   "cell_type": "code",
   "execution_count": null,
   "id": "8f088776",
   "metadata": {},
   "outputs": [],
   "source": []
  },
  {
   "cell_type": "code",
   "execution_count": null,
   "id": "d114a9ce",
   "metadata": {},
   "outputs": [],
   "source": []
  },
  {
   "cell_type": "code",
   "execution_count": null,
   "id": "157b0e35",
   "metadata": {},
   "outputs": [],
   "source": []
  },
  {
   "cell_type": "code",
   "execution_count": null,
   "id": "76b808b2",
   "metadata": {},
   "outputs": [],
   "source": []
  },
  {
   "cell_type": "code",
   "execution_count": null,
   "id": "88653d14",
   "metadata": {},
   "outputs": [],
   "source": []
  },
  {
   "cell_type": "code",
   "execution_count": null,
   "id": "b080cc39",
   "metadata": {},
   "outputs": [],
   "source": []
  },
  {
   "cell_type": "code",
   "execution_count": null,
   "id": "66ac0f3f",
   "metadata": {},
   "outputs": [],
   "source": []
  },
  {
   "cell_type": "code",
   "execution_count": null,
   "id": "020a3ad4",
   "metadata": {},
   "outputs": [],
   "source": []
  },
  {
   "cell_type": "code",
   "execution_count": null,
   "id": "ab0928eb",
   "metadata": {},
   "outputs": [],
   "source": []
  },
  {
   "cell_type": "code",
   "execution_count": null,
   "id": "b4ff6e53",
   "metadata": {},
   "outputs": [],
   "source": []
  },
  {
   "cell_type": "code",
   "execution_count": null,
   "id": "6e1fb88d",
   "metadata": {},
   "outputs": [],
   "source": []
  },
  {
   "cell_type": "code",
   "execution_count": null,
   "id": "adfa3f31",
   "metadata": {},
   "outputs": [],
   "source": []
  },
  {
   "cell_type": "code",
   "execution_count": null,
   "id": "0759069e",
   "metadata": {},
   "outputs": [],
   "source": []
  },
  {
   "cell_type": "code",
   "execution_count": null,
   "id": "35caa5ac",
   "metadata": {},
   "outputs": [],
   "source": []
  },
  {
   "cell_type": "code",
   "execution_count": null,
   "id": "42ee2601",
   "metadata": {},
   "outputs": [],
   "source": []
  },
  {
   "cell_type": "code",
   "execution_count": null,
   "id": "e95bac1e",
   "metadata": {},
   "outputs": [],
   "source": []
  },
  {
   "cell_type": "code",
   "execution_count": null,
   "id": "acd39901",
   "metadata": {},
   "outputs": [],
   "source": []
  },
  {
   "cell_type": "code",
   "execution_count": null,
   "id": "72dc79a7",
   "metadata": {},
   "outputs": [],
   "source": []
  },
  {
   "cell_type": "code",
   "execution_count": null,
   "id": "6f7e78a7",
   "metadata": {},
   "outputs": [],
   "source": []
  },
  {
   "cell_type": "code",
   "execution_count": null,
   "id": "5fd719c3",
   "metadata": {},
   "outputs": [],
   "source": []
  },
  {
   "cell_type": "code",
   "execution_count": null,
   "id": "2cff86ce",
   "metadata": {},
   "outputs": [],
   "source": []
  },
  {
   "cell_type": "code",
   "execution_count": null,
   "id": "e8671135",
   "metadata": {},
   "outputs": [],
   "source": []
  },
  {
   "cell_type": "code",
   "execution_count": null,
   "id": "ca56bb7a",
   "metadata": {},
   "outputs": [],
   "source": []
  },
  {
   "cell_type": "code",
   "execution_count": null,
   "id": "36cfa06f",
   "metadata": {},
   "outputs": [],
   "source": []
  },
  {
   "cell_type": "code",
   "execution_count": null,
   "id": "28c9a1e9",
   "metadata": {},
   "outputs": [],
   "source": []
  },
  {
   "cell_type": "code",
   "execution_count": null,
   "id": "099c7cae",
   "metadata": {},
   "outputs": [],
   "source": []
  },
  {
   "cell_type": "code",
   "execution_count": null,
   "id": "52517922",
   "metadata": {},
   "outputs": [],
   "source": []
  },
  {
   "cell_type": "code",
   "execution_count": null,
   "id": "2c54892d",
   "metadata": {},
   "outputs": [],
   "source": []
  },
  {
   "cell_type": "code",
   "execution_count": null,
   "id": "ff8faaa6",
   "metadata": {},
   "outputs": [],
   "source": []
  },
  {
   "cell_type": "code",
   "execution_count": null,
   "id": "5466a650",
   "metadata": {},
   "outputs": [],
   "source": []
  },
  {
   "cell_type": "code",
   "execution_count": null,
   "id": "30be237b",
   "metadata": {},
   "outputs": [],
   "source": []
  },
  {
   "cell_type": "code",
   "execution_count": null,
   "id": "072b7322",
   "metadata": {},
   "outputs": [],
   "source": []
  },
  {
   "cell_type": "code",
   "execution_count": null,
   "id": "d50df444",
   "metadata": {},
   "outputs": [],
   "source": []
  },
  {
   "cell_type": "code",
   "execution_count": null,
   "id": "af0ddaec",
   "metadata": {},
   "outputs": [],
   "source": []
  },
  {
   "cell_type": "code",
   "execution_count": null,
   "id": "285f74d2",
   "metadata": {},
   "outputs": [],
   "source": []
  }
 ],
 "metadata": {
  "kernelspec": {
   "display_name": "Python 3 (ipykernel)",
   "language": "python",
   "name": "python3"
  },
  "language_info": {
   "codemirror_mode": {
    "name": "ipython",
    "version": 3
   },
   "file_extension": ".py",
   "mimetype": "text/x-python",
   "name": "python",
   "nbconvert_exporter": "python",
   "pygments_lexer": "ipython3",
   "version": "3.9.16"
  }
 },
 "nbformat": 4,
 "nbformat_minor": 5
}
