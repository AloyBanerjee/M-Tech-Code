{
 "cells": [
  {
   "cell_type": "code",
   "execution_count": 1,
   "id": "9594d7f2",
   "metadata": {},
   "outputs": [],
   "source": [
    "weights = [0.9800796812749004, 1.020746887966805]"
   ]
  },
  {
   "cell_type": "code",
   "execution_count": 20,
   "id": "1a3e3d53",
   "metadata": {},
   "outputs": [],
   "source": [
    "import torch\n",
    "import torch.nn as nn\n",
    "import torch.optim as optim\n",
    "from torchvision import transforms\n",
    "from torch.utils.data import Dataset, random_split\n",
    "from PIL import Image\n",
    "import os\n",
    "from tqdm import tqdm\n",
    "\n",
    "class CustomDataset(Dataset):\n",
    "    def __init__(self, data_dir, result, transform):\n",
    "        self.data_dir = data_dir\n",
    "        self.result = result\n",
    "        self.transform = transform\n",
    "        self.images = []\n",
    "        self.output = []\n",
    "        # Iterate directory\n",
    "        for file in os.listdir(data_dir):\n",
    "            # check if current path is a file\n",
    "            if os.path.isfile(os.path.join(data_dir, file)):\n",
    "                img_path = os.path.join(data_dir, file)\n",
    "                self.images.append(img_path)\n",
    "                self.output.append(result)\n",
    "\n",
    "    def __len__(self):\n",
    "        return len(self.images)\n",
    "\n",
    "    def __getitem__(self, idx):\n",
    "#         img = Image.open(self.images[idx])\n",
    "        out = self.output[idx]\n",
    "        with Image.open(self.images[idx]) as img:\n",
    "            img = img.convert('RGB')\n",
    "            if self.transform:\n",
    "                img = self.transform(img)\n",
    "#             img = img.astype('float32') / 255\n",
    "\n",
    "        return img, out\n"
   ]
  },
  {
   "cell_type": "code",
   "execution_count": 12,
   "id": "41ce5695",
   "metadata": {},
   "outputs": [],
   "source": [
    "# Define the transformations to be applied to the images and masks\n",
    "transform = transforms.Compose([\n",
    "    transforms.Resize((64, 64)),\n",
    "    transforms.ToTensor(),\n",
    "    transforms.RandomRotation(10),\n",
    "    transforms.RandomVerticalFlip(0.5),\n",
    "    transforms.Normalize([0.5, 0.5, 0.5], [0.5, 0.5, 0.5])\n",
    "])"
   ]
  },
  {
   "cell_type": "code",
   "execution_count": 13,
   "id": "ee39a74d",
   "metadata": {},
   "outputs": [],
   "source": [
    "from sklearn.model_selection import train_test_split\n",
    "# Create the dataset for parasite\n",
    "parasite_dataset = CustomDataset('C:\\\\Users\\\\Admin\\\\Coding-M-Tech\\\\AI Lab - ID5002W\\\\Assignment 7\\\\Datasets\\\\ch22m503\\\\parasite\\\\',1, transform)\n",
    "# train_par_set, test_par_set = random_split(parasite_dataset, [328, 80])\n",
    "# Create the dataset for uninfected\n",
    "uninfected_dataset = CustomDataset('C:\\\\Users\\\\Admin\\\\Coding-M-Tech\\\\AI Lab - ID5002W\\\\Assignment 7\\\\Datasets\\\\ch22m503\\\\uninfected\\\\',0, transform)\n",
    "# train_uni_set, test_uni_set = random_split(uninfected_dataset, [67, 20])\n",
    "# train_t_set = train_par_set + train_uni_set\n",
    "# test_t_set = test_par_set + test_uni_set\n",
    "# train_t_set+=test_t_set\n",
    "total_dataset = parasite_dataset + uninfected_dataset\n",
    "\n",
    "#First normalizing the data by dividing each pixel value by 255. This will ensure that all the pixel values are between 0 and 1.\n",
    "# total_dataset = total_dataset.astype('float32') / 255.\n",
    "train_set, test_t_set = train_test_split(total_dataset, test_size=0.2, random_state=42)\n",
    "train_t_set, val_t_set = train_test_split(train_set, test_size=0.2, random_state=42)"
   ]
  },
  {
   "cell_type": "code",
   "execution_count": 14,
   "id": "ae3b767d",
   "metadata": {},
   "outputs": [
    {
     "name": "stdout",
     "output_type": "stream",
     "text": [
      "Shape of train Dataset 314\n",
      "Shape of test Dataset 99\n",
      "Shape of validate Dataset 79\n"
     ]
    }
   ],
   "source": [
    "print(f\"Shape of train Dataset {len(train_t_set)}\")\n",
    "print(f\"Shape of test Dataset {len(test_t_set)}\")\n",
    "print(f\"Shape of validate Dataset {len(val_t_set)}\")\n"
   ]
  },
  {
   "cell_type": "code",
   "execution_count": 15,
   "id": "8ef26ed9",
   "metadata": {},
   "outputs": [],
   "source": [
    "# Use the datasets in your training and validation loops\n",
    "train_loader = torch.utils.data.DataLoader(train_t_set, batch_size=64, shuffle=True)\n",
    "test_loader = torch.utils.data.DataLoader(test_t_set, batch_size=64, shuffle=True)\n",
    "val_loader = torch.utils.data.DataLoader(val_t_set, batch_size=64, shuffle=True)"
   ]
  },
  {
   "cell_type": "code",
   "execution_count": 16,
   "id": "688395fd",
   "metadata": {},
   "outputs": [],
   "source": [
    "# Define the CNN model\n",
    "class CNN_Model(nn.Module):\n",
    "    def __init__(self):\n",
    "        super(CNN_Model, self).__init__()\n",
    "        \n",
    "        self.cd1 = nn.Conv2d(in_channels=3, out_channels=16, kernel_size=3)\n",
    "        self.MP = nn.MaxPool2d(kernel_size=2, stride=2)\n",
    "        self.cd2 = nn.Conv2d(in_channels=16, out_channels=32, kernel_size=3)\n",
    "        self.fc1 = nn.Linear(in_features=32*14*14, out_features=128)\n",
    "        self.fc2 = nn.Linear(in_features=128, out_features=2)\n",
    "        \n",
    "    def forward(self, x):\n",
    "        x = self.MP(torch.relu(self.cd1(x)))\n",
    "        x = self.MP(torch.relu(self.cd2(x)))\n",
    "        x = x.view(-1, 32*14*14)\n",
    "        x = torch.relu(self.fc1(x))\n",
    "        x = self.fc2(x)\n",
    "        return x"
   ]
  },
  {
   "cell_type": "code",
   "execution_count": 23,
   "id": "dafbcbb9",
   "metadata": {},
   "outputs": [
    {
     "name": "stderr",
     "output_type": "stream",
     "text": [
      "100%|██████████| 5/5 [00:02<00:00,  1.86it/s]\n"
     ]
    },
    {
     "name": "stdout",
     "output_type": "stream",
     "text": [
      "Epoch [1/36], Loss: 0.6936, Accuracy: 0.5223\n"
     ]
    },
    {
     "name": "stderr",
     "output_type": "stream",
     "text": [
      "100%|██████████| 5/5 [00:01<00:00,  3.12it/s]\n"
     ]
    },
    {
     "name": "stdout",
     "output_type": "stream",
     "text": [
      "Epoch [2/36], Loss: 0.6376, Accuracy: 0.6465\n"
     ]
    },
    {
     "name": "stderr",
     "output_type": "stream",
     "text": [
      "100%|██████████| 5/5 [00:03<00:00,  1.48it/s]\n"
     ]
    },
    {
     "name": "stdout",
     "output_type": "stream",
     "text": [
      "Epoch [3/36], Loss: 0.5991, Accuracy: 0.6624\n"
     ]
    },
    {
     "name": "stderr",
     "output_type": "stream",
     "text": [
      "100%|██████████| 5/5 [00:01<00:00,  3.04it/s]\n"
     ]
    },
    {
     "name": "stdout",
     "output_type": "stream",
     "text": [
      "Epoch [4/36], Loss: 0.5614, Accuracy: 0.7070\n"
     ]
    },
    {
     "name": "stderr",
     "output_type": "stream",
     "text": [
      "100%|██████████| 5/5 [00:03<00:00,  1.53it/s]\n"
     ]
    },
    {
     "name": "stdout",
     "output_type": "stream",
     "text": [
      "Epoch [5/36], Loss: 0.5526, Accuracy: 0.7357\n"
     ]
    },
    {
     "name": "stderr",
     "output_type": "stream",
     "text": [
      "100%|██████████| 5/5 [00:02<00:00,  2.17it/s]\n"
     ]
    },
    {
     "name": "stdout",
     "output_type": "stream",
     "text": [
      "Epoch [6/36], Loss: 0.5341, Accuracy: 0.7293\n"
     ]
    },
    {
     "name": "stderr",
     "output_type": "stream",
     "text": [
      "100%|██████████| 5/5 [00:02<00:00,  1.74it/s]\n"
     ]
    },
    {
     "name": "stdout",
     "output_type": "stream",
     "text": [
      "Epoch [7/36], Loss: 0.5217, Accuracy: 0.7643\n"
     ]
    },
    {
     "name": "stderr",
     "output_type": "stream",
     "text": [
      "100%|██████████| 5/5 [00:02<00:00,  2.20it/s]\n"
     ]
    },
    {
     "name": "stdout",
     "output_type": "stream",
     "text": [
      "Epoch [8/36], Loss: 0.4913, Accuracy: 0.7803\n"
     ]
    },
    {
     "name": "stderr",
     "output_type": "stream",
     "text": [
      "100%|██████████| 5/5 [00:02<00:00,  2.00it/s]\n"
     ]
    },
    {
     "name": "stdout",
     "output_type": "stream",
     "text": [
      "Epoch [9/36], Loss: 0.4436, Accuracy: 0.8217\n"
     ]
    },
    {
     "name": "stderr",
     "output_type": "stream",
     "text": [
      "100%|██████████| 5/5 [00:02<00:00,  1.93it/s]\n"
     ]
    },
    {
     "name": "stdout",
     "output_type": "stream",
     "text": [
      "Epoch [10/36], Loss: 0.4240, Accuracy: 0.8376\n"
     ]
    },
    {
     "name": "stderr",
     "output_type": "stream",
     "text": [
      "100%|██████████| 5/5 [00:02<00:00,  2.07it/s]\n"
     ]
    },
    {
     "name": "stdout",
     "output_type": "stream",
     "text": [
      "Epoch [11/36], Loss: 0.3724, Accuracy: 0.8344\n"
     ]
    },
    {
     "name": "stderr",
     "output_type": "stream",
     "text": [
      "100%|██████████| 5/5 [00:02<00:00,  1.90it/s]\n"
     ]
    },
    {
     "name": "stdout",
     "output_type": "stream",
     "text": [
      "Epoch [12/36], Loss: 0.3352, Accuracy: 0.8408\n"
     ]
    },
    {
     "name": "stderr",
     "output_type": "stream",
     "text": [
      "100%|██████████| 5/5 [00:01<00:00,  3.10it/s]\n"
     ]
    },
    {
     "name": "stdout",
     "output_type": "stream",
     "text": [
      "Epoch [13/36], Loss: 0.2885, Accuracy: 0.8917\n"
     ]
    },
    {
     "name": "stderr",
     "output_type": "stream",
     "text": [
      "100%|██████████| 5/5 [00:03<00:00,  1.58it/s]\n"
     ]
    },
    {
     "name": "stdout",
     "output_type": "stream",
     "text": [
      "Epoch [14/36], Loss: 0.2395, Accuracy: 0.9268\n"
     ]
    },
    {
     "name": "stderr",
     "output_type": "stream",
     "text": [
      "100%|██████████| 5/5 [00:02<00:00,  2.20it/s]\n"
     ]
    },
    {
     "name": "stdout",
     "output_type": "stream",
     "text": [
      "Epoch [15/36], Loss: 0.2243, Accuracy: 0.9236\n"
     ]
    },
    {
     "name": "stderr",
     "output_type": "stream",
     "text": [
      "100%|██████████| 5/5 [00:03<00:00,  1.59it/s]\n"
     ]
    },
    {
     "name": "stdout",
     "output_type": "stream",
     "text": [
      "Epoch [16/36], Loss: 0.1960, Accuracy: 0.9331\n"
     ]
    },
    {
     "name": "stderr",
     "output_type": "stream",
     "text": [
      "100%|██████████| 5/5 [00:02<00:00,  2.27it/s]\n"
     ]
    },
    {
     "name": "stdout",
     "output_type": "stream",
     "text": [
      "Epoch [17/36], Loss: 0.1704, Accuracy: 0.9363\n"
     ]
    },
    {
     "name": "stderr",
     "output_type": "stream",
     "text": [
      "100%|██████████| 5/5 [00:02<00:00,  1.78it/s]\n"
     ]
    },
    {
     "name": "stdout",
     "output_type": "stream",
     "text": [
      "Epoch [18/36], Loss: 0.1452, Accuracy: 0.9554\n"
     ]
    },
    {
     "name": "stderr",
     "output_type": "stream",
     "text": [
      "100%|██████████| 5/5 [00:02<00:00,  1.73it/s]\n"
     ]
    },
    {
     "name": "stdout",
     "output_type": "stream",
     "text": [
      "Epoch [19/36], Loss: 0.1457, Accuracy: 0.9490\n"
     ]
    },
    {
     "name": "stderr",
     "output_type": "stream",
     "text": [
      "100%|██████████| 5/5 [00:01<00:00,  3.31it/s]\n"
     ]
    },
    {
     "name": "stdout",
     "output_type": "stream",
     "text": [
      "Epoch [20/36], Loss: 0.1039, Accuracy: 0.9809\n"
     ]
    },
    {
     "name": "stderr",
     "output_type": "stream",
     "text": [
      "100%|██████████| 5/5 [00:03<00:00,  1.50it/s]\n"
     ]
    },
    {
     "name": "stdout",
     "output_type": "stream",
     "text": [
      "Epoch [21/36], Loss: 0.0811, Accuracy: 0.9841\n"
     ]
    },
    {
     "name": "stderr",
     "output_type": "stream",
     "text": [
      "100%|██████████| 5/5 [00:01<00:00,  3.61it/s]\n"
     ]
    },
    {
     "name": "stdout",
     "output_type": "stream",
     "text": [
      "Epoch [22/36], Loss: 0.0711, Accuracy: 0.9873\n"
     ]
    },
    {
     "name": "stderr",
     "output_type": "stream",
     "text": [
      "100%|██████████| 5/5 [00:02<00:00,  1.81it/s]\n"
     ]
    },
    {
     "name": "stdout",
     "output_type": "stream",
     "text": [
      "Epoch [23/36], Loss: 0.0670, Accuracy: 0.9904\n"
     ]
    },
    {
     "name": "stderr",
     "output_type": "stream",
     "text": [
      "100%|██████████| 5/5 [00:02<00:00,  2.26it/s]\n"
     ]
    },
    {
     "name": "stdout",
     "output_type": "stream",
     "text": [
      "Epoch [24/36], Loss: 0.0488, Accuracy: 0.9936\n"
     ]
    },
    {
     "name": "stderr",
     "output_type": "stream",
     "text": [
      "100%|██████████| 5/5 [00:02<00:00,  2.26it/s]\n"
     ]
    },
    {
     "name": "stdout",
     "output_type": "stream",
     "text": [
      "Epoch [25/36], Loss: 0.0431, Accuracy: 0.9968\n"
     ]
    },
    {
     "name": "stderr",
     "output_type": "stream",
     "text": [
      "100%|██████████| 5/5 [00:01<00:00,  2.53it/s]\n"
     ]
    },
    {
     "name": "stdout",
     "output_type": "stream",
     "text": [
      "Epoch [26/36], Loss: 0.0322, Accuracy: 1.0000\n"
     ]
    },
    {
     "name": "stderr",
     "output_type": "stream",
     "text": [
      "100%|██████████| 5/5 [00:01<00:00,  3.85it/s]\n"
     ]
    },
    {
     "name": "stdout",
     "output_type": "stream",
     "text": [
      "Epoch [27/36], Loss: 0.0266, Accuracy: 1.0000\n"
     ]
    },
    {
     "name": "stderr",
     "output_type": "stream",
     "text": [
      "100%|██████████| 5/5 [00:02<00:00,  1.74it/s]\n"
     ]
    },
    {
     "name": "stdout",
     "output_type": "stream",
     "text": [
      "Epoch [28/36], Loss: 0.0230, Accuracy: 1.0000\n"
     ]
    },
    {
     "name": "stderr",
     "output_type": "stream",
     "text": [
      "100%|██████████| 5/5 [00:01<00:00,  2.79it/s]\n"
     ]
    },
    {
     "name": "stdout",
     "output_type": "stream",
     "text": [
      "Epoch [29/36], Loss: 0.0176, Accuracy: 1.0000\n"
     ]
    },
    {
     "name": "stderr",
     "output_type": "stream",
     "text": [
      "100%|██████████| 5/5 [00:02<00:00,  1.74it/s]\n"
     ]
    },
    {
     "name": "stdout",
     "output_type": "stream",
     "text": [
      "Epoch [30/36], Loss: 0.0168, Accuracy: 1.0000\n"
     ]
    },
    {
     "name": "stderr",
     "output_type": "stream",
     "text": [
      "100%|██████████| 5/5 [00:01<00:00,  2.84it/s]\n"
     ]
    },
    {
     "name": "stdout",
     "output_type": "stream",
     "text": [
      "Epoch [31/36], Loss: 0.0138, Accuracy: 1.0000\n"
     ]
    },
    {
     "name": "stderr",
     "output_type": "stream",
     "text": [
      "100%|██████████| 5/5 [00:02<00:00,  1.79it/s]\n"
     ]
    },
    {
     "name": "stdout",
     "output_type": "stream",
     "text": [
      "Epoch [32/36], Loss: 0.0105, Accuracy: 1.0000\n"
     ]
    },
    {
     "name": "stderr",
     "output_type": "stream",
     "text": [
      "100%|██████████| 5/5 [00:01<00:00,  3.47it/s]\n"
     ]
    },
    {
     "name": "stdout",
     "output_type": "stream",
     "text": [
      "Epoch [33/36], Loss: 0.0095, Accuracy: 1.0000\n"
     ]
    },
    {
     "name": "stderr",
     "output_type": "stream",
     "text": [
      "100%|██████████| 5/5 [00:02<00:00,  1.91it/s]\n"
     ]
    },
    {
     "name": "stdout",
     "output_type": "stream",
     "text": [
      "Epoch [34/36], Loss: 0.0083, Accuracy: 1.0000\n"
     ]
    },
    {
     "name": "stderr",
     "output_type": "stream",
     "text": [
      "100%|██████████| 5/5 [00:02<00:00,  2.25it/s]\n"
     ]
    },
    {
     "name": "stdout",
     "output_type": "stream",
     "text": [
      "Epoch [35/36], Loss: 0.0078, Accuracy: 1.0000\n"
     ]
    },
    {
     "name": "stderr",
     "output_type": "stream",
     "text": [
      "100%|██████████| 5/5 [00:02<00:00,  1.88it/s]"
     ]
    },
    {
     "name": "stdout",
     "output_type": "stream",
     "text": [
      "Epoch [36/36], Loss: 0.0073, Accuracy: 1.0000\n"
     ]
    },
    {
     "name": "stderr",
     "output_type": "stream",
     "text": [
      "\n"
     ]
    }
   ],
   "source": [
    "# Initialize the CNN model and optimizer\n",
    "model = CNN_Model()\n",
    "opti = optim.Adam(model.parameters(), lr=0.001)\n",
    "crit = nn.CrossEntropyLoss(weight=torch.Tensor(weights))\n",
    "\n",
    "# Train the model\n",
    "num_epochs = 36\n",
    "device = torch.device('cuda' if torch.cuda.is_available() else 'cpu')\n",
    "model.to(device)\n",
    "for epoch in range(num_epochs):\n",
    "    run_loss = 0.0\n",
    "    run_acc = 0.0\n",
    "    for i, (featur, labels) in enumerate(tqdm(train_loader)):\n",
    "        featur = featur.to(device)\n",
    "        labels = labels.to(device)\n",
    "        opti.zero_grad()\n",
    "        out = model(featur)\n",
    "        loss = crit(out, labels)\n",
    "        loss.backward()\n",
    "        opti.step()\n",
    "        run_loss += loss.item() * featur.size(0)\n",
    "        _, preds = torch.max(out, 1)\n",
    "        run_acc += torch.sum(preds == labels.data)\n",
    "    epoch_loss = run_loss / len(train_t_set)\n",
    "    epoch_acc = run_acc.double() / len(train_t_set)\n",
    "    print('Epoch [{}/{}], Loss: {:.4f}, Accuracy: {:.4f}'.format(epoch+1, num_epochs, epoch_loss, epoch_acc))"
   ]
  },
  {
   "cell_type": "code",
   "execution_count": 24,
   "id": "9882dfd9",
   "metadata": {},
   "outputs": [],
   "source": [
    "from sklearn.metrics import precision_score, f1_score, recall_score, accuracy_score"
   ]
  },
  {
   "cell_type": "code",
   "execution_count": 26,
   "id": "cc17650f",
   "metadata": {},
   "outputs": [
    {
     "name": "stdout",
     "output_type": "stream",
     "text": [
      "<---------Model Performance on the test dataset-------->\n",
      "Accuracy:  0.7474747474747475\n",
      "Precision Score:  0.7441860465116279\n",
      "Recall Score:  0.6956521739130435\n",
      "F1 Score:  0.7191011235955057\n"
     ]
    }
   ],
   "source": [
    "# Evaluate the model on the test dataset\n",
    "model.eval()\n",
    "with torch.no_grad():\n",
    "    run_loss = 0.0\n",
    "    run_acc = 0.0\n",
    "    y_true = []\n",
    "    y_pred = []\n",
    "    for featur, labels in test_loader:\n",
    "        featur = featur.to(device)\n",
    "        labels = labels.to(device)\n",
    "        out = model(featur)\n",
    "        loss = crit(out, labels)\n",
    "        run_loss += loss.item() * featur.size(0)\n",
    "        _, preds = torch.max(out, 1)\n",
    "        run_acc += torch.sum(preds == labels.data)\n",
    "        y_true += labels.cpu().numpy().tolist()\n",
    "        y_pred += preds.cpu().numpy().tolist()\n",
    "    test_loss = run_loss / len(test_t_set)\n",
    "    test_acc = run_acc.double() / len(test_t_set)\n",
    "\n",
    "# Calculate precision, recall, and F1 score\n",
    "precision = precision_score(y_true, y_pred)\n",
    "recall = recall_score(y_true, y_pred)\n",
    "f1 = f1_score(y_true, y_pred)\n",
    "accuracy = accuracy_score(y_true, y_pred)\n",
    "print(\"<---------Model Performance on the test dataset-------->\")\n",
    "print(\"Accuracy: \", accuracy)\n",
    "print(\"Precision Score: \", precision)\n",
    "print(\"Recall Score: \", recall)\n",
    "print(\"F1 Score: \", f1)"
   ]
  },
  {
   "cell_type": "code",
   "execution_count": null,
   "id": "b333fd1f",
   "metadata": {},
   "outputs": [],
   "source": []
  }
 ],
 "metadata": {
  "kernelspec": {
   "display_name": "Python 3 (ipykernel)",
   "language": "python",
   "name": "python3"
  },
  "language_info": {
   "codemirror_mode": {
    "name": "ipython",
    "version": 3
   },
   "file_extension": ".py",
   "mimetype": "text/x-python",
   "name": "python",
   "nbconvert_exporter": "python",
   "pygments_lexer": "ipython3",
   "version": "3.9.16"
  }
 },
 "nbformat": 4,
 "nbformat_minor": 5
}
