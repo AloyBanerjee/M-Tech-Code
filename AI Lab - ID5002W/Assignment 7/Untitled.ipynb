{
 "cells": [
  {
   "cell_type": "code",
   "execution_count": 11,
   "id": "26565b8e",
   "metadata": {},
   "outputs": [],
   "source": [
    "#Basic Libraries\n",
    "import os\n",
    "import math\n",
    "import numpy as np\n",
    "import pandas as pd\n",
    "import matplotlib.pyplot as plt\n",
    "import seaborn as sns\n",
    "\n",
    "#For image operation\n",
    "import cv2\n",
    "from PIL import Image\n",
    "\n",
    "#For Pytorch\n",
    "import torch\n",
    "import torch.nn as nn\n",
    "import torch.optim as optim\n",
    "from torchvision.transforms import transforms\n",
    "from torch.utils.data import Dataset, random_split, DataLoader, TensorDataset\n",
    "\n",
    "#For SK Learn\n",
    "from sklearn.model_selection import train_test_split, GridSearchCV\n",
    "from sklearn.metrics import classification_report, confusion_matrix, roc_curve, auc, RocCurveDisplay, accuracy_score, make_scorer, roc_auc_score\n",
    "from sklearn.preprocessing import StandardScaler, normalize\n",
    "from sklearn.neural_network import MLPClassifier\n",
    "\n",
    "#For Keras\n",
    "from keras.models import Sequential\n",
    "from keras.layers import Conv2D, MaxPooling2D\n",
    "from keras.layers import Activation, Dropout, Flatten, Dense\n",
    "\n",
    "from tqdm import tqdm"
   ]
  },
  {
   "cell_type": "code",
   "execution_count": 12,
   "id": "9031027d",
   "metadata": {},
   "outputs": [],
   "source": [
    "workingDir = 'E:\\\\Document\\\\M-Tech\\\\M-Tech Class\\\\2nd Trimester\\\\Assignment\\\\AI Lab\\\\Assignment 7\\\\Datasets\\\\ch22m503\\\\'\n",
    "dataset_folderName = ['parasite', 'uninfected']\n",
    "img_size = 150\n",
    "seed = 42\n",
    "dataset = []\n",
    "label = []\n",
    "epochs = 1000\n",
    "round_precesion= 2"
   ]
  },
  {
   "cell_type": "code",
   "execution_count": 13,
   "id": "be23ef0d",
   "metadata": {},
   "outputs": [],
   "source": [
    "import torch\n",
    "import torch.nn as nn\n",
    "\n",
    "class MalariaCNN(nn.Module):\n",
    "    def __init__(self):\n",
    "        super(MalariaCNN, self).__init__()\n",
    "        self.conv1 = nn.Conv2d(in_channels=3, out_channels=16, kernel_size=3)\n",
    "        self.pool = nn.MaxPool2d(kernel_size=2, stride=2)\n",
    "        self.conv2 = nn.Conv2d(in_channels=16, out_channels=32, kernel_size=3)\n",
    "        self.fc1 = nn.Linear(in_features=32*26*26, out_features=128)\n",
    "        self.fc2 = nn.Linear(in_features=128, out_features=2)\n",
    "    def forward(self, x):\n",
    "        x = self.pool(torch.relu(self.conv1(x)))\n",
    "        x = self.pool(torch.relu(self.conv2(x)))\n",
    "        x = x.view(-1, 32*26*26)\n",
    "        x = torch.relu(self.fc1(x))\n",
    "        x = self.fc2(x)\n",
    "        return x\n",
    "\n",
    "model = MalariaCNN()"
   ]
  },
  {
   "cell_type": "code",
   "execution_count": 14,
   "id": "6d13cc7b",
   "metadata": {},
   "outputs": [
    {
     "data": {
      "text/plain": [
       "MalariaCNN(\n",
       "  (conv1): Conv2d(3, 16, kernel_size=(3, 3), stride=(1, 1))\n",
       "  (pool): MaxPool2d(kernel_size=2, stride=2, padding=0, dilation=1, ceil_mode=False)\n",
       "  (conv2): Conv2d(16, 32, kernel_size=(3, 3), stride=(1, 1))\n",
       "  (fc1): Linear(in_features=21632, out_features=128, bias=True)\n",
       "  (fc2): Linear(in_features=128, out_features=2, bias=True)\n",
       ")"
      ]
     },
     "execution_count": 14,
     "metadata": {},
     "output_type": "execute_result"
    }
   ],
   "source": [
    "model"
   ]
  },
  {
   "cell_type": "code",
   "execution_count": 17,
   "id": "8fcc4cb1",
   "metadata": {},
   "outputs": [],
   "source": [
    "import os\n",
    "from PIL import Image\n",
    "from torch.utils.data import Dataset\n",
    "from torch.utils.data import DataLoader \n",
    "\n",
    "class MalariaDataset(Dataset):\n",
    "    def __init__(self, data_directory):\n",
    "        self.data_directory = data_directory\n",
    "        self.image_path = []\n",
    "        self.labels = []\n",
    "        for loop_label in os.listdir(data_directory):\n",
    "            label_directory = data_directory + loop_label + '\\\\'#os.path.join(data_directory, loop_label)\n",
    "            for img_name in os.listdir(label_directory):\n",
    "                img_path = os.path.join(label_directory, img_name)\n",
    "                self.image_path.append(img_path)\n",
    "                self.labels.append(loop_label)\n",
    "\n",
    "    def __len__(self):\n",
    "        return len(self.image_path)\n",
    "\n",
    "    def __getitem__(self, idx):\n",
    "        img_path = self.image_path[idx]\n",
    "        label = self.labels[idx]  \n",
    "        transformer = transforms.Compose([\n",
    "            transforms.Resize((64, 64)),\n",
    "            transforms.ToTensor(),\n",
    "            transforms.Normalize(mean=[0.5, 0.5, 0.5], std=[0.5, 0.5, 0.5])\n",
    "        ])\n",
    "        with Image.open(img_path) as img:\n",
    "            rgb_img = transformer(img.convert('RGB'))\n",
    "        label = int(label == 'parasite')\n",
    "        return rgb_img, label\n",
    "\n",
    "\n",
    "    def split_data(self, size = 0.2):\n",
    "        test_size = round(size * len(self.image_path))\n",
    "        train_size = len(self.image_path) - test_size\n",
    "        validation_size = round(size * train_size)\n",
    "        train_size = train_size - validation_size\n",
    "        return random_split(self, [train_size, validation_size,test_size])\n",
    "\n",
    "# Create dataset and dataloaders\n",
    "train_dir = 'E:\\\\Document\\\\M-Tech\\\\M-Tech Class\\\\2nd Trimester\\\\Assignment\\\\AI Lab\\\\Assignment 7\\\\Datasets\\\\ch22m503\\\\'\n",
    "# test_dir = 'path/to/testing/folder'\n",
    "train_dataset = MalariaDataset(train_dir)\n",
    "# test_dataset = MalariaDataset(test_dir)\n",
    "train_loader = DataLoader(train_dataset, batch_size=64, shuffle=True)\n",
    "# test_loader = DataLoader(test_dataset, batch_size=64, shuffle=False)"
   ]
  },
  {
   "cell_type": "code",
   "execution_count": 18,
   "id": "4d07eda3",
   "metadata": {},
   "outputs": [
    {
     "name": "stderr",
     "output_type": "stream",
     "text": [
      "100%|██████████| 8/8 [00:01<00:00,  6.56it/s]\n"
     ]
    },
    {
     "name": "stdout",
     "output_type": "stream",
     "text": [
      "Epoch [1/2], Loss: 0.6948, Accuracy: 0.5305\n"
     ]
    },
    {
     "name": "stderr",
     "output_type": "stream",
     "text": [
      "100%|██████████| 8/8 [00:01<00:00,  6.65it/s]"
     ]
    },
    {
     "name": "stdout",
     "output_type": "stream",
     "text": [
      "Epoch [2/2], Loss: 0.6620, Accuracy: 0.5935\n"
     ]
    },
    {
     "name": "stderr",
     "output_type": "stream",
     "text": [
      "\n"
     ]
    }
   ],
   "source": [
    "import torch\n",
    "import torch.nn as nn\n",
    "import torch.optim as optim\n",
    "from torch.utils.data import DataLoader\n",
    "from torchvision import transforms\n",
    "from tqdm import tqdm\n",
    "\n",
    "# Define the CNN model\n",
    "class MalariaCNN(nn.Module):\n",
    "    def __init__(self):\n",
    "        super(MalariaCNN, self).__init__()\n",
    "        \n",
    "        self.conv1 = nn.Conv2d(in_channels=3, out_channels=16, kernel_size=3)\n",
    "        self.pool = nn.MaxPool2d(kernel_size=2, stride=2)\n",
    "        self.conv2 = nn.Conv2d(in_channels=16, out_channels=32, kernel_size=3)\n",
    "        self.fc1 = nn.Linear(in_features=32*14*14, out_features=128)\n",
    "        self.fc2 = nn.Linear(in_features=128, out_features=2)\n",
    "        \n",
    "    def forward(self, x):\n",
    "        x = self.pool(torch.relu(self.conv1(x)))\n",
    "        x = self.pool(torch.relu(self.conv2(x)))\n",
    "        x = x.view(-1, 32*14*14)\n",
    "        x = torch.relu(self.fc1(x))\n",
    "        x = self.fc2(x)\n",
    "        return x\n",
    "\n",
    "\n",
    "train_dataset = MalariaDataset(train_dir) \n",
    "train_loader = DataLoader(train_dataset, batch_size=64, shuffle=True)\n",
    "\n",
    "# Initialize the CNN model and optimizer\n",
    "model = MalariaCNN()\n",
    "optimizer = optim.Adam(model.parameters(), lr=0.001)\n",
    "criterion = nn.CrossEntropyLoss()\n",
    "\n",
    "# Train the model\n",
    "num_epochs = 2\n",
    "device = torch.device('cuda' if torch.cuda.is_available() else 'cpu')\n",
    "model.to(device)\n",
    "for epoch in range(num_epochs):\n",
    "    running_loss = 0.0\n",
    "    running_acc = 0.0\n",
    "    for i, (inputs, labels) in enumerate(tqdm(train_loader)):\n",
    "        inputs = inputs.to(device)\n",
    "        labels = labels.to(device)\n",
    "        optimizer.zero_grad()\n",
    "        outputs = model(inputs)\n",
    "        loss = criterion(outputs, labels)\n",
    "        loss.backward()\n",
    "        optimizer.step()\n",
    "        running_loss += loss.item() * inputs.size(0)\n",
    "        _, preds = torch.max(outputs, 1)\n",
    "        running_acc += torch.sum(preds == labels.data)\n",
    "    epoch_loss = running_loss / len(train_dataset)\n",
    "    epoch_acc = running_acc.double() / len(train_dataset)\n",
    "    print('Epoch [{}/{}], Loss: {:.4f}, Accuracy: {:.4f}'.format(epoch+1, num_epochs, epoch_loss, epoch_acc))\n"
   ]
  },
  {
   "cell_type": "code",
   "execution_count": null,
   "id": "544ba2ea",
   "metadata": {},
   "outputs": [],
   "source": []
  },
  {
   "cell_type": "code",
   "execution_count": null,
   "id": "af71c729",
   "metadata": {},
   "outputs": [],
   "source": []
  },
  {
   "cell_type": "code",
   "execution_count": null,
   "id": "675c1cf3",
   "metadata": {},
   "outputs": [],
   "source": []
  },
  {
   "cell_type": "code",
   "execution_count": null,
   "id": "f42c7c53",
   "metadata": {},
   "outputs": [],
   "source": []
  },
  {
   "cell_type": "code",
   "execution_count": null,
   "id": "8a41bbac",
   "metadata": {},
   "outputs": [],
   "source": []
  },
  {
   "cell_type": "code",
   "execution_count": null,
   "id": "63163f49",
   "metadata": {},
   "outputs": [],
   "source": []
  },
  {
   "cell_type": "code",
   "execution_count": null,
   "id": "eefd3994",
   "metadata": {},
   "outputs": [],
   "source": []
  }
 ],
 "metadata": {
  "kernelspec": {
   "display_name": "Python 3 (ipykernel)",
   "language": "python",
   "name": "python3"
  },
  "language_info": {
   "codemirror_mode": {
    "name": "ipython",
    "version": 3
   },
   "file_extension": ".py",
   "mimetype": "text/x-python",
   "name": "python",
   "nbconvert_exporter": "python",
   "pygments_lexer": "ipython3",
   "version": "3.9.16"
  }
 },
 "nbformat": 4,
 "nbformat_minor": 5
}
