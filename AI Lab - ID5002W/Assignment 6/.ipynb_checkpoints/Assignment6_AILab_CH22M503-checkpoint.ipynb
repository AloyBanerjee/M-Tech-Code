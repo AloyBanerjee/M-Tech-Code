{
 "cells": [
  {
   "cell_type": "code",
   "execution_count": 139,
   "id": "ef0b7955",
   "metadata": {},
   "outputs": [],
   "source": [
    "import pandas as pd\n",
    "import numpy as np\n",
    "import os\n",
    "from sklearn.model_selection import train_test_split\n",
    "from sklearn.preprocessing import StandardScaler\n",
    "from sklearn import svm\n",
    "from sklearn.svm import SVC\n",
    "import matplotlib.pyplot as plt\n",
    "from sklearn.metrics import accuracy_score, roc_auc_score\n",
    "from sklearn.model_selection import GridSearchCV"
   ]
  },
  {
   "cell_type": "code",
   "execution_count": 127,
   "id": "0db9d7be",
   "metadata": {},
   "outputs": [],
   "source": [
    "#Change the working directory \n",
    "os.chdir('E:\\\\Document\\\\M-Tech\\\\M-Tech Class\\\\2nd Trimester\\\\Assignment\\\\AI Lab\\\\Assignment 6')\n",
    "#Load the data\n",
    "my_file = pd.read_csv('ch22m50 (3).csv')"
   ]
  },
  {
   "cell_type": "code",
   "execution_count": 128,
   "id": "9d92aede",
   "metadata": {},
   "outputs": [
    {
     "data": {
      "text/html": [
       "<div>\n",
       "<style scoped>\n",
       "    .dataframe tbody tr th:only-of-type {\n",
       "        vertical-align: middle;\n",
       "    }\n",
       "\n",
       "    .dataframe tbody tr th {\n",
       "        vertical-align: top;\n",
       "    }\n",
       "\n",
       "    .dataframe thead th {\n",
       "        text-align: right;\n",
       "    }\n",
       "</style>\n",
       "<table border=\"1\" class=\"dataframe\">\n",
       "  <thead>\n",
       "    <tr style=\"text-align: right;\">\n",
       "      <th></th>\n",
       "      <th>x_0</th>\n",
       "      <th>x_1</th>\n",
       "      <th>x_2</th>\n",
       "      <th>x_3</th>\n",
       "      <th>x_4</th>\n",
       "      <th>x_5</th>\n",
       "      <th>x_6</th>\n",
       "      <th>x_7</th>\n",
       "      <th>x_8</th>\n",
       "      <th>x_9</th>\n",
       "      <th>...</th>\n",
       "      <th>x_12</th>\n",
       "      <th>x_13</th>\n",
       "      <th>x_14</th>\n",
       "      <th>x_15</th>\n",
       "      <th>x_16</th>\n",
       "      <th>x_17</th>\n",
       "      <th>x_18</th>\n",
       "      <th>x_19</th>\n",
       "      <th>x_20</th>\n",
       "      <th>y</th>\n",
       "    </tr>\n",
       "  </thead>\n",
       "  <tbody>\n",
       "    <tr>\n",
       "      <th>count</th>\n",
       "      <td>512.000000</td>\n",
       "      <td>512.000000</td>\n",
       "      <td>512.000000</td>\n",
       "      <td>512.000000</td>\n",
       "      <td>512.000000</td>\n",
       "      <td>512.000000</td>\n",
       "      <td>512.000000</td>\n",
       "      <td>512.000000</td>\n",
       "      <td>512.000000</td>\n",
       "      <td>512.000000</td>\n",
       "      <td>...</td>\n",
       "      <td>512.000000</td>\n",
       "      <td>512.000000</td>\n",
       "      <td>512.000000</td>\n",
       "      <td>512.000000</td>\n",
       "      <td>512.000000</td>\n",
       "      <td>512.000000</td>\n",
       "      <td>512.000000</td>\n",
       "      <td>512.000000</td>\n",
       "      <td>512.000000</td>\n",
       "      <td>512.000000</td>\n",
       "    </tr>\n",
       "    <tr>\n",
       "      <th>mean</th>\n",
       "      <td>-10.793903</td>\n",
       "      <td>46.111413</td>\n",
       "      <td>-17.909150</td>\n",
       "      <td>16.692907</td>\n",
       "      <td>-21.419511</td>\n",
       "      <td>0.679177</td>\n",
       "      <td>22.243617</td>\n",
       "      <td>15.248704</td>\n",
       "      <td>4.748191</td>\n",
       "      <td>-1.460027</td>\n",
       "      <td>...</td>\n",
       "      <td>44.579557</td>\n",
       "      <td>-0.020957</td>\n",
       "      <td>0.552742</td>\n",
       "      <td>-8.798884</td>\n",
       "      <td>5.471589</td>\n",
       "      <td>-3.384570</td>\n",
       "      <td>-1.498927</td>\n",
       "      <td>10.388145</td>\n",
       "      <td>29.377002</td>\n",
       "      <td>1.587891</td>\n",
       "    </tr>\n",
       "    <tr>\n",
       "      <th>std</th>\n",
       "      <td>42.988935</td>\n",
       "      <td>99.869515</td>\n",
       "      <td>129.698159</td>\n",
       "      <td>91.992817</td>\n",
       "      <td>69.134295</td>\n",
       "      <td>20.585177</td>\n",
       "      <td>109.168871</td>\n",
       "      <td>149.815889</td>\n",
       "      <td>83.629860</td>\n",
       "      <td>108.595047</td>\n",
       "      <td>...</td>\n",
       "      <td>192.830045</td>\n",
       "      <td>32.144051</td>\n",
       "      <td>79.743209</td>\n",
       "      <td>152.675839</td>\n",
       "      <td>129.064117</td>\n",
       "      <td>16.194378</td>\n",
       "      <td>57.817594</td>\n",
       "      <td>45.279463</td>\n",
       "      <td>158.806203</td>\n",
       "      <td>1.080013</td>\n",
       "    </tr>\n",
       "    <tr>\n",
       "      <th>min</th>\n",
       "      <td>-139.282674</td>\n",
       "      <td>-237.912960</td>\n",
       "      <td>-418.760316</td>\n",
       "      <td>-300.233764</td>\n",
       "      <td>-211.508296</td>\n",
       "      <td>-58.789713</td>\n",
       "      <td>-319.010704</td>\n",
       "      <td>-416.638179</td>\n",
       "      <td>-281.191689</td>\n",
       "      <td>-320.422645</td>\n",
       "      <td>...</td>\n",
       "      <td>-570.729683</td>\n",
       "      <td>-95.173966</td>\n",
       "      <td>-215.240303</td>\n",
       "      <td>-492.734799</td>\n",
       "      <td>-303.593304</td>\n",
       "      <td>-50.168801</td>\n",
       "      <td>-182.267609</td>\n",
       "      <td>-145.605224</td>\n",
       "      <td>-481.234057</td>\n",
       "      <td>0.000000</td>\n",
       "    </tr>\n",
       "    <tr>\n",
       "      <th>25%</th>\n",
       "      <td>-39.742340</td>\n",
       "      <td>-15.632461</td>\n",
       "      <td>-107.632568</td>\n",
       "      <td>-42.348237</td>\n",
       "      <td>-64.709213</td>\n",
       "      <td>-13.244763</td>\n",
       "      <td>-51.243973</td>\n",
       "      <td>-78.360967</td>\n",
       "      <td>-47.548272</td>\n",
       "      <td>-70.166500</td>\n",
       "      <td>...</td>\n",
       "      <td>-97.222229</td>\n",
       "      <td>-19.627474</td>\n",
       "      <td>-55.212730</td>\n",
       "      <td>-104.449306</td>\n",
       "      <td>-86.079098</td>\n",
       "      <td>-14.338547</td>\n",
       "      <td>-42.255745</td>\n",
       "      <td>-18.672291</td>\n",
       "      <td>-71.533241</td>\n",
       "      <td>1.000000</td>\n",
       "    </tr>\n",
       "    <tr>\n",
       "      <th>50%</th>\n",
       "      <td>-13.291900</td>\n",
       "      <td>53.701359</td>\n",
       "      <td>-21.106388</td>\n",
       "      <td>18.430252</td>\n",
       "      <td>-20.566329</td>\n",
       "      <td>0.438566</td>\n",
       "      <td>16.700229</td>\n",
       "      <td>10.709056</td>\n",
       "      <td>8.618336</td>\n",
       "      <td>5.215218</td>\n",
       "      <td>...</td>\n",
       "      <td>41.570034</td>\n",
       "      <td>2.845404</td>\n",
       "      <td>-1.290117</td>\n",
       "      <td>-1.715573</td>\n",
       "      <td>4.296452</td>\n",
       "      <td>-3.573858</td>\n",
       "      <td>1.357376</td>\n",
       "      <td>11.243277</td>\n",
       "      <td>31.627437</td>\n",
       "      <td>1.000000</td>\n",
       "    </tr>\n",
       "    <tr>\n",
       "      <th>75%</th>\n",
       "      <td>19.371332</td>\n",
       "      <td>114.000149</td>\n",
       "      <td>65.903461</td>\n",
       "      <td>78.324933</td>\n",
       "      <td>24.639358</td>\n",
       "      <td>13.027533</td>\n",
       "      <td>99.771800</td>\n",
       "      <td>104.781608</td>\n",
       "      <td>59.056771</td>\n",
       "      <td>70.034964</td>\n",
       "      <td>...</td>\n",
       "      <td>179.601995</td>\n",
       "      <td>21.476223</td>\n",
       "      <td>51.688177</td>\n",
       "      <td>89.327336</td>\n",
       "      <td>95.551952</td>\n",
       "      <td>6.329894</td>\n",
       "      <td>39.498304</td>\n",
       "      <td>40.723828</td>\n",
       "      <td>129.955163</td>\n",
       "      <td>3.000000</td>\n",
       "    </tr>\n",
       "    <tr>\n",
       "      <th>max</th>\n",
       "      <td>111.490663</td>\n",
       "      <td>325.847745</td>\n",
       "      <td>539.780703</td>\n",
       "      <td>318.205789</td>\n",
       "      <td>180.429808</td>\n",
       "      <td>68.349606</td>\n",
       "      <td>389.913308</td>\n",
       "      <td>575.855120</td>\n",
       "      <td>310.259946</td>\n",
       "      <td>339.086617</td>\n",
       "      <td>...</td>\n",
       "      <td>695.384420</td>\n",
       "      <td>107.318483</td>\n",
       "      <td>242.113492</td>\n",
       "      <td>452.183547</td>\n",
       "      <td>390.170665</td>\n",
       "      <td>49.851820</td>\n",
       "      <td>188.655479</td>\n",
       "      <td>158.794746</td>\n",
       "      <td>484.562446</td>\n",
       "      <td>3.000000</td>\n",
       "    </tr>\n",
       "  </tbody>\n",
       "</table>\n",
       "<p>8 rows × 22 columns</p>\n",
       "</div>"
      ],
      "text/plain": [
       "              x_0         x_1         x_2         x_3         x_4         x_5  \\\n",
       "count  512.000000  512.000000  512.000000  512.000000  512.000000  512.000000   \n",
       "mean   -10.793903   46.111413  -17.909150   16.692907  -21.419511    0.679177   \n",
       "std     42.988935   99.869515  129.698159   91.992817   69.134295   20.585177   \n",
       "min   -139.282674 -237.912960 -418.760316 -300.233764 -211.508296  -58.789713   \n",
       "25%    -39.742340  -15.632461 -107.632568  -42.348237  -64.709213  -13.244763   \n",
       "50%    -13.291900   53.701359  -21.106388   18.430252  -20.566329    0.438566   \n",
       "75%     19.371332  114.000149   65.903461   78.324933   24.639358   13.027533   \n",
       "max    111.490663  325.847745  539.780703  318.205789  180.429808   68.349606   \n",
       "\n",
       "              x_6         x_7         x_8         x_9  ...        x_12  \\\n",
       "count  512.000000  512.000000  512.000000  512.000000  ...  512.000000   \n",
       "mean    22.243617   15.248704    4.748191   -1.460027  ...   44.579557   \n",
       "std    109.168871  149.815889   83.629860  108.595047  ...  192.830045   \n",
       "min   -319.010704 -416.638179 -281.191689 -320.422645  ... -570.729683   \n",
       "25%    -51.243973  -78.360967  -47.548272  -70.166500  ...  -97.222229   \n",
       "50%     16.700229   10.709056    8.618336    5.215218  ...   41.570034   \n",
       "75%     99.771800  104.781608   59.056771   70.034964  ...  179.601995   \n",
       "max    389.913308  575.855120  310.259946  339.086617  ...  695.384420   \n",
       "\n",
       "             x_13        x_14        x_15        x_16        x_17        x_18  \\\n",
       "count  512.000000  512.000000  512.000000  512.000000  512.000000  512.000000   \n",
       "mean    -0.020957    0.552742   -8.798884    5.471589   -3.384570   -1.498927   \n",
       "std     32.144051   79.743209  152.675839  129.064117   16.194378   57.817594   \n",
       "min    -95.173966 -215.240303 -492.734799 -303.593304  -50.168801 -182.267609   \n",
       "25%    -19.627474  -55.212730 -104.449306  -86.079098  -14.338547  -42.255745   \n",
       "50%      2.845404   -1.290117   -1.715573    4.296452   -3.573858    1.357376   \n",
       "75%     21.476223   51.688177   89.327336   95.551952    6.329894   39.498304   \n",
       "max    107.318483  242.113492  452.183547  390.170665   49.851820  188.655479   \n",
       "\n",
       "             x_19        x_20           y  \n",
       "count  512.000000  512.000000  512.000000  \n",
       "mean    10.388145   29.377002    1.587891  \n",
       "std     45.279463  158.806203    1.080013  \n",
       "min   -145.605224 -481.234057    0.000000  \n",
       "25%    -18.672291  -71.533241    1.000000  \n",
       "50%     11.243277   31.627437    1.000000  \n",
       "75%     40.723828  129.955163    3.000000  \n",
       "max    158.794746  484.562446    3.000000  \n",
       "\n",
       "[8 rows x 22 columns]"
      ]
     },
     "metadata": {},
     "output_type": "display_data"
    }
   ],
   "source": [
    "#Display the data\n",
    "display(my_file.describe())"
   ]
  },
  {
   "cell_type": "code",
   "execution_count": 129,
   "id": "d972ea45",
   "metadata": {},
   "outputs": [
    {
     "data": {
      "text/plain": [
       "False"
      ]
     },
     "execution_count": 129,
     "metadata": {},
     "output_type": "execute_result"
    }
   ],
   "source": [
    "#Check if any null value present\n",
    "my_file.isnull().isna().values.any()"
   ]
  },
  {
   "cell_type": "code",
   "execution_count": 130,
   "id": "3eec8c20",
   "metadata": {},
   "outputs": [],
   "source": [
    "#Take the input and label data in the x, y variable\n",
    "y = my_file[['y']]\n",
    "x = my_file.drop('y', axis=1) "
   ]
  },
  {
   "cell_type": "code",
   "execution_count": 131,
   "id": "ea9c248c",
   "metadata": {},
   "outputs": [
    {
     "data": {
      "text/plain": [
       "array([0, 1, 2, 3], dtype=int64)"
      ]
     },
     "execution_count": 131,
     "metadata": {},
     "output_type": "execute_result"
    }
   ],
   "source": [
    "# unique vaues present in y\n",
    "np.unique(y)"
   ]
  },
  {
   "cell_type": "code",
   "execution_count": 132,
   "id": "adc923eb",
   "metadata": {},
   "outputs": [],
   "source": [
    "#Standardize the input data\n",
    "stadardize_x=StandardScaler().fit_transform(x)"
   ]
  },
  {
   "cell_type": "code",
   "execution_count": 133,
   "id": "9f58a5b9",
   "metadata": {},
   "outputs": [],
   "source": [
    "#Split the data into train and test\n",
    "X_train, X_test, Y_train, Y_test= train_test_split(stadardize_x, y, test_size=0.2, random_state=22)"
   ]
  },
  {
   "cell_type": "code",
   "execution_count": 134,
   "id": "817bd74a",
   "metadata": {},
   "outputs": [
    {
     "name": "stdout",
     "output_type": "stream",
     "text": [
      "Shape of X_train:  409\n",
      "Shape of X_test:  103\n",
      "Shape of Y_train:  409\n",
      "Shape of Y_test:  103\n"
     ]
    }
   ],
   "source": [
    "print(\"Shape of X_train: \",X_train.shape[0])\n",
    "print(\"Shape of X_test: \",X_test.shape[0])\n",
    "print(\"Shape of Y_train: \",Y_train.size)\n",
    "print(\"Shape of Y_test: \",len(Y_test))"
   ]
  },
  {
   "cell_type": "code",
   "execution_count": 142,
   "id": "322a31f3",
   "metadata": {},
   "outputs": [
    {
     "name": "stdout",
     "output_type": "stream",
     "text": [
      "Fitting 5 folds for each of 25 candidates, totalling 125 fits\n",
      "{'C': 10, 'gamma': 0.01, 'kernel': 'rbf'}\n"
     ]
    }
   ],
   "source": [
    "#Check the best parameter for C and gamma\n",
    "params = {\n",
    "    'C': [0.1, 1, 10, 100, 1000],\n",
    "    'gamma': [1, 0.1, 0.01, 0.001, 0.0001],\n",
    "    'kernel': ['rbf']\n",
    "}\n",
    "\n",
    "clf = GridSearchCV(\n",
    "    estimator=SVC(),\n",
    "    param_grid=params,\n",
    "    cv=5,\n",
    "    n_jobs=5,\n",
    "    verbose=1\n",
    ")\n",
    "\n",
    "clf.fit(X_train, np.ravel(Y_train))\n",
    "print(clf.best_params_)"
   ]
  },
  {
   "cell_type": "code",
   "execution_count": 146,
   "id": "35c73bba",
   "metadata": {},
   "outputs": [
    {
     "data": {
      "text/html": [
       "<style>#sk-container-id-11 {color: black;background-color: white;}#sk-container-id-11 pre{padding: 0;}#sk-container-id-11 div.sk-toggleable {background-color: white;}#sk-container-id-11 label.sk-toggleable__label {cursor: pointer;display: block;width: 100%;margin-bottom: 0;padding: 0.3em;box-sizing: border-box;text-align: center;}#sk-container-id-11 label.sk-toggleable__label-arrow:before {content: \"▸\";float: left;margin-right: 0.25em;color: #696969;}#sk-container-id-11 label.sk-toggleable__label-arrow:hover:before {color: black;}#sk-container-id-11 div.sk-estimator:hover label.sk-toggleable__label-arrow:before {color: black;}#sk-container-id-11 div.sk-toggleable__content {max-height: 0;max-width: 0;overflow: hidden;text-align: left;background-color: #f0f8ff;}#sk-container-id-11 div.sk-toggleable__content pre {margin: 0.2em;color: black;border-radius: 0.25em;background-color: #f0f8ff;}#sk-container-id-11 input.sk-toggleable__control:checked~div.sk-toggleable__content {max-height: 200px;max-width: 100%;overflow: auto;}#sk-container-id-11 input.sk-toggleable__control:checked~label.sk-toggleable__label-arrow:before {content: \"▾\";}#sk-container-id-11 div.sk-estimator input.sk-toggleable__control:checked~label.sk-toggleable__label {background-color: #d4ebff;}#sk-container-id-11 div.sk-label input.sk-toggleable__control:checked~label.sk-toggleable__label {background-color: #d4ebff;}#sk-container-id-11 input.sk-hidden--visually {border: 0;clip: rect(1px 1px 1px 1px);clip: rect(1px, 1px, 1px, 1px);height: 1px;margin: -1px;overflow: hidden;padding: 0;position: absolute;width: 1px;}#sk-container-id-11 div.sk-estimator {font-family: monospace;background-color: #f0f8ff;border: 1px dotted black;border-radius: 0.25em;box-sizing: border-box;margin-bottom: 0.5em;}#sk-container-id-11 div.sk-estimator:hover {background-color: #d4ebff;}#sk-container-id-11 div.sk-parallel-item::after {content: \"\";width: 100%;border-bottom: 1px solid gray;flex-grow: 1;}#sk-container-id-11 div.sk-label:hover label.sk-toggleable__label {background-color: #d4ebff;}#sk-container-id-11 div.sk-serial::before {content: \"\";position: absolute;border-left: 1px solid gray;box-sizing: border-box;top: 0;bottom: 0;left: 50%;z-index: 0;}#sk-container-id-11 div.sk-serial {display: flex;flex-direction: column;align-items: center;background-color: white;padding-right: 0.2em;padding-left: 0.2em;position: relative;}#sk-container-id-11 div.sk-item {position: relative;z-index: 1;}#sk-container-id-11 div.sk-parallel {display: flex;align-items: stretch;justify-content: center;background-color: white;position: relative;}#sk-container-id-11 div.sk-item::before, #sk-container-id-11 div.sk-parallel-item::before {content: \"\";position: absolute;border-left: 1px solid gray;box-sizing: border-box;top: 0;bottom: 0;left: 50%;z-index: -1;}#sk-container-id-11 div.sk-parallel-item {display: flex;flex-direction: column;z-index: 1;position: relative;background-color: white;}#sk-container-id-11 div.sk-parallel-item:first-child::after {align-self: flex-end;width: 50%;}#sk-container-id-11 div.sk-parallel-item:last-child::after {align-self: flex-start;width: 50%;}#sk-container-id-11 div.sk-parallel-item:only-child::after {width: 0;}#sk-container-id-11 div.sk-dashed-wrapped {border: 1px dashed gray;margin: 0 0.4em 0.5em 0.4em;box-sizing: border-box;padding-bottom: 0.4em;background-color: white;}#sk-container-id-11 div.sk-label label {font-family: monospace;font-weight: bold;display: inline-block;line-height: 1.2em;}#sk-container-id-11 div.sk-label-container {text-align: center;}#sk-container-id-11 div.sk-container {/* jupyter's `normalize.less` sets `[hidden] { display: none; }` but bootstrap.min.css set `[hidden] { display: none !important; }` so we also need the `!important` here to be able to override the default hidden behavior on the sphinx rendered scikit-learn.org. See: https://github.com/scikit-learn/scikit-learn/issues/21755 */display: inline-block !important;position: relative;}#sk-container-id-11 div.sk-text-repr-fallback {display: none;}</style><div id=\"sk-container-id-11\" class=\"sk-top-container\"><div class=\"sk-text-repr-fallback\"><pre>SVC(C=10, gamma=0.01, probability=True)</pre><b>In a Jupyter environment, please rerun this cell to show the HTML representation or trust the notebook. <br />On GitHub, the HTML representation is unable to render, please try loading this page with nbviewer.org.</b></div><div class=\"sk-container\" hidden><div class=\"sk-item\"><div class=\"sk-estimator sk-toggleable\"><input class=\"sk-toggleable__control sk-hidden--visually\" id=\"sk-estimator-id-11\" type=\"checkbox\" checked><label for=\"sk-estimator-id-11\" class=\"sk-toggleable__label sk-toggleable__label-arrow\">SVC</label><div class=\"sk-toggleable__content\"><pre>SVC(C=10, gamma=0.01, probability=True)</pre></div></div></div></div></div>"
      ],
      "text/plain": [
       "SVC(C=10, gamma=0.01, probability=True)"
      ]
     },
     "execution_count": 146,
     "metadata": {},
     "output_type": "execute_result"
    }
   ],
   "source": [
    "svm_rbf = svm.SVC(kernel=\"rbf\", C=10, gamma = 0.01, probability=True)\n",
    "svm_rbf.fit(X_train, np.ravel(Y_train))"
   ]
  },
  {
   "cell_type": "code",
   "execution_count": 147,
   "id": "3030e5cf",
   "metadata": {},
   "outputs": [],
   "source": [
    "y_pred_svm_rbf = svm_rbf.predict(X_test)"
   ]
  },
  {
   "cell_type": "code",
   "execution_count": 149,
   "id": "f720bc9e",
   "metadata": {},
   "outputs": [
    {
     "ename": "AxisError",
     "evalue": "axis 1 is out of bounds for array of dimension 1",
     "output_type": "error",
     "traceback": [
      "\u001b[1;31m---------------------------------------------------------------------------\u001b[0m",
      "\u001b[1;31mAxisError\u001b[0m                                 Traceback (most recent call last)",
      "\u001b[1;32m~\\AppData\\Local\\Temp/ipykernel_7500/1875912596.py\u001b[0m in \u001b[0;36m<module>\u001b[1;34m\u001b[0m\n\u001b[0;32m      1\u001b[0m \u001b[0macc_svm_rbf\u001b[0m \u001b[1;33m=\u001b[0m \u001b[0maccuracy_score\u001b[0m\u001b[1;33m(\u001b[0m\u001b[0mY_test\u001b[0m\u001b[1;33m,\u001b[0m \u001b[0my_pred_svm_rbf\u001b[0m\u001b[1;33m)\u001b[0m\u001b[1;33m\u001b[0m\u001b[1;33m\u001b[0m\u001b[0m\n\u001b[1;32m----> 2\u001b[1;33m \u001b[0mroc_auc_svm_rbf\u001b[0m \u001b[1;33m=\u001b[0m \u001b[0mroc_auc_score\u001b[0m\u001b[1;33m(\u001b[0m\u001b[0mY_test\u001b[0m\u001b[1;33m,\u001b[0m \u001b[0my_pred_svm_rbf\u001b[0m\u001b[1;33m,\u001b[0m\u001b[0mmulti_class\u001b[0m\u001b[1;33m=\u001b[0m\u001b[1;34m'ovl'\u001b[0m\u001b[1;33m)\u001b[0m\u001b[1;33m\u001b[0m\u001b[1;33m\u001b[0m\u001b[0m\n\u001b[0m\u001b[0;32m      3\u001b[0m \u001b[0mprint\u001b[0m\u001b[1;33m(\u001b[0m\u001b[1;34mf\"Accuracy (RBF Kernel): {acc_svm_rbf:.4f}\"\u001b[0m\u001b[1;33m)\u001b[0m\u001b[1;33m\u001b[0m\u001b[1;33m\u001b[0m\u001b[0m\n\u001b[0;32m      4\u001b[0m \u001b[0mprint\u001b[0m\u001b[1;33m(\u001b[0m\u001b[1;34mf\"ROC-AUC (RBF Kernel): {roc_auc_svm_rbf:.4f}\"\u001b[0m\u001b[1;33m)\u001b[0m\u001b[1;33m\u001b[0m\u001b[1;33m\u001b[0m\u001b[0m\n",
      "\u001b[1;32m~\\AppData\\Local\\Programs\\Python\\Python39\\lib\\site-packages\\sklearn\\metrics\\_ranking.py\u001b[0m in \u001b[0;36mroc_auc_score\u001b[1;34m(y_true, y_score, average, sample_weight, max_fpr, multi_class, labels)\u001b[0m\n\u001b[0;32m    564\u001b[0m         \u001b[1;32mif\u001b[0m \u001b[0mmulti_class\u001b[0m \u001b[1;33m==\u001b[0m \u001b[1;34m\"raise\"\u001b[0m\u001b[1;33m:\u001b[0m\u001b[1;33m\u001b[0m\u001b[1;33m\u001b[0m\u001b[0m\n\u001b[0;32m    565\u001b[0m             \u001b[1;32mraise\u001b[0m \u001b[0mValueError\u001b[0m\u001b[1;33m(\u001b[0m\u001b[1;34m\"multi_class must be in ('ovo', 'ovr')\"\u001b[0m\u001b[1;33m)\u001b[0m\u001b[1;33m\u001b[0m\u001b[1;33m\u001b[0m\u001b[0m\n\u001b[1;32m--> 566\u001b[1;33m         return _multiclass_roc_auc_score(\n\u001b[0m\u001b[0;32m    567\u001b[0m             \u001b[0my_true\u001b[0m\u001b[1;33m,\u001b[0m \u001b[0my_score\u001b[0m\u001b[1;33m,\u001b[0m \u001b[0mlabels\u001b[0m\u001b[1;33m,\u001b[0m \u001b[0mmulti_class\u001b[0m\u001b[1;33m,\u001b[0m \u001b[0maverage\u001b[0m\u001b[1;33m,\u001b[0m \u001b[0msample_weight\u001b[0m\u001b[1;33m\u001b[0m\u001b[1;33m\u001b[0m\u001b[0m\n\u001b[0;32m    568\u001b[0m         )\n",
      "\u001b[1;32m~\\AppData\\Local\\Programs\\Python\\Python39\\lib\\site-packages\\sklearn\\metrics\\_ranking.py\u001b[0m in \u001b[0;36m_multiclass_roc_auc_score\u001b[1;34m(y_true, y_score, labels, multi_class, average, sample_weight)\u001b[0m\n\u001b[0;32m    636\u001b[0m     \"\"\"\n\u001b[0;32m    637\u001b[0m     \u001b[1;31m# validation of the input y_score\u001b[0m\u001b[1;33m\u001b[0m\u001b[1;33m\u001b[0m\u001b[0m\n\u001b[1;32m--> 638\u001b[1;33m     \u001b[1;32mif\u001b[0m \u001b[1;32mnot\u001b[0m \u001b[0mnp\u001b[0m\u001b[1;33m.\u001b[0m\u001b[0mallclose\u001b[0m\u001b[1;33m(\u001b[0m\u001b[1;36m1\u001b[0m\u001b[1;33m,\u001b[0m \u001b[0my_score\u001b[0m\u001b[1;33m.\u001b[0m\u001b[0msum\u001b[0m\u001b[1;33m(\u001b[0m\u001b[0maxis\u001b[0m\u001b[1;33m=\u001b[0m\u001b[1;36m1\u001b[0m\u001b[1;33m)\u001b[0m\u001b[1;33m)\u001b[0m\u001b[1;33m:\u001b[0m\u001b[1;33m\u001b[0m\u001b[1;33m\u001b[0m\u001b[0m\n\u001b[0m\u001b[0;32m    639\u001b[0m         raise ValueError(\n\u001b[0;32m    640\u001b[0m             \u001b[1;34m\"Target scores need to be probabilities for multiclass \"\u001b[0m\u001b[1;33m\u001b[0m\u001b[1;33m\u001b[0m\u001b[0m\n",
      "\u001b[1;32m~\\AppData\\Local\\Programs\\Python\\Python39\\lib\\site-packages\\numpy\\core\\_methods.py\u001b[0m in \u001b[0;36m_sum\u001b[1;34m(a, axis, dtype, out, keepdims, initial, where)\u001b[0m\n\u001b[0;32m     46\u001b[0m def _sum(a, axis=None, dtype=None, out=None, keepdims=False,\n\u001b[0;32m     47\u001b[0m          initial=_NoValue, where=True):\n\u001b[1;32m---> 48\u001b[1;33m     \u001b[1;32mreturn\u001b[0m \u001b[0mumr_sum\u001b[0m\u001b[1;33m(\u001b[0m\u001b[0ma\u001b[0m\u001b[1;33m,\u001b[0m \u001b[0maxis\u001b[0m\u001b[1;33m,\u001b[0m \u001b[0mdtype\u001b[0m\u001b[1;33m,\u001b[0m \u001b[0mout\u001b[0m\u001b[1;33m,\u001b[0m \u001b[0mkeepdims\u001b[0m\u001b[1;33m,\u001b[0m \u001b[0minitial\u001b[0m\u001b[1;33m,\u001b[0m \u001b[0mwhere\u001b[0m\u001b[1;33m)\u001b[0m\u001b[1;33m\u001b[0m\u001b[1;33m\u001b[0m\u001b[0m\n\u001b[0m\u001b[0;32m     49\u001b[0m \u001b[1;33m\u001b[0m\u001b[0m\n\u001b[0;32m     50\u001b[0m def _prod(a, axis=None, dtype=None, out=None, keepdims=False,\n",
      "\u001b[1;31mAxisError\u001b[0m: axis 1 is out of bounds for array of dimension 1"
     ]
    }
   ],
   "source": [
    "acc_svm_rbf = accuracy_score(Y_test, y_pred_svm_rbf)\n",
    "roc_auc_svm_rbf = roc_auc_score(Y_test, y_pred_svm_rbf,multi_class='ovr')\n",
    "print(f\"Accuracy (RBF Kernel): {acc_svm_rbf:.4f}\")\n",
    "print(f\"ROC-AUC (RBF Kernel): {roc_auc_svm_rbf:.4f}\")"
   ]
  },
  {
   "cell_type": "code",
   "execution_count": null,
   "id": "3e714d95",
   "metadata": {},
   "outputs": [],
   "source": []
  }
 ],
 "metadata": {
  "kernelspec": {
   "display_name": "Python 3 (ipykernel)",
   "language": "python",
   "name": "python3"
  },
  "language_info": {
   "codemirror_mode": {
    "name": "ipython",
    "version": 3
   },
   "file_extension": ".py",
   "mimetype": "text/x-python",
   "name": "python",
   "nbconvert_exporter": "python",
   "pygments_lexer": "ipython3",
   "version": "3.9.16"
  }
 },
 "nbformat": 4,
 "nbformat_minor": 5
}
