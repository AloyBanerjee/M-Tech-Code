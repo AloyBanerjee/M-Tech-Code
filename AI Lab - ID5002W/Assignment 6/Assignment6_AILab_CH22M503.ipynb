{
 "cells": [
  {
   "cell_type": "code",
   "execution_count": 1,
   "id": "ef0b7955",
   "metadata": {},
   "outputs": [],
   "source": [
    "import pandas as pd\n",
    "import numpy as np\n",
    "import os\n",
    "from sklearn.model_selection import train_test_split\n",
    "from sklearn.preprocessing import StandardScaler\n",
    "from sklearn import svm\n",
    "from sklearn.svm import SVC\n",
    "import matplotlib.pyplot as plt\n",
    "from sklearn.metrics import accuracy_score, roc_auc_score\n",
    "from sklearn.model_selection import GridSearchCV"
   ]
  },
  {
   "cell_type": "code",
   "execution_count": 2,
   "id": "0db9d7be",
   "metadata": {},
   "outputs": [],
   "source": [
    "#Change the working directory \n",
    "os.chdir('E:\\\\Document\\\\M-Tech\\\\M-Tech Class\\\\2nd Trimester\\\\Assignment\\\\AI Lab\\\\Assignment 6')\n",
    "#Load the data\n",
    "my_file = pd.read_csv('ch22m50 (3).csv')"
   ]
  },
  {
   "cell_type": "code",
   "execution_count": 3,
   "id": "9d92aede",
   "metadata": {},
   "outputs": [
    {
     "data": {
      "text/html": [
       "<div>\n",
       "<style scoped>\n",
       "    .dataframe tbody tr th:only-of-type {\n",
       "        vertical-align: middle;\n",
       "    }\n",
       "\n",
       "    .dataframe tbody tr th {\n",
       "        vertical-align: top;\n",
       "    }\n",
       "\n",
       "    .dataframe thead th {\n",
       "        text-align: right;\n",
       "    }\n",
       "</style>\n",
       "<table border=\"1\" class=\"dataframe\">\n",
       "  <thead>\n",
       "    <tr style=\"text-align: right;\">\n",
       "      <th></th>\n",
       "      <th>x_0</th>\n",
       "      <th>x_1</th>\n",
       "      <th>x_2</th>\n",
       "      <th>x_3</th>\n",
       "      <th>x_4</th>\n",
       "      <th>x_5</th>\n",
       "      <th>x_6</th>\n",
       "      <th>x_7</th>\n",
       "      <th>x_8</th>\n",
       "      <th>x_9</th>\n",
       "      <th>...</th>\n",
       "      <th>x_20</th>\n",
       "      <th>x_21</th>\n",
       "      <th>x_22</th>\n",
       "      <th>x_23</th>\n",
       "      <th>x_24</th>\n",
       "      <th>x_25</th>\n",
       "      <th>x_26</th>\n",
       "      <th>x_27</th>\n",
       "      <th>x_28</th>\n",
       "      <th>y</th>\n",
       "    </tr>\n",
       "  </thead>\n",
       "  <tbody>\n",
       "    <tr>\n",
       "      <th>count</th>\n",
       "      <td>512.000000</td>\n",
       "      <td>512.000000</td>\n",
       "      <td>512.000000</td>\n",
       "      <td>512.000000</td>\n",
       "      <td>512.000000</td>\n",
       "      <td>512.000000</td>\n",
       "      <td>512.000000</td>\n",
       "      <td>512.000000</td>\n",
       "      <td>512.000000</td>\n",
       "      <td>512.000000</td>\n",
       "      <td>...</td>\n",
       "      <td>512.000000</td>\n",
       "      <td>512.000000</td>\n",
       "      <td>512.000000</td>\n",
       "      <td>512.000000</td>\n",
       "      <td>512.000000</td>\n",
       "      <td>512.000000</td>\n",
       "      <td>512.000000</td>\n",
       "      <td>512.000000</td>\n",
       "      <td>512.000000</td>\n",
       "      <td>512.000000</td>\n",
       "    </tr>\n",
       "    <tr>\n",
       "      <th>mean</th>\n",
       "      <td>2.439131</td>\n",
       "      <td>37.565795</td>\n",
       "      <td>-2.129354</td>\n",
       "      <td>-42.896385</td>\n",
       "      <td>-19.541749</td>\n",
       "      <td>0.774351</td>\n",
       "      <td>-3.318514</td>\n",
       "      <td>1.234039</td>\n",
       "      <td>-37.084747</td>\n",
       "      <td>44.457026</td>\n",
       "      <td>...</td>\n",
       "      <td>3.954715</td>\n",
       "      <td>7.062185</td>\n",
       "      <td>-1.984638</td>\n",
       "      <td>-0.041593</td>\n",
       "      <td>45.802623</td>\n",
       "      <td>-6.156434</td>\n",
       "      <td>20.336928</td>\n",
       "      <td>7.686032</td>\n",
       "      <td>46.116476</td>\n",
       "      <td>1.396484</td>\n",
       "    </tr>\n",
       "    <tr>\n",
       "      <th>std</th>\n",
       "      <td>79.668269</td>\n",
       "      <td>149.000493</td>\n",
       "      <td>70.127878</td>\n",
       "      <td>270.463154</td>\n",
       "      <td>169.129888</td>\n",
       "      <td>5.008753</td>\n",
       "      <td>82.998787</td>\n",
       "      <td>32.479082</td>\n",
       "      <td>165.128140</td>\n",
       "      <td>147.647250</td>\n",
       "      <td>...</td>\n",
       "      <td>136.591423</td>\n",
       "      <td>94.580884</td>\n",
       "      <td>35.141745</td>\n",
       "      <td>8.054942</td>\n",
       "      <td>210.354097</td>\n",
       "      <td>44.965474</td>\n",
       "      <td>185.172480</td>\n",
       "      <td>33.899699</td>\n",
       "      <td>222.968262</td>\n",
       "      <td>0.869705</td>\n",
       "    </tr>\n",
       "    <tr>\n",
       "      <th>min</th>\n",
       "      <td>-218.014426</td>\n",
       "      <td>-420.663489</td>\n",
       "      <td>-200.408297</td>\n",
       "      <td>-805.895235</td>\n",
       "      <td>-487.537653</td>\n",
       "      <td>-13.031117</td>\n",
       "      <td>-211.774697</td>\n",
       "      <td>-104.569640</td>\n",
       "      <td>-567.697872</td>\n",
       "      <td>-370.866192</td>\n",
       "      <td>...</td>\n",
       "      <td>-387.207794</td>\n",
       "      <td>-251.840570</td>\n",
       "      <td>-146.937805</td>\n",
       "      <td>-22.463712</td>\n",
       "      <td>-568.799810</td>\n",
       "      <td>-129.243517</td>\n",
       "      <td>-593.246183</td>\n",
       "      <td>-101.722870</td>\n",
       "      <td>-545.635486</td>\n",
       "      <td>0.000000</td>\n",
       "    </tr>\n",
       "    <tr>\n",
       "      <th>25%</th>\n",
       "      <td>-49.223112</td>\n",
       "      <td>-61.024707</td>\n",
       "      <td>-46.175353</td>\n",
       "      <td>-209.804499</td>\n",
       "      <td>-132.511157</td>\n",
       "      <td>-2.415076</td>\n",
       "      <td>-64.127241</td>\n",
       "      <td>-20.197596</td>\n",
       "      <td>-149.740462</td>\n",
       "      <td>-53.430691</td>\n",
       "      <td>...</td>\n",
       "      <td>-87.250875</td>\n",
       "      <td>-56.243393</td>\n",
       "      <td>-25.552702</td>\n",
       "      <td>-5.949824</td>\n",
       "      <td>-89.267524</td>\n",
       "      <td>-36.253059</td>\n",
       "      <td>-99.238991</td>\n",
       "      <td>-17.600614</td>\n",
       "      <td>-116.271767</td>\n",
       "      <td>1.000000</td>\n",
       "    </tr>\n",
       "    <tr>\n",
       "      <th>50%</th>\n",
       "      <td>12.155885</td>\n",
       "      <td>41.328052</td>\n",
       "      <td>-2.193064</td>\n",
       "      <td>-39.650751</td>\n",
       "      <td>-15.800571</td>\n",
       "      <td>0.672129</td>\n",
       "      <td>-9.072157</td>\n",
       "      <td>0.849871</td>\n",
       "      <td>-35.757947</td>\n",
       "      <td>41.890772</td>\n",
       "      <td>...</td>\n",
       "      <td>10.971585</td>\n",
       "      <td>3.737968</td>\n",
       "      <td>-3.289748</td>\n",
       "      <td>0.288603</td>\n",
       "      <td>55.123325</td>\n",
       "      <td>-7.736827</td>\n",
       "      <td>17.342673</td>\n",
       "      <td>8.372459</td>\n",
       "      <td>30.868008</td>\n",
       "      <td>1.000000</td>\n",
       "    </tr>\n",
       "    <tr>\n",
       "      <th>75%</th>\n",
       "      <td>60.213974</td>\n",
       "      <td>141.277355</td>\n",
       "      <td>46.198129</td>\n",
       "      <td>141.936365</td>\n",
       "      <td>96.539653</td>\n",
       "      <td>4.211238</td>\n",
       "      <td>50.150721</td>\n",
       "      <td>23.711935</td>\n",
       "      <td>75.528969</td>\n",
       "      <td>143.915499</td>\n",
       "      <td>...</td>\n",
       "      <td>87.445776</td>\n",
       "      <td>69.919878</td>\n",
       "      <td>21.889408</td>\n",
       "      <td>5.714857</td>\n",
       "      <td>190.281398</td>\n",
       "      <td>23.727257</td>\n",
       "      <td>144.533145</td>\n",
       "      <td>30.951389</td>\n",
       "      <td>204.465337</td>\n",
       "      <td>2.000000</td>\n",
       "    </tr>\n",
       "    <tr>\n",
       "      <th>max</th>\n",
       "      <td>199.703493</td>\n",
       "      <td>484.171709</td>\n",
       "      <td>211.004193</td>\n",
       "      <td>720.820175</td>\n",
       "      <td>441.163606</td>\n",
       "      <td>16.231479</td>\n",
       "      <td>253.060961</td>\n",
       "      <td>122.069373</td>\n",
       "      <td>478.614180</td>\n",
       "      <td>552.311766</td>\n",
       "      <td>...</td>\n",
       "      <td>461.229792</td>\n",
       "      <td>320.096620</td>\n",
       "      <td>106.122619</td>\n",
       "      <td>22.005079</td>\n",
       "      <td>675.198210</td>\n",
       "      <td>142.665835</td>\n",
       "      <td>613.995137</td>\n",
       "      <td>139.990511</td>\n",
       "      <td>766.813592</td>\n",
       "      <td>3.000000</td>\n",
       "    </tr>\n",
       "  </tbody>\n",
       "</table>\n",
       "<p>8 rows × 30 columns</p>\n",
       "</div>"
      ],
      "text/plain": [
       "              x_0         x_1         x_2         x_3         x_4         x_5  \\\n",
       "count  512.000000  512.000000  512.000000  512.000000  512.000000  512.000000   \n",
       "mean     2.439131   37.565795   -2.129354  -42.896385  -19.541749    0.774351   \n",
       "std     79.668269  149.000493   70.127878  270.463154  169.129888    5.008753   \n",
       "min   -218.014426 -420.663489 -200.408297 -805.895235 -487.537653  -13.031117   \n",
       "25%    -49.223112  -61.024707  -46.175353 -209.804499 -132.511157   -2.415076   \n",
       "50%     12.155885   41.328052   -2.193064  -39.650751  -15.800571    0.672129   \n",
       "75%     60.213974  141.277355   46.198129  141.936365   96.539653    4.211238   \n",
       "max    199.703493  484.171709  211.004193  720.820175  441.163606   16.231479   \n",
       "\n",
       "              x_6         x_7         x_8         x_9  ...        x_20  \\\n",
       "count  512.000000  512.000000  512.000000  512.000000  ...  512.000000   \n",
       "mean    -3.318514    1.234039  -37.084747   44.457026  ...    3.954715   \n",
       "std     82.998787   32.479082  165.128140  147.647250  ...  136.591423   \n",
       "min   -211.774697 -104.569640 -567.697872 -370.866192  ... -387.207794   \n",
       "25%    -64.127241  -20.197596 -149.740462  -53.430691  ...  -87.250875   \n",
       "50%     -9.072157    0.849871  -35.757947   41.890772  ...   10.971585   \n",
       "75%     50.150721   23.711935   75.528969  143.915499  ...   87.445776   \n",
       "max    253.060961  122.069373  478.614180  552.311766  ...  461.229792   \n",
       "\n",
       "             x_21        x_22        x_23        x_24        x_25        x_26  \\\n",
       "count  512.000000  512.000000  512.000000  512.000000  512.000000  512.000000   \n",
       "mean     7.062185   -1.984638   -0.041593   45.802623   -6.156434   20.336928   \n",
       "std     94.580884   35.141745    8.054942  210.354097   44.965474  185.172480   \n",
       "min   -251.840570 -146.937805  -22.463712 -568.799810 -129.243517 -593.246183   \n",
       "25%    -56.243393  -25.552702   -5.949824  -89.267524  -36.253059  -99.238991   \n",
       "50%      3.737968   -3.289748    0.288603   55.123325   -7.736827   17.342673   \n",
       "75%     69.919878   21.889408    5.714857  190.281398   23.727257  144.533145   \n",
       "max    320.096620  106.122619   22.005079  675.198210  142.665835  613.995137   \n",
       "\n",
       "             x_27        x_28           y  \n",
       "count  512.000000  512.000000  512.000000  \n",
       "mean     7.686032   46.116476    1.396484  \n",
       "std     33.899699  222.968262    0.869705  \n",
       "min   -101.722870 -545.635486    0.000000  \n",
       "25%    -17.600614 -116.271767    1.000000  \n",
       "50%      8.372459   30.868008    1.000000  \n",
       "75%     30.951389  204.465337    2.000000  \n",
       "max    139.990511  766.813592    3.000000  \n",
       "\n",
       "[8 rows x 30 columns]"
      ]
     },
     "metadata": {},
     "output_type": "display_data"
    }
   ],
   "source": [
    "#Display the data\n",
    "display(my_file.describe())"
   ]
  },
  {
   "cell_type": "code",
   "execution_count": 4,
   "id": "d972ea45",
   "metadata": {},
   "outputs": [
    {
     "data": {
      "text/plain": [
       "False"
      ]
     },
     "execution_count": 4,
     "metadata": {},
     "output_type": "execute_result"
    }
   ],
   "source": [
    "#Check if any null value present\n",
    "my_file.isnull().isna().values.any()"
   ]
  },
  {
   "cell_type": "code",
   "execution_count": 5,
   "id": "3eec8c20",
   "metadata": {},
   "outputs": [],
   "source": [
    "#Take the input and label data in the x, y variable\n",
    "y = my_file[['y']]\n",
    "x = my_file.drop('y', axis=1) "
   ]
  },
  {
   "cell_type": "code",
   "execution_count": 6,
   "id": "ea9c248c",
   "metadata": {},
   "outputs": [
    {
     "data": {
      "text/plain": [
       "array([0, 1, 2, 3], dtype=int64)"
      ]
     },
     "execution_count": 6,
     "metadata": {},
     "output_type": "execute_result"
    }
   ],
   "source": [
    "# unique vaues present in y\n",
    "np.unique(y)"
   ]
  },
  {
   "cell_type": "code",
   "execution_count": 7,
   "id": "adc923eb",
   "metadata": {},
   "outputs": [],
   "source": [
    "#Standardize the input data\n",
    "stadardize_x=StandardScaler().fit_transform(x)"
   ]
  },
  {
   "cell_type": "code",
   "execution_count": 14,
   "id": "9f58a5b9",
   "metadata": {},
   "outputs": [],
   "source": [
    "#Split the data into train and test\n",
    "X_train, X_test, Y_train, Y_test= train_test_split(stadardize_x, y, test_size=0.2, random_state=42)"
   ]
  },
  {
   "cell_type": "code",
   "execution_count": 15,
   "id": "817bd74a",
   "metadata": {},
   "outputs": [
    {
     "name": "stdout",
     "output_type": "stream",
     "text": [
      "Shape of X_train:  409\n",
      "Shape of X_test:  103\n",
      "Shape of Y_train:  409\n",
      "Shape of Y_test:  103\n"
     ]
    }
   ],
   "source": [
    "print(\"Shape of X_train: \",X_train.shape[0])\n",
    "print(\"Shape of X_test: \",X_test.shape[0])\n",
    "print(\"Shape of Y_train: \",Y_train.size)\n",
    "print(\"Shape of Y_test: \",len(Y_test))"
   ]
  },
  {
   "cell_type": "code",
   "execution_count": 16,
   "id": "322a31f3",
   "metadata": {},
   "outputs": [
    {
     "name": "stdout",
     "output_type": "stream",
     "text": [
      "Fitting 5 folds for each of 25 candidates, totalling 125 fits\n",
      "{'C': 10, 'gamma': 0.01, 'kernel': 'rbf'}\n"
     ]
    }
   ],
   "source": [
    "#Check the best parameter for C and gamma\n",
    "params = {\n",
    "    'C': [0.1, 1, 10, 100, 1000],\n",
    "    'gamma': [1, 0.1, 0.01, 0.001, 0.0001],\n",
    "    'kernel': ['rbf']\n",
    "}\n",
    "\n",
    "clf = GridSearchCV(\n",
    "    estimator=SVC(),\n",
    "    param_grid=params,\n",
    "    cv=5,\n",
    "    n_jobs=5,\n",
    "    verbose=1\n",
    ")\n",
    "\n",
    "clf.fit(X_train, np.ravel(Y_train))\n",
    "print(clf.best_params_)"
   ]
  },
  {
   "cell_type": "code",
   "execution_count": 17,
   "id": "35c73bba",
   "metadata": {},
   "outputs": [
    {
     "data": {
      "text/html": [
       "<style>#sk-container-id-2 {color: black;background-color: white;}#sk-container-id-2 pre{padding: 0;}#sk-container-id-2 div.sk-toggleable {background-color: white;}#sk-container-id-2 label.sk-toggleable__label {cursor: pointer;display: block;width: 100%;margin-bottom: 0;padding: 0.3em;box-sizing: border-box;text-align: center;}#sk-container-id-2 label.sk-toggleable__label-arrow:before {content: \"▸\";float: left;margin-right: 0.25em;color: #696969;}#sk-container-id-2 label.sk-toggleable__label-arrow:hover:before {color: black;}#sk-container-id-2 div.sk-estimator:hover label.sk-toggleable__label-arrow:before {color: black;}#sk-container-id-2 div.sk-toggleable__content {max-height: 0;max-width: 0;overflow: hidden;text-align: left;background-color: #f0f8ff;}#sk-container-id-2 div.sk-toggleable__content pre {margin: 0.2em;color: black;border-radius: 0.25em;background-color: #f0f8ff;}#sk-container-id-2 input.sk-toggleable__control:checked~div.sk-toggleable__content {max-height: 200px;max-width: 100%;overflow: auto;}#sk-container-id-2 input.sk-toggleable__control:checked~label.sk-toggleable__label-arrow:before {content: \"▾\";}#sk-container-id-2 div.sk-estimator input.sk-toggleable__control:checked~label.sk-toggleable__label {background-color: #d4ebff;}#sk-container-id-2 div.sk-label input.sk-toggleable__control:checked~label.sk-toggleable__label {background-color: #d4ebff;}#sk-container-id-2 input.sk-hidden--visually {border: 0;clip: rect(1px 1px 1px 1px);clip: rect(1px, 1px, 1px, 1px);height: 1px;margin: -1px;overflow: hidden;padding: 0;position: absolute;width: 1px;}#sk-container-id-2 div.sk-estimator {font-family: monospace;background-color: #f0f8ff;border: 1px dotted black;border-radius: 0.25em;box-sizing: border-box;margin-bottom: 0.5em;}#sk-container-id-2 div.sk-estimator:hover {background-color: #d4ebff;}#sk-container-id-2 div.sk-parallel-item::after {content: \"\";width: 100%;border-bottom: 1px solid gray;flex-grow: 1;}#sk-container-id-2 div.sk-label:hover label.sk-toggleable__label {background-color: #d4ebff;}#sk-container-id-2 div.sk-serial::before {content: \"\";position: absolute;border-left: 1px solid gray;box-sizing: border-box;top: 0;bottom: 0;left: 50%;z-index: 0;}#sk-container-id-2 div.sk-serial {display: flex;flex-direction: column;align-items: center;background-color: white;padding-right: 0.2em;padding-left: 0.2em;position: relative;}#sk-container-id-2 div.sk-item {position: relative;z-index: 1;}#sk-container-id-2 div.sk-parallel {display: flex;align-items: stretch;justify-content: center;background-color: white;position: relative;}#sk-container-id-2 div.sk-item::before, #sk-container-id-2 div.sk-parallel-item::before {content: \"\";position: absolute;border-left: 1px solid gray;box-sizing: border-box;top: 0;bottom: 0;left: 50%;z-index: -1;}#sk-container-id-2 div.sk-parallel-item {display: flex;flex-direction: column;z-index: 1;position: relative;background-color: white;}#sk-container-id-2 div.sk-parallel-item:first-child::after {align-self: flex-end;width: 50%;}#sk-container-id-2 div.sk-parallel-item:last-child::after {align-self: flex-start;width: 50%;}#sk-container-id-2 div.sk-parallel-item:only-child::after {width: 0;}#sk-container-id-2 div.sk-dashed-wrapped {border: 1px dashed gray;margin: 0 0.4em 0.5em 0.4em;box-sizing: border-box;padding-bottom: 0.4em;background-color: white;}#sk-container-id-2 div.sk-label label {font-family: monospace;font-weight: bold;display: inline-block;line-height: 1.2em;}#sk-container-id-2 div.sk-label-container {text-align: center;}#sk-container-id-2 div.sk-container {/* jupyter's `normalize.less` sets `[hidden] { display: none; }` but bootstrap.min.css set `[hidden] { display: none !important; }` so we also need the `!important` here to be able to override the default hidden behavior on the sphinx rendered scikit-learn.org. See: https://github.com/scikit-learn/scikit-learn/issues/21755 */display: inline-block !important;position: relative;}#sk-container-id-2 div.sk-text-repr-fallback {display: none;}</style><div id=\"sk-container-id-2\" class=\"sk-top-container\"><div class=\"sk-text-repr-fallback\"><pre>SVC(C=10, gamma=0.01, probability=True)</pre><b>In a Jupyter environment, please rerun this cell to show the HTML representation or trust the notebook. <br />On GitHub, the HTML representation is unable to render, please try loading this page with nbviewer.org.</b></div><div class=\"sk-container\" hidden><div class=\"sk-item\"><div class=\"sk-estimator sk-toggleable\"><input class=\"sk-toggleable__control sk-hidden--visually\" id=\"sk-estimator-id-2\" type=\"checkbox\" checked><label for=\"sk-estimator-id-2\" class=\"sk-toggleable__label sk-toggleable__label-arrow\">SVC</label><div class=\"sk-toggleable__content\"><pre>SVC(C=10, gamma=0.01, probability=True)</pre></div></div></div></div></div>"
      ],
      "text/plain": [
       "SVC(C=10, gamma=0.01, probability=True)"
      ]
     },
     "execution_count": 17,
     "metadata": {},
     "output_type": "execute_result"
    }
   ],
   "source": [
    "svm_rbf = svm.SVC(kernel=\"rbf\", C=10, gamma = 0.01, probability=True)\n",
    "svm_rbf.fit(X_train, np.ravel(Y_train))"
   ]
  },
  {
   "cell_type": "code",
   "execution_count": 29,
   "id": "3030e5cf",
   "metadata": {},
   "outputs": [],
   "source": [
    "y_pred_svm_rbf = svm_rbf.predict(X_test)\n",
    "y_pred_proba_svm_rbf  = svm_rbf.predict_proba(X_test)"
   ]
  },
  {
   "cell_type": "code",
   "execution_count": 31,
   "id": "f720bc9e",
   "metadata": {},
   "outputs": [
    {
     "name": "stdout",
     "output_type": "stream",
     "text": [
      "Accuracy (RBF Kernel): 0.5437\n",
      "ROC-AUC (RBF Kernel): 0.7461\n"
     ]
    }
   ],
   "source": [
    "acc_svm_rbf = accuracy_score(Y_test, y_pred_svm_rbf)\n",
    "roc_auc_svm_rbf = roc_auc_score(Y_test, y_pred_proba_svm_rbf,multi_class='ovr')\n",
    "print(f\"Accuracy (RBF Kernel): {acc_svm_rbf:.4f}\")\n",
    "print(f\"ROC-AUC (RBF Kernel): {roc_auc_svm_rbf:.4f}\")"
   ]
  },
  {
   "cell_type": "code",
   "execution_count": null,
   "id": "3e714d95",
   "metadata": {},
   "outputs": [],
   "source": []
  }
 ],
 "metadata": {
  "kernelspec": {
   "display_name": "Python 3 (ipykernel)",
   "language": "python",
   "name": "python3"
  },
  "language_info": {
   "codemirror_mode": {
    "name": "ipython",
    "version": 3
   },
   "file_extension": ".py",
   "mimetype": "text/x-python",
   "name": "python",
   "nbconvert_exporter": "python",
   "pygments_lexer": "ipython3",
   "version": "3.9.16"
  }
 },
 "nbformat": 4,
 "nbformat_minor": 5
}
