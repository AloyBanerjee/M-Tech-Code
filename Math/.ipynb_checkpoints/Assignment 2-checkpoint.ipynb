{
 "cells": [
  {
   "cell_type": "markdown",
   "id": "0b9e7ad9",
   "metadata": {},
   "source": [
    "# Question 4"
   ]
  },
  {
   "cell_type": "code",
   "execution_count": null,
   "id": "5f5cdc25",
   "metadata": {},
   "outputs": [],
   "source": [
    "import numpy as np \n",
    "A_Test = np.matrix([[1,2],[2,3]])\n",
    "eval, evec = (np.linalg.eig(A_Test))\n",
    "print(evec[0])\n",
    "print(evec[1])\n",
    "\n",
    "print(np.dot(evec[0],np.transpose(evec[1])))"
   ]
  },
  {
   "cell_type": "markdown",
   "id": "a206c84f",
   "metadata": {},
   "source": [
    "# Question 1"
   ]
  },
  {
   "cell_type": "code",
   "execution_count": 22,
   "id": "bf9e8133",
   "metadata": {},
   "outputs": [
    {
     "name": "stdout",
     "output_type": "stream",
     "text": [
      "[[-1.   1.5]\n",
      " [ 0.  -2. ]]\n",
      "Matrix : Matrix([[0, 1], [-2, -3]]) \n",
      "Diagonal of a matrix : Matrix([[-2, 0], [0, -1]])\n",
      "-1.0 -2.0\n",
      "[[ 0.70710678 -0.4472136 ]]\n",
      "[[-0.70710678  0.89442719]]\n"
     ]
    }
   ],
   "source": [
    "import numpy as np\n",
    "import pandas as pd\n",
    "from sympy import *\n",
    "\n",
    "A_Test_1 = np.matrix([[-0.5,-1],[1,1]])\n",
    "A_Test_1_inv = np.linalg.inv(A_Test_1)\n",
    "\n",
    "A_Test_2 = np.matrix([[0,1],[-2,-3]])\n",
    "\n",
    "print(np.dot(A_Test_1,np.dot(A_Test_2,A_Test_1_inv)))\n",
    "\n",
    "print(\"Matrix : {} \".format(Matrix(A_Test_2)))\n",
    "P, D = Matrix(A_Test_2).diagonalize()        \n",
    "print(\"Diagonal of a matrix : {}\".format(D))  \n",
    "eval, evec = (np.linalg.eig(A_Test_2))\n",
    "print(eval[0], eval[1])\n",
    "print(evec[0])\n",
    "print(evec[1])\n"
   ]
  },
  {
   "cell_type": "markdown",
   "id": "0550b82d",
   "metadata": {},
   "source": [
    "# Question 6"
   ]
  },
  {
   "cell_type": "code",
   "execution_count": 12,
   "id": "6b49d426",
   "metadata": {},
   "outputs": [
    {
     "name": "stdout",
     "output_type": "stream",
     "text": [
      "[[-0.74535599  0.66666667 -0.19487224]]\n",
      "[[ 0.2981424   0.33333333 -0.78536781]]\n"
     ]
    }
   ],
   "source": [
    "import numpy as np \n",
    "A_Test = np.matrix([[3,2,4],[2,0,2],[4,2,3]])\n",
    "eval, evec = (np.linalg.eig(A_Test))\n",
    "print(evec[0])\n",
    "print(evec[1])"
   ]
  },
  {
   "cell_type": "markdown",
   "id": "a913b9a8",
   "metadata": {},
   "source": [
    "# Question 7"
   ]
  },
  {
   "cell_type": "code",
   "execution_count": 21,
   "id": "a2fc31a4",
   "metadata": {},
   "outputs": [
    {
     "name": "stdout",
     "output_type": "stream",
     "text": [
      "Matrix : Matrix([[1.00000000000000, 1.0*I], [-1.0*I, 1.00000000000000]]) \n",
      "Diagonal of a matrix : Matrix([[0, 0], [0, 2.00000000000000]])\n"
     ]
    }
   ],
   "source": [
    "import numpy as np\n",
    "import pandas as pd\n",
    "from sympy import *\n",
    "\n",
    "A_Test_complex = np.matrix([[1, 1j],[-1j,1]], dtype=complex)\n",
    "\n",
    "print(\"Matrix : {} \".format(Matrix(A_Test_complex)))\n",
    "P, D = Matrix(A_Test_complex).diagonalize()        \n",
    "print(\"Diagonal of a matrix : {}\".format(D))  "
   ]
  },
  {
   "cell_type": "code",
   "execution_count": null,
   "id": "08a7d443",
   "metadata": {},
   "outputs": [],
   "source": []
  },
  {
   "cell_type": "code",
   "execution_count": null,
   "id": "7a6461df",
   "metadata": {},
   "outputs": [],
   "source": []
  },
  {
   "cell_type": "code",
   "execution_count": null,
   "id": "1f1d1938",
   "metadata": {},
   "outputs": [],
   "source": []
  },
  {
   "cell_type": "code",
   "execution_count": null,
   "id": "af918336",
   "metadata": {},
   "outputs": [],
   "source": []
  },
  {
   "cell_type": "code",
   "execution_count": null,
   "id": "7fbb919b",
   "metadata": {},
   "outputs": [],
   "source": []
  }
 ],
 "metadata": {
  "kernelspec": {
   "display_name": "Python 3 (ipykernel)",
   "language": "python",
   "name": "python3"
  },
  "language_info": {
   "codemirror_mode": {
    "name": "ipython",
    "version": 3
   },
   "file_extension": ".py",
   "mimetype": "text/x-python",
   "name": "python",
   "nbconvert_exporter": "python",
   "pygments_lexer": "ipython3",
   "version": "3.9.12"
  }
 },
 "nbformat": 4,
 "nbformat_minor": 5
}
