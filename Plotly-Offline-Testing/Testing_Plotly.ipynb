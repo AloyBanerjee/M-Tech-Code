{
 "cells": [
  {
   "cell_type": "code",
   "execution_count": 6,
   "metadata": {
    "id": "-cXu-hU3l7V1"
   },
   "outputs": [],
   "source": [
    "# Standard libraries for data manipulation\n",
    "import pandas as pd  # Import the Pandas library for data manipulation\n",
    "import numpy as np   # Import the NumPy library for numerical operations\n",
    "\n",
    "# Visualization libraries\n",
    "import matplotlib.pyplot as plt           # Import Matplotlib for creating static plots\n",
    "import matplotlib.image as mpimg          # Import Matplotlib's image module for handling images\n",
    "from matplotlib.widgets import Slider     # Import to allows the creation of interactive slider widgets in plots\n",
    "import seaborn as sns                     # Import Seaborn for creating more visually appealing plots\n",
    "import plotly.express as px               # Import Plotly Express for interactive visualizations\n",
    "import plotly.graph_objects as go         # Import Plotly Graph Objects for more advanced interactive visualizations\n",
    "import plotly.io as pio                   # Import Plotly IO for visualization\n",
    "#from plotly.offline import plot, init_notebook_mode # Import Plotly offline\n",
    "from plotly.subplots import make_subplots #Import Plotly subplot for plotting subplots\n",
    "from IPython.display import Image, display  # Import IPython's display module for showing images in the Jupyter Notebook\n",
    "from IPython.display import HTML as html_print  # Import IPython's HTML module for printing HTML content\n",
    "\n",
    "# Utilities\n",
    "from datetime import datetime       # Import the datetime module for working with date and time\n",
    "from termcolor import colored       # Import the termcolor module for adding colored text to console output\n",
    "from tabulate import tabulate       # Import the tabulate module for tabulating data\n",
    "import os                           # Import the os module for interacting with the operating system\n",
    "import warnings                     # Import the warnings module for handling warnings\n",
    "import random                       # Import the random module for handling randomization and sampling\n",
    "warnings.filterwarnings(\"ignore\", category=UserWarning, module=\"scipy\")  # Suppress specific UserWarnings from SciPy"
   ]
  },
  {
   "cell_type": "code",
   "execution_count": 7,
   "metadata": {
    "id": "fsm1FfwljPzl"
   },
   "outputs": [],
   "source": [
    "# Define the environment\n",
    "local = False\n",
    "# Define the keggel environment\n",
    "keggel = False\n",
    "# Define the date and time format using a string.\n",
    "date_time_format = '%d-%m-%Y %H:%M'\n",
    "# Assign a column name to a variable for later use.\n",
    "date_columnName = 'DATE_TIME'\n",
    "# No of slot of 15 min in a days\n",
    "slot_in_day = 96\n",
    "# List of colors from your provided list\n",
    "all_colors = [\n",
    "    'aliceblue', 'antiquewhite', 'aqua', 'aquamarine', 'azure', 'beige', 'bisque', 'black', 'blanchedalmond', 'blue', 'blueviolet', 'brown', 'burlywood', 'cadetblue',\n",
    "    'chartreuse', 'chocolate', 'coral', 'cornflowerblue', 'cornsilk', 'crimson', 'cyan', 'darkblue', 'darkcyan', 'darkgoldenrod', 'darkgray', 'darkgrey', 'darkgreen',\n",
    "    'darkkhaki', 'darkmagenta', 'darkolivegreen', 'darkorange', 'darkorchid', 'darkred', 'darksalmon', 'darkseagreen', 'darkslateblue', 'darkslategray', 'darkslategrey',\n",
    "    'darkturquoise', 'darkviolet', 'deeppink', 'deepskyblue', 'dimgray', 'dimgrey', 'dodgerblue', 'firebrick', 'floralwhite', 'forestgreen', 'fuchsia', 'gainsboro',\n",
    "    'ghostwhite', 'gold', 'goldenrod', 'gray', 'grey', 'green', 'greenyellow', 'honeydew', 'hotpink', 'indianred', 'indigo', 'ivory', 'khaki', 'lavender', 'lavenderblush', 'lawngreen',\n",
    "    'lemonchiffon', 'lightblue', 'lightcoral', 'lightcyan', 'lightgoldenrodyellow', 'lightgray', 'lightgrey', 'lightgreen', 'lightpink', 'lightsalmon', 'lightseagreen',\n",
    "    'lightskyblue', 'lightslategray', 'lightslategrey', 'lightsteelblue', 'lightyellow', 'lime', 'limegreen', 'linen', 'magenta', 'maroon', 'mediumaquamarine',\n",
    "    'mediumblue', 'mediumorchid', 'mediumpurple', 'mediumseagreen', 'mediumslateblue', 'mediumspringgreen', 'mediumturquoise', 'mediumvioletred', 'midnightblue',\n",
    "    'mintcream', 'mistyrose', 'moccasin', 'navajowhite', 'navy', 'oldlace', 'olive', 'olivedrab', 'orange', 'orangered', 'orchid', 'palegoldenrod', 'palegreen', 'paleturquoise',\n",
    "    'palevioletred', 'papayawhip', 'peachpuff', 'peru', 'pink', 'plum', 'powderblue', 'purple', 'red', 'rosybrown', 'royalblue', 'rebeccapurple', 'saddlebrown', 'salmon',\n",
    "    'sandybrown', 'seagreen', 'seashell', 'sienna', 'silver', 'skyblue', 'slateblue', 'slategray', 'slategrey', 'snow', 'springgreen', 'steelblue', 'tan', 'teal', 'thistle', 'tomato',\n",
    "    'turquoise', 'violet', 'wheat', 'white', 'whitesmoke', 'yellow', 'yellowgreen'\n",
    "]"
   ]
  },
  {
   "cell_type": "code",
   "execution_count": 8,
   "metadata": {
    "colab": {
     "base_uri": "https://localhost:8080/"
    },
    "id": "ZAns1D6Bi_pI",
    "outputId": "c886cfcb-b7b0-4d10-df4c-0022b7614c06"
   },
   "outputs": [
    {
     "name": "stdout",
     "output_type": "stream",
     "text": [
      "Drive already mounted at /content/drive; to attempt to forcibly remount, call drive.mount(\"/content/drive\", force_remount=True).\n"
     ]
    }
   ],
   "source": [
    "if local == False:\n",
    "  if keggel == False:\n",
    "    from google.colab import drive\n",
    "    drive.mount('/content/drive')"
   ]
  },
  {
   "cell_type": "code",
   "execution_count": 10,
   "metadata": {
    "id": "boCuSfpVjM1E"
   },
   "outputs": [],
   "source": [
    "if local == False:\n",
    "  if keggel == False:\n",
    "    os.chdir('/content/drive/MyDrive/Sustainability/Code File/Data/1 - Project Related Actual Data/Part 1/Solar Power Prediction/')\n",
    "  else:\n",
    "    os.chdir('/kaggle/input')\n",
    "else:\n",
    "    os.chdir('E:\\\\Document\\\\M-Tech\\\\M-Tech Class\\\\Final Year Project\\\\Sustainability\\\\1st Deliverables\\\\Data\\\\1 - Project Related Actual Data\\\\Part 1\\\\Solar Power Prediction\\\\')"
   ]
  },
  {
   "cell_type": "code",
   "execution_count": 17,
   "metadata": {
    "id": "DQx1Y00hjTG0"
   },
   "outputs": [],
   "source": [
    "def dailytotalyieldanalysis(data, color):\n",
    "    \"\"\"\n",
    "    Creates and displays a subplot of daily and total yield over time.\n",
    "\n",
    "    This function uses Plotly to generate a subplot with two plots side by side. The first plot\n",
    "    shows the daily yield over time, and the second plot shows the total yield over time, both\n",
    "    as line graphs.\n",
    "\n",
    "    Parameters:\n",
    "    data (DataFrame): A pandas DataFrame containing time-indexed data with 'DAILY_YIELD' and 'TOTAL_YIELD' columns.\n",
    "    color (list): A list of colors to use for the line plots. The first color is for daily yield, and the second is for total yield.\n",
    "\n",
    "    Returns:\n",
    "    None: This function displays the subplot but does not return any value.\n",
    "    \"\"\"\n",
    "    # Create subplots with two plots side by side\n",
    "    fig = make_subplots(rows=1, cols=2, subplot_titles=('Daily Yield Over Time', 'Total Yield Over Time'))\n",
    "\n",
    "    # Add the first plot for DAILY_YIELD\n",
    "    trace1 = go.Scatter(x=data.index, y=data['DAILY_YIELD'], mode='lines', name='Daily Yield', line=dict(color=color[0]))\n",
    "    fig.add_trace(trace1, row=1, col=1)\n",
    "\n",
    "    # Add the second plot for TOTAL_YIELD\n",
    "    trace2 = go.Scatter(x=data.index, y=data['TOTAL_YIELD'], mode='lines', name='Total Yield', line=dict(color=color[1]))\n",
    "    fig.add_trace(trace2, row=1, col=2)\n",
    "\n",
    "    # Update layout for both subplots\n",
    "    fig.update_xaxes(title_text='Date', row=1, col=1, showgrid=True, gridcolor=\"lightgrey\")\n",
    "    fig.update_yaxes(title_text='Daily Yield', row=1, col=1, showgrid=True, gridcolor=\"lightgrey\")\n",
    "\n",
    "    fig.update_xaxes(title_text='Date', row=1, col=2, showgrid=True, gridcolor=\"lightgrey\")\n",
    "    fig.update_yaxes(title_text='Total Yield', row=1, col=2, showgrid=True, gridcolor=\"lightgrey\")\n",
    "\n",
    "    # Update overall layout and display the subplot\n",
    "    fig.update_layout(title=\"Daily and Total Yield Over Time\", title_x=0.5, plot_bgcolor=\"white\", paper_bgcolor=\"white\")\n",
    "    fig.show()\n"
   ]
  },
  {
   "cell_type": "code",
   "execution_count": 12,
   "metadata": {
    "id": "Q_gMfp_NjU7k"
   },
   "outputs": [],
   "source": [
    "pd.set_option('display.max_columns', None)  # Set Pandas option to display all columns when printing DataFrames\n",
    "# This line was commented out because displaying all rows can be overwhelming for large DataFrames.\n",
    "# pd.set_option('display.max_rows', None)     # Set Pandas option to display all rows when printing DataFrames\n",
    "pd.set_option('display.width', None)         # Set Pandas option to adjust the display width to fit data properly\n",
    "pd.set_option('display.float_format', lambda x: '%.3f' % x)  # Set Pandas option to format floating-point numbers to three decimal places when displaying"
   ]
  },
  {
   "cell_type": "code",
   "execution_count": 13,
   "metadata": {
    "id": "oFpX3xPNjWcl"
   },
   "outputs": [],
   "source": [
    "# Load Plant 1 Generation Data into a DataFrame\n",
    "plant_1_generation_data = pd.read_csv(\"Plant_1_Generation_Data.csv\")\n",
    "# Load Plant 1 Weather Sensor Data into a DataFrame\n",
    "plant_1_weather_data = pd.read_csv(\"Plant_1_Weather_Sensor_Data.csv\")\n",
    "# Load Plant 2 Generation Data into a DataFrame\n",
    "plant_2_generation_data = pd.read_csv(\"Plant_2_Generation_Data.csv\")\n",
    "# Load Plant 2 Weather Sensor Data into a DataFrame\n",
    "plant_2_weather_data = pd.read_csv(\"Plant_2_Weather_Sensor_Data.csv\")"
   ]
  },
  {
   "cell_type": "code",
   "execution_count": 14,
   "metadata": {
    "id": "6A4J6ykplF5-"
   },
   "outputs": [],
   "source": [
    "plant_1_gen_intermediate_data = plant_1_generation_data"
   ]
  },
  {
   "cell_type": "code",
   "execution_count": 15,
   "metadata": {
    "colab": {
     "base_uri": "https://localhost:8080/"
    },
    "id": "or9cHasNlHU0",
    "outputId": "e07c8198-2034-48d6-facd-6bb1af18cfa2"
   },
   "outputs": [
    {
     "name": "stderr",
     "output_type": "stream",
     "text": [
      "<ipython-input-15-d3727c577765>:8: FutureWarning: The default value of numeric_only in DataFrameGroupBy.sum is deprecated. In a future version, numeric_only will default to False. Either specify numeric_only or select only columns which should be valid for the function.\n",
      "  plant_1_data_resampled_daily = plant_1_gen_intermediate_data.resample('D').sum()\n"
     ]
    }
   ],
   "source": [
    "# Convert DATE_TIME to datetime format\n",
    "plant_1_gen_intermediate_data['DATE_TIME'] = pd.to_datetime(plant_1_gen_intermediate_data['DATE_TIME'], format='%d-%m-%Y %H:%M')\n",
    "\n",
    "# Set DATE_TIME as the index\n",
    "plant_1_gen_intermediate_data = plant_1_gen_intermediate_data.set_index('DATE_TIME')\n",
    "\n",
    "# Check datatype conversion and resampling data daily for visualization\n",
    "plant_1_data_resampled_daily = plant_1_gen_intermediate_data.resample('D').sum()"
   ]
  },
  {
   "cell_type": "code",
   "execution_count": 16,
   "metadata": {
    "colab": {
     "base_uri": "https://localhost:8080/",
     "height": 542
    },
    "id": "PfdQom-tlIil",
    "outputId": "bae9ea7d-6382-429c-fa6b-3ff8cf625194"
   },
   "outputs": [
    {
     "data": {
      "text/html": [
       "<html>\n",
       "<head><meta charset=\"utf-8\" /></head>\n",
       "<body>\n",
       "    <div>            <script src=\"https://cdnjs.cloudflare.com/ajax/libs/mathjax/2.7.5/MathJax.js?config=TeX-AMS-MML_SVG\"></script><script type=\"text/javascript\">if (window.MathJax && window.MathJax.Hub && window.MathJax.Hub.Config) {window.MathJax.Hub.Config({SVG: {font: \"STIX-Web\"}});}</script>                <script type=\"text/javascript\">window.PlotlyConfig = {MathJaxConfig: 'local'};</script>\n",
       "        <script charset=\"utf-8\" src=\"https://cdn.plot.ly/plotly-2.24.1.min.js\"></script>                <div id=\"f73cd9be-3dfb-4909-a32d-18e4926b88af\" class=\"plotly-graph-div\" style=\"height:525px; width:100%;\"></div>            <script type=\"text/javascript\">                                    window.PLOTLYENV=window.PLOTLYENV || {};                                    if (document.getElementById(\"f73cd9be-3dfb-4909-a32d-18e4926b88af\")) {                    Plotly.newPlot(                        \"f73cd9be-3dfb-4909-a32d-18e4926b88af\",                        [{\"line\":{\"color\":\"blue\"},\"mode\":\"lines\",\"name\":\"Daily Yield\",\"x\":[\"2020-05-15T00:00:00\",\"2020-05-16T00:00:00\",\"2020-05-17T00:00:00\",\"2020-05-18T00:00:00\",\"2020-05-19T00:00:00\",\"2020-05-20T00:00:00\",\"2020-05-21T00:00:00\",\"2020-05-22T00:00:00\",\"2020-05-23T00:00:00\",\"2020-05-24T00:00:00\",\"2020-05-25T00:00:00\",\"2020-05-26T00:00:00\",\"2020-05-27T00:00:00\",\"2020-05-28T00:00:00\",\"2020-05-29T00:00:00\",\"2020-05-30T00:00:00\",\"2020-05-31T00:00:00\",\"2020-06-01T00:00:00\",\"2020-06-02T00:00:00\",\"2020-06-03T00:00:00\",\"2020-06-04T00:00:00\",\"2020-06-05T00:00:00\",\"2020-06-06T00:00:00\",\"2020-06-07T00:00:00\",\"2020-06-08T00:00:00\",\"2020-06-09T00:00:00\",\"2020-06-10T00:00:00\",\"2020-06-11T00:00:00\",\"2020-06-12T00:00:00\",\"2020-06-13T00:00:00\",\"2020-06-14T00:00:00\",\"2020-06-15T00:00:00\",\"2020-06-16T00:00:00\",\"2020-06-17T00:00:00\"],\"y\":[5053590.975004825,6699904.607149578,7804065.285705055,5130289.749994978,5896320.720241115,5612536.058327079,6627302.732134,5555931.154361003,8468993.04166487,8181251.14285372,9053215.005957896,4376113.160716632,5127006.673816909,7578132.380947631,6103425.459524605,7050152.267858636,6214019.875001664,6387987.875012461,6224743.422616758,7677981.077370919,6091402.32739208,6384126.952379273,5076816.839289464,7747108.232145857,8505252.048805702,8260297.071423205,6679793.628574138,5538094.160722722,5848817.142843873,8705923.410706723,7240643.089281171,7137432.839291677,6512584.825396898,6138882.57143137],\"type\":\"scatter\",\"xaxis\":\"x\",\"yaxis\":\"y\"},{\"line\":{\"color\":\"green\"},\"mode\":\"lines\",\"name\":\"Total Yield\",\"x\":[\"2020-05-15T00:00:00\",\"2020-05-16T00:00:00\",\"2020-05-17T00:00:00\",\"2020-05-18T00:00:00\",\"2020-05-19T00:00:00\",\"2020-05-20T00:00:00\",\"2020-05-21T00:00:00\",\"2020-05-22T00:00:00\",\"2020-05-23T00:00:00\",\"2020-05-24T00:00:00\",\"2020-05-25T00:00:00\",\"2020-05-26T00:00:00\",\"2020-05-27T00:00:00\",\"2020-05-28T00:00:00\",\"2020-05-29T00:00:00\",\"2020-05-30T00:00:00\",\"2020-05-31T00:00:00\",\"2020-06-01T00:00:00\",\"2020-06-02T00:00:00\",\"2020-06-03T00:00:00\",\"2020-06-04T00:00:00\",\"2020-06-05T00:00:00\",\"2020-06-06T00:00:00\",\"2020-06-07T00:00:00\",\"2020-06-08T00:00:00\",\"2020-06-09T00:00:00\",\"2020-06-10T00:00:00\",\"2020-06-11T00:00:00\",\"2020-06-12T00:00:00\",\"2020-06-13T00:00:00\",\"2020-06-14T00:00:00\",\"2020-06-15T00:00:00\",\"2020-06-16T00:00:00\",\"2020-06-17T00:00:00\"],\"y\":[13396793557.109,13273365619.887,14507767212.652,14520941632.08,13707398625.521,11517627080.434,9446312276.618,13989682404.258,13536007824.578,14617604912.354,14274488003.537,14370690386.214,14241493359.957,13765662386.061,10361608901.847,14717064640.771,14692824440.482,14744264192.245,14592375567.386,14646349751.442,14359992466.795,14585786500.123,14391175594.635,14836652886.872,14853559498.911,14870870835.858,14886267725.306,14898727915.042,14910909409.459,14926038840.753,14942354629.358,14957130235.852,14970675327.966,14671372833.072],\"type\":\"scatter\",\"xaxis\":\"x2\",\"yaxis\":\"y2\"}],                        {\"template\":{\"data\":{\"histogram2dcontour\":[{\"type\":\"histogram2dcontour\",\"colorbar\":{\"outlinewidth\":0,\"ticks\":\"\"},\"colorscale\":[[0.0,\"#0d0887\"],[0.1111111111111111,\"#46039f\"],[0.2222222222222222,\"#7201a8\"],[0.3333333333333333,\"#9c179e\"],[0.4444444444444444,\"#bd3786\"],[0.5555555555555556,\"#d8576b\"],[0.6666666666666666,\"#ed7953\"],[0.7777777777777778,\"#fb9f3a\"],[0.8888888888888888,\"#fdca26\"],[1.0,\"#f0f921\"]]}],\"choropleth\":[{\"type\":\"choropleth\",\"colorbar\":{\"outlinewidth\":0,\"ticks\":\"\"}}],\"histogram2d\":[{\"type\":\"histogram2d\",\"colorbar\":{\"outlinewidth\":0,\"ticks\":\"\"},\"colorscale\":[[0.0,\"#0d0887\"],[0.1111111111111111,\"#46039f\"],[0.2222222222222222,\"#7201a8\"],[0.3333333333333333,\"#9c179e\"],[0.4444444444444444,\"#bd3786\"],[0.5555555555555556,\"#d8576b\"],[0.6666666666666666,\"#ed7953\"],[0.7777777777777778,\"#fb9f3a\"],[0.8888888888888888,\"#fdca26\"],[1.0,\"#f0f921\"]]}],\"heatmap\":[{\"type\":\"heatmap\",\"colorbar\":{\"outlinewidth\":0,\"ticks\":\"\"},\"colorscale\":[[0.0,\"#0d0887\"],[0.1111111111111111,\"#46039f\"],[0.2222222222222222,\"#7201a8\"],[0.3333333333333333,\"#9c179e\"],[0.4444444444444444,\"#bd3786\"],[0.5555555555555556,\"#d8576b\"],[0.6666666666666666,\"#ed7953\"],[0.7777777777777778,\"#fb9f3a\"],[0.8888888888888888,\"#fdca26\"],[1.0,\"#f0f921\"]]}],\"heatmapgl\":[{\"type\":\"heatmapgl\",\"colorbar\":{\"outlinewidth\":0,\"ticks\":\"\"},\"colorscale\":[[0.0,\"#0d0887\"],[0.1111111111111111,\"#46039f\"],[0.2222222222222222,\"#7201a8\"],[0.3333333333333333,\"#9c179e\"],[0.4444444444444444,\"#bd3786\"],[0.5555555555555556,\"#d8576b\"],[0.6666666666666666,\"#ed7953\"],[0.7777777777777778,\"#fb9f3a\"],[0.8888888888888888,\"#fdca26\"],[1.0,\"#f0f921\"]]}],\"contourcarpet\":[{\"type\":\"contourcarpet\",\"colorbar\":{\"outlinewidth\":0,\"ticks\":\"\"}}],\"contour\":[{\"type\":\"contour\",\"colorbar\":{\"outlinewidth\":0,\"ticks\":\"\"},\"colorscale\":[[0.0,\"#0d0887\"],[0.1111111111111111,\"#46039f\"],[0.2222222222222222,\"#7201a8\"],[0.3333333333333333,\"#9c179e\"],[0.4444444444444444,\"#bd3786\"],[0.5555555555555556,\"#d8576b\"],[0.6666666666666666,\"#ed7953\"],[0.7777777777777778,\"#fb9f3a\"],[0.8888888888888888,\"#fdca26\"],[1.0,\"#f0f921\"]]}],\"surface\":[{\"type\":\"surface\",\"colorbar\":{\"outlinewidth\":0,\"ticks\":\"\"},\"colorscale\":[[0.0,\"#0d0887\"],[0.1111111111111111,\"#46039f\"],[0.2222222222222222,\"#7201a8\"],[0.3333333333333333,\"#9c179e\"],[0.4444444444444444,\"#bd3786\"],[0.5555555555555556,\"#d8576b\"],[0.6666666666666666,\"#ed7953\"],[0.7777777777777778,\"#fb9f3a\"],[0.8888888888888888,\"#fdca26\"],[1.0,\"#f0f921\"]]}],\"mesh3d\":[{\"type\":\"mesh3d\",\"colorbar\":{\"outlinewidth\":0,\"ticks\":\"\"}}],\"scatter\":[{\"fillpattern\":{\"fillmode\":\"overlay\",\"size\":10,\"solidity\":0.2},\"type\":\"scatter\"}],\"parcoords\":[{\"type\":\"parcoords\",\"line\":{\"colorbar\":{\"outlinewidth\":0,\"ticks\":\"\"}}}],\"scatterpolargl\":[{\"type\":\"scatterpolargl\",\"marker\":{\"colorbar\":{\"outlinewidth\":0,\"ticks\":\"\"}}}],\"bar\":[{\"error_x\":{\"color\":\"#2a3f5f\"},\"error_y\":{\"color\":\"#2a3f5f\"},\"marker\":{\"line\":{\"color\":\"#E5ECF6\",\"width\":0.5},\"pattern\":{\"fillmode\":\"overlay\",\"size\":10,\"solidity\":0.2}},\"type\":\"bar\"}],\"scattergeo\":[{\"type\":\"scattergeo\",\"marker\":{\"colorbar\":{\"outlinewidth\":0,\"ticks\":\"\"}}}],\"scatterpolar\":[{\"type\":\"scatterpolar\",\"marker\":{\"colorbar\":{\"outlinewidth\":0,\"ticks\":\"\"}}}],\"histogram\":[{\"marker\":{\"pattern\":{\"fillmode\":\"overlay\",\"size\":10,\"solidity\":0.2}},\"type\":\"histogram\"}],\"scattergl\":[{\"type\":\"scattergl\",\"marker\":{\"colorbar\":{\"outlinewidth\":0,\"ticks\":\"\"}}}],\"scatter3d\":[{\"type\":\"scatter3d\",\"line\":{\"colorbar\":{\"outlinewidth\":0,\"ticks\":\"\"}},\"marker\":{\"colorbar\":{\"outlinewidth\":0,\"ticks\":\"\"}}}],\"scattermapbox\":[{\"type\":\"scattermapbox\",\"marker\":{\"colorbar\":{\"outlinewidth\":0,\"ticks\":\"\"}}}],\"scatterternary\":[{\"type\":\"scatterternary\",\"marker\":{\"colorbar\":{\"outlinewidth\":0,\"ticks\":\"\"}}}],\"scattercarpet\":[{\"type\":\"scattercarpet\",\"marker\":{\"colorbar\":{\"outlinewidth\":0,\"ticks\":\"\"}}}],\"carpet\":[{\"aaxis\":{\"endlinecolor\":\"#2a3f5f\",\"gridcolor\":\"white\",\"linecolor\":\"white\",\"minorgridcolor\":\"white\",\"startlinecolor\":\"#2a3f5f\"},\"baxis\":{\"endlinecolor\":\"#2a3f5f\",\"gridcolor\":\"white\",\"linecolor\":\"white\",\"minorgridcolor\":\"white\",\"startlinecolor\":\"#2a3f5f\"},\"type\":\"carpet\"}],\"table\":[{\"cells\":{\"fill\":{\"color\":\"#EBF0F8\"},\"line\":{\"color\":\"white\"}},\"header\":{\"fill\":{\"color\":\"#C8D4E3\"},\"line\":{\"color\":\"white\"}},\"type\":\"table\"}],\"barpolar\":[{\"marker\":{\"line\":{\"color\":\"#E5ECF6\",\"width\":0.5},\"pattern\":{\"fillmode\":\"overlay\",\"size\":10,\"solidity\":0.2}},\"type\":\"barpolar\"}],\"pie\":[{\"automargin\":true,\"type\":\"pie\"}]},\"layout\":{\"autotypenumbers\":\"strict\",\"colorway\":[\"#636efa\",\"#EF553B\",\"#00cc96\",\"#ab63fa\",\"#FFA15A\",\"#19d3f3\",\"#FF6692\",\"#B6E880\",\"#FF97FF\",\"#FECB52\"],\"font\":{\"color\":\"#2a3f5f\"},\"hovermode\":\"closest\",\"hoverlabel\":{\"align\":\"left\"},\"paper_bgcolor\":\"white\",\"plot_bgcolor\":\"#E5ECF6\",\"polar\":{\"bgcolor\":\"#E5ECF6\",\"angularaxis\":{\"gridcolor\":\"white\",\"linecolor\":\"white\",\"ticks\":\"\"},\"radialaxis\":{\"gridcolor\":\"white\",\"linecolor\":\"white\",\"ticks\":\"\"}},\"ternary\":{\"bgcolor\":\"#E5ECF6\",\"aaxis\":{\"gridcolor\":\"white\",\"linecolor\":\"white\",\"ticks\":\"\"},\"baxis\":{\"gridcolor\":\"white\",\"linecolor\":\"white\",\"ticks\":\"\"},\"caxis\":{\"gridcolor\":\"white\",\"linecolor\":\"white\",\"ticks\":\"\"}},\"coloraxis\":{\"colorbar\":{\"outlinewidth\":0,\"ticks\":\"\"}},\"colorscale\":{\"sequential\":[[0.0,\"#0d0887\"],[0.1111111111111111,\"#46039f\"],[0.2222222222222222,\"#7201a8\"],[0.3333333333333333,\"#9c179e\"],[0.4444444444444444,\"#bd3786\"],[0.5555555555555556,\"#d8576b\"],[0.6666666666666666,\"#ed7953\"],[0.7777777777777778,\"#fb9f3a\"],[0.8888888888888888,\"#fdca26\"],[1.0,\"#f0f921\"]],\"sequentialminus\":[[0.0,\"#0d0887\"],[0.1111111111111111,\"#46039f\"],[0.2222222222222222,\"#7201a8\"],[0.3333333333333333,\"#9c179e\"],[0.4444444444444444,\"#bd3786\"],[0.5555555555555556,\"#d8576b\"],[0.6666666666666666,\"#ed7953\"],[0.7777777777777778,\"#fb9f3a\"],[0.8888888888888888,\"#fdca26\"],[1.0,\"#f0f921\"]],\"diverging\":[[0,\"#8e0152\"],[0.1,\"#c51b7d\"],[0.2,\"#de77ae\"],[0.3,\"#f1b6da\"],[0.4,\"#fde0ef\"],[0.5,\"#f7f7f7\"],[0.6,\"#e6f5d0\"],[0.7,\"#b8e186\"],[0.8,\"#7fbc41\"],[0.9,\"#4d9221\"],[1,\"#276419\"]]},\"xaxis\":{\"gridcolor\":\"white\",\"linecolor\":\"white\",\"ticks\":\"\",\"title\":{\"standoff\":15},\"zerolinecolor\":\"white\",\"automargin\":true,\"zerolinewidth\":2},\"yaxis\":{\"gridcolor\":\"white\",\"linecolor\":\"white\",\"ticks\":\"\",\"title\":{\"standoff\":15},\"zerolinecolor\":\"white\",\"automargin\":true,\"zerolinewidth\":2},\"scene\":{\"xaxis\":{\"backgroundcolor\":\"#E5ECF6\",\"gridcolor\":\"white\",\"linecolor\":\"white\",\"showbackground\":true,\"ticks\":\"\",\"zerolinecolor\":\"white\",\"gridwidth\":2},\"yaxis\":{\"backgroundcolor\":\"#E5ECF6\",\"gridcolor\":\"white\",\"linecolor\":\"white\",\"showbackground\":true,\"ticks\":\"\",\"zerolinecolor\":\"white\",\"gridwidth\":2},\"zaxis\":{\"backgroundcolor\":\"#E5ECF6\",\"gridcolor\":\"white\",\"linecolor\":\"white\",\"showbackground\":true,\"ticks\":\"\",\"zerolinecolor\":\"white\",\"gridwidth\":2}},\"shapedefaults\":{\"line\":{\"color\":\"#2a3f5f\"}},\"annotationdefaults\":{\"arrowcolor\":\"#2a3f5f\",\"arrowhead\":0,\"arrowwidth\":1},\"geo\":{\"bgcolor\":\"white\",\"landcolor\":\"#E5ECF6\",\"subunitcolor\":\"white\",\"showland\":true,\"showlakes\":true,\"lakecolor\":\"white\"},\"title\":{\"x\":0.05},\"mapbox\":{\"style\":\"light\"}}},\"xaxis\":{\"anchor\":\"y\",\"domain\":[0.0,0.45],\"title\":{\"text\":\"Date\"},\"showgrid\":true,\"gridcolor\":\"lightgrey\"},\"yaxis\":{\"anchor\":\"x\",\"domain\":[0.0,1.0],\"title\":{\"text\":\"Daily Yield\"},\"showgrid\":true,\"gridcolor\":\"lightgrey\"},\"xaxis2\":{\"anchor\":\"y2\",\"domain\":[0.55,1.0],\"title\":{\"text\":\"Date\"},\"showgrid\":true,\"gridcolor\":\"lightgrey\"},\"yaxis2\":{\"anchor\":\"x2\",\"domain\":[0.0,1.0],\"title\":{\"text\":\"Total Yield\"},\"showgrid\":true,\"gridcolor\":\"lightgrey\"},\"annotations\":[{\"font\":{\"size\":16},\"showarrow\":false,\"text\":\"Daily Yield Over Time\",\"x\":0.225,\"xanchor\":\"center\",\"xref\":\"paper\",\"y\":1.0,\"yanchor\":\"bottom\",\"yref\":\"paper\"},{\"font\":{\"size\":16},\"showarrow\":false,\"text\":\"Total Yield Over Time\",\"x\":0.775,\"xanchor\":\"center\",\"xref\":\"paper\",\"y\":1.0,\"yanchor\":\"bottom\",\"yref\":\"paper\"}],\"title\":{\"text\":\"Daily and Total Yield Over Time\",\"x\":0.5},\"plot_bgcolor\":\"white\",\"paper_bgcolor\":\"white\"},                        {\"responsive\": true}                    ).then(function(){\n",
       "                            \n",
       "var gd = document.getElementById('f73cd9be-3dfb-4909-a32d-18e4926b88af');\n",
       "var x = new MutationObserver(function (mutations, observer) {{\n",
       "        var display = window.getComputedStyle(gd).display;\n",
       "        if (!display || display === 'none') {{\n",
       "            console.log([gd, 'removed!']);\n",
       "            Plotly.purge(gd);\n",
       "            observer.disconnect();\n",
       "        }}\n",
       "}});\n",
       "\n",
       "// Listen for the removal of the full notebook cells\n",
       "var notebookContainer = gd.closest('#notebook-container');\n",
       "if (notebookContainer) {{\n",
       "    x.observe(notebookContainer, {childList: true});\n",
       "}}\n",
       "\n",
       "// Listen for the clearing of the current output cell\n",
       "var outputEl = gd.closest('.output');\n",
       "if (outputEl) {{\n",
       "    x.observe(outputEl, {childList: true});\n",
       "}}\n",
       "\n",
       "                        })                };                            </script>        </div>\n",
       "</body>\n",
       "</html>"
      ]
     },
     "metadata": {},
     "output_type": "display_data"
    }
   ],
   "source": [
    "dailytotalyieldanalysis(plant_1_data_resampled_daily, ['blue', 'green'])"
   ]
  }
 ],
 "metadata": {
  "colab": {
   "provenance": []
  },
  "kernelspec": {
   "display_name": "Python 3 (ipykernel)",
   "language": "python",
   "name": "python3"
  },
  "language_info": {
   "codemirror_mode": {
    "name": "ipython",
    "version": 3
   },
   "file_extension": ".py",
   "mimetype": "text/x-python",
   "name": "python",
   "nbconvert_exporter": "python",
   "pygments_lexer": "ipython3",
   "version": "3.11.5"
  }
 },
 "nbformat": 4,
 "nbformat_minor": 1
}
